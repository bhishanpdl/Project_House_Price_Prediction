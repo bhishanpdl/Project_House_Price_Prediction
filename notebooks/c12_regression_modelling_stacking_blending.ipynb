{
  "nbformat": 4,
  "nbformat_minor": 0,
  "metadata": {
    "colab": {
      "name": "c12_regression_modelling_stacking_blending.ipynb",
      "provenance": [],
      "collapsed_sections": []
    },
    "kernelspec": {
      "name": "python3",
      "display_name": "Python 3"
    }
  },
  "cells": [
    {
      "cell_type": "markdown",
      "metadata": {
        "id": "GiL_bkC6QrYc",
        "colab_type": "text"
      },
      "source": [
        "<h1>Table of Contents<span class=\"tocSkip\"></span></h1>\n",
        "<div class=\"toc\"><ul class=\"toc-item\"><li><span><a href=\"#Data-Description\" data-toc-modified-id=\"Data-Description-1\"><span class=\"toc-item-num\">1&nbsp;&nbsp;</span>Data Description</a></span></li><li><span><a href=\"#Business-Problem\" data-toc-modified-id=\"Business-Problem-2\"><span class=\"toc-item-num\">2&nbsp;&nbsp;</span>Business Problem</a></span></li><li><span><a href=\"#Introduction-to-Pycaret\" data-toc-modified-id=\"Introduction-to-Pycaret-3\"><span class=\"toc-item-num\">3&nbsp;&nbsp;</span>Introduction to Pycaret</a></span></li><li><span><a href=\"#Imports\" data-toc-modified-id=\"Imports-4\"><span class=\"toc-item-num\">4&nbsp;&nbsp;</span>Imports</a></span></li><li><span><a href=\"#Useful-Functions\" data-toc-modified-id=\"Useful-Functions-5\"><span class=\"toc-item-num\">5&nbsp;&nbsp;</span>Useful Functions</a></span></li><li><span><a href=\"#Load-the-data\" data-toc-modified-id=\"Load-the-data-6\"><span class=\"toc-item-num\">6&nbsp;&nbsp;</span>Load the data</a></span></li><li><span><a href=\"#Train-test-split-with-stratify\" data-toc-modified-id=\"Train-test-split-with-stratify-7\"><span class=\"toc-item-num\">7&nbsp;&nbsp;</span>Train test split with stratify</a></span></li><li><span><a href=\"#Pycaret-Setup\" data-toc-modified-id=\"Pycaret-Setup-8\"><span class=\"toc-item-num\">8&nbsp;&nbsp;</span>Pycaret Setup</a></span></li><li><span><a href=\"#Comparing-All-Models\" data-toc-modified-id=\"Comparing-All-Models-9\"><span class=\"toc-item-num\">9&nbsp;&nbsp;</span>Comparing All Models</a></span></li><li><span><a href=\"#Create-Models\" data-toc-modified-id=\"Create-Models-10\"><span class=\"toc-item-num\">10&nbsp;&nbsp;</span>Create Models</a></span></li><li><span><a href=\"#Hyperparameter-Tuning\" data-toc-modified-id=\"Hyperparameter-Tuning-11\"><span class=\"toc-item-num\">11&nbsp;&nbsp;</span>Hyperparameter Tuning</a></span></li><li><span><a href=\"#Further-tuning\" data-toc-modified-id=\"Further-tuning-12\"><span class=\"toc-item-num\">12&nbsp;&nbsp;</span>Further tuning</a></span></li><li><span><a href=\"#Model-Evaluation\" data-toc-modified-id=\"Model-Evaluation-13\"><span class=\"toc-item-num\">13&nbsp;&nbsp;</span>Model Evaluation</a></span></li><li><span><a href=\"#Ensemble--Modelling\" data-toc-modified-id=\"Ensemble--Modelling-14\"><span class=\"toc-item-num\">14&nbsp;&nbsp;</span>Ensemble  Modelling</a></span><ul class=\"toc-item\"><li><span><a href=\"#Bagging\" data-toc-modified-id=\"Bagging-14.1\"><span class=\"toc-item-num\">14.1&nbsp;&nbsp;</span>Bagging</a></span></li><li><span><a href=\"#Boosting\" data-toc-modified-id=\"Boosting-14.2\"><span class=\"toc-item-num\">14.2&nbsp;&nbsp;</span>Boosting</a></span></li><li><span><a href=\"#Blending\" data-toc-modified-id=\"Blending-14.3\"><span class=\"toc-item-num\">14.3&nbsp;&nbsp;</span>Blending</a></span></li><li><span><a href=\"#Stacking\" data-toc-modified-id=\"Stacking-14.4\"><span class=\"toc-item-num\">14.4&nbsp;&nbsp;</span>Stacking</a></span></li></ul></li><li><span><a href=\"#Model-Calibration\" data-toc-modified-id=\"Model-Calibration-15\"><span class=\"toc-item-num\">15&nbsp;&nbsp;</span>Model Calibration</a></span></li><li><span><a href=\"#Model-Interpretation\" data-toc-modified-id=\"Model-Interpretation-16\"><span class=\"toc-item-num\">16&nbsp;&nbsp;</span>Model Interpretation</a></span></li><li><span><a href=\"#Model-Predictions\" data-toc-modified-id=\"Model-Predictions-17\"><span class=\"toc-item-num\">17&nbsp;&nbsp;</span>Model Predictions</a></span></li><li><span><a href=\"#Model-Persistence\" data-toc-modified-id=\"Model-Persistence-18\"><span class=\"toc-item-num\">18&nbsp;&nbsp;</span>Model Persistence</a></span></li><li><span><a href=\"#Time-taken\" data-toc-modified-id=\"Time-taken-19\"><span class=\"toc-item-num\">19&nbsp;&nbsp;</span>Time taken</a></span></li></ul></div>"
      ]
    },
    {
      "cell_type": "markdown",
      "metadata": {
        "id": "aF0vfOSoRKbV",
        "colab_type": "text"
      },
      "source": [
        "<div class=\"alert alert-block alert-success\">\n",
        "<b>Kernel Author:</b>  <br>\n",
        "<a href=\"https://bhishanpdl.github.io/\" , target=\"_blank\">Bhishan Poudel,  Data Scientist, Ph.D Astrophysics</a> .\n",
        "</div>"
      ]
    },
    {
      "cell_type": "markdown",
      "metadata": {
        "id": "ZrcXZt_lRUTH",
        "colab_type": "text"
      },
      "source": [
        "# Data Description\n",
        "\n",
        "This dataset contains house sale prices for King County, which includes Seattle. It includes homes sold between May 2014 and May 2015.\n",
        "\n",
        "```\n",
        "Dependent features: 1 (price)\n",
        "Features : 19 home features\n",
        "Id: 1 house ID\n",
        "Task: Try to estimate the price based on given features.\n",
        "```"
      ]
    },
    {
      "cell_type": "markdown",
      "metadata": {
        "id": "Z46Gwfc3Rcwk",
        "colab_type": "text"
      },
      "source": [
        "# Business Problem\n",
        "\n",
        "<div class=\"alert alert-block alert-success\">\n",
        "<b>Business Problem:</b>  <br>\n",
        "Task &nbsp;&nbsp; : Predict the house price based on King County Seattle House price data. <br>\n",
        "Metric : RMSE <br>\n",
        "General Model: SVR, Ridge, Random Forest <br>\n",
        "Boosting: Gradient Boosting, xgb, lgb\n",
        "Tools: Stakcing multiple regressors to train and blending them to predit<br>\n",
        "Question: What is the price of new house?\n",
        "</div>"
      ]
    },
    {
      "cell_type": "markdown",
      "metadata": {
        "id": "8vuUeq0iRjZn",
        "colab_type": "text"
      },
      "source": [
        "# Imports"
      ]
    },
    {
      "cell_type": "code",
      "metadata": {
        "id": "Zv0HTLcCRdfB",
        "colab_type": "code",
        "colab": {}
      },
      "source": [
        "import time\n",
        "\n",
        "time_start_notebook = time.time()"
      ],
      "execution_count": 0,
      "outputs": []
    },
    {
      "cell_type": "code",
      "metadata": {
        "id": "6fLyC776RmGc",
        "colab_type": "code",
        "outputId": "d673bba2-1318-44c2-c652-874a6efde04d",
        "colab": {
          "base_uri": "https://localhost:8080/",
          "height": 87
        }
      },
      "source": [
        "import numpy as np\n",
        "import pandas as pd\n",
        "import seaborn as sns\n",
        "import os\n",
        "from pathlib import Path\n",
        "\n",
        "from tqdm import tqdm_notebook as tqdm\n",
        "import matplotlib.pyplot as plt\n",
        "import sklearn\n",
        "\n",
        "%matplotlib inline\n",
        "%config InlineBackend.figure_format = 'retina'\n",
        "plt.style.use('ggplot') \n",
        "\n",
        "# random state\n",
        "SEED=100\n",
        "\n",
        "home = os.path.expanduser('~')\n",
        "\n",
        "[(x.__name__,x.__version__) for x in [np,pd,sns,sklearn]]"
      ],
      "execution_count": 57,
      "outputs": [
        {
          "output_type": "execute_result",
          "data": {
            "text/plain": [
              "[('numpy', '1.18.4'),\n",
              " ('pandas', '1.0.4'),\n",
              " ('seaborn', '0.10.1'),\n",
              " ('sklearn', '0.22.2.post1')]"
            ]
          },
          "metadata": {
            "tags": []
          },
          "execution_count": 57
        }
      ]
    },
    {
      "cell_type": "code",
      "metadata": {
        "id": "scVctCs7HnQo",
        "colab_type": "code",
        "colab": {}
      },
      "source": [
        "# Models\n",
        "from sklearn.linear_model import Ridge, RidgeCV\n",
        "from sklearn.linear_model import ElasticNet, ElasticNetCV\n",
        "from sklearn.svm import SVR\n",
        "from sklearn.kernel_ridge import KernelRidge\n",
        "from sklearn.ensemble import (RandomForestRegressor,\n",
        "                              GradientBoostingRegressor,\n",
        "                              AdaBoostRegressor,\n",
        "                              BaggingRegressor)"
      ],
      "execution_count": 0,
      "outputs": []
    },
    {
      "cell_type": "code",
      "metadata": {
        "id": "GTDXdR3XIQFw",
        "colab_type": "code",
        "colab": {}
      },
      "source": [
        "# Stacking\n",
        "from mlxtend.regressor import StackingCVRegressor"
      ],
      "execution_count": 0,
      "outputs": []
    },
    {
      "cell_type": "code",
      "metadata": {
        "id": "r26IHy-pILI5",
        "colab_type": "code",
        "colab": {}
      },
      "source": [
        "# Boosting\n",
        "import lightgbm as lgb\n",
        "from lightgbm import LGBMRegressor\n",
        "from xgboost import XGBRegressor"
      ],
      "execution_count": 0,
      "outputs": []
    },
    {
      "cell_type": "code",
      "metadata": {
        "id": "hBi8r-m4H6l1",
        "colab_type": "code",
        "colab": {}
      },
      "source": [
        "# Stats\n",
        "from scipy.stats import skew, norm\n",
        "from scipy.special import boxcox1p\n",
        "from scipy.stats import boxcox_normmax"
      ],
      "execution_count": 0,
      "outputs": []
    },
    {
      "cell_type": "code",
      "metadata": {
        "id": "ARp2CBmuIAd_",
        "colab_type": "code",
        "colab": {}
      },
      "source": [
        "# Model Training\n",
        "from sklearn.model_selection import GridSearchCV\n",
        "from sklearn.model_selection import KFold, cross_val_score\n",
        "from sklearn.metrics import mean_squared_error\n",
        "from sklearn.preprocessing import OneHotEncoder\n",
        "from sklearn.preprocessing import LabelEncoder\n",
        "from sklearn.pipeline import make_pipeline\n",
        "from sklearn.preprocessing import scale\n",
        "from sklearn.preprocessing import StandardScaler\n",
        "from sklearn.preprocessing import RobustScaler\n",
        "from sklearn.decomposition import PCA"
      ],
      "execution_count": 0,
      "outputs": []
    },
    {
      "cell_type": "code",
      "metadata": {
        "id": "c4omENGYRoW5",
        "colab_type": "code",
        "outputId": "843311d4-ec38-476c-f7f9-613609c7ec21",
        "colab": {
          "base_uri": "https://localhost:8080/",
          "height": 34
        }
      },
      "source": [
        "import sys\n",
        "ENV_COLAB = 'google.colab' in sys.modules\n",
        "\n",
        "if ENV_COLAB:\n",
        "    print('Environment: Google Colab')"
      ],
      "execution_count": 8,
      "outputs": [
        {
          "output_type": "stream",
          "text": [
            "Environment: Google Colab\n"
          ],
          "name": "stdout"
        }
      ]
    },
    {
      "cell_type": "markdown",
      "metadata": {
        "id": "b2I2KshNSGUi",
        "colab_type": "text"
      },
      "source": [
        "# Load the data"
      ]
    },
    {
      "cell_type": "code",
      "metadata": {
        "id": "KjmdL7RRSD1r",
        "colab_type": "code",
        "outputId": "c96fcaa0-9d05-4185-86d9-b73e41592c24",
        "colab": {
          "base_uri": "https://localhost:8080/",
          "height": 347
        }
      },
      "source": [
        "ifile = 'https://github.com/bhishanpdl/Datasets/blob/master/King_County_Seattle_House_Price_Kaggle/processed/data_cleaned_encoded.csv?raw=true'\n",
        "df = pd.read_csv(ifile)\n",
        "print(df.shape)\n",
        "df.head()"
      ],
      "execution_count": 9,
      "outputs": [
        {
          "output_type": "stream",
          "text": [
            "(21613, 92)\n"
          ],
          "name": "stdout"
        },
        {
          "output_type": "execute_result",
          "data": {
            "text/html": [
              "<div>\n",
              "<style scoped>\n",
              "    .dataframe tbody tr th:only-of-type {\n",
              "        vertical-align: middle;\n",
              "    }\n",
              "\n",
              "    .dataframe tbody tr th {\n",
              "        vertical-align: top;\n",
              "    }\n",
              "\n",
              "    .dataframe thead th {\n",
              "        text-align: right;\n",
              "    }\n",
              "</style>\n",
              "<table border=\"1\" class=\"dataframe\">\n",
              "  <thead>\n",
              "    <tr style=\"text-align: right;\">\n",
              "      <th></th>\n",
              "      <th>id</th>\n",
              "      <th>date</th>\n",
              "      <th>price</th>\n",
              "      <th>bedrooms</th>\n",
              "      <th>bathrooms</th>\n",
              "      <th>sqft_living</th>\n",
              "      <th>sqft_lot</th>\n",
              "      <th>floors</th>\n",
              "      <th>waterfront</th>\n",
              "      <th>view</th>\n",
              "      <th>condition</th>\n",
              "      <th>grade</th>\n",
              "      <th>sqft_above</th>\n",
              "      <th>sqft_basement</th>\n",
              "      <th>yr_built</th>\n",
              "      <th>yr_renovated</th>\n",
              "      <th>zipcode</th>\n",
              "      <th>lat</th>\n",
              "      <th>long</th>\n",
              "      <th>sqft_living15</th>\n",
              "      <th>sqft_lot15</th>\n",
              "      <th>yr_sales</th>\n",
              "      <th>age</th>\n",
              "      <th>yr_renovated2</th>\n",
              "      <th>age_after_renovation</th>\n",
              "      <th>zipcode_top10</th>\n",
              "      <th>zipcode_houses</th>\n",
              "      <th>basement_bool</th>\n",
              "      <th>renovation_bool</th>\n",
              "      <th>age_cat</th>\n",
              "      <th>age_after_renovation_cat</th>\n",
              "      <th>waterfront_0</th>\n",
              "      <th>waterfront_1</th>\n",
              "      <th>view_0</th>\n",
              "      <th>view_1</th>\n",
              "      <th>view_2</th>\n",
              "      <th>view_3</th>\n",
              "      <th>view_4</th>\n",
              "      <th>condition_1</th>\n",
              "      <th>condition_2</th>\n",
              "      <th>...</th>\n",
              "      <th>grade_7</th>\n",
              "      <th>grade_8</th>\n",
              "      <th>grade_9</th>\n",
              "      <th>zipcode_top10_98004</th>\n",
              "      <th>zipcode_top10_98006</th>\n",
              "      <th>zipcode_top10_98033</th>\n",
              "      <th>zipcode_top10_98039</th>\n",
              "      <th>zipcode_top10_98040</th>\n",
              "      <th>zipcode_top10_98102</th>\n",
              "      <th>zipcode_top10_98105</th>\n",
              "      <th>zipcode_top10_98155</th>\n",
              "      <th>zipcode_top10_98177</th>\n",
              "      <th>zipcode_top10_others</th>\n",
              "      <th>age_cat_0</th>\n",
              "      <th>age_cat_1</th>\n",
              "      <th>age_cat_2</th>\n",
              "      <th>age_cat_3</th>\n",
              "      <th>age_cat_4</th>\n",
              "      <th>age_cat_5</th>\n",
              "      <th>age_cat_6</th>\n",
              "      <th>age_cat_7</th>\n",
              "      <th>age_cat_8</th>\n",
              "      <th>age_cat_9</th>\n",
              "      <th>age_after_renovation_cat_0</th>\n",
              "      <th>age_after_renovation_cat_1</th>\n",
              "      <th>age_after_renovation_cat_2</th>\n",
              "      <th>age_after_renovation_cat_3</th>\n",
              "      <th>age_after_renovation_cat_4</th>\n",
              "      <th>age_after_renovation_cat_5</th>\n",
              "      <th>age_after_renovation_cat_6</th>\n",
              "      <th>age_after_renovation_cat_7</th>\n",
              "      <th>age_after_renovation_cat_8</th>\n",
              "      <th>age_after_renovation_cat_9</th>\n",
              "      <th>log1p_price</th>\n",
              "      <th>log1p_sqft_living</th>\n",
              "      <th>log1p_sqft_lot</th>\n",
              "      <th>log1p_sqft_above</th>\n",
              "      <th>log1p_sqft_basement</th>\n",
              "      <th>log1p_sqft_living15</th>\n",
              "      <th>log1p_sqft_lot15</th>\n",
              "    </tr>\n",
              "  </thead>\n",
              "  <tbody>\n",
              "    <tr>\n",
              "      <th>0</th>\n",
              "      <td>7129300520</td>\n",
              "      <td>2014-10-13</td>\n",
              "      <td>221900.0</td>\n",
              "      <td>3</td>\n",
              "      <td>1.00</td>\n",
              "      <td>1180</td>\n",
              "      <td>5650</td>\n",
              "      <td>1.0</td>\n",
              "      <td>0</td>\n",
              "      <td>0</td>\n",
              "      <td>3</td>\n",
              "      <td>7</td>\n",
              "      <td>1180</td>\n",
              "      <td>0</td>\n",
              "      <td>1955</td>\n",
              "      <td>0</td>\n",
              "      <td>98178</td>\n",
              "      <td>47.5112</td>\n",
              "      <td>-122.257</td>\n",
              "      <td>1340</td>\n",
              "      <td>5650</td>\n",
              "      <td>2014</td>\n",
              "      <td>59</td>\n",
              "      <td>1955</td>\n",
              "      <td>59</td>\n",
              "      <td>others</td>\n",
              "      <td>262</td>\n",
              "      <td>0</td>\n",
              "      <td>0</td>\n",
              "      <td>5</td>\n",
              "      <td>5</td>\n",
              "      <td>1</td>\n",
              "      <td>0</td>\n",
              "      <td>1</td>\n",
              "      <td>0</td>\n",
              "      <td>0</td>\n",
              "      <td>0</td>\n",
              "      <td>0</td>\n",
              "      <td>0</td>\n",
              "      <td>0</td>\n",
              "      <td>...</td>\n",
              "      <td>1</td>\n",
              "      <td>0</td>\n",
              "      <td>0</td>\n",
              "      <td>0</td>\n",
              "      <td>0</td>\n",
              "      <td>0</td>\n",
              "      <td>0</td>\n",
              "      <td>0</td>\n",
              "      <td>0</td>\n",
              "      <td>0</td>\n",
              "      <td>0</td>\n",
              "      <td>0</td>\n",
              "      <td>1</td>\n",
              "      <td>0</td>\n",
              "      <td>0</td>\n",
              "      <td>0</td>\n",
              "      <td>0</td>\n",
              "      <td>0</td>\n",
              "      <td>1</td>\n",
              "      <td>0</td>\n",
              "      <td>0</td>\n",
              "      <td>0</td>\n",
              "      <td>0</td>\n",
              "      <td>0</td>\n",
              "      <td>0</td>\n",
              "      <td>0</td>\n",
              "      <td>0</td>\n",
              "      <td>0</td>\n",
              "      <td>1</td>\n",
              "      <td>0</td>\n",
              "      <td>0</td>\n",
              "      <td>0</td>\n",
              "      <td>0</td>\n",
              "      <td>12.309987</td>\n",
              "      <td>7.074117</td>\n",
              "      <td>8.639588</td>\n",
              "      <td>7.074117</td>\n",
              "      <td>0.000000</td>\n",
              "      <td>7.201171</td>\n",
              "      <td>8.639588</td>\n",
              "    </tr>\n",
              "    <tr>\n",
              "      <th>1</th>\n",
              "      <td>6414100192</td>\n",
              "      <td>2014-12-09</td>\n",
              "      <td>538000.0</td>\n",
              "      <td>3</td>\n",
              "      <td>2.25</td>\n",
              "      <td>2570</td>\n",
              "      <td>7242</td>\n",
              "      <td>2.0</td>\n",
              "      <td>0</td>\n",
              "      <td>0</td>\n",
              "      <td>3</td>\n",
              "      <td>7</td>\n",
              "      <td>2170</td>\n",
              "      <td>400</td>\n",
              "      <td>1951</td>\n",
              "      <td>1991</td>\n",
              "      <td>98125</td>\n",
              "      <td>47.7210</td>\n",
              "      <td>-122.319</td>\n",
              "      <td>1690</td>\n",
              "      <td>7639</td>\n",
              "      <td>2014</td>\n",
              "      <td>63</td>\n",
              "      <td>1991</td>\n",
              "      <td>23</td>\n",
              "      <td>others</td>\n",
              "      <td>410</td>\n",
              "      <td>1</td>\n",
              "      <td>1</td>\n",
              "      <td>5</td>\n",
              "      <td>2</td>\n",
              "      <td>1</td>\n",
              "      <td>0</td>\n",
              "      <td>1</td>\n",
              "      <td>0</td>\n",
              "      <td>0</td>\n",
              "      <td>0</td>\n",
              "      <td>0</td>\n",
              "      <td>0</td>\n",
              "      <td>0</td>\n",
              "      <td>...</td>\n",
              "      <td>1</td>\n",
              "      <td>0</td>\n",
              "      <td>0</td>\n",
              "      <td>0</td>\n",
              "      <td>0</td>\n",
              "      <td>0</td>\n",
              "      <td>0</td>\n",
              "      <td>0</td>\n",
              "      <td>0</td>\n",
              "      <td>0</td>\n",
              "      <td>0</td>\n",
              "      <td>0</td>\n",
              "      <td>1</td>\n",
              "      <td>0</td>\n",
              "      <td>0</td>\n",
              "      <td>0</td>\n",
              "      <td>0</td>\n",
              "      <td>0</td>\n",
              "      <td>1</td>\n",
              "      <td>0</td>\n",
              "      <td>0</td>\n",
              "      <td>0</td>\n",
              "      <td>0</td>\n",
              "      <td>0</td>\n",
              "      <td>0</td>\n",
              "      <td>1</td>\n",
              "      <td>0</td>\n",
              "      <td>0</td>\n",
              "      <td>0</td>\n",
              "      <td>0</td>\n",
              "      <td>0</td>\n",
              "      <td>0</td>\n",
              "      <td>0</td>\n",
              "      <td>13.195616</td>\n",
              "      <td>7.852050</td>\n",
              "      <td>8.887791</td>\n",
              "      <td>7.682943</td>\n",
              "      <td>5.993961</td>\n",
              "      <td>7.433075</td>\n",
              "      <td>8.941153</td>\n",
              "    </tr>\n",
              "    <tr>\n",
              "      <th>2</th>\n",
              "      <td>5631500400</td>\n",
              "      <td>2015-02-25</td>\n",
              "      <td>180000.0</td>\n",
              "      <td>2</td>\n",
              "      <td>1.00</td>\n",
              "      <td>770</td>\n",
              "      <td>10000</td>\n",
              "      <td>1.0</td>\n",
              "      <td>0</td>\n",
              "      <td>0</td>\n",
              "      <td>3</td>\n",
              "      <td>6</td>\n",
              "      <td>770</td>\n",
              "      <td>0</td>\n",
              "      <td>1933</td>\n",
              "      <td>0</td>\n",
              "      <td>98028</td>\n",
              "      <td>47.7379</td>\n",
              "      <td>-122.233</td>\n",
              "      <td>2720</td>\n",
              "      <td>8062</td>\n",
              "      <td>2015</td>\n",
              "      <td>82</td>\n",
              "      <td>1933</td>\n",
              "      <td>82</td>\n",
              "      <td>others</td>\n",
              "      <td>283</td>\n",
              "      <td>0</td>\n",
              "      <td>0</td>\n",
              "      <td>7</td>\n",
              "      <td>7</td>\n",
              "      <td>1</td>\n",
              "      <td>0</td>\n",
              "      <td>1</td>\n",
              "      <td>0</td>\n",
              "      <td>0</td>\n",
              "      <td>0</td>\n",
              "      <td>0</td>\n",
              "      <td>0</td>\n",
              "      <td>0</td>\n",
              "      <td>...</td>\n",
              "      <td>0</td>\n",
              "      <td>0</td>\n",
              "      <td>0</td>\n",
              "      <td>0</td>\n",
              "      <td>0</td>\n",
              "      <td>0</td>\n",
              "      <td>0</td>\n",
              "      <td>0</td>\n",
              "      <td>0</td>\n",
              "      <td>0</td>\n",
              "      <td>0</td>\n",
              "      <td>0</td>\n",
              "      <td>1</td>\n",
              "      <td>0</td>\n",
              "      <td>0</td>\n",
              "      <td>0</td>\n",
              "      <td>0</td>\n",
              "      <td>0</td>\n",
              "      <td>0</td>\n",
              "      <td>0</td>\n",
              "      <td>1</td>\n",
              "      <td>0</td>\n",
              "      <td>0</td>\n",
              "      <td>0</td>\n",
              "      <td>0</td>\n",
              "      <td>0</td>\n",
              "      <td>0</td>\n",
              "      <td>0</td>\n",
              "      <td>0</td>\n",
              "      <td>0</td>\n",
              "      <td>1</td>\n",
              "      <td>0</td>\n",
              "      <td>0</td>\n",
              "      <td>12.100718</td>\n",
              "      <td>6.647688</td>\n",
              "      <td>9.210440</td>\n",
              "      <td>6.647688</td>\n",
              "      <td>0.000000</td>\n",
              "      <td>7.908755</td>\n",
              "      <td>8.995041</td>\n",
              "    </tr>\n",
              "    <tr>\n",
              "      <th>3</th>\n",
              "      <td>2487200875</td>\n",
              "      <td>2014-12-09</td>\n",
              "      <td>604000.0</td>\n",
              "      <td>4</td>\n",
              "      <td>3.00</td>\n",
              "      <td>1960</td>\n",
              "      <td>5000</td>\n",
              "      <td>1.0</td>\n",
              "      <td>0</td>\n",
              "      <td>0</td>\n",
              "      <td>5</td>\n",
              "      <td>7</td>\n",
              "      <td>1050</td>\n",
              "      <td>910</td>\n",
              "      <td>1965</td>\n",
              "      <td>0</td>\n",
              "      <td>98136</td>\n",
              "      <td>47.5208</td>\n",
              "      <td>-122.393</td>\n",
              "      <td>1360</td>\n",
              "      <td>5000</td>\n",
              "      <td>2014</td>\n",
              "      <td>49</td>\n",
              "      <td>1965</td>\n",
              "      <td>49</td>\n",
              "      <td>others</td>\n",
              "      <td>263</td>\n",
              "      <td>1</td>\n",
              "      <td>0</td>\n",
              "      <td>4</td>\n",
              "      <td>4</td>\n",
              "      <td>1</td>\n",
              "      <td>0</td>\n",
              "      <td>1</td>\n",
              "      <td>0</td>\n",
              "      <td>0</td>\n",
              "      <td>0</td>\n",
              "      <td>0</td>\n",
              "      <td>0</td>\n",
              "      <td>0</td>\n",
              "      <td>...</td>\n",
              "      <td>1</td>\n",
              "      <td>0</td>\n",
              "      <td>0</td>\n",
              "      <td>0</td>\n",
              "      <td>0</td>\n",
              "      <td>0</td>\n",
              "      <td>0</td>\n",
              "      <td>0</td>\n",
              "      <td>0</td>\n",
              "      <td>0</td>\n",
              "      <td>0</td>\n",
              "      <td>0</td>\n",
              "      <td>1</td>\n",
              "      <td>0</td>\n",
              "      <td>0</td>\n",
              "      <td>0</td>\n",
              "      <td>0</td>\n",
              "      <td>1</td>\n",
              "      <td>0</td>\n",
              "      <td>0</td>\n",
              "      <td>0</td>\n",
              "      <td>0</td>\n",
              "      <td>0</td>\n",
              "      <td>0</td>\n",
              "      <td>0</td>\n",
              "      <td>0</td>\n",
              "      <td>0</td>\n",
              "      <td>1</td>\n",
              "      <td>0</td>\n",
              "      <td>0</td>\n",
              "      <td>0</td>\n",
              "      <td>0</td>\n",
              "      <td>0</td>\n",
              "      <td>13.311331</td>\n",
              "      <td>7.581210</td>\n",
              "      <td>8.517393</td>\n",
              "      <td>6.957497</td>\n",
              "      <td>6.814543</td>\n",
              "      <td>7.215975</td>\n",
              "      <td>8.517393</td>\n",
              "    </tr>\n",
              "    <tr>\n",
              "      <th>4</th>\n",
              "      <td>1954400510</td>\n",
              "      <td>2015-02-18</td>\n",
              "      <td>510000.0</td>\n",
              "      <td>3</td>\n",
              "      <td>2.00</td>\n",
              "      <td>1680</td>\n",
              "      <td>8080</td>\n",
              "      <td>1.0</td>\n",
              "      <td>0</td>\n",
              "      <td>0</td>\n",
              "      <td>3</td>\n",
              "      <td>8</td>\n",
              "      <td>1680</td>\n",
              "      <td>0</td>\n",
              "      <td>1987</td>\n",
              "      <td>0</td>\n",
              "      <td>98074</td>\n",
              "      <td>47.6168</td>\n",
              "      <td>-122.045</td>\n",
              "      <td>1800</td>\n",
              "      <td>7503</td>\n",
              "      <td>2015</td>\n",
              "      <td>28</td>\n",
              "      <td>1987</td>\n",
              "      <td>28</td>\n",
              "      <td>others</td>\n",
              "      <td>441</td>\n",
              "      <td>0</td>\n",
              "      <td>0</td>\n",
              "      <td>2</td>\n",
              "      <td>2</td>\n",
              "      <td>1</td>\n",
              "      <td>0</td>\n",
              "      <td>1</td>\n",
              "      <td>0</td>\n",
              "      <td>0</td>\n",
              "      <td>0</td>\n",
              "      <td>0</td>\n",
              "      <td>0</td>\n",
              "      <td>0</td>\n",
              "      <td>...</td>\n",
              "      <td>0</td>\n",
              "      <td>1</td>\n",
              "      <td>0</td>\n",
              "      <td>0</td>\n",
              "      <td>0</td>\n",
              "      <td>0</td>\n",
              "      <td>0</td>\n",
              "      <td>0</td>\n",
              "      <td>0</td>\n",
              "      <td>0</td>\n",
              "      <td>0</td>\n",
              "      <td>0</td>\n",
              "      <td>1</td>\n",
              "      <td>0</td>\n",
              "      <td>0</td>\n",
              "      <td>1</td>\n",
              "      <td>0</td>\n",
              "      <td>0</td>\n",
              "      <td>0</td>\n",
              "      <td>0</td>\n",
              "      <td>0</td>\n",
              "      <td>0</td>\n",
              "      <td>0</td>\n",
              "      <td>0</td>\n",
              "      <td>0</td>\n",
              "      <td>1</td>\n",
              "      <td>0</td>\n",
              "      <td>0</td>\n",
              "      <td>0</td>\n",
              "      <td>0</td>\n",
              "      <td>0</td>\n",
              "      <td>0</td>\n",
              "      <td>0</td>\n",
              "      <td>13.142168</td>\n",
              "      <td>7.427144</td>\n",
              "      <td>8.997271</td>\n",
              "      <td>7.427144</td>\n",
              "      <td>0.000000</td>\n",
              "      <td>7.496097</td>\n",
              "      <td>8.923191</td>\n",
              "    </tr>\n",
              "  </tbody>\n",
              "</table>\n",
              "<p>5 rows × 92 columns</p>\n",
              "</div>"
            ],
            "text/plain": [
              "           id        date  ...  log1p_sqft_living15  log1p_sqft_lot15\n",
              "0  7129300520  2014-10-13  ...             7.201171          8.639588\n",
              "1  6414100192  2014-12-09  ...             7.433075          8.941153\n",
              "2  5631500400  2015-02-25  ...             7.908755          8.995041\n",
              "3  2487200875  2014-12-09  ...             7.215975          8.517393\n",
              "4  1954400510  2015-02-18  ...             7.496097          8.923191\n",
              "\n",
              "[5 rows x 92 columns]"
            ]
          },
          "metadata": {
            "tags": []
          },
          "execution_count": 9
        }
      ]
    },
    {
      "cell_type": "code",
      "metadata": {
        "id": "Bu57R_NhSJEX",
        "colab_type": "code",
        "colab": {}
      },
      "source": [
        "#ifile = Path.home() / 'Datasets/king_county_house_price/kc_house_price.csv'\n",
        "#df = pd.read_csv(ifile)\n",
        "#print(df.shape)\n",
        "#df.head()"
      ],
      "execution_count": 0,
      "outputs": []
    },
    {
      "cell_type": "markdown",
      "metadata": {
        "id": "1NRtTZS8M3sJ",
        "colab_type": "text"
      },
      "source": [
        "# Data Processing"
      ]
    },
    {
      "cell_type": "code",
      "metadata": {
        "id": "QuAgjB9hM5fv",
        "colab_type": "code",
        "outputId": "69a6c57f-82ff-4592-d755-b3013479d267",
        "colab": {
          "base_uri": "https://localhost:8080/",
          "height": 190
        }
      },
      "source": [
        "df.head(2)"
      ],
      "execution_count": 11,
      "outputs": [
        {
          "output_type": "execute_result",
          "data": {
            "text/html": [
              "<div>\n",
              "<style scoped>\n",
              "    .dataframe tbody tr th:only-of-type {\n",
              "        vertical-align: middle;\n",
              "    }\n",
              "\n",
              "    .dataframe tbody tr th {\n",
              "        vertical-align: top;\n",
              "    }\n",
              "\n",
              "    .dataframe thead th {\n",
              "        text-align: right;\n",
              "    }\n",
              "</style>\n",
              "<table border=\"1\" class=\"dataframe\">\n",
              "  <thead>\n",
              "    <tr style=\"text-align: right;\">\n",
              "      <th></th>\n",
              "      <th>id</th>\n",
              "      <th>date</th>\n",
              "      <th>price</th>\n",
              "      <th>bedrooms</th>\n",
              "      <th>bathrooms</th>\n",
              "      <th>sqft_living</th>\n",
              "      <th>sqft_lot</th>\n",
              "      <th>floors</th>\n",
              "      <th>waterfront</th>\n",
              "      <th>view</th>\n",
              "      <th>condition</th>\n",
              "      <th>grade</th>\n",
              "      <th>sqft_above</th>\n",
              "      <th>sqft_basement</th>\n",
              "      <th>yr_built</th>\n",
              "      <th>yr_renovated</th>\n",
              "      <th>zipcode</th>\n",
              "      <th>lat</th>\n",
              "      <th>long</th>\n",
              "      <th>sqft_living15</th>\n",
              "      <th>sqft_lot15</th>\n",
              "      <th>yr_sales</th>\n",
              "      <th>age</th>\n",
              "      <th>yr_renovated2</th>\n",
              "      <th>age_after_renovation</th>\n",
              "      <th>zipcode_top10</th>\n",
              "      <th>zipcode_houses</th>\n",
              "      <th>basement_bool</th>\n",
              "      <th>renovation_bool</th>\n",
              "      <th>age_cat</th>\n",
              "      <th>age_after_renovation_cat</th>\n",
              "      <th>waterfront_0</th>\n",
              "      <th>waterfront_1</th>\n",
              "      <th>view_0</th>\n",
              "      <th>view_1</th>\n",
              "      <th>view_2</th>\n",
              "      <th>view_3</th>\n",
              "      <th>view_4</th>\n",
              "      <th>condition_1</th>\n",
              "      <th>condition_2</th>\n",
              "      <th>...</th>\n",
              "      <th>grade_7</th>\n",
              "      <th>grade_8</th>\n",
              "      <th>grade_9</th>\n",
              "      <th>zipcode_top10_98004</th>\n",
              "      <th>zipcode_top10_98006</th>\n",
              "      <th>zipcode_top10_98033</th>\n",
              "      <th>zipcode_top10_98039</th>\n",
              "      <th>zipcode_top10_98040</th>\n",
              "      <th>zipcode_top10_98102</th>\n",
              "      <th>zipcode_top10_98105</th>\n",
              "      <th>zipcode_top10_98155</th>\n",
              "      <th>zipcode_top10_98177</th>\n",
              "      <th>zipcode_top10_others</th>\n",
              "      <th>age_cat_0</th>\n",
              "      <th>age_cat_1</th>\n",
              "      <th>age_cat_2</th>\n",
              "      <th>age_cat_3</th>\n",
              "      <th>age_cat_4</th>\n",
              "      <th>age_cat_5</th>\n",
              "      <th>age_cat_6</th>\n",
              "      <th>age_cat_7</th>\n",
              "      <th>age_cat_8</th>\n",
              "      <th>age_cat_9</th>\n",
              "      <th>age_after_renovation_cat_0</th>\n",
              "      <th>age_after_renovation_cat_1</th>\n",
              "      <th>age_after_renovation_cat_2</th>\n",
              "      <th>age_after_renovation_cat_3</th>\n",
              "      <th>age_after_renovation_cat_4</th>\n",
              "      <th>age_after_renovation_cat_5</th>\n",
              "      <th>age_after_renovation_cat_6</th>\n",
              "      <th>age_after_renovation_cat_7</th>\n",
              "      <th>age_after_renovation_cat_8</th>\n",
              "      <th>age_after_renovation_cat_9</th>\n",
              "      <th>log1p_price</th>\n",
              "      <th>log1p_sqft_living</th>\n",
              "      <th>log1p_sqft_lot</th>\n",
              "      <th>log1p_sqft_above</th>\n",
              "      <th>log1p_sqft_basement</th>\n",
              "      <th>log1p_sqft_living15</th>\n",
              "      <th>log1p_sqft_lot15</th>\n",
              "    </tr>\n",
              "  </thead>\n",
              "  <tbody>\n",
              "    <tr>\n",
              "      <th>0</th>\n",
              "      <td>7129300520</td>\n",
              "      <td>2014-10-13</td>\n",
              "      <td>221900.0</td>\n",
              "      <td>3</td>\n",
              "      <td>1.00</td>\n",
              "      <td>1180</td>\n",
              "      <td>5650</td>\n",
              "      <td>1.0</td>\n",
              "      <td>0</td>\n",
              "      <td>0</td>\n",
              "      <td>3</td>\n",
              "      <td>7</td>\n",
              "      <td>1180</td>\n",
              "      <td>0</td>\n",
              "      <td>1955</td>\n",
              "      <td>0</td>\n",
              "      <td>98178</td>\n",
              "      <td>47.5112</td>\n",
              "      <td>-122.257</td>\n",
              "      <td>1340</td>\n",
              "      <td>5650</td>\n",
              "      <td>2014</td>\n",
              "      <td>59</td>\n",
              "      <td>1955</td>\n",
              "      <td>59</td>\n",
              "      <td>others</td>\n",
              "      <td>262</td>\n",
              "      <td>0</td>\n",
              "      <td>0</td>\n",
              "      <td>5</td>\n",
              "      <td>5</td>\n",
              "      <td>1</td>\n",
              "      <td>0</td>\n",
              "      <td>1</td>\n",
              "      <td>0</td>\n",
              "      <td>0</td>\n",
              "      <td>0</td>\n",
              "      <td>0</td>\n",
              "      <td>0</td>\n",
              "      <td>0</td>\n",
              "      <td>...</td>\n",
              "      <td>1</td>\n",
              "      <td>0</td>\n",
              "      <td>0</td>\n",
              "      <td>0</td>\n",
              "      <td>0</td>\n",
              "      <td>0</td>\n",
              "      <td>0</td>\n",
              "      <td>0</td>\n",
              "      <td>0</td>\n",
              "      <td>0</td>\n",
              "      <td>0</td>\n",
              "      <td>0</td>\n",
              "      <td>1</td>\n",
              "      <td>0</td>\n",
              "      <td>0</td>\n",
              "      <td>0</td>\n",
              "      <td>0</td>\n",
              "      <td>0</td>\n",
              "      <td>1</td>\n",
              "      <td>0</td>\n",
              "      <td>0</td>\n",
              "      <td>0</td>\n",
              "      <td>0</td>\n",
              "      <td>0</td>\n",
              "      <td>0</td>\n",
              "      <td>0</td>\n",
              "      <td>0</td>\n",
              "      <td>0</td>\n",
              "      <td>1</td>\n",
              "      <td>0</td>\n",
              "      <td>0</td>\n",
              "      <td>0</td>\n",
              "      <td>0</td>\n",
              "      <td>12.309987</td>\n",
              "      <td>7.074117</td>\n",
              "      <td>8.639588</td>\n",
              "      <td>7.074117</td>\n",
              "      <td>0.000000</td>\n",
              "      <td>7.201171</td>\n",
              "      <td>8.639588</td>\n",
              "    </tr>\n",
              "    <tr>\n",
              "      <th>1</th>\n",
              "      <td>6414100192</td>\n",
              "      <td>2014-12-09</td>\n",
              "      <td>538000.0</td>\n",
              "      <td>3</td>\n",
              "      <td>2.25</td>\n",
              "      <td>2570</td>\n",
              "      <td>7242</td>\n",
              "      <td>2.0</td>\n",
              "      <td>0</td>\n",
              "      <td>0</td>\n",
              "      <td>3</td>\n",
              "      <td>7</td>\n",
              "      <td>2170</td>\n",
              "      <td>400</td>\n",
              "      <td>1951</td>\n",
              "      <td>1991</td>\n",
              "      <td>98125</td>\n",
              "      <td>47.7210</td>\n",
              "      <td>-122.319</td>\n",
              "      <td>1690</td>\n",
              "      <td>7639</td>\n",
              "      <td>2014</td>\n",
              "      <td>63</td>\n",
              "      <td>1991</td>\n",
              "      <td>23</td>\n",
              "      <td>others</td>\n",
              "      <td>410</td>\n",
              "      <td>1</td>\n",
              "      <td>1</td>\n",
              "      <td>5</td>\n",
              "      <td>2</td>\n",
              "      <td>1</td>\n",
              "      <td>0</td>\n",
              "      <td>1</td>\n",
              "      <td>0</td>\n",
              "      <td>0</td>\n",
              "      <td>0</td>\n",
              "      <td>0</td>\n",
              "      <td>0</td>\n",
              "      <td>0</td>\n",
              "      <td>...</td>\n",
              "      <td>1</td>\n",
              "      <td>0</td>\n",
              "      <td>0</td>\n",
              "      <td>0</td>\n",
              "      <td>0</td>\n",
              "      <td>0</td>\n",
              "      <td>0</td>\n",
              "      <td>0</td>\n",
              "      <td>0</td>\n",
              "      <td>0</td>\n",
              "      <td>0</td>\n",
              "      <td>0</td>\n",
              "      <td>1</td>\n",
              "      <td>0</td>\n",
              "      <td>0</td>\n",
              "      <td>0</td>\n",
              "      <td>0</td>\n",
              "      <td>0</td>\n",
              "      <td>1</td>\n",
              "      <td>0</td>\n",
              "      <td>0</td>\n",
              "      <td>0</td>\n",
              "      <td>0</td>\n",
              "      <td>0</td>\n",
              "      <td>0</td>\n",
              "      <td>1</td>\n",
              "      <td>0</td>\n",
              "      <td>0</td>\n",
              "      <td>0</td>\n",
              "      <td>0</td>\n",
              "      <td>0</td>\n",
              "      <td>0</td>\n",
              "      <td>0</td>\n",
              "      <td>13.195616</td>\n",
              "      <td>7.852050</td>\n",
              "      <td>8.887791</td>\n",
              "      <td>7.682943</td>\n",
              "      <td>5.993961</td>\n",
              "      <td>7.433075</td>\n",
              "      <td>8.941153</td>\n",
              "    </tr>\n",
              "  </tbody>\n",
              "</table>\n",
              "<p>2 rows × 92 columns</p>\n",
              "</div>"
            ],
            "text/plain": [
              "           id        date  ...  log1p_sqft_living15  log1p_sqft_lot15\n",
              "0  7129300520  2014-10-13  ...             7.201171          8.639588\n",
              "1  6414100192  2014-12-09  ...             7.433075          8.941153\n",
              "\n",
              "[2 rows x 92 columns]"
            ]
          },
          "metadata": {
            "tags": []
          },
          "execution_count": 11
        }
      ]
    },
    {
      "cell_type": "code",
      "metadata": {
        "id": "o5-YEFdrM5ws",
        "colab_type": "code",
        "outputId": "2e1a7a01-5838-4476-a800-e60249710d18",
        "colab": {
          "base_uri": "https://localhost:8080/",
          "height": 461
        }
      },
      "source": [
        "print(df.columns)"
      ],
      "execution_count": 12,
      "outputs": [
        {
          "output_type": "stream",
          "text": [
            "Index(['id', 'date', 'price', 'bedrooms', 'bathrooms', 'sqft_living',\n",
            "       'sqft_lot', 'floors', 'waterfront', 'view', 'condition', 'grade',\n",
            "       'sqft_above', 'sqft_basement', 'yr_built', 'yr_renovated', 'zipcode',\n",
            "       'lat', 'long', 'sqft_living15', 'sqft_lot15', 'yr_sales', 'age',\n",
            "       'yr_renovated2', 'age_after_renovation', 'zipcode_top10',\n",
            "       'zipcode_houses', 'basement_bool', 'renovation_bool', 'age_cat',\n",
            "       'age_after_renovation_cat', 'waterfront_0', 'waterfront_1', 'view_0',\n",
            "       'view_1', 'view_2', 'view_3', 'view_4', 'condition_1', 'condition_2',\n",
            "       'condition_3', 'condition_4', 'condition_5', 'grade_1', 'grade_10',\n",
            "       'grade_11', 'grade_12', 'grade_13', 'grade_3', 'grade_4', 'grade_5',\n",
            "       'grade_6', 'grade_7', 'grade_8', 'grade_9', 'zipcode_top10_98004',\n",
            "       'zipcode_top10_98006', 'zipcode_top10_98033', 'zipcode_top10_98039',\n",
            "       'zipcode_top10_98040', 'zipcode_top10_98102', 'zipcode_top10_98105',\n",
            "       'zipcode_top10_98155', 'zipcode_top10_98177', 'zipcode_top10_others',\n",
            "       'age_cat_0', 'age_cat_1', 'age_cat_2', 'age_cat_3', 'age_cat_4',\n",
            "       'age_cat_5', 'age_cat_6', 'age_cat_7', 'age_cat_8', 'age_cat_9',\n",
            "       'age_after_renovation_cat_0', 'age_after_renovation_cat_1',\n",
            "       'age_after_renovation_cat_2', 'age_after_renovation_cat_3',\n",
            "       'age_after_renovation_cat_4', 'age_after_renovation_cat_5',\n",
            "       'age_after_renovation_cat_6', 'age_after_renovation_cat_7',\n",
            "       'age_after_renovation_cat_8', 'age_after_renovation_cat_9',\n",
            "       'log1p_price', 'log1p_sqft_living', 'log1p_sqft_lot',\n",
            "       'log1p_sqft_above', 'log1p_sqft_basement', 'log1p_sqft_living15',\n",
            "       'log1p_sqft_lot15'],\n",
            "      dtype='object')\n"
          ],
          "name": "stdout"
        }
      ]
    },
    {
      "cell_type": "code",
      "metadata": {
        "id": "xFth0ppUM56I",
        "colab_type": "code",
        "colab": {}
      },
      "source": [
        "cols_sq = ['bedrooms',\n",
        "            'bathrooms',\n",
        "            'floors',\n",
        "            'waterfront',\n",
        "            'view',\n",
        "            'age',\n",
        "            'age_after_renovation',\n",
        "            'log1p_sqft_living',\n",
        "            'log1p_sqft_lot',\n",
        "            'log1p_sqft_above',\n",
        "            'log1p_sqft_basement',\n",
        "            'log1p_sqft_living15',\n",
        "            'log1p_sqft_lot15']"
      ],
      "execution_count": 0,
      "outputs": []
    },
    {
      "cell_type": "code",
      "metadata": {
        "id": "IHgfLn5_M5_Z",
        "colab_type": "code",
        "colab": {}
      },
      "source": [
        "for col in cols_sq:\n",
        "    df[col + '_sq'] = df[col]**2"
      ],
      "execution_count": 0,
      "outputs": []
    },
    {
      "cell_type": "code",
      "metadata": {
        "id": "j0GEInAPP9J5",
        "colab_type": "code",
        "outputId": "62bef55f-504c-4104-90a2-3f4dbb49fe7f",
        "colab": {
          "base_uri": "https://localhost:8080/",
          "height": 158
        }
      },
      "source": [
        "print(df.columns)"
      ],
      "execution_count": 15,
      "outputs": [
        {
          "output_type": "stream",
          "text": [
            "Index(['id', 'date', 'price', 'bedrooms', 'bathrooms', 'sqft_living',\n",
            "       'sqft_lot', 'floors', 'waterfront', 'view',\n",
            "       ...\n",
            "       'waterfront_sq', 'view_sq', 'age_sq', 'age_after_renovation_sq',\n",
            "       'log1p_sqft_living_sq', 'log1p_sqft_lot_sq', 'log1p_sqft_above_sq',\n",
            "       'log1p_sqft_basement_sq', 'log1p_sqft_living15_sq',\n",
            "       'log1p_sqft_lot15_sq'],\n",
            "      dtype='object', length=105)\n"
          ],
          "name": "stdout"
        }
      ]
    },
    {
      "cell_type": "code",
      "metadata": {
        "id": "gpJoqIbHP9Va",
        "colab_type": "code",
        "outputId": "1713509e-8e52-4220-f0bf-cd5545823100",
        "colab": {
          "base_uri": "https://localhost:8080/",
          "height": 156
        }
      },
      "source": [
        "exclude = ['id', 'date', 'price','zipcode_top10']\n",
        "features = [i for i in df.columns\n",
        "            if i not in exclude]\n",
        "target = 'price'\n",
        "\n",
        "df[features].head(2)"
      ],
      "execution_count": 16,
      "outputs": [
        {
          "output_type": "execute_result",
          "data": {
            "text/html": [
              "<div>\n",
              "<style scoped>\n",
              "    .dataframe tbody tr th:only-of-type {\n",
              "        vertical-align: middle;\n",
              "    }\n",
              "\n",
              "    .dataframe tbody tr th {\n",
              "        vertical-align: top;\n",
              "    }\n",
              "\n",
              "    .dataframe thead th {\n",
              "        text-align: right;\n",
              "    }\n",
              "</style>\n",
              "<table border=\"1\" class=\"dataframe\">\n",
              "  <thead>\n",
              "    <tr style=\"text-align: right;\">\n",
              "      <th></th>\n",
              "      <th>bedrooms</th>\n",
              "      <th>bathrooms</th>\n",
              "      <th>sqft_living</th>\n",
              "      <th>sqft_lot</th>\n",
              "      <th>floors</th>\n",
              "      <th>waterfront</th>\n",
              "      <th>view</th>\n",
              "      <th>condition</th>\n",
              "      <th>grade</th>\n",
              "      <th>sqft_above</th>\n",
              "      <th>sqft_basement</th>\n",
              "      <th>yr_built</th>\n",
              "      <th>yr_renovated</th>\n",
              "      <th>zipcode</th>\n",
              "      <th>lat</th>\n",
              "      <th>long</th>\n",
              "      <th>sqft_living15</th>\n",
              "      <th>sqft_lot15</th>\n",
              "      <th>yr_sales</th>\n",
              "      <th>age</th>\n",
              "      <th>yr_renovated2</th>\n",
              "      <th>age_after_renovation</th>\n",
              "      <th>zipcode_houses</th>\n",
              "      <th>basement_bool</th>\n",
              "      <th>renovation_bool</th>\n",
              "      <th>age_cat</th>\n",
              "      <th>age_after_renovation_cat</th>\n",
              "      <th>waterfront_0</th>\n",
              "      <th>waterfront_1</th>\n",
              "      <th>view_0</th>\n",
              "      <th>view_1</th>\n",
              "      <th>view_2</th>\n",
              "      <th>view_3</th>\n",
              "      <th>view_4</th>\n",
              "      <th>condition_1</th>\n",
              "      <th>condition_2</th>\n",
              "      <th>condition_3</th>\n",
              "      <th>condition_4</th>\n",
              "      <th>condition_5</th>\n",
              "      <th>grade_1</th>\n",
              "      <th>...</th>\n",
              "      <th>age_cat_0</th>\n",
              "      <th>age_cat_1</th>\n",
              "      <th>age_cat_2</th>\n",
              "      <th>age_cat_3</th>\n",
              "      <th>age_cat_4</th>\n",
              "      <th>age_cat_5</th>\n",
              "      <th>age_cat_6</th>\n",
              "      <th>age_cat_7</th>\n",
              "      <th>age_cat_8</th>\n",
              "      <th>age_cat_9</th>\n",
              "      <th>age_after_renovation_cat_0</th>\n",
              "      <th>age_after_renovation_cat_1</th>\n",
              "      <th>age_after_renovation_cat_2</th>\n",
              "      <th>age_after_renovation_cat_3</th>\n",
              "      <th>age_after_renovation_cat_4</th>\n",
              "      <th>age_after_renovation_cat_5</th>\n",
              "      <th>age_after_renovation_cat_6</th>\n",
              "      <th>age_after_renovation_cat_7</th>\n",
              "      <th>age_after_renovation_cat_8</th>\n",
              "      <th>age_after_renovation_cat_9</th>\n",
              "      <th>log1p_price</th>\n",
              "      <th>log1p_sqft_living</th>\n",
              "      <th>log1p_sqft_lot</th>\n",
              "      <th>log1p_sqft_above</th>\n",
              "      <th>log1p_sqft_basement</th>\n",
              "      <th>log1p_sqft_living15</th>\n",
              "      <th>log1p_sqft_lot15</th>\n",
              "      <th>bedrooms_sq</th>\n",
              "      <th>bathrooms_sq</th>\n",
              "      <th>floors_sq</th>\n",
              "      <th>waterfront_sq</th>\n",
              "      <th>view_sq</th>\n",
              "      <th>age_sq</th>\n",
              "      <th>age_after_renovation_sq</th>\n",
              "      <th>log1p_sqft_living_sq</th>\n",
              "      <th>log1p_sqft_lot_sq</th>\n",
              "      <th>log1p_sqft_above_sq</th>\n",
              "      <th>log1p_sqft_basement_sq</th>\n",
              "      <th>log1p_sqft_living15_sq</th>\n",
              "      <th>log1p_sqft_lot15_sq</th>\n",
              "    </tr>\n",
              "  </thead>\n",
              "  <tbody>\n",
              "    <tr>\n",
              "      <th>0</th>\n",
              "      <td>3</td>\n",
              "      <td>1.00</td>\n",
              "      <td>1180</td>\n",
              "      <td>5650</td>\n",
              "      <td>1.0</td>\n",
              "      <td>0</td>\n",
              "      <td>0</td>\n",
              "      <td>3</td>\n",
              "      <td>7</td>\n",
              "      <td>1180</td>\n",
              "      <td>0</td>\n",
              "      <td>1955</td>\n",
              "      <td>0</td>\n",
              "      <td>98178</td>\n",
              "      <td>47.5112</td>\n",
              "      <td>-122.257</td>\n",
              "      <td>1340</td>\n",
              "      <td>5650</td>\n",
              "      <td>2014</td>\n",
              "      <td>59</td>\n",
              "      <td>1955</td>\n",
              "      <td>59</td>\n",
              "      <td>262</td>\n",
              "      <td>0</td>\n",
              "      <td>0</td>\n",
              "      <td>5</td>\n",
              "      <td>5</td>\n",
              "      <td>1</td>\n",
              "      <td>0</td>\n",
              "      <td>1</td>\n",
              "      <td>0</td>\n",
              "      <td>0</td>\n",
              "      <td>0</td>\n",
              "      <td>0</td>\n",
              "      <td>0</td>\n",
              "      <td>0</td>\n",
              "      <td>1</td>\n",
              "      <td>0</td>\n",
              "      <td>0</td>\n",
              "      <td>0</td>\n",
              "      <td>...</td>\n",
              "      <td>0</td>\n",
              "      <td>0</td>\n",
              "      <td>0</td>\n",
              "      <td>0</td>\n",
              "      <td>0</td>\n",
              "      <td>1</td>\n",
              "      <td>0</td>\n",
              "      <td>0</td>\n",
              "      <td>0</td>\n",
              "      <td>0</td>\n",
              "      <td>0</td>\n",
              "      <td>0</td>\n",
              "      <td>0</td>\n",
              "      <td>0</td>\n",
              "      <td>0</td>\n",
              "      <td>1</td>\n",
              "      <td>0</td>\n",
              "      <td>0</td>\n",
              "      <td>0</td>\n",
              "      <td>0</td>\n",
              "      <td>12.309987</td>\n",
              "      <td>7.074117</td>\n",
              "      <td>8.639588</td>\n",
              "      <td>7.074117</td>\n",
              "      <td>0.000000</td>\n",
              "      <td>7.201171</td>\n",
              "      <td>8.639588</td>\n",
              "      <td>9</td>\n",
              "      <td>1.0000</td>\n",
              "      <td>1.0</td>\n",
              "      <td>0</td>\n",
              "      <td>0</td>\n",
              "      <td>3481</td>\n",
              "      <td>3481</td>\n",
              "      <td>50.043129</td>\n",
              "      <td>74.642477</td>\n",
              "      <td>50.043129</td>\n",
              "      <td>0.000000</td>\n",
              "      <td>51.856862</td>\n",
              "      <td>74.642477</td>\n",
              "    </tr>\n",
              "    <tr>\n",
              "      <th>1</th>\n",
              "      <td>3</td>\n",
              "      <td>2.25</td>\n",
              "      <td>2570</td>\n",
              "      <td>7242</td>\n",
              "      <td>2.0</td>\n",
              "      <td>0</td>\n",
              "      <td>0</td>\n",
              "      <td>3</td>\n",
              "      <td>7</td>\n",
              "      <td>2170</td>\n",
              "      <td>400</td>\n",
              "      <td>1951</td>\n",
              "      <td>1991</td>\n",
              "      <td>98125</td>\n",
              "      <td>47.7210</td>\n",
              "      <td>-122.319</td>\n",
              "      <td>1690</td>\n",
              "      <td>7639</td>\n",
              "      <td>2014</td>\n",
              "      <td>63</td>\n",
              "      <td>1991</td>\n",
              "      <td>23</td>\n",
              "      <td>410</td>\n",
              "      <td>1</td>\n",
              "      <td>1</td>\n",
              "      <td>5</td>\n",
              "      <td>2</td>\n",
              "      <td>1</td>\n",
              "      <td>0</td>\n",
              "      <td>1</td>\n",
              "      <td>0</td>\n",
              "      <td>0</td>\n",
              "      <td>0</td>\n",
              "      <td>0</td>\n",
              "      <td>0</td>\n",
              "      <td>0</td>\n",
              "      <td>1</td>\n",
              "      <td>0</td>\n",
              "      <td>0</td>\n",
              "      <td>0</td>\n",
              "      <td>...</td>\n",
              "      <td>0</td>\n",
              "      <td>0</td>\n",
              "      <td>0</td>\n",
              "      <td>0</td>\n",
              "      <td>0</td>\n",
              "      <td>1</td>\n",
              "      <td>0</td>\n",
              "      <td>0</td>\n",
              "      <td>0</td>\n",
              "      <td>0</td>\n",
              "      <td>0</td>\n",
              "      <td>0</td>\n",
              "      <td>1</td>\n",
              "      <td>0</td>\n",
              "      <td>0</td>\n",
              "      <td>0</td>\n",
              "      <td>0</td>\n",
              "      <td>0</td>\n",
              "      <td>0</td>\n",
              "      <td>0</td>\n",
              "      <td>13.195616</td>\n",
              "      <td>7.852050</td>\n",
              "      <td>8.887791</td>\n",
              "      <td>7.682943</td>\n",
              "      <td>5.993961</td>\n",
              "      <td>7.433075</td>\n",
              "      <td>8.941153</td>\n",
              "      <td>9</td>\n",
              "      <td>5.0625</td>\n",
              "      <td>4.0</td>\n",
              "      <td>0</td>\n",
              "      <td>0</td>\n",
              "      <td>3969</td>\n",
              "      <td>529</td>\n",
              "      <td>61.654692</td>\n",
              "      <td>78.992825</td>\n",
              "      <td>59.027616</td>\n",
              "      <td>35.927574</td>\n",
              "      <td>55.250609</td>\n",
              "      <td>79.944215</td>\n",
              "    </tr>\n",
              "  </tbody>\n",
              "</table>\n",
              "<p>2 rows × 101 columns</p>\n",
              "</div>"
            ],
            "text/plain": [
              "   bedrooms  bathrooms  ...  log1p_sqft_living15_sq  log1p_sqft_lot15_sq\n",
              "0         3       1.00  ...               51.856862            74.642477\n",
              "1         3       2.25  ...               55.250609            79.944215\n",
              "\n",
              "[2 rows x 101 columns]"
            ]
          },
          "metadata": {
            "tags": []
          },
          "execution_count": 16
        }
      ]
    },
    {
      "cell_type": "code",
      "metadata": {
        "id": "lG38rIHXR0mV",
        "colab_type": "code",
        "outputId": "ee572f0e-8180-4b09-ab29-e7bdb2f50a45",
        "colab": {
          "base_uri": "https://localhost:8080/",
          "height": 34
        }
      },
      "source": [
        "# make sure all features are numeric\n",
        "df[features].select_dtypes('object').shape"
      ],
      "execution_count": 17,
      "outputs": [
        {
          "output_type": "execute_result",
          "data": {
            "text/plain": [
              "(21613, 0)"
            ]
          },
          "metadata": {
            "tags": []
          },
          "execution_count": 17
        }
      ]
    },
    {
      "cell_type": "code",
      "metadata": {
        "id": "3cbmkz6XWEbb",
        "colab_type": "code",
        "outputId": "f301b807-fcfb-487a-8f4e-7fd5e3fb62c5",
        "colab": {
          "base_uri": "https://localhost:8080/",
          "height": 34
        }
      },
      "source": [
        "# make sure there are no Nans\n",
        "df[features].isna().sum().sum()"
      ],
      "execution_count": 18,
      "outputs": [
        {
          "output_type": "execute_result",
          "data": {
            "text/plain": [
              "0"
            ]
          },
          "metadata": {
            "tags": []
          },
          "execution_count": 18
        }
      ]
    },
    {
      "cell_type": "markdown",
      "metadata": {
        "id": "g9XYITLUSWpA",
        "colab_type": "text"
      },
      "source": [
        "# Train test split"
      ]
    },
    {
      "cell_type": "code",
      "metadata": {
        "id": "odBF6q99STp2",
        "colab_type": "code",
        "outputId": "1e60ab2e-2ce2-4816-9589-81add41541ce",
        "colab": {
          "base_uri": "https://localhost:8080/",
          "height": 264
        }
      },
      "source": [
        "from sklearn.model_selection import train_test_split\n",
        "\n",
        "df_Xtrain, df_Xtest, ser_ytrain, ser_ytest = train_test_split(\n",
        "    df[features], df[target],\n",
        "    test_size=0.2, random_state=SEED, \n",
        "    )\n",
        "\n",
        "ytrain = np.array(ser_ytrain).ravel()\n",
        "ytest = np.array(ser_ytest).ravel()\n",
        "print(df_Xtrain.shape,ser_ytrain.shape)\n",
        "df_Xtrain.head()"
      ],
      "execution_count": 56,
      "outputs": [
        {
          "output_type": "stream",
          "text": [
            "(17290, 101) (17290,)\n"
          ],
          "name": "stdout"
        },
        {
          "output_type": "execute_result",
          "data": {
            "text/html": [
              "<div>\n",
              "<style scoped>\n",
              "    .dataframe tbody tr th:only-of-type {\n",
              "        vertical-align: middle;\n",
              "    }\n",
              "\n",
              "    .dataframe tbody tr th {\n",
              "        vertical-align: top;\n",
              "    }\n",
              "\n",
              "    .dataframe thead th {\n",
              "        text-align: right;\n",
              "    }\n",
              "</style>\n",
              "<table border=\"1\" class=\"dataframe\">\n",
              "  <thead>\n",
              "    <tr style=\"text-align: right;\">\n",
              "      <th></th>\n",
              "      <th>bedrooms</th>\n",
              "      <th>bathrooms</th>\n",
              "      <th>sqft_living</th>\n",
              "      <th>sqft_lot</th>\n",
              "      <th>floors</th>\n",
              "      <th>waterfront</th>\n",
              "      <th>view</th>\n",
              "      <th>condition</th>\n",
              "      <th>grade</th>\n",
              "      <th>sqft_above</th>\n",
              "      <th>sqft_basement</th>\n",
              "      <th>yr_built</th>\n",
              "      <th>yr_renovated</th>\n",
              "      <th>zipcode</th>\n",
              "      <th>lat</th>\n",
              "      <th>long</th>\n",
              "      <th>sqft_living15</th>\n",
              "      <th>sqft_lot15</th>\n",
              "      <th>yr_sales</th>\n",
              "      <th>age</th>\n",
              "      <th>yr_renovated2</th>\n",
              "      <th>age_after_renovation</th>\n",
              "      <th>zipcode_houses</th>\n",
              "      <th>basement_bool</th>\n",
              "      <th>renovation_bool</th>\n",
              "      <th>age_cat</th>\n",
              "      <th>age_after_renovation_cat</th>\n",
              "      <th>waterfront_0</th>\n",
              "      <th>waterfront_1</th>\n",
              "      <th>view_0</th>\n",
              "      <th>view_1</th>\n",
              "      <th>view_2</th>\n",
              "      <th>view_3</th>\n",
              "      <th>view_4</th>\n",
              "      <th>condition_1</th>\n",
              "      <th>condition_2</th>\n",
              "      <th>condition_3</th>\n",
              "      <th>condition_4</th>\n",
              "      <th>condition_5</th>\n",
              "      <th>grade_1</th>\n",
              "      <th>...</th>\n",
              "      <th>age_cat_0</th>\n",
              "      <th>age_cat_1</th>\n",
              "      <th>age_cat_2</th>\n",
              "      <th>age_cat_3</th>\n",
              "      <th>age_cat_4</th>\n",
              "      <th>age_cat_5</th>\n",
              "      <th>age_cat_6</th>\n",
              "      <th>age_cat_7</th>\n",
              "      <th>age_cat_8</th>\n",
              "      <th>age_cat_9</th>\n",
              "      <th>age_after_renovation_cat_0</th>\n",
              "      <th>age_after_renovation_cat_1</th>\n",
              "      <th>age_after_renovation_cat_2</th>\n",
              "      <th>age_after_renovation_cat_3</th>\n",
              "      <th>age_after_renovation_cat_4</th>\n",
              "      <th>age_after_renovation_cat_5</th>\n",
              "      <th>age_after_renovation_cat_6</th>\n",
              "      <th>age_after_renovation_cat_7</th>\n",
              "      <th>age_after_renovation_cat_8</th>\n",
              "      <th>age_after_renovation_cat_9</th>\n",
              "      <th>log1p_price</th>\n",
              "      <th>log1p_sqft_living</th>\n",
              "      <th>log1p_sqft_lot</th>\n",
              "      <th>log1p_sqft_above</th>\n",
              "      <th>log1p_sqft_basement</th>\n",
              "      <th>log1p_sqft_living15</th>\n",
              "      <th>log1p_sqft_lot15</th>\n",
              "      <th>bedrooms_sq</th>\n",
              "      <th>bathrooms_sq</th>\n",
              "      <th>floors_sq</th>\n",
              "      <th>waterfront_sq</th>\n",
              "      <th>view_sq</th>\n",
              "      <th>age_sq</th>\n",
              "      <th>age_after_renovation_sq</th>\n",
              "      <th>log1p_sqft_living_sq</th>\n",
              "      <th>log1p_sqft_lot_sq</th>\n",
              "      <th>log1p_sqft_above_sq</th>\n",
              "      <th>log1p_sqft_basement_sq</th>\n",
              "      <th>log1p_sqft_living15_sq</th>\n",
              "      <th>log1p_sqft_lot15_sq</th>\n",
              "    </tr>\n",
              "  </thead>\n",
              "  <tbody>\n",
              "    <tr>\n",
              "      <th>16000</th>\n",
              "      <td>3</td>\n",
              "      <td>1.75</td>\n",
              "      <td>1780</td>\n",
              "      <td>11096</td>\n",
              "      <td>1.0</td>\n",
              "      <td>0</td>\n",
              "      <td>0</td>\n",
              "      <td>3</td>\n",
              "      <td>7</td>\n",
              "      <td>1210</td>\n",
              "      <td>570</td>\n",
              "      <td>1979</td>\n",
              "      <td>0</td>\n",
              "      <td>98074</td>\n",
              "      <td>47.6170</td>\n",
              "      <td>-122.051</td>\n",
              "      <td>1780</td>\n",
              "      <td>10640</td>\n",
              "      <td>2014</td>\n",
              "      <td>35</td>\n",
              "      <td>1979</td>\n",
              "      <td>35</td>\n",
              "      <td>441</td>\n",
              "      <td>1</td>\n",
              "      <td>0</td>\n",
              "      <td>3</td>\n",
              "      <td>3</td>\n",
              "      <td>1</td>\n",
              "      <td>0</td>\n",
              "      <td>1</td>\n",
              "      <td>0</td>\n",
              "      <td>0</td>\n",
              "      <td>0</td>\n",
              "      <td>0</td>\n",
              "      <td>0</td>\n",
              "      <td>0</td>\n",
              "      <td>1</td>\n",
              "      <td>0</td>\n",
              "      <td>0</td>\n",
              "      <td>0</td>\n",
              "      <td>...</td>\n",
              "      <td>0</td>\n",
              "      <td>0</td>\n",
              "      <td>0</td>\n",
              "      <td>1</td>\n",
              "      <td>0</td>\n",
              "      <td>0</td>\n",
              "      <td>0</td>\n",
              "      <td>0</td>\n",
              "      <td>0</td>\n",
              "      <td>0</td>\n",
              "      <td>0</td>\n",
              "      <td>0</td>\n",
              "      <td>0</td>\n",
              "      <td>1</td>\n",
              "      <td>0</td>\n",
              "      <td>0</td>\n",
              "      <td>0</td>\n",
              "      <td>0</td>\n",
              "      <td>0</td>\n",
              "      <td>0</td>\n",
              "      <td>12.691584</td>\n",
              "      <td>7.484930</td>\n",
              "      <td>9.314430</td>\n",
              "      <td>7.099202</td>\n",
              "      <td>6.347389</td>\n",
              "      <td>7.484930</td>\n",
              "      <td>9.272470</td>\n",
              "      <td>9</td>\n",
              "      <td>3.0625</td>\n",
              "      <td>1.00</td>\n",
              "      <td>0</td>\n",
              "      <td>0</td>\n",
              "      <td>1225</td>\n",
              "      <td>1225</td>\n",
              "      <td>56.024181</td>\n",
              "      <td>86.758608</td>\n",
              "      <td>50.398665</td>\n",
              "      <td>40.289350</td>\n",
              "      <td>56.024181</td>\n",
              "      <td>85.978695</td>\n",
              "    </tr>\n",
              "    <tr>\n",
              "      <th>11286</th>\n",
              "      <td>2</td>\n",
              "      <td>2.50</td>\n",
              "      <td>1420</td>\n",
              "      <td>2229</td>\n",
              "      <td>2.0</td>\n",
              "      <td>0</td>\n",
              "      <td>0</td>\n",
              "      <td>3</td>\n",
              "      <td>7</td>\n",
              "      <td>1420</td>\n",
              "      <td>0</td>\n",
              "      <td>2004</td>\n",
              "      <td>0</td>\n",
              "      <td>98059</td>\n",
              "      <td>47.4871</td>\n",
              "      <td>-122.165</td>\n",
              "      <td>1500</td>\n",
              "      <td>2230</td>\n",
              "      <td>2014</td>\n",
              "      <td>10</td>\n",
              "      <td>2004</td>\n",
              "      <td>10</td>\n",
              "      <td>468</td>\n",
              "      <td>0</td>\n",
              "      <td>0</td>\n",
              "      <td>0</td>\n",
              "      <td>0</td>\n",
              "      <td>1</td>\n",
              "      <td>0</td>\n",
              "      <td>1</td>\n",
              "      <td>0</td>\n",
              "      <td>0</td>\n",
              "      <td>0</td>\n",
              "      <td>0</td>\n",
              "      <td>0</td>\n",
              "      <td>0</td>\n",
              "      <td>1</td>\n",
              "      <td>0</td>\n",
              "      <td>0</td>\n",
              "      <td>0</td>\n",
              "      <td>...</td>\n",
              "      <td>1</td>\n",
              "      <td>0</td>\n",
              "      <td>0</td>\n",
              "      <td>0</td>\n",
              "      <td>0</td>\n",
              "      <td>0</td>\n",
              "      <td>0</td>\n",
              "      <td>0</td>\n",
              "      <td>0</td>\n",
              "      <td>0</td>\n",
              "      <td>1</td>\n",
              "      <td>0</td>\n",
              "      <td>0</td>\n",
              "      <td>0</td>\n",
              "      <td>0</td>\n",
              "      <td>0</td>\n",
              "      <td>0</td>\n",
              "      <td>0</td>\n",
              "      <td>0</td>\n",
              "      <td>0</td>\n",
              "      <td>12.535380</td>\n",
              "      <td>7.259116</td>\n",
              "      <td>7.709757</td>\n",
              "      <td>7.259116</td>\n",
              "      <td>0.000000</td>\n",
              "      <td>7.313887</td>\n",
              "      <td>7.710205</td>\n",
              "      <td>4</td>\n",
              "      <td>6.2500</td>\n",
              "      <td>4.00</td>\n",
              "      <td>0</td>\n",
              "      <td>0</td>\n",
              "      <td>100</td>\n",
              "      <td>100</td>\n",
              "      <td>52.694767</td>\n",
              "      <td>59.440351</td>\n",
              "      <td>52.694767</td>\n",
              "      <td>0.000000</td>\n",
              "      <td>53.492941</td>\n",
              "      <td>59.447264</td>\n",
              "    </tr>\n",
              "    <tr>\n",
              "      <th>3201</th>\n",
              "      <td>2</td>\n",
              "      <td>1.00</td>\n",
              "      <td>1790</td>\n",
              "      <td>4000</td>\n",
              "      <td>1.0</td>\n",
              "      <td>0</td>\n",
              "      <td>0</td>\n",
              "      <td>4</td>\n",
              "      <td>7</td>\n",
              "      <td>1040</td>\n",
              "      <td>750</td>\n",
              "      <td>1923</td>\n",
              "      <td>0</td>\n",
              "      <td>98112</td>\n",
              "      <td>47.6405</td>\n",
              "      <td>-122.301</td>\n",
              "      <td>1310</td>\n",
              "      <td>4000</td>\n",
              "      <td>2014</td>\n",
              "      <td>91</td>\n",
              "      <td>1923</td>\n",
              "      <td>91</td>\n",
              "      <td>269</td>\n",
              "      <td>1</td>\n",
              "      <td>0</td>\n",
              "      <td>7</td>\n",
              "      <td>7</td>\n",
              "      <td>1</td>\n",
              "      <td>0</td>\n",
              "      <td>1</td>\n",
              "      <td>0</td>\n",
              "      <td>0</td>\n",
              "      <td>0</td>\n",
              "      <td>0</td>\n",
              "      <td>0</td>\n",
              "      <td>0</td>\n",
              "      <td>0</td>\n",
              "      <td>1</td>\n",
              "      <td>0</td>\n",
              "      <td>0</td>\n",
              "      <td>...</td>\n",
              "      <td>0</td>\n",
              "      <td>0</td>\n",
              "      <td>0</td>\n",
              "      <td>0</td>\n",
              "      <td>0</td>\n",
              "      <td>0</td>\n",
              "      <td>0</td>\n",
              "      <td>1</td>\n",
              "      <td>0</td>\n",
              "      <td>0</td>\n",
              "      <td>0</td>\n",
              "      <td>0</td>\n",
              "      <td>0</td>\n",
              "      <td>0</td>\n",
              "      <td>0</td>\n",
              "      <td>0</td>\n",
              "      <td>0</td>\n",
              "      <td>1</td>\n",
              "      <td>0</td>\n",
              "      <td>0</td>\n",
              "      <td>13.473022</td>\n",
              "      <td>7.490529</td>\n",
              "      <td>8.294300</td>\n",
              "      <td>6.947937</td>\n",
              "      <td>6.621406</td>\n",
              "      <td>7.178545</td>\n",
              "      <td>8.294300</td>\n",
              "      <td>4</td>\n",
              "      <td>1.0000</td>\n",
              "      <td>1.00</td>\n",
              "      <td>0</td>\n",
              "      <td>0</td>\n",
              "      <td>8281</td>\n",
              "      <td>8281</td>\n",
              "      <td>56.108031</td>\n",
              "      <td>68.795406</td>\n",
              "      <td>48.273830</td>\n",
              "      <td>43.843013</td>\n",
              "      <td>51.531515</td>\n",
              "      <td>68.795406</td>\n",
              "    </tr>\n",
              "    <tr>\n",
              "      <th>11049</th>\n",
              "      <td>4</td>\n",
              "      <td>1.00</td>\n",
              "      <td>1710</td>\n",
              "      <td>117176</td>\n",
              "      <td>1.5</td>\n",
              "      <td>0</td>\n",
              "      <td>0</td>\n",
              "      <td>4</td>\n",
              "      <td>6</td>\n",
              "      <td>1710</td>\n",
              "      <td>0</td>\n",
              "      <td>1942</td>\n",
              "      <td>0</td>\n",
              "      <td>98055</td>\n",
              "      <td>47.4497</td>\n",
              "      <td>-122.212</td>\n",
              "      <td>1940</td>\n",
              "      <td>12223</td>\n",
              "      <td>2014</td>\n",
              "      <td>72</td>\n",
              "      <td>1942</td>\n",
              "      <td>72</td>\n",
              "      <td>268</td>\n",
              "      <td>0</td>\n",
              "      <td>0</td>\n",
              "      <td>6</td>\n",
              "      <td>6</td>\n",
              "      <td>1</td>\n",
              "      <td>0</td>\n",
              "      <td>1</td>\n",
              "      <td>0</td>\n",
              "      <td>0</td>\n",
              "      <td>0</td>\n",
              "      <td>0</td>\n",
              "      <td>0</td>\n",
              "      <td>0</td>\n",
              "      <td>0</td>\n",
              "      <td>1</td>\n",
              "      <td>0</td>\n",
              "      <td>0</td>\n",
              "      <td>...</td>\n",
              "      <td>0</td>\n",
              "      <td>0</td>\n",
              "      <td>0</td>\n",
              "      <td>0</td>\n",
              "      <td>0</td>\n",
              "      <td>0</td>\n",
              "      <td>1</td>\n",
              "      <td>0</td>\n",
              "      <td>0</td>\n",
              "      <td>0</td>\n",
              "      <td>0</td>\n",
              "      <td>0</td>\n",
              "      <td>0</td>\n",
              "      <td>0</td>\n",
              "      <td>0</td>\n",
              "      <td>0</td>\n",
              "      <td>1</td>\n",
              "      <td>0</td>\n",
              "      <td>0</td>\n",
              "      <td>0</td>\n",
              "      <td>12.873648</td>\n",
              "      <td>7.444833</td>\n",
              "      <td>11.671441</td>\n",
              "      <td>7.444833</td>\n",
              "      <td>0.000000</td>\n",
              "      <td>7.570959</td>\n",
              "      <td>9.411157</td>\n",
              "      <td>16</td>\n",
              "      <td>1.0000</td>\n",
              "      <td>2.25</td>\n",
              "      <td>0</td>\n",
              "      <td>0</td>\n",
              "      <td>5184</td>\n",
              "      <td>5184</td>\n",
              "      <td>55.425542</td>\n",
              "      <td>136.222532</td>\n",
              "      <td>55.425542</td>\n",
              "      <td>0.000000</td>\n",
              "      <td>57.319414</td>\n",
              "      <td>88.569867</td>\n",
              "    </tr>\n",
              "    <tr>\n",
              "      <th>9716</th>\n",
              "      <td>4</td>\n",
              "      <td>1.00</td>\n",
              "      <td>1150</td>\n",
              "      <td>5217</td>\n",
              "      <td>1.5</td>\n",
              "      <td>0</td>\n",
              "      <td>0</td>\n",
              "      <td>3</td>\n",
              "      <td>7</td>\n",
              "      <td>1150</td>\n",
              "      <td>0</td>\n",
              "      <td>1951</td>\n",
              "      <td>0</td>\n",
              "      <td>98115</td>\n",
              "      <td>47.6806</td>\n",
              "      <td>-122.287</td>\n",
              "      <td>1220</td>\n",
              "      <td>5217</td>\n",
              "      <td>2015</td>\n",
              "      <td>64</td>\n",
              "      <td>1951</td>\n",
              "      <td>64</td>\n",
              "      <td>583</td>\n",
              "      <td>0</td>\n",
              "      <td>0</td>\n",
              "      <td>5</td>\n",
              "      <td>5</td>\n",
              "      <td>1</td>\n",
              "      <td>0</td>\n",
              "      <td>1</td>\n",
              "      <td>0</td>\n",
              "      <td>0</td>\n",
              "      <td>0</td>\n",
              "      <td>0</td>\n",
              "      <td>0</td>\n",
              "      <td>0</td>\n",
              "      <td>1</td>\n",
              "      <td>0</td>\n",
              "      <td>0</td>\n",
              "      <td>0</td>\n",
              "      <td>...</td>\n",
              "      <td>0</td>\n",
              "      <td>0</td>\n",
              "      <td>0</td>\n",
              "      <td>0</td>\n",
              "      <td>0</td>\n",
              "      <td>1</td>\n",
              "      <td>0</td>\n",
              "      <td>0</td>\n",
              "      <td>0</td>\n",
              "      <td>0</td>\n",
              "      <td>0</td>\n",
              "      <td>0</td>\n",
              "      <td>0</td>\n",
              "      <td>0</td>\n",
              "      <td>0</td>\n",
              "      <td>1</td>\n",
              "      <td>0</td>\n",
              "      <td>0</td>\n",
              "      <td>0</td>\n",
              "      <td>0</td>\n",
              "      <td>13.100120</td>\n",
              "      <td>7.048386</td>\n",
              "      <td>8.559869</td>\n",
              "      <td>7.048386</td>\n",
              "      <td>0.000000</td>\n",
              "      <td>7.107425</td>\n",
              "      <td>8.559869</td>\n",
              "      <td>16</td>\n",
              "      <td>1.0000</td>\n",
              "      <td>2.25</td>\n",
              "      <td>0</td>\n",
              "      <td>0</td>\n",
              "      <td>4096</td>\n",
              "      <td>4096</td>\n",
              "      <td>49.679751</td>\n",
              "      <td>73.271365</td>\n",
              "      <td>49.679751</td>\n",
              "      <td>0.000000</td>\n",
              "      <td>50.515497</td>\n",
              "      <td>73.271365</td>\n",
              "    </tr>\n",
              "  </tbody>\n",
              "</table>\n",
              "<p>5 rows × 101 columns</p>\n",
              "</div>"
            ],
            "text/plain": [
              "       bedrooms  bathrooms  ...  log1p_sqft_living15_sq  log1p_sqft_lot15_sq\n",
              "16000         3       1.75  ...               56.024181            85.978695\n",
              "11286         2       2.50  ...               53.492941            59.447264\n",
              "3201          2       1.00  ...               51.531515            68.795406\n",
              "11049         4       1.00  ...               57.319414            88.569867\n",
              "9716          4       1.00  ...               50.515497            73.271365\n",
              "\n",
              "[5 rows x 101 columns]"
            ]
          },
          "metadata": {
            "tags": []
          },
          "execution_count": 56
        }
      ]
    },
    {
      "cell_type": "markdown",
      "metadata": {
        "id": "vkC5n6muJSeS",
        "colab_type": "text"
      },
      "source": [
        "# Modelling"
      ]
    },
    {
      "cell_type": "markdown",
      "metadata": {
        "id": "C7zZFCfgXSeE",
        "colab_type": "text"
      },
      "source": [
        "## Setup Models"
      ]
    },
    {
      "cell_type": "code",
      "metadata": {
        "id": "eZXgaMpFYOg-",
        "colab_type": "code",
        "colab": {}
      },
      "source": [
        "from sklearn.model_selection import KFold, cross_val_score\n",
        "from sklearn.pipeline import make_pipeline\n",
        "from sklearn.preprocessing import RobustScaler"
      ],
      "execution_count": 0,
      "outputs": []
    },
    {
      "cell_type": "code",
      "metadata": {
        "id": "lt_903p3XJhQ",
        "colab_type": "code",
        "colab": {}
      },
      "source": [
        "# Setup cross validation folds\n",
        "kf = KFold(n_splits=5, random_state=SEED, shuffle=True)"
      ],
      "execution_count": 0,
      "outputs": []
    },
    {
      "cell_type": "code",
      "metadata": {
        "id": "36x5YEUiWyp8",
        "colab_type": "code",
        "colab": {}
      },
      "source": [
        "from sklearn.linear_model import RidgeCV\n",
        "from sklearn.svm import SVR\n",
        "from sklearn.ensemble import RandomForestRegressor\n",
        "\n",
        "# Ridge Regressor\n",
        "ridge_alphas = [1e-15, 1e-10, 1e-8, 9e-4, 7e-4, 5e-4, 3e-4, 1e-4, 1e-3, 5e-2,\n",
        "                1e-2, 0.1, 0.3, 1, 3, 5, 10, 15, 18, 20, 30, 50, 75, 100]\n",
        "ridge = make_pipeline(RobustScaler(), RidgeCV(alphas=ridge_alphas, cv=kf))\n",
        "\n",
        "# Support Vector Regressor\n",
        "svr = make_pipeline(RobustScaler(), SVR(C= 20, epsilon= 0.008, gamma=0.0003))\n",
        "\n",
        "# Random Forest Regressor\n",
        "rf = RandomForestRegressor(n_estimators=1200,\n",
        "                max_depth=15,\n",
        "                min_samples_split=5,\n",
        "                min_samples_leaf=5,\n",
        "                max_features=None,\n",
        "                oob_score=True,\n",
        "                n_jobs=-1,\n",
        "                random_state=SEED)\n",
        "\n"
      ],
      "execution_count": 0,
      "outputs": []
    },
    {
      "cell_type": "code",
      "metadata": {
        "id": "sa6mEKY3W2ZB",
        "colab_type": "code",
        "colab": {}
      },
      "source": [
        "from sklearn.ensemble import GradientBoostingRegressor\n",
        "from xgboost import XGBRegressor\n",
        "from lightgbm import LGBMRegressor\n",
        "\n",
        "# Gradient Boosting Regressor\n",
        "gbr = GradientBoostingRegressor(alpha=0.5, criterion='friedman_mse', init=None,\n",
        "                          learning_rate=0.030436296469075703, loss='quantile',\n",
        "                          max_depth=None, max_features=0.8340107985008011,\n",
        "                          max_leaf_nodes=None, min_impurity_decrease=0.0,\n",
        "                          min_impurity_split=None, min_samples_leaf=3,\n",
        "                          min_samples_split=2, min_weight_fraction_leaf=0.0,\n",
        "                          n_estimators=245, n_iter_no_change=None,\n",
        "                          presort='auto', random_state=3,\n",
        "                          subsample=0.5131351702909814, tol=0.0001,\n",
        "                          validation_fraction=0.1, verbose=0, warm_start=False)\n",
        "\n",
        "# XGBoost Regressor\n",
        "xgboost = XGBRegressor(n_jobs=-1, random_state=SEED,\n",
        "                        objective='reg:squarederror',\n",
        "                        n_estimators=1200,\n",
        "                        max_depth=3,\n",
        "                        reg_alpha=1,\n",
        "                        reg_lambda=5,\n",
        "                        subsample=1,\n",
        "                        gamma=0,\n",
        "                        min_child_weight=1,\n",
        "                        colsample_bytree=1,\n",
        "                        learning_rate=0.1\n",
        "                        )\n",
        "\n",
        "# Light Gradient Boosting Regressor\n",
        "lightgbm = LGBMRegressor(boosting_type='gbdt', class_weight=None, colsample_bytree=1.0,\n",
        "              importance_type='split', learning_rate=0.1, max_depth=-1,\n",
        "              min_child_samples=20, min_child_weight=0.001, min_split_gain=0.0,\n",
        "              n_estimators=100, n_jobs=-1, num_leaves=31, objective=None,\n",
        "              random_state=100, reg_alpha=0.0, reg_lambda=0.0, silent=True,\n",
        "              subsample=1.0, subsample_for_bin=200000, subsample_freq=0)"
      ],
      "execution_count": 0,
      "outputs": []
    },
    {
      "cell_type": "code",
      "metadata": {
        "id": "wImdN4I1Xopk",
        "colab_type": "code",
        "colab": {}
      },
      "source": [
        "# Stack up all the models\n",
        "from mlxtend.regressor import StackingCVRegressor\n",
        "stack = StackingCVRegressor(regressors=(xgboost, lightgbm, svr, ridge, gbr, rf),\n",
        "                                meta_regressor=xgboost,\n",
        "                                use_features_in_secondary=True)"
      ],
      "execution_count": 0,
      "outputs": []
    },
    {
      "cell_type": "markdown",
      "metadata": {
        "id": "o4bck8PmY0h9",
        "colab_type": "text"
      },
      "source": [
        "## Cross validation scores"
      ]
    },
    {
      "cell_type": "code",
      "metadata": {
        "id": "uSKTlNOQZkZy",
        "colab_type": "code",
        "colab": {}
      },
      "source": [
        "def get_cv_rmse(model_name, model,\n",
        "                X=df_Xtrain,y=ser_ytrain,\n",
        "                cv=kf,df_scores=None,show=True):\n",
        "    time_start = time.time()\n",
        "    # output df\n",
        "    if not isinstance(df_scores,pd.DataFrame):\n",
        "        df_scores = pd.DataFrame({'Model': [],\n",
        "                                'RMSE':[],\n",
        "                                'rmse_std': []})\n",
        "        \n",
        "    # get score from cross-validation\n",
        "    score = np.sqrt(-cross_val_score(model, X,y,\n",
        "            scoring=\"neg_mean_squared_error\",cv=cv))\n",
        "    df_scores.loc[len(df_scores)] = [model_name, score.mean(), score.std()]\n",
        "    df_scores = df_scores.sort_values('RMSE',ascending=True)\n",
        "    df_scores = df_scores.drop_duplicates()\n",
        "    df_scores = df_scores.reset_index(drop=True)\n",
        "\n",
        "    # time taken\n",
        "    time_taken = time.time() - time_start\n",
        "    h,m = divmod(time_taken,60*60)\n",
        "    print('Time taken : {:.0f} hr '\\\n",
        "        '{:.0f} min {:.0f} secs\\n'.format(h, *divmod(m,60)))\n",
        "    \n",
        "    # display output\n",
        "    if show:\n",
        "        display(df_scores.style.format({'RMSE': \"{:,.0f}\",'rmse_std': \"{:,.0f}\"}))\n",
        "\n",
        "    return df_scores"
      ],
      "execution_count": 0,
      "outputs": []
    },
    {
      "cell_type": "code",
      "metadata": {
        "id": "rgjlOoDpa5Vt",
        "colab_type": "code",
        "outputId": "71b4b9d5-1e5e-45e2-bcce-6722fcf1fde5",
        "colab": {
          "base_uri": "https://localhost:8080/",
          "height": 1000
        }
      },
      "source": [
        "df_scores = get_cv_rmse('ridge', ridge,df_scores=None)"
      ],
      "execution_count": 26,
      "outputs": [
        {
          "output_type": "stream",
          "text": [
            "/usr/local/lib/python3.6/dist-packages/sklearn/linear_model/_ridge.py:148: LinAlgWarning: Ill-conditioned matrix (rcond=3.275e-20): result may not be accurate.\n",
            "  overwrite_a=True).T\n",
            "/usr/local/lib/python3.6/dist-packages/sklearn/linear_model/_ridge.py:148: LinAlgWarning: Ill-conditioned matrix (rcond=2.90202e-20): result may not be accurate.\n",
            "  overwrite_a=True).T\n",
            "/usr/local/lib/python3.6/dist-packages/sklearn/linear_model/_ridge.py:148: LinAlgWarning: Ill-conditioned matrix (rcond=3.7583e-20): result may not be accurate.\n",
            "  overwrite_a=True).T\n",
            "/usr/local/lib/python3.6/dist-packages/sklearn/linear_model/_ridge.py:148: LinAlgWarning: Ill-conditioned matrix (rcond=3.30796e-20): result may not be accurate.\n",
            "  overwrite_a=True).T\n",
            "/usr/local/lib/python3.6/dist-packages/sklearn/linear_model/_ridge.py:148: LinAlgWarning: Ill-conditioned matrix (rcond=3.21627e-20): result may not be accurate.\n",
            "  overwrite_a=True).T\n",
            "/usr/local/lib/python3.6/dist-packages/sklearn/linear_model/_ridge.py:148: LinAlgWarning: Ill-conditioned matrix (rcond=3.45659e-18): result may not be accurate.\n",
            "  overwrite_a=True).T\n",
            "/usr/local/lib/python3.6/dist-packages/sklearn/linear_model/_ridge.py:148: LinAlgWarning: Ill-conditioned matrix (rcond=3.35781e-18): result may not be accurate.\n",
            "  overwrite_a=True).T\n",
            "/usr/local/lib/python3.6/dist-packages/sklearn/linear_model/_ridge.py:148: LinAlgWarning: Ill-conditioned matrix (rcond=3.28025e-18): result may not be accurate.\n",
            "  overwrite_a=True).T\n",
            "/usr/local/lib/python3.6/dist-packages/sklearn/linear_model/_ridge.py:148: LinAlgWarning: Ill-conditioned matrix (rcond=3.27853e-18): result may not be accurate.\n",
            "  overwrite_a=True).T\n",
            "/usr/local/lib/python3.6/dist-packages/sklearn/linear_model/_ridge.py:148: LinAlgWarning: Ill-conditioned matrix (rcond=3.38818e-18): result may not be accurate.\n",
            "  overwrite_a=True).T\n",
            "/usr/local/lib/python3.6/dist-packages/sklearn/linear_model/_ridge.py:148: LinAlgWarning: Ill-conditioned matrix (rcond=3.66458e-20): result may not be accurate.\n",
            "  overwrite_a=True).T\n",
            "/usr/local/lib/python3.6/dist-packages/sklearn/linear_model/_ridge.py:148: LinAlgWarning: Ill-conditioned matrix (rcond=3.39144e-20): result may not be accurate.\n",
            "  overwrite_a=True).T\n",
            "/usr/local/lib/python3.6/dist-packages/sklearn/linear_model/_ridge.py:148: LinAlgWarning: Ill-conditioned matrix (rcond=3.04087e-20): result may not be accurate.\n",
            "  overwrite_a=True).T\n",
            "/usr/local/lib/python3.6/dist-packages/sklearn/linear_model/_ridge.py:148: LinAlgWarning: Ill-conditioned matrix (rcond=3.60783e-20): result may not be accurate.\n",
            "  overwrite_a=True).T\n",
            "/usr/local/lib/python3.6/dist-packages/sklearn/linear_model/_ridge.py:148: LinAlgWarning: Ill-conditioned matrix (rcond=3.07362e-20): result may not be accurate.\n",
            "  overwrite_a=True).T\n",
            "/usr/local/lib/python3.6/dist-packages/sklearn/linear_model/_ridge.py:148: LinAlgWarning: Ill-conditioned matrix (rcond=3.79498e-18): result may not be accurate.\n",
            "  overwrite_a=True).T\n",
            "/usr/local/lib/python3.6/dist-packages/sklearn/linear_model/_ridge.py:148: LinAlgWarning: Ill-conditioned matrix (rcond=3.63627e-18): result may not be accurate.\n",
            "  overwrite_a=True).T\n",
            "/usr/local/lib/python3.6/dist-packages/sklearn/linear_model/_ridge.py:148: LinAlgWarning: Ill-conditioned matrix (rcond=3.3769e-18): result may not be accurate.\n",
            "  overwrite_a=True).T\n",
            "/usr/local/lib/python3.6/dist-packages/sklearn/linear_model/_ridge.py:148: LinAlgWarning: Ill-conditioned matrix (rcond=3.79528e-18): result may not be accurate.\n",
            "  overwrite_a=True).T\n",
            "/usr/local/lib/python3.6/dist-packages/sklearn/linear_model/_ridge.py:148: LinAlgWarning: Ill-conditioned matrix (rcond=3.41498e-18): result may not be accurate.\n",
            "  overwrite_a=True).T\n",
            "/usr/local/lib/python3.6/dist-packages/sklearn/linear_model/_ridge.py:148: LinAlgWarning: Ill-conditioned matrix (rcond=2.40269e-20): result may not be accurate.\n",
            "  overwrite_a=True).T\n",
            "/usr/local/lib/python3.6/dist-packages/sklearn/linear_model/_ridge.py:148: LinAlgWarning: Ill-conditioned matrix (rcond=3.47849e-20): result may not be accurate.\n",
            "  overwrite_a=True).T\n",
            "/usr/local/lib/python3.6/dist-packages/sklearn/linear_model/_ridge.py:148: LinAlgWarning: Ill-conditioned matrix (rcond=3.93363e-20): result may not be accurate.\n",
            "  overwrite_a=True).T\n",
            "/usr/local/lib/python3.6/dist-packages/sklearn/linear_model/_ridge.py:148: LinAlgWarning: Ill-conditioned matrix (rcond=2.74996e-20): result may not be accurate.\n",
            "  overwrite_a=True).T\n",
            "/usr/local/lib/python3.6/dist-packages/sklearn/linear_model/_ridge.py:148: LinAlgWarning: Ill-conditioned matrix (rcond=3.20856e-20): result may not be accurate.\n",
            "  overwrite_a=True).T\n",
            "/usr/local/lib/python3.6/dist-packages/sklearn/linear_model/_ridge.py:148: LinAlgWarning: Ill-conditioned matrix (rcond=3.36542e-18): result may not be accurate.\n",
            "  overwrite_a=True).T\n",
            "/usr/local/lib/python3.6/dist-packages/sklearn/linear_model/_ridge.py:148: LinAlgWarning: Ill-conditioned matrix (rcond=3.55671e-18): result may not be accurate.\n",
            "  overwrite_a=True).T\n",
            "/usr/local/lib/python3.6/dist-packages/sklearn/linear_model/_ridge.py:148: LinAlgWarning: Ill-conditioned matrix (rcond=3.58586e-18): result may not be accurate.\n",
            "  overwrite_a=True).T\n",
            "/usr/local/lib/python3.6/dist-packages/sklearn/linear_model/_ridge.py:148: LinAlgWarning: Ill-conditioned matrix (rcond=3.26971e-18): result may not be accurate.\n",
            "  overwrite_a=True).T\n",
            "/usr/local/lib/python3.6/dist-packages/sklearn/linear_model/_ridge.py:148: LinAlgWarning: Ill-conditioned matrix (rcond=3.2324e-18): result may not be accurate.\n",
            "  overwrite_a=True).T\n",
            "/usr/local/lib/python3.6/dist-packages/sklearn/linear_model/_ridge.py:148: LinAlgWarning: Ill-conditioned matrix (rcond=3.48198e-20): result may not be accurate.\n",
            "  overwrite_a=True).T\n",
            "/usr/local/lib/python3.6/dist-packages/sklearn/linear_model/_ridge.py:148: LinAlgWarning: Ill-conditioned matrix (rcond=3.23665e-20): result may not be accurate.\n",
            "  overwrite_a=True).T\n",
            "/usr/local/lib/python3.6/dist-packages/sklearn/linear_model/_ridge.py:148: LinAlgWarning: Ill-conditioned matrix (rcond=3.56735e-20): result may not be accurate.\n",
            "  overwrite_a=True).T\n",
            "/usr/local/lib/python3.6/dist-packages/sklearn/linear_model/_ridge.py:148: LinAlgWarning: Ill-conditioned matrix (rcond=3.28218e-20): result may not be accurate.\n",
            "  overwrite_a=True).T\n",
            "/usr/local/lib/python3.6/dist-packages/sklearn/linear_model/_ridge.py:148: LinAlgWarning: Ill-conditioned matrix (rcond=2.83253e-20): result may not be accurate.\n",
            "  overwrite_a=True).T\n",
            "/usr/local/lib/python3.6/dist-packages/sklearn/linear_model/_ridge.py:148: LinAlgWarning: Ill-conditioned matrix (rcond=3.48639e-18): result may not be accurate.\n",
            "  overwrite_a=True).T\n",
            "/usr/local/lib/python3.6/dist-packages/sklearn/linear_model/_ridge.py:148: LinAlgWarning: Ill-conditioned matrix (rcond=3.47746e-18): result may not be accurate.\n",
            "  overwrite_a=True).T\n",
            "/usr/local/lib/python3.6/dist-packages/sklearn/linear_model/_ridge.py:148: LinAlgWarning: Ill-conditioned matrix (rcond=3.52786e-18): result may not be accurate.\n",
            "  overwrite_a=True).T\n",
            "/usr/local/lib/python3.6/dist-packages/sklearn/linear_model/_ridge.py:148: LinAlgWarning: Ill-conditioned matrix (rcond=3.48811e-18): result may not be accurate.\n",
            "  overwrite_a=True).T\n",
            "/usr/local/lib/python3.6/dist-packages/sklearn/linear_model/_ridge.py:148: LinAlgWarning: Ill-conditioned matrix (rcond=3.44095e-18): result may not be accurate.\n",
            "  overwrite_a=True).T\n",
            "/usr/local/lib/python3.6/dist-packages/sklearn/linear_model/_ridge.py:148: LinAlgWarning: Ill-conditioned matrix (rcond=3.59345e-20): result may not be accurate.\n",
            "  overwrite_a=True).T\n",
            "/usr/local/lib/python3.6/dist-packages/sklearn/linear_model/_ridge.py:148: LinAlgWarning: Ill-conditioned matrix (rcond=2.91064e-20): result may not be accurate.\n",
            "  overwrite_a=True).T\n",
            "/usr/local/lib/python3.6/dist-packages/sklearn/linear_model/_ridge.py:148: LinAlgWarning: Ill-conditioned matrix (rcond=3.30037e-20): result may not be accurate.\n",
            "  overwrite_a=True).T\n",
            "/usr/local/lib/python3.6/dist-packages/sklearn/linear_model/_ridge.py:148: LinAlgWarning: Ill-conditioned matrix (rcond=3.13427e-20): result may not be accurate.\n",
            "  overwrite_a=True).T\n",
            "/usr/local/lib/python3.6/dist-packages/sklearn/linear_model/_ridge.py:148: LinAlgWarning: Ill-conditioned matrix (rcond=3.63545e-20): result may not be accurate.\n",
            "  overwrite_a=True).T\n",
            "/usr/local/lib/python3.6/dist-packages/sklearn/linear_model/_ridge.py:148: LinAlgWarning: Ill-conditioned matrix (rcond=3.32721e-18): result may not be accurate.\n",
            "  overwrite_a=True).T\n",
            "/usr/local/lib/python3.6/dist-packages/sklearn/linear_model/_ridge.py:148: LinAlgWarning: Ill-conditioned matrix (rcond=3.3048e-18): result may not be accurate.\n",
            "  overwrite_a=True).T\n",
            "/usr/local/lib/python3.6/dist-packages/sklearn/linear_model/_ridge.py:148: LinAlgWarning: Ill-conditioned matrix (rcond=3.2136e-18): result may not be accurate.\n",
            "  overwrite_a=True).T\n",
            "/usr/local/lib/python3.6/dist-packages/sklearn/linear_model/_ridge.py:148: LinAlgWarning: Ill-conditioned matrix (rcond=3.34591e-18): result may not be accurate.\n",
            "  overwrite_a=True).T\n",
            "/usr/local/lib/python3.6/dist-packages/sklearn/linear_model/_ridge.py:148: LinAlgWarning: Ill-conditioned matrix (rcond=3.45595e-18): result may not be accurate.\n",
            "  overwrite_a=True).T\n"
          ],
          "name": "stderr"
        },
        {
          "output_type": "stream",
          "text": [
            "Time taken : 0 hr 0 min 20 secs\n",
            "\n"
          ],
          "name": "stdout"
        },
        {
          "output_type": "display_data",
          "data": {
            "text/html": [
              "<style  type=\"text/css\" >\n",
              "</style><table id=\"T_ea05e002_a532_11ea_84ab_0242ac1c0002\" ><thead>    <tr>        <th class=\"blank level0\" ></th>        <th class=\"col_heading level0 col0\" >Model</th>        <th class=\"col_heading level0 col1\" >RMSE</th>        <th class=\"col_heading level0 col2\" >rmse_std</th>    </tr></thead><tbody>\n",
              "                <tr>\n",
              "                        <th id=\"T_ea05e002_a532_11ea_84ab_0242ac1c0002level0_row0\" class=\"row_heading level0 row0\" >0</th>\n",
              "                        <td id=\"T_ea05e002_a532_11ea_84ab_0242ac1c0002row0_col0\" class=\"data row0 col0\" >ridge</td>\n",
              "                        <td id=\"T_ea05e002_a532_11ea_84ab_0242ac1c0002row0_col1\" class=\"data row0 col1\" >113,787</td>\n",
              "                        <td id=\"T_ea05e002_a532_11ea_84ab_0242ac1c0002row0_col2\" class=\"data row0 col2\" >9,183</td>\n",
              "            </tr>\n",
              "    </tbody></table>"
            ],
            "text/plain": [
              "<pandas.io.formats.style.Styler at 0x7f18dedfae10>"
            ]
          },
          "metadata": {
            "tags": []
          }
        }
      ]
    },
    {
      "cell_type": "code",
      "metadata": {
        "id": "RgPRbXfNa5ae",
        "colab_type": "code",
        "outputId": "4fa5a857-5df3-4718-f5cb-fb7430799827",
        "colab": {
          "base_uri": "https://localhost:8080/",
          "height": 106
        }
      },
      "source": [
        "df_scores = get_cv_rmse('svr', svr,df_scores=df_scores)"
      ],
      "execution_count": 27,
      "outputs": [
        {
          "output_type": "stream",
          "text": [
            "Time taken : 0 hr 4 min 10 secs\n",
            "\n"
          ],
          "name": "stdout"
        },
        {
          "output_type": "display_data",
          "data": {
            "text/html": [
              "<style  type=\"text/css\" >\n",
              "</style><table id=\"T_7f092e7a_a533_11ea_84ab_0242ac1c0002\" ><thead>    <tr>        <th class=\"blank level0\" ></th>        <th class=\"col_heading level0 col0\" >Model</th>        <th class=\"col_heading level0 col1\" >RMSE</th>        <th class=\"col_heading level0 col2\" >rmse_std</th>    </tr></thead><tbody>\n",
              "                <tr>\n",
              "                        <th id=\"T_7f092e7a_a533_11ea_84ab_0242ac1c0002level0_row0\" class=\"row_heading level0 row0\" >0</th>\n",
              "                        <td id=\"T_7f092e7a_a533_11ea_84ab_0242ac1c0002row0_col0\" class=\"data row0 col0\" >ridge</td>\n",
              "                        <td id=\"T_7f092e7a_a533_11ea_84ab_0242ac1c0002row0_col1\" class=\"data row0 col1\" >113,787</td>\n",
              "                        <td id=\"T_7f092e7a_a533_11ea_84ab_0242ac1c0002row0_col2\" class=\"data row0 col2\" >9,183</td>\n",
              "            </tr>\n",
              "            <tr>\n",
              "                        <th id=\"T_7f092e7a_a533_11ea_84ab_0242ac1c0002level0_row1\" class=\"row_heading level0 row1\" >1</th>\n",
              "                        <td id=\"T_7f092e7a_a533_11ea_84ab_0242ac1c0002row1_col0\" class=\"data row1 col0\" >svr</td>\n",
              "                        <td id=\"T_7f092e7a_a533_11ea_84ab_0242ac1c0002row1_col1\" class=\"data row1 col1\" >376,296</td>\n",
              "                        <td id=\"T_7f092e7a_a533_11ea_84ab_0242ac1c0002row1_col2\" class=\"data row1 col2\" >21,587</td>\n",
              "            </tr>\n",
              "    </tbody></table>"
            ],
            "text/plain": [
              "<pandas.io.formats.style.Styler at 0x7f18fd55ce10>"
            ]
          },
          "metadata": {
            "tags": []
          }
        }
      ]
    },
    {
      "cell_type": "code",
      "metadata": {
        "id": "Pmsj7igha5fg",
        "colab_type": "code",
        "outputId": "8c45aba5-ddb8-4b1e-9a4d-da3010c948c0",
        "colab": {
          "base_uri": "https://localhost:8080/",
          "height": 124
        }
      },
      "source": [
        "df_scores = get_cv_rmse('rf', rf,df_scores=df_scores)"
      ],
      "execution_count": 28,
      "outputs": [
        {
          "output_type": "stream",
          "text": [
            "Time taken : 0 hr 19 min 42 secs\n",
            "\n"
          ],
          "name": "stdout"
        },
        {
          "output_type": "display_data",
          "data": {
            "text/html": [
              "<style  type=\"text/css\" >\n",
              "</style><table id=\"T_3f51ee4a_a536_11ea_84ab_0242ac1c0002\" ><thead>    <tr>        <th class=\"blank level0\" ></th>        <th class=\"col_heading level0 col0\" >Model</th>        <th class=\"col_heading level0 col1\" >RMSE</th>        <th class=\"col_heading level0 col2\" >rmse_std</th>    </tr></thead><tbody>\n",
              "                <tr>\n",
              "                        <th id=\"T_3f51ee4a_a536_11ea_84ab_0242ac1c0002level0_row0\" class=\"row_heading level0 row0\" >0</th>\n",
              "                        <td id=\"T_3f51ee4a_a536_11ea_84ab_0242ac1c0002row0_col0\" class=\"data row0 col0\" >rf</td>\n",
              "                        <td id=\"T_3f51ee4a_a536_11ea_84ab_0242ac1c0002row0_col1\" class=\"data row0 col1\" >20,498</td>\n",
              "                        <td id=\"T_3f51ee4a_a536_11ea_84ab_0242ac1c0002row0_col2\" class=\"data row0 col2\" >21,701</td>\n",
              "            </tr>\n",
              "            <tr>\n",
              "                        <th id=\"T_3f51ee4a_a536_11ea_84ab_0242ac1c0002level0_row1\" class=\"row_heading level0 row1\" >1</th>\n",
              "                        <td id=\"T_3f51ee4a_a536_11ea_84ab_0242ac1c0002row1_col0\" class=\"data row1 col0\" >ridge</td>\n",
              "                        <td id=\"T_3f51ee4a_a536_11ea_84ab_0242ac1c0002row1_col1\" class=\"data row1 col1\" >113,787</td>\n",
              "                        <td id=\"T_3f51ee4a_a536_11ea_84ab_0242ac1c0002row1_col2\" class=\"data row1 col2\" >9,183</td>\n",
              "            </tr>\n",
              "            <tr>\n",
              "                        <th id=\"T_3f51ee4a_a536_11ea_84ab_0242ac1c0002level0_row2\" class=\"row_heading level0 row2\" >2</th>\n",
              "                        <td id=\"T_3f51ee4a_a536_11ea_84ab_0242ac1c0002row2_col0\" class=\"data row2 col0\" >svr</td>\n",
              "                        <td id=\"T_3f51ee4a_a536_11ea_84ab_0242ac1c0002row2_col1\" class=\"data row2 col1\" >376,296</td>\n",
              "                        <td id=\"T_3f51ee4a_a536_11ea_84ab_0242ac1c0002row2_col2\" class=\"data row2 col2\" >21,587</td>\n",
              "            </tr>\n",
              "    </tbody></table>"
            ],
            "text/plain": [
              "<pandas.io.formats.style.Styler at 0x7f18ef2ee7f0>"
            ]
          },
          "metadata": {
            "tags": []
          }
        }
      ]
    },
    {
      "cell_type": "code",
      "metadata": {
        "id": "GS0CAG2YbZFU",
        "colab_type": "code",
        "outputId": "f7e59b7d-df7b-4b7e-a001-211d0344ed41",
        "colab": {
          "base_uri": "https://localhost:8080/",
          "height": 340
        }
      },
      "source": [
        "df_scores = get_cv_rmse('gbr', gbr,df_scores=df_scores)"
      ],
      "execution_count": 29,
      "outputs": [
        {
          "output_type": "stream",
          "text": [
            "/usr/local/lib/python3.6/dist-packages/sklearn/ensemble/_gb.py:1342: FutureWarning: The parameter 'presort' is deprecated and has no effect. It will be removed in v0.24. You can suppress this warning by not passing any value to the 'presort' parameter. We also recommend using HistGradientBoosting models instead.\n",
            "  FutureWarning)\n",
            "/usr/local/lib/python3.6/dist-packages/sklearn/ensemble/_gb.py:1342: FutureWarning: The parameter 'presort' is deprecated and has no effect. It will be removed in v0.24. You can suppress this warning by not passing any value to the 'presort' parameter. We also recommend using HistGradientBoosting models instead.\n",
            "  FutureWarning)\n",
            "/usr/local/lib/python3.6/dist-packages/sklearn/ensemble/_gb.py:1342: FutureWarning: The parameter 'presort' is deprecated and has no effect. It will be removed in v0.24. You can suppress this warning by not passing any value to the 'presort' parameter. We also recommend using HistGradientBoosting models instead.\n",
            "  FutureWarning)\n",
            "/usr/local/lib/python3.6/dist-packages/sklearn/ensemble/_gb.py:1342: FutureWarning: The parameter 'presort' is deprecated and has no effect. It will be removed in v0.24. You can suppress this warning by not passing any value to the 'presort' parameter. We also recommend using HistGradientBoosting models instead.\n",
            "  FutureWarning)\n",
            "/usr/local/lib/python3.6/dist-packages/sklearn/ensemble/_gb.py:1342: FutureWarning: The parameter 'presort' is deprecated and has no effect. It will be removed in v0.24. You can suppress this warning by not passing any value to the 'presort' parameter. We also recommend using HistGradientBoosting models instead.\n",
            "  FutureWarning)\n"
          ],
          "name": "stderr"
        },
        {
          "output_type": "stream",
          "text": [
            "Time taken : 0 hr 6 min 8 secs\n",
            "\n"
          ],
          "name": "stdout"
        },
        {
          "output_type": "display_data",
          "data": {
            "text/html": [
              "<style  type=\"text/css\" >\n",
              "</style><table id=\"T_1abad12c_a537_11ea_84ab_0242ac1c0002\" ><thead>    <tr>        <th class=\"blank level0\" ></th>        <th class=\"col_heading level0 col0\" >Model</th>        <th class=\"col_heading level0 col1\" >RMSE</th>        <th class=\"col_heading level0 col2\" >rmse_std</th>    </tr></thead><tbody>\n",
              "                <tr>\n",
              "                        <th id=\"T_1abad12c_a537_11ea_84ab_0242ac1c0002level0_row0\" class=\"row_heading level0 row0\" >0</th>\n",
              "                        <td id=\"T_1abad12c_a537_11ea_84ab_0242ac1c0002row0_col0\" class=\"data row0 col0\" >rf</td>\n",
              "                        <td id=\"T_1abad12c_a537_11ea_84ab_0242ac1c0002row0_col1\" class=\"data row0 col1\" >20,498</td>\n",
              "                        <td id=\"T_1abad12c_a537_11ea_84ab_0242ac1c0002row0_col2\" class=\"data row0 col2\" >21,701</td>\n",
              "            </tr>\n",
              "            <tr>\n",
              "                        <th id=\"T_1abad12c_a537_11ea_84ab_0242ac1c0002level0_row1\" class=\"row_heading level0 row1\" >1</th>\n",
              "                        <td id=\"T_1abad12c_a537_11ea_84ab_0242ac1c0002row1_col0\" class=\"data row1 col0\" >gbr</td>\n",
              "                        <td id=\"T_1abad12c_a537_11ea_84ab_0242ac1c0002row1_col1\" class=\"data row1 col1\" >52,400</td>\n",
              "                        <td id=\"T_1abad12c_a537_11ea_84ab_0242ac1c0002row1_col2\" class=\"data row1 col2\" >30,352</td>\n",
              "            </tr>\n",
              "            <tr>\n",
              "                        <th id=\"T_1abad12c_a537_11ea_84ab_0242ac1c0002level0_row2\" class=\"row_heading level0 row2\" >2</th>\n",
              "                        <td id=\"T_1abad12c_a537_11ea_84ab_0242ac1c0002row2_col0\" class=\"data row2 col0\" >ridge</td>\n",
              "                        <td id=\"T_1abad12c_a537_11ea_84ab_0242ac1c0002row2_col1\" class=\"data row2 col1\" >113,787</td>\n",
              "                        <td id=\"T_1abad12c_a537_11ea_84ab_0242ac1c0002row2_col2\" class=\"data row2 col2\" >9,183</td>\n",
              "            </tr>\n",
              "            <tr>\n",
              "                        <th id=\"T_1abad12c_a537_11ea_84ab_0242ac1c0002level0_row3\" class=\"row_heading level0 row3\" >3</th>\n",
              "                        <td id=\"T_1abad12c_a537_11ea_84ab_0242ac1c0002row3_col0\" class=\"data row3 col0\" >svr</td>\n",
              "                        <td id=\"T_1abad12c_a537_11ea_84ab_0242ac1c0002row3_col1\" class=\"data row3 col1\" >376,296</td>\n",
              "                        <td id=\"T_1abad12c_a537_11ea_84ab_0242ac1c0002row3_col2\" class=\"data row3 col2\" >21,587</td>\n",
              "            </tr>\n",
              "    </tbody></table>"
            ],
            "text/plain": [
              "<pandas.io.formats.style.Styler at 0x7f18d16d54e0>"
            ]
          },
          "metadata": {
            "tags": []
          }
        }
      ]
    },
    {
      "cell_type": "code",
      "metadata": {
        "id": "nDxF0nyGbZVX",
        "colab_type": "code",
        "outputId": "a12688cc-3883-44e2-e5ee-9536aac65e8f",
        "colab": {
          "base_uri": "https://localhost:8080/",
          "height": 160
        }
      },
      "source": [
        "df_scores = get_cv_rmse('xgboost', xgboost,df_scores=df_scores)"
      ],
      "execution_count": 30,
      "outputs": [
        {
          "output_type": "stream",
          "text": [
            "Time taken : 0 hr 2 min 36 secs\n",
            "\n"
          ],
          "name": "stdout"
        },
        {
          "output_type": "display_data",
          "data": {
            "text/html": [
              "<style  type=\"text/css\" >\n",
              "</style><table id=\"T_77f47758_a537_11ea_84ab_0242ac1c0002\" ><thead>    <tr>        <th class=\"blank level0\" ></th>        <th class=\"col_heading level0 col0\" >Model</th>        <th class=\"col_heading level0 col1\" >RMSE</th>        <th class=\"col_heading level0 col2\" >rmse_std</th>    </tr></thead><tbody>\n",
              "                <tr>\n",
              "                        <th id=\"T_77f47758_a537_11ea_84ab_0242ac1c0002level0_row0\" class=\"row_heading level0 row0\" >0</th>\n",
              "                        <td id=\"T_77f47758_a537_11ea_84ab_0242ac1c0002row0_col0\" class=\"data row0 col0\" >xgboost</td>\n",
              "                        <td id=\"T_77f47758_a537_11ea_84ab_0242ac1c0002row0_col1\" class=\"data row0 col1\" >12,473</td>\n",
              "                        <td id=\"T_77f47758_a537_11ea_84ab_0242ac1c0002row0_col2\" class=\"data row0 col2\" >15,897</td>\n",
              "            </tr>\n",
              "            <tr>\n",
              "                        <th id=\"T_77f47758_a537_11ea_84ab_0242ac1c0002level0_row1\" class=\"row_heading level0 row1\" >1</th>\n",
              "                        <td id=\"T_77f47758_a537_11ea_84ab_0242ac1c0002row1_col0\" class=\"data row1 col0\" >rf</td>\n",
              "                        <td id=\"T_77f47758_a537_11ea_84ab_0242ac1c0002row1_col1\" class=\"data row1 col1\" >20,498</td>\n",
              "                        <td id=\"T_77f47758_a537_11ea_84ab_0242ac1c0002row1_col2\" class=\"data row1 col2\" >21,701</td>\n",
              "            </tr>\n",
              "            <tr>\n",
              "                        <th id=\"T_77f47758_a537_11ea_84ab_0242ac1c0002level0_row2\" class=\"row_heading level0 row2\" >2</th>\n",
              "                        <td id=\"T_77f47758_a537_11ea_84ab_0242ac1c0002row2_col0\" class=\"data row2 col0\" >gbr</td>\n",
              "                        <td id=\"T_77f47758_a537_11ea_84ab_0242ac1c0002row2_col1\" class=\"data row2 col1\" >52,400</td>\n",
              "                        <td id=\"T_77f47758_a537_11ea_84ab_0242ac1c0002row2_col2\" class=\"data row2 col2\" >30,352</td>\n",
              "            </tr>\n",
              "            <tr>\n",
              "                        <th id=\"T_77f47758_a537_11ea_84ab_0242ac1c0002level0_row3\" class=\"row_heading level0 row3\" >3</th>\n",
              "                        <td id=\"T_77f47758_a537_11ea_84ab_0242ac1c0002row3_col0\" class=\"data row3 col0\" >ridge</td>\n",
              "                        <td id=\"T_77f47758_a537_11ea_84ab_0242ac1c0002row3_col1\" class=\"data row3 col1\" >113,787</td>\n",
              "                        <td id=\"T_77f47758_a537_11ea_84ab_0242ac1c0002row3_col2\" class=\"data row3 col2\" >9,183</td>\n",
              "            </tr>\n",
              "            <tr>\n",
              "                        <th id=\"T_77f47758_a537_11ea_84ab_0242ac1c0002level0_row4\" class=\"row_heading level0 row4\" >4</th>\n",
              "                        <td id=\"T_77f47758_a537_11ea_84ab_0242ac1c0002row4_col0\" class=\"data row4 col0\" >svr</td>\n",
              "                        <td id=\"T_77f47758_a537_11ea_84ab_0242ac1c0002row4_col1\" class=\"data row4 col1\" >376,296</td>\n",
              "                        <td id=\"T_77f47758_a537_11ea_84ab_0242ac1c0002row4_col2\" class=\"data row4 col2\" >21,587</td>\n",
              "            </tr>\n",
              "    </tbody></table>"
            ],
            "text/plain": [
              "<pandas.io.formats.style.Styler at 0x7f18d16d52b0>"
            ]
          },
          "metadata": {
            "tags": []
          }
        }
      ]
    },
    {
      "cell_type": "code",
      "metadata": {
        "id": "9F40LAFQZKEo",
        "colab_type": "code",
        "outputId": "30ddb846-b495-470b-a19c-965350b7f421",
        "colab": {
          "base_uri": "https://localhost:8080/",
          "height": 177
        }
      },
      "source": [
        "df_scores = get_cv_rmse('lightgbm', lightgbm,df_scores=df_scores)"
      ],
      "execution_count": 31,
      "outputs": [
        {
          "output_type": "stream",
          "text": [
            "Time taken : 0 hr 0 min 5 secs\n",
            "\n"
          ],
          "name": "stdout"
        },
        {
          "output_type": "display_data",
          "data": {
            "text/html": [
              "<style  type=\"text/css\" >\n",
              "</style><table id=\"T_7ad4ce5a_a537_11ea_84ab_0242ac1c0002\" ><thead>    <tr>        <th class=\"blank level0\" ></th>        <th class=\"col_heading level0 col0\" >Model</th>        <th class=\"col_heading level0 col1\" >RMSE</th>        <th class=\"col_heading level0 col2\" >rmse_std</th>    </tr></thead><tbody>\n",
              "                <tr>\n",
              "                        <th id=\"T_7ad4ce5a_a537_11ea_84ab_0242ac1c0002level0_row0\" class=\"row_heading level0 row0\" >0</th>\n",
              "                        <td id=\"T_7ad4ce5a_a537_11ea_84ab_0242ac1c0002row0_col0\" class=\"data row0 col0\" >xgboost</td>\n",
              "                        <td id=\"T_7ad4ce5a_a537_11ea_84ab_0242ac1c0002row0_col1\" class=\"data row0 col1\" >12,473</td>\n",
              "                        <td id=\"T_7ad4ce5a_a537_11ea_84ab_0242ac1c0002row0_col2\" class=\"data row0 col2\" >15,897</td>\n",
              "            </tr>\n",
              "            <tr>\n",
              "                        <th id=\"T_7ad4ce5a_a537_11ea_84ab_0242ac1c0002level0_row1\" class=\"row_heading level0 row1\" >1</th>\n",
              "                        <td id=\"T_7ad4ce5a_a537_11ea_84ab_0242ac1c0002row1_col0\" class=\"data row1 col0\" >rf</td>\n",
              "                        <td id=\"T_7ad4ce5a_a537_11ea_84ab_0242ac1c0002row1_col1\" class=\"data row1 col1\" >20,498</td>\n",
              "                        <td id=\"T_7ad4ce5a_a537_11ea_84ab_0242ac1c0002row1_col2\" class=\"data row1 col2\" >21,701</td>\n",
              "            </tr>\n",
              "            <tr>\n",
              "                        <th id=\"T_7ad4ce5a_a537_11ea_84ab_0242ac1c0002level0_row2\" class=\"row_heading level0 row2\" >2</th>\n",
              "                        <td id=\"T_7ad4ce5a_a537_11ea_84ab_0242ac1c0002row2_col0\" class=\"data row2 col0\" >lightgbm</td>\n",
              "                        <td id=\"T_7ad4ce5a_a537_11ea_84ab_0242ac1c0002row2_col1\" class=\"data row2 col1\" >38,185</td>\n",
              "                        <td id=\"T_7ad4ce5a_a537_11ea_84ab_0242ac1c0002row2_col2\" class=\"data row2 col2\" >18,945</td>\n",
              "            </tr>\n",
              "            <tr>\n",
              "                        <th id=\"T_7ad4ce5a_a537_11ea_84ab_0242ac1c0002level0_row3\" class=\"row_heading level0 row3\" >3</th>\n",
              "                        <td id=\"T_7ad4ce5a_a537_11ea_84ab_0242ac1c0002row3_col0\" class=\"data row3 col0\" >gbr</td>\n",
              "                        <td id=\"T_7ad4ce5a_a537_11ea_84ab_0242ac1c0002row3_col1\" class=\"data row3 col1\" >52,400</td>\n",
              "                        <td id=\"T_7ad4ce5a_a537_11ea_84ab_0242ac1c0002row3_col2\" class=\"data row3 col2\" >30,352</td>\n",
              "            </tr>\n",
              "            <tr>\n",
              "                        <th id=\"T_7ad4ce5a_a537_11ea_84ab_0242ac1c0002level0_row4\" class=\"row_heading level0 row4\" >4</th>\n",
              "                        <td id=\"T_7ad4ce5a_a537_11ea_84ab_0242ac1c0002row4_col0\" class=\"data row4 col0\" >ridge</td>\n",
              "                        <td id=\"T_7ad4ce5a_a537_11ea_84ab_0242ac1c0002row4_col1\" class=\"data row4 col1\" >113,787</td>\n",
              "                        <td id=\"T_7ad4ce5a_a537_11ea_84ab_0242ac1c0002row4_col2\" class=\"data row4 col2\" >9,183</td>\n",
              "            </tr>\n",
              "            <tr>\n",
              "                        <th id=\"T_7ad4ce5a_a537_11ea_84ab_0242ac1c0002level0_row5\" class=\"row_heading level0 row5\" >5</th>\n",
              "                        <td id=\"T_7ad4ce5a_a537_11ea_84ab_0242ac1c0002row5_col0\" class=\"data row5 col0\" >svr</td>\n",
              "                        <td id=\"T_7ad4ce5a_a537_11ea_84ab_0242ac1c0002row5_col1\" class=\"data row5 col1\" >376,296</td>\n",
              "                        <td id=\"T_7ad4ce5a_a537_11ea_84ab_0242ac1c0002row5_col2\" class=\"data row5 col2\" >21,587</td>\n",
              "            </tr>\n",
              "    </tbody></table>"
            ],
            "text/plain": [
              "<pandas.io.formats.style.Styler at 0x7f18d163f240>"
            ]
          },
          "metadata": {
            "tags": []
          }
        }
      ]
    },
    {
      "cell_type": "code",
      "metadata": {
        "id": "pLJq7BUskz92",
        "colab_type": "code",
        "outputId": "303fa272-f888-4671-ee12-33a33057f3e8",
        "colab": {
          "base_uri": "https://localhost:8080/",
          "height": 298
        }
      },
      "source": [
        "df_scores.set_index('Model')['RMSE'].plot.line('ro')"
      ],
      "execution_count": 32,
      "outputs": [
        {
          "output_type": "execute_result",
          "data": {
            "text/plain": [
              "<matplotlib.axes._subplots.AxesSubplot at 0x7f18d1f74860>"
            ]
          },
          "metadata": {
            "tags": []
          },
          "execution_count": 32
        },
        {
          "output_type": "display_data",
          "data": {
            "image/png": "[encoded data removed]",
            "text/plain": [
              "<Figure size 432x288 with 1 Axes>"
            ]
          },
          "metadata": {
            "tags": [],
            "image/png": {
              "width": 394,
              "height": 264
            }
          }
        }
      ]
    },
    {
      "cell_type": "markdown",
      "metadata": {
        "id": "8RuLXvkNbxtO",
        "colab_type": "text"
      },
      "source": [
        "# Fit the models"
      ]
    },
    {
      "cell_type": "code",
      "metadata": {
        "id": "lVt2Hr9TkWWh",
        "colab_type": "code",
        "outputId": "87316e37-6fcf-44a7-8020-49913e948db0",
        "colab": {
          "base_uri": "https://localhost:8080/",
          "height": 674
        }
      },
      "source": [
        "%%time\n",
        "ridge.fit(df_Xtrain,ser_ytrain);"
      ],
      "execution_count": 33,
      "outputs": [
        {
          "output_type": "stream",
          "text": [
            "/usr/local/lib/python3.6/dist-packages/sklearn/linear_model/_ridge.py:148: LinAlgWarning: Ill-conditioned matrix (rcond=1.89066e-20): result may not be accurate.\n",
            "  overwrite_a=True).T\n",
            "/usr/local/lib/python3.6/dist-packages/sklearn/linear_model/_ridge.py:148: LinAlgWarning: Ill-conditioned matrix (rcond=2.48891e-20): result may not be accurate.\n",
            "  overwrite_a=True).T\n",
            "/usr/local/lib/python3.6/dist-packages/sklearn/linear_model/_ridge.py:148: LinAlgWarning: Ill-conditioned matrix (rcond=2.88429e-20): result may not be accurate.\n",
            "  overwrite_a=True).T\n",
            "/usr/local/lib/python3.6/dist-packages/sklearn/linear_model/_ridge.py:148: LinAlgWarning: Ill-conditioned matrix (rcond=1.60558e-20): result may not be accurate.\n",
            "  overwrite_a=True).T\n",
            "/usr/local/lib/python3.6/dist-packages/sklearn/linear_model/_ridge.py:148: LinAlgWarning: Ill-conditioned matrix (rcond=2.27632e-20): result may not be accurate.\n",
            "  overwrite_a=True).T\n",
            "/usr/local/lib/python3.6/dist-packages/sklearn/linear_model/_ridge.py:148: LinAlgWarning: Ill-conditioned matrix (rcond=2.99312e-18): result may not be accurate.\n",
            "  overwrite_a=True).T\n",
            "/usr/local/lib/python3.6/dist-packages/sklearn/linear_model/_ridge.py:148: LinAlgWarning: Ill-conditioned matrix (rcond=3.03729e-18): result may not be accurate.\n",
            "  overwrite_a=True).T\n",
            "/usr/local/lib/python3.6/dist-packages/sklearn/linear_model/_ridge.py:148: LinAlgWarning: Ill-conditioned matrix (rcond=2.77144e-18): result may not be accurate.\n",
            "  overwrite_a=True).T\n",
            "/usr/local/lib/python3.6/dist-packages/sklearn/linear_model/_ridge.py:148: LinAlgWarning: Ill-conditioned matrix (rcond=3.05922e-18): result may not be accurate.\n",
            "  overwrite_a=True).T\n",
            "/usr/local/lib/python3.6/dist-packages/sklearn/linear_model/_ridge.py:148: LinAlgWarning: Ill-conditioned matrix (rcond=2.59453e-18): result may not be accurate.\n",
            "  overwrite_a=True).T\n"
          ],
          "name": "stderr"
        },
        {
          "output_type": "stream",
          "text": [
            "CPU times: user 6.54 s, sys: 3.62 s, total: 10.2 s\n",
            "Wall time: 5.22 s\n"
          ],
          "name": "stdout"
        },
        {
          "output_type": "stream",
          "text": [
            "/usr/local/lib/python3.6/dist-packages/sklearn/linear_model/_ridge.py:148: LinAlgWarning: Ill-conditioned matrix (rcond=2.28452e-20): result may not be accurate.\n",
            "  overwrite_a=True).T\n"
          ],
          "name": "stderr"
        },
        {
          "output_type": "execute_result",
          "data": {
            "text/plain": [
              "Pipeline(memory=None,\n",
              "         steps=[('robustscaler',\n",
              "                 RobustScaler(copy=True, quantile_range=(25.0, 75.0),\n",
              "                              with_centering=True, with_scaling=True)),\n",
              "                ('ridgecv',\n",
              "                 RidgeCV(alphas=array([1.0e-15, 1.0e-10, 1.0e-08, 9.0e-04, 7.0e-04, 5.0e-04, 3.0e-04,\n",
              "       1.0e-04, 1.0e-03, 5.0e-02, 1.0e-02, 1.0e-01, 3.0e-01, 1.0e+00,\n",
              "       3.0e+00, 5.0e+00, 1.0e+01, 1.5e+01, 1.8e+01, 2.0e+01, 3.0e+01,\n",
              "       5.0e+01, 7.5e+01, 1.0e+02]),\n",
              "                         cv=KFold(n_splits=5, random_state=100, shuffle=True),\n",
              "                         fit_intercept=True, gcv_mode=None, normalize=False,\n",
              "                         scoring=None, store_cv_values=False))],\n",
              "         verbose=False)"
            ]
          },
          "metadata": {
            "tags": []
          },
          "execution_count": 33
        }
      ]
    },
    {
      "cell_type": "code",
      "metadata": {
        "id": "iuzY3YOykqzS",
        "colab_type": "code",
        "outputId": "8874c6ad-f14c-4664-e7b0-f7a698fef2fb",
        "colab": {
          "base_uri": "https://localhost:8080/",
          "height": 212
        }
      },
      "source": [
        "%%time\n",
        "svr.fit(df_Xtrain,ser_ytrain);"
      ],
      "execution_count": 34,
      "outputs": [
        {
          "output_type": "stream",
          "text": [
            "CPU times: user 1min 5s, sys: 112 ms, total: 1min 5s\n",
            "Wall time: 1min 5s\n"
          ],
          "name": "stdout"
        },
        {
          "output_type": "execute_result",
          "data": {
            "text/plain": [
              "Pipeline(memory=None,\n",
              "         steps=[('robustscaler',\n",
              "                 RobustScaler(copy=True, quantile_range=(25.0, 75.0),\n",
              "                              with_centering=True, with_scaling=True)),\n",
              "                ('svr',\n",
              "                 SVR(C=20, cache_size=200, coef0=0.0, degree=3, epsilon=0.008,\n",
              "                     gamma=0.0003, kernel='rbf', max_iter=-1, shrinking=True,\n",
              "                     tol=0.001, verbose=False))],\n",
              "         verbose=False)"
            ]
          },
          "metadata": {
            "tags": []
          },
          "execution_count": 34
        }
      ]
    },
    {
      "cell_type": "code",
      "metadata": {
        "id": "OdFg_0N_5gkM",
        "colab_type": "code",
        "outputId": "6f5312f4-f791-4711-92a9-e6244f0c2ee2",
        "colab": {
          "base_uri": "https://localhost:8080/",
          "height": 176
        }
      },
      "source": [
        "%%time\n",
        "rf.fit(df_Xtrain,ser_ytrain);"
      ],
      "execution_count": 35,
      "outputs": [
        {
          "output_type": "stream",
          "text": [
            "CPU times: user 9min 37s, sys: 389 ms, total: 9min 37s\n",
            "Wall time: 4min 53s\n"
          ],
          "name": "stdout"
        },
        {
          "output_type": "execute_result",
          "data": {
            "text/plain": [
              "RandomForestRegressor(bootstrap=True, ccp_alpha=0.0, criterion='mse',\n",
              "                      max_depth=15, max_features=None, max_leaf_nodes=None,\n",
              "                      max_samples=None, min_impurity_decrease=0.0,\n",
              "                      min_impurity_split=None, min_samples_leaf=5,\n",
              "                      min_samples_split=5, min_weight_fraction_leaf=0.0,\n",
              "                      n_estimators=1200, n_jobs=-1, oob_score=True,\n",
              "                      random_state=100, verbose=0, warm_start=False)"
            ]
          },
          "metadata": {
            "tags": []
          },
          "execution_count": 35
        }
      ]
    },
    {
      "cell_type": "code",
      "metadata": {
        "id": "6D8vMkHK5gqs",
        "colab_type": "code",
        "outputId": "2857125d-1d21-4a6b-cc91-272c03c9e570",
        "colab": {
          "base_uri": "https://localhost:8080/",
          "height": 285
        }
      },
      "source": [
        "%%time\n",
        "gbr.fit(df_Xtrain,ser_ytrain);"
      ],
      "execution_count": 36,
      "outputs": [
        {
          "output_type": "stream",
          "text": [
            "/usr/local/lib/python3.6/dist-packages/sklearn/ensemble/_gb.py:1342: FutureWarning: The parameter 'presort' is deprecated and has no effect. It will be removed in v0.24. You can suppress this warning by not passing any value to the 'presort' parameter. We also recommend using HistGradientBoosting models instead.\n",
            "  FutureWarning)\n"
          ],
          "name": "stderr"
        },
        {
          "output_type": "stream",
          "text": [
            "CPU times: user 1min 39s, sys: 162 ms, total: 1min 40s\n",
            "Wall time: 1min 40s\n"
          ],
          "name": "stdout"
        },
        {
          "output_type": "execute_result",
          "data": {
            "text/plain": [
              "GradientBoostingRegressor(alpha=0.5, ccp_alpha=0.0, criterion='friedman_mse',\n",
              "                          init=None, learning_rate=0.030436296469075703,\n",
              "                          loss='quantile', max_depth=None,\n",
              "                          max_features=0.8340107985008011, max_leaf_nodes=None,\n",
              "                          min_impurity_decrease=0.0, min_impurity_split=None,\n",
              "                          min_samples_leaf=3, min_samples_split=2,\n",
              "                          min_weight_fraction_leaf=0.0, n_estimators=245,\n",
              "                          n_iter_no_change=None, presort='auto', random_state=3,\n",
              "                          subsample=0.5131351702909814, tol=0.0001,\n",
              "                          validation_fraction=0.1, verbose=0, warm_start=False)"
            ]
          },
          "metadata": {
            "tags": []
          },
          "execution_count": 36
        }
      ]
    },
    {
      "cell_type": "code",
      "metadata": {
        "id": "gDzn0He95gn8",
        "colab_type": "code",
        "outputId": "f50090b4-14c4-4b8f-99c5-2da3eb907a19",
        "colab": {
          "base_uri": "https://localhost:8080/",
          "height": 176
        }
      },
      "source": [
        "%%time\n",
        "xgboost.fit(df_Xtrain,ser_ytrain);"
      ],
      "execution_count": 37,
      "outputs": [
        {
          "output_type": "stream",
          "text": [
            "CPU times: user 1min 18s, sys: 85.3 ms, total: 1min 18s\n",
            "Wall time: 39.5 s\n"
          ],
          "name": "stdout"
        },
        {
          "output_type": "execute_result",
          "data": {
            "text/plain": [
              "XGBRegressor(base_score=0.5, booster='gbtree', colsample_bylevel=1,\n",
              "             colsample_bynode=1, colsample_bytree=1, gamma=0,\n",
              "             importance_type='gain', learning_rate=0.1, max_delta_step=0,\n",
              "             max_depth=3, min_child_weight=1, missing=None, n_estimators=1200,\n",
              "             n_jobs=-1, nthread=None, objective='reg:squarederror',\n",
              "             random_state=100, reg_alpha=1, reg_lambda=5, scale_pos_weight=1,\n",
              "             seed=None, silent=None, subsample=1, verbosity=1)"
            ]
          },
          "metadata": {
            "tags": []
          },
          "execution_count": 37
        }
      ]
    },
    {
      "cell_type": "code",
      "metadata": {
        "id": "8mROH50q5iOK",
        "colab_type": "code",
        "outputId": "716bf071-cb0c-4767-8acc-5c6dd86cd5c1",
        "colab": {
          "base_uri": "https://localhost:8080/",
          "height": 158
        }
      },
      "source": [
        "%%time\n",
        "lightgbm.fit(df_Xtrain,ser_ytrain);"
      ],
      "execution_count": 38,
      "outputs": [
        {
          "output_type": "stream",
          "text": [
            "CPU times: user 1.97 s, sys: 43.9 ms, total: 2.01 s\n",
            "Wall time: 1.06 s\n"
          ],
          "name": "stdout"
        },
        {
          "output_type": "execute_result",
          "data": {
            "text/plain": [
              "LGBMRegressor(boosting_type='gbdt', class_weight=None, colsample_bytree=1.0,\n",
              "              importance_type='split', learning_rate=0.1, max_depth=-1,\n",
              "              min_child_samples=20, min_child_weight=0.001, min_split_gain=0.0,\n",
              "              n_estimators=100, n_jobs=-1, num_leaves=31, objective=None,\n",
              "              random_state=100, reg_alpha=0.0, reg_lambda=0.0, silent=True,\n",
              "              subsample=1.0, subsample_for_bin=200000, subsample_freq=0)"
            ]
          },
          "metadata": {
            "tags": []
          },
          "execution_count": 38
        }
      ]
    },
    {
      "cell_type": "code",
      "metadata": {
        "id": "G7HqA9Ai5iWW",
        "colab_type": "code",
        "outputId": "3669946d-8cb4-4cb4-b8b6-4f16a5cbbf54",
        "colab": {
          "base_uri": "https://localhost:8080/",
          "height": 1000
        }
      },
      "source": [
        "%%time\n",
        "stack.fit(np.array(df_Xtrain),np.array(ser_ytrain));"
      ],
      "execution_count": 39,
      "outputs": [
        {
          "output_type": "stream",
          "text": [
            "/usr/local/lib/python3.6/dist-packages/sklearn/linear_model/_ridge.py:148: LinAlgWarning: Ill-conditioned matrix (rcond=2.89386e-20): result may not be accurate.\n",
            "  overwrite_a=True).T\n",
            "/usr/local/lib/python3.6/dist-packages/sklearn/linear_model/_ridge.py:148: LinAlgWarning: Ill-conditioned matrix (rcond=2.99424e-20): result may not be accurate.\n",
            "  overwrite_a=True).T\n",
            "/usr/local/lib/python3.6/dist-packages/sklearn/linear_model/_ridge.py:148: LinAlgWarning: Ill-conditioned matrix (rcond=3.26972e-20): result may not be accurate.\n",
            "  overwrite_a=True).T\n",
            "/usr/local/lib/python3.6/dist-packages/sklearn/linear_model/_ridge.py:148: LinAlgWarning: Ill-conditioned matrix (rcond=3.47562e-20): result may not be accurate.\n",
            "  overwrite_a=True).T\n",
            "/usr/local/lib/python3.6/dist-packages/sklearn/linear_model/_ridge.py:148: LinAlgWarning: Ill-conditioned matrix (rcond=3.53537e-20): result may not be accurate.\n",
            "  overwrite_a=True).T\n",
            "/usr/local/lib/python3.6/dist-packages/sklearn/linear_model/_ridge.py:148: LinAlgWarning: Ill-conditioned matrix (rcond=3.17269e-18): result may not be accurate.\n",
            "  overwrite_a=True).T\n",
            "/usr/local/lib/python3.6/dist-packages/sklearn/linear_model/_ridge.py:148: LinAlgWarning: Ill-conditioned matrix (rcond=3.42543e-18): result may not be accurate.\n",
            "  overwrite_a=True).T\n",
            "/usr/local/lib/python3.6/dist-packages/sklearn/linear_model/_ridge.py:148: LinAlgWarning: Ill-conditioned matrix (rcond=3.74255e-18): result may not be accurate.\n",
            "  overwrite_a=True).T\n",
            "/usr/local/lib/python3.6/dist-packages/sklearn/linear_model/_ridge.py:148: LinAlgWarning: Ill-conditioned matrix (rcond=3.64386e-18): result may not be accurate.\n",
            "  overwrite_a=True).T\n",
            "/usr/local/lib/python3.6/dist-packages/sklearn/linear_model/_ridge.py:148: LinAlgWarning: Ill-conditioned matrix (rcond=3.57361e-18): result may not be accurate.\n",
            "  overwrite_a=True).T\n",
            "/usr/local/lib/python3.6/dist-packages/sklearn/linear_model/_ridge.py:148: LinAlgWarning: Ill-conditioned matrix (rcond=3.25131e-20): result may not be accurate.\n",
            "  overwrite_a=True).T\n",
            "/usr/local/lib/python3.6/dist-packages/sklearn/linear_model/_ridge.py:148: LinAlgWarning: Ill-conditioned matrix (rcond=3.66568e-20): result may not be accurate.\n",
            "  overwrite_a=True).T\n",
            "/usr/local/lib/python3.6/dist-packages/sklearn/linear_model/_ridge.py:148: LinAlgWarning: Ill-conditioned matrix (rcond=2.71592e-20): result may not be accurate.\n",
            "  overwrite_a=True).T\n",
            "/usr/local/lib/python3.6/dist-packages/sklearn/linear_model/_ridge.py:148: LinAlgWarning: Ill-conditioned matrix (rcond=3.44451e-20): result may not be accurate.\n",
            "  overwrite_a=True).T\n",
            "/usr/local/lib/python3.6/dist-packages/sklearn/linear_model/_ridge.py:148: LinAlgWarning: Ill-conditioned matrix (rcond=3.05901e-20): result may not be accurate.\n",
            "  overwrite_a=True).T\n",
            "/usr/local/lib/python3.6/dist-packages/sklearn/linear_model/_ridge.py:148: LinAlgWarning: Ill-conditioned matrix (rcond=3.75152e-18): result may not be accurate.\n",
            "  overwrite_a=True).T\n",
            "/usr/local/lib/python3.6/dist-packages/sklearn/linear_model/_ridge.py:148: LinAlgWarning: Ill-conditioned matrix (rcond=3.66624e-18): result may not be accurate.\n",
            "  overwrite_a=True).T\n",
            "/usr/local/lib/python3.6/dist-packages/sklearn/linear_model/_ridge.py:148: LinAlgWarning: Ill-conditioned matrix (rcond=3.2892e-18): result may not be accurate.\n",
            "  overwrite_a=True).T\n",
            "/usr/local/lib/python3.6/dist-packages/sklearn/linear_model/_ridge.py:148: LinAlgWarning: Ill-conditioned matrix (rcond=3.52575e-18): result may not be accurate.\n",
            "  overwrite_a=True).T\n",
            "/usr/local/lib/python3.6/dist-packages/sklearn/linear_model/_ridge.py:148: LinAlgWarning: Ill-conditioned matrix (rcond=3.41797e-18): result may not be accurate.\n",
            "  overwrite_a=True).T\n",
            "/usr/local/lib/python3.6/dist-packages/sklearn/linear_model/_ridge.py:148: LinAlgWarning: Ill-conditioned matrix (rcond=1.44946e-20): result may not be accurate.\n",
            "  overwrite_a=True).T\n",
            "/usr/local/lib/python3.6/dist-packages/sklearn/linear_model/_ridge.py:148: LinAlgWarning: Ill-conditioned matrix (rcond=2.50544e-20): result may not be accurate.\n",
            "  overwrite_a=True).T\n",
            "/usr/local/lib/python3.6/dist-packages/sklearn/linear_model/_ridge.py:148: LinAlgWarning: Ill-conditioned matrix (rcond=2.68083e-20): result may not be accurate.\n",
            "  overwrite_a=True).T\n",
            "/usr/local/lib/python3.6/dist-packages/sklearn/linear_model/_ridge.py:148: LinAlgWarning: Ill-conditioned matrix (rcond=2.70872e-20): result may not be accurate.\n",
            "  overwrite_a=True).T\n",
            "/usr/local/lib/python3.6/dist-packages/sklearn/linear_model/_ridge.py:148: LinAlgWarning: Ill-conditioned matrix (rcond=3.65802e-20): result may not be accurate.\n",
            "  overwrite_a=True).T\n",
            "/usr/local/lib/python3.6/dist-packages/sklearn/linear_model/_ridge.py:148: LinAlgWarning: Ill-conditioned matrix (rcond=3.47673e-20): result may not be accurate.\n",
            "  overwrite_a=True).T\n",
            "/usr/local/lib/python3.6/dist-packages/sklearn/linear_model/_ridge.py:148: LinAlgWarning: Ill-conditioned matrix (rcond=3.98146e-18): result may not be accurate.\n",
            "  overwrite_a=True).T\n",
            "/usr/local/lib/python3.6/dist-packages/sklearn/linear_model/_ridge.py:148: LinAlgWarning: Ill-conditioned matrix (rcond=3.26465e-18): result may not be accurate.\n",
            "  overwrite_a=True).T\n",
            "/usr/local/lib/python3.6/dist-packages/sklearn/linear_model/_ridge.py:148: LinAlgWarning: Ill-conditioned matrix (rcond=3.69906e-18): result may not be accurate.\n",
            "  overwrite_a=True).T\n",
            "/usr/local/lib/python3.6/dist-packages/sklearn/linear_model/_ridge.py:148: LinAlgWarning: Ill-conditioned matrix (rcond=3.73394e-18): result may not be accurate.\n",
            "  overwrite_a=True).T\n",
            "/usr/local/lib/python3.6/dist-packages/sklearn/linear_model/_ridge.py:148: LinAlgWarning: Ill-conditioned matrix (rcond=3.36564e-18): result may not be accurate.\n",
            "  overwrite_a=True).T\n",
            "/usr/local/lib/python3.6/dist-packages/sklearn/linear_model/_ridge.py:148: LinAlgWarning: Ill-conditioned matrix (rcond=2.57537e-20): result may not be accurate.\n",
            "  overwrite_a=True).T\n",
            "/usr/local/lib/python3.6/dist-packages/sklearn/linear_model/_ridge.py:148: LinAlgWarning: Ill-conditioned matrix (rcond=3.65435e-20): result may not be accurate.\n",
            "  overwrite_a=True).T\n",
            "/usr/local/lib/python3.6/dist-packages/sklearn/linear_model/_ridge.py:148: LinAlgWarning: Ill-conditioned matrix (rcond=3.52143e-20): result may not be accurate.\n",
            "  overwrite_a=True).T\n",
            "/usr/local/lib/python3.6/dist-packages/sklearn/linear_model/_ridge.py:148: LinAlgWarning: Ill-conditioned matrix (rcond=3.84502e-20): result may not be accurate.\n",
            "  overwrite_a=True).T\n",
            "/usr/local/lib/python3.6/dist-packages/sklearn/linear_model/_ridge.py:148: LinAlgWarning: Ill-conditioned matrix (rcond=2.90227e-20): result may not be accurate.\n",
            "  overwrite_a=True).T\n",
            "/usr/local/lib/python3.6/dist-packages/sklearn/linear_model/_ridge.py:148: LinAlgWarning: Ill-conditioned matrix (rcond=3.53918e-18): result may not be accurate.\n",
            "  overwrite_a=True).T\n",
            "/usr/local/lib/python3.6/dist-packages/sklearn/linear_model/_ridge.py:148: LinAlgWarning: Ill-conditioned matrix (rcond=3.67312e-18): result may not be accurate.\n",
            "  overwrite_a=True).T\n",
            "/usr/local/lib/python3.6/dist-packages/sklearn/linear_model/_ridge.py:148: LinAlgWarning: Ill-conditioned matrix (rcond=3.3899e-18): result may not be accurate.\n",
            "  overwrite_a=True).T\n",
            "/usr/local/lib/python3.6/dist-packages/sklearn/linear_model/_ridge.py:148: LinAlgWarning: Ill-conditioned matrix (rcond=3.96392e-18): result may not be accurate.\n",
            "  overwrite_a=True).T\n",
            "/usr/local/lib/python3.6/dist-packages/sklearn/linear_model/_ridge.py:148: LinAlgWarning: Ill-conditioned matrix (rcond=3.88695e-18): result may not be accurate.\n",
            "  overwrite_a=True).T\n",
            "/usr/local/lib/python3.6/dist-packages/sklearn/linear_model/_ridge.py:148: LinAlgWarning: Ill-conditioned matrix (rcond=3.41278e-20): result may not be accurate.\n",
            "  overwrite_a=True).T\n",
            "/usr/local/lib/python3.6/dist-packages/sklearn/linear_model/_ridge.py:148: LinAlgWarning: Ill-conditioned matrix (rcond=3.70536e-20): result may not be accurate.\n",
            "  overwrite_a=True).T\n",
            "/usr/local/lib/python3.6/dist-packages/sklearn/linear_model/_ridge.py:148: LinAlgWarning: Ill-conditioned matrix (rcond=3.60579e-20): result may not be accurate.\n",
            "  overwrite_a=True).T\n",
            "/usr/local/lib/python3.6/dist-packages/sklearn/linear_model/_ridge.py:148: LinAlgWarning: Ill-conditioned matrix (rcond=3.62543e-20): result may not be accurate.\n",
            "  overwrite_a=True).T\n",
            "/usr/local/lib/python3.6/dist-packages/sklearn/linear_model/_ridge.py:148: LinAlgWarning: Ill-conditioned matrix (rcond=2.79026e-20): result may not be accurate.\n",
            "  overwrite_a=True).T\n",
            "/usr/local/lib/python3.6/dist-packages/sklearn/linear_model/_ridge.py:148: LinAlgWarning: Ill-conditioned matrix (rcond=3.72363e-18): result may not be accurate.\n",
            "  overwrite_a=True).T\n",
            "/usr/local/lib/python3.6/dist-packages/sklearn/linear_model/_ridge.py:148: LinAlgWarning: Ill-conditioned matrix (rcond=3.38506e-18): result may not be accurate.\n",
            "  overwrite_a=True).T\n",
            "/usr/local/lib/python3.6/dist-packages/sklearn/linear_model/_ridge.py:148: LinAlgWarning: Ill-conditioned matrix (rcond=3.29233e-18): result may not be accurate.\n",
            "  overwrite_a=True).T\n",
            "/usr/local/lib/python3.6/dist-packages/sklearn/linear_model/_ridge.py:148: LinAlgWarning: Ill-conditioned matrix (rcond=3.69348e-18): result may not be accurate.\n",
            "  overwrite_a=True).T\n",
            "/usr/local/lib/python3.6/dist-packages/sklearn/linear_model/_ridge.py:148: LinAlgWarning: Ill-conditioned matrix (rcond=3.21864e-18): result may not be accurate.\n",
            "  overwrite_a=True).T\n",
            "/usr/local/lib/python3.6/dist-packages/sklearn/ensemble/_gb.py:1342: FutureWarning: The parameter 'presort' is deprecated and has no effect. It will be removed in v0.24. You can suppress this warning by not passing any value to the 'presort' parameter. We also recommend using HistGradientBoosting models instead.\n",
            "  FutureWarning)\n",
            "/usr/local/lib/python3.6/dist-packages/sklearn/ensemble/_gb.py:1342: FutureWarning: The parameter 'presort' is deprecated and has no effect. It will be removed in v0.24. You can suppress this warning by not passing any value to the 'presort' parameter. We also recommend using HistGradientBoosting models instead.\n",
            "  FutureWarning)\n",
            "/usr/local/lib/python3.6/dist-packages/sklearn/ensemble/_gb.py:1342: FutureWarning: The parameter 'presort' is deprecated and has no effect. It will be removed in v0.24. You can suppress this warning by not passing any value to the 'presort' parameter. We also recommend using HistGradientBoosting models instead.\n",
            "  FutureWarning)\n",
            "/usr/local/lib/python3.6/dist-packages/sklearn/ensemble/_gb.py:1342: FutureWarning: The parameter 'presort' is deprecated and has no effect. It will be removed in v0.24. You can suppress this warning by not passing any value to the 'presort' parameter. We also recommend using HistGradientBoosting models instead.\n",
            "  FutureWarning)\n",
            "/usr/local/lib/python3.6/dist-packages/sklearn/ensemble/_gb.py:1342: FutureWarning: The parameter 'presort' is deprecated and has no effect. It will be removed in v0.24. You can suppress this warning by not passing any value to the 'presort' parameter. We also recommend using HistGradientBoosting models instead.\n",
            "  FutureWarning)\n",
            "/usr/local/lib/python3.6/dist-packages/sklearn/linear_model/_ridge.py:148: LinAlgWarning: Ill-conditioned matrix (rcond=1.89066e-20): result may not be accurate.\n",
            "  overwrite_a=True).T\n",
            "/usr/local/lib/python3.6/dist-packages/sklearn/linear_model/_ridge.py:148: LinAlgWarning: Ill-conditioned matrix (rcond=2.48891e-20): result may not be accurate.\n",
            "  overwrite_a=True).T\n",
            "/usr/local/lib/python3.6/dist-packages/sklearn/linear_model/_ridge.py:148: LinAlgWarning: Ill-conditioned matrix (rcond=2.88429e-20): result may not be accurate.\n",
            "  overwrite_a=True).T\n",
            "/usr/local/lib/python3.6/dist-packages/sklearn/linear_model/_ridge.py:148: LinAlgWarning: Ill-conditioned matrix (rcond=1.60558e-20): result may not be accurate.\n",
            "  overwrite_a=True).T\n",
            "/usr/local/lib/python3.6/dist-packages/sklearn/linear_model/_ridge.py:148: LinAlgWarning: Ill-conditioned matrix (rcond=2.27632e-20): result may not be accurate.\n",
            "  overwrite_a=True).T\n",
            "/usr/local/lib/python3.6/dist-packages/sklearn/linear_model/_ridge.py:148: LinAlgWarning: Ill-conditioned matrix (rcond=2.99312e-18): result may not be accurate.\n",
            "  overwrite_a=True).T\n",
            "/usr/local/lib/python3.6/dist-packages/sklearn/linear_model/_ridge.py:148: LinAlgWarning: Ill-conditioned matrix (rcond=3.03729e-18): result may not be accurate.\n",
            "  overwrite_a=True).T\n",
            "/usr/local/lib/python3.6/dist-packages/sklearn/linear_model/_ridge.py:148: LinAlgWarning: Ill-conditioned matrix (rcond=2.77144e-18): result may not be accurate.\n",
            "  overwrite_a=True).T\n",
            "/usr/local/lib/python3.6/dist-packages/sklearn/linear_model/_ridge.py:148: LinAlgWarning: Ill-conditioned matrix (rcond=3.05922e-18): result may not be accurate.\n",
            "  overwrite_a=True).T\n",
            "/usr/local/lib/python3.6/dist-packages/sklearn/linear_model/_ridge.py:148: LinAlgWarning: Ill-conditioned matrix (rcond=2.59453e-18): result may not be accurate.\n",
            "  overwrite_a=True).T\n",
            "/usr/local/lib/python3.6/dist-packages/sklearn/linear_model/_ridge.py:148: LinAlgWarning: Ill-conditioned matrix (rcond=2.28452e-20): result may not be accurate.\n",
            "  overwrite_a=True).T\n",
            "/usr/local/lib/python3.6/dist-packages/sklearn/ensemble/_gb.py:1342: FutureWarning: The parameter 'presort' is deprecated and has no effect. It will be removed in v0.24. You can suppress this warning by not passing any value to the 'presort' parameter. We also recommend using HistGradientBoosting models instead.\n",
            "  FutureWarning)\n"
          ],
          "name": "stderr"
        },
        {
          "output_type": "stream",
          "text": [
            "CPU times: user 1h 8min 27s, sys: 19.8 s, total: 1h 8min 47s\n",
            "Wall time: 41min 19s\n"
          ],
          "name": "stdout"
        },
        {
          "output_type": "execute_result",
          "data": {
            "text/plain": [
              "StackingCVRegressor(cv=5,\n",
              "                    meta_regressor=XGBRegressor(base_score=0.5,\n",
              "                                                booster='gbtree',\n",
              "                                                colsample_bylevel=1,\n",
              "                                                colsample_bynode=1,\n",
              "                                                colsample_bytree=1, gamma=0,\n",
              "                                                importance_type='gain',\n",
              "                                                learning_rate=0.1,\n",
              "                                                max_delta_step=0, max_depth=3,\n",
              "                                                min_child_weight=1,\n",
              "                                                missing=None, n_estimators=1200,\n",
              "                                                n_jobs=-1, nthread=None,\n",
              "                                                objective='reg:squarederror',\n",
              "                                                random_state=100, reg_alpha=...\n",
              "                                                      max_depth=15,\n",
              "                                                      max_features=None,\n",
              "                                                      max_leaf_nodes=None,\n",
              "                                                      max_samples=None,\n",
              "                                                      min_impurity_decrease=0.0,\n",
              "                                                      min_impurity_split=None,\n",
              "                                                      min_samples_leaf=5,\n",
              "                                                      min_samples_split=5,\n",
              "                                                      min_weight_fraction_leaf=0.0,\n",
              "                                                      n_estimators=1200,\n",
              "                                                      n_jobs=-1, oob_score=True,\n",
              "                                                      random_state=100,\n",
              "                                                      verbose=0,\n",
              "                                                      warm_start=False)),\n",
              "                    shuffle=True, store_train_meta_features=False,\n",
              "                    use_features_in_secondary=True)"
            ]
          },
          "metadata": {
            "tags": []
          },
          "execution_count": 39
        }
      ]
    },
    {
      "cell_type": "code",
      "metadata": {
        "id": "EQ0jldZjWtVR",
        "colab_type": "code",
        "outputId": "2b19c7c2-7ef5-461d-c1bb-a30754993da8",
        "colab": {
          "base_uri": "https://localhost:8080/",
          "height": 52
        }
      },
      "source": [
        "%%time\n",
        "y_preds_stack = stack.predict(np.array(df_Xtrain))"
      ],
      "execution_count": 40,
      "outputs": [
        {
          "output_type": "stream",
          "text": [
            "CPU times: user 57.6 s, sys: 193 ms, total: 57.8 s\n",
            "Wall time: 55 s\n"
          ],
          "name": "stdout"
        }
      ]
    },
    {
      "cell_type": "code",
      "metadata": {
        "id": "6MUlrmBZW28A",
        "colab_type": "code",
        "colab": {}
      },
      "source": [
        "def rmse(y, y_pred):\n",
        "    return np.sqrt(mean_squared_error(y, y_pred))"
      ],
      "execution_count": 0,
      "outputs": []
    },
    {
      "cell_type": "code",
      "metadata": {
        "id": "YUSwLGrMXNcs",
        "colab_type": "code",
        "outputId": "c10b993d-5b63-4d5f-a972-e9b731de61c0",
        "colab": {
          "base_uri": "https://localhost:8080/",
          "height": 34
        }
      },
      "source": [
        "rmse_stack = rmse(np.array(ser_ytrain), y_preds_stack)\n",
        "rmse_stack"
      ],
      "execution_count": 42,
      "outputs": [
        {
          "output_type": "execute_result",
          "data": {
            "text/plain": [
              "2179.751916650483"
            ]
          },
          "metadata": {
            "tags": []
          },
          "execution_count": 42
        }
      ]
    },
    {
      "cell_type": "code",
      "metadata": {
        "id": "JuLgDqrxXffX",
        "colab_type": "code",
        "outputId": "685d6f7c-0446-4a1c-8138-4fec92c275ca",
        "colab": {
          "base_uri": "https://localhost:8080/",
          "height": 257
        }
      },
      "source": [
        "df_scores.loc[len(df_scores)] = ['stack',rmse_stack,0]\n",
        "df_scores = df_scores.drop_duplicates()\n",
        "\n",
        "df_scores"
      ],
      "execution_count": 43,
      "outputs": [
        {
          "output_type": "execute_result",
          "data": {
            "text/html": [
              "<div>\n",
              "<style scoped>\n",
              "    .dataframe tbody tr th:only-of-type {\n",
              "        vertical-align: middle;\n",
              "    }\n",
              "\n",
              "    .dataframe tbody tr th {\n",
              "        vertical-align: top;\n",
              "    }\n",
              "\n",
              "    .dataframe thead th {\n",
              "        text-align: right;\n",
              "    }\n",
              "</style>\n",
              "<table border=\"1\" class=\"dataframe\">\n",
              "  <thead>\n",
              "    <tr style=\"text-align: right;\">\n",
              "      <th></th>\n",
              "      <th>Model</th>\n",
              "      <th>RMSE</th>\n",
              "      <th>rmse_std</th>\n",
              "    </tr>\n",
              "  </thead>\n",
              "  <tbody>\n",
              "    <tr>\n",
              "      <th>0</th>\n",
              "      <td>xgboost</td>\n",
              "      <td>12472.660384</td>\n",
              "      <td>15897.311422</td>\n",
              "    </tr>\n",
              "    <tr>\n",
              "      <th>1</th>\n",
              "      <td>rf</td>\n",
              "      <td>20498.398459</td>\n",
              "      <td>21701.317863</td>\n",
              "    </tr>\n",
              "    <tr>\n",
              "      <th>2</th>\n",
              "      <td>lightgbm</td>\n",
              "      <td>38184.637408</td>\n",
              "      <td>18944.952525</td>\n",
              "    </tr>\n",
              "    <tr>\n",
              "      <th>3</th>\n",
              "      <td>gbr</td>\n",
              "      <td>52399.615964</td>\n",
              "      <td>30351.941714</td>\n",
              "    </tr>\n",
              "    <tr>\n",
              "      <th>4</th>\n",
              "      <td>ridge</td>\n",
              "      <td>113786.703957</td>\n",
              "      <td>9183.497711</td>\n",
              "    </tr>\n",
              "    <tr>\n",
              "      <th>5</th>\n",
              "      <td>svr</td>\n",
              "      <td>376295.885473</td>\n",
              "      <td>21587.107753</td>\n",
              "    </tr>\n",
              "    <tr>\n",
              "      <th>6</th>\n",
              "      <td>stack</td>\n",
              "      <td>2179.751917</td>\n",
              "      <td>0.000000</td>\n",
              "    </tr>\n",
              "  </tbody>\n",
              "</table>\n",
              "</div>"
            ],
            "text/plain": [
              "      Model           RMSE      rmse_std\n",
              "0   xgboost   12472.660384  15897.311422\n",
              "1        rf   20498.398459  21701.317863\n",
              "2  lightgbm   38184.637408  18944.952525\n",
              "3       gbr   52399.615964  30351.941714\n",
              "4     ridge  113786.703957   9183.497711\n",
              "5       svr  376295.885473  21587.107753\n",
              "6     stack    2179.751917      0.000000"
            ]
          },
          "metadata": {
            "tags": []
          },
          "execution_count": 43
        }
      ]
    },
    {
      "cell_type": "markdown",
      "metadata": {
        "id": "pNu7y-Z45iTd",
        "colab_type": "text"
      },
      "source": [
        "## Blend models and get predictions"
      ]
    },
    {
      "cell_type": "code",
      "metadata": {
        "id": "s50lgwhUSmYG",
        "colab_type": "code",
        "outputId": "36081c2e-4234-4498-be57-a52839360360",
        "colab": {
          "base_uri": "https://localhost:8080/",
          "height": 257
        }
      },
      "source": [
        "df_scores.sort_values('RMSE').round(0)"
      ],
      "execution_count": 44,
      "outputs": [
        {
          "output_type": "execute_result",
          "data": {
            "text/html": [
              "<div>\n",
              "<style scoped>\n",
              "    .dataframe tbody tr th:only-of-type {\n",
              "        vertical-align: middle;\n",
              "    }\n",
              "\n",
              "    .dataframe tbody tr th {\n",
              "        vertical-align: top;\n",
              "    }\n",
              "\n",
              "    .dataframe thead th {\n",
              "        text-align: right;\n",
              "    }\n",
              "</style>\n",
              "<table border=\"1\" class=\"dataframe\">\n",
              "  <thead>\n",
              "    <tr style=\"text-align: right;\">\n",
              "      <th></th>\n",
              "      <th>Model</th>\n",
              "      <th>RMSE</th>\n",
              "      <th>rmse_std</th>\n",
              "    </tr>\n",
              "  </thead>\n",
              "  <tbody>\n",
              "    <tr>\n",
              "      <th>6</th>\n",
              "      <td>stack</td>\n",
              "      <td>2180.0</td>\n",
              "      <td>0.0</td>\n",
              "    </tr>\n",
              "    <tr>\n",
              "      <th>0</th>\n",
              "      <td>xgboost</td>\n",
              "      <td>12473.0</td>\n",
              "      <td>15897.0</td>\n",
              "    </tr>\n",
              "    <tr>\n",
              "      <th>1</th>\n",
              "      <td>rf</td>\n",
              "      <td>20498.0</td>\n",
              "      <td>21701.0</td>\n",
              "    </tr>\n",
              "    <tr>\n",
              "      <th>2</th>\n",
              "      <td>lightgbm</td>\n",
              "      <td>38185.0</td>\n",
              "      <td>18945.0</td>\n",
              "    </tr>\n",
              "    <tr>\n",
              "      <th>3</th>\n",
              "      <td>gbr</td>\n",
              "      <td>52400.0</td>\n",
              "      <td>30352.0</td>\n",
              "    </tr>\n",
              "    <tr>\n",
              "      <th>4</th>\n",
              "      <td>ridge</td>\n",
              "      <td>113787.0</td>\n",
              "      <td>9183.0</td>\n",
              "    </tr>\n",
              "    <tr>\n",
              "      <th>5</th>\n",
              "      <td>svr</td>\n",
              "      <td>376296.0</td>\n",
              "      <td>21587.0</td>\n",
              "    </tr>\n",
              "  </tbody>\n",
              "</table>\n",
              "</div>"
            ],
            "text/plain": [
              "      Model      RMSE  rmse_std\n",
              "6     stack    2180.0       0.0\n",
              "0   xgboost   12473.0   15897.0\n",
              "1        rf   20498.0   21701.0\n",
              "2  lightgbm   38185.0   18945.0\n",
              "3       gbr   52400.0   30352.0\n",
              "4     ridge  113787.0    9183.0\n",
              "5       svr  376296.0   21587.0"
            ]
          },
          "metadata": {
            "tags": []
          },
          "execution_count": 44
        }
      ]
    },
    {
      "cell_type": "code",
      "metadata": {
        "id": "ib7dYdcbUevG",
        "colab_type": "code",
        "outputId": "a7f26a34-cd5c-4f5f-e080-6fafb432ba13",
        "colab": {
          "base_uri": "https://localhost:8080/",
          "height": 227
        }
      },
      "source": [
        "x = df_scores.query(\"\"\"\n",
        "Model in ['rf', 'xgboost', 'lightgbm', 'gbr', 'ridge', 'svr','stack']\n",
        "\"\"\")\n",
        "\n",
        "x = x.sort_values('RMSE')\n",
        "x"
      ],
      "execution_count": 45,
      "outputs": [
        {
          "output_type": "execute_result",
          "data": {
            "text/html": [
              "<div>\n",
              "<style scoped>\n",
              "    .dataframe tbody tr th:only-of-type {\n",
              "        vertical-align: middle;\n",
              "    }\n",
              "\n",
              "    .dataframe tbody tr th {\n",
              "        vertical-align: top;\n",
              "    }\n",
              "\n",
              "    .dataframe thead th {\n",
              "        text-align: right;\n",
              "    }\n",
              "</style>\n",
              "<table border=\"1\" class=\"dataframe\">\n",
              "  <thead>\n",
              "    <tr style=\"text-align: right;\">\n",
              "      <th></th>\n",
              "      <th>Model</th>\n",
              "      <th>RMSE</th>\n",
              "      <th>rmse_std</th>\n",
              "    </tr>\n",
              "  </thead>\n",
              "  <tbody>\n",
              "    <tr>\n",
              "      <th>0</th>\n",
              "      <td>xgboost</td>\n",
              "      <td>12472.660384</td>\n",
              "      <td>15897.311422</td>\n",
              "    </tr>\n",
              "    <tr>\n",
              "      <th>1</th>\n",
              "      <td>rf</td>\n",
              "      <td>20498.398459</td>\n",
              "      <td>21701.317863</td>\n",
              "    </tr>\n",
              "    <tr>\n",
              "      <th>2</th>\n",
              "      <td>lightgbm</td>\n",
              "      <td>38184.637408</td>\n",
              "      <td>18944.952525</td>\n",
              "    </tr>\n",
              "    <tr>\n",
              "      <th>3</th>\n",
              "      <td>gbr</td>\n",
              "      <td>52399.615964</td>\n",
              "      <td>30351.941714</td>\n",
              "    </tr>\n",
              "    <tr>\n",
              "      <th>4</th>\n",
              "      <td>ridge</td>\n",
              "      <td>113786.703957</td>\n",
              "      <td>9183.497711</td>\n",
              "    </tr>\n",
              "    <tr>\n",
              "      <th>5</th>\n",
              "      <td>svr</td>\n",
              "      <td>376295.885473</td>\n",
              "      <td>21587.107753</td>\n",
              "    </tr>\n",
              "  </tbody>\n",
              "</table>\n",
              "</div>"
            ],
            "text/plain": [
              "      Model           RMSE      rmse_std\n",
              "0   xgboost   12472.660384  15897.311422\n",
              "1        rf   20498.398459  21701.317863\n",
              "2  lightgbm   38184.637408  18944.952525\n",
              "3       gbr   52399.615964  30351.941714\n",
              "4     ridge  113786.703957   9183.497711\n",
              "5       svr  376295.885473  21587.107753"
            ]
          },
          "metadata": {
            "tags": []
          },
          "execution_count": 45
        }
      ]
    },
    {
      "cell_type": "code",
      "metadata": {
        "id": "A5eSumAYURKo",
        "colab_type": "code",
        "outputId": "e849056d-0c0f-44fc-cc21-69557900ee16",
        "colab": {
          "base_uri": "https://localhost:8080/",
          "height": 227
        }
      },
      "source": [
        "x['normalized'] = x['RMSE'].div(x['RMSE'].sum()).to_numpy()[::-1].round(2)\n",
        "x"
      ],
      "execution_count": 46,
      "outputs": [
        {
          "output_type": "execute_result",
          "data": {
            "text/html": [
              "<div>\n",
              "<style scoped>\n",
              "    .dataframe tbody tr th:only-of-type {\n",
              "        vertical-align: middle;\n",
              "    }\n",
              "\n",
              "    .dataframe tbody tr th {\n",
              "        vertical-align: top;\n",
              "    }\n",
              "\n",
              "    .dataframe thead th {\n",
              "        text-align: right;\n",
              "    }\n",
              "</style>\n",
              "<table border=\"1\" class=\"dataframe\">\n",
              "  <thead>\n",
              "    <tr style=\"text-align: right;\">\n",
              "      <th></th>\n",
              "      <th>Model</th>\n",
              "      <th>RMSE</th>\n",
              "      <th>rmse_std</th>\n",
              "      <th>normalized</th>\n",
              "    </tr>\n",
              "  </thead>\n",
              "  <tbody>\n",
              "    <tr>\n",
              "      <th>0</th>\n",
              "      <td>xgboost</td>\n",
              "      <td>12472.660384</td>\n",
              "      <td>15897.311422</td>\n",
              "      <td>0.61</td>\n",
              "    </tr>\n",
              "    <tr>\n",
              "      <th>1</th>\n",
              "      <td>rf</td>\n",
              "      <td>20498.398459</td>\n",
              "      <td>21701.317863</td>\n",
              "      <td>0.19</td>\n",
              "    </tr>\n",
              "    <tr>\n",
              "      <th>2</th>\n",
              "      <td>lightgbm</td>\n",
              "      <td>38184.637408</td>\n",
              "      <td>18944.952525</td>\n",
              "      <td>0.09</td>\n",
              "    </tr>\n",
              "    <tr>\n",
              "      <th>3</th>\n",
              "      <td>gbr</td>\n",
              "      <td>52399.615964</td>\n",
              "      <td>30351.941714</td>\n",
              "      <td>0.06</td>\n",
              "    </tr>\n",
              "    <tr>\n",
              "      <th>4</th>\n",
              "      <td>ridge</td>\n",
              "      <td>113786.703957</td>\n",
              "      <td>9183.497711</td>\n",
              "      <td>0.03</td>\n",
              "    </tr>\n",
              "    <tr>\n",
              "      <th>5</th>\n",
              "      <td>svr</td>\n",
              "      <td>376295.885473</td>\n",
              "      <td>21587.107753</td>\n",
              "      <td>0.02</td>\n",
              "    </tr>\n",
              "  </tbody>\n",
              "</table>\n",
              "</div>"
            ],
            "text/plain": [
              "      Model           RMSE      rmse_std  normalized\n",
              "0   xgboost   12472.660384  15897.311422        0.61\n",
              "1        rf   20498.398459  21701.317863        0.19\n",
              "2  lightgbm   38184.637408  18944.952525        0.09\n",
              "3       gbr   52399.615964  30351.941714        0.06\n",
              "4     ridge  113786.703957   9183.497711        0.03\n",
              "5       svr  376295.885473  21587.107753        0.02"
            ]
          },
          "metadata": {
            "tags": []
          },
          "execution_count": 46
        }
      ]
    },
    {
      "cell_type": "code",
      "metadata": {
        "id": "Xxyyq_stWP3N",
        "colab_type": "code",
        "outputId": "c940d98a-3541-4a85-b219-0711c0a54284",
        "colab": {
          "base_uri": "https://localhost:8080/",
          "height": 34
        }
      },
      "source": [
        "x['normalized'].sum()"
      ],
      "execution_count": 47,
      "outputs": [
        {
          "output_type": "execute_result",
          "data": {
            "text/plain": [
              "1.0"
            ]
          },
          "metadata": {
            "tags": []
          },
          "execution_count": 47
        }
      ]
    },
    {
      "cell_type": "code",
      "metadata": {
        "id": "-aCl-fR1OYsV",
        "colab_type": "code",
        "colab": {}
      },
      "source": [
        "def blended_predictions(X):\n",
        "    return ( stack.predict(np.array(X)) * 0.57 + \n",
        "            rf.predict(X) * 0.17 +\n",
        "            xgboost.predict(X) * 0.1 +\n",
        "            lightgbm.predict(X) * 0.08 + \n",
        "            gbr.predict(X) * 0.04 +\n",
        "            ridge.predict(X) * 0.03 +\n",
        "            svr.predict(X) * 0.01\n",
        "            )"
      ],
      "execution_count": 0,
      "outputs": []
    },
    {
      "cell_type": "code",
      "metadata": {
        "id": "8Lx_vl_1O9Hp",
        "colab_type": "code",
        "colab": {}
      },
      "source": [
        "rmse_blended = rmse(np.array(ser_ytrain), blended_predictions(df_Xtrain))"
      ],
      "execution_count": 0,
      "outputs": []
    },
    {
      "cell_type": "code",
      "metadata": {
        "id": "ojpaGsWkP9k0",
        "colab_type": "code",
        "outputId": "3f554c3c-67e2-4e71-9f08-9ea65ee92de6",
        "colab": {
          "base_uri": "https://localhost:8080/",
          "height": 257
        }
      },
      "source": [
        "df_scores"
      ],
      "execution_count": 50,
      "outputs": [
        {
          "output_type": "execute_result",
          "data": {
            "text/html": [
              "<div>\n",
              "<style scoped>\n",
              "    .dataframe tbody tr th:only-of-type {\n",
              "        vertical-align: middle;\n",
              "    }\n",
              "\n",
              "    .dataframe tbody tr th {\n",
              "        vertical-align: top;\n",
              "    }\n",
              "\n",
              "    .dataframe thead th {\n",
              "        text-align: right;\n",
              "    }\n",
              "</style>\n",
              "<table border=\"1\" class=\"dataframe\">\n",
              "  <thead>\n",
              "    <tr style=\"text-align: right;\">\n",
              "      <th></th>\n",
              "      <th>Model</th>\n",
              "      <th>RMSE</th>\n",
              "      <th>rmse_std</th>\n",
              "    </tr>\n",
              "  </thead>\n",
              "  <tbody>\n",
              "    <tr>\n",
              "      <th>0</th>\n",
              "      <td>xgboost</td>\n",
              "      <td>12472.660384</td>\n",
              "      <td>15897.311422</td>\n",
              "    </tr>\n",
              "    <tr>\n",
              "      <th>1</th>\n",
              "      <td>rf</td>\n",
              "      <td>20498.398459</td>\n",
              "      <td>21701.317863</td>\n",
              "    </tr>\n",
              "    <tr>\n",
              "      <th>2</th>\n",
              "      <td>lightgbm</td>\n",
              "      <td>38184.637408</td>\n",
              "      <td>18944.952525</td>\n",
              "    </tr>\n",
              "    <tr>\n",
              "      <th>3</th>\n",
              "      <td>gbr</td>\n",
              "      <td>52399.615964</td>\n",
              "      <td>30351.941714</td>\n",
              "    </tr>\n",
              "    <tr>\n",
              "      <th>4</th>\n",
              "      <td>ridge</td>\n",
              "      <td>113786.703957</td>\n",
              "      <td>9183.497711</td>\n",
              "    </tr>\n",
              "    <tr>\n",
              "      <th>5</th>\n",
              "      <td>svr</td>\n",
              "      <td>376295.885473</td>\n",
              "      <td>21587.107753</td>\n",
              "    </tr>\n",
              "    <tr>\n",
              "      <th>6</th>\n",
              "      <td>stack</td>\n",
              "      <td>2179.751917</td>\n",
              "      <td>0.000000</td>\n",
              "    </tr>\n",
              "  </tbody>\n",
              "</table>\n",
              "</div>"
            ],
            "text/plain": [
              "      Model           RMSE      rmse_std\n",
              "0   xgboost   12472.660384  15897.311422\n",
              "1        rf   20498.398459  21701.317863\n",
              "2  lightgbm   38184.637408  18944.952525\n",
              "3       gbr   52399.615964  30351.941714\n",
              "4     ridge  113786.703957   9183.497711\n",
              "5       svr  376295.885473  21587.107753\n",
              "6     stack    2179.751917      0.000000"
            ]
          },
          "metadata": {
            "tags": []
          },
          "execution_count": 50
        }
      ]
    },
    {
      "cell_type": "code",
      "metadata": {
        "id": "zO8ldFe_RISy",
        "colab_type": "code",
        "outputId": "17e6fdd8-98ab-4492-f488-bf598ef119df",
        "colab": {
          "base_uri": "https://localhost:8080/",
          "height": 177
        }
      },
      "source": [
        "df_scores.loc[len(df_scores)] = ['blended',rmse_blended,0]\n",
        "df_scores = df_scores.drop_duplicates().sort_values('RMSE')\n",
        "\n",
        "df_scores.style.format({'RMSE':\"{:,.0f}\"})"
      ],
      "execution_count": 51,
      "outputs": [
        {
          "output_type": "execute_result",
          "data": {
            "text/html": [
              "<style  type=\"text/css\" >\n",
              "</style><table id=\"T_d024deca_a53e_11ea_84ab_0242ac1c0002\" ><thead>    <tr>        <th class=\"blank level0\" ></th>        <th class=\"col_heading level0 col0\" >Model</th>        <th class=\"col_heading level0 col1\" >RMSE</th>        <th class=\"col_heading level0 col2\" >rmse_std</th>    </tr></thead><tbody>\n",
              "                <tr>\n",
              "                        <th id=\"T_d024deca_a53e_11ea_84ab_0242ac1c0002level0_row0\" class=\"row_heading level0 row0\" >6</th>\n",
              "                        <td id=\"T_d024deca_a53e_11ea_84ab_0242ac1c0002row0_col0\" class=\"data row0 col0\" >stack</td>\n",
              "                        <td id=\"T_d024deca_a53e_11ea_84ab_0242ac1c0002row0_col1\" class=\"data row0 col1\" >2,180</td>\n",
              "                        <td id=\"T_d024deca_a53e_11ea_84ab_0242ac1c0002row0_col2\" class=\"data row0 col2\" >0.000000</td>\n",
              "            </tr>\n",
              "            <tr>\n",
              "                        <th id=\"T_d024deca_a53e_11ea_84ab_0242ac1c0002level0_row1\" class=\"row_heading level0 row1\" >7</th>\n",
              "                        <td id=\"T_d024deca_a53e_11ea_84ab_0242ac1c0002row1_col0\" class=\"data row1 col0\" >blended</td>\n",
              "                        <td id=\"T_d024deca_a53e_11ea_84ab_0242ac1c0002row1_col1\" class=\"data row1 col1\" >10,685</td>\n",
              "                        <td id=\"T_d024deca_a53e_11ea_84ab_0242ac1c0002row1_col2\" class=\"data row1 col2\" >0.000000</td>\n",
              "            </tr>\n",
              "            <tr>\n",
              "                        <th id=\"T_d024deca_a53e_11ea_84ab_0242ac1c0002level0_row2\" class=\"row_heading level0 row2\" >0</th>\n",
              "                        <td id=\"T_d024deca_a53e_11ea_84ab_0242ac1c0002row2_col0\" class=\"data row2 col0\" >xgboost</td>\n",
              "                        <td id=\"T_d024deca_a53e_11ea_84ab_0242ac1c0002row2_col1\" class=\"data row2 col1\" >12,473</td>\n",
              "                        <td id=\"T_d024deca_a53e_11ea_84ab_0242ac1c0002row2_col2\" class=\"data row2 col2\" >15897.311422</td>\n",
              "            </tr>\n",
              "            <tr>\n",
              "                        <th id=\"T_d024deca_a53e_11ea_84ab_0242ac1c0002level0_row3\" class=\"row_heading level0 row3\" >1</th>\n",
              "                        <td id=\"T_d024deca_a53e_11ea_84ab_0242ac1c0002row3_col0\" class=\"data row3 col0\" >rf</td>\n",
              "                        <td id=\"T_d024deca_a53e_11ea_84ab_0242ac1c0002row3_col1\" class=\"data row3 col1\" >20,498</td>\n",
              "                        <td id=\"T_d024deca_a53e_11ea_84ab_0242ac1c0002row3_col2\" class=\"data row3 col2\" >21701.317863</td>\n",
              "            </tr>\n",
              "            <tr>\n",
              "                        <th id=\"T_d024deca_a53e_11ea_84ab_0242ac1c0002level0_row4\" class=\"row_heading level0 row4\" >2</th>\n",
              "                        <td id=\"T_d024deca_a53e_11ea_84ab_0242ac1c0002row4_col0\" class=\"data row4 col0\" >lightgbm</td>\n",
              "                        <td id=\"T_d024deca_a53e_11ea_84ab_0242ac1c0002row4_col1\" class=\"data row4 col1\" >38,185</td>\n",
              "                        <td id=\"T_d024deca_a53e_11ea_84ab_0242ac1c0002row4_col2\" class=\"data row4 col2\" >18944.952525</td>\n",
              "            </tr>\n",
              "            <tr>\n",
              "                        <th id=\"T_d024deca_a53e_11ea_84ab_0242ac1c0002level0_row5\" class=\"row_heading level0 row5\" >3</th>\n",
              "                        <td id=\"T_d024deca_a53e_11ea_84ab_0242ac1c0002row5_col0\" class=\"data row5 col0\" >gbr</td>\n",
              "                        <td id=\"T_d024deca_a53e_11ea_84ab_0242ac1c0002row5_col1\" class=\"data row5 col1\" >52,400</td>\n",
              "                        <td id=\"T_d024deca_a53e_11ea_84ab_0242ac1c0002row5_col2\" class=\"data row5 col2\" >30351.941714</td>\n",
              "            </tr>\n",
              "            <tr>\n",
              "                        <th id=\"T_d024deca_a53e_11ea_84ab_0242ac1c0002level0_row6\" class=\"row_heading level0 row6\" >4</th>\n",
              "                        <td id=\"T_d024deca_a53e_11ea_84ab_0242ac1c0002row6_col0\" class=\"data row6 col0\" >ridge</td>\n",
              "                        <td id=\"T_d024deca_a53e_11ea_84ab_0242ac1c0002row6_col1\" class=\"data row6 col1\" >113,787</td>\n",
              "                        <td id=\"T_d024deca_a53e_11ea_84ab_0242ac1c0002row6_col2\" class=\"data row6 col2\" >9183.497711</td>\n",
              "            </tr>\n",
              "            <tr>\n",
              "                        <th id=\"T_d024deca_a53e_11ea_84ab_0242ac1c0002level0_row7\" class=\"row_heading level0 row7\" >5</th>\n",
              "                        <td id=\"T_d024deca_a53e_11ea_84ab_0242ac1c0002row7_col0\" class=\"data row7 col0\" >svr</td>\n",
              "                        <td id=\"T_d024deca_a53e_11ea_84ab_0242ac1c0002row7_col1\" class=\"data row7 col1\" >376,296</td>\n",
              "                        <td id=\"T_d024deca_a53e_11ea_84ab_0242ac1c0002row7_col2\" class=\"data row7 col2\" >21587.107753</td>\n",
              "            </tr>\n",
              "    </tbody></table>"
            ],
            "text/plain": [
              "<pandas.io.formats.style.Styler at 0x7f18d201e9e8>"
            ]
          },
          "metadata": {
            "tags": []
          },
          "execution_count": 51
        }
      ]
    },
    {
      "cell_type": "code",
      "metadata": {
        "id": "t4y3kumARcC1",
        "colab_type": "code",
        "outputId": "2359fb26-a092-4359-a4e0-e745756176b0",
        "colab": {
          "base_uri": "https://localhost:8080/",
          "height": 333
        }
      },
      "source": [
        "df_scores.set_index('Model')['RMSE'].plot.line('ro',rot=90)"
      ],
      "execution_count": 52,
      "outputs": [
        {
          "output_type": "execute_result",
          "data": {
            "text/plain": [
              "<matplotlib.axes._subplots.AxesSubplot at 0x7f18d16a9da0>"
            ]
          },
          "metadata": {
            "tags": []
          },
          "execution_count": 52
        },
        {
          "output_type": "display_data",
          "data": {
            "image/png": "[encoded data removed]",
            "text/plain": [
              "<Figure size 432x288 with 1 Axes>"
            ]
          },
          "metadata": {
            "tags": [],
            "image/png": {
              "width": 394,
              "height": 299
            }
          }
        }
      ]
    },
    {
      "cell_type": "code",
      "metadata": {
        "id": "rnc0OshHgyOH",
        "colab_type": "code",
        "colab": {}
      },
      "source": [
        "def adjustedR2(rsquared,nrows,kcols):\n",
        "    \"\"\"\n",
        "    Adjusted r-squared depends on number of rows and columns of Test data.\n",
        "\n",
        "    It reduces the value of original r-squared value.\n",
        "    \"\"\"\n",
        "    return rsquared- (kcols-1)/(nrows-kcols) * (1-rsquared)\n"
      ],
      "execution_count": 0,
      "outputs": []
    },
    {
      "cell_type": "code",
      "metadata": {
        "id": "YZpSmxHdSP-T",
        "colab_type": "code",
        "colab": {
          "base_uri": "https://localhost:8080/",
          "height": 34
        },
        "outputId": "fdd7422e-cbff-43c1-8e14-14966a3206fb"
      },
      "source": [
        "import sklearn \n",
        "\n",
        "r2 = sklearn.metrics.r2_score(ytrain, y_preds_stack)\n",
        "ar2 = adjustedR2(r2, df_Xtrain.shape[0], df_Xtrain.shape[1])\n",
        "print(round(ar2,4))"
      ],
      "execution_count": 58,
      "outputs": [
        {
          "output_type": "stream",
          "text": [
            "1.0\n"
          ],
          "name": "stdout"
        }
      ]
    },
    {
      "cell_type": "markdown",
      "metadata": {
        "id": "l96s4e0og1P0",
        "colab_type": "text"
      },
      "source": [
        "# Model Predictions on Test Data"
      ]
    },
    {
      "cell_type": "code",
      "metadata": {
        "id": "ByERFT4toxdn",
        "colab_type": "code",
        "colab": {}
      },
      "source": [
        "model_names = ['ridge','svr','rf','gbr','xgboost','lightgbm','stack']"
      ],
      "execution_count": 0,
      "outputs": []
    },
    {
      "cell_type": "code",
      "metadata": {
        "id": "IdS0oSjonqNH",
        "colab_type": "code",
        "colab": {}
      },
      "source": [
        "ypreds_ridge = ridge.predict(df_Xtrain)\n",
        "ypreds_svr = svr.predict(df_Xtrain)\n",
        "ypreds_rf = rf.predict(df_Xtrain)\n",
        "ypreds_gbr = gbr.predict(df_Xtrain)\n",
        "ypreds_xgboost = xgboost.predict(df_Xtrain)\n",
        "ypreds_lightgbm = lightgbm.predict(df_Xtrain)\n",
        "\n",
        "ypreds_stack = stack.predict(np.array(df_Xtrain))"
      ],
      "execution_count": 0,
      "outputs": []
    },
    {
      "cell_type": "code",
      "metadata": {
        "id": "wFqS_ApGo8eb",
        "colab_type": "code",
        "colab": {}
      },
      "source": [
        "ypreds = [ypreds_ridge, ypreds_svr,ypreds_rf,ypreds_gbr,ypreds_xgboost,\n",
        "          ypreds_lightgbm,ypreds_stack]"
      ],
      "execution_count": 0,
      "outputs": []
    },
    {
      "cell_type": "code",
      "metadata": {
        "id": "FM0x-uCvoess",
        "colab_type": "code",
        "colab": {}
      },
      "source": [
        "rmses = [rmse(np.array(ser_ytrain), yp) for yp in ypreds]"
      ],
      "execution_count": 0,
      "outputs": []
    },
    {
      "cell_type": "code",
      "metadata": {
        "id": "zY6cKoHMpGo7",
        "colab_type": "code",
        "colab": {}
      },
      "source": [
        "r2s = [sklearn.metrics.r2_score(ytrain, yp) for yp in ypreds]\n",
        "ar2s = [adjustedR2(r2, df_Xtrain.shape[0], df_Xtrain.shape[1]) for r2 in r2s]"
      ],
      "execution_count": 0,
      "outputs": []
    },
    {
      "cell_type": "code",
      "metadata": {
        "id": "XFcHZYnipXfZ",
        "colab_type": "code",
        "colab": {
          "base_uri": "https://localhost:8080/",
          "height": 257
        },
        "outputId": "342f7c17-8e15-43d5-e689-bf59889175c1"
      },
      "source": [
        "df_eval = pd.DataFrame({'Model': model_names,\n",
        "                        'RMSE': rmses,\n",
        "                        'R-squared': r2s,\n",
        "                        'Adjusted-Rsquared': ar2s})\n",
        "\n",
        "\n",
        "df_eval = df_eval.sort_values('RMSE',ascending=True)\n",
        "df_eval"
      ],
      "execution_count": 69,
      "outputs": [
        {
          "output_type": "execute_result",
          "data": {
            "text/html": [
              "<div>\n",
              "<style scoped>\n",
              "    .dataframe tbody tr th:only-of-type {\n",
              "        vertical-align: middle;\n",
              "    }\n",
              "\n",
              "    .dataframe tbody tr th {\n",
              "        vertical-align: top;\n",
              "    }\n",
              "\n",
              "    .dataframe thead th {\n",
              "        text-align: right;\n",
              "    }\n",
              "</style>\n",
              "<table border=\"1\" class=\"dataframe\">\n",
              "  <thead>\n",
              "    <tr style=\"text-align: right;\">\n",
              "      <th></th>\n",
              "      <th>Model</th>\n",
              "      <th>RMSE</th>\n",
              "      <th>R-squared</th>\n",
              "      <th>Adjusted-Rsquared</th>\n",
              "    </tr>\n",
              "  </thead>\n",
              "  <tbody>\n",
              "    <tr>\n",
              "      <th>4</th>\n",
              "      <td>xgboost</td>\n",
              "      <td>1146.657634</td>\n",
              "      <td>0.999990</td>\n",
              "      <td>0.999990</td>\n",
              "    </tr>\n",
              "    <tr>\n",
              "      <th>6</th>\n",
              "      <td>stack</td>\n",
              "      <td>2179.751917</td>\n",
              "      <td>0.999965</td>\n",
              "      <td>0.999965</td>\n",
              "    </tr>\n",
              "    <tr>\n",
              "      <th>2</th>\n",
              "      <td>rf</td>\n",
              "      <td>22153.542982</td>\n",
              "      <td>0.996359</td>\n",
              "      <td>0.996337</td>\n",
              "    </tr>\n",
              "    <tr>\n",
              "      <th>5</th>\n",
              "      <td>lightgbm</td>\n",
              "      <td>33185.064959</td>\n",
              "      <td>0.991829</td>\n",
              "      <td>0.991782</td>\n",
              "    </tr>\n",
              "    <tr>\n",
              "      <th>3</th>\n",
              "      <td>gbr</td>\n",
              "      <td>54736.661071</td>\n",
              "      <td>0.977770</td>\n",
              "      <td>0.977640</td>\n",
              "    </tr>\n",
              "    <tr>\n",
              "      <th>0</th>\n",
              "      <td>ridge</td>\n",
              "      <td>109147.983931</td>\n",
              "      <td>0.911607</td>\n",
              "      <td>0.911093</td>\n",
              "    </tr>\n",
              "    <tr>\n",
              "      <th>1</th>\n",
              "      <td>svr</td>\n",
              "      <td>376704.377909</td>\n",
              "      <td>-0.052902</td>\n",
              "      <td>-0.059027</td>\n",
              "    </tr>\n",
              "  </tbody>\n",
              "</table>\n",
              "</div>"
            ],
            "text/plain": [
              "      Model           RMSE  R-squared  Adjusted-Rsquared\n",
              "4   xgboost    1146.657634   0.999990           0.999990\n",
              "6     stack    2179.751917   0.999965           0.999965\n",
              "2        rf   22153.542982   0.996359           0.996337\n",
              "5  lightgbm   33185.064959   0.991829           0.991782\n",
              "3       gbr   54736.661071   0.977770           0.977640\n",
              "0     ridge  109147.983931   0.911607           0.911093\n",
              "1       svr  376704.377909  -0.052902          -0.059027"
            ]
          },
          "metadata": {
            "tags": []
          },
          "execution_count": 69
        }
      ]
    },
    {
      "cell_type": "markdown",
      "metadata": {
        "id": "CmD13pCup-US",
        "colab_type": "text"
      },
      "source": [
        "# Time Taken"
      ]
    },
    {
      "cell_type": "code",
      "metadata": {
        "id": "o4xMxNCQp_m-",
        "colab_type": "code",
        "colab": {
          "base_uri": "https://localhost:8080/",
          "height": 34
        },
        "outputId": "6e1ac5b9-ee67-4def-cc32-b832f98b3523"
      },
      "source": [
        "time_taken = time.time() - time_start_notebook\n",
        "h,m = divmod(time_taken,60*60)\n",
        "print('Time taken to run whole notebook: {:.0f} hr '\\\n",
        "      '{:.0f} min {:.0f} secs'.format(h, *divmod(m,60)))"
      ],
      "execution_count": 70,
      "outputs": [
        {
          "output_type": "stream",
          "text": [
            "Time taken to run whole notebook: 1 hr 49 min 44 secs\n"
          ],
          "name": "stdout"
        }
      ]
    }
  ]
}