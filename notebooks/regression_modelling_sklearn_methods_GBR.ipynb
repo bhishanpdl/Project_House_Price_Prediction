{
 "cells": [
  {
   "cell_type": "markdown",
   "metadata": {
    "toc": "true"
   },
   "source": [
    "<h1>Table of Contents<span class=\"tocSkip\"></span></h1>\n",
    "<div class=\"toc\"><ul class=\"toc-item\"><li><span><a href=\"#Data-Description\" data-toc-modified-id=\"Data-Description-1\"><span class=\"toc-item-num\">1&nbsp;&nbsp;</span>Data Description</a></span></li><li><span><a href=\"#Imports\" data-toc-modified-id=\"Imports-2\"><span class=\"toc-item-num\">2&nbsp;&nbsp;</span>Imports</a></span></li><li><span><a href=\"#Load-the-data\" data-toc-modified-id=\"Load-the-data-3\"><span class=\"toc-item-num\">3&nbsp;&nbsp;</span>Load the data</a></span></li><li><span><a href=\"#Feature-Selection\" data-toc-modified-id=\"Feature-Selection-4\"><span class=\"toc-item-num\">4&nbsp;&nbsp;</span>Feature Selection</a></span></li><li><span><a href=\"#Train-test-split\" data-toc-modified-id=\"Train-test-split-5\"><span class=\"toc-item-num\">5&nbsp;&nbsp;</span>Train test split</a></span></li><li><span><a href=\"#Scaling-and-making-pipeline\" data-toc-modified-id=\"Scaling-and-making-pipeline-6\"><span class=\"toc-item-num\">6&nbsp;&nbsp;</span>Scaling and making pipeline</a></span></li><li><span><a href=\"#Log-transform-large-values\" data-toc-modified-id=\"Log-transform-large-values-7\"><span class=\"toc-item-num\">7&nbsp;&nbsp;</span>Log transform large values</a></span></li></ul></div>"
   ]
  },
  {
   "cell_type": "markdown",
   "metadata": {},
   "source": [
    "# Data Description\n",
    "\n",
    "This dataset contains house sale prices for King County,\n",
    "which includes Seattle.\n",
    "It includes homes sold between May 2014 and May 2015.\n",
    "\n",
    "- Dependent features: 1 (price)\n",
    "- Features : 19 home features\n",
    "- Id:  1 house ID\n",
    "\n",
    "Task: Try to estimate the price based on given features.\n",
    "\n",
    "![](../data/raw/data_description.png)"
   ]
  },
  {
   "cell_type": "markdown",
   "metadata": {},
   "source": [
    "# Imports"
   ]
  },
  {
   "cell_type": "code",
   "execution_count": 1,
   "metadata": {
    "ExecuteTime": {
     "end_time": "2019-09-27T03:11:16.785751Z",
     "start_time": "2019-09-27T03:11:16.767391Z"
    }
   },
   "outputs": [],
   "source": [
    "# my custom module\n",
    "import src\n",
    "import bhishan\n",
    "%load_ext autoreload\n",
    "%autoreload 2"
   ]
  },
  {
   "cell_type": "code",
   "execution_count": 30,
   "metadata": {
    "ExecuteTime": {
     "end_time": "2019-09-27T03:19:28.601537Z",
     "start_time": "2019-09-27T03:19:28.550954Z"
    }
   },
   "outputs": [
    {
     "name": "stdout",
     "output_type": "stream",
     "text": [
      "[('numpy', '1.16.4'), ('pandas', '0.25.0'), ('seaborn', '0.9.0'), ('matplotlib', '3.1.1')]\n"
     ]
    }
   ],
   "source": [
    "import numpy as np\n",
    "import pandas as pd\n",
    "import seaborn as sns\n",
    "sns.set(color_codes=True)\n",
    "\n",
    "import matplotlib\n",
    "import matplotlib.pyplot as plt\n",
    "%matplotlib inline\n",
    "\n",
    "import os\n",
    "import time\n",
    "\n",
    "# Jupyter notebook settings for pandas\n",
    "pd.set_option('display.max_columns', 200)\n",
    "# pd.set_option('display.float_format', '{:,.4f}'.format) # numbers sep by comma\n",
    "pd.set_option('display.max_rows', 100) # None for all the rows\n",
    "pd.set_option('display.max_colwidth', 200)\n",
    "\n",
    "print([(x.__name__,x.__version__) for x in [np, pd,sns,matplotlib]])"
   ]
  },
  {
   "cell_type": "code",
   "execution_count": 3,
   "metadata": {
    "ExecuteTime": {
     "end_time": "2019-09-27T03:11:17.504005Z",
     "start_time": "2019-09-27T03:11:17.469130Z"
    }
   },
   "outputs": [
    {
     "data": {
      "application/javascript": [
       "IPython.OutputArea.auto_scroll_threshold = 9999;"
      ],
      "text/plain": [
       "<IPython.core.display.Javascript object>"
      ]
     },
     "metadata": {},
     "output_type": "display_data"
    }
   ],
   "source": [
    "%%javascript\n",
    "IPython.OutputArea.auto_scroll_threshold = 9999;"
   ]
  },
  {
   "cell_type": "code",
   "execution_count": 66,
   "metadata": {
    "ExecuteTime": {
     "end_time": "2019-09-27T03:54:14.439010Z",
     "start_time": "2019-09-27T03:54:14.400582Z"
    }
   },
   "outputs": [
    {
     "name": "stdout",
     "output_type": "stream",
     "text": [
      "[('scipy', '1.3.0'), ('sklearn', '0.21.2')]\n"
     ]
    }
   ],
   "source": [
    "import scipy\n",
    "import sklearn\n",
    "\n",
    "print([(x.__name__,x.__version__) for x in [scipy, sklearn]])"
   ]
  },
  {
   "cell_type": "code",
   "execution_count": 65,
   "metadata": {
    "ExecuteTime": {
     "end_time": "2019-09-27T03:53:33.988897Z",
     "start_time": "2019-09-27T03:53:33.950016Z"
    }
   },
   "outputs": [],
   "source": [
    "# scale and split\n",
    "from sklearn.preprocessing import StandardScaler\n",
    "from sklearn.model_selection import train_test_split"
   ]
  },
  {
   "cell_type": "code",
   "execution_count": 5,
   "metadata": {
    "ExecuteTime": {
     "end_time": "2019-09-27T03:11:17.910144Z",
     "start_time": "2019-09-27T03:11:17.847797Z"
    }
   },
   "outputs": [],
   "source": [
    "# regressors\n",
    "from sklearn import linear_model\n",
    "from sklearn.linear_model import LinearRegression\n",
    "from sklearn.linear_model import Lasso\n",
    "from sklearn.linear_model import ElasticNet\n",
    "from sklearn.tree import DecisionTreeRegressor\n",
    "from sklearn.neighbors import KNeighborsRegressor\n",
    "from sklearn.ensemble import GradientBoostingRegressor"
   ]
  },
  {
   "cell_type": "code",
   "execution_count": 6,
   "metadata": {
    "ExecuteTime": {
     "end_time": "2019-09-27T03:11:17.937358Z",
     "start_time": "2019-09-27T03:11:17.911937Z"
    }
   },
   "outputs": [],
   "source": [
    "# regressor preprocessing\n",
    "from sklearn.preprocessing import PolynomialFeatures"
   ]
  },
  {
   "cell_type": "code",
   "execution_count": 7,
   "metadata": {
    "ExecuteTime": {
     "end_time": "2019-09-27T03:11:17.966033Z",
     "start_time": "2019-09-27T03:11:17.940334Z"
    }
   },
   "outputs": [],
   "source": [
    "# pipeline\n",
    "from sklearn.pipeline import Pipeline"
   ]
  },
  {
   "cell_type": "code",
   "execution_count": 8,
   "metadata": {
    "ExecuteTime": {
     "end_time": "2019-09-27T03:11:17.994512Z",
     "start_time": "2019-09-27T03:11:17.967423Z"
    }
   },
   "outputs": [],
   "source": [
    "# metrics\n",
    "from sklearn import metrics\n",
    "from sklearn.metrics import mean_squared_error"
   ]
  },
  {
   "cell_type": "code",
   "execution_count": 9,
   "metadata": {
    "ExecuteTime": {
     "end_time": "2019-09-27T03:11:18.026930Z",
     "start_time": "2019-09-27T03:11:17.996255Z"
    }
   },
   "outputs": [],
   "source": [
    "# cross validation\n",
    "from sklearn.model_selection import KFold\n",
    "from sklearn.model_selection import cross_val_score"
   ]
  },
  {
   "cell_type": "code",
   "execution_count": 10,
   "metadata": {
    "ExecuteTime": {
     "end_time": "2019-09-27T03:11:18.058937Z",
     "start_time": "2019-09-27T03:11:18.028559Z"
    }
   },
   "outputs": [],
   "source": [
    "df_eval = pd.DataFrame({'Model': [],\n",
    "                           'Details':[],\n",
    "                           'Root Mean Squared Error (RMSE)':[],\n",
    "                           'R-squared (training)':[],\n",
    "                           'Adjusted R-squared (training)':[],\n",
    "                           'R-squared (test)':[],\n",
    "                           'Adjusted R-squared (test)':[],\n",
    "                           '5-Fold Cross Validation':[]})"
   ]
  },
  {
   "cell_type": "markdown",
   "metadata": {},
   "source": [
    "# Load the data"
   ]
  },
  {
   "cell_type": "code",
   "execution_count": 11,
   "metadata": {
    "ExecuteTime": {
     "end_time": "2019-09-27T03:11:18.141558Z",
     "start_time": "2019-09-27T03:11:18.060653Z"
    }
   },
   "outputs": [
    {
     "data": {
      "text/html": [
       "<div>\n",
       "<style scoped>\n",
       "    .dataframe tbody tr th:only-of-type {\n",
       "        vertical-align: middle;\n",
       "    }\n",
       "\n",
       "    .dataframe tbody tr th {\n",
       "        vertical-align: top;\n",
       "    }\n",
       "\n",
       "    .dataframe thead th {\n",
       "        text-align: right;\n",
       "    }\n",
       "</style>\n",
       "<table border=\"1\" class=\"dataframe\">\n",
       "  <thead>\n",
       "    <tr style=\"text-align: right;\">\n",
       "      <th></th>\n",
       "      <th>id</th>\n",
       "      <th>date</th>\n",
       "      <th>price</th>\n",
       "      <th>bedrooms</th>\n",
       "      <th>bathrooms</th>\n",
       "      <th>sqft_living</th>\n",
       "      <th>sqft_lot</th>\n",
       "      <th>floors</th>\n",
       "      <th>waterfront</th>\n",
       "      <th>view</th>\n",
       "      <th>condition</th>\n",
       "      <th>grade</th>\n",
       "      <th>sqft_above</th>\n",
       "      <th>sqft_basement</th>\n",
       "      <th>yr_built</th>\n",
       "      <th>yr_renovated</th>\n",
       "      <th>zipcode</th>\n",
       "      <th>lat</th>\n",
       "      <th>long</th>\n",
       "      <th>sqft_living15</th>\n",
       "      <th>sqft_lot15</th>\n",
       "    </tr>\n",
       "  </thead>\n",
       "  <tbody>\n",
       "    <tr>\n",
       "      <th>0</th>\n",
       "      <td>7129300520</td>\n",
       "      <td>20141013T000000</td>\n",
       "      <td>221,900.000</td>\n",
       "      <td>3</td>\n",
       "      <td>1.000</td>\n",
       "      <td>1180</td>\n",
       "      <td>5650</td>\n",
       "      <td>1.000</td>\n",
       "      <td>0</td>\n",
       "      <td>0</td>\n",
       "      <td>3</td>\n",
       "      <td>7</td>\n",
       "      <td>1180</td>\n",
       "      <td>0</td>\n",
       "      <td>1955</td>\n",
       "      <td>0</td>\n",
       "      <td>98178</td>\n",
       "      <td>47.511</td>\n",
       "      <td>-122.257</td>\n",
       "      <td>1340</td>\n",
       "      <td>5650</td>\n",
       "    </tr>\n",
       "    <tr>\n",
       "      <th>1</th>\n",
       "      <td>6414100192</td>\n",
       "      <td>20141209T000000</td>\n",
       "      <td>538,000.000</td>\n",
       "      <td>3</td>\n",
       "      <td>2.250</td>\n",
       "      <td>2570</td>\n",
       "      <td>7242</td>\n",
       "      <td>2.000</td>\n",
       "      <td>0</td>\n",
       "      <td>0</td>\n",
       "      <td>3</td>\n",
       "      <td>7</td>\n",
       "      <td>2170</td>\n",
       "      <td>400</td>\n",
       "      <td>1951</td>\n",
       "      <td>1991</td>\n",
       "      <td>98125</td>\n",
       "      <td>47.721</td>\n",
       "      <td>-122.319</td>\n",
       "      <td>1690</td>\n",
       "      <td>7639</td>\n",
       "    </tr>\n",
       "    <tr>\n",
       "      <th>2</th>\n",
       "      <td>5631500400</td>\n",
       "      <td>20150225T000000</td>\n",
       "      <td>180,000.000</td>\n",
       "      <td>2</td>\n",
       "      <td>1.000</td>\n",
       "      <td>770</td>\n",
       "      <td>10000</td>\n",
       "      <td>1.000</td>\n",
       "      <td>0</td>\n",
       "      <td>0</td>\n",
       "      <td>3</td>\n",
       "      <td>6</td>\n",
       "      <td>770</td>\n",
       "      <td>0</td>\n",
       "      <td>1933</td>\n",
       "      <td>0</td>\n",
       "      <td>98028</td>\n",
       "      <td>47.738</td>\n",
       "      <td>-122.233</td>\n",
       "      <td>2720</td>\n",
       "      <td>8062</td>\n",
       "    </tr>\n",
       "    <tr>\n",
       "      <th>3</th>\n",
       "      <td>2487200875</td>\n",
       "      <td>20141209T000000</td>\n",
       "      <td>604,000.000</td>\n",
       "      <td>4</td>\n",
       "      <td>3.000</td>\n",
       "      <td>1960</td>\n",
       "      <td>5000</td>\n",
       "      <td>1.000</td>\n",
       "      <td>0</td>\n",
       "      <td>0</td>\n",
       "      <td>5</td>\n",
       "      <td>7</td>\n",
       "      <td>1050</td>\n",
       "      <td>910</td>\n",
       "      <td>1965</td>\n",
       "      <td>0</td>\n",
       "      <td>98136</td>\n",
       "      <td>47.521</td>\n",
       "      <td>-122.393</td>\n",
       "      <td>1360</td>\n",
       "      <td>5000</td>\n",
       "    </tr>\n",
       "    <tr>\n",
       "      <th>4</th>\n",
       "      <td>1954400510</td>\n",
       "      <td>20150218T000000</td>\n",
       "      <td>510,000.000</td>\n",
       "      <td>3</td>\n",
       "      <td>2.000</td>\n",
       "      <td>1680</td>\n",
       "      <td>8080</td>\n",
       "      <td>1.000</td>\n",
       "      <td>0</td>\n",
       "      <td>0</td>\n",
       "      <td>3</td>\n",
       "      <td>8</td>\n",
       "      <td>1680</td>\n",
       "      <td>0</td>\n",
       "      <td>1987</td>\n",
       "      <td>0</td>\n",
       "      <td>98074</td>\n",
       "      <td>47.617</td>\n",
       "      <td>-122.045</td>\n",
       "      <td>1800</td>\n",
       "      <td>7503</td>\n",
       "    </tr>\n",
       "  </tbody>\n",
       "</table>\n",
       "</div>"
      ],
      "text/plain": [
       "           id             date       price  bedrooms  bathrooms  sqft_living  \\\n",
       "0  7129300520  20141013T000000 221,900.000         3      1.000         1180   \n",
       "1  6414100192  20141209T000000 538,000.000         3      2.250         2570   \n",
       "2  5631500400  20150225T000000 180,000.000         2      1.000          770   \n",
       "3  2487200875  20141209T000000 604,000.000         4      3.000         1960   \n",
       "4  1954400510  20150218T000000 510,000.000         3      2.000         1680   \n",
       "\n",
       "   sqft_lot  floors  waterfront  view  condition  grade  sqft_above  \\\n",
       "0      5650   1.000           0     0          3      7        1180   \n",
       "1      7242   2.000           0     0          3      7        2170   \n",
       "2     10000   1.000           0     0          3      6         770   \n",
       "3      5000   1.000           0     0          5      7        1050   \n",
       "4      8080   1.000           0     0          3      8        1680   \n",
       "\n",
       "   sqft_basement  yr_built  yr_renovated  zipcode    lat     long  \\\n",
       "0              0      1955             0    98178 47.511 -122.257   \n",
       "1            400      1951          1991    98125 47.721 -122.319   \n",
       "2              0      1933             0    98028 47.738 -122.233   \n",
       "3            910      1965             0    98136 47.521 -122.393   \n",
       "4              0      1987             0    98074 47.617 -122.045   \n",
       "\n",
       "   sqft_living15  sqft_lot15  \n",
       "0           1340        5650  \n",
       "1           1690        7639  \n",
       "2           2720        8062  \n",
       "3           1360        5000  \n",
       "4           1800        7503  "
      ]
     },
     "execution_count": 11,
     "metadata": {},
     "output_type": "execute_result"
    }
   ],
   "source": [
    "# I will just take column names from this and will use cleaned data further.\n",
    "df_raw = pd.read_csv('../data/raw/kc_house_data.csv')\n",
    "df_raw.head()"
   ]
  },
  {
   "cell_type": "code",
   "execution_count": 35,
   "metadata": {
    "ExecuteTime": {
     "end_time": "2019-09-27T03:25:10.950033Z",
     "start_time": "2019-09-27T03:25:10.743654Z"
    }
   },
   "outputs": [
    {
     "name": "stdout",
     "output_type": "stream",
     "text": [
      "(21613, 85)\n"
     ]
    },
    {
     "data": {
      "text/html": [
       "<div>\n",
       "<style scoped>\n",
       "    .dataframe tbody tr th:only-of-type {\n",
       "        vertical-align: middle;\n",
       "    }\n",
       "\n",
       "    .dataframe tbody tr th {\n",
       "        vertical-align: top;\n",
       "    }\n",
       "\n",
       "    .dataframe thead th {\n",
       "        text-align: right;\n",
       "    }\n",
       "</style>\n",
       "<table border=\"1\" class=\"dataframe\">\n",
       "  <thead>\n",
       "    <tr style=\"text-align: right;\">\n",
       "      <th></th>\n",
       "      <th>id</th>\n",
       "      <th>date</th>\n",
       "      <th>price</th>\n",
       "      <th>bedrooms</th>\n",
       "      <th>bathrooms</th>\n",
       "      <th>sqft_living</th>\n",
       "      <th>sqft_lot</th>\n",
       "      <th>floors</th>\n",
       "      <th>waterfront</th>\n",
       "      <th>view</th>\n",
       "      <th>condition</th>\n",
       "      <th>grade</th>\n",
       "      <th>sqft_above</th>\n",
       "      <th>sqft_basement</th>\n",
       "      <th>yr_built</th>\n",
       "      <th>yr_renovated</th>\n",
       "      <th>zipcode</th>\n",
       "      <th>lat</th>\n",
       "      <th>long</th>\n",
       "      <th>sqft_living15</th>\n",
       "      <th>sqft_lot15</th>\n",
       "      <th>yr_sales</th>\n",
       "      <th>age</th>\n",
       "      <th>yr_renovated2</th>\n",
       "      <th>age_after_renovation</th>\n",
       "      <th>zipcode_top10</th>\n",
       "      <th>zipcode_houses</th>\n",
       "      <th>basement_bool</th>\n",
       "      <th>renovation_bool</th>\n",
       "      <th>age_cat</th>\n",
       "      <th>age_after_renovation_cat</th>\n",
       "      <th>waterfront_0</th>\n",
       "      <th>waterfront_1</th>\n",
       "      <th>view_0</th>\n",
       "      <th>view_1</th>\n",
       "      <th>view_2</th>\n",
       "      <th>view_3</th>\n",
       "      <th>view_4</th>\n",
       "      <th>condition_1</th>\n",
       "      <th>condition_2</th>\n",
       "      <th>condition_3</th>\n",
       "      <th>condition_4</th>\n",
       "      <th>condition_5</th>\n",
       "      <th>grade_1</th>\n",
       "      <th>grade_10</th>\n",
       "      <th>grade_11</th>\n",
       "      <th>grade_12</th>\n",
       "      <th>grade_13</th>\n",
       "      <th>grade_3</th>\n",
       "      <th>grade_4</th>\n",
       "      <th>grade_5</th>\n",
       "      <th>grade_6</th>\n",
       "      <th>grade_7</th>\n",
       "      <th>grade_8</th>\n",
       "      <th>grade_9</th>\n",
       "      <th>zipcode_top10_98004</th>\n",
       "      <th>zipcode_top10_98006</th>\n",
       "      <th>zipcode_top10_98033</th>\n",
       "      <th>zipcode_top10_98039</th>\n",
       "      <th>zipcode_top10_98040</th>\n",
       "      <th>zipcode_top10_98102</th>\n",
       "      <th>zipcode_top10_98105</th>\n",
       "      <th>zipcode_top10_98155</th>\n",
       "      <th>zipcode_top10_98177</th>\n",
       "      <th>zipcode_top10_others</th>\n",
       "      <th>age_cat_0</th>\n",
       "      <th>age_cat_1</th>\n",
       "      <th>age_cat_2</th>\n",
       "      <th>age_cat_3</th>\n",
       "      <th>age_cat_4</th>\n",
       "      <th>age_cat_5</th>\n",
       "      <th>age_cat_6</th>\n",
       "      <th>age_cat_7</th>\n",
       "      <th>age_cat_8</th>\n",
       "      <th>age_cat_9</th>\n",
       "      <th>age_after_renovation_cat_0</th>\n",
       "      <th>age_after_renovation_cat_1</th>\n",
       "      <th>age_after_renovation_cat_2</th>\n",
       "      <th>age_after_renovation_cat_3</th>\n",
       "      <th>age_after_renovation_cat_4</th>\n",
       "      <th>age_after_renovation_cat_5</th>\n",
       "      <th>age_after_renovation_cat_6</th>\n",
       "      <th>age_after_renovation_cat_7</th>\n",
       "      <th>age_after_renovation_cat_8</th>\n",
       "      <th>age_after_renovation_cat_9</th>\n",
       "    </tr>\n",
       "  </thead>\n",
       "  <tbody>\n",
       "    <tr>\n",
       "      <th>0</th>\n",
       "      <td>7129300520</td>\n",
       "      <td>2014-10-13</td>\n",
       "      <td>221,900.0000000000</td>\n",
       "      <td>3</td>\n",
       "      <td>1.0000000000</td>\n",
       "      <td>1180</td>\n",
       "      <td>5650</td>\n",
       "      <td>1.0000000000</td>\n",
       "      <td>0</td>\n",
       "      <td>0</td>\n",
       "      <td>3</td>\n",
       "      <td>7</td>\n",
       "      <td>1180</td>\n",
       "      <td>0</td>\n",
       "      <td>1955</td>\n",
       "      <td>0</td>\n",
       "      <td>98178</td>\n",
       "      <td>47.5112000000</td>\n",
       "      <td>-122.2570000000</td>\n",
       "      <td>1340</td>\n",
       "      <td>5650</td>\n",
       "      <td>2014</td>\n",
       "      <td>59</td>\n",
       "      <td>1955</td>\n",
       "      <td>59</td>\n",
       "      <td>others</td>\n",
       "      <td>262</td>\n",
       "      <td>0</td>\n",
       "      <td>0</td>\n",
       "      <td>5</td>\n",
       "      <td>5</td>\n",
       "      <td>1</td>\n",
       "      <td>0</td>\n",
       "      <td>1</td>\n",
       "      <td>0</td>\n",
       "      <td>0</td>\n",
       "      <td>0</td>\n",
       "      <td>0</td>\n",
       "      <td>0</td>\n",
       "      <td>0</td>\n",
       "      <td>1</td>\n",
       "      <td>0</td>\n",
       "      <td>0</td>\n",
       "      <td>0</td>\n",
       "      <td>0</td>\n",
       "      <td>0</td>\n",
       "      <td>0</td>\n",
       "      <td>0</td>\n",
       "      <td>0</td>\n",
       "      <td>0</td>\n",
       "      <td>0</td>\n",
       "      <td>0</td>\n",
       "      <td>1</td>\n",
       "      <td>0</td>\n",
       "      <td>0</td>\n",
       "      <td>0</td>\n",
       "      <td>0</td>\n",
       "      <td>0</td>\n",
       "      <td>0</td>\n",
       "      <td>0</td>\n",
       "      <td>0</td>\n",
       "      <td>0</td>\n",
       "      <td>0</td>\n",
       "      <td>0</td>\n",
       "      <td>1</td>\n",
       "      <td>0</td>\n",
       "      <td>0</td>\n",
       "      <td>0</td>\n",
       "      <td>0</td>\n",
       "      <td>0</td>\n",
       "      <td>1</td>\n",
       "      <td>0</td>\n",
       "      <td>0</td>\n",
       "      <td>0</td>\n",
       "      <td>0</td>\n",
       "      <td>0</td>\n",
       "      <td>0</td>\n",
       "      <td>0</td>\n",
       "      <td>0</td>\n",
       "      <td>0</td>\n",
       "      <td>1</td>\n",
       "      <td>0</td>\n",
       "      <td>0</td>\n",
       "      <td>0</td>\n",
       "      <td>0</td>\n",
       "    </tr>\n",
       "    <tr>\n",
       "      <th>1</th>\n",
       "      <td>6414100192</td>\n",
       "      <td>2014-12-09</td>\n",
       "      <td>538,000.0000000000</td>\n",
       "      <td>3</td>\n",
       "      <td>2.2500000000</td>\n",
       "      <td>2570</td>\n",
       "      <td>7242</td>\n",
       "      <td>2.0000000000</td>\n",
       "      <td>0</td>\n",
       "      <td>0</td>\n",
       "      <td>3</td>\n",
       "      <td>7</td>\n",
       "      <td>2170</td>\n",
       "      <td>400</td>\n",
       "      <td>1951</td>\n",
       "      <td>1991</td>\n",
       "      <td>98125</td>\n",
       "      <td>47.7210000000</td>\n",
       "      <td>-122.3190000000</td>\n",
       "      <td>1690</td>\n",
       "      <td>7639</td>\n",
       "      <td>2014</td>\n",
       "      <td>63</td>\n",
       "      <td>1991</td>\n",
       "      <td>23</td>\n",
       "      <td>others</td>\n",
       "      <td>410</td>\n",
       "      <td>1</td>\n",
       "      <td>1</td>\n",
       "      <td>5</td>\n",
       "      <td>2</td>\n",
       "      <td>1</td>\n",
       "      <td>0</td>\n",
       "      <td>1</td>\n",
       "      <td>0</td>\n",
       "      <td>0</td>\n",
       "      <td>0</td>\n",
       "      <td>0</td>\n",
       "      <td>0</td>\n",
       "      <td>0</td>\n",
       "      <td>1</td>\n",
       "      <td>0</td>\n",
       "      <td>0</td>\n",
       "      <td>0</td>\n",
       "      <td>0</td>\n",
       "      <td>0</td>\n",
       "      <td>0</td>\n",
       "      <td>0</td>\n",
       "      <td>0</td>\n",
       "      <td>0</td>\n",
       "      <td>0</td>\n",
       "      <td>0</td>\n",
       "      <td>1</td>\n",
       "      <td>0</td>\n",
       "      <td>0</td>\n",
       "      <td>0</td>\n",
       "      <td>0</td>\n",
       "      <td>0</td>\n",
       "      <td>0</td>\n",
       "      <td>0</td>\n",
       "      <td>0</td>\n",
       "      <td>0</td>\n",
       "      <td>0</td>\n",
       "      <td>0</td>\n",
       "      <td>1</td>\n",
       "      <td>0</td>\n",
       "      <td>0</td>\n",
       "      <td>0</td>\n",
       "      <td>0</td>\n",
       "      <td>0</td>\n",
       "      <td>1</td>\n",
       "      <td>0</td>\n",
       "      <td>0</td>\n",
       "      <td>0</td>\n",
       "      <td>0</td>\n",
       "      <td>0</td>\n",
       "      <td>0</td>\n",
       "      <td>1</td>\n",
       "      <td>0</td>\n",
       "      <td>0</td>\n",
       "      <td>0</td>\n",
       "      <td>0</td>\n",
       "      <td>0</td>\n",
       "      <td>0</td>\n",
       "      <td>0</td>\n",
       "    </tr>\n",
       "    <tr>\n",
       "      <th>2</th>\n",
       "      <td>5631500400</td>\n",
       "      <td>2015-02-25</td>\n",
       "      <td>180,000.0000000000</td>\n",
       "      <td>2</td>\n",
       "      <td>1.0000000000</td>\n",
       "      <td>770</td>\n",
       "      <td>10000</td>\n",
       "      <td>1.0000000000</td>\n",
       "      <td>0</td>\n",
       "      <td>0</td>\n",
       "      <td>3</td>\n",
       "      <td>6</td>\n",
       "      <td>770</td>\n",
       "      <td>0</td>\n",
       "      <td>1933</td>\n",
       "      <td>0</td>\n",
       "      <td>98028</td>\n",
       "      <td>47.7379000000</td>\n",
       "      <td>-122.2330000000</td>\n",
       "      <td>2720</td>\n",
       "      <td>8062</td>\n",
       "      <td>2015</td>\n",
       "      <td>82</td>\n",
       "      <td>1933</td>\n",
       "      <td>82</td>\n",
       "      <td>others</td>\n",
       "      <td>283</td>\n",
       "      <td>0</td>\n",
       "      <td>0</td>\n",
       "      <td>7</td>\n",
       "      <td>7</td>\n",
       "      <td>1</td>\n",
       "      <td>0</td>\n",
       "      <td>1</td>\n",
       "      <td>0</td>\n",
       "      <td>0</td>\n",
       "      <td>0</td>\n",
       "      <td>0</td>\n",
       "      <td>0</td>\n",
       "      <td>0</td>\n",
       "      <td>1</td>\n",
       "      <td>0</td>\n",
       "      <td>0</td>\n",
       "      <td>0</td>\n",
       "      <td>0</td>\n",
       "      <td>0</td>\n",
       "      <td>0</td>\n",
       "      <td>0</td>\n",
       "      <td>0</td>\n",
       "      <td>0</td>\n",
       "      <td>0</td>\n",
       "      <td>1</td>\n",
       "      <td>0</td>\n",
       "      <td>0</td>\n",
       "      <td>0</td>\n",
       "      <td>0</td>\n",
       "      <td>0</td>\n",
       "      <td>0</td>\n",
       "      <td>0</td>\n",
       "      <td>0</td>\n",
       "      <td>0</td>\n",
       "      <td>0</td>\n",
       "      <td>0</td>\n",
       "      <td>0</td>\n",
       "      <td>1</td>\n",
       "      <td>0</td>\n",
       "      <td>0</td>\n",
       "      <td>0</td>\n",
       "      <td>0</td>\n",
       "      <td>0</td>\n",
       "      <td>0</td>\n",
       "      <td>0</td>\n",
       "      <td>1</td>\n",
       "      <td>0</td>\n",
       "      <td>0</td>\n",
       "      <td>0</td>\n",
       "      <td>0</td>\n",
       "      <td>0</td>\n",
       "      <td>0</td>\n",
       "      <td>0</td>\n",
       "      <td>0</td>\n",
       "      <td>0</td>\n",
       "      <td>1</td>\n",
       "      <td>0</td>\n",
       "      <td>0</td>\n",
       "    </tr>\n",
       "    <tr>\n",
       "      <th>3</th>\n",
       "      <td>2487200875</td>\n",
       "      <td>2014-12-09</td>\n",
       "      <td>604,000.0000000000</td>\n",
       "      <td>4</td>\n",
       "      <td>3.0000000000</td>\n",
       "      <td>1960</td>\n",
       "      <td>5000</td>\n",
       "      <td>1.0000000000</td>\n",
       "      <td>0</td>\n",
       "      <td>0</td>\n",
       "      <td>5</td>\n",
       "      <td>7</td>\n",
       "      <td>1050</td>\n",
       "      <td>910</td>\n",
       "      <td>1965</td>\n",
       "      <td>0</td>\n",
       "      <td>98136</td>\n",
       "      <td>47.5208000000</td>\n",
       "      <td>-122.3930000000</td>\n",
       "      <td>1360</td>\n",
       "      <td>5000</td>\n",
       "      <td>2014</td>\n",
       "      <td>49</td>\n",
       "      <td>1965</td>\n",
       "      <td>49</td>\n",
       "      <td>others</td>\n",
       "      <td>263</td>\n",
       "      <td>1</td>\n",
       "      <td>0</td>\n",
       "      <td>4</td>\n",
       "      <td>4</td>\n",
       "      <td>1</td>\n",
       "      <td>0</td>\n",
       "      <td>1</td>\n",
       "      <td>0</td>\n",
       "      <td>0</td>\n",
       "      <td>0</td>\n",
       "      <td>0</td>\n",
       "      <td>0</td>\n",
       "      <td>0</td>\n",
       "      <td>0</td>\n",
       "      <td>0</td>\n",
       "      <td>1</td>\n",
       "      <td>0</td>\n",
       "      <td>0</td>\n",
       "      <td>0</td>\n",
       "      <td>0</td>\n",
       "      <td>0</td>\n",
       "      <td>0</td>\n",
       "      <td>0</td>\n",
       "      <td>0</td>\n",
       "      <td>0</td>\n",
       "      <td>1</td>\n",
       "      <td>0</td>\n",
       "      <td>0</td>\n",
       "      <td>0</td>\n",
       "      <td>0</td>\n",
       "      <td>0</td>\n",
       "      <td>0</td>\n",
       "      <td>0</td>\n",
       "      <td>0</td>\n",
       "      <td>0</td>\n",
       "      <td>0</td>\n",
       "      <td>0</td>\n",
       "      <td>1</td>\n",
       "      <td>0</td>\n",
       "      <td>0</td>\n",
       "      <td>0</td>\n",
       "      <td>0</td>\n",
       "      <td>1</td>\n",
       "      <td>0</td>\n",
       "      <td>0</td>\n",
       "      <td>0</td>\n",
       "      <td>0</td>\n",
       "      <td>0</td>\n",
       "      <td>0</td>\n",
       "      <td>0</td>\n",
       "      <td>0</td>\n",
       "      <td>0</td>\n",
       "      <td>1</td>\n",
       "      <td>0</td>\n",
       "      <td>0</td>\n",
       "      <td>0</td>\n",
       "      <td>0</td>\n",
       "      <td>0</td>\n",
       "    </tr>\n",
       "    <tr>\n",
       "      <th>4</th>\n",
       "      <td>1954400510</td>\n",
       "      <td>2015-02-18</td>\n",
       "      <td>510,000.0000000000</td>\n",
       "      <td>3</td>\n",
       "      <td>2.0000000000</td>\n",
       "      <td>1680</td>\n",
       "      <td>8080</td>\n",
       "      <td>1.0000000000</td>\n",
       "      <td>0</td>\n",
       "      <td>0</td>\n",
       "      <td>3</td>\n",
       "      <td>8</td>\n",
       "      <td>1680</td>\n",
       "      <td>0</td>\n",
       "      <td>1987</td>\n",
       "      <td>0</td>\n",
       "      <td>98074</td>\n",
       "      <td>47.6168000000</td>\n",
       "      <td>-122.0450000000</td>\n",
       "      <td>1800</td>\n",
       "      <td>7503</td>\n",
       "      <td>2015</td>\n",
       "      <td>28</td>\n",
       "      <td>1987</td>\n",
       "      <td>28</td>\n",
       "      <td>others</td>\n",
       "      <td>441</td>\n",
       "      <td>0</td>\n",
       "      <td>0</td>\n",
       "      <td>2</td>\n",
       "      <td>2</td>\n",
       "      <td>1</td>\n",
       "      <td>0</td>\n",
       "      <td>1</td>\n",
       "      <td>0</td>\n",
       "      <td>0</td>\n",
       "      <td>0</td>\n",
       "      <td>0</td>\n",
       "      <td>0</td>\n",
       "      <td>0</td>\n",
       "      <td>1</td>\n",
       "      <td>0</td>\n",
       "      <td>0</td>\n",
       "      <td>0</td>\n",
       "      <td>0</td>\n",
       "      <td>0</td>\n",
       "      <td>0</td>\n",
       "      <td>0</td>\n",
       "      <td>0</td>\n",
       "      <td>0</td>\n",
       "      <td>0</td>\n",
       "      <td>0</td>\n",
       "      <td>0</td>\n",
       "      <td>1</td>\n",
       "      <td>0</td>\n",
       "      <td>0</td>\n",
       "      <td>0</td>\n",
       "      <td>0</td>\n",
       "      <td>0</td>\n",
       "      <td>0</td>\n",
       "      <td>0</td>\n",
       "      <td>0</td>\n",
       "      <td>0</td>\n",
       "      <td>0</td>\n",
       "      <td>1</td>\n",
       "      <td>0</td>\n",
       "      <td>0</td>\n",
       "      <td>1</td>\n",
       "      <td>0</td>\n",
       "      <td>0</td>\n",
       "      <td>0</td>\n",
       "      <td>0</td>\n",
       "      <td>0</td>\n",
       "      <td>0</td>\n",
       "      <td>0</td>\n",
       "      <td>0</td>\n",
       "      <td>0</td>\n",
       "      <td>1</td>\n",
       "      <td>0</td>\n",
       "      <td>0</td>\n",
       "      <td>0</td>\n",
       "      <td>0</td>\n",
       "      <td>0</td>\n",
       "      <td>0</td>\n",
       "      <td>0</td>\n",
       "    </tr>\n",
       "  </tbody>\n",
       "</table>\n",
       "</div>"
      ],
      "text/plain": [
       "           id        date              price  bedrooms    bathrooms  \\\n",
       "0  7129300520  2014-10-13 221,900.0000000000         3 1.0000000000   \n",
       "1  6414100192  2014-12-09 538,000.0000000000         3 2.2500000000   \n",
       "2  5631500400  2015-02-25 180,000.0000000000         2 1.0000000000   \n",
       "3  2487200875  2014-12-09 604,000.0000000000         4 3.0000000000   \n",
       "4  1954400510  2015-02-18 510,000.0000000000         3 2.0000000000   \n",
       "\n",
       "   sqft_living  sqft_lot       floors  waterfront  view  condition  grade  \\\n",
       "0         1180      5650 1.0000000000           0     0          3      7   \n",
       "1         2570      7242 2.0000000000           0     0          3      7   \n",
       "2          770     10000 1.0000000000           0     0          3      6   \n",
       "3         1960      5000 1.0000000000           0     0          5      7   \n",
       "4         1680      8080 1.0000000000           0     0          3      8   \n",
       "\n",
       "   sqft_above  sqft_basement  yr_built  yr_renovated  zipcode           lat  \\\n",
       "0        1180              0      1955             0    98178 47.5112000000   \n",
       "1        2170            400      1951          1991    98125 47.7210000000   \n",
       "2         770              0      1933             0    98028 47.7379000000   \n",
       "3        1050            910      1965             0    98136 47.5208000000   \n",
       "4        1680              0      1987             0    98074 47.6168000000   \n",
       "\n",
       "             long  sqft_living15  sqft_lot15  yr_sales  age  yr_renovated2  \\\n",
       "0 -122.2570000000           1340        5650      2014   59           1955   \n",
       "1 -122.3190000000           1690        7639      2014   63           1991   \n",
       "2 -122.2330000000           2720        8062      2015   82           1933   \n",
       "3 -122.3930000000           1360        5000      2014   49           1965   \n",
       "4 -122.0450000000           1800        7503      2015   28           1987   \n",
       "\n",
       "   age_after_renovation zipcode_top10  zipcode_houses  basement_bool  \\\n",
       "0                    59        others             262              0   \n",
       "1                    23        others             410              1   \n",
       "2                    82        others             283              0   \n",
       "3                    49        others             263              1   \n",
       "4                    28        others             441              0   \n",
       "\n",
       "   renovation_bool  age_cat  age_after_renovation_cat  waterfront_0  \\\n",
       "0                0        5                         5             1   \n",
       "1                1        5                         2             1   \n",
       "2                0        7                         7             1   \n",
       "3                0        4                         4             1   \n",
       "4                0        2                         2             1   \n",
       "\n",
       "   waterfront_1  view_0  view_1  view_2  view_3  view_4  condition_1  \\\n",
       "0             0       1       0       0       0       0            0   \n",
       "1             0       1       0       0       0       0            0   \n",
       "2             0       1       0       0       0       0            0   \n",
       "3             0       1       0       0       0       0            0   \n",
       "4             0       1       0       0       0       0            0   \n",
       "\n",
       "   condition_2  condition_3  condition_4  condition_5  grade_1  grade_10  \\\n",
       "0            0            1            0            0        0         0   \n",
       "1            0            1            0            0        0         0   \n",
       "2            0            1            0            0        0         0   \n",
       "3            0            0            0            1        0         0   \n",
       "4            0            1            0            0        0         0   \n",
       "\n",
       "   grade_11  grade_12  grade_13  grade_3  grade_4  grade_5  grade_6  grade_7  \\\n",
       "0         0         0         0        0        0        0        0        1   \n",
       "1         0         0         0        0        0        0        0        1   \n",
       "2         0         0         0        0        0        0        1        0   \n",
       "3         0         0         0        0        0        0        0        1   \n",
       "4         0         0         0        0        0        0        0        0   \n",
       "\n",
       "   grade_8  grade_9  zipcode_top10_98004  zipcode_top10_98006  \\\n",
       "0        0        0                    0                    0   \n",
       "1        0        0                    0                    0   \n",
       "2        0        0                    0                    0   \n",
       "3        0        0                    0                    0   \n",
       "4        1        0                    0                    0   \n",
       "\n",
       "   zipcode_top10_98033  zipcode_top10_98039  zipcode_top10_98040  \\\n",
       "0                    0                    0                    0   \n",
       "1                    0                    0                    0   \n",
       "2                    0                    0                    0   \n",
       "3                    0                    0                    0   \n",
       "4                    0                    0                    0   \n",
       "\n",
       "   zipcode_top10_98102  zipcode_top10_98105  zipcode_top10_98155  \\\n",
       "0                    0                    0                    0   \n",
       "1                    0                    0                    0   \n",
       "2                    0                    0                    0   \n",
       "3                    0                    0                    0   \n",
       "4                    0                    0                    0   \n",
       "\n",
       "   zipcode_top10_98177  zipcode_top10_others  age_cat_0  age_cat_1  age_cat_2  \\\n",
       "0                    0                     1          0          0          0   \n",
       "1                    0                     1          0          0          0   \n",
       "2                    0                     1          0          0          0   \n",
       "3                    0                     1          0          0          0   \n",
       "4                    0                     1          0          0          1   \n",
       "\n",
       "   age_cat_3  age_cat_4  age_cat_5  age_cat_6  age_cat_7  age_cat_8  \\\n",
       "0          0          0          1          0          0          0   \n",
       "1          0          0          1          0          0          0   \n",
       "2          0          0          0          0          1          0   \n",
       "3          0          1          0          0          0          0   \n",
       "4          0          0          0          0          0          0   \n",
       "\n",
       "   age_cat_9  age_after_renovation_cat_0  age_after_renovation_cat_1  \\\n",
       "0          0                           0                           0   \n",
       "1          0                           0                           0   \n",
       "2          0                           0                           0   \n",
       "3          0                           0                           0   \n",
       "4          0                           0                           0   \n",
       "\n",
       "   age_after_renovation_cat_2  age_after_renovation_cat_3  \\\n",
       "0                           0                           0   \n",
       "1                           1                           0   \n",
       "2                           0                           0   \n",
       "3                           0                           0   \n",
       "4                           1                           0   \n",
       "\n",
       "   age_after_renovation_cat_4  age_after_renovation_cat_5  \\\n",
       "0                           0                           1   \n",
       "1                           0                           0   \n",
       "2                           0                           0   \n",
       "3                           1                           0   \n",
       "4                           0                           0   \n",
       "\n",
       "   age_after_renovation_cat_6  age_after_renovation_cat_7  \\\n",
       "0                           0                           0   \n",
       "1                           0                           0   \n",
       "2                           0                           1   \n",
       "3                           0                           0   \n",
       "4                           0                           0   \n",
       "\n",
       "   age_after_renovation_cat_8  age_after_renovation_cat_9  \n",
       "0                           0                           0  \n",
       "1                           0                           0  \n",
       "2                           0                           0  \n",
       "3                           0                           0  \n",
       "4                           0                           0  "
      ]
     },
     "execution_count": 35,
     "metadata": {},
     "output_type": "execute_result"
    }
   ],
   "source": [
    "df_clean = pd.read_csv('../data/processed/data_cleaned_encoded.csv')\n",
    "print(df_clean.shape)\n",
    "df_clean.head()"
   ]
  },
  {
   "cell_type": "markdown",
   "metadata": {},
   "source": [
    "# Feature Selection\n",
    "\n",
    "- Consider numeical columns: waterfront, view, condition, grade\n",
    "- Binned columns: age and age_after_renovation\n",
    "- Also take variables as numbers: zipcode, lat, long\n",
    "- sqft_basement = sqft_living - sqft_above (so we can drop this column)\n",
    "- Drop date columns and id column: id, date\n",
    "- Optional features: yr_built, yr_renovated, yr_sales"
   ]
  },
  {
   "cell_type": "code",
   "execution_count": 13,
   "metadata": {
    "ExecuteTime": {
     "end_time": "2019-09-27T03:11:18.347058Z",
     "start_time": "2019-09-27T03:11:18.308182Z"
    }
   },
   "outputs": [
    {
     "data": {
      "text/html": [
       "<div>\n",
       "<style scoped>\n",
       "    .dataframe tbody tr th:only-of-type {\n",
       "        vertical-align: middle;\n",
       "    }\n",
       "\n",
       "    .dataframe tbody tr th {\n",
       "        vertical-align: top;\n",
       "    }\n",
       "\n",
       "    .dataframe thead th {\n",
       "        text-align: right;\n",
       "    }\n",
       "</style>\n",
       "<table border=\"1\" class=\"dataframe\">\n",
       "  <thead>\n",
       "    <tr style=\"text-align: right;\">\n",
       "      <th></th>\n",
       "      <th>id</th>\n",
       "      <th>date</th>\n",
       "      <th>price</th>\n",
       "      <th>bedrooms</th>\n",
       "      <th>bathrooms</th>\n",
       "      <th>sqft_living</th>\n",
       "      <th>sqft_lot</th>\n",
       "      <th>floors</th>\n",
       "      <th>waterfront</th>\n",
       "      <th>view</th>\n",
       "      <th>condition</th>\n",
       "      <th>grade</th>\n",
       "      <th>sqft_above</th>\n",
       "      <th>sqft_basement</th>\n",
       "      <th>yr_built</th>\n",
       "      <th>yr_renovated</th>\n",
       "      <th>zipcode</th>\n",
       "      <th>lat</th>\n",
       "      <th>long</th>\n",
       "      <th>sqft_living15</th>\n",
       "      <th>sqft_lot15</th>\n",
       "    </tr>\n",
       "  </thead>\n",
       "  <tbody>\n",
       "    <tr>\n",
       "      <th>0</th>\n",
       "      <td>7129300520</td>\n",
       "      <td>20141013T000000</td>\n",
       "      <td>221,900.000</td>\n",
       "      <td>3</td>\n",
       "      <td>1.000</td>\n",
       "      <td>1180</td>\n",
       "      <td>5650</td>\n",
       "      <td>1.000</td>\n",
       "      <td>0</td>\n",
       "      <td>0</td>\n",
       "      <td>3</td>\n",
       "      <td>7</td>\n",
       "      <td>1180</td>\n",
       "      <td>0</td>\n",
       "      <td>1955</td>\n",
       "      <td>0</td>\n",
       "      <td>98178</td>\n",
       "      <td>47.511</td>\n",
       "      <td>-122.257</td>\n",
       "      <td>1340</td>\n",
       "      <td>5650</td>\n",
       "    </tr>\n",
       "    <tr>\n",
       "      <th>1</th>\n",
       "      <td>6414100192</td>\n",
       "      <td>20141209T000000</td>\n",
       "      <td>538,000.000</td>\n",
       "      <td>3</td>\n",
       "      <td>2.250</td>\n",
       "      <td>2570</td>\n",
       "      <td>7242</td>\n",
       "      <td>2.000</td>\n",
       "      <td>0</td>\n",
       "      <td>0</td>\n",
       "      <td>3</td>\n",
       "      <td>7</td>\n",
       "      <td>2170</td>\n",
       "      <td>400</td>\n",
       "      <td>1951</td>\n",
       "      <td>1991</td>\n",
       "      <td>98125</td>\n",
       "      <td>47.721</td>\n",
       "      <td>-122.319</td>\n",
       "      <td>1690</td>\n",
       "      <td>7639</td>\n",
       "    </tr>\n",
       "  </tbody>\n",
       "</table>\n",
       "</div>"
      ],
      "text/plain": [
       "           id             date       price  bedrooms  bathrooms  sqft_living  \\\n",
       "0  7129300520  20141013T000000 221,900.000         3      1.000         1180   \n",
       "1  6414100192  20141209T000000 538,000.000         3      2.250         2570   \n",
       "\n",
       "   sqft_lot  floors  waterfront  view  condition  grade  sqft_above  \\\n",
       "0      5650   1.000           0     0          3      7        1180   \n",
       "1      7242   2.000           0     0          3      7        2170   \n",
       "\n",
       "   sqft_basement  yr_built  yr_renovated  zipcode    lat     long  \\\n",
       "0              0      1955             0    98178 47.511 -122.257   \n",
       "1            400      1951          1991    98125 47.721 -122.319   \n",
       "\n",
       "   sqft_living15  sqft_lot15  \n",
       "0           1340        5650  \n",
       "1           1690        7639  "
      ]
     },
     "execution_count": 13,
     "metadata": {},
     "output_type": "execute_result"
    }
   ],
   "source": [
    "df_raw.head(2)"
   ]
  },
  {
   "cell_type": "code",
   "execution_count": 14,
   "metadata": {
    "ExecuteTime": {
     "end_time": "2019-09-27T03:11:18.390679Z",
     "start_time": "2019-09-27T03:11:18.348947Z"
    }
   },
   "outputs": [
    {
     "data": {
      "text/plain": [
       "Index(['id', 'date', 'price', 'bedrooms', 'bathrooms', 'sqft_living',\n",
       "       'sqft_lot', 'floors', 'waterfront', 'view', 'condition', 'grade',\n",
       "       'sqft_above', 'sqft_basement', 'yr_built', 'yr_renovated', 'zipcode',\n",
       "       'lat', 'long', 'sqft_living15', 'sqft_lot15'],\n",
       "      dtype='object')"
      ]
     },
     "execution_count": 14,
     "metadata": {},
     "output_type": "execute_result"
    }
   ],
   "source": [
    "df_raw.columns"
   ]
  },
  {
   "cell_type": "code",
   "execution_count": 15,
   "metadata": {
    "ExecuteTime": {
     "end_time": "2019-09-27T03:11:18.454736Z",
     "start_time": "2019-09-27T03:11:18.396001Z"
    }
   },
   "outputs": [
    {
     "data": {
      "text/plain": [
       "Index(['price', 'sqft_living', 'grade', 'sqft_above', 'sqft_living15',\n",
       "       'bathrooms', 'view', 'sqft_basement', 'bedrooms', 'lat'],\n",
       "      dtype='object')"
      ]
     },
     "execution_count": 15,
     "metadata": {},
     "output_type": "execute_result"
    }
   ],
   "source": [
    "features_raw_all = ['bedrooms', 'bathrooms', 'sqft_living',\n",
    "       'sqft_lot', 'floors', 'waterfront', 'view', 'condition', 'grade',\n",
    "       'sqft_above', 'sqft_basement', 'yr_built', 'yr_renovated', 'zipcode',\n",
    "       'lat', 'long', 'sqft_living15', 'sqft_lot15']\n",
    "\n",
    "df = df_clean[features_raw_all + ['price']]\n",
    "correlation = df.corr(method='pearson')\n",
    "\n",
    "cols10 = correlation.nlargest(10, 'price').index\n",
    "cols10"
   ]
  },
  {
   "cell_type": "markdown",
   "metadata": {},
   "source": [
    "# Train test split"
   ]
  },
  {
   "cell_type": "code",
   "execution_count": 16,
   "metadata": {
    "ExecuteTime": {
     "end_time": "2019-09-27T03:11:18.500208Z",
     "start_time": "2019-09-27T03:11:18.456191Z"
    }
   },
   "outputs": [
    {
     "data": {
      "text/plain": [
       "((17290, 9), (17290,), (4323, 9), (4323,))"
      ]
     },
     "execution_count": 16,
     "metadata": {},
     "output_type": "execute_result"
    }
   ],
   "source": [
    "X = df[cols10].drop('price',axis=1).values\n",
    "\n",
    "y = df['price'].values\n",
    "\n",
    "X_train, X_test, y_train, y_test = train_test_split (X,y,\n",
    "                                                     test_size=0.20,\n",
    "                                                     random_state=100)\n",
    "\n",
    "X_train.shape, y_train.shape, X_test.shape, y_test.shape"
   ]
  },
  {
   "cell_type": "markdown",
   "metadata": {},
   "source": [
    "# Scaling and making pipeline"
   ]
  },
  {
   "cell_type": "code",
   "execution_count": 17,
   "metadata": {
    "ExecuteTime": {
     "end_time": "2019-09-27T03:11:18.541171Z",
     "start_time": "2019-09-27T03:11:18.502112Z"
    }
   },
   "outputs": [],
   "source": [
    "pipelines = []\n",
    "\n",
    "pipelines.append(('ScaledLR', Pipeline([('Scaler', StandardScaler()),\n",
    "                                        ('LR',LinearRegression())])) )\n",
    "\n",
    "\n",
    "pipelines.append(('ScaledLASSO', Pipeline([('Scaler', StandardScaler()),\n",
    "                                           ('LASSO', Lasso())])))\n",
    "\n",
    "pipelines.append(('ScaledEN', Pipeline([('Scaler', StandardScaler()),\n",
    "                                        ('EN', ElasticNet())])))\n",
    "\n",
    "pipelines.append(('ScaledKNN', Pipeline([('Scaler', StandardScaler()),\n",
    "                                         ('KNN', KNeighborsRegressor())])))\n",
    "\n",
    "pipelines.append(('ScaledDT', Pipeline([('Scaler', StandardScaler())\n",
    "                                          ,('DT', DecisionTreeRegressor())])))\n",
    "\n",
    "pipelines.append(('ScaledGBM', Pipeline([('Scaler', StandardScaler()),\n",
    "                                         ('GBM', GradientBoostingRegressor())])))"
   ]
  },
  {
   "cell_type": "code",
   "execution_count": 18,
   "metadata": {
    "ExecuteTime": {
     "end_time": "2019-09-27T03:11:26.828735Z",
     "start_time": "2019-09-27T03:11:18.542926Z"
    }
   },
   "outputs": [
    {
     "name": "stderr",
     "output_type": "stream",
     "text": [
      "/Users/poudel/miniconda3/envs/dataSc/lib/python3.7/site-packages/sklearn/linear_model/coordinate_descent.py:475: ConvergenceWarning: Objective did not converge. You might want to increase the number of iterations. Duality gap: 23763658211941.75, tolerance: 210041168862.76996\n",
      "  positive)\n",
      "/Users/poudel/miniconda3/envs/dataSc/lib/python3.7/site-packages/sklearn/linear_model/coordinate_descent.py:475: ConvergenceWarning: Objective did not converge. You might want to increase the number of iterations. Duality gap: 23637244377506.688, tolerance: 209121000755.08066\n",
      "  positive)\n",
      "/Users/poudel/miniconda3/envs/dataSc/lib/python3.7/site-packages/sklearn/linear_model/coordinate_descent.py:475: ConvergenceWarning: Objective did not converge. You might want to increase the number of iterations. Duality gap: 23615544489012.0, tolerance: 210523960928.1077\n",
      "  positive)\n",
      "/Users/poudel/miniconda3/envs/dataSc/lib/python3.7/site-packages/sklearn/linear_model/coordinate_descent.py:475: ConvergenceWarning: Objective did not converge. You might want to increase the number of iterations. Duality gap: 23804467318546.125, tolerance: 209576511327.49066\n",
      "  positive)\n",
      "/Users/poudel/miniconda3/envs/dataSc/lib/python3.7/site-packages/sklearn/linear_model/coordinate_descent.py:475: ConvergenceWarning: Objective did not converge. You might want to increase the number of iterations. Duality gap: 23181862180805.625, tolerance: 208271906462.3817\n",
      "  positive)\n",
      "/Users/poudel/miniconda3/envs/dataSc/lib/python3.7/site-packages/sklearn/linear_model/coordinate_descent.py:475: ConvergenceWarning: Objective did not converge. You might want to increase the number of iterations. Duality gap: 24061254461151.75, tolerance: 211047551230.52997\n",
      "  positive)\n",
      "/Users/poudel/miniconda3/envs/dataSc/lib/python3.7/site-packages/sklearn/linear_model/coordinate_descent.py:475: ConvergenceWarning: Objective did not converge. You might want to increase the number of iterations. Duality gap: 23389597661892.375, tolerance: 206736198124.7114\n",
      "  positive)\n",
      "/Users/poudel/miniconda3/envs/dataSc/lib/python3.7/site-packages/sklearn/linear_model/coordinate_descent.py:475: ConvergenceWarning: Objective did not converge. You might want to increase the number of iterations. Duality gap: 23603670164920.5, tolerance: 208500396032.43567\n",
      "  positive)\n",
      "/Users/poudel/miniconda3/envs/dataSc/lib/python3.7/site-packages/sklearn/linear_model/coordinate_descent.py:475: ConvergenceWarning: Objective did not converge. You might want to increase the number of iterations. Duality gap: 23719984234480.625, tolerance: 212859452488.6683\n",
      "  positive)\n",
      "/Users/poudel/miniconda3/envs/dataSc/lib/python3.7/site-packages/sklearn/linear_model/coordinate_descent.py:475: ConvergenceWarning: Objective did not converge. You might want to increase the number of iterations. Duality gap: 23615733083611.5, tolerance: 210566314432.8035\n",
      "  positive)\n"
     ]
    }
   ],
   "source": [
    "df_cv = pd.DataFrame({'Model': [],\n",
    "                      '5-Fold Cross Validation Mean':[],\n",
    "                      '5-Fold Cross Validation Std':[]\n",
    "                     })\n",
    "\n",
    "for name, model in pipelines:\n",
    "    kfold = KFold(n_splits=10, random_state=100)\n",
    "    cv_results = cross_val_score(model, X_train, y_train,\n",
    "                                 cv=kfold, scoring='neg_mean_squared_error')\n",
    "\n",
    "    \n",
    "    df_cv.loc[len(df_cv)] = [name, cv_results.mean(), cv_results.std() ]"
   ]
  },
  {
   "cell_type": "code",
   "execution_count": 19,
   "metadata": {
    "ExecuteTime": {
     "end_time": "2019-09-27T03:11:26.866924Z",
     "start_time": "2019-09-27T03:11:26.830640Z"
    }
   },
   "outputs": [
    {
     "data": {
      "text/html": [
       "<div>\n",
       "<style scoped>\n",
       "    .dataframe tbody tr th:only-of-type {\n",
       "        vertical-align: middle;\n",
       "    }\n",
       "\n",
       "    .dataframe tbody tr th {\n",
       "        vertical-align: top;\n",
       "    }\n",
       "\n",
       "    .dataframe thead th {\n",
       "        text-align: right;\n",
       "    }\n",
       "</style>\n",
       "<table border=\"1\" class=\"dataframe\">\n",
       "  <thead>\n",
       "    <tr style=\"text-align: right;\">\n",
       "      <th></th>\n",
       "      <th>Model</th>\n",
       "      <th>5-Fold Cross Validation Mean</th>\n",
       "      <th>5-Fold Cross Validation Std</th>\n",
       "    </tr>\n",
       "  </thead>\n",
       "  <tbody>\n",
       "    <tr>\n",
       "      <th>0</th>\n",
       "      <td>ScaledLR</td>\n",
       "      <td>-49,162,459,190.507</td>\n",
       "      <td>4,338,009,730.219</td>\n",
       "    </tr>\n",
       "    <tr>\n",
       "      <th>1</th>\n",
       "      <td>ScaledLASSO</td>\n",
       "      <td>-49,149,591,516.555</td>\n",
       "      <td>4,322,909,688.886</td>\n",
       "    </tr>\n",
       "    <tr>\n",
       "      <th>2</th>\n",
       "      <td>ScaledEN</td>\n",
       "      <td>-52,405,978,112.241</td>\n",
       "      <td>5,081,616,643.072</td>\n",
       "    </tr>\n",
       "    <tr>\n",
       "      <th>3</th>\n",
       "      <td>ScaledKNN</td>\n",
       "      <td>-36,553,566,838.201</td>\n",
       "      <td>4,327,629,689.803</td>\n",
       "    </tr>\n",
       "    <tr>\n",
       "      <th>4</th>\n",
       "      <td>ScaledCART</td>\n",
       "      <td>-55,437,916,139.345</td>\n",
       "      <td>6,848,148,294.156</td>\n",
       "    </tr>\n",
       "    <tr>\n",
       "      <th>5</th>\n",
       "      <td>ScaledGBM</td>\n",
       "      <td>-28,263,957,047.422</td>\n",
       "      <td>3,968,241,964.736</td>\n",
       "    </tr>\n",
       "  </tbody>\n",
       "</table>\n",
       "</div>"
      ],
      "text/plain": [
       "         Model  5-Fold Cross Validation Mean  5-Fold Cross Validation Std\n",
       "0     ScaledLR           -49,162,459,190.507            4,338,009,730.219\n",
       "1  ScaledLASSO           -49,149,591,516.555            4,322,909,688.886\n",
       "2     ScaledEN           -52,405,978,112.241            5,081,616,643.072\n",
       "3    ScaledKNN           -36,553,566,838.201            4,327,629,689.803\n",
       "4   ScaledCART           -55,437,916,139.345            6,848,148,294.156\n",
       "5    ScaledGBM           -28,263,957,047.422            3,968,241,964.736"
      ]
     },
     "execution_count": 19,
     "metadata": {},
     "output_type": "execute_result"
    }
   ],
   "source": [
    "df_cv"
   ]
  },
  {
   "cell_type": "markdown",
   "metadata": {},
   "source": [
    "# Log transform large values"
   ]
  },
  {
   "cell_type": "code",
   "execution_count": 20,
   "metadata": {
    "ExecuteTime": {
     "end_time": "2019-09-27T03:11:26.911000Z",
     "start_time": "2019-09-27T03:11:26.868581Z"
    }
   },
   "outputs": [],
   "source": [
    "df_clean['log_price'] = np.log1p(df_clean['price'])\n",
    "df_clean['log_sqft_living'] = np.log1p(df_clean['sqft_living'])\n",
    "df_clean['log_sqft_living15'] = np.log1p(df_clean['sqft_living15'])\n",
    "df_clean['log_sqft_lot'] = np.log1p(df_clean['sqft_lot'])\n",
    "df_clean['log_sqft_lot15'] = np.log1p(df_clean['sqft_lot'])"
   ]
  },
  {
   "cell_type": "code",
   "execution_count": 21,
   "metadata": {
    "ExecuteTime": {
     "end_time": "2019-09-27T03:11:26.977953Z",
     "start_time": "2019-09-27T03:11:26.913465Z"
    }
   },
   "outputs": [
    {
     "data": {
      "text/plain": [
       "Index(['log_price', 'grade', 'log_sqft_living', 'log_sqft_living15',\n",
       "       'sqft_above', 'bathrooms', 'lat', 'view', 'bedrooms', 'sqft_basement'],\n",
       "      dtype='object')"
      ]
     },
     "execution_count": 21,
     "metadata": {},
     "output_type": "execute_result"
    }
   ],
   "source": [
    "features_raw_all = ['bedrooms', 'bathrooms', 'log_sqft_living',\n",
    "       'log_sqft_lot', 'floors', 'waterfront', 'view', 'condition', 'grade',\n",
    "       'sqft_above', 'sqft_basement', 'yr_built', 'yr_renovated', 'zipcode',\n",
    "       'lat', 'long', 'log_sqft_living15', 'log_sqft_lot15']\n",
    "\n",
    "target = ['log_price']\n",
    "\n",
    "df = df_clean[features_raw_all + target]\n",
    "correlation = df.corr(method='pearson')\n",
    "\n",
    "cols10 = correlation.nlargest(10, 'log_price').index\n",
    "cols10"
   ]
  },
  {
   "cell_type": "code",
   "execution_count": 22,
   "metadata": {
    "ExecuteTime": {
     "end_time": "2019-09-27T03:11:27.020608Z",
     "start_time": "2019-09-27T03:11:26.980292Z"
    }
   },
   "outputs": [
    {
     "data": {
      "text/plain": [
       "((17290, 9), (17290,), (4323, 9), (4323,))"
      ]
     },
     "execution_count": 22,
     "metadata": {},
     "output_type": "execute_result"
    }
   ],
   "source": [
    "X = df[cols10].drop('log_price',axis=1).values\n",
    "\n",
    "y = df['log_price'].values\n",
    "\n",
    "X_train, X_test, y_train, y_test = train_test_split (X,y,\n",
    "                                                     test_size=0.20,\n",
    "                                                     random_state=100)\n",
    "\n",
    "X_train.shape, y_train.shape, X_test.shape, y_test.shape"
   ]
  },
  {
   "cell_type": "code",
   "execution_count": 23,
   "metadata": {
    "ExecuteTime": {
     "end_time": "2019-09-27T03:11:34.157901Z",
     "start_time": "2019-09-27T03:11:27.023280Z"
    }
   },
   "outputs": [],
   "source": [
    "df_cv = pd.DataFrame({'Model': [],\n",
    "                      '5-Fold Cross Validation Mean':[],\n",
    "                      '5-Fold Cross Validation Std':[]\n",
    "                     })\n",
    "\n",
    "for name, model in pipelines:\n",
    "    kfold = KFold(n_splits=10, random_state=100)\n",
    "    cv_results = cross_val_score(model, X_train, y_train,\n",
    "                                 cv=kfold, scoring='neg_mean_squared_error')\n",
    "\n",
    "    \n",
    "    df_cv.loc[len(df_cv)] = [name, cv_results.mean(), cv_results.std() ]"
   ]
  },
  {
   "cell_type": "code",
   "execution_count": 25,
   "metadata": {
    "ExecuteTime": {
     "end_time": "2019-09-27T03:12:55.922371Z",
     "start_time": "2019-09-27T03:12:55.869317Z"
    }
   },
   "outputs": [
    {
     "data": {
      "text/html": [
       "<div>\n",
       "<style scoped>\n",
       "    .dataframe tbody tr th:only-of-type {\n",
       "        vertical-align: middle;\n",
       "    }\n",
       "\n",
       "    .dataframe tbody tr th {\n",
       "        vertical-align: top;\n",
       "    }\n",
       "\n",
       "    .dataframe thead th {\n",
       "        text-align: right;\n",
       "    }\n",
       "</style>\n",
       "<table border=\"1\" class=\"dataframe\">\n",
       "  <thead>\n",
       "    <tr style=\"text-align: right;\">\n",
       "      <th></th>\n",
       "      <th>Model</th>\n",
       "      <th>5-Fold Cross Validation Mean</th>\n",
       "      <th>5-Fold Cross Validation Std</th>\n",
       "    </tr>\n",
       "  </thead>\n",
       "  <tbody>\n",
       "    <tr>\n",
       "      <th>1</th>\n",
       "      <td>ScaledLASSO</td>\n",
       "      <td>-0.277</td>\n",
       "      <td>0.010</td>\n",
       "    </tr>\n",
       "    <tr>\n",
       "      <th>2</th>\n",
       "      <td>ScaledEN</td>\n",
       "      <td>-0.277</td>\n",
       "      <td>0.010</td>\n",
       "    </tr>\n",
       "    <tr>\n",
       "      <th>4</th>\n",
       "      <td>ScaledCART</td>\n",
       "      <td>-0.089</td>\n",
       "      <td>0.005</td>\n",
       "    </tr>\n",
       "    <tr>\n",
       "      <th>0</th>\n",
       "      <td>ScaledLR</td>\n",
       "      <td>-0.075</td>\n",
       "      <td>0.002</td>\n",
       "    </tr>\n",
       "    <tr>\n",
       "      <th>3</th>\n",
       "      <td>ScaledKNN</td>\n",
       "      <td>-0.058</td>\n",
       "      <td>0.003</td>\n",
       "    </tr>\n",
       "    <tr>\n",
       "      <th>5</th>\n",
       "      <td>ScaledGBM</td>\n",
       "      <td>-0.046</td>\n",
       "      <td>0.002</td>\n",
       "    </tr>\n",
       "  </tbody>\n",
       "</table>\n",
       "</div>"
      ],
      "text/plain": [
       "         Model  5-Fold Cross Validation Mean  5-Fold Cross Validation Std\n",
       "1  ScaledLASSO                        -0.277                        0.010\n",
       "2     ScaledEN                        -0.277                        0.010\n",
       "4   ScaledCART                        -0.089                        0.005\n",
       "0     ScaledLR                        -0.075                        0.002\n",
       "3    ScaledKNN                        -0.058                        0.003\n",
       "5    ScaledGBM                        -0.046                        0.002"
      ]
     },
     "execution_count": 25,
     "metadata": {},
     "output_type": "execute_result"
    }
   ],
   "source": [
    "df_cv.sort_values(['5-Fold Cross Validation Mean'])"
   ]
  },
  {
   "cell_type": "code",
   "execution_count": 26,
   "metadata": {
    "ExecuteTime": {
     "end_time": "2019-09-27T03:14:29.998932Z",
     "start_time": "2019-09-27T03:14:29.952819Z"
    }
   },
   "outputs": [],
   "source": [
    "# scaled gradient boosted model performs best."
   ]
  },
  {
   "cell_type": "code",
   "execution_count": 27,
   "metadata": {
    "ExecuteTime": {
     "end_time": "2019-09-27T03:16:45.189182Z",
     "start_time": "2019-09-27T03:15:57.161149Z"
    }
   },
   "outputs": [],
   "source": [
    "from sklearn.model_selection import GridSearchCV\n",
    "\n",
    "scaler = StandardScaler().fit(X_train)\n",
    "rescaledX = scaler.transform(X_train)\n",
    "\n",
    "param_grid = dict(n_estimators=np.array([50,100,200,300,400]))\n",
    "\n",
    "model = GradientBoostingRegressor(random_state=100)\n",
    "kfold = KFold(n_splits=10, random_state=100)\n",
    "\n",
    "grid = GridSearchCV(estimator=model,\n",
    "                    param_grid=param_grid,\n",
    "                    scoring='neg_mean_squared_error',\n",
    "                    cv=kfold)\n",
    "\n",
    "grid_result = grid.fit(rescaledX, y_train)\n",
    "\n",
    "means = grid_result.cv_results_['mean_test_score']\n",
    "stds = grid_result.cv_results_['std_test_score']\n",
    "params = grid_result.cv_results_['params']"
   ]
  },
  {
   "cell_type": "code",
   "execution_count": 31,
   "metadata": {
    "ExecuteTime": {
     "end_time": "2019-09-27T03:19:55.467801Z",
     "start_time": "2019-09-27T03:19:55.426350Z"
    }
   },
   "outputs": [
    {
     "data": {
      "text/html": [
       "<div>\n",
       "<style scoped>\n",
       "    .dataframe tbody tr th:only-of-type {\n",
       "        vertical-align: middle;\n",
       "    }\n",
       "\n",
       "    .dataframe tbody tr th {\n",
       "        vertical-align: top;\n",
       "    }\n",
       "\n",
       "    .dataframe thead th {\n",
       "        text-align: right;\n",
       "    }\n",
       "</style>\n",
       "<table border=\"1\" class=\"dataframe\">\n",
       "  <thead>\n",
       "    <tr style=\"text-align: right;\">\n",
       "      <th></th>\n",
       "      <th>n_estimators</th>\n",
       "      <th>mean</th>\n",
       "      <th>std</th>\n",
       "    </tr>\n",
       "  </thead>\n",
       "  <tbody>\n",
       "    <tr>\n",
       "      <th>0</th>\n",
       "      <td>{'n_estimators': 50}</td>\n",
       "      <td>-0.0481284830</td>\n",
       "      <td>0.0022335795</td>\n",
       "    </tr>\n",
       "    <tr>\n",
       "      <th>1</th>\n",
       "      <td>{'n_estimators': 100}</td>\n",
       "      <td>-0.0461452888</td>\n",
       "      <td>0.0021919060</td>\n",
       "    </tr>\n",
       "    <tr>\n",
       "      <th>2</th>\n",
       "      <td>{'n_estimators': 200}</td>\n",
       "      <td>-0.0452854724</td>\n",
       "      <td>0.0020936393</td>\n",
       "    </tr>\n",
       "    <tr>\n",
       "      <th>3</th>\n",
       "      <td>{'n_estimators': 300}</td>\n",
       "      <td>-0.0449544950</td>\n",
       "      <td>0.0020545709</td>\n",
       "    </tr>\n",
       "    <tr>\n",
       "      <th>4</th>\n",
       "      <td>{'n_estimators': 400}</td>\n",
       "      <td>-0.0448699076</td>\n",
       "      <td>0.0020616437</td>\n",
       "    </tr>\n",
       "  </tbody>\n",
       "</table>\n",
       "</div>"
      ],
      "text/plain": [
       "            n_estimators          mean          std\n",
       "0   {'n_estimators': 50} -0.0481284830 0.0022335795\n",
       "1  {'n_estimators': 100} -0.0461452888 0.0021919060\n",
       "2  {'n_estimators': 200} -0.0452854724 0.0020936393\n",
       "3  {'n_estimators': 300} -0.0449544950 0.0020545709\n",
       "4  {'n_estimators': 400} -0.0448699076 0.0020616437"
      ]
     },
     "execution_count": 31,
     "metadata": {},
     "output_type": "execute_result"
    }
   ],
   "source": [
    "df_grid_gbm = pd.DataFrame({'n_estimators': params,\n",
    "                           'mean': means,\n",
    "                           'std': stds})\n",
    "\n",
    "\n",
    "pd.set_option('display.float_format', '{:,.10f}'.format)\n",
    "df_grid_gbm.sort_values('mean')"
   ]
  },
  {
   "cell_type": "code",
   "execution_count": 29,
   "metadata": {
    "ExecuteTime": {
     "end_time": "2019-09-27T03:18:51.080514Z",
     "start_time": "2019-09-27T03:18:51.048572Z"
    }
   },
   "outputs": [
    {
     "name": "stdout",
     "output_type": "stream",
     "text": [
      "Best: -0.044870 using {'n_estimators': 400}\n"
     ]
    }
   ],
   "source": [
    "print(\"Best: %f using %s\" % (grid_result.best_score_, grid_result.best_params_))"
   ]
  },
  {
   "cell_type": "code",
   "execution_count": 37,
   "metadata": {
    "ExecuteTime": {
     "end_time": "2019-09-27T03:35:06.877706Z",
     "start_time": "2019-09-27T03:35:04.925550Z"
    }
   },
   "outputs": [
    {
     "name": "stdout",
     "output_type": "stream",
     "text": [
      "mse =  0.04408488121499348\n"
     ]
    }
   ],
   "source": [
    "from sklearn.metrics import mean_squared_error\n",
    "\n",
    "scaler = StandardScaler().fit(X_train)\n",
    "rescaled_X_train = scaler.transform(X_train)\n",
    "\n",
    "model = GradientBoostingRegressor(random_state=100, n_estimators=400)\n",
    "model.fit(rescaled_X_train, y_train)\n",
    "\n",
    "# transform the validation dataset\n",
    "rescaled_X_test = scaler.transform(X_test)\n",
    "predictions = model.predict(rescaled_X_test)\n",
    "print ('mse = ', mean_squared_error(y_test, predictions))"
   ]
  },
  {
   "cell_type": "code",
   "execution_count": 52,
   "metadata": {
    "ExecuteTime": {
     "end_time": "2019-09-27T03:47:35.352011Z",
     "start_time": "2019-09-27T03:47:35.292624Z"
    }
   },
   "outputs": [
    {
     "name": "stdout",
     "output_type": "stream",
     "text": [
      "negative mse =  -4.737650039465197\n"
     ]
    }
   ],
   "source": [
    "nmse = model.score(X_test, y_test)\n",
    "print('negative mse = ', nmse)"
   ]
  },
  {
   "cell_type": "code",
   "execution_count": 59,
   "metadata": {
    "ExecuteTime": {
     "end_time": "2019-09-27T03:50:34.685974Z",
     "start_time": "2019-09-27T03:50:34.653222Z"
    }
   },
   "outputs": [
    {
     "data": {
      "text/html": [
       "<div>\n",
       "<style scoped>\n",
       "    .dataframe tbody tr th:only-of-type {\n",
       "        vertical-align: middle;\n",
       "    }\n",
       "\n",
       "    .dataframe tbody tr th {\n",
       "        vertical-align: top;\n",
       "    }\n",
       "\n",
       "    .dataframe thead th {\n",
       "        text-align: right;\n",
       "    }\n",
       "</style>\n",
       "<table border=\"1\" class=\"dataframe\">\n",
       "  <thead>\n",
       "    <tr style=\"text-align: right;\">\n",
       "      <th></th>\n",
       "      <th>y_test</th>\n",
       "      <th>y_pred</th>\n",
       "      <th>difference</th>\n",
       "    </tr>\n",
       "  </thead>\n",
       "  <tbody>\n",
       "    <tr>\n",
       "      <th>0</th>\n",
       "      <td>285000</td>\n",
       "      <td>347410</td>\n",
       "      <td>62409</td>\n",
       "    </tr>\n",
       "    <tr>\n",
       "      <th>1</th>\n",
       "      <td>239951</td>\n",
       "      <td>234930</td>\n",
       "      <td>5020</td>\n",
       "    </tr>\n",
       "    <tr>\n",
       "      <th>2</th>\n",
       "      <td>460001</td>\n",
       "      <td>463113</td>\n",
       "      <td>3112</td>\n",
       "    </tr>\n",
       "    <tr>\n",
       "      <th>3</th>\n",
       "      <td>397500</td>\n",
       "      <td>471385</td>\n",
       "      <td>73884</td>\n",
       "    </tr>\n",
       "    <tr>\n",
       "      <th>4</th>\n",
       "      <td>545000</td>\n",
       "      <td>555767</td>\n",
       "      <td>10766</td>\n",
       "    </tr>\n",
       "  </tbody>\n",
       "</table>\n",
       "</div>"
      ],
      "text/plain": [
       "   y_test  y_pred  difference\n",
       "0  285000  347410       62409\n",
       "1  239951  234930        5020\n",
       "2  460001  463113        3112\n",
       "3  397500  471385       73884\n",
       "4  545000  555767       10766"
      ]
     },
     "execution_count": 59,
     "metadata": {},
     "output_type": "execute_result"
    }
   ],
   "source": [
    "actual_y_test = np.expm1(y_test)\n",
    "actual_predicted = np.expm1(predictions)\n",
    "\n",
    "diff = abs(actual_y_test - actual_predicted)\n",
    "\n",
    "df_preds = pd.DataFrame({'y_test': actual_y_test,\n",
    "                        'y_pred' : actual_predicted,\n",
    "                        'difference' : diff})\n",
    "df_preds = df_preds.astype(int)\n",
    "df_preds.head(5)"
   ]
  },
  {
   "cell_type": "code",
   "execution_count": 62,
   "metadata": {
    "ExecuteTime": {
     "end_time": "2019-09-27T03:51:07.261378Z",
     "start_time": "2019-09-27T03:51:07.214470Z"
    }
   },
   "outputs": [
    {
     "data": {
      "text/plain": [
       "0.7764399077500295"
      ]
     },
     "execution_count": 62,
     "metadata": {},
     "output_type": "execute_result"
    }
   ],
   "source": [
    "r2 = sklearn.metrics.r2_score(df_preds['y_test'],\n",
    "                              df_preds['y_pred'])\n",
    "r2"
   ]
  },
  {
   "cell_type": "code",
   "execution_count": 63,
   "metadata": {
    "ExecuteTime": {
     "end_time": "2019-09-27T03:51:08.331029Z",
     "start_time": "2019-09-27T03:51:08.293091Z"
    }
   },
   "outputs": [],
   "source": [
    "def adjustedR2(rsquared,nrows,kcols):\n",
    "    return rsquared- (kcols-1)/(nrows-kcols) * (1-rsquared)"
   ]
  },
  {
   "cell_type": "code",
   "execution_count": 64,
   "metadata": {
    "ExecuteTime": {
     "end_time": "2019-09-27T03:51:09.085439Z",
     "start_time": "2019-09-27T03:51:09.038057Z"
    }
   },
   "outputs": [
    {
     "name": "stdout",
     "output_type": "stream",
     "text": [
      "adjustedr2 =  0.7760253317792367\n"
     ]
    }
   ],
   "source": [
    "ar2 = adjustedR2(r2, X_test.shape[0], X_test.shape[1])\n",
    "print('adjustedr2 = ', ar2)"
   ]
  },
  {
   "cell_type": "code",
   "execution_count": null,
   "metadata": {},
   "outputs": [],
   "source": []
  }
 ],
 "metadata": {
  "kernelspec": {
   "display_name": "Python 3",
   "language": "python",
   "name": "python3"
  },
  "language_info": {
   "codemirror_mode": {
    "name": "ipython",
    "version": 3
   },
   "file_extension": ".py",
   "mimetype": "text/x-python",
   "name": "python",
   "nbconvert_exporter": "python",
   "pygments_lexer": "ipython3",
   "version": "3.5.4"
  },
  "toc": {
   "base_numbering": 1,
   "nav_menu": {},
   "number_sections": true,
   "sideBar": true,
   "skip_h1_title": false,
   "title_cell": "Table of Contents",
   "title_sidebar": "Contents",
   "toc_cell": true,
   "toc_position": {},
   "toc_section_display": true,
   "toc_window_display": true
  }
 },
 "nbformat": 4,
 "nbformat_minor": 2
}
