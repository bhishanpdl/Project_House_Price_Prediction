{
 "cells": [
  {
   "cell_type": "markdown",
   "metadata": {
    "toc": true
   },
   "source": [
    "<h1>Table of Contents<span class=\"tocSkip\"></span></h1>\n",
    "<div class=\"toc\"><ul class=\"toc-item\"><li><span><a href=\"#Introduction\" data-toc-modified-id=\"Introduction-1\"><span class=\"toc-item-num\">1&nbsp;&nbsp;</span>Introduction</a></span></li><li><span><a href=\"#Load-the-libraries\" data-toc-modified-id=\"Load-the-libraries-2\"><span class=\"toc-item-num\">2&nbsp;&nbsp;</span>Load the libraries</a></span></li><li><span><a href=\"#Load-the-libraries\" data-toc-modified-id=\"Load-the-libraries-3\"><span class=\"toc-item-num\">3&nbsp;&nbsp;</span>Load the libraries</a></span></li><li><span><a href=\"#Useful-Functions\" data-toc-modified-id=\"Useful-Functions-4\"><span class=\"toc-item-num\">4&nbsp;&nbsp;</span>Useful Functions</a></span></li><li><span><a href=\"#Parameters\" data-toc-modified-id=\"Parameters-5\"><span class=\"toc-item-num\">5&nbsp;&nbsp;</span>Parameters</a></span></li><li><span><a href=\"#Load-the-Data\" data-toc-modified-id=\"Load-the-Data-6\"><span class=\"toc-item-num\">6&nbsp;&nbsp;</span>Load the Data</a></span></li><li><span><a href=\"#Data-Processing\" data-toc-modified-id=\"Data-Processing-7\"><span class=\"toc-item-num\">7&nbsp;&nbsp;</span>Data Processing</a></span></li><li><span><a href=\"#Train-target-split\" data-toc-modified-id=\"Train-target-split-8\"><span class=\"toc-item-num\">8&nbsp;&nbsp;</span>Train target split</a></span><ul class=\"toc-item\"><li><span><a href=\"#Scaling\" data-toc-modified-id=\"Scaling-8.1\"><span class=\"toc-item-num\">8.1&nbsp;&nbsp;</span>Scaling</a></span></li></ul></li><li><span><a href=\"#Modelling-Xgboost\" data-toc-modified-id=\"Modelling-Xgboost-9\"><span class=\"toc-item-num\">9&nbsp;&nbsp;</span>Modelling Xgboost</a></span></li><li><span><a href=\"#Using-What-if-tool\" data-toc-modified-id=\"Using-What-if-tool-10\"><span class=\"toc-item-num\">10&nbsp;&nbsp;</span>Using What if tool</a></span></li></ul></div>"
   ]
  },
  {
   "cell_type": "markdown",
   "metadata": {},
   "source": [
    "<div class=\"alert alert-block alert-success\">\n",
    "<b>Kernel Author:</b>  <br>\n",
    "<a href=\"https://bhishanpdl.github.io/\" , target=\"_blank\">Bhishan Poudel,  Data Scientist, Ph.D Astrophysics</a> .\n",
    "</div>"
   ]
  },
  {
   "cell_type": "markdown",
   "metadata": {},
   "source": [
    "# Introduction\n",
    "What If Tool (WIT) is developed by Google for model explanation.\n",
    "Here, we use the tool for xgboost model interpretation."
   ]
  },
  {
   "cell_type": "markdown",
   "metadata": {},
   "source": [
    "# Load the libraries"
   ]
  },
  {
   "cell_type": "code",
   "execution_count": 1,
   "metadata": {
    "ExecuteTime": {
     "end_time": "2020-11-21T20:10:08.786886Z",
     "start_time": "2020-11-21T20:10:08.784238Z"
    }
   },
   "outputs": [],
   "source": [
    "import time\n",
    "time_start_notebook = time.time()"
   ]
  },
  {
   "cell_type": "code",
   "execution_count": 2,
   "metadata": {
    "ExecuteTime": {
     "end_time": "2020-11-21T20:10:08.804672Z",
     "start_time": "2020-11-21T20:10:08.797608Z"
    }
   },
   "outputs": [],
   "source": [
    "%%capture\n",
    "import os\n",
    "import sys\n",
    "ENV_COLAB = 'google.colab' in sys.modules\n",
    "\n",
    "if ENV_COLAB:\n",
    "    ## install modules\n",
    "    !pip install watermark\n",
    "    !pip install catboost\n",
    "    !pip install shap eli5\n",
    "\n",
    "    # if we update existing module, we need to restart colab\n",
    "    !pip install -U scikit-learn\n",
    "\n",
    "    ## print\n",
    "    print('Environment: Google Colaboratory.')\n",
    "TREE_METHOD = 'gpu_hist' if ENV_COLAB else 'auto'"
   ]
  },
  {
   "cell_type": "markdown",
   "metadata": {},
   "source": [
    "# Load the libraries"
   ]
  },
  {
   "cell_type": "code",
   "execution_count": 3,
   "metadata": {
    "ExecuteTime": {
     "end_time": "2020-11-21T20:10:14.321350Z",
     "start_time": "2020-11-21T20:10:08.808516Z"
    }
   },
   "outputs": [
    {
     "name": "stderr",
     "output_type": "stream",
     "text": [
      "/Users/poudel/opt/miniconda3/envs/ray/lib/python3.7/site-packages/seaborn/rcmod.py:5: MatplotlibDeprecationWarning: \n",
      "The keymap.all_axes rcparam was deprecated in Matplotlib 3.3 and will be removed two minor releases later.\n",
      "  import matplotlib as mpl\n"
     ]
    },
    {
     "name": "stdout",
     "output_type": "stream",
     "text": [
      "Bhishan Poudel 2020-11-21 \n",
      "\n",
      "CPython 3.7.9\n",
      "IPython 7.18.1\n",
      "\n",
      "compiler   : Clang 10.0.0 \n",
      "system     : Darwin\n",
      "release    : 19.6.0\n",
      "machine    : x86_64\n",
      "processor  : i386\n",
      "CPU cores  : 4\n",
      "interpreter: 64bit\n",
      "\n",
      "watermark  2.0.2\n",
      "lightgbm   3.0.0\n",
      "json       2.0.9\n",
      "pandas     1.1.2\n",
      "xgboost    1.2.0\n",
      "sklearn    0.23.2\n",
      "seaborn    0.11.0\n",
      "matplotlib 3.3.2\n",
      "catboost   0.24\n",
      "numpy      1.18.5\n",
      "\n"
     ]
    }
   ],
   "source": [
    "import numpy as np\n",
    "import pandas as pd\n",
    "\n",
    "# visualization\n",
    "import seaborn as sns\n",
    "sns.set(color_codes=True)\n",
    "import matplotlib\n",
    "import matplotlib.pyplot as plt\n",
    "%matplotlib inline\n",
    "\n",
    "# mixed\n",
    "import os\n",
    "import time\n",
    "from pprint import pprint\n",
    "\n",
    "# random state\n",
    "SEED=100\n",
    "np.random.seed(SEED)\n",
    "\n",
    "# settings\n",
    "pd.set_option('display.max_columns', 200)\n",
    "\n",
    "# sklearn\n",
    "import sklearn\n",
    "from sklearn import preprocessing\n",
    "from sklearn import model_selection\n",
    "from sklearn import ensemble\n",
    "from sklearn import metrics\n",
    "from sklearn.pipeline import Pipeline\n",
    "from sklearn.inspection import permutation_importance\n",
    "\n",
    "# boosting\n",
    "from sklearn.experimental import enable_hist_gradient_boosting  # noqa\n",
    "from sklearn.ensemble import HistGradientBoostingRegressor\n",
    "import xgboost\n",
    "import lightgbm\n",
    "import catboost\n",
    "\n",
    "# versions\n",
    "import watermark\n",
    "%load_ext watermark\n",
    "%watermark -a \"Bhishan Poudel\" -d -v -m\n",
    "print()\n",
    "%watermark -iv"
   ]
  },
  {
   "cell_type": "markdown",
   "metadata": {},
   "source": [
    "# Useful Functions"
   ]
  },
  {
   "cell_type": "code",
   "execution_count": 4,
   "metadata": {
    "ExecuteTime": {
     "end_time": "2020-11-21T20:10:14.330921Z",
     "start_time": "2020-11-21T20:10:14.324511Z"
    }
   },
   "outputs": [],
   "source": [
    "def adjustedR2(rsquared,nrows,ncols):\n",
    "    return rsquared- (ncols-1)/(nrows-ncols) * (1-rsquared)\n",
    "\n",
    "def print_regr_eval(ytest,ypreds,ncols):\n",
    "    rmse = np.sqrt(metrics.mean_squared_error(ytest,ypreds))\n",
    "    r2 = metrics.r2_score(ytest,ypreds)\n",
    "    ar2 = adjustedR2(r2,len(ytest),ncols)\n",
    "    evs = metrics.explained_variance_score(ytest, ypreds)\n",
    "\n",
    "    print(f\"\"\"\n",
    "             RMSE : {rmse:,.2f}\n",
    "Explained Variance: {evs:.6f}\n",
    "         R-Squared: {r2:,.6f}\n",
    "Adjusted R-squared: {ar2:,.6f}\n",
    "\n",
    "\"\"\")"
   ]
  },
  {
   "cell_type": "markdown",
   "metadata": {},
   "source": [
    "# Parameters"
   ]
  },
  {
   "cell_type": "code",
   "execution_count": 5,
   "metadata": {
    "ExecuteTime": {
     "end_time": "2020-11-21T20:10:14.344828Z",
     "start_time": "2020-11-21T20:10:14.340307Z"
    }
   },
   "outputs": [
    {
     "name": "stdout",
     "output_type": "stream",
     "text": [
      "../data/raw/train.csv\n"
     ]
    }
   ],
   "source": [
    "if ENV_COLAB:\n",
    "    path_raw = 'https://raw.githubusercontent.com/bhishanpdl/Datasets/master/'\n",
    "    proj = 'Projects/King_County_Seattle_House_Price_Kaggle/'\n",
    "    data_path_parent = path_raw + proj\n",
    "    data_path_train = data_path_parent + 'raw/train.csv'\n",
    "    data_path_test = data_path_parent + 'raw/test.csv'\n",
    "\n",
    "else:\n",
    "    data_path_parent = '../data/'\n",
    "    data_path_train = data_path_parent + 'raw/train.csv'\n",
    "    data_path_test = data_path_parent + 'raw/test.csv'\n",
    "\n",
    "target = 'price'\n",
    "train_size = 0.8\n",
    "\n",
    "print(data_path_train)"
   ]
  },
  {
   "cell_type": "markdown",
   "metadata": {
    "ExecuteTime": {
     "end_time": "2020-09-18T12:54:40.056558Z",
     "start_time": "2020-09-18T12:54:39.963176Z"
    }
   },
   "source": [
    "# Load the Data"
   ]
  },
  {
   "cell_type": "code",
   "execution_count": 6,
   "metadata": {
    "ExecuteTime": {
     "end_time": "2020-11-21T20:10:14.471800Z",
     "start_time": "2020-11-21T20:10:14.349705Z"
    }
   },
   "outputs": [
    {
     "name": "stdout",
     "output_type": "stream",
     "text": [
      "(17290, 21)\n",
      "Index(['id', 'date', 'price', 'bedrooms', 'bathrooms', 'sqft_living',\n",
      "       'sqft_lot', 'floors', 'waterfront', 'view', 'condition', 'grade',\n",
      "       'sqft_above', 'sqft_basement', 'yr_built', 'yr_renovated', 'zipcode',\n",
      "       'lat', 'long', 'sqft_living15', 'sqft_lot15'],\n",
      "      dtype='object')\n"
     ]
    },
    {
     "data": {
      "text/html": [
       "<div>\n",
       "<style scoped>\n",
       "    .dataframe tbody tr th:only-of-type {\n",
       "        vertical-align: middle;\n",
       "    }\n",
       "\n",
       "    .dataframe tbody tr th {\n",
       "        vertical-align: top;\n",
       "    }\n",
       "\n",
       "    .dataframe thead th {\n",
       "        text-align: right;\n",
       "    }\n",
       "</style>\n",
       "<table border=\"1\" class=\"dataframe\">\n",
       "  <thead>\n",
       "    <tr style=\"text-align: right;\">\n",
       "      <th></th>\n",
       "      <th>id</th>\n",
       "      <th>date</th>\n",
       "      <th>price</th>\n",
       "      <th>bedrooms</th>\n",
       "      <th>bathrooms</th>\n",
       "      <th>sqft_living</th>\n",
       "      <th>sqft_lot</th>\n",
       "      <th>floors</th>\n",
       "      <th>waterfront</th>\n",
       "      <th>view</th>\n",
       "      <th>condition</th>\n",
       "      <th>grade</th>\n",
       "      <th>sqft_above</th>\n",
       "      <th>sqft_basement</th>\n",
       "      <th>yr_built</th>\n",
       "      <th>yr_renovated</th>\n",
       "      <th>zipcode</th>\n",
       "      <th>lat</th>\n",
       "      <th>long</th>\n",
       "      <th>sqft_living15</th>\n",
       "      <th>sqft_lot15</th>\n",
       "    </tr>\n",
       "  </thead>\n",
       "  <tbody>\n",
       "    <tr>\n",
       "      <th>0</th>\n",
       "      <td>2561340020</td>\n",
       "      <td>20140804T000000</td>\n",
       "      <td>325000.0</td>\n",
       "      <td>3</td>\n",
       "      <td>1.75</td>\n",
       "      <td>1780</td>\n",
       "      <td>11096</td>\n",
       "      <td>1.0</td>\n",
       "      <td>0</td>\n",
       "      <td>0</td>\n",
       "      <td>3</td>\n",
       "      <td>7</td>\n",
       "      <td>1210</td>\n",
       "      <td>570</td>\n",
       "      <td>1979</td>\n",
       "      <td>0</td>\n",
       "      <td>98074</td>\n",
       "      <td>47.6170</td>\n",
       "      <td>-122.051</td>\n",
       "      <td>1780</td>\n",
       "      <td>10640</td>\n",
       "    </tr>\n",
       "    <tr>\n",
       "      <th>1</th>\n",
       "      <td>8598200070</td>\n",
       "      <td>20141208T000000</td>\n",
       "      <td>278000.0</td>\n",
       "      <td>2</td>\n",
       "      <td>2.50</td>\n",
       "      <td>1420</td>\n",
       "      <td>2229</td>\n",
       "      <td>2.0</td>\n",
       "      <td>0</td>\n",
       "      <td>0</td>\n",
       "      <td>3</td>\n",
       "      <td>7</td>\n",
       "      <td>1420</td>\n",
       "      <td>0</td>\n",
       "      <td>2004</td>\n",
       "      <td>0</td>\n",
       "      <td>98059</td>\n",
       "      <td>47.4871</td>\n",
       "      <td>-122.165</td>\n",
       "      <td>1500</td>\n",
       "      <td>2230</td>\n",
       "    </tr>\n",
       "    <tr>\n",
       "      <th>17288</th>\n",
       "      <td>7174800760</td>\n",
       "      <td>20140725T000000</td>\n",
       "      <td>667000.0</td>\n",
       "      <td>5</td>\n",
       "      <td>2.00</td>\n",
       "      <td>1900</td>\n",
       "      <td>5470</td>\n",
       "      <td>1.0</td>\n",
       "      <td>0</td>\n",
       "      <td>0</td>\n",
       "      <td>3</td>\n",
       "      <td>7</td>\n",
       "      <td>1180</td>\n",
       "      <td>720</td>\n",
       "      <td>1930</td>\n",
       "      <td>1965</td>\n",
       "      <td>98105</td>\n",
       "      <td>47.6666</td>\n",
       "      <td>-122.303</td>\n",
       "      <td>1300</td>\n",
       "      <td>3250</td>\n",
       "    </tr>\n",
       "    <tr>\n",
       "      <th>17289</th>\n",
       "      <td>9521100280</td>\n",
       "      <td>20140612T000000</td>\n",
       "      <td>480000.0</td>\n",
       "      <td>3</td>\n",
       "      <td>2.50</td>\n",
       "      <td>1250</td>\n",
       "      <td>1103</td>\n",
       "      <td>3.0</td>\n",
       "      <td>0</td>\n",
       "      <td>2</td>\n",
       "      <td>3</td>\n",
       "      <td>8</td>\n",
       "      <td>1250</td>\n",
       "      <td>0</td>\n",
       "      <td>2005</td>\n",
       "      <td>0</td>\n",
       "      <td>98103</td>\n",
       "      <td>47.6619</td>\n",
       "      <td>-122.352</td>\n",
       "      <td>1250</td>\n",
       "      <td>1188</td>\n",
       "    </tr>\n",
       "  </tbody>\n",
       "</table>\n",
       "</div>"
      ],
      "text/plain": [
       "               id             date     price  bedrooms  bathrooms  \\\n",
       "0      2561340020  20140804T000000  325000.0         3       1.75   \n",
       "1      8598200070  20141208T000000  278000.0         2       2.50   \n",
       "17288  7174800760  20140725T000000  667000.0         5       2.00   \n",
       "17289  9521100280  20140612T000000  480000.0         3       2.50   \n",
       "\n",
       "       sqft_living  sqft_lot  floors  waterfront  view  condition  grade  \\\n",
       "0             1780     11096     1.0           0     0          3      7   \n",
       "1             1420      2229     2.0           0     0          3      7   \n",
       "17288         1900      5470     1.0           0     0          3      7   \n",
       "17289         1250      1103     3.0           0     2          3      8   \n",
       "\n",
       "       sqft_above  sqft_basement  yr_built  yr_renovated  zipcode      lat  \\\n",
       "0            1210            570      1979             0    98074  47.6170   \n",
       "1            1420              0      2004             0    98059  47.4871   \n",
       "17288        1180            720      1930          1965    98105  47.6666   \n",
       "17289        1250              0      2005             0    98103  47.6619   \n",
       "\n",
       "          long  sqft_living15  sqft_lot15  \n",
       "0     -122.051           1780       10640  \n",
       "1     -122.165           1500        2230  \n",
       "17288 -122.303           1300        3250  \n",
       "17289 -122.352           1250        1188  "
      ]
     },
     "metadata": {},
     "output_type": "display_data"
    }
   ],
   "source": [
    "df_train = pd.read_csv(data_path_train)\n",
    "df_test = pd.read_csv(data_path_test)\n",
    "print(df_train.shape)\n",
    "print(df_train.columns)\n",
    "\n",
    "display(df_train.head(2).append(df_train.tail(2)))"
   ]
  },
  {
   "cell_type": "markdown",
   "metadata": {},
   "source": [
    "# Data Processing"
   ]
  },
  {
   "cell_type": "code",
   "execution_count": 7,
   "metadata": {
    "ExecuteTime": {
     "end_time": "2020-11-21T20:10:14.492599Z",
     "start_time": "2020-11-21T20:10:14.475929Z"
    }
   },
   "outputs": [],
   "source": [
    "def clean_data(df,log=True,sq=True,logsq=True,dummy=True,dummy_cat=False):\n",
    "    # log sq\n",
    "    if logsq:\n",
    "        log = True\n",
    "        sq = True\n",
    "\n",
    "    df = df.copy()\n",
    "\n",
    "    # Date time features\n",
    "    df['date'] = pd.to_datetime(df['date'])\n",
    "    df['yr_sales'] = df['date'].dt.year\n",
    "    df['age'] = df['yr_sales'] - df['yr_built']\n",
    "    df['yr_renovated2'] = np.where(df['yr_renovated'].eq(0), df['yr_built'], df['yr_renovated'])\n",
    "    df['age_after_renovation'] = df['yr_sales'] - df['yr_renovated2']\n",
    "\n",
    "    # Boolean data types\n",
    "    f = lambda x: 1 if x>0 else 0\n",
    "    df['basement_bool'] = df['sqft_basement'].apply(f)\n",
    "    df['renovation_bool'] = df['yr_renovated'].apply(f)\n",
    "\n",
    "    # Numerical features binning\n",
    "    cols_bin = ['age','age_after_renovation']\n",
    "    df['age_cat'] = pd.cut(df['age'], 10, labels=range(10)).astype(str)\n",
    "    df['age_after_renovation_cat'] = pd.cut(df['age_after_renovation'],\n",
    "                                            10, labels=range(10))\n",
    "\n",
    "    # Log transformation of large numerical values\n",
    "    cols_log = ['sqft_living', 'sqft_lot', 'sqft_above',\n",
    "                'sqft_basement', 'sqft_living15', 'sqft_lot15']\n",
    "    if log:\n",
    "        for col in cols_log:\n",
    "            df['log1p_' + col] = np.log1p(df[col])\n",
    "\n",
    "    # squared columns\n",
    "    cols_sq = [\n",
    "        # cats\n",
    "        'bedrooms','bathrooms','floors','waterfront','view',\n",
    "\n",
    "        # created nums\n",
    "        'age','age_after_renovation']\n",
    "\n",
    "    if sq:\n",
    "        for col in cols_sq:\n",
    "            df[col + '_sq'] = df[col]**2\n",
    "\n",
    "    cols_log_sq = [\n",
    "        # log nums\n",
    "        'log1p_sqft_living','log1p_sqft_lot',\n",
    "        'log1p_sqft_above','log1p_sqft_basement',\n",
    "        'log1p_sqft_living15','log1p_sqft_lot15'\n",
    "        ]\n",
    "    if logsq:\n",
    "        for col in cols_log_sq:\n",
    "            df[col + '_sq'] = df[col]**2\n",
    "\n",
    "    # Categorical Features\n",
    "    cols_dummy     = ['waterfront', 'view', 'condition', 'grade']\n",
    "    cols_dummy_cat = ['age_cat', 'age_after_renovation_cat']\n",
    "    for c in cols_dummy:\n",
    "        df[c] = df[c].astype(str)\n",
    "\n",
    "    # Create dummy variables\n",
    "    if dummy:\n",
    "        df_dummy = pd.get_dummies(df[cols_dummy],drop_first=False)\n",
    "        df       = pd.concat([df,df_dummy], axis=1)\n",
    "\n",
    "    # dummy variable for newly created cats from numerical feature\n",
    "    if dummy_cat:\n",
    "        df_dummy = pd.get_dummies(df[cols_dummy_cat],drop_first=False)\n",
    "        df       = pd.concat([df,cols_dummy_cat], axis=1)\n",
    "\n",
    "    # after creating dummy, make the columns number\n",
    "    for c in cols_dummy + cols_dummy_cat:\n",
    "        df[c] = df[c].astype(np.int32)\n",
    "\n",
    "    # Drop unwanted columns\n",
    "    cols_drop = ['id','date']\n",
    "    df = df.drop(cols_drop,axis=1)\n",
    "\n",
    "    return df"
   ]
  },
  {
   "cell_type": "code",
   "execution_count": 8,
   "metadata": {
    "ExecuteTime": {
     "end_time": "2020-11-21T20:10:14.718103Z",
     "start_time": "2020-11-21T20:10:14.497359Z"
    }
   },
   "outputs": [
    {
     "name": "stdout",
     "output_type": "stream",
     "text": [
      "(17290, 70)\n",
      "Index(['price', 'bedrooms', 'bathrooms', 'sqft_living', 'sqft_lot', 'floors',\n",
      "       'waterfront', 'view', 'condition', 'grade', 'sqft_above',\n",
      "       'sqft_basement', 'yr_built', 'yr_renovated', 'zipcode', 'lat', 'long',\n",
      "       'sqft_living15', 'sqft_lot15', 'yr_sales', 'age', 'yr_renovated2',\n",
      "       'age_after_renovation', 'basement_bool', 'renovation_bool', 'age_cat',\n",
      "       'age_after_renovation_cat', 'log1p_sqft_living', 'log1p_sqft_lot',\n",
      "       'log1p_sqft_above', 'log1p_sqft_basement', 'log1p_sqft_living15',\n",
      "       'log1p_sqft_lot15', 'bedrooms_sq', 'bathrooms_sq', 'floors_sq',\n",
      "       'waterfront_sq', 'view_sq', 'age_sq', 'age_after_renovation_sq',\n",
      "       'log1p_sqft_living_sq', 'log1p_sqft_lot_sq', 'log1p_sqft_above_sq',\n",
      "       'log1p_sqft_basement_sq', 'log1p_sqft_living15_sq',\n",
      "       'log1p_sqft_lot15_sq', 'waterfront_0', 'waterfront_1', 'view_0',\n",
      "       'view_1', 'view_2', 'view_3', 'view_4', 'condition_1', 'condition_2',\n",
      "       'condition_3', 'condition_4', 'condition_5', 'grade_1', 'grade_10',\n",
      "       'grade_11', 'grade_12', 'grade_13', 'grade_3', 'grade_4', 'grade_5',\n",
      "       'grade_6', 'grade_7', 'grade_8', 'grade_9'],\n",
      "      dtype='object')\n"
     ]
    }
   ],
   "source": [
    "params_data = dict(log=True,sq=True,logsq=True,\n",
    "                   dummy=True,dummy_cat=False)\n",
    "\n",
    "df_train = clean_data(df_train,**params_data)\n",
    "df_test = clean_data(df_test,**params_data)\n",
    "\n",
    "print(df_train.shape)\n",
    "print(df_train.columns)"
   ]
  },
  {
   "cell_type": "markdown",
   "metadata": {},
   "source": [
    "# Train target split"
   ]
  },
  {
   "cell_type": "code",
   "execution_count": 9,
   "metadata": {
    "ExecuteTime": {
     "end_time": "2020-11-21T20:10:14.726821Z",
     "start_time": "2020-11-21T20:10:14.722216Z"
    }
   },
   "outputs": [],
   "source": [
    "# choose features to train, we can change it later\n",
    "features = list(sorted(df_train.columns.drop(target)))\n",
    "# print(np.array(features))\n",
    "\n",
    "features = [i for i in features if i in df_test.columns if i in df_train.columns]\n",
    "# print(np.array(sorted(features)))"
   ]
  },
  {
   "cell_type": "code",
   "execution_count": 10,
   "metadata": {
    "ExecuteTime": {
     "end_time": "2020-11-21T20:10:14.740117Z",
     "start_time": "2020-11-21T20:10:14.729318Z"
    }
   },
   "outputs": [],
   "source": [
    "df_Xtrain  = df_train[features]\n",
    "ser_ytrain = df_train[target]\n",
    "\n",
    "df_Xtest  = df_test[features]\n",
    "ser_ytest = df_test[target]\n",
    "\n",
    "ytrain = np.array(ser_ytrain).flatten()\n",
    "ytest  = np.array(ser_ytest).flatten()"
   ]
  },
  {
   "cell_type": "markdown",
   "metadata": {},
   "source": [
    "## Scaling"
   ]
  },
  {
   "cell_type": "code",
   "execution_count": 11,
   "metadata": {
    "ExecuteTime": {
     "end_time": "2020-11-21T20:10:14.829864Z",
     "start_time": "2020-11-21T20:10:14.743246Z"
    }
   },
   "outputs": [
    {
     "data": {
      "text/html": [
       "<div>\n",
       "<style scoped>\n",
       "    .dataframe tbody tr th:only-of-type {\n",
       "        vertical-align: middle;\n",
       "    }\n",
       "\n",
       "    .dataframe tbody tr th {\n",
       "        vertical-align: top;\n",
       "    }\n",
       "\n",
       "    .dataframe thead th {\n",
       "        text-align: right;\n",
       "    }\n",
       "</style>\n",
       "<table border=\"1\" class=\"dataframe\">\n",
       "  <thead>\n",
       "    <tr style=\"text-align: right;\">\n",
       "      <th></th>\n",
       "      <th>age</th>\n",
       "      <th>age_after_renovation</th>\n",
       "      <th>age_after_renovation_cat</th>\n",
       "      <th>age_after_renovation_sq</th>\n",
       "      <th>age_cat</th>\n",
       "      <th>age_sq</th>\n",
       "      <th>basement_bool</th>\n",
       "      <th>bathrooms</th>\n",
       "      <th>bathrooms_sq</th>\n",
       "      <th>bedrooms</th>\n",
       "      <th>bedrooms_sq</th>\n",
       "      <th>condition</th>\n",
       "      <th>condition_1</th>\n",
       "      <th>condition_2</th>\n",
       "      <th>condition_3</th>\n",
       "      <th>condition_4</th>\n",
       "      <th>condition_5</th>\n",
       "      <th>floors</th>\n",
       "      <th>floors_sq</th>\n",
       "      <th>grade</th>\n",
       "      <th>grade_10</th>\n",
       "      <th>grade_11</th>\n",
       "      <th>grade_12</th>\n",
       "      <th>grade_13</th>\n",
       "      <th>grade_4</th>\n",
       "      <th>grade_5</th>\n",
       "      <th>grade_6</th>\n",
       "      <th>grade_7</th>\n",
       "      <th>grade_8</th>\n",
       "      <th>grade_9</th>\n",
       "      <th>lat</th>\n",
       "      <th>log1p_sqft_above</th>\n",
       "      <th>log1p_sqft_above_sq</th>\n",
       "      <th>log1p_sqft_basement</th>\n",
       "      <th>log1p_sqft_basement_sq</th>\n",
       "      <th>log1p_sqft_living</th>\n",
       "      <th>log1p_sqft_living15</th>\n",
       "      <th>log1p_sqft_living15_sq</th>\n",
       "      <th>log1p_sqft_living_sq</th>\n",
       "      <th>log1p_sqft_lot</th>\n",
       "      <th>log1p_sqft_lot15</th>\n",
       "      <th>log1p_sqft_lot15_sq</th>\n",
       "      <th>log1p_sqft_lot_sq</th>\n",
       "      <th>long</th>\n",
       "      <th>renovation_bool</th>\n",
       "      <th>sqft_above</th>\n",
       "      <th>sqft_basement</th>\n",
       "      <th>sqft_living</th>\n",
       "      <th>sqft_living15</th>\n",
       "      <th>sqft_lot</th>\n",
       "      <th>sqft_lot15</th>\n",
       "      <th>view</th>\n",
       "      <th>view_0</th>\n",
       "      <th>view_1</th>\n",
       "      <th>view_2</th>\n",
       "      <th>view_3</th>\n",
       "      <th>view_4</th>\n",
       "      <th>view_sq</th>\n",
       "      <th>waterfront</th>\n",
       "      <th>waterfront_0</th>\n",
       "      <th>waterfront_1</th>\n",
       "      <th>waterfront_sq</th>\n",
       "      <th>yr_built</th>\n",
       "      <th>yr_renovated</th>\n",
       "      <th>yr_renovated2</th>\n",
       "      <th>yr_sales</th>\n",
       "      <th>zipcode</th>\n",
       "    </tr>\n",
       "  </thead>\n",
       "  <tbody>\n",
       "    <tr>\n",
       "      <th>0</th>\n",
       "      <td>-0.288109</td>\n",
       "      <td>-0.212303</td>\n",
       "      <td>-0.062185</td>\n",
       "      <td>-0.438016</td>\n",
       "      <td>-0.139825</td>\n",
       "      <td>-0.494698</td>\n",
       "      <td>1.247166</td>\n",
       "      <td>-0.468811</td>\n",
       "      <td>-0.537610</td>\n",
       "      <td>-0.39033</td>\n",
       "      <td>-0.302220</td>\n",
       "      <td>-0.630613</td>\n",
       "      <td>-0.035694</td>\n",
       "      <td>-0.08937</td>\n",
       "      <td>0.735526</td>\n",
       "      <td>-0.595921</td>\n",
       "      <td>-0.294513</td>\n",
       "      <td>-0.916249</td>\n",
       "      <td>-0.837904</td>\n",
       "      <td>-0.554878</td>\n",
       "      <td>-0.238288</td>\n",
       "      <td>-0.135782</td>\n",
       "      <td>-0.066005</td>\n",
       "      <td>-0.026354</td>\n",
       "      <td>-0.036497</td>\n",
       "      <td>-0.108453</td>\n",
       "      <td>-0.324043</td>\n",
       "      <td>1.186907</td>\n",
       "      <td>-0.624934</td>\n",
       "      <td>-0.367371</td>\n",
       "      <td>0.410048</td>\n",
       "      <td>-0.688967</td>\n",
       "      <td>-0.698830</td>\n",
       "      <td>1.208375</td>\n",
       "      <td>1.137983</td>\n",
       "      <td>-0.149505</td>\n",
       "      <td>-0.169074</td>\n",
       "      <td>-0.189252</td>\n",
       "      <td>-0.177052</td>\n",
       "      <td>0.361630</td>\n",
       "      <td>0.383984</td>\n",
       "      <td>0.328910</td>\n",
       "      <td>0.301512</td>\n",
       "      <td>1.151178</td>\n",
       "      <td>-0.207998</td>\n",
       "      <td>-0.698239</td>\n",
       "      <td>0.636923</td>\n",
       "      <td>-0.322100</td>\n",
       "      <td>-0.302502</td>\n",
       "      <td>-0.095727</td>\n",
       "      <td>-0.078695</td>\n",
       "      <td>-0.305512</td>\n",
       "      <td>0.329787</td>\n",
       "      <td>-0.123077</td>\n",
       "      <td>-0.217065</td>\n",
       "      <td>-0.1533</td>\n",
       "      <td>-0.124282</td>\n",
       "      <td>-0.261712</td>\n",
       "      <td>-0.089698</td>\n",
       "      <td>0.089698</td>\n",
       "      <td>-0.089698</td>\n",
       "      <td>-0.089698</td>\n",
       "      <td>0.277141</td>\n",
       "      <td>-0.207992</td>\n",
       "      <td>0.201159</td>\n",
       "      <td>-0.693043</td>\n",
       "      <td>-0.071763</td>\n",
       "    </tr>\n",
       "    <tr>\n",
       "      <th>1</th>\n",
       "      <td>-1.135161</td>\n",
       "      <td>-1.074946</td>\n",
       "      <td>-1.265291</td>\n",
       "      <td>-0.814627</td>\n",
       "      <td>-1.320662</td>\n",
       "      <td>-0.856409</td>\n",
       "      <td>-0.801818</td>\n",
       "      <td>0.506258</td>\n",
       "      <td>0.326221</td>\n",
       "      <td>-1.46038</td>\n",
       "      <td>-0.775165</td>\n",
       "      <td>-0.630613</td>\n",
       "      <td>-0.035694</td>\n",
       "      <td>-0.08937</td>\n",
       "      <td>0.735526</td>\n",
       "      <td>-0.595921</td>\n",
       "      <td>-0.294513</td>\n",
       "      <td>0.933474</td>\n",
       "      <td>0.806845</td>\n",
       "      <td>-0.554878</td>\n",
       "      <td>-0.238288</td>\n",
       "      <td>-0.135782</td>\n",
       "      <td>-0.066005</td>\n",
       "      <td>-0.026354</td>\n",
       "      <td>-0.036497</td>\n",
       "      <td>-0.108453</td>\n",
       "      <td>-0.324043</td>\n",
       "      <td>1.186907</td>\n",
       "      <td>-0.624934</td>\n",
       "      <td>-0.367371</td>\n",
       "      <td>-0.527440</td>\n",
       "      <td>-0.314663</td>\n",
       "      <td>-0.338123</td>\n",
       "      <td>-0.795545</td>\n",
       "      <td>-0.779839</td>\n",
       "      <td>-0.681826</td>\n",
       "      <td>-0.692075</td>\n",
       "      <td>-0.700087</td>\n",
       "      <td>-0.697163</td>\n",
       "      <td>-1.411647</td>\n",
       "      <td>-1.527957</td>\n",
       "      <td>-1.398248</td>\n",
       "      <td>-1.291600</td>\n",
       "      <td>0.344386</td>\n",
       "      <td>-0.207998</td>\n",
       "      <td>-0.442941</td>\n",
       "      <td>-0.658262</td>\n",
       "      <td>-0.716449</td>\n",
       "      <td>-0.712318</td>\n",
       "      <td>-0.302804</td>\n",
       "      <td>-0.378759</td>\n",
       "      <td>-0.305512</td>\n",
       "      <td>0.329787</td>\n",
       "      <td>-0.123077</td>\n",
       "      <td>-0.217065</td>\n",
       "      <td>-0.1533</td>\n",
       "      <td>-0.124282</td>\n",
       "      <td>-0.261712</td>\n",
       "      <td>-0.089698</td>\n",
       "      <td>0.089698</td>\n",
       "      <td>-0.089698</td>\n",
       "      <td>-0.089698</td>\n",
       "      <td>1.124268</td>\n",
       "      <td>-0.207992</td>\n",
       "      <td>1.064027</td>\n",
       "      <td>-0.693043</td>\n",
       "      <td>-0.353180</td>\n",
       "    </tr>\n",
       "  </tbody>\n",
       "</table>\n",
       "</div>"
      ],
      "text/plain": [
       "        age  age_after_renovation  age_after_renovation_cat  \\\n",
       "0 -0.288109             -0.212303                 -0.062185   \n",
       "1 -1.135161             -1.074946                 -1.265291   \n",
       "\n",
       "   age_after_renovation_sq   age_cat    age_sq  basement_bool  bathrooms  \\\n",
       "0                -0.438016 -0.139825 -0.494698       1.247166  -0.468811   \n",
       "1                -0.814627 -1.320662 -0.856409      -0.801818   0.506258   \n",
       "\n",
       "   bathrooms_sq  bedrooms  bedrooms_sq  condition  condition_1  condition_2  \\\n",
       "0     -0.537610  -0.39033    -0.302220  -0.630613    -0.035694     -0.08937   \n",
       "1      0.326221  -1.46038    -0.775165  -0.630613    -0.035694     -0.08937   \n",
       "\n",
       "   condition_3  condition_4  condition_5    floors  floors_sq     grade  \\\n",
       "0     0.735526    -0.595921    -0.294513 -0.916249  -0.837904 -0.554878   \n",
       "1     0.735526    -0.595921    -0.294513  0.933474   0.806845 -0.554878   \n",
       "\n",
       "   grade_10  grade_11  grade_12  grade_13   grade_4   grade_5   grade_6  \\\n",
       "0 -0.238288 -0.135782 -0.066005 -0.026354 -0.036497 -0.108453 -0.324043   \n",
       "1 -0.238288 -0.135782 -0.066005 -0.026354 -0.036497 -0.108453 -0.324043   \n",
       "\n",
       "    grade_7   grade_8   grade_9       lat  log1p_sqft_above  \\\n",
       "0  1.186907 -0.624934 -0.367371  0.410048         -0.688967   \n",
       "1  1.186907 -0.624934 -0.367371 -0.527440         -0.314663   \n",
       "\n",
       "   log1p_sqft_above_sq  log1p_sqft_basement  log1p_sqft_basement_sq  \\\n",
       "0            -0.698830             1.208375                1.137983   \n",
       "1            -0.338123            -0.795545               -0.779839   \n",
       "\n",
       "   log1p_sqft_living  log1p_sqft_living15  log1p_sqft_living15_sq  \\\n",
       "0          -0.149505            -0.169074               -0.189252   \n",
       "1          -0.681826            -0.692075               -0.700087   \n",
       "\n",
       "   log1p_sqft_living_sq  log1p_sqft_lot  log1p_sqft_lot15  \\\n",
       "0             -0.177052        0.361630          0.383984   \n",
       "1             -0.697163       -1.411647         -1.527957   \n",
       "\n",
       "   log1p_sqft_lot15_sq  log1p_sqft_lot_sq      long  renovation_bool  \\\n",
       "0             0.328910           0.301512  1.151178        -0.207998   \n",
       "1            -1.398248          -1.291600  0.344386        -0.207998   \n",
       "\n",
       "   sqft_above  sqft_basement  sqft_living  sqft_living15  sqft_lot  \\\n",
       "0   -0.698239       0.636923    -0.322100      -0.302502 -0.095727   \n",
       "1   -0.442941      -0.658262    -0.716449      -0.712318 -0.302804   \n",
       "\n",
       "   sqft_lot15      view    view_0    view_1    view_2  view_3    view_4  \\\n",
       "0   -0.078695 -0.305512  0.329787 -0.123077 -0.217065 -0.1533 -0.124282   \n",
       "1   -0.378759 -0.305512  0.329787 -0.123077 -0.217065 -0.1533 -0.124282   \n",
       "\n",
       "    view_sq  waterfront  waterfront_0  waterfront_1  waterfront_sq  yr_built  \\\n",
       "0 -0.261712   -0.089698      0.089698     -0.089698      -0.089698  0.277141   \n",
       "1 -0.261712   -0.089698      0.089698     -0.089698      -0.089698  1.124268   \n",
       "\n",
       "   yr_renovated  yr_renovated2  yr_sales   zipcode  \n",
       "0     -0.207992       0.201159 -0.693043 -0.071763  \n",
       "1     -0.207992       1.064027 -0.693043 -0.353180  "
      ]
     },
     "execution_count": 11,
     "metadata": {},
     "output_type": "execute_result"
    }
   ],
   "source": [
    "scaling = 'standard'\n",
    "if scaling == 'standard':\n",
    "    scaler = preprocessing.StandardScaler()\n",
    "    scaler.fit(df_Xtrain)\n",
    "    df_Xtrain = pd.DataFrame(scaler.transform(df_Xtrain),columns=features)\n",
    "    df_Xtest =  pd.DataFrame(scaler.transform(df_Xtest),columns=features)\n",
    "elif scaling == 'minmax':\n",
    "    scaler = preprocessing.MinMaxScaler()\n",
    "    scaler.fit(df_Xtrain)\n",
    "    df_Xtrain = pd.DataFrame(scaler.transform(df_Xtrain),columns=features)\n",
    "    df_Xtest = pd.DataFrame(scaler.transform(df_Xtest),columns=features)\n",
    "\n",
    "df_Xtrain.head(2)"
   ]
  },
  {
   "cell_type": "markdown",
   "metadata": {},
   "source": [
    "# Modelling Xgboost"
   ]
  },
  {
   "cell_type": "code",
   "execution_count": 12,
   "metadata": {
    "ExecuteTime": {
     "end_time": "2020-11-21T20:10:14.932782Z",
     "start_time": "2020-11-21T20:10:14.833461Z"
    }
   },
   "outputs": [
    {
     "name": "stdout",
     "output_type": "stream",
     "text": [
      "ytest: [285000. 239950. 460000.]\n",
      "ypreds:  [343218.4  204292.33 508420.8 ]\n",
      "\n",
      "             RMSE : 110,471.76\n",
      "Explained Variance: 0.910365\n",
      "         R-Squared: 0.909445\n",
      "Adjusted R-squared: 0.908041\n",
      "\n",
      "\n"
     ]
    }
   ],
   "source": [
    "path_model_xgb = '../models/model_xgb_logtarget.dump'\n",
    "model = xgboost.XGBRegressor()\n",
    "model.load_model(fname='../models/model_xgb_logtarget.dump')\n",
    "\n",
    "ypreds_log1p = model.predict(df_Xtest)\n",
    "ypreds = np.expm1(ypreds_log1p)\n",
    "\n",
    "print('ytest:', ytest[:3])\n",
    "print('ypreds: ', ypreds[:3])\n",
    "print_regr_eval(ytest,ypreds,df_Xtest.shape[1])"
   ]
  },
  {
   "cell_type": "markdown",
   "metadata": {},
   "source": [
    "# Using What if tool"
   ]
  },
  {
   "cell_type": "code",
   "execution_count": 13,
   "metadata": {
    "ExecuteTime": {
     "end_time": "2020-11-21T20:10:26.297933Z",
     "start_time": "2020-11-21T20:10:14.935303Z"
    }
   },
   "outputs": [],
   "source": [
    "import witwidget\n",
    "from witwidget.notebook.visualization import WitConfigBuilder\n",
    "from witwidget.notebook.visualization import WitWidget"
   ]
  },
  {
   "cell_type": "code",
   "execution_count": 16,
   "metadata": {
    "ExecuteTime": {
     "end_time": "2020-11-21T20:20:20.757598Z",
     "start_time": "2020-11-21T20:20:20.754778Z"
    }
   },
   "outputs": [],
   "source": [
    "def custom_predict_fn(z):\n",
    "    # note: we need to use np.expm1 if we had done log1p transform if target\n",
    "    testing_data = pd.DataFrame(df_Xtest, columns=df_Xtest.columns.tolist())\n",
    "    return np.expm1(model.predict(testing_data))"
   ]
  },
  {
   "cell_type": "code",
   "execution_count": 17,
   "metadata": {
    "ExecuteTime": {
     "end_time": "2020-11-21T20:20:22.272982Z",
     "start_time": "2020-11-21T20:20:22.025661Z"
    }
   },
   "outputs": [
    {
     "data": {
      "text/html": [
       "<style>.container { width:100% !important; }</style>"
      ],
      "text/plain": [
       "<IPython.core.display.HTML object>"
      ]
     },
     "metadata": {},
     "output_type": "display_data"
    },
    {
     "data": {
      "application/vnd.jupyter.widget-view+json": {
       "model_id": "2ad74684b8e94a48ab9e82501a25ba1d",
       "version_major": 2,
       "version_minor": 0
      },
      "text/plain": [
       "WitWidget(config={'model_type': 'regression', 'label_vocab': [], 'feature_names': ['age', 'age_after_renovatio…"
      ]
     },
     "metadata": {},
     "output_type": "display_data"
    }
   ],
   "source": [
    "N = 100\n",
    "HEIGHT = 1000\n",
    "\n",
    "arr_examples = np.c_[df_Xtest.to_numpy(), ytest][:N]\n",
    "lst_examples = arr_examples.tolist()\n",
    "\n",
    "config_builder = WitConfigBuilder(lst_examples, features + [target])\n",
    "\n",
    "config_builder.set_target_feature(target)\n",
    "config_builder.set_custom_predict_fn(custom_predict_fn)\n",
    "config_builder.set_model_type('regression')\n",
    "\n",
    "WitWidget(config_builder, height=HEIGHT)"
   ]
  },
  {
   "cell_type": "code",
   "execution_count": null,
   "metadata": {},
   "outputs": [],
   "source": []
  }
 ],
 "metadata": {
  "kernelspec": {
   "display_name": "Python37(ray)",
   "language": "python",
   "name": "ray"
  },
  "language_info": {
   "codemirror_mode": {
    "name": "ipython",
    "version": 3
   },
   "file_extension": ".py",
   "mimetype": "text/x-python",
   "name": "python",
   "nbconvert_exporter": "python",
   "pygments_lexer": "ipython3",
   "version": "3.7.9"
  },
  "toc": {
   "base_numbering": 1,
   "nav_menu": {},
   "number_sections": true,
   "sideBar": true,
   "skip_h1_title": false,
   "title_cell": "Table of Contents",
   "title_sidebar": "Contents",
   "toc_cell": true,
   "toc_position": {},
   "toc_section_display": true,
   "toc_window_display": true
  },
  "varInspector": {
   "cols": {
    "lenName": 16,
    "lenType": 16,
    "lenVar": 40
   },
   "kernels_config": {
    "python": {
     "delete_cmd_postfix": "",
     "delete_cmd_prefix": "del ",
     "library": "var_list.py",
     "varRefreshCmd": "print(var_dic_list())"
    },
    "r": {
     "delete_cmd_postfix": ") ",
     "delete_cmd_prefix": "rm(",
     "library": "var_list.r",
     "varRefreshCmd": "cat(var_dic_list()) "
    }
   },
   "types_to_exclude": [
    "module",
    "function",
    "builtin_function_or_method",
    "instance",
    "_Feature"
   ],
   "window_display": false
  }
 },
 "nbformat": 4,
 "nbformat_minor": 4
}
