{
 "cells": [
  {
   "cell_type": "markdown",
   "metadata": {
    "toc": "true"
   },
   "source": [
    "<h1>Table of Contents<span class=\"tocSkip\"></span></h1>\n",
    "<div class=\"toc\"><ul class=\"toc-item\"><li><span><a href=\"#Data-Description\" data-toc-modified-id=\"Data-Description-1\"><span class=\"toc-item-num\">1&nbsp;&nbsp;</span>Data Description</a></span></li><li><span><a href=\"#Imports\" data-toc-modified-id=\"Imports-2\"><span class=\"toc-item-num\">2&nbsp;&nbsp;</span>Imports</a></span></li><li><span><a href=\"#Useful-Scripts\" data-toc-modified-id=\"Useful-Scripts-3\"><span class=\"toc-item-num\">3&nbsp;&nbsp;</span>Useful Scripts</a></span></li><li><span><a href=\"#Load-the-data\" data-toc-modified-id=\"Load-the-data-4\"><span class=\"toc-item-num\">4&nbsp;&nbsp;</span>Load the data</a></span></li><li><span><a href=\"#Data-Processing-and-Feature-Engineering\" data-toc-modified-id=\"Data-Processing-and-Feature-Engineering-5\"><span class=\"toc-item-num\">5&nbsp;&nbsp;</span>Data Processing and Feature Engineering</a></span><ul class=\"toc-item\"><li><span><a href=\"#Date-time-features\" data-toc-modified-id=\"Date-time-features-5.1\"><span class=\"toc-item-num\">5.1&nbsp;&nbsp;</span>Date time features</a></span></li><li><span><a href=\"#Categorical-Features\" data-toc-modified-id=\"Categorical-Features-5.2\"><span class=\"toc-item-num\">5.2&nbsp;&nbsp;</span>Categorical Features</a></span></li><li><span><a href=\"#Boolean-data-types\" data-toc-modified-id=\"Boolean-data-types-5.3\"><span class=\"toc-item-num\">5.3&nbsp;&nbsp;</span>Boolean data types</a></span></li><li><span><a href=\"#Numerical-features-binning\" data-toc-modified-id=\"Numerical-features-binning-5.4\"><span class=\"toc-item-num\">5.4&nbsp;&nbsp;</span>Numerical features binning</a></span></li><li><span><a href=\"#Create-dummy-variables-from-object-and-categories\" data-toc-modified-id=\"Create-dummy-variables-from-object-and-categories-5.5\"><span class=\"toc-item-num\">5.5&nbsp;&nbsp;</span>Create dummy variables from object and categories</a></span></li></ul></li><li><span><a href=\"#Log-transformation-of-large-numerical-values\" data-toc-modified-id=\"Log-transformation-of-large-numerical-values-6\"><span class=\"toc-item-num\">6&nbsp;&nbsp;</span>Log transformation of large numerical values</a></span></li><li><span><a href=\"#Drop-unwanted-columns\" data-toc-modified-id=\"Drop-unwanted-columns-7\"><span class=\"toc-item-num\">7&nbsp;&nbsp;</span>Drop unwanted columns</a></span></li><li><span><a href=\"#Save-clean-data\" data-toc-modified-id=\"Save-clean-data-8\"><span class=\"toc-item-num\">8&nbsp;&nbsp;</span>Save clean data</a></span></li><li><span><a href=\"#For-Modelling\" data-toc-modified-id=\"For-Modelling-9\"><span class=\"toc-item-num\">9&nbsp;&nbsp;</span>For Modelling</a></span></li><li><span><a href=\"#Time-Taken\" data-toc-modified-id=\"Time-Taken-10\"><span class=\"toc-item-num\">10&nbsp;&nbsp;</span>Time Taken</a></span></li></ul></div>"
   ]
  },
  {
   "cell_type": "markdown",
   "metadata": {},
   "source": [
    "<div class=\"alert alert-block alert-success\">\n",
    "<b>Kernel Author:</b>  <br>\n",
    "<a href=\"https://bhishanpdl.github.io/\" , target=\"_blank\">Bhishan Poudel,  Data Scientist, Ph.D Astrophysics</a> .\n",
    "</div>"
   ]
  },
  {
   "cell_type": "markdown",
   "metadata": {},
   "source": [
    "# Data Description\n",
    "\n",
    "This dataset contains house sale prices for King County, which includes Seattle.\n",
    "It includes homes sold between May 2014 and May 2015.\n",
    "\n",
    "![](images/data_description.png)"
   ]
  },
  {
   "cell_type": "markdown",
   "metadata": {},
   "source": [
    "# Imports"
   ]
  },
  {
   "cell_type": "code",
   "execution_count": 1,
   "metadata": {},
   "outputs": [],
   "source": [
    "import time\n",
    "time_start_notebook = time.time()"
   ]
  },
  {
   "cell_type": "code",
   "execution_count": 2,
   "metadata": {
    "ExecuteTime": {
     "end_time": "2021-04-08T14:32:33.653997Z",
     "start_time": "2021-04-08T14:32:32.545542Z"
    }
   },
   "outputs": [
    {
     "name": "stderr",
     "output_type": "stream",
     "text": [
      "/Users/poudel/opt/miniconda3/envs/dataSc/lib/python3.7/importlib/_bootstrap.py:219: RuntimeWarning:\n",
      "\n",
      "numpy.ufunc size changed, may indicate binary incompatibility. Expected 192 from C header, got 216 from PyObject\n",
      "\n",
      "/Users/poudel/opt/miniconda3/envs/dataSc/lib/python3.7/importlib/_bootstrap.py:219: RuntimeWarning:\n",
      "\n",
      "numpy.ufunc size changed, may indicate binary incompatibility. Expected 192 from C header, got 216 from PyObject\n",
      "\n",
      "/Users/poudel/opt/miniconda3/envs/dataSc/lib/python3.7/importlib/_bootstrap.py:219: RuntimeWarning:\n",
      "\n",
      "numpy.ufunc size changed, may indicate binary incompatibility. Expected 192 from C header, got 216 from PyObject\n",
      "\n",
      "/Users/poudel/opt/miniconda3/envs/dataSc/lib/python3.7/importlib/_bootstrap.py:219: RuntimeWarning:\n",
      "\n",
      "numpy.ufunc size changed, may indicate binary incompatibility. Expected 192 from C header, got 216 from PyObject\n",
      "\n",
      "/Users/poudel/opt/miniconda3/envs/dataSc/lib/python3.7/importlib/_bootstrap.py:219: RuntimeWarning:\n",
      "\n",
      "numpy.ufunc size changed, may indicate binary incompatibility. Expected 192 from C header, got 216 from PyObject\n",
      "\n"
     ]
    }
   ],
   "source": [
    "# my local library\n",
    "import sys\n",
    "sys.path.append(\"/Users/poudel/Dropbox/a00_Bhishan_Modules/\")\n",
    "sys.path.append(\"/Users/poudel/Dropbox/a00_Bhishan_Modules/bhishan\")\n",
    "from bhishan import bp"
   ]
  },
  {
   "cell_type": "code",
   "execution_count": 1,
   "metadata": {
    "ExecuteTime": {
     "end_time": "2021-04-08T14:32:05.739877Z",
     "start_time": "2021-04-08T14:32:03.319907Z"
    }
   },
   "outputs": [
    {
     "name": "stderr",
     "output_type": "stream",
     "text": [
      "/Users/poudel/opt/miniconda3/envs/dataSc/lib/python3.7/importlib/_bootstrap.py:219: RuntimeWarning:\n",
      "\n",
      "numpy.ufunc size changed, may indicate binary incompatibility. Expected 192 from C header, got 216 from PyObject\n",
      "\n"
     ]
    },
    {
     "ename": "ModuleNotFoundError",
     "evalue": "No module named 'plot_utils'",
     "output_type": "error",
     "traceback": [
      "\u001b[0;31m---------------------------------------------------------------------------\u001b[0m",
      "\u001b[0;31mModuleNotFoundError\u001b[0m                       Traceback (most recent call last)",
      "\u001b[0;32m<ipython-input-1-9740b3cc0240>\u001b[0m in \u001b[0;36m<module>\u001b[0;34m\u001b[0m\n\u001b[1;32m      4\u001b[0m \u001b[0;34m\u001b[0m\u001b[0m\n\u001b[1;32m      5\u001b[0m \u001b[0;31m# local imports\u001b[0m\u001b[0;34m\u001b[0m\u001b[0;34m\u001b[0m\u001b[0;34m\u001b[0m\u001b[0m\n\u001b[0;32m----> 6\u001b[0;31m \u001b[0;32mfrom\u001b[0m \u001b[0mbhishan\u001b[0m \u001b[0;32mimport\u001b[0m \u001b[0mbp\u001b[0m\u001b[0;34m\u001b[0m\u001b[0;34m\u001b[0m\u001b[0m\n\u001b[0m\u001b[1;32m      7\u001b[0m \u001b[0;34m\u001b[0m\u001b[0m\n\u001b[1;32m      8\u001b[0m \u001b[0;31m# mixed\u001b[0m\u001b[0;34m\u001b[0m\u001b[0;34m\u001b[0m\u001b[0;34m\u001b[0m\u001b[0m\n",
      "\u001b[0;32m~/Dropbox/a00_Bhishan_Modules/bhishan/__init__.py\u001b[0m in \u001b[0;36m<module>\u001b[0;34m\u001b[0m\n\u001b[1;32m     12\u001b[0m \u001b[0m__version__\u001b[0m \u001b[0;34m=\u001b[0m \u001b[0;34m'0.4.0'\u001b[0m\u001b[0;34m\u001b[0m\u001b[0;34m\u001b[0m\u001b[0m\n\u001b[1;32m     13\u001b[0m \u001b[0;34m\u001b[0m\u001b[0m\n\u001b[0;32m---> 14\u001b[0;31m \u001b[0;32mfrom\u001b[0m \u001b[0;34m.\u001b[0m\u001b[0mpandas_api\u001b[0m \u001b[0;32mimport\u001b[0m \u001b[0mBPAccessor\u001b[0m\u001b[0;34m\u001b[0m\u001b[0;34m\u001b[0m\u001b[0m\n\u001b[0m\u001b[1;32m     15\u001b[0m \u001b[0;34m\u001b[0m\u001b[0m\n\u001b[1;32m     16\u001b[0m \u001b[0;34m\u001b[0m\u001b[0m\n",
      "\u001b[0;32m~/Dropbox/a00_Bhishan_Modules/bhishan/pandas_api.py\u001b[0m in \u001b[0;36m<module>\u001b[0;34m\u001b[0m\n\u001b[1;32m     58\u001b[0m \u001b[0;34m\u001b[0m\u001b[0m\n\u001b[1;32m     59\u001b[0m \u001b[0;31m# it was .plot_utils I changed only plot_utils\u001b[0m\u001b[0;34m\u001b[0m\u001b[0;34m\u001b[0m\u001b[0;34m\u001b[0m\u001b[0m\n\u001b[0;32m---> 60\u001b[0;31m from plot_utils import (add_text_barplot, magnify,\n\u001b[0m\u001b[1;32m     61\u001b[0m                         get_mpl_style, get_plotly_colorscale)\n\u001b[1;32m     62\u001b[0m \u001b[0;34m\u001b[0m\u001b[0m\n",
      "\u001b[0;31mModuleNotFoundError\u001b[0m: No module named 'plot_utils'"
     ]
    }
   ],
   "source": [
    "# usual imports\n",
    "import numpy as np\n",
    "import pandas as pd\n",
    "\n",
    "# mixed\n",
    "import os\n",
    "import time\n",
    "\n",
    "# random state\n",
    "RNG = np.random.RandomState(0)\n",
    "\n",
    "# versions\n",
    "import watermark\n",
    "%load_ext watermark\n",
    "%watermark -a \"Bhishan Poudel\" -d -v -m\n",
    "print()\n",
    "%watermark -iv"
   ]
  },
  {
   "cell_type": "code",
   "execution_count": 3,
   "metadata": {},
   "outputs": [
    {
     "data": {
      "application/javascript": [
       "IPython.OutputArea.auto_scroll_threshold = 9999;\n"
      ],
      "text/plain": [
       "<IPython.core.display.Javascript object>"
      ]
     },
     "metadata": {},
     "output_type": "display_data"
    }
   ],
   "source": [
    "%%javascript\n",
    "IPython.OutputArea.auto_scroll_threshold = 9999;"
   ]
  },
  {
   "cell_type": "markdown",
   "metadata": {},
   "source": [
    "# Useful Scripts"
   ]
  },
  {
   "cell_type": "code",
   "execution_count": 4,
   "metadata": {
    "ExecuteTime": {
     "end_time": "2019-10-05T00:39:59.741085Z",
     "start_time": "2019-10-05T00:39:59.712564Z"
    }
   },
   "outputs": [],
   "source": [
    "def show_methods(method, ncols=7):\n",
    "    \"\"\" Show all the attributes of a given method.\n",
    "    Example:\n",
    "    ========\n",
    "    show_method_attributes(list)\n",
    "     \"\"\"\n",
    "    x = [i for i in dir(method) if i[0].islower()]\n",
    "\n",
    "    return pd.DataFrame(np.array_split(x,ncols)).T.fillna('')"
   ]
  },
  {
   "cell_type": "code",
   "execution_count": 5,
   "metadata": {
    "ExecuteTime": {
     "end_time": "2019-10-05T00:44:01.499249Z",
     "start_time": "2019-10-05T00:44:01.458832Z"
    }
   },
   "outputs": [],
   "source": [
    "def json_dump_tofile(myjson,ofile,sort_keys=False):\n",
    "    \"\"\"Write json dictionary to a datafile.\n",
    "    \n",
    "    Usage:\n",
    "    myjson = {'num': 5, my_list = [1,2,'apple']}\n",
    "    json_dump_tofile(myjson, ofile)\n",
    "    \n",
    "    \"\"\"\n",
    "    import io\n",
    "    import json\n",
    "\n",
    "    with io.open(ofile, 'w', encoding='utf8') as fo:\n",
    "        json_str = json.dumps(myjson,\n",
    "                          indent=4,\n",
    "                          sort_keys=sort_keys,\n",
    "                          separators=(',', ': '),\n",
    "                          ensure_ascii=False)\n",
    "        fo.write(str(json_str))"
   ]
  },
  {
   "cell_type": "markdown",
   "metadata": {},
   "source": [
    "# Load the data"
   ]
  },
  {
   "cell_type": "code",
   "execution_count": 6,
   "metadata": {
    "ExecuteTime": {
     "end_time": "2019-10-04T23:57:02.763879Z",
     "start_time": "2019-10-04T23:57:02.667031Z"
    }
   },
   "outputs": [
    {
     "name": "stdout",
     "output_type": "stream",
     "text": [
      "(21613, 21)\n"
     ]
    },
    {
     "data": {
      "text/html": [
       "<div>\n",
       "<style scoped>\n",
       "    .dataframe tbody tr th:only-of-type {\n",
       "        vertical-align: middle;\n",
       "    }\n",
       "\n",
       "    .dataframe tbody tr th {\n",
       "        vertical-align: top;\n",
       "    }\n",
       "\n",
       "    .dataframe thead th {\n",
       "        text-align: right;\n",
       "    }\n",
       "</style>\n",
       "<table border=\"1\" class=\"dataframe\">\n",
       "  <thead>\n",
       "    <tr style=\"text-align: right;\">\n",
       "      <th></th>\n",
       "      <th>0</th>\n",
       "      <th>1</th>\n",
       "      <th>2</th>\n",
       "      <th>3</th>\n",
       "      <th>4</th>\n",
       "    </tr>\n",
       "  </thead>\n",
       "  <tbody>\n",
       "    <tr>\n",
       "      <th>id</th>\n",
       "      <td>7129300520</td>\n",
       "      <td>6414100192</td>\n",
       "      <td>5631500400</td>\n",
       "      <td>2487200875</td>\n",
       "      <td>1954400510</td>\n",
       "    </tr>\n",
       "    <tr>\n",
       "      <th>date</th>\n",
       "      <td>20141013T000000</td>\n",
       "      <td>20141209T000000</td>\n",
       "      <td>20150225T000000</td>\n",
       "      <td>20141209T000000</td>\n",
       "      <td>20150218T000000</td>\n",
       "    </tr>\n",
       "    <tr>\n",
       "      <th>price</th>\n",
       "      <td>221900</td>\n",
       "      <td>538000</td>\n",
       "      <td>180000</td>\n",
       "      <td>604000</td>\n",
       "      <td>510000</td>\n",
       "    </tr>\n",
       "    <tr>\n",
       "      <th>bedrooms</th>\n",
       "      <td>3</td>\n",
       "      <td>3</td>\n",
       "      <td>2</td>\n",
       "      <td>4</td>\n",
       "      <td>3</td>\n",
       "    </tr>\n",
       "    <tr>\n",
       "      <th>bathrooms</th>\n",
       "      <td>1</td>\n",
       "      <td>2.25</td>\n",
       "      <td>1</td>\n",
       "      <td>3</td>\n",
       "      <td>2</td>\n",
       "    </tr>\n",
       "    <tr>\n",
       "      <th>sqft_living</th>\n",
       "      <td>1180</td>\n",
       "      <td>2570</td>\n",
       "      <td>770</td>\n",
       "      <td>1960</td>\n",
       "      <td>1680</td>\n",
       "    </tr>\n",
       "    <tr>\n",
       "      <th>sqft_lot</th>\n",
       "      <td>5650</td>\n",
       "      <td>7242</td>\n",
       "      <td>10000</td>\n",
       "      <td>5000</td>\n",
       "      <td>8080</td>\n",
       "    </tr>\n",
       "    <tr>\n",
       "      <th>floors</th>\n",
       "      <td>1</td>\n",
       "      <td>2</td>\n",
       "      <td>1</td>\n",
       "      <td>1</td>\n",
       "      <td>1</td>\n",
       "    </tr>\n",
       "    <tr>\n",
       "      <th>waterfront</th>\n",
       "      <td>0</td>\n",
       "      <td>0</td>\n",
       "      <td>0</td>\n",
       "      <td>0</td>\n",
       "      <td>0</td>\n",
       "    </tr>\n",
       "    <tr>\n",
       "      <th>view</th>\n",
       "      <td>0</td>\n",
       "      <td>0</td>\n",
       "      <td>0</td>\n",
       "      <td>0</td>\n",
       "      <td>0</td>\n",
       "    </tr>\n",
       "    <tr>\n",
       "      <th>condition</th>\n",
       "      <td>3</td>\n",
       "      <td>3</td>\n",
       "      <td>3</td>\n",
       "      <td>5</td>\n",
       "      <td>3</td>\n",
       "    </tr>\n",
       "    <tr>\n",
       "      <th>grade</th>\n",
       "      <td>7</td>\n",
       "      <td>7</td>\n",
       "      <td>6</td>\n",
       "      <td>7</td>\n",
       "      <td>8</td>\n",
       "    </tr>\n",
       "    <tr>\n",
       "      <th>sqft_above</th>\n",
       "      <td>1180</td>\n",
       "      <td>2170</td>\n",
       "      <td>770</td>\n",
       "      <td>1050</td>\n",
       "      <td>1680</td>\n",
       "    </tr>\n",
       "    <tr>\n",
       "      <th>sqft_basement</th>\n",
       "      <td>0</td>\n",
       "      <td>400</td>\n",
       "      <td>0</td>\n",
       "      <td>910</td>\n",
       "      <td>0</td>\n",
       "    </tr>\n",
       "    <tr>\n",
       "      <th>yr_built</th>\n",
       "      <td>1955</td>\n",
       "      <td>1951</td>\n",
       "      <td>1933</td>\n",
       "      <td>1965</td>\n",
       "      <td>1987</td>\n",
       "    </tr>\n",
       "    <tr>\n",
       "      <th>yr_renovated</th>\n",
       "      <td>0</td>\n",
       "      <td>1991</td>\n",
       "      <td>0</td>\n",
       "      <td>0</td>\n",
       "      <td>0</td>\n",
       "    </tr>\n",
       "    <tr>\n",
       "      <th>zipcode</th>\n",
       "      <td>98178</td>\n",
       "      <td>98125</td>\n",
       "      <td>98028</td>\n",
       "      <td>98136</td>\n",
       "      <td>98074</td>\n",
       "    </tr>\n",
       "    <tr>\n",
       "      <th>lat</th>\n",
       "      <td>47.5112</td>\n",
       "      <td>47.721</td>\n",
       "      <td>47.7379</td>\n",
       "      <td>47.5208</td>\n",
       "      <td>47.6168</td>\n",
       "    </tr>\n",
       "    <tr>\n",
       "      <th>long</th>\n",
       "      <td>-122.257</td>\n",
       "      <td>-122.319</td>\n",
       "      <td>-122.233</td>\n",
       "      <td>-122.393</td>\n",
       "      <td>-122.045</td>\n",
       "    </tr>\n",
       "    <tr>\n",
       "      <th>sqft_living15</th>\n",
       "      <td>1340</td>\n",
       "      <td>1690</td>\n",
       "      <td>2720</td>\n",
       "      <td>1360</td>\n",
       "      <td>1800</td>\n",
       "    </tr>\n",
       "    <tr>\n",
       "      <th>sqft_lot15</th>\n",
       "      <td>5650</td>\n",
       "      <td>7639</td>\n",
       "      <td>8062</td>\n",
       "      <td>5000</td>\n",
       "      <td>7503</td>\n",
       "    </tr>\n",
       "  </tbody>\n",
       "</table>\n",
       "</div>"
      ],
      "text/plain": [
       "                             0                1                2  \\\n",
       "id                  7129300520       6414100192       5631500400   \n",
       "date           20141013T000000  20141209T000000  20150225T000000   \n",
       "price                   221900           538000           180000   \n",
       "bedrooms                     3                3                2   \n",
       "bathrooms                    1             2.25                1   \n",
       "sqft_living               1180             2570              770   \n",
       "sqft_lot                  5650             7242            10000   \n",
       "floors                       1                2                1   \n",
       "waterfront                   0                0                0   \n",
       "view                         0                0                0   \n",
       "condition                    3                3                3   \n",
       "grade                        7                7                6   \n",
       "sqft_above                1180             2170              770   \n",
       "sqft_basement                0              400                0   \n",
       "yr_built                  1955             1951             1933   \n",
       "yr_renovated                 0             1991                0   \n",
       "zipcode                  98178            98125            98028   \n",
       "lat                    47.5112           47.721          47.7379   \n",
       "long                  -122.257         -122.319         -122.233   \n",
       "sqft_living15             1340             1690             2720   \n",
       "sqft_lot15                5650             7639             8062   \n",
       "\n",
       "                             3                4  \n",
       "id                  2487200875       1954400510  \n",
       "date           20141209T000000  20150218T000000  \n",
       "price                   604000           510000  \n",
       "bedrooms                     4                3  \n",
       "bathrooms                    3                2  \n",
       "sqft_living               1960             1680  \n",
       "sqft_lot                  5000             8080  \n",
       "floors                       1                1  \n",
       "waterfront                   0                0  \n",
       "view                         0                0  \n",
       "condition                    5                3  \n",
       "grade                        7                8  \n",
       "sqft_above                1050             1680  \n",
       "sqft_basement              910                0  \n",
       "yr_built                  1965             1987  \n",
       "yr_renovated                 0                0  \n",
       "zipcode                  98136            98074  \n",
       "lat                    47.5208          47.6168  \n",
       "long                  -122.393         -122.045  \n",
       "sqft_living15             1360             1800  \n",
       "sqft_lot15                5000             7503  "
      ]
     },
     "execution_count": 6,
     "metadata": {},
     "output_type": "execute_result"
    }
   ],
   "source": [
    "df = pd.read_csv('../data/raw/kc_house_data.csv')\n",
    "print(df.shape)\n",
    "df.head().T"
   ]
  },
  {
   "cell_type": "markdown",
   "metadata": {},
   "source": [
    "# Data Processing and Feature Engineering"
   ]
  },
  {
   "cell_type": "code",
   "execution_count": 7,
   "metadata": {},
   "outputs": [],
   "source": [
    "# bp.show_methods(bp)"
   ]
  },
  {
   "cell_type": "code",
   "execution_count": 8,
   "metadata": {
    "ExecuteTime": {
     "end_time": "2019-10-04T23:57:04.937210Z",
     "start_time": "2019-10-04T23:57:04.851775Z"
    },
    "scrolled": true
   },
   "outputs": [
    {
     "data": {
      "text/html": [
       "<style  type=\"text/css\" >\n",
       "#T_3d72ca54_1e2b_11eb_9b47_acde48001122row1_col1{\n",
       "            background:  salmon;\n",
       "        }</style><table id=\"T_3d72ca54_1e2b_11eb_9b47_acde48001122\" ><thead>    <tr>        <th class=\"blank level0\" ></th>        <th class=\"col_heading level0 col0\" >column</th>        <th class=\"col_heading level0 col1\" >dtype</th>        <th class=\"col_heading level0 col2\" >nunique</th>        <th class=\"col_heading level0 col3\" >nans</th>        <th class=\"col_heading level0 col4\" >nans_pct</th>        <th class=\"col_heading level0 col5\" >nzeros</th>        <th class=\"col_heading level0 col6\" >nzeros_pct</th>    </tr></thead><tbody>\n",
       "                <tr>\n",
       "                        <th id=\"T_3d72ca54_1e2b_11eb_9b47_acde48001122level0_row0\" class=\"row_heading level0 row0\" >0</th>\n",
       "                        <td id=\"T_3d72ca54_1e2b_11eb_9b47_acde48001122row0_col0\" class=\"data row0 col0\" >id</td>\n",
       "                        <td id=\"T_3d72ca54_1e2b_11eb_9b47_acde48001122row0_col1\" class=\"data row0 col1\" >int64</td>\n",
       "                        <td id=\"T_3d72ca54_1e2b_11eb_9b47_acde48001122row0_col2\" class=\"data row0 col2\" >21436</td>\n",
       "                        <td id=\"T_3d72ca54_1e2b_11eb_9b47_acde48001122row0_col3\" class=\"data row0 col3\" >0</td>\n",
       "                        <td id=\"T_3d72ca54_1e2b_11eb_9b47_acde48001122row0_col4\" class=\"data row0 col4\" >0.0%</td>\n",
       "                        <td id=\"T_3d72ca54_1e2b_11eb_9b47_acde48001122row0_col5\" class=\"data row0 col5\" >0</td>\n",
       "                        <td id=\"T_3d72ca54_1e2b_11eb_9b47_acde48001122row0_col6\" class=\"data row0 col6\" >0.0%</td>\n",
       "            </tr>\n",
       "            <tr>\n",
       "                        <th id=\"T_3d72ca54_1e2b_11eb_9b47_acde48001122level0_row1\" class=\"row_heading level0 row1\" >1</th>\n",
       "                        <td id=\"T_3d72ca54_1e2b_11eb_9b47_acde48001122row1_col0\" class=\"data row1 col0\" >date</td>\n",
       "                        <td id=\"T_3d72ca54_1e2b_11eb_9b47_acde48001122row1_col1\" class=\"data row1 col1\" >object</td>\n",
       "                        <td id=\"T_3d72ca54_1e2b_11eb_9b47_acde48001122row1_col2\" class=\"data row1 col2\" >372</td>\n",
       "                        <td id=\"T_3d72ca54_1e2b_11eb_9b47_acde48001122row1_col3\" class=\"data row1 col3\" >0</td>\n",
       "                        <td id=\"T_3d72ca54_1e2b_11eb_9b47_acde48001122row1_col4\" class=\"data row1 col4\" >0.0%</td>\n",
       "                        <td id=\"T_3d72ca54_1e2b_11eb_9b47_acde48001122row1_col5\" class=\"data row1 col5\" >0</td>\n",
       "                        <td id=\"T_3d72ca54_1e2b_11eb_9b47_acde48001122row1_col6\" class=\"data row1 col6\" >0.0%</td>\n",
       "            </tr>\n",
       "            <tr>\n",
       "                        <th id=\"T_3d72ca54_1e2b_11eb_9b47_acde48001122level0_row2\" class=\"row_heading level0 row2\" >2</th>\n",
       "                        <td id=\"T_3d72ca54_1e2b_11eb_9b47_acde48001122row2_col0\" class=\"data row2 col0\" >price</td>\n",
       "                        <td id=\"T_3d72ca54_1e2b_11eb_9b47_acde48001122row2_col1\" class=\"data row2 col1\" >float64</td>\n",
       "                        <td id=\"T_3d72ca54_1e2b_11eb_9b47_acde48001122row2_col2\" class=\"data row2 col2\" >4028</td>\n",
       "                        <td id=\"T_3d72ca54_1e2b_11eb_9b47_acde48001122row2_col3\" class=\"data row2 col3\" >0</td>\n",
       "                        <td id=\"T_3d72ca54_1e2b_11eb_9b47_acde48001122row2_col4\" class=\"data row2 col4\" >0.0%</td>\n",
       "                        <td id=\"T_3d72ca54_1e2b_11eb_9b47_acde48001122row2_col5\" class=\"data row2 col5\" >0</td>\n",
       "                        <td id=\"T_3d72ca54_1e2b_11eb_9b47_acde48001122row2_col6\" class=\"data row2 col6\" >0.0%</td>\n",
       "            </tr>\n",
       "            <tr>\n",
       "                        <th id=\"T_3d72ca54_1e2b_11eb_9b47_acde48001122level0_row3\" class=\"row_heading level0 row3\" >3</th>\n",
       "                        <td id=\"T_3d72ca54_1e2b_11eb_9b47_acde48001122row3_col0\" class=\"data row3 col0\" >bedrooms</td>\n",
       "                        <td id=\"T_3d72ca54_1e2b_11eb_9b47_acde48001122row3_col1\" class=\"data row3 col1\" >int64</td>\n",
       "                        <td id=\"T_3d72ca54_1e2b_11eb_9b47_acde48001122row3_col2\" class=\"data row3 col2\" >13</td>\n",
       "                        <td id=\"T_3d72ca54_1e2b_11eb_9b47_acde48001122row3_col3\" class=\"data row3 col3\" >0</td>\n",
       "                        <td id=\"T_3d72ca54_1e2b_11eb_9b47_acde48001122row3_col4\" class=\"data row3 col4\" >0.0%</td>\n",
       "                        <td id=\"T_3d72ca54_1e2b_11eb_9b47_acde48001122row3_col5\" class=\"data row3 col5\" >13</td>\n",
       "                        <td id=\"T_3d72ca54_1e2b_11eb_9b47_acde48001122row3_col6\" class=\"data row3 col6\" >0.06%</td>\n",
       "            </tr>\n",
       "            <tr>\n",
       "                        <th id=\"T_3d72ca54_1e2b_11eb_9b47_acde48001122level0_row4\" class=\"row_heading level0 row4\" >4</th>\n",
       "                        <td id=\"T_3d72ca54_1e2b_11eb_9b47_acde48001122row4_col0\" class=\"data row4 col0\" >bathrooms</td>\n",
       "                        <td id=\"T_3d72ca54_1e2b_11eb_9b47_acde48001122row4_col1\" class=\"data row4 col1\" >float64</td>\n",
       "                        <td id=\"T_3d72ca54_1e2b_11eb_9b47_acde48001122row4_col2\" class=\"data row4 col2\" >30</td>\n",
       "                        <td id=\"T_3d72ca54_1e2b_11eb_9b47_acde48001122row4_col3\" class=\"data row4 col3\" >0</td>\n",
       "                        <td id=\"T_3d72ca54_1e2b_11eb_9b47_acde48001122row4_col4\" class=\"data row4 col4\" >0.0%</td>\n",
       "                        <td id=\"T_3d72ca54_1e2b_11eb_9b47_acde48001122row4_col5\" class=\"data row4 col5\" >10</td>\n",
       "                        <td id=\"T_3d72ca54_1e2b_11eb_9b47_acde48001122row4_col6\" class=\"data row4 col6\" >0.05%</td>\n",
       "            </tr>\n",
       "            <tr>\n",
       "                        <th id=\"T_3d72ca54_1e2b_11eb_9b47_acde48001122level0_row5\" class=\"row_heading level0 row5\" >5</th>\n",
       "                        <td id=\"T_3d72ca54_1e2b_11eb_9b47_acde48001122row5_col0\" class=\"data row5 col0\" >sqft_living</td>\n",
       "                        <td id=\"T_3d72ca54_1e2b_11eb_9b47_acde48001122row5_col1\" class=\"data row5 col1\" >int64</td>\n",
       "                        <td id=\"T_3d72ca54_1e2b_11eb_9b47_acde48001122row5_col2\" class=\"data row5 col2\" >1038</td>\n",
       "                        <td id=\"T_3d72ca54_1e2b_11eb_9b47_acde48001122row5_col3\" class=\"data row5 col3\" >0</td>\n",
       "                        <td id=\"T_3d72ca54_1e2b_11eb_9b47_acde48001122row5_col4\" class=\"data row5 col4\" >0.0%</td>\n",
       "                        <td id=\"T_3d72ca54_1e2b_11eb_9b47_acde48001122row5_col5\" class=\"data row5 col5\" >0</td>\n",
       "                        <td id=\"T_3d72ca54_1e2b_11eb_9b47_acde48001122row5_col6\" class=\"data row5 col6\" >0.0%</td>\n",
       "            </tr>\n",
       "            <tr>\n",
       "                        <th id=\"T_3d72ca54_1e2b_11eb_9b47_acde48001122level0_row6\" class=\"row_heading level0 row6\" >6</th>\n",
       "                        <td id=\"T_3d72ca54_1e2b_11eb_9b47_acde48001122row6_col0\" class=\"data row6 col0\" >sqft_lot</td>\n",
       "                        <td id=\"T_3d72ca54_1e2b_11eb_9b47_acde48001122row6_col1\" class=\"data row6 col1\" >int64</td>\n",
       "                        <td id=\"T_3d72ca54_1e2b_11eb_9b47_acde48001122row6_col2\" class=\"data row6 col2\" >9782</td>\n",
       "                        <td id=\"T_3d72ca54_1e2b_11eb_9b47_acde48001122row6_col3\" class=\"data row6 col3\" >0</td>\n",
       "                        <td id=\"T_3d72ca54_1e2b_11eb_9b47_acde48001122row6_col4\" class=\"data row6 col4\" >0.0%</td>\n",
       "                        <td id=\"T_3d72ca54_1e2b_11eb_9b47_acde48001122row6_col5\" class=\"data row6 col5\" >0</td>\n",
       "                        <td id=\"T_3d72ca54_1e2b_11eb_9b47_acde48001122row6_col6\" class=\"data row6 col6\" >0.0%</td>\n",
       "            </tr>\n",
       "            <tr>\n",
       "                        <th id=\"T_3d72ca54_1e2b_11eb_9b47_acde48001122level0_row7\" class=\"row_heading level0 row7\" >7</th>\n",
       "                        <td id=\"T_3d72ca54_1e2b_11eb_9b47_acde48001122row7_col0\" class=\"data row7 col0\" >floors</td>\n",
       "                        <td id=\"T_3d72ca54_1e2b_11eb_9b47_acde48001122row7_col1\" class=\"data row7 col1\" >float64</td>\n",
       "                        <td id=\"T_3d72ca54_1e2b_11eb_9b47_acde48001122row7_col2\" class=\"data row7 col2\" >6</td>\n",
       "                        <td id=\"T_3d72ca54_1e2b_11eb_9b47_acde48001122row7_col3\" class=\"data row7 col3\" >0</td>\n",
       "                        <td id=\"T_3d72ca54_1e2b_11eb_9b47_acde48001122row7_col4\" class=\"data row7 col4\" >0.0%</td>\n",
       "                        <td id=\"T_3d72ca54_1e2b_11eb_9b47_acde48001122row7_col5\" class=\"data row7 col5\" >0</td>\n",
       "                        <td id=\"T_3d72ca54_1e2b_11eb_9b47_acde48001122row7_col6\" class=\"data row7 col6\" >0.0%</td>\n",
       "            </tr>\n",
       "            <tr>\n",
       "                        <th id=\"T_3d72ca54_1e2b_11eb_9b47_acde48001122level0_row8\" class=\"row_heading level0 row8\" >8</th>\n",
       "                        <td id=\"T_3d72ca54_1e2b_11eb_9b47_acde48001122row8_col0\" class=\"data row8 col0\" >waterfront</td>\n",
       "                        <td id=\"T_3d72ca54_1e2b_11eb_9b47_acde48001122row8_col1\" class=\"data row8 col1\" >int64</td>\n",
       "                        <td id=\"T_3d72ca54_1e2b_11eb_9b47_acde48001122row8_col2\" class=\"data row8 col2\" >2</td>\n",
       "                        <td id=\"T_3d72ca54_1e2b_11eb_9b47_acde48001122row8_col3\" class=\"data row8 col3\" >0</td>\n",
       "                        <td id=\"T_3d72ca54_1e2b_11eb_9b47_acde48001122row8_col4\" class=\"data row8 col4\" >0.0%</td>\n",
       "                        <td id=\"T_3d72ca54_1e2b_11eb_9b47_acde48001122row8_col5\" class=\"data row8 col5\" >21450</td>\n",
       "                        <td id=\"T_3d72ca54_1e2b_11eb_9b47_acde48001122row8_col6\" class=\"data row8 col6\" >99.25%</td>\n",
       "            </tr>\n",
       "            <tr>\n",
       "                        <th id=\"T_3d72ca54_1e2b_11eb_9b47_acde48001122level0_row9\" class=\"row_heading level0 row9\" >9</th>\n",
       "                        <td id=\"T_3d72ca54_1e2b_11eb_9b47_acde48001122row9_col0\" class=\"data row9 col0\" >view</td>\n",
       "                        <td id=\"T_3d72ca54_1e2b_11eb_9b47_acde48001122row9_col1\" class=\"data row9 col1\" >int64</td>\n",
       "                        <td id=\"T_3d72ca54_1e2b_11eb_9b47_acde48001122row9_col2\" class=\"data row9 col2\" >5</td>\n",
       "                        <td id=\"T_3d72ca54_1e2b_11eb_9b47_acde48001122row9_col3\" class=\"data row9 col3\" >0</td>\n",
       "                        <td id=\"T_3d72ca54_1e2b_11eb_9b47_acde48001122row9_col4\" class=\"data row9 col4\" >0.0%</td>\n",
       "                        <td id=\"T_3d72ca54_1e2b_11eb_9b47_acde48001122row9_col5\" class=\"data row9 col5\" >19489</td>\n",
       "                        <td id=\"T_3d72ca54_1e2b_11eb_9b47_acde48001122row9_col6\" class=\"data row9 col6\" >90.17%</td>\n",
       "            </tr>\n",
       "            <tr>\n",
       "                        <th id=\"T_3d72ca54_1e2b_11eb_9b47_acde48001122level0_row10\" class=\"row_heading level0 row10\" >10</th>\n",
       "                        <td id=\"T_3d72ca54_1e2b_11eb_9b47_acde48001122row10_col0\" class=\"data row10 col0\" >condition</td>\n",
       "                        <td id=\"T_3d72ca54_1e2b_11eb_9b47_acde48001122row10_col1\" class=\"data row10 col1\" >int64</td>\n",
       "                        <td id=\"T_3d72ca54_1e2b_11eb_9b47_acde48001122row10_col2\" class=\"data row10 col2\" >5</td>\n",
       "                        <td id=\"T_3d72ca54_1e2b_11eb_9b47_acde48001122row10_col3\" class=\"data row10 col3\" >0</td>\n",
       "                        <td id=\"T_3d72ca54_1e2b_11eb_9b47_acde48001122row10_col4\" class=\"data row10 col4\" >0.0%</td>\n",
       "                        <td id=\"T_3d72ca54_1e2b_11eb_9b47_acde48001122row10_col5\" class=\"data row10 col5\" >0</td>\n",
       "                        <td id=\"T_3d72ca54_1e2b_11eb_9b47_acde48001122row10_col6\" class=\"data row10 col6\" >0.0%</td>\n",
       "            </tr>\n",
       "            <tr>\n",
       "                        <th id=\"T_3d72ca54_1e2b_11eb_9b47_acde48001122level0_row11\" class=\"row_heading level0 row11\" >11</th>\n",
       "                        <td id=\"T_3d72ca54_1e2b_11eb_9b47_acde48001122row11_col0\" class=\"data row11 col0\" >grade</td>\n",
       "                        <td id=\"T_3d72ca54_1e2b_11eb_9b47_acde48001122row11_col1\" class=\"data row11 col1\" >int64</td>\n",
       "                        <td id=\"T_3d72ca54_1e2b_11eb_9b47_acde48001122row11_col2\" class=\"data row11 col2\" >12</td>\n",
       "                        <td id=\"T_3d72ca54_1e2b_11eb_9b47_acde48001122row11_col3\" class=\"data row11 col3\" >0</td>\n",
       "                        <td id=\"T_3d72ca54_1e2b_11eb_9b47_acde48001122row11_col4\" class=\"data row11 col4\" >0.0%</td>\n",
       "                        <td id=\"T_3d72ca54_1e2b_11eb_9b47_acde48001122row11_col5\" class=\"data row11 col5\" >0</td>\n",
       "                        <td id=\"T_3d72ca54_1e2b_11eb_9b47_acde48001122row11_col6\" class=\"data row11 col6\" >0.0%</td>\n",
       "            </tr>\n",
       "            <tr>\n",
       "                        <th id=\"T_3d72ca54_1e2b_11eb_9b47_acde48001122level0_row12\" class=\"row_heading level0 row12\" >12</th>\n",
       "                        <td id=\"T_3d72ca54_1e2b_11eb_9b47_acde48001122row12_col0\" class=\"data row12 col0\" >sqft_above</td>\n",
       "                        <td id=\"T_3d72ca54_1e2b_11eb_9b47_acde48001122row12_col1\" class=\"data row12 col1\" >int64</td>\n",
       "                        <td id=\"T_3d72ca54_1e2b_11eb_9b47_acde48001122row12_col2\" class=\"data row12 col2\" >946</td>\n",
       "                        <td id=\"T_3d72ca54_1e2b_11eb_9b47_acde48001122row12_col3\" class=\"data row12 col3\" >0</td>\n",
       "                        <td id=\"T_3d72ca54_1e2b_11eb_9b47_acde48001122row12_col4\" class=\"data row12 col4\" >0.0%</td>\n",
       "                        <td id=\"T_3d72ca54_1e2b_11eb_9b47_acde48001122row12_col5\" class=\"data row12 col5\" >0</td>\n",
       "                        <td id=\"T_3d72ca54_1e2b_11eb_9b47_acde48001122row12_col6\" class=\"data row12 col6\" >0.0%</td>\n",
       "            </tr>\n",
       "            <tr>\n",
       "                        <th id=\"T_3d72ca54_1e2b_11eb_9b47_acde48001122level0_row13\" class=\"row_heading level0 row13\" >13</th>\n",
       "                        <td id=\"T_3d72ca54_1e2b_11eb_9b47_acde48001122row13_col0\" class=\"data row13 col0\" >sqft_basement</td>\n",
       "                        <td id=\"T_3d72ca54_1e2b_11eb_9b47_acde48001122row13_col1\" class=\"data row13 col1\" >int64</td>\n",
       "                        <td id=\"T_3d72ca54_1e2b_11eb_9b47_acde48001122row13_col2\" class=\"data row13 col2\" >306</td>\n",
       "                        <td id=\"T_3d72ca54_1e2b_11eb_9b47_acde48001122row13_col3\" class=\"data row13 col3\" >0</td>\n",
       "                        <td id=\"T_3d72ca54_1e2b_11eb_9b47_acde48001122row13_col4\" class=\"data row13 col4\" >0.0%</td>\n",
       "                        <td id=\"T_3d72ca54_1e2b_11eb_9b47_acde48001122row13_col5\" class=\"data row13 col5\" >13126</td>\n",
       "                        <td id=\"T_3d72ca54_1e2b_11eb_9b47_acde48001122row13_col6\" class=\"data row13 col6\" >60.73%</td>\n",
       "            </tr>\n",
       "            <tr>\n",
       "                        <th id=\"T_3d72ca54_1e2b_11eb_9b47_acde48001122level0_row14\" class=\"row_heading level0 row14\" >14</th>\n",
       "                        <td id=\"T_3d72ca54_1e2b_11eb_9b47_acde48001122row14_col0\" class=\"data row14 col0\" >yr_built</td>\n",
       "                        <td id=\"T_3d72ca54_1e2b_11eb_9b47_acde48001122row14_col1\" class=\"data row14 col1\" >int64</td>\n",
       "                        <td id=\"T_3d72ca54_1e2b_11eb_9b47_acde48001122row14_col2\" class=\"data row14 col2\" >116</td>\n",
       "                        <td id=\"T_3d72ca54_1e2b_11eb_9b47_acde48001122row14_col3\" class=\"data row14 col3\" >0</td>\n",
       "                        <td id=\"T_3d72ca54_1e2b_11eb_9b47_acde48001122row14_col4\" class=\"data row14 col4\" >0.0%</td>\n",
       "                        <td id=\"T_3d72ca54_1e2b_11eb_9b47_acde48001122row14_col5\" class=\"data row14 col5\" >0</td>\n",
       "                        <td id=\"T_3d72ca54_1e2b_11eb_9b47_acde48001122row14_col6\" class=\"data row14 col6\" >0.0%</td>\n",
       "            </tr>\n",
       "            <tr>\n",
       "                        <th id=\"T_3d72ca54_1e2b_11eb_9b47_acde48001122level0_row15\" class=\"row_heading level0 row15\" >15</th>\n",
       "                        <td id=\"T_3d72ca54_1e2b_11eb_9b47_acde48001122row15_col0\" class=\"data row15 col0\" >yr_renovated</td>\n",
       "                        <td id=\"T_3d72ca54_1e2b_11eb_9b47_acde48001122row15_col1\" class=\"data row15 col1\" >int64</td>\n",
       "                        <td id=\"T_3d72ca54_1e2b_11eb_9b47_acde48001122row15_col2\" class=\"data row15 col2\" >70</td>\n",
       "                        <td id=\"T_3d72ca54_1e2b_11eb_9b47_acde48001122row15_col3\" class=\"data row15 col3\" >0</td>\n",
       "                        <td id=\"T_3d72ca54_1e2b_11eb_9b47_acde48001122row15_col4\" class=\"data row15 col4\" >0.0%</td>\n",
       "                        <td id=\"T_3d72ca54_1e2b_11eb_9b47_acde48001122row15_col5\" class=\"data row15 col5\" >20699</td>\n",
       "                        <td id=\"T_3d72ca54_1e2b_11eb_9b47_acde48001122row15_col6\" class=\"data row15 col6\" >95.77%</td>\n",
       "            </tr>\n",
       "            <tr>\n",
       "                        <th id=\"T_3d72ca54_1e2b_11eb_9b47_acde48001122level0_row16\" class=\"row_heading level0 row16\" >16</th>\n",
       "                        <td id=\"T_3d72ca54_1e2b_11eb_9b47_acde48001122row16_col0\" class=\"data row16 col0\" >zipcode</td>\n",
       "                        <td id=\"T_3d72ca54_1e2b_11eb_9b47_acde48001122row16_col1\" class=\"data row16 col1\" >int64</td>\n",
       "                        <td id=\"T_3d72ca54_1e2b_11eb_9b47_acde48001122row16_col2\" class=\"data row16 col2\" >70</td>\n",
       "                        <td id=\"T_3d72ca54_1e2b_11eb_9b47_acde48001122row16_col3\" class=\"data row16 col3\" >0</td>\n",
       "                        <td id=\"T_3d72ca54_1e2b_11eb_9b47_acde48001122row16_col4\" class=\"data row16 col4\" >0.0%</td>\n",
       "                        <td id=\"T_3d72ca54_1e2b_11eb_9b47_acde48001122row16_col5\" class=\"data row16 col5\" >0</td>\n",
       "                        <td id=\"T_3d72ca54_1e2b_11eb_9b47_acde48001122row16_col6\" class=\"data row16 col6\" >0.0%</td>\n",
       "            </tr>\n",
       "            <tr>\n",
       "                        <th id=\"T_3d72ca54_1e2b_11eb_9b47_acde48001122level0_row17\" class=\"row_heading level0 row17\" >17</th>\n",
       "                        <td id=\"T_3d72ca54_1e2b_11eb_9b47_acde48001122row17_col0\" class=\"data row17 col0\" >lat</td>\n",
       "                        <td id=\"T_3d72ca54_1e2b_11eb_9b47_acde48001122row17_col1\" class=\"data row17 col1\" >float64</td>\n",
       "                        <td id=\"T_3d72ca54_1e2b_11eb_9b47_acde48001122row17_col2\" class=\"data row17 col2\" >5034</td>\n",
       "                        <td id=\"T_3d72ca54_1e2b_11eb_9b47_acde48001122row17_col3\" class=\"data row17 col3\" >0</td>\n",
       "                        <td id=\"T_3d72ca54_1e2b_11eb_9b47_acde48001122row17_col4\" class=\"data row17 col4\" >0.0%</td>\n",
       "                        <td id=\"T_3d72ca54_1e2b_11eb_9b47_acde48001122row17_col5\" class=\"data row17 col5\" >0</td>\n",
       "                        <td id=\"T_3d72ca54_1e2b_11eb_9b47_acde48001122row17_col6\" class=\"data row17 col6\" >0.0%</td>\n",
       "            </tr>\n",
       "            <tr>\n",
       "                        <th id=\"T_3d72ca54_1e2b_11eb_9b47_acde48001122level0_row18\" class=\"row_heading level0 row18\" >18</th>\n",
       "                        <td id=\"T_3d72ca54_1e2b_11eb_9b47_acde48001122row18_col0\" class=\"data row18 col0\" >long</td>\n",
       "                        <td id=\"T_3d72ca54_1e2b_11eb_9b47_acde48001122row18_col1\" class=\"data row18 col1\" >float64</td>\n",
       "                        <td id=\"T_3d72ca54_1e2b_11eb_9b47_acde48001122row18_col2\" class=\"data row18 col2\" >752</td>\n",
       "                        <td id=\"T_3d72ca54_1e2b_11eb_9b47_acde48001122row18_col3\" class=\"data row18 col3\" >0</td>\n",
       "                        <td id=\"T_3d72ca54_1e2b_11eb_9b47_acde48001122row18_col4\" class=\"data row18 col4\" >0.0%</td>\n",
       "                        <td id=\"T_3d72ca54_1e2b_11eb_9b47_acde48001122row18_col5\" class=\"data row18 col5\" >0</td>\n",
       "                        <td id=\"T_3d72ca54_1e2b_11eb_9b47_acde48001122row18_col6\" class=\"data row18 col6\" >0.0%</td>\n",
       "            </tr>\n",
       "            <tr>\n",
       "                        <th id=\"T_3d72ca54_1e2b_11eb_9b47_acde48001122level0_row19\" class=\"row_heading level0 row19\" >19</th>\n",
       "                        <td id=\"T_3d72ca54_1e2b_11eb_9b47_acde48001122row19_col0\" class=\"data row19 col0\" >sqft_living15</td>\n",
       "                        <td id=\"T_3d72ca54_1e2b_11eb_9b47_acde48001122row19_col1\" class=\"data row19 col1\" >int64</td>\n",
       "                        <td id=\"T_3d72ca54_1e2b_11eb_9b47_acde48001122row19_col2\" class=\"data row19 col2\" >777</td>\n",
       "                        <td id=\"T_3d72ca54_1e2b_11eb_9b47_acde48001122row19_col3\" class=\"data row19 col3\" >0</td>\n",
       "                        <td id=\"T_3d72ca54_1e2b_11eb_9b47_acde48001122row19_col4\" class=\"data row19 col4\" >0.0%</td>\n",
       "                        <td id=\"T_3d72ca54_1e2b_11eb_9b47_acde48001122row19_col5\" class=\"data row19 col5\" >0</td>\n",
       "                        <td id=\"T_3d72ca54_1e2b_11eb_9b47_acde48001122row19_col6\" class=\"data row19 col6\" >0.0%</td>\n",
       "            </tr>\n",
       "            <tr>\n",
       "                        <th id=\"T_3d72ca54_1e2b_11eb_9b47_acde48001122level0_row20\" class=\"row_heading level0 row20\" >20</th>\n",
       "                        <td id=\"T_3d72ca54_1e2b_11eb_9b47_acde48001122row20_col0\" class=\"data row20 col0\" >sqft_lot15</td>\n",
       "                        <td id=\"T_3d72ca54_1e2b_11eb_9b47_acde48001122row20_col1\" class=\"data row20 col1\" >int64</td>\n",
       "                        <td id=\"T_3d72ca54_1e2b_11eb_9b47_acde48001122row20_col2\" class=\"data row20 col2\" >8689</td>\n",
       "                        <td id=\"T_3d72ca54_1e2b_11eb_9b47_acde48001122row20_col3\" class=\"data row20 col3\" >0</td>\n",
       "                        <td id=\"T_3d72ca54_1e2b_11eb_9b47_acde48001122row20_col4\" class=\"data row20 col4\" >0.0%</td>\n",
       "                        <td id=\"T_3d72ca54_1e2b_11eb_9b47_acde48001122row20_col5\" class=\"data row20 col5\" >0</td>\n",
       "                        <td id=\"T_3d72ca54_1e2b_11eb_9b47_acde48001122row20_col6\" class=\"data row20 col6\" >0.0%</td>\n",
       "            </tr>\n",
       "    </tbody></table>"
      ],
      "text/plain": [
       "<pandas.io.formats.style.Styler at 0x7fc172691ed0>"
      ]
     },
     "execution_count": 8,
     "metadata": {},
     "output_type": "execute_result"
    }
   ],
   "source": [
    "bp.get_column_descriptions(df)"
   ]
  },
  {
   "cell_type": "markdown",
   "metadata": {},
   "source": [
    "## Date time features"
   ]
  },
  {
   "cell_type": "code",
   "execution_count": 9,
   "metadata": {
    "ExecuteTime": {
     "end_time": "2019-10-04T23:57:06.464093Z",
     "start_time": "2019-10-04T23:57:06.425993Z"
    }
   },
   "outputs": [
    {
     "data": {
      "text/plain": [
       "0   2014-10-13\n",
       "1   2014-12-09\n",
       "Name: date, dtype: datetime64[ns]"
      ]
     },
     "execution_count": 9,
     "metadata": {},
     "output_type": "execute_result"
    }
   ],
   "source": [
    "df['date'] = pd.to_datetime(df['date'])\n",
    "df['date'].head(2)"
   ]
  },
  {
   "cell_type": "code",
   "execution_count": 10,
   "metadata": {
    "ExecuteTime": {
     "end_time": "2019-10-04T23:57:07.178499Z",
     "start_time": "2019-10-04T23:57:07.138741Z"
    }
   },
   "outputs": [
    {
     "data": {
      "text/html": [
       "<div>\n",
       "<style scoped>\n",
       "    .dataframe tbody tr th:only-of-type {\n",
       "        vertical-align: middle;\n",
       "    }\n",
       "\n",
       "    .dataframe tbody tr th {\n",
       "        vertical-align: top;\n",
       "    }\n",
       "\n",
       "    .dataframe thead th {\n",
       "        text-align: right;\n",
       "    }\n",
       "</style>\n",
       "<table border=\"1\" class=\"dataframe\">\n",
       "  <thead>\n",
       "    <tr style=\"text-align: right;\">\n",
       "      <th></th>\n",
       "      <th>id</th>\n",
       "      <th>date</th>\n",
       "      <th>price</th>\n",
       "      <th>bedrooms</th>\n",
       "      <th>bathrooms</th>\n",
       "      <th>sqft_living</th>\n",
       "      <th>sqft_lot</th>\n",
       "      <th>floors</th>\n",
       "      <th>waterfront</th>\n",
       "      <th>view</th>\n",
       "      <th>...</th>\n",
       "      <th>sqft_above</th>\n",
       "      <th>sqft_basement</th>\n",
       "      <th>yr_built</th>\n",
       "      <th>yr_renovated</th>\n",
       "      <th>zipcode</th>\n",
       "      <th>lat</th>\n",
       "      <th>long</th>\n",
       "      <th>sqft_living15</th>\n",
       "      <th>sqft_lot15</th>\n",
       "      <th>yr_sales</th>\n",
       "    </tr>\n",
       "  </thead>\n",
       "  <tbody>\n",
       "    <tr>\n",
       "      <th>0</th>\n",
       "      <td>7129300520</td>\n",
       "      <td>2014-10-13</td>\n",
       "      <td>221900.0</td>\n",
       "      <td>3</td>\n",
       "      <td>1.00</td>\n",
       "      <td>1180</td>\n",
       "      <td>5650</td>\n",
       "      <td>1.0</td>\n",
       "      <td>0</td>\n",
       "      <td>0</td>\n",
       "      <td>...</td>\n",
       "      <td>1180</td>\n",
       "      <td>0</td>\n",
       "      <td>1955</td>\n",
       "      <td>0</td>\n",
       "      <td>98178</td>\n",
       "      <td>47.5112</td>\n",
       "      <td>-122.257</td>\n",
       "      <td>1340</td>\n",
       "      <td>5650</td>\n",
       "      <td>2014</td>\n",
       "    </tr>\n",
       "    <tr>\n",
       "      <th>1</th>\n",
       "      <td>6414100192</td>\n",
       "      <td>2014-12-09</td>\n",
       "      <td>538000.0</td>\n",
       "      <td>3</td>\n",
       "      <td>2.25</td>\n",
       "      <td>2570</td>\n",
       "      <td>7242</td>\n",
       "      <td>2.0</td>\n",
       "      <td>0</td>\n",
       "      <td>0</td>\n",
       "      <td>...</td>\n",
       "      <td>2170</td>\n",
       "      <td>400</td>\n",
       "      <td>1951</td>\n",
       "      <td>1991</td>\n",
       "      <td>98125</td>\n",
       "      <td>47.7210</td>\n",
       "      <td>-122.319</td>\n",
       "      <td>1690</td>\n",
       "      <td>7639</td>\n",
       "      <td>2014</td>\n",
       "    </tr>\n",
       "  </tbody>\n",
       "</table>\n",
       "<p>2 rows × 22 columns</p>\n",
       "</div>"
      ],
      "text/plain": [
       "           id       date     price  bedrooms  bathrooms  sqft_living  \\\n",
       "0  7129300520 2014-10-13  221900.0         3       1.00         1180   \n",
       "1  6414100192 2014-12-09  538000.0         3       2.25         2570   \n",
       "\n",
       "   sqft_lot  floors  waterfront  view  ...  sqft_above  sqft_basement  \\\n",
       "0      5650     1.0           0     0  ...        1180              0   \n",
       "1      7242     2.0           0     0  ...        2170            400   \n",
       "\n",
       "   yr_built  yr_renovated  zipcode      lat     long  sqft_living15  \\\n",
       "0      1955             0    98178  47.5112 -122.257           1340   \n",
       "1      1951          1991    98125  47.7210 -122.319           1690   \n",
       "\n",
       "   sqft_lot15  yr_sales  \n",
       "0        5650      2014  \n",
       "1        7639      2014  \n",
       "\n",
       "[2 rows x 22 columns]"
      ]
     },
     "execution_count": 10,
     "metadata": {},
     "output_type": "execute_result"
    }
   ],
   "source": [
    "df['yr_sales'] = df['date'].dt.year\n",
    "df.head(2)"
   ]
  },
  {
   "cell_type": "code",
   "execution_count": 11,
   "metadata": {
    "ExecuteTime": {
     "end_time": "2019-10-04T23:57:07.958220Z",
     "start_time": "2019-10-04T23:57:07.921615Z"
    }
   },
   "outputs": [
    {
     "data": {
      "text/html": [
       "<div>\n",
       "<style scoped>\n",
       "    .dataframe tbody tr th:only-of-type {\n",
       "        vertical-align: middle;\n",
       "    }\n",
       "\n",
       "    .dataframe tbody tr th {\n",
       "        vertical-align: top;\n",
       "    }\n",
       "\n",
       "    .dataframe thead th {\n",
       "        text-align: right;\n",
       "    }\n",
       "</style>\n",
       "<table border=\"1\" class=\"dataframe\">\n",
       "  <thead>\n",
       "    <tr style=\"text-align: right;\">\n",
       "      <th></th>\n",
       "      <th>yr_sales</th>\n",
       "      <th>yr_built</th>\n",
       "      <th>age</th>\n",
       "    </tr>\n",
       "  </thead>\n",
       "  <tbody>\n",
       "    <tr>\n",
       "      <th>0</th>\n",
       "      <td>2014</td>\n",
       "      <td>1955</td>\n",
       "      <td>59</td>\n",
       "    </tr>\n",
       "    <tr>\n",
       "      <th>1</th>\n",
       "      <td>2014</td>\n",
       "      <td>1951</td>\n",
       "      <td>63</td>\n",
       "    </tr>\n",
       "  </tbody>\n",
       "</table>\n",
       "</div>"
      ],
      "text/plain": [
       "   yr_sales  yr_built  age\n",
       "0      2014      1955   59\n",
       "1      2014      1951   63"
      ]
     },
     "execution_count": 11,
     "metadata": {},
     "output_type": "execute_result"
    }
   ],
   "source": [
    "df['age'] = df['yr_sales'] - df['yr_built']\n",
    "df[['yr_sales','yr_built','age']].head(2)"
   ]
  },
  {
   "cell_type": "code",
   "execution_count": 12,
   "metadata": {
    "ExecuteTime": {
     "end_time": "2019-10-04T23:57:08.777959Z",
     "start_time": "2019-10-04T23:57:08.733383Z"
    }
   },
   "outputs": [
    {
     "data": {
      "text/html": [
       "<div>\n",
       "<style scoped>\n",
       "    .dataframe tbody tr th:only-of-type {\n",
       "        vertical-align: middle;\n",
       "    }\n",
       "\n",
       "    .dataframe tbody tr th {\n",
       "        vertical-align: top;\n",
       "    }\n",
       "\n",
       "    .dataframe thead th {\n",
       "        text-align: right;\n",
       "    }\n",
       "</style>\n",
       "<table border=\"1\" class=\"dataframe\">\n",
       "  <thead>\n",
       "    <tr style=\"text-align: right;\">\n",
       "      <th></th>\n",
       "      <th>id</th>\n",
       "      <th>date</th>\n",
       "      <th>price</th>\n",
       "      <th>bedrooms</th>\n",
       "      <th>bathrooms</th>\n",
       "      <th>sqft_living</th>\n",
       "      <th>sqft_lot</th>\n",
       "      <th>floors</th>\n",
       "      <th>waterfront</th>\n",
       "      <th>view</th>\n",
       "      <th>...</th>\n",
       "      <th>sqft_basement</th>\n",
       "      <th>yr_built</th>\n",
       "      <th>yr_renovated</th>\n",
       "      <th>zipcode</th>\n",
       "      <th>lat</th>\n",
       "      <th>long</th>\n",
       "      <th>sqft_living15</th>\n",
       "      <th>sqft_lot15</th>\n",
       "      <th>yr_sales</th>\n",
       "      <th>age</th>\n",
       "    </tr>\n",
       "  </thead>\n",
       "  <tbody>\n",
       "    <tr>\n",
       "      <th>1763</th>\n",
       "      <td>1832100030</td>\n",
       "      <td>2014-06-25</td>\n",
       "      <td>597326.0</td>\n",
       "      <td>4</td>\n",
       "      <td>4.00</td>\n",
       "      <td>3570</td>\n",
       "      <td>8250</td>\n",
       "      <td>2.0</td>\n",
       "      <td>0</td>\n",
       "      <td>0</td>\n",
       "      <td>...</td>\n",
       "      <td>710</td>\n",
       "      <td>2015</td>\n",
       "      <td>0</td>\n",
       "      <td>98040</td>\n",
       "      <td>47.5784</td>\n",
       "      <td>-122.226</td>\n",
       "      <td>2230</td>\n",
       "      <td>10000</td>\n",
       "      <td>2014</td>\n",
       "      <td>-1</td>\n",
       "    </tr>\n",
       "    <tr>\n",
       "      <th>2687</th>\n",
       "      <td>3076500830</td>\n",
       "      <td>2014-10-29</td>\n",
       "      <td>385195.0</td>\n",
       "      <td>1</td>\n",
       "      <td>1.00</td>\n",
       "      <td>710</td>\n",
       "      <td>6000</td>\n",
       "      <td>1.5</td>\n",
       "      <td>0</td>\n",
       "      <td>0</td>\n",
       "      <td>...</td>\n",
       "      <td>0</td>\n",
       "      <td>2015</td>\n",
       "      <td>0</td>\n",
       "      <td>98144</td>\n",
       "      <td>47.5756</td>\n",
       "      <td>-122.316</td>\n",
       "      <td>1440</td>\n",
       "      <td>4800</td>\n",
       "      <td>2014</td>\n",
       "      <td>-1</td>\n",
       "    </tr>\n",
       "    <tr>\n",
       "      <th>7526</th>\n",
       "      <td>9520900210</td>\n",
       "      <td>2014-12-31</td>\n",
       "      <td>614285.0</td>\n",
       "      <td>5</td>\n",
       "      <td>2.75</td>\n",
       "      <td>2730</td>\n",
       "      <td>6401</td>\n",
       "      <td>2.0</td>\n",
       "      <td>0</td>\n",
       "      <td>0</td>\n",
       "      <td>...</td>\n",
       "      <td>0</td>\n",
       "      <td>2015</td>\n",
       "      <td>0</td>\n",
       "      <td>98072</td>\n",
       "      <td>47.7685</td>\n",
       "      <td>-122.160</td>\n",
       "      <td>2520</td>\n",
       "      <td>6126</td>\n",
       "      <td>2014</td>\n",
       "      <td>-1</td>\n",
       "    </tr>\n",
       "    <tr>\n",
       "      <th>8039</th>\n",
       "      <td>1250200495</td>\n",
       "      <td>2014-06-24</td>\n",
       "      <td>455000.0</td>\n",
       "      <td>2</td>\n",
       "      <td>1.50</td>\n",
       "      <td>1200</td>\n",
       "      <td>1259</td>\n",
       "      <td>2.0</td>\n",
       "      <td>0</td>\n",
       "      <td>0</td>\n",
       "      <td>...</td>\n",
       "      <td>200</td>\n",
       "      <td>2015</td>\n",
       "      <td>0</td>\n",
       "      <td>98144</td>\n",
       "      <td>47.6001</td>\n",
       "      <td>-122.298</td>\n",
       "      <td>1320</td>\n",
       "      <td>1852</td>\n",
       "      <td>2014</td>\n",
       "      <td>-1</td>\n",
       "    </tr>\n",
       "    <tr>\n",
       "      <th>14489</th>\n",
       "      <td>2770601530</td>\n",
       "      <td>2014-08-26</td>\n",
       "      <td>500000.0</td>\n",
       "      <td>2</td>\n",
       "      <td>2.25</td>\n",
       "      <td>1570</td>\n",
       "      <td>1269</td>\n",
       "      <td>2.0</td>\n",
       "      <td>0</td>\n",
       "      <td>0</td>\n",
       "      <td>...</td>\n",
       "      <td>290</td>\n",
       "      <td>2015</td>\n",
       "      <td>0</td>\n",
       "      <td>98199</td>\n",
       "      <td>47.6514</td>\n",
       "      <td>-122.385</td>\n",
       "      <td>1570</td>\n",
       "      <td>6000</td>\n",
       "      <td>2014</td>\n",
       "      <td>-1</td>\n",
       "    </tr>\n",
       "    <tr>\n",
       "      <th>17098</th>\n",
       "      <td>9126100346</td>\n",
       "      <td>2014-06-17</td>\n",
       "      <td>350000.0</td>\n",
       "      <td>3</td>\n",
       "      <td>2.00</td>\n",
       "      <td>1380</td>\n",
       "      <td>3600</td>\n",
       "      <td>3.0</td>\n",
       "      <td>0</td>\n",
       "      <td>0</td>\n",
       "      <td>...</td>\n",
       "      <td>0</td>\n",
       "      <td>2015</td>\n",
       "      <td>0</td>\n",
       "      <td>98122</td>\n",
       "      <td>47.6074</td>\n",
       "      <td>-122.305</td>\n",
       "      <td>1480</td>\n",
       "      <td>3600</td>\n",
       "      <td>2014</td>\n",
       "      <td>-1</td>\n",
       "    </tr>\n",
       "    <tr>\n",
       "      <th>19805</th>\n",
       "      <td>9126100765</td>\n",
       "      <td>2014-08-01</td>\n",
       "      <td>455000.0</td>\n",
       "      <td>3</td>\n",
       "      <td>1.75</td>\n",
       "      <td>1320</td>\n",
       "      <td>1014</td>\n",
       "      <td>3.0</td>\n",
       "      <td>0</td>\n",
       "      <td>0</td>\n",
       "      <td>...</td>\n",
       "      <td>0</td>\n",
       "      <td>2015</td>\n",
       "      <td>0</td>\n",
       "      <td>98122</td>\n",
       "      <td>47.6047</td>\n",
       "      <td>-122.305</td>\n",
       "      <td>1380</td>\n",
       "      <td>1495</td>\n",
       "      <td>2014</td>\n",
       "      <td>-1</td>\n",
       "    </tr>\n",
       "    <tr>\n",
       "      <th>20770</th>\n",
       "      <td>9310300160</td>\n",
       "      <td>2014-08-28</td>\n",
       "      <td>357000.0</td>\n",
       "      <td>5</td>\n",
       "      <td>2.50</td>\n",
       "      <td>2990</td>\n",
       "      <td>9240</td>\n",
       "      <td>2.0</td>\n",
       "      <td>0</td>\n",
       "      <td>0</td>\n",
       "      <td>...</td>\n",
       "      <td>0</td>\n",
       "      <td>2015</td>\n",
       "      <td>0</td>\n",
       "      <td>98133</td>\n",
       "      <td>47.7384</td>\n",
       "      <td>-122.348</td>\n",
       "      <td>1970</td>\n",
       "      <td>18110</td>\n",
       "      <td>2014</td>\n",
       "      <td>-1</td>\n",
       "    </tr>\n",
       "    <tr>\n",
       "      <th>20852</th>\n",
       "      <td>1257201420</td>\n",
       "      <td>2014-07-09</td>\n",
       "      <td>595000.0</td>\n",
       "      <td>4</td>\n",
       "      <td>3.25</td>\n",
       "      <td>3730</td>\n",
       "      <td>4560</td>\n",
       "      <td>2.0</td>\n",
       "      <td>0</td>\n",
       "      <td>0</td>\n",
       "      <td>...</td>\n",
       "      <td>970</td>\n",
       "      <td>2015</td>\n",
       "      <td>0</td>\n",
       "      <td>98103</td>\n",
       "      <td>47.6725</td>\n",
       "      <td>-122.330</td>\n",
       "      <td>1800</td>\n",
       "      <td>4560</td>\n",
       "      <td>2014</td>\n",
       "      <td>-1</td>\n",
       "    </tr>\n",
       "    <tr>\n",
       "      <th>20963</th>\n",
       "      <td>6058600220</td>\n",
       "      <td>2014-07-31</td>\n",
       "      <td>230000.0</td>\n",
       "      <td>3</td>\n",
       "      <td>1.50</td>\n",
       "      <td>1040</td>\n",
       "      <td>1264</td>\n",
       "      <td>2.0</td>\n",
       "      <td>0</td>\n",
       "      <td>0</td>\n",
       "      <td>...</td>\n",
       "      <td>140</td>\n",
       "      <td>2015</td>\n",
       "      <td>0</td>\n",
       "      <td>98144</td>\n",
       "      <td>47.5951</td>\n",
       "      <td>-122.301</td>\n",
       "      <td>1350</td>\n",
       "      <td>3000</td>\n",
       "      <td>2014</td>\n",
       "      <td>-1</td>\n",
       "    </tr>\n",
       "    <tr>\n",
       "      <th>21262</th>\n",
       "      <td>5694500840</td>\n",
       "      <td>2014-11-25</td>\n",
       "      <td>559000.0</td>\n",
       "      <td>2</td>\n",
       "      <td>3.00</td>\n",
       "      <td>1650</td>\n",
       "      <td>960</td>\n",
       "      <td>3.0</td>\n",
       "      <td>0</td>\n",
       "      <td>0</td>\n",
       "      <td>...</td>\n",
       "      <td>300</td>\n",
       "      <td>2015</td>\n",
       "      <td>0</td>\n",
       "      <td>98103</td>\n",
       "      <td>47.6611</td>\n",
       "      <td>-122.346</td>\n",
       "      <td>1650</td>\n",
       "      <td>3000</td>\n",
       "      <td>2014</td>\n",
       "      <td>-1</td>\n",
       "    </tr>\n",
       "    <tr>\n",
       "      <th>21372</th>\n",
       "      <td>6169901185</td>\n",
       "      <td>2014-05-20</td>\n",
       "      <td>490000.0</td>\n",
       "      <td>5</td>\n",
       "      <td>3.50</td>\n",
       "      <td>4460</td>\n",
       "      <td>2975</td>\n",
       "      <td>3.0</td>\n",
       "      <td>0</td>\n",
       "      <td>2</td>\n",
       "      <td>...</td>\n",
       "      <td>1180</td>\n",
       "      <td>2015</td>\n",
       "      <td>0</td>\n",
       "      <td>98119</td>\n",
       "      <td>47.6313</td>\n",
       "      <td>-122.370</td>\n",
       "      <td>2490</td>\n",
       "      <td>4231</td>\n",
       "      <td>2014</td>\n",
       "      <td>-1</td>\n",
       "    </tr>\n",
       "  </tbody>\n",
       "</table>\n",
       "<p>12 rows × 23 columns</p>\n",
       "</div>"
      ],
      "text/plain": [
       "               id       date     price  bedrooms  bathrooms  sqft_living  \\\n",
       "1763   1832100030 2014-06-25  597326.0         4       4.00         3570   \n",
       "2687   3076500830 2014-10-29  385195.0         1       1.00          710   \n",
       "7526   9520900210 2014-12-31  614285.0         5       2.75         2730   \n",
       "8039   1250200495 2014-06-24  455000.0         2       1.50         1200   \n",
       "14489  2770601530 2014-08-26  500000.0         2       2.25         1570   \n",
       "17098  9126100346 2014-06-17  350000.0         3       2.00         1380   \n",
       "19805  9126100765 2014-08-01  455000.0         3       1.75         1320   \n",
       "20770  9310300160 2014-08-28  357000.0         5       2.50         2990   \n",
       "20852  1257201420 2014-07-09  595000.0         4       3.25         3730   \n",
       "20963  6058600220 2014-07-31  230000.0         3       1.50         1040   \n",
       "21262  5694500840 2014-11-25  559000.0         2       3.00         1650   \n",
       "21372  6169901185 2014-05-20  490000.0         5       3.50         4460   \n",
       "\n",
       "       sqft_lot  floors  waterfront  view  ...  sqft_basement  yr_built  \\\n",
       "1763       8250     2.0           0     0  ...            710      2015   \n",
       "2687       6000     1.5           0     0  ...              0      2015   \n",
       "7526       6401     2.0           0     0  ...              0      2015   \n",
       "8039       1259     2.0           0     0  ...            200      2015   \n",
       "14489      1269     2.0           0     0  ...            290      2015   \n",
       "17098      3600     3.0           0     0  ...              0      2015   \n",
       "19805      1014     3.0           0     0  ...              0      2015   \n",
       "20770      9240     2.0           0     0  ...              0      2015   \n",
       "20852      4560     2.0           0     0  ...            970      2015   \n",
       "20963      1264     2.0           0     0  ...            140      2015   \n",
       "21262       960     3.0           0     0  ...            300      2015   \n",
       "21372      2975     3.0           0     2  ...           1180      2015   \n",
       "\n",
       "       yr_renovated  zipcode      lat     long  sqft_living15  sqft_lot15  \\\n",
       "1763              0    98040  47.5784 -122.226           2230       10000   \n",
       "2687              0    98144  47.5756 -122.316           1440        4800   \n",
       "7526              0    98072  47.7685 -122.160           2520        6126   \n",
       "8039              0    98144  47.6001 -122.298           1320        1852   \n",
       "14489             0    98199  47.6514 -122.385           1570        6000   \n",
       "17098             0    98122  47.6074 -122.305           1480        3600   \n",
       "19805             0    98122  47.6047 -122.305           1380        1495   \n",
       "20770             0    98133  47.7384 -122.348           1970       18110   \n",
       "20852             0    98103  47.6725 -122.330           1800        4560   \n",
       "20963             0    98144  47.5951 -122.301           1350        3000   \n",
       "21262             0    98103  47.6611 -122.346           1650        3000   \n",
       "21372             0    98119  47.6313 -122.370           2490        4231   \n",
       "\n",
       "       yr_sales  age  \n",
       "1763       2014   -1  \n",
       "2687       2014   -1  \n",
       "7526       2014   -1  \n",
       "8039       2014   -1  \n",
       "14489      2014   -1  \n",
       "17098      2014   -1  \n",
       "19805      2014   -1  \n",
       "20770      2014   -1  \n",
       "20852      2014   -1  \n",
       "20963      2014   -1  \n",
       "21262      2014   -1  \n",
       "21372      2014   -1  \n",
       "\n",
       "[12 rows x 23 columns]"
      ]
     },
     "execution_count": 12,
     "metadata": {},
     "output_type": "execute_result"
    }
   ],
   "source": [
    "df[df['age'] < 0] # some houses were sold before they are built."
   ]
  },
  {
   "cell_type": "code",
   "execution_count": 13,
   "metadata": {
    "ExecuteTime": {
     "end_time": "2019-10-04T23:57:09.542082Z",
     "start_time": "2019-10-04T23:57:09.506289Z"
    }
   },
   "outputs": [
    {
     "data": {
      "text/html": [
       "<div>\n",
       "<style scoped>\n",
       "    .dataframe tbody tr th:only-of-type {\n",
       "        vertical-align: middle;\n",
       "    }\n",
       "\n",
       "    .dataframe tbody tr th {\n",
       "        vertical-align: top;\n",
       "    }\n",
       "\n",
       "    .dataframe thead th {\n",
       "        text-align: right;\n",
       "    }\n",
       "</style>\n",
       "<table border=\"1\" class=\"dataframe\">\n",
       "  <thead>\n",
       "    <tr style=\"text-align: right;\">\n",
       "      <th></th>\n",
       "      <th>yr_built</th>\n",
       "      <th>yr_renovated</th>\n",
       "      <th>yr_sales</th>\n",
       "      <th>yr_renovated2</th>\n",
       "    </tr>\n",
       "  </thead>\n",
       "  <tbody>\n",
       "    <tr>\n",
       "      <th>0</th>\n",
       "      <td>1955</td>\n",
       "      <td>0</td>\n",
       "      <td>2014</td>\n",
       "      <td>1955</td>\n",
       "    </tr>\n",
       "    <tr>\n",
       "      <th>1</th>\n",
       "      <td>1951</td>\n",
       "      <td>1991</td>\n",
       "      <td>2014</td>\n",
       "      <td>1991</td>\n",
       "    </tr>\n",
       "  </tbody>\n",
       "</table>\n",
       "</div>"
      ],
      "text/plain": [
       "   yr_built  yr_renovated  yr_sales  yr_renovated2\n",
       "0      1955             0      2014           1955\n",
       "1      1951          1991      2014           1991"
      ]
     },
     "execution_count": 13,
     "metadata": {},
     "output_type": "execute_result"
    }
   ],
   "source": [
    "df['yr_renovated2'] = np.where(df['yr_renovated'].eq(0), df['yr_built'], df['yr_renovated'])\n",
    "df.filter(regex='yr',axis=1).head(2)"
   ]
  },
  {
   "cell_type": "code",
   "execution_count": 14,
   "metadata": {
    "ExecuteTime": {
     "end_time": "2019-10-04T23:57:10.323391Z",
     "start_time": "2019-10-04T23:57:10.290256Z"
    }
   },
   "outputs": [
    {
     "data": {
      "text/html": [
       "<div>\n",
       "<style scoped>\n",
       "    .dataframe tbody tr th:only-of-type {\n",
       "        vertical-align: middle;\n",
       "    }\n",
       "\n",
       "    .dataframe tbody tr th {\n",
       "        vertical-align: top;\n",
       "    }\n",
       "\n",
       "    .dataframe thead th {\n",
       "        text-align: right;\n",
       "    }\n",
       "</style>\n",
       "<table border=\"1\" class=\"dataframe\">\n",
       "  <thead>\n",
       "    <tr style=\"text-align: right;\">\n",
       "      <th></th>\n",
       "      <th>yr_built</th>\n",
       "      <th>yr_renovated</th>\n",
       "      <th>yr_sales</th>\n",
       "      <th>yr_renovated2</th>\n",
       "    </tr>\n",
       "  </thead>\n",
       "  <tbody>\n",
       "    <tr>\n",
       "      <th>1</th>\n",
       "      <td>1951</td>\n",
       "      <td>1991</td>\n",
       "      <td>2014</td>\n",
       "      <td>1991</td>\n",
       "    </tr>\n",
       "    <tr>\n",
       "      <th>35</th>\n",
       "      <td>1930</td>\n",
       "      <td>2002</td>\n",
       "      <td>2014</td>\n",
       "      <td>2002</td>\n",
       "    </tr>\n",
       "  </tbody>\n",
       "</table>\n",
       "</div>"
      ],
      "text/plain": [
       "    yr_built  yr_renovated  yr_sales  yr_renovated2\n",
       "1       1951          1991      2014           1991\n",
       "35      1930          2002      2014           2002"
      ]
     },
     "execution_count": 14,
     "metadata": {},
     "output_type": "execute_result"
    }
   ],
   "source": [
    "df.filter(regex='yr_*',axis=1).loc[lambda x: x['yr_renovated'] !=0].head(2)"
   ]
  },
  {
   "cell_type": "code",
   "execution_count": 15,
   "metadata": {
    "ExecuteTime": {
     "end_time": "2019-10-04T23:57:11.033974Z",
     "start_time": "2019-10-04T23:57:10.994196Z"
    }
   },
   "outputs": [
    {
     "data": {
      "text/html": [
       "<div>\n",
       "<style scoped>\n",
       "    .dataframe tbody tr th:only-of-type {\n",
       "        vertical-align: middle;\n",
       "    }\n",
       "\n",
       "    .dataframe tbody tr th {\n",
       "        vertical-align: top;\n",
       "    }\n",
       "\n",
       "    .dataframe thead th {\n",
       "        text-align: right;\n",
       "    }\n",
       "</style>\n",
       "<table border=\"1\" class=\"dataframe\">\n",
       "  <thead>\n",
       "    <tr style=\"text-align: right;\">\n",
       "      <th></th>\n",
       "      <th>yr_built</th>\n",
       "      <th>yr_renovated</th>\n",
       "      <th>yr_sales</th>\n",
       "      <th>age</th>\n",
       "      <th>yr_renovated2</th>\n",
       "      <th>age_after_renovation</th>\n",
       "    </tr>\n",
       "  </thead>\n",
       "  <tbody>\n",
       "    <tr>\n",
       "      <th>0</th>\n",
       "      <td>1955</td>\n",
       "      <td>0</td>\n",
       "      <td>2014</td>\n",
       "      <td>59</td>\n",
       "      <td>1955</td>\n",
       "      <td>59</td>\n",
       "    </tr>\n",
       "    <tr>\n",
       "      <th>1</th>\n",
       "      <td>1951</td>\n",
       "      <td>1991</td>\n",
       "      <td>2014</td>\n",
       "      <td>63</td>\n",
       "      <td>1991</td>\n",
       "      <td>23</td>\n",
       "    </tr>\n",
       "  </tbody>\n",
       "</table>\n",
       "</div>"
      ],
      "text/plain": [
       "   yr_built  yr_renovated  yr_sales  age  yr_renovated2  age_after_renovation\n",
       "0      1955             0      2014   59           1955                    59\n",
       "1      1951          1991      2014   63           1991                    23"
      ]
     },
     "execution_count": 15,
     "metadata": {},
     "output_type": "execute_result"
    }
   ],
   "source": [
    "df['age_after_renovation'] = df['yr_sales'] - df['yr_renovated2']\n",
    "df.filter(regex='yr|age',axis=1).head(2)"
   ]
  },
  {
   "cell_type": "code",
   "execution_count": 16,
   "metadata": {
    "ExecuteTime": {
     "end_time": "2019-10-04T23:57:11.758961Z",
     "start_time": "2019-10-04T23:57:11.715585Z"
    }
   },
   "outputs": [
    {
     "data": {
      "text/html": [
       "<div>\n",
       "<style scoped>\n",
       "    .dataframe tbody tr th:only-of-type {\n",
       "        vertical-align: middle;\n",
       "    }\n",
       "\n",
       "    .dataframe tbody tr th {\n",
       "        vertical-align: top;\n",
       "    }\n",
       "\n",
       "    .dataframe thead th {\n",
       "        text-align: right;\n",
       "    }\n",
       "</style>\n",
       "<table border=\"1\" class=\"dataframe\">\n",
       "  <thead>\n",
       "    <tr style=\"text-align: right;\">\n",
       "      <th></th>\n",
       "      <th>yr_built</th>\n",
       "      <th>yr_renovated</th>\n",
       "      <th>yr_sales</th>\n",
       "      <th>age</th>\n",
       "      <th>yr_renovated2</th>\n",
       "      <th>age_after_renovation</th>\n",
       "    </tr>\n",
       "  </thead>\n",
       "  <tbody>\n",
       "    <tr>\n",
       "      <th>1</th>\n",
       "      <td>1951</td>\n",
       "      <td>1991</td>\n",
       "      <td>2014</td>\n",
       "      <td>63</td>\n",
       "      <td>1991</td>\n",
       "      <td>23</td>\n",
       "    </tr>\n",
       "    <tr>\n",
       "      <th>35</th>\n",
       "      <td>1930</td>\n",
       "      <td>2002</td>\n",
       "      <td>2014</td>\n",
       "      <td>84</td>\n",
       "      <td>2002</td>\n",
       "      <td>12</td>\n",
       "    </tr>\n",
       "  </tbody>\n",
       "</table>\n",
       "</div>"
      ],
      "text/plain": [
       "    yr_built  yr_renovated  yr_sales  age  yr_renovated2  age_after_renovation\n",
       "1       1951          1991      2014   63           1991                    23\n",
       "35      1930          2002      2014   84           2002                    12"
      ]
     },
     "execution_count": 16,
     "metadata": {},
     "output_type": "execute_result"
    }
   ],
   "source": [
    "df.filter(regex='yr|age',axis=1).loc[lambda x: x['yr_renovated'] !=0].head(2)"
   ]
  },
  {
   "cell_type": "markdown",
   "metadata": {},
   "source": [
    "## Categorical Features\n",
    "Ref: https://pandas.pydata.org/pandas-docs/stable/user_guide/categorical.html\n",
    "\n",
    "- Some categorical features may be number type, make them string type.\n",
    "- Some categorical features may be nans make them 'Missing'\n",
    "- We can fill categorical features by mode."
   ]
  },
  {
   "cell_type": "code",
   "execution_count": 17,
   "metadata": {
    "ExecuteTime": {
     "end_time": "2019-10-04T23:57:13.395153Z",
     "start_time": "2019-10-04T23:57:13.347837Z"
    }
   },
   "outputs": [
    {
     "data": {
      "text/html": [
       "<div>\n",
       "<style scoped>\n",
       "    .dataframe tbody tr th:only-of-type {\n",
       "        vertical-align: middle;\n",
       "    }\n",
       "\n",
       "    .dataframe tbody tr th {\n",
       "        vertical-align: top;\n",
       "    }\n",
       "\n",
       "    .dataframe thead th {\n",
       "        text-align: right;\n",
       "    }\n",
       "</style>\n",
       "<table border=\"1\" class=\"dataframe\">\n",
       "  <thead>\n",
       "    <tr style=\"text-align: right;\">\n",
       "      <th></th>\n",
       "      <th>id</th>\n",
       "      <th>date</th>\n",
       "      <th>price</th>\n",
       "      <th>bedrooms</th>\n",
       "      <th>bathrooms</th>\n",
       "      <th>sqft_living</th>\n",
       "      <th>sqft_lot</th>\n",
       "      <th>floors</th>\n",
       "      <th>waterfront</th>\n",
       "      <th>view</th>\n",
       "      <th>...</th>\n",
       "      <th>yr_renovated</th>\n",
       "      <th>zipcode</th>\n",
       "      <th>lat</th>\n",
       "      <th>long</th>\n",
       "      <th>sqft_living15</th>\n",
       "      <th>sqft_lot15</th>\n",
       "      <th>yr_sales</th>\n",
       "      <th>age</th>\n",
       "      <th>yr_renovated2</th>\n",
       "      <th>age_after_renovation</th>\n",
       "    </tr>\n",
       "  </thead>\n",
       "  <tbody>\n",
       "    <tr>\n",
       "      <th>0</th>\n",
       "      <td>7129300520</td>\n",
       "      <td>2014-10-13 00:00:00</td>\n",
       "      <td>221900</td>\n",
       "      <td>3</td>\n",
       "      <td>1</td>\n",
       "      <td>1180</td>\n",
       "      <td>5650</td>\n",
       "      <td>1</td>\n",
       "      <td>0</td>\n",
       "      <td>0</td>\n",
       "      <td>...</td>\n",
       "      <td>0</td>\n",
       "      <td>98178</td>\n",
       "      <td>47.5112</td>\n",
       "      <td>-122.257</td>\n",
       "      <td>1340</td>\n",
       "      <td>5650</td>\n",
       "      <td>2014</td>\n",
       "      <td>59</td>\n",
       "      <td>1955</td>\n",
       "      <td>59</td>\n",
       "    </tr>\n",
       "    <tr>\n",
       "      <th>1</th>\n",
       "      <td>int64</td>\n",
       "      <td>datetime64[ns]</td>\n",
       "      <td>float64</td>\n",
       "      <td>int64</td>\n",
       "      <td>float64</td>\n",
       "      <td>int64</td>\n",
       "      <td>int64</td>\n",
       "      <td>float64</td>\n",
       "      <td>int64</td>\n",
       "      <td>int64</td>\n",
       "      <td>...</td>\n",
       "      <td>int64</td>\n",
       "      <td>int64</td>\n",
       "      <td>float64</td>\n",
       "      <td>float64</td>\n",
       "      <td>int64</td>\n",
       "      <td>int64</td>\n",
       "      <td>int64</td>\n",
       "      <td>int64</td>\n",
       "      <td>int64</td>\n",
       "      <td>int64</td>\n",
       "    </tr>\n",
       "  </tbody>\n",
       "</table>\n",
       "<p>2 rows × 25 columns</p>\n",
       "</div>"
      ],
      "text/plain": [
       "           id                 date    price bedrooms bathrooms sqft_living  \\\n",
       "0  7129300520  2014-10-13 00:00:00   221900        3         1        1180   \n",
       "1       int64       datetime64[ns]  float64    int64   float64       int64   \n",
       "\n",
       "  sqft_lot   floors waterfront   view  ... yr_renovated zipcode      lat  \\\n",
       "0     5650        1          0      0  ...            0   98178  47.5112   \n",
       "1    int64  float64      int64  int64  ...        int64   int64  float64   \n",
       "\n",
       "      long sqft_living15 sqft_lot15 yr_sales    age yr_renovated2  \\\n",
       "0 -122.257          1340       5650     2014     59          1955   \n",
       "1  float64         int64      int64    int64  int64         int64   \n",
       "\n",
       "  age_after_renovation  \n",
       "0                   59  \n",
       "1                int64  \n",
       "\n",
       "[2 rows x 25 columns]"
      ]
     },
     "execution_count": 17,
     "metadata": {},
     "output_type": "execute_result"
    }
   ],
   "source": [
    "df.head(1).append(df.dtypes,ignore_index=True)"
   ]
  },
  {
   "cell_type": "code",
   "execution_count": 18,
   "metadata": {
    "ExecuteTime": {
     "end_time": "2019-10-04T23:57:14.264864Z",
     "start_time": "2019-10-04T23:57:14.169612Z"
    }
   },
   "outputs": [],
   "source": [
    "cols_str = ['waterfront', 'view', 'condition', 'grade','zipcode']\n",
    "for c in cols_str:\n",
    "    df[c] = df[c].astype(str)"
   ]
  },
  {
   "cell_type": "code",
   "execution_count": 19,
   "metadata": {
    "ExecuteTime": {
     "end_time": "2019-10-04T23:57:15.274343Z",
     "start_time": "2019-10-04T23:57:15.233987Z"
    }
   },
   "outputs": [
    {
     "data": {
      "text/plain": [
       "Index(['waterfront', 'view', 'condition', 'grade', 'zipcode'], dtype='object')"
      ]
     },
     "execution_count": 19,
     "metadata": {},
     "output_type": "execute_result"
    }
   ],
   "source": [
    "cols_obj = df.select_dtypes(['object','category']).columns\n",
    "cols_obj"
   ]
  },
  {
   "cell_type": "code",
   "execution_count": 20,
   "metadata": {
    "ExecuteTime": {
     "end_time": "2019-10-04T23:57:16.086670Z",
     "start_time": "2019-10-04T23:57:16.043322Z"
    }
   },
   "outputs": [
    {
     "data": {
      "text/plain": [
       "waterfront     2\n",
       "view           5\n",
       "condition      5\n",
       "grade         12\n",
       "zipcode       70\n",
       "dtype: int64"
      ]
     },
     "execution_count": 20,
     "metadata": {},
     "output_type": "execute_result"
    }
   ],
   "source": [
    "df.select_dtypes(['object','category']).apply(pd.Series.nunique)"
   ]
  },
  {
   "cell_type": "code",
   "execution_count": 21,
   "metadata": {
    "ExecuteTime": {
     "end_time": "2019-10-04T23:57:17.061508Z",
     "start_time": "2019-10-04T23:57:17.001649Z"
    }
   },
   "outputs": [
    {
     "name": "stdout",
     "output_type": "stream",
     "text": [
      "\n",
      "=========================================\n",
      "waterfront\n",
      "0    21450\n",
      "1      163\n",
      "Name: waterfront, dtype: int64\n",
      "\n",
      "=========================================\n",
      "view\n",
      "0    19489\n",
      "2      963\n",
      "3      510\n",
      "1      332\n",
      "4      319\n",
      "Name: view, dtype: int64\n",
      "\n",
      "=========================================\n",
      "condition\n",
      "3    14031\n",
      "4     5679\n",
      "5     1701\n",
      "2      172\n",
      "1       30\n",
      "Name: condition, dtype: int64\n",
      "\n",
      "=========================================\n",
      "grade\n",
      "7     8981\n",
      "8     6068\n",
      "9     2615\n",
      "6     2038\n",
      "10    1134\n",
      "11     399\n",
      "5      242\n",
      "12      90\n",
      "4       29\n",
      "13      13\n",
      "3        3\n",
      "1        1\n",
      "Name: grade, dtype: int64\n"
     ]
    }
   ],
   "source": [
    "cols_obj_small = ['waterfront', 'view', 'condition', 'grade']\n",
    "\n",
    "for c in cols_obj_small:\n",
    "    print('\\n=========================================')\n",
    "    print(c) \n",
    "    print(df[c].value_counts())"
   ]
  },
  {
   "cell_type": "code",
   "execution_count": 22,
   "metadata": {
    "ExecuteTime": {
     "end_time": "2019-10-04T23:57:30.273441Z",
     "start_time": "2019-10-04T23:57:30.226626Z"
    }
   },
   "outputs": [
    {
     "data": {
      "text/html": [
       "<div>\n",
       "<style scoped>\n",
       "    .dataframe tbody tr th:only-of-type {\n",
       "        vertical-align: middle;\n",
       "    }\n",
       "\n",
       "    .dataframe tbody tr th {\n",
       "        vertical-align: top;\n",
       "    }\n",
       "\n",
       "    .dataframe thead th {\n",
       "        text-align: right;\n",
       "    }\n",
       "</style>\n",
       "<table border=\"1\" class=\"dataframe\">\n",
       "  <thead>\n",
       "    <tr style=\"text-align: right;\">\n",
       "      <th></th>\n",
       "      <th>0</th>\n",
       "    </tr>\n",
       "  </thead>\n",
       "  <tbody>\n",
       "    <tr>\n",
       "      <th>waterfront</th>\n",
       "      <td>['0', '1']</td>\n",
       "    </tr>\n",
       "    <tr>\n",
       "      <th>view</th>\n",
       "      <td>['0', '3', '4', '2', '1']</td>\n",
       "    </tr>\n",
       "    <tr>\n",
       "      <th>condition</th>\n",
       "      <td>['3', '5', '4', '1', '2']</td>\n",
       "    </tr>\n",
       "    <tr>\n",
       "      <th>grade</th>\n",
       "      <td>['7', '6', '8', '11', '9', '5', '10', '12', '4', '3', '13', '1']</td>\n",
       "    </tr>\n",
       "    <tr>\n",
       "      <th>zipcode</th>\n",
       "      <td>['98178', '98125', '98028', '98136', '98074', '98053', '98003', '98198', '98146', '98038', '98007', '98115', '98107', '98126', '98019', '98103', '98002', '98133', '98040', '98092', '98030', '98119', '98112', '98052', '98027', '98117', '98058', '98001', '98056', '98166', '98023', '98070', '98148', '98105', '98042', '98008', '98059', '98122', '98144', '98004', '98005', '98034', '98075', '98116', '98010', '98118', '98199', '98032', '98045', '98102', '98077', '98108', '98168', '98177', '98065', ...</td>\n",
       "    </tr>\n",
       "  </tbody>\n",
       "</table>\n",
       "</div>"
      ],
      "text/plain": [
       "                                                                                                                                                                                                                                                                                                                                                                                                                                                                                                                              0\n",
       "waterfront                                                                                                                                                                                                                                                                                                                                                                                                                                                                                                           ['0', '1']\n",
       "view                                                                                                                                                                                                                                                                                                                                                                                                                                                                                                  ['0', '3', '4', '2', '1']\n",
       "condition                                                                                                                                                                                                                                                                                                                                                                                                                                                                                             ['3', '5', '4', '1', '2']\n",
       "grade                                                                                                                                                                                                                                                                                                                                                                                                                                                          ['7', '6', '8', '11', '9', '5', '10', '12', '4', '3', '13', '1']\n",
       "zipcode     ['98178', '98125', '98028', '98136', '98074', '98053', '98003', '98198', '98146', '98038', '98007', '98115', '98107', '98126', '98019', '98103', '98002', '98133', '98040', '98092', '98030', '98119', '98112', '98052', '98027', '98117', '98058', '98001', '98056', '98166', '98023', '98070', '98148', '98105', '98042', '98008', '98059', '98122', '98144', '98004', '98005', '98034', '98075', '98116', '98010', '98118', '98199', '98032', '98045', '98102', '98077', '98108', '98168', '98177', '98065', ..."
      ]
     },
     "metadata": {},
     "output_type": "display_data"
    }
   ],
   "source": [
    "with pd.option_context('display.max_colwidth', 500):\n",
    "    display(df.select_dtypes(['object','category']).apply(\n",
    "        lambda x: str(pd.Series.unique(x).tolist()) ).to_frame())"
   ]
  },
  {
   "cell_type": "code",
   "execution_count": 23,
   "metadata": {
    "ExecuteTime": {
     "end_time": "2019-10-04T23:57:37.207506Z",
     "start_time": "2019-10-04T23:57:37.163335Z"
    }
   },
   "outputs": [
    {
     "data": {
      "text/plain": [
       "98103    602\n",
       "98038    590\n",
       "98115    583\n",
       "98052    574\n",
       "98117    553\n",
       "Name: zipcode, dtype: int64"
      ]
     },
     "execution_count": 23,
     "metadata": {},
     "output_type": "execute_result"
    }
   ],
   "source": [
    "df['zipcode'].value_counts().head()"
   ]
  },
  {
   "cell_type": "code",
   "execution_count": 24,
   "metadata": {
    "ExecuteTime": {
     "end_time": "2019-10-04T23:57:38.276607Z",
     "start_time": "2019-10-04T23:57:38.033913Z"
    }
   },
   "outputs": [
    {
     "data": {
      "text/plain": [
       "<matplotlib.axes._subplots.AxesSubplot at 0x7fc172589990>"
      ]
     },
     "execution_count": 24,
     "metadata": {},
     "output_type": "execute_result"
    },
    {
     "data": {
      "image/png": "[encoded data removed]",
      "text/plain": [
       "<Figure size 432x288 with 1 Axes>"
      ]
     },
     "metadata": {},
     "output_type": "display_data"
    }
   ],
   "source": [
    "df['zipcode'].value_counts().hist()"
   ]
  },
  {
   "cell_type": "code",
   "execution_count": 25,
   "metadata": {
    "ExecuteTime": {
     "end_time": "2019-10-04T23:57:38.984954Z",
     "start_time": "2019-10-04T23:57:38.955057Z"
    }
   },
   "outputs": [],
   "source": [
    "# zipcode is related to house price, we may not want to drop it.\n",
    "# there are 70 unique zipcode values, it will create too many dummies.\n",
    "# one choice is taking top 5 or top 10 zipcodes \n",
    "# we can choose top 10 zipcodes with largest house price.\n",
    "# (or may be largest number of houses in that zipcode.)"
   ]
  },
  {
   "cell_type": "code",
   "execution_count": 26,
   "metadata": {
    "ExecuteTime": {
     "end_time": "2019-10-04T23:57:39.991170Z",
     "start_time": "2019-10-04T23:57:39.961576Z"
    }
   },
   "outputs": [],
   "source": [
    "# df[['zipcode','price']].sort_values('price').tail(20)"
   ]
  },
  {
   "cell_type": "code",
   "execution_count": 27,
   "metadata": {
    "ExecuteTime": {
     "end_time": "2019-10-04T23:57:40.832228Z",
     "start_time": "2019-10-04T23:57:40.786692Z"
    }
   },
   "outputs": [
    {
     "data": {
      "text/html": [
       "<div>\n",
       "<style scoped>\n",
       "    .dataframe tbody tr th:only-of-type {\n",
       "        vertical-align: middle;\n",
       "    }\n",
       "\n",
       "    .dataframe tbody tr th {\n",
       "        vertical-align: top;\n",
       "    }\n",
       "\n",
       "    .dataframe thead th {\n",
       "        text-align: right;\n",
       "    }\n",
       "</style>\n",
       "<table border=\"1\" class=\"dataframe\">\n",
       "  <thead>\n",
       "    <tr style=\"text-align: right;\">\n",
       "      <th></th>\n",
       "      <th>zipcode</th>\n",
       "      <th>price</th>\n",
       "    </tr>\n",
       "  </thead>\n",
       "  <tbody>\n",
       "    <tr>\n",
       "      <th>2864</th>\n",
       "      <td>98144</td>\n",
       "      <td>3600000.0</td>\n",
       "    </tr>\n",
       "    <tr>\n",
       "      <th>6508</th>\n",
       "      <td>98105</td>\n",
       "      <td>3650000.0</td>\n",
       "    </tr>\n",
       "    <tr>\n",
       "      <th>19017</th>\n",
       "      <td>98177</td>\n",
       "      <td>3800000.0</td>\n",
       "    </tr>\n",
       "    <tr>\n",
       "      <th>12370</th>\n",
       "      <td>98006</td>\n",
       "      <td>4208000.0</td>\n",
       "    </tr>\n",
       "    <tr>\n",
       "      <th>2626</th>\n",
       "      <td>98155</td>\n",
       "      <td>4500000.0</td>\n",
       "    </tr>\n",
       "    <tr>\n",
       "      <th>1164</th>\n",
       "      <td>98033</td>\n",
       "      <td>5110800.0</td>\n",
       "    </tr>\n",
       "    <tr>\n",
       "      <th>1315</th>\n",
       "      <td>98040</td>\n",
       "      <td>5300000.0</td>\n",
       "    </tr>\n",
       "    <tr>\n",
       "      <th>9254</th>\n",
       "      <td>98039</td>\n",
       "      <td>6885000.0</td>\n",
       "    </tr>\n",
       "    <tr>\n",
       "      <th>3914</th>\n",
       "      <td>98004</td>\n",
       "      <td>7062500.0</td>\n",
       "    </tr>\n",
       "    <tr>\n",
       "      <th>7252</th>\n",
       "      <td>98102</td>\n",
       "      <td>7700000.0</td>\n",
       "    </tr>\n",
       "  </tbody>\n",
       "</table>\n",
       "</div>"
      ],
      "text/plain": [
       "      zipcode      price\n",
       "2864    98144  3600000.0\n",
       "6508    98105  3650000.0\n",
       "19017   98177  3800000.0\n",
       "12370   98006  4208000.0\n",
       "2626    98155  4500000.0\n",
       "1164    98033  5110800.0\n",
       "1315    98040  5300000.0\n",
       "9254    98039  6885000.0\n",
       "3914    98004  7062500.0\n",
       "7252    98102  7700000.0"
      ]
     },
     "execution_count": 27,
     "metadata": {},
     "output_type": "execute_result"
    }
   ],
   "source": [
    "df[['zipcode','price']].sort_values(['price','zipcode']).drop_duplicates('zipcode',keep='last').tail(10)"
   ]
  },
  {
   "cell_type": "code",
   "execution_count": 28,
   "metadata": {
    "ExecuteTime": {
     "end_time": "2019-10-04T23:57:41.645985Z",
     "start_time": "2019-10-04T23:57:41.601021Z"
    }
   },
   "outputs": [],
   "source": [
    "most_expensive9_zipcodes = (df[['zipcode','price']]\n",
    "                           .sort_values(['price','zipcode'])\n",
    "                           .drop_duplicates('zipcode',keep='last')\n",
    "                           .tail(9)\n",
    "                           .zipcode\n",
    "                           .values\n",
    "                          )"
   ]
  },
  {
   "cell_type": "code",
   "execution_count": 29,
   "metadata": {
    "ExecuteTime": {
     "end_time": "2019-10-04T23:57:42.521874Z",
     "start_time": "2019-10-04T23:57:42.489079Z"
    }
   },
   "outputs": [
    {
     "data": {
      "text/plain": [
       "array(['98105', '98177', '98006', '98155', '98033', '98040', '98039',\n",
       "       '98004', '98102'], dtype=object)"
      ]
     },
     "execution_count": 29,
     "metadata": {},
     "output_type": "execute_result"
    }
   ],
   "source": [
    "most_expensive9_zipcodes"
   ]
  },
  {
   "cell_type": "code",
   "execution_count": 30,
   "metadata": {
    "ExecuteTime": {
     "end_time": "2019-10-04T23:57:43.248061Z",
     "start_time": "2019-10-04T23:57:43.218318Z"
    }
   },
   "outputs": [],
   "source": [
    "# keep same zipcode for top 9 expensive and make all others as others"
   ]
  },
  {
   "cell_type": "code",
   "execution_count": 31,
   "metadata": {
    "ExecuteTime": {
     "end_time": "2019-10-04T23:57:43.978507Z",
     "start_time": "2019-10-04T23:57:43.938055Z"
    }
   },
   "outputs": [],
   "source": [
    "df['zipcode_top10'] = df['zipcode']\n",
    "df.loc[~df['zipcode_top10'].isin(most_expensive9_zipcodes), 'zipcode_top10'] = 'others'"
   ]
  },
  {
   "cell_type": "code",
   "execution_count": 32,
   "metadata": {
    "ExecuteTime": {
     "end_time": "2019-10-04T23:57:58.011231Z",
     "start_time": "2019-10-04T23:57:57.977170Z"
    }
   },
   "outputs": [],
   "source": [
    "# we can also create new feature number of houses in that zipcode\n",
    "df['zipcode_houses'] = df.groupby(['zipcode'])['price'].transform('count')"
   ]
  },
  {
   "cell_type": "code",
   "execution_count": 33,
   "metadata": {
    "ExecuteTime": {
     "end_time": "2019-10-04T23:57:58.943052Z",
     "start_time": "2019-10-04T23:57:58.898582Z"
    }
   },
   "outputs": [
    {
     "data": {
      "text/html": [
       "<div>\n",
       "<style scoped>\n",
       "    .dataframe tbody tr th:only-of-type {\n",
       "        vertical-align: middle;\n",
       "    }\n",
       "\n",
       "    .dataframe tbody tr th {\n",
       "        vertical-align: top;\n",
       "    }\n",
       "\n",
       "    .dataframe thead th {\n",
       "        text-align: right;\n",
       "    }\n",
       "</style>\n",
       "<table border=\"1\" class=\"dataframe\">\n",
       "  <thead>\n",
       "    <tr style=\"text-align: right;\">\n",
       "      <th></th>\n",
       "      <th>price</th>\n",
       "      <th>zipcode</th>\n",
       "      <th>zipcode_top10</th>\n",
       "      <th>zipcode_houses</th>\n",
       "    </tr>\n",
       "  </thead>\n",
       "  <tbody>\n",
       "    <tr>\n",
       "      <th>0</th>\n",
       "      <td>221900.0</td>\n",
       "      <td>98178</td>\n",
       "      <td>others</td>\n",
       "      <td>262</td>\n",
       "    </tr>\n",
       "    <tr>\n",
       "      <th>21</th>\n",
       "      <td>2000000.0</td>\n",
       "      <td>98040</td>\n",
       "      <td>98040</td>\n",
       "      <td>282</td>\n",
       "    </tr>\n",
       "    <tr>\n",
       "      <th>54</th>\n",
       "      <td>920000.0</td>\n",
       "      <td>98105</td>\n",
       "      <td>98105</td>\n",
       "      <td>229</td>\n",
       "    </tr>\n",
       "    <tr>\n",
       "      <th>66</th>\n",
       "      <td>975000.0</td>\n",
       "      <td>98004</td>\n",
       "      <td>98004</td>\n",
       "      <td>317</td>\n",
       "    </tr>\n",
       "    <tr>\n",
       "      <th>100</th>\n",
       "      <td>850830.0</td>\n",
       "      <td>98102</td>\n",
       "      <td>98102</td>\n",
       "      <td>105</td>\n",
       "    </tr>\n",
       "    <tr>\n",
       "      <th>120</th>\n",
       "      <td>660000.0</td>\n",
       "      <td>98177</td>\n",
       "      <td>98177</td>\n",
       "      <td>255</td>\n",
       "    </tr>\n",
       "    <tr>\n",
       "      <th>141</th>\n",
       "      <td>527700.0</td>\n",
       "      <td>98006</td>\n",
       "      <td>98006</td>\n",
       "      <td>498</td>\n",
       "    </tr>\n",
       "    <tr>\n",
       "      <th>173</th>\n",
       "      <td>917500.0</td>\n",
       "      <td>98033</td>\n",
       "      <td>98033</td>\n",
       "      <td>432</td>\n",
       "    </tr>\n",
       "    <tr>\n",
       "      <th>194</th>\n",
       "      <td>230000.0</td>\n",
       "      <td>98155</td>\n",
       "      <td>98155</td>\n",
       "      <td>446</td>\n",
       "    </tr>\n",
       "    <tr>\n",
       "      <th>2974</th>\n",
       "      <td>2950000.0</td>\n",
       "      <td>98039</td>\n",
       "      <td>98039</td>\n",
       "      <td>50</td>\n",
       "    </tr>\n",
       "  </tbody>\n",
       "</table>\n",
       "</div>"
      ],
      "text/plain": [
       "          price zipcode zipcode_top10  zipcode_houses\n",
       "0      221900.0   98178        others             262\n",
       "21    2000000.0   98040         98040             282\n",
       "54     920000.0   98105         98105             229\n",
       "66     975000.0   98004         98004             317\n",
       "100    850830.0   98102         98102             105\n",
       "120    660000.0   98177         98177             255\n",
       "141    527700.0   98006         98006             498\n",
       "173    917500.0   98033         98033             432\n",
       "194    230000.0   98155         98155             446\n",
       "2974  2950000.0   98039         98039              50"
      ]
     },
     "execution_count": 33,
     "metadata": {},
     "output_type": "execute_result"
    }
   ],
   "source": [
    "df.filter(regex='zip|price',axis=1).drop_duplicates('zipcode_top10')"
   ]
  },
  {
   "cell_type": "code",
   "execution_count": 34,
   "metadata": {
    "ExecuteTime": {
     "end_time": "2019-10-04T23:58:46.038296Z",
     "start_time": "2019-10-04T23:58:45.996792Z"
    }
   },
   "outputs": [
    {
     "data": {
      "text/plain": [
       "Index(['waterfront', 'view', 'condition', 'grade', 'zipcode', 'zipcode_top10'], dtype='object')"
      ]
     },
     "execution_count": 34,
     "metadata": {},
     "output_type": "execute_result"
    }
   ],
   "source": [
    "cols_obj = df.select_dtypes(['object','category']).columns\n",
    "cols_obj"
   ]
  },
  {
   "cell_type": "code",
   "execution_count": 35,
   "metadata": {
    "ExecuteTime": {
     "end_time": "2019-10-05T00:01:22.788282Z",
     "start_time": "2019-10-05T00:01:22.742469Z"
    }
   },
   "outputs": [],
   "source": [
    "# create ordered ordinal labels for categorical data"
   ]
  },
  {
   "cell_type": "code",
   "execution_count": 36,
   "metadata": {
    "ExecuteTime": {
     "end_time": "2019-10-05T00:03:00.504106Z",
     "start_time": "2019-10-05T00:03:00.472867Z"
    }
   },
   "outputs": [],
   "source": [
    "# waterfron, view, condition, grade are already ordered ordinals"
   ]
  },
  {
   "cell_type": "code",
   "execution_count": 37,
   "metadata": {
    "ExecuteTime": {
     "end_time": "2019-10-05T00:03:13.189152Z",
     "start_time": "2019-10-05T00:03:13.079741Z"
    }
   },
   "outputs": [
    {
     "data": {
      "text/plain": [
       "70"
      ]
     },
     "execution_count": 37,
     "metadata": {},
     "output_type": "execute_result"
    }
   ],
   "source": [
    "df['zipcode'].nunique()"
   ]
  },
  {
   "cell_type": "code",
   "execution_count": 38,
   "metadata": {
    "ExecuteTime": {
     "end_time": "2019-10-05T00:04:15.346621Z",
     "start_time": "2019-10-05T00:04:15.315133Z"
    }
   },
   "outputs": [],
   "source": [
    "# create new column with rare 1% values named as rare for zipcode"
   ]
  },
  {
   "cell_type": "code",
   "execution_count": 39,
   "metadata": {
    "ExecuteTime": {
     "end_time": "2019-10-05T00:04:43.454247Z",
     "start_time": "2019-10-05T00:04:43.410084Z"
    }
   },
   "outputs": [
    {
     "data": {
      "text/plain": [
       "0    98178\n",
       "1    98125\n",
       "2    98028\n",
       "3    98136\n",
       "4    98074\n",
       "Name: zipcode, dtype: object"
      ]
     },
     "execution_count": 39,
     "metadata": {},
     "output_type": "execute_result"
    }
   ],
   "source": [
    "df['zipcode'].head()"
   ]
  },
  {
   "cell_type": "code",
   "execution_count": 40,
   "metadata": {
    "ExecuteTime": {
     "end_time": "2019-10-05T00:18:26.174678Z",
     "start_time": "2019-10-05T00:18:26.136699Z"
    }
   },
   "outputs": [
    {
     "data": {
      "text/plain": [
       "Index(['98103', '98038', '98115', '98052', '98117', '98042', '98034', '98118',\n",
       "       '98023', '98006', '98133', '98059', '98058', '98155', '98074', '98033',\n",
       "       '98027', '98125', '98056', '98053', '98001', '98075', '98126', '98092',\n",
       "       '98144', '98106', '98116', '98029', '98199', '98004', '98065', '98122',\n",
       "       '98146', '98028', '98008', '98040', '98003', '98198', '98031', '98072',\n",
       "       '98112', '98168', '98055', '98107', '98136', '98178', '98030', '98177',\n",
       "       '98166', '98022', '98105', '98045'],\n",
       "      dtype='object')"
      ]
     },
     "execution_count": 40,
     "metadata": {},
     "output_type": "execute_result"
    }
   ],
   "source": [
    "# more frequent than 1%\n",
    "zipcode_idx_greater_than_1pct = df['zipcode'].value_counts(normalize=True).loc[lambda x: x>0.01].index \n",
    "zipcode_idx_greater_than_1pct\n",
    "\n",
    "# 98045     0.01\n",
    "# 98002   0.0092  # this index is Rare"
   ]
  },
  {
   "cell_type": "code",
   "execution_count": 41,
   "metadata": {
    "ExecuteTime": {
     "end_time": "2019-10-05T00:35:41.444617Z",
     "start_time": "2019-10-05T00:35:41.386390Z"
    }
   },
   "outputs": [
    {
     "name": "stdout",
     "output_type": "stream",
     "text": [
      "53\n"
     ]
    },
    {
     "data": {
      "text/plain": [
       "array(['98178', '98125', '98028', '98136', '98074', '98053', '98003',\n",
       "       '98198', '98146', '98038', 'Rare', '98115', '98107', '98126',\n",
       "       '98103', '98133', '98040', '98092', '98030', '98112', '98052',\n",
       "       '98027', '98117', '98058', '98001', '98056', '98166', '98023',\n",
       "       '98105', '98042', '98008', '98059', '98122', '98144', '98004',\n",
       "       '98034', '98075', '98116', '98118', '98199', '98045', '98168',\n",
       "       '98177', '98065', '98029', '98006', '98022', '98033', '98155',\n",
       "       '98031', '98106', '98072', '98055'], dtype=object)"
      ]
     },
     "execution_count": 41,
     "metadata": {},
     "output_type": "execute_result"
    }
   ],
   "source": [
    "df['zipcode_with_1pct_rare'] = np.where(df['zipcode'].isin(zipcode_idx_greater_than_1pct),\n",
    "                                  df['zipcode'], 'Rare')\n",
    "\n",
    "print(df['zipcode_with_1pct_rare'].nunique())\n",
    "df['zipcode_with_1pct_rare'].unique()"
   ]
  },
  {
   "cell_type": "code",
   "execution_count": 42,
   "metadata": {
    "ExecuteTime": {
     "end_time": "2019-10-05T01:08:07.442099Z",
     "start_time": "2019-10-05T01:08:07.386245Z"
    }
   },
   "outputs": [
    {
     "data": {
      "text/plain": [
       "{'98168': 0,\n",
       " '98001': 1,\n",
       " '98023': 2,\n",
       " '98003': 3,\n",
       " '98030': 4,\n",
       " '98031': 5,\n",
       " '98198': 6,\n",
       " '98055': 7,\n",
       " '98178': 8,\n",
       " '98042': 9,\n",
       " '98022': 10,\n",
       " '98106': 11,\n",
       " '98092': 12,\n",
       " '98058': 13,\n",
       " '98146': 14,\n",
       " '98038': 15,\n",
       " '98133': 16,\n",
       " '98118': 17,\n",
       " '98056': 18,\n",
       " '98155': 19,\n",
       " '98126': 20,\n",
       " '98045': 21,\n",
       " '98028': 22,\n",
       " '98166': 23,\n",
       " '98125': 24,\n",
       " '98059': 25,\n",
       " '98034': 26,\n",
       " '98065': 27,\n",
       " '98136': 28,\n",
       " 'Rare': 29,\n",
       " '98072': 30,\n",
       " '98117': 31,\n",
       " '98107': 32,\n",
       " '98103': 33,\n",
       " '98144': 34,\n",
       " '98029': 35,\n",
       " '98027': 36,\n",
       " '98116': 37,\n",
       " '98115': 38,\n",
       " '98122': 39,\n",
       " '98052': 40,\n",
       " '98008': 41,\n",
       " '98177': 42,\n",
       " '98053': 43,\n",
       " '98074': 44,\n",
       " '98075': 45,\n",
       " '98199': 46,\n",
       " '98033': 47,\n",
       " '98006': 48,\n",
       " '98105': 49,\n",
       " '98112': 50,\n",
       " '98040': 51,\n",
       " '98004': 52}"
      ]
     },
     "execution_count": 42,
     "metadata": {},
     "output_type": "execute_result"
    }
   ],
   "source": [
    "var = 'zipcode_with_1pct_rare'\n",
    "target = 'price'\n",
    "\n",
    "zipcode_ordered_labels = df[[var,target]].groupby([var])[target].mean().sort_values().index\n",
    "zipcode_ordinal_labels_dict = {k:i for i, k in enumerate(zipcode_ordered_labels, 0)} \n",
    "\n",
    "zipcode_ordinal_labels_dict"
   ]
  },
  {
   "cell_type": "code",
   "execution_count": 43,
   "metadata": {
    "ExecuteTime": {
     "end_time": "2019-10-05T00:45:15.146762Z",
     "start_time": "2019-10-05T00:45:15.117736Z"
    }
   },
   "outputs": [],
   "source": [
    "myjson = {'zipcode_ordinal_labels_dict': zipcode_ordinal_labels_dict}\n",
    "ofile = '../models/zipcode_ordinal_labels_dict.json'\n",
    "json_dump_tofile(myjson,ofile,sort_keys=False)"
   ]
  },
  {
   "cell_type": "code",
   "execution_count": 44,
   "metadata": {
    "ExecuteTime": {
     "end_time": "2019-10-05T00:37:00.489802Z",
     "start_time": "2019-10-05T00:37:00.429914Z"
    }
   },
   "outputs": [
    {
     "data": {
      "text/html": [
       "<div>\n",
       "<style scoped>\n",
       "    .dataframe tbody tr th:only-of-type {\n",
       "        vertical-align: middle;\n",
       "    }\n",
       "\n",
       "    .dataframe tbody tr th {\n",
       "        vertical-align: top;\n",
       "    }\n",
       "\n",
       "    .dataframe thead th {\n",
       "        text-align: right;\n",
       "    }\n",
       "</style>\n",
       "<table border=\"1\" class=\"dataframe\">\n",
       "  <thead>\n",
       "    <tr style=\"text-align: right;\">\n",
       "      <th></th>\n",
       "      <th>price</th>\n",
       "      <th>zipcode</th>\n",
       "      <th>zipcode_top10</th>\n",
       "      <th>zipcode_houses</th>\n",
       "      <th>zipcode_with_1pct_rare</th>\n",
       "      <th>zipcode_with_1pct_rare_ordinal</th>\n",
       "    </tr>\n",
       "  </thead>\n",
       "  <tbody>\n",
       "    <tr>\n",
       "      <th>0</th>\n",
       "      <td>221900.0</td>\n",
       "      <td>98178</td>\n",
       "      <td>others</td>\n",
       "      <td>262</td>\n",
       "      <td>98178</td>\n",
       "      <td>8</td>\n",
       "    </tr>\n",
       "    <tr>\n",
       "      <th>1</th>\n",
       "      <td>538000.0</td>\n",
       "      <td>98125</td>\n",
       "      <td>others</td>\n",
       "      <td>410</td>\n",
       "      <td>98125</td>\n",
       "      <td>24</td>\n",
       "    </tr>\n",
       "    <tr>\n",
       "      <th>2</th>\n",
       "      <td>180000.0</td>\n",
       "      <td>98028</td>\n",
       "      <td>others</td>\n",
       "      <td>283</td>\n",
       "      <td>98028</td>\n",
       "      <td>22</td>\n",
       "    </tr>\n",
       "    <tr>\n",
       "      <th>3</th>\n",
       "      <td>604000.0</td>\n",
       "      <td>98136</td>\n",
       "      <td>others</td>\n",
       "      <td>263</td>\n",
       "      <td>98136</td>\n",
       "      <td>28</td>\n",
       "    </tr>\n",
       "    <tr>\n",
       "      <th>4</th>\n",
       "      <td>510000.0</td>\n",
       "      <td>98074</td>\n",
       "      <td>others</td>\n",
       "      <td>441</td>\n",
       "      <td>98074</td>\n",
       "      <td>44</td>\n",
       "    </tr>\n",
       "  </tbody>\n",
       "</table>\n",
       "</div>"
      ],
      "text/plain": [
       "      price zipcode zipcode_top10  zipcode_houses zipcode_with_1pct_rare  \\\n",
       "0  221900.0   98178        others             262                  98178   \n",
       "1  538000.0   98125        others             410                  98125   \n",
       "2  180000.0   98028        others             283                  98028   \n",
       "3  604000.0   98136        others             263                  98136   \n",
       "4  510000.0   98074        others             441                  98074   \n",
       "\n",
       "   zipcode_with_1pct_rare_ordinal  \n",
       "0                               8  \n",
       "1                              24  \n",
       "2                              22  \n",
       "3                              28  \n",
       "4                              44  "
      ]
     },
     "execution_count": 44,
     "metadata": {},
     "output_type": "execute_result"
    }
   ],
   "source": [
    "df['zipcode_with_1pct_rare_ordinal'] = df['zipcode_with_1pct_rare'].map(zipcode_ordinal_labels_dict)\n",
    "df.filter(regex='price|zipcode').head()"
   ]
  },
  {
   "cell_type": "code",
   "execution_count": 45,
   "metadata": {
    "ExecuteTime": {
     "end_time": "2019-10-05T01:15:40.817397Z",
     "start_time": "2019-10-05T01:15:40.759855Z"
    }
   },
   "outputs": [
    {
     "data": {
      "text/plain": [
       "{'98168': 0,\n",
       " '98001': 1,\n",
       " '98023': 2,\n",
       " '98003': 3,\n",
       " '98030': 4,\n",
       " '98031': 5,\n",
       " '98198': 6,\n",
       " '98055': 7,\n",
       " '98178': 8,\n",
       " '98042': 9,\n",
       " '98022': 10,\n",
       " '98106': 11,\n",
       " '98092': 12,\n",
       " '98058': 13,\n",
       " '98146': 14,\n",
       " '98038': 15,\n",
       " '98133': 16,\n",
       " '98118': 17,\n",
       " '98056': 18,\n",
       " '98155': 19,\n",
       " '98126': 20,\n",
       " '98045': 21,\n",
       " '98028': 22,\n",
       " '98166': 23,\n",
       " '98125': 24,\n",
       " '98059': 25,\n",
       " '98034': 26,\n",
       " '98065': 27,\n",
       " '98136': 28,\n",
       " 'Rare': 29,\n",
       " '98072': 30,\n",
       " '98117': 31,\n",
       " '98107': 32,\n",
       " '98103': 33,\n",
       " '98144': 34,\n",
       " '98029': 35,\n",
       " '98027': 36,\n",
       " '98116': 37,\n",
       " '98115': 38,\n",
       " '98122': 39,\n",
       " '98052': 40,\n",
       " '98008': 41,\n",
       " '98177': 42,\n",
       " '98053': 43,\n",
       " '98074': 44,\n",
       " '98075': 45,\n",
       " '98199': 46,\n",
       " '98033': 47,\n",
       " '98006': 48,\n",
       " '98105': 49,\n",
       " '98112': 50,\n",
       " '98040': 51,\n",
       " '98004': 52}"
      ]
     },
     "execution_count": 45,
     "metadata": {},
     "output_type": "execute_result"
    }
   ],
   "source": [
    "(df[[var,target]]\n",
    " .groupby(var)\n",
    " .agg({target: np.mean})\n",
    " .sort_values(target)\n",
    " .index\n",
    " .to_frame()\n",
    " .assign(rank= lambda dx: range(len(dx)))\n",
    " .to_dict()\n",
    " ['rank']\n",
    ")"
   ]
  },
  {
   "cell_type": "markdown",
   "metadata": {},
   "source": [
    "## Boolean data types"
   ]
  },
  {
   "cell_type": "code",
   "execution_count": 46,
   "metadata": {
    "ExecuteTime": {
     "end_time": "2019-10-04T23:42:54.052270Z",
     "start_time": "2019-10-04T23:42:53.993466Z"
    }
   },
   "outputs": [
    {
     "data": {
      "text/html": [
       "<div>\n",
       "<style scoped>\n",
       "    .dataframe tbody tr th:only-of-type {\n",
       "        vertical-align: middle;\n",
       "    }\n",
       "\n",
       "    .dataframe tbody tr th {\n",
       "        vertical-align: top;\n",
       "    }\n",
       "\n",
       "    .dataframe thead th {\n",
       "        text-align: right;\n",
       "    }\n",
       "</style>\n",
       "<table border=\"1\" class=\"dataframe\">\n",
       "  <thead>\n",
       "    <tr style=\"text-align: right;\">\n",
       "      <th></th>\n",
       "      <th>id</th>\n",
       "      <th>date</th>\n",
       "      <th>price</th>\n",
       "      <th>bedrooms</th>\n",
       "      <th>bathrooms</th>\n",
       "      <th>sqft_living</th>\n",
       "      <th>sqft_lot</th>\n",
       "      <th>floors</th>\n",
       "      <th>waterfront</th>\n",
       "      <th>view</th>\n",
       "      <th>...</th>\n",
       "      <th>sqft_living15</th>\n",
       "      <th>sqft_lot15</th>\n",
       "      <th>yr_sales</th>\n",
       "      <th>age</th>\n",
       "      <th>yr_renovated2</th>\n",
       "      <th>age_after_renovation</th>\n",
       "      <th>zipcode_top10</th>\n",
       "      <th>zipcode_houses</th>\n",
       "      <th>zipcode_with_1pct_rare</th>\n",
       "      <th>zipcode_with_1pct_rare_ordinal</th>\n",
       "    </tr>\n",
       "  </thead>\n",
       "  <tbody>\n",
       "    <tr>\n",
       "      <th>0</th>\n",
       "      <td>7129300520</td>\n",
       "      <td>2014-10-13 00:00:00</td>\n",
       "      <td>221900</td>\n",
       "      <td>3</td>\n",
       "      <td>1</td>\n",
       "      <td>1180</td>\n",
       "      <td>5650</td>\n",
       "      <td>1</td>\n",
       "      <td>0</td>\n",
       "      <td>0</td>\n",
       "      <td>...</td>\n",
       "      <td>1340</td>\n",
       "      <td>5650</td>\n",
       "      <td>2014</td>\n",
       "      <td>59</td>\n",
       "      <td>1955</td>\n",
       "      <td>59</td>\n",
       "      <td>others</td>\n",
       "      <td>262</td>\n",
       "      <td>98178</td>\n",
       "      <td>8</td>\n",
       "    </tr>\n",
       "    <tr>\n",
       "      <th>1</th>\n",
       "      <td>int64</td>\n",
       "      <td>datetime64[ns]</td>\n",
       "      <td>float64</td>\n",
       "      <td>int64</td>\n",
       "      <td>float64</td>\n",
       "      <td>int64</td>\n",
       "      <td>int64</td>\n",
       "      <td>float64</td>\n",
       "      <td>object</td>\n",
       "      <td>object</td>\n",
       "      <td>...</td>\n",
       "      <td>int64</td>\n",
       "      <td>int64</td>\n",
       "      <td>int64</td>\n",
       "      <td>int64</td>\n",
       "      <td>int64</td>\n",
       "      <td>int64</td>\n",
       "      <td>object</td>\n",
       "      <td>int64</td>\n",
       "      <td>object</td>\n",
       "      <td>int64</td>\n",
       "    </tr>\n",
       "  </tbody>\n",
       "</table>\n",
       "<p>2 rows × 29 columns</p>\n",
       "</div>"
      ],
      "text/plain": [
       "           id                 date    price bedrooms bathrooms sqft_living  \\\n",
       "0  7129300520  2014-10-13 00:00:00   221900        3         1        1180   \n",
       "1       int64       datetime64[ns]  float64    int64   float64       int64   \n",
       "\n",
       "  sqft_lot   floors waterfront    view  ... sqft_living15 sqft_lot15 yr_sales  \\\n",
       "0     5650        1          0       0  ...          1340       5650     2014   \n",
       "1    int64  float64     object  object  ...         int64      int64    int64   \n",
       "\n",
       "     age yr_renovated2 age_after_renovation zipcode_top10 zipcode_houses  \\\n",
       "0     59          1955                   59        others            262   \n",
       "1  int64         int64                int64        object          int64   \n",
       "\n",
       "  zipcode_with_1pct_rare zipcode_with_1pct_rare_ordinal  \n",
       "0                  98178                              8  \n",
       "1                 object                          int64  \n",
       "\n",
       "[2 rows x 29 columns]"
      ]
     },
     "execution_count": 46,
     "metadata": {},
     "output_type": "execute_result"
    }
   ],
   "source": [
    "df.head(1).append(df.dtypes,ignore_index=True)"
   ]
  },
  {
   "cell_type": "code",
   "execution_count": 47,
   "metadata": {
    "ExecuteTime": {
     "end_time": "2019-10-04T23:42:54.090467Z",
     "start_time": "2019-10-04T23:42:54.054625Z"
    }
   },
   "outputs": [
    {
     "data": {
      "text/plain": [
       "0      13126\n",
       "600      221\n",
       "700      218\n",
       "500      214\n",
       "800      206\n",
       "Name: sqft_basement, dtype: int64"
      ]
     },
     "execution_count": 47,
     "metadata": {},
     "output_type": "execute_result"
    }
   ],
   "source": [
    "df['sqft_basement'].value_counts().nlargest(5)"
   ]
  },
  {
   "cell_type": "code",
   "execution_count": 48,
   "metadata": {
    "ExecuteTime": {
     "end_time": "2019-10-04T23:42:54.154015Z",
     "start_time": "2019-10-04T23:42:54.093696Z"
    }
   },
   "outputs": [
    {
     "data": {
      "text/html": [
       "<div>\n",
       "<style scoped>\n",
       "    .dataframe tbody tr th:only-of-type {\n",
       "        vertical-align: middle;\n",
       "    }\n",
       "\n",
       "    .dataframe tbody tr th {\n",
       "        vertical-align: top;\n",
       "    }\n",
       "\n",
       "    .dataframe thead th {\n",
       "        text-align: right;\n",
       "    }\n",
       "</style>\n",
       "<table border=\"1\" class=\"dataframe\">\n",
       "  <thead>\n",
       "    <tr style=\"text-align: right;\">\n",
       "      <th></th>\n",
       "      <th>sqft_basement</th>\n",
       "      <th>yr_renovated</th>\n",
       "      <th>yr_renovated2</th>\n",
       "      <th>age_after_renovation</th>\n",
       "      <th>basement_bool</th>\n",
       "      <th>renovation_bool</th>\n",
       "    </tr>\n",
       "  </thead>\n",
       "  <tbody>\n",
       "    <tr>\n",
       "      <th>0</th>\n",
       "      <td>0</td>\n",
       "      <td>0</td>\n",
       "      <td>1955</td>\n",
       "      <td>59</td>\n",
       "      <td>0</td>\n",
       "      <td>0</td>\n",
       "    </tr>\n",
       "    <tr>\n",
       "      <th>1</th>\n",
       "      <td>400</td>\n",
       "      <td>1991</td>\n",
       "      <td>1991</td>\n",
       "      <td>23</td>\n",
       "      <td>1</td>\n",
       "      <td>1</td>\n",
       "    </tr>\n",
       "    <tr>\n",
       "      <th>2</th>\n",
       "      <td>0</td>\n",
       "      <td>0</td>\n",
       "      <td>1933</td>\n",
       "      <td>82</td>\n",
       "      <td>0</td>\n",
       "      <td>0</td>\n",
       "    </tr>\n",
       "    <tr>\n",
       "      <th>3</th>\n",
       "      <td>910</td>\n",
       "      <td>0</td>\n",
       "      <td>1965</td>\n",
       "      <td>49</td>\n",
       "      <td>1</td>\n",
       "      <td>0</td>\n",
       "    </tr>\n",
       "    <tr>\n",
       "      <th>4</th>\n",
       "      <td>0</td>\n",
       "      <td>0</td>\n",
       "      <td>1987</td>\n",
       "      <td>28</td>\n",
       "      <td>0</td>\n",
       "      <td>0</td>\n",
       "    </tr>\n",
       "  </tbody>\n",
       "</table>\n",
       "</div>"
      ],
      "text/plain": [
       "   sqft_basement  yr_renovated  yr_renovated2  age_after_renovation  \\\n",
       "0              0             0           1955                    59   \n",
       "1            400          1991           1991                    23   \n",
       "2              0             0           1933                    82   \n",
       "3            910             0           1965                    49   \n",
       "4              0             0           1987                    28   \n",
       "\n",
       "   basement_bool  renovation_bool  \n",
       "0              0                0  \n",
       "1              1                1  \n",
       "2              0                0  \n",
       "3              1                0  \n",
       "4              0                0  "
      ]
     },
     "execution_count": 48,
     "metadata": {},
     "output_type": "execute_result"
    }
   ],
   "source": [
    "# there are so many zeros, we can create boolean column\n",
    "# Note that there should not be nans here.\n",
    "df['basement_bool'] = df['sqft_basement'].apply(lambda x: 1 if x>0 else 0)\n",
    "df['renovation_bool'] = df['yr_renovated'].apply(lambda x: 1 if x>0 else 0)\n",
    "\n",
    "df.filter(regex='base|reno',axis=1).head()"
   ]
  },
  {
   "cell_type": "markdown",
   "metadata": {},
   "source": [
    "## Numerical features binning"
   ]
  },
  {
   "cell_type": "code",
   "execution_count": 49,
   "metadata": {
    "ExecuteTime": {
     "end_time": "2019-10-04T23:42:54.204337Z",
     "start_time": "2019-10-04T23:42:54.160357Z"
    }
   },
   "outputs": [
    {
     "data": {
      "text/html": [
       "<div>\n",
       "<style scoped>\n",
       "    .dataframe tbody tr th:only-of-type {\n",
       "        vertical-align: middle;\n",
       "    }\n",
       "\n",
       "    .dataframe tbody tr th {\n",
       "        vertical-align: top;\n",
       "    }\n",
       "\n",
       "    .dataframe thead th {\n",
       "        text-align: right;\n",
       "    }\n",
       "</style>\n",
       "<table border=\"1\" class=\"dataframe\">\n",
       "  <thead>\n",
       "    <tr style=\"text-align: right;\">\n",
       "      <th></th>\n",
       "      <th>0</th>\n",
       "      <th>1</th>\n",
       "      <th>2</th>\n",
       "      <th>3</th>\n",
       "      <th>4</th>\n",
       "    </tr>\n",
       "  </thead>\n",
       "  <tbody>\n",
       "    <tr>\n",
       "      <th>id</th>\n",
       "      <td>7.129301e+09</td>\n",
       "      <td>6.414100e+09</td>\n",
       "      <td>5.631500e+09</td>\n",
       "      <td>2.487201e+09</td>\n",
       "      <td>1.954401e+09</td>\n",
       "    </tr>\n",
       "    <tr>\n",
       "      <th>price</th>\n",
       "      <td>2.219000e+05</td>\n",
       "      <td>5.380000e+05</td>\n",
       "      <td>1.800000e+05</td>\n",
       "      <td>6.040000e+05</td>\n",
       "      <td>5.100000e+05</td>\n",
       "    </tr>\n",
       "    <tr>\n",
       "      <th>bedrooms</th>\n",
       "      <td>3.000000e+00</td>\n",
       "      <td>3.000000e+00</td>\n",
       "      <td>2.000000e+00</td>\n",
       "      <td>4.000000e+00</td>\n",
       "      <td>3.000000e+00</td>\n",
       "    </tr>\n",
       "    <tr>\n",
       "      <th>bathrooms</th>\n",
       "      <td>1.000000e+00</td>\n",
       "      <td>2.250000e+00</td>\n",
       "      <td>1.000000e+00</td>\n",
       "      <td>3.000000e+00</td>\n",
       "      <td>2.000000e+00</td>\n",
       "    </tr>\n",
       "    <tr>\n",
       "      <th>sqft_living</th>\n",
       "      <td>1.180000e+03</td>\n",
       "      <td>2.570000e+03</td>\n",
       "      <td>7.700000e+02</td>\n",
       "      <td>1.960000e+03</td>\n",
       "      <td>1.680000e+03</td>\n",
       "    </tr>\n",
       "    <tr>\n",
       "      <th>sqft_lot</th>\n",
       "      <td>5.650000e+03</td>\n",
       "      <td>7.242000e+03</td>\n",
       "      <td>1.000000e+04</td>\n",
       "      <td>5.000000e+03</td>\n",
       "      <td>8.080000e+03</td>\n",
       "    </tr>\n",
       "    <tr>\n",
       "      <th>floors</th>\n",
       "      <td>1.000000e+00</td>\n",
       "      <td>2.000000e+00</td>\n",
       "      <td>1.000000e+00</td>\n",
       "      <td>1.000000e+00</td>\n",
       "      <td>1.000000e+00</td>\n",
       "    </tr>\n",
       "    <tr>\n",
       "      <th>sqft_above</th>\n",
       "      <td>1.180000e+03</td>\n",
       "      <td>2.170000e+03</td>\n",
       "      <td>7.700000e+02</td>\n",
       "      <td>1.050000e+03</td>\n",
       "      <td>1.680000e+03</td>\n",
       "    </tr>\n",
       "    <tr>\n",
       "      <th>sqft_basement</th>\n",
       "      <td>0.000000e+00</td>\n",
       "      <td>4.000000e+02</td>\n",
       "      <td>0.000000e+00</td>\n",
       "      <td>9.100000e+02</td>\n",
       "      <td>0.000000e+00</td>\n",
       "    </tr>\n",
       "    <tr>\n",
       "      <th>yr_built</th>\n",
       "      <td>1.955000e+03</td>\n",
       "      <td>1.951000e+03</td>\n",
       "      <td>1.933000e+03</td>\n",
       "      <td>1.965000e+03</td>\n",
       "      <td>1.987000e+03</td>\n",
       "    </tr>\n",
       "    <tr>\n",
       "      <th>yr_renovated</th>\n",
       "      <td>0.000000e+00</td>\n",
       "      <td>1.991000e+03</td>\n",
       "      <td>0.000000e+00</td>\n",
       "      <td>0.000000e+00</td>\n",
       "      <td>0.000000e+00</td>\n",
       "    </tr>\n",
       "    <tr>\n",
       "      <th>lat</th>\n",
       "      <td>4.751120e+01</td>\n",
       "      <td>4.772100e+01</td>\n",
       "      <td>4.773790e+01</td>\n",
       "      <td>4.752080e+01</td>\n",
       "      <td>4.761680e+01</td>\n",
       "    </tr>\n",
       "    <tr>\n",
       "      <th>long</th>\n",
       "      <td>-1.222570e+02</td>\n",
       "      <td>-1.223190e+02</td>\n",
       "      <td>-1.222330e+02</td>\n",
       "      <td>-1.223930e+02</td>\n",
       "      <td>-1.220450e+02</td>\n",
       "    </tr>\n",
       "    <tr>\n",
       "      <th>sqft_living15</th>\n",
       "      <td>1.340000e+03</td>\n",
       "      <td>1.690000e+03</td>\n",
       "      <td>2.720000e+03</td>\n",
       "      <td>1.360000e+03</td>\n",
       "      <td>1.800000e+03</td>\n",
       "    </tr>\n",
       "    <tr>\n",
       "      <th>sqft_lot15</th>\n",
       "      <td>5.650000e+03</td>\n",
       "      <td>7.639000e+03</td>\n",
       "      <td>8.062000e+03</td>\n",
       "      <td>5.000000e+03</td>\n",
       "      <td>7.503000e+03</td>\n",
       "    </tr>\n",
       "    <tr>\n",
       "      <th>yr_sales</th>\n",
       "      <td>2.014000e+03</td>\n",
       "      <td>2.014000e+03</td>\n",
       "      <td>2.015000e+03</td>\n",
       "      <td>2.014000e+03</td>\n",
       "      <td>2.015000e+03</td>\n",
       "    </tr>\n",
       "    <tr>\n",
       "      <th>age</th>\n",
       "      <td>5.900000e+01</td>\n",
       "      <td>6.300000e+01</td>\n",
       "      <td>8.200000e+01</td>\n",
       "      <td>4.900000e+01</td>\n",
       "      <td>2.800000e+01</td>\n",
       "    </tr>\n",
       "    <tr>\n",
       "      <th>yr_renovated2</th>\n",
       "      <td>1.955000e+03</td>\n",
       "      <td>1.991000e+03</td>\n",
       "      <td>1.933000e+03</td>\n",
       "      <td>1.965000e+03</td>\n",
       "      <td>1.987000e+03</td>\n",
       "    </tr>\n",
       "    <tr>\n",
       "      <th>age_after_renovation</th>\n",
       "      <td>5.900000e+01</td>\n",
       "      <td>2.300000e+01</td>\n",
       "      <td>8.200000e+01</td>\n",
       "      <td>4.900000e+01</td>\n",
       "      <td>2.800000e+01</td>\n",
       "    </tr>\n",
       "    <tr>\n",
       "      <th>zipcode_houses</th>\n",
       "      <td>2.620000e+02</td>\n",
       "      <td>4.100000e+02</td>\n",
       "      <td>2.830000e+02</td>\n",
       "      <td>2.630000e+02</td>\n",
       "      <td>4.410000e+02</td>\n",
       "    </tr>\n",
       "    <tr>\n",
       "      <th>zipcode_with_1pct_rare_ordinal</th>\n",
       "      <td>8.000000e+00</td>\n",
       "      <td>2.400000e+01</td>\n",
       "      <td>2.200000e+01</td>\n",
       "      <td>2.800000e+01</td>\n",
       "      <td>4.400000e+01</td>\n",
       "    </tr>\n",
       "    <tr>\n",
       "      <th>basement_bool</th>\n",
       "      <td>0.000000e+00</td>\n",
       "      <td>1.000000e+00</td>\n",
       "      <td>0.000000e+00</td>\n",
       "      <td>1.000000e+00</td>\n",
       "      <td>0.000000e+00</td>\n",
       "    </tr>\n",
       "    <tr>\n",
       "      <th>renovation_bool</th>\n",
       "      <td>0.000000e+00</td>\n",
       "      <td>1.000000e+00</td>\n",
       "      <td>0.000000e+00</td>\n",
       "      <td>0.000000e+00</td>\n",
       "      <td>0.000000e+00</td>\n",
       "    </tr>\n",
       "  </tbody>\n",
       "</table>\n",
       "</div>"
      ],
      "text/plain": [
       "                                           0             1             2  \\\n",
       "id                              7.129301e+09  6.414100e+09  5.631500e+09   \n",
       "price                           2.219000e+05  5.380000e+05  1.800000e+05   \n",
       "bedrooms                        3.000000e+00  3.000000e+00  2.000000e+00   \n",
       "bathrooms                       1.000000e+00  2.250000e+00  1.000000e+00   \n",
       "sqft_living                     1.180000e+03  2.570000e+03  7.700000e+02   \n",
       "sqft_lot                        5.650000e+03  7.242000e+03  1.000000e+04   \n",
       "floors                          1.000000e+00  2.000000e+00  1.000000e+00   \n",
       "sqft_above                      1.180000e+03  2.170000e+03  7.700000e+02   \n",
       "sqft_basement                   0.000000e+00  4.000000e+02  0.000000e+00   \n",
       "yr_built                        1.955000e+03  1.951000e+03  1.933000e+03   \n",
       "yr_renovated                    0.000000e+00  1.991000e+03  0.000000e+00   \n",
       "lat                             4.751120e+01  4.772100e+01  4.773790e+01   \n",
       "long                           -1.222570e+02 -1.223190e+02 -1.222330e+02   \n",
       "sqft_living15                   1.340000e+03  1.690000e+03  2.720000e+03   \n",
       "sqft_lot15                      5.650000e+03  7.639000e+03  8.062000e+03   \n",
       "yr_sales                        2.014000e+03  2.014000e+03  2.015000e+03   \n",
       "age                             5.900000e+01  6.300000e+01  8.200000e+01   \n",
       "yr_renovated2                   1.955000e+03  1.991000e+03  1.933000e+03   \n",
       "age_after_renovation            5.900000e+01  2.300000e+01  8.200000e+01   \n",
       "zipcode_houses                  2.620000e+02  4.100000e+02  2.830000e+02   \n",
       "zipcode_with_1pct_rare_ordinal  8.000000e+00  2.400000e+01  2.200000e+01   \n",
       "basement_bool                   0.000000e+00  1.000000e+00  0.000000e+00   \n",
       "renovation_bool                 0.000000e+00  1.000000e+00  0.000000e+00   \n",
       "\n",
       "                                           3             4  \n",
       "id                              2.487201e+09  1.954401e+09  \n",
       "price                           6.040000e+05  5.100000e+05  \n",
       "bedrooms                        4.000000e+00  3.000000e+00  \n",
       "bathrooms                       3.000000e+00  2.000000e+00  \n",
       "sqft_living                     1.960000e+03  1.680000e+03  \n",
       "sqft_lot                        5.000000e+03  8.080000e+03  \n",
       "floors                          1.000000e+00  1.000000e+00  \n",
       "sqft_above                      1.050000e+03  1.680000e+03  \n",
       "sqft_basement                   9.100000e+02  0.000000e+00  \n",
       "yr_built                        1.965000e+03  1.987000e+03  \n",
       "yr_renovated                    0.000000e+00  0.000000e+00  \n",
       "lat                             4.752080e+01  4.761680e+01  \n",
       "long                           -1.223930e+02 -1.220450e+02  \n",
       "sqft_living15                   1.360000e+03  1.800000e+03  \n",
       "sqft_lot15                      5.000000e+03  7.503000e+03  \n",
       "yr_sales                        2.014000e+03  2.015000e+03  \n",
       "age                             4.900000e+01  2.800000e+01  \n",
       "yr_renovated2                   1.965000e+03  1.987000e+03  \n",
       "age_after_renovation            4.900000e+01  2.800000e+01  \n",
       "zipcode_houses                  2.630000e+02  4.410000e+02  \n",
       "zipcode_with_1pct_rare_ordinal  2.800000e+01  4.400000e+01  \n",
       "basement_bool                   1.000000e+00  0.000000e+00  \n",
       "renovation_bool                 0.000000e+00  0.000000e+00  "
      ]
     },
     "execution_count": 49,
     "metadata": {},
     "output_type": "execute_result"
    }
   ],
   "source": [
    "df.select_dtypes('number').head().T"
   ]
  },
  {
   "cell_type": "code",
   "execution_count": 50,
   "metadata": {
    "ExecuteTime": {
     "end_time": "2019-10-04T23:42:54.264669Z",
     "start_time": "2019-10-04T23:42:54.206753Z"
    }
   },
   "outputs": [
    {
     "data": {
      "text/html": [
       "<div>\n",
       "<style scoped>\n",
       "    .dataframe tbody tr th:only-of-type {\n",
       "        vertical-align: middle;\n",
       "    }\n",
       "\n",
       "    .dataframe tbody tr th {\n",
       "        vertical-align: top;\n",
       "    }\n",
       "\n",
       "    .dataframe thead th {\n",
       "        text-align: right;\n",
       "    }\n",
       "</style>\n",
       "<table border=\"1\" class=\"dataframe\">\n",
       "  <thead>\n",
       "    <tr style=\"text-align: right;\">\n",
       "      <th></th>\n",
       "      <th>id</th>\n",
       "      <th>date</th>\n",
       "      <th>price</th>\n",
       "      <th>bedrooms</th>\n",
       "      <th>bathrooms</th>\n",
       "      <th>sqft_living</th>\n",
       "      <th>sqft_lot</th>\n",
       "      <th>floors</th>\n",
       "      <th>waterfront</th>\n",
       "      <th>view</th>\n",
       "      <th>...</th>\n",
       "      <th>yr_sales</th>\n",
       "      <th>age</th>\n",
       "      <th>yr_renovated2</th>\n",
       "      <th>age_after_renovation</th>\n",
       "      <th>zipcode_top10</th>\n",
       "      <th>zipcode_houses</th>\n",
       "      <th>zipcode_with_1pct_rare</th>\n",
       "      <th>zipcode_with_1pct_rare_ordinal</th>\n",
       "      <th>basement_bool</th>\n",
       "      <th>renovation_bool</th>\n",
       "    </tr>\n",
       "  </thead>\n",
       "  <tbody>\n",
       "    <tr>\n",
       "      <th>0</th>\n",
       "      <td>7129300520</td>\n",
       "      <td>2014-10-13 00:00:00</td>\n",
       "      <td>221900</td>\n",
       "      <td>3</td>\n",
       "      <td>1</td>\n",
       "      <td>1180</td>\n",
       "      <td>5650</td>\n",
       "      <td>1</td>\n",
       "      <td>0</td>\n",
       "      <td>0</td>\n",
       "      <td>...</td>\n",
       "      <td>2014</td>\n",
       "      <td>59</td>\n",
       "      <td>1955</td>\n",
       "      <td>59</td>\n",
       "      <td>others</td>\n",
       "      <td>262</td>\n",
       "      <td>98178</td>\n",
       "      <td>8</td>\n",
       "      <td>0</td>\n",
       "      <td>0</td>\n",
       "    </tr>\n",
       "    <tr>\n",
       "      <th>1</th>\n",
       "      <td>int64</td>\n",
       "      <td>datetime64[ns]</td>\n",
       "      <td>float64</td>\n",
       "      <td>int64</td>\n",
       "      <td>float64</td>\n",
       "      <td>int64</td>\n",
       "      <td>int64</td>\n",
       "      <td>float64</td>\n",
       "      <td>object</td>\n",
       "      <td>object</td>\n",
       "      <td>...</td>\n",
       "      <td>int64</td>\n",
       "      <td>int64</td>\n",
       "      <td>int64</td>\n",
       "      <td>int64</td>\n",
       "      <td>object</td>\n",
       "      <td>int64</td>\n",
       "      <td>object</td>\n",
       "      <td>int64</td>\n",
       "      <td>int64</td>\n",
       "      <td>int64</td>\n",
       "    </tr>\n",
       "  </tbody>\n",
       "</table>\n",
       "<p>2 rows × 31 columns</p>\n",
       "</div>"
      ],
      "text/plain": [
       "           id                 date    price bedrooms bathrooms sqft_living  \\\n",
       "0  7129300520  2014-10-13 00:00:00   221900        3         1        1180   \n",
       "1       int64       datetime64[ns]  float64    int64   float64       int64   \n",
       "\n",
       "  sqft_lot   floors waterfront    view  ... yr_sales    age yr_renovated2  \\\n",
       "0     5650        1          0       0  ...     2014     59          1955   \n",
       "1    int64  float64     object  object  ...    int64  int64         int64   \n",
       "\n",
       "  age_after_renovation zipcode_top10 zipcode_houses zipcode_with_1pct_rare  \\\n",
       "0                   59        others            262                  98178   \n",
       "1                int64        object          int64                 object   \n",
       "\n",
       "  zipcode_with_1pct_rare_ordinal basement_bool renovation_bool  \n",
       "0                              8             0               0  \n",
       "1                          int64         int64           int64  \n",
       "\n",
       "[2 rows x 31 columns]"
      ]
     },
     "execution_count": 50,
     "metadata": {},
     "output_type": "execute_result"
    }
   ],
   "source": [
    "df.head(1).append(df.dtypes,ignore_index=True)"
   ]
  },
  {
   "cell_type": "code",
   "execution_count": 51,
   "metadata": {
    "ExecuteTime": {
     "end_time": "2019-10-04T23:42:54.292581Z",
     "start_time": "2019-10-04T23:42:54.266197Z"
    }
   },
   "outputs": [],
   "source": [
    "cols_bin = ['age','age_after_renovation']"
   ]
  },
  {
   "cell_type": "code",
   "execution_count": 52,
   "metadata": {
    "ExecuteTime": {
     "end_time": "2019-10-04T23:42:54.649409Z",
     "start_time": "2019-10-04T23:42:54.294899Z"
    }
   },
   "outputs": [
    {
     "data": {
      "text/plain": [
       "<matplotlib.axes._subplots.AxesSubplot at 0x7fc1753a4250>"
      ]
     },
     "execution_count": 52,
     "metadata": {},
     "output_type": "execute_result"
    },
    {
     "data": {
      "image/png": "[encoded data removed]",
      "text/plain": [
       "<Figure size 432x288 with 1 Axes>"
      ]
     },
     "metadata": {},
     "output_type": "display_data"
    }
   ],
   "source": [
    "df['age'].hist()"
   ]
  },
  {
   "cell_type": "code",
   "execution_count": 53,
   "metadata": {
    "ExecuteTime": {
     "end_time": "2019-10-04T23:42:54.688871Z",
     "start_time": "2019-10-04T23:42:54.651915Z"
    }
   },
   "outputs": [
    {
     "data": {
      "text/plain": [
       "count    21613.000000\n",
       "mean        43.317818\n",
       "std         29.375493\n",
       "min         -1.000000\n",
       "25%         18.000000\n",
       "50%         40.000000\n",
       "75%         63.000000\n",
       "max        115.000000\n",
       "Name: age, dtype: float64"
      ]
     },
     "execution_count": 53,
     "metadata": {},
     "output_type": "execute_result"
    }
   ],
   "source": [
    "df['age'].describe()"
   ]
  },
  {
   "cell_type": "code",
   "execution_count": 54,
   "metadata": {
    "ExecuteTime": {
     "end_time": "2019-10-04T23:42:54.748184Z",
     "start_time": "2019-10-04T23:42:54.691066Z"
    }
   },
   "outputs": [],
   "source": [
    "df['age_cat'] = pd.cut(df['age'], 10, labels=range(10)).astype(str)\n",
    "df['age_after_renovation_cat'] = pd.cut(df['age_after_renovation'], 10, labels=range(10))"
   ]
  },
  {
   "cell_type": "markdown",
   "metadata": {},
   "source": [
    "## Create dummy variables from object and categories"
   ]
  },
  {
   "cell_type": "code",
   "execution_count": 55,
   "metadata": {
    "ExecuteTime": {
     "end_time": "2019-10-04T23:42:54.794629Z",
     "start_time": "2019-10-04T23:42:54.750451Z"
    }
   },
   "outputs": [
    {
     "data": {
      "text/plain": [
       "Index(['waterfront', 'view', 'condition', 'grade', 'zipcode', 'zipcode_top10',\n",
       "       'zipcode_with_1pct_rare', 'age_cat', 'age_after_renovation_cat'],\n",
       "      dtype='object')"
      ]
     },
     "execution_count": 55,
     "metadata": {},
     "output_type": "execute_result"
    }
   ],
   "source": [
    "cols_obj_cat = df.select_dtypes(include=[np.object, 'category']).columns\n",
    "cols_obj_cat"
   ]
  },
  {
   "cell_type": "code",
   "execution_count": 56,
   "metadata": {
    "ExecuteTime": {
     "end_time": "2019-10-04T23:42:54.849894Z",
     "start_time": "2019-10-04T23:42:54.798452Z"
    }
   },
   "outputs": [
    {
     "data": {
      "text/html": [
       "<div>\n",
       "<style scoped>\n",
       "    .dataframe tbody tr th:only-of-type {\n",
       "        vertical-align: middle;\n",
       "    }\n",
       "\n",
       "    .dataframe tbody tr th {\n",
       "        vertical-align: top;\n",
       "    }\n",
       "\n",
       "    .dataframe thead th {\n",
       "        text-align: right;\n",
       "    }\n",
       "</style>\n",
       "<table border=\"1\" class=\"dataframe\">\n",
       "  <thead>\n",
       "    <tr style=\"text-align: right;\">\n",
       "      <th></th>\n",
       "      <th>waterfront</th>\n",
       "      <th>view</th>\n",
       "      <th>condition</th>\n",
       "      <th>grade</th>\n",
       "      <th>zipcode</th>\n",
       "      <th>zipcode_top10</th>\n",
       "      <th>zipcode_with_1pct_rare</th>\n",
       "      <th>age_cat</th>\n",
       "      <th>age_after_renovation_cat</th>\n",
       "    </tr>\n",
       "  </thead>\n",
       "  <tbody>\n",
       "    <tr>\n",
       "      <th>0</th>\n",
       "      <td>0</td>\n",
       "      <td>0</td>\n",
       "      <td>3</td>\n",
       "      <td>7</td>\n",
       "      <td>98178</td>\n",
       "      <td>others</td>\n",
       "      <td>98178</td>\n",
       "      <td>5</td>\n",
       "      <td>5</td>\n",
       "    </tr>\n",
       "    <tr>\n",
       "      <th>1</th>\n",
       "      <td>0</td>\n",
       "      <td>0</td>\n",
       "      <td>3</td>\n",
       "      <td>7</td>\n",
       "      <td>98125</td>\n",
       "      <td>others</td>\n",
       "      <td>98125</td>\n",
       "      <td>5</td>\n",
       "      <td>2</td>\n",
       "    </tr>\n",
       "    <tr>\n",
       "      <th>2</th>\n",
       "      <td>0</td>\n",
       "      <td>0</td>\n",
       "      <td>3</td>\n",
       "      <td>6</td>\n",
       "      <td>98028</td>\n",
       "      <td>others</td>\n",
       "      <td>98028</td>\n",
       "      <td>7</td>\n",
       "      <td>7</td>\n",
       "    </tr>\n",
       "    <tr>\n",
       "      <th>3</th>\n",
       "      <td>0</td>\n",
       "      <td>0</td>\n",
       "      <td>5</td>\n",
       "      <td>7</td>\n",
       "      <td>98136</td>\n",
       "      <td>others</td>\n",
       "      <td>98136</td>\n",
       "      <td>4</td>\n",
       "      <td>4</td>\n",
       "    </tr>\n",
       "    <tr>\n",
       "      <th>4</th>\n",
       "      <td>0</td>\n",
       "      <td>0</td>\n",
       "      <td>3</td>\n",
       "      <td>8</td>\n",
       "      <td>98074</td>\n",
       "      <td>others</td>\n",
       "      <td>98074</td>\n",
       "      <td>2</td>\n",
       "      <td>2</td>\n",
       "    </tr>\n",
       "  </tbody>\n",
       "</table>\n",
       "</div>"
      ],
      "text/plain": [
       "  waterfront view condition grade zipcode zipcode_top10  \\\n",
       "0          0    0         3     7   98178        others   \n",
       "1          0    0         3     7   98125        others   \n",
       "2          0    0         3     6   98028        others   \n",
       "3          0    0         5     7   98136        others   \n",
       "4          0    0         3     8   98074        others   \n",
       "\n",
       "  zipcode_with_1pct_rare age_cat age_after_renovation_cat  \n",
       "0                  98178       5                        5  \n",
       "1                  98125       5                        2  \n",
       "2                  98028       7                        7  \n",
       "3                  98136       4                        4  \n",
       "4                  98074       2                        2  "
      ]
     },
     "execution_count": 56,
     "metadata": {},
     "output_type": "execute_result"
    }
   ],
   "source": [
    "df.select_dtypes(include=['object','category']).head()"
   ]
  },
  {
   "cell_type": "code",
   "execution_count": 57,
   "metadata": {
    "ExecuteTime": {
     "end_time": "2019-10-04T23:42:54.898974Z",
     "start_time": "2019-10-04T23:42:54.853608Z"
    }
   },
   "outputs": [],
   "source": [
    "cols_dummy = ['waterfront', 'view', 'condition', 'grade',  'zipcode_top10',\n",
    "       'age_cat', 'age_after_renovation_cat']"
   ]
  },
  {
   "cell_type": "code",
   "execution_count": 58,
   "metadata": {
    "ExecuteTime": {
     "end_time": "2019-10-04T23:42:55.001171Z",
     "start_time": "2019-10-04T23:42:54.900877Z"
    }
   },
   "outputs": [
    {
     "data": {
      "text/html": [
       "<div>\n",
       "<style scoped>\n",
       "    .dataframe tbody tr th:only-of-type {\n",
       "        vertical-align: middle;\n",
       "    }\n",
       "\n",
       "    .dataframe tbody tr th {\n",
       "        vertical-align: top;\n",
       "    }\n",
       "\n",
       "    .dataframe thead th {\n",
       "        text-align: right;\n",
       "    }\n",
       "</style>\n",
       "<table border=\"1\" class=\"dataframe\">\n",
       "  <thead>\n",
       "    <tr style=\"text-align: right;\">\n",
       "      <th></th>\n",
       "      <th>waterfront_0</th>\n",
       "      <th>waterfront_1</th>\n",
       "      <th>view_0</th>\n",
       "      <th>view_1</th>\n",
       "      <th>view_2</th>\n",
       "      <th>view_3</th>\n",
       "      <th>view_4</th>\n",
       "      <th>condition_1</th>\n",
       "      <th>condition_2</th>\n",
       "      <th>condition_3</th>\n",
       "      <th>...</th>\n",
       "      <th>age_after_renovation_cat_0</th>\n",
       "      <th>age_after_renovation_cat_1</th>\n",
       "      <th>age_after_renovation_cat_2</th>\n",
       "      <th>age_after_renovation_cat_3</th>\n",
       "      <th>age_after_renovation_cat_4</th>\n",
       "      <th>age_after_renovation_cat_5</th>\n",
       "      <th>age_after_renovation_cat_6</th>\n",
       "      <th>age_after_renovation_cat_7</th>\n",
       "      <th>age_after_renovation_cat_8</th>\n",
       "      <th>age_after_renovation_cat_9</th>\n",
       "    </tr>\n",
       "  </thead>\n",
       "  <tbody>\n",
       "    <tr>\n",
       "      <th>0</th>\n",
       "      <td>1</td>\n",
       "      <td>0</td>\n",
       "      <td>1</td>\n",
       "      <td>0</td>\n",
       "      <td>0</td>\n",
       "      <td>0</td>\n",
       "      <td>0</td>\n",
       "      <td>0</td>\n",
       "      <td>0</td>\n",
       "      <td>1</td>\n",
       "      <td>...</td>\n",
       "      <td>0</td>\n",
       "      <td>0</td>\n",
       "      <td>0</td>\n",
       "      <td>0</td>\n",
       "      <td>0</td>\n",
       "      <td>1</td>\n",
       "      <td>0</td>\n",
       "      <td>0</td>\n",
       "      <td>0</td>\n",
       "      <td>0</td>\n",
       "    </tr>\n",
       "    <tr>\n",
       "      <th>1</th>\n",
       "      <td>1</td>\n",
       "      <td>0</td>\n",
       "      <td>1</td>\n",
       "      <td>0</td>\n",
       "      <td>0</td>\n",
       "      <td>0</td>\n",
       "      <td>0</td>\n",
       "      <td>0</td>\n",
       "      <td>0</td>\n",
       "      <td>1</td>\n",
       "      <td>...</td>\n",
       "      <td>0</td>\n",
       "      <td>0</td>\n",
       "      <td>1</td>\n",
       "      <td>0</td>\n",
       "      <td>0</td>\n",
       "      <td>0</td>\n",
       "      <td>0</td>\n",
       "      <td>0</td>\n",
       "      <td>0</td>\n",
       "      <td>0</td>\n",
       "    </tr>\n",
       "  </tbody>\n",
       "</table>\n",
       "<p>2 rows × 54 columns</p>\n",
       "</div>"
      ],
      "text/plain": [
       "   waterfront_0  waterfront_1  view_0  view_1  view_2  view_3  view_4  \\\n",
       "0             1             0       1       0       0       0       0   \n",
       "1             1             0       1       0       0       0       0   \n",
       "\n",
       "   condition_1  condition_2  condition_3  ...  age_after_renovation_cat_0  \\\n",
       "0            0            0            1  ...                           0   \n",
       "1            0            0            1  ...                           0   \n",
       "\n",
       "   age_after_renovation_cat_1  age_after_renovation_cat_2  \\\n",
       "0                           0                           0   \n",
       "1                           0                           1   \n",
       "\n",
       "   age_after_renovation_cat_3  age_after_renovation_cat_4  \\\n",
       "0                           0                           0   \n",
       "1                           0                           0   \n",
       "\n",
       "   age_after_renovation_cat_5  age_after_renovation_cat_6  \\\n",
       "0                           1                           0   \n",
       "1                           0                           0   \n",
       "\n",
       "   age_after_renovation_cat_7  age_after_renovation_cat_8  \\\n",
       "0                           0                           0   \n",
       "1                           0                           0   \n",
       "\n",
       "   age_after_renovation_cat_9  \n",
       "0                           0  \n",
       "1                           0  \n",
       "\n",
       "[2 rows x 54 columns]"
      ]
     },
     "execution_count": 58,
     "metadata": {},
     "output_type": "execute_result"
    }
   ],
   "source": [
    "df_dummy = pd.get_dummies(df[cols_dummy],drop_first=False)\n",
    "\n",
    "df_dummy.head(2)"
   ]
  },
  {
   "cell_type": "code",
   "execution_count": 59,
   "metadata": {
    "ExecuteTime": {
     "end_time": "2019-10-04T23:42:55.085355Z",
     "start_time": "2019-10-04T23:42:55.003569Z"
    }
   },
   "outputs": [
    {
     "name": "stdout",
     "output_type": "stream",
     "text": [
      "(21613, 33)\n"
     ]
    },
    {
     "data": {
      "text/html": [
       "<div>\n",
       "<style scoped>\n",
       "    .dataframe tbody tr th:only-of-type {\n",
       "        vertical-align: middle;\n",
       "    }\n",
       "\n",
       "    .dataframe tbody tr th {\n",
       "        vertical-align: top;\n",
       "    }\n",
       "\n",
       "    .dataframe thead th {\n",
       "        text-align: right;\n",
       "    }\n",
       "</style>\n",
       "<table border=\"1\" class=\"dataframe\">\n",
       "  <thead>\n",
       "    <tr style=\"text-align: right;\">\n",
       "      <th></th>\n",
       "      <th>id</th>\n",
       "      <th>date</th>\n",
       "      <th>price</th>\n",
       "      <th>bedrooms</th>\n",
       "      <th>bathrooms</th>\n",
       "      <th>sqft_living</th>\n",
       "      <th>sqft_lot</th>\n",
       "      <th>floors</th>\n",
       "      <th>waterfront</th>\n",
       "      <th>view</th>\n",
       "      <th>...</th>\n",
       "      <th>yr_renovated2</th>\n",
       "      <th>age_after_renovation</th>\n",
       "      <th>zipcode_top10</th>\n",
       "      <th>zipcode_houses</th>\n",
       "      <th>zipcode_with_1pct_rare</th>\n",
       "      <th>zipcode_with_1pct_rare_ordinal</th>\n",
       "      <th>basement_bool</th>\n",
       "      <th>renovation_bool</th>\n",
       "      <th>age_cat</th>\n",
       "      <th>age_after_renovation_cat</th>\n",
       "    </tr>\n",
       "  </thead>\n",
       "  <tbody>\n",
       "    <tr>\n",
       "      <th>0</th>\n",
       "      <td>7129300520</td>\n",
       "      <td>2014-10-13</td>\n",
       "      <td>221900.0</td>\n",
       "      <td>3</td>\n",
       "      <td>1.00</td>\n",
       "      <td>1180</td>\n",
       "      <td>5650</td>\n",
       "      <td>1.0</td>\n",
       "      <td>0</td>\n",
       "      <td>0</td>\n",
       "      <td>...</td>\n",
       "      <td>1955</td>\n",
       "      <td>59</td>\n",
       "      <td>others</td>\n",
       "      <td>262</td>\n",
       "      <td>98178</td>\n",
       "      <td>8</td>\n",
       "      <td>0</td>\n",
       "      <td>0</td>\n",
       "      <td>5</td>\n",
       "      <td>5</td>\n",
       "    </tr>\n",
       "    <tr>\n",
       "      <th>1</th>\n",
       "      <td>6414100192</td>\n",
       "      <td>2014-12-09</td>\n",
       "      <td>538000.0</td>\n",
       "      <td>3</td>\n",
       "      <td>2.25</td>\n",
       "      <td>2570</td>\n",
       "      <td>7242</td>\n",
       "      <td>2.0</td>\n",
       "      <td>0</td>\n",
       "      <td>0</td>\n",
       "      <td>...</td>\n",
       "      <td>1991</td>\n",
       "      <td>23</td>\n",
       "      <td>others</td>\n",
       "      <td>410</td>\n",
       "      <td>98125</td>\n",
       "      <td>24</td>\n",
       "      <td>1</td>\n",
       "      <td>1</td>\n",
       "      <td>5</td>\n",
       "      <td>2</td>\n",
       "    </tr>\n",
       "  </tbody>\n",
       "</table>\n",
       "<p>2 rows × 33 columns</p>\n",
       "</div>"
      ],
      "text/plain": [
       "           id       date     price  bedrooms  bathrooms  sqft_living  \\\n",
       "0  7129300520 2014-10-13  221900.0         3       1.00         1180   \n",
       "1  6414100192 2014-12-09  538000.0         3       2.25         2570   \n",
       "\n",
       "   sqft_lot  floors waterfront view  ... yr_renovated2 age_after_renovation  \\\n",
       "0      5650     1.0          0    0  ...          1955                   59   \n",
       "1      7242     2.0          0    0  ...          1991                   23   \n",
       "\n",
       "   zipcode_top10  zipcode_houses  zipcode_with_1pct_rare  \\\n",
       "0         others             262                   98178   \n",
       "1         others             410                   98125   \n",
       "\n",
       "   zipcode_with_1pct_rare_ordinal basement_bool  renovation_bool  age_cat  \\\n",
       "0                               8             0                0        5   \n",
       "1                              24             1                1        5   \n",
       "\n",
       "   age_after_renovation_cat  \n",
       "0                         5  \n",
       "1                         2  \n",
       "\n",
       "[2 rows x 33 columns]"
      ]
     },
     "execution_count": 59,
     "metadata": {},
     "output_type": "execute_result"
    }
   ],
   "source": [
    "print(df.shape)\n",
    "df.head(2)"
   ]
  },
  {
   "cell_type": "code",
   "execution_count": 60,
   "metadata": {
    "ExecuteTime": {
     "end_time": "2019-10-04T23:42:55.169386Z",
     "start_time": "2019-10-04T23:42:55.093685Z"
    }
   },
   "outputs": [
    {
     "name": "stdout",
     "output_type": "stream",
     "text": [
      "(21613, 33)\n"
     ]
    },
    {
     "data": {
      "text/html": [
       "<div>\n",
       "<style scoped>\n",
       "    .dataframe tbody tr th:only-of-type {\n",
       "        vertical-align: middle;\n",
       "    }\n",
       "\n",
       "    .dataframe tbody tr th {\n",
       "        vertical-align: top;\n",
       "    }\n",
       "\n",
       "    .dataframe thead th {\n",
       "        text-align: right;\n",
       "    }\n",
       "</style>\n",
       "<table border=\"1\" class=\"dataframe\">\n",
       "  <thead>\n",
       "    <tr style=\"text-align: right;\">\n",
       "      <th></th>\n",
       "      <th>id</th>\n",
       "      <th>date</th>\n",
       "      <th>price</th>\n",
       "      <th>bedrooms</th>\n",
       "      <th>bathrooms</th>\n",
       "      <th>sqft_living</th>\n",
       "      <th>sqft_lot</th>\n",
       "      <th>floors</th>\n",
       "      <th>waterfront</th>\n",
       "      <th>view</th>\n",
       "      <th>...</th>\n",
       "      <th>yr_renovated2</th>\n",
       "      <th>age_after_renovation</th>\n",
       "      <th>zipcode_top10</th>\n",
       "      <th>zipcode_houses</th>\n",
       "      <th>zipcode_with_1pct_rare</th>\n",
       "      <th>zipcode_with_1pct_rare_ordinal</th>\n",
       "      <th>basement_bool</th>\n",
       "      <th>renovation_bool</th>\n",
       "      <th>age_cat</th>\n",
       "      <th>age_after_renovation_cat</th>\n",
       "    </tr>\n",
       "  </thead>\n",
       "  <tbody>\n",
       "    <tr>\n",
       "      <th>0</th>\n",
       "      <td>7129300520</td>\n",
       "      <td>2014-10-13</td>\n",
       "      <td>221900.0</td>\n",
       "      <td>3</td>\n",
       "      <td>1.00</td>\n",
       "      <td>1180</td>\n",
       "      <td>5650</td>\n",
       "      <td>1.0</td>\n",
       "      <td>0</td>\n",
       "      <td>0</td>\n",
       "      <td>...</td>\n",
       "      <td>1955</td>\n",
       "      <td>59</td>\n",
       "      <td>others</td>\n",
       "      <td>262</td>\n",
       "      <td>98178</td>\n",
       "      <td>8</td>\n",
       "      <td>0</td>\n",
       "      <td>0</td>\n",
       "      <td>5</td>\n",
       "      <td>5</td>\n",
       "    </tr>\n",
       "    <tr>\n",
       "      <th>1</th>\n",
       "      <td>6414100192</td>\n",
       "      <td>2014-12-09</td>\n",
       "      <td>538000.0</td>\n",
       "      <td>3</td>\n",
       "      <td>2.25</td>\n",
       "      <td>2570</td>\n",
       "      <td>7242</td>\n",
       "      <td>2.0</td>\n",
       "      <td>0</td>\n",
       "      <td>0</td>\n",
       "      <td>...</td>\n",
       "      <td>1991</td>\n",
       "      <td>23</td>\n",
       "      <td>others</td>\n",
       "      <td>410</td>\n",
       "      <td>98125</td>\n",
       "      <td>24</td>\n",
       "      <td>1</td>\n",
       "      <td>1</td>\n",
       "      <td>5</td>\n",
       "      <td>2</td>\n",
       "    </tr>\n",
       "  </tbody>\n",
       "</table>\n",
       "<p>2 rows × 33 columns</p>\n",
       "</div>"
      ],
      "text/plain": [
       "           id       date     price  bedrooms  bathrooms  sqft_living  \\\n",
       "0  7129300520 2014-10-13  221900.0         3       1.00         1180   \n",
       "1  6414100192 2014-12-09  538000.0         3       2.25         2570   \n",
       "\n",
       "   sqft_lot  floors waterfront view  ... yr_renovated2 age_after_renovation  \\\n",
       "0      5650     1.0          0    0  ...          1955                   59   \n",
       "1      7242     2.0          0    0  ...          1991                   23   \n",
       "\n",
       "   zipcode_top10  zipcode_houses  zipcode_with_1pct_rare  \\\n",
       "0         others             262                   98178   \n",
       "1         others             410                   98125   \n",
       "\n",
       "   zipcode_with_1pct_rare_ordinal basement_bool  renovation_bool  age_cat  \\\n",
       "0                               8             0                0        5   \n",
       "1                              24             1                1        5   \n",
       "\n",
       "   age_after_renovation_cat  \n",
       "0                         5  \n",
       "1                         2  \n",
       "\n",
       "[2 rows x 33 columns]"
      ]
     },
     "execution_count": 60,
     "metadata": {},
     "output_type": "execute_result"
    }
   ],
   "source": [
    "df_encoded = pd.concat([df,df_dummy], axis=1)\n",
    "print(df.shape)\n",
    "df.head(2)"
   ]
  },
  {
   "cell_type": "markdown",
   "metadata": {},
   "source": [
    "# Log transformation of large numerical values\n",
    "\n",
    "Log transformations make the features more Gaussian-like and linear models may give \n",
    "better performance.\n",
    "\n",
    "> bedrooms, bathrooms, floors, waterfront, view, condition, grade are categorical columns\n",
    "  but we can also use them as numerical columns to see how to model performs.\n",
    " \n",
    "> lat and long are geo coordinates, they are also categorical and sometimes treated\n",
    "  as numerical data.\n",
    "  \n",
    "> basement = living - above is redundant variable, may be used or not. This is just a \n",
    "  choice of feature engineering.\n",
    "  \n",
    "> year columns can be converted to age columns and ages can be binned, however, they \n",
    "  also can be treated as number and used in the model.\n",
    "  \n",
    "> features with large values can be log1p transformed."
   ]
  },
  {
   "cell_type": "code",
   "execution_count": 62,
   "metadata": {
    "ExecuteTime": {
     "end_time": "2019-10-04T23:42:55.291381Z",
     "start_time": "2019-10-04T23:42:55.234664Z"
    }
   },
   "outputs": [
    {
     "data": {
      "text/html": [
       "<div>\n",
       "<style scoped>\n",
       "    .dataframe tbody tr th:only-of-type {\n",
       "        vertical-align: middle;\n",
       "    }\n",
       "\n",
       "    .dataframe tbody tr th {\n",
       "        vertical-align: top;\n",
       "    }\n",
       "\n",
       "    .dataframe thead th {\n",
       "        text-align: right;\n",
       "    }\n",
       "</style>\n",
       "<table border=\"1\" class=\"dataframe\">\n",
       "  <thead>\n",
       "    <tr style=\"text-align: right;\">\n",
       "      <th></th>\n",
       "      <th>price</th>\n",
       "      <th>sqft_living</th>\n",
       "      <th>sqft_lot</th>\n",
       "      <th>sqft_above</th>\n",
       "      <th>sqft_basement</th>\n",
       "      <th>sqft_living15</th>\n",
       "      <th>sqft_lot15</th>\n",
       "      <th>log1p_price</th>\n",
       "      <th>log1p_sqft_living</th>\n",
       "      <th>log1p_sqft_lot</th>\n",
       "      <th>log1p_sqft_above</th>\n",
       "      <th>log1p_sqft_basement</th>\n",
       "      <th>log1p_sqft_living15</th>\n",
       "      <th>log1p_sqft_lot15</th>\n",
       "    </tr>\n",
       "  </thead>\n",
       "  <tbody>\n",
       "    <tr>\n",
       "      <th>0</th>\n",
       "      <td>221900.0</td>\n",
       "      <td>1180</td>\n",
       "      <td>5650</td>\n",
       "      <td>1180</td>\n",
       "      <td>0</td>\n",
       "      <td>1340</td>\n",
       "      <td>5650</td>\n",
       "      <td>12.309987</td>\n",
       "      <td>7.074117</td>\n",
       "      <td>8.639588</td>\n",
       "      <td>7.074117</td>\n",
       "      <td>0.000000</td>\n",
       "      <td>7.201171</td>\n",
       "      <td>8.639588</td>\n",
       "    </tr>\n",
       "    <tr>\n",
       "      <th>1</th>\n",
       "      <td>538000.0</td>\n",
       "      <td>2570</td>\n",
       "      <td>7242</td>\n",
       "      <td>2170</td>\n",
       "      <td>400</td>\n",
       "      <td>1690</td>\n",
       "      <td>7639</td>\n",
       "      <td>13.195616</td>\n",
       "      <td>7.852050</td>\n",
       "      <td>8.887791</td>\n",
       "      <td>7.682943</td>\n",
       "      <td>5.993961</td>\n",
       "      <td>7.433075</td>\n",
       "      <td>8.941153</td>\n",
       "    </tr>\n",
       "    <tr>\n",
       "      <th>2</th>\n",
       "      <td>180000.0</td>\n",
       "      <td>770</td>\n",
       "      <td>10000</td>\n",
       "      <td>770</td>\n",
       "      <td>0</td>\n",
       "      <td>2720</td>\n",
       "      <td>8062</td>\n",
       "      <td>12.100718</td>\n",
       "      <td>6.647688</td>\n",
       "      <td>9.210440</td>\n",
       "      <td>6.647688</td>\n",
       "      <td>0.000000</td>\n",
       "      <td>7.908755</td>\n",
       "      <td>8.995041</td>\n",
       "    </tr>\n",
       "    <tr>\n",
       "      <th>3</th>\n",
       "      <td>604000.0</td>\n",
       "      <td>1960</td>\n",
       "      <td>5000</td>\n",
       "      <td>1050</td>\n",
       "      <td>910</td>\n",
       "      <td>1360</td>\n",
       "      <td>5000</td>\n",
       "      <td>13.311331</td>\n",
       "      <td>7.581210</td>\n",
       "      <td>8.517393</td>\n",
       "      <td>6.957497</td>\n",
       "      <td>6.814543</td>\n",
       "      <td>7.215975</td>\n",
       "      <td>8.517393</td>\n",
       "    </tr>\n",
       "    <tr>\n",
       "      <th>4</th>\n",
       "      <td>510000.0</td>\n",
       "      <td>1680</td>\n",
       "      <td>8080</td>\n",
       "      <td>1680</td>\n",
       "      <td>0</td>\n",
       "      <td>1800</td>\n",
       "      <td>7503</td>\n",
       "      <td>13.142168</td>\n",
       "      <td>7.427144</td>\n",
       "      <td>8.997271</td>\n",
       "      <td>7.427144</td>\n",
       "      <td>0.000000</td>\n",
       "      <td>7.496097</td>\n",
       "      <td>8.923191</td>\n",
       "    </tr>\n",
       "  </tbody>\n",
       "</table>\n",
       "</div>"
      ],
      "text/plain": [
       "      price  sqft_living  sqft_lot  sqft_above  sqft_basement  sqft_living15  \\\n",
       "0  221900.0         1180      5650        1180              0           1340   \n",
       "1  538000.0         2570      7242        2170            400           1690   \n",
       "2  180000.0          770     10000         770              0           2720   \n",
       "3  604000.0         1960      5000        1050            910           1360   \n",
       "4  510000.0         1680      8080        1680              0           1800   \n",
       "\n",
       "   sqft_lot15  log1p_price  log1p_sqft_living  log1p_sqft_lot  \\\n",
       "0        5650    12.309987           7.074117        8.639588   \n",
       "1        7639    13.195616           7.852050        8.887791   \n",
       "2        8062    12.100718           6.647688        9.210440   \n",
       "3        5000    13.311331           7.581210        8.517393   \n",
       "4        7503    13.142168           7.427144        8.997271   \n",
       "\n",
       "   log1p_sqft_above  log1p_sqft_basement  log1p_sqft_living15  \\\n",
       "0          7.074117             0.000000             7.201171   \n",
       "1          7.682943             5.993961             7.433075   \n",
       "2          6.647688             0.000000             7.908755   \n",
       "3          6.957497             6.814543             7.215975   \n",
       "4          7.427144             0.000000             7.496097   \n",
       "\n",
       "   log1p_sqft_lot15  \n",
       "0          8.639588  \n",
       "1          8.941153  \n",
       "2          8.995041  \n",
       "3          8.517393  \n",
       "4          8.923191  "
      ]
     },
     "execution_count": 62,
     "metadata": {},
     "output_type": "execute_result"
    }
   ],
   "source": [
    "cols_log = ['price', 'sqft_living', 'sqft_lot', 'sqft_above',\n",
    "            'sqft_basement', 'sqft_living15', 'sqft_lot15']\n",
    "\n",
    "for col in cols_log:\n",
    "    df['log1p_' + col] = np.log1p(df[col])\n",
    "    df_encoded['log1p_' + col] = np.log1p(df[col])\n",
    "\n",
    "df.filter(regex='|'.join(cols_log)).head()"
   ]
  },
  {
   "cell_type": "markdown",
   "metadata": {},
   "source": [
    "# Drop unwanted columns"
   ]
  },
  {
   "cell_type": "code",
   "execution_count": 63,
   "metadata": {
    "ExecuteTime": {
     "end_time": "2019-10-04T23:42:55.326537Z",
     "start_time": "2019-10-04T23:42:55.294306Z"
    }
   },
   "outputs": [
    {
     "data": {
      "text/plain": [
       "Index(['id', 'date', 'price', 'bedrooms', 'bathrooms', 'sqft_living',\n",
       "       'sqft_lot', 'floors', 'waterfront', 'view', 'condition', 'grade',\n",
       "       'sqft_above', 'sqft_basement', 'yr_built', 'yr_renovated', 'zipcode',\n",
       "       'lat', 'long', 'sqft_living15', 'sqft_lot15', 'yr_sales', 'age',\n",
       "       'yr_renovated2', 'age_after_renovation', 'zipcode_top10',\n",
       "       'zipcode_houses', 'zipcode_with_1pct_rare',\n",
       "       'zipcode_with_1pct_rare_ordinal', 'basement_bool', 'renovation_bool',\n",
       "       'age_cat', 'age_after_renovation_cat', 'log1p_price',\n",
       "       'log1p_sqft_living', 'log1p_sqft_lot', 'log1p_sqft_above',\n",
       "       'log1p_sqft_basement', 'log1p_sqft_living15', 'log1p_sqft_lot15'],\n",
       "      dtype='object')"
      ]
     },
     "execution_count": 63,
     "metadata": {},
     "output_type": "execute_result"
    }
   ],
   "source": [
    "df.columns"
   ]
  },
  {
   "cell_type": "code",
   "execution_count": 64,
   "metadata": {
    "ExecuteTime": {
     "end_time": "2019-10-04T23:42:55.362964Z",
     "start_time": "2019-10-04T23:42:55.330342Z"
    }
   },
   "outputs": [],
   "source": [
    "df.drop('id',inplace=True,axis=1)"
   ]
  },
  {
   "cell_type": "markdown",
   "metadata": {},
   "source": [
    "# Save clean data"
   ]
  },
  {
   "cell_type": "code",
   "execution_count": 65,
   "metadata": {
    "ExecuteTime": {
     "end_time": "2019-10-04T23:42:55.418584Z",
     "start_time": "2019-10-04T23:42:55.367019Z"
    }
   },
   "outputs": [
    {
     "data": {
      "text/plain": [
       "0"
      ]
     },
     "execution_count": 65,
     "metadata": {},
     "output_type": "execute_result"
    }
   ],
   "source": [
    "df.isnull().sum().sum()"
   ]
  },
  {
   "cell_type": "code",
   "execution_count": 67,
   "metadata": {
    "ExecuteTime": {
     "end_time": "2019-10-04T23:42:55.647834Z",
     "start_time": "2019-10-04T23:42:55.487702Z"
    }
   },
   "outputs": [
    {
     "data": {
      "text/plain": [
       "(21613, 54)"
      ]
     },
     "execution_count": 67,
     "metadata": {},
     "output_type": "execute_result"
    }
   ],
   "source": [
    "df_dummy.shape"
   ]
  },
  {
   "cell_type": "code",
   "execution_count": 68,
   "metadata": {
    "ExecuteTime": {
     "end_time": "2019-10-04T23:42:56.577959Z",
     "start_time": "2019-10-04T23:42:55.652178Z"
    }
   },
   "outputs": [],
   "source": [
    "df.to_csv('../data/processed/data_cleaned.csv',index=False,header=True)"
   ]
  },
  {
   "cell_type": "code",
   "execution_count": 69,
   "metadata": {
    "ExecuteTime": {
     "end_time": "2019-10-04T23:42:58.218047Z",
     "start_time": "2019-10-04T23:42:56.580252Z"
    }
   },
   "outputs": [],
   "source": [
    "df_encoded.to_csv('../data/processed/data_cleaned_encoded.csv',index=False,header=True)"
   ]
  },
  {
   "cell_type": "markdown",
   "metadata": {},
   "source": [
    "# For Modelling\n",
    "\n",
    "- We can scale the data.\n",
    "- We can remove outliers (or data with very few classes)"
   ]
  },
  {
   "cell_type": "code",
   "execution_count": 70,
   "metadata": {
    "ExecuteTime": {
     "end_time": "2019-10-04T23:42:58.253598Z",
     "start_time": "2019-10-04T23:42:58.219793Z"
    }
   },
   "outputs": [
    {
     "data": {
      "text/plain": [
       "Index(['id', 'date', 'price', 'bedrooms', 'bathrooms', 'sqft_living',\n",
       "       'sqft_lot', 'floors', 'waterfront', 'view', 'condition', 'grade',\n",
       "       'sqft_above', 'sqft_basement', 'yr_built', 'yr_renovated', 'zipcode',\n",
       "       'lat', 'long', 'sqft_living15', 'sqft_lot15', 'yr_sales', 'age',\n",
       "       'yr_renovated2', 'age_after_renovation', 'zipcode_top10',\n",
       "       'zipcode_houses', 'zipcode_with_1pct_rare',\n",
       "       'zipcode_with_1pct_rare_ordinal', 'basement_bool', 'renovation_bool',\n",
       "       'age_cat', 'age_after_renovation_cat', 'waterfront_0', 'waterfront_1',\n",
       "       'view_0', 'view_1', 'view_2', 'view_3', 'view_4', 'condition_1',\n",
       "       'condition_2', 'condition_3', 'condition_4', 'condition_5', 'grade_1',\n",
       "       'grade_10', 'grade_11', 'grade_12', 'grade_13', 'grade_3', 'grade_4',\n",
       "       'grade_5', 'grade_6', 'grade_7', 'grade_8', 'grade_9',\n",
       "       'zipcode_top10_98004', 'zipcode_top10_98006', 'zipcode_top10_98033',\n",
       "       'zipcode_top10_98039', 'zipcode_top10_98040', 'zipcode_top10_98102',\n",
       "       'zipcode_top10_98105', 'zipcode_top10_98155', 'zipcode_top10_98177',\n",
       "       'zipcode_top10_others', 'age_cat_0', 'age_cat_1', 'age_cat_2',\n",
       "       'age_cat_3', 'age_cat_4', 'age_cat_5', 'age_cat_6', 'age_cat_7',\n",
       "       'age_cat_8', 'age_cat_9', 'age_after_renovation_cat_0',\n",
       "       'age_after_renovation_cat_1', 'age_after_renovation_cat_2',\n",
       "       'age_after_renovation_cat_3', 'age_after_renovation_cat_4',\n",
       "       'age_after_renovation_cat_5', 'age_after_renovation_cat_6',\n",
       "       'age_after_renovation_cat_7', 'age_after_renovation_cat_8',\n",
       "       'age_after_renovation_cat_9', 'log1p_price', 'log1p_sqft_living',\n",
       "       'log1p_sqft_lot', 'log1p_sqft_above', 'log1p_sqft_basement',\n",
       "       'log1p_sqft_living15', 'log1p_sqft_lot15'],\n",
       "      dtype='object')"
      ]
     },
     "execution_count": 70,
     "metadata": {},
     "output_type": "execute_result"
    }
   ],
   "source": [
    "df_encoded.columns"
   ]
  },
  {
   "cell_type": "markdown",
   "metadata": {},
   "source": [
    "# Time Taken"
   ]
  },
  {
   "cell_type": "code",
   "execution_count": 71,
   "metadata": {},
   "outputs": [
    {
     "name": "stdout",
     "output_type": "stream",
     "text": [
      "Time taken to run whole notebook: 0 hr 0 min 7 secs\n"
     ]
    }
   ],
   "source": [
    "time_taken = time.time() - time_start_notebook\n",
    "h,m = divmod(time_taken,60*60)\n",
    "print('Time taken to run whole notebook: {:.0f} hr '\\\n",
    "      '{:.0f} min {:.0f} secs'.format(h, *divmod(m,60)))"
   ]
  },
  {
   "cell_type": "code",
   "execution_count": null,
   "metadata": {},
   "outputs": [],
   "source": []
  }
 ],
 "metadata": {
  "kernelspec": {
   "display_name": "Python (dataSc)",
   "language": "python",
   "name": "datasc"
  },
  "language_info": {
   "codemirror_mode": {
    "name": "ipython",
    "version": 3
   },
   "file_extension": ".py",
   "mimetype": "text/x-python",
   "name": "python",
   "nbconvert_exporter": "python",
   "pygments_lexer": "ipython3",
   "version": "3.7.7"
  },
  "toc": {
   "base_numbering": 1,
   "nav_menu": {},
   "number_sections": true,
   "sideBar": true,
   "skip_h1_title": false,
   "title_cell": "Table of Contents",
   "title_sidebar": "Contents",
   "toc_cell": true,
   "toc_position": {},
   "toc_section_display": true,
   "toc_window_display": true
  }
 },
 "nbformat": 4,
 "nbformat_minor": 4
}
