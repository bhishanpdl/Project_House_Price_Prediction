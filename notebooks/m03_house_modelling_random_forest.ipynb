{
 "cells": [
  {
   "cell_type": "markdown",
   "metadata": {
    "toc": true
   },
   "source": [
    "<h1>Table of Contents<span class=\"tocSkip\"></span></h1>\n",
    "<div class=\"toc\"><ul class=\"toc-item\"><li><span><a href=\"#NOTES\" data-toc-modified-id=\"NOTES-1\"><span class=\"toc-item-num\">1&nbsp;&nbsp;</span>NOTES</a></span></li><li><span><a href=\"#Imports\" data-toc-modified-id=\"Imports-2\"><span class=\"toc-item-num\">2&nbsp;&nbsp;</span>Imports</a></span></li><li><span><a href=\"#Useful-Scripts\" data-toc-modified-id=\"Useful-Scripts-3\"><span class=\"toc-item-num\">3&nbsp;&nbsp;</span>Useful Scripts</a></span></li><li><span><a href=\"#Parameters\" data-toc-modified-id=\"Parameters-4\"><span class=\"toc-item-num\">4&nbsp;&nbsp;</span>Parameters</a></span></li><li><span><a href=\"#Load-the-data\" data-toc-modified-id=\"Load-the-data-5\"><span class=\"toc-item-num\">5&nbsp;&nbsp;</span>Load the data</a></span></li><li><span><a href=\"#Data-Processing\" data-toc-modified-id=\"Data-Processing-6\"><span class=\"toc-item-num\">6&nbsp;&nbsp;</span>Data Processing</a></span><ul class=\"toc-item\"><li><span><a href=\"#Sanity-Check\" data-toc-modified-id=\"Sanity-Check-6.1\"><span class=\"toc-item-num\">6.1&nbsp;&nbsp;</span>Sanity Check</a></span></li><li><span><a href=\"#Drop-unwanted-columns\" data-toc-modified-id=\"Drop-unwanted-columns-6.2\"><span class=\"toc-item-num\">6.2&nbsp;&nbsp;</span>Drop unwanted columns</a></span></li><li><span><a href=\"#Create-squared-columns\" data-toc-modified-id=\"Create-squared-columns-6.3\"><span class=\"toc-item-num\">6.3&nbsp;&nbsp;</span>Create squared columns</a></span></li><li><span><a href=\"#Train-test-split\" data-toc-modified-id=\"Train-test-split-6.4\"><span class=\"toc-item-num\">6.4&nbsp;&nbsp;</span>Train test split</a></span></li><li><span><a href=\"#Scaling\" data-toc-modified-id=\"Scaling-6.5\"><span class=\"toc-item-num\">6.5&nbsp;&nbsp;</span>Scaling</a></span></li></ul></li><li><span><a href=\"#Modelling:-Random-Forest\" data-toc-modified-id=\"Modelling:-Random-Forest-7\"><span class=\"toc-item-num\">7&nbsp;&nbsp;</span>Modelling: Random Forest</a></span></li><li><span><a href=\"#Grid-Search\" data-toc-modified-id=\"Grid-Search-8\"><span class=\"toc-item-num\">8&nbsp;&nbsp;</span>Grid Search</a></span></li><li><span><a href=\"#Randomized-search\" data-toc-modified-id=\"Randomized-search-9\"><span class=\"toc-item-num\">9&nbsp;&nbsp;</span>Randomized search</a></span></li><li><span><a href=\"#Feature-Importance\" data-toc-modified-id=\"Feature-Importance-10\"><span class=\"toc-item-num\">10&nbsp;&nbsp;</span>Feature Importance</a></span></li><li><span><a href=\"#Time-Taken\" data-toc-modified-id=\"Time-Taken-11\"><span class=\"toc-item-num\">11&nbsp;&nbsp;</span>Time Taken</a></span></li></ul></div>"
   ]
  },
  {
   "cell_type": "markdown",
   "metadata": {},
   "source": [
    "<div class=\"alert alert-block alert-success\">\n",
    "<b>Kernel Author:</b>  <br>\n",
    "<a href=\"https://bhishanpdl.github.io/\" , target=\"_blank\">Bhishan Poudel,  Data Scientist, Ph.D Astrophysics</a> .\n",
    "</div>"
   ]
  },
  {
   "cell_type": "markdown",
   "metadata": {},
   "source": [
    "# NOTES\n",
    "- Always fit on train data and then use fitted model on test data.\n",
    "- If we have extremely large r-squared value, check for data leakage. e.g. 'log_price' columns"
   ]
  },
  {
   "cell_type": "markdown",
   "metadata": {},
   "source": [
    "# Imports"
   ]
  },
  {
   "cell_type": "code",
   "execution_count": 4,
   "metadata": {
    "ExecuteTime": {
     "end_time": "2019-11-18T02:55:32.922857Z",
     "start_time": "2019-11-18T02:55:30.719129Z"
    }
   },
   "outputs": [],
   "source": [
    "import time\n",
    "time_start_notebook = time.time()"
   ]
  },
  {
   "cell_type": "code",
   "execution_count": 5,
   "metadata": {},
   "outputs": [],
   "source": [
    "%%capture\n",
    "import os\n",
    "import sys\n",
    "ENV_COLAB = 'google.colab' in sys.modules\n",
    "\n",
    "if ENV_COLAB:\n",
    "    ## install modules\n",
    "    !pip install scikit-plot\n",
    "    !pip install lrcurve\n",
    "    !pip install watermark\n",
    "    !pip install -U scikit-learn\n",
    "\n",
    "    ## print\n",
    "    print('Environment: Google Colaboratory.')"
   ]
  },
  {
   "cell_type": "code",
   "execution_count": 22,
   "metadata": {
    "ExecuteTime": {
     "end_time": "2019-11-18T02:55:32.922857Z",
     "start_time": "2019-11-18T02:55:30.719129Z"
    }
   },
   "outputs": [
    {
     "name": "stdout",
     "output_type": "stream",
     "text": [
      "The watermark extension is already loaded. To reload it, use:\n",
      "  %reload_ext watermark\n",
      "Bhishan Poudel 2020-11-04 \n",
      "\n",
      "CPython 3.7.7\n",
      "IPython 7.18.1\n",
      "\n",
      "compiler   : Clang 4.0.1 (tags/RELEASE_401/final)\n",
      "system     : Darwin\n",
      "release    : 19.6.0\n",
      "machine    : x86_64\n",
      "processor  : i386\n",
      "CPU cores  : 4\n",
      "interpreter: 64bit\n",
      "\n",
      "sklearn   0.23.1\n",
      "pandas    1.1.0\n",
      "watermark 2.0.2\n",
      "six       1.15.0\n",
      "numpy     1.18.4\n",
      "joblib    0.17.0\n",
      "\n"
     ]
    }
   ],
   "source": [
    "# usual imports\n",
    "import numpy as np\n",
    "import pandas as pd\n",
    "\n",
    "import os\n",
    "import time\n",
    "import collections\n",
    "import itertools\n",
    "import six\n",
    "import pickle\n",
    "import joblib\n",
    "\n",
    "# random state\n",
    "SEED = 0\n",
    "RNG = np.random.RandomState(SEED)\n",
    "\n",
    "# sklearn\n",
    "import sklearn\n",
    "from sklearn import preprocessing\n",
    "from sklearn import model_selection\n",
    "from sklearn import ensemble\n",
    "from sklearn import metrics\n",
    "\n",
    "# versions\n",
    "import watermark\n",
    "%load_ext watermark\n",
    "%watermark -a \"Bhishan Poudel\" -d -v -m\n",
    "print()\n",
    "%watermark -iv"
   ]
  },
  {
   "cell_type": "markdown",
   "metadata": {},
   "source": [
    "# Useful Scripts"
   ]
  },
  {
   "cell_type": "code",
   "execution_count": 27,
   "metadata": {
    "ExecuteTime": {
     "end_time": "2019-11-18T02:58:13.390387Z",
     "start_time": "2019-11-18T02:58:13.355246Z"
    }
   },
   "outputs": [],
   "source": [
    "def show_methods(obj, ncols=7,start=None, inside=None):\n",
    "    \"\"\" Show all the attributes of a given method.\n",
    "    Example:\n",
    "    ========\n",
    "    show_method_attributes(list)\n",
    "     \"\"\"\n",
    "    lst = [elem for elem in dir(obj) if elem[0]!='_' ]\n",
    "    lst = [elem for elem in lst \n",
    "           if elem not in 'os np pd sys time psycopg2'.split() ]\n",
    "\n",
    "    if isinstance(start,str):\n",
    "        lst = [elem for elem in lst if elem.startswith(start)]\n",
    "        \n",
    "    if isinstance(start,tuple) or isinstance(start,list):\n",
    "        lst = [elem for elem in lst for start_elem in start\n",
    "               if elem.startswith(start_elem)]\n",
    "        \n",
    "    if isinstance(inside,str):\n",
    "        lst = [elem for elem in lst if inside in elem]\n",
    "        \n",
    "    if isinstance(inside,tuple) or isinstance(inside,list):\n",
    "        lst = [elem for elem in lst for inside_elem in inside\n",
    "               if inside_elem in elem]\n",
    "\n",
    "    return pd.DataFrame(np.array_split(lst,ncols)).T.fillna('')\n",
    "\n",
    "def adjustedR2(rsquared,nrows,kcols):\n",
    "    return rsquared- (kcols-1)/(nrows-kcols) * (1-rsquared)\n",
    "\n",
    "\n",
    "def print_reg_metrics(yt,yp,ncols):\n",
    "    rmse = np.sqrt(sklearn.metrics.mean_squared_error(yt,yp))\n",
    "    r2 = sklearn.metrics.r2_score(yt, yp)\n",
    "    ar2 = adjustedR2(r2, len(yt), ncols)\n",
    "\n",
    "    out = f\"\"\"\n",
    "    RMSE     : {rmse:,.2f}\n",
    "    R-squared: {r2:,.6f}\n",
    "    Adj R2   : {ar2:,.6f}\n",
    "    \"\"\"\n",
    "    print(out)"
   ]
  },
  {
   "cell_type": "markdown",
   "metadata": {},
   "source": [
    "# Parameters"
   ]
  },
  {
   "cell_type": "code",
   "execution_count": 7,
   "metadata": {},
   "outputs": [],
   "source": [
    "if ENV_COLAB:\n",
    "    path_raw = 'https://raw.githubusercontent.com/bhishanpdl/Datasets/master/'\n",
    "    proj = 'Projects/King_County_Seattle_House_Price_Kaggle/'\n",
    "    data_path_parent = path_raw + proj\n",
    "\n",
    "else:\n",
    "    data_path_parent = '../data/'\n",
    "\n",
    "target = 'price'\n",
    "cols_drop = ['id', 'date', 'zipcode_top10']\n",
    "cols_sq = ['bedrooms','bathrooms','floors','waterfront','view',\n",
    "    'age','age_after_renovation','log1p_sqft_living','log1p_sqft_lot',\n",
    "    'log1p_sqft_above','log1p_sqft_basement',\n",
    "    'log1p_sqft_living15','log1p_sqft_lot15']\n",
    "\n",
    "train_size = 0.8"
   ]
  },
  {
   "cell_type": "code",
   "execution_count": 10,
   "metadata": {},
   "outputs": [],
   "source": [
    "target = 'price'"
   ]
  },
  {
   "cell_type": "markdown",
   "metadata": {},
   "source": [
    "# Load the data"
   ]
  },
  {
   "cell_type": "code",
   "execution_count": 8,
   "metadata": {
    "ExecuteTime": {
     "end_time": "2019-11-18T02:55:34.008696Z",
     "start_time": "2019-11-18T02:55:33.937595Z"
    }
   },
   "outputs": [
    {
     "name": "stdout",
     "output_type": "stream",
     "text": [
      "df shape : (21613, 91)\n"
     ]
    },
    {
     "data": {
      "text/html": [
       "<div>\n",
       "<style scoped>\n",
       "    .dataframe tbody tr th:only-of-type {\n",
       "        vertical-align: middle;\n",
       "    }\n",
       "\n",
       "    .dataframe tbody tr th {\n",
       "        vertical-align: top;\n",
       "    }\n",
       "\n",
       "    .dataframe thead th {\n",
       "        text-align: right;\n",
       "    }\n",
       "</style>\n",
       "<table border=\"1\" class=\"dataframe\">\n",
       "  <thead>\n",
       "    <tr style=\"text-align: right;\">\n",
       "      <th></th>\n",
       "      <th>id</th>\n",
       "      <th>date</th>\n",
       "      <th>price</th>\n",
       "      <th>bedrooms</th>\n",
       "      <th>bathrooms</th>\n",
       "      <th>sqft_living</th>\n",
       "      <th>sqft_lot</th>\n",
       "      <th>floors</th>\n",
       "      <th>waterfront</th>\n",
       "      <th>view</th>\n",
       "      <th>...</th>\n",
       "      <th>age_after_renovation_cat_6</th>\n",
       "      <th>age_after_renovation_cat_7</th>\n",
       "      <th>age_after_renovation_cat_8</th>\n",
       "      <th>age_after_renovation_cat_9</th>\n",
       "      <th>log1p_sqft_living</th>\n",
       "      <th>log1p_sqft_lot</th>\n",
       "      <th>log1p_sqft_above</th>\n",
       "      <th>log1p_sqft_basement</th>\n",
       "      <th>log1p_sqft_living15</th>\n",
       "      <th>log1p_sqft_lot15</th>\n",
       "    </tr>\n",
       "  </thead>\n",
       "  <tbody>\n",
       "    <tr>\n",
       "      <th>0</th>\n",
       "      <td>7129300520</td>\n",
       "      <td>2014-10-13</td>\n",
       "      <td>221900.0</td>\n",
       "      <td>3</td>\n",
       "      <td>1.00</td>\n",
       "      <td>1180</td>\n",
       "      <td>5650</td>\n",
       "      <td>1.0</td>\n",
       "      <td>0</td>\n",
       "      <td>0</td>\n",
       "      <td>...</td>\n",
       "      <td>0</td>\n",
       "      <td>0</td>\n",
       "      <td>0</td>\n",
       "      <td>0</td>\n",
       "      <td>7.074117</td>\n",
       "      <td>8.639588</td>\n",
       "      <td>7.074117</td>\n",
       "      <td>0.000000</td>\n",
       "      <td>7.201171</td>\n",
       "      <td>8.639588</td>\n",
       "    </tr>\n",
       "    <tr>\n",
       "      <th>1</th>\n",
       "      <td>6414100192</td>\n",
       "      <td>2014-12-09</td>\n",
       "      <td>538000.0</td>\n",
       "      <td>3</td>\n",
       "      <td>2.25</td>\n",
       "      <td>2570</td>\n",
       "      <td>7242</td>\n",
       "      <td>2.0</td>\n",
       "      <td>0</td>\n",
       "      <td>0</td>\n",
       "      <td>...</td>\n",
       "      <td>0</td>\n",
       "      <td>0</td>\n",
       "      <td>0</td>\n",
       "      <td>0</td>\n",
       "      <td>7.852050</td>\n",
       "      <td>8.887791</td>\n",
       "      <td>7.682943</td>\n",
       "      <td>5.993961</td>\n",
       "      <td>7.433075</td>\n",
       "      <td>8.941153</td>\n",
       "    </tr>\n",
       "    <tr>\n",
       "      <th>21611</th>\n",
       "      <td>291310100</td>\n",
       "      <td>2015-01-16</td>\n",
       "      <td>400000.0</td>\n",
       "      <td>3</td>\n",
       "      <td>2.50</td>\n",
       "      <td>1600</td>\n",
       "      <td>2388</td>\n",
       "      <td>2.0</td>\n",
       "      <td>0</td>\n",
       "      <td>0</td>\n",
       "      <td>...</td>\n",
       "      <td>0</td>\n",
       "      <td>0</td>\n",
       "      <td>0</td>\n",
       "      <td>0</td>\n",
       "      <td>7.378384</td>\n",
       "      <td>7.778630</td>\n",
       "      <td>7.378384</td>\n",
       "      <td>0.000000</td>\n",
       "      <td>7.252054</td>\n",
       "      <td>7.160846</td>\n",
       "    </tr>\n",
       "    <tr>\n",
       "      <th>21612</th>\n",
       "      <td>1523300157</td>\n",
       "      <td>2014-10-15</td>\n",
       "      <td>325000.0</td>\n",
       "      <td>2</td>\n",
       "      <td>0.75</td>\n",
       "      <td>1020</td>\n",
       "      <td>1076</td>\n",
       "      <td>2.0</td>\n",
       "      <td>0</td>\n",
       "      <td>0</td>\n",
       "      <td>...</td>\n",
       "      <td>0</td>\n",
       "      <td>0</td>\n",
       "      <td>0</td>\n",
       "      <td>0</td>\n",
       "      <td>6.928538</td>\n",
       "      <td>6.981935</td>\n",
       "      <td>6.928538</td>\n",
       "      <td>0.000000</td>\n",
       "      <td>6.928538</td>\n",
       "      <td>7.213768</td>\n",
       "    </tr>\n",
       "  </tbody>\n",
       "</table>\n",
       "<p>4 rows × 91 columns</p>\n",
       "</div>"
      ],
      "text/plain": [
       "               id        date     price  bedrooms  bathrooms  sqft_living  \\\n",
       "0      7129300520  2014-10-13  221900.0         3       1.00         1180   \n",
       "1      6414100192  2014-12-09  538000.0         3       2.25         2570   \n",
       "21611   291310100  2015-01-16  400000.0         3       2.50         1600   \n",
       "21612  1523300157  2014-10-15  325000.0         2       0.75         1020   \n",
       "\n",
       "       sqft_lot  floors  waterfront  view  ...  age_after_renovation_cat_6  \\\n",
       "0          5650     1.0           0     0  ...                           0   \n",
       "1          7242     2.0           0     0  ...                           0   \n",
       "21611      2388     2.0           0     0  ...                           0   \n",
       "21612      1076     2.0           0     0  ...                           0   \n",
       "\n",
       "       age_after_renovation_cat_7  age_after_renovation_cat_8  \\\n",
       "0                               0                           0   \n",
       "1                               0                           0   \n",
       "21611                           0                           0   \n",
       "21612                           0                           0   \n",
       "\n",
       "       age_after_renovation_cat_9  log1p_sqft_living  log1p_sqft_lot  \\\n",
       "0                               0           7.074117        8.639588   \n",
       "1                               0           7.852050        8.887791   \n",
       "21611                           0           7.378384        7.778630   \n",
       "21612                           0           6.928538        6.981935   \n",
       "\n",
       "       log1p_sqft_above  log1p_sqft_basement  log1p_sqft_living15  \\\n",
       "0              7.074117             0.000000             7.201171   \n",
       "1              7.682943             5.993961             7.433075   \n",
       "21611          7.378384             0.000000             7.252054   \n",
       "21612          6.928538             0.000000             6.928538   \n",
       "\n",
       "       log1p_sqft_lot15  \n",
       "0              8.639588  \n",
       "1              8.941153  \n",
       "21611          7.160846  \n",
       "21612          7.213768  \n",
       "\n",
       "[4 rows x 91 columns]"
      ]
     },
     "metadata": {},
     "output_type": "display_data"
    }
   ],
   "source": [
    "data_path_clean = data_path_parent + 'processed/data_cleaned_encoded.csv'\n",
    "df = pd.read_csv(data_path_clean)\n",
    "\n",
    "print(f\"df shape : {df.shape}\")\n",
    "display(df.head(2).append(df.tail(2)))"
   ]
  },
  {
   "cell_type": "markdown",
   "metadata": {},
   "source": [
    "# Data Processing"
   ]
  },
  {
   "cell_type": "markdown",
   "metadata": {},
   "source": [
    "## Sanity Check\n",
    "- check for data leakage. eg. 'price', 'log1p_price' on columns\n",
    "- make sure no Nans\n",
    "- If you use `log(target)`, do not forget to do `exp(ypreds)` while doing model evaluation."
   ]
  },
  {
   "cell_type": "code",
   "execution_count": 9,
   "metadata": {},
   "outputs": [
    {
     "name": "stdout",
     "output_type": "stream",
     "text": [
      "Index(['id', 'date', 'price', 'bedrooms', 'bathrooms', 'sqft_living',\n",
      "       'sqft_lot', 'floors', 'waterfront', 'view', 'condition', 'grade',\n",
      "       'sqft_above', 'sqft_basement', 'yr_built', 'yr_renovated', 'zipcode',\n",
      "       'lat', 'long', 'sqft_living15', 'sqft_lot15', 'yr_sales', 'age',\n",
      "       'yr_renovated2', 'age_after_renovation', 'zipcode_top10',\n",
      "       'zipcode_houses', 'basement_bool', 'renovation_bool', 'age_cat',\n",
      "       'age_after_renovation_cat', 'waterfront_0', 'waterfront_1', 'view_0',\n",
      "       'view_1', 'view_2', 'view_3', 'view_4', 'condition_1', 'condition_2',\n",
      "       'condition_3', 'condition_4', 'condition_5', 'grade_1', 'grade_10',\n",
      "       'grade_11', 'grade_12', 'grade_13', 'grade_3', 'grade_4', 'grade_5',\n",
      "       'grade_6', 'grade_7', 'grade_8', 'grade_9', 'zipcode_top10_98004',\n",
      "       'zipcode_top10_98006', 'zipcode_top10_98033', 'zipcode_top10_98039',\n",
      "       'zipcode_top10_98040', 'zipcode_top10_98102', 'zipcode_top10_98105',\n",
      "       'zipcode_top10_98155', 'zipcode_top10_98177', 'zipcode_top10_others',\n",
      "       'age_cat_0', 'age_cat_1', 'age_cat_2', 'age_cat_3', 'age_cat_4',\n",
      "       'age_cat_5', 'age_cat_6', 'age_cat_7', 'age_cat_8', 'age_cat_9',\n",
      "       'age_after_renovation_cat_0', 'age_after_renovation_cat_1',\n",
      "       'age_after_renovation_cat_2', 'age_after_renovation_cat_3',\n",
      "       'age_after_renovation_cat_4', 'age_after_renovation_cat_5',\n",
      "       'age_after_renovation_cat_6', 'age_after_renovation_cat_7',\n",
      "       'age_after_renovation_cat_8', 'age_after_renovation_cat_9',\n",
      "       'log1p_sqft_living', 'log1p_sqft_lot', 'log1p_sqft_above',\n",
      "       'log1p_sqft_basement', 'log1p_sqft_living15', 'log1p_sqft_lot15'],\n",
      "      dtype='object')\n"
     ]
    }
   ],
   "source": [
    "print(df.columns)"
   ]
  },
  {
   "cell_type": "code",
   "execution_count": 16,
   "metadata": {},
   "outputs": [
    {
     "data": {
      "text/plain": [
       "Index(['price'], dtype='object')"
      ]
     },
     "execution_count": 16,
     "metadata": {},
     "output_type": "execute_result"
    }
   ],
   "source": [
    "df.filter(regex='price').columns\n",
    "# there is no data leakage, there is only one target column"
   ]
  },
  {
   "cell_type": "code",
   "execution_count": 17,
   "metadata": {},
   "outputs": [
    {
     "data": {
      "text/plain": [
       "Index(['log1p_sqft_living', 'log1p_sqft_lot', 'log1p_sqft_above',\n",
       "       'log1p_sqft_basement', 'log1p_sqft_living15', 'log1p_sqft_lot15'],\n",
       "      dtype='object')"
      ]
     },
     "execution_count": 17,
     "metadata": {},
     "output_type": "execute_result"
    }
   ],
   "source": [
    "df.filter(regex='log').columns"
   ]
  },
  {
   "cell_type": "markdown",
   "metadata": {},
   "source": [
    "## Drop unwanted columns"
   ]
  },
  {
   "cell_type": "code",
   "execution_count": 18,
   "metadata": {},
   "outputs": [],
   "source": [
    "df = df.drop(cols_drop, axis=1)"
   ]
  },
  {
   "cell_type": "markdown",
   "metadata": {},
   "source": [
    "## Create squared columns"
   ]
  },
  {
   "cell_type": "code",
   "execution_count": 19,
   "metadata": {},
   "outputs": [],
   "source": [
    "for col in cols_sq:\n",
    "    df[col + '_sq'] = df[col]**2"
   ]
  },
  {
   "cell_type": "markdown",
   "metadata": {},
   "source": [
    "## Train test split"
   ]
  },
  {
   "cell_type": "code",
   "execution_count": 23,
   "metadata": {},
   "outputs": [],
   "source": [
    "df_Xtrain,df_Xtest,ser_ytrain,ser_ytest = model_selection.train_test_split(\n",
    "    df.drop([target],axis=1),\n",
    "    df[target],\n",
    "    train_size=train_size,\n",
    "    random_state=SEED)\n",
    "\n",
    "ytrain = np.array(ser_ytrain).flatten()\n",
    "ytest = np.array(ser_ytest).flatten()"
   ]
  },
  {
   "cell_type": "markdown",
   "metadata": {},
   "source": [
    "## Scaling"
   ]
  },
  {
   "cell_type": "code",
   "execution_count": 24,
   "metadata": {},
   "outputs": [],
   "source": [
    "scaler = preprocessing.StandardScaler()\n",
    "scaler.fit(df_Xtrain)\n",
    "Xtrain = scaler.transform(df_Xtrain)\n",
    "Xtest  = scaler.transform(df_Xtest)"
   ]
  },
  {
   "cell_type": "markdown",
   "metadata": {},
   "source": [
    "# Modelling: Random Forest"
   ]
  },
  {
   "cell_type": "code",
   "execution_count": 25,
   "metadata": {
    "ExecuteTime": {
     "end_time": "2019-11-18T02:55:37.486955Z",
     "start_time": "2019-11-18T02:55:37.482206Z"
    }
   },
   "outputs": [],
   "source": [
    "features = df.drop([target],axis=1).columns"
   ]
  },
  {
   "cell_type": "code",
   "execution_count": 30,
   "metadata": {
    "ExecuteTime": {
     "end_time": "2019-11-18T02:55:59.862094Z",
     "start_time": "2019-11-18T02:55:38.681733Z"
    }
   },
   "outputs": [
    {
     "name": "stdout",
     "output_type": "stream",
     "text": [
      "\n",
      "    RMSE     : 122,552.77\n",
      "    R-squared: 0.888556\n",
      "    Adj R2   : 0.885944\n",
      "    \n"
     ]
    }
   ],
   "source": [
    "model = RandomForestRegressor(random_state=SEED,n_jobs=-1)\n",
    "model.fit(Xtrain,ytrain)\n",
    "\n",
    "ypreds = model.predict(Xtest)\n",
    "print_reg_metrics(ytest,ypreds,Xtest.shape[-1])"
   ]
  },
  {
   "cell_type": "markdown",
   "metadata": {},
   "source": [
    "# Grid Search\n",
    "\n",
    "Most important hyperparameters of Random Forest:\n",
    "\n",
    "- n_estimators = n of trees\n",
    "- max_features = max number of features considered for splitting a node\n",
    "- max_depth = max number of levels in each decision tree\n",
    "- min_samples_split = min number of data points placed in a node before the node is split\n",
    "- min_samples_leaf = min number of data points allowed in a leaf node\n",
    "- bootstrap = method for sampling data points (with or without replacement)"
   ]
  },
  {
   "cell_type": "code",
   "execution_count": 32,
   "metadata": {
    "ExecuteTime": {
     "end_time": "2019-11-18T03:22:57.762660Z",
     "start_time": "2019-11-18T03:22:40.649483Z"
    }
   },
   "outputs": [
    {
     "name": "stdout",
     "output_type": "stream",
     "text": [
      "\n",
      "    RMSE     : 121,626.72\n",
      "    R-squared: 0.890234\n",
      "    Adj R2   : 0.887661\n",
      "    \n"
     ]
    }
   ],
   "source": [
    "%%time\n",
    "model = RandomForestRegressor(n_estimators= 50,random_state=SEED)\n",
    "\n",
    "model.fit(Xtrain,ytrain)\n",
    "\n",
    "ypreds = model.predict(Xtest)\n",
    "print_reg_metrics(ytest,ypreds,Xtest.shape[-1])"
   ]
  },
  {
   "cell_type": "markdown",
   "metadata": {},
   "source": [
    "# Randomized search"
   ]
  },
  {
   "cell_type": "code",
   "execution_count": 33,
   "metadata": {
    "ExecuteTime": {
     "end_time": "2019-09-29T01:44:30.200322Z",
     "start_time": "2019-09-29T01:44:30.194151Z"
    }
   },
   "outputs": [
    {
     "name": "stdout",
     "output_type": "stream",
     "text": [
      "{'max_depth': [1, 23, 45],\n",
      " 'max_features': ['auto', 'sqrt'],\n",
      " 'min_samples_split': [5, 10],\n",
      " 'n_estimators': [20, 65, 110, 155, 200]}\n"
     ]
    }
   ],
   "source": [
    "from sklearn.model_selection import RandomizedSearchCV\n",
    "from pprint import pprint\n",
    "\n",
    "# Number of trees in  forest\n",
    "n_estimators = [int(x) for x in np.linspace(start = 20, stop = 200, num = 5)]\n",
    "\n",
    "# max features\n",
    "max_features = ['auto', 'sqrt']\n",
    "\n",
    "# max depth of leaves\n",
    "max_depth = [int(x) for x in np.linspace(1, 45, num = 3)]\n",
    "\n",
    "# min samples split\n",
    "min_samples_split = [5, 10]\n",
    "\n",
    "# random grid\n",
    "random_grid = {'n_estimators': n_estimators,\n",
    "               'max_features': max_features,\n",
    "               'max_depth': max_depth,\n",
    "               'min_samples_split': min_samples_split}\n",
    "\n",
    "\n",
    "pprint(random_grid)"
   ]
  },
  {
   "cell_type": "code",
   "execution_count": 36,
   "metadata": {
    "ExecuteTime": {
     "end_time": "2019-09-29T01:45:50.627998Z",
     "start_time": "2019-09-29T01:44:30.202038Z"
    }
   },
   "outputs": [],
   "source": [
    "%%time\n",
    "model = RandomForestRegressor(random_state=SEED)\n",
    "rf_random = RandomizedSearchCV(model,random_grid,\n",
    "                               n_iter = 100,\n",
    "                               cv = 5,\n",
    "                               verbose=2,\n",
    "                               random_state=SEED,\n",
    "                               n_jobs = -1,\n",
    "                               scoring='neg_mean_squared_error')\n",
    "# Fit the random search model\n",
    "# rf_random.fit(Xtrain, ytrain) # comment this"
   ]
  },
  {
   "cell_type": "code",
   "execution_count": 35,
   "metadata": {
    "ExecuteTime": {
     "end_time": "2019-09-29T01:45:50.636485Z",
     "start_time": "2019-09-29T01:45:50.629882Z"
    }
   },
   "outputs": [
    {
     "data": {
      "text/plain": [
       "{'n_estimators': 110,\n",
       " 'min_samples_split': 5,\n",
       " 'max_features': 'auto',\n",
       " 'max_depth': 45}"
      ]
     },
     "execution_count": 35,
     "metadata": {},
     "output_type": "execute_result"
    }
   ],
   "source": [
    "# rf_random.best_params_\n",
    "\n",
    "\"\"\"\n",
    "{'n_estimators': 110,\n",
    " 'min_samples_split': 5,\n",
    " 'max_features': 'auto',\n",
    " 'max_depth': 45}\n",
    "\"\"\""
   ]
  },
  {
   "cell_type": "code",
   "execution_count": 37,
   "metadata": {
    "ExecuteTime": {
     "start_time": "2019-09-29T01:42:31.374Z"
    }
   },
   "outputs": [
    {
     "data": {
      "text/plain": [
       "RandomForestRegressor(max_depth=45, min_samples_split=5, n_estimators=110,\n",
       "                      random_state=100)"
      ]
     },
     "execution_count": 37,
     "metadata": {},
     "output_type": "execute_result"
    }
   ],
   "source": [
    "params_rf_best = {'n_estimators': 110,\n",
    " 'min_samples_split': 5,\n",
    " 'max_features': 'auto',\n",
    " 'max_depth': 45}\n",
    "\n",
    "model = RandomForestRegressor(random_state=SEED,**params_rf_best)\n",
    "model"
   ]
  },
  {
   "cell_type": "code",
   "execution_count": 38,
   "metadata": {},
   "outputs": [
    {
     "name": "stdout",
     "output_type": "stream",
     "text": [
      "\n",
      "    RMSE     : 124,313.37\n",
      "    R-squared: 0.885331\n",
      "    Adj R2   : 0.882643\n",
      "    \n"
     ]
    }
   ],
   "source": [
    "%%time\n",
    "model.fit(Xtrain,ytrain)\n",
    "\n",
    "ypreds = model.predict(Xtest)\n",
    "print_reg_metrics(ytest,ypreds,Xtest.shape[-1])"
   ]
  },
  {
   "cell_type": "markdown",
   "metadata": {},
   "source": [
    "# Feature Importance"
   ]
  },
  {
   "cell_type": "code",
   "execution_count": 40,
   "metadata": {
    "ExecuteTime": {
     "start_time": "2019-09-29T01:42:31.376Z"
    }
   },
   "outputs": [
    {
     "data": {
      "text/plain": [
       "array([0.00116118, 0.00444788, 0.08525432, 0.00405505, 0.00063537])"
      ]
     },
     "execution_count": 40,
     "metadata": {},
     "output_type": "execute_result"
    }
   ],
   "source": [
    "importances = model.feature_importances_\n",
    "importances[:5]"
   ]
  },
  {
   "cell_type": "code",
   "execution_count": 41,
   "metadata": {
    "ExecuteTime": {
     "start_time": "2019-09-29T01:42:31.381Z"
    }
   },
   "outputs": [
    {
     "data": {
      "text/html": [
       "<style  type=\"text/css\" >\n",
       "#T_31d0b4ba_1ed3_11eb_9278_acde48001122row0_col1{\n",
       "            background-color:  #023858;\n",
       "            color:  #f1f1f1;\n",
       "        }#T_31d0b4ba_1ed3_11eb_9278_acde48001122row1_col1{\n",
       "            background-color:  #83afd3;\n",
       "            color:  #000000;\n",
       "        }#T_31d0b4ba_1ed3_11eb_9278_acde48001122row2_col1{\n",
       "            background-color:  #c9cee4;\n",
       "            color:  #000000;\n",
       "        }#T_31d0b4ba_1ed3_11eb_9278_acde48001122row3_col1{\n",
       "            background-color:  #cccfe5;\n",
       "            color:  #000000;\n",
       "        }#T_31d0b4ba_1ed3_11eb_9278_acde48001122row4_col1{\n",
       "            background-color:  #d7d6e9;\n",
       "            color:  #000000;\n",
       "        }#T_31d0b4ba_1ed3_11eb_9278_acde48001122row5_col1{\n",
       "            background-color:  #dcdaeb;\n",
       "            color:  #000000;\n",
       "        }#T_31d0b4ba_1ed3_11eb_9278_acde48001122row6_col1,#T_31d0b4ba_1ed3_11eb_9278_acde48001122row7_col1,#T_31d0b4ba_1ed3_11eb_9278_acde48001122row8_col1,#T_31d0b4ba_1ed3_11eb_9278_acde48001122row9_col1,#T_31d0b4ba_1ed3_11eb_9278_acde48001122row10_col1,#T_31d0b4ba_1ed3_11eb_9278_acde48001122row11_col1{\n",
       "            background-color:  #fbf3f9;\n",
       "            color:  #000000;\n",
       "        }#T_31d0b4ba_1ed3_11eb_9278_acde48001122row12_col1,#T_31d0b4ba_1ed3_11eb_9278_acde48001122row13_col1,#T_31d0b4ba_1ed3_11eb_9278_acde48001122row14_col1,#T_31d0b4ba_1ed3_11eb_9278_acde48001122row15_col1,#T_31d0b4ba_1ed3_11eb_9278_acde48001122row16_col1,#T_31d0b4ba_1ed3_11eb_9278_acde48001122row17_col1{\n",
       "            background-color:  #fbf4f9;\n",
       "            color:  #000000;\n",
       "        }#T_31d0b4ba_1ed3_11eb_9278_acde48001122row18_col1,#T_31d0b4ba_1ed3_11eb_9278_acde48001122row19_col1,#T_31d0b4ba_1ed3_11eb_9278_acde48001122row20_col1{\n",
       "            background-color:  #fcf4fa;\n",
       "            color:  #000000;\n",
       "        }#T_31d0b4ba_1ed3_11eb_9278_acde48001122row21_col1,#T_31d0b4ba_1ed3_11eb_9278_acde48001122row22_col1,#T_31d0b4ba_1ed3_11eb_9278_acde48001122row23_col1,#T_31d0b4ba_1ed3_11eb_9278_acde48001122row24_col1,#T_31d0b4ba_1ed3_11eb_9278_acde48001122row25_col1,#T_31d0b4ba_1ed3_11eb_9278_acde48001122row26_col1,#T_31d0b4ba_1ed3_11eb_9278_acde48001122row27_col1{\n",
       "            background-color:  #fdf5fa;\n",
       "            color:  #000000;\n",
       "        }#T_31d0b4ba_1ed3_11eb_9278_acde48001122row28_col1,#T_31d0b4ba_1ed3_11eb_9278_acde48001122row29_col1,#T_31d0b4ba_1ed3_11eb_9278_acde48001122row30_col1,#T_31d0b4ba_1ed3_11eb_9278_acde48001122row31_col1,#T_31d0b4ba_1ed3_11eb_9278_acde48001122row32_col1,#T_31d0b4ba_1ed3_11eb_9278_acde48001122row33_col1{\n",
       "            background-color:  #fef6fa;\n",
       "            color:  #000000;\n",
       "        }#T_31d0b4ba_1ed3_11eb_9278_acde48001122row34_col1,#T_31d0b4ba_1ed3_11eb_9278_acde48001122row35_col1,#T_31d0b4ba_1ed3_11eb_9278_acde48001122row36_col1,#T_31d0b4ba_1ed3_11eb_9278_acde48001122row37_col1,#T_31d0b4ba_1ed3_11eb_9278_acde48001122row38_col1,#T_31d0b4ba_1ed3_11eb_9278_acde48001122row39_col1,#T_31d0b4ba_1ed3_11eb_9278_acde48001122row40_col1,#T_31d0b4ba_1ed3_11eb_9278_acde48001122row41_col1,#T_31d0b4ba_1ed3_11eb_9278_acde48001122row42_col1{\n",
       "            background-color:  #fef6fb;\n",
       "            color:  #000000;\n",
       "        }#T_31d0b4ba_1ed3_11eb_9278_acde48001122row43_col1,#T_31d0b4ba_1ed3_11eb_9278_acde48001122row44_col1,#T_31d0b4ba_1ed3_11eb_9278_acde48001122row45_col1,#T_31d0b4ba_1ed3_11eb_9278_acde48001122row46_col1,#T_31d0b4ba_1ed3_11eb_9278_acde48001122row47_col1,#T_31d0b4ba_1ed3_11eb_9278_acde48001122row48_col1,#T_31d0b4ba_1ed3_11eb_9278_acde48001122row49_col1,#T_31d0b4ba_1ed3_11eb_9278_acde48001122row50_col1,#T_31d0b4ba_1ed3_11eb_9278_acde48001122row51_col1,#T_31d0b4ba_1ed3_11eb_9278_acde48001122row52_col1,#T_31d0b4ba_1ed3_11eb_9278_acde48001122row53_col1,#T_31d0b4ba_1ed3_11eb_9278_acde48001122row54_col1,#T_31d0b4ba_1ed3_11eb_9278_acde48001122row55_col1,#T_31d0b4ba_1ed3_11eb_9278_acde48001122row56_col1,#T_31d0b4ba_1ed3_11eb_9278_acde48001122row57_col1,#T_31d0b4ba_1ed3_11eb_9278_acde48001122row58_col1,#T_31d0b4ba_1ed3_11eb_9278_acde48001122row59_col1,#T_31d0b4ba_1ed3_11eb_9278_acde48001122row60_col1,#T_31d0b4ba_1ed3_11eb_9278_acde48001122row61_col1,#T_31d0b4ba_1ed3_11eb_9278_acde48001122row62_col1,#T_31d0b4ba_1ed3_11eb_9278_acde48001122row63_col1,#T_31d0b4ba_1ed3_11eb_9278_acde48001122row64_col1,#T_31d0b4ba_1ed3_11eb_9278_acde48001122row65_col1,#T_31d0b4ba_1ed3_11eb_9278_acde48001122row66_col1,#T_31d0b4ba_1ed3_11eb_9278_acde48001122row67_col1,#T_31d0b4ba_1ed3_11eb_9278_acde48001122row68_col1,#T_31d0b4ba_1ed3_11eb_9278_acde48001122row69_col1,#T_31d0b4ba_1ed3_11eb_9278_acde48001122row70_col1,#T_31d0b4ba_1ed3_11eb_9278_acde48001122row71_col1,#T_31d0b4ba_1ed3_11eb_9278_acde48001122row72_col1,#T_31d0b4ba_1ed3_11eb_9278_acde48001122row73_col1,#T_31d0b4ba_1ed3_11eb_9278_acde48001122row74_col1,#T_31d0b4ba_1ed3_11eb_9278_acde48001122row75_col1,#T_31d0b4ba_1ed3_11eb_9278_acde48001122row76_col1,#T_31d0b4ba_1ed3_11eb_9278_acde48001122row77_col1,#T_31d0b4ba_1ed3_11eb_9278_acde48001122row78_col1,#T_31d0b4ba_1ed3_11eb_9278_acde48001122row79_col1,#T_31d0b4ba_1ed3_11eb_9278_acde48001122row80_col1,#T_31d0b4ba_1ed3_11eb_9278_acde48001122row81_col1,#T_31d0b4ba_1ed3_11eb_9278_acde48001122row82_col1,#T_31d0b4ba_1ed3_11eb_9278_acde48001122row83_col1,#T_31d0b4ba_1ed3_11eb_9278_acde48001122row84_col1,#T_31d0b4ba_1ed3_11eb_9278_acde48001122row85_col1,#T_31d0b4ba_1ed3_11eb_9278_acde48001122row86_col1,#T_31d0b4ba_1ed3_11eb_9278_acde48001122row87_col1,#T_31d0b4ba_1ed3_11eb_9278_acde48001122row88_col1,#T_31d0b4ba_1ed3_11eb_9278_acde48001122row89_col1,#T_31d0b4ba_1ed3_11eb_9278_acde48001122row90_col1,#T_31d0b4ba_1ed3_11eb_9278_acde48001122row91_col1,#T_31d0b4ba_1ed3_11eb_9278_acde48001122row92_col1,#T_31d0b4ba_1ed3_11eb_9278_acde48001122row93_col1,#T_31d0b4ba_1ed3_11eb_9278_acde48001122row94_col1,#T_31d0b4ba_1ed3_11eb_9278_acde48001122row95_col1,#T_31d0b4ba_1ed3_11eb_9278_acde48001122row96_col1,#T_31d0b4ba_1ed3_11eb_9278_acde48001122row97_col1,#T_31d0b4ba_1ed3_11eb_9278_acde48001122row98_col1,#T_31d0b4ba_1ed3_11eb_9278_acde48001122row99_col1{\n",
       "            background-color:  #fff7fb;\n",
       "            color:  #000000;\n",
       "        }</style><table id=\"T_31d0b4ba_1ed3_11eb_9278_acde48001122\" ><thead>    <tr>        <th class=\"blank level0\" ></th>        <th class=\"col_heading level0 col0\" >feature</th>        <th class=\"col_heading level0 col1\" >importance</th>    </tr></thead><tbody>\n",
       "                <tr>\n",
       "                        <th id=\"T_31d0b4ba_1ed3_11eb_9278_acde48001122level0_row0\" class=\"row_heading level0 row0\" >8</th>\n",
       "                        <td id=\"T_31d0b4ba_1ed3_11eb_9278_acde48001122row0_col0\" class=\"data row0 col0\" >grade</td>\n",
       "                        <td id=\"T_31d0b4ba_1ed3_11eb_9278_acde48001122row0_col1\" class=\"data row0 col1\" >0.324809</td>\n",
       "            </tr>\n",
       "            <tr>\n",
       "                        <th id=\"T_31d0b4ba_1ed3_11eb_9278_acde48001122level0_row1\" class=\"row_heading level0 row1\" >14</th>\n",
       "                        <td id=\"T_31d0b4ba_1ed3_11eb_9278_acde48001122row1_col0\" class=\"data row1 col0\" >lat</td>\n",
       "                        <td id=\"T_31d0b4ba_1ed3_11eb_9278_acde48001122row1_col1\" class=\"data row1 col1\" >0.150440</td>\n",
       "            </tr>\n",
       "            <tr>\n",
       "                        <th id=\"T_31d0b4ba_1ed3_11eb_9278_acde48001122level0_row2\" class=\"row_heading level0 row2\" >81</th>\n",
       "                        <td id=\"T_31d0b4ba_1ed3_11eb_9278_acde48001122row2_col0\" class=\"data row2 col0\" >log1p_sqft_living</td>\n",
       "                        <td id=\"T_31d0b4ba_1ed3_11eb_9278_acde48001122row2_col1\" class=\"data row2 col1\" >0.088471</td>\n",
       "            </tr>\n",
       "            <tr>\n",
       "                        <th id=\"T_31d0b4ba_1ed3_11eb_9278_acde48001122level0_row3\" class=\"row_heading level0 row3\" >2</th>\n",
       "                        <td id=\"T_31d0b4ba_1ed3_11eb_9278_acde48001122row3_col0\" class=\"data row3 col0\" >sqft_living</td>\n",
       "                        <td id=\"T_31d0b4ba_1ed3_11eb_9278_acde48001122row3_col1\" class=\"data row3 col1\" >0.085254</td>\n",
       "            </tr>\n",
       "            <tr>\n",
       "                        <th id=\"T_31d0b4ba_1ed3_11eb_9278_acde48001122level0_row4\" class=\"row_heading level0 row4\" >94</th>\n",
       "                        <td id=\"T_31d0b4ba_1ed3_11eb_9278_acde48001122row4_col0\" class=\"data row4 col0\" >log1p_sqft_living_sq</td>\n",
       "                        <td id=\"T_31d0b4ba_1ed3_11eb_9278_acde48001122row4_col1\" class=\"data row4 col1\" >0.071862</td>\n",
       "            </tr>\n",
       "            <tr>\n",
       "                        <th id=\"T_31d0b4ba_1ed3_11eb_9278_acde48001122level0_row5\" class=\"row_heading level0 row5\" >15</th>\n",
       "                        <td id=\"T_31d0b4ba_1ed3_11eb_9278_acde48001122row5_col0\" class=\"data row5 col0\" >long</td>\n",
       "                        <td id=\"T_31d0b4ba_1ed3_11eb_9278_acde48001122row5_col1\" class=\"data row5 col1\" >0.063767</td>\n",
       "            </tr>\n",
       "            <tr>\n",
       "                        <th id=\"T_31d0b4ba_1ed3_11eb_9278_acde48001122level0_row6\" class=\"row_heading level0 row6\" >98</th>\n",
       "                        <td id=\"T_31d0b4ba_1ed3_11eb_9278_acde48001122row6_col0\" class=\"data row6 col0\" >log1p_sqft_living15_sq</td>\n",
       "                        <td id=\"T_31d0b4ba_1ed3_11eb_9278_acde48001122row6_col1\" class=\"data row6 col1\" >0.009697</td>\n",
       "            </tr>\n",
       "            <tr>\n",
       "                        <th id=\"T_31d0b4ba_1ed3_11eb_9278_acde48001122level0_row7\" class=\"row_heading level0 row7\" >22</th>\n",
       "                        <td id=\"T_31d0b4ba_1ed3_11eb_9278_acde48001122row7_col0\" class=\"data row7 col0\" >zipcode_houses</td>\n",
       "                        <td id=\"T_31d0b4ba_1ed3_11eb_9278_acde48001122row7_col1\" class=\"data row7 col1\" >0.009553</td>\n",
       "            </tr>\n",
       "            <tr>\n",
       "                        <th id=\"T_31d0b4ba_1ed3_11eb_9278_acde48001122level0_row8\" class=\"row_heading level0 row8\" >13</th>\n",
       "                        <td id=\"T_31d0b4ba_1ed3_11eb_9278_acde48001122row8_col0\" class=\"data row8 col0\" >zipcode</td>\n",
       "                        <td id=\"T_31d0b4ba_1ed3_11eb_9278_acde48001122row8_col1\" class=\"data row8 col1\" >0.009523</td>\n",
       "            </tr>\n",
       "            <tr>\n",
       "                        <th id=\"T_31d0b4ba_1ed3_11eb_9278_acde48001122level0_row9\" class=\"row_heading level0 row9\" >16</th>\n",
       "                        <td id=\"T_31d0b4ba_1ed3_11eb_9278_acde48001122row9_col0\" class=\"data row9 col0\" >sqft_living15</td>\n",
       "                        <td id=\"T_31d0b4ba_1ed3_11eb_9278_acde48001122row9_col1\" class=\"data row9 col1\" >0.009467</td>\n",
       "            </tr>\n",
       "            <tr>\n",
       "                        <th id=\"T_31d0b4ba_1ed3_11eb_9278_acde48001122level0_row10\" class=\"row_heading level0 row10\" >5</th>\n",
       "                        <td id=\"T_31d0b4ba_1ed3_11eb_9278_acde48001122row10_col0\" class=\"data row10 col0\" >waterfront</td>\n",
       "                        <td id=\"T_31d0b4ba_1ed3_11eb_9278_acde48001122row10_col1\" class=\"data row10 col1\" >0.009218</td>\n",
       "            </tr>\n",
       "            <tr>\n",
       "                        <th id=\"T_31d0b4ba_1ed3_11eb_9278_acde48001122level0_row11\" class=\"row_heading level0 row11\" >85</th>\n",
       "                        <td id=\"T_31d0b4ba_1ed3_11eb_9278_acde48001122row11_col0\" class=\"data row11 col0\" >log1p_sqft_living15</td>\n",
       "                        <td id=\"T_31d0b4ba_1ed3_11eb_9278_acde48001122row11_col1\" class=\"data row11 col1\" >0.009132</td>\n",
       "            </tr>\n",
       "            <tr>\n",
       "                        <th id=\"T_31d0b4ba_1ed3_11eb_9278_acde48001122level0_row12\" class=\"row_heading level0 row12\" >90</th>\n",
       "                        <td id=\"T_31d0b4ba_1ed3_11eb_9278_acde48001122row12_col0\" class=\"data row12 col0\" >waterfront_sq</td>\n",
       "                        <td id=\"T_31d0b4ba_1ed3_11eb_9278_acde48001122row12_col1\" class=\"data row12 col1\" >0.008649</td>\n",
       "            </tr>\n",
       "            <tr>\n",
       "                        <th id=\"T_31d0b4ba_1ed3_11eb_9278_acde48001122level0_row13\" class=\"row_heading level0 row13\" >92</th>\n",
       "                        <td id=\"T_31d0b4ba_1ed3_11eb_9278_acde48001122row13_col0\" class=\"data row13 col0\" >age_sq</td>\n",
       "                        <td id=\"T_31d0b4ba_1ed3_11eb_9278_acde48001122row13_col1\" class=\"data row13 col1\" >0.008617</td>\n",
       "            </tr>\n",
       "            <tr>\n",
       "                        <th id=\"T_31d0b4ba_1ed3_11eb_9278_acde48001122level0_row14\" class=\"row_heading level0 row14\" >27</th>\n",
       "                        <td id=\"T_31d0b4ba_1ed3_11eb_9278_acde48001122row14_col0\" class=\"data row14 col0\" >waterfront_0</td>\n",
       "                        <td id=\"T_31d0b4ba_1ed3_11eb_9278_acde48001122row14_col1\" class=\"data row14 col1\" >0.008563</td>\n",
       "            </tr>\n",
       "            <tr>\n",
       "                        <th id=\"T_31d0b4ba_1ed3_11eb_9278_acde48001122level0_row15\" class=\"row_heading level0 row15\" >11</th>\n",
       "                        <td id=\"T_31d0b4ba_1ed3_11eb_9278_acde48001122row15_col0\" class=\"data row15 col0\" >yr_built</td>\n",
       "                        <td id=\"T_31d0b4ba_1ed3_11eb_9278_acde48001122row15_col1\" class=\"data row15 col1\" >0.008179</td>\n",
       "            </tr>\n",
       "            <tr>\n",
       "                        <th id=\"T_31d0b4ba_1ed3_11eb_9278_acde48001122level0_row16\" class=\"row_heading level0 row16\" >9</th>\n",
       "                        <td id=\"T_31d0b4ba_1ed3_11eb_9278_acde48001122row16_col0\" class=\"data row16 col0\" >sqft_above</td>\n",
       "                        <td id=\"T_31d0b4ba_1ed3_11eb_9278_acde48001122row16_col1\" class=\"data row16 col1\" >0.007636</td>\n",
       "            </tr>\n",
       "            <tr>\n",
       "                        <th id=\"T_31d0b4ba_1ed3_11eb_9278_acde48001122level0_row17\" class=\"row_heading level0 row17\" >28</th>\n",
       "                        <td id=\"T_31d0b4ba_1ed3_11eb_9278_acde48001122row17_col0\" class=\"data row17 col0\" >waterfront_1</td>\n",
       "                        <td id=\"T_31d0b4ba_1ed3_11eb_9278_acde48001122row17_col1\" class=\"data row17 col1\" >0.007627</td>\n",
       "            </tr>\n",
       "            <tr>\n",
       "                        <th id=\"T_31d0b4ba_1ed3_11eb_9278_acde48001122level0_row18\" class=\"row_heading level0 row18\" >96</th>\n",
       "                        <td id=\"T_31d0b4ba_1ed3_11eb_9278_acde48001122row18_col0\" class=\"data row18 col0\" >log1p_sqft_above_sq</td>\n",
       "                        <td id=\"T_31d0b4ba_1ed3_11eb_9278_acde48001122row18_col1\" class=\"data row18 col1\" >0.007255</td>\n",
       "            </tr>\n",
       "            <tr>\n",
       "                        <th id=\"T_31d0b4ba_1ed3_11eb_9278_acde48001122level0_row19\" class=\"row_heading level0 row19\" >83</th>\n",
       "                        <td id=\"T_31d0b4ba_1ed3_11eb_9278_acde48001122row19_col0\" class=\"data row19 col0\" >log1p_sqft_above</td>\n",
       "                        <td id=\"T_31d0b4ba_1ed3_11eb_9278_acde48001122row19_col1\" class=\"data row19 col1\" >0.006967</td>\n",
       "            </tr>\n",
       "            <tr>\n",
       "                        <th id=\"T_31d0b4ba_1ed3_11eb_9278_acde48001122level0_row20\" class=\"row_heading level0 row20\" >19</th>\n",
       "                        <td id=\"T_31d0b4ba_1ed3_11eb_9278_acde48001122row20_col0\" class=\"data row20 col0\" >age</td>\n",
       "                        <td id=\"T_31d0b4ba_1ed3_11eb_9278_acde48001122row20_col1\" class=\"data row20 col1\" >0.006722</td>\n",
       "            </tr>\n",
       "            <tr>\n",
       "                        <th id=\"T_31d0b4ba_1ed3_11eb_9278_acde48001122level0_row21\" class=\"row_heading level0 row21\" >60</th>\n",
       "                        <td id=\"T_31d0b4ba_1ed3_11eb_9278_acde48001122row21_col0\" class=\"data row21 col0\" >zipcode_top10_others</td>\n",
       "                        <td id=\"T_31d0b4ba_1ed3_11eb_9278_acde48001122row21_col1\" class=\"data row21 col1\" >0.005920</td>\n",
       "            </tr>\n",
       "            <tr>\n",
       "                        <th id=\"T_31d0b4ba_1ed3_11eb_9278_acde48001122level0_row22\" class=\"row_heading level0 row22\" >1</th>\n",
       "                        <td id=\"T_31d0b4ba_1ed3_11eb_9278_acde48001122row22_col0\" class=\"data row22 col0\" >bathrooms</td>\n",
       "                        <td id=\"T_31d0b4ba_1ed3_11eb_9278_acde48001122row22_col1\" class=\"data row22 col1\" >0.004448</td>\n",
       "            </tr>\n",
       "            <tr>\n",
       "                        <th id=\"T_31d0b4ba_1ed3_11eb_9278_acde48001122level0_row23\" class=\"row_heading level0 row23\" >6</th>\n",
       "                        <td id=\"T_31d0b4ba_1ed3_11eb_9278_acde48001122row23_col0\" class=\"data row23 col0\" >view</td>\n",
       "                        <td id=\"T_31d0b4ba_1ed3_11eb_9278_acde48001122row23_col1\" class=\"data row23 col1\" >0.004327</td>\n",
       "            </tr>\n",
       "            <tr>\n",
       "                        <th id=\"T_31d0b4ba_1ed3_11eb_9278_acde48001122level0_row24\" class=\"row_heading level0 row24\" >86</th>\n",
       "                        <td id=\"T_31d0b4ba_1ed3_11eb_9278_acde48001122row24_col0\" class=\"data row24 col0\" >log1p_sqft_lot15</td>\n",
       "                        <td id=\"T_31d0b4ba_1ed3_11eb_9278_acde48001122row24_col1\" class=\"data row24 col1\" >0.004198</td>\n",
       "            </tr>\n",
       "            <tr>\n",
       "                        <th id=\"T_31d0b4ba_1ed3_11eb_9278_acde48001122level0_row25\" class=\"row_heading level0 row25\" >99</th>\n",
       "                        <td id=\"T_31d0b4ba_1ed3_11eb_9278_acde48001122row25_col0\" class=\"data row25 col0\" >log1p_sqft_lot15_sq</td>\n",
       "                        <td id=\"T_31d0b4ba_1ed3_11eb_9278_acde48001122row25_col1\" class=\"data row25 col1\" >0.004081</td>\n",
       "            </tr>\n",
       "            <tr>\n",
       "                        <th id=\"T_31d0b4ba_1ed3_11eb_9278_acde48001122level0_row26\" class=\"row_heading level0 row26\" >3</th>\n",
       "                        <td id=\"T_31d0b4ba_1ed3_11eb_9278_acde48001122row26_col0\" class=\"data row26 col0\" >sqft_lot</td>\n",
       "                        <td id=\"T_31d0b4ba_1ed3_11eb_9278_acde48001122row26_col1\" class=\"data row26 col1\" >0.004055</td>\n",
       "            </tr>\n",
       "            <tr>\n",
       "                        <th id=\"T_31d0b4ba_1ed3_11eb_9278_acde48001122level0_row27\" class=\"row_heading level0 row27\" >17</th>\n",
       "                        <td id=\"T_31d0b4ba_1ed3_11eb_9278_acde48001122row27_col0\" class=\"data row27 col0\" >sqft_lot15</td>\n",
       "                        <td id=\"T_31d0b4ba_1ed3_11eb_9278_acde48001122row27_col1\" class=\"data row27 col1\" >0.004011</td>\n",
       "            </tr>\n",
       "            <tr>\n",
       "                        <th id=\"T_31d0b4ba_1ed3_11eb_9278_acde48001122level0_row28\" class=\"row_heading level0 row28\" >91</th>\n",
       "                        <td id=\"T_31d0b4ba_1ed3_11eb_9278_acde48001122row28_col0\" class=\"data row28 col0\" >view_sq</td>\n",
       "                        <td id=\"T_31d0b4ba_1ed3_11eb_9278_acde48001122row28_col1\" class=\"data row28 col1\" >0.003781</td>\n",
       "            </tr>\n",
       "            <tr>\n",
       "                        <th id=\"T_31d0b4ba_1ed3_11eb_9278_acde48001122level0_row29\" class=\"row_heading level0 row29\" >50</th>\n",
       "                        <td id=\"T_31d0b4ba_1ed3_11eb_9278_acde48001122row29_col0\" class=\"data row29 col0\" >grade_9</td>\n",
       "                        <td id=\"T_31d0b4ba_1ed3_11eb_9278_acde48001122row29_col1\" class=\"data row29 col1\" >0.003768</td>\n",
       "            </tr>\n",
       "            <tr>\n",
       "                        <th id=\"T_31d0b4ba_1ed3_11eb_9278_acde48001122level0_row30\" class=\"row_heading level0 row30\" >95</th>\n",
       "                        <td id=\"T_31d0b4ba_1ed3_11eb_9278_acde48001122row30_col0\" class=\"data row30 col0\" >log1p_sqft_lot_sq</td>\n",
       "                        <td id=\"T_31d0b4ba_1ed3_11eb_9278_acde48001122row30_col1\" class=\"data row30 col1\" >0.003692</td>\n",
       "            </tr>\n",
       "            <tr>\n",
       "                        <th id=\"T_31d0b4ba_1ed3_11eb_9278_acde48001122level0_row31\" class=\"row_heading level0 row31\" >82</th>\n",
       "                        <td id=\"T_31d0b4ba_1ed3_11eb_9278_acde48001122row31_col0\" class=\"data row31 col0\" >log1p_sqft_lot</td>\n",
       "                        <td id=\"T_31d0b4ba_1ed3_11eb_9278_acde48001122row31_col1\" class=\"data row31 col1\" >0.003639</td>\n",
       "            </tr>\n",
       "            <tr>\n",
       "                        <th id=\"T_31d0b4ba_1ed3_11eb_9278_acde48001122level0_row32\" class=\"row_heading level0 row32\" >88</th>\n",
       "                        <td id=\"T_31d0b4ba_1ed3_11eb_9278_acde48001122row32_col0\" class=\"data row32 col0\" >bathrooms_sq</td>\n",
       "                        <td id=\"T_31d0b4ba_1ed3_11eb_9278_acde48001122row32_col1\" class=\"data row32 col1\" >0.002928</td>\n",
       "            </tr>\n",
       "            <tr>\n",
       "                        <th id=\"T_31d0b4ba_1ed3_11eb_9278_acde48001122level0_row33\" class=\"row_heading level0 row33\" >51</th>\n",
       "                        <td id=\"T_31d0b4ba_1ed3_11eb_9278_acde48001122row33_col0\" class=\"data row33 col0\" >zipcode_top10_98004</td>\n",
       "                        <td id=\"T_31d0b4ba_1ed3_11eb_9278_acde48001122row33_col1\" class=\"data row33 col1\" >0.002926</td>\n",
       "            </tr>\n",
       "            <tr>\n",
       "                        <th id=\"T_31d0b4ba_1ed3_11eb_9278_acde48001122level0_row34\" class=\"row_heading level0 row34\" >20</th>\n",
       "                        <td id=\"T_31d0b4ba_1ed3_11eb_9278_acde48001122row34_col0\" class=\"data row34 col0\" >yr_renovated2</td>\n",
       "                        <td id=\"T_31d0b4ba_1ed3_11eb_9278_acde48001122row34_col1\" class=\"data row34 col1\" >0.002530</td>\n",
       "            </tr>\n",
       "            <tr>\n",
       "                        <th id=\"T_31d0b4ba_1ed3_11eb_9278_acde48001122level0_row35\" class=\"row_heading level0 row35\" >21</th>\n",
       "                        <td id=\"T_31d0b4ba_1ed3_11eb_9278_acde48001122row35_col0\" class=\"data row35 col0\" >age_after_renovation</td>\n",
       "                        <td id=\"T_31d0b4ba_1ed3_11eb_9278_acde48001122row35_col1\" class=\"data row35 col1\" >0.002196</td>\n",
       "            </tr>\n",
       "            <tr>\n",
       "                        <th id=\"T_31d0b4ba_1ed3_11eb_9278_acde48001122level0_row36\" class=\"row_heading level0 row36\" >93</th>\n",
       "                        <td id=\"T_31d0b4ba_1ed3_11eb_9278_acde48001122row36_col0\" class=\"data row36 col0\" >age_after_renovation_sq</td>\n",
       "                        <td id=\"T_31d0b4ba_1ed3_11eb_9278_acde48001122row36_col1\" class=\"data row36 col1\" >0.002133</td>\n",
       "            </tr>\n",
       "            <tr>\n",
       "                        <th id=\"T_31d0b4ba_1ed3_11eb_9278_acde48001122level0_row37\" class=\"row_heading level0 row37\" >33</th>\n",
       "                        <td id=\"T_31d0b4ba_1ed3_11eb_9278_acde48001122row37_col0\" class=\"data row37 col0\" >view_4</td>\n",
       "                        <td id=\"T_31d0b4ba_1ed3_11eb_9278_acde48001122row37_col1\" class=\"data row37 col1\" >0.001748</td>\n",
       "            </tr>\n",
       "            <tr>\n",
       "                        <th id=\"T_31d0b4ba_1ed3_11eb_9278_acde48001122level0_row38\" class=\"row_heading level0 row38\" >97</th>\n",
       "                        <td id=\"T_31d0b4ba_1ed3_11eb_9278_acde48001122row38_col0\" class=\"data row38 col0\" >log1p_sqft_basement_sq</td>\n",
       "                        <td id=\"T_31d0b4ba_1ed3_11eb_9278_acde48001122row38_col1\" class=\"data row38 col1\" >0.001471</td>\n",
       "            </tr>\n",
       "            <tr>\n",
       "                        <th id=\"T_31d0b4ba_1ed3_11eb_9278_acde48001122level0_row39\" class=\"row_heading level0 row39\" >18</th>\n",
       "                        <td id=\"T_31d0b4ba_1ed3_11eb_9278_acde48001122row39_col0\" class=\"data row39 col0\" >yr_sales</td>\n",
       "                        <td id=\"T_31d0b4ba_1ed3_11eb_9278_acde48001122row39_col1\" class=\"data row39 col1\" >0.001460</td>\n",
       "            </tr>\n",
       "            <tr>\n",
       "                        <th id=\"T_31d0b4ba_1ed3_11eb_9278_acde48001122level0_row40\" class=\"row_heading level0 row40\" >10</th>\n",
       "                        <td id=\"T_31d0b4ba_1ed3_11eb_9278_acde48001122row40_col0\" class=\"data row40 col0\" >sqft_basement</td>\n",
       "                        <td id=\"T_31d0b4ba_1ed3_11eb_9278_acde48001122row40_col1\" class=\"data row40 col1\" >0.001316</td>\n",
       "            </tr>\n",
       "            <tr>\n",
       "                        <th id=\"T_31d0b4ba_1ed3_11eb_9278_acde48001122level0_row41\" class=\"row_heading level0 row41\" >84</th>\n",
       "                        <td id=\"T_31d0b4ba_1ed3_11eb_9278_acde48001122row41_col0\" class=\"data row41 col0\" >log1p_sqft_basement</td>\n",
       "                        <td id=\"T_31d0b4ba_1ed3_11eb_9278_acde48001122row41_col1\" class=\"data row41 col1\" >0.001283</td>\n",
       "            </tr>\n",
       "            <tr>\n",
       "                        <th id=\"T_31d0b4ba_1ed3_11eb_9278_acde48001122level0_row42\" class=\"row_heading level0 row42\" >87</th>\n",
       "                        <td id=\"T_31d0b4ba_1ed3_11eb_9278_acde48001122row42_col0\" class=\"data row42 col0\" >bedrooms_sq</td>\n",
       "                        <td id=\"T_31d0b4ba_1ed3_11eb_9278_acde48001122row42_col1\" class=\"data row42 col1\" >0.001278</td>\n",
       "            </tr>\n",
       "            <tr>\n",
       "                        <th id=\"T_31d0b4ba_1ed3_11eb_9278_acde48001122level0_row43\" class=\"row_heading level0 row43\" >49</th>\n",
       "                        <td id=\"T_31d0b4ba_1ed3_11eb_9278_acde48001122row43_col0\" class=\"data row43 col0\" >grade_8</td>\n",
       "                        <td id=\"T_31d0b4ba_1ed3_11eb_9278_acde48001122row43_col1\" class=\"data row43 col1\" >0.001233</td>\n",
       "            </tr>\n",
       "            <tr>\n",
       "                        <th id=\"T_31d0b4ba_1ed3_11eb_9278_acde48001122level0_row44\" class=\"row_heading level0 row44\" >43</th>\n",
       "                        <td id=\"T_31d0b4ba_1ed3_11eb_9278_acde48001122row44_col0\" class=\"data row44 col0\" >grade_13</td>\n",
       "                        <td id=\"T_31d0b4ba_1ed3_11eb_9278_acde48001122row44_col1\" class=\"data row44 col1\" >0.001201</td>\n",
       "            </tr>\n",
       "            <tr>\n",
       "                        <th id=\"T_31d0b4ba_1ed3_11eb_9278_acde48001122level0_row45\" class=\"row_heading level0 row45\" >7</th>\n",
       "                        <td id=\"T_31d0b4ba_1ed3_11eb_9278_acde48001122row45_col0\" class=\"data row45 col0\" >condition</td>\n",
       "                        <td id=\"T_31d0b4ba_1ed3_11eb_9278_acde48001122row45_col1\" class=\"data row45 col1\" >0.001168</td>\n",
       "            </tr>\n",
       "            <tr>\n",
       "                        <th id=\"T_31d0b4ba_1ed3_11eb_9278_acde48001122level0_row46\" class=\"row_heading level0 row46\" >0</th>\n",
       "                        <td id=\"T_31d0b4ba_1ed3_11eb_9278_acde48001122row46_col0\" class=\"data row46 col0\" >bedrooms</td>\n",
       "                        <td id=\"T_31d0b4ba_1ed3_11eb_9278_acde48001122row46_col1\" class=\"data row46 col1\" >0.001161</td>\n",
       "            </tr>\n",
       "            <tr>\n",
       "                        <th id=\"T_31d0b4ba_1ed3_11eb_9278_acde48001122level0_row47\" class=\"row_heading level0 row47\" >55</th>\n",
       "                        <td id=\"T_31d0b4ba_1ed3_11eb_9278_acde48001122row47_col0\" class=\"data row47 col0\" >zipcode_top10_98040</td>\n",
       "                        <td id=\"T_31d0b4ba_1ed3_11eb_9278_acde48001122row47_col1\" class=\"data row47 col1\" >0.001022</td>\n",
       "            </tr>\n",
       "            <tr>\n",
       "                        <th id=\"T_31d0b4ba_1ed3_11eb_9278_acde48001122level0_row48\" class=\"row_heading level0 row48\" >29</th>\n",
       "                        <td id=\"T_31d0b4ba_1ed3_11eb_9278_acde48001122row48_col0\" class=\"data row48 col0\" >view_0</td>\n",
       "                        <td id=\"T_31d0b4ba_1ed3_11eb_9278_acde48001122row48_col1\" class=\"data row48 col1\" >0.001012</td>\n",
       "            </tr>\n",
       "            <tr>\n",
       "                        <th id=\"T_31d0b4ba_1ed3_11eb_9278_acde48001122level0_row49\" class=\"row_heading level0 row49\" >25</th>\n",
       "                        <td id=\"T_31d0b4ba_1ed3_11eb_9278_acde48001122row49_col0\" class=\"data row49 col0\" >age_cat</td>\n",
       "                        <td id=\"T_31d0b4ba_1ed3_11eb_9278_acde48001122row49_col1\" class=\"data row49 col1\" >0.000972</td>\n",
       "            </tr>\n",
       "            <tr>\n",
       "                        <th id=\"T_31d0b4ba_1ed3_11eb_9278_acde48001122level0_row50\" class=\"row_heading level0 row50\" >32</th>\n",
       "                        <td id=\"T_31d0b4ba_1ed3_11eb_9278_acde48001122row50_col0\" class=\"data row50 col0\" >view_3</td>\n",
       "                        <td id=\"T_31d0b4ba_1ed3_11eb_9278_acde48001122row50_col1\" class=\"data row50 col1\" >0.000738</td>\n",
       "            </tr>\n",
       "            <tr>\n",
       "                        <th id=\"T_31d0b4ba_1ed3_11eb_9278_acde48001122level0_row51\" class=\"row_heading level0 row51\" >41</th>\n",
       "                        <td id=\"T_31d0b4ba_1ed3_11eb_9278_acde48001122row51_col0\" class=\"data row51 col0\" >grade_11</td>\n",
       "                        <td id=\"T_31d0b4ba_1ed3_11eb_9278_acde48001122row51_col1\" class=\"data row51 col1\" >0.000738</td>\n",
       "            </tr>\n",
       "            <tr>\n",
       "                        <th id=\"T_31d0b4ba_1ed3_11eb_9278_acde48001122level0_row52\" class=\"row_heading level0 row52\" >73</th>\n",
       "                        <td id=\"T_31d0b4ba_1ed3_11eb_9278_acde48001122row52_col0\" class=\"data row52 col0\" >age_after_renovation_cat_2</td>\n",
       "                        <td id=\"T_31d0b4ba_1ed3_11eb_9278_acde48001122row52_col1\" class=\"data row52 col1\" >0.000723</td>\n",
       "            </tr>\n",
       "            <tr>\n",
       "                        <th id=\"T_31d0b4ba_1ed3_11eb_9278_acde48001122level0_row53\" class=\"row_heading level0 row53\" >42</th>\n",
       "                        <td id=\"T_31d0b4ba_1ed3_11eb_9278_acde48001122row53_col0\" class=\"data row53 col0\" >grade_12</td>\n",
       "                        <td id=\"T_31d0b4ba_1ed3_11eb_9278_acde48001122row53_col1\" class=\"data row53 col1\" >0.000693</td>\n",
       "            </tr>\n",
       "            <tr>\n",
       "                        <th id=\"T_31d0b4ba_1ed3_11eb_9278_acde48001122level0_row54\" class=\"row_heading level0 row54\" >12</th>\n",
       "                        <td id=\"T_31d0b4ba_1ed3_11eb_9278_acde48001122row54_col0\" class=\"data row54 col0\" >yr_renovated</td>\n",
       "                        <td id=\"T_31d0b4ba_1ed3_11eb_9278_acde48001122row54_col1\" class=\"data row54 col1\" >0.000684</td>\n",
       "            </tr>\n",
       "            <tr>\n",
       "                        <th id=\"T_31d0b4ba_1ed3_11eb_9278_acde48001122level0_row55\" class=\"row_heading level0 row55\" >40</th>\n",
       "                        <td id=\"T_31d0b4ba_1ed3_11eb_9278_acde48001122row55_col0\" class=\"data row55 col0\" >grade_10</td>\n",
       "                        <td id=\"T_31d0b4ba_1ed3_11eb_9278_acde48001122row55_col1\" class=\"data row55 col1\" >0.000672</td>\n",
       "            </tr>\n",
       "            <tr>\n",
       "                        <th id=\"T_31d0b4ba_1ed3_11eb_9278_acde48001122level0_row56\" class=\"row_heading level0 row56\" >4</th>\n",
       "                        <td id=\"T_31d0b4ba_1ed3_11eb_9278_acde48001122row56_col0\" class=\"data row56 col0\" >floors</td>\n",
       "                        <td id=\"T_31d0b4ba_1ed3_11eb_9278_acde48001122row56_col1\" class=\"data row56 col1\" >0.000635</td>\n",
       "            </tr>\n",
       "            <tr>\n",
       "                        <th id=\"T_31d0b4ba_1ed3_11eb_9278_acde48001122level0_row57\" class=\"row_heading level0 row57\" >26</th>\n",
       "                        <td id=\"T_31d0b4ba_1ed3_11eb_9278_acde48001122row57_col0\" class=\"data row57 col0\" >age_after_renovation_cat</td>\n",
       "                        <td id=\"T_31d0b4ba_1ed3_11eb_9278_acde48001122row57_col1\" class=\"data row57 col1\" >0.000629</td>\n",
       "            </tr>\n",
       "            <tr>\n",
       "                        <th id=\"T_31d0b4ba_1ed3_11eb_9278_acde48001122level0_row58\" class=\"row_heading level0 row58\" >89</th>\n",
       "                        <td id=\"T_31d0b4ba_1ed3_11eb_9278_acde48001122row58_col0\" class=\"data row58 col0\" >floors_sq</td>\n",
       "                        <td id=\"T_31d0b4ba_1ed3_11eb_9278_acde48001122row58_col1\" class=\"data row58 col1\" >0.000594</td>\n",
       "            </tr>\n",
       "            <tr>\n",
       "                        <th id=\"T_31d0b4ba_1ed3_11eb_9278_acde48001122level0_row59\" class=\"row_heading level0 row59\" >48</th>\n",
       "                        <td id=\"T_31d0b4ba_1ed3_11eb_9278_acde48001122row59_col0\" class=\"data row59 col0\" >grade_7</td>\n",
       "                        <td id=\"T_31d0b4ba_1ed3_11eb_9278_acde48001122row59_col1\" class=\"data row59 col1\" >0.000532</td>\n",
       "            </tr>\n",
       "            <tr>\n",
       "                        <th id=\"T_31d0b4ba_1ed3_11eb_9278_acde48001122level0_row60\" class=\"row_heading level0 row60\" >31</th>\n",
       "                        <td id=\"T_31d0b4ba_1ed3_11eb_9278_acde48001122row60_col0\" class=\"data row60 col0\" >view_2</td>\n",
       "                        <td id=\"T_31d0b4ba_1ed3_11eb_9278_acde48001122row60_col1\" class=\"data row60 col1\" >0.000523</td>\n",
       "            </tr>\n",
       "            <tr>\n",
       "                        <th id=\"T_31d0b4ba_1ed3_11eb_9278_acde48001122level0_row61\" class=\"row_heading level0 row61\" >36</th>\n",
       "                        <td id=\"T_31d0b4ba_1ed3_11eb_9278_acde48001122row61_col0\" class=\"data row61 col0\" >condition_3</td>\n",
       "                        <td id=\"T_31d0b4ba_1ed3_11eb_9278_acde48001122row61_col1\" class=\"data row61 col1\" >0.000482</td>\n",
       "            </tr>\n",
       "            <tr>\n",
       "                        <th id=\"T_31d0b4ba_1ed3_11eb_9278_acde48001122level0_row62\" class=\"row_heading level0 row62\" >38</th>\n",
       "                        <td id=\"T_31d0b4ba_1ed3_11eb_9278_acde48001122row62_col0\" class=\"data row62 col0\" >condition_5</td>\n",
       "                        <td id=\"T_31d0b4ba_1ed3_11eb_9278_acde48001122row62_col1\" class=\"data row62 col1\" >0.000474</td>\n",
       "            </tr>\n",
       "            <tr>\n",
       "                        <th id=\"T_31d0b4ba_1ed3_11eb_9278_acde48001122level0_row63\" class=\"row_heading level0 row63\" >37</th>\n",
       "                        <td id=\"T_31d0b4ba_1ed3_11eb_9278_acde48001122row63_col0\" class=\"data row63 col0\" >condition_4</td>\n",
       "                        <td id=\"T_31d0b4ba_1ed3_11eb_9278_acde48001122row63_col1\" class=\"data row63 col1\" >0.000439</td>\n",
       "            </tr>\n",
       "            <tr>\n",
       "                        <th id=\"T_31d0b4ba_1ed3_11eb_9278_acde48001122level0_row64\" class=\"row_heading level0 row64\" >54</th>\n",
       "                        <td id=\"T_31d0b4ba_1ed3_11eb_9278_acde48001122row64_col0\" class=\"data row64 col0\" >zipcode_top10_98039</td>\n",
       "                        <td id=\"T_31d0b4ba_1ed3_11eb_9278_acde48001122row64_col1\" class=\"data row64 col1\" >0.000396</td>\n",
       "            </tr>\n",
       "            <tr>\n",
       "                        <th id=\"T_31d0b4ba_1ed3_11eb_9278_acde48001122level0_row65\" class=\"row_heading level0 row65\" >30</th>\n",
       "                        <td id=\"T_31d0b4ba_1ed3_11eb_9278_acde48001122row65_col0\" class=\"data row65 col0\" >view_1</td>\n",
       "                        <td id=\"T_31d0b4ba_1ed3_11eb_9278_acde48001122row65_col1\" class=\"data row65 col1\" >0.000327</td>\n",
       "            </tr>\n",
       "            <tr>\n",
       "                        <th id=\"T_31d0b4ba_1ed3_11eb_9278_acde48001122level0_row66\" class=\"row_heading level0 row66\" >75</th>\n",
       "                        <td id=\"T_31d0b4ba_1ed3_11eb_9278_acde48001122row66_col0\" class=\"data row66 col0\" >age_after_renovation_cat_4</td>\n",
       "                        <td id=\"T_31d0b4ba_1ed3_11eb_9278_acde48001122row66_col1\" class=\"data row66 col1\" >0.000285</td>\n",
       "            </tr>\n",
       "            <tr>\n",
       "                        <th id=\"T_31d0b4ba_1ed3_11eb_9278_acde48001122level0_row67\" class=\"row_heading level0 row67\" >65</th>\n",
       "                        <td id=\"T_31d0b4ba_1ed3_11eb_9278_acde48001122row67_col0\" class=\"data row67 col0\" >age_cat_4</td>\n",
       "                        <td id=\"T_31d0b4ba_1ed3_11eb_9278_acde48001122row67_col1\" class=\"data row67 col1\" >0.000276</td>\n",
       "            </tr>\n",
       "            <tr>\n",
       "                        <th id=\"T_31d0b4ba_1ed3_11eb_9278_acde48001122level0_row68\" class=\"row_heading level0 row68\" >72</th>\n",
       "                        <td id=\"T_31d0b4ba_1ed3_11eb_9278_acde48001122row68_col0\" class=\"data row68 col0\" >age_after_renovation_cat_1</td>\n",
       "                        <td id=\"T_31d0b4ba_1ed3_11eb_9278_acde48001122row68_col1\" class=\"data row68 col1\" >0.000269</td>\n",
       "            </tr>\n",
       "            <tr>\n",
       "                        <th id=\"T_31d0b4ba_1ed3_11eb_9278_acde48001122level0_row69\" class=\"row_heading level0 row69\" >24</th>\n",
       "                        <td id=\"T_31d0b4ba_1ed3_11eb_9278_acde48001122row69_col0\" class=\"data row69 col0\" >renovation_bool</td>\n",
       "                        <td id=\"T_31d0b4ba_1ed3_11eb_9278_acde48001122row69_col1\" class=\"data row69 col1\" >0.000266</td>\n",
       "            </tr>\n",
       "            <tr>\n",
       "                        <th id=\"T_31d0b4ba_1ed3_11eb_9278_acde48001122level0_row70\" class=\"row_heading level0 row70\" >63</th>\n",
       "                        <td id=\"T_31d0b4ba_1ed3_11eb_9278_acde48001122row70_col0\" class=\"data row70 col0\" >age_cat_2</td>\n",
       "                        <td id=\"T_31d0b4ba_1ed3_11eb_9278_acde48001122row70_col1\" class=\"data row70 col1\" >0.000263</td>\n",
       "            </tr>\n",
       "            <tr>\n",
       "                        <th id=\"T_31d0b4ba_1ed3_11eb_9278_acde48001122level0_row71\" class=\"row_heading level0 row71\" >52</th>\n",
       "                        <td id=\"T_31d0b4ba_1ed3_11eb_9278_acde48001122row71_col0\" class=\"data row71 col0\" >zipcode_top10_98006</td>\n",
       "                        <td id=\"T_31d0b4ba_1ed3_11eb_9278_acde48001122row71_col1\" class=\"data row71 col1\" >0.000254</td>\n",
       "            </tr>\n",
       "            <tr>\n",
       "                        <th id=\"T_31d0b4ba_1ed3_11eb_9278_acde48001122level0_row72\" class=\"row_heading level0 row72\" >62</th>\n",
       "                        <td id=\"T_31d0b4ba_1ed3_11eb_9278_acde48001122row72_col0\" class=\"data row72 col0\" >age_cat_1</td>\n",
       "                        <td id=\"T_31d0b4ba_1ed3_11eb_9278_acde48001122row72_col1\" class=\"data row72 col1\" >0.000213</td>\n",
       "            </tr>\n",
       "            <tr>\n",
       "                        <th id=\"T_31d0b4ba_1ed3_11eb_9278_acde48001122level0_row73\" class=\"row_heading level0 row73\" >67</th>\n",
       "                        <td id=\"T_31d0b4ba_1ed3_11eb_9278_acde48001122row73_col0\" class=\"data row73 col0\" >age_cat_6</td>\n",
       "                        <td id=\"T_31d0b4ba_1ed3_11eb_9278_acde48001122row73_col1\" class=\"data row73 col1\" >0.000196</td>\n",
       "            </tr>\n",
       "            <tr>\n",
       "                        <th id=\"T_31d0b4ba_1ed3_11eb_9278_acde48001122level0_row74\" class=\"row_heading level0 row74\" >47</th>\n",
       "                        <td id=\"T_31d0b4ba_1ed3_11eb_9278_acde48001122row74_col0\" class=\"data row74 col0\" >grade_6</td>\n",
       "                        <td id=\"T_31d0b4ba_1ed3_11eb_9278_acde48001122row74_col1\" class=\"data row74 col1\" >0.000192</td>\n",
       "            </tr>\n",
       "            <tr>\n",
       "                        <th id=\"T_31d0b4ba_1ed3_11eb_9278_acde48001122level0_row75\" class=\"row_heading level0 row75\" >66</th>\n",
       "                        <td id=\"T_31d0b4ba_1ed3_11eb_9278_acde48001122row75_col0\" class=\"data row75 col0\" >age_cat_5</td>\n",
       "                        <td id=\"T_31d0b4ba_1ed3_11eb_9278_acde48001122row75_col1\" class=\"data row75 col1\" >0.000183</td>\n",
       "            </tr>\n",
       "            <tr>\n",
       "                        <th id=\"T_31d0b4ba_1ed3_11eb_9278_acde48001122level0_row76\" class=\"row_heading level0 row76\" >69</th>\n",
       "                        <td id=\"T_31d0b4ba_1ed3_11eb_9278_acde48001122row76_col0\" class=\"data row76 col0\" >age_cat_8</td>\n",
       "                        <td id=\"T_31d0b4ba_1ed3_11eb_9278_acde48001122row76_col1\" class=\"data row76 col1\" >0.000160</td>\n",
       "            </tr>\n",
       "            <tr>\n",
       "                        <th id=\"T_31d0b4ba_1ed3_11eb_9278_acde48001122level0_row77\" class=\"row_heading level0 row77\" >79</th>\n",
       "                        <td id=\"T_31d0b4ba_1ed3_11eb_9278_acde48001122row77_col0\" class=\"data row77 col0\" >age_after_renovation_cat_8</td>\n",
       "                        <td id=\"T_31d0b4ba_1ed3_11eb_9278_acde48001122row77_col1\" class=\"data row77 col1\" >0.000155</td>\n",
       "            </tr>\n",
       "            <tr>\n",
       "                        <th id=\"T_31d0b4ba_1ed3_11eb_9278_acde48001122level0_row78\" class=\"row_heading level0 row78\" >77</th>\n",
       "                        <td id=\"T_31d0b4ba_1ed3_11eb_9278_acde48001122row78_col0\" class=\"data row78 col0\" >age_after_renovation_cat_6</td>\n",
       "                        <td id=\"T_31d0b4ba_1ed3_11eb_9278_acde48001122row78_col1\" class=\"data row78 col1\" >0.000154</td>\n",
       "            </tr>\n",
       "            <tr>\n",
       "                        <th id=\"T_31d0b4ba_1ed3_11eb_9278_acde48001122level0_row79\" class=\"row_heading level0 row79\" >76</th>\n",
       "                        <td id=\"T_31d0b4ba_1ed3_11eb_9278_acde48001122row79_col0\" class=\"data row79 col0\" >age_after_renovation_cat_5</td>\n",
       "                        <td id=\"T_31d0b4ba_1ed3_11eb_9278_acde48001122row79_col1\" class=\"data row79 col1\" >0.000154</td>\n",
       "            </tr>\n",
       "            <tr>\n",
       "                        <th id=\"T_31d0b4ba_1ed3_11eb_9278_acde48001122level0_row80\" class=\"row_heading level0 row80\" >78</th>\n",
       "                        <td id=\"T_31d0b4ba_1ed3_11eb_9278_acde48001122row80_col0\" class=\"data row80 col0\" >age_after_renovation_cat_7</td>\n",
       "                        <td id=\"T_31d0b4ba_1ed3_11eb_9278_acde48001122row80_col1\" class=\"data row80 col1\" >0.000154</td>\n",
       "            </tr>\n",
       "            <tr>\n",
       "                        <th id=\"T_31d0b4ba_1ed3_11eb_9278_acde48001122level0_row81\" class=\"row_heading level0 row81\" >74</th>\n",
       "                        <td id=\"T_31d0b4ba_1ed3_11eb_9278_acde48001122row81_col0\" class=\"data row81 col0\" >age_after_renovation_cat_3</td>\n",
       "                        <td id=\"T_31d0b4ba_1ed3_11eb_9278_acde48001122row81_col1\" class=\"data row81 col1\" >0.000149</td>\n",
       "            </tr>\n",
       "            <tr>\n",
       "                        <th id=\"T_31d0b4ba_1ed3_11eb_9278_acde48001122level0_row82\" class=\"row_heading level0 row82\" >53</th>\n",
       "                        <td id=\"T_31d0b4ba_1ed3_11eb_9278_acde48001122row82_col0\" class=\"data row82 col0\" >zipcode_top10_98033</td>\n",
       "                        <td id=\"T_31d0b4ba_1ed3_11eb_9278_acde48001122row82_col1\" class=\"data row82 col1\" >0.000142</td>\n",
       "            </tr>\n",
       "            <tr>\n",
       "                        <th id=\"T_31d0b4ba_1ed3_11eb_9278_acde48001122level0_row83\" class=\"row_heading level0 row83\" >64</th>\n",
       "                        <td id=\"T_31d0b4ba_1ed3_11eb_9278_acde48001122row83_col0\" class=\"data row83 col0\" >age_cat_3</td>\n",
       "                        <td id=\"T_31d0b4ba_1ed3_11eb_9278_acde48001122row83_col1\" class=\"data row83 col1\" >0.000137</td>\n",
       "            </tr>\n",
       "            <tr>\n",
       "                        <th id=\"T_31d0b4ba_1ed3_11eb_9278_acde48001122level0_row84\" class=\"row_heading level0 row84\" >68</th>\n",
       "                        <td id=\"T_31d0b4ba_1ed3_11eb_9278_acde48001122row84_col0\" class=\"data row84 col0\" >age_cat_7</td>\n",
       "                        <td id=\"T_31d0b4ba_1ed3_11eb_9278_acde48001122row84_col1\" class=\"data row84 col1\" >0.000131</td>\n",
       "            </tr>\n",
       "            <tr>\n",
       "                        <th id=\"T_31d0b4ba_1ed3_11eb_9278_acde48001122level0_row85\" class=\"row_heading level0 row85\" >23</th>\n",
       "                        <td id=\"T_31d0b4ba_1ed3_11eb_9278_acde48001122row85_col0\" class=\"data row85 col0\" >basement_bool</td>\n",
       "                        <td id=\"T_31d0b4ba_1ed3_11eb_9278_acde48001122row85_col1\" class=\"data row85 col1\" >0.000121</td>\n",
       "            </tr>\n",
       "            <tr>\n",
       "                        <th id=\"T_31d0b4ba_1ed3_11eb_9278_acde48001122level0_row86\" class=\"row_heading level0 row86\" >35</th>\n",
       "                        <td id=\"T_31d0b4ba_1ed3_11eb_9278_acde48001122row86_col0\" class=\"data row86 col0\" >condition_2</td>\n",
       "                        <td id=\"T_31d0b4ba_1ed3_11eb_9278_acde48001122row86_col1\" class=\"data row86 col1\" >0.000100</td>\n",
       "            </tr>\n",
       "            <tr>\n",
       "                        <th id=\"T_31d0b4ba_1ed3_11eb_9278_acde48001122level0_row87\" class=\"row_heading level0 row87\" >71</th>\n",
       "                        <td id=\"T_31d0b4ba_1ed3_11eb_9278_acde48001122row87_col0\" class=\"data row87 col0\" >age_after_renovation_cat_0</td>\n",
       "                        <td id=\"T_31d0b4ba_1ed3_11eb_9278_acde48001122row87_col1\" class=\"data row87 col1\" >0.000068</td>\n",
       "            </tr>\n",
       "            <tr>\n",
       "                        <th id=\"T_31d0b4ba_1ed3_11eb_9278_acde48001122level0_row88\" class=\"row_heading level0 row88\" >57</th>\n",
       "                        <td id=\"T_31d0b4ba_1ed3_11eb_9278_acde48001122row88_col0\" class=\"data row88 col0\" >zipcode_top10_98105</td>\n",
       "                        <td id=\"T_31d0b4ba_1ed3_11eb_9278_acde48001122row88_col1\" class=\"data row88 col1\" >0.000055</td>\n",
       "            </tr>\n",
       "            <tr>\n",
       "                        <th id=\"T_31d0b4ba_1ed3_11eb_9278_acde48001122level0_row89\" class=\"row_heading level0 row89\" >61</th>\n",
       "                        <td id=\"T_31d0b4ba_1ed3_11eb_9278_acde48001122row89_col0\" class=\"data row89 col0\" >age_cat_0</td>\n",
       "                        <td id=\"T_31d0b4ba_1ed3_11eb_9278_acde48001122row89_col1\" class=\"data row89 col1\" >0.000048</td>\n",
       "            </tr>\n",
       "            <tr>\n",
       "                        <th id=\"T_31d0b4ba_1ed3_11eb_9278_acde48001122level0_row90\" class=\"row_heading level0 row90\" >58</th>\n",
       "                        <td id=\"T_31d0b4ba_1ed3_11eb_9278_acde48001122row90_col0\" class=\"data row90 col0\" >zipcode_top10_98155</td>\n",
       "                        <td id=\"T_31d0b4ba_1ed3_11eb_9278_acde48001122row90_col1\" class=\"data row90 col1\" >0.000048</td>\n",
       "            </tr>\n",
       "            <tr>\n",
       "                        <th id=\"T_31d0b4ba_1ed3_11eb_9278_acde48001122level0_row91\" class=\"row_heading level0 row91\" >46</th>\n",
       "                        <td id=\"T_31d0b4ba_1ed3_11eb_9278_acde48001122row91_col0\" class=\"data row91 col0\" >grade_5</td>\n",
       "                        <td id=\"T_31d0b4ba_1ed3_11eb_9278_acde48001122row91_col1\" class=\"data row91 col1\" >0.000046</td>\n",
       "            </tr>\n",
       "            <tr>\n",
       "                        <th id=\"T_31d0b4ba_1ed3_11eb_9278_acde48001122level0_row92\" class=\"row_heading level0 row92\" >34</th>\n",
       "                        <td id=\"T_31d0b4ba_1ed3_11eb_9278_acde48001122row92_col0\" class=\"data row92 col0\" >condition_1</td>\n",
       "                        <td id=\"T_31d0b4ba_1ed3_11eb_9278_acde48001122row92_col1\" class=\"data row92 col1\" >0.000041</td>\n",
       "            </tr>\n",
       "            <tr>\n",
       "                        <th id=\"T_31d0b4ba_1ed3_11eb_9278_acde48001122level0_row93\" class=\"row_heading level0 row93\" >56</th>\n",
       "                        <td id=\"T_31d0b4ba_1ed3_11eb_9278_acde48001122row93_col0\" class=\"data row93 col0\" >zipcode_top10_98102</td>\n",
       "                        <td id=\"T_31d0b4ba_1ed3_11eb_9278_acde48001122row93_col1\" class=\"data row93 col1\" >0.000026</td>\n",
       "            </tr>\n",
       "            <tr>\n",
       "                        <th id=\"T_31d0b4ba_1ed3_11eb_9278_acde48001122level0_row94\" class=\"row_heading level0 row94\" >80</th>\n",
       "                        <td id=\"T_31d0b4ba_1ed3_11eb_9278_acde48001122row94_col0\" class=\"data row94 col0\" >age_after_renovation_cat_9</td>\n",
       "                        <td id=\"T_31d0b4ba_1ed3_11eb_9278_acde48001122row94_col1\" class=\"data row94 col1\" >0.000023</td>\n",
       "            </tr>\n",
       "            <tr>\n",
       "                        <th id=\"T_31d0b4ba_1ed3_11eb_9278_acde48001122level0_row95\" class=\"row_heading level0 row95\" >59</th>\n",
       "                        <td id=\"T_31d0b4ba_1ed3_11eb_9278_acde48001122row95_col0\" class=\"data row95 col0\" >zipcode_top10_98177</td>\n",
       "                        <td id=\"T_31d0b4ba_1ed3_11eb_9278_acde48001122row95_col1\" class=\"data row95 col1\" >0.000022</td>\n",
       "            </tr>\n",
       "            <tr>\n",
       "                        <th id=\"T_31d0b4ba_1ed3_11eb_9278_acde48001122level0_row96\" class=\"row_heading level0 row96\" >70</th>\n",
       "                        <td id=\"T_31d0b4ba_1ed3_11eb_9278_acde48001122row96_col0\" class=\"data row96 col0\" >age_cat_9</td>\n",
       "                        <td id=\"T_31d0b4ba_1ed3_11eb_9278_acde48001122row96_col1\" class=\"data row96 col1\" >0.000019</td>\n",
       "            </tr>\n",
       "            <tr>\n",
       "                        <th id=\"T_31d0b4ba_1ed3_11eb_9278_acde48001122level0_row97\" class=\"row_heading level0 row97\" >45</th>\n",
       "                        <td id=\"T_31d0b4ba_1ed3_11eb_9278_acde48001122row97_col0\" class=\"data row97 col0\" >grade_4</td>\n",
       "                        <td id=\"T_31d0b4ba_1ed3_11eb_9278_acde48001122row97_col1\" class=\"data row97 col1\" >0.000001</td>\n",
       "            </tr>\n",
       "            <tr>\n",
       "                        <th id=\"T_31d0b4ba_1ed3_11eb_9278_acde48001122level0_row98\" class=\"row_heading level0 row98\" >39</th>\n",
       "                        <td id=\"T_31d0b4ba_1ed3_11eb_9278_acde48001122row98_col0\" class=\"data row98 col0\" >grade_1</td>\n",
       "                        <td id=\"T_31d0b4ba_1ed3_11eb_9278_acde48001122row98_col1\" class=\"data row98 col1\" >0.000000</td>\n",
       "            </tr>\n",
       "            <tr>\n",
       "                        <th id=\"T_31d0b4ba_1ed3_11eb_9278_acde48001122level0_row99\" class=\"row_heading level0 row99\" >44</th>\n",
       "                        <td id=\"T_31d0b4ba_1ed3_11eb_9278_acde48001122row99_col0\" class=\"data row99 col0\" >grade_3</td>\n",
       "                        <td id=\"T_31d0b4ba_1ed3_11eb_9278_acde48001122row99_col1\" class=\"data row99 col1\" >0.000000</td>\n",
       "            </tr>\n",
       "    </tbody></table>"
      ],
      "text/plain": [
       "<pandas.io.formats.style.Styler at 0x7fe1a07d5290>"
      ]
     },
     "execution_count": 41,
     "metadata": {},
     "output_type": "execute_result"
    }
   ],
   "source": [
    "df_imp = pd.DataFrame({'feature': features,\n",
    "                      'importance': importances})\n",
    "\n",
    "df_imp.sort_values('importance', ascending=False)\\\n",
    "  .style.background_gradient(subset=['importance'])"
   ]
  },
  {
   "cell_type": "markdown",
   "metadata": {},
   "source": [
    "# Time Taken"
   ]
  },
  {
   "cell_type": "code",
   "execution_count": 42,
   "metadata": {},
   "outputs": [
    {
     "name": "stdout",
     "output_type": "stream",
     "text": [
      "Time taken to run whole notebook: 1 hr 16 min 37 secs\n"
     ]
    }
   ],
   "source": [
    "time_taken = time.time() - time_start_notebook\n",
    "h,m = divmod(time_taken,60*60)\n",
    "print('Time taken to run whole notebook: {:.0f} hr '\\\n",
    "      '{:.0f} min {:.0f} secs'.format(h, *divmod(m,60)))"
   ]
  },
  {
   "cell_type": "code",
   "execution_count": null,
   "metadata": {},
   "outputs": [],
   "source": []
  }
 ],
 "metadata": {
  "kernelspec": {
   "display_name": "Python (dataSc)",
   "language": "python",
   "name": "datasc"
  },
  "language_info": {
   "codemirror_mode": {
    "name": "ipython",
    "version": 3
   },
   "file_extension": ".py",
   "mimetype": "text/x-python",
   "name": "python",
   "nbconvert_exporter": "python",
   "pygments_lexer": "ipython3",
   "version": "3.7.7"
  },
  "toc": {
   "base_numbering": 1,
   "nav_menu": {},
   "number_sections": true,
   "sideBar": true,
   "skip_h1_title": false,
   "title_cell": "Table of Contents",
   "title_sidebar": "Contents",
   "toc_cell": true,
   "toc_position": {},
   "toc_section_display": true,
   "toc_window_display": true
  }
 },
 "nbformat": 4,
 "nbformat_minor": 4
}
