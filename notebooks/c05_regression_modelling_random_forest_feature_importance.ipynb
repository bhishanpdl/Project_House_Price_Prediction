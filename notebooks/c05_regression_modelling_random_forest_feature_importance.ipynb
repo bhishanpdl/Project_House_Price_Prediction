{
 "cells": [
  {
   "cell_type": "markdown",
   "metadata": {
    "toc": true
   },
   "source": [
    "<h1>Table of Contents<span class=\"tocSkip\"></span></h1>\n",
    "<div class=\"toc\"><ul class=\"toc-item\"><li><span><a href=\"#Imports\" data-toc-modified-id=\"Imports-1\"><span class=\"toc-item-num\">1&nbsp;&nbsp;</span>Imports</a></span></li><li><span><a href=\"#Load-the-data\" data-toc-modified-id=\"Load-the-data-2\"><span class=\"toc-item-num\">2&nbsp;&nbsp;</span>Load the data</a></span></li><li><span><a href=\"#Feature-Selection\" data-toc-modified-id=\"Feature-Selection-3\"><span class=\"toc-item-num\">3&nbsp;&nbsp;</span>Feature Selection</a></span></li><li><span><a href=\"#Random-Forest-Modelling-Raw-features\" data-toc-modified-id=\"Random-Forest-Modelling-Raw-features-4\"><span class=\"toc-item-num\">4&nbsp;&nbsp;</span>Random Forest Modelling Raw features</a></span></li><li><span><a href=\"#Random-Forest-Modelling-All-encoded-features\" data-toc-modified-id=\"Random-Forest-Modelling-All-encoded-features-5\"><span class=\"toc-item-num\">5&nbsp;&nbsp;</span>Random Forest Modelling All encoded features</a></span></li><li><span><a href=\"#Grid-Search-All-encoded\" data-toc-modified-id=\"Grid-Search-All-encoded-6\"><span class=\"toc-item-num\">6&nbsp;&nbsp;</span>Grid Search All encoded</a></span></li><li><span><a href=\"#Use-the-best-parameters-from-grid-search\" data-toc-modified-id=\"Use-the-best-parameters-from-grid-search-7\"><span class=\"toc-item-num\">7&nbsp;&nbsp;</span>Use the best parameters from grid search</a></span></li><li><span><a href=\"#Feature-Importance\" data-toc-modified-id=\"Feature-Importance-8\"><span class=\"toc-item-num\">8&nbsp;&nbsp;</span>Feature Importance</a></span><ul class=\"toc-item\"><li><span><a href=\"#feature-importance-using-yellowbrick\" data-toc-modified-id=\"feature-importance-using-yellowbrick-8.1\"><span class=\"toc-item-num\">8.1&nbsp;&nbsp;</span>feature importance using yellowbrick</a></span></li></ul></li><li><span><a href=\"#Use-features-selection-to-refit-random-forest\" data-toc-modified-id=\"Use-features-selection-to-refit-random-forest-9\"><span class=\"toc-item-num\">9&nbsp;&nbsp;</span>Use features selection to refit random forest</a></span></li><li><span><a href=\"#Feature-Importances-using-yellowbricks\" data-toc-modified-id=\"Feature-Importances-using-yellowbricks-10\"><span class=\"toc-item-num\">10&nbsp;&nbsp;</span>Feature Importances using yellowbricks</a></span></li></ul></div>"
   ]
  },
  {
   "cell_type": "markdown",
   "metadata": {},
   "source": [
    "# Imports"
   ]
  },
  {
   "cell_type": "code",
   "execution_count": 1,
   "metadata": {
    "ExecuteTime": {
     "end_time": "2019-10-11T00:23:11.935181Z",
     "start_time": "2019-10-11T00:23:10.995035Z"
    }
   },
   "outputs": [],
   "source": [
    "import numpy as np\n",
    "import pandas as pd\n",
    "\n",
    "import os\n",
    "import time\n",
    "import collections\n",
    "import itertools\n",
    "\n",
    "import sklearn\n",
    "from sklearn.preprocessing import StandardScaler\n",
    "from sklearn.model_selection import train_test_split\n",
    "from sklearn.ensemble import RandomForestRegressor\n",
    "from sklearn.metrics import mean_squared_error\n",
    "from sklearn.model_selection import cross_val_score\n",
    "\n",
    "# random state\n",
    "random_state=100\n",
    "np.random.seed(random_state) # we need this in each cell\n",
    "np.random.set_state=random_state\n",
    "\n",
    "# Jupyter notebook settings for pandas\n",
    "pd.set_option('display.float_format', '{:,.5f}'.format) # numbers sep by comma\n",
    "pd.set_option('display.max_columns', 100)\n",
    "pd.set_option('display.max_rows', 100) # None for all the rows\n",
    "pd.set_option('display.max_colwidth', 200)"
   ]
  },
  {
   "cell_type": "code",
   "execution_count": 2,
   "metadata": {
    "ExecuteTime": {
     "end_time": "2019-10-11T00:23:11.948058Z",
     "start_time": "2019-10-11T00:23:11.937217Z"
    }
   },
   "outputs": [
    {
     "data": {
      "application/javascript": [
       "IPython.OutputArea.auto_scroll_threshold = 9999;"
      ],
      "text/plain": [
       "<IPython.core.display.Javascript object>"
      ]
     },
     "metadata": {},
     "output_type": "display_data"
    }
   ],
   "source": [
    "%%javascript\n",
    "IPython.OutputArea.auto_scroll_threshold = 9999;"
   ]
  },
  {
   "cell_type": "code",
   "execution_count": 40,
   "metadata": {
    "ExecuteTime": {
     "end_time": "2019-10-11T00:46:31.304881Z",
     "start_time": "2019-10-11T00:46:31.299719Z"
    }
   },
   "outputs": [],
   "source": [
    "import matplotlib.pyplot as plt\n",
    "plt.rcParams['figure.figsize'] = 8,8\n",
    "plt.rcParams.update({'font.size': 16})\n",
    "\n",
    "plt.style.use('ggplot')\n",
    "%matplotlib inline"
   ]
  },
  {
   "cell_type": "code",
   "execution_count": 41,
   "metadata": {
    "ExecuteTime": {
     "end_time": "2019-10-11T00:46:32.007612Z",
     "start_time": "2019-10-11T00:46:32.003993Z"
    }
   },
   "outputs": [],
   "source": [
    "from yellowbrick.model_selection import FeatureImportances\n",
    "from yellowbrick.features import Rank1D\n",
    "from yellowbrick.features import Rank2D"
   ]
  },
  {
   "cell_type": "code",
   "execution_count": 3,
   "metadata": {
    "ExecuteTime": {
     "end_time": "2019-10-11T00:23:11.964565Z",
     "start_time": "2019-10-11T00:23:11.952408Z"
    }
   },
   "outputs": [],
   "source": [
    "def multiple_linear_regression(df,features,target,model,\n",
    "                               verbose=1,cv=5,test_size=0.3):\n",
    "    \"\"\" Multiple Linear Regression Modelling using given model.\n",
    "    \n",
    "    Depends:\n",
    "    Depends on function adjusted r-squared.\n",
    "    \n",
    "    \n",
    "    Returns:\n",
    "    rmse, r2_train, ar2_train, r2_test, ar2_test, cv\n",
    "    \"\"\"\n",
    "    def adjustedR2(rsquared,nrows,kcols):\n",
    "        return rsquared- (kcols-1)/(nrows-kcols) * (1-rsquared)\n",
    "    \n",
    "    # train test split\n",
    "    train, test = train_test_split(df, test_size=0.2, random_state=100)\n",
    "\n",
    "    # train test values\n",
    "    X = df[features].values\n",
    "    y = df[target].values.ravel()\n",
    "\n",
    "    Xtrain = train[features].values\n",
    "    ytrain = train[target].values.ravel()\n",
    "\n",
    "    Xtest = test[features].values\n",
    "    ytest = test[target].values.ravel()\n",
    "    \n",
    "    # fitting\n",
    "    model.fit(Xtrain,ytrain)\n",
    "\n",
    "    # prediction\n",
    "    ypreds = model.predict(Xtest)\n",
    "\n",
    "    # metrics\n",
    "    rmse = np.sqrt(mean_squared_error(ytest,ypreds)).round(3)\n",
    "    r2_train = model.score(Xtrain, ytrain).round(3)\n",
    "    r2_test = model.score(Xtest, ytest).round(3)\n",
    "\n",
    "    cv = cross_val_score(model, X, y, cv=5,n_jobs=-1,\n",
    "                         verbose=verbose).mean().round(3)\n",
    "\n",
    "    ar2_train = adjustedR2(model.score(Xtrain,ytrain),\n",
    "                           Xtrain.shape[0],\n",
    "                           len(features)).round(3)\n",
    "    ar2_test  = adjustedR2(model.score(Xtest,ytest),\n",
    "                           Xtest.shape[0] ,\n",
    "                           len(features)).round(3)\n",
    "    \n",
    "    return (rmse, r2_train, ar2_train, r2_test, ar2_test, cv)\n",
    "\n",
    "\n",
    "df_eval = pd.DataFrame({'Model': [],\n",
    "                           'Details':[],\n",
    "                           'Root Mean Squared Error (RMSE)':[],\n",
    "                           'R-squared (training)':[],\n",
    "                           'Adjusted R-squared (training)':[],\n",
    "                           'R-squared (test)':[],\n",
    "                           'Adjusted R-squared (test)':[],\n",
    "                           '5-Fold Cross Validation':[]})"
   ]
  },
  {
   "cell_type": "markdown",
   "metadata": {},
   "source": [
    "# Load the data"
   ]
  },
  {
   "cell_type": "code",
   "execution_count": 4,
   "metadata": {
    "ExecuteTime": {
     "end_time": "2019-10-11T00:23:12.198588Z",
     "start_time": "2019-10-11T00:23:11.966879Z"
    }
   },
   "outputs": [
    {
     "data": {
      "text/html": [
       "<div>\n",
       "<style scoped>\n",
       "    .dataframe tbody tr th:only-of-type {\n",
       "        vertical-align: middle;\n",
       "    }\n",
       "\n",
       "    .dataframe tbody tr th {\n",
       "        vertical-align: top;\n",
       "    }\n",
       "\n",
       "    .dataframe thead th {\n",
       "        text-align: right;\n",
       "    }\n",
       "</style>\n",
       "<table border=\"1\" class=\"dataframe\">\n",
       "  <thead>\n",
       "    <tr style=\"text-align: right;\">\n",
       "      <th></th>\n",
       "      <th>price</th>\n",
       "      <th>bedrooms</th>\n",
       "      <th>bathrooms</th>\n",
       "      <th>sqft_living</th>\n",
       "      <th>sqft_lot</th>\n",
       "      <th>floors</th>\n",
       "      <th>waterfront</th>\n",
       "      <th>view</th>\n",
       "      <th>condition</th>\n",
       "      <th>grade</th>\n",
       "      <th>sqft_above</th>\n",
       "      <th>sqft_basement</th>\n",
       "      <th>yr_built</th>\n",
       "      <th>yr_renovated</th>\n",
       "      <th>zipcode</th>\n",
       "      <th>lat</th>\n",
       "      <th>long</th>\n",
       "      <th>sqft_living15</th>\n",
       "      <th>sqft_lot15</th>\n",
       "      <th>yr_sales</th>\n",
       "      <th>age</th>\n",
       "      <th>yr_renovated2</th>\n",
       "      <th>age_after_renovation</th>\n",
       "      <th>zipcode_top10</th>\n",
       "      <th>zipcode_houses</th>\n",
       "      <th>basement_bool</th>\n",
       "      <th>renovation_bool</th>\n",
       "      <th>age_cat</th>\n",
       "      <th>age_after_renovation_cat</th>\n",
       "      <th>waterfront_0</th>\n",
       "      <th>waterfront_1</th>\n",
       "      <th>view_0</th>\n",
       "      <th>view_1</th>\n",
       "      <th>view_2</th>\n",
       "      <th>view_3</th>\n",
       "      <th>view_4</th>\n",
       "      <th>condition_1</th>\n",
       "      <th>condition_2</th>\n",
       "      <th>condition_3</th>\n",
       "      <th>condition_4</th>\n",
       "      <th>condition_5</th>\n",
       "      <th>grade_1</th>\n",
       "      <th>grade_10</th>\n",
       "      <th>grade_11</th>\n",
       "      <th>grade_12</th>\n",
       "      <th>grade_13</th>\n",
       "      <th>grade_3</th>\n",
       "      <th>grade_4</th>\n",
       "      <th>grade_5</th>\n",
       "      <th>grade_6</th>\n",
       "      <th>grade_7</th>\n",
       "      <th>grade_8</th>\n",
       "      <th>grade_9</th>\n",
       "      <th>zipcode_top10_98004</th>\n",
       "      <th>zipcode_top10_98006</th>\n",
       "      <th>zipcode_top10_98033</th>\n",
       "      <th>zipcode_top10_98039</th>\n",
       "      <th>zipcode_top10_98040</th>\n",
       "      <th>zipcode_top10_98102</th>\n",
       "      <th>zipcode_top10_98105</th>\n",
       "      <th>zipcode_top10_98155</th>\n",
       "      <th>zipcode_top10_98177</th>\n",
       "      <th>zipcode_top10_others</th>\n",
       "      <th>age_cat_0</th>\n",
       "      <th>age_cat_1</th>\n",
       "      <th>age_cat_2</th>\n",
       "      <th>age_cat_3</th>\n",
       "      <th>age_cat_4</th>\n",
       "      <th>age_cat_5</th>\n",
       "      <th>age_cat_6</th>\n",
       "      <th>age_cat_7</th>\n",
       "      <th>age_cat_8</th>\n",
       "      <th>age_cat_9</th>\n",
       "      <th>age_after_renovation_cat_0</th>\n",
       "      <th>age_after_renovation_cat_1</th>\n",
       "      <th>age_after_renovation_cat_2</th>\n",
       "      <th>age_after_renovation_cat_3</th>\n",
       "      <th>age_after_renovation_cat_4</th>\n",
       "      <th>age_after_renovation_cat_5</th>\n",
       "      <th>age_after_renovation_cat_6</th>\n",
       "      <th>age_after_renovation_cat_7</th>\n",
       "      <th>age_after_renovation_cat_8</th>\n",
       "      <th>age_after_renovation_cat_9</th>\n",
       "      <th>log1p_price</th>\n",
       "      <th>log1p_sqft_living</th>\n",
       "      <th>log1p_sqft_lot</th>\n",
       "      <th>log1p_sqft_above</th>\n",
       "      <th>log1p_sqft_basement</th>\n",
       "      <th>log1p_sqft_living15</th>\n",
       "      <th>log1p_sqft_lot15</th>\n",
       "    </tr>\n",
       "  </thead>\n",
       "  <tbody>\n",
       "    <tr>\n",
       "      <th>0</th>\n",
       "      <td>221,900.00000</td>\n",
       "      <td>3</td>\n",
       "      <td>1.00000</td>\n",
       "      <td>1180</td>\n",
       "      <td>5650</td>\n",
       "      <td>1.00000</td>\n",
       "      <td>0</td>\n",
       "      <td>0</td>\n",
       "      <td>3</td>\n",
       "      <td>7</td>\n",
       "      <td>1180</td>\n",
       "      <td>0</td>\n",
       "      <td>1955</td>\n",
       "      <td>0</td>\n",
       "      <td>98178</td>\n",
       "      <td>47.51120</td>\n",
       "      <td>-122.25700</td>\n",
       "      <td>1340</td>\n",
       "      <td>5650</td>\n",
       "      <td>2014</td>\n",
       "      <td>59</td>\n",
       "      <td>1955</td>\n",
       "      <td>59</td>\n",
       "      <td>others</td>\n",
       "      <td>262</td>\n",
       "      <td>0</td>\n",
       "      <td>0</td>\n",
       "      <td>5</td>\n",
       "      <td>5</td>\n",
       "      <td>1</td>\n",
       "      <td>0</td>\n",
       "      <td>1</td>\n",
       "      <td>0</td>\n",
       "      <td>0</td>\n",
       "      <td>0</td>\n",
       "      <td>0</td>\n",
       "      <td>0</td>\n",
       "      <td>0</td>\n",
       "      <td>1</td>\n",
       "      <td>0</td>\n",
       "      <td>0</td>\n",
       "      <td>0</td>\n",
       "      <td>0</td>\n",
       "      <td>0</td>\n",
       "      <td>0</td>\n",
       "      <td>0</td>\n",
       "      <td>0</td>\n",
       "      <td>0</td>\n",
       "      <td>0</td>\n",
       "      <td>0</td>\n",
       "      <td>1</td>\n",
       "      <td>0</td>\n",
       "      <td>0</td>\n",
       "      <td>0</td>\n",
       "      <td>0</td>\n",
       "      <td>0</td>\n",
       "      <td>0</td>\n",
       "      <td>0</td>\n",
       "      <td>0</td>\n",
       "      <td>0</td>\n",
       "      <td>0</td>\n",
       "      <td>0</td>\n",
       "      <td>1</td>\n",
       "      <td>0</td>\n",
       "      <td>0</td>\n",
       "      <td>0</td>\n",
       "      <td>0</td>\n",
       "      <td>0</td>\n",
       "      <td>1</td>\n",
       "      <td>0</td>\n",
       "      <td>0</td>\n",
       "      <td>0</td>\n",
       "      <td>0</td>\n",
       "      <td>0</td>\n",
       "      <td>0</td>\n",
       "      <td>0</td>\n",
       "      <td>0</td>\n",
       "      <td>0</td>\n",
       "      <td>1</td>\n",
       "      <td>0</td>\n",
       "      <td>0</td>\n",
       "      <td>0</td>\n",
       "      <td>0</td>\n",
       "      <td>12.30999</td>\n",
       "      <td>7.07412</td>\n",
       "      <td>8.63959</td>\n",
       "      <td>7.07412</td>\n",
       "      <td>0.00000</td>\n",
       "      <td>7.20117</td>\n",
       "      <td>8.63959</td>\n",
       "    </tr>\n",
       "    <tr>\n",
       "      <th>1</th>\n",
       "      <td>538,000.00000</td>\n",
       "      <td>3</td>\n",
       "      <td>2.25000</td>\n",
       "      <td>2570</td>\n",
       "      <td>7242</td>\n",
       "      <td>2.00000</td>\n",
       "      <td>0</td>\n",
       "      <td>0</td>\n",
       "      <td>3</td>\n",
       "      <td>7</td>\n",
       "      <td>2170</td>\n",
       "      <td>400</td>\n",
       "      <td>1951</td>\n",
       "      <td>1991</td>\n",
       "      <td>98125</td>\n",
       "      <td>47.72100</td>\n",
       "      <td>-122.31900</td>\n",
       "      <td>1690</td>\n",
       "      <td>7639</td>\n",
       "      <td>2014</td>\n",
       "      <td>63</td>\n",
       "      <td>1991</td>\n",
       "      <td>23</td>\n",
       "      <td>others</td>\n",
       "      <td>410</td>\n",
       "      <td>1</td>\n",
       "      <td>1</td>\n",
       "      <td>5</td>\n",
       "      <td>2</td>\n",
       "      <td>1</td>\n",
       "      <td>0</td>\n",
       "      <td>1</td>\n",
       "      <td>0</td>\n",
       "      <td>0</td>\n",
       "      <td>0</td>\n",
       "      <td>0</td>\n",
       "      <td>0</td>\n",
       "      <td>0</td>\n",
       "      <td>1</td>\n",
       "      <td>0</td>\n",
       "      <td>0</td>\n",
       "      <td>0</td>\n",
       "      <td>0</td>\n",
       "      <td>0</td>\n",
       "      <td>0</td>\n",
       "      <td>0</td>\n",
       "      <td>0</td>\n",
       "      <td>0</td>\n",
       "      <td>0</td>\n",
       "      <td>0</td>\n",
       "      <td>1</td>\n",
       "      <td>0</td>\n",
       "      <td>0</td>\n",
       "      <td>0</td>\n",
       "      <td>0</td>\n",
       "      <td>0</td>\n",
       "      <td>0</td>\n",
       "      <td>0</td>\n",
       "      <td>0</td>\n",
       "      <td>0</td>\n",
       "      <td>0</td>\n",
       "      <td>0</td>\n",
       "      <td>1</td>\n",
       "      <td>0</td>\n",
       "      <td>0</td>\n",
       "      <td>0</td>\n",
       "      <td>0</td>\n",
       "      <td>0</td>\n",
       "      <td>1</td>\n",
       "      <td>0</td>\n",
       "      <td>0</td>\n",
       "      <td>0</td>\n",
       "      <td>0</td>\n",
       "      <td>0</td>\n",
       "      <td>0</td>\n",
       "      <td>1</td>\n",
       "      <td>0</td>\n",
       "      <td>0</td>\n",
       "      <td>0</td>\n",
       "      <td>0</td>\n",
       "      <td>0</td>\n",
       "      <td>0</td>\n",
       "      <td>0</td>\n",
       "      <td>13.19562</td>\n",
       "      <td>7.85205</td>\n",
       "      <td>8.88779</td>\n",
       "      <td>7.68294</td>\n",
       "      <td>5.99396</td>\n",
       "      <td>7.43308</td>\n",
       "      <td>8.94115</td>\n",
       "    </tr>\n",
       "    <tr>\n",
       "      <th>2</th>\n",
       "      <td>180,000.00000</td>\n",
       "      <td>2</td>\n",
       "      <td>1.00000</td>\n",
       "      <td>770</td>\n",
       "      <td>10000</td>\n",
       "      <td>1.00000</td>\n",
       "      <td>0</td>\n",
       "      <td>0</td>\n",
       "      <td>3</td>\n",
       "      <td>6</td>\n",
       "      <td>770</td>\n",
       "      <td>0</td>\n",
       "      <td>1933</td>\n",
       "      <td>0</td>\n",
       "      <td>98028</td>\n",
       "      <td>47.73790</td>\n",
       "      <td>-122.23300</td>\n",
       "      <td>2720</td>\n",
       "      <td>8062</td>\n",
       "      <td>2015</td>\n",
       "      <td>82</td>\n",
       "      <td>1933</td>\n",
       "      <td>82</td>\n",
       "      <td>others</td>\n",
       "      <td>283</td>\n",
       "      <td>0</td>\n",
       "      <td>0</td>\n",
       "      <td>7</td>\n",
       "      <td>7</td>\n",
       "      <td>1</td>\n",
       "      <td>0</td>\n",
       "      <td>1</td>\n",
       "      <td>0</td>\n",
       "      <td>0</td>\n",
       "      <td>0</td>\n",
       "      <td>0</td>\n",
       "      <td>0</td>\n",
       "      <td>0</td>\n",
       "      <td>1</td>\n",
       "      <td>0</td>\n",
       "      <td>0</td>\n",
       "      <td>0</td>\n",
       "      <td>0</td>\n",
       "      <td>0</td>\n",
       "      <td>0</td>\n",
       "      <td>0</td>\n",
       "      <td>0</td>\n",
       "      <td>0</td>\n",
       "      <td>0</td>\n",
       "      <td>1</td>\n",
       "      <td>0</td>\n",
       "      <td>0</td>\n",
       "      <td>0</td>\n",
       "      <td>0</td>\n",
       "      <td>0</td>\n",
       "      <td>0</td>\n",
       "      <td>0</td>\n",
       "      <td>0</td>\n",
       "      <td>0</td>\n",
       "      <td>0</td>\n",
       "      <td>0</td>\n",
       "      <td>0</td>\n",
       "      <td>1</td>\n",
       "      <td>0</td>\n",
       "      <td>0</td>\n",
       "      <td>0</td>\n",
       "      <td>0</td>\n",
       "      <td>0</td>\n",
       "      <td>0</td>\n",
       "      <td>0</td>\n",
       "      <td>1</td>\n",
       "      <td>0</td>\n",
       "      <td>0</td>\n",
       "      <td>0</td>\n",
       "      <td>0</td>\n",
       "      <td>0</td>\n",
       "      <td>0</td>\n",
       "      <td>0</td>\n",
       "      <td>0</td>\n",
       "      <td>0</td>\n",
       "      <td>1</td>\n",
       "      <td>0</td>\n",
       "      <td>0</td>\n",
       "      <td>12.10072</td>\n",
       "      <td>6.64769</td>\n",
       "      <td>9.21044</td>\n",
       "      <td>6.64769</td>\n",
       "      <td>0.00000</td>\n",
       "      <td>7.90875</td>\n",
       "      <td>8.99504</td>\n",
       "    </tr>\n",
       "    <tr>\n",
       "      <th>3</th>\n",
       "      <td>604,000.00000</td>\n",
       "      <td>4</td>\n",
       "      <td>3.00000</td>\n",
       "      <td>1960</td>\n",
       "      <td>5000</td>\n",
       "      <td>1.00000</td>\n",
       "      <td>0</td>\n",
       "      <td>0</td>\n",
       "      <td>5</td>\n",
       "      <td>7</td>\n",
       "      <td>1050</td>\n",
       "      <td>910</td>\n",
       "      <td>1965</td>\n",
       "      <td>0</td>\n",
       "      <td>98136</td>\n",
       "      <td>47.52080</td>\n",
       "      <td>-122.39300</td>\n",
       "      <td>1360</td>\n",
       "      <td>5000</td>\n",
       "      <td>2014</td>\n",
       "      <td>49</td>\n",
       "      <td>1965</td>\n",
       "      <td>49</td>\n",
       "      <td>others</td>\n",
       "      <td>263</td>\n",
       "      <td>1</td>\n",
       "      <td>0</td>\n",
       "      <td>4</td>\n",
       "      <td>4</td>\n",
       "      <td>1</td>\n",
       "      <td>0</td>\n",
       "      <td>1</td>\n",
       "      <td>0</td>\n",
       "      <td>0</td>\n",
       "      <td>0</td>\n",
       "      <td>0</td>\n",
       "      <td>0</td>\n",
       "      <td>0</td>\n",
       "      <td>0</td>\n",
       "      <td>0</td>\n",
       "      <td>1</td>\n",
       "      <td>0</td>\n",
       "      <td>0</td>\n",
       "      <td>0</td>\n",
       "      <td>0</td>\n",
       "      <td>0</td>\n",
       "      <td>0</td>\n",
       "      <td>0</td>\n",
       "      <td>0</td>\n",
       "      <td>0</td>\n",
       "      <td>1</td>\n",
       "      <td>0</td>\n",
       "      <td>0</td>\n",
       "      <td>0</td>\n",
       "      <td>0</td>\n",
       "      <td>0</td>\n",
       "      <td>0</td>\n",
       "      <td>0</td>\n",
       "      <td>0</td>\n",
       "      <td>0</td>\n",
       "      <td>0</td>\n",
       "      <td>0</td>\n",
       "      <td>1</td>\n",
       "      <td>0</td>\n",
       "      <td>0</td>\n",
       "      <td>0</td>\n",
       "      <td>0</td>\n",
       "      <td>1</td>\n",
       "      <td>0</td>\n",
       "      <td>0</td>\n",
       "      <td>0</td>\n",
       "      <td>0</td>\n",
       "      <td>0</td>\n",
       "      <td>0</td>\n",
       "      <td>0</td>\n",
       "      <td>0</td>\n",
       "      <td>0</td>\n",
       "      <td>1</td>\n",
       "      <td>0</td>\n",
       "      <td>0</td>\n",
       "      <td>0</td>\n",
       "      <td>0</td>\n",
       "      <td>0</td>\n",
       "      <td>13.31133</td>\n",
       "      <td>7.58121</td>\n",
       "      <td>8.51739</td>\n",
       "      <td>6.95750</td>\n",
       "      <td>6.81454</td>\n",
       "      <td>7.21598</td>\n",
       "      <td>8.51739</td>\n",
       "    </tr>\n",
       "    <tr>\n",
       "      <th>4</th>\n",
       "      <td>510,000.00000</td>\n",
       "      <td>3</td>\n",
       "      <td>2.00000</td>\n",
       "      <td>1680</td>\n",
       "      <td>8080</td>\n",
       "      <td>1.00000</td>\n",
       "      <td>0</td>\n",
       "      <td>0</td>\n",
       "      <td>3</td>\n",
       "      <td>8</td>\n",
       "      <td>1680</td>\n",
       "      <td>0</td>\n",
       "      <td>1987</td>\n",
       "      <td>0</td>\n",
       "      <td>98074</td>\n",
       "      <td>47.61680</td>\n",
       "      <td>-122.04500</td>\n",
       "      <td>1800</td>\n",
       "      <td>7503</td>\n",
       "      <td>2015</td>\n",
       "      <td>28</td>\n",
       "      <td>1987</td>\n",
       "      <td>28</td>\n",
       "      <td>others</td>\n",
       "      <td>441</td>\n",
       "      <td>0</td>\n",
       "      <td>0</td>\n",
       "      <td>2</td>\n",
       "      <td>2</td>\n",
       "      <td>1</td>\n",
       "      <td>0</td>\n",
       "      <td>1</td>\n",
       "      <td>0</td>\n",
       "      <td>0</td>\n",
       "      <td>0</td>\n",
       "      <td>0</td>\n",
       "      <td>0</td>\n",
       "      <td>0</td>\n",
       "      <td>1</td>\n",
       "      <td>0</td>\n",
       "      <td>0</td>\n",
       "      <td>0</td>\n",
       "      <td>0</td>\n",
       "      <td>0</td>\n",
       "      <td>0</td>\n",
       "      <td>0</td>\n",
       "      <td>0</td>\n",
       "      <td>0</td>\n",
       "      <td>0</td>\n",
       "      <td>0</td>\n",
       "      <td>0</td>\n",
       "      <td>1</td>\n",
       "      <td>0</td>\n",
       "      <td>0</td>\n",
       "      <td>0</td>\n",
       "      <td>0</td>\n",
       "      <td>0</td>\n",
       "      <td>0</td>\n",
       "      <td>0</td>\n",
       "      <td>0</td>\n",
       "      <td>0</td>\n",
       "      <td>0</td>\n",
       "      <td>1</td>\n",
       "      <td>0</td>\n",
       "      <td>0</td>\n",
       "      <td>1</td>\n",
       "      <td>0</td>\n",
       "      <td>0</td>\n",
       "      <td>0</td>\n",
       "      <td>0</td>\n",
       "      <td>0</td>\n",
       "      <td>0</td>\n",
       "      <td>0</td>\n",
       "      <td>0</td>\n",
       "      <td>0</td>\n",
       "      <td>1</td>\n",
       "      <td>0</td>\n",
       "      <td>0</td>\n",
       "      <td>0</td>\n",
       "      <td>0</td>\n",
       "      <td>0</td>\n",
       "      <td>0</td>\n",
       "      <td>0</td>\n",
       "      <td>13.14217</td>\n",
       "      <td>7.42714</td>\n",
       "      <td>8.99727</td>\n",
       "      <td>7.42714</td>\n",
       "      <td>0.00000</td>\n",
       "      <td>7.49610</td>\n",
       "      <td>8.92319</td>\n",
       "    </tr>\n",
       "  </tbody>\n",
       "</table>\n",
       "</div>"
      ],
      "text/plain": [
       "          price  bedrooms  bathrooms  sqft_living  sqft_lot  floors  \\\n",
       "0 221,900.00000         3    1.00000         1180      5650 1.00000   \n",
       "1 538,000.00000         3    2.25000         2570      7242 2.00000   \n",
       "2 180,000.00000         2    1.00000          770     10000 1.00000   \n",
       "3 604,000.00000         4    3.00000         1960      5000 1.00000   \n",
       "4 510,000.00000         3    2.00000         1680      8080 1.00000   \n",
       "\n",
       "   waterfront  view  condition  grade  sqft_above  sqft_basement  yr_built  \\\n",
       "0           0     0          3      7        1180              0      1955   \n",
       "1           0     0          3      7        2170            400      1951   \n",
       "2           0     0          3      6         770              0      1933   \n",
       "3           0     0          5      7        1050            910      1965   \n",
       "4           0     0          3      8        1680              0      1987   \n",
       "\n",
       "   yr_renovated  zipcode      lat       long  sqft_living15  sqft_lot15  \\\n",
       "0             0    98178 47.51120 -122.25700           1340        5650   \n",
       "1          1991    98125 47.72100 -122.31900           1690        7639   \n",
       "2             0    98028 47.73790 -122.23300           2720        8062   \n",
       "3             0    98136 47.52080 -122.39300           1360        5000   \n",
       "4             0    98074 47.61680 -122.04500           1800        7503   \n",
       "\n",
       "   yr_sales  age  yr_renovated2  age_after_renovation zipcode_top10  \\\n",
       "0      2014   59           1955                    59        others   \n",
       "1      2014   63           1991                    23        others   \n",
       "2      2015   82           1933                    82        others   \n",
       "3      2014   49           1965                    49        others   \n",
       "4      2015   28           1987                    28        others   \n",
       "\n",
       "   zipcode_houses  basement_bool  renovation_bool  age_cat  \\\n",
       "0             262              0                0        5   \n",
       "1             410              1                1        5   \n",
       "2             283              0                0        7   \n",
       "3             263              1                0        4   \n",
       "4             441              0                0        2   \n",
       "\n",
       "   age_after_renovation_cat  waterfront_0  waterfront_1  view_0  view_1  \\\n",
       "0                         5             1             0       1       0   \n",
       "1                         2             1             0       1       0   \n",
       "2                         7             1             0       1       0   \n",
       "3                         4             1             0       1       0   \n",
       "4                         2             1             0       1       0   \n",
       "\n",
       "   view_2  view_3  view_4  condition_1  condition_2  condition_3  condition_4  \\\n",
       "0       0       0       0            0            0            1            0   \n",
       "1       0       0       0            0            0            1            0   \n",
       "2       0       0       0            0            0            1            0   \n",
       "3       0       0       0            0            0            0            0   \n",
       "4       0       0       0            0            0            1            0   \n",
       "\n",
       "   condition_5  grade_1  grade_10  grade_11  grade_12  grade_13  grade_3  \\\n",
       "0            0        0         0         0         0         0        0   \n",
       "1            0        0         0         0         0         0        0   \n",
       "2            0        0         0         0         0         0        0   \n",
       "3            1        0         0         0         0         0        0   \n",
       "4            0        0         0         0         0         0        0   \n",
       "\n",
       "   grade_4  grade_5  grade_6  grade_7  grade_8  grade_9  zipcode_top10_98004  \\\n",
       "0        0        0        0        1        0        0                    0   \n",
       "1        0        0        0        1        0        0                    0   \n",
       "2        0        0        1        0        0        0                    0   \n",
       "3        0        0        0        1        0        0                    0   \n",
       "4        0        0        0        0        1        0                    0   \n",
       "\n",
       "   zipcode_top10_98006  zipcode_top10_98033  zipcode_top10_98039  \\\n",
       "0                    0                    0                    0   \n",
       "1                    0                    0                    0   \n",
       "2                    0                    0                    0   \n",
       "3                    0                    0                    0   \n",
       "4                    0                    0                    0   \n",
       "\n",
       "   zipcode_top10_98040  zipcode_top10_98102  zipcode_top10_98105  \\\n",
       "0                    0                    0                    0   \n",
       "1                    0                    0                    0   \n",
       "2                    0                    0                    0   \n",
       "3                    0                    0                    0   \n",
       "4                    0                    0                    0   \n",
       "\n",
       "   zipcode_top10_98155  zipcode_top10_98177  zipcode_top10_others  age_cat_0  \\\n",
       "0                    0                    0                     1          0   \n",
       "1                    0                    0                     1          0   \n",
       "2                    0                    0                     1          0   \n",
       "3                    0                    0                     1          0   \n",
       "4                    0                    0                     1          0   \n",
       "\n",
       "   age_cat_1  age_cat_2  age_cat_3  age_cat_4  age_cat_5  age_cat_6  \\\n",
       "0          0          0          0          0          1          0   \n",
       "1          0          0          0          0          1          0   \n",
       "2          0          0          0          0          0          0   \n",
       "3          0          0          0          1          0          0   \n",
       "4          0          1          0          0          0          0   \n",
       "\n",
       "   age_cat_7  age_cat_8  age_cat_9  age_after_renovation_cat_0  \\\n",
       "0          0          0          0                           0   \n",
       "1          0          0          0                           0   \n",
       "2          1          0          0                           0   \n",
       "3          0          0          0                           0   \n",
       "4          0          0          0                           0   \n",
       "\n",
       "   age_after_renovation_cat_1  age_after_renovation_cat_2  \\\n",
       "0                           0                           0   \n",
       "1                           0                           1   \n",
       "2                           0                           0   \n",
       "3                           0                           0   \n",
       "4                           0                           1   \n",
       "\n",
       "   age_after_renovation_cat_3  age_after_renovation_cat_4  \\\n",
       "0                           0                           0   \n",
       "1                           0                           0   \n",
       "2                           0                           0   \n",
       "3                           0                           1   \n",
       "4                           0                           0   \n",
       "\n",
       "   age_after_renovation_cat_5  age_after_renovation_cat_6  \\\n",
       "0                           1                           0   \n",
       "1                           0                           0   \n",
       "2                           0                           0   \n",
       "3                           0                           0   \n",
       "4                           0                           0   \n",
       "\n",
       "   age_after_renovation_cat_7  age_after_renovation_cat_8  \\\n",
       "0                           0                           0   \n",
       "1                           0                           0   \n",
       "2                           1                           0   \n",
       "3                           0                           0   \n",
       "4                           0                           0   \n",
       "\n",
       "   age_after_renovation_cat_9  log1p_price  log1p_sqft_living  log1p_sqft_lot  \\\n",
       "0                           0     12.30999            7.07412         8.63959   \n",
       "1                           0     13.19562            7.85205         8.88779   \n",
       "2                           0     12.10072            6.64769         9.21044   \n",
       "3                           0     13.31133            7.58121         8.51739   \n",
       "4                           0     13.14217            7.42714         8.99727   \n",
       "\n",
       "   log1p_sqft_above  log1p_sqft_basement  log1p_sqft_living15  \\\n",
       "0           7.07412              0.00000              7.20117   \n",
       "1           7.68294              5.99396              7.43308   \n",
       "2           6.64769              0.00000              7.90875   \n",
       "3           6.95750              6.81454              7.21598   \n",
       "4           7.42714              0.00000              7.49610   \n",
       "\n",
       "   log1p_sqft_lot15  \n",
       "0           8.63959  \n",
       "1           8.94115  \n",
       "2           8.99504  \n",
       "3           8.51739  \n",
       "4           8.92319  "
      ]
     },
     "execution_count": 4,
     "metadata": {},
     "output_type": "execute_result"
    }
   ],
   "source": [
    "df = df = pd.read_csv('../data/processed/data_cleaned_encoded.csv')\n",
    "\n",
    "df_raw = df.copy(deep=True)\n",
    "df.drop(['id','date'],axis=1,inplace=True)\n",
    "df.head()"
   ]
  },
  {
   "cell_type": "markdown",
   "metadata": {},
   "source": [
    "# Feature Selection"
   ]
  },
  {
   "cell_type": "code",
   "execution_count": 5,
   "metadata": {
    "ExecuteTime": {
     "end_time": "2019-10-11T00:23:12.216972Z",
     "start_time": "2019-10-11T00:23:12.200494Z"
    }
   },
   "outputs": [
    {
     "data": {
      "text/plain": [
       "array(['price', 'bedrooms', 'bathrooms', 'sqft_living', 'sqft_lot',\n",
       "       'floors', 'waterfront', 'view', 'condition', 'grade', 'sqft_above',\n",
       "       'sqft_basement', 'yr_built', 'yr_renovated', 'zipcode', 'lat',\n",
       "       'long', 'sqft_living15', 'sqft_lot15', 'yr_sales', 'age',\n",
       "       'yr_renovated2', 'age_after_renovation', 'zipcode_top10',\n",
       "       'zipcode_houses', 'basement_bool', 'renovation_bool', 'age_cat',\n",
       "       'age_after_renovation_cat', 'waterfront_0', 'waterfront_1',\n",
       "       'view_0', 'view_1', 'view_2', 'view_3', 'view_4', 'condition_1',\n",
       "       'condition_2', 'condition_3', 'condition_4', 'condition_5',\n",
       "       'grade_1', 'grade_10', 'grade_11', 'grade_12', 'grade_13',\n",
       "       'grade_3', 'grade_4', 'grade_5', 'grade_6', 'grade_7', 'grade_8',\n",
       "       'grade_9', 'zipcode_top10_98004', 'zipcode_top10_98006',\n",
       "       'zipcode_top10_98033', 'zipcode_top10_98039',\n",
       "       'zipcode_top10_98040', 'zipcode_top10_98102',\n",
       "       'zipcode_top10_98105', 'zipcode_top10_98155',\n",
       "       'zipcode_top10_98177', 'zipcode_top10_others', 'age_cat_0',\n",
       "       'age_cat_1', 'age_cat_2', 'age_cat_3', 'age_cat_4', 'age_cat_5',\n",
       "       'age_cat_6', 'age_cat_7', 'age_cat_8', 'age_cat_9',\n",
       "       'age_after_renovation_cat_0', 'age_after_renovation_cat_1',\n",
       "       'age_after_renovation_cat_2', 'age_after_renovation_cat_3',\n",
       "       'age_after_renovation_cat_4', 'age_after_renovation_cat_5',\n",
       "       'age_after_renovation_cat_6', 'age_after_renovation_cat_7',\n",
       "       'age_after_renovation_cat_8', 'age_after_renovation_cat_9',\n",
       "       'log1p_price', 'log1p_sqft_living', 'log1p_sqft_lot',\n",
       "       'log1p_sqft_above', 'log1p_sqft_basement', 'log1p_sqft_living15',\n",
       "       'log1p_sqft_lot15'], dtype=object)"
      ]
     },
     "execution_count": 5,
     "metadata": {},
     "output_type": "execute_result"
    }
   ],
   "source": [
    "df.columns.values"
   ]
  },
  {
   "cell_type": "code",
   "execution_count": 6,
   "metadata": {
    "ExecuteTime": {
     "end_time": "2019-10-11T00:23:12.230028Z",
     "start_time": "2019-10-11T00:23:12.219670Z"
    }
   },
   "outputs": [
    {
     "data": {
      "text/plain": [
       "Index(['waterfront_0', 'waterfront_1', 'view_0', 'view_1', 'view_2', 'view_3',\n",
       "       'view_4', 'condition_1', 'condition_2', 'condition_3', 'condition_4',\n",
       "       'condition_5', 'grade_1', 'grade_10', 'grade_11', 'grade_12',\n",
       "       'grade_13', 'grade_3', 'grade_4', 'grade_5', 'grade_6', 'grade_7',\n",
       "       'grade_8', 'grade_9', 'zipcode_top10_98004', 'zipcode_top10_98006',\n",
       "       'zipcode_top10_98033', 'zipcode_top10_98039', 'zipcode_top10_98040',\n",
       "       'zipcode_top10_98102', 'zipcode_top10_98105', 'zipcode_top10_98155',\n",
       "       'zipcode_top10_98177', 'age_cat_0', 'age_cat_1', 'age_cat_2',\n",
       "       'age_cat_3', 'age_cat_4', 'age_cat_5', 'age_cat_6', 'age_cat_7',\n",
       "       'age_cat_8', 'age_cat_9', 'age_after_renovation_cat_0',\n",
       "       'age_after_renovation_cat_1', 'age_after_renovation_cat_2',\n",
       "       'age_after_renovation_cat_3', 'age_after_renovation_cat_4',\n",
       "       'age_after_renovation_cat_5', 'age_after_renovation_cat_6',\n",
       "       'age_after_renovation_cat_7', 'age_after_renovation_cat_8',\n",
       "       'age_after_renovation_cat_9'],\n",
       "      dtype='object')"
      ]
     },
     "execution_count": 6,
     "metadata": {},
     "output_type": "execute_result"
    }
   ],
   "source": [
    "df.filter(regex='_\\d').columns"
   ]
  },
  {
   "cell_type": "code",
   "execution_count": 7,
   "metadata": {
    "ExecuteTime": {
     "end_time": "2019-10-11T00:23:12.244441Z",
     "start_time": "2019-10-11T00:23:12.232214Z"
    }
   },
   "outputs": [
    {
     "data": {
      "text/plain": [
       "Index(['id', 'date', 'price', 'bedrooms', 'bathrooms', 'sqft_living',\n",
       "       'sqft_lot', 'floors', 'waterfront', 'view', 'condition', 'grade',\n",
       "       'sqft_above', 'sqft_basement', 'yr_built', 'yr_renovated', 'zipcode',\n",
       "       'lat', 'long', 'sqft_living15', 'sqft_lot15'],\n",
       "      dtype='object')"
      ]
     },
     "execution_count": 7,
     "metadata": {},
     "output_type": "execute_result"
    }
   ],
   "source": [
    "df_orig = pd.read_csv('../data/raw/kc_house_data.csv',nrows=1)\n",
    "df_orig.columns"
   ]
  },
  {
   "cell_type": "code",
   "execution_count": 8,
   "metadata": {
    "ExecuteTime": {
     "end_time": "2019-10-11T00:23:12.256791Z",
     "start_time": "2019-10-11T00:23:12.246466Z"
    }
   },
   "outputs": [],
   "source": [
    "features_orig = ['bedrooms', 'bathrooms', 'sqft_living',\n",
    "       'sqft_lot', 'floors', 'waterfront', 'view', 'condition', 'grade',\n",
    "       'sqft_above', 'sqft_basement', 'yr_built', 'yr_renovated', 'zipcode',\n",
    "       'lat', 'long', 'sqft_living15', 'sqft_lot15']\n",
    "\n",
    "cols_num = ['bedrooms', 'bathrooms',\n",
    "            'sqft_living', 'sqft_lot','sqft_above','sqft_basement',\n",
    "            'yr_built', 'yr_renovated',\n",
    "           'lat','long',\n",
    "           'sqft_living15', 'sqft_lot15', 'yr_sales']\n",
    "\n",
    "cols_bool = ['basement_bool', 'renovation_bool']\n",
    "\n",
    "cols_new = ['zipcode_houses']\n",
    "\n",
    "cols_cat = [\n",
    "    # waterfront\n",
    "    'waterfront_0', 'waterfront_1',\n",
    "    \n",
    "    #view\n",
    "    'view_0', 'view_1', 'view_2', 'view_3','view_4',\n",
    "    \n",
    "    # condition\n",
    "    'condition_1', 'condition_2', 'condition_3',\n",
    "    'condition_4','condition_5',\n",
    "    \n",
    "    # grade\n",
    "    'grade_1', 'grade_10', 'grade_11', 'grade_12','grade_13',\n",
    "    'grade_3', 'grade_4', 'grade_5', 'grade_6', 'grade_7','grade_8', 'grade_9',\n",
    "            \n",
    "    # zipcode\n",
    "    'zipcode_top10_98004', 'zipcode_top10_98006',\n",
    "    'zipcode_top10_98033', 'zipcode_top10_98039',\n",
    "    'zipcode_top10_98040','zipcode_top10_98102',\n",
    "    'zipcode_top10_98105', 'zipcode_top10_98155',\n",
    "    'zipcode_top10_98177']\n",
    "\n",
    "\n",
    "\n",
    "cols_cat_age = [ 'age_cat_0', 'age_cat_1', 'age_cat_2',\n",
    "                               'age_cat_3', 'age_cat_4', 'age_cat_5',\n",
    "                               'age_cat_6', 'age_cat_7', 'age_cat_8',\n",
    "                               'age_cat_9']\n",
    "\n",
    "cols_cat_agernv = [\n",
    "                'age_after_renovation_cat_0','age_after_renovation_cat_1',\n",
    "                'age_after_renovation_cat_2', 'age_after_renovation_cat_3',\n",
    "                'age_after_renovation_cat_4', 'age_after_renovation_cat_5',\n",
    "                'age_after_renovation_cat_6', 'age_after_renovation_cat_7',\n",
    "                'age_after_renovation_cat_8', 'age_after_renovation_cat_9']\n",
    "\n",
    "features_all_encoded = cols_num + cols_bool + cols_new + cols_cat + cols_cat_age + cols_cat_agernv\n",
    "target = ['price']"
   ]
  },
  {
   "cell_type": "markdown",
   "metadata": {},
   "source": [
    "# Random Forest Modelling Raw features"
   ]
  },
  {
   "cell_type": "code",
   "execution_count": 9,
   "metadata": {
    "ExecuteTime": {
     "end_time": "2019-10-11T00:23:17.564283Z",
     "start_time": "2019-10-11T00:23:12.258562Z"
    }
   },
   "outputs": [
    {
     "name": "stderr",
     "output_type": "stream",
     "text": [
      "/Users/poudel/miniconda3/envs/dataSc/lib/python3.7/site-packages/sklearn/ensemble/forest.py:245: FutureWarning: The default value of n_estimators will change from 10 in version 0.20 to 100 in 0.22.\n",
      "  \"10 in version 0.20 to 100 in 0.22.\", FutureWarning)\n"
     ]
    },
    {
     "data": {
      "text/html": [
       "<style  type=\"text/css\" >\n",
       "    #T_526aee6a_ebbd_11e9_a4bc_acde48001122row0_col6 {\n",
       "            background-color:  #fff7fb;\n",
       "            color:  #000000;\n",
       "        }</style><table id=\"T_526aee6a_ebbd_11e9_a4bc_acde48001122\" ><thead>    <tr>        <th class=\"blank level0\" ></th>        <th class=\"col_heading level0 col0\" >Model</th>        <th class=\"col_heading level0 col1\" >Details</th>        <th class=\"col_heading level0 col2\" >Root Mean Squared Error (RMSE)</th>        <th class=\"col_heading level0 col3\" >R-squared (training)</th>        <th class=\"col_heading level0 col4\" >Adjusted R-squared (training)</th>        <th class=\"col_heading level0 col5\" >R-squared (test)</th>        <th class=\"col_heading level0 col6\" >Adjusted R-squared (test)</th>        <th class=\"col_heading level0 col7\" >5-Fold Cross Validation</th>    </tr></thead><tbody>\n",
       "                <tr>\n",
       "                        <th id=\"T_526aee6a_ebbd_11e9_a4bc_acde48001122level0_row0\" class=\"row_heading level0 row0\" >0</th>\n",
       "                        <td id=\"T_526aee6a_ebbd_11e9_a4bc_acde48001122row0_col0\" class=\"data row0 col0\" >Random Forest Regressor</td>\n",
       "                        <td id=\"T_526aee6a_ebbd_11e9_a4bc_acde48001122row0_col1\" class=\"data row0 col1\" >all orig features</td>\n",
       "                        <td id=\"T_526aee6a_ebbd_11e9_a4bc_acde48001122row0_col2\" class=\"data row0 col2\" >130835</td>\n",
       "                        <td id=\"T_526aee6a_ebbd_11e9_a4bc_acde48001122row0_col3\" class=\"data row0 col3\" >0.974</td>\n",
       "                        <td id=\"T_526aee6a_ebbd_11e9_a4bc_acde48001122row0_col4\" class=\"data row0 col4\" >0.974</td>\n",
       "                        <td id=\"T_526aee6a_ebbd_11e9_a4bc_acde48001122row0_col5\" class=\"data row0 col5\" >0.873</td>\n",
       "                        <td id=\"T_526aee6a_ebbd_11e9_a4bc_acde48001122row0_col6\" class=\"data row0 col6\" >0.872</td>\n",
       "                        <td id=\"T_526aee6a_ebbd_11e9_a4bc_acde48001122row0_col7\" class=\"data row0 col7\" >0.86</td>\n",
       "            </tr>\n",
       "    </tbody></table>"
      ],
      "text/plain": [
       "<pandas.io.formats.style.Styler at 0x12025b198>"
      ]
     },
     "execution_count": 9,
     "metadata": {},
     "output_type": "execute_result"
    }
   ],
   "source": [
    "target = ['price']\n",
    "features = features_orig\n",
    "\n",
    "\n",
    "df = df_raw[features + target]\n",
    "\n",
    "model = RandomForestRegressor(random_state=random_state)\n",
    "\n",
    "rmse, r2_train, ar2_train, r2_test, ar2_test, cv = \\\n",
    "    multiple_linear_regression(df, features, target,model,\n",
    "                               verbose=0,test_size=0.2)\n",
    "\n",
    "\n",
    "df_eval.loc[len(df_eval)] = ['Random Forest Regressor',\n",
    "                             'all orig features', rmse,r2_train,ar2_train,\n",
    "                             r2_test,ar2_test,cv]\n",
    "\n",
    "\n",
    "df_eval.sort_values('Adjusted R-squared (test)',ascending=False)\\\n",
    "  .style.background_gradient(subset=['Adjusted R-squared (test)'])"
   ]
  },
  {
   "cell_type": "code",
   "execution_count": 10,
   "metadata": {
    "ExecuteTime": {
     "end_time": "2019-10-11T00:23:36.624974Z",
     "start_time": "2019-10-11T00:23:17.566826Z"
    }
   },
   "outputs": [
    {
     "data": {
      "text/html": [
       "<style  type=\"text/css\" >\n",
       "    #T_5dc78638_ebbd_11e9_a4bc_acde48001122row0_col6 {\n",
       "            background-color:  #023858;\n",
       "            color:  #f1f1f1;\n",
       "        }    #T_5dc78638_ebbd_11e9_a4bc_acde48001122row1_col6 {\n",
       "            background-color:  #fff7fb;\n",
       "            color:  #000000;\n",
       "        }</style><table id=\"T_5dc78638_ebbd_11e9_a4bc_acde48001122\" ><thead>    <tr>        <th class=\"blank level0\" ></th>        <th class=\"col_heading level0 col0\" >Model</th>        <th class=\"col_heading level0 col1\" >Details</th>        <th class=\"col_heading level0 col2\" >Root Mean Squared Error (RMSE)</th>        <th class=\"col_heading level0 col3\" >R-squared (training)</th>        <th class=\"col_heading level0 col4\" >Adjusted R-squared (training)</th>        <th class=\"col_heading level0 col5\" >R-squared (test)</th>        <th class=\"col_heading level0 col6\" >Adjusted R-squared (test)</th>        <th class=\"col_heading level0 col7\" >5-Fold Cross Validation</th>    </tr></thead><tbody>\n",
       "                <tr>\n",
       "                        <th id=\"T_5dc78638_ebbd_11e9_a4bc_acde48001122level0_row0\" class=\"row_heading level0 row0\" >1</th>\n",
       "                        <td id=\"T_5dc78638_ebbd_11e9_a4bc_acde48001122row0_col0\" class=\"data row0 col0\" >Random Forest Regressor</td>\n",
       "                        <td id=\"T_5dc78638_ebbd_11e9_a4bc_acde48001122row0_col1\" class=\"data row0 col1\" >all orig features n_estimators=50</td>\n",
       "                        <td id=\"T_5dc78638_ebbd_11e9_a4bc_acde48001122row0_col2\" class=\"data row0 col2\" >125317</td>\n",
       "                        <td id=\"T_5dc78638_ebbd_11e9_a4bc_acde48001122row0_col3\" class=\"data row0 col3\" >0.981</td>\n",
       "                        <td id=\"T_5dc78638_ebbd_11e9_a4bc_acde48001122row0_col4\" class=\"data row0 col4\" >0.981</td>\n",
       "                        <td id=\"T_5dc78638_ebbd_11e9_a4bc_acde48001122row0_col5\" class=\"data row0 col5\" >0.883</td>\n",
       "                        <td id=\"T_5dc78638_ebbd_11e9_a4bc_acde48001122row0_col6\" class=\"data row0 col6\" >0.883</td>\n",
       "                        <td id=\"T_5dc78638_ebbd_11e9_a4bc_acde48001122row0_col7\" class=\"data row0 col7\" >0.872</td>\n",
       "            </tr>\n",
       "            <tr>\n",
       "                        <th id=\"T_5dc78638_ebbd_11e9_a4bc_acde48001122level0_row1\" class=\"row_heading level0 row1\" >0</th>\n",
       "                        <td id=\"T_5dc78638_ebbd_11e9_a4bc_acde48001122row1_col0\" class=\"data row1 col0\" >Random Forest Regressor</td>\n",
       "                        <td id=\"T_5dc78638_ebbd_11e9_a4bc_acde48001122row1_col1\" class=\"data row1 col1\" >all orig features</td>\n",
       "                        <td id=\"T_5dc78638_ebbd_11e9_a4bc_acde48001122row1_col2\" class=\"data row1 col2\" >130835</td>\n",
       "                        <td id=\"T_5dc78638_ebbd_11e9_a4bc_acde48001122row1_col3\" class=\"data row1 col3\" >0.974</td>\n",
       "                        <td id=\"T_5dc78638_ebbd_11e9_a4bc_acde48001122row1_col4\" class=\"data row1 col4\" >0.974</td>\n",
       "                        <td id=\"T_5dc78638_ebbd_11e9_a4bc_acde48001122row1_col5\" class=\"data row1 col5\" >0.873</td>\n",
       "                        <td id=\"T_5dc78638_ebbd_11e9_a4bc_acde48001122row1_col6\" class=\"data row1 col6\" >0.872</td>\n",
       "                        <td id=\"T_5dc78638_ebbd_11e9_a4bc_acde48001122row1_col7\" class=\"data row1 col7\" >0.86</td>\n",
       "            </tr>\n",
       "    </tbody></table>"
      ],
      "text/plain": [
       "<pandas.io.formats.style.Styler at 0x1202d16a0>"
      ]
     },
     "execution_count": 10,
     "metadata": {},
     "output_type": "execute_result"
    }
   ],
   "source": [
    "target = ['price']\n",
    "\n",
    "features = features_orig\n",
    "\n",
    "model = RandomForestRegressor(n_estimators= 50,random_state=random_state)\n",
    "\n",
    "rmse, r2_train, ar2_train, r2_test, ar2_test, cv = \\\n",
    "    multiple_linear_regression(df, features, target,model,\n",
    "                               verbose=0,test_size=0.2)\n",
    "\n",
    "\n",
    "df_eval.loc[len(df_eval)] = ['Random Forest Regressor',\n",
    "                             'all orig features n_estimators=50', rmse,r2_train,ar2_train,\n",
    "                             r2_test,ar2_test,cv]\n",
    "\n",
    "\n",
    "df_eval.sort_values('Adjusted R-squared (test)',ascending=False)\\\n",
    "  .style.background_gradient(subset=['Adjusted R-squared (test)'])"
   ]
  },
  {
   "cell_type": "markdown",
   "metadata": {},
   "source": [
    "# Random Forest Modelling All encoded features"
   ]
  },
  {
   "cell_type": "code",
   "execution_count": 11,
   "metadata": {
    "ExecuteTime": {
     "end_time": "2019-10-11T00:23:42.431289Z",
     "start_time": "2019-10-11T00:23:36.627402Z"
    }
   },
   "outputs": [
    {
     "name": "stderr",
     "output_type": "stream",
     "text": [
      "/Users/poudel/miniconda3/envs/dataSc/lib/python3.7/site-packages/sklearn/ensemble/forest.py:245: FutureWarning: The default value of n_estimators will change from 10 in version 0.20 to 100 in 0.22.\n",
      "  \"10 in version 0.20 to 100 in 0.22.\", FutureWarning)\n"
     ]
    },
    {
     "data": {
      "text/html": [
       "<style  type=\"text/css\" >\n",
       "    #T_613d67f6_ebbd_11e9_a4bc_acde48001122row0_col6 {\n",
       "            background-color:  #023858;\n",
       "            color:  #f1f1f1;\n",
       "        }    #T_613d67f6_ebbd_11e9_a4bc_acde48001122row1_col6 {\n",
       "            background-color:  #cacee5;\n",
       "            color:  #000000;\n",
       "        }    #T_613d67f6_ebbd_11e9_a4bc_acde48001122row2_col6 {\n",
       "            background-color:  #fff7fb;\n",
       "            color:  #000000;\n",
       "        }</style><table id=\"T_613d67f6_ebbd_11e9_a4bc_acde48001122\" ><thead>    <tr>        <th class=\"blank level0\" ></th>        <th class=\"col_heading level0 col0\" >Model</th>        <th class=\"col_heading level0 col1\" >Details</th>        <th class=\"col_heading level0 col2\" >Root Mean Squared Error (RMSE)</th>        <th class=\"col_heading level0 col3\" >R-squared (training)</th>        <th class=\"col_heading level0 col4\" >Adjusted R-squared (training)</th>        <th class=\"col_heading level0 col5\" >R-squared (test)</th>        <th class=\"col_heading level0 col6\" >Adjusted R-squared (test)</th>        <th class=\"col_heading level0 col7\" >5-Fold Cross Validation</th>    </tr></thead><tbody>\n",
       "                <tr>\n",
       "                        <th id=\"T_613d67f6_ebbd_11e9_a4bc_acde48001122level0_row0\" class=\"row_heading level0 row0\" >1</th>\n",
       "                        <td id=\"T_613d67f6_ebbd_11e9_a4bc_acde48001122row0_col0\" class=\"data row0 col0\" >Random Forest Regressor</td>\n",
       "                        <td id=\"T_613d67f6_ebbd_11e9_a4bc_acde48001122row0_col1\" class=\"data row0 col1\" >all orig features n_estimators=50</td>\n",
       "                        <td id=\"T_613d67f6_ebbd_11e9_a4bc_acde48001122row0_col2\" class=\"data row0 col2\" >125317</td>\n",
       "                        <td id=\"T_613d67f6_ebbd_11e9_a4bc_acde48001122row0_col3\" class=\"data row0 col3\" >0.981</td>\n",
       "                        <td id=\"T_613d67f6_ebbd_11e9_a4bc_acde48001122row0_col4\" class=\"data row0 col4\" >0.981</td>\n",
       "                        <td id=\"T_613d67f6_ebbd_11e9_a4bc_acde48001122row0_col5\" class=\"data row0 col5\" >0.883</td>\n",
       "                        <td id=\"T_613d67f6_ebbd_11e9_a4bc_acde48001122row0_col6\" class=\"data row0 col6\" >0.883</td>\n",
       "                        <td id=\"T_613d67f6_ebbd_11e9_a4bc_acde48001122row0_col7\" class=\"data row0 col7\" >0.872</td>\n",
       "            </tr>\n",
       "            <tr>\n",
       "                        <th id=\"T_613d67f6_ebbd_11e9_a4bc_acde48001122level0_row1\" class=\"row_heading level0 row1\" >0</th>\n",
       "                        <td id=\"T_613d67f6_ebbd_11e9_a4bc_acde48001122row1_col0\" class=\"data row1 col0\" >Random Forest Regressor</td>\n",
       "                        <td id=\"T_613d67f6_ebbd_11e9_a4bc_acde48001122row1_col1\" class=\"data row1 col1\" >all orig features</td>\n",
       "                        <td id=\"T_613d67f6_ebbd_11e9_a4bc_acde48001122row1_col2\" class=\"data row1 col2\" >130835</td>\n",
       "                        <td id=\"T_613d67f6_ebbd_11e9_a4bc_acde48001122row1_col3\" class=\"data row1 col3\" >0.974</td>\n",
       "                        <td id=\"T_613d67f6_ebbd_11e9_a4bc_acde48001122row1_col4\" class=\"data row1 col4\" >0.974</td>\n",
       "                        <td id=\"T_613d67f6_ebbd_11e9_a4bc_acde48001122row1_col5\" class=\"data row1 col5\" >0.873</td>\n",
       "                        <td id=\"T_613d67f6_ebbd_11e9_a4bc_acde48001122row1_col6\" class=\"data row1 col6\" >0.872</td>\n",
       "                        <td id=\"T_613d67f6_ebbd_11e9_a4bc_acde48001122row1_col7\" class=\"data row1 col7\" >0.86</td>\n",
       "            </tr>\n",
       "            <tr>\n",
       "                        <th id=\"T_613d67f6_ebbd_11e9_a4bc_acde48001122level0_row2\" class=\"row_heading level0 row2\" >2</th>\n",
       "                        <td id=\"T_613d67f6_ebbd_11e9_a4bc_acde48001122row2_col0\" class=\"data row2 col0\" >Random Forest Regressor</td>\n",
       "                        <td id=\"T_613d67f6_ebbd_11e9_a4bc_acde48001122row2_col1\" class=\"data row2 col1\" >all encoded features</td>\n",
       "                        <td id=\"T_613d67f6_ebbd_11e9_a4bc_acde48001122row2_col2\" class=\"data row2 col2\" >132481</td>\n",
       "                        <td id=\"T_613d67f6_ebbd_11e9_a4bc_acde48001122row2_col3\" class=\"data row2 col3\" >0.975</td>\n",
       "                        <td id=\"T_613d67f6_ebbd_11e9_a4bc_acde48001122row2_col4\" class=\"data row2 col4\" >0.975</td>\n",
       "                        <td id=\"T_613d67f6_ebbd_11e9_a4bc_acde48001122row2_col5\" class=\"data row2 col5\" >0.87</td>\n",
       "                        <td id=\"T_613d67f6_ebbd_11e9_a4bc_acde48001122row2_col6\" class=\"data row2 col6\" >0.868</td>\n",
       "                        <td id=\"T_613d67f6_ebbd_11e9_a4bc_acde48001122row2_col7\" class=\"data row2 col7\" >0.86</td>\n",
       "            </tr>\n",
       "    </tbody></table>"
      ],
      "text/plain": [
       "<pandas.io.formats.style.Styler at 0x120280a20>"
      ]
     },
     "execution_count": 11,
     "metadata": {},
     "output_type": "execute_result"
    }
   ],
   "source": [
    "target = ['price']\n",
    "features = features_all_encoded\n",
    "df = df_raw[features + target]\n",
    "\n",
    "model = RandomForestRegressor(random_state=random_state)\n",
    "\n",
    "rmse, r2_train, ar2_train, r2_test, ar2_test, cv = \\\n",
    "    multiple_linear_regression(df, features, target,model,\n",
    "                               verbose=0,test_size=0.2)\n",
    "\n",
    "\n",
    "df_eval.loc[len(df_eval)] = ['Random Forest Regressor',\n",
    "                             'all encoded features', rmse,r2_train,ar2_train,\n",
    "                             r2_test,ar2_test,cv]\n",
    "\n",
    "\n",
    "df_eval.sort_values('Adjusted R-squared (test)',ascending=False)\\\n",
    "  .style.background_gradient(subset=['Adjusted R-squared (test)'])"
   ]
  },
  {
   "cell_type": "code",
   "execution_count": 12,
   "metadata": {
    "ExecuteTime": {
     "end_time": "2019-10-11T00:24:11.387903Z",
     "start_time": "2019-10-11T00:23:42.437187Z"
    }
   },
   "outputs": [
    {
     "data": {
      "text/html": [
       "<style  type=\"text/css\" >\n",
       "    #T_727fdd6e_ebbd_11e9_a4bc_acde48001122row0_col6 {\n",
       "            background-color:  #023858;\n",
       "            color:  #f1f1f1;\n",
       "        }    #T_727fdd6e_ebbd_11e9_a4bc_acde48001122row1_col6 {\n",
       "            background-color:  #1379b5;\n",
       "            color:  #f1f1f1;\n",
       "        }    #T_727fdd6e_ebbd_11e9_a4bc_acde48001122row2_col6 {\n",
       "            background-color:  #dedcec;\n",
       "            color:  #000000;\n",
       "        }    #T_727fdd6e_ebbd_11e9_a4bc_acde48001122row3_col6 {\n",
       "            background-color:  #fff7fb;\n",
       "            color:  #000000;\n",
       "        }</style><table id=\"T_727fdd6e_ebbd_11e9_a4bc_acde48001122\" ><thead>    <tr>        <th class=\"blank level0\" ></th>        <th class=\"col_heading level0 col0\" >Model</th>        <th class=\"col_heading level0 col1\" >Details</th>        <th class=\"col_heading level0 col2\" >Root Mean Squared Error (RMSE)</th>        <th class=\"col_heading level0 col3\" >R-squared (training)</th>        <th class=\"col_heading level0 col4\" >Adjusted R-squared (training)</th>        <th class=\"col_heading level0 col5\" >R-squared (test)</th>        <th class=\"col_heading level0 col6\" >Adjusted R-squared (test)</th>        <th class=\"col_heading level0 col7\" >5-Fold Cross Validation</th>    </tr></thead><tbody>\n",
       "                <tr>\n",
       "                        <th id=\"T_727fdd6e_ebbd_11e9_a4bc_acde48001122level0_row0\" class=\"row_heading level0 row0\" >3</th>\n",
       "                        <td id=\"T_727fdd6e_ebbd_11e9_a4bc_acde48001122row0_col0\" class=\"data row0 col0\" >Random Forest Regressor</td>\n",
       "                        <td id=\"T_727fdd6e_ebbd_11e9_a4bc_acde48001122row0_col1\" class=\"data row0 col1\" >all encoded features, n_estimators=50</td>\n",
       "                        <td id=\"T_727fdd6e_ebbd_11e9_a4bc_acde48001122row0_col2\" class=\"data row0 col2\" >121276</td>\n",
       "                        <td id=\"T_727fdd6e_ebbd_11e9_a4bc_acde48001122row0_col3\" class=\"data row0 col3\" >0.982</td>\n",
       "                        <td id=\"T_727fdd6e_ebbd_11e9_a4bc_acde48001122row0_col4\" class=\"data row0 col4\" >0.982</td>\n",
       "                        <td id=\"T_727fdd6e_ebbd_11e9_a4bc_acde48001122row0_col5\" class=\"data row0 col5\" >0.891</td>\n",
       "                        <td id=\"T_727fdd6e_ebbd_11e9_a4bc_acde48001122row0_col6\" class=\"data row0 col6\" >0.889</td>\n",
       "                        <td id=\"T_727fdd6e_ebbd_11e9_a4bc_acde48001122row0_col7\" class=\"data row0 col7\" >0.87</td>\n",
       "            </tr>\n",
       "            <tr>\n",
       "                        <th id=\"T_727fdd6e_ebbd_11e9_a4bc_acde48001122level0_row1\" class=\"row_heading level0 row1\" >1</th>\n",
       "                        <td id=\"T_727fdd6e_ebbd_11e9_a4bc_acde48001122row1_col0\" class=\"data row1 col0\" >Random Forest Regressor</td>\n",
       "                        <td id=\"T_727fdd6e_ebbd_11e9_a4bc_acde48001122row1_col1\" class=\"data row1 col1\" >all orig features n_estimators=50</td>\n",
       "                        <td id=\"T_727fdd6e_ebbd_11e9_a4bc_acde48001122row1_col2\" class=\"data row1 col2\" >125317</td>\n",
       "                        <td id=\"T_727fdd6e_ebbd_11e9_a4bc_acde48001122row1_col3\" class=\"data row1 col3\" >0.981</td>\n",
       "                        <td id=\"T_727fdd6e_ebbd_11e9_a4bc_acde48001122row1_col4\" class=\"data row1 col4\" >0.981</td>\n",
       "                        <td id=\"T_727fdd6e_ebbd_11e9_a4bc_acde48001122row1_col5\" class=\"data row1 col5\" >0.883</td>\n",
       "                        <td id=\"T_727fdd6e_ebbd_11e9_a4bc_acde48001122row1_col6\" class=\"data row1 col6\" >0.883</td>\n",
       "                        <td id=\"T_727fdd6e_ebbd_11e9_a4bc_acde48001122row1_col7\" class=\"data row1 col7\" >0.872</td>\n",
       "            </tr>\n",
       "            <tr>\n",
       "                        <th id=\"T_727fdd6e_ebbd_11e9_a4bc_acde48001122level0_row2\" class=\"row_heading level0 row2\" >0</th>\n",
       "                        <td id=\"T_727fdd6e_ebbd_11e9_a4bc_acde48001122row2_col0\" class=\"data row2 col0\" >Random Forest Regressor</td>\n",
       "                        <td id=\"T_727fdd6e_ebbd_11e9_a4bc_acde48001122row2_col1\" class=\"data row2 col1\" >all orig features</td>\n",
       "                        <td id=\"T_727fdd6e_ebbd_11e9_a4bc_acde48001122row2_col2\" class=\"data row2 col2\" >130835</td>\n",
       "                        <td id=\"T_727fdd6e_ebbd_11e9_a4bc_acde48001122row2_col3\" class=\"data row2 col3\" >0.974</td>\n",
       "                        <td id=\"T_727fdd6e_ebbd_11e9_a4bc_acde48001122row2_col4\" class=\"data row2 col4\" >0.974</td>\n",
       "                        <td id=\"T_727fdd6e_ebbd_11e9_a4bc_acde48001122row2_col5\" class=\"data row2 col5\" >0.873</td>\n",
       "                        <td id=\"T_727fdd6e_ebbd_11e9_a4bc_acde48001122row2_col6\" class=\"data row2 col6\" >0.872</td>\n",
       "                        <td id=\"T_727fdd6e_ebbd_11e9_a4bc_acde48001122row2_col7\" class=\"data row2 col7\" >0.86</td>\n",
       "            </tr>\n",
       "            <tr>\n",
       "                        <th id=\"T_727fdd6e_ebbd_11e9_a4bc_acde48001122level0_row3\" class=\"row_heading level0 row3\" >2</th>\n",
       "                        <td id=\"T_727fdd6e_ebbd_11e9_a4bc_acde48001122row3_col0\" class=\"data row3 col0\" >Random Forest Regressor</td>\n",
       "                        <td id=\"T_727fdd6e_ebbd_11e9_a4bc_acde48001122row3_col1\" class=\"data row3 col1\" >all encoded features</td>\n",
       "                        <td id=\"T_727fdd6e_ebbd_11e9_a4bc_acde48001122row3_col2\" class=\"data row3 col2\" >132481</td>\n",
       "                        <td id=\"T_727fdd6e_ebbd_11e9_a4bc_acde48001122row3_col3\" class=\"data row3 col3\" >0.975</td>\n",
       "                        <td id=\"T_727fdd6e_ebbd_11e9_a4bc_acde48001122row3_col4\" class=\"data row3 col4\" >0.975</td>\n",
       "                        <td id=\"T_727fdd6e_ebbd_11e9_a4bc_acde48001122row3_col5\" class=\"data row3 col5\" >0.87</td>\n",
       "                        <td id=\"T_727fdd6e_ebbd_11e9_a4bc_acde48001122row3_col6\" class=\"data row3 col6\" >0.868</td>\n",
       "                        <td id=\"T_727fdd6e_ebbd_11e9_a4bc_acde48001122row3_col7\" class=\"data row3 col7\" >0.86</td>\n",
       "            </tr>\n",
       "    </tbody></table>"
      ],
      "text/plain": [
       "<pandas.io.formats.style.Styler at 0x1202d1128>"
      ]
     },
     "execution_count": 12,
     "metadata": {},
     "output_type": "execute_result"
    }
   ],
   "source": [
    "target = ['price']\n",
    "features = features_all_encoded\n",
    "df = df_raw[features + target]\n",
    "\n",
    "model = RandomForestRegressor(n_estimators= 50,random_state=random_state)\n",
    "\n",
    "rmse, r2_train, ar2_train, r2_test, ar2_test, cv = \\\n",
    "    multiple_linear_regression(df, features, target,model,\n",
    "                               verbose=0,test_size=0.2)\n",
    "\n",
    "\n",
    "df_eval.loc[len(df_eval)] = ['Random Forest Regressor',\n",
    "                             'all encoded features, n_estimators=50', rmse,r2_train,ar2_train,\n",
    "                             r2_test,ar2_test,cv]\n",
    "\n",
    "\n",
    "df_eval.sort_values('Adjusted R-squared (test)',ascending=False)\\\n",
    "  .style.background_gradient(subset=['Adjusted R-squared (test)'])"
   ]
  },
  {
   "cell_type": "markdown",
   "metadata": {},
   "source": [
    "# Grid Search All encoded\n",
    "\n",
    "Most important hyperparameters of Random Forest:\n",
    "\n",
    "- n_estimators = n of trees\n",
    "- max_features = max number of features considered for splitting a node\n",
    "- max_depth = max number of levels in each decision tree\n",
    "- min_samples_split = min number of data points placed in a node before the node is split\n",
    "- min_samples_leaf = min number of data points allowed in a leaf node\n",
    "- bootstrap = method for sampling data points (with or without replacement)"
   ]
  },
  {
   "cell_type": "code",
   "execution_count": 13,
   "metadata": {
    "ExecuteTime": {
     "end_time": "2019-10-11T00:24:11.422310Z",
     "start_time": "2019-10-11T00:24:11.390102Z"
    }
   },
   "outputs": [],
   "source": [
    "target = ['price']\n",
    "features = features_all_encoded\n",
    "df = df_raw[features + target]\n",
    "\n",
    "# train test split\n",
    "train, test = train_test_split(df, test_size=0.2,\n",
    "                               random_state=random_state)\n",
    "\n",
    "# train test values\n",
    "X = df[features].values\n",
    "y = df[target].values.ravel()\n",
    "\n",
    "Xtrain = train[features].values\n",
    "ytrain = train[target].values.ravel()\n",
    "\n",
    "Xtest = test[features].values\n",
    "ytest = test[target].values.ravel()"
   ]
  },
  {
   "cell_type": "code",
   "execution_count": 14,
   "metadata": {
    "ExecuteTime": {
     "end_time": "2019-10-11T00:26:09.678153Z",
     "start_time": "2019-10-11T00:24:11.431904Z"
    }
   },
   "outputs": [
    {
     "name": "stdout",
     "output_type": "stream",
     "text": [
      "Fitting 5 folds for each of 24 candidates, totalling 120 fits\n"
     ]
    },
    {
     "name": "stderr",
     "output_type": "stream",
     "text": [
      "[Parallel(n_jobs=-1)]: Using backend LokyBackend with 4 concurrent workers.\n",
      "[Parallel(n_jobs=-1)]: Done  33 tasks      | elapsed:   15.0s\n",
      "[Parallel(n_jobs=-1)]: Done 120 out of 120 | elapsed:  1.9min finished\n"
     ]
    },
    {
     "name": "stdout",
     "output_type": "stream",
     "text": [
      "Time taken: 1 min 58 secs\n"
     ]
    }
   ],
   "source": [
    "from sklearn.model_selection import GridSearchCV\n",
    "\n",
    "t0 = time.time()\n",
    "\n",
    "model = RandomForestRegressor(random_state=random_state)\n",
    "\n",
    "\n",
    "param_grid = [\n",
    "{'n_estimators': np.arange(20,60,20),\n",
    " 'max_features': [2, len(features)], \n",
    " 'max_depth': [10, 50, None],\n",
    " 'bootstrap': [True, False]}\n",
    "]\n",
    "\n",
    "grid_search_forest = GridSearchCV(model,\n",
    "                                  param_grid,\n",
    "                                  cv=5,\n",
    "                                  n_jobs=-1,\n",
    "                                  scoring='neg_mean_squared_error',\n",
    "                                  verbose=2)\n",
    "\n",
    "grid_search_forest.fit(Xtrain, ytrain)\n",
    "\n",
    "t1 = time.time() - t0\n",
    "print('Time taken: {:.0f} min {:.0f} secs'.format(*divmod(t1,60)))"
   ]
  },
  {
   "cell_type": "markdown",
   "metadata": {},
   "source": [
    "# Use the best parameters from grid search"
   ]
  },
  {
   "cell_type": "code",
   "execution_count": 15,
   "metadata": {
    "ExecuteTime": {
     "end_time": "2019-10-11T00:26:09.691008Z",
     "start_time": "2019-10-11T00:26:09.680558Z"
    }
   },
   "outputs": [
    {
     "data": {
      "text/plain": [
       "RandomForestRegressor(bootstrap=True, criterion='mse', max_depth=50,\n",
       "                      max_features=69, max_leaf_nodes=None,\n",
       "                      min_impurity_decrease=0.0, min_impurity_split=None,\n",
       "                      min_samples_leaf=1, min_samples_split=2,\n",
       "                      min_weight_fraction_leaf=0.0, n_estimators=40,\n",
       "                      n_jobs=None, oob_score=False, random_state=100, verbose=0,\n",
       "                      warm_start=False)"
      ]
     },
     "execution_count": 15,
     "metadata": {},
     "output_type": "execute_result"
    }
   ],
   "source": [
    "grid_search_forest.best_estimator_"
   ]
  },
  {
   "cell_type": "code",
   "execution_count": 16,
   "metadata": {
    "ExecuteTime": {
     "end_time": "2019-10-11T00:26:09.705424Z",
     "start_time": "2019-10-11T00:26:09.694371Z"
    }
   },
   "outputs": [
    {
     "data": {
      "text/plain": [
       "{'bootstrap': True, 'max_depth': 50, 'max_features': 69, 'n_estimators': 40}"
      ]
     },
     "execution_count": 16,
     "metadata": {},
     "output_type": "execute_result"
    }
   ],
   "source": [
    "grid_search_forest.best_params_"
   ]
  },
  {
   "cell_type": "code",
   "execution_count": 17,
   "metadata": {
    "ExecuteTime": {
     "end_time": "2019-10-11T00:26:32.157655Z",
     "start_time": "2019-10-11T00:26:09.707948Z"
    }
   },
   "outputs": [
    {
     "name": "stderr",
     "output_type": "stream",
     "text": [
      "[Parallel(n_jobs=-1)]: Using backend LokyBackend with 4 concurrent workers.\n",
      "[Parallel(n_jobs=-1)]: Done   5 out of   5 | elapsed:   16.2s finished\n"
     ]
    },
    {
     "data": {
      "text/html": [
       "<style  type=\"text/css\" >\n",
       "    #T_c6678f58_ebbd_11e9_a4bc_acde48001122row0_col6 {\n",
       "            background-color:  #023858;\n",
       "            color:  #f1f1f1;\n",
       "        }    #T_c6678f58_ebbd_11e9_a4bc_acde48001122row1_col6 {\n",
       "            background-color:  #03456c;\n",
       "            color:  #f1f1f1;\n",
       "        }    #T_c6678f58_ebbd_11e9_a4bc_acde48001122row2_col6 {\n",
       "            background-color:  #1379b5;\n",
       "            color:  #f1f1f1;\n",
       "        }    #T_c6678f58_ebbd_11e9_a4bc_acde48001122row3_col6 {\n",
       "            background-color:  #dedcec;\n",
       "            color:  #000000;\n",
       "        }    #T_c6678f58_ebbd_11e9_a4bc_acde48001122row4_col6 {\n",
       "            background-color:  #fff7fb;\n",
       "            color:  #000000;\n",
       "        }</style><table id=\"T_c6678f58_ebbd_11e9_a4bc_acde48001122\" ><thead>    <tr>        <th class=\"blank level0\" ></th>        <th class=\"col_heading level0 col0\" >Model</th>        <th class=\"col_heading level0 col1\" >Details</th>        <th class=\"col_heading level0 col2\" >Root Mean Squared Error (RMSE)</th>        <th class=\"col_heading level0 col3\" >R-squared (training)</th>        <th class=\"col_heading level0 col4\" >Adjusted R-squared (training)</th>        <th class=\"col_heading level0 col5\" >R-squared (test)</th>        <th class=\"col_heading level0 col6\" >Adjusted R-squared (test)</th>        <th class=\"col_heading level0 col7\" >5-Fold Cross Validation</th>    </tr></thead><tbody>\n",
       "                <tr>\n",
       "                        <th id=\"T_c6678f58_ebbd_11e9_a4bc_acde48001122level0_row0\" class=\"row_heading level0 row0\" >3</th>\n",
       "                        <td id=\"T_c6678f58_ebbd_11e9_a4bc_acde48001122row0_col0\" class=\"data row0 col0\" >Random Forest Regressor</td>\n",
       "                        <td id=\"T_c6678f58_ebbd_11e9_a4bc_acde48001122row0_col1\" class=\"data row0 col1\" >all encoded features, n_estimators=50</td>\n",
       "                        <td id=\"T_c6678f58_ebbd_11e9_a4bc_acde48001122row0_col2\" class=\"data row0 col2\" >121276</td>\n",
       "                        <td id=\"T_c6678f58_ebbd_11e9_a4bc_acde48001122row0_col3\" class=\"data row0 col3\" >0.982</td>\n",
       "                        <td id=\"T_c6678f58_ebbd_11e9_a4bc_acde48001122row0_col4\" class=\"data row0 col4\" >0.982</td>\n",
       "                        <td id=\"T_c6678f58_ebbd_11e9_a4bc_acde48001122row0_col5\" class=\"data row0 col5\" >0.891</td>\n",
       "                        <td id=\"T_c6678f58_ebbd_11e9_a4bc_acde48001122row0_col6\" class=\"data row0 col6\" >0.889</td>\n",
       "                        <td id=\"T_c6678f58_ebbd_11e9_a4bc_acde48001122row0_col7\" class=\"data row0 col7\" >0.87</td>\n",
       "            </tr>\n",
       "            <tr>\n",
       "                        <th id=\"T_c6678f58_ebbd_11e9_a4bc_acde48001122level0_row1\" class=\"row_heading level0 row1\" >4</th>\n",
       "                        <td id=\"T_c6678f58_ebbd_11e9_a4bc_acde48001122row1_col0\" class=\"data row1 col0\" >Random Forest Regressor after grid search</td>\n",
       "                        <td id=\"T_c6678f58_ebbd_11e9_a4bc_acde48001122row1_col1\" class=\"data row1 col1\" > all encoded features, best grid search,                             n_estimators=40, max_features=69, max_depth=50</td>\n",
       "                        <td id=\"T_c6678f58_ebbd_11e9_a4bc_acde48001122row1_col2\" class=\"data row1 col2\" >121702</td>\n",
       "                        <td id=\"T_c6678f58_ebbd_11e9_a4bc_acde48001122row1_col3\" class=\"data row1 col3\" >0.981</td>\n",
       "                        <td id=\"T_c6678f58_ebbd_11e9_a4bc_acde48001122row1_col4\" class=\"data row1 col4\" >0.981</td>\n",
       "                        <td id=\"T_c6678f58_ebbd_11e9_a4bc_acde48001122row1_col5\" class=\"data row1 col5\" >0.89</td>\n",
       "                        <td id=\"T_c6678f58_ebbd_11e9_a4bc_acde48001122row1_col6\" class=\"data row1 col6\" >0.888</td>\n",
       "                        <td id=\"T_c6678f58_ebbd_11e9_a4bc_acde48001122row1_col7\" class=\"data row1 col7\" >0.868</td>\n",
       "            </tr>\n",
       "            <tr>\n",
       "                        <th id=\"T_c6678f58_ebbd_11e9_a4bc_acde48001122level0_row2\" class=\"row_heading level0 row2\" >1</th>\n",
       "                        <td id=\"T_c6678f58_ebbd_11e9_a4bc_acde48001122row2_col0\" class=\"data row2 col0\" >Random Forest Regressor</td>\n",
       "                        <td id=\"T_c6678f58_ebbd_11e9_a4bc_acde48001122row2_col1\" class=\"data row2 col1\" >all orig features n_estimators=50</td>\n",
       "                        <td id=\"T_c6678f58_ebbd_11e9_a4bc_acde48001122row2_col2\" class=\"data row2 col2\" >125317</td>\n",
       "                        <td id=\"T_c6678f58_ebbd_11e9_a4bc_acde48001122row2_col3\" class=\"data row2 col3\" >0.981</td>\n",
       "                        <td id=\"T_c6678f58_ebbd_11e9_a4bc_acde48001122row2_col4\" class=\"data row2 col4\" >0.981</td>\n",
       "                        <td id=\"T_c6678f58_ebbd_11e9_a4bc_acde48001122row2_col5\" class=\"data row2 col5\" >0.883</td>\n",
       "                        <td id=\"T_c6678f58_ebbd_11e9_a4bc_acde48001122row2_col6\" class=\"data row2 col6\" >0.883</td>\n",
       "                        <td id=\"T_c6678f58_ebbd_11e9_a4bc_acde48001122row2_col7\" class=\"data row2 col7\" >0.872</td>\n",
       "            </tr>\n",
       "            <tr>\n",
       "                        <th id=\"T_c6678f58_ebbd_11e9_a4bc_acde48001122level0_row3\" class=\"row_heading level0 row3\" >0</th>\n",
       "                        <td id=\"T_c6678f58_ebbd_11e9_a4bc_acde48001122row3_col0\" class=\"data row3 col0\" >Random Forest Regressor</td>\n",
       "                        <td id=\"T_c6678f58_ebbd_11e9_a4bc_acde48001122row3_col1\" class=\"data row3 col1\" >all orig features</td>\n",
       "                        <td id=\"T_c6678f58_ebbd_11e9_a4bc_acde48001122row3_col2\" class=\"data row3 col2\" >130835</td>\n",
       "                        <td id=\"T_c6678f58_ebbd_11e9_a4bc_acde48001122row3_col3\" class=\"data row3 col3\" >0.974</td>\n",
       "                        <td id=\"T_c6678f58_ebbd_11e9_a4bc_acde48001122row3_col4\" class=\"data row3 col4\" >0.974</td>\n",
       "                        <td id=\"T_c6678f58_ebbd_11e9_a4bc_acde48001122row3_col5\" class=\"data row3 col5\" >0.873</td>\n",
       "                        <td id=\"T_c6678f58_ebbd_11e9_a4bc_acde48001122row3_col6\" class=\"data row3 col6\" >0.872</td>\n",
       "                        <td id=\"T_c6678f58_ebbd_11e9_a4bc_acde48001122row3_col7\" class=\"data row3 col7\" >0.86</td>\n",
       "            </tr>\n",
       "            <tr>\n",
       "                        <th id=\"T_c6678f58_ebbd_11e9_a4bc_acde48001122level0_row4\" class=\"row_heading level0 row4\" >2</th>\n",
       "                        <td id=\"T_c6678f58_ebbd_11e9_a4bc_acde48001122row4_col0\" class=\"data row4 col0\" >Random Forest Regressor</td>\n",
       "                        <td id=\"T_c6678f58_ebbd_11e9_a4bc_acde48001122row4_col1\" class=\"data row4 col1\" >all encoded features</td>\n",
       "                        <td id=\"T_c6678f58_ebbd_11e9_a4bc_acde48001122row4_col2\" class=\"data row4 col2\" >132481</td>\n",
       "                        <td id=\"T_c6678f58_ebbd_11e9_a4bc_acde48001122row4_col3\" class=\"data row4 col3\" >0.975</td>\n",
       "                        <td id=\"T_c6678f58_ebbd_11e9_a4bc_acde48001122row4_col4\" class=\"data row4 col4\" >0.975</td>\n",
       "                        <td id=\"T_c6678f58_ebbd_11e9_a4bc_acde48001122row4_col5\" class=\"data row4 col5\" >0.87</td>\n",
       "                        <td id=\"T_c6678f58_ebbd_11e9_a4bc_acde48001122row4_col6\" class=\"data row4 col6\" >0.868</td>\n",
       "                        <td id=\"T_c6678f58_ebbd_11e9_a4bc_acde48001122row4_col7\" class=\"data row4 col7\" >0.86</td>\n",
       "            </tr>\n",
       "    </tbody></table>"
      ],
      "text/plain": [
       "<pandas.io.formats.style.Styler at 0x1202fec88>"
      ]
     },
     "execution_count": 17,
     "metadata": {},
     "output_type": "execute_result"
    }
   ],
   "source": [
    "target = ['price']\n",
    "features = features_all_encoded\n",
    "df = df_raw[features + target]\n",
    "\n",
    "model = RandomForestRegressor(n_estimators= 40,random_state=random_state,\n",
    "                              max_features=69,\n",
    "                              max_depth=50, bootstrap=True)\n",
    "\n",
    "rmse, r2_train, ar2_train, r2_test, ar2_test, cv = \\\n",
    "    multiple_linear_regression(df, features, target,model,\n",
    "                               verbose=2,test_size=0.2)\n",
    "\n",
    "\n",
    "df_eval.loc[len(df_eval)] = ['Random Forest Regressor after grid search',\n",
    "                             ' all encoded features, best grid search,\\\n",
    "                             n_estimators=40, max_features=69, max_depth=50',\n",
    "                             rmse,r2_train,ar2_train,\n",
    "                             r2_test,ar2_test,cv]\n",
    "\n",
    "\n",
    "df_eval.sort_values('Adjusted R-squared (test)',ascending=False)\\\n",
    "  .style.background_gradient(subset=['Adjusted R-squared (test)'])"
   ]
  },
  {
   "cell_type": "markdown",
   "metadata": {},
   "source": [
    "# Feature Importance"
   ]
  },
  {
   "cell_type": "code",
   "execution_count": 18,
   "metadata": {
    "ExecuteTime": {
     "end_time": "2019-10-11T00:26:32.178083Z",
     "start_time": "2019-10-11T00:26:32.160257Z"
    }
   },
   "outputs": [
    {
     "data": {
      "text/plain": [
       "array([2.74192655e-03, 6.52461883e-03, 5.18007921e-01, 1.38699937e-02,\n",
       "       2.54835769e-02, 4.62482004e-03, 1.27342271e-02, 1.59266272e-03,\n",
       "       1.79397409e-01, 7.05908879e-02, 4.30063724e-02, 1.43828957e-02,\n",
       "       1.84385123e-03, 3.89998170e-04, 2.69831043e-04, 1.23662253e-02,\n",
       "       1.40485087e-02, 1.80969621e-02, 4.76377495e-03, 3.12577404e-04,\n",
       "       7.13343216e-04, 8.99152948e-04, 8.94896294e-03, 1.08122782e-04,\n",
       "       2.34225164e-04, 1.28652314e-03, 8.36194392e-04, 1.09504027e-03,\n",
       "       2.02047259e-09, 4.31977482e-03, 2.97704944e-03, 4.74462977e-03,\n",
       "       3.32560089e-04, 7.23933839e-07, 1.25850027e-05, 8.67799688e-05,\n",
       "       5.14956415e-04, 5.58210139e-03, 3.88856349e-03, 3.10753442e-03,\n",
       "       4.20970555e-03, 1.03636174e-03, 1.98531117e-04, 1.69926143e-04,\n",
       "       1.26626752e-03, 5.70068492e-05, 1.27688907e-04, 8.53455848e-05,\n",
       "       1.08192016e-04, 4.05738749e-04, 4.76407431e-04, 3.50187037e-04,\n",
       "       2.01864013e-04, 3.69848711e-04, 2.57681711e-04, 5.04764003e-04,\n",
       "       2.17125517e-04, 1.84100762e-04, 2.36291031e-04, 5.58276107e-04,\n",
       "       5.85124138e-04, 1.42159788e-03, 4.22086382e-04, 5.70355692e-04,\n",
       "       3.87860895e-04, 2.16539303e-04, 2.49575938e-04, 2.03609979e-04,\n",
       "       1.84072711e-04])"
      ]
     },
     "execution_count": 18,
     "metadata": {},
     "output_type": "execute_result"
    }
   ],
   "source": [
    "importances = grid_search_forest.best_estimator_.feature_importances_\n",
    "importances"
   ]
  },
  {
   "cell_type": "code",
   "execution_count": 19,
   "metadata": {
    "ExecuteTime": {
     "end_time": "2019-10-11T00:26:32.197430Z",
     "start_time": "2019-10-11T00:26:32.180134Z"
    }
   },
   "outputs": [
    {
     "data": {
      "text/html": [
       "<style  type=\"text/css\" >\n",
       "    #T_c66d1fcc_ebbd_11e9_a4bc_acde48001122row0_col1 {\n",
       "            background-color:  #023858;\n",
       "            color:  #f1f1f1;\n",
       "        }    #T_c66d1fcc_ebbd_11e9_a4bc_acde48001122row1_col1 {\n",
       "            background-color:  #b5c4df;\n",
       "            color:  #000000;\n",
       "        }    #T_c66d1fcc_ebbd_11e9_a4bc_acde48001122row2_col1 {\n",
       "            background-color:  #eee8f3;\n",
       "            color:  #000000;\n",
       "        }    #T_c66d1fcc_ebbd_11e9_a4bc_acde48001122row3_col1 {\n",
       "            background-color:  #f6eff7;\n",
       "            color:  #000000;\n",
       "        }    #T_c66d1fcc_ebbd_11e9_a4bc_acde48001122row4_col1 {\n",
       "            background-color:  #fbf4f9;\n",
       "            color:  #000000;\n",
       "        }    #T_c66d1fcc_ebbd_11e9_a4bc_acde48001122row5_col1 {\n",
       "            background-color:  #fef6fa;\n",
       "            color:  #000000;\n",
       "        }    #T_c66d1fcc_ebbd_11e9_a4bc_acde48001122row6_col1 {\n",
       "            background-color:  #fff7fb;\n",
       "            color:  #000000;\n",
       "        }    #T_c66d1fcc_ebbd_11e9_a4bc_acde48001122row7_col1 {\n",
       "            background-color:  #fff7fb;\n",
       "            color:  #000000;\n",
       "        }    #T_c66d1fcc_ebbd_11e9_a4bc_acde48001122row8_col1 {\n",
       "            background-color:  #fff7fb;\n",
       "            color:  #000000;\n",
       "        }    #T_c66d1fcc_ebbd_11e9_a4bc_acde48001122row9_col1 {\n",
       "            background-color:  #fff7fb;\n",
       "            color:  #000000;\n",
       "        }</style><table id=\"T_c66d1fcc_ebbd_11e9_a4bc_acde48001122\" ><thead>    <tr>        <th class=\"blank level0\" ></th>        <th class=\"col_heading level0 col0\" >feature</th>        <th class=\"col_heading level0 col1\" >importance</th>    </tr></thead><tbody>\n",
       "                <tr>\n",
       "                        <th id=\"T_c66d1fcc_ebbd_11e9_a4bc_acde48001122level0_row0\" class=\"row_heading level0 row0\" >2</th>\n",
       "                        <td id=\"T_c66d1fcc_ebbd_11e9_a4bc_acde48001122row0_col0\" class=\"data row0 col0\" >sqft_living</td>\n",
       "                        <td id=\"T_c66d1fcc_ebbd_11e9_a4bc_acde48001122row0_col1\" class=\"data row0 col1\" >0.518008</td>\n",
       "            </tr>\n",
       "            <tr>\n",
       "                        <th id=\"T_c66d1fcc_ebbd_11e9_a4bc_acde48001122level0_row1\" class=\"row_heading level0 row1\" >8</th>\n",
       "                        <td id=\"T_c66d1fcc_ebbd_11e9_a4bc_acde48001122row1_col0\" class=\"data row1 col0\" >lat</td>\n",
       "                        <td id=\"T_c66d1fcc_ebbd_11e9_a4bc_acde48001122row1_col1\" class=\"data row1 col1\" >0.179397</td>\n",
       "            </tr>\n",
       "            <tr>\n",
       "                        <th id=\"T_c66d1fcc_ebbd_11e9_a4bc_acde48001122level0_row2\" class=\"row_heading level0 row2\" >9</th>\n",
       "                        <td id=\"T_c66d1fcc_ebbd_11e9_a4bc_acde48001122row2_col0\" class=\"data row2 col0\" >long</td>\n",
       "                        <td id=\"T_c66d1fcc_ebbd_11e9_a4bc_acde48001122row2_col1\" class=\"data row2 col1\" >0.0705909</td>\n",
       "            </tr>\n",
       "            <tr>\n",
       "                        <th id=\"T_c66d1fcc_ebbd_11e9_a4bc_acde48001122level0_row3\" class=\"row_heading level0 row3\" >10</th>\n",
       "                        <td id=\"T_c66d1fcc_ebbd_11e9_a4bc_acde48001122row3_col0\" class=\"data row3 col0\" >sqft_living15</td>\n",
       "                        <td id=\"T_c66d1fcc_ebbd_11e9_a4bc_acde48001122row3_col1\" class=\"data row3 col1\" >0.0430064</td>\n",
       "            </tr>\n",
       "            <tr>\n",
       "                        <th id=\"T_c66d1fcc_ebbd_11e9_a4bc_acde48001122level0_row4\" class=\"row_heading level0 row4\" >4</th>\n",
       "                        <td id=\"T_c66d1fcc_ebbd_11e9_a4bc_acde48001122row4_col0\" class=\"data row4 col0\" >sqft_above</td>\n",
       "                        <td id=\"T_c66d1fcc_ebbd_11e9_a4bc_acde48001122row4_col1\" class=\"data row4 col1\" >0.0254836</td>\n",
       "            </tr>\n",
       "            <tr>\n",
       "                        <th id=\"T_c66d1fcc_ebbd_11e9_a4bc_acde48001122level0_row5\" class=\"row_heading level0 row5\" >17</th>\n",
       "                        <td id=\"T_c66d1fcc_ebbd_11e9_a4bc_acde48001122row5_col0\" class=\"data row5 col0\" >waterfront_1</td>\n",
       "                        <td id=\"T_c66d1fcc_ebbd_11e9_a4bc_acde48001122row5_col1\" class=\"data row5 col1\" >0.018097</td>\n",
       "            </tr>\n",
       "            <tr>\n",
       "                        <th id=\"T_c66d1fcc_ebbd_11e9_a4bc_acde48001122level0_row6\" class=\"row_heading level0 row6\" >11</th>\n",
       "                        <td id=\"T_c66d1fcc_ebbd_11e9_a4bc_acde48001122row6_col0\" class=\"data row6 col0\" >sqft_lot15</td>\n",
       "                        <td id=\"T_c66d1fcc_ebbd_11e9_a4bc_acde48001122row6_col1\" class=\"data row6 col1\" >0.0143829</td>\n",
       "            </tr>\n",
       "            <tr>\n",
       "                        <th id=\"T_c66d1fcc_ebbd_11e9_a4bc_acde48001122level0_row7\" class=\"row_heading level0 row7\" >16</th>\n",
       "                        <td id=\"T_c66d1fcc_ebbd_11e9_a4bc_acde48001122row7_col0\" class=\"data row7 col0\" >waterfront_0</td>\n",
       "                        <td id=\"T_c66d1fcc_ebbd_11e9_a4bc_acde48001122row7_col1\" class=\"data row7 col1\" >0.0140485</td>\n",
       "            </tr>\n",
       "            <tr>\n",
       "                        <th id=\"T_c66d1fcc_ebbd_11e9_a4bc_acde48001122level0_row8\" class=\"row_heading level0 row8\" >3</th>\n",
       "                        <td id=\"T_c66d1fcc_ebbd_11e9_a4bc_acde48001122row8_col0\" class=\"data row8 col0\" >sqft_lot</td>\n",
       "                        <td id=\"T_c66d1fcc_ebbd_11e9_a4bc_acde48001122row8_col1\" class=\"data row8 col1\" >0.01387</td>\n",
       "            </tr>\n",
       "            <tr>\n",
       "                        <th id=\"T_c66d1fcc_ebbd_11e9_a4bc_acde48001122level0_row9\" class=\"row_heading level0 row9\" >6</th>\n",
       "                        <td id=\"T_c66d1fcc_ebbd_11e9_a4bc_acde48001122row9_col0\" class=\"data row9 col0\" >yr_built</td>\n",
       "                        <td id=\"T_c66d1fcc_ebbd_11e9_a4bc_acde48001122row9_col1\" class=\"data row9 col1\" >0.0127342</td>\n",
       "            </tr>\n",
       "    </tbody></table>"
      ],
      "text/plain": [
       "<pandas.io.formats.style.Styler at 0x1202fb3c8>"
      ]
     },
     "execution_count": 19,
     "metadata": {},
     "output_type": "execute_result"
    }
   ],
   "source": [
    "df_imp = pd.DataFrame({'feature': features,\n",
    "                      'importance': importances})\n",
    "\n",
    "df_imp.sort_values('importance', ascending=False)\\\n",
    "  .head(10).style.background_gradient(subset=['importance'])"
   ]
  },
  {
   "cell_type": "code",
   "execution_count": 20,
   "metadata": {
    "ExecuteTime": {
     "end_time": "2019-10-11T00:26:32.211450Z",
     "start_time": "2019-10-11T00:26:32.199574Z"
    }
   },
   "outputs": [
    {
     "data": {
      "text/html": [
       "<style  type=\"text/css\" >\n",
       "    #T_c66fae4a_ebbd_11e9_a4bc_acde48001122row0_col1 {\n",
       "            width:  10em;\n",
       "             height:  80%;\n",
       "            background:  linear-gradient(90deg,#d65f5f 100.0%, transparent 100.0%);\n",
       "        }    #T_c66fae4a_ebbd_11e9_a4bc_acde48001122row1_col1 {\n",
       "            width:  10em;\n",
       "             height:  80%;\n",
       "            background:  linear-gradient(90deg,#d65f5f 34.6%, transparent 34.6%);\n",
       "        }    #T_c66fae4a_ebbd_11e9_a4bc_acde48001122row2_col1 {\n",
       "            width:  10em;\n",
       "             height:  80%;\n",
       "            background:  linear-gradient(90deg,#d65f5f 13.6%, transparent 13.6%);\n",
       "        }    #T_c66fae4a_ebbd_11e9_a4bc_acde48001122row3_col1 {\n",
       "            width:  10em;\n",
       "             height:  80%;\n",
       "            background:  linear-gradient(90deg,#d65f5f 8.3%, transparent 8.3%);\n",
       "        }    #T_c66fae4a_ebbd_11e9_a4bc_acde48001122row4_col1 {\n",
       "            width:  10em;\n",
       "             height:  80%;\n",
       "            background:  linear-gradient(90deg,#d65f5f 4.9%, transparent 4.9%);\n",
       "        }    #T_c66fae4a_ebbd_11e9_a4bc_acde48001122row5_col1 {\n",
       "            width:  10em;\n",
       "             height:  80%;\n",
       "            background:  linear-gradient(90deg,#d65f5f 3.5%, transparent 3.5%);\n",
       "        }    #T_c66fae4a_ebbd_11e9_a4bc_acde48001122row6_col1 {\n",
       "            width:  10em;\n",
       "             height:  80%;\n",
       "            background:  linear-gradient(90deg,#d65f5f 2.8%, transparent 2.8%);\n",
       "        }    #T_c66fae4a_ebbd_11e9_a4bc_acde48001122row7_col1 {\n",
       "            width:  10em;\n",
       "             height:  80%;\n",
       "            background:  linear-gradient(90deg,#d65f5f 2.7%, transparent 2.7%);\n",
       "        }    #T_c66fae4a_ebbd_11e9_a4bc_acde48001122row8_col1 {\n",
       "            width:  10em;\n",
       "             height:  80%;\n",
       "            background:  linear-gradient(90deg,#d65f5f 2.7%, transparent 2.7%);\n",
       "        }    #T_c66fae4a_ebbd_11e9_a4bc_acde48001122row9_col1 {\n",
       "            width:  10em;\n",
       "             height:  80%;\n",
       "            background:  linear-gradient(90deg,#d65f5f 2.5%, transparent 2.5%);\n",
       "        }</style><table id=\"T_c66fae4a_ebbd_11e9_a4bc_acde48001122\" ><thead>    <tr>        <th class=\"blank level0\" ></th>        <th class=\"col_heading level0 col0\" >feature</th>        <th class=\"col_heading level0 col1\" >importance</th>    </tr></thead><tbody>\n",
       "                <tr>\n",
       "                        <th id=\"T_c66fae4a_ebbd_11e9_a4bc_acde48001122level0_row0\" class=\"row_heading level0 row0\" >2</th>\n",
       "                        <td id=\"T_c66fae4a_ebbd_11e9_a4bc_acde48001122row0_col0\" class=\"data row0 col0\" >sqft_living</td>\n",
       "                        <td id=\"T_c66fae4a_ebbd_11e9_a4bc_acde48001122row0_col1\" class=\"data row0 col1\" >0.518008</td>\n",
       "            </tr>\n",
       "            <tr>\n",
       "                        <th id=\"T_c66fae4a_ebbd_11e9_a4bc_acde48001122level0_row1\" class=\"row_heading level0 row1\" >8</th>\n",
       "                        <td id=\"T_c66fae4a_ebbd_11e9_a4bc_acde48001122row1_col0\" class=\"data row1 col0\" >lat</td>\n",
       "                        <td id=\"T_c66fae4a_ebbd_11e9_a4bc_acde48001122row1_col1\" class=\"data row1 col1\" >0.179397</td>\n",
       "            </tr>\n",
       "            <tr>\n",
       "                        <th id=\"T_c66fae4a_ebbd_11e9_a4bc_acde48001122level0_row2\" class=\"row_heading level0 row2\" >9</th>\n",
       "                        <td id=\"T_c66fae4a_ebbd_11e9_a4bc_acde48001122row2_col0\" class=\"data row2 col0\" >long</td>\n",
       "                        <td id=\"T_c66fae4a_ebbd_11e9_a4bc_acde48001122row2_col1\" class=\"data row2 col1\" >0.0705909</td>\n",
       "            </tr>\n",
       "            <tr>\n",
       "                        <th id=\"T_c66fae4a_ebbd_11e9_a4bc_acde48001122level0_row3\" class=\"row_heading level0 row3\" >10</th>\n",
       "                        <td id=\"T_c66fae4a_ebbd_11e9_a4bc_acde48001122row3_col0\" class=\"data row3 col0\" >sqft_living15</td>\n",
       "                        <td id=\"T_c66fae4a_ebbd_11e9_a4bc_acde48001122row3_col1\" class=\"data row3 col1\" >0.0430064</td>\n",
       "            </tr>\n",
       "            <tr>\n",
       "                        <th id=\"T_c66fae4a_ebbd_11e9_a4bc_acde48001122level0_row4\" class=\"row_heading level0 row4\" >4</th>\n",
       "                        <td id=\"T_c66fae4a_ebbd_11e9_a4bc_acde48001122row4_col0\" class=\"data row4 col0\" >sqft_above</td>\n",
       "                        <td id=\"T_c66fae4a_ebbd_11e9_a4bc_acde48001122row4_col1\" class=\"data row4 col1\" >0.0254836</td>\n",
       "            </tr>\n",
       "            <tr>\n",
       "                        <th id=\"T_c66fae4a_ebbd_11e9_a4bc_acde48001122level0_row5\" class=\"row_heading level0 row5\" >17</th>\n",
       "                        <td id=\"T_c66fae4a_ebbd_11e9_a4bc_acde48001122row5_col0\" class=\"data row5 col0\" >waterfront_1</td>\n",
       "                        <td id=\"T_c66fae4a_ebbd_11e9_a4bc_acde48001122row5_col1\" class=\"data row5 col1\" >0.018097</td>\n",
       "            </tr>\n",
       "            <tr>\n",
       "                        <th id=\"T_c66fae4a_ebbd_11e9_a4bc_acde48001122level0_row6\" class=\"row_heading level0 row6\" >11</th>\n",
       "                        <td id=\"T_c66fae4a_ebbd_11e9_a4bc_acde48001122row6_col0\" class=\"data row6 col0\" >sqft_lot15</td>\n",
       "                        <td id=\"T_c66fae4a_ebbd_11e9_a4bc_acde48001122row6_col1\" class=\"data row6 col1\" >0.0143829</td>\n",
       "            </tr>\n",
       "            <tr>\n",
       "                        <th id=\"T_c66fae4a_ebbd_11e9_a4bc_acde48001122level0_row7\" class=\"row_heading level0 row7\" >16</th>\n",
       "                        <td id=\"T_c66fae4a_ebbd_11e9_a4bc_acde48001122row7_col0\" class=\"data row7 col0\" >waterfront_0</td>\n",
       "                        <td id=\"T_c66fae4a_ebbd_11e9_a4bc_acde48001122row7_col1\" class=\"data row7 col1\" >0.0140485</td>\n",
       "            </tr>\n",
       "            <tr>\n",
       "                        <th id=\"T_c66fae4a_ebbd_11e9_a4bc_acde48001122level0_row8\" class=\"row_heading level0 row8\" >3</th>\n",
       "                        <td id=\"T_c66fae4a_ebbd_11e9_a4bc_acde48001122row8_col0\" class=\"data row8 col0\" >sqft_lot</td>\n",
       "                        <td id=\"T_c66fae4a_ebbd_11e9_a4bc_acde48001122row8_col1\" class=\"data row8 col1\" >0.01387</td>\n",
       "            </tr>\n",
       "            <tr>\n",
       "                        <th id=\"T_c66fae4a_ebbd_11e9_a4bc_acde48001122level0_row9\" class=\"row_heading level0 row9\" >6</th>\n",
       "                        <td id=\"T_c66fae4a_ebbd_11e9_a4bc_acde48001122row9_col0\" class=\"data row9 col0\" >yr_built</td>\n",
       "                        <td id=\"T_c66fae4a_ebbd_11e9_a4bc_acde48001122row9_col1\" class=\"data row9 col1\" >0.0127342</td>\n",
       "            </tr>\n",
       "    </tbody></table>"
      ],
      "text/plain": [
       "<pandas.io.formats.style.Styler at 0x120280e10>"
      ]
     },
     "execution_count": 20,
     "metadata": {},
     "output_type": "execute_result"
    }
   ],
   "source": [
    "df_imp.sort_values('importance', ascending=False)\\\n",
    "  .head(10).style.bar(subset=['importance'],align='mid')"
   ]
  },
  {
   "cell_type": "markdown",
   "metadata": {},
   "source": [
    "## feature importance using yellowbrick"
   ]
  },
  {
   "cell_type": "code",
   "execution_count": 42,
   "metadata": {
    "ExecuteTime": {
     "end_time": "2019-10-11T00:47:03.920746Z",
     "start_time": "2019-10-11T00:47:03.917757Z"
    }
   },
   "outputs": [],
   "source": [
    "from yellowbrick.model_selection import FeatureImportances"
   ]
  },
  {
   "cell_type": "code",
   "execution_count": 44,
   "metadata": {
    "ExecuteTime": {
     "end_time": "2019-10-11T00:49:10.022624Z",
     "start_time": "2019-10-11T00:49:03.910515Z"
    }
   },
   "outputs": [
    {
     "data": {
      "image/png": "[encoded data removed]",
      "text/plain": [
       "<Figure size 576x1440 with 1 Axes>"
      ]
     },
     "metadata": {
      "needs_background": "light"
     },
     "output_type": "display_data"
    },
    {
     "data": {
      "text/plain": [
       "<matplotlib.axes._subplots.AxesSubplot at 0x12e9e1d68>"
      ]
     },
     "execution_count": 44,
     "metadata": {},
     "output_type": "execute_result"
    }
   ],
   "source": [
    "model = RandomForestRegressor(n_estimators= 50,random_state=random_state,\n",
    "                              max_depth=50, bootstrap=True)\n",
    "\n",
    "\n",
    "df_Xtrain = pd.DataFrame(Xtrain, columns=features)\n",
    "plt.figure(figsize=(8,20))\n",
    "viz = FeatureImportances(model)\n",
    "viz.fit(df_Xtrain, ytrain)\n",
    "viz.show()"
   ]
  },
  {
   "cell_type": "code",
   "execution_count": 22,
   "metadata": {
    "ExecuteTime": {
     "end_time": "2019-10-11T00:26:32.261170Z",
     "start_time": "2019-10-11T00:26:32.253120Z"
    }
   },
   "outputs": [
    {
     "data": {
      "text/plain": [
       "['bedrooms',\n",
       " 'bathrooms',\n",
       " 'sqft_living',\n",
       " 'sqft_lot',\n",
       " 'sqft_above',\n",
       " 'sqft_basement',\n",
       " 'yr_built',\n",
       " 'yr_renovated',\n",
       " 'lat',\n",
       " 'long']"
      ]
     },
     "execution_count": 22,
     "metadata": {},
     "output_type": "execute_result"
    }
   ],
   "source": [
    "topN = 10\n",
    "top_cols = df_imp.head(topN)['feature'].values.tolist()\n",
    "top_cols"
   ]
  },
  {
   "cell_type": "code",
   "execution_count": 23,
   "metadata": {
    "ExecuteTime": {
     "end_time": "2019-10-11T00:26:32.270137Z",
     "start_time": "2019-10-11T00:26:32.262995Z"
    }
   },
   "outputs": [
    {
     "data": {
      "text/plain": [
       "(21613, 92)"
      ]
     },
     "execution_count": 23,
     "metadata": {},
     "output_type": "execute_result"
    }
   ],
   "source": [
    "df_raw.shape"
   ]
  },
  {
   "cell_type": "markdown",
   "metadata": {},
   "source": [
    "# Use features selection to refit random forest"
   ]
  },
  {
   "cell_type": "code",
   "execution_count": 24,
   "metadata": {
    "ExecuteTime": {
     "end_time": "2019-10-11T00:26:32.278209Z",
     "start_time": "2019-10-11T00:26:32.272005Z"
    }
   },
   "outputs": [],
   "source": [
    "def grid_search_topNs():\n",
    "    for topN in [10,20,30,40,50,60,70,80,90]:\n",
    "\n",
    "        print('Running for topN = ', topN)\n",
    "        top_cols = df_imp.head(topN)['feature'].values.tolist()\n",
    "\n",
    "        features = top_cols\n",
    "        target = ['price']\n",
    "\n",
    "        df = df_raw[features + target]\n",
    "\n",
    "        model = RandomForestRegressor(n_estimators= 40,random_state=random_state,\n",
    "                                     max_depth=50, bootstrap=True)\n",
    "\n",
    "        rmse, r2_train, ar2_train, r2_test, ar2_test, cv = \\\n",
    "            multiple_linear_regression(df, features, target,model,\n",
    "                                       verbose=2,test_size=0.2)\n",
    "\n",
    "\n",
    "        df_eval.loc[len(df_eval)] = ['Random Forest Regressor',\n",
    "                                     'n_estimators = 40, max_depth = 50,\\\n",
    "                                     topN features = '+str(topN),\n",
    "                                     rmse,r2_train,ar2_train,\n",
    "                                     r2_test,ar2_test,cv]"
   ]
  },
  {
   "cell_type": "code",
   "execution_count": 25,
   "metadata": {
    "ExecuteTime": {
     "end_time": "2019-10-11T00:26:55.736803Z",
     "start_time": "2019-10-11T00:26:32.280371Z"
    }
   },
   "outputs": [
    {
     "name": "stderr",
     "output_type": "stream",
     "text": [
      "[Parallel(n_jobs=-1)]: Using backend LokyBackend with 4 concurrent workers.\n",
      "[Parallel(n_jobs=-1)]: Done   5 out of   5 | elapsed:   17.1s finished\n"
     ]
    }
   ],
   "source": [
    "topN = 40\n",
    "top_cols = df_imp.head(topN)['feature'].values.tolist()\n",
    "\n",
    "features = top_cols\n",
    "target = ['price']\n",
    "\n",
    "df = df_raw[features + target]\n",
    "\n",
    "model = RandomForestRegressor(n_estimators= 50,random_state=random_state,\n",
    "                              max_depth=50, bootstrap=True)\n",
    "\n",
    "rmse, r2_train, ar2_train, r2_test, ar2_test, cv = \\\n",
    "    multiple_linear_regression(df, features, target,model,\n",
    "                               verbose=2,test_size=0.2)\n",
    "\n",
    "df_eval.loc[len(df_eval)] = ['Random Forest Regressor',\n",
    "                             'n_estimators = 50, max_depth = 50,\\\n",
    "                             topN features = '+str(topN),\n",
    "                             rmse,r2_train,ar2_train,\n",
    "                             r2_test,ar2_test,cv]"
   ]
  },
  {
   "cell_type": "code",
   "execution_count": 26,
   "metadata": {
    "ExecuteTime": {
     "end_time": "2019-10-11T00:26:55.753968Z",
     "start_time": "2019-10-11T00:26:55.738826Z"
    }
   },
   "outputs": [
    {
     "data": {
      "text/html": [
       "<style  type=\"text/css\" >\n",
       "    #T_d4775efc_ebbd_11e9_a4bc_acde48001122row0_col6 {\n",
       "            background-color:  #023858;\n",
       "            color:  #f1f1f1;\n",
       "        }    #T_d4775efc_ebbd_11e9_a4bc_acde48001122row1_col6 {\n",
       "            background-color:  #03446a;\n",
       "            color:  #f1f1f1;\n",
       "        }    #T_d4775efc_ebbd_11e9_a4bc_acde48001122row2_col6 {\n",
       "            background-color:  #03517e;\n",
       "            color:  #f1f1f1;\n",
       "        }    #T_d4775efc_ebbd_11e9_a4bc_acde48001122row3_col6 {\n",
       "            background-color:  #2081b9;\n",
       "            color:  #000000;\n",
       "        }    #T_d4775efc_ebbd_11e9_a4bc_acde48001122row4_col6 {\n",
       "            background-color:  #e0dded;\n",
       "            color:  #000000;\n",
       "        }    #T_d4775efc_ebbd_11e9_a4bc_acde48001122row5_col6 {\n",
       "            background-color:  #fff7fb;\n",
       "            color:  #000000;\n",
       "        }</style><table id=\"T_d4775efc_ebbd_11e9_a4bc_acde48001122\" ><thead>    <tr>        <th class=\"blank level0\" ></th>        <th class=\"col_heading level0 col0\" >Model</th>        <th class=\"col_heading level0 col1\" >Details</th>        <th class=\"col_heading level0 col2\" >Root Mean Squared Error (RMSE)</th>        <th class=\"col_heading level0 col3\" >R-squared (training)</th>        <th class=\"col_heading level0 col4\" >Adjusted R-squared (training)</th>        <th class=\"col_heading level0 col5\" >R-squared (test)</th>        <th class=\"col_heading level0 col6\" >Adjusted R-squared (test)</th>        <th class=\"col_heading level0 col7\" >5-Fold Cross Validation</th>    </tr></thead><tbody>\n",
       "                <tr>\n",
       "                        <th id=\"T_d4775efc_ebbd_11e9_a4bc_acde48001122level0_row0\" class=\"row_heading level0 row0\" >5</th>\n",
       "                        <td id=\"T_d4775efc_ebbd_11e9_a4bc_acde48001122row0_col0\" class=\"data row0 col0\" >Random Forest Regressor</td>\n",
       "                        <td id=\"T_d4775efc_ebbd_11e9_a4bc_acde48001122row0_col1\" class=\"data row0 col1\" >n_estimators = 50, max_depth = 50,                             topN features = 40</td>\n",
       "                        <td id=\"T_d4775efc_ebbd_11e9_a4bc_acde48001122row0_col2\" class=\"data row0 col2\" >121221</td>\n",
       "                        <td id=\"T_d4775efc_ebbd_11e9_a4bc_acde48001122row0_col3\" class=\"data row0 col3\" >0.981</td>\n",
       "                        <td id=\"T_d4775efc_ebbd_11e9_a4bc_acde48001122row0_col4\" class=\"data row0 col4\" >0.981</td>\n",
       "                        <td id=\"T_d4775efc_ebbd_11e9_a4bc_acde48001122row0_col5\" class=\"data row0 col5\" >0.891</td>\n",
       "                        <td id=\"T_d4775efc_ebbd_11e9_a4bc_acde48001122row0_col6\" class=\"data row0 col6\" >0.89</td>\n",
       "                        <td id=\"T_d4775efc_ebbd_11e9_a4bc_acde48001122row0_col7\" class=\"data row0 col7\" >0.87</td>\n",
       "            </tr>\n",
       "            <tr>\n",
       "                        <th id=\"T_d4775efc_ebbd_11e9_a4bc_acde48001122level0_row1\" class=\"row_heading level0 row1\" >3</th>\n",
       "                        <td id=\"T_d4775efc_ebbd_11e9_a4bc_acde48001122row1_col0\" class=\"data row1 col0\" >Random Forest Regressor</td>\n",
       "                        <td id=\"T_d4775efc_ebbd_11e9_a4bc_acde48001122row1_col1\" class=\"data row1 col1\" >all encoded features, n_estimators=50</td>\n",
       "                        <td id=\"T_d4775efc_ebbd_11e9_a4bc_acde48001122row1_col2\" class=\"data row1 col2\" >121276</td>\n",
       "                        <td id=\"T_d4775efc_ebbd_11e9_a4bc_acde48001122row1_col3\" class=\"data row1 col3\" >0.982</td>\n",
       "                        <td id=\"T_d4775efc_ebbd_11e9_a4bc_acde48001122row1_col4\" class=\"data row1 col4\" >0.982</td>\n",
       "                        <td id=\"T_d4775efc_ebbd_11e9_a4bc_acde48001122row1_col5\" class=\"data row1 col5\" >0.891</td>\n",
       "                        <td id=\"T_d4775efc_ebbd_11e9_a4bc_acde48001122row1_col6\" class=\"data row1 col6\" >0.889</td>\n",
       "                        <td id=\"T_d4775efc_ebbd_11e9_a4bc_acde48001122row1_col7\" class=\"data row1 col7\" >0.87</td>\n",
       "            </tr>\n",
       "            <tr>\n",
       "                        <th id=\"T_d4775efc_ebbd_11e9_a4bc_acde48001122level0_row2\" class=\"row_heading level0 row2\" >4</th>\n",
       "                        <td id=\"T_d4775efc_ebbd_11e9_a4bc_acde48001122row2_col0\" class=\"data row2 col0\" >Random Forest Regressor after grid search</td>\n",
       "                        <td id=\"T_d4775efc_ebbd_11e9_a4bc_acde48001122row2_col1\" class=\"data row2 col1\" > all encoded features, best grid search,                             n_estimators=40, max_features=69, max_depth=50</td>\n",
       "                        <td id=\"T_d4775efc_ebbd_11e9_a4bc_acde48001122row2_col2\" class=\"data row2 col2\" >121702</td>\n",
       "                        <td id=\"T_d4775efc_ebbd_11e9_a4bc_acde48001122row2_col3\" class=\"data row2 col3\" >0.981</td>\n",
       "                        <td id=\"T_d4775efc_ebbd_11e9_a4bc_acde48001122row2_col4\" class=\"data row2 col4\" >0.981</td>\n",
       "                        <td id=\"T_d4775efc_ebbd_11e9_a4bc_acde48001122row2_col5\" class=\"data row2 col5\" >0.89</td>\n",
       "                        <td id=\"T_d4775efc_ebbd_11e9_a4bc_acde48001122row2_col6\" class=\"data row2 col6\" >0.888</td>\n",
       "                        <td id=\"T_d4775efc_ebbd_11e9_a4bc_acde48001122row2_col7\" class=\"data row2 col7\" >0.868</td>\n",
       "            </tr>\n",
       "            <tr>\n",
       "                        <th id=\"T_d4775efc_ebbd_11e9_a4bc_acde48001122level0_row3\" class=\"row_heading level0 row3\" >1</th>\n",
       "                        <td id=\"T_d4775efc_ebbd_11e9_a4bc_acde48001122row3_col0\" class=\"data row3 col0\" >Random Forest Regressor</td>\n",
       "                        <td id=\"T_d4775efc_ebbd_11e9_a4bc_acde48001122row3_col1\" class=\"data row3 col1\" >all orig features n_estimators=50</td>\n",
       "                        <td id=\"T_d4775efc_ebbd_11e9_a4bc_acde48001122row3_col2\" class=\"data row3 col2\" >125317</td>\n",
       "                        <td id=\"T_d4775efc_ebbd_11e9_a4bc_acde48001122row3_col3\" class=\"data row3 col3\" >0.981</td>\n",
       "                        <td id=\"T_d4775efc_ebbd_11e9_a4bc_acde48001122row3_col4\" class=\"data row3 col4\" >0.981</td>\n",
       "                        <td id=\"T_d4775efc_ebbd_11e9_a4bc_acde48001122row3_col5\" class=\"data row3 col5\" >0.883</td>\n",
       "                        <td id=\"T_d4775efc_ebbd_11e9_a4bc_acde48001122row3_col6\" class=\"data row3 col6\" >0.883</td>\n",
       "                        <td id=\"T_d4775efc_ebbd_11e9_a4bc_acde48001122row3_col7\" class=\"data row3 col7\" >0.872</td>\n",
       "            </tr>\n",
       "            <tr>\n",
       "                        <th id=\"T_d4775efc_ebbd_11e9_a4bc_acde48001122level0_row4\" class=\"row_heading level0 row4\" >0</th>\n",
       "                        <td id=\"T_d4775efc_ebbd_11e9_a4bc_acde48001122row4_col0\" class=\"data row4 col0\" >Random Forest Regressor</td>\n",
       "                        <td id=\"T_d4775efc_ebbd_11e9_a4bc_acde48001122row4_col1\" class=\"data row4 col1\" >all orig features</td>\n",
       "                        <td id=\"T_d4775efc_ebbd_11e9_a4bc_acde48001122row4_col2\" class=\"data row4 col2\" >130835</td>\n",
       "                        <td id=\"T_d4775efc_ebbd_11e9_a4bc_acde48001122row4_col3\" class=\"data row4 col3\" >0.974</td>\n",
       "                        <td id=\"T_d4775efc_ebbd_11e9_a4bc_acde48001122row4_col4\" class=\"data row4 col4\" >0.974</td>\n",
       "                        <td id=\"T_d4775efc_ebbd_11e9_a4bc_acde48001122row4_col5\" class=\"data row4 col5\" >0.873</td>\n",
       "                        <td id=\"T_d4775efc_ebbd_11e9_a4bc_acde48001122row4_col6\" class=\"data row4 col6\" >0.872</td>\n",
       "                        <td id=\"T_d4775efc_ebbd_11e9_a4bc_acde48001122row4_col7\" class=\"data row4 col7\" >0.86</td>\n",
       "            </tr>\n",
       "            <tr>\n",
       "                        <th id=\"T_d4775efc_ebbd_11e9_a4bc_acde48001122level0_row5\" class=\"row_heading level0 row5\" >2</th>\n",
       "                        <td id=\"T_d4775efc_ebbd_11e9_a4bc_acde48001122row5_col0\" class=\"data row5 col0\" >Random Forest Regressor</td>\n",
       "                        <td id=\"T_d4775efc_ebbd_11e9_a4bc_acde48001122row5_col1\" class=\"data row5 col1\" >all encoded features</td>\n",
       "                        <td id=\"T_d4775efc_ebbd_11e9_a4bc_acde48001122row5_col2\" class=\"data row5 col2\" >132481</td>\n",
       "                        <td id=\"T_d4775efc_ebbd_11e9_a4bc_acde48001122row5_col3\" class=\"data row5 col3\" >0.975</td>\n",
       "                        <td id=\"T_d4775efc_ebbd_11e9_a4bc_acde48001122row5_col4\" class=\"data row5 col4\" >0.975</td>\n",
       "                        <td id=\"T_d4775efc_ebbd_11e9_a4bc_acde48001122row5_col5\" class=\"data row5 col5\" >0.87</td>\n",
       "                        <td id=\"T_d4775efc_ebbd_11e9_a4bc_acde48001122row5_col6\" class=\"data row5 col6\" >0.868</td>\n",
       "                        <td id=\"T_d4775efc_ebbd_11e9_a4bc_acde48001122row5_col7\" class=\"data row5 col7\" >0.86</td>\n",
       "            </tr>\n",
       "    </tbody></table>"
      ],
      "text/plain": [
       "<pandas.io.formats.style.Styler at 0x120ac5080>"
      ]
     },
     "execution_count": 26,
     "metadata": {},
     "output_type": "execute_result"
    }
   ],
   "source": [
    "df_eval.sort_values('Adjusted R-squared (test)',ascending=False)\\\n",
    "  .style.background_gradient(subset=['Adjusted R-squared (test)'])"
   ]
  },
  {
   "cell_type": "markdown",
   "metadata": {},
   "source": [
    "# Feature Importances using yellowbricks"
   ]
  },
  {
   "cell_type": "code",
   "execution_count": 36,
   "metadata": {
    "ExecuteTime": {
     "end_time": "2019-10-11T00:41:28.029274Z",
     "start_time": "2019-10-11T00:41:28.024886Z"
    }
   },
   "outputs": [],
   "source": [
    "import matplotlib.pyplot as plt\n",
    "plt.rcParams['figure.figsize'] = 8,8\n",
    "plt.rcParams.update({'font.size': 16})\n",
    "\n",
    "plt.style.use('ggplot')\n",
    "%matplotlib inline\n",
    "\n",
    "from yellowbrick.features import Rank1D\n",
    "from yellowbrick.features import Rank2D"
   ]
  },
  {
   "cell_type": "code",
   "execution_count": 37,
   "metadata": {
    "ExecuteTime": {
     "end_time": "2019-10-11T00:42:01.312934Z",
     "start_time": "2019-10-11T00:42:00.819278Z"
    }
   },
   "outputs": [
    {
     "name": "stderr",
     "output_type": "stream",
     "text": [
      "/Users/poudel/miniconda3/envs/dataSc/lib/python3.7/site-packages/scipy/stats/morestats.py:1660: UserWarning: p-value may not be accurate for N > 5000.\n",
      "  warnings.warn(\"p-value may not be accurate for N > 5000.\")\n",
      "/Users/poudel/miniconda3/envs/dataSc/lib/python3.7/site-packages/yellowbrick/features/rankd.py:216: YellowbrickWarning: RankD plots may be clipped when using matplotlib v3.1.1, upgrade to matplotlib v3.1.2 or later to fix the plots.\n",
      "  warnings.warn(msg, YellowbrickWarning)\n"
     ]
    },
    {
     "data": {
      "image/png": "[encoded data removed]",
      "text/plain": [
       "<Figure size 1440x1440 with 1 Axes>"
      ]
     },
     "metadata": {
      "needs_background": "light"
     },
     "output_type": "display_data"
    },
    {
     "data": {
      "text/plain": [
       "<matplotlib.axes._subplots.AxesSubplot at 0x12fdc1f98>"
      ]
     },
     "execution_count": 37,
     "metadata": {},
     "output_type": "execute_result"
    }
   ],
   "source": [
    "topN = 40\n",
    "top_cols = df_imp.head(topN)['feature'].values.tolist()\n",
    "\n",
    "features = top_cols\n",
    "target = ['price']\n",
    "\n",
    "df = df_raw[features + target]\n",
    "\n",
    "# train test split\n",
    "train, test = train_test_split(df, test_size=0.2, random_state=100)\n",
    "\n",
    "# train test values\n",
    "X = df[features].values\n",
    "y = df[target].values.ravel()\n",
    "\n",
    "Xtrain = train[features].values\n",
    "ytrain = train[target].values.ravel()\n",
    "\n",
    "Xtest = test[features].values\n",
    "ytest = test[target].values.ravel()\n",
    "\n",
    "\n",
    "model = RandomForestRegressor(n_estimators= 50,random_state=random_state,\n",
    "                              max_depth=50, bootstrap=True)\n",
    "\n",
    "\n",
    "plt.figure(figsize=(20,20))\n",
    "\n",
    "\n",
    "# Instantiate the visualizer with the Pearson ranking algorithm\n",
    "visualizer = Rank1D(features=top_cols, algorithm='shapiro') \n",
    "\n",
    "\n",
    "visualizer.fit(Xtrain, ytrain)                \n",
    "visualizer.transform(Xtrain)             \n",
    "visualizer.poof()"
   ]
  },
  {
   "cell_type": "code",
   "execution_count": 38,
   "metadata": {
    "ExecuteTime": {
     "end_time": "2019-10-11T00:42:15.224313Z",
     "start_time": "2019-10-11T00:42:14.570705Z"
    }
   },
   "outputs": [
    {
     "name": "stderr",
     "output_type": "stream",
     "text": [
      "/Users/poudel/miniconda3/envs/dataSc/lib/python3.7/site-packages/yellowbrick/features/rankd.py:216: YellowbrickWarning: RankD plots may be clipped when using matplotlib v3.1.1, upgrade to matplotlib v3.1.2 or later to fix the plots.\n",
      "  warnings.warn(msg, YellowbrickWarning)\n"
     ]
    },
    {
     "data": {
      "image/png": "[encoded data removed]",
      "text/plain": [
       "<Figure size 1440x1440 with 2 Axes>"
      ]
     },
     "metadata": {
      "needs_background": "light"
     },
     "output_type": "display_data"
    },
    {
     "data": {
      "text/plain": [
       "<matplotlib.axes._subplots.AxesSubplot at 0x1333e7400>"
      ]
     },
     "execution_count": 38,
     "metadata": {},
     "output_type": "execute_result"
    }
   ],
   "source": [
    "topN = 40\n",
    "top_cols = df_imp.head(topN)['feature'].values.tolist()\n",
    "\n",
    "features = top_cols\n",
    "target = ['price']\n",
    "\n",
    "df = df_raw[features + target]\n",
    "\n",
    "# train test split\n",
    "train, test = train_test_split(df, test_size=0.2, random_state=100)\n",
    "\n",
    "# train test values\n",
    "X = df[features].values\n",
    "y = df[target].values.ravel()\n",
    "\n",
    "Xtrain = train[features].values\n",
    "ytrain = train[target].values.ravel()\n",
    "\n",
    "Xtest = test[features].values\n",
    "ytest = test[target].values.ravel()\n",
    "\n",
    "\n",
    "model = RandomForestRegressor(n_estimators= 50,random_state=random_state,\n",
    "                              max_depth=50, bootstrap=True)\n",
    "\n",
    "\n",
    "plt.figure(figsize=(20,20))\n",
    "\n",
    "\n",
    "# Instantiate the visualizer with the Pearson ranking algorithm\n",
    "visualizer = Rank2D(features=top_cols, algorithm='covariance') \n",
    "\n",
    "#visualizer = Rank2D(features=feature_names, algorithm='pearson')\n",
    "visualizer.fit(Xtrain, ytrain)                \n",
    "visualizer.transform(Xtrain)             \n",
    "visualizer.poof()"
   ]
  },
  {
   "cell_type": "code",
   "execution_count": null,
   "metadata": {},
   "outputs": [],
   "source": []
  }
 ],
 "metadata": {
  "kernelspec": {
   "display_name": "Python (dataSc)",
   "language": "python",
   "name": "datasc"
  },
  "language_info": {
   "codemirror_mode": {
    "name": "ipython",
    "version": 3
   },
   "file_extension": ".py",
   "mimetype": "text/x-python",
   "name": "python",
   "nbconvert_exporter": "python",
   "pygments_lexer": "ipython3",
   "version": "3.7.3"
  },
  "toc": {
   "base_numbering": 1,
   "nav_menu": {},
   "number_sections": true,
   "sideBar": true,
   "skip_h1_title": false,
   "title_cell": "Table of Contents",
   "title_sidebar": "Contents",
   "toc_cell": true,
   "toc_position": {},
   "toc_section_display": true,
   "toc_window_display": true
  }
 },
 "nbformat": 4,
 "nbformat_minor": 2
}
