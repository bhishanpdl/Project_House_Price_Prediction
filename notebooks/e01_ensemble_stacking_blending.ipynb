{
  "nbformat": 4,
  "nbformat_minor": 0,
  "metadata": {
    "accelerator": "GPU",
    "colab": {
      "name": "f01_ensemble_stacking_blending.ipynb",
      "provenance": [],
      "collapsed_sections": []
    },
    "kernelspec": {
      "display_name": "Python 3",
      "language": "python",
      "name": "python3"
    },
    "language_info": {
      "codemirror_mode": {
        "name": "ipython",
        "version": 3
      },
      "file_extension": ".py",
      "mimetype": "text/x-python",
      "name": "python",
      "nbconvert_exporter": "python",
      "pygments_lexer": "ipython3",
      "version": "3.7.7"
    }
  },
  "cells": [
    {
      "cell_type": "markdown",
      "metadata": {
        "id": "aF0vfOSoRKbV"
      },
      "source": [
        "<div class=\"alert alert-block alert-success\">\n",
        "<b>Kernel Author:</b>  <br>\n",
        "<a href=\"https://bhishanpdl.github.io/\" , target=\"_blank\">Bhishan Poudel,  Data Scientist, Ph.D Astrophysics</a> .\n",
        "</div>"
      ]
    },
    {
      "cell_type": "markdown",
      "metadata": {
        "id": "ZrcXZt_lRUTH"
      },
      "source": [
        "# Data Description\n",
        "\n",
        "This dataset contains house sale prices for King County, which includes Seattle. It includes homes sold between May 2014 and May 2015.\n",
        "\n",
        "```\n",
        "Dependent features: 1 (price)\n",
        "Features : 19 home features\n",
        "Id: 1 house ID\n",
        "Task: Estimate the price based on given features.\n",
        "```"
      ]
    },
    {
      "cell_type": "markdown",
      "metadata": {
        "id": "Z46Gwfc3Rcwk"
      },
      "source": [
        "# Business Problem\n",
        "\n",
        "<div class=\"alert alert-block alert-success\">\n",
        "<b>Business Problem:</b>  <br>\n",
        "Task &nbsp;&nbsp; : Predict the house price based on King County Seattle House price data. <br>\n",
        "Metric : RMSE <br>\n",
        "General Model: SVR, Ridge, Random Forest <br>\n",
        "Boosting: Gradient Boosting, xgb, lgb\n",
        "Tools: Stakcing multiple regressors to train and blending them to predit<br>\n",
        "Question: What is the price of new house?\n",
        "</div>"
      ]
    },
    {
      "cell_type": "markdown",
      "metadata": {
        "id": "8vuUeq0iRjZn"
      },
      "source": [
        "# Imports"
      ]
    },
    {
      "cell_type": "code",
      "metadata": {
        "id": "Zv0HTLcCRdfB"
      },
      "source": [
        "import time\n",
        "\n",
        "time_start_notebook = time.time()"
      ],
      "execution_count": 1,
      "outputs": []
    },
    {
      "cell_type": "code",
      "metadata": {
        "id": "I5NASRBluDMu"
      },
      "source": [
        "%%capture\n",
        "import os\n",
        "import sys\n",
        "ENV_COLAB = 'google.colab' in sys.modules\n",
        "\n",
        "if ENV_COLAB:\n",
        "    ## install modules\n",
        "    !pip install watermark\n",
        "    !pip install catboost\n",
        "    !pip install shap\n",
        "    !pip install mlxtend\n",
        "\n",
        "    # if we update existing module, we need to restart colab\n",
        "    !pip install -U scikit-learn\n",
        "\n",
        "    ## print\n",
        "    print('Environment: Google Colaboratory.')\n",
        "TREE_METHOD = 'gpu_hist' if ENV_COLAB else 'auto'"
      ],
      "execution_count": 2,
      "outputs": []
    },
    {
      "cell_type": "code",
      "metadata": {
        "id": "6fLyC776RmGc",
        "outputId": "24e65ba3-554c-46ca-c92f-a409a38846ba",
        "colab": {
          "base_uri": "https://localhost:8080/"
        }
      },
      "source": [
        "import numpy as np\n",
        "import pandas as pd\n",
        "\n",
        "# visualization\n",
        "import seaborn as sns\n",
        "sns.set(color_codes=True)\n",
        "import matplotlib\n",
        "import matplotlib.pyplot as plt\n",
        "%matplotlib inline\n",
        "\n",
        "# mixed\n",
        "import os\n",
        "import time\n",
        "from pprint import pprint\n",
        "\n",
        "# random state\n",
        "SEED=100\n",
        "np.random.seed(SEED)\n",
        "\n",
        "# settings\n",
        "pd.set_option('display.max_columns', 200)\n",
        "\n",
        "# sklearn\n",
        "import sklearn\n",
        "from sklearn import linear_model # Ridge, RidgeCV, ElasticNet, ElasticNetCV\n",
        "from sklearn import svm # SVR\n",
        "from sklearn import preprocessing\n",
        "from sklearn import model_selection\n",
        "from sklearn import ensemble\n",
        "from sklearn import metrics\n",
        "from sklearn import pipeline\n",
        "from sklearn import decomposition # PCA\n",
        "from sklearn.inspection import permutation_importance\n",
        "\n",
        "# boosting\n",
        "from sklearn.experimental import enable_hist_gradient_boosting  # noqa\n",
        "from sklearn.ensemble import HistGradientBoostingRegressor\n",
        "import xgboost\n",
        "import lightgbm\n",
        "import catboost\n",
        "\n",
        "# special\n",
        "import mlxtend\n",
        "from mlxtend.regressor import StackingCVRegressor\n",
        "\n",
        "# versions\n",
        "import watermark\n",
        "%load_ext watermark\n",
        "%watermark -a \"Bhishan Poudel\" -d -v -m\n",
        "print()\n",
        "%watermark -iv"
      ],
      "execution_count": 3,
      "outputs": [
        {
          "output_type": "stream",
          "text": [
            "Bhishan Poudel 2020-11-06 \n",
            "\n",
            "CPython 3.6.9\n",
            "IPython 5.5.0\n",
            "\n",
            "compiler   : GCC 8.4.0\n",
            "system     : Linux\n",
            "release    : 4.19.112+\n",
            "machine    : x86_64\n",
            "processor  : x86_64\n",
            "CPU cores  : 2\n",
            "interpreter: 64bit\n",
            "\n",
            "numpy      1.18.5\n",
            "sklearn    0.23.2\n",
            "xgboost    0.90\n",
            "pandas     1.1.4\n",
            "lightgbm   2.2.3\n",
            "catboost   0.24.2\n",
            "matplotlib 3.2.2\n",
            "watermark  2.0.2\n",
            "mlxtend    0.14.0\n",
            "seaborn    0.11.0\n",
            "\n"
          ],
          "name": "stdout"
        }
      ]
    },
    {
      "cell_type": "code",
      "metadata": {
        "id": "tK5thQ89qfcL",
        "outputId": "bb88fcf6-ae45-429d-8844-de644c4fd90e",
        "colab": {
          "base_uri": "https://localhost:8080/"
        }
      },
      "source": [
        "!nvidia-smi"
      ],
      "execution_count": 4,
      "outputs": [
        {
          "output_type": "stream",
          "text": [
            "Fri Nov  6 12:36:45 2020       \n",
            "+-----------------------------------------------------------------------------+\n",
            "| NVIDIA-SMI 455.32.00    Driver Version: 418.67       CUDA Version: 10.1     |\n",
            "|-------------------------------+----------------------+----------------------+\n",
            "| GPU  Name        Persistence-M| Bus-Id        Disp.A | Volatile Uncorr. ECC |\n",
            "| Fan  Temp  Perf  Pwr:Usage/Cap|         Memory-Usage | GPU-Util  Compute M. |\n",
            "|                               |                      |               MIG M. |\n",
            "|===============================+======================+======================|\n",
            "|   0  Tesla T4            Off  | 00000000:00:04.0 Off |                    0 |\n",
            "| N/A   63C    P8    11W /  70W |      0MiB / 15079MiB |      0%      Default |\n",
            "|                               |                      |                 ERR! |\n",
            "+-------------------------------+----------------------+----------------------+\n",
            "                                                                               \n",
            "+-----------------------------------------------------------------------------+\n",
            "| Processes:                                                                  |\n",
            "|  GPU   GI   CI        PID   Type   Process name                  GPU Memory |\n",
            "|        ID   ID                                                   Usage      |\n",
            "|=============================================================================|\n",
            "|  No running processes found                                                 |\n",
            "+-----------------------------------------------------------------------------+\n"
          ],
          "name": "stdout"
        }
      ]
    },
    {
      "cell_type": "markdown",
      "metadata": {
        "id": "Ci87CLHpvHNL"
      },
      "source": [
        "# Important Scripts"
      ]
    },
    {
      "cell_type": "code",
      "metadata": {
        "id": "4WRs2BsivJsl"
      },
      "source": [
        "def show_methods(obj, ncols=7,start=None, inside=None):\n",
        "    \"\"\" Show all the attributes of a given method.\n",
        "    Example:\n",
        "    ========\n",
        "    show_method_attributes(list)\n",
        "     \"\"\"\n",
        "\n",
        "    print(f'Object Type: {type(obj)}\\n')\n",
        "    lst = [elem for elem in dir(obj) if elem[0]!='_' ]\n",
        "    lst = [elem for elem in lst \n",
        "           if elem not in 'os np pd sys time psycopg2'.split() ]\n",
        "\n",
        "    if isinstance(start,str):\n",
        "        lst = [elem for elem in lst if elem.startswith(start)]\n",
        "        \n",
        "    if isinstance(start,tuple) or isinstance(start,list):\n",
        "        lst = [elem for elem in lst for start_elem in start\n",
        "               if elem.startswith(start_elem)]\n",
        "        \n",
        "    if isinstance(inside,str):\n",
        "        lst = [elem for elem in lst if inside in elem]\n",
        "        \n",
        "    if isinstance(inside,tuple) or isinstance(inside,list):\n",
        "        lst = [elem for elem in lst for inside_elem in inside\n",
        "               if inside_elem in elem]\n",
        "\n",
        "    return pd.DataFrame(np.array_split(lst,ncols)).T.fillna('')"
      ],
      "execution_count": 5,
      "outputs": []
    },
    {
      "cell_type": "code",
      "metadata": {
        "id": "BdAdj9KnvQ8c"
      },
      "source": [
        "def adjustedR2(rsquared,nrows,ncols):\n",
        "    return rsquared- (ncols-1)/(nrows-ncols) * (1-rsquared)"
      ],
      "execution_count": 6,
      "outputs": []
    },
    {
      "cell_type": "code",
      "metadata": {
        "id": "mK3TC-HwvUBH"
      },
      "source": [
        "def print_regr_eval(ytest,ypreds,ncols):\n",
        "    rmse = np.sqrt(metrics.mean_squared_error(ytest,ypreds))\n",
        "    r2 = metrics.r2_score(ytest,ypreds)\n",
        "    ar2 = adjustedR2(r2,len(ytest),ncols)\n",
        "    evs = metrics.explained_variance_score(ytest, ypreds)\n",
        "\n",
        "    print(f\"\"\"\n",
        "             RMSE : {rmse:,.2f}\n",
        "Explained Variance: {evs:.6f}\n",
        "         R-Squared: {r2:,.6f}\n",
        "Adjusted R-squared: {ar2:,.6f}\n",
        "\n",
        "\"\"\")"
      ],
      "execution_count": 7,
      "outputs": []
    },
    {
      "cell_type": "markdown",
      "metadata": {
        "id": "IP98WTc4vcp4"
      },
      "source": [
        "# Parameters"
      ]
    },
    {
      "cell_type": "code",
      "metadata": {
        "id": "53EpOMekveTi",
        "outputId": "aab3c158-2deb-4d6f-86c5-d413c77d9581",
        "colab": {
          "base_uri": "https://localhost:8080/"
        }
      },
      "source": [
        "if ENV_COLAB:\n",
        "    path_raw = 'https://raw.githubusercontent.com/bhishanpdl/Datasets/master/'\n",
        "    proj = 'Projects/King_County_Seattle_House_Price_Kaggle/'\n",
        "    data_path_parent = path_raw + proj\n",
        "    data_path_train = data_path_parent + 'raw/train.csv'\n",
        "    data_path_test = data_path_parent + 'raw/test.csv'\n",
        "else:\n",
        "    data_path_parent = '../data/'\n",
        "    data_path_train = data_path_parent + 'raw/train.csv'\n",
        "    data_path_test = data_path_parent + 'raw/test.csv'\n",
        "\n",
        "target = 'price'\n",
        "train_size = 0.8\n",
        "\n",
        "print(data_path_train)"
      ],
      "execution_count": 8,
      "outputs": [
        {
          "output_type": "stream",
          "text": [
            "https://raw.githubusercontent.com/bhishanpdl/Datasets/master/Projects/King_County_Seattle_House_Price_Kaggle/raw/train.csv\n"
          ],
          "name": "stdout"
        }
      ]
    },
    {
      "cell_type": "markdown",
      "metadata": {
        "id": "b2I2KshNSGUi"
      },
      "source": [
        "# Load the data"
      ]
    },
    {
      "cell_type": "code",
      "metadata": {
        "id": "KjmdL7RRSD1r",
        "outputId": "cc4cee20-adf1-42e0-f07d-4fe6eb861377",
        "colab": {
          "base_uri": "https://localhost:8080/",
          "height": 295
        }
      },
      "source": [
        "df_train_raw = pd.read_csv(data_path_train)\n",
        "df_test_raw = pd.read_csv(data_path_test)\n",
        "print(df_train_raw.shape)\n",
        "print(df_train_raw.columns)\n",
        "\n",
        "display(df_train_raw.head(2).append(df_train_raw.tail(2)))"
      ],
      "execution_count": 9,
      "outputs": [
        {
          "output_type": "stream",
          "text": [
            "(17290, 21)\n",
            "Index(['id', 'date', 'price', 'bedrooms', 'bathrooms', 'sqft_living',\n",
            "       'sqft_lot', 'floors', 'waterfront', 'view', 'condition', 'grade',\n",
            "       'sqft_above', 'sqft_basement', 'yr_built', 'yr_renovated', 'zipcode',\n",
            "       'lat', 'long', 'sqft_living15', 'sqft_lot15'],\n",
            "      dtype='object')\n"
          ],
          "name": "stdout"
        },
        {
          "output_type": "display_data",
          "data": {
            "text/html": [
              "<div>\n",
              "<style scoped>\n",
              "    .dataframe tbody tr th:only-of-type {\n",
              "        vertical-align: middle;\n",
              "    }\n",
              "\n",
              "    .dataframe tbody tr th {\n",
              "        vertical-align: top;\n",
              "    }\n",
              "\n",
              "    .dataframe thead th {\n",
              "        text-align: right;\n",
              "    }\n",
              "</style>\n",
              "<table border=\"1\" class=\"dataframe\">\n",
              "  <thead>\n",
              "    <tr style=\"text-align: right;\">\n",
              "      <th></th>\n",
              "      <th>id</th>\n",
              "      <th>date</th>\n",
              "      <th>price</th>\n",
              "      <th>bedrooms</th>\n",
              "      <th>bathrooms</th>\n",
              "      <th>sqft_living</th>\n",
              "      <th>sqft_lot</th>\n",
              "      <th>floors</th>\n",
              "      <th>waterfront</th>\n",
              "      <th>view</th>\n",
              "      <th>condition</th>\n",
              "      <th>grade</th>\n",
              "      <th>sqft_above</th>\n",
              "      <th>sqft_basement</th>\n",
              "      <th>yr_built</th>\n",
              "      <th>yr_renovated</th>\n",
              "      <th>zipcode</th>\n",
              "      <th>lat</th>\n",
              "      <th>long</th>\n",
              "      <th>sqft_living15</th>\n",
              "      <th>sqft_lot15</th>\n",
              "    </tr>\n",
              "  </thead>\n",
              "  <tbody>\n",
              "    <tr>\n",
              "      <th>0</th>\n",
              "      <td>2561340020</td>\n",
              "      <td>20140804T000000</td>\n",
              "      <td>325000.0</td>\n",
              "      <td>3</td>\n",
              "      <td>1.75</td>\n",
              "      <td>1780</td>\n",
              "      <td>11096</td>\n",
              "      <td>1.0</td>\n",
              "      <td>0</td>\n",
              "      <td>0</td>\n",
              "      <td>3</td>\n",
              "      <td>7</td>\n",
              "      <td>1210</td>\n",
              "      <td>570</td>\n",
              "      <td>1979</td>\n",
              "      <td>0</td>\n",
              "      <td>98074</td>\n",
              "      <td>47.6170</td>\n",
              "      <td>-122.051</td>\n",
              "      <td>1780</td>\n",
              "      <td>10640</td>\n",
              "    </tr>\n",
              "    <tr>\n",
              "      <th>1</th>\n",
              "      <td>8598200070</td>\n",
              "      <td>20141208T000000</td>\n",
              "      <td>278000.0</td>\n",
              "      <td>2</td>\n",
              "      <td>2.50</td>\n",
              "      <td>1420</td>\n",
              "      <td>2229</td>\n",
              "      <td>2.0</td>\n",
              "      <td>0</td>\n",
              "      <td>0</td>\n",
              "      <td>3</td>\n",
              "      <td>7</td>\n",
              "      <td>1420</td>\n",
              "      <td>0</td>\n",
              "      <td>2004</td>\n",
              "      <td>0</td>\n",
              "      <td>98059</td>\n",
              "      <td>47.4871</td>\n",
              "      <td>-122.165</td>\n",
              "      <td>1500</td>\n",
              "      <td>2230</td>\n",
              "    </tr>\n",
              "    <tr>\n",
              "      <th>17288</th>\n",
              "      <td>7174800760</td>\n",
              "      <td>20140725T000000</td>\n",
              "      <td>667000.0</td>\n",
              "      <td>5</td>\n",
              "      <td>2.00</td>\n",
              "      <td>1900</td>\n",
              "      <td>5470</td>\n",
              "      <td>1.0</td>\n",
              "      <td>0</td>\n",
              "      <td>0</td>\n",
              "      <td>3</td>\n",
              "      <td>7</td>\n",
              "      <td>1180</td>\n",
              "      <td>720</td>\n",
              "      <td>1930</td>\n",
              "      <td>1965</td>\n",
              "      <td>98105</td>\n",
              "      <td>47.6666</td>\n",
              "      <td>-122.303</td>\n",
              "      <td>1300</td>\n",
              "      <td>3250</td>\n",
              "    </tr>\n",
              "    <tr>\n",
              "      <th>17289</th>\n",
              "      <td>9521100280</td>\n",
              "      <td>20140612T000000</td>\n",
              "      <td>480000.0</td>\n",
              "      <td>3</td>\n",
              "      <td>2.50</td>\n",
              "      <td>1250</td>\n",
              "      <td>1103</td>\n",
              "      <td>3.0</td>\n",
              "      <td>0</td>\n",
              "      <td>2</td>\n",
              "      <td>3</td>\n",
              "      <td>8</td>\n",
              "      <td>1250</td>\n",
              "      <td>0</td>\n",
              "      <td>2005</td>\n",
              "      <td>0</td>\n",
              "      <td>98103</td>\n",
              "      <td>47.6619</td>\n",
              "      <td>-122.352</td>\n",
              "      <td>1250</td>\n",
              "      <td>1188</td>\n",
              "    </tr>\n",
              "  </tbody>\n",
              "</table>\n",
              "</div>"
            ],
            "text/plain": [
              "               id             date     price  bedrooms  bathrooms  \\\n",
              "0      2561340020  20140804T000000  325000.0         3       1.75   \n",
              "1      8598200070  20141208T000000  278000.0         2       2.50   \n",
              "17288  7174800760  20140725T000000  667000.0         5       2.00   \n",
              "17289  9521100280  20140612T000000  480000.0         3       2.50   \n",
              "\n",
              "       sqft_living  sqft_lot  floors  waterfront  view  condition  grade  \\\n",
              "0             1780     11096     1.0           0     0          3      7   \n",
              "1             1420      2229     2.0           0     0          3      7   \n",
              "17288         1900      5470     1.0           0     0          3      7   \n",
              "17289         1250      1103     3.0           0     2          3      8   \n",
              "\n",
              "       sqft_above  sqft_basement  yr_built  yr_renovated  zipcode      lat  \\\n",
              "0            1210            570      1979             0    98074  47.6170   \n",
              "1            1420              0      2004             0    98059  47.4871   \n",
              "17288        1180            720      1930          1965    98105  47.6666   \n",
              "17289        1250              0      2005             0    98103  47.6619   \n",
              "\n",
              "          long  sqft_living15  sqft_lot15  \n",
              "0     -122.051           1780       10640  \n",
              "1     -122.165           1500        2230  \n",
              "17288 -122.303           1300        3250  \n",
              "17289 -122.352           1250        1188  "
            ]
          },
          "metadata": {
            "tags": []
          }
        }
      ]
    },
    {
      "cell_type": "markdown",
      "metadata": {
        "id": "1NRtTZS8M3sJ"
      },
      "source": [
        "# Data Processing"
      ]
    },
    {
      "cell_type": "code",
      "metadata": {
        "id": "xFth0ppUM56I"
      },
      "source": [
        "def clean_data(df):\n",
        "    df = df.copy()\n",
        "\n",
        "    # Date time features\n",
        "    df['date'] = pd.to_datetime(df['date'])\n",
        "    df['yr_sales'] = df['date'].dt.year\n",
        "    df['age'] = df['yr_sales'] - df['yr_built']\n",
        "    df['yr_renovated2'] = np.where(df['yr_renovated'].eq(0), df['yr_built'], df['yr_renovated'])\n",
        "    df['age_after_renovation'] = df['yr_sales'] - df['yr_renovated2']\n",
        "\n",
        "    # Categorical Features\n",
        "    cols_str = ['waterfront', 'view', 'condition', 'grade','zipcode']\n",
        "    for c in cols_str:\n",
        "        df[c] = df[c].astype(str)\n",
        "\n",
        "    cols_obj = df.select_dtypes(['object','category']).columns\n",
        "    cols_obj_small = ['waterfront', 'view', 'condition', 'grade']\n",
        "\n",
        "    # Boolean data types\n",
        "    df['basement_bool'] = df['sqft_basement'].apply(lambda x: 1 if x>0 else 0)\n",
        "    df['renovation_bool'] = df['yr_renovated'].apply(lambda x: 1 if x>0 else 0)\n",
        "\n",
        "    # Numerical features binning\n",
        "    cols_bin = ['age','age_after_renovation']\n",
        "    df['age_cat'] = pd.cut(df['age'], 10, labels=range(10)).astype(str)\n",
        "    df['age_after_renovation_cat'] = pd.cut(df['age_after_renovation'], 10, labels=range(10))\n",
        "\n",
        "    # Create dummy variables from object and categories\n",
        "    cols_obj_cat = df.select_dtypes(include=[np.object, 'category']).columns\n",
        "    cols_dummy = ['waterfront', 'view', 'condition', 'grade',\n",
        "                'age_cat', 'age_after_renovation_cat']\n",
        "\n",
        "    df_dummy = pd.get_dummies(df[cols_dummy],drop_first=False)\n",
        "    df = pd.concat([df,df_dummy], axis=1)\n",
        "\n",
        "    # after creating dummy, make the columns number\n",
        "    for c in cols_obj_cat:\n",
        "        df[c] = df[c].astype(np.int8)\n",
        "\n",
        "    # Log transformation of large numerical values\n",
        "    cols_log = ['sqft_living', 'sqft_lot', 'sqft_above',\n",
        "                'sqft_basement', 'sqft_living15', 'sqft_lot15']\n",
        "\n",
        "    for col in cols_log:\n",
        "        df['log1p_' + col] = np.log1p(df[col])\n",
        "\n",
        "    # squared columns\n",
        "    cols_sq = [\n",
        "        # cats\n",
        "        'bedrooms','bathrooms','floors','waterfront','view',\n",
        "\n",
        "        # created nums\n",
        "        'age','age_after_renovation',\n",
        "\n",
        "        ]\n",
        "    for col in cols_sq:\n",
        "        df[col + '_sq'] = df[col]**2\n",
        "\n",
        "    # Drop unwanted columns\n",
        "    cols_drop = ['id','date']\n",
        "    df = df.drop(cols_drop,axis=1)\n",
        "\n",
        "    return df"
      ],
      "execution_count": 10,
      "outputs": []
    },
    {
      "cell_type": "code",
      "metadata": {
        "id": "lG38rIHXR0mV",
        "outputId": "b444c79d-ed1c-40ac-99b9-81799f141be0",
        "colab": {
          "base_uri": "https://localhost:8080/"
        }
      },
      "source": [
        "df_train = clean_data(df_train_raw)\n",
        "df_test = clean_data(df_test_raw)\n",
        "\n",
        "print(df_train.shape)\n",
        "print(df_train.columns)"
      ],
      "execution_count": 11,
      "outputs": [
        {
          "output_type": "stream",
          "text": [
            "(17290, 84)\n",
            "Index(['price', 'bedrooms', 'bathrooms', 'sqft_living', 'sqft_lot', 'floors',\n",
            "       'waterfront', 'view', 'condition', 'grade', 'sqft_above',\n",
            "       'sqft_basement', 'yr_built', 'yr_renovated', 'zipcode', 'lat', 'long',\n",
            "       'sqft_living15', 'sqft_lot15', 'yr_sales', 'age', 'yr_renovated2',\n",
            "       'age_after_renovation', 'basement_bool', 'renovation_bool', 'age_cat',\n",
            "       'age_after_renovation_cat', 'waterfront_0', 'waterfront_1', 'view_0',\n",
            "       'view_1', 'view_2', 'view_3', 'view_4', 'condition_1', 'condition_2',\n",
            "       'condition_3', 'condition_4', 'condition_5', 'grade_1', 'grade_10',\n",
            "       'grade_11', 'grade_12', 'grade_13', 'grade_3', 'grade_4', 'grade_5',\n",
            "       'grade_6', 'grade_7', 'grade_8', 'grade_9', 'age_cat_0', 'age_cat_1',\n",
            "       'age_cat_2', 'age_cat_3', 'age_cat_4', 'age_cat_5', 'age_cat_6',\n",
            "       'age_cat_7', 'age_cat_8', 'age_cat_9', 'age_after_renovation_cat_0',\n",
            "       'age_after_renovation_cat_1', 'age_after_renovation_cat_2',\n",
            "       'age_after_renovation_cat_3', 'age_after_renovation_cat_4',\n",
            "       'age_after_renovation_cat_5', 'age_after_renovation_cat_6',\n",
            "       'age_after_renovation_cat_7', 'age_after_renovation_cat_8',\n",
            "       'age_after_renovation_cat_9', 'log1p_sqft_living', 'log1p_sqft_lot',\n",
            "       'log1p_sqft_above', 'log1p_sqft_basement', 'log1p_sqft_living15',\n",
            "       'log1p_sqft_lot15', 'bedrooms_sq', 'bathrooms_sq', 'floors_sq',\n",
            "       'waterfront_sq', 'view_sq', 'age_sq', 'age_after_renovation_sq'],\n",
            "      dtype='object')\n"
          ],
          "name": "stdout"
        }
      ]
    },
    {
      "cell_type": "code",
      "metadata": {
        "id": "qqbvscabw6hC",
        "outputId": "0459c4e4-93eb-4dfa-c227-cb1f0c96ed87",
        "colab": {
          "base_uri": "https://localhost:8080/"
        }
      },
      "source": [
        "# make sure no data leakage\n",
        "df_train.filter(regex='price').columns"
      ],
      "execution_count": 12,
      "outputs": [
        {
          "output_type": "execute_result",
          "data": {
            "text/plain": [
              "Index(['price'], dtype='object')"
            ]
          },
          "metadata": {
            "tags": []
          },
          "execution_count": 12
        }
      ]
    },
    {
      "cell_type": "code",
      "metadata": {
        "id": "pqc8Ko8cxATN",
        "outputId": "8c6461e9-e229-42df-c050-4b4921cfcea4",
        "colab": {
          "base_uri": "https://localhost:8080/"
        }
      },
      "source": [
        "# make sure no nans\n",
        "df_train.isna().sum().sum(), df_test.isna().sum().sum()"
      ],
      "execution_count": 13,
      "outputs": [
        {
          "output_type": "execute_result",
          "data": {
            "text/plain": [
              "(0, 0)"
            ]
          },
          "metadata": {
            "tags": []
          },
          "execution_count": 13
        }
      ]
    },
    {
      "cell_type": "markdown",
      "metadata": {
        "id": "g9XYITLUSWpA"
      },
      "source": [
        "# Train-target split"
      ]
    },
    {
      "cell_type": "code",
      "metadata": {
        "id": "odBF6q99STp2"
      },
      "source": [
        "# choose features to train, we can change it later\n",
        "features = list(sorted(df_train.columns.drop(target)))\n",
        "\n",
        "\n",
        "features = [i for i in features if i in df_test.columns if i in df_train.columns]\n",
        "# print(np.array(sorted(features)))\n",
        "\n",
        "df_Xtrain  = df_train[features]\n",
        "ser_ytrain = df_train[target]\n",
        "\n",
        "df_Xtest  = df_test[features]\n",
        "ser_ytest = df_test[target]\n",
        "\n",
        "ytrain = np.array(ser_ytrain).flatten()\n",
        "ytest  = np.array(ser_ytest).flatten()"
      ],
      "execution_count": 14,
      "outputs": []
    },
    {
      "cell_type": "markdown",
      "metadata": {
        "id": "vkC5n6muJSeS"
      },
      "source": [
        "# Modelling"
      ]
    },
    {
      "cell_type": "markdown",
      "metadata": {
        "id": "C7zZFCfgXSeE"
      },
      "source": [
        "## Setup Models\n",
        "- [hist gbr](https://scikit-learn.org/stable/modules/generated/sklearn.ensemble.HistGradientBoostingRegressor.html)"
      ]
    },
    {
      "cell_type": "code",
      "metadata": {
        "id": "eZXgaMpFYOg-"
      },
      "source": [
        "from sklearn.model_selection import KFold, cross_val_score,cross_validate\n",
        "from sklearn.pipeline import make_pipeline\n",
        "from sklearn.preprocessing import RobustScaler"
      ],
      "execution_count": 15,
      "outputs": []
    },
    {
      "cell_type": "code",
      "metadata": {
        "id": "lt_903p3XJhQ"
      },
      "source": [
        "# Setup cross validation folds\n",
        "kf = KFold(n_splits=5, random_state=SEED, shuffle=True)"
      ],
      "execution_count": 16,
      "outputs": []
    },
    {
      "cell_type": "code",
      "metadata": {
        "id": "36x5YEUiWyp8"
      },
      "source": [
        "from sklearn.linear_model import Ridge, RidgeCV\n",
        "from sklearn.svm import SVR\n",
        "from sklearn.ensemble import RandomForestRegressor\n",
        "\n",
        "# Ridge CV Regressor\n",
        "ridge_alphas = [1e-15, 1e-10, 1e-8, 9e-4, 7e-4, 5e-4, 3e-4, 1e-4, 1e-3, 5e-2,\n",
        "                1e-2, 0.1, 0.3, 1, 3, 5, 10, 15, 18, 20, 30, 50, 75, 100]\n",
        "ridgecv = make_pipeline(RobustScaler(), RidgeCV(alphas=ridge_alphas, cv=kf))\n",
        "\n",
        "\n",
        "# Ridge Regressor\n",
        "ridge = make_pipeline(RobustScaler(), Ridge())\n",
        "\n",
        "# Support Vector Regressor\n",
        "svr = make_pipeline(RobustScaler(), SVR(C= 20, epsilon= 0.008, gamma=0.0003))\n",
        "\n",
        "# Random Forest Regressor\n",
        "rf = RandomForestRegressor(n_estimators=1200,\n",
        "                max_depth=15,\n",
        "                min_samples_split=5,\n",
        "                min_samples_leaf=5,\n",
        "                max_features=None,\n",
        "                oob_score=True,\n",
        "                n_jobs=-1,\n",
        "                random_state=SEED)"
      ],
      "execution_count": 17,
      "outputs": []
    },
    {
      "cell_type": "code",
      "metadata": {
        "id": "z64WS7KJNV1x"
      },
      "source": [
        "def calculate_adjusted_r2(y_true,y_preds, nrows,kcols):\n",
        "    \"\"\"\n",
        "    Adjusted r-squared depends on number of rows and columns of Test data.\n",
        "\n",
        "    It reduces the value of original r-squared value.\n",
        "    \"\"\"\n",
        "    r2 = metrics.r2_score(y_true,y_preds)\n",
        "    ar2 = r2 - (kcols-1)/(nrows-kcols) * (1-r2)\n",
        "    return ar2\n",
        "\n",
        "nrows = df_Xtrain.shape[0]\n",
        "kcols = df_Xtrain.shape[1]\n",
        "scorer_ar2 = metrics.make_scorer(calculate_adjusted_r2,nrows=nrows,kcols=kcols)\n",
        "\n",
        "# WARNING: We get\n",
        "# AttributeError: 'Ridge' object has no attribute 'predict_proba'\n",
        "# if we do not use named keywords like nrows=nrows"
      ],
      "execution_count": 18,
      "outputs": []
    },
    {
      "cell_type": "code",
      "metadata": {
        "id": "sa6mEKY3W2ZB"
      },
      "source": [
        "from sklearn.ensemble import GradientBoostingRegressor\n",
        "from sklearn.experimental import enable_hist_gradient_boosting  # noqa\n",
        "from sklearn.ensemble import HistGradientBoostingRegressor\n",
        "from xgboost import XGBRegressor\n",
        "from lightgbm import LGBMRegressor\n",
        "\n",
        "hgbr = HistGradientBoostingRegressor(max_iter=500,random_state=SEED,\n",
        "                                     scoring=scorer_ar2\n",
        "                                     )\n",
        "\n",
        "# XGBoost Regressor\n",
        "model_xgb = XGBRegressor(n_jobs=-1, random_state=SEED,\n",
        "                        objective='reg:squarederror',\n",
        "                        n_estimators=1200,\n",
        "                        max_depth=3,\n",
        "                        reg_alpha=1,\n",
        "                        reg_lambda=5,\n",
        "                        subsample=1,\n",
        "                        gamma=0,\n",
        "                        min_child_weight=1,\n",
        "                        colsample_bytree=1,\n",
        "                        learning_rate=0.1,\n",
        "                        tree_method=TREE_METHOD\n",
        "                        )\n",
        "\n",
        "# Light Gradient Boosting Regressor\n",
        "model_lgb = LGBMRegressor(\n",
        "    boosting_type='gbdt',\n",
        "    class_weight=None,\n",
        "    colsample_bytree=1.0,\n",
        "    importance_type='split',\n",
        "    learning_rate=0.1,\n",
        "    max_depth=-1,\n",
        "    min_child_samples=20,\n",
        "    min_child_weight=0.001,\n",
        "    min_split_gain=0.0,\n",
        "    n_estimators=100,\n",
        "    n_jobs=-1,\n",
        "    num_leaves=31,\n",
        "    objective=None,\n",
        "    random_state=100,\n",
        "    reg_alpha=0.0,\n",
        "    reg_lambda=0.0,\n",
        "    silent=True,\n",
        "    subsample=1.0, \n",
        "    subsample_for_bin=200000,\n",
        "    subsample_freq=0)"
      ],
      "execution_count": 19,
      "outputs": []
    },
    {
      "cell_type": "code",
      "metadata": {
        "id": "wImdN4I1Xopk"
      },
      "source": [
        "# Stack up all the models\n",
        "from mlxtend.regressor import StackingCVRegressor\n",
        "stack = StackingCVRegressor(regressors=(model_xgb, model_lgb, svr, ridge, hgbr, rf),\n",
        "                                meta_regressor=model_xgb,\n",
        "                                use_features_in_secondary=True)"
      ],
      "execution_count": 20,
      "outputs": []
    },
    {
      "cell_type": "markdown",
      "metadata": {
        "id": "o4bck8PmY0h9"
      },
      "source": [
        "## Cross validation scores"
      ]
    },
    {
      "cell_type": "code",
      "metadata": {
        "id": "mxzPuTXVceVd",
        "outputId": "e2d3ff6a-2410-4ffb-9bb4-7a54810d24b1",
        "colab": {
          "base_uri": "https://localhost:8080/"
        }
      },
      "source": [
        "import warnings\n",
        "from scipy.linalg import LinAlgWarning\n",
        "warnings.filterwarnings(action='ignore', category=LinAlgWarning, module='sklearn')\n",
        "\n",
        "warning_we_get = \"\"\"\n",
        "/usr/local/lib/python3.6/dist-packages/sklearn/linear_model/_ridge.py:148: LinAlgWarning: Ill-conditioned matrix (rcond=3.275e-20): result may not be accurate.\n",
        "  overwrite_a=True).T\n",
        "\n",
        "\"\"\"\n",
        "cross_val_score(ridgecv, df_Xtrain,ytrain,cv=kf,scoring='r2')"
      ],
      "execution_count": 21,
      "outputs": [
        {
          "output_type": "execute_result",
          "data": {
            "text/plain": [
              "array([0.75443776, 0.73562069, 0.72480048, 0.69648225, 0.74288687])"
            ]
          },
          "metadata": {
            "tags": []
          },
          "execution_count": 21
        }
      ]
    },
    {
      "cell_type": "code",
      "metadata": {
        "id": "8ej5srO2cedM",
        "outputId": "ef985b06-16a8-4d9a-948c-13ab403c9407",
        "colab": {
          "base_uri": "https://localhost:8080/"
        }
      },
      "source": [
        "cross_val_score(ridgecv, df_Xtrain,ytrain,cv=kf,scoring=scorer_ar2)"
      ],
      "execution_count": 22,
      "outputs": [
        {
          "output_type": "execute_result",
          "data": {
            "text/plain": [
              "array([0.7532962 , 0.73439167, 0.72352115, 0.69507128, 0.74169162])"
            ]
          },
          "metadata": {
            "tags": []
          },
          "execution_count": 22
        }
      ]
    },
    {
      "cell_type": "code",
      "metadata": {
        "id": "cBrMwwxxc_pL",
        "outputId": "6b639bd5-a150-4bb5-f3cb-5e1a5958ab2c",
        "colab": {
          "base_uri": "https://localhost:8080/"
        }
      },
      "source": [
        "cross_validate(ridgecv, df_Xtrain,ytrain,cv=kf,scoring={'ar2': scorer_ar2})"
      ],
      "execution_count": 23,
      "outputs": [
        {
          "output_type": "execute_result",
          "data": {
            "text/plain": [
              "{'fit_time': array([2.0214355 , 1.98618078, 1.99233103, 1.9992497 , 2.12259173]),\n",
              " 'score_time': array([0.00587344, 0.00588083, 0.01734018, 0.00626206, 0.00598335]),\n",
              " 'test_ar2': array([0.7532962 , 0.73439167, 0.72352115, 0.69507128, 0.74169162])}"
            ]
          },
          "metadata": {
            "tags": []
          },
          "execution_count": 23
        }
      ]
    },
    {
      "cell_type": "code",
      "metadata": {
        "id": "uSKTlNOQZkZy"
      },
      "source": [
        "def get_cv_score(model_name, model,\n",
        "                X=df_Xtrain,y=ser_ytrain,\n",
        "                cv=kf,df_scores=None,show=True):\n",
        "    time_start = time.time()\n",
        "    # output df\n",
        "    if not isinstance(df_scores,pd.DataFrame):\n",
        "        df_scores = pd.DataFrame({'Model': [],\n",
        "                                  'RMSE': [],\n",
        "                                  'RMSE_std': [],\n",
        "                                  'R2': [],\n",
        "                                  'R2_std': [],\n",
        "                                  'AR2':[],\n",
        "                                  'AR2_std': [],\n",
        "                                  'Time_Taken': [],\n",
        "                                  })\n",
        "        \n",
        "    # get score from cross-validation\n",
        "    # cross_val_score support only one metric (unlike cross_validate)\n",
        "    scoring = {\n",
        "    'neg_rmse': 'neg_root_mean_squared_error',\n",
        "    'r2': 'r2',\n",
        "    'ar2': scorer_ar2}\n",
        "\n",
        "    score = cross_validate(model, X,y,cv=cv,scoring=scoring)\n",
        "\n",
        "    # we need to make rmse neg\n",
        "    rmse = -score['test_neg_rmse'].mean()\n",
        "    rmse_std = score['test_neg_rmse'].std()\n",
        "\n",
        "    # r2 and ar2 are already +ve\n",
        "    r2 = score['test_r2'].mean()\n",
        "    r2_std = score['test_r2'].std()\n",
        "    ar2 = score['test_ar2'].mean()\n",
        "    ar2_std = score['test_ar2'].std()\n",
        "\n",
        "    # time taken\n",
        "    time_taken = time.time() - time_start\n",
        "    h,m = divmod(time_taken,60*60)\n",
        "    m,s = divmod(m,60)\n",
        "    time_taken = f\"{h:.0f} h {m:.0f} min {s:.2f} sec\" if h > 0 else f\"{m:.0f} min {s:.2f} sec\"\n",
        "    time_taken = f\"{m:.0f} min {s:.2f} sec\" if m > 0 else f\"{s:.2f} sec\"\n",
        "\n",
        "    df_scores.loc[len(df_scores)] = [model_name,rmse, rmse_std, r2,\n",
        "                                     r2_std, ar2, ar2_std,time_taken]\n",
        "    df_scores = df_scores.sort_values('AR2',ascending=False)\n",
        "    df_scores = df_scores.drop_duplicates()\n",
        "    df_scores = df_scores.reset_index(drop=True)\n",
        "\n",
        "    # display output\n",
        "    if show:\n",
        "        display(df_scores.style\n",
        "                .format({\n",
        "                    'RMSE': \"{:,.0f}\",\n",
        "                    'RMSE_std': \"{:,.0f}\",\n",
        "                    'R2': \"{:,.4f}\",\n",
        "                    'R2_std': \"{:,.4f}\",\n",
        "                    'AR2': \"{:,.4f}\",\n",
        "                    'AR2_std': \"{:,.4f}\",\n",
        "                    })\n",
        "                .background_gradient(subset=['AR2'])\n",
        "                )\n",
        "\n",
        "    return df_scores"
      ],
      "execution_count": 24,
      "outputs": []
    },
    {
      "cell_type": "code",
      "metadata": {
        "id": "rgjlOoDpa5Vt"
      },
      "source": [
        "%%capture\n",
        "df_scores = get_cv_score('ridge', ridge,df_scores=None)"
      ],
      "execution_count": 25,
      "outputs": []
    },
    {
      "cell_type": "code",
      "metadata": {
        "id": "9F40LAFQZKEo"
      },
      "source": [
        "df_scores = get_cv_score('svr', svr,df_scores=df_scores,show=False)\n",
        "df_scores = get_cv_score('rf', rf,df_scores=df_scores,show=False)\n",
        "df_scores = get_cv_score('hgbr', hgbr,df_scores=df_scores,show=False)\n",
        "df_scores = get_cv_score('xgb', model_xgb,df_scores=df_scores,show=False)\n",
        "df_scores = get_cv_score('lgb', model_lgb,df_scores=df_scores,show=False)"
      ],
      "execution_count": 26,
      "outputs": []
    },
    {
      "cell_type": "code",
      "metadata": {
        "id": "pLJq7BUskz92",
        "outputId": "a6b91491-a79b-419d-f121-e2b711ce5299",
        "colab": {
          "base_uri": "https://localhost:8080/",
          "height": 302
        }
      },
      "source": [
        "df_scores.set_index('Model')['AR2'].plot.line('ro')"
      ],
      "execution_count": 27,
      "outputs": [
        {
          "output_type": "execute_result",
          "data": {
            "text/plain": [
              "<matplotlib.axes._subplots.AxesSubplot at 0x7fd5f6995d30>"
            ]
          },
          "metadata": {
            "tags": []
          },
          "execution_count": 27
        },
        {
          "output_type": "display_data",
          "data": {
            "image/png": "[encoded data removed]",
            "text/plain": [
              "<Figure size 432x288 with 1 Axes>"
            ]
          },
          "metadata": {
            "tags": [],
            "needs_background": "light"
          }
        }
      ]
    },
    {
      "cell_type": "markdown",
      "metadata": {
        "id": "8RuLXvkNbxtO"
      },
      "source": [
        "# Fit the models and get train predictions"
      ]
    },
    {
      "cell_type": "code",
      "metadata": {
        "id": "lVt2Hr9TkWWh",
        "outputId": "8fbe6f81-9033-4211-f50f-c06c507e2580",
        "colab": {
          "base_uri": "https://localhost:8080/"
        }
      },
      "source": [
        "%%time\n",
        "ridge.fit(df_Xtrain,ser_ytrain);\n",
        "ypreds_ridge_tr = ridge.predict(np.array(df_Xtrain))\n",
        "ypreds_ridge = ridge.predict(np.array(df_Xtest))\n",
        "print(ypreds_ridge[:3])"
      ],
      "execution_count": 28,
      "outputs": [
        {
          "output_type": "stream",
          "text": [
            "[335389.60560525 282141.42552142 541400.38363095]\n",
            "CPU times: user 84.9 ms, sys: 13.2 ms, total: 98.1 ms\n",
            "Wall time: 79.4 ms\n"
          ],
          "name": "stdout"
        }
      ]
    },
    {
      "cell_type": "code",
      "metadata": {
        "id": "iuzY3YOykqzS",
        "outputId": "3cb48010-aeda-48f5-a589-b16dda2c9c5d",
        "colab": {
          "base_uri": "https://localhost:8080/"
        }
      },
      "source": [
        "%%time\n",
        "svr.fit(df_Xtrain,ser_ytrain);\n",
        "ypreds_svr_tr = svr.predict(np.array(df_Xtrain))\n",
        "ypreds_svr = svr.predict(np.array(df_Xtest))\n",
        "print(ypreds_svr[:3])"
      ],
      "execution_count": 29,
      "outputs": [
        {
          "output_type": "stream",
          "text": [
            "[450141.29311464 449832.11309412 449747.37522329]\n",
            "CPU times: user 1min 24s, sys: 147 ms, total: 1min 25s\n",
            "Wall time: 1min 25s\n"
          ],
          "name": "stdout"
        }
      ]
    },
    {
      "cell_type": "code",
      "metadata": {
        "id": "OdFg_0N_5gkM",
        "outputId": "c158dbb6-06be-4c76-eee1-782d69505847",
        "colab": {
          "base_uri": "https://localhost:8080/"
        }
      },
      "source": [
        "%%time\n",
        "rf.fit(df_Xtrain,ser_ytrain);\n",
        "ypreds_rf_tr = rf.predict(np.array(df_Xtrain))\n",
        "ypreds_rf = rf.predict(np.array(df_Xtest))\n",
        "print(ypreds_rf[:3])"
      ],
      "execution_count": 30,
      "outputs": [
        {
          "output_type": "stream",
          "text": [
            "[456327.87376877 283476.94243856 635318.60020837]\n",
            "CPU times: user 6min 38s, sys: 850 ms, total: 6min 39s\n",
            "Wall time: 3min 23s\n"
          ],
          "name": "stdout"
        }
      ]
    },
    {
      "cell_type": "code",
      "metadata": {
        "id": "6D8vMkHK5gqs",
        "outputId": "8d7738c9-45a1-41b4-b483-d5bff276df19",
        "colab": {
          "base_uri": "https://localhost:8080/"
        }
      },
      "source": [
        "%%time\n",
        "hgbr.fit(df_Xtrain,ser_ytrain);\n",
        "ypreds_hgbr_tr = hgbr.predict(np.array(df_Xtrain))\n",
        "ypreds_hgbr = hgbr.predict(np.array(df_Xtest))\n",
        "print(ypreds_hgbr[:3])"
      ],
      "execution_count": 31,
      "outputs": [
        {
          "output_type": "stream",
          "text": [
            "[451353.8127617  241547.43807484 627812.38073368]\n",
            "CPU times: user 13.6 s, sys: 549 ms, total: 14.2 s\n",
            "Wall time: 7.19 s\n"
          ],
          "name": "stdout"
        }
      ]
    },
    {
      "cell_type": "code",
      "metadata": {
        "id": "-sCFJ63NJUnQ",
        "outputId": "8ed5b763-e0ae-4918-c417-672b822cbb44",
        "colab": {
          "base_uri": "https://localhost:8080/"
        }
      },
      "source": [
        "%%time\n",
        "model_xgb.fit(df_Xtrain,ser_ytrain);\n",
        "ypreds_xgb_tr = model_xgb.predict(df_Xtrain)\n",
        "ypreds_xgb = model_xgb.predict(df_Xtest\n",
        "print(ypreds_xgb[:3])"
      ],
      "execution_count": 32,
      "outputs": [
        {
          "output_type": "stream",
          "text": [
            "[426671.88 226058.23 657271.94]\n",
            "CPU times: user 3.81 s, sys: 1.47 s, total: 5.28 s\n",
            "Wall time: 4.32 s\n"
          ],
          "name": "stdout"
        }
      ]
    },
    {
      "cell_type": "code",
      "metadata": {
        "id": "QsOxzIWNJXJC",
        "outputId": "850cdb23-b3be-46b1-a04e-d3b1e370bbc6",
        "colab": {
          "base_uri": "https://localhost:8080/"
        }
      },
      "source": [
        "%%time\n",
        "model_lgb.fit(df_Xtrain,ser_ytrain);\n",
        "ypreds_lgb_tr = model_lgb.predict(df_Xtrain)\n",
        "ypreds_lgb = model_lgb.predict(df_Xtest)\n",
        "print(ypreds_lgb[:3])"
      ],
      "execution_count": 33,
      "outputs": [
        {
          "output_type": "stream",
          "text": [
            "[462712.84745236 241481.95596867 625092.40174866]\n",
            "CPU times: user 1.47 s, sys: 28.3 ms, total: 1.5 s\n",
            "Wall time: 782 ms\n"
          ],
          "name": "stdout"
        }
      ]
    },
    {
      "cell_type": "code",
      "metadata": {
        "id": "_Ed_2GiNJZ03",
        "outputId": "e60504fc-e19e-4acd-e14d-2a2413755c06",
        "colab": {
          "base_uri": "https://localhost:8080/"
        }
      },
      "source": [
        "%%time\n",
        "stack.fit(np.array(df_Xtrain),np.array(ser_ytrain))\n",
        "ypreds_stack_tr = stack.predict(np.array(df_Xtrain))\n",
        "ypreds_stack = stack.predict(np.array(df_Xtest))\n",
        "print(ypreds_stack[:3])"
      ],
      "execution_count": 34,
      "outputs": [
        {
          "output_type": "stream",
          "text": [
            "[436236.12 243619.47 671034.6 ]\n",
            "CPU times: user 38min 5s, sys: 16.3 s, total: 38min 21s\n",
            "Wall time: 21min 58s\n"
          ],
          "name": "stdout"
        }
      ]
    },
    {
      "cell_type": "code",
      "metadata": {
        "id": "XMPLaT-PJfik"
      },
      "source": [
        "def get_rmse(y, y_pred):\n",
        "    return np.sqrt(metrics.mean_squared_error(y, y_pred))"
      ],
      "execution_count": 35,
      "outputs": []
    },
    {
      "cell_type": "code",
      "metadata": {
        "id": "_Jt2H2f7Jifi"
      },
      "source": [
        "ytrain = np.array(ser_ytrain)\n",
        "nrows = df_Xtrain.shape[0]\n",
        "kcols = df_Xtrain.shape[1]"
      ],
      "execution_count": 36,
      "outputs": []
    },
    {
      "cell_type": "code",
      "metadata": {
        "id": "ewu90K8b6ChQ"
      },
      "source": [
        "rmse_stack = get_rmse(ytrain, ypreds_stack_tr)\n",
        "r2_stack = metrics.r2_score(ytrain, ypreds_stack_tr)\n",
        "ar2_stack = calculate_adjusted_r2(ytrain,ypreds_stack_tr,nrows=nrows,kcols=kcols)"
      ],
      "execution_count": 37,
      "outputs": []
    },
    {
      "cell_type": "code",
      "metadata": {
        "id": "JuLgDqrxXffX",
        "outputId": "7b91883e-338d-4bd7-d45e-cb012121d0eb",
        "colab": {
          "base_uri": "https://localhost:8080/",
          "height": 266
        }
      },
      "source": [
        "df_scores.loc[len(df_scores)] = ['stack',rmse_stack,0,r2_stack,0,ar2_stack,0,0]\n",
        "df_scores = df_scores.drop_duplicates()\n",
        "\n",
        "df_scores"
      ],
      "execution_count": 38,
      "outputs": [
        {
          "output_type": "execute_result",
          "data": {
            "text/html": [
              "<div>\n",
              "<style scoped>\n",
              "    .dataframe tbody tr th:only-of-type {\n",
              "        vertical-align: middle;\n",
              "    }\n",
              "\n",
              "    .dataframe tbody tr th {\n",
              "        vertical-align: top;\n",
              "    }\n",
              "\n",
              "    .dataframe thead th {\n",
              "        text-align: right;\n",
              "    }\n",
              "</style>\n",
              "<table border=\"1\" class=\"dataframe\">\n",
              "  <thead>\n",
              "    <tr style=\"text-align: right;\">\n",
              "      <th></th>\n",
              "      <th>Model</th>\n",
              "      <th>RMSE</th>\n",
              "      <th>RMSE_std</th>\n",
              "      <th>R2</th>\n",
              "      <th>R2_std</th>\n",
              "      <th>AR2</th>\n",
              "      <th>AR2_std</th>\n",
              "      <th>Time_Taken</th>\n",
              "    </tr>\n",
              "  </thead>\n",
              "  <tbody>\n",
              "    <tr>\n",
              "      <th>0</th>\n",
              "      <td>xgb</td>\n",
              "      <td>119199.799219</td>\n",
              "      <td>9254.005293</td>\n",
              "      <td>0.894148</td>\n",
              "      <td>0.008395</td>\n",
              "      <td>0.893656</td>\n",
              "      <td>0.008434</td>\n",
              "      <td>21.35 sec</td>\n",
              "    </tr>\n",
              "    <tr>\n",
              "      <th>1</th>\n",
              "      <td>lgb</td>\n",
              "      <td>124071.728335</td>\n",
              "      <td>10308.313206</td>\n",
              "      <td>0.885426</td>\n",
              "      <td>0.009260</td>\n",
              "      <td>0.884893</td>\n",
              "      <td>0.009303</td>\n",
              "      <td>3.07 sec</td>\n",
              "    </tr>\n",
              "    <tr>\n",
              "      <th>2</th>\n",
              "      <td>hgbr</td>\n",
              "      <td>126261.704246</td>\n",
              "      <td>12245.466500</td>\n",
              "      <td>0.881324</td>\n",
              "      <td>0.012921</td>\n",
              "      <td>0.880773</td>\n",
              "      <td>0.012981</td>\n",
              "      <td>17.89 sec</td>\n",
              "    </tr>\n",
              "    <tr>\n",
              "      <th>3</th>\n",
              "      <td>rf</td>\n",
              "      <td>135920.107162</td>\n",
              "      <td>11738.357882</td>\n",
              "      <td>0.862746</td>\n",
              "      <td>0.008494</td>\n",
              "      <td>0.862108</td>\n",
              "      <td>0.008534</td>\n",
              "      <td>13 min 36.69 sec</td>\n",
              "    </tr>\n",
              "    <tr>\n",
              "      <th>4</th>\n",
              "      <td>ridgecv</td>\n",
              "      <td>189758.231555</td>\n",
              "      <td>8600.010679</td>\n",
              "      <td>0.730846</td>\n",
              "      <td>0.019707</td>\n",
              "      <td>0.729594</td>\n",
              "      <td>0.019798</td>\n",
              "      <td>10.35 sec</td>\n",
              "    </tr>\n",
              "    <tr>\n",
              "      <th>5</th>\n",
              "      <td>svr</td>\n",
              "      <td>376429.355688</td>\n",
              "      <td>21585.860437</td>\n",
              "      <td>-0.055181</td>\n",
              "      <td>0.005707</td>\n",
              "      <td>-0.060086</td>\n",
              "      <td>0.005734</td>\n",
              "      <td>3 min 0.84 sec</td>\n",
              "    </tr>\n",
              "    <tr>\n",
              "      <th>6</th>\n",
              "      <td>stack</td>\n",
              "      <td>67252.233205</td>\n",
              "      <td>0.000000</td>\n",
              "      <td>0.966442</td>\n",
              "      <td>0.000000</td>\n",
              "      <td>0.966286</td>\n",
              "      <td>0.000000</td>\n",
              "      <td>0</td>\n",
              "    </tr>\n",
              "  </tbody>\n",
              "</table>\n",
              "</div>"
            ],
            "text/plain": [
              "     Model           RMSE      RMSE_std        R2    R2_std       AR2  \\\n",
              "0      xgb  119199.799219   9254.005293  0.894148  0.008395  0.893656   \n",
              "1      lgb  124071.728335  10308.313206  0.885426  0.009260  0.884893   \n",
              "2     hgbr  126261.704246  12245.466500  0.881324  0.012921  0.880773   \n",
              "3       rf  135920.107162  11738.357882  0.862746  0.008494  0.862108   \n",
              "4  ridgecv  189758.231555   8600.010679  0.730846  0.019707  0.729594   \n",
              "5      svr  376429.355688  21585.860437 -0.055181  0.005707 -0.060086   \n",
              "6    stack   67252.233205      0.000000  0.966442  0.000000  0.966286   \n",
              "\n",
              "    AR2_std        Time_Taken  \n",
              "0  0.008434         21.35 sec  \n",
              "1  0.009303          3.07 sec  \n",
              "2  0.012981         17.89 sec  \n",
              "3  0.008534  13 min 36.69 sec  \n",
              "4  0.019798         10.35 sec  \n",
              "5  0.005734    3 min 0.84 sec  \n",
              "6  0.000000                 0  "
            ]
          },
          "metadata": {
            "tags": []
          },
          "execution_count": 38
        }
      ]
    },
    {
      "cell_type": "markdown",
      "metadata": {
        "id": "pNu7y-Z45iTd"
      },
      "source": [
        "## Blend models and get predictions"
      ]
    },
    {
      "cell_type": "code",
      "metadata": {
        "id": "s50lgwhUSmYG",
        "outputId": "45e1901f-1f61-4136-f569-6974c55b49c4",
        "colab": {
          "base_uri": "https://localhost:8080/",
          "height": 266
        }
      },
      "source": [
        "df_scores.sort_values('AR2',ascending=False)"
      ],
      "execution_count": 39,
      "outputs": [
        {
          "output_type": "execute_result",
          "data": {
            "text/html": [
              "<div>\n",
              "<style scoped>\n",
              "    .dataframe tbody tr th:only-of-type {\n",
              "        vertical-align: middle;\n",
              "    }\n",
              "\n",
              "    .dataframe tbody tr th {\n",
              "        vertical-align: top;\n",
              "    }\n",
              "\n",
              "    .dataframe thead th {\n",
              "        text-align: right;\n",
              "    }\n",
              "</style>\n",
              "<table border=\"1\" class=\"dataframe\">\n",
              "  <thead>\n",
              "    <tr style=\"text-align: right;\">\n",
              "      <th></th>\n",
              "      <th>Model</th>\n",
              "      <th>RMSE</th>\n",
              "      <th>RMSE_std</th>\n",
              "      <th>R2</th>\n",
              "      <th>R2_std</th>\n",
              "      <th>AR2</th>\n",
              "      <th>AR2_std</th>\n",
              "      <th>Time_Taken</th>\n",
              "    </tr>\n",
              "  </thead>\n",
              "  <tbody>\n",
              "    <tr>\n",
              "      <th>6</th>\n",
              "      <td>stack</td>\n",
              "      <td>67252.233205</td>\n",
              "      <td>0.000000</td>\n",
              "      <td>0.966442</td>\n",
              "      <td>0.000000</td>\n",
              "      <td>0.966286</td>\n",
              "      <td>0.000000</td>\n",
              "      <td>0</td>\n",
              "    </tr>\n",
              "    <tr>\n",
              "      <th>0</th>\n",
              "      <td>xgb</td>\n",
              "      <td>119199.799219</td>\n",
              "      <td>9254.005293</td>\n",
              "      <td>0.894148</td>\n",
              "      <td>0.008395</td>\n",
              "      <td>0.893656</td>\n",
              "      <td>0.008434</td>\n",
              "      <td>21.35 sec</td>\n",
              "    </tr>\n",
              "    <tr>\n",
              "      <th>1</th>\n",
              "      <td>lgb</td>\n",
              "      <td>124071.728335</td>\n",
              "      <td>10308.313206</td>\n",
              "      <td>0.885426</td>\n",
              "      <td>0.009260</td>\n",
              "      <td>0.884893</td>\n",
              "      <td>0.009303</td>\n",
              "      <td>3.07 sec</td>\n",
              "    </tr>\n",
              "    <tr>\n",
              "      <th>2</th>\n",
              "      <td>hgbr</td>\n",
              "      <td>126261.704246</td>\n",
              "      <td>12245.466500</td>\n",
              "      <td>0.881324</td>\n",
              "      <td>0.012921</td>\n",
              "      <td>0.880773</td>\n",
              "      <td>0.012981</td>\n",
              "      <td>17.89 sec</td>\n",
              "    </tr>\n",
              "    <tr>\n",
              "      <th>3</th>\n",
              "      <td>rf</td>\n",
              "      <td>135920.107162</td>\n",
              "      <td>11738.357882</td>\n",
              "      <td>0.862746</td>\n",
              "      <td>0.008494</td>\n",
              "      <td>0.862108</td>\n",
              "      <td>0.008534</td>\n",
              "      <td>13 min 36.69 sec</td>\n",
              "    </tr>\n",
              "    <tr>\n",
              "      <th>4</th>\n",
              "      <td>ridgecv</td>\n",
              "      <td>189758.231555</td>\n",
              "      <td>8600.010679</td>\n",
              "      <td>0.730846</td>\n",
              "      <td>0.019707</td>\n",
              "      <td>0.729594</td>\n",
              "      <td>0.019798</td>\n",
              "      <td>10.35 sec</td>\n",
              "    </tr>\n",
              "    <tr>\n",
              "      <th>5</th>\n",
              "      <td>svr</td>\n",
              "      <td>376429.355688</td>\n",
              "      <td>21585.860437</td>\n",
              "      <td>-0.055181</td>\n",
              "      <td>0.005707</td>\n",
              "      <td>-0.060086</td>\n",
              "      <td>0.005734</td>\n",
              "      <td>3 min 0.84 sec</td>\n",
              "    </tr>\n",
              "  </tbody>\n",
              "</table>\n",
              "</div>"
            ],
            "text/plain": [
              "     Model           RMSE      RMSE_std        R2    R2_std       AR2  \\\n",
              "6    stack   67252.233205      0.000000  0.966442  0.000000  0.966286   \n",
              "0      xgb  119199.799219   9254.005293  0.894148  0.008395  0.893656   \n",
              "1      lgb  124071.728335  10308.313206  0.885426  0.009260  0.884893   \n",
              "2     hgbr  126261.704246  12245.466500  0.881324  0.012921  0.880773   \n",
              "3       rf  135920.107162  11738.357882  0.862746  0.008494  0.862108   \n",
              "4  ridgecv  189758.231555   8600.010679  0.730846  0.019707  0.729594   \n",
              "5      svr  376429.355688  21585.860437 -0.055181  0.005707 -0.060086   \n",
              "\n",
              "    AR2_std        Time_Taken  \n",
              "6  0.000000                 0  \n",
              "0  0.008434         21.35 sec  \n",
              "1  0.009303          3.07 sec  \n",
              "2  0.012981         17.89 sec  \n",
              "3  0.008534  13 min 36.69 sec  \n",
              "4  0.019798         10.35 sec  \n",
              "5  0.005734    3 min 0.84 sec  "
            ]
          },
          "metadata": {
            "tags": []
          },
          "execution_count": 39
        }
      ]
    },
    {
      "cell_type": "code",
      "metadata": {
        "id": "ib7dYdcbUevG",
        "outputId": "703ed11a-17ad-473d-9876-4c55bd9330dc",
        "colab": {
          "base_uri": "https://localhost:8080/",
          "height": 235
        }
      },
      "source": [
        "x = df_scores.query(\"\"\"\n",
        "Model in ['rf', 'xgb', 'lgb', 'hgbr', 'ridge', 'svr','stack']\n",
        "\"\"\")\n",
        "\n",
        "x = x.sort_values('RMSE')\n",
        "x"
      ],
      "execution_count": 40,
      "outputs": [
        {
          "output_type": "execute_result",
          "data": {
            "text/html": [
              "<div>\n",
              "<style scoped>\n",
              "    .dataframe tbody tr th:only-of-type {\n",
              "        vertical-align: middle;\n",
              "    }\n",
              "\n",
              "    .dataframe tbody tr th {\n",
              "        vertical-align: top;\n",
              "    }\n",
              "\n",
              "    .dataframe thead th {\n",
              "        text-align: right;\n",
              "    }\n",
              "</style>\n",
              "<table border=\"1\" class=\"dataframe\">\n",
              "  <thead>\n",
              "    <tr style=\"text-align: right;\">\n",
              "      <th></th>\n",
              "      <th>Model</th>\n",
              "      <th>RMSE</th>\n",
              "      <th>RMSE_std</th>\n",
              "      <th>R2</th>\n",
              "      <th>R2_std</th>\n",
              "      <th>AR2</th>\n",
              "      <th>AR2_std</th>\n",
              "      <th>Time_Taken</th>\n",
              "    </tr>\n",
              "  </thead>\n",
              "  <tbody>\n",
              "    <tr>\n",
              "      <th>6</th>\n",
              "      <td>stack</td>\n",
              "      <td>67252.233205</td>\n",
              "      <td>0.000000</td>\n",
              "      <td>0.966442</td>\n",
              "      <td>0.000000</td>\n",
              "      <td>0.966286</td>\n",
              "      <td>0.000000</td>\n",
              "      <td>0</td>\n",
              "    </tr>\n",
              "    <tr>\n",
              "      <th>0</th>\n",
              "      <td>xgb</td>\n",
              "      <td>119199.799219</td>\n",
              "      <td>9254.005293</td>\n",
              "      <td>0.894148</td>\n",
              "      <td>0.008395</td>\n",
              "      <td>0.893656</td>\n",
              "      <td>0.008434</td>\n",
              "      <td>21.35 sec</td>\n",
              "    </tr>\n",
              "    <tr>\n",
              "      <th>1</th>\n",
              "      <td>lgb</td>\n",
              "      <td>124071.728335</td>\n",
              "      <td>10308.313206</td>\n",
              "      <td>0.885426</td>\n",
              "      <td>0.009260</td>\n",
              "      <td>0.884893</td>\n",
              "      <td>0.009303</td>\n",
              "      <td>3.07 sec</td>\n",
              "    </tr>\n",
              "    <tr>\n",
              "      <th>2</th>\n",
              "      <td>hgbr</td>\n",
              "      <td>126261.704246</td>\n",
              "      <td>12245.466500</td>\n",
              "      <td>0.881324</td>\n",
              "      <td>0.012921</td>\n",
              "      <td>0.880773</td>\n",
              "      <td>0.012981</td>\n",
              "      <td>17.89 sec</td>\n",
              "    </tr>\n",
              "    <tr>\n",
              "      <th>3</th>\n",
              "      <td>rf</td>\n",
              "      <td>135920.107162</td>\n",
              "      <td>11738.357882</td>\n",
              "      <td>0.862746</td>\n",
              "      <td>0.008494</td>\n",
              "      <td>0.862108</td>\n",
              "      <td>0.008534</td>\n",
              "      <td>13 min 36.69 sec</td>\n",
              "    </tr>\n",
              "    <tr>\n",
              "      <th>5</th>\n",
              "      <td>svr</td>\n",
              "      <td>376429.355688</td>\n",
              "      <td>21585.860437</td>\n",
              "      <td>-0.055181</td>\n",
              "      <td>0.005707</td>\n",
              "      <td>-0.060086</td>\n",
              "      <td>0.005734</td>\n",
              "      <td>3 min 0.84 sec</td>\n",
              "    </tr>\n",
              "  </tbody>\n",
              "</table>\n",
              "</div>"
            ],
            "text/plain": [
              "   Model           RMSE      RMSE_std        R2    R2_std       AR2   AR2_std  \\\n",
              "6  stack   67252.233205      0.000000  0.966442  0.000000  0.966286  0.000000   \n",
              "0    xgb  119199.799219   9254.005293  0.894148  0.008395  0.893656  0.008434   \n",
              "1    lgb  124071.728335  10308.313206  0.885426  0.009260  0.884893  0.009303   \n",
              "2   hgbr  126261.704246  12245.466500  0.881324  0.012921  0.880773  0.012981   \n",
              "3     rf  135920.107162  11738.357882  0.862746  0.008494  0.862108  0.008534   \n",
              "5    svr  376429.355688  21585.860437 -0.055181  0.005707 -0.060086  0.005734   \n",
              "\n",
              "         Time_Taken  \n",
              "6                 0  \n",
              "0         21.35 sec  \n",
              "1          3.07 sec  \n",
              "2         17.89 sec  \n",
              "3  13 min 36.69 sec  \n",
              "5    3 min 0.84 sec  "
            ]
          },
          "metadata": {
            "tags": []
          },
          "execution_count": 40
        }
      ]
    },
    {
      "cell_type": "code",
      "metadata": {
        "id": "A5eSumAYURKo",
        "outputId": "f76bd1ed-9a6a-4825-8f2c-13d372d7b7b2",
        "colab": {
          "base_uri": "https://localhost:8080/",
          "height": 235
        }
      },
      "source": [
        "x['normalized'] = x['RMSE'].div(x['RMSE'].sum()).to_numpy()[::-1].round(2)\n",
        "x"
      ],
      "execution_count": 41,
      "outputs": [
        {
          "output_type": "execute_result",
          "data": {
            "text/html": [
              "<div>\n",
              "<style scoped>\n",
              "    .dataframe tbody tr th:only-of-type {\n",
              "        vertical-align: middle;\n",
              "    }\n",
              "\n",
              "    .dataframe tbody tr th {\n",
              "        vertical-align: top;\n",
              "    }\n",
              "\n",
              "    .dataframe thead th {\n",
              "        text-align: right;\n",
              "    }\n",
              "</style>\n",
              "<table border=\"1\" class=\"dataframe\">\n",
              "  <thead>\n",
              "    <tr style=\"text-align: right;\">\n",
              "      <th></th>\n",
              "      <th>Model</th>\n",
              "      <th>RMSE</th>\n",
              "      <th>RMSE_std</th>\n",
              "      <th>R2</th>\n",
              "      <th>R2_std</th>\n",
              "      <th>AR2</th>\n",
              "      <th>AR2_std</th>\n",
              "      <th>Time_Taken</th>\n",
              "      <th>normalized</th>\n",
              "    </tr>\n",
              "  </thead>\n",
              "  <tbody>\n",
              "    <tr>\n",
              "      <th>6</th>\n",
              "      <td>stack</td>\n",
              "      <td>67252.233205</td>\n",
              "      <td>0.000000</td>\n",
              "      <td>0.966442</td>\n",
              "      <td>0.000000</td>\n",
              "      <td>0.966286</td>\n",
              "      <td>0.000000</td>\n",
              "      <td>0</td>\n",
              "      <td>0.40</td>\n",
              "    </tr>\n",
              "    <tr>\n",
              "      <th>0</th>\n",
              "      <td>xgb</td>\n",
              "      <td>119199.799219</td>\n",
              "      <td>9254.005293</td>\n",
              "      <td>0.894148</td>\n",
              "      <td>0.008395</td>\n",
              "      <td>0.893656</td>\n",
              "      <td>0.008434</td>\n",
              "      <td>21.35 sec</td>\n",
              "      <td>0.14</td>\n",
              "    </tr>\n",
              "    <tr>\n",
              "      <th>1</th>\n",
              "      <td>lgb</td>\n",
              "      <td>124071.728335</td>\n",
              "      <td>10308.313206</td>\n",
              "      <td>0.885426</td>\n",
              "      <td>0.009260</td>\n",
              "      <td>0.884893</td>\n",
              "      <td>0.009303</td>\n",
              "      <td>3.07 sec</td>\n",
              "      <td>0.13</td>\n",
              "    </tr>\n",
              "    <tr>\n",
              "      <th>2</th>\n",
              "      <td>hgbr</td>\n",
              "      <td>126261.704246</td>\n",
              "      <td>12245.466500</td>\n",
              "      <td>0.881324</td>\n",
              "      <td>0.012921</td>\n",
              "      <td>0.880773</td>\n",
              "      <td>0.012981</td>\n",
              "      <td>17.89 sec</td>\n",
              "      <td>0.13</td>\n",
              "    </tr>\n",
              "    <tr>\n",
              "      <th>3</th>\n",
              "      <td>rf</td>\n",
              "      <td>135920.107162</td>\n",
              "      <td>11738.357882</td>\n",
              "      <td>0.862746</td>\n",
              "      <td>0.008494</td>\n",
              "      <td>0.862108</td>\n",
              "      <td>0.008534</td>\n",
              "      <td>13 min 36.69 sec</td>\n",
              "      <td>0.13</td>\n",
              "    </tr>\n",
              "    <tr>\n",
              "      <th>5</th>\n",
              "      <td>svr</td>\n",
              "      <td>376429.355688</td>\n",
              "      <td>21585.860437</td>\n",
              "      <td>-0.055181</td>\n",
              "      <td>0.005707</td>\n",
              "      <td>-0.060086</td>\n",
              "      <td>0.005734</td>\n",
              "      <td>3 min 0.84 sec</td>\n",
              "      <td>0.07</td>\n",
              "    </tr>\n",
              "  </tbody>\n",
              "</table>\n",
              "</div>"
            ],
            "text/plain": [
              "   Model           RMSE      RMSE_std        R2    R2_std       AR2   AR2_std  \\\n",
              "6  stack   67252.233205      0.000000  0.966442  0.000000  0.966286  0.000000   \n",
              "0    xgb  119199.799219   9254.005293  0.894148  0.008395  0.893656  0.008434   \n",
              "1    lgb  124071.728335  10308.313206  0.885426  0.009260  0.884893  0.009303   \n",
              "2   hgbr  126261.704246  12245.466500  0.881324  0.012921  0.880773  0.012981   \n",
              "3     rf  135920.107162  11738.357882  0.862746  0.008494  0.862108  0.008534   \n",
              "5    svr  376429.355688  21585.860437 -0.055181  0.005707 -0.060086  0.005734   \n",
              "\n",
              "         Time_Taken  normalized  \n",
              "6                 0        0.40  \n",
              "0         21.35 sec        0.14  \n",
              "1          3.07 sec        0.13  \n",
              "2         17.89 sec        0.13  \n",
              "3  13 min 36.69 sec        0.13  \n",
              "5    3 min 0.84 sec        0.07  "
            ]
          },
          "metadata": {
            "tags": []
          },
          "execution_count": 41
        }
      ]
    },
    {
      "cell_type": "code",
      "metadata": {
        "id": "Xxyyq_stWP3N",
        "outputId": "192f1ca0-49b9-4f37-b6aa-8e2517bbb957",
        "colab": {
          "base_uri": "https://localhost:8080/"
        }
      },
      "source": [
        "x['normalized'].sum()"
      ],
      "execution_count": 42,
      "outputs": [
        {
          "output_type": "execute_result",
          "data": {
            "text/plain": [
              "1.0"
            ]
          },
          "metadata": {
            "tags": []
          },
          "execution_count": 42
        }
      ]
    },
    {
      "cell_type": "code",
      "metadata": {
        "id": "Uyj6xYwt_zPV",
        "outputId": "44ee0a37-e525-4fd5-b098-addd43d68276",
        "colab": {
          "base_uri": "https://localhost:8080/"
        }
      },
      "source": [
        "x['Model'].to_numpy()"
      ],
      "execution_count": 43,
      "outputs": [
        {
          "output_type": "execute_result",
          "data": {
            "text/plain": [
              "array(['stack', 'xgb', 'lgb', 'hgbr', 'rf', 'svr'], dtype=object)"
            ]
          },
          "metadata": {
            "tags": []
          },
          "execution_count": 43
        }
      ]
    },
    {
      "cell_type": "code",
      "metadata": {
        "id": "0aEI87N6J3nO",
        "outputId": "ece5df21-5649-43a5-b25d-3e340c30b2f9",
        "colab": {
          "base_uri": "https://localhost:8080/"
        }
      },
      "source": [
        "# training data predictions\n",
        "preds = np.c_[ypreds_stack_tr, ypreds_xgb_tr,ypreds_lgb_tr,ypreds_hgbr_tr,ypreds_rf_tr,ypreds_svr_tr]\n",
        "weights = x['normalized'].to_numpy()\n",
        "\n",
        "print('preds shape       :', preds.shape)\n",
        "print('weights shape     :', weights.shape)\n",
        "print('ypreds_stack shape:', ypreds_stack.shape )\n",
        "\n",
        "ypreds_blend = np.dot(preds, weights.reshape(-1,1)).flatten()\n",
        "ypreds_blend[:3]"
      ],
      "execution_count": 49,
      "outputs": [
        {
          "output_type": "stream",
          "text": [
            "preds shape       : (17290, 6)\n",
            "weights shape     : (6,)\n",
            "ypreds_stack shape: (17290,)\n"
          ],
          "name": "stdout"
        },
        {
          "output_type": "execute_result",
          "data": {
            "text/plain": [
              "array([443889.69243579, 260230.01197176, 637383.27726542])"
            ]
          },
          "metadata": {
            "tags": []
          },
          "execution_count": 49
        }
      ]
    },
    {
      "cell_type": "code",
      "metadata": {
        "id": "8Lx_vl_1O9Hp"
      },
      "source": [
        "rmse_blend = get_rmse(ytrain, ypreds_blend)\n",
        "r2_blend = metrics.r2_score(ytrain, ypreds_blend)\n",
        "ar2_blend = calculate_adjusted_r2(ytrain,ypreds_blend,nrows=nrows,kcols=kcols)"
      ],
      "execution_count": 50,
      "outputs": []
    },
    {
      "cell_type": "code",
      "metadata": {
        "id": "HeIWU-11C6iP",
        "outputId": "d33cdd2b-bdd3-480d-bad7-04ca0e1b7010",
        "colab": {
          "base_uri": "https://localhost:8080/",
          "height": 266
        }
      },
      "source": [
        "df_scores"
      ],
      "execution_count": 51,
      "outputs": [
        {
          "output_type": "execute_result",
          "data": {
            "text/html": [
              "<div>\n",
              "<style scoped>\n",
              "    .dataframe tbody tr th:only-of-type {\n",
              "        vertical-align: middle;\n",
              "    }\n",
              "\n",
              "    .dataframe tbody tr th {\n",
              "        vertical-align: top;\n",
              "    }\n",
              "\n",
              "    .dataframe thead th {\n",
              "        text-align: right;\n",
              "    }\n",
              "</style>\n",
              "<table border=\"1\" class=\"dataframe\">\n",
              "  <thead>\n",
              "    <tr style=\"text-align: right;\">\n",
              "      <th></th>\n",
              "      <th>Model</th>\n",
              "      <th>RMSE</th>\n",
              "      <th>RMSE_std</th>\n",
              "      <th>R2</th>\n",
              "      <th>R2_std</th>\n",
              "      <th>AR2</th>\n",
              "      <th>AR2_std</th>\n",
              "      <th>Time_Taken</th>\n",
              "    </tr>\n",
              "  </thead>\n",
              "  <tbody>\n",
              "    <tr>\n",
              "      <th>0</th>\n",
              "      <td>xgb</td>\n",
              "      <td>119199.799219</td>\n",
              "      <td>9254.005293</td>\n",
              "      <td>0.894148</td>\n",
              "      <td>0.008395</td>\n",
              "      <td>0.893656</td>\n",
              "      <td>0.008434</td>\n",
              "      <td>21.35 sec</td>\n",
              "    </tr>\n",
              "    <tr>\n",
              "      <th>1</th>\n",
              "      <td>lgb</td>\n",
              "      <td>124071.728335</td>\n",
              "      <td>10308.313206</td>\n",
              "      <td>0.885426</td>\n",
              "      <td>0.009260</td>\n",
              "      <td>0.884893</td>\n",
              "      <td>0.009303</td>\n",
              "      <td>3.07 sec</td>\n",
              "    </tr>\n",
              "    <tr>\n",
              "      <th>2</th>\n",
              "      <td>hgbr</td>\n",
              "      <td>126261.704246</td>\n",
              "      <td>12245.466500</td>\n",
              "      <td>0.881324</td>\n",
              "      <td>0.012921</td>\n",
              "      <td>0.880773</td>\n",
              "      <td>0.012981</td>\n",
              "      <td>17.89 sec</td>\n",
              "    </tr>\n",
              "    <tr>\n",
              "      <th>3</th>\n",
              "      <td>rf</td>\n",
              "      <td>135920.107162</td>\n",
              "      <td>11738.357882</td>\n",
              "      <td>0.862746</td>\n",
              "      <td>0.008494</td>\n",
              "      <td>0.862108</td>\n",
              "      <td>0.008534</td>\n",
              "      <td>13 min 36.69 sec</td>\n",
              "    </tr>\n",
              "    <tr>\n",
              "      <th>4</th>\n",
              "      <td>ridgecv</td>\n",
              "      <td>189758.231555</td>\n",
              "      <td>8600.010679</td>\n",
              "      <td>0.730846</td>\n",
              "      <td>0.019707</td>\n",
              "      <td>0.729594</td>\n",
              "      <td>0.019798</td>\n",
              "      <td>10.35 sec</td>\n",
              "    </tr>\n",
              "    <tr>\n",
              "      <th>5</th>\n",
              "      <td>svr</td>\n",
              "      <td>376429.355688</td>\n",
              "      <td>21585.860437</td>\n",
              "      <td>-0.055181</td>\n",
              "      <td>0.005707</td>\n",
              "      <td>-0.060086</td>\n",
              "      <td>0.005734</td>\n",
              "      <td>3 min 0.84 sec</td>\n",
              "    </tr>\n",
              "    <tr>\n",
              "      <th>6</th>\n",
              "      <td>stack</td>\n",
              "      <td>67252.233205</td>\n",
              "      <td>0.000000</td>\n",
              "      <td>0.966442</td>\n",
              "      <td>0.000000</td>\n",
              "      <td>0.966286</td>\n",
              "      <td>0.000000</td>\n",
              "      <td>0</td>\n",
              "    </tr>\n",
              "  </tbody>\n",
              "</table>\n",
              "</div>"
            ],
            "text/plain": [
              "     Model           RMSE      RMSE_std        R2    R2_std       AR2  \\\n",
              "0      xgb  119199.799219   9254.005293  0.894148  0.008395  0.893656   \n",
              "1      lgb  124071.728335  10308.313206  0.885426  0.009260  0.884893   \n",
              "2     hgbr  126261.704246  12245.466500  0.881324  0.012921  0.880773   \n",
              "3       rf  135920.107162  11738.357882  0.862746  0.008494  0.862108   \n",
              "4  ridgecv  189758.231555   8600.010679  0.730846  0.019707  0.729594   \n",
              "5      svr  376429.355688  21585.860437 -0.055181  0.005707 -0.060086   \n",
              "6    stack   67252.233205      0.000000  0.966442  0.000000  0.966286   \n",
              "\n",
              "    AR2_std        Time_Taken  \n",
              "0  0.008434         21.35 sec  \n",
              "1  0.009303          3.07 sec  \n",
              "2  0.012981         17.89 sec  \n",
              "3  0.008534  13 min 36.69 sec  \n",
              "4  0.019798         10.35 sec  \n",
              "5  0.005734    3 min 0.84 sec  \n",
              "6  0.000000                 0  "
            ]
          },
          "metadata": {
            "tags": []
          },
          "execution_count": 51
        }
      ]
    },
    {
      "cell_type": "code",
      "metadata": {
        "id": "zO8ldFe_RISy"
      },
      "source": [
        "df_scores.loc[len(df_scores)] = ['blend',rmse_blend,0,r2_blend,0,ar2_blend,0,'7min']\n",
        "df_scores = df_scores.drop_duplicates().sort_values('RMSE')"
      ],
      "execution_count": 52,
      "outputs": []
    },
    {
      "cell_type": "code",
      "metadata": {
        "id": "lKLavslaDW2s",
        "outputId": "2b927b60-f31c-42f9-f44b-940f08e5164b",
        "colab": {
          "base_uri": "https://localhost:8080/",
          "height": 225
        }
      },
      "source": [
        "display(df_scores.style\n",
        "        .format({\n",
        "            'RMSE': \"{:,.0f}\",\n",
        "            'RMSE_std': \"{:,.0f}\",\n",
        "            'R2': \"{:,.4f}\",\n",
        "            'R2_std': \"{:,.4f}\",\n",
        "            'AR2': \"{:,.4f}\",\n",
        "            'AR2_std': \"{:,.4f}\",\n",
        "            })\n",
        "        .background_gradient(subset=['AR2'])\n",
        "        .set_caption('Model evaluation for Train set')\n",
        "        )"
      ],
      "execution_count": 53,
      "outputs": [
        {
          "output_type": "display_data",
          "data": {
            "text/html": [
              "<style  type=\"text/css\" >\n",
              "#T_afa5789c_2033_11eb_b1c8_0242ac1c0002row0_col5{\n",
              "            background-color:  #023858;\n",
              "            color:  #f1f1f1;\n",
              "        }#T_afa5789c_2033_11eb_b1c8_0242ac1c0002row1_col5{\n",
              "            background-color:  #023a5b;\n",
              "            color:  #f1f1f1;\n",
              "        }#T_afa5789c_2033_11eb_b1c8_0242ac1c0002row2_col5{\n",
              "            background-color:  #034b76;\n",
              "            color:  #f1f1f1;\n",
              "        }#T_afa5789c_2033_11eb_b1c8_0242ac1c0002row3_col5{\n",
              "            background-color:  #034d79;\n",
              "            color:  #f1f1f1;\n",
              "        }#T_afa5789c_2033_11eb_b1c8_0242ac1c0002row4_col5{\n",
              "            background-color:  #034e7b;\n",
              "            color:  #f1f1f1;\n",
              "        }#T_afa5789c_2033_11eb_b1c8_0242ac1c0002row5_col5{\n",
              "            background-color:  #045382;\n",
              "            color:  #f1f1f1;\n",
              "        }#T_afa5789c_2033_11eb_b1c8_0242ac1c0002row6_col5{\n",
              "            background-color:  #056dab;\n",
              "            color:  #f1f1f1;\n",
              "        }#T_afa5789c_2033_11eb_b1c8_0242ac1c0002row7_col5{\n",
              "            background-color:  #fff7fb;\n",
              "            color:  #000000;\n",
              "        }</style><table id=\"T_afa5789c_2033_11eb_b1c8_0242ac1c0002\" ><caption>Model evaluation for Train set</caption><thead>    <tr>        <th class=\"blank level0\" ></th>        <th class=\"col_heading level0 col0\" >Model</th>        <th class=\"col_heading level0 col1\" >RMSE</th>        <th class=\"col_heading level0 col2\" >RMSE_std</th>        <th class=\"col_heading level0 col3\" >R2</th>        <th class=\"col_heading level0 col4\" >R2_std</th>        <th class=\"col_heading level0 col5\" >AR2</th>        <th class=\"col_heading level0 col6\" >AR2_std</th>        <th class=\"col_heading level0 col7\" >Time_Taken</th>    </tr></thead><tbody>\n",
              "                <tr>\n",
              "                        <th id=\"T_afa5789c_2033_11eb_b1c8_0242ac1c0002level0_row0\" class=\"row_heading level0 row0\" >6</th>\n",
              "                        <td id=\"T_afa5789c_2033_11eb_b1c8_0242ac1c0002row0_col0\" class=\"data row0 col0\" >stack</td>\n",
              "                        <td id=\"T_afa5789c_2033_11eb_b1c8_0242ac1c0002row0_col1\" class=\"data row0 col1\" >67,252</td>\n",
              "                        <td id=\"T_afa5789c_2033_11eb_b1c8_0242ac1c0002row0_col2\" class=\"data row0 col2\" >0</td>\n",
              "                        <td id=\"T_afa5789c_2033_11eb_b1c8_0242ac1c0002row0_col3\" class=\"data row0 col3\" >0.9664</td>\n",
              "                        <td id=\"T_afa5789c_2033_11eb_b1c8_0242ac1c0002row0_col4\" class=\"data row0 col4\" >0.0000</td>\n",
              "                        <td id=\"T_afa5789c_2033_11eb_b1c8_0242ac1c0002row0_col5\" class=\"data row0 col5\" >0.9663</td>\n",
              "                        <td id=\"T_afa5789c_2033_11eb_b1c8_0242ac1c0002row0_col6\" class=\"data row0 col6\" >0.0000</td>\n",
              "                        <td id=\"T_afa5789c_2033_11eb_b1c8_0242ac1c0002row0_col7\" class=\"data row0 col7\" >0</td>\n",
              "            </tr>\n",
              "            <tr>\n",
              "                        <th id=\"T_afa5789c_2033_11eb_b1c8_0242ac1c0002level0_row1\" class=\"row_heading level0 row1\" >7</th>\n",
              "                        <td id=\"T_afa5789c_2033_11eb_b1c8_0242ac1c0002row1_col0\" class=\"data row1 col0\" >blend</td>\n",
              "                        <td id=\"T_afa5789c_2033_11eb_b1c8_0242ac1c0002row1_col1\" class=\"data row1 col1\" >75,297</td>\n",
              "                        <td id=\"T_afa5789c_2033_11eb_b1c8_0242ac1c0002row1_col2\" class=\"data row1 col2\" >0</td>\n",
              "                        <td id=\"T_afa5789c_2033_11eb_b1c8_0242ac1c0002row1_col3\" class=\"data row1 col3\" >0.9579</td>\n",
              "                        <td id=\"T_afa5789c_2033_11eb_b1c8_0242ac1c0002row1_col4\" class=\"data row1 col4\" >0.0000</td>\n",
              "                        <td id=\"T_afa5789c_2033_11eb_b1c8_0242ac1c0002row1_col5\" class=\"data row1 col5\" >0.9577</td>\n",
              "                        <td id=\"T_afa5789c_2033_11eb_b1c8_0242ac1c0002row1_col6\" class=\"data row1 col6\" >0.0000</td>\n",
              "                        <td id=\"T_afa5789c_2033_11eb_b1c8_0242ac1c0002row1_col7\" class=\"data row1 col7\" >7min</td>\n",
              "            </tr>\n",
              "            <tr>\n",
              "                        <th id=\"T_afa5789c_2033_11eb_b1c8_0242ac1c0002level0_row2\" class=\"row_heading level0 row2\" >0</th>\n",
              "                        <td id=\"T_afa5789c_2033_11eb_b1c8_0242ac1c0002row2_col0\" class=\"data row2 col0\" >xgb</td>\n",
              "                        <td id=\"T_afa5789c_2033_11eb_b1c8_0242ac1c0002row2_col1\" class=\"data row2 col1\" >119,200</td>\n",
              "                        <td id=\"T_afa5789c_2033_11eb_b1c8_0242ac1c0002row2_col2\" class=\"data row2 col2\" >9,254</td>\n",
              "                        <td id=\"T_afa5789c_2033_11eb_b1c8_0242ac1c0002row2_col3\" class=\"data row2 col3\" >0.8941</td>\n",
              "                        <td id=\"T_afa5789c_2033_11eb_b1c8_0242ac1c0002row2_col4\" class=\"data row2 col4\" >0.0084</td>\n",
              "                        <td id=\"T_afa5789c_2033_11eb_b1c8_0242ac1c0002row2_col5\" class=\"data row2 col5\" >0.8937</td>\n",
              "                        <td id=\"T_afa5789c_2033_11eb_b1c8_0242ac1c0002row2_col6\" class=\"data row2 col6\" >0.0084</td>\n",
              "                        <td id=\"T_afa5789c_2033_11eb_b1c8_0242ac1c0002row2_col7\" class=\"data row2 col7\" >21.35 sec</td>\n",
              "            </tr>\n",
              "            <tr>\n",
              "                        <th id=\"T_afa5789c_2033_11eb_b1c8_0242ac1c0002level0_row3\" class=\"row_heading level0 row3\" >1</th>\n",
              "                        <td id=\"T_afa5789c_2033_11eb_b1c8_0242ac1c0002row3_col0\" class=\"data row3 col0\" >lgb</td>\n",
              "                        <td id=\"T_afa5789c_2033_11eb_b1c8_0242ac1c0002row3_col1\" class=\"data row3 col1\" >124,072</td>\n",
              "                        <td id=\"T_afa5789c_2033_11eb_b1c8_0242ac1c0002row3_col2\" class=\"data row3 col2\" >10,308</td>\n",
              "                        <td id=\"T_afa5789c_2033_11eb_b1c8_0242ac1c0002row3_col3\" class=\"data row3 col3\" >0.8854</td>\n",
              "                        <td id=\"T_afa5789c_2033_11eb_b1c8_0242ac1c0002row3_col4\" class=\"data row3 col4\" >0.0093</td>\n",
              "                        <td id=\"T_afa5789c_2033_11eb_b1c8_0242ac1c0002row3_col5\" class=\"data row3 col5\" >0.8849</td>\n",
              "                        <td id=\"T_afa5789c_2033_11eb_b1c8_0242ac1c0002row3_col6\" class=\"data row3 col6\" >0.0093</td>\n",
              "                        <td id=\"T_afa5789c_2033_11eb_b1c8_0242ac1c0002row3_col7\" class=\"data row3 col7\" >3.07 sec</td>\n",
              "            </tr>\n",
              "            <tr>\n",
              "                        <th id=\"T_afa5789c_2033_11eb_b1c8_0242ac1c0002level0_row4\" class=\"row_heading level0 row4\" >2</th>\n",
              "                        <td id=\"T_afa5789c_2033_11eb_b1c8_0242ac1c0002row4_col0\" class=\"data row4 col0\" >hgbr</td>\n",
              "                        <td id=\"T_afa5789c_2033_11eb_b1c8_0242ac1c0002row4_col1\" class=\"data row4 col1\" >126,262</td>\n",
              "                        <td id=\"T_afa5789c_2033_11eb_b1c8_0242ac1c0002row4_col2\" class=\"data row4 col2\" >12,245</td>\n",
              "                        <td id=\"T_afa5789c_2033_11eb_b1c8_0242ac1c0002row4_col3\" class=\"data row4 col3\" >0.8813</td>\n",
              "                        <td id=\"T_afa5789c_2033_11eb_b1c8_0242ac1c0002row4_col4\" class=\"data row4 col4\" >0.0129</td>\n",
              "                        <td id=\"T_afa5789c_2033_11eb_b1c8_0242ac1c0002row4_col5\" class=\"data row4 col5\" >0.8808</td>\n",
              "                        <td id=\"T_afa5789c_2033_11eb_b1c8_0242ac1c0002row4_col6\" class=\"data row4 col6\" >0.0130</td>\n",
              "                        <td id=\"T_afa5789c_2033_11eb_b1c8_0242ac1c0002row4_col7\" class=\"data row4 col7\" >17.89 sec</td>\n",
              "            </tr>\n",
              "            <tr>\n",
              "                        <th id=\"T_afa5789c_2033_11eb_b1c8_0242ac1c0002level0_row5\" class=\"row_heading level0 row5\" >3</th>\n",
              "                        <td id=\"T_afa5789c_2033_11eb_b1c8_0242ac1c0002row5_col0\" class=\"data row5 col0\" >rf</td>\n",
              "                        <td id=\"T_afa5789c_2033_11eb_b1c8_0242ac1c0002row5_col1\" class=\"data row5 col1\" >135,920</td>\n",
              "                        <td id=\"T_afa5789c_2033_11eb_b1c8_0242ac1c0002row5_col2\" class=\"data row5 col2\" >11,738</td>\n",
              "                        <td id=\"T_afa5789c_2033_11eb_b1c8_0242ac1c0002row5_col3\" class=\"data row5 col3\" >0.8627</td>\n",
              "                        <td id=\"T_afa5789c_2033_11eb_b1c8_0242ac1c0002row5_col4\" class=\"data row5 col4\" >0.0085</td>\n",
              "                        <td id=\"T_afa5789c_2033_11eb_b1c8_0242ac1c0002row5_col5\" class=\"data row5 col5\" >0.8621</td>\n",
              "                        <td id=\"T_afa5789c_2033_11eb_b1c8_0242ac1c0002row5_col6\" class=\"data row5 col6\" >0.0085</td>\n",
              "                        <td id=\"T_afa5789c_2033_11eb_b1c8_0242ac1c0002row5_col7\" class=\"data row5 col7\" >13 min 36.69 sec</td>\n",
              "            </tr>\n",
              "            <tr>\n",
              "                        <th id=\"T_afa5789c_2033_11eb_b1c8_0242ac1c0002level0_row6\" class=\"row_heading level0 row6\" >4</th>\n",
              "                        <td id=\"T_afa5789c_2033_11eb_b1c8_0242ac1c0002row6_col0\" class=\"data row6 col0\" >ridgecv</td>\n",
              "                        <td id=\"T_afa5789c_2033_11eb_b1c8_0242ac1c0002row6_col1\" class=\"data row6 col1\" >189,758</td>\n",
              "                        <td id=\"T_afa5789c_2033_11eb_b1c8_0242ac1c0002row6_col2\" class=\"data row6 col2\" >8,600</td>\n",
              "                        <td id=\"T_afa5789c_2033_11eb_b1c8_0242ac1c0002row6_col3\" class=\"data row6 col3\" >0.7308</td>\n",
              "                        <td id=\"T_afa5789c_2033_11eb_b1c8_0242ac1c0002row6_col4\" class=\"data row6 col4\" >0.0197</td>\n",
              "                        <td id=\"T_afa5789c_2033_11eb_b1c8_0242ac1c0002row6_col5\" class=\"data row6 col5\" >0.7296</td>\n",
              "                        <td id=\"T_afa5789c_2033_11eb_b1c8_0242ac1c0002row6_col6\" class=\"data row6 col6\" >0.0198</td>\n",
              "                        <td id=\"T_afa5789c_2033_11eb_b1c8_0242ac1c0002row6_col7\" class=\"data row6 col7\" >10.35 sec</td>\n",
              "            </tr>\n",
              "            <tr>\n",
              "                        <th id=\"T_afa5789c_2033_11eb_b1c8_0242ac1c0002level0_row7\" class=\"row_heading level0 row7\" >5</th>\n",
              "                        <td id=\"T_afa5789c_2033_11eb_b1c8_0242ac1c0002row7_col0\" class=\"data row7 col0\" >svr</td>\n",
              "                        <td id=\"T_afa5789c_2033_11eb_b1c8_0242ac1c0002row7_col1\" class=\"data row7 col1\" >376,429</td>\n",
              "                        <td id=\"T_afa5789c_2033_11eb_b1c8_0242ac1c0002row7_col2\" class=\"data row7 col2\" >21,586</td>\n",
              "                        <td id=\"T_afa5789c_2033_11eb_b1c8_0242ac1c0002row7_col3\" class=\"data row7 col3\" >-0.0552</td>\n",
              "                        <td id=\"T_afa5789c_2033_11eb_b1c8_0242ac1c0002row7_col4\" class=\"data row7 col4\" >0.0057</td>\n",
              "                        <td id=\"T_afa5789c_2033_11eb_b1c8_0242ac1c0002row7_col5\" class=\"data row7 col5\" >-0.0601</td>\n",
              "                        <td id=\"T_afa5789c_2033_11eb_b1c8_0242ac1c0002row7_col6\" class=\"data row7 col6\" >0.0057</td>\n",
              "                        <td id=\"T_afa5789c_2033_11eb_b1c8_0242ac1c0002row7_col7\" class=\"data row7 col7\" >3 min 0.84 sec</td>\n",
              "            </tr>\n",
              "    </tbody></table>"
            ],
            "text/plain": [
              "<pandas.io.formats.style.Styler at 0x7fd5f5225940>"
            ]
          },
          "metadata": {
            "tags": []
          }
        }
      ]
    },
    {
      "cell_type": "code",
      "metadata": {
        "id": "t4y3kumARcC1",
        "outputId": "ab23ffe0-6950-44b1-c9ad-cac1093b90d9",
        "colab": {
          "base_uri": "https://localhost:8080/",
          "height": 333
        }
      },
      "source": [
        "df_scores.set_index('Model')['RMSE'].plot.line('ro',rot=90)"
      ],
      "execution_count": 54,
      "outputs": [
        {
          "output_type": "execute_result",
          "data": {
            "text/plain": [
              "<matplotlib.axes._subplots.AxesSubplot at 0x7fd5f51d44a8>"
            ]
          },
          "metadata": {
            "tags": []
          },
          "execution_count": 54
        },
        {
          "output_type": "display_data",
          "data": {
            "image/png": "[encoded data removed]",
            "text/plain": [
              "<Figure size 432x288 with 1 Axes>"
            ]
          },
          "metadata": {
            "tags": [],
            "needs_background": "light"
          }
        }
      ]
    },
    {
      "cell_type": "markdown",
      "metadata": {
        "id": "l96s4e0og1P0"
      },
      "source": [
        "# Model Predictions on Test Data"
      ]
    },
    {
      "cell_type": "code",
      "metadata": {
        "id": "mujF-qK37vkc"
      },
      "source": [
        "def adjustedR2(rsquared,nrows,kcols):\n",
        "    return rsquared- (kcols-1)/(nrows-kcols) * (1-rsquared)"
      ],
      "execution_count": 55,
      "outputs": []
    },
    {
      "cell_type": "code",
      "metadata": {
        "id": "ByERFT4toxdn"
      },
      "source": [
        "model_names = ['ridge','svr','rf','hgbr','xgboost','lightgbm','stack']"
      ],
      "execution_count": 56,
      "outputs": []
    },
    {
      "cell_type": "code",
      "metadata": {
        "id": "zY6cKoHMpGo7"
      },
      "source": [
        "ypreds = [ypreds_ridge, ypreds_svr,ypreds_rf,ypreds_hgbr,\n",
        "          ypreds_xgb, ypreds_lgb,ypreds_stack]\n",
        "\n",
        "rmses = [get_rmse(np.array(ser_ytest), yp) for yp in ypreds]\n",
        "r2s = [sklearn.metrics.r2_score(np.array(ser_ytest), yp) for yp in ypreds]\n",
        "\n",
        "ar2s = [adjustedR2(r2, nrows=df_Xtest.shape[0], kcols=df_Xtest.shape[1]) for r2 in r2s]"
      ],
      "execution_count": 64,
      "outputs": []
    },
    {
      "cell_type": "code",
      "metadata": {
        "id": "XFcHZYnipXfZ"
      },
      "source": [
        "df_eval = pd.DataFrame({'Model': model_names,\n",
        "                        'RMSE': rmses,\n",
        "                        'R-squared': r2s,\n",
        "                        'Adjusted-Rsquared': ar2s})\n",
        "\n",
        "df_eval = df_eval.sort_values('RMSE',ascending=True)"
      ],
      "execution_count": 65,
      "outputs": []
    },
    {
      "cell_type": "code",
      "metadata": {
        "id": "-39aU7U4FERs",
        "outputId": "3ddf3bf6-8a8f-4a8e-ada0-e1576645503c",
        "colab": {
          "base_uri": "https://localhost:8080/",
          "height": 204
        }
      },
      "source": [
        "display(df_eval.style\n",
        "        .format({\n",
        "            'RMSE': \"{:,.0f}\",\n",
        "            'RMSE_std': \"{:,.0f}\",\n",
        "            'R2': \"{:,.4f}\",\n",
        "            'R2_std': \"{:,.4f}\",\n",
        "            'AR2': \"{:,.4f}\",\n",
        "            'AR2_std': \"{:,.4f}\",\n",
        "            })\n",
        "        .background_gradient(subset=['Adjusted-Rsquared'])\n",
        "        .set_caption('Model evaluation for Test set')\n",
        "        )"
      ],
      "execution_count": 66,
      "outputs": [
        {
          "output_type": "display_data",
          "data": {
            "text/html": [
              "<style  type=\"text/css\" >\n",
              "#T_dd672df0_2035_11eb_b1c8_0242ac1c0002row0_col3,#T_dd672df0_2035_11eb_b1c8_0242ac1c0002row1_col3{\n",
              "            background-color:  #023858;\n",
              "            color:  #f1f1f1;\n",
              "        }#T_dd672df0_2035_11eb_b1c8_0242ac1c0002row2_col3{\n",
              "            background-color:  #023a5b;\n",
              "            color:  #f1f1f1;\n",
              "        }#T_dd672df0_2035_11eb_b1c8_0242ac1c0002row3_col3{\n",
              "            background-color:  #023b5d;\n",
              "            color:  #f1f1f1;\n",
              "        }#T_dd672df0_2035_11eb_b1c8_0242ac1c0002row4_col3{\n",
              "            background-color:  #023e62;\n",
              "            color:  #f1f1f1;\n",
              "        }#T_dd672df0_2035_11eb_b1c8_0242ac1c0002row5_col3{\n",
              "            background-color:  #04629a;\n",
              "            color:  #f1f1f1;\n",
              "        }#T_dd672df0_2035_11eb_b1c8_0242ac1c0002row6_col3{\n",
              "            background-color:  #fff7fb;\n",
              "            color:  #000000;\n",
              "        }</style><table id=\"T_dd672df0_2035_11eb_b1c8_0242ac1c0002\" ><caption>Model evaluation for Test set</caption><thead>    <tr>        <th class=\"blank level0\" ></th>        <th class=\"col_heading level0 col0\" >Model</th>        <th class=\"col_heading level0 col1\" >RMSE</th>        <th class=\"col_heading level0 col2\" >R-squared</th>        <th class=\"col_heading level0 col3\" >Adjusted-Rsquared</th>    </tr></thead><tbody>\n",
              "                <tr>\n",
              "                        <th id=\"T_dd672df0_2035_11eb_b1c8_0242ac1c0002level0_row0\" class=\"row_heading level0 row0\" >6</th>\n",
              "                        <td id=\"T_dd672df0_2035_11eb_b1c8_0242ac1c0002row0_col0\" class=\"data row0 col0\" >stack</td>\n",
              "                        <td id=\"T_dd672df0_2035_11eb_b1c8_0242ac1c0002row0_col1\" class=\"data row0 col1\" >119,463</td>\n",
              "                        <td id=\"T_dd672df0_2035_11eb_b1c8_0242ac1c0002row0_col2\" class=\"data row0 col2\" >0.894104</td>\n",
              "                        <td id=\"T_dd672df0_2035_11eb_b1c8_0242ac1c0002row0_col3\" class=\"data row0 col3\" >0.892107</td>\n",
              "            </tr>\n",
              "            <tr>\n",
              "                        <th id=\"T_dd672df0_2035_11eb_b1c8_0242ac1c0002level0_row1\" class=\"row_heading level0 row1\" >4</th>\n",
              "                        <td id=\"T_dd672df0_2035_11eb_b1c8_0242ac1c0002row1_col0\" class=\"data row1 col0\" >xgboost</td>\n",
              "                        <td id=\"T_dd672df0_2035_11eb_b1c8_0242ac1c0002row1_col1\" class=\"data row1 col1\" >119,725</td>\n",
              "                        <td id=\"T_dd672df0_2035_11eb_b1c8_0242ac1c0002row1_col2\" class=\"data row1 col2\" >0.893639</td>\n",
              "                        <td id=\"T_dd672df0_2035_11eb_b1c8_0242ac1c0002row1_col3\" class=\"data row1 col3\" >0.891634</td>\n",
              "            </tr>\n",
              "            <tr>\n",
              "                        <th id=\"T_dd672df0_2035_11eb_b1c8_0242ac1c0002level0_row2\" class=\"row_heading level0 row2\" >5</th>\n",
              "                        <td id=\"T_dd672df0_2035_11eb_b1c8_0242ac1c0002row2_col0\" class=\"data row2 col0\" >lightgbm</td>\n",
              "                        <td id=\"T_dd672df0_2035_11eb_b1c8_0242ac1c0002row2_col1\" class=\"data row2 col1\" >125,401</td>\n",
              "                        <td id=\"T_dd672df0_2035_11eb_b1c8_0242ac1c0002row2_col2\" class=\"data row2 col2\" >0.883315</td>\n",
              "                        <td id=\"T_dd672df0_2035_11eb_b1c8_0242ac1c0002row2_col3\" class=\"data row2 col3\" >0.881115</td>\n",
              "            </tr>\n",
              "            <tr>\n",
              "                        <th id=\"T_dd672df0_2035_11eb_b1c8_0242ac1c0002level0_row3\" class=\"row_heading level0 row3\" >3</th>\n",
              "                        <td id=\"T_dd672df0_2035_11eb_b1c8_0242ac1c0002row3_col0\" class=\"data row3 col0\" >hgbr</td>\n",
              "                        <td id=\"T_dd672df0_2035_11eb_b1c8_0242ac1c0002row3_col1\" class=\"data row3 col1\" >127,325</td>\n",
              "                        <td id=\"T_dd672df0_2035_11eb_b1c8_0242ac1c0002row3_col2\" class=\"data row3 col2\" >0.879709</td>\n",
              "                        <td id=\"T_dd672df0_2035_11eb_b1c8_0242ac1c0002row3_col3\" class=\"data row3 col3\" >0.877440</td>\n",
              "            </tr>\n",
              "            <tr>\n",
              "                        <th id=\"T_dd672df0_2035_11eb_b1c8_0242ac1c0002level0_row4\" class=\"row_heading level0 row4\" >2</th>\n",
              "                        <td id=\"T_dd672df0_2035_11eb_b1c8_0242ac1c0002row4_col0\" class=\"data row4 col0\" >rf</td>\n",
              "                        <td id=\"T_dd672df0_2035_11eb_b1c8_0242ac1c0002row4_col1\" class=\"data row4 col1\" >131,855</td>\n",
              "                        <td id=\"T_dd672df0_2035_11eb_b1c8_0242ac1c0002row4_col2\" class=\"data row4 col2\" >0.870997</td>\n",
              "                        <td id=\"T_dd672df0_2035_11eb_b1c8_0242ac1c0002row4_col3\" class=\"data row4 col3\" >0.868564</td>\n",
              "            </tr>\n",
              "            <tr>\n",
              "                        <th id=\"T_dd672df0_2035_11eb_b1c8_0242ac1c0002level0_row5\" class=\"row_heading level0 row5\" >0</th>\n",
              "                        <td id=\"T_dd672df0_2035_11eb_b1c8_0242ac1c0002row5_col0\" class=\"data row5 col0\" >ridgecv</td>\n",
              "                        <td id=\"T_dd672df0_2035_11eb_b1c8_0242ac1c0002row5_col1\" class=\"data row5 col1\" >191,052</td>\n",
              "                        <td id=\"T_dd672df0_2035_11eb_b1c8_0242ac1c0002row5_col2\" class=\"data row5 col2\" >0.729160</td>\n",
              "                        <td id=\"T_dd672df0_2035_11eb_b1c8_0242ac1c0002row5_col3\" class=\"data row5 col3\" >0.724052</td>\n",
              "            </tr>\n",
              "            <tr>\n",
              "                        <th id=\"T_dd672df0_2035_11eb_b1c8_0242ac1c0002level0_row6\" class=\"row_heading level0 row6\" >1</th>\n",
              "                        <td id=\"T_dd672df0_2035_11eb_b1c8_0242ac1c0002row6_col0\" class=\"data row6 col0\" >svr</td>\n",
              "                        <td id=\"T_dd672df0_2035_11eb_b1c8_0242ac1c0002row6_col1\" class=\"data row6 col1\" >377,376</td>\n",
              "                        <td id=\"T_dd672df0_2035_11eb_b1c8_0242ac1c0002row6_col2\" class=\"data row6 col2\" >-0.056717</td>\n",
              "                        <td id=\"T_dd672df0_2035_11eb_b1c8_0242ac1c0002row6_col3\" class=\"data row6 col3\" >-0.076646</td>\n",
              "            </tr>\n",
              "    </tbody></table>"
            ],
            "text/plain": [
              "<pandas.io.formats.style.Styler at 0x7fd57c4cf208>"
            ]
          },
          "metadata": {
            "tags": []
          }
        }
      ]
    },
    {
      "cell_type": "markdown",
      "metadata": {
        "id": "CmD13pCup-US"
      },
      "source": [
        "# Time Taken"
      ]
    },
    {
      "cell_type": "code",
      "metadata": {
        "id": "o4xMxNCQp_m-",
        "outputId": "c989958f-9bd7-478c-d7cb-0f26f84509f4",
        "colab": {
          "base_uri": "https://localhost:8080/"
        }
      },
      "source": [
        "time_taken = time.time() - time_start_notebook\n",
        "h,m = divmod(time_taken,60*60)\n",
        "print('Time taken to run whole notebook: {:.0f} hr '\\\n",
        "      '{:.0f} min {:.0f} secs'.format(h, *divmod(m,60)))"
      ],
      "execution_count": 67,
      "outputs": [
        {
          "output_type": "stream",
          "text": [
            "Time taken to run whole notebook: 1 hr 5 min 57 secs\n"
          ],
          "name": "stdout"
        }
      ]
    }
  ]
}