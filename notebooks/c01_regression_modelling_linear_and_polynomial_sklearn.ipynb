{
 "cells": [
  {
   "cell_type": "markdown",
   "metadata": {
    "toc": "true"
   },
   "source": [
    "<h1>Table of Contents<span class=\"tocSkip\"></span></h1>\n",
    "<div class=\"toc\"><ul class=\"toc-item\"><li><span><a href=\"#Data-Description\" data-toc-modified-id=\"Data-Description-1\"><span class=\"toc-item-num\">1&nbsp;&nbsp;</span>Data Description</a></span></li><li><span><a href=\"#Notes-for-Linear-Regression\" data-toc-modified-id=\"Notes-for-Linear-Regression-2\"><span class=\"toc-item-num\">2&nbsp;&nbsp;</span>Notes for Linear Regression</a></span></li><li><span><a href=\"#General-Modelling-Tips\" data-toc-modified-id=\"General-Modelling-Tips-3\"><span class=\"toc-item-num\">3&nbsp;&nbsp;</span>General Modelling Tips</a></span></li><li><span><a href=\"#Imports\" data-toc-modified-id=\"Imports-4\"><span class=\"toc-item-num\">4&nbsp;&nbsp;</span>Imports</a></span></li><li><span><a href=\"#Load-the-data\" data-toc-modified-id=\"Load-the-data-5\"><span class=\"toc-item-num\">5&nbsp;&nbsp;</span>Load the data</a></span></li><li><span><a href=\"#Simple-Linear-Regression\" data-toc-modified-id=\"Simple-Linear-Regression-6\"><span class=\"toc-item-num\">6&nbsp;&nbsp;</span>Simple Linear Regression</a></span><ul class=\"toc-item\"><li><span><a href=\"#Train-test-split\" data-toc-modified-id=\"Train-test-split-6.1\"><span class=\"toc-item-num\">6.1&nbsp;&nbsp;</span>Train-test split</a></span></li><li><span><a href=\"#modelling\" data-toc-modified-id=\"modelling-6.2\"><span class=\"toc-item-num\">6.2&nbsp;&nbsp;</span>modelling</a></span></li><li><span><a href=\"#model-weights\" data-toc-modified-id=\"model-weights-6.3\"><span class=\"toc-item-num\">6.3&nbsp;&nbsp;</span>model weights</a></span></li><li><span><a href=\"#prediction\" data-toc-modified-id=\"prediction-6.4\"><span class=\"toc-item-num\">6.4&nbsp;&nbsp;</span>prediction</a></span></li><li><span><a href=\"#evaluation\" data-toc-modified-id=\"evaluation-6.5\"><span class=\"toc-item-num\">6.5&nbsp;&nbsp;</span>evaluation</a></span></li><li><span><a href=\"#prediction-visualization\" data-toc-modified-id=\"prediction-visualization-6.6\"><span class=\"toc-item-num\">6.6&nbsp;&nbsp;</span>prediction visualization</a></span></li></ul></li><li><span><a href=\"#Feature-Selection\" data-toc-modified-id=\"Feature-Selection-7\"><span class=\"toc-item-num\">7&nbsp;&nbsp;</span>Feature Selection</a></span></li><li><span><a href=\"#Multiple-Linear-Regression\" data-toc-modified-id=\"Multiple-Linear-Regression-8\"><span class=\"toc-item-num\">8&nbsp;&nbsp;</span>Multiple Linear Regression</a></span><ul class=\"toc-item\"><li><span><a href=\"#Multiple-Linear-Regression---Some-processed-features\" data-toc-modified-id=\"Multiple-Linear-Regression---Some-processed-features-8.1\"><span class=\"toc-item-num\">8.1&nbsp;&nbsp;</span>Multiple Linear Regression - Some processed features</a></span></li><li><span><a href=\"#Multiple-Linear-Regression---Many-processed-features\" data-toc-modified-id=\"Multiple-Linear-Regression---Many-processed-features-8.2\"><span class=\"toc-item-num\">8.2&nbsp;&nbsp;</span>Multiple Linear Regression - Many processed features</a></span></li><li><span><a href=\"#Multiple-Linear-Regrerssion---Ridge--Regularization-L2\" data-toc-modified-id=\"Multiple-Linear-Regrerssion---Ridge--Regularization-L2-8.3\"><span class=\"toc-item-num\">8.3&nbsp;&nbsp;</span>Multiple Linear Regrerssion - Ridge  Regularization L2</a></span></li><li><span><a href=\"#Multiple-Linear-Regression---Lasso-Regularization-L1\" data-toc-modified-id=\"Multiple-Linear-Regression---Lasso-Regularization-L1-8.4\"><span class=\"toc-item-num\">8.4&nbsp;&nbsp;</span>Multiple Linear Regression - Lasso Regularization L1</a></span></li></ul></li><li><span><a href=\"#Polynomial-Regression\" data-toc-modified-id=\"Polynomial-Regression-9\"><span class=\"toc-item-num\">9&nbsp;&nbsp;</span>Polynomial Regression</a></span><ul class=\"toc-item\"><li><span><a href=\"#Polynomial-Regression---deg-=-2-few-raw-features\" data-toc-modified-id=\"Polynomial-Regression---deg-=-2-few-raw-features-9.1\"><span class=\"toc-item-num\">9.1&nbsp;&nbsp;</span>Polynomial Regression - deg = 2 few raw features</a></span></li><li><span><a href=\"#Polynomial-Regression---deg-=-3-few-raw-features\" data-toc-modified-id=\"Polynomial-Regression---deg-=-3-few-raw-features-9.2\"><span class=\"toc-item-num\">9.2&nbsp;&nbsp;</span>Polynomial Regression - deg = 3 few raw features</a></span></li><li><span><a href=\"#Polynomial-Regression---deg-=-2-all-raw-features\" data-toc-modified-id=\"Polynomial-Regression---deg-=-2-all-raw-features-9.3\"><span class=\"toc-item-num\">9.3&nbsp;&nbsp;</span>Polynomial Regression - deg = 2 all raw features</a></span></li><li><span><a href=\"#Polynomial-Regression---deg-=-3-all-raw-features\" data-toc-modified-id=\"Polynomial-Regression---deg-=-3-all-raw-features-9.4\"><span class=\"toc-item-num\">9.4&nbsp;&nbsp;</span>Polynomial Regression - deg = 3 all raw features</a></span></li><li><span><a href=\"#Polynomial-Regression---deg-=-2-many-processed-features\" data-toc-modified-id=\"Polynomial-Regression---deg-=-2-many-processed-features-9.5\"><span class=\"toc-item-num\">9.5&nbsp;&nbsp;</span>Polynomial Regression - deg = 2 many processed features</a></span></li><li><span><a href=\"#Polynomial-Regression---deg-=-2-many-processed-features-Ridge-alpha-=-1\" data-toc-modified-id=\"Polynomial-Regression---deg-=-2-many-processed-features-Ridge-alpha-=-1-9.6\"><span class=\"toc-item-num\">9.6&nbsp;&nbsp;</span>Polynomial Regression - deg = 2 many processed features Ridge alpha = 1</a></span></li><li><span><a href=\"#Polynomial-Regression---deg-=-2-many-processed-features-Ridge-alpha-=-50_000\" data-toc-modified-id=\"Polynomial-Regression---deg-=-2-many-processed-features-Ridge-alpha-=-50_000-9.7\"><span class=\"toc-item-num\">9.7&nbsp;&nbsp;</span>Polynomial Regression - deg = 2 many processed features Ridge alpha = 50_000</a></span></li><li><span><a href=\"#Polynomial-Regression---deg-=-2-many-processed-features-Lasso-alpha-=-1\" data-toc-modified-id=\"Polynomial-Regression---deg-=-2-many-processed-features-Lasso-alpha-=-1-9.8\"><span class=\"toc-item-num\">9.8&nbsp;&nbsp;</span>Polynomial Regression - deg = 2 many processed features Lasso alpha = 1</a></span></li><li><span><a href=\"#Polynomial-Regression---deg-=-2-many-processed-features-Lasso-alpha-=-50_000\" data-toc-modified-id=\"Polynomial-Regression---deg-=-2-many-processed-features-Lasso-alpha-=-50_000-9.9\"><span class=\"toc-item-num\">9.9&nbsp;&nbsp;</span>Polynomial Regression - deg = 2 many processed features Lasso alpha = 50_000</a></span></li><li><span><a href=\"#Linear-Model-LassoLarsCV\" data-toc-modified-id=\"Linear-Model-LassoLarsCV-9.10\"><span class=\"toc-item-num\">9.10&nbsp;&nbsp;</span>Linear Model LassoLarsCV</a></span></li></ul></li><li><span><a href=\"#Summary\" data-toc-modified-id=\"Summary-10\"><span class=\"toc-item-num\">10&nbsp;&nbsp;</span>Summary</a></span></li><li><span><a href=\"#Feature-Importance-for-Lasso-Regression\" data-toc-modified-id=\"Feature-Importance-for-Lasso-Regression-11\"><span class=\"toc-item-num\">11&nbsp;&nbsp;</span>Feature Importance for Lasso Regression</a></span></li></ul></div>"
   ]
  },
  {
   "cell_type": "markdown",
   "metadata": {},
   "source": [
    "# Data Description\n",
    "\n",
    "This dataset contains house sale prices for King County,\n",
    "which includes Seattle.\n",
    "It includes homes sold between May 2014 and May 2015.\n",
    "\n",
    "- Dependent features: 1 (price)\n",
    "- Features : 19 home features\n",
    "- Id:  1 house ID\n",
    "\n",
    "Task: Try to estimate the price based on given features.\n",
    "![](../data/raw/data_description.png)"
   ]
  },
  {
   "cell_type": "markdown",
   "metadata": {},
   "source": [
    "# Notes for Linear Regression\n",
    "- Linear regression models are highly intepretable and have low complexity.\n",
    "- We can have effect of each features to target.\n",
    "- High Adjusted R-squared value is better.\n",
    "- Durbin Watson test is for one order AR(1), i.e. to test whether a time series x(t) has\n",
    "  correlation with x(t-1).\n",
    "- Low p-values are better.\n",
    "- High F-statistics are better. If data has too many rows, even low F1 value can be good.\n",
    "- They can have high bias (low model complexity) but low variance.\n",
    "- High bias means we might need more complex model to fit the real life data\n",
    "  there might not be linear relation between predictors (X) and target (y).\n",
    "- High variance means when we change few data points of the dataset, model gives\n",
    "  very different parameters. Linear model does not have this problem.\n",
    "- There are many test whether linear regressin can be fitted to a data for not.\n",
    "  i.e. data should follow the assumptions of linear regression to give a resonable result.\n",
    "- Log transform helps making the continuos data more Gaussian-like and it linear models benifits from it."
   ]
  },
  {
   "cell_type": "markdown",
   "metadata": {},
   "source": [
    "# General Modelling Tips\n",
    "- Always use random state for code reproducibility. Linear Regression does not\n",
    "  have random state, but regularized versions L1 (Lasso, makes coeffs 0), L2(Ridge, makes coeffs close to zero)\n",
    "  have random state.\n",
    "- Always use njobs=-1 to utilize all cores in your laptop.\n",
    "- You can use RandomizedSearchCV for hyperparameter tuning with njobs=-1.\n",
    "  We can make it little bit faster with dask backend:\n",
    "  https://github.com/dask/dask-examples/blob/master/machine-learning/scale-scikit-learn.ipynb\n",
    "\n",
    "\n",
    "```python\n",
    "# sklearn is slower\n",
    "from sklearn.model_selection import GridSearchCV\n",
    "grid_search = GridSearchCV(model, param_grid,cv=5,n_jobs=-1\n",
    "                           scoring='accuracy',verbose=2,random_state=random_state)\n",
    "\n",
    "grid_search.fit(Xtrain, ytrain)\n",
    "\n",
    "\n",
    "# using dask is faster\n",
    "import dask\n",
    "import joblib\n",
    "\n",
    "with joblib.parallel_backend('dask'):\n",
    "    grid_search.fit(Xtrain, ytrain)\n",
    "```"
   ]
  },
  {
   "cell_type": "markdown",
   "metadata": {},
   "source": [
    "# Imports"
   ]
  },
  {
   "cell_type": "code",
   "execution_count": 1,
   "metadata": {
    "ExecuteTime": {
     "end_time": "2019-10-04T23:23:33.125573Z",
     "start_time": "2019-10-04T23:23:33.113697Z"
    }
   },
   "outputs": [
    {
     "data": {
      "application/javascript": [
       "IPython.OutputArea.auto_scroll_threshold = 9999;"
      ],
      "text/plain": [
       "<IPython.core.display.Javascript object>"
      ]
     },
     "metadata": {},
     "output_type": "display_data"
    }
   ],
   "source": [
    "%%javascript\n",
    "IPython.OutputArea.auto_scroll_threshold = 9999;"
   ]
  },
  {
   "cell_type": "code",
   "execution_count": 2,
   "metadata": {
    "ExecuteTime": {
     "end_time": "2019-10-04T23:23:33.854551Z",
     "start_time": "2019-10-04T23:23:33.129965Z"
    }
   },
   "outputs": [
    {
     "name": "stdout",
     "output_type": "stream",
     "text": [
      "[('numpy', '1.16.4'), ('pandas', '0.25.0'), ('seaborn', '0.9.0'), ('matplotlib', '3.1.1')]\n"
     ]
    }
   ],
   "source": [
    "# my custom module\n",
    "import bhishan\n",
    "import src\n",
    "%load_ext autoreload\n",
    "%autoreload 2\n",
    "\n",
    "import numpy as np\n",
    "import pandas as pd\n",
    "import seaborn as sns\n",
    "sns.set(color_codes=True)\n",
    "\n",
    "import matplotlib\n",
    "import matplotlib.pyplot as plt\n",
    "%matplotlib inline\n",
    "\n",
    "import os\n",
    "import time\n",
    "\n",
    "import io\n",
    "import json\n",
    "\n",
    "# random state\n",
    "random_state=100\n",
    "np.random.seed(random_state) # we need this in each cell\n",
    "np.random.set_state=random_state\n",
    "\n",
    "# Jupyter notebook settings for pandas\n",
    "pd.set_option('display.max_columns', 200)\n",
    "pd.set_option('display.float_format', '{:,.3f}'.format) # numbers sep by comma\n",
    "pd.set_option('display.max_rows', 100) # None for all the rows\n",
    "pd.set_option('display.max_colwidth', 200)\n",
    "\n",
    "print([(x.__name__,x.__version__) for x in [np, pd,sns,matplotlib]])"
   ]
  },
  {
   "cell_type": "code",
   "execution_count": 3,
   "metadata": {
    "ExecuteTime": {
     "end_time": "2019-10-04T23:23:34.216045Z",
     "start_time": "2019-10-04T23:23:33.858522Z"
    }
   },
   "outputs": [],
   "source": [
    "# scale and split\n",
    "from sklearn.model_selection import train_test_split"
   ]
  },
  {
   "cell_type": "code",
   "execution_count": 4,
   "metadata": {
    "ExecuteTime": {
     "end_time": "2019-10-04T23:23:34.262504Z",
     "start_time": "2019-10-04T23:23:34.218221Z"
    }
   },
   "outputs": [],
   "source": [
    "# regressors\n",
    "from sklearn import linear_model\n",
    "from sklearn.linear_model import LinearRegression"
   ]
  },
  {
   "cell_type": "code",
   "execution_count": 5,
   "metadata": {
    "ExecuteTime": {
     "end_time": "2019-10-04T23:23:34.289690Z",
     "start_time": "2019-10-04T23:23:34.263977Z"
    }
   },
   "outputs": [],
   "source": [
    "# regressor preprocessing\n",
    "from sklearn.preprocessing import PolynomialFeatures"
   ]
  },
  {
   "cell_type": "code",
   "execution_count": 6,
   "metadata": {
    "ExecuteTime": {
     "end_time": "2019-10-04T23:23:34.317105Z",
     "start_time": "2019-10-04T23:23:34.291509Z"
    }
   },
   "outputs": [],
   "source": [
    "# metrics\n",
    "from sklearn import metrics\n",
    "from sklearn.metrics import mean_squared_error"
   ]
  },
  {
   "cell_type": "code",
   "execution_count": 7,
   "metadata": {
    "ExecuteTime": {
     "end_time": "2019-10-04T23:23:34.351884Z",
     "start_time": "2019-10-04T23:23:34.319049Z"
    }
   },
   "outputs": [],
   "source": [
    "# cross validation\n",
    "from sklearn.model_selection import cross_val_score\n",
    "\n",
    "df_eval = pd.DataFrame({'Model': [],\n",
    "                           'Details':[],\n",
    "                           'Root Mean Squared Error (RMSE)':[],\n",
    "                           'R-squared (training)':[],\n",
    "                           'Adjusted R-squared (training)':[],\n",
    "                           'R-squared (test)':[],\n",
    "                           'Adjusted R-squared (test)':[],\n",
    "                           '5-Fold Cross Validation':[]})"
   ]
  },
  {
   "cell_type": "code",
   "execution_count": 8,
   "metadata": {
    "ExecuteTime": {
     "end_time": "2019-10-04T23:23:34.383703Z",
     "start_time": "2019-10-04T23:23:34.353927Z"
    }
   },
   "outputs": [
    {
     "data": {
      "application/javascript": [
       "IPython.OutputArea.auto_scroll_threshold = 9999;"
      ],
      "text/plain": [
       "<IPython.core.display.Javascript object>"
      ]
     },
     "metadata": {},
     "output_type": "display_data"
    }
   ],
   "source": [
    "%%javascript\n",
    "IPython.OutputArea.auto_scroll_threshold = 9999;"
   ]
  },
  {
   "cell_type": "markdown",
   "metadata": {},
   "source": [
    "# Load the data"
   ]
  },
  {
   "cell_type": "code",
   "execution_count": 9,
   "metadata": {
    "ExecuteTime": {
     "end_time": "2019-10-04T23:23:34.654513Z",
     "start_time": "2019-10-04T23:23:34.385948Z"
    }
   },
   "outputs": [
    {
     "name": "stdout",
     "output_type": "stream",
     "text": [
      "(21613, 92)\n"
     ]
    },
    {
     "data": {
      "text/html": [
       "<div>\n",
       "<style scoped>\n",
       "    .dataframe tbody tr th:only-of-type {\n",
       "        vertical-align: middle;\n",
       "    }\n",
       "\n",
       "    .dataframe tbody tr th {\n",
       "        vertical-align: top;\n",
       "    }\n",
       "\n",
       "    .dataframe thead th {\n",
       "        text-align: right;\n",
       "    }\n",
       "</style>\n",
       "<table border=\"1\" class=\"dataframe\">\n",
       "  <thead>\n",
       "    <tr style=\"text-align: right;\">\n",
       "      <th></th>\n",
       "      <th>id</th>\n",
       "      <th>date</th>\n",
       "      <th>price</th>\n",
       "      <th>bedrooms</th>\n",
       "      <th>bathrooms</th>\n",
       "      <th>sqft_living</th>\n",
       "      <th>sqft_lot</th>\n",
       "      <th>floors</th>\n",
       "      <th>waterfront</th>\n",
       "      <th>view</th>\n",
       "      <th>condition</th>\n",
       "      <th>grade</th>\n",
       "      <th>sqft_above</th>\n",
       "      <th>sqft_basement</th>\n",
       "      <th>yr_built</th>\n",
       "      <th>yr_renovated</th>\n",
       "      <th>zipcode</th>\n",
       "      <th>lat</th>\n",
       "      <th>long</th>\n",
       "      <th>sqft_living15</th>\n",
       "      <th>sqft_lot15</th>\n",
       "      <th>yr_sales</th>\n",
       "      <th>age</th>\n",
       "      <th>yr_renovated2</th>\n",
       "      <th>age_after_renovation</th>\n",
       "      <th>zipcode_top10</th>\n",
       "      <th>zipcode_houses</th>\n",
       "      <th>basement_bool</th>\n",
       "      <th>renovation_bool</th>\n",
       "      <th>age_cat</th>\n",
       "      <th>age_after_renovation_cat</th>\n",
       "      <th>waterfront_0</th>\n",
       "      <th>waterfront_1</th>\n",
       "      <th>view_0</th>\n",
       "      <th>view_1</th>\n",
       "      <th>view_2</th>\n",
       "      <th>view_3</th>\n",
       "      <th>view_4</th>\n",
       "      <th>condition_1</th>\n",
       "      <th>condition_2</th>\n",
       "      <th>condition_3</th>\n",
       "      <th>condition_4</th>\n",
       "      <th>condition_5</th>\n",
       "      <th>grade_1</th>\n",
       "      <th>grade_10</th>\n",
       "      <th>grade_11</th>\n",
       "      <th>grade_12</th>\n",
       "      <th>grade_13</th>\n",
       "      <th>grade_3</th>\n",
       "      <th>grade_4</th>\n",
       "      <th>grade_5</th>\n",
       "      <th>grade_6</th>\n",
       "      <th>grade_7</th>\n",
       "      <th>grade_8</th>\n",
       "      <th>grade_9</th>\n",
       "      <th>zipcode_top10_98004</th>\n",
       "      <th>zipcode_top10_98006</th>\n",
       "      <th>zipcode_top10_98033</th>\n",
       "      <th>zipcode_top10_98039</th>\n",
       "      <th>zipcode_top10_98040</th>\n",
       "      <th>zipcode_top10_98102</th>\n",
       "      <th>zipcode_top10_98105</th>\n",
       "      <th>zipcode_top10_98155</th>\n",
       "      <th>zipcode_top10_98177</th>\n",
       "      <th>zipcode_top10_others</th>\n",
       "      <th>age_cat_0</th>\n",
       "      <th>age_cat_1</th>\n",
       "      <th>age_cat_2</th>\n",
       "      <th>age_cat_3</th>\n",
       "      <th>age_cat_4</th>\n",
       "      <th>age_cat_5</th>\n",
       "      <th>age_cat_6</th>\n",
       "      <th>age_cat_7</th>\n",
       "      <th>age_cat_8</th>\n",
       "      <th>age_cat_9</th>\n",
       "      <th>age_after_renovation_cat_0</th>\n",
       "      <th>age_after_renovation_cat_1</th>\n",
       "      <th>age_after_renovation_cat_2</th>\n",
       "      <th>age_after_renovation_cat_3</th>\n",
       "      <th>age_after_renovation_cat_4</th>\n",
       "      <th>age_after_renovation_cat_5</th>\n",
       "      <th>age_after_renovation_cat_6</th>\n",
       "      <th>age_after_renovation_cat_7</th>\n",
       "      <th>age_after_renovation_cat_8</th>\n",
       "      <th>age_after_renovation_cat_9</th>\n",
       "      <th>log1p_price</th>\n",
       "      <th>log1p_sqft_living</th>\n",
       "      <th>log1p_sqft_lot</th>\n",
       "      <th>log1p_sqft_above</th>\n",
       "      <th>log1p_sqft_basement</th>\n",
       "      <th>log1p_sqft_living15</th>\n",
       "      <th>log1p_sqft_lot15</th>\n",
       "    </tr>\n",
       "  </thead>\n",
       "  <tbody>\n",
       "    <tr>\n",
       "      <th>0</th>\n",
       "      <td>7129300520</td>\n",
       "      <td>2014-10-13</td>\n",
       "      <td>221,900.000</td>\n",
       "      <td>3</td>\n",
       "      <td>1.000</td>\n",
       "      <td>1180</td>\n",
       "      <td>5650</td>\n",
       "      <td>1.000</td>\n",
       "      <td>0</td>\n",
       "      <td>0</td>\n",
       "      <td>3</td>\n",
       "      <td>7</td>\n",
       "      <td>1180</td>\n",
       "      <td>0</td>\n",
       "      <td>1955</td>\n",
       "      <td>0</td>\n",
       "      <td>98178</td>\n",
       "      <td>47.511</td>\n",
       "      <td>-122.257</td>\n",
       "      <td>1340</td>\n",
       "      <td>5650</td>\n",
       "      <td>2014</td>\n",
       "      <td>59</td>\n",
       "      <td>1955</td>\n",
       "      <td>59</td>\n",
       "      <td>others</td>\n",
       "      <td>262</td>\n",
       "      <td>0</td>\n",
       "      <td>0</td>\n",
       "      <td>5</td>\n",
       "      <td>5</td>\n",
       "      <td>1</td>\n",
       "      <td>0</td>\n",
       "      <td>1</td>\n",
       "      <td>0</td>\n",
       "      <td>0</td>\n",
       "      <td>0</td>\n",
       "      <td>0</td>\n",
       "      <td>0</td>\n",
       "      <td>0</td>\n",
       "      <td>1</td>\n",
       "      <td>0</td>\n",
       "      <td>0</td>\n",
       "      <td>0</td>\n",
       "      <td>0</td>\n",
       "      <td>0</td>\n",
       "      <td>0</td>\n",
       "      <td>0</td>\n",
       "      <td>0</td>\n",
       "      <td>0</td>\n",
       "      <td>0</td>\n",
       "      <td>0</td>\n",
       "      <td>1</td>\n",
       "      <td>0</td>\n",
       "      <td>0</td>\n",
       "      <td>0</td>\n",
       "      <td>0</td>\n",
       "      <td>0</td>\n",
       "      <td>0</td>\n",
       "      <td>0</td>\n",
       "      <td>0</td>\n",
       "      <td>0</td>\n",
       "      <td>0</td>\n",
       "      <td>0</td>\n",
       "      <td>1</td>\n",
       "      <td>0</td>\n",
       "      <td>0</td>\n",
       "      <td>0</td>\n",
       "      <td>0</td>\n",
       "      <td>0</td>\n",
       "      <td>1</td>\n",
       "      <td>0</td>\n",
       "      <td>0</td>\n",
       "      <td>0</td>\n",
       "      <td>0</td>\n",
       "      <td>0</td>\n",
       "      <td>0</td>\n",
       "      <td>0</td>\n",
       "      <td>0</td>\n",
       "      <td>0</td>\n",
       "      <td>1</td>\n",
       "      <td>0</td>\n",
       "      <td>0</td>\n",
       "      <td>0</td>\n",
       "      <td>0</td>\n",
       "      <td>12.310</td>\n",
       "      <td>7.074</td>\n",
       "      <td>8.640</td>\n",
       "      <td>7.074</td>\n",
       "      <td>0.000</td>\n",
       "      <td>7.201</td>\n",
       "      <td>8.640</td>\n",
       "    </tr>\n",
       "    <tr>\n",
       "      <th>1</th>\n",
       "      <td>6414100192</td>\n",
       "      <td>2014-12-09</td>\n",
       "      <td>538,000.000</td>\n",
       "      <td>3</td>\n",
       "      <td>2.250</td>\n",
       "      <td>2570</td>\n",
       "      <td>7242</td>\n",
       "      <td>2.000</td>\n",
       "      <td>0</td>\n",
       "      <td>0</td>\n",
       "      <td>3</td>\n",
       "      <td>7</td>\n",
       "      <td>2170</td>\n",
       "      <td>400</td>\n",
       "      <td>1951</td>\n",
       "      <td>1991</td>\n",
       "      <td>98125</td>\n",
       "      <td>47.721</td>\n",
       "      <td>-122.319</td>\n",
       "      <td>1690</td>\n",
       "      <td>7639</td>\n",
       "      <td>2014</td>\n",
       "      <td>63</td>\n",
       "      <td>1991</td>\n",
       "      <td>23</td>\n",
       "      <td>others</td>\n",
       "      <td>410</td>\n",
       "      <td>1</td>\n",
       "      <td>1</td>\n",
       "      <td>5</td>\n",
       "      <td>2</td>\n",
       "      <td>1</td>\n",
       "      <td>0</td>\n",
       "      <td>1</td>\n",
       "      <td>0</td>\n",
       "      <td>0</td>\n",
       "      <td>0</td>\n",
       "      <td>0</td>\n",
       "      <td>0</td>\n",
       "      <td>0</td>\n",
       "      <td>1</td>\n",
       "      <td>0</td>\n",
       "      <td>0</td>\n",
       "      <td>0</td>\n",
       "      <td>0</td>\n",
       "      <td>0</td>\n",
       "      <td>0</td>\n",
       "      <td>0</td>\n",
       "      <td>0</td>\n",
       "      <td>0</td>\n",
       "      <td>0</td>\n",
       "      <td>0</td>\n",
       "      <td>1</td>\n",
       "      <td>0</td>\n",
       "      <td>0</td>\n",
       "      <td>0</td>\n",
       "      <td>0</td>\n",
       "      <td>0</td>\n",
       "      <td>0</td>\n",
       "      <td>0</td>\n",
       "      <td>0</td>\n",
       "      <td>0</td>\n",
       "      <td>0</td>\n",
       "      <td>0</td>\n",
       "      <td>1</td>\n",
       "      <td>0</td>\n",
       "      <td>0</td>\n",
       "      <td>0</td>\n",
       "      <td>0</td>\n",
       "      <td>0</td>\n",
       "      <td>1</td>\n",
       "      <td>0</td>\n",
       "      <td>0</td>\n",
       "      <td>0</td>\n",
       "      <td>0</td>\n",
       "      <td>0</td>\n",
       "      <td>0</td>\n",
       "      <td>1</td>\n",
       "      <td>0</td>\n",
       "      <td>0</td>\n",
       "      <td>0</td>\n",
       "      <td>0</td>\n",
       "      <td>0</td>\n",
       "      <td>0</td>\n",
       "      <td>0</td>\n",
       "      <td>13.196</td>\n",
       "      <td>7.852</td>\n",
       "      <td>8.888</td>\n",
       "      <td>7.683</td>\n",
       "      <td>5.994</td>\n",
       "      <td>7.433</td>\n",
       "      <td>8.941</td>\n",
       "    </tr>\n",
       "    <tr>\n",
       "      <th>2</th>\n",
       "      <td>5631500400</td>\n",
       "      <td>2015-02-25</td>\n",
       "      <td>180,000.000</td>\n",
       "      <td>2</td>\n",
       "      <td>1.000</td>\n",
       "      <td>770</td>\n",
       "      <td>10000</td>\n",
       "      <td>1.000</td>\n",
       "      <td>0</td>\n",
       "      <td>0</td>\n",
       "      <td>3</td>\n",
       "      <td>6</td>\n",
       "      <td>770</td>\n",
       "      <td>0</td>\n",
       "      <td>1933</td>\n",
       "      <td>0</td>\n",
       "      <td>98028</td>\n",
       "      <td>47.738</td>\n",
       "      <td>-122.233</td>\n",
       "      <td>2720</td>\n",
       "      <td>8062</td>\n",
       "      <td>2015</td>\n",
       "      <td>82</td>\n",
       "      <td>1933</td>\n",
       "      <td>82</td>\n",
       "      <td>others</td>\n",
       "      <td>283</td>\n",
       "      <td>0</td>\n",
       "      <td>0</td>\n",
       "      <td>7</td>\n",
       "      <td>7</td>\n",
       "      <td>1</td>\n",
       "      <td>0</td>\n",
       "      <td>1</td>\n",
       "      <td>0</td>\n",
       "      <td>0</td>\n",
       "      <td>0</td>\n",
       "      <td>0</td>\n",
       "      <td>0</td>\n",
       "      <td>0</td>\n",
       "      <td>1</td>\n",
       "      <td>0</td>\n",
       "      <td>0</td>\n",
       "      <td>0</td>\n",
       "      <td>0</td>\n",
       "      <td>0</td>\n",
       "      <td>0</td>\n",
       "      <td>0</td>\n",
       "      <td>0</td>\n",
       "      <td>0</td>\n",
       "      <td>0</td>\n",
       "      <td>1</td>\n",
       "      <td>0</td>\n",
       "      <td>0</td>\n",
       "      <td>0</td>\n",
       "      <td>0</td>\n",
       "      <td>0</td>\n",
       "      <td>0</td>\n",
       "      <td>0</td>\n",
       "      <td>0</td>\n",
       "      <td>0</td>\n",
       "      <td>0</td>\n",
       "      <td>0</td>\n",
       "      <td>0</td>\n",
       "      <td>1</td>\n",
       "      <td>0</td>\n",
       "      <td>0</td>\n",
       "      <td>0</td>\n",
       "      <td>0</td>\n",
       "      <td>0</td>\n",
       "      <td>0</td>\n",
       "      <td>0</td>\n",
       "      <td>1</td>\n",
       "      <td>0</td>\n",
       "      <td>0</td>\n",
       "      <td>0</td>\n",
       "      <td>0</td>\n",
       "      <td>0</td>\n",
       "      <td>0</td>\n",
       "      <td>0</td>\n",
       "      <td>0</td>\n",
       "      <td>0</td>\n",
       "      <td>1</td>\n",
       "      <td>0</td>\n",
       "      <td>0</td>\n",
       "      <td>12.101</td>\n",
       "      <td>6.648</td>\n",
       "      <td>9.210</td>\n",
       "      <td>6.648</td>\n",
       "      <td>0.000</td>\n",
       "      <td>7.909</td>\n",
       "      <td>8.995</td>\n",
       "    </tr>\n",
       "    <tr>\n",
       "      <th>3</th>\n",
       "      <td>2487200875</td>\n",
       "      <td>2014-12-09</td>\n",
       "      <td>604,000.000</td>\n",
       "      <td>4</td>\n",
       "      <td>3.000</td>\n",
       "      <td>1960</td>\n",
       "      <td>5000</td>\n",
       "      <td>1.000</td>\n",
       "      <td>0</td>\n",
       "      <td>0</td>\n",
       "      <td>5</td>\n",
       "      <td>7</td>\n",
       "      <td>1050</td>\n",
       "      <td>910</td>\n",
       "      <td>1965</td>\n",
       "      <td>0</td>\n",
       "      <td>98136</td>\n",
       "      <td>47.521</td>\n",
       "      <td>-122.393</td>\n",
       "      <td>1360</td>\n",
       "      <td>5000</td>\n",
       "      <td>2014</td>\n",
       "      <td>49</td>\n",
       "      <td>1965</td>\n",
       "      <td>49</td>\n",
       "      <td>others</td>\n",
       "      <td>263</td>\n",
       "      <td>1</td>\n",
       "      <td>0</td>\n",
       "      <td>4</td>\n",
       "      <td>4</td>\n",
       "      <td>1</td>\n",
       "      <td>0</td>\n",
       "      <td>1</td>\n",
       "      <td>0</td>\n",
       "      <td>0</td>\n",
       "      <td>0</td>\n",
       "      <td>0</td>\n",
       "      <td>0</td>\n",
       "      <td>0</td>\n",
       "      <td>0</td>\n",
       "      <td>0</td>\n",
       "      <td>1</td>\n",
       "      <td>0</td>\n",
       "      <td>0</td>\n",
       "      <td>0</td>\n",
       "      <td>0</td>\n",
       "      <td>0</td>\n",
       "      <td>0</td>\n",
       "      <td>0</td>\n",
       "      <td>0</td>\n",
       "      <td>0</td>\n",
       "      <td>1</td>\n",
       "      <td>0</td>\n",
       "      <td>0</td>\n",
       "      <td>0</td>\n",
       "      <td>0</td>\n",
       "      <td>0</td>\n",
       "      <td>0</td>\n",
       "      <td>0</td>\n",
       "      <td>0</td>\n",
       "      <td>0</td>\n",
       "      <td>0</td>\n",
       "      <td>0</td>\n",
       "      <td>1</td>\n",
       "      <td>0</td>\n",
       "      <td>0</td>\n",
       "      <td>0</td>\n",
       "      <td>0</td>\n",
       "      <td>1</td>\n",
       "      <td>0</td>\n",
       "      <td>0</td>\n",
       "      <td>0</td>\n",
       "      <td>0</td>\n",
       "      <td>0</td>\n",
       "      <td>0</td>\n",
       "      <td>0</td>\n",
       "      <td>0</td>\n",
       "      <td>0</td>\n",
       "      <td>1</td>\n",
       "      <td>0</td>\n",
       "      <td>0</td>\n",
       "      <td>0</td>\n",
       "      <td>0</td>\n",
       "      <td>0</td>\n",
       "      <td>13.311</td>\n",
       "      <td>7.581</td>\n",
       "      <td>8.517</td>\n",
       "      <td>6.957</td>\n",
       "      <td>6.815</td>\n",
       "      <td>7.216</td>\n",
       "      <td>8.517</td>\n",
       "    </tr>\n",
       "    <tr>\n",
       "      <th>4</th>\n",
       "      <td>1954400510</td>\n",
       "      <td>2015-02-18</td>\n",
       "      <td>510,000.000</td>\n",
       "      <td>3</td>\n",
       "      <td>2.000</td>\n",
       "      <td>1680</td>\n",
       "      <td>8080</td>\n",
       "      <td>1.000</td>\n",
       "      <td>0</td>\n",
       "      <td>0</td>\n",
       "      <td>3</td>\n",
       "      <td>8</td>\n",
       "      <td>1680</td>\n",
       "      <td>0</td>\n",
       "      <td>1987</td>\n",
       "      <td>0</td>\n",
       "      <td>98074</td>\n",
       "      <td>47.617</td>\n",
       "      <td>-122.045</td>\n",
       "      <td>1800</td>\n",
       "      <td>7503</td>\n",
       "      <td>2015</td>\n",
       "      <td>28</td>\n",
       "      <td>1987</td>\n",
       "      <td>28</td>\n",
       "      <td>others</td>\n",
       "      <td>441</td>\n",
       "      <td>0</td>\n",
       "      <td>0</td>\n",
       "      <td>2</td>\n",
       "      <td>2</td>\n",
       "      <td>1</td>\n",
       "      <td>0</td>\n",
       "      <td>1</td>\n",
       "      <td>0</td>\n",
       "      <td>0</td>\n",
       "      <td>0</td>\n",
       "      <td>0</td>\n",
       "      <td>0</td>\n",
       "      <td>0</td>\n",
       "      <td>1</td>\n",
       "      <td>0</td>\n",
       "      <td>0</td>\n",
       "      <td>0</td>\n",
       "      <td>0</td>\n",
       "      <td>0</td>\n",
       "      <td>0</td>\n",
       "      <td>0</td>\n",
       "      <td>0</td>\n",
       "      <td>0</td>\n",
       "      <td>0</td>\n",
       "      <td>0</td>\n",
       "      <td>0</td>\n",
       "      <td>1</td>\n",
       "      <td>0</td>\n",
       "      <td>0</td>\n",
       "      <td>0</td>\n",
       "      <td>0</td>\n",
       "      <td>0</td>\n",
       "      <td>0</td>\n",
       "      <td>0</td>\n",
       "      <td>0</td>\n",
       "      <td>0</td>\n",
       "      <td>0</td>\n",
       "      <td>1</td>\n",
       "      <td>0</td>\n",
       "      <td>0</td>\n",
       "      <td>1</td>\n",
       "      <td>0</td>\n",
       "      <td>0</td>\n",
       "      <td>0</td>\n",
       "      <td>0</td>\n",
       "      <td>0</td>\n",
       "      <td>0</td>\n",
       "      <td>0</td>\n",
       "      <td>0</td>\n",
       "      <td>0</td>\n",
       "      <td>1</td>\n",
       "      <td>0</td>\n",
       "      <td>0</td>\n",
       "      <td>0</td>\n",
       "      <td>0</td>\n",
       "      <td>0</td>\n",
       "      <td>0</td>\n",
       "      <td>0</td>\n",
       "      <td>13.142</td>\n",
       "      <td>7.427</td>\n",
       "      <td>8.997</td>\n",
       "      <td>7.427</td>\n",
       "      <td>0.000</td>\n",
       "      <td>7.496</td>\n",
       "      <td>8.923</td>\n",
       "    </tr>\n",
       "  </tbody>\n",
       "</table>\n",
       "</div>"
      ],
      "text/plain": [
       "           id        date       price  bedrooms  bathrooms  sqft_living  \\\n",
       "0  7129300520  2014-10-13 221,900.000         3      1.000         1180   \n",
       "1  6414100192  2014-12-09 538,000.000         3      2.250         2570   \n",
       "2  5631500400  2015-02-25 180,000.000         2      1.000          770   \n",
       "3  2487200875  2014-12-09 604,000.000         4      3.000         1960   \n",
       "4  1954400510  2015-02-18 510,000.000         3      2.000         1680   \n",
       "\n",
       "   sqft_lot  floors  waterfront  view  condition  grade  sqft_above  \\\n",
       "0      5650   1.000           0     0          3      7        1180   \n",
       "1      7242   2.000           0     0          3      7        2170   \n",
       "2     10000   1.000           0     0          3      6         770   \n",
       "3      5000   1.000           0     0          5      7        1050   \n",
       "4      8080   1.000           0     0          3      8        1680   \n",
       "\n",
       "   sqft_basement  yr_built  yr_renovated  zipcode    lat     long  \\\n",
       "0              0      1955             0    98178 47.511 -122.257   \n",
       "1            400      1951          1991    98125 47.721 -122.319   \n",
       "2              0      1933             0    98028 47.738 -122.233   \n",
       "3            910      1965             0    98136 47.521 -122.393   \n",
       "4              0      1987             0    98074 47.617 -122.045   \n",
       "\n",
       "   sqft_living15  sqft_lot15  yr_sales  age  yr_renovated2  \\\n",
       "0           1340        5650      2014   59           1955   \n",
       "1           1690        7639      2014   63           1991   \n",
       "2           2720        8062      2015   82           1933   \n",
       "3           1360        5000      2014   49           1965   \n",
       "4           1800        7503      2015   28           1987   \n",
       "\n",
       "   age_after_renovation zipcode_top10  zipcode_houses  basement_bool  \\\n",
       "0                    59        others             262              0   \n",
       "1                    23        others             410              1   \n",
       "2                    82        others             283              0   \n",
       "3                    49        others             263              1   \n",
       "4                    28        others             441              0   \n",
       "\n",
       "   renovation_bool  age_cat  age_after_renovation_cat  waterfront_0  \\\n",
       "0                0        5                         5             1   \n",
       "1                1        5                         2             1   \n",
       "2                0        7                         7             1   \n",
       "3                0        4                         4             1   \n",
       "4                0        2                         2             1   \n",
       "\n",
       "   waterfront_1  view_0  view_1  view_2  view_3  view_4  condition_1  \\\n",
       "0             0       1       0       0       0       0            0   \n",
       "1             0       1       0       0       0       0            0   \n",
       "2             0       1       0       0       0       0            0   \n",
       "3             0       1       0       0       0       0            0   \n",
       "4             0       1       0       0       0       0            0   \n",
       "\n",
       "   condition_2  condition_3  condition_4  condition_5  grade_1  grade_10  \\\n",
       "0            0            1            0            0        0         0   \n",
       "1            0            1            0            0        0         0   \n",
       "2            0            1            0            0        0         0   \n",
       "3            0            0            0            1        0         0   \n",
       "4            0            1            0            0        0         0   \n",
       "\n",
       "   grade_11  grade_12  grade_13  grade_3  grade_4  grade_5  grade_6  grade_7  \\\n",
       "0         0         0         0        0        0        0        0        1   \n",
       "1         0         0         0        0        0        0        0        1   \n",
       "2         0         0         0        0        0        0        1        0   \n",
       "3         0         0         0        0        0        0        0        1   \n",
       "4         0         0         0        0        0        0        0        0   \n",
       "\n",
       "   grade_8  grade_9  zipcode_top10_98004  zipcode_top10_98006  \\\n",
       "0        0        0                    0                    0   \n",
       "1        0        0                    0                    0   \n",
       "2        0        0                    0                    0   \n",
       "3        0        0                    0                    0   \n",
       "4        1        0                    0                    0   \n",
       "\n",
       "   zipcode_top10_98033  zipcode_top10_98039  zipcode_top10_98040  \\\n",
       "0                    0                    0                    0   \n",
       "1                    0                    0                    0   \n",
       "2                    0                    0                    0   \n",
       "3                    0                    0                    0   \n",
       "4                    0                    0                    0   \n",
       "\n",
       "   zipcode_top10_98102  zipcode_top10_98105  zipcode_top10_98155  \\\n",
       "0                    0                    0                    0   \n",
       "1                    0                    0                    0   \n",
       "2                    0                    0                    0   \n",
       "3                    0                    0                    0   \n",
       "4                    0                    0                    0   \n",
       "\n",
       "   zipcode_top10_98177  zipcode_top10_others  age_cat_0  age_cat_1  age_cat_2  \\\n",
       "0                    0                     1          0          0          0   \n",
       "1                    0                     1          0          0          0   \n",
       "2                    0                     1          0          0          0   \n",
       "3                    0                     1          0          0          0   \n",
       "4                    0                     1          0          0          1   \n",
       "\n",
       "   age_cat_3  age_cat_4  age_cat_5  age_cat_6  age_cat_7  age_cat_8  \\\n",
       "0          0          0          1          0          0          0   \n",
       "1          0          0          1          0          0          0   \n",
       "2          0          0          0          0          1          0   \n",
       "3          0          1          0          0          0          0   \n",
       "4          0          0          0          0          0          0   \n",
       "\n",
       "   age_cat_9  age_after_renovation_cat_0  age_after_renovation_cat_1  \\\n",
       "0          0                           0                           0   \n",
       "1          0                           0                           0   \n",
       "2          0                           0                           0   \n",
       "3          0                           0                           0   \n",
       "4          0                           0                           0   \n",
       "\n",
       "   age_after_renovation_cat_2  age_after_renovation_cat_3  \\\n",
       "0                           0                           0   \n",
       "1                           1                           0   \n",
       "2                           0                           0   \n",
       "3                           0                           0   \n",
       "4                           1                           0   \n",
       "\n",
       "   age_after_renovation_cat_4  age_after_renovation_cat_5  \\\n",
       "0                           0                           1   \n",
       "1                           0                           0   \n",
       "2                           0                           0   \n",
       "3                           1                           0   \n",
       "4                           0                           0   \n",
       "\n",
       "   age_after_renovation_cat_6  age_after_renovation_cat_7  \\\n",
       "0                           0                           0   \n",
       "1                           0                           0   \n",
       "2                           0                           1   \n",
       "3                           0                           0   \n",
       "4                           0                           0   \n",
       "\n",
       "   age_after_renovation_cat_8  age_after_renovation_cat_9  log1p_price  \\\n",
       "0                           0                           0       12.310   \n",
       "1                           0                           0       13.196   \n",
       "2                           0                           0       12.101   \n",
       "3                           0                           0       13.311   \n",
       "4                           0                           0       13.142   \n",
       "\n",
       "   log1p_sqft_living  log1p_sqft_lot  log1p_sqft_above  log1p_sqft_basement  \\\n",
       "0              7.074           8.640             7.074                0.000   \n",
       "1              7.852           8.888             7.683                5.994   \n",
       "2              6.648           9.210             6.648                0.000   \n",
       "3              7.581           8.517             6.957                6.815   \n",
       "4              7.427           8.997             7.427                0.000   \n",
       "\n",
       "   log1p_sqft_living15  log1p_sqft_lot15  \n",
       "0                7.201             8.640  \n",
       "1                7.433             8.941  \n",
       "2                7.909             8.995  \n",
       "3                7.216             8.517  \n",
       "4                7.496             8.923  "
      ]
     },
     "execution_count": 9,
     "metadata": {},
     "output_type": "execute_result"
    }
   ],
   "source": [
    "df_raw = pd.read_csv('../data/processed/data_cleaned_encoded.csv')\n",
    "print(df_raw.shape)\n",
    "df_raw.head()"
   ]
  },
  {
   "cell_type": "markdown",
   "metadata": {},
   "source": [
    "# Simple Linear Regression\n",
    "\n",
    "> Simple linear model has only one feature and one target. Here our target is\n",
    "price. From the correlation plot, I see that sqft_living is the most important\n",
    "feature. So, I will build a simple linear regression with sqft_living vs price.\n",
    "\n",
    "$$\n",
    "h_{\\theta}(X)=\\theta_{0}+\\theta_{1} x\n",
    "$$\n",
    "\n",
    "```\n",
    "theta_0 = lr.intercept_\n",
    "theta_1 = lr.coef_\n",
    "\n",
    "```"
   ]
  },
  {
   "cell_type": "code",
   "execution_count": 10,
   "metadata": {
    "ExecuteTime": {
     "end_time": "2019-10-04T23:23:35.008169Z",
     "start_time": "2019-10-04T23:23:34.656215Z"
    }
   },
   "outputs": [
    {
     "data": {
      "text/html": [
       "<style  type=\"text/css\" >\n",
       "    #T_fc9172b6_e6fd_11e9_b8dd_acde48001122row0_col0 {\n",
       "            background-color:  #b40426;\n",
       "            color:  #f1f1f1;\n",
       "        }    #T_fc9172b6_e6fd_11e9_b8dd_acde48001122row0_col1 {\n",
       "            background-color:  #f29072;\n",
       "            color:  #000000;\n",
       "        }    #T_fc9172b6_e6fd_11e9_b8dd_acde48001122row0_col2 {\n",
       "            background-color:  #b7cff9;\n",
       "            color:  #000000;\n",
       "        }    #T_fc9172b6_e6fd_11e9_b8dd_acde48001122row0_col3 {\n",
       "            background-color:  #9ebeff;\n",
       "            color:  #000000;\n",
       "        }    #T_fc9172b6_e6fd_11e9_b8dd_acde48001122row0_col4 {\n",
       "            background-color:  #7597f6;\n",
       "            color:  #000000;\n",
       "        }    #T_fc9172b6_e6fd_11e9_b8dd_acde48001122row0_col5 {\n",
       "            background-color:  #7093f3;\n",
       "            color:  #000000;\n",
       "        }    #T_fc9172b6_e6fd_11e9_b8dd_acde48001122row0_col6 {\n",
       "            background-color:  #6282ea;\n",
       "            color:  #000000;\n",
       "        }    #T_fc9172b6_e6fd_11e9_b8dd_acde48001122row0_col7 {\n",
       "            background-color:  #465ecf;\n",
       "            color:  #f1f1f1;\n",
       "        }    #T_fc9172b6_e6fd_11e9_b8dd_acde48001122row0_col8 {\n",
       "            background-color:  #455cce;\n",
       "            color:  #f1f1f1;\n",
       "        }    #T_fc9172b6_e6fd_11e9_b8dd_acde48001122row0_col9 {\n",
       "            background-color:  #3b4cc0;\n",
       "            color:  #f1f1f1;\n",
       "        }    #T_fc9172b6_e6fd_11e9_b8dd_acde48001122row1_col0 {\n",
       "            background-color:  #f29072;\n",
       "            color:  #000000;\n",
       "        }    #T_fc9172b6_e6fd_11e9_b8dd_acde48001122row1_col1 {\n",
       "            background-color:  #b40426;\n",
       "            color:  #f1f1f1;\n",
       "        }    #T_fc9172b6_e6fd_11e9_b8dd_acde48001122row1_col2 {\n",
       "            background-color:  #b2ccfb;\n",
       "            color:  #000000;\n",
       "        }    #T_fc9172b6_e6fd_11e9_b8dd_acde48001122row1_col3 {\n",
       "            background-color:  #b9d0f9;\n",
       "            color:  #000000;\n",
       "        }    #T_fc9172b6_e6fd_11e9_b8dd_acde48001122row1_col4 {\n",
       "            background-color:  #a3c2fe;\n",
       "            color:  #000000;\n",
       "        }    #T_fc9172b6_e6fd_11e9_b8dd_acde48001122row1_col5 {\n",
       "            background-color:  #6e90f2;\n",
       "            color:  #000000;\n",
       "        }    #T_fc9172b6_e6fd_11e9_b8dd_acde48001122row1_col6 {\n",
       "            background-color:  #7a9df8;\n",
       "            color:  #000000;\n",
       "        }    #T_fc9172b6_e6fd_11e9_b8dd_acde48001122row1_col7 {\n",
       "            background-color:  #7295f4;\n",
       "            color:  #000000;\n",
       "        }    #T_fc9172b6_e6fd_11e9_b8dd_acde48001122row1_col8 {\n",
       "            background-color:  #6282ea;\n",
       "            color:  #000000;\n",
       "        }    #T_fc9172b6_e6fd_11e9_b8dd_acde48001122row1_col9 {\n",
       "            background-color:  #4a63d3;\n",
       "            color:  #f1f1f1;\n",
       "        }    #T_fc9172b6_e6fd_11e9_b8dd_acde48001122row2_col0 {\n",
       "            background-color:  #b7cff9;\n",
       "            color:  #000000;\n",
       "        }    #T_fc9172b6_e6fd_11e9_b8dd_acde48001122row2_col1 {\n",
       "            background-color:  #b2ccfb;\n",
       "            color:  #000000;\n",
       "        }    #T_fc9172b6_e6fd_11e9_b8dd_acde48001122row2_col2 {\n",
       "            background-color:  #b40426;\n",
       "            color:  #f1f1f1;\n",
       "        }    #T_fc9172b6_e6fd_11e9_b8dd_acde48001122row2_col3 {\n",
       "            background-color:  #dddcdc;\n",
       "            color:  #000000;\n",
       "        }    #T_fc9172b6_e6fd_11e9_b8dd_acde48001122row2_col4 {\n",
       "            background-color:  #d55042;\n",
       "            color:  #000000;\n",
       "        }    #T_fc9172b6_e6fd_11e9_b8dd_acde48001122row2_col5 {\n",
       "            background-color:  #f59d7e;\n",
       "            color:  #000000;\n",
       "        }    #T_fc9172b6_e6fd_11e9_b8dd_acde48001122row2_col6 {\n",
       "            background-color:  #d9dce1;\n",
       "            color:  #000000;\n",
       "        }    #T_fc9172b6_e6fd_11e9_b8dd_acde48001122row2_col7 {\n",
       "            background-color:  #cbd8ee;\n",
       "            color:  #000000;\n",
       "        }    #T_fc9172b6_e6fd_11e9_b8dd_acde48001122row2_col8 {\n",
       "            background-color:  #f7b79b;\n",
       "            color:  #000000;\n",
       "        }    #T_fc9172b6_e6fd_11e9_b8dd_acde48001122row2_col9 {\n",
       "            background-color:  #d8dce2;\n",
       "            color:  #000000;\n",
       "        }    #T_fc9172b6_e6fd_11e9_b8dd_acde48001122row3_col0 {\n",
       "            background-color:  #9ebeff;\n",
       "            color:  #000000;\n",
       "        }    #T_fc9172b6_e6fd_11e9_b8dd_acde48001122row3_col1 {\n",
       "            background-color:  #b9d0f9;\n",
       "            color:  #000000;\n",
       "        }    #T_fc9172b6_e6fd_11e9_b8dd_acde48001122row3_col2 {\n",
       "            background-color:  #dddcdc;\n",
       "            color:  #000000;\n",
       "        }    #T_fc9172b6_e6fd_11e9_b8dd_acde48001122row3_col3 {\n",
       "            background-color:  #b40426;\n",
       "            color:  #f1f1f1;\n",
       "        }    #T_fc9172b6_e6fd_11e9_b8dd_acde48001122row3_col4 {\n",
       "            background-color:  #d2dbe8;\n",
       "            color:  #000000;\n",
       "        }    #T_fc9172b6_e6fd_11e9_b8dd_acde48001122row3_col5 {\n",
       "            background-color:  #d9dce1;\n",
       "            color:  #000000;\n",
       "        }    #T_fc9172b6_e6fd_11e9_b8dd_acde48001122row3_col6 {\n",
       "            background-color:  #bfd3f6;\n",
       "            color:  #000000;\n",
       "        }    #T_fc9172b6_e6fd_11e9_b8dd_acde48001122row3_col7 {\n",
       "            background-color:  #aec9fc;\n",
       "            color:  #000000;\n",
       "        }    #T_fc9172b6_e6fd_11e9_b8dd_acde48001122row3_col8 {\n",
       "            background-color:  #d2dbe8;\n",
       "            color:  #000000;\n",
       "        }    #T_fc9172b6_e6fd_11e9_b8dd_acde48001122row3_col9 {\n",
       "            background-color:  #9dbdff;\n",
       "            color:  #000000;\n",
       "        }    #T_fc9172b6_e6fd_11e9_b8dd_acde48001122row4_col0 {\n",
       "            background-color:  #7597f6;\n",
       "            color:  #000000;\n",
       "        }    #T_fc9172b6_e6fd_11e9_b8dd_acde48001122row4_col1 {\n",
       "            background-color:  #a3c2fe;\n",
       "            color:  #000000;\n",
       "        }    #T_fc9172b6_e6fd_11e9_b8dd_acde48001122row4_col2 {\n",
       "            background-color:  #d55042;\n",
       "            color:  #000000;\n",
       "        }    #T_fc9172b6_e6fd_11e9_b8dd_acde48001122row4_col3 {\n",
       "            background-color:  #d2dbe8;\n",
       "            color:  #000000;\n",
       "        }    #T_fc9172b6_e6fd_11e9_b8dd_acde48001122row4_col4 {\n",
       "            background-color:  #b40426;\n",
       "            color:  #f1f1f1;\n",
       "        }    #T_fc9172b6_e6fd_11e9_b8dd_acde48001122row4_col5 {\n",
       "            background-color:  #f6bea4;\n",
       "            color:  #000000;\n",
       "        }    #T_fc9172b6_e6fd_11e9_b8dd_acde48001122row4_col6 {\n",
       "            background-color:  #cdd9ec;\n",
       "            color:  #000000;\n",
       "        }    #T_fc9172b6_e6fd_11e9_b8dd_acde48001122row4_col7 {\n",
       "            background-color:  #d4dbe6;\n",
       "            color:  #000000;\n",
       "        }    #T_fc9172b6_e6fd_11e9_b8dd_acde48001122row4_col8 {\n",
       "            background-color:  #f7a688;\n",
       "            color:  #000000;\n",
       "        }    #T_fc9172b6_e6fd_11e9_b8dd_acde48001122row4_col9 {\n",
       "            background-color:  #dcdddd;\n",
       "            color:  #000000;\n",
       "        }    #T_fc9172b6_e6fd_11e9_b8dd_acde48001122row5_col0 {\n",
       "            background-color:  #7093f3;\n",
       "            color:  #000000;\n",
       "        }    #T_fc9172b6_e6fd_11e9_b8dd_acde48001122row5_col1 {\n",
       "            background-color:  #6e90f2;\n",
       "            color:  #000000;\n",
       "        }    #T_fc9172b6_e6fd_11e9_b8dd_acde48001122row5_col2 {\n",
       "            background-color:  #f59d7e;\n",
       "            color:  #000000;\n",
       "        }    #T_fc9172b6_e6fd_11e9_b8dd_acde48001122row5_col3 {\n",
       "            background-color:  #d9dce1;\n",
       "            color:  #000000;\n",
       "        }    #T_fc9172b6_e6fd_11e9_b8dd_acde48001122row5_col4 {\n",
       "            background-color:  #f6bea4;\n",
       "            color:  #000000;\n",
       "        }    #T_fc9172b6_e6fd_11e9_b8dd_acde48001122row5_col5 {\n",
       "            background-color:  #b40426;\n",
       "            color:  #f1f1f1;\n",
       "        }    #T_fc9172b6_e6fd_11e9_b8dd_acde48001122row5_col6 {\n",
       "            background-color:  #cbd8ee;\n",
       "            color:  #000000;\n",
       "        }    #T_fc9172b6_e6fd_11e9_b8dd_acde48001122row5_col7 {\n",
       "            background-color:  #b7cff9;\n",
       "            color:  #000000;\n",
       "        }    #T_fc9172b6_e6fd_11e9_b8dd_acde48001122row5_col8 {\n",
       "            background-color:  #d0473d;\n",
       "            color:  #f1f1f1;\n",
       "        }    #T_fc9172b6_e6fd_11e9_b8dd_acde48001122row5_col9 {\n",
       "            background-color:  #abc8fd;\n",
       "            color:  #000000;\n",
       "        }    #T_fc9172b6_e6fd_11e9_b8dd_acde48001122row6_col0 {\n",
       "            background-color:  #6282ea;\n",
       "            color:  #000000;\n",
       "        }    #T_fc9172b6_e6fd_11e9_b8dd_acde48001122row6_col1 {\n",
       "            background-color:  #7a9df8;\n",
       "            color:  #000000;\n",
       "        }    #T_fc9172b6_e6fd_11e9_b8dd_acde48001122row6_col2 {\n",
       "            background-color:  #d9dce1;\n",
       "            color:  #000000;\n",
       "        }    #T_fc9172b6_e6fd_11e9_b8dd_acde48001122row6_col3 {\n",
       "            background-color:  #bfd3f6;\n",
       "            color:  #000000;\n",
       "        }    #T_fc9172b6_e6fd_11e9_b8dd_acde48001122row6_col4 {\n",
       "            background-color:  #cdd9ec;\n",
       "            color:  #000000;\n",
       "        }    #T_fc9172b6_e6fd_11e9_b8dd_acde48001122row6_col5 {\n",
       "            background-color:  #cbd8ee;\n",
       "            color:  #000000;\n",
       "        }    #T_fc9172b6_e6fd_11e9_b8dd_acde48001122row6_col6 {\n",
       "            background-color:  #b40426;\n",
       "            color:  #f1f1f1;\n",
       "        }    #T_fc9172b6_e6fd_11e9_b8dd_acde48001122row6_col7 {\n",
       "            background-color:  #c53334;\n",
       "            color:  #f1f1f1;\n",
       "        }    #T_fc9172b6_e6fd_11e9_b8dd_acde48001122row6_col8 {\n",
       "            background-color:  #c0d4f5;\n",
       "            color:  #000000;\n",
       "        }    #T_fc9172b6_e6fd_11e9_b8dd_acde48001122row6_col9 {\n",
       "            background-color:  #5673e0;\n",
       "            color:  #000000;\n",
       "        }    #T_fc9172b6_e6fd_11e9_b8dd_acde48001122row7_col0 {\n",
       "            background-color:  #465ecf;\n",
       "            color:  #f1f1f1;\n",
       "        }    #T_fc9172b6_e6fd_11e9_b8dd_acde48001122row7_col1 {\n",
       "            background-color:  #7295f4;\n",
       "            color:  #000000;\n",
       "        }    #T_fc9172b6_e6fd_11e9_b8dd_acde48001122row7_col2 {\n",
       "            background-color:  #cbd8ee;\n",
       "            color:  #000000;\n",
       "        }    #T_fc9172b6_e6fd_11e9_b8dd_acde48001122row7_col3 {\n",
       "            background-color:  #aec9fc;\n",
       "            color:  #000000;\n",
       "        }    #T_fc9172b6_e6fd_11e9_b8dd_acde48001122row7_col4 {\n",
       "            background-color:  #d4dbe6;\n",
       "            color:  #000000;\n",
       "        }    #T_fc9172b6_e6fd_11e9_b8dd_acde48001122row7_col5 {\n",
       "            background-color:  #b7cff9;\n",
       "            color:  #000000;\n",
       "        }    #T_fc9172b6_e6fd_11e9_b8dd_acde48001122row7_col6 {\n",
       "            background-color:  #c53334;\n",
       "            color:  #f1f1f1;\n",
       "        }    #T_fc9172b6_e6fd_11e9_b8dd_acde48001122row7_col7 {\n",
       "            background-color:  #b40426;\n",
       "            color:  #f1f1f1;\n",
       "        }    #T_fc9172b6_e6fd_11e9_b8dd_acde48001122row7_col8 {\n",
       "            background-color:  #bfd3f6;\n",
       "            color:  #000000;\n",
       "        }    #T_fc9172b6_e6fd_11e9_b8dd_acde48001122row7_col9 {\n",
       "            background-color:  #5875e1;\n",
       "            color:  #000000;\n",
       "        }    #T_fc9172b6_e6fd_11e9_b8dd_acde48001122row8_col0 {\n",
       "            background-color:  #455cce;\n",
       "            color:  #f1f1f1;\n",
       "        }    #T_fc9172b6_e6fd_11e9_b8dd_acde48001122row8_col1 {\n",
       "            background-color:  #6282ea;\n",
       "            color:  #000000;\n",
       "        }    #T_fc9172b6_e6fd_11e9_b8dd_acde48001122row8_col2 {\n",
       "            background-color:  #f7b79b;\n",
       "            color:  #000000;\n",
       "        }    #T_fc9172b6_e6fd_11e9_b8dd_acde48001122row8_col3 {\n",
       "            background-color:  #d2dbe8;\n",
       "            color:  #000000;\n",
       "        }    #T_fc9172b6_e6fd_11e9_b8dd_acde48001122row8_col4 {\n",
       "            background-color:  #f7a688;\n",
       "            color:  #000000;\n",
       "        }    #T_fc9172b6_e6fd_11e9_b8dd_acde48001122row8_col5 {\n",
       "            background-color:  #d0473d;\n",
       "            color:  #f1f1f1;\n",
       "        }    #T_fc9172b6_e6fd_11e9_b8dd_acde48001122row8_col6 {\n",
       "            background-color:  #c0d4f5;\n",
       "            color:  #000000;\n",
       "        }    #T_fc9172b6_e6fd_11e9_b8dd_acde48001122row8_col7 {\n",
       "            background-color:  #bfd3f6;\n",
       "            color:  #000000;\n",
       "        }    #T_fc9172b6_e6fd_11e9_b8dd_acde48001122row8_col8 {\n",
       "            background-color:  #b40426;\n",
       "            color:  #f1f1f1;\n",
       "        }    #T_fc9172b6_e6fd_11e9_b8dd_acde48001122row8_col9 {\n",
       "            background-color:  #b2ccfb;\n",
       "            color:  #000000;\n",
       "        }    #T_fc9172b6_e6fd_11e9_b8dd_acde48001122row9_col0 {\n",
       "            background-color:  #3b4cc0;\n",
       "            color:  #f1f1f1;\n",
       "        }    #T_fc9172b6_e6fd_11e9_b8dd_acde48001122row9_col1 {\n",
       "            background-color:  #4a63d3;\n",
       "            color:  #f1f1f1;\n",
       "        }    #T_fc9172b6_e6fd_11e9_b8dd_acde48001122row9_col2 {\n",
       "            background-color:  #d8dce2;\n",
       "            color:  #000000;\n",
       "        }    #T_fc9172b6_e6fd_11e9_b8dd_acde48001122row9_col3 {\n",
       "            background-color:  #9dbdff;\n",
       "            color:  #000000;\n",
       "        }    #T_fc9172b6_e6fd_11e9_b8dd_acde48001122row9_col4 {\n",
       "            background-color:  #dcdddd;\n",
       "            color:  #000000;\n",
       "        }    #T_fc9172b6_e6fd_11e9_b8dd_acde48001122row9_col5 {\n",
       "            background-color:  #abc8fd;\n",
       "            color:  #000000;\n",
       "        }    #T_fc9172b6_e6fd_11e9_b8dd_acde48001122row9_col6 {\n",
       "            background-color:  #5673e0;\n",
       "            color:  #000000;\n",
       "        }    #T_fc9172b6_e6fd_11e9_b8dd_acde48001122row9_col7 {\n",
       "            background-color:  #5875e1;\n",
       "            color:  #000000;\n",
       "        }    #T_fc9172b6_e6fd_11e9_b8dd_acde48001122row9_col8 {\n",
       "            background-color:  #b2ccfb;\n",
       "            color:  #000000;\n",
       "        }    #T_fc9172b6_e6fd_11e9_b8dd_acde48001122row9_col9 {\n",
       "            background-color:  #b40426;\n",
       "            color:  #f1f1f1;\n",
       "        }</style><table id=\"T_fc9172b6_e6fd_11e9_b8dd_acde48001122\" ><thead>    <tr>        <th class=\"blank level0\" ></th>        <th class=\"col_heading level0 col0\" >price</th>        <th class=\"col_heading level0 col1\" >log1p_price</th>        <th class=\"col_heading level0 col2\" >sqft_living</th>        <th class=\"col_heading level0 col3\" >grade</th>        <th class=\"col_heading level0 col4\" >log1p_sqft_living</th>        <th class=\"col_heading level0 col5\" >sqft_above</th>        <th class=\"col_heading level0 col6\" >sqft_living15</th>        <th class=\"col_heading level0 col7\" >log1p_sqft_living15</th>        <th class=\"col_heading level0 col8\" >log1p_sqft_above</th>        <th class=\"col_heading level0 col9\" >bathrooms</th>    </tr></thead><tbody>\n",
       "                <tr>\n",
       "                        <th id=\"T_fc9172b6_e6fd_11e9_b8dd_acde48001122level0_row0\" class=\"row_heading level0 row0\" >price</th>\n",
       "                        <td id=\"T_fc9172b6_e6fd_11e9_b8dd_acde48001122row0_col0\" class=\"data row0 col0\" >1</td>\n",
       "                        <td id=\"T_fc9172b6_e6fd_11e9_b8dd_acde48001122row0_col1\" class=\"data row0 col1\" >0.891654</td>\n",
       "                        <td id=\"T_fc9172b6_e6fd_11e9_b8dd_acde48001122row0_col2\" class=\"data row0 col2\" >0.702035</td>\n",
       "                        <td id=\"T_fc9172b6_e6fd_11e9_b8dd_acde48001122row0_col3\" class=\"data row0 col3\" >0.667434</td>\n",
       "                        <td id=\"T_fc9172b6_e6fd_11e9_b8dd_acde48001122row0_col4\" class=\"data row0 col4\" >0.611757</td>\n",
       "                        <td id=\"T_fc9172b6_e6fd_11e9_b8dd_acde48001122row0_col5\" class=\"data row0 col5\" >0.605567</td>\n",
       "                        <td id=\"T_fc9172b6_e6fd_11e9_b8dd_acde48001122row0_col6\" class=\"data row0 col6\" >0.585379</td>\n",
       "                        <td id=\"T_fc9172b6_e6fd_11e9_b8dd_acde48001122row0_col7\" class=\"data row0 col7\" >0.544014</td>\n",
       "                        <td id=\"T_fc9172b6_e6fd_11e9_b8dd_acde48001122row0_col8\" class=\"data row0 col8\" >0.542774</td>\n",
       "                        <td id=\"T_fc9172b6_e6fd_11e9_b8dd_acde48001122row0_col9\" class=\"data row0 col9\" >0.525138</td>\n",
       "            </tr>\n",
       "            <tr>\n",
       "                        <th id=\"T_fc9172b6_e6fd_11e9_b8dd_acde48001122level0_row1\" class=\"row_heading level0 row1\" >log1p_price</th>\n",
       "                        <td id=\"T_fc9172b6_e6fd_11e9_b8dd_acde48001122row1_col0\" class=\"data row1 col0\" >0.891654</td>\n",
       "                        <td id=\"T_fc9172b6_e6fd_11e9_b8dd_acde48001122row1_col1\" class=\"data row1 col1\" >1</td>\n",
       "                        <td id=\"T_fc9172b6_e6fd_11e9_b8dd_acde48001122row1_col2\" class=\"data row1 col2\" >0.695341</td>\n",
       "                        <td id=\"T_fc9172b6_e6fd_11e9_b8dd_acde48001122row1_col3\" class=\"data row1 col3\" >0.703634</td>\n",
       "                        <td id=\"T_fc9172b6_e6fd_11e9_b8dd_acde48001122row1_col4\" class=\"data row1 col4\" >0.67494</td>\n",
       "                        <td id=\"T_fc9172b6_e6fd_11e9_b8dd_acde48001122row1_col5\" class=\"data row1 col5\" >0.601802</td>\n",
       "                        <td id=\"T_fc9172b6_e6fd_11e9_b8dd_acde48001122row1_col6\" class=\"data row1 col6\" >0.619312</td>\n",
       "                        <td id=\"T_fc9172b6_e6fd_11e9_b8dd_acde48001122row1_col7\" class=\"data row1 col7\" >0.607201</td>\n",
       "                        <td id=\"T_fc9172b6_e6fd_11e9_b8dd_acde48001122row1_col8\" class=\"data row1 col8\" >0.586322</td>\n",
       "                        <td id=\"T_fc9172b6_e6fd_11e9_b8dd_acde48001122row1_col9\" class=\"data row1 col9\" >0.550802</td>\n",
       "            </tr>\n",
       "            <tr>\n",
       "                        <th id=\"T_fc9172b6_e6fd_11e9_b8dd_acde48001122level0_row2\" class=\"row_heading level0 row2\" >sqft_living</th>\n",
       "                        <td id=\"T_fc9172b6_e6fd_11e9_b8dd_acde48001122row2_col0\" class=\"data row2 col0\" >0.702035</td>\n",
       "                        <td id=\"T_fc9172b6_e6fd_11e9_b8dd_acde48001122row2_col1\" class=\"data row2 col1\" >0.695341</td>\n",
       "                        <td id=\"T_fc9172b6_e6fd_11e9_b8dd_acde48001122row2_col2\" class=\"data row2 col2\" >1</td>\n",
       "                        <td id=\"T_fc9172b6_e6fd_11e9_b8dd_acde48001122row2_col3\" class=\"data row2 col3\" >0.762704</td>\n",
       "                        <td id=\"T_fc9172b6_e6fd_11e9_b8dd_acde48001122row2_col4\" class=\"data row2 col4\" >0.954368</td>\n",
       "                        <td id=\"T_fc9172b6_e6fd_11e9_b8dd_acde48001122row2_col5\" class=\"data row2 col5\" >0.876597</td>\n",
       "                        <td id=\"T_fc9172b6_e6fd_11e9_b8dd_acde48001122row2_col6\" class=\"data row2 col6\" >0.75642</td>\n",
       "                        <td id=\"T_fc9172b6_e6fd_11e9_b8dd_acde48001122row2_col7\" class=\"data row2 col7\" >0.732194</td>\n",
       "                        <td id=\"T_fc9172b6_e6fd_11e9_b8dd_acde48001122row2_col8\" class=\"data row2 col8\" >0.84324</td>\n",
       "                        <td id=\"T_fc9172b6_e6fd_11e9_b8dd_acde48001122row2_col9\" class=\"data row2 col9\" >0.754665</td>\n",
       "            </tr>\n",
       "            <tr>\n",
       "                        <th id=\"T_fc9172b6_e6fd_11e9_b8dd_acde48001122level0_row3\" class=\"row_heading level0 row3\" >grade</th>\n",
       "                        <td id=\"T_fc9172b6_e6fd_11e9_b8dd_acde48001122row3_col0\" class=\"data row3 col0\" >0.667434</td>\n",
       "                        <td id=\"T_fc9172b6_e6fd_11e9_b8dd_acde48001122row3_col1\" class=\"data row3 col1\" >0.703634</td>\n",
       "                        <td id=\"T_fc9172b6_e6fd_11e9_b8dd_acde48001122row3_col2\" class=\"data row3 col2\" >0.762704</td>\n",
       "                        <td id=\"T_fc9172b6_e6fd_11e9_b8dd_acde48001122row3_col3\" class=\"data row3 col3\" >1</td>\n",
       "                        <td id=\"T_fc9172b6_e6fd_11e9_b8dd_acde48001122row3_col4\" class=\"data row3 col4\" >0.743711</td>\n",
       "                        <td id=\"T_fc9172b6_e6fd_11e9_b8dd_acde48001122row3_col5\" class=\"data row3 col5\" >0.755923</td>\n",
       "                        <td id=\"T_fc9172b6_e6fd_11e9_b8dd_acde48001122row3_col6\" class=\"data row3 col6\" >0.713202</td>\n",
       "                        <td id=\"T_fc9172b6_e6fd_11e9_b8dd_acde48001122row3_col7\" class=\"data row3 col7\" >0.688419</td>\n",
       "                        <td id=\"T_fc9172b6_e6fd_11e9_b8dd_acde48001122row3_col8\" class=\"data row3 col8\" >0.743416</td>\n",
       "                        <td id=\"T_fc9172b6_e6fd_11e9_b8dd_acde48001122row3_col9\" class=\"data row3 col9\" >0.664983</td>\n",
       "            </tr>\n",
       "            <tr>\n",
       "                        <th id=\"T_fc9172b6_e6fd_11e9_b8dd_acde48001122level0_row4\" class=\"row_heading level0 row4\" >log1p_sqft_living</th>\n",
       "                        <td id=\"T_fc9172b6_e6fd_11e9_b8dd_acde48001122row4_col0\" class=\"data row4 col0\" >0.611757</td>\n",
       "                        <td id=\"T_fc9172b6_e6fd_11e9_b8dd_acde48001122row4_col1\" class=\"data row4 col1\" >0.67494</td>\n",
       "                        <td id=\"T_fc9172b6_e6fd_11e9_b8dd_acde48001122row4_col2\" class=\"data row4 col2\" >0.954368</td>\n",
       "                        <td id=\"T_fc9172b6_e6fd_11e9_b8dd_acde48001122row4_col3\" class=\"data row4 col3\" >0.743711</td>\n",
       "                        <td id=\"T_fc9172b6_e6fd_11e9_b8dd_acde48001122row4_col4\" class=\"data row4 col4\" >1</td>\n",
       "                        <td id=\"T_fc9172b6_e6fd_11e9_b8dd_acde48001122row4_col5\" class=\"data row4 col5\" >0.832336</td>\n",
       "                        <td id=\"T_fc9172b6_e6fd_11e9_b8dd_acde48001122row4_col6\" class=\"data row4 col6\" >0.736567</td>\n",
       "                        <td id=\"T_fc9172b6_e6fd_11e9_b8dd_acde48001122row4_col7\" class=\"data row4 col7\" >0.746137</td>\n",
       "                        <td id=\"T_fc9172b6_e6fd_11e9_b8dd_acde48001122row4_col8\" class=\"data row4 col8\" >0.865382</td>\n",
       "                        <td id=\"T_fc9172b6_e6fd_11e9_b8dd_acde48001122row4_col9\" class=\"data row4 col9\" >0.761316</td>\n",
       "            </tr>\n",
       "            <tr>\n",
       "                        <th id=\"T_fc9172b6_e6fd_11e9_b8dd_acde48001122level0_row5\" class=\"row_heading level0 row5\" >sqft_above</th>\n",
       "                        <td id=\"T_fc9172b6_e6fd_11e9_b8dd_acde48001122row5_col0\" class=\"data row5 col0\" >0.605567</td>\n",
       "                        <td id=\"T_fc9172b6_e6fd_11e9_b8dd_acde48001122row5_col1\" class=\"data row5 col1\" >0.601802</td>\n",
       "                        <td id=\"T_fc9172b6_e6fd_11e9_b8dd_acde48001122row5_col2\" class=\"data row5 col2\" >0.876597</td>\n",
       "                        <td id=\"T_fc9172b6_e6fd_11e9_b8dd_acde48001122row5_col3\" class=\"data row5 col3\" >0.755923</td>\n",
       "                        <td id=\"T_fc9172b6_e6fd_11e9_b8dd_acde48001122row5_col4\" class=\"data row5 col4\" >0.832336</td>\n",
       "                        <td id=\"T_fc9172b6_e6fd_11e9_b8dd_acde48001122row5_col5\" class=\"data row5 col5\" >1</td>\n",
       "                        <td id=\"T_fc9172b6_e6fd_11e9_b8dd_acde48001122row5_col6\" class=\"data row5 col6\" >0.73187</td>\n",
       "                        <td id=\"T_fc9172b6_e6fd_11e9_b8dd_acde48001122row5_col7\" class=\"data row5 col7\" >0.701817</td>\n",
       "                        <td id=\"T_fc9172b6_e6fd_11e9_b8dd_acde48001122row5_col8\" class=\"data row5 col8\" >0.962353</td>\n",
       "                        <td id=\"T_fc9172b6_e6fd_11e9_b8dd_acde48001122row5_col9\" class=\"data row5 col9\" >0.685342</td>\n",
       "            </tr>\n",
       "            <tr>\n",
       "                        <th id=\"T_fc9172b6_e6fd_11e9_b8dd_acde48001122level0_row6\" class=\"row_heading level0 row6\" >sqft_living15</th>\n",
       "                        <td id=\"T_fc9172b6_e6fd_11e9_b8dd_acde48001122row6_col0\" class=\"data row6 col0\" >0.585379</td>\n",
       "                        <td id=\"T_fc9172b6_e6fd_11e9_b8dd_acde48001122row6_col1\" class=\"data row6 col1\" >0.619312</td>\n",
       "                        <td id=\"T_fc9172b6_e6fd_11e9_b8dd_acde48001122row6_col2\" class=\"data row6 col2\" >0.75642</td>\n",
       "                        <td id=\"T_fc9172b6_e6fd_11e9_b8dd_acde48001122row6_col3\" class=\"data row6 col3\" >0.713202</td>\n",
       "                        <td id=\"T_fc9172b6_e6fd_11e9_b8dd_acde48001122row6_col4\" class=\"data row6 col4\" >0.736567</td>\n",
       "                        <td id=\"T_fc9172b6_e6fd_11e9_b8dd_acde48001122row6_col5\" class=\"data row6 col5\" >0.73187</td>\n",
       "                        <td id=\"T_fc9172b6_e6fd_11e9_b8dd_acde48001122row6_col6\" class=\"data row6 col6\" >1</td>\n",
       "                        <td id=\"T_fc9172b6_e6fd_11e9_b8dd_acde48001122row6_col7\" class=\"data row6 col7\" >0.976821</td>\n",
       "                        <td id=\"T_fc9172b6_e6fd_11e9_b8dd_acde48001122row6_col8\" class=\"data row6 col8\" >0.714572</td>\n",
       "                        <td id=\"T_fc9172b6_e6fd_11e9_b8dd_acde48001122row6_col9\" class=\"data row6 col9\" >0.568634</td>\n",
       "            </tr>\n",
       "            <tr>\n",
       "                        <th id=\"T_fc9172b6_e6fd_11e9_b8dd_acde48001122level0_row7\" class=\"row_heading level0 row7\" >log1p_sqft_living15</th>\n",
       "                        <td id=\"T_fc9172b6_e6fd_11e9_b8dd_acde48001122row7_col0\" class=\"data row7 col0\" >0.544014</td>\n",
       "                        <td id=\"T_fc9172b6_e6fd_11e9_b8dd_acde48001122row7_col1\" class=\"data row7 col1\" >0.607201</td>\n",
       "                        <td id=\"T_fc9172b6_e6fd_11e9_b8dd_acde48001122row7_col2\" class=\"data row7 col2\" >0.732194</td>\n",
       "                        <td id=\"T_fc9172b6_e6fd_11e9_b8dd_acde48001122row7_col3\" class=\"data row7 col3\" >0.688419</td>\n",
       "                        <td id=\"T_fc9172b6_e6fd_11e9_b8dd_acde48001122row7_col4\" class=\"data row7 col4\" >0.746137</td>\n",
       "                        <td id=\"T_fc9172b6_e6fd_11e9_b8dd_acde48001122row7_col5\" class=\"data row7 col5\" >0.701817</td>\n",
       "                        <td id=\"T_fc9172b6_e6fd_11e9_b8dd_acde48001122row7_col6\" class=\"data row7 col6\" >0.976821</td>\n",
       "                        <td id=\"T_fc9172b6_e6fd_11e9_b8dd_acde48001122row7_col7\" class=\"data row7 col7\" >1</td>\n",
       "                        <td id=\"T_fc9172b6_e6fd_11e9_b8dd_acde48001122row7_col8\" class=\"data row7 col8\" >0.712634</td>\n",
       "                        <td id=\"T_fc9172b6_e6fd_11e9_b8dd_acde48001122row7_col9\" class=\"data row7 col9\" >0.570834</td>\n",
       "            </tr>\n",
       "            <tr>\n",
       "                        <th id=\"T_fc9172b6_e6fd_11e9_b8dd_acde48001122level0_row8\" class=\"row_heading level0 row8\" >log1p_sqft_above</th>\n",
       "                        <td id=\"T_fc9172b6_e6fd_11e9_b8dd_acde48001122row8_col0\" class=\"data row8 col0\" >0.542774</td>\n",
       "                        <td id=\"T_fc9172b6_e6fd_11e9_b8dd_acde48001122row8_col1\" class=\"data row8 col1\" >0.586322</td>\n",
       "                        <td id=\"T_fc9172b6_e6fd_11e9_b8dd_acde48001122row8_col2\" class=\"data row8 col2\" >0.84324</td>\n",
       "                        <td id=\"T_fc9172b6_e6fd_11e9_b8dd_acde48001122row8_col3\" class=\"data row8 col3\" >0.743416</td>\n",
       "                        <td id=\"T_fc9172b6_e6fd_11e9_b8dd_acde48001122row8_col4\" class=\"data row8 col4\" >0.865382</td>\n",
       "                        <td id=\"T_fc9172b6_e6fd_11e9_b8dd_acde48001122row8_col5\" class=\"data row8 col5\" >0.962353</td>\n",
       "                        <td id=\"T_fc9172b6_e6fd_11e9_b8dd_acde48001122row8_col6\" class=\"data row8 col6\" >0.714572</td>\n",
       "                        <td id=\"T_fc9172b6_e6fd_11e9_b8dd_acde48001122row8_col7\" class=\"data row8 col7\" >0.712634</td>\n",
       "                        <td id=\"T_fc9172b6_e6fd_11e9_b8dd_acde48001122row8_col8\" class=\"data row8 col8\" >1</td>\n",
       "                        <td id=\"T_fc9172b6_e6fd_11e9_b8dd_acde48001122row8_col9\" class=\"data row8 col9\" >0.694954</td>\n",
       "            </tr>\n",
       "            <tr>\n",
       "                        <th id=\"T_fc9172b6_e6fd_11e9_b8dd_acde48001122level0_row9\" class=\"row_heading level0 row9\" >bathrooms</th>\n",
       "                        <td id=\"T_fc9172b6_e6fd_11e9_b8dd_acde48001122row9_col0\" class=\"data row9 col0\" >0.525138</td>\n",
       "                        <td id=\"T_fc9172b6_e6fd_11e9_b8dd_acde48001122row9_col1\" class=\"data row9 col1\" >0.550802</td>\n",
       "                        <td id=\"T_fc9172b6_e6fd_11e9_b8dd_acde48001122row9_col2\" class=\"data row9 col2\" >0.754665</td>\n",
       "                        <td id=\"T_fc9172b6_e6fd_11e9_b8dd_acde48001122row9_col3\" class=\"data row9 col3\" >0.664983</td>\n",
       "                        <td id=\"T_fc9172b6_e6fd_11e9_b8dd_acde48001122row9_col4\" class=\"data row9 col4\" >0.761316</td>\n",
       "                        <td id=\"T_fc9172b6_e6fd_11e9_b8dd_acde48001122row9_col5\" class=\"data row9 col5\" >0.685342</td>\n",
       "                        <td id=\"T_fc9172b6_e6fd_11e9_b8dd_acde48001122row9_col6\" class=\"data row9 col6\" >0.568634</td>\n",
       "                        <td id=\"T_fc9172b6_e6fd_11e9_b8dd_acde48001122row9_col7\" class=\"data row9 col7\" >0.570834</td>\n",
       "                        <td id=\"T_fc9172b6_e6fd_11e9_b8dd_acde48001122row9_col8\" class=\"data row9 col8\" >0.694954</td>\n",
       "                        <td id=\"T_fc9172b6_e6fd_11e9_b8dd_acde48001122row9_col9\" class=\"data row9 col9\" >1</td>\n",
       "            </tr>\n",
       "    </tbody></table>"
      ],
      "text/plain": [
       "<pandas.io.formats.style.Styler at 0x114abc518>"
      ]
     },
     "execution_count": 10,
     "metadata": {},
     "output_type": "execute_result"
    }
   ],
   "source": [
    "df_corr = df_raw.corr(method='pearson')\n",
    "\n",
    "cols10 = df_corr.nlargest(10, 'price').index\n",
    "\n",
    "df_corr = df_raw[cols10].corr()\n",
    "df_corr.style.background_gradient(cmap='coolwarm', axis=None)"
   ]
  },
  {
   "cell_type": "markdown",
   "metadata": {},
   "source": [
    "## Train-test split"
   ]
  },
  {
   "cell_type": "code",
   "execution_count": 11,
   "metadata": {
    "ExecuteTime": {
     "end_time": "2019-10-04T23:23:35.048785Z",
     "start_time": "2019-10-04T23:23:35.011574Z"
    }
   },
   "outputs": [],
   "source": [
    "train, test = train_test_split(df_raw,train_size = 0.8,random_state=random_state)\n",
    "\n",
    "feature = 'sqft_living'\n",
    "target = 'price'\n",
    "\n",
    "df = df_raw\n",
    "\n",
    "X = df[feature].values.reshape(-1,1)\n",
    "y = df[target].values.reshape(-1,1)\n",
    "\n",
    "Xtrain = train[feature].values.reshape(-1,1)\n",
    "ytrain = train[target].values.reshape(-1,1)\n",
    "\n",
    "Xtest = test[feature].values.reshape(-1,1)\n",
    "ytest = test[target].values.reshape(-1,1)"
   ]
  },
  {
   "cell_type": "markdown",
   "metadata": {},
   "source": [
    "## modelling"
   ]
  },
  {
   "cell_type": "code",
   "execution_count": 12,
   "metadata": {
    "ExecuteTime": {
     "end_time": "2019-10-04T23:23:35.085518Z",
     "start_time": "2019-10-04T23:23:35.050893Z"
    }
   },
   "outputs": [
    {
     "data": {
      "text/plain": [
       "LinearRegression(copy_X=True, fit_intercept=True, n_jobs=-1, normalize=False)"
      ]
     },
     "execution_count": 12,
     "metadata": {},
     "output_type": "execute_result"
    }
   ],
   "source": [
    "lr = linear_model.LinearRegression(n_jobs=-1)\n",
    "\n",
    "lr.fit(Xtrain,ytrain)"
   ]
  },
  {
   "cell_type": "markdown",
   "metadata": {},
   "source": [
    "## model weights"
   ]
  },
  {
   "cell_type": "code",
   "execution_count": 13,
   "metadata": {
    "ExecuteTime": {
     "end_time": "2019-10-04T23:23:35.122548Z",
     "start_time": "2019-10-04T23:23:35.090551Z"
    }
   },
   "outputs": [
    {
     "name": "stdout",
     "output_type": "stream",
     "text": [
      "Intercept: [-42628.97651509]\n",
      "Coefficient: [[280.68541679]]\n"
     ]
    }
   ],
   "source": [
    "print('Intercept: {}'.format(lr.intercept_))\n",
    "print('Coefficient: {}'.format(lr.coef_))"
   ]
  },
  {
   "cell_type": "markdown",
   "metadata": {
    "ExecuteTime": {
     "end_time": "2019-09-24T21:50:52.464852Z",
     "start_time": "2019-09-24T21:50:52.422390Z"
    }
   },
   "source": [
    "## prediction"
   ]
  },
  {
   "cell_type": "code",
   "execution_count": 14,
   "metadata": {
    "ExecuteTime": {
     "end_time": "2019-10-04T23:23:35.158511Z",
     "start_time": "2019-10-04T23:23:35.124258Z"
    }
   },
   "outputs": [],
   "source": [
    "ypreds = lr.predict(Xtest)"
   ]
  },
  {
   "cell_type": "markdown",
   "metadata": {},
   "source": [
    "## evaluation"
   ]
  },
  {
   "cell_type": "code",
   "execution_count": 15,
   "metadata": {
    "ExecuteTime": {
     "end_time": "2019-10-04T23:23:36.688125Z",
     "start_time": "2019-10-04T23:23:35.160244Z"
    }
   },
   "outputs": [],
   "source": [
    "rmse = np.sqrt(mean_squared_error(ytest,ypreds)).round(3)\n",
    "r2_train = lr.score(Xtrain, ytrain).round(3)\n",
    "r2_test = lr.score(Xtest, ytest).round(3)\n",
    "\n",
    "cv = cross_val_score(lr, X, y, cv=5,n_jobs=-1).mean().round(3)"
   ]
  },
  {
   "cell_type": "code",
   "execution_count": 16,
   "metadata": {
    "ExecuteTime": {
     "end_time": "2019-10-04T23:23:36.729566Z",
     "start_time": "2019-10-04T23:23:36.689966Z"
    }
   },
   "outputs": [
    {
     "data": {
      "text/plain": [
       "Index(['Model', 'Details', 'Root Mean Squared Error (RMSE)',\n",
       "       'R-squared (training)', 'Adjusted R-squared (training)',\n",
       "       'R-squared (test)', 'Adjusted R-squared (test)',\n",
       "       '5-Fold Cross Validation'],\n",
       "      dtype='object')"
      ]
     },
     "execution_count": 16,
     "metadata": {},
     "output_type": "execute_result"
    }
   ],
   "source": [
    "df_eval.columns"
   ]
  },
  {
   "cell_type": "code",
   "execution_count": 17,
   "metadata": {
    "ExecuteTime": {
     "end_time": "2019-10-04T23:23:36.769161Z",
     "start_time": "2019-10-04T23:23:36.731754Z"
    }
   },
   "outputs": [
    {
     "data": {
      "text/html": [
       "<div>\n",
       "<style scoped>\n",
       "    .dataframe tbody tr th:only-of-type {\n",
       "        vertical-align: middle;\n",
       "    }\n",
       "\n",
       "    .dataframe tbody tr th {\n",
       "        vertical-align: top;\n",
       "    }\n",
       "\n",
       "    .dataframe thead th {\n",
       "        text-align: right;\n",
       "    }\n",
       "</style>\n",
       "<table border=\"1\" class=\"dataframe\">\n",
       "  <thead>\n",
       "    <tr style=\"text-align: right;\">\n",
       "      <th></th>\n",
       "      <th>Model</th>\n",
       "      <th>Details</th>\n",
       "      <th>Root Mean Squared Error (RMSE)</th>\n",
       "      <th>R-squared (training)</th>\n",
       "      <th>Adjusted R-squared (training)</th>\n",
       "      <th>R-squared (test)</th>\n",
       "      <th>Adjusted R-squared (test)</th>\n",
       "      <th>5-Fold Cross Validation</th>\n",
       "    </tr>\n",
       "  </thead>\n",
       "  <tbody>\n",
       "    <tr>\n",
       "      <th>0</th>\n",
       "      <td>Simple Linear Regression</td>\n",
       "      <td>-</td>\n",
       "      <td>255,511.380</td>\n",
       "      <td>0.487</td>\n",
       "      <td>0.487</td>\n",
       "      <td>0.516</td>\n",
       "      <td>0.516</td>\n",
       "      <td>0.491</td>\n",
       "    </tr>\n",
       "  </tbody>\n",
       "</table>\n",
       "</div>"
      ],
      "text/plain": [
       "                      Model Details  Root Mean Squared Error (RMSE)  \\\n",
       "0  Simple Linear Regression       -                     255,511.380   \n",
       "\n",
       "   R-squared (training)  Adjusted R-squared (training)  R-squared (test)  \\\n",
       "0                 0.487                          0.487             0.516   \n",
       "\n",
       "   Adjusted R-squared (test)  5-Fold Cross Validation  \n",
       "0                      0.516                    0.491  "
      ]
     },
     "execution_count": 17,
     "metadata": {},
     "output_type": "execute_result"
    }
   ],
   "source": [
    "df_eval.loc[len(df_eval)] = ['Simple Linear Regression','-',\n",
    "                             rmse,r2_train,r2_train,r2_test,r2_test,cv]\n",
    "df_eval"
   ]
  },
  {
   "cell_type": "markdown",
   "metadata": {
    "ExecuteTime": {
     "end_time": "2019-09-24T21:37:03.131600Z",
     "start_time": "2019-09-24T21:37:02.810829Z"
    }
   },
   "source": [
    "## prediction visualization"
   ]
  },
  {
   "cell_type": "code",
   "execution_count": 18,
   "metadata": {
    "ExecuteTime": {
     "end_time": "2019-10-04T23:23:37.128742Z",
     "start_time": "2019-10-04T23:23:36.771056Z"
    }
   },
   "outputs": [
    {
     "data": {
      "image/png": "[encoded data removed]",
      "text/plain": [
       "<Figure size 432x360 with 1 Axes>"
      ]
     },
     "metadata": {},
     "output_type": "display_data"
    }
   ],
   "source": [
    "from bhishan.util_model_plot import plot_simple_linear_regression\n",
    "\n",
    "plot_simple_linear_regression(Xtest, ytest, lr,\"Living Space\",'Price')"
   ]
  },
  {
   "cell_type": "markdown",
   "metadata": {},
   "source": [
    "# Feature Selection\n",
    "\n",
    "- Consider numeical columns: waterfront, view, condition, grade\n",
    "- Binned columns: age and age_after_renovation\n",
    "- Also take variables as numbers: zipcode, lat, long\n",
    "- sqft_basement = sqft_living - sqft_above (so we can drop this column)\n",
    "- Drop date columns and id column: id, date\n",
    "- Optional features: yr_built, yr_renovated, yr_sales"
   ]
  },
  {
   "cell_type": "code",
   "execution_count": 19,
   "metadata": {
    "ExecuteTime": {
     "end_time": "2019-10-04T23:23:37.193960Z",
     "start_time": "2019-10-04T23:23:37.131132Z"
    }
   },
   "outputs": [
    {
     "data": {
      "text/html": [
       "<div>\n",
       "<style scoped>\n",
       "    .dataframe tbody tr th:only-of-type {\n",
       "        vertical-align: middle;\n",
       "    }\n",
       "\n",
       "    .dataframe tbody tr th {\n",
       "        vertical-align: top;\n",
       "    }\n",
       "\n",
       "    .dataframe thead th {\n",
       "        text-align: right;\n",
       "    }\n",
       "</style>\n",
       "<table border=\"1\" class=\"dataframe\">\n",
       "  <thead>\n",
       "    <tr style=\"text-align: right;\">\n",
       "      <th></th>\n",
       "      <th>id</th>\n",
       "      <th>date</th>\n",
       "      <th>price</th>\n",
       "      <th>bedrooms</th>\n",
       "      <th>bathrooms</th>\n",
       "      <th>sqft_living</th>\n",
       "      <th>sqft_lot</th>\n",
       "      <th>floors</th>\n",
       "      <th>waterfront</th>\n",
       "      <th>view</th>\n",
       "      <th>condition</th>\n",
       "      <th>grade</th>\n",
       "      <th>sqft_above</th>\n",
       "      <th>sqft_basement</th>\n",
       "      <th>yr_built</th>\n",
       "      <th>yr_renovated</th>\n",
       "      <th>zipcode</th>\n",
       "      <th>lat</th>\n",
       "      <th>long</th>\n",
       "      <th>sqft_living15</th>\n",
       "      <th>sqft_lot15</th>\n",
       "      <th>yr_sales</th>\n",
       "      <th>age</th>\n",
       "      <th>yr_renovated2</th>\n",
       "      <th>age_after_renovation</th>\n",
       "      <th>zipcode_top10</th>\n",
       "      <th>zipcode_houses</th>\n",
       "      <th>basement_bool</th>\n",
       "      <th>renovation_bool</th>\n",
       "      <th>age_cat</th>\n",
       "      <th>age_after_renovation_cat</th>\n",
       "      <th>waterfront_0</th>\n",
       "      <th>waterfront_1</th>\n",
       "      <th>view_0</th>\n",
       "      <th>view_1</th>\n",
       "      <th>view_2</th>\n",
       "      <th>view_3</th>\n",
       "      <th>view_4</th>\n",
       "      <th>condition_1</th>\n",
       "      <th>condition_2</th>\n",
       "      <th>condition_3</th>\n",
       "      <th>condition_4</th>\n",
       "      <th>condition_5</th>\n",
       "      <th>grade_1</th>\n",
       "      <th>grade_10</th>\n",
       "      <th>grade_11</th>\n",
       "      <th>grade_12</th>\n",
       "      <th>grade_13</th>\n",
       "      <th>grade_3</th>\n",
       "      <th>grade_4</th>\n",
       "      <th>grade_5</th>\n",
       "      <th>grade_6</th>\n",
       "      <th>grade_7</th>\n",
       "      <th>grade_8</th>\n",
       "      <th>grade_9</th>\n",
       "      <th>zipcode_top10_98004</th>\n",
       "      <th>zipcode_top10_98006</th>\n",
       "      <th>zipcode_top10_98033</th>\n",
       "      <th>zipcode_top10_98039</th>\n",
       "      <th>zipcode_top10_98040</th>\n",
       "      <th>zipcode_top10_98102</th>\n",
       "      <th>zipcode_top10_98105</th>\n",
       "      <th>zipcode_top10_98155</th>\n",
       "      <th>zipcode_top10_98177</th>\n",
       "      <th>zipcode_top10_others</th>\n",
       "      <th>age_cat_0</th>\n",
       "      <th>age_cat_1</th>\n",
       "      <th>age_cat_2</th>\n",
       "      <th>age_cat_3</th>\n",
       "      <th>age_cat_4</th>\n",
       "      <th>age_cat_5</th>\n",
       "      <th>age_cat_6</th>\n",
       "      <th>age_cat_7</th>\n",
       "      <th>age_cat_8</th>\n",
       "      <th>age_cat_9</th>\n",
       "      <th>age_after_renovation_cat_0</th>\n",
       "      <th>age_after_renovation_cat_1</th>\n",
       "      <th>age_after_renovation_cat_2</th>\n",
       "      <th>age_after_renovation_cat_3</th>\n",
       "      <th>age_after_renovation_cat_4</th>\n",
       "      <th>age_after_renovation_cat_5</th>\n",
       "      <th>age_after_renovation_cat_6</th>\n",
       "      <th>age_after_renovation_cat_7</th>\n",
       "      <th>age_after_renovation_cat_8</th>\n",
       "      <th>age_after_renovation_cat_9</th>\n",
       "      <th>log1p_price</th>\n",
       "      <th>log1p_sqft_living</th>\n",
       "      <th>log1p_sqft_lot</th>\n",
       "      <th>log1p_sqft_above</th>\n",
       "      <th>log1p_sqft_basement</th>\n",
       "      <th>log1p_sqft_living15</th>\n",
       "      <th>log1p_sqft_lot15</th>\n",
       "    </tr>\n",
       "  </thead>\n",
       "  <tbody>\n",
       "    <tr>\n",
       "      <th>0</th>\n",
       "      <td>7129300520</td>\n",
       "      <td>2014-10-13</td>\n",
       "      <td>221,900.000</td>\n",
       "      <td>3</td>\n",
       "      <td>1.000</td>\n",
       "      <td>1180</td>\n",
       "      <td>5650</td>\n",
       "      <td>1.000</td>\n",
       "      <td>0</td>\n",
       "      <td>0</td>\n",
       "      <td>3</td>\n",
       "      <td>7</td>\n",
       "      <td>1180</td>\n",
       "      <td>0</td>\n",
       "      <td>1955</td>\n",
       "      <td>0</td>\n",
       "      <td>98178</td>\n",
       "      <td>47.511</td>\n",
       "      <td>-122.257</td>\n",
       "      <td>1340</td>\n",
       "      <td>5650</td>\n",
       "      <td>2014</td>\n",
       "      <td>59</td>\n",
       "      <td>1955</td>\n",
       "      <td>59</td>\n",
       "      <td>others</td>\n",
       "      <td>262</td>\n",
       "      <td>0</td>\n",
       "      <td>0</td>\n",
       "      <td>5</td>\n",
       "      <td>5</td>\n",
       "      <td>1</td>\n",
       "      <td>0</td>\n",
       "      <td>1</td>\n",
       "      <td>0</td>\n",
       "      <td>0</td>\n",
       "      <td>0</td>\n",
       "      <td>0</td>\n",
       "      <td>0</td>\n",
       "      <td>0</td>\n",
       "      <td>1</td>\n",
       "      <td>0</td>\n",
       "      <td>0</td>\n",
       "      <td>0</td>\n",
       "      <td>0</td>\n",
       "      <td>0</td>\n",
       "      <td>0</td>\n",
       "      <td>0</td>\n",
       "      <td>0</td>\n",
       "      <td>0</td>\n",
       "      <td>0</td>\n",
       "      <td>0</td>\n",
       "      <td>1</td>\n",
       "      <td>0</td>\n",
       "      <td>0</td>\n",
       "      <td>0</td>\n",
       "      <td>0</td>\n",
       "      <td>0</td>\n",
       "      <td>0</td>\n",
       "      <td>0</td>\n",
       "      <td>0</td>\n",
       "      <td>0</td>\n",
       "      <td>0</td>\n",
       "      <td>0</td>\n",
       "      <td>1</td>\n",
       "      <td>0</td>\n",
       "      <td>0</td>\n",
       "      <td>0</td>\n",
       "      <td>0</td>\n",
       "      <td>0</td>\n",
       "      <td>1</td>\n",
       "      <td>0</td>\n",
       "      <td>0</td>\n",
       "      <td>0</td>\n",
       "      <td>0</td>\n",
       "      <td>0</td>\n",
       "      <td>0</td>\n",
       "      <td>0</td>\n",
       "      <td>0</td>\n",
       "      <td>0</td>\n",
       "      <td>1</td>\n",
       "      <td>0</td>\n",
       "      <td>0</td>\n",
       "      <td>0</td>\n",
       "      <td>0</td>\n",
       "      <td>12.310</td>\n",
       "      <td>7.074</td>\n",
       "      <td>8.640</td>\n",
       "      <td>7.074</td>\n",
       "      <td>0.000</td>\n",
       "      <td>7.201</td>\n",
       "      <td>8.640</td>\n",
       "    </tr>\n",
       "    <tr>\n",
       "      <th>1</th>\n",
       "      <td>6414100192</td>\n",
       "      <td>2014-12-09</td>\n",
       "      <td>538,000.000</td>\n",
       "      <td>3</td>\n",
       "      <td>2.250</td>\n",
       "      <td>2570</td>\n",
       "      <td>7242</td>\n",
       "      <td>2.000</td>\n",
       "      <td>0</td>\n",
       "      <td>0</td>\n",
       "      <td>3</td>\n",
       "      <td>7</td>\n",
       "      <td>2170</td>\n",
       "      <td>400</td>\n",
       "      <td>1951</td>\n",
       "      <td>1991</td>\n",
       "      <td>98125</td>\n",
       "      <td>47.721</td>\n",
       "      <td>-122.319</td>\n",
       "      <td>1690</td>\n",
       "      <td>7639</td>\n",
       "      <td>2014</td>\n",
       "      <td>63</td>\n",
       "      <td>1991</td>\n",
       "      <td>23</td>\n",
       "      <td>others</td>\n",
       "      <td>410</td>\n",
       "      <td>1</td>\n",
       "      <td>1</td>\n",
       "      <td>5</td>\n",
       "      <td>2</td>\n",
       "      <td>1</td>\n",
       "      <td>0</td>\n",
       "      <td>1</td>\n",
       "      <td>0</td>\n",
       "      <td>0</td>\n",
       "      <td>0</td>\n",
       "      <td>0</td>\n",
       "      <td>0</td>\n",
       "      <td>0</td>\n",
       "      <td>1</td>\n",
       "      <td>0</td>\n",
       "      <td>0</td>\n",
       "      <td>0</td>\n",
       "      <td>0</td>\n",
       "      <td>0</td>\n",
       "      <td>0</td>\n",
       "      <td>0</td>\n",
       "      <td>0</td>\n",
       "      <td>0</td>\n",
       "      <td>0</td>\n",
       "      <td>0</td>\n",
       "      <td>1</td>\n",
       "      <td>0</td>\n",
       "      <td>0</td>\n",
       "      <td>0</td>\n",
       "      <td>0</td>\n",
       "      <td>0</td>\n",
       "      <td>0</td>\n",
       "      <td>0</td>\n",
       "      <td>0</td>\n",
       "      <td>0</td>\n",
       "      <td>0</td>\n",
       "      <td>0</td>\n",
       "      <td>1</td>\n",
       "      <td>0</td>\n",
       "      <td>0</td>\n",
       "      <td>0</td>\n",
       "      <td>0</td>\n",
       "      <td>0</td>\n",
       "      <td>1</td>\n",
       "      <td>0</td>\n",
       "      <td>0</td>\n",
       "      <td>0</td>\n",
       "      <td>0</td>\n",
       "      <td>0</td>\n",
       "      <td>0</td>\n",
       "      <td>1</td>\n",
       "      <td>0</td>\n",
       "      <td>0</td>\n",
       "      <td>0</td>\n",
       "      <td>0</td>\n",
       "      <td>0</td>\n",
       "      <td>0</td>\n",
       "      <td>0</td>\n",
       "      <td>13.196</td>\n",
       "      <td>7.852</td>\n",
       "      <td>8.888</td>\n",
       "      <td>7.683</td>\n",
       "      <td>5.994</td>\n",
       "      <td>7.433</td>\n",
       "      <td>8.941</td>\n",
       "    </tr>\n",
       "  </tbody>\n",
       "</table>\n",
       "</div>"
      ],
      "text/plain": [
       "           id        date       price  bedrooms  bathrooms  sqft_living  \\\n",
       "0  7129300520  2014-10-13 221,900.000         3      1.000         1180   \n",
       "1  6414100192  2014-12-09 538,000.000         3      2.250         2570   \n",
       "\n",
       "   sqft_lot  floors  waterfront  view  condition  grade  sqft_above  \\\n",
       "0      5650   1.000           0     0          3      7        1180   \n",
       "1      7242   2.000           0     0          3      7        2170   \n",
       "\n",
       "   sqft_basement  yr_built  yr_renovated  zipcode    lat     long  \\\n",
       "0              0      1955             0    98178 47.511 -122.257   \n",
       "1            400      1951          1991    98125 47.721 -122.319   \n",
       "\n",
       "   sqft_living15  sqft_lot15  yr_sales  age  yr_renovated2  \\\n",
       "0           1340        5650      2014   59           1955   \n",
       "1           1690        7639      2014   63           1991   \n",
       "\n",
       "   age_after_renovation zipcode_top10  zipcode_houses  basement_bool  \\\n",
       "0                    59        others             262              0   \n",
       "1                    23        others             410              1   \n",
       "\n",
       "   renovation_bool  age_cat  age_after_renovation_cat  waterfront_0  \\\n",
       "0                0        5                         5             1   \n",
       "1                1        5                         2             1   \n",
       "\n",
       "   waterfront_1  view_0  view_1  view_2  view_3  view_4  condition_1  \\\n",
       "0             0       1       0       0       0       0            0   \n",
       "1             0       1       0       0       0       0            0   \n",
       "\n",
       "   condition_2  condition_3  condition_4  condition_5  grade_1  grade_10  \\\n",
       "0            0            1            0            0        0         0   \n",
       "1            0            1            0            0        0         0   \n",
       "\n",
       "   grade_11  grade_12  grade_13  grade_3  grade_4  grade_5  grade_6  grade_7  \\\n",
       "0         0         0         0        0        0        0        0        1   \n",
       "1         0         0         0        0        0        0        0        1   \n",
       "\n",
       "   grade_8  grade_9  zipcode_top10_98004  zipcode_top10_98006  \\\n",
       "0        0        0                    0                    0   \n",
       "1        0        0                    0                    0   \n",
       "\n",
       "   zipcode_top10_98033  zipcode_top10_98039  zipcode_top10_98040  \\\n",
       "0                    0                    0                    0   \n",
       "1                    0                    0                    0   \n",
       "\n",
       "   zipcode_top10_98102  zipcode_top10_98105  zipcode_top10_98155  \\\n",
       "0                    0                    0                    0   \n",
       "1                    0                    0                    0   \n",
       "\n",
       "   zipcode_top10_98177  zipcode_top10_others  age_cat_0  age_cat_1  age_cat_2  \\\n",
       "0                    0                     1          0          0          0   \n",
       "1                    0                     1          0          0          0   \n",
       "\n",
       "   age_cat_3  age_cat_4  age_cat_5  age_cat_6  age_cat_7  age_cat_8  \\\n",
       "0          0          0          1          0          0          0   \n",
       "1          0          0          1          0          0          0   \n",
       "\n",
       "   age_cat_9  age_after_renovation_cat_0  age_after_renovation_cat_1  \\\n",
       "0          0                           0                           0   \n",
       "1          0                           0                           0   \n",
       "\n",
       "   age_after_renovation_cat_2  age_after_renovation_cat_3  \\\n",
       "0                           0                           0   \n",
       "1                           1                           0   \n",
       "\n",
       "   age_after_renovation_cat_4  age_after_renovation_cat_5  \\\n",
       "0                           0                           1   \n",
       "1                           0                           0   \n",
       "\n",
       "   age_after_renovation_cat_6  age_after_renovation_cat_7  \\\n",
       "0                           0                           0   \n",
       "1                           0                           0   \n",
       "\n",
       "   age_after_renovation_cat_8  age_after_renovation_cat_9  log1p_price  \\\n",
       "0                           0                           0       12.310   \n",
       "1                           0                           0       13.196   \n",
       "\n",
       "   log1p_sqft_living  log1p_sqft_lot  log1p_sqft_above  log1p_sqft_basement  \\\n",
       "0              7.074           8.640             7.074                0.000   \n",
       "1              7.852           8.888             7.683                5.994   \n",
       "\n",
       "   log1p_sqft_living15  log1p_sqft_lot15  \n",
       "0                7.201             8.640  \n",
       "1                7.433             8.941  "
      ]
     },
     "execution_count": 19,
     "metadata": {},
     "output_type": "execute_result"
    }
   ],
   "source": [
    "df_raw.head(2)"
   ]
  },
  {
   "cell_type": "code",
   "execution_count": 20,
   "metadata": {
    "ExecuteTime": {
     "end_time": "2019-10-04T23:23:37.237039Z",
     "start_time": "2019-10-04T23:23:37.195540Z"
    }
   },
   "outputs": [
    {
     "data": {
      "text/plain": [
       "Index(['id', 'date', 'price', 'bedrooms', 'bathrooms', 'sqft_living',\n",
       "       'sqft_lot', 'floors', 'waterfront', 'view', 'condition', 'grade',\n",
       "       'sqft_above', 'sqft_basement', 'yr_built', 'yr_renovated', 'zipcode',\n",
       "       'lat', 'long', 'sqft_living15', 'sqft_lot15', 'yr_sales', 'age',\n",
       "       'yr_renovated2', 'age_after_renovation', 'zipcode_top10',\n",
       "       'zipcode_houses', 'basement_bool', 'renovation_bool', 'age_cat',\n",
       "       'age_after_renovation_cat', 'waterfront_0', 'waterfront_1', 'view_0',\n",
       "       'view_1', 'view_2', 'view_3', 'view_4', 'condition_1', 'condition_2',\n",
       "       'condition_3', 'condition_4', 'condition_5', 'grade_1', 'grade_10',\n",
       "       'grade_11', 'grade_12', 'grade_13', 'grade_3', 'grade_4', 'grade_5',\n",
       "       'grade_6', 'grade_7', 'grade_8', 'grade_9', 'zipcode_top10_98004',\n",
       "       'zipcode_top10_98006', 'zipcode_top10_98033', 'zipcode_top10_98039',\n",
       "       'zipcode_top10_98040', 'zipcode_top10_98102', 'zipcode_top10_98105',\n",
       "       'zipcode_top10_98155', 'zipcode_top10_98177', 'zipcode_top10_others',\n",
       "       'age_cat_0', 'age_cat_1', 'age_cat_2', 'age_cat_3', 'age_cat_4',\n",
       "       'age_cat_5', 'age_cat_6', 'age_cat_7', 'age_cat_8', 'age_cat_9',\n",
       "       'age_after_renovation_cat_0', 'age_after_renovation_cat_1',\n",
       "       'age_after_renovation_cat_2', 'age_after_renovation_cat_3',\n",
       "       'age_after_renovation_cat_4', 'age_after_renovation_cat_5',\n",
       "       'age_after_renovation_cat_6', 'age_after_renovation_cat_7',\n",
       "       'age_after_renovation_cat_8', 'age_after_renovation_cat_9',\n",
       "       'log1p_price', 'log1p_sqft_living', 'log1p_sqft_lot',\n",
       "       'log1p_sqft_above', 'log1p_sqft_basement', 'log1p_sqft_living15',\n",
       "       'log1p_sqft_lot15'],\n",
       "      dtype='object')"
      ]
     },
     "execution_count": 20,
     "metadata": {},
     "output_type": "execute_result"
    }
   ],
   "source": [
    "df_raw.columns"
   ]
  },
  {
   "cell_type": "code",
   "execution_count": 21,
   "metadata": {
    "ExecuteTime": {
     "end_time": "2019-10-04T23:23:37.284823Z",
     "start_time": "2019-10-04T23:23:37.241850Z"
    }
   },
   "outputs": [],
   "source": [
    "features_raw_few = ['bedrooms','bathrooms','sqft_living',\n",
    "                    'sqft_lot','floors','zipcode']"
   ]
  },
  {
   "cell_type": "code",
   "execution_count": 22,
   "metadata": {
    "ExecuteTime": {
     "end_time": "2019-10-04T23:23:37.329854Z",
     "start_time": "2019-10-04T23:23:37.290969Z"
    }
   },
   "outputs": [],
   "source": [
    "features_raw_all = ['bedrooms','bathrooms','sqft_living','sqft_lot',\n",
    "                    'floors','waterfront','view','condition','grade',\n",
    "                    'sqft_above','yr_built','yr_renovated',\n",
    "                    'zipcode','lat','long','sqft_living15','sqft_lot15']"
   ]
  },
  {
   "cell_type": "code",
   "execution_count": 23,
   "metadata": {
    "ExecuteTime": {
     "end_time": "2019-10-04T23:23:37.379644Z",
     "start_time": "2019-10-04T23:23:37.332604Z"
    }
   },
   "outputs": [
    {
     "data": {
      "text/plain": [
       "Index(['id', 'date', 'price', 'bedrooms', 'bathrooms', 'sqft_living',\n",
       "       'sqft_lot', 'floors', 'waterfront', 'view', 'condition', 'grade',\n",
       "       'sqft_above', 'sqft_basement', 'yr_built', 'yr_renovated', 'zipcode',\n",
       "       'lat', 'long', 'sqft_living15', 'sqft_lot15', 'yr_sales', 'age',\n",
       "       'yr_renovated2', 'age_after_renovation', 'zipcode_top10',\n",
       "       'zipcode_houses', 'basement_bool', 'renovation_bool', 'age_cat',\n",
       "       'age_after_renovation_cat', 'waterfront_0', 'waterfront_1', 'view_0',\n",
       "       'view_1', 'view_2', 'view_3', 'view_4', 'condition_1', 'condition_2',\n",
       "       'condition_3', 'condition_4', 'condition_5', 'grade_1', 'grade_10',\n",
       "       'grade_11', 'grade_12', 'grade_13', 'grade_3', 'grade_4', 'grade_5',\n",
       "       'grade_6', 'grade_7', 'grade_8', 'grade_9', 'zipcode_top10_98004',\n",
       "       'zipcode_top10_98006', 'zipcode_top10_98033', 'zipcode_top10_98039',\n",
       "       'zipcode_top10_98040', 'zipcode_top10_98102', 'zipcode_top10_98105',\n",
       "       'zipcode_top10_98155', 'zipcode_top10_98177', 'zipcode_top10_others',\n",
       "       'age_cat_0', 'age_cat_1', 'age_cat_2', 'age_cat_3', 'age_cat_4',\n",
       "       'age_cat_5', 'age_cat_6', 'age_cat_7', 'age_cat_8', 'age_cat_9',\n",
       "       'age_after_renovation_cat_0', 'age_after_renovation_cat_1',\n",
       "       'age_after_renovation_cat_2', 'age_after_renovation_cat_3',\n",
       "       'age_after_renovation_cat_4', 'age_after_renovation_cat_5',\n",
       "       'age_after_renovation_cat_6', 'age_after_renovation_cat_7',\n",
       "       'age_after_renovation_cat_8', 'age_after_renovation_cat_9',\n",
       "       'log1p_price', 'log1p_sqft_living', 'log1p_sqft_lot',\n",
       "       'log1p_sqft_above', 'log1p_sqft_basement', 'log1p_sqft_living15',\n",
       "       'log1p_sqft_lot15'],\n",
       "      dtype='object')"
      ]
     },
     "execution_count": 23,
     "metadata": {},
     "output_type": "execute_result"
    }
   ],
   "source": [
    "df.columns"
   ]
  },
  {
   "cell_type": "code",
   "execution_count": 24,
   "metadata": {
    "ExecuteTime": {
     "end_time": "2019-10-04T23:23:37.429359Z",
     "start_time": "2019-10-04T23:23:37.384970Z"
    }
   },
   "outputs": [
    {
     "data": {
      "text/plain": [
       "Index(['age', 'age_after_renovation', 'age_cat', 'age_after_renovation_cat',\n",
       "       'age_cat_0', 'age_cat_1', 'age_cat_2', 'age_cat_3', 'age_cat_4',\n",
       "       'age_cat_5', 'age_cat_6', 'age_cat_7', 'age_cat_8', 'age_cat_9',\n",
       "       'age_after_renovation_cat_0', 'age_after_renovation_cat_1',\n",
       "       'age_after_renovation_cat_2', 'age_after_renovation_cat_3',\n",
       "       'age_after_renovation_cat_4', 'age_after_renovation_cat_5',\n",
       "       'age_after_renovation_cat_6', 'age_after_renovation_cat_7',\n",
       "       'age_after_renovation_cat_8', 'age_after_renovation_cat_9'],\n",
       "      dtype='object')"
      ]
     },
     "execution_count": 24,
     "metadata": {},
     "output_type": "execute_result"
    }
   ],
   "source": [
    "df.filter(regex='age').columns"
   ]
  },
  {
   "cell_type": "code",
   "execution_count": 25,
   "metadata": {
    "ExecuteTime": {
     "end_time": "2019-10-04T23:23:37.485387Z",
     "start_time": "2019-10-04T23:23:37.435062Z"
    }
   },
   "outputs": [
    {
     "name": "stdout",
     "output_type": "stream",
     "text": [
      "['bedrooms', 'bathrooms', 'sqft_living', 'sqft_lot', 'floors', 'waterfront', 'view', 'condition', 'grade', 'sqft_above', 'yr_built', 'yr_renovated', 'zipcode', 'lat', 'long', 'sqft_living15', 'sqft_lot15', 'age_cat_0', 'age_cat_1', 'age_cat_2', 'age_cat_3', 'age_cat_4', 'age_cat_5', 'age_cat_6', 'age_cat_7', 'age_cat_8', 'age_cat_9', 'age_after_renovation_cat_0', 'age_after_renovation_cat_1', 'age_after_renovation_cat_2', 'age_after_renovation_cat_3', 'age_after_renovation_cat_4', 'age_after_renovation_cat_5', 'age_after_renovation_cat_6', 'age_after_renovation_cat_7', 'age_after_renovation_cat_8', 'age_after_renovation_cat_9']\n"
     ]
    }
   ],
   "source": [
    "features_processed_cat_age = [ 'age_cat_0', 'age_cat_1', 'age_cat_2',\n",
    "                               'age_cat_3', 'age_cat_4', 'age_cat_5',\n",
    "                               'age_cat_6', 'age_cat_7', 'age_cat_8',\n",
    "                               'age_cat_9']\n",
    "\n",
    "features_processed_cat_agernv = [\n",
    "                'age_after_renovation_cat_0','age_after_renovation_cat_1',\n",
    "                'age_after_renovation_cat_2', 'age_after_renovation_cat_3',\n",
    "                'age_after_renovation_cat_4', 'age_after_renovation_cat_5',\n",
    "                'age_after_renovation_cat_6', 'age_after_renovation_cat_7',\n",
    "                'age_after_renovation_cat_8', 'age_after_renovation_cat_9']\n",
    "\n",
    "\n",
    "features_processed_few = features_raw_all + features_processed_cat_age\n",
    "features_processed_many = (features_raw_all + features_processed_cat_age\n",
    "                          + features_processed_cat_agernv)\n",
    "\n",
    "print(features_processed_many)"
   ]
  },
  {
   "cell_type": "code",
   "execution_count": 26,
   "metadata": {
    "ExecuteTime": {
     "end_time": "2019-10-04T23:23:37.533914Z",
     "start_time": "2019-10-04T23:23:37.488732Z"
    }
   },
   "outputs": [],
   "source": [
    "import io\n",
    "import json\n",
    "\n",
    "myjson = {\n",
    "    'features_raw_few' : features_raw_few,\n",
    "    'features_raw_all': features_raw_all,\n",
    "    'features_processed_few': features_processed_few,\n",
    "    'features_processed_many': features_processed_many\n",
    "}\n",
    "\n",
    "with io.open('../models/features_names.json', 'w', encoding='utf8') as fo:\n",
    "    str_ = json.dumps(myjson,\n",
    "                      indent=4,\n",
    "                      sort_keys=False,\n",
    "                      separators=(',', ': '),\n",
    "                      ensure_ascii=False)\n",
    "    fo.write(str(str_))"
   ]
  },
  {
   "cell_type": "markdown",
   "metadata": {},
   "source": [
    "# Multiple Linear Regression\n",
    "\n",
    "When we have more than one features to estimate the target, it is called\n",
    "multiple linear regression. The equation of the model is given below:\n",
    "\n",
    "$$\n",
    "h_{\\theta}(X)=\\theta_{0}+\\theta_{1} x_{1}+\\theta_{2} x_{2}+\\ldots+\\theta_{n} x_{n}\n",
    "$$\n",
    "\n",
    "For multiple linear regression we also have Adjusted R-squared values to better account\n",
    "additional number of features used.\n",
    "\n",
    "$$\n",
    "\\overline{R^{2}}=R^{2}-\\frac{k-1}{n-k}\\left(1-R^{2}\\right)\n",
    "$$\n",
    "\n",
    "where  `n`  is the number of observations and  `k`  is the number of parameters."
   ]
  },
  {
   "cell_type": "code",
   "execution_count": 27,
   "metadata": {
    "ExecuteTime": {
     "end_time": "2019-10-04T23:23:37.565214Z",
     "start_time": "2019-10-04T23:23:37.535639Z"
    }
   },
   "outputs": [],
   "source": [
    "def adjustedR2(rsquared,nrows,kcols):\n",
    "    return rsquared- (kcols-1)/(nrows-kcols) * (1-rsquared)"
   ]
  },
  {
   "cell_type": "code",
   "execution_count": 28,
   "metadata": {
    "ExecuteTime": {
     "end_time": "2019-10-04T23:23:37.600790Z",
     "start_time": "2019-10-04T23:23:37.568569Z"
    }
   },
   "outputs": [],
   "source": [
    "def multiple_linear_regression(model,X,y, Xtrain, ytrain, Xtest,ytest,cv=5):\n",
    "    \"\"\" Multiple Linear Regression Modelling using given model.\n",
    "    \n",
    "    \n",
    "    Returns:\n",
    "    rmse, r2_train, ar2_train, r2_test, ar2_test, cv\n",
    "    \"\"\"\n",
    "    def adjustedR2(rsquared,nrows,kcols):\n",
    "        return rsquared- (kcols-1)/(nrows-kcols) * (1-rsquared)\n",
    "    \n",
    "    # fitting\n",
    "    model.fit(Xtrain,ytrain)\n",
    "\n",
    "    # prediction\n",
    "    ypreds = model.predict(Xtest)\n",
    "\n",
    "    # metrics\n",
    "    rmse = np.sqrt(mean_squared_error(ytest,ypreds)).round(3)\n",
    "    r2_train = model.score(Xtrain, ytrain).round(3)\n",
    "    r2_test = model.score(Xtest, ytest).round(3)\n",
    "\n",
    "    cv = cross_val_score(model, X, y, cv=5,n_jobs=-1).mean().round(3)\n",
    "\n",
    "    ar2_train = adjustedR2(model.score(Xtrain,ytrain),\n",
    "                           Xtrain.shape[0],\n",
    "                           len(features)).round(3)\n",
    "    ar2_test  = adjustedR2(model.score(Xtest,ytest),\n",
    "                           Xtest.shape[0] ,\n",
    "                           len(features)).round(3)\n",
    "    \n",
    "    return (rmse, r2_train, ar2_train, r2_test, ar2_test, cv)"
   ]
  },
  {
   "cell_type": "code",
   "execution_count": 29,
   "metadata": {
    "ExecuteTime": {
     "end_time": "2019-10-04T23:23:37.695136Z",
     "start_time": "2019-10-04T23:23:37.602551Z"
    }
   },
   "outputs": [
    {
     "data": {
      "text/html": [
       "<div>\n",
       "<style scoped>\n",
       "    .dataframe tbody tr th:only-of-type {\n",
       "        vertical-align: middle;\n",
       "    }\n",
       "\n",
       "    .dataframe tbody tr th {\n",
       "        vertical-align: top;\n",
       "    }\n",
       "\n",
       "    .dataframe thead th {\n",
       "        text-align: right;\n",
       "    }\n",
       "</style>\n",
       "<table border=\"1\" class=\"dataframe\">\n",
       "  <thead>\n",
       "    <tr style=\"text-align: right;\">\n",
       "      <th></th>\n",
       "      <th>Model</th>\n",
       "      <th>Details</th>\n",
       "      <th>Root Mean Squared Error (RMSE)</th>\n",
       "      <th>R-squared (training)</th>\n",
       "      <th>Adjusted R-squared (training)</th>\n",
       "      <th>R-squared (test)</th>\n",
       "      <th>Adjusted R-squared (test)</th>\n",
       "      <th>5-Fold Cross Validation</th>\n",
       "    </tr>\n",
       "  </thead>\n",
       "  <tbody>\n",
       "    <tr>\n",
       "      <th>0</th>\n",
       "      <td>Simple Linear Regression</td>\n",
       "      <td>-</td>\n",
       "      <td>255,511.380</td>\n",
       "      <td>0.487</td>\n",
       "      <td>0.487</td>\n",
       "      <td>0.516</td>\n",
       "      <td>0.516</td>\n",
       "      <td>0.491</td>\n",
       "    </tr>\n",
       "    <tr>\n",
       "      <th>1</th>\n",
       "      <td>Multiple Linear Regression</td>\n",
       "      <td>few features, unprocessed</td>\n",
       "      <td>250,717.169</td>\n",
       "      <td>0.510</td>\n",
       "      <td>0.510</td>\n",
       "      <td>0.534</td>\n",
       "      <td>0.533</td>\n",
       "      <td>0.512</td>\n",
       "    </tr>\n",
       "  </tbody>\n",
       "</table>\n",
       "</div>"
      ],
      "text/plain": [
       "                        Model                    Details  \\\n",
       "0    Simple Linear Regression                          -   \n",
       "1  Multiple Linear Regression  few features, unprocessed   \n",
       "\n",
       "   Root Mean Squared Error (RMSE)  R-squared (training)  \\\n",
       "0                     255,511.380                 0.487   \n",
       "1                     250,717.169                 0.510   \n",
       "\n",
       "   Adjusted R-squared (training)  R-squared (test)  Adjusted R-squared (test)  \\\n",
       "0                          0.487             0.516                      0.516   \n",
       "1                          0.510             0.534                      0.533   \n",
       "\n",
       "   5-Fold Cross Validation  \n",
       "0                    0.491  \n",
       "1                    0.512  "
      ]
     },
     "execution_count": 29,
     "metadata": {},
     "output_type": "execute_result"
    }
   ],
   "source": [
    "features = features_raw_few\n",
    "target = ['price']\n",
    "\n",
    "df = df_raw[features_raw_few + target]\n",
    "\n",
    "X = df[features].values\n",
    "y = df[target].values.reshape(-1,1)\n",
    "\n",
    "Xtrain = train[features].values\n",
    "ytrain = train[target].values.reshape(-1,1)\n",
    "\n",
    "Xtest = test[features].values\n",
    "ytest = test[target].values.reshape(-1,1)\n",
    "\n",
    "model = linear_model.LinearRegression()\n",
    "rmse, r2_train, ar2_train, r2_test, ar2_test, cv = \\\n",
    "    multiple_linear_regression(model,X,y, Xtrain, ytrain, Xtest,ytest)\n",
    "\n",
    "\n",
    "df_eval.loc[len(df_eval)] = ['Multiple Linear Regression','few features, unprocessed',\n",
    "                    rmse,r2_train,ar2_train,r2_test,ar2_test,cv]\n",
    "\n",
    "df_eval\n"
   ]
  },
  {
   "cell_type": "markdown",
   "metadata": {},
   "source": [
    "## Multiple Linear Regression - Some processed features"
   ]
  },
  {
   "cell_type": "code",
   "execution_count": 30,
   "metadata": {
    "ExecuteTime": {
     "end_time": "2019-10-04T23:23:37.852459Z",
     "start_time": "2019-10-04T23:23:37.698123Z"
    }
   },
   "outputs": [
    {
     "data": {
      "text/html": [
       "<div>\n",
       "<style scoped>\n",
       "    .dataframe tbody tr th:only-of-type {\n",
       "        vertical-align: middle;\n",
       "    }\n",
       "\n",
       "    .dataframe tbody tr th {\n",
       "        vertical-align: top;\n",
       "    }\n",
       "\n",
       "    .dataframe thead th {\n",
       "        text-align: right;\n",
       "    }\n",
       "</style>\n",
       "<table border=\"1\" class=\"dataframe\">\n",
       "  <thead>\n",
       "    <tr style=\"text-align: right;\">\n",
       "      <th></th>\n",
       "      <th>Model</th>\n",
       "      <th>Details</th>\n",
       "      <th>Root Mean Squared Error (RMSE)</th>\n",
       "      <th>R-squared (training)</th>\n",
       "      <th>Adjusted R-squared (training)</th>\n",
       "      <th>R-squared (test)</th>\n",
       "      <th>Adjusted R-squared (test)</th>\n",
       "      <th>5-Fold Cross Validation</th>\n",
       "    </tr>\n",
       "  </thead>\n",
       "  <tbody>\n",
       "    <tr>\n",
       "      <th>0</th>\n",
       "      <td>Simple Linear Regression</td>\n",
       "      <td>-</td>\n",
       "      <td>255,511.380</td>\n",
       "      <td>0.487</td>\n",
       "      <td>0.487</td>\n",
       "      <td>0.516</td>\n",
       "      <td>0.516</td>\n",
       "      <td>0.491</td>\n",
       "    </tr>\n",
       "    <tr>\n",
       "      <th>1</th>\n",
       "      <td>Multiple Linear Regression</td>\n",
       "      <td>few features, unprocessed</td>\n",
       "      <td>250,717.169</td>\n",
       "      <td>0.510</td>\n",
       "      <td>0.510</td>\n",
       "      <td>0.534</td>\n",
       "      <td>0.533</td>\n",
       "      <td>0.512</td>\n",
       "    </tr>\n",
       "    <tr>\n",
       "      <th>2</th>\n",
       "      <td>Multiple Linear Regression</td>\n",
       "      <td>few features, processed</td>\n",
       "      <td>250,717.169</td>\n",
       "      <td>0.510</td>\n",
       "      <td>0.510</td>\n",
       "      <td>0.534</td>\n",
       "      <td>0.531</td>\n",
       "      <td>0.702</td>\n",
       "    </tr>\n",
       "  </tbody>\n",
       "</table>\n",
       "</div>"
      ],
      "text/plain": [
       "                        Model                    Details  \\\n",
       "0    Simple Linear Regression                          -   \n",
       "1  Multiple Linear Regression  few features, unprocessed   \n",
       "2  Multiple Linear Regression    few features, processed   \n",
       "\n",
       "   Root Mean Squared Error (RMSE)  R-squared (training)  \\\n",
       "0                     255,511.380                 0.487   \n",
       "1                     250,717.169                 0.510   \n",
       "2                     250,717.169                 0.510   \n",
       "\n",
       "   Adjusted R-squared (training)  R-squared (test)  Adjusted R-squared (test)  \\\n",
       "0                          0.487             0.516                      0.516   \n",
       "1                          0.510             0.534                      0.533   \n",
       "2                          0.510             0.534                      0.531   \n",
       "\n",
       "   5-Fold Cross Validation  \n",
       "0                    0.491  \n",
       "1                    0.512  \n",
       "2                    0.702  "
      ]
     },
     "execution_count": 30,
     "metadata": {},
     "output_type": "execute_result"
    }
   ],
   "source": [
    "features = features_processed_few\n",
    "target = ['price']\n",
    "\n",
    "df = df_raw[features + target]\n",
    "\n",
    "X = df[features].values\n",
    "y = df[target].values.reshape(-1,1)\n",
    "\n",
    "X_train = train[features].values\n",
    "y_train = train[target].values.reshape(-1,1)\n",
    "\n",
    "X_test = test[features].values\n",
    "y_test = test[target].values.reshape(-1,1)\n",
    "\n",
    "model = linear_model.LinearRegression()\n",
    "rmse, r2_train, ar2_train, r2_test, ar2_test, cv = \\\n",
    "    multiple_linear_regression(model,X,y, Xtrain, ytrain, Xtest,ytest)\n",
    "\n",
    "row = df_eval.shape[0]\n",
    "df_eval.loc[row] = ['Multiple Linear Regression','few features, processed',\n",
    "                    rmse,r2_train,ar2_train,r2_test,ar2_test,cv]\n",
    "\n",
    "df_eval\n",
    "\n",
    "\n"
   ]
  },
  {
   "cell_type": "markdown",
   "metadata": {},
   "source": [
    "## Multiple Linear Regression - Many processed features\n",
    "All raw features + age_binned + age_renovated_binned"
   ]
  },
  {
   "cell_type": "code",
   "execution_count": 31,
   "metadata": {
    "ExecuteTime": {
     "end_time": "2019-10-04T23:23:38.088700Z",
     "start_time": "2019-10-04T23:23:37.855109Z"
    }
   },
   "outputs": [
    {
     "data": {
      "text/html": [
       "<div>\n",
       "<style scoped>\n",
       "    .dataframe tbody tr th:only-of-type {\n",
       "        vertical-align: middle;\n",
       "    }\n",
       "\n",
       "    .dataframe tbody tr th {\n",
       "        vertical-align: top;\n",
       "    }\n",
       "\n",
       "    .dataframe thead th {\n",
       "        text-align: right;\n",
       "    }\n",
       "</style>\n",
       "<table border=\"1\" class=\"dataframe\">\n",
       "  <thead>\n",
       "    <tr style=\"text-align: right;\">\n",
       "      <th></th>\n",
       "      <th>Model</th>\n",
       "      <th>Details</th>\n",
       "      <th>Root Mean Squared Error (RMSE)</th>\n",
       "      <th>R-squared (training)</th>\n",
       "      <th>Adjusted R-squared (training)</th>\n",
       "      <th>R-squared (test)</th>\n",
       "      <th>Adjusted R-squared (test)</th>\n",
       "      <th>5-Fold Cross Validation</th>\n",
       "    </tr>\n",
       "  </thead>\n",
       "  <tbody>\n",
       "    <tr>\n",
       "      <th>0</th>\n",
       "      <td>Simple Linear Regression</td>\n",
       "      <td>-</td>\n",
       "      <td>255,511.380</td>\n",
       "      <td>0.487</td>\n",
       "      <td>0.487</td>\n",
       "      <td>0.516</td>\n",
       "      <td>0.516</td>\n",
       "      <td>0.491</td>\n",
       "    </tr>\n",
       "    <tr>\n",
       "      <th>1</th>\n",
       "      <td>Multiple Linear Regression</td>\n",
       "      <td>few features, unprocessed</td>\n",
       "      <td>250,717.169</td>\n",
       "      <td>0.510</td>\n",
       "      <td>0.510</td>\n",
       "      <td>0.534</td>\n",
       "      <td>0.533</td>\n",
       "      <td>0.512</td>\n",
       "    </tr>\n",
       "    <tr>\n",
       "      <th>2</th>\n",
       "      <td>Multiple Linear Regression</td>\n",
       "      <td>few features, processed</td>\n",
       "      <td>250,717.169</td>\n",
       "      <td>0.510</td>\n",
       "      <td>0.510</td>\n",
       "      <td>0.534</td>\n",
       "      <td>0.531</td>\n",
       "      <td>0.702</td>\n",
       "    </tr>\n",
       "    <tr>\n",
       "      <th>3</th>\n",
       "      <td>Multiple Linear Regression</td>\n",
       "      <td>many features, processed</td>\n",
       "      <td>197,259.488</td>\n",
       "      <td>0.706</td>\n",
       "      <td>0.706</td>\n",
       "      <td>0.711</td>\n",
       "      <td>0.709</td>\n",
       "      <td>0.704</td>\n",
       "    </tr>\n",
       "  </tbody>\n",
       "</table>\n",
       "</div>"
      ],
      "text/plain": [
       "                        Model                    Details  \\\n",
       "0    Simple Linear Regression                          -   \n",
       "1  Multiple Linear Regression  few features, unprocessed   \n",
       "2  Multiple Linear Regression    few features, processed   \n",
       "3  Multiple Linear Regression   many features, processed   \n",
       "\n",
       "   Root Mean Squared Error (RMSE)  R-squared (training)  \\\n",
       "0                     255,511.380                 0.487   \n",
       "1                     250,717.169                 0.510   \n",
       "2                     250,717.169                 0.510   \n",
       "3                     197,259.488                 0.706   \n",
       "\n",
       "   Adjusted R-squared (training)  R-squared (test)  Adjusted R-squared (test)  \\\n",
       "0                          0.487             0.516                      0.516   \n",
       "1                          0.510             0.534                      0.533   \n",
       "2                          0.510             0.534                      0.531   \n",
       "3                          0.706             0.711                      0.709   \n",
       "\n",
       "   5-Fold Cross Validation  \n",
       "0                    0.491  \n",
       "1                    0.512  \n",
       "2                    0.702  \n",
       "3                    0.704  "
      ]
     },
     "execution_count": 31,
     "metadata": {},
     "output_type": "execute_result"
    }
   ],
   "source": [
    "features = features_processed_many\n",
    "target = ['price']\n",
    "\n",
    "df = df_raw[features + target]\n",
    "\n",
    "X = df[features].values\n",
    "y = df[target].values.reshape(-1,1)\n",
    "\n",
    "Xtrain = train[features].values\n",
    "ytrain = train[target].values.reshape(-1,1)\n",
    "\n",
    "Xtest = test[features].values\n",
    "ytest = test[target].values.reshape(-1,1)\n",
    "\n",
    "model = linear_model.LinearRegression()\n",
    "rmse, r2_train, ar2_train, r2_test, ar2_test, cv =\\\n",
    "    multiple_linear_regression(model,X,y, Xtrain, ytrain, Xtest,ytest)\n",
    "\n",
    "row = df_eval.shape[0]\n",
    "df_eval.loc[row] = ['Multiple Linear Regression','many features, processed',\n",
    "                    rmse,r2_train,ar2_train,r2_test,ar2_test,cv]\n",
    "\n",
    "df_eval"
   ]
  },
  {
   "cell_type": "markdown",
   "metadata": {},
   "source": [
    "## Multiple Linear Regrerssion - Ridge  Regularization L2\n",
    "- Overfitting: complicated model and too many features. Drop unnecessary featrures.\n",
    "- Underfitting: very simple model. Add more features.\n",
    "\n",
    "Popular regularization methods:\n",
    "- Ridge: use when many small/medium sized effects on target.\n",
    "- Lasso: Use when few variables with medium/large effects on target.\n",
    "\n",
    "Ridge regression is called L2 regularization and by adding a penalty, we obtain the below equation\n",
    "$$\n",
    "R S S_{R I D G E}=\\sum_{i=1}^{m}\\left(h_{\\theta}\\left(x_{i}\\right)-y_{i}\\right)^{2}+\\alpha \\sum_{j=1}^{n} \\theta_{j}^{2}\n",
    "$$"
   ]
  },
  {
   "cell_type": "code",
   "execution_count": 32,
   "metadata": {
    "ExecuteTime": {
     "end_time": "2019-10-04T23:23:38.239534Z",
     "start_time": "2019-10-04T23:23:38.090855Z"
    }
   },
   "outputs": [],
   "source": [
    "features = features_processed_many\n",
    "target = ['price']\n",
    "\n",
    "df = df_raw[features+target]\n",
    "\n",
    "X = df[features].values\n",
    "y = df[target].values.reshape(-1,1)\n",
    "\n",
    "Xtrain = train[features].values\n",
    "ytrain = train[target].values.reshape(-1,1)\n",
    "\n",
    "Xtest = test[features].values\n",
    "ytest = test[target].values.reshape(-1,1)\n",
    "\n",
    "model = linear_model.Ridge(alpha=1)\n",
    "\n",
    "rmse, r2_train, ar2_train, r2_test, ar2_test, cv = \\\n",
    "    multiple_linear_regression(model,X,y, Xtrain, ytrain, Xtest,ytest)\n",
    "\n",
    "row = df_eval.shape[0]\n",
    "df_eval.loc[row] = ['Multiple Linear Regression Ridge Regularization (L2)',\n",
    "                    'alpha=1, many features, processed',\n",
    "                    rmse,r2_train,ar2_train,r2_test,ar2_test,cv]\n"
   ]
  },
  {
   "cell_type": "code",
   "execution_count": 33,
   "metadata": {
    "ExecuteTime": {
     "end_time": "2019-10-04T23:23:38.391629Z",
     "start_time": "2019-10-04T23:23:38.242064Z"
    }
   },
   "outputs": [],
   "source": [
    "features = features_processed_many\n",
    "target = ['price']\n",
    "\n",
    "df = df_raw[features+target]\n",
    "\n",
    "X = df[features].values\n",
    "y = df[target].values.reshape(-1,1)\n",
    "\n",
    "Xtrain = train[features].values\n",
    "ytrain = train[target].values.reshape(-1,1)\n",
    "\n",
    "Xtest = test[features].values\n",
    "ytest = test[target].values.reshape(-1,1)\n",
    "\n",
    "model = linear_model.Ridge(alpha=1000)\n",
    "\n",
    "rmse, r2_train, ar2_train, r2_test, ar2_test, cv = \\\n",
    "    multiple_linear_regression(model,X,y, Xtrain, ytrain, Xtest,ytest)\n",
    "\n",
    "row = df_eval.shape[0]\n",
    "df_eval.loc[row] = ['Multiple Linear Regression Ridge Regularization (L2)',\n",
    "                    'alpha=1000, many features, processed',\n",
    "                    rmse,r2_train,ar2_train,r2_test,ar2_test,cv]\n"
   ]
  },
  {
   "cell_type": "markdown",
   "metadata": {},
   "source": [
    "## Multiple Linear Regression - Lasso Regularization L1\n",
    "- Lasso regularization makes some model coefficients exactly zero. \n",
    "\n",
    "> Technically the Lasso model is optimizing the same objective function as the Elastic Net with l1_ratio=1.0 (no L2 penalty).\n",
    "\n",
    "> The optimization objective for Lasso is:\n",
    "\n",
    "(1 / (2 * n_samples)) * ||y - Xw||^2_2 + alpha * ||w||_1"
   ]
  },
  {
   "cell_type": "code",
   "execution_count": 34,
   "metadata": {
    "ExecuteTime": {
     "end_time": "2019-10-04T23:23:41.404983Z",
     "start_time": "2019-10-04T23:23:38.393453Z"
    }
   },
   "outputs": [
    {
     "name": "stderr",
     "output_type": "stream",
     "text": [
      "/Users/poudel/miniconda3/envs/dataSc/lib/python3.7/site-packages/sklearn/linear_model/coordinate_descent.py:475: ConvergenceWarning: Objective did not converge. You might want to increase the number of iterations. Duality gap: 336521445098471.8, tolerance: 233028249172.05145\n",
      "  positive)\n"
     ]
    }
   ],
   "source": [
    "features = features_processed_many\n",
    "target = ['price']\n",
    "\n",
    "df = df_raw[features+target]\n",
    "\n",
    "X = df[features].values\n",
    "y = df[target].values.reshape(-1,1)\n",
    "\n",
    "Xtrain = train[features].values\n",
    "ytrain = train[target].values.reshape(-1,1)\n",
    "\n",
    "Xtest = test[features].values\n",
    "ytest = test[target].values.reshape(-1,1)\n",
    "\n",
    "model = linear_model.Lasso(alpha=1, random_state=random_state)\n",
    "\n",
    "rmse, r2_train, ar2_train, r2_test, ar2_test, cv = \\\n",
    "    multiple_linear_regression(model,X,y, Xtrain, ytrain, Xtest,ytest)\n",
    "\n",
    "row = df_eval.shape[0]\n",
    "df_eval.loc[row] = ['Multiple Linear Regression Lasso Regularization (L1)',\n",
    "                    'alpha=1, many features, processed',\n",
    "                    rmse,r2_train,ar2_train,r2_test,ar2_test,cv]\n"
   ]
  },
  {
   "cell_type": "code",
   "execution_count": 35,
   "metadata": {
    "ExecuteTime": {
     "end_time": "2019-10-04T23:23:42.416746Z",
     "start_time": "2019-10-04T23:23:41.406502Z"
    }
   },
   "outputs": [
    {
     "data": {
      "text/html": [
       "<div>\n",
       "<style scoped>\n",
       "    .dataframe tbody tr th:only-of-type {\n",
       "        vertical-align: middle;\n",
       "    }\n",
       "\n",
       "    .dataframe tbody tr th {\n",
       "        vertical-align: top;\n",
       "    }\n",
       "\n",
       "    .dataframe thead th {\n",
       "        text-align: right;\n",
       "    }\n",
       "</style>\n",
       "<table border=\"1\" class=\"dataframe\">\n",
       "  <thead>\n",
       "    <tr style=\"text-align: right;\">\n",
       "      <th></th>\n",
       "      <th>Model</th>\n",
       "      <th>Details</th>\n",
       "      <th>Root Mean Squared Error (RMSE)</th>\n",
       "      <th>R-squared (training)</th>\n",
       "      <th>Adjusted R-squared (training)</th>\n",
       "      <th>R-squared (test)</th>\n",
       "      <th>Adjusted R-squared (test)</th>\n",
       "      <th>5-Fold Cross Validation</th>\n",
       "    </tr>\n",
       "  </thead>\n",
       "  <tbody>\n",
       "    <tr>\n",
       "      <th>0</th>\n",
       "      <td>Simple Linear Regression</td>\n",
       "      <td>-</td>\n",
       "      <td>255,511.380</td>\n",
       "      <td>0.487</td>\n",
       "      <td>0.487</td>\n",
       "      <td>0.516</td>\n",
       "      <td>0.516</td>\n",
       "      <td>0.491</td>\n",
       "    </tr>\n",
       "    <tr>\n",
       "      <th>1</th>\n",
       "      <td>Multiple Linear Regression</td>\n",
       "      <td>few features, unprocessed</td>\n",
       "      <td>250,717.169</td>\n",
       "      <td>0.510</td>\n",
       "      <td>0.510</td>\n",
       "      <td>0.534</td>\n",
       "      <td>0.533</td>\n",
       "      <td>0.512</td>\n",
       "    </tr>\n",
       "    <tr>\n",
       "      <th>2</th>\n",
       "      <td>Multiple Linear Regression</td>\n",
       "      <td>few features, processed</td>\n",
       "      <td>250,717.169</td>\n",
       "      <td>0.510</td>\n",
       "      <td>0.510</td>\n",
       "      <td>0.534</td>\n",
       "      <td>0.531</td>\n",
       "      <td>0.702</td>\n",
       "    </tr>\n",
       "    <tr>\n",
       "      <th>3</th>\n",
       "      <td>Multiple Linear Regression</td>\n",
       "      <td>many features, processed</td>\n",
       "      <td>197,259.488</td>\n",
       "      <td>0.706</td>\n",
       "      <td>0.706</td>\n",
       "      <td>0.711</td>\n",
       "      <td>0.709</td>\n",
       "      <td>0.704</td>\n",
       "    </tr>\n",
       "    <tr>\n",
       "      <th>4</th>\n",
       "      <td>Multiple Linear Regression Ridge Regularization (L2)</td>\n",
       "      <td>alpha=1, many features, processed</td>\n",
       "      <td>197,256.275</td>\n",
       "      <td>0.706</td>\n",
       "      <td>0.706</td>\n",
       "      <td>0.711</td>\n",
       "      <td>0.709</td>\n",
       "      <td>0.704</td>\n",
       "    </tr>\n",
       "    <tr>\n",
       "      <th>5</th>\n",
       "      <td>Multiple Linear Regression Ridge Regularization (L2)</td>\n",
       "      <td>alpha=1000, many features, processed</td>\n",
       "      <td>210,224.755</td>\n",
       "      <td>0.664</td>\n",
       "      <td>0.663</td>\n",
       "      <td>0.672</td>\n",
       "      <td>0.669</td>\n",
       "      <td>0.661</td>\n",
       "    </tr>\n",
       "    <tr>\n",
       "      <th>6</th>\n",
       "      <td>Multiple Linear Regression Lasso Regularization (L1)</td>\n",
       "      <td>alpha=1, many features, processed</td>\n",
       "      <td>197,259.114</td>\n",
       "      <td>0.706</td>\n",
       "      <td>0.706</td>\n",
       "      <td>0.711</td>\n",
       "      <td>0.709</td>\n",
       "      <td>0.704</td>\n",
       "    </tr>\n",
       "    <tr>\n",
       "      <th>7</th>\n",
       "      <td>Multiple Linear Regression Lasso Regularization</td>\n",
       "      <td>alpha=100, many features, processed</td>\n",
       "      <td>197,276.866</td>\n",
       "      <td>0.706</td>\n",
       "      <td>0.706</td>\n",
       "      <td>0.711</td>\n",
       "      <td>0.709</td>\n",
       "      <td>0.704</td>\n",
       "    </tr>\n",
       "  </tbody>\n",
       "</table>\n",
       "</div>"
      ],
      "text/plain": [
       "                                                  Model  \\\n",
       "0                              Simple Linear Regression   \n",
       "1                            Multiple Linear Regression   \n",
       "2                            Multiple Linear Regression   \n",
       "3                            Multiple Linear Regression   \n",
       "4  Multiple Linear Regression Ridge Regularization (L2)   \n",
       "5  Multiple Linear Regression Ridge Regularization (L2)   \n",
       "6  Multiple Linear Regression Lasso Regularization (L1)   \n",
       "7       Multiple Linear Regression Lasso Regularization   \n",
       "\n",
       "                                Details  Root Mean Squared Error (RMSE)  \\\n",
       "0                                     -                     255,511.380   \n",
       "1             few features, unprocessed                     250,717.169   \n",
       "2               few features, processed                     250,717.169   \n",
       "3              many features, processed                     197,259.488   \n",
       "4     alpha=1, many features, processed                     197,256.275   \n",
       "5  alpha=1000, many features, processed                     210,224.755   \n",
       "6     alpha=1, many features, processed                     197,259.114   \n",
       "7   alpha=100, many features, processed                     197,276.866   \n",
       "\n",
       "   R-squared (training)  Adjusted R-squared (training)  R-squared (test)  \\\n",
       "0                 0.487                          0.487             0.516   \n",
       "1                 0.510                          0.510             0.534   \n",
       "2                 0.510                          0.510             0.534   \n",
       "3                 0.706                          0.706             0.711   \n",
       "4                 0.706                          0.706             0.711   \n",
       "5                 0.664                          0.663             0.672   \n",
       "6                 0.706                          0.706             0.711   \n",
       "7                 0.706                          0.706             0.711   \n",
       "\n",
       "   Adjusted R-squared (test)  5-Fold Cross Validation  \n",
       "0                      0.516                    0.491  \n",
       "1                      0.533                    0.512  \n",
       "2                      0.531                    0.702  \n",
       "3                      0.709                    0.704  \n",
       "4                      0.709                    0.704  \n",
       "5                      0.669                    0.661  \n",
       "6                      0.709                    0.704  \n",
       "7                      0.709                    0.704  "
      ]
     },
     "execution_count": 35,
     "metadata": {},
     "output_type": "execute_result"
    }
   ],
   "source": [
    "features = features_processed_many\n",
    "\n",
    "target = ['price']\n",
    "\n",
    "df = df_raw[features+target]\n",
    "\n",
    "X = df[features].values\n",
    "y = df[target].values.reshape(-1,1)\n",
    "\n",
    "Xtrain = train[features].values\n",
    "ytrain = train[target].values.reshape(-1,1)\n",
    "\n",
    "Xtest = test[features].values\n",
    "ytest = test[target].values.reshape(-1,1)\n",
    "\n",
    "model = linear_model.Lasso(alpha=100,random_state=random_state)\n",
    "\n",
    "rmse, r2_train, ar2_train, r2_test, ar2_test, cv = \\\n",
    "    multiple_linear_regression(model,X,y, Xtrain, ytrain, Xtest,ytest)\n",
    "\n",
    "\n",
    "df_eval.loc[len(df_eval)] = ['Multiple Linear Regression Lasso Regularization',\n",
    "                    'alpha=100, many features, processed',\n",
    "                    rmse,r2_train,ar2_train,r2_test,ar2_test,cv]\n",
    "\n",
    "df_eval"
   ]
  },
  {
   "cell_type": "markdown",
   "metadata": {},
   "source": [
    "# Polynomial Regression"
   ]
  },
  {
   "cell_type": "markdown",
   "metadata": {},
   "source": [
    "## Polynomial Regression - deg = 2 few raw features"
   ]
  },
  {
   "cell_type": "code",
   "execution_count": 36,
   "metadata": {
    "ExecuteTime": {
     "end_time": "2019-10-04T23:23:42.584916Z",
     "start_time": "2019-10-04T23:23:42.418595Z"
    }
   },
   "outputs": [],
   "source": [
    "features = features_raw_few\n",
    "target = ['price']\n",
    "\n",
    "df = df_raw[features+target]\n",
    "\n",
    "polyfeat = PolynomialFeatures(degree=2)\n",
    "\n",
    "X = polyfeat.fit_transform(df[features])\n",
    "\n",
    "Xtrain = polyfeat.fit_transform(train[features])\n",
    "Xtest = polyfeat.fit_transform(test[features])\n",
    "\n",
    "y = df[target].values.reshape(-1,1)\n",
    "ytrain = train[target].values.reshape(-1,1)\n",
    "ytest = test[target].values.reshape(-1,1)\n",
    "\n",
    "\n",
    "model = linear_model.LinearRegression(n_jobs=-1)\n",
    "\n",
    "rmse, r2_train, ar2_train, r2_test, ar2_test, cv = \\\n",
    "    multiple_linear_regression(model,X,y, Xtrain, ytrain, Xtest,ytest)\n",
    "\n",
    "row = df_eval.shape[0]\n",
    "df_eval.loc[row] = ['Polynomial Regression','deg=2, few features,\\\n",
    "                     unprocessed, no regularization',\n",
    "                    rmse,r2_train,ar2_train,r2_test,ar2_test,cv]\n"
   ]
  },
  {
   "cell_type": "markdown",
   "metadata": {},
   "source": [
    "## Polynomial Regression - deg = 3 few raw features"
   ]
  },
  {
   "cell_type": "code",
   "execution_count": 37,
   "metadata": {
    "ExecuteTime": {
     "end_time": "2019-10-04T23:23:43.076582Z",
     "start_time": "2019-10-04T23:23:42.586913Z"
    }
   },
   "outputs": [],
   "source": [
    "features = features_raw_few\n",
    "target = ['price']\n",
    "\n",
    "df = df_raw[features+target]\n",
    "\n",
    "polyfeat = PolynomialFeatures(degree=3)\n",
    "\n",
    "X = polyfeat.fit_transform(df[features])\n",
    "\n",
    "Xtrain = polyfeat.fit_transform(train[features])\n",
    "Xtest = polyfeat.fit_transform(test[features])\n",
    "\n",
    "y = df[target].values.reshape(-1,1)\n",
    "ytrain = train[target].values.reshape(-1,1)\n",
    "ytest = test[target].values.reshape(-1,1)\n",
    "\n",
    "\n",
    "model = linear_model.LinearRegression(n_jobs=-1)\n",
    "\n",
    "rmse, r2_train, ar2_train, r2_test, ar2_test, cv = \\\n",
    "    multiple_linear_regression(model,X,y, Xtrain, ytrain, Xtest,ytest)\n",
    "\n",
    "row = df_eval.shape[0]\n",
    "df_eval.loc[row] = ['Polynomial Regression','deg=3, \\\n",
    "                     few features, unprocessed, no regularization',\n",
    "                    rmse,r2_train,ar2_train,r2_test,ar2_test,cv]\n"
   ]
  },
  {
   "cell_type": "markdown",
   "metadata": {},
   "source": [
    "## Polynomial Regression - deg = 2 all raw features"
   ]
  },
  {
   "cell_type": "code",
   "execution_count": 38,
   "metadata": {
    "ExecuteTime": {
     "end_time": "2019-10-04T23:23:44.018445Z",
     "start_time": "2019-10-04T23:23:43.078844Z"
    }
   },
   "outputs": [],
   "source": [
    "features = features_raw_all\n",
    "target = ['price']\n",
    "\n",
    "df = df_raw[features+target]\n",
    "\n",
    "\n",
    "polyfeat = PolynomialFeatures(degree=2)\n",
    "\n",
    "X = polyfeat.fit_transform(df[features])\n",
    "\n",
    "Xtrain = polyfeat.fit_transform(train[features])\n",
    "Xtest = polyfeat.fit_transform(test[features])\n",
    "\n",
    "y = df[target].values.reshape(-1,1)\n",
    "ytrain = train[target].values.reshape(-1,1)\n",
    "ytest = test[target].values.reshape(-1,1)\n",
    "\n",
    "\n",
    "model = linear_model.LinearRegression(n_jobs=-1)\n",
    "\n",
    "rmse, r2_train, ar2_train, r2_test, ar2_test, cv = \\\n",
    "    multiple_linear_regression(model,X,y, Xtrain, ytrain, Xtest,ytest)\n",
    "\n",
    "row = df_eval.shape[0]\n",
    "df_eval.loc[row] = ['Polynomial Regression','deg=2, all features,\\\n",
    "                     unprocessed, no regularization',\n",
    "                    rmse,r2_train,ar2_train,r2_test,ar2_test,cv]\n"
   ]
  },
  {
   "cell_type": "markdown",
   "metadata": {},
   "source": [
    "## Polynomial Regression - deg = 3 all raw features"
   ]
  },
  {
   "cell_type": "code",
   "execution_count": 39,
   "metadata": {
    "ExecuteTime": {
     "end_time": "2019-10-04T23:23:53.521536Z",
     "start_time": "2019-10-04T23:23:44.020124Z"
    }
   },
   "outputs": [],
   "source": [
    "features = features_raw_all\n",
    "target = ['price']\n",
    "\n",
    "df = df_raw[features+target]\n",
    "\n",
    "polyfeat = PolynomialFeatures(degree=3)\n",
    "\n",
    "X = polyfeat.fit_transform(df[features])\n",
    "\n",
    "X_train = polyfeat.fit_transform(train[features])\n",
    "X_test = polyfeat.fit_transform(test[features])\n",
    "\n",
    "y = df[target].values.reshape(-1,1)\n",
    "y_train = train[target].values.reshape(-1,1)\n",
    "y_test = test[target].values.reshape(-1,1)\n",
    "\n",
    "\n",
    "model = linear_model.LinearRegression(n_jobs=-1)\n",
    "\n",
    "rmse, r2_train, ar2_train, r2_test, ar2_test, cv = \\\n",
    "    multiple_linear_regression(model,X,y, Xtrain, ytrain, Xtest,ytest)\n",
    "\n",
    "row = df_eval.shape[0]\n",
    "df_eval.loc[row] = ['Polynomial Regression','deg =3, all features,\\\n",
    "                     unprocessed, no regularization',\n",
    "                    rmse,r2_train,ar2_train,r2_test,ar2_test,cv]"
   ]
  },
  {
   "cell_type": "markdown",
   "metadata": {},
   "source": [
    "## Polynomial Regression - deg = 2 many processed features"
   ]
  },
  {
   "cell_type": "code",
   "execution_count": 40,
   "metadata": {
    "ExecuteTime": {
     "end_time": "2019-10-04T23:23:59.240594Z",
     "start_time": "2019-10-04T23:23:53.523612Z"
    }
   },
   "outputs": [
    {
     "name": "stderr",
     "output_type": "stream",
     "text": [
      "/Users/poudel/miniconda3/envs/dataSc/lib/python3.7/site-packages/joblib/externals/loky/process_executor.py:706: UserWarning: A worker stopped while some jobs were given to the executor. This can be caused by a too short worker timeout or by a memory leak.\n",
      "  \"timeout or by a memory leak.\", UserWarning\n"
     ]
    }
   ],
   "source": [
    "features = features_processed_many\n",
    "target = ['price']\n",
    "\n",
    "df = df_raw[features+target]\n",
    "\n",
    "\n",
    "polyfeat = PolynomialFeatures(degree=2)\n",
    "\n",
    "X = polyfeat.fit_transform(df[features])\n",
    "\n",
    "Xtrain = polyfeat.fit_transform(train[features])\n",
    "Xtest = polyfeat.fit_transform(test[features])\n",
    "\n",
    "y = df[target].values.reshape(-1,1)\n",
    "ytrain = train[target].values.reshape(-1,1)\n",
    "ytest = test[target].values.reshape(-1,1)\n",
    "\n",
    "\n",
    "model = linear_model.LinearRegression(n_jobs=-1)\n",
    "\n",
    "rmse, r2_train, ar2_train, r2_test, ar2_test, cv = \\\n",
    "    multiple_linear_regression(model,X,y, Xtrain, ytrain, Xtest,ytest)\n",
    "\n",
    "row = df_eval.shape[0]\n",
    "df_eval.loc[row] = ['Polynomial Regression','deg =2, many features,\\\n",
    "                     processed, no regularization',\n",
    "                    rmse,r2_train,ar2_train,r2_test,ar2_test,cv]"
   ]
  },
  {
   "cell_type": "markdown",
   "metadata": {},
   "source": [
    "## Polynomial Regression - deg = 2 many processed features Ridge alpha = 1"
   ]
  },
  {
   "cell_type": "code",
   "execution_count": 41,
   "metadata": {
    "ExecuteTime": {
     "end_time": "2019-10-04T23:24:02.020734Z",
     "start_time": "2019-10-04T23:23:59.242696Z"
    }
   },
   "outputs": [
    {
     "name": "stderr",
     "output_type": "stream",
     "text": [
      "/Users/poudel/miniconda3/envs/dataSc/lib/python3.7/site-packages/sklearn/linear_model/ridge.py:147: LinAlgWarning: Ill-conditioned matrix (rcond=1.89017e-26): result may not be accurate.\n",
      "  overwrite_a=True).T\n"
     ]
    }
   ],
   "source": [
    "features = features_processed_many\n",
    "target = ['price']\n",
    "\n",
    "df = df_raw[features+target]\n",
    "\n",
    "polyfeat = PolynomialFeatures(degree=2)\n",
    "\n",
    "X = polyfeat.fit_transform(df[features])\n",
    "\n",
    "Xtrain = polyfeat.fit_transform(train[features])\n",
    "Xtest = polyfeat.fit_transform(test[features])\n",
    "\n",
    "y = df[target].values.reshape(-1,1)\n",
    "ytrain = train[target].values.reshape(-1,1)\n",
    "ytest = test[target].values.reshape(-1,1)\n",
    "\n",
    "\n",
    "model = linear_model.Ridge(alpha=1,random_state=random_state)\n",
    "\n",
    "rmse, r2_train, ar2_train, r2_test, ar2_test, cv = \\\n",
    "    multiple_linear_regression(model,X,y, Xtrain, ytrain, Xtest,ytest)\n",
    "\n",
    "row = df_eval.shape[0]\n",
    "df_eval.loc[row] = ['Polynomial Regression','deg=2, many features,\\\n",
    "                     processed, Ridge alpha=1',\n",
    "                    rmse,r2_train,ar2_train,r2_test,ar2_test,cv]"
   ]
  },
  {
   "cell_type": "markdown",
   "metadata": {},
   "source": [
    "## Polynomial Regression - deg = 2 many processed features Ridge alpha = 50_000"
   ]
  },
  {
   "cell_type": "code",
   "execution_count": 42,
   "metadata": {
    "ExecuteTime": {
     "end_time": "2019-10-04T23:24:04.050727Z",
     "start_time": "2019-10-04T23:24:02.022935Z"
    }
   },
   "outputs": [
    {
     "name": "stderr",
     "output_type": "stream",
     "text": [
      "/Users/poudel/miniconda3/envs/dataSc/lib/python3.7/site-packages/sklearn/linear_model/ridge.py:147: LinAlgWarning: Ill-conditioned matrix (rcond=8.59361e-22): result may not be accurate.\n",
      "  overwrite_a=True).T\n"
     ]
    }
   ],
   "source": [
    "features = features_processed_many\n",
    "target = ['price']\n",
    "\n",
    "df = df_raw[features+target]\n",
    "\n",
    "polyfeat = PolynomialFeatures(degree=2)\n",
    "\n",
    "X = polyfeat.fit_transform(df[features])\n",
    "\n",
    "Xtrain = polyfeat.fit_transform(train[features])\n",
    "Xtest = polyfeat.fit_transform(test[features])\n",
    "\n",
    "y = df[target].values.reshape(-1,1)\n",
    "ytrain = train[target].values.reshape(-1,1)\n",
    "ytest = test[target].values.reshape(-1,1)\n",
    "\n",
    "\n",
    "model = linear_model.Ridge(alpha=50000,random_state=random_state)\n",
    "\n",
    "rmse, r2_train, ar2_train, r2_test, ar2_test, cv = \\\n",
    "    multiple_linear_regression(model,X,y, Xtrain, ytrain, Xtest,ytest)\n",
    "\n",
    "row = df_eval.shape[0]\n",
    "df_eval.loc[row] = ['Polynomial Regression','deg =2, many features, processed,\\\n",
    "                     Ridge alpha=50000',\n",
    "                    rmse,r2_train,ar2_train,r2_test,ar2_test,cv]"
   ]
  },
  {
   "cell_type": "markdown",
   "metadata": {},
   "source": [
    "## Polynomial Regression - deg = 2 many processed features Lasso alpha = 1"
   ]
  },
  {
   "cell_type": "code",
   "execution_count": 43,
   "metadata": {
    "ExecuteTime": {
     "end_time": "2019-10-04T23:24:49.610264Z",
     "start_time": "2019-10-04T23:24:04.053020Z"
    }
   },
   "outputs": [
    {
     "name": "stderr",
     "output_type": "stream",
     "text": [
      "/Users/poudel/miniconda3/envs/dataSc/lib/python3.7/site-packages/sklearn/linear_model/coordinate_descent.py:475: ConvergenceWarning: Objective did not converge. You might want to increase the number of iterations. Duality gap: 219134165009892.25, tolerance: 233028249172.05145\n",
      "  positive)\n"
     ]
    }
   ],
   "source": [
    "features = features_processed_many\n",
    "target = ['price']\n",
    "\n",
    "df = df_raw[features+target]\n",
    "\n",
    "polyfeat = PolynomialFeatures(degree=2)\n",
    "\n",
    "X = polyfeat.fit_transform(df[features])\n",
    "\n",
    "Xtrain = polyfeat.fit_transform(train[features])\n",
    "Xtest = polyfeat.fit_transform(test[features])\n",
    "\n",
    "y = df[target].values.reshape(-1,1)\n",
    "ytrain = train[target].values.reshape(-1,1)\n",
    "ytest = test[target].values.reshape(-1,1)\n",
    "\n",
    "\n",
    "model = linear_model.Lasso(alpha=1,random_state=random_state)\n",
    "\n",
    "rmse, r2_train, ar2_train, r2_test, ar2_test, cv = \\\n",
    "    multiple_linear_regression(model,X,y, Xtrain, ytrain, Xtest,ytest)\n",
    "\n",
    "row = df_eval.shape[0]\n",
    "df_eval.loc[row] = ['Polynomial Regression','deg=2, all features,\\\n",
    "                     processed, Lasso alpha=1',\n",
    "                    rmse,r2_train,ar2_train,r2_test,ar2_test,cv]"
   ]
  },
  {
   "cell_type": "markdown",
   "metadata": {},
   "source": [
    "## Polynomial Regression - deg = 2 many processed features Lasso alpha = 50_000"
   ]
  },
  {
   "cell_type": "code",
   "execution_count": 44,
   "metadata": {
    "ExecuteTime": {
     "end_time": "2019-10-04T23:25:26.603843Z",
     "start_time": "2019-10-04T23:24:49.612172Z"
    }
   },
   "outputs": [
    {
     "name": "stderr",
     "output_type": "stream",
     "text": [
      "/Users/poudel/miniconda3/envs/dataSc/lib/python3.7/site-packages/sklearn/linear_model/coordinate_descent.py:475: ConvergenceWarning: Objective did not converge. You might want to increase the number of iterations. Duality gap: 232071906362195.44, tolerance: 233028249172.05145\n",
      "  positive)\n"
     ]
    }
   ],
   "source": [
    "features = features_processed_many\n",
    "target = ['price']\n",
    "\n",
    "df = df_raw[features+target]\n",
    "\n",
    "polyfeat = PolynomialFeatures(degree=2)\n",
    "\n",
    "X = polyfeat.fit_transform(df[features])\n",
    "\n",
    "Xtrain = polyfeat.fit_transform(train[features])\n",
    "Xtest = polyfeat.fit_transform(test[features])\n",
    "\n",
    "y = df[target].values.reshape(-1,1)\n",
    "ytrain = train[target].values.reshape(-1,1)\n",
    "ytest = test[target].values.reshape(-1,1)\n",
    "\n",
    "\n",
    "model = linear_model.Lasso(alpha=50000,random_state=random_state)\n",
    "\n",
    "rmse, r2_train, ar2_train, r2_test, ar2_test, cv = \\\n",
    "    multiple_linear_regression(model,X,y, Xtrain, ytrain, Xtest,ytest)\n",
    "\n",
    "\n",
    "df_eval.loc[len(df_eval)] = ['Polynomial Regression','deg =2, all features,\\\n",
    "                    processed, Lasso alpha=50000',\n",
    "                    rmse,r2_train,ar2_train,r2_test,ar2_test,cv]"
   ]
  },
  {
   "cell_type": "markdown",
   "metadata": {},
   "source": [
    "## Linear Model LassoLarsCV\n",
    "\n",
    "Notes\n",
    "\n",
    "> The object solves the same problem as the LassoCV object. However, unlike the LassoCV, it find the relevant alphas values by itself. In general, because of this property, it will be more stable. However, it is more fragile to heavily multicollinear datasets.\n",
    "\n",
    "> It is more efficient than the LassoCV if only a small number of features are selected compared to the total number, for instance if there are very few samples compared to the number of features."
   ]
  },
  {
   "cell_type": "code",
   "execution_count": 45,
   "metadata": {
    "ExecuteTime": {
     "end_time": "2019-10-04T23:25:26.640440Z",
     "start_time": "2019-10-04T23:25:26.605599Z"
    }
   },
   "outputs": [],
   "source": [
    "def adjustedR2(rsquared,nrows,kcols):\n",
    "    return rsquared- (kcols-1)/(nrows-kcols) * (1-rsquared)"
   ]
  },
  {
   "cell_type": "code",
   "execution_count": 46,
   "metadata": {
    "ExecuteTime": {
     "end_time": "2019-10-04T23:25:27.039081Z",
     "start_time": "2019-10-04T23:25:26.643149Z"
    }
   },
   "outputs": [
    {
     "name": "stderr",
     "output_type": "stream",
     "text": [
      "/Users/poudel/miniconda3/envs/dataSc/lib/python3.7/site-packages/sklearn/utils/validation.py:724: DataConversionWarning: A column-vector y was passed when a 1d array was expected. Please change the shape of y to (n_samples, ), for example using ravel().\n",
      "  y = column_or_1d(y, warn=True)\n",
      "[Parallel(n_jobs=-1)]: Using backend LokyBackend with 4 concurrent workers.\n"
     ]
    },
    {
     "name": "stdout",
     "output_type": "stream",
     "text": [
      "."
     ]
    },
    {
     "name": "stderr",
     "output_type": "stream",
     "text": [
      "[Parallel(n_jobs=-1)]: Done   5 out of   5 | elapsed:    0.2s finished\n"
     ]
    }
   ],
   "source": [
    "from sklearn.linear_model import LassoLarsCV\n",
    "\n",
    "features = features_processed_many\n",
    "target = ['price']\n",
    "\n",
    "df = df_raw[features+target]\n",
    "\n",
    "\n",
    "X = df[features].values\n",
    "y = df[target].values.reshape(-1,1)\n",
    "\n",
    "Xtrain = train[features].values\n",
    "ytrain = train[target].values.reshape(-1,1)\n",
    "\n",
    "Xtest = test[features].values\n",
    "ytest = test[target].values.reshape(-1,1)\n",
    "\n",
    "model = linear_model.LassoLarsCV(cv=5,n_jobs=-1,verbose=2,max_iter=1000)\n",
    "\n",
    "# fitting\n",
    "model.fit(Xtrain,ytrain)\n",
    "\n",
    "# prediction\n",
    "ypreds = model.predict(Xtest)\n",
    "\n",
    "# metrics\n",
    "rmse = np.sqrt(mean_squared_error(ytest,ypreds)).round(3)\n",
    "r2_train = model.score(Xtrain, ytrain).round(3)\n",
    "r2_test = model.score(Xtest, ytest).round(3)\n",
    "\n",
    "\n",
    "# rows and cols\n",
    "nrows = df.shape[0]\n",
    "kcols = len(features)\n",
    "\n",
    "# adjusted rsquared\n",
    "ar2_train = adjustedR2(r2_train,nrows,kcols)\n",
    "ar2_test = adjustedR2(r2_test,nrows,kcols)\n",
    "\n",
    "\n",
    "\n",
    "df_eval.loc[len(df_eval)] = ['Linear Regression LassoLarsCV',\n",
    "                    'many features processed',\n",
    "                    rmse,r2_train,ar2_train,r2_test,ar2_test,cv]"
   ]
  },
  {
   "cell_type": "markdown",
   "metadata": {},
   "source": [
    "# Summary"
   ]
  },
  {
   "cell_type": "code",
   "execution_count": 47,
   "metadata": {
    "ExecuteTime": {
     "end_time": "2019-10-04T23:25:27.081500Z",
     "start_time": "2019-10-04T23:25:27.040790Z"
    },
    "scrolled": true
   },
   "outputs": [
    {
     "data": {
      "application/javascript": [
       "IPython.OutputArea.auto_scroll_threshold = 9999;"
      ],
      "text/plain": [
       "<IPython.core.display.Javascript object>"
      ]
     },
     "metadata": {},
     "output_type": "display_data"
    }
   ],
   "source": [
    "%%javascript\n",
    "IPython.OutputArea.auto_scroll_threshold = 9999;"
   ]
  },
  {
   "cell_type": "code",
   "execution_count": 48,
   "metadata": {
    "ExecuteTime": {
     "end_time": "2019-10-04T23:25:27.120441Z",
     "start_time": "2019-10-04T23:25:27.083079Z"
    }
   },
   "outputs": [],
   "source": [
    "# Jupyter notebook settings for pandas\n",
    "pd.set_option('display.max_columns', 200)\n",
    "pd.set_option('display.max_rows', 100) # None for all the rows"
   ]
  },
  {
   "cell_type": "code",
   "execution_count": 49,
   "metadata": {
    "ExecuteTime": {
     "end_time": "2019-10-04T23:25:27.175538Z",
     "start_time": "2019-10-04T23:25:27.123834Z"
    }
   },
   "outputs": [
    {
     "data": {
      "text/html": [
       "<div>\n",
       "<style scoped>\n",
       "    .dataframe tbody tr th:only-of-type {\n",
       "        vertical-align: middle;\n",
       "    }\n",
       "\n",
       "    .dataframe tbody tr th {\n",
       "        vertical-align: top;\n",
       "    }\n",
       "\n",
       "    .dataframe thead th {\n",
       "        text-align: right;\n",
       "    }\n",
       "</style>\n",
       "<table border=\"1\" class=\"dataframe\">\n",
       "  <thead>\n",
       "    <tr style=\"text-align: right;\">\n",
       "      <th></th>\n",
       "      <th>Model</th>\n",
       "      <th>Details</th>\n",
       "      <th>Root Mean Squared Error (RMSE)</th>\n",
       "      <th>R-squared (training)</th>\n",
       "      <th>Adjusted R-squared (training)</th>\n",
       "      <th>R-squared (test)</th>\n",
       "      <th>Adjusted R-squared (test)</th>\n",
       "      <th>5-Fold Cross Validation</th>\n",
       "    </tr>\n",
       "  </thead>\n",
       "  <tbody>\n",
       "    <tr>\n",
       "      <th>10</th>\n",
       "      <td>Polynomial Regression</td>\n",
       "      <td>deg=2, all features,                     unprocessed, no regularization</td>\n",
       "      <td>158,822.055</td>\n",
       "      <td>0.831</td>\n",
       "      <td>0.831</td>\n",
       "      <td>0.813</td>\n",
       "      <td>0.812</td>\n",
       "      <td>0.813</td>\n",
       "    </tr>\n",
       "    <tr>\n",
       "      <th>11</th>\n",
       "      <td>Polynomial Regression</td>\n",
       "      <td>deg =3, all features,                     unprocessed, no regularization</td>\n",
       "      <td>158,822.055</td>\n",
       "      <td>0.831</td>\n",
       "      <td>0.831</td>\n",
       "      <td>0.813</td>\n",
       "      <td>0.812</td>\n",
       "      <td>-2.454</td>\n",
       "    </tr>\n",
       "    <tr>\n",
       "      <th>13</th>\n",
       "      <td>Polynomial Regression</td>\n",
       "      <td>deg=2, many features,                     processed, Ridge alpha=1</td>\n",
       "      <td>159,185.146</td>\n",
       "      <td>0.846</td>\n",
       "      <td>0.846</td>\n",
       "      <td>0.812</td>\n",
       "      <td>0.810</td>\n",
       "      <td>0.808</td>\n",
       "    </tr>\n",
       "    <tr>\n",
       "      <th>14</th>\n",
       "      <td>Polynomial Regression</td>\n",
       "      <td>deg =2, many features, processed,                     Ridge alpha=50000</td>\n",
       "      <td>165,440.773</td>\n",
       "      <td>0.821</td>\n",
       "      <td>0.820</td>\n",
       "      <td>0.797</td>\n",
       "      <td>0.795</td>\n",
       "      <td>0.792</td>\n",
       "    </tr>\n",
       "    <tr>\n",
       "      <th>15</th>\n",
       "      <td>Polynomial Regression</td>\n",
       "      <td>deg=2, all features,                     processed, Lasso alpha=1</td>\n",
       "      <td>174,534.762</td>\n",
       "      <td>0.812</td>\n",
       "      <td>0.812</td>\n",
       "      <td>0.774</td>\n",
       "      <td>0.772</td>\n",
       "      <td>0.778</td>\n",
       "    </tr>\n",
       "    <tr>\n",
       "      <th>16</th>\n",
       "      <td>Polynomial Regression</td>\n",
       "      <td>deg =2, all features,                    processed, Lasso alpha=50000</td>\n",
       "      <td>176,297.103</td>\n",
       "      <td>0.803</td>\n",
       "      <td>0.802</td>\n",
       "      <td>0.769</td>\n",
       "      <td>0.767</td>\n",
       "      <td>0.781</td>\n",
       "    </tr>\n",
       "    <tr>\n",
       "      <th>17</th>\n",
       "      <td>Linear Regression LassoLarsCV</td>\n",
       "      <td>many features processed</td>\n",
       "      <td>197,309.546</td>\n",
       "      <td>0.706</td>\n",
       "      <td>0.706</td>\n",
       "      <td>0.711</td>\n",
       "      <td>0.711</td>\n",
       "      <td>0.781</td>\n",
       "    </tr>\n",
       "    <tr>\n",
       "      <th>3</th>\n",
       "      <td>Multiple Linear Regression</td>\n",
       "      <td>many features, processed</td>\n",
       "      <td>197,259.488</td>\n",
       "      <td>0.706</td>\n",
       "      <td>0.706</td>\n",
       "      <td>0.711</td>\n",
       "      <td>0.709</td>\n",
       "      <td>0.704</td>\n",
       "    </tr>\n",
       "    <tr>\n",
       "      <th>4</th>\n",
       "      <td>Multiple Linear Regression Ridge Regularization (L2)</td>\n",
       "      <td>alpha=1, many features, processed</td>\n",
       "      <td>197,256.275</td>\n",
       "      <td>0.706</td>\n",
       "      <td>0.706</td>\n",
       "      <td>0.711</td>\n",
       "      <td>0.709</td>\n",
       "      <td>0.704</td>\n",
       "    </tr>\n",
       "    <tr>\n",
       "      <th>6</th>\n",
       "      <td>Multiple Linear Regression Lasso Regularization (L1)</td>\n",
       "      <td>alpha=1, many features, processed</td>\n",
       "      <td>197,259.114</td>\n",
       "      <td>0.706</td>\n",
       "      <td>0.706</td>\n",
       "      <td>0.711</td>\n",
       "      <td>0.709</td>\n",
       "      <td>0.704</td>\n",
       "    </tr>\n",
       "    <tr>\n",
       "      <th>7</th>\n",
       "      <td>Multiple Linear Regression Lasso Regularization</td>\n",
       "      <td>alpha=100, many features, processed</td>\n",
       "      <td>197,276.866</td>\n",
       "      <td>0.706</td>\n",
       "      <td>0.706</td>\n",
       "      <td>0.711</td>\n",
       "      <td>0.709</td>\n",
       "      <td>0.704</td>\n",
       "    </tr>\n",
       "    <tr>\n",
       "      <th>5</th>\n",
       "      <td>Multiple Linear Regression Ridge Regularization (L2)</td>\n",
       "      <td>alpha=1000, many features, processed</td>\n",
       "      <td>210,224.755</td>\n",
       "      <td>0.664</td>\n",
       "      <td>0.663</td>\n",
       "      <td>0.672</td>\n",
       "      <td>0.669</td>\n",
       "      <td>0.661</td>\n",
       "    </tr>\n",
       "    <tr>\n",
       "      <th>12</th>\n",
       "      <td>Polynomial Regression</td>\n",
       "      <td>deg =2, many features,                     processed, no regularization</td>\n",
       "      <td>229,581.128</td>\n",
       "      <td>0.849</td>\n",
       "      <td>0.848</td>\n",
       "      <td>0.609</td>\n",
       "      <td>0.606</td>\n",
       "      <td>-3.857</td>\n",
       "    </tr>\n",
       "    <tr>\n",
       "      <th>9</th>\n",
       "      <td>Polynomial Regression</td>\n",
       "      <td>deg=3,                      few features, unprocessed, no regularization</td>\n",
       "      <td>237,502.457</td>\n",
       "      <td>0.584</td>\n",
       "      <td>0.584</td>\n",
       "      <td>0.581</td>\n",
       "      <td>0.581</td>\n",
       "      <td>0.490</td>\n",
       "    </tr>\n",
       "    <tr>\n",
       "      <th>8</th>\n",
       "      <td>Polynomial Regression</td>\n",
       "      <td>deg=2, few features,                     unprocessed, no regularization</td>\n",
       "      <td>237,956.794</td>\n",
       "      <td>0.569</td>\n",
       "      <td>0.568</td>\n",
       "      <td>0.580</td>\n",
       "      <td>0.579</td>\n",
       "      <td>0.540</td>\n",
       "    </tr>\n",
       "    <tr>\n",
       "      <th>1</th>\n",
       "      <td>Multiple Linear Regression</td>\n",
       "      <td>few features, unprocessed</td>\n",
       "      <td>250,717.169</td>\n",
       "      <td>0.510</td>\n",
       "      <td>0.510</td>\n",
       "      <td>0.534</td>\n",
       "      <td>0.533</td>\n",
       "      <td>0.512</td>\n",
       "    </tr>\n",
       "    <tr>\n",
       "      <th>2</th>\n",
       "      <td>Multiple Linear Regression</td>\n",
       "      <td>few features, processed</td>\n",
       "      <td>250,717.169</td>\n",
       "      <td>0.510</td>\n",
       "      <td>0.510</td>\n",
       "      <td>0.534</td>\n",
       "      <td>0.531</td>\n",
       "      <td>0.702</td>\n",
       "    </tr>\n",
       "    <tr>\n",
       "      <th>0</th>\n",
       "      <td>Simple Linear Regression</td>\n",
       "      <td>-</td>\n",
       "      <td>255,511.380</td>\n",
       "      <td>0.487</td>\n",
       "      <td>0.487</td>\n",
       "      <td>0.516</td>\n",
       "      <td>0.516</td>\n",
       "      <td>0.491</td>\n",
       "    </tr>\n",
       "  </tbody>\n",
       "</table>\n",
       "</div>"
      ],
      "text/plain": [
       "                                                   Model  \\\n",
       "10                                 Polynomial Regression   \n",
       "11                                 Polynomial Regression   \n",
       "13                                 Polynomial Regression   \n",
       "14                                 Polynomial Regression   \n",
       "15                                 Polynomial Regression   \n",
       "16                                 Polynomial Regression   \n",
       "17                         Linear Regression LassoLarsCV   \n",
       "3                             Multiple Linear Regression   \n",
       "4   Multiple Linear Regression Ridge Regularization (L2)   \n",
       "6   Multiple Linear Regression Lasso Regularization (L1)   \n",
       "7        Multiple Linear Regression Lasso Regularization   \n",
       "5   Multiple Linear Regression Ridge Regularization (L2)   \n",
       "12                                 Polynomial Regression   \n",
       "9                                  Polynomial Regression   \n",
       "8                                  Polynomial Regression   \n",
       "1                             Multiple Linear Regression   \n",
       "2                             Multiple Linear Regression   \n",
       "0                               Simple Linear Regression   \n",
       "\n",
       "                                                                     Details  \\\n",
       "10   deg=2, all features,                     unprocessed, no regularization   \n",
       "11  deg =3, all features,                     unprocessed, no regularization   \n",
       "13        deg=2, many features,                     processed, Ridge alpha=1   \n",
       "14   deg =2, many features, processed,                     Ridge alpha=50000   \n",
       "15         deg=2, all features,                     processed, Lasso alpha=1   \n",
       "16     deg =2, all features,                    processed, Lasso alpha=50000   \n",
       "17                                                   many features processed   \n",
       "3                                                   many features, processed   \n",
       "4                                          alpha=1, many features, processed   \n",
       "6                                          alpha=1, many features, processed   \n",
       "7                                        alpha=100, many features, processed   \n",
       "5                                       alpha=1000, many features, processed   \n",
       "12   deg =2, many features,                     processed, no regularization   \n",
       "9   deg=3,                      few features, unprocessed, no regularization   \n",
       "8    deg=2, few features,                     unprocessed, no regularization   \n",
       "1                                                  few features, unprocessed   \n",
       "2                                                    few features, processed   \n",
       "0                                                                          -   \n",
       "\n",
       "    Root Mean Squared Error (RMSE)  R-squared (training)  \\\n",
       "10                     158,822.055                 0.831   \n",
       "11                     158,822.055                 0.831   \n",
       "13                     159,185.146                 0.846   \n",
       "14                     165,440.773                 0.821   \n",
       "15                     174,534.762                 0.812   \n",
       "16                     176,297.103                 0.803   \n",
       "17                     197,309.546                 0.706   \n",
       "3                      197,259.488                 0.706   \n",
       "4                      197,256.275                 0.706   \n",
       "6                      197,259.114                 0.706   \n",
       "7                      197,276.866                 0.706   \n",
       "5                      210,224.755                 0.664   \n",
       "12                     229,581.128                 0.849   \n",
       "9                      237,502.457                 0.584   \n",
       "8                      237,956.794                 0.569   \n",
       "1                      250,717.169                 0.510   \n",
       "2                      250,717.169                 0.510   \n",
       "0                      255,511.380                 0.487   \n",
       "\n",
       "    Adjusted R-squared (training)  R-squared (test)  \\\n",
       "10                          0.831             0.813   \n",
       "11                          0.831             0.813   \n",
       "13                          0.846             0.812   \n",
       "14                          0.820             0.797   \n",
       "15                          0.812             0.774   \n",
       "16                          0.802             0.769   \n",
       "17                          0.706             0.711   \n",
       "3                           0.706             0.711   \n",
       "4                           0.706             0.711   \n",
       "6                           0.706             0.711   \n",
       "7                           0.706             0.711   \n",
       "5                           0.663             0.672   \n",
       "12                          0.848             0.609   \n",
       "9                           0.584             0.581   \n",
       "8                           0.568             0.580   \n",
       "1                           0.510             0.534   \n",
       "2                           0.510             0.534   \n",
       "0                           0.487             0.516   \n",
       "\n",
       "    Adjusted R-squared (test)  5-Fold Cross Validation  \n",
       "10                      0.812                    0.813  \n",
       "11                      0.812                   -2.454  \n",
       "13                      0.810                    0.808  \n",
       "14                      0.795                    0.792  \n",
       "15                      0.772                    0.778  \n",
       "16                      0.767                    0.781  \n",
       "17                      0.711                    0.781  \n",
       "3                       0.709                    0.704  \n",
       "4                       0.709                    0.704  \n",
       "6                       0.709                    0.704  \n",
       "7                       0.709                    0.704  \n",
       "5                       0.669                    0.661  \n",
       "12                      0.606                   -3.857  \n",
       "9                       0.581                    0.490  \n",
       "8                       0.579                    0.540  \n",
       "1                       0.533                    0.512  \n",
       "2                       0.531                    0.702  \n",
       "0                       0.516                    0.491  "
      ]
     },
     "execution_count": 49,
     "metadata": {},
     "output_type": "execute_result"
    }
   ],
   "source": [
    "df_eval.sort_values('Adjusted R-squared (test)',ascending=False)"
   ]
  },
  {
   "cell_type": "markdown",
   "metadata": {},
   "source": [
    "# Feature Importance for Lasso Regression"
   ]
  },
  {
   "cell_type": "code",
   "execution_count": 80,
   "metadata": {
    "ExecuteTime": {
     "end_time": "2019-10-04T23:39:10.438352Z",
     "start_time": "2019-10-04T23:39:09.858075Z"
    }
   },
   "outputs": [
    {
     "name": "stdout",
     "output_type": "stream",
     "text": [
      "model = Lasso with MinMax Scaling and many processed features\n",
      "rmse test =  197259.614\n",
      "rsquared train =  0.706\n",
      "rsquared test =  0.711\n"
     ]
    }
   ],
   "source": [
    "from sklearn.linear_model import Lasso\n",
    "from sklearn.feature_selection import SelectFromModel\n",
    "\n",
    "target = ['price']\n",
    "features = features_processed_many\n",
    "\n",
    "df = df_raw[features+target]\n",
    "\n",
    "X = df[features].values\n",
    "y = df[target].values.reshape(-1,1)\n",
    "\n",
    "Xtrain = train[features].values\n",
    "ytrain = train[target].values.reshape(-1,1)\n",
    "\n",
    "Xtest = test[features].values\n",
    "ytest = test[target].values.reshape(-1,1)\n",
    "\n",
    "# scaling\n",
    "import joblib\n",
    "from sklearn.preprocessing import MinMaxScaler\n",
    "\n",
    "# for linear models scaling is useful\n",
    "scaler = MinMaxScaler()\n",
    "scaler.fit(Xtrain)\n",
    "\n",
    "# persist the model for future use\n",
    "joblib.dump(scaler, '../models/MinMaxScaler_features_processed_many.pkl')\n",
    "\n",
    "# scale transform\n",
    "Xtrain = scaler.transform(Xtrain)\n",
    "Xtest = scaler.transform(Xtest)\n",
    "\n",
    "model = linear_model.Lasso(alpha=0.05,random_state=random_state,\n",
    "                           max_iter=10_000, tol=0.01)\n",
    "model.fit(Xtrain, ytrain)\n",
    "\n",
    "# persist the model for future use\n",
    "joblib.dump(model, '../models/lasso_regression_alpha_05_features_processed_many.pkl')\n",
    "\n",
    "# prediction\n",
    "ypreds = model.predict(Xtest)\n",
    "\n",
    "# metrics\n",
    "rmse_test = np.sqrt(mean_squared_error(ytest,ypreds)).round(3)\n",
    "r2_train = model.score(Xtrain, ytrain).round(3)\n",
    "r2_test = model.score(Xtest, ytest).round(3)\n",
    "\n",
    "# prints\n",
    "print('model = Lasso with MinMax Scaling and many processed features')\n",
    "print('rmse test = ', rmse_test)\n",
    "print('rsquared train = ', r2_train)\n",
    "print('rsquared test = ', r2_test)"
   ]
  },
  {
   "cell_type": "code",
   "execution_count": 51,
   "metadata": {
    "ExecuteTime": {
     "end_time": "2019-10-04T23:25:27.854891Z",
     "start_time": "2019-10-04T23:25:27.813902Z"
    }
   },
   "outputs": [],
   "source": [
    "# Feature importance"
   ]
  },
  {
   "cell_type": "code",
   "execution_count": 52,
   "metadata": {
    "ExecuteTime": {
     "end_time": "2019-10-04T23:25:28.505785Z",
     "start_time": "2019-10-04T23:25:27.857081Z"
    }
   },
   "outputs": [
    {
     "data": {
      "text/plain": [
       "array([ True,  True,  True,  True,  True,  True,  True,  True,  True,\n",
       "        True,  True,  True,  True,  True,  True,  True,  True,  True,\n",
       "        True,  True,  True,  True,  True,  True,  True,  True,  True,\n",
       "        True,  True,  True,  True,  True,  True,  True,  True,  True,\n",
       "        True])"
      ]
     },
     "execution_count": 52,
     "metadata": {},
     "output_type": "execute_result"
    }
   ],
   "source": [
    "sel = SelectFromModel(Lasso(alpha=0.05, random_state=random_state,tol=0.01)) \n",
    "\n",
    "sel.fit(Xtrain, ytrain)\n",
    "\n",
    "sel.get_support()"
   ]
  },
  {
   "cell_type": "code",
   "execution_count": 53,
   "metadata": {
    "ExecuteTime": {
     "end_time": "2019-10-04T23:25:28.584654Z",
     "start_time": "2019-10-04T23:25:28.511196Z"
    }
   },
   "outputs": [
    {
     "data": {
      "text/plain": [
       "Index(['bedrooms', 'bathrooms', 'sqft_living', 'sqft_lot', 'floors',\n",
       "       'waterfront', 'view', 'condition', 'grade', 'sqft_above', 'yr_built',\n",
       "       'yr_renovated', 'zipcode', 'lat', 'long', 'sqft_living15', 'sqft_lot15',\n",
       "       'age_cat_0', 'age_cat_1', 'age_cat_2', 'age_cat_3', 'age_cat_4',\n",
       "       'age_cat_5', 'age_cat_6', 'age_cat_7', 'age_cat_8', 'age_cat_9',\n",
       "       'age_after_renovation_cat_0', 'age_after_renovation_cat_1',\n",
       "       'age_after_renovation_cat_2', 'age_after_renovation_cat_3',\n",
       "       'age_after_renovation_cat_4', 'age_after_renovation_cat_5',\n",
       "       'age_after_renovation_cat_6', 'age_after_renovation_cat_7',\n",
       "       'age_after_renovation_cat_8', 'age_after_renovation_cat_9'],\n",
       "      dtype='object')"
      ]
     },
     "execution_count": 53,
     "metadata": {},
     "output_type": "execute_result"
    }
   ],
   "source": [
    "selected_feat = train[features].columns[sel.get_support()]\n",
    "selected_feat"
   ]
  },
  {
   "cell_type": "code",
   "execution_count": 54,
   "metadata": {
    "ExecuteTime": {
     "end_time": "2019-10-04T23:25:28.666578Z",
     "start_time": "2019-10-04T23:25:28.592530Z"
    }
   },
   "outputs": [
    {
     "name": "stdout",
     "output_type": "stream",
     "text": [
      "total features: 37\n",
      "selected features: 37\n",
      "features with coefficients shrank to zero: 0\n"
     ]
    }
   ],
   "source": [
    "print('total features: {}'.format(len(features)))\n",
    "print('selected features: {}'.format(len(selected_feat)))\n",
    "      \n",
    "print('features with coefficients shrank to zero: {}'.format(\n",
    "    np.sum(sel.estimator_.coef_ == 0)))"
   ]
  },
  {
   "cell_type": "code",
   "execution_count": 55,
   "metadata": {
    "ExecuteTime": {
     "end_time": "2019-10-04T23:25:28.716841Z",
     "start_time": "2019-10-04T23:25:28.677012Z"
    }
   },
   "outputs": [],
   "source": [
    "import io\n",
    "import json\n",
    "\n",
    "myjson = {'model': 'Lasso with alpha 0.05 and many processed features',\n",
    "         'selected_features': selected_feat.values.tolist()}\n",
    "\n",
    "with io.open('../models/lasso_alpha_005_selected_features.json', 'w', encoding='utf8') as fo:\n",
    "    str_ = json.dumps(myjson,\n",
    "                      indent=4,\n",
    "                      sort_keys=True,\n",
    "                      separators=(',', ': '),\n",
    "                      ensure_ascii=False)\n",
    "    fo.write(str(str_))"
   ]
  },
  {
   "cell_type": "code",
   "execution_count": 56,
   "metadata": {
    "ExecuteTime": {
     "end_time": "2019-10-04T23:25:28.770734Z",
     "start_time": "2019-10-04T23:25:28.726571Z"
    }
   },
   "outputs": [],
   "source": [
    "# Laso evaluation"
   ]
  },
  {
   "cell_type": "code",
   "execution_count": 57,
   "metadata": {
    "ExecuteTime": {
     "end_time": "2019-10-04T23:25:29.214767Z",
     "start_time": "2019-10-04T23:25:28.776667Z"
    }
   },
   "outputs": [
    {
     "data": {
      "text/plain": [
       "(array([-1000000.,        0.,  1000000.,  2000000.,  3000000.,  4000000.,\n",
       "         5000000.,  6000000.,  7000000.,  8000000.]),\n",
       " <a list of 10 Text xticklabel objects>)"
      ]
     },
     "execution_count": 57,
     "metadata": {},
     "output_type": "execute_result"
    },
    {
     "data": {
      "image/png": "[encoded data removed]",
      "text/plain": [
       "<Figure size 576x576 with 1 Axes>"
      ]
     },
     "metadata": {},
     "output_type": "display_data"
    }
   ],
   "source": [
    "plt.scatter(ytest, ypreds)\n",
    "plt.xlabel('True House Price')\n",
    "plt.ylabel('Predicted House Price')\n",
    "plt.title('Evaluation of Lasso Predictions')\n",
    "plt.xticks(rotation=90)"
   ]
  },
  {
   "cell_type": "code",
   "execution_count": 61,
   "metadata": {
    "ExecuteTime": {
     "end_time": "2019-10-04T23:26:24.374022Z",
     "start_time": "2019-10-04T23:26:24.338574Z"
    }
   },
   "outputs": [
    {
     "data": {
      "text/plain": [
       "(4323, 1)"
      ]
     },
     "execution_count": 61,
     "metadata": {},
     "output_type": "execute_result"
    }
   ],
   "source": [
    "ytest.shape"
   ]
  },
  {
   "cell_type": "code",
   "execution_count": 62,
   "metadata": {
    "ExecuteTime": {
     "end_time": "2019-10-04T23:26:30.363251Z",
     "start_time": "2019-10-04T23:26:30.329891Z"
    }
   },
   "outputs": [
    {
     "data": {
      "text/plain": [
       "(4323,)"
      ]
     },
     "execution_count": 62,
     "metadata": {},
     "output_type": "execute_result"
    }
   ],
   "source": [
    "ypreds.shape"
   ]
  },
  {
   "cell_type": "code",
   "execution_count": 63,
   "metadata": {
    "ExecuteTime": {
     "end_time": "2019-10-04T23:27:15.085080Z",
     "start_time": "2019-10-04T23:27:15.041791Z"
    }
   },
   "outputs": [
    {
     "data": {
      "text/plain": [
       "array([-131627.15561054,   -9655.37749367, -131804.98611956, ...,\n",
       "        198212.68183312, -154168.31099857,   87765.5346244 ])"
      ]
     },
     "execution_count": 63,
     "metadata": {},
     "output_type": "execute_result"
    }
   ],
   "source": [
    "errors = ytest.ravel() - ypreds.ravel()\n",
    "errors"
   ]
  },
  {
   "cell_type": "code",
   "execution_count": 65,
   "metadata": {
    "ExecuteTime": {
     "end_time": "2019-10-04T23:27:56.987187Z",
     "start_time": "2019-10-04T23:27:56.679304Z"
    }
   },
   "outputs": [
    {
     "data": {
      "image/png": "[encoded data removed]",
      "text/plain": [
       "<Figure size 576x576 with 1 Axes>"
      ]
     },
     "metadata": {},
     "output_type": "display_data"
    }
   ],
   "source": [
    "plt.hist(errors, bins=20);"
   ]
  },
  {
   "cell_type": "code",
   "execution_count": 67,
   "metadata": {
    "ExecuteTime": {
     "end_time": "2019-10-04T23:29:09.078503Z",
     "start_time": "2019-10-04T23:29:08.705921Z"
    }
   },
   "outputs": [
    {
     "data": {
      "text/plain": [
       "<matplotlib.axes._subplots.AxesSubplot at 0x116031a90>"
      ]
     },
     "execution_count": 67,
     "metadata": {},
     "output_type": "execute_result"
    },
    {
     "data": {
      "image/png": "[encoded data removed]",
      "text/plain": [
       "<Figure size 576x576 with 1 Axes>"
      ]
     },
     "metadata": {},
     "output_type": "display_data"
    }
   ],
   "source": [
    "sns.distplot(errors,norm_hist=True,) # errors should follow normal distribution"
   ]
  },
  {
   "cell_type": "code",
   "execution_count": 77,
   "metadata": {
    "ExecuteTime": {
     "end_time": "2019-10-04T23:36:06.800888Z",
     "start_time": "2019-10-04T23:36:06.245105Z"
    }
   },
   "outputs": [
    {
     "data": {
      "image/png": "[encoded data removed]",
      "text/plain": [
       "<Figure size 1296x1296 with 1 Axes>"
      ]
     },
     "metadata": {},
     "output_type": "display_data"
    }
   ],
   "source": [
    "importance = pd.Series(np.abs(model.coef_.ravel()))\n",
    "importance.index = features\n",
    "importance.sort_values(inplace=True)\n",
    "\n",
    "ax = importance.plot.barh(figsize=(18,18))\n",
    "ax.tick_params(axis='both', which='major', labelsize=14)\n",
    "\n",
    "plt.xlabel('Lasso Coefficients',fontsize=24)\n",
    "plt.ylabel('Features',fontsize=24)\n",
    "plt.title('Feature Importance',fontsize=24)\n",
    "\n",
    "plt.tight_layout()\n",
    "plt.show()"
   ]
  },
  {
   "cell_type": "code",
   "execution_count": null,
   "metadata": {},
   "outputs": [],
   "source": []
  }
 ],
 "metadata": {
  "kernelspec": {
   "display_name": "Python (dataSc)",
   "language": "python",
   "name": "datasc"
  },
  "language_info": {
   "codemirror_mode": {
    "name": "ipython",
    "version": 3
   },
   "file_extension": ".py",
   "mimetype": "text/x-python",
   "name": "python",
   "nbconvert_exporter": "python",
   "pygments_lexer": "ipython3",
   "version": "3.7.3"
  },
  "toc": {
   "base_numbering": 1,
   "nav_menu": {},
   "number_sections": true,
   "sideBar": true,
   "skip_h1_title": false,
   "title_cell": "Table of Contents",
   "title_sidebar": "Contents",
   "toc_cell": true,
   "toc_position": {},
   "toc_section_display": true,
   "toc_window_display": true
  }
 },
 "nbformat": 4,
 "nbformat_minor": 2
}
