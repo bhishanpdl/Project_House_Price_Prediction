{
  "nbformat": 4,
  "nbformat_minor": 0,
  "metadata": {
    "colab": {
      "name": "e03b_boosting_lgbapi.ipynb",
      "provenance": [],
      "collapsed_sections": []
    },
    "kernelspec": {
      "display_name": "Python (dataSc)",
      "language": "python",
      "name": "datasc"
    },
    "language_info": {
      "codemirror_mode": {
        "name": "ipython",
        "version": 3
      },
      "file_extension": ".py",
      "mimetype": "text/x-python",
      "name": "python",
      "nbconvert_exporter": "python",
      "pygments_lexer": "ipython3",
      "version": "3.7.3"
    },
    "toc": {
      "base_numbering": 1,
      "nav_menu": {},
      "number_sections": true,
      "sideBar": true,
      "skip_h1_title": false,
      "title_cell": "Table of Contents",
      "title_sidebar": "Contents",
      "toc_cell": true,
      "toc_position": {},
      "toc_section_display": true,
      "toc_window_display": true
    }
  },
  "cells": [
    {
      "cell_type": "markdown",
      "metadata": {
        "id": "p0xjof2N44pA"
      },
      "source": [
        "<h1>Table of Contents<span class=\"tocSkip\"></span></h1>\n",
        "<div class=\"toc\"><ul class=\"toc-item\"><li><span><a href=\"#Data-Description\" data-toc-modified-id=\"Data-Description-1\"><span class=\"toc-item-num\">1&nbsp;&nbsp;</span>Data Description</a></span></li><li><span><a href=\"#Imports\" data-toc-modified-id=\"Imports-2\"><span class=\"toc-item-num\">2&nbsp;&nbsp;</span>Imports</a></span></li><li><span><a href=\"#Important-Scripts\" data-toc-modified-id=\"Important-Scripts-3\"><span class=\"toc-item-num\">3&nbsp;&nbsp;</span>Important Scripts</a></span></li><li><span><a href=\"#Load-the-data\" data-toc-modified-id=\"Load-the-data-4\"><span class=\"toc-item-num\">4&nbsp;&nbsp;</span>Load the data</a></span></li><li><span><a href=\"#Log-transform-large-values\" data-toc-modified-id=\"Log-transform-large-values-5\"><span class=\"toc-item-num\">5&nbsp;&nbsp;</span>Log transform large values</a></span></li><li><span><a href=\"#Train-Test-split-after-log-transform\" data-toc-modified-id=\"Train-Test-split-after-log-transform-6\"><span class=\"toc-item-num\">6&nbsp;&nbsp;</span>Train-Test split after log transform</a></span></li><li><span><a href=\"#Scaling-the-Data\" data-toc-modified-id=\"Scaling-the-Data-7\"><span class=\"toc-item-num\">7&nbsp;&nbsp;</span>Scaling the Data</a></span></li><li><span><a href=\"#GBR-Modelling\" data-toc-modified-id=\"GBR-Modelling-8\"><span class=\"toc-item-num\">8&nbsp;&nbsp;</span>GBR Modelling</a></span></li><li><span><a href=\"#GBR-modelling-using-pipeline\" data-toc-modified-id=\"GBR-modelling-using-pipeline-9\"><span class=\"toc-item-num\">9&nbsp;&nbsp;</span>GBR modelling using pipeline</a></span></li><li><span><a href=\"#Cross-Validation-Results\" data-toc-modified-id=\"Cross-Validation-Results-10\"><span class=\"toc-item-num\">10&nbsp;&nbsp;</span>Cross Validation Results</a></span></li><li><span><a href=\"#HPO-(Hyper-Parameters-Optimization)\" data-toc-modified-id=\"HPO-(Hyper-Parameters-Optimization)-11\"><span class=\"toc-item-num\">11&nbsp;&nbsp;</span>HPO (Hyper Parameters Optimization)</a></span><ul class=\"toc-item\"><li><span><a href=\"#Grid-Search-for-Gradient-Boosting-Regressor\" data-toc-modified-id=\"Grid-Search-for-Gradient-Boosting-Regressor-11.1\"><span class=\"toc-item-num\">11.1&nbsp;&nbsp;</span>Grid Search for Gradient Boosting Regressor</a></span></li><li><span><a href=\"#Best-Model\" data-toc-modified-id=\"Best-Model-11.2\"><span class=\"toc-item-num\">11.2&nbsp;&nbsp;</span>Best Model</a></span></li></ul></li></ul></div>"
      ]
    },
    {
      "cell_type": "markdown",
      "metadata": {
        "id": "jEa34qh9mghd"
      },
      "source": [
        "<div class=\"alert alert-block alert-success\">\n",
        "<b>Kernel Author:</b>  <br>\n",
        "<a href=\"https://bhishanpdl.github.io/\" , target=\"_blank\">Bhishan Poudel,  Data Scientist, Ph.D Astrophysics</a> .\n",
        "</div>"
      ]
    },
    {
      "cell_type": "markdown",
      "metadata": {
        "id": "VwrXuQrH44pE"
      },
      "source": [
        "# Data Description\n",
        "\n",
        "This dataset contains house sale prices for King County,\n",
        "which includes Seattle.\n",
        "It includes homes sold between May 2014 and May 2015.\n",
        "\n",
        "- Dependent features: 1 (price)\n",
        "- Features : 19 home features\n",
        "- Id:  1 house ID\n",
        "\n",
        "Task: Try to estimate the price based on given features.\n",
        "\n",
        "![](https://github.com/bhishanpdl/Project_House_Price_Prediction/blob/master/data/raw/data_description.png?raw=1)"
      ]
    },
    {
      "cell_type": "markdown",
      "metadata": {
        "id": "mcUE4kVk44pE"
      },
      "source": [
        "# Imports"
      ]
    },
    {
      "cell_type": "code",
      "metadata": {
        "id": "TWsYeHLWHynG"
      },
      "source": [
        "import time\n",
        "time_start_notebook = time.time()"
      ],
      "execution_count": 1,
      "outputs": []
    },
    {
      "cell_type": "code",
      "metadata": {
        "id": "tpMc6QvO44pF"
      },
      "source": [
        "%%capture\n",
        "import os\n",
        "import sys\n",
        "ENV_COLAB = 'google.colab' in sys.modules\n",
        "\n",
        "if ENV_COLAB:\n",
        "    ## install modules\n",
        "    !pip install watermark\n",
        "    !pip install catboost\n",
        "    !pip install shap eli5\n",
        "\n",
        "    # if we update existing module, we need to restart colab\n",
        "    !pip install -U scikit-learn\n",
        "\n",
        "    ## print\n",
        "    print('Environment: Google Colaboratory.')\n",
        "TREE_METHOD = 'gpu_hist' if ENV_COLAB else 'auto'"
      ],
      "execution_count": 2,
      "outputs": []
    },
    {
      "cell_type": "code",
      "metadata": {
        "id": "ZFubck-r44pH",
        "outputId": "9113968d-8128-4702-deb1-d9d121ec7cb1",
        "colab": {
          "base_uri": "https://localhost:8080/"
        }
      },
      "source": [
        "import numpy as np\n",
        "import pandas as pd\n",
        "\n",
        "# visualization\n",
        "import seaborn as sns\n",
        "sns.set(color_codes=True)\n",
        "import matplotlib\n",
        "import matplotlib.pyplot as plt\n",
        "%matplotlib inline\n",
        "\n",
        "# mixed\n",
        "import os\n",
        "import time\n",
        "from pprint import pprint\n",
        "\n",
        "# random state\n",
        "SEED=100\n",
        "np.random.seed(SEED)\n",
        "\n",
        "# settings\n",
        "pd.set_option('display.max_columns', 200)\n",
        "\n",
        "# sklearn\n",
        "import sklearn\n",
        "from sklearn import preprocessing\n",
        "from sklearn import model_selection\n",
        "from sklearn import ensemble\n",
        "from sklearn import metrics\n",
        "from sklearn.pipeline import Pipeline\n",
        "from sklearn.inspection import permutation_importance\n",
        "\n",
        "# boosting\n",
        "from sklearn.experimental import enable_hist_gradient_boosting  # noqa\n",
        "from sklearn.ensemble import HistGradientBoostingRegressor\n",
        "import xgboost\n",
        "import lightgbm\n",
        "import catboost\n",
        "import xgboost as xgb\n",
        "import lightgbm as lgb\n",
        "import catboost as catb\n",
        "\n",
        "# versions\n",
        "import watermark\n",
        "%load_ext watermark\n",
        "%watermark -a \"Bhishan Poudel\" -d -v -m\n",
        "print()\n",
        "%watermark -iv"
      ],
      "execution_count": 3,
      "outputs": [
        {
          "output_type": "stream",
          "text": [
            "Bhishan Poudel 2020-11-05 \n",
            "\n",
            "CPython 3.6.9\n",
            "IPython 5.5.0\n",
            "\n",
            "compiler   : GCC 8.4.0\n",
            "system     : Linux\n",
            "release    : 4.19.112+\n",
            "machine    : x86_64\n",
            "processor  : x86_64\n",
            "CPU cores  : 2\n",
            "interpreter: 64bit\n",
            "\n",
            "watermark  2.0.2\n",
            "seaborn    0.11.0\n",
            "xgboost    0.90\n",
            "matplotlib 3.2.2\n",
            "lightgbm   2.2.3\n",
            "numpy      1.18.5\n",
            "catboost   0.24.2\n",
            "pandas     1.1.4\n",
            "sklearn    0.23.2\n",
            "\n"
          ],
          "name": "stdout"
        }
      ]
    },
    {
      "cell_type": "markdown",
      "metadata": {
        "id": "_vArIrIYIRlc"
      },
      "source": [
        "# Important Scripts"
      ]
    },
    {
      "cell_type": "code",
      "metadata": {
        "id": "71Gnb9Z9IT3g"
      },
      "source": [
        "def show_methods(obj, ncols=7,start=None, inside=None):\n",
        "    \"\"\" Show all the attributes of a given method.\n",
        "    Example:\n",
        "    ========\n",
        "    show_method_attributes(list)\n",
        "     \"\"\"\n",
        "\n",
        "    print(f'Object Type: {type(obj)}\\n')\n",
        "    lst = [elem for elem in dir(obj) if elem[0]!='_' ]\n",
        "    lst = [elem for elem in lst \n",
        "           if elem not in 'os np pd sys time psycopg2'.split() ]\n",
        "\n",
        "    if isinstance(start,str):\n",
        "        lst = [elem for elem in lst if elem.startswith(start)]\n",
        "        \n",
        "    if isinstance(start,tuple) or isinstance(start,list):\n",
        "        lst = [elem for elem in lst for start_elem in start\n",
        "               if elem.startswith(start_elem)]\n",
        "        \n",
        "    if isinstance(inside,str):\n",
        "        lst = [elem for elem in lst if inside in elem]\n",
        "        \n",
        "    if isinstance(inside,tuple) or isinstance(inside,list):\n",
        "        lst = [elem for elem in lst for inside_elem in inside\n",
        "               if inside_elem in elem]\n",
        "\n",
        "    return pd.DataFrame(np.array_split(lst,ncols)).T.fillna('')"
      ],
      "execution_count": 4,
      "outputs": []
    },
    {
      "cell_type": "code",
      "metadata": {
        "id": "H1JrjcmiK66M"
      },
      "source": [
        "def adjustedR2(rsquared,nrows,ncols):\n",
        "    return rsquared- (ncols-1)/(nrows-ncols) * (1-rsquared)"
      ],
      "execution_count": 5,
      "outputs": []
    },
    {
      "cell_type": "code",
      "metadata": {
        "id": "X8LqH9Jd85-f"
      },
      "source": [
        "def print_regr_eval(ytest,ypreds,ncols,log_back=False):\n",
        "    # if we have done log1p to Xtrain, then model.predict(Xtest) will give \n",
        "    # logged target, we need to get it back\n",
        "    if log_back:\n",
        "        ypreds = np.expm1(ypreds)\n",
        "\n",
        "    rmse = np.sqrt(metrics.mean_squared_error(ytest,ypreds))\n",
        "    r2 = metrics.r2_score(ytest,ypreds)\n",
        "    ar2 = adjustedR2(r2,len(ytest),ncols)\n",
        "    evs = metrics.explained_variance_score(ytest, ypreds)\n",
        "\n",
        "    print('ytest :', ytest[:3])\n",
        "    print('ypreds:', ypreds[:3])\n",
        "\n",
        "    print(f\"\"\"           \n",
        "Explained Variance: {evs:.6f}\n",
        "         R-Squared: {r2:,.6f}\n",
        "\n",
        "             RMSE : {rmse:,.2f}\n",
        "Adjusted R-squared: {ar2:,.6f}\n",
        "\n",
        "\"\"\")\n",
        "    \n",
        "def plot_xgb_cv_res(df_cv_results):\n",
        "    fig,ax = plt.subplots()\n",
        "    plt.plot(df_cv_results['train-rmse-mean'],color='b',label='train-rmse')\n",
        "    plt.plot(df_cv_results['test-rmse-mean'],color='r',label='train-rmse')\n",
        "    plt.title('Cross validation score mean plot',fontsize=14)\n",
        "    plt.legend()\n",
        "    plt.show()"
      ],
      "execution_count": 6,
      "outputs": []
    },
    {
      "cell_type": "markdown",
      "metadata": {
        "id": "fF4cFyfou8Z1"
      },
      "source": [
        "# Parameters"
      ]
    },
    {
      "cell_type": "code",
      "metadata": {
        "id": "LWGXVGJLu95c",
        "outputId": "3d3d36db-e889-4fe5-d358-e7127d2273a7",
        "colab": {
          "base_uri": "https://localhost:8080/"
        }
      },
      "source": [
        "if ENV_COLAB:\n",
        "    path_raw = 'https://raw.githubusercontent.com/bhishanpdl/Datasets/master/'\n",
        "    proj = 'Projects/King_County_Seattle_House_Price_Kaggle/'\n",
        "    data_path_parent = path_raw + proj\n",
        "    data_path_train = data_path_parent + 'raw/train.csv'\n",
        "    data_path_test = data_path_parent + 'raw/test.csv'\n",
        "\n",
        "else:\n",
        "    data_path_parent = '../data/'\n",
        "    data_path_train = data_path_parent + 'raw/train.csv'\n",
        "    data_path_test = data_path_parent + 'raw/test.csv'\n",
        "\n",
        "target = 'price'\n",
        "train_size = 0.8\n",
        "\n",
        "print(data_path_train)"
      ],
      "execution_count": 7,
      "outputs": [
        {
          "output_type": "stream",
          "text": [
            "https://raw.githubusercontent.com/bhishanpdl/Datasets/master/Projects/King_County_Seattle_House_Price_Kaggle/raw/train.csv\n"
          ],
          "name": "stdout"
        }
      ]
    },
    {
      "cell_type": "markdown",
      "metadata": {
        "id": "AopwXJ3B44pv"
      },
      "source": [
        "# Load the data"
      ]
    },
    {
      "cell_type": "code",
      "metadata": {
        "id": "efpgvfDk44px",
        "outputId": "1052b40d-0fd4-4ebd-95c1-db84206369aa",
        "colab": {
          "base_uri": "https://localhost:8080/",
          "height": 295
        }
      },
      "source": [
        "df_train_raw = pd.read_csv(data_path_train)\n",
        "df_test_raw = pd.read_csv(data_path_test)\n",
        "print(df_train_raw.shape)\n",
        "print(df_train_raw.columns)\n",
        "\n",
        "display(df_train_raw.head(2).append(df_train_raw.tail(2)))"
      ],
      "execution_count": 8,
      "outputs": [
        {
          "output_type": "stream",
          "text": [
            "(17290, 21)\n",
            "Index(['id', 'date', 'price', 'bedrooms', 'bathrooms', 'sqft_living',\n",
            "       'sqft_lot', 'floors', 'waterfront', 'view', 'condition', 'grade',\n",
            "       'sqft_above', 'sqft_basement', 'yr_built', 'yr_renovated', 'zipcode',\n",
            "       'lat', 'long', 'sqft_living15', 'sqft_lot15'],\n",
            "      dtype='object')\n"
          ],
          "name": "stdout"
        },
        {
          "output_type": "display_data",
          "data": {
            "text/html": [
              "<div>\n",
              "<style scoped>\n",
              "    .dataframe tbody tr th:only-of-type {\n",
              "        vertical-align: middle;\n",
              "    }\n",
              "\n",
              "    .dataframe tbody tr th {\n",
              "        vertical-align: top;\n",
              "    }\n",
              "\n",
              "    .dataframe thead th {\n",
              "        text-align: right;\n",
              "    }\n",
              "</style>\n",
              "<table border=\"1\" class=\"dataframe\">\n",
              "  <thead>\n",
              "    <tr style=\"text-align: right;\">\n",
              "      <th></th>\n",
              "      <th>id</th>\n",
              "      <th>date</th>\n",
              "      <th>price</th>\n",
              "      <th>bedrooms</th>\n",
              "      <th>bathrooms</th>\n",
              "      <th>sqft_living</th>\n",
              "      <th>sqft_lot</th>\n",
              "      <th>floors</th>\n",
              "      <th>waterfront</th>\n",
              "      <th>view</th>\n",
              "      <th>condition</th>\n",
              "      <th>grade</th>\n",
              "      <th>sqft_above</th>\n",
              "      <th>sqft_basement</th>\n",
              "      <th>yr_built</th>\n",
              "      <th>yr_renovated</th>\n",
              "      <th>zipcode</th>\n",
              "      <th>lat</th>\n",
              "      <th>long</th>\n",
              "      <th>sqft_living15</th>\n",
              "      <th>sqft_lot15</th>\n",
              "    </tr>\n",
              "  </thead>\n",
              "  <tbody>\n",
              "    <tr>\n",
              "      <th>0</th>\n",
              "      <td>2561340020</td>\n",
              "      <td>20140804T000000</td>\n",
              "      <td>325000.0</td>\n",
              "      <td>3</td>\n",
              "      <td>1.75</td>\n",
              "      <td>1780</td>\n",
              "      <td>11096</td>\n",
              "      <td>1.0</td>\n",
              "      <td>0</td>\n",
              "      <td>0</td>\n",
              "      <td>3</td>\n",
              "      <td>7</td>\n",
              "      <td>1210</td>\n",
              "      <td>570</td>\n",
              "      <td>1979</td>\n",
              "      <td>0</td>\n",
              "      <td>98074</td>\n",
              "      <td>47.6170</td>\n",
              "      <td>-122.051</td>\n",
              "      <td>1780</td>\n",
              "      <td>10640</td>\n",
              "    </tr>\n",
              "    <tr>\n",
              "      <th>1</th>\n",
              "      <td>8598200070</td>\n",
              "      <td>20141208T000000</td>\n",
              "      <td>278000.0</td>\n",
              "      <td>2</td>\n",
              "      <td>2.50</td>\n",
              "      <td>1420</td>\n",
              "      <td>2229</td>\n",
              "      <td>2.0</td>\n",
              "      <td>0</td>\n",
              "      <td>0</td>\n",
              "      <td>3</td>\n",
              "      <td>7</td>\n",
              "      <td>1420</td>\n",
              "      <td>0</td>\n",
              "      <td>2004</td>\n",
              "      <td>0</td>\n",
              "      <td>98059</td>\n",
              "      <td>47.4871</td>\n",
              "      <td>-122.165</td>\n",
              "      <td>1500</td>\n",
              "      <td>2230</td>\n",
              "    </tr>\n",
              "    <tr>\n",
              "      <th>17288</th>\n",
              "      <td>7174800760</td>\n",
              "      <td>20140725T000000</td>\n",
              "      <td>667000.0</td>\n",
              "      <td>5</td>\n",
              "      <td>2.00</td>\n",
              "      <td>1900</td>\n",
              "      <td>5470</td>\n",
              "      <td>1.0</td>\n",
              "      <td>0</td>\n",
              "      <td>0</td>\n",
              "      <td>3</td>\n",
              "      <td>7</td>\n",
              "      <td>1180</td>\n",
              "      <td>720</td>\n",
              "      <td>1930</td>\n",
              "      <td>1965</td>\n",
              "      <td>98105</td>\n",
              "      <td>47.6666</td>\n",
              "      <td>-122.303</td>\n",
              "      <td>1300</td>\n",
              "      <td>3250</td>\n",
              "    </tr>\n",
              "    <tr>\n",
              "      <th>17289</th>\n",
              "      <td>9521100280</td>\n",
              "      <td>20140612T000000</td>\n",
              "      <td>480000.0</td>\n",
              "      <td>3</td>\n",
              "      <td>2.50</td>\n",
              "      <td>1250</td>\n",
              "      <td>1103</td>\n",
              "      <td>3.0</td>\n",
              "      <td>0</td>\n",
              "      <td>2</td>\n",
              "      <td>3</td>\n",
              "      <td>8</td>\n",
              "      <td>1250</td>\n",
              "      <td>0</td>\n",
              "      <td>2005</td>\n",
              "      <td>0</td>\n",
              "      <td>98103</td>\n",
              "      <td>47.6619</td>\n",
              "      <td>-122.352</td>\n",
              "      <td>1250</td>\n",
              "      <td>1188</td>\n",
              "    </tr>\n",
              "  </tbody>\n",
              "</table>\n",
              "</div>"
            ],
            "text/plain": [
              "               id             date     price  bedrooms  bathrooms  \\\n",
              "0      2561340020  20140804T000000  325000.0         3       1.75   \n",
              "1      8598200070  20141208T000000  278000.0         2       2.50   \n",
              "17288  7174800760  20140725T000000  667000.0         5       2.00   \n",
              "17289  9521100280  20140612T000000  480000.0         3       2.50   \n",
              "\n",
              "       sqft_living  sqft_lot  floors  waterfront  view  condition  grade  \\\n",
              "0             1780     11096     1.0           0     0          3      7   \n",
              "1             1420      2229     2.0           0     0          3      7   \n",
              "17288         1900      5470     1.0           0     0          3      7   \n",
              "17289         1250      1103     3.0           0     2          3      8   \n",
              "\n",
              "       sqft_above  sqft_basement  yr_built  yr_renovated  zipcode      lat  \\\n",
              "0            1210            570      1979             0    98074  47.6170   \n",
              "1            1420              0      2004             0    98059  47.4871   \n",
              "17288        1180            720      1930          1965    98105  47.6666   \n",
              "17289        1250              0      2005             0    98103  47.6619   \n",
              "\n",
              "          long  sqft_living15  sqft_lot15  \n",
              "0     -122.051           1780       10640  \n",
              "1     -122.165           1500        2230  \n",
              "17288 -122.303           1300        3250  \n",
              "17289 -122.352           1250        1188  "
            ]
          },
          "metadata": {
            "tags": []
          }
        }
      ]
    },
    {
      "cell_type": "markdown",
      "metadata": {
        "id": "WG3-tL94xCzn"
      },
      "source": [
        "# Data Processing"
      ]
    },
    {
      "cell_type": "markdown",
      "metadata": {
        "id": "9jFrEhcbKmNs"
      },
      "source": [
        "## Drop unwanted features"
      ]
    },
    {
      "cell_type": "code",
      "metadata": {
        "id": "LJwYYA8-KpSV"
      },
      "source": [
        "cols_drop = ['id','date']\n",
        "df_train = df_train_raw.drop(cols_drop,axis=1)\n",
        "df_test = df_test_raw.drop(cols_drop,axis=1)"
      ],
      "execution_count": 9,
      "outputs": []
    },
    {
      "cell_type": "markdown",
      "metadata": {
        "id": "l2msFSEQLMid"
      },
      "source": [
        "# Log transform large values"
      ]
    },
    {
      "cell_type": "code",
      "metadata": {
        "id": "yFu0TvejLi2o"
      },
      "source": [
        "cols_log = ['sqft_living','sqft_living15','sqft_lot','sqft_lot15']\n",
        "\n",
        "for col in cols_log:\n",
        "    df_train[col] = np.log1p(df_train[col].to_numpy())\n",
        "    df_test[col] = np.log1p(df_test[col].to_numpy())"
      ],
      "execution_count": 10,
      "outputs": []
    },
    {
      "cell_type": "markdown",
      "metadata": {
        "id": "Qc5CiljVPDDw"
      },
      "source": [
        "## Log transform target of training data (we need to get back later)"
      ]
    },
    {
      "cell_type": "code",
      "metadata": {
        "id": "xO5_RUItPIgx"
      },
      "source": [
        "# we dont change test dataset target, only change training data\n",
        "df_train[target] = np.log1p(df_train[target])"
      ],
      "execution_count": 11,
      "outputs": []
    },
    {
      "cell_type": "markdown",
      "metadata": {
        "id": "sEy_EKmXknCX"
      },
      "source": [
        "## Create squared features"
      ]
    },
    {
      "cell_type": "code",
      "metadata": {
        "id": "geQ3uKCLkqPp"
      },
      "source": [
        "## NOTE: This gave me worse result\n",
        "## squared features is bad.\n",
        "\n",
        "\n",
        "# # squared columns\n",
        "# cols_sq = ['bedrooms','bathrooms','floors','waterfront','view']\n",
        "# cols_sq = cols_sq + cols_log\n",
        "\n",
        "# for col in cols_sq:\n",
        "#     df_train[col + '_sq'] = df_train[col]**2\n",
        "#     df_test[col + '_sq'] = df_test[col]**2"
      ],
      "execution_count": 31,
      "outputs": []
    },
    {
      "cell_type": "markdown",
      "metadata": {
        "id": "EVdNNBjxj-kD"
      },
      "source": [
        "## Feature selection"
      ]
    },
    {
      "cell_type": "code",
      "metadata": {
        "id": "KjXgF2XVj-oF",
        "outputId": "da1a7dca-32f2-43d8-84f8-21b5f6a6ce8a",
        "colab": {
          "base_uri": "https://localhost:8080/"
        }
      },
      "source": [
        "features_raw_all = list(df_train.columns.drop(target))\n",
        "\n",
        "dict_features = dict(enumerate(features_raw_all))\n",
        "print(features_raw_all)"
      ],
      "execution_count": 32,
      "outputs": [
        {
          "output_type": "stream",
          "text": [
            "['bedrooms', 'bathrooms', 'sqft_living', 'sqft_lot', 'floors', 'waterfront', 'view', 'condition', 'grade', 'sqft_above', 'sqft_basement', 'yr_built', 'yr_renovated', 'zipcode', 'lat', 'long', 'sqft_living15', 'sqft_lot15']\n"
          ],
          "name": "stdout"
        }
      ]
    },
    {
      "cell_type": "code",
      "metadata": {
        "id": "GYmkEpv6kD_0"
      },
      "source": [
        "features = features_raw_all"
      ],
      "execution_count": 14,
      "outputs": []
    },
    {
      "cell_type": "markdown",
      "metadata": {
        "id": "kB2xBUW85Kff"
      },
      "source": [
        "# Train validation split"
      ]
    },
    {
      "cell_type": "code",
      "metadata": {
        "id": "oqejbZ9S5Mwo",
        "outputId": "b1cd3617-6988-453b-97c5-dfb2d967bb53",
        "colab": {
          "base_uri": "https://localhost:8080/",
          "height": 301
        }
      },
      "source": [
        "df_Xtrain, df_Xvalid, ser_ytrain, ser_yvalid = model_selection.train_test_split(\n",
        "    df_train.drop(target,axis=1), df_train[target],\n",
        "    train_size=0.8, random_state=SEED)\n",
        "\n",
        "ytrain = ser_ytrain.to_numpy().ravel()\n",
        "yvalid = ser_yvalid.to_numpy().ravel()\n",
        "\n",
        "df_Xtest = df_test[features]\n",
        "ytest = np.array(df_test[target]).flatten()\n",
        "\n",
        "print(f\"df_train   : {df_train.shape}\\n\")\n",
        "\n",
        "print(f\"df_Xtrain  : {df_Xtrain.shape}\")\n",
        "print(f\"ser_ytrain : {ser_ytrain.shape}\\n\")\n",
        "\n",
        "print(f\"df_Xvalid  : {df_Xvalid.shape}\")\n",
        "print(f\"ser_yvalid : {ser_yvalid.shape}\\n\")\n",
        "\n",
        "print(f\"df_test    : {df_test.shape}\")\n",
        "print(f\"ser_ytest  : This does not exist.\")\n",
        "\n",
        "df_Xtrain.head(2)"
      ],
      "execution_count": 15,
      "outputs": [
        {
          "output_type": "stream",
          "text": [
            "df_train   : (17290, 19)\n",
            "\n",
            "df_Xtrain  : (13832, 18)\n",
            "ser_ytrain : (13832,)\n",
            "\n",
            "df_Xvalid  : (3458, 18)\n",
            "ser_yvalid : (3458,)\n",
            "\n",
            "df_test    : (4323, 19)\n",
            "ser_ytest  : This does not exist.\n"
          ],
          "name": "stdout"
        },
        {
          "output_type": "execute_result",
          "data": {
            "text/html": [
              "<div>\n",
              "<style scoped>\n",
              "    .dataframe tbody tr th:only-of-type {\n",
              "        vertical-align: middle;\n",
              "    }\n",
              "\n",
              "    .dataframe tbody tr th {\n",
              "        vertical-align: top;\n",
              "    }\n",
              "\n",
              "    .dataframe thead th {\n",
              "        text-align: right;\n",
              "    }\n",
              "</style>\n",
              "<table border=\"1\" class=\"dataframe\">\n",
              "  <thead>\n",
              "    <tr style=\"text-align: right;\">\n",
              "      <th></th>\n",
              "      <th>bedrooms</th>\n",
              "      <th>bathrooms</th>\n",
              "      <th>sqft_living</th>\n",
              "      <th>sqft_lot</th>\n",
              "      <th>floors</th>\n",
              "      <th>waterfront</th>\n",
              "      <th>view</th>\n",
              "      <th>condition</th>\n",
              "      <th>grade</th>\n",
              "      <th>sqft_above</th>\n",
              "      <th>sqft_basement</th>\n",
              "      <th>yr_built</th>\n",
              "      <th>yr_renovated</th>\n",
              "      <th>zipcode</th>\n",
              "      <th>lat</th>\n",
              "      <th>long</th>\n",
              "      <th>sqft_living15</th>\n",
              "      <th>sqft_lot15</th>\n",
              "    </tr>\n",
              "  </thead>\n",
              "  <tbody>\n",
              "    <tr>\n",
              "      <th>13832</th>\n",
              "      <td>5</td>\n",
              "      <td>3.0</td>\n",
              "      <td>8.243019</td>\n",
              "      <td>10.652944</td>\n",
              "      <td>1.5</td>\n",
              "      <td>0</td>\n",
              "      <td>0</td>\n",
              "      <td>4</td>\n",
              "      <td>9</td>\n",
              "      <td>3800</td>\n",
              "      <td>0</td>\n",
              "      <td>1984</td>\n",
              "      <td>0</td>\n",
              "      <td>98042</td>\n",
              "      <td>47.3488</td>\n",
              "      <td>-122.095</td>\n",
              "      <td>7.855932</td>\n",
              "      <td>10.485033</td>\n",
              "    </tr>\n",
              "    <tr>\n",
              "      <th>4184</th>\n",
              "      <td>3</td>\n",
              "      <td>2.5</td>\n",
              "      <td>7.890208</td>\n",
              "      <td>8.517393</td>\n",
              "      <td>2.0</td>\n",
              "      <td>0</td>\n",
              "      <td>3</td>\n",
              "      <td>5</td>\n",
              "      <td>9</td>\n",
              "      <td>2000</td>\n",
              "      <td>670</td>\n",
              "      <td>1942</td>\n",
              "      <td>1995</td>\n",
              "      <td>98144</td>\n",
              "      <td>47.5855</td>\n",
              "      <td>-122.292</td>\n",
              "      <td>7.749753</td>\n",
              "      <td>8.517393</td>\n",
              "    </tr>\n",
              "  </tbody>\n",
              "</table>\n",
              "</div>"
            ],
            "text/plain": [
              "       bedrooms  bathrooms  sqft_living   sqft_lot  floors  waterfront  view  \\\n",
              "13832         5        3.0     8.243019  10.652944     1.5           0     0   \n",
              "4184          3        2.5     7.890208   8.517393     2.0           0     3   \n",
              "\n",
              "       condition  grade  sqft_above  sqft_basement  yr_built  yr_renovated  \\\n",
              "13832          4      9        3800              0      1984             0   \n",
              "4184           5      9        2000            670      1942          1995   \n",
              "\n",
              "       zipcode      lat     long  sqft_living15  sqft_lot15  \n",
              "13832    98042  47.3488 -122.095       7.855932   10.485033  \n",
              "4184     98144  47.5855 -122.292       7.749753    8.517393  "
            ]
          },
          "metadata": {
            "tags": []
          },
          "execution_count": 15
        }
      ]
    },
    {
      "cell_type": "markdown",
      "metadata": {
        "id": "-IeDuE9gvpw6"
      },
      "source": [
        "## Scaling"
      ]
    },
    {
      "cell_type": "code",
      "metadata": {
        "id": "fIMFU8-HvrbU",
        "outputId": "a2705ad0-c092-45c6-c5c2-c3f044d3a21e",
        "colab": {
          "base_uri": "https://localhost:8080/",
          "height": 131
        }
      },
      "source": [
        "scaling = None # standard gave me worse result\n",
        "\n",
        "if scaling == 'standard':\n",
        "    scaler = preprocessing.StandardScaler()\n",
        "    scaler.fit(df_Xtrain)\n",
        "    df_Xtrain = pd.DataFrame(scaler.transform(df_Xtrain),columns=features)\n",
        "    df_Xvalid =  pd.DataFrame(scaler.transform(df_Xvalid),columns=features)\n",
        "    df_Xtest =  pd.DataFrame(scaler.transform(df_Xtest),columns=features)\n",
        "elif scaling == 'minmax':\n",
        "    scaler = preprocessing.MinMaxScaler()\n",
        "    scaler.fit(df_Xtrain)\n",
        "    df_Xtrain = pd.DataFrame(scaler.transform(df_Xtrain),columns=features)\n",
        "    df_Xvalid = pd.DataFrame(scaler.transform(df_Xvalid),columns=features)\n",
        "    df_Xtest =  pd.DataFrame(scaler.transform(df_Xtest),columns=features)\n",
        "\n",
        "df_Xtrain.head(2)"
      ],
      "execution_count": 16,
      "outputs": [
        {
          "output_type": "execute_result",
          "data": {
            "text/html": [
              "<div>\n",
              "<style scoped>\n",
              "    .dataframe tbody tr th:only-of-type {\n",
              "        vertical-align: middle;\n",
              "    }\n",
              "\n",
              "    .dataframe tbody tr th {\n",
              "        vertical-align: top;\n",
              "    }\n",
              "\n",
              "    .dataframe thead th {\n",
              "        text-align: right;\n",
              "    }\n",
              "</style>\n",
              "<table border=\"1\" class=\"dataframe\">\n",
              "  <thead>\n",
              "    <tr style=\"text-align: right;\">\n",
              "      <th></th>\n",
              "      <th>bedrooms</th>\n",
              "      <th>bathrooms</th>\n",
              "      <th>sqft_living</th>\n",
              "      <th>sqft_lot</th>\n",
              "      <th>floors</th>\n",
              "      <th>waterfront</th>\n",
              "      <th>view</th>\n",
              "      <th>condition</th>\n",
              "      <th>grade</th>\n",
              "      <th>sqft_above</th>\n",
              "      <th>sqft_basement</th>\n",
              "      <th>yr_built</th>\n",
              "      <th>yr_renovated</th>\n",
              "      <th>zipcode</th>\n",
              "      <th>lat</th>\n",
              "      <th>long</th>\n",
              "      <th>sqft_living15</th>\n",
              "      <th>sqft_lot15</th>\n",
              "    </tr>\n",
              "  </thead>\n",
              "  <tbody>\n",
              "    <tr>\n",
              "      <th>13832</th>\n",
              "      <td>5</td>\n",
              "      <td>3.0</td>\n",
              "      <td>8.243019</td>\n",
              "      <td>10.652944</td>\n",
              "      <td>1.5</td>\n",
              "      <td>0</td>\n",
              "      <td>0</td>\n",
              "      <td>4</td>\n",
              "      <td>9</td>\n",
              "      <td>3800</td>\n",
              "      <td>0</td>\n",
              "      <td>1984</td>\n",
              "      <td>0</td>\n",
              "      <td>98042</td>\n",
              "      <td>47.3488</td>\n",
              "      <td>-122.095</td>\n",
              "      <td>7.855932</td>\n",
              "      <td>10.485033</td>\n",
              "    </tr>\n",
              "    <tr>\n",
              "      <th>4184</th>\n",
              "      <td>3</td>\n",
              "      <td>2.5</td>\n",
              "      <td>7.890208</td>\n",
              "      <td>8.517393</td>\n",
              "      <td>2.0</td>\n",
              "      <td>0</td>\n",
              "      <td>3</td>\n",
              "      <td>5</td>\n",
              "      <td>9</td>\n",
              "      <td>2000</td>\n",
              "      <td>670</td>\n",
              "      <td>1942</td>\n",
              "      <td>1995</td>\n",
              "      <td>98144</td>\n",
              "      <td>47.5855</td>\n",
              "      <td>-122.292</td>\n",
              "      <td>7.749753</td>\n",
              "      <td>8.517393</td>\n",
              "    </tr>\n",
              "  </tbody>\n",
              "</table>\n",
              "</div>"
            ],
            "text/plain": [
              "       bedrooms  bathrooms  sqft_living   sqft_lot  floors  waterfront  view  \\\n",
              "13832         5        3.0     8.243019  10.652944     1.5           0     0   \n",
              "4184          3        2.5     7.890208   8.517393     2.0           0     3   \n",
              "\n",
              "       condition  grade  sqft_above  sqft_basement  yr_built  yr_renovated  \\\n",
              "13832          4      9        3800              0      1984             0   \n",
              "4184           5      9        2000            670      1942          1995   \n",
              "\n",
              "       zipcode      lat     long  sqft_living15  sqft_lot15  \n",
              "13832    98042  47.3488 -122.095       7.855932   10.485033  \n",
              "4184     98144  47.5855 -122.292       7.749753    8.517393  "
            ]
          },
          "metadata": {
            "tags": []
          },
          "execution_count": 16
        }
      ]
    },
    {
      "cell_type": "markdown",
      "metadata": {
        "id": "1-1msyhXNqHz"
      },
      "source": [
        "## Create lgb Dataset"
      ]
    },
    {
      "cell_type": "code",
      "metadata": {
        "id": "jax60i6pNsDY",
        "outputId": "5dcb4157-673c-458e-cb86-bd7a0b0cdd10",
        "colab": {
          "base_uri": "https://localhost:8080/",
          "height": 216
        }
      },
      "source": [
        "print(df_Xtrain.columns)\n",
        "df_Xtrain.head(2)"
      ],
      "execution_count": 17,
      "outputs": [
        {
          "output_type": "stream",
          "text": [
            "Index(['bedrooms', 'bathrooms', 'sqft_living', 'sqft_lot', 'floors',\n",
            "       'waterfront', 'view', 'condition', 'grade', 'sqft_above',\n",
            "       'sqft_basement', 'yr_built', 'yr_renovated', 'zipcode', 'lat', 'long',\n",
            "       'sqft_living15', 'sqft_lot15'],\n",
            "      dtype='object')\n"
          ],
          "name": "stdout"
        },
        {
          "output_type": "execute_result",
          "data": {
            "text/html": [
              "<div>\n",
              "<style scoped>\n",
              "    .dataframe tbody tr th:only-of-type {\n",
              "        vertical-align: middle;\n",
              "    }\n",
              "\n",
              "    .dataframe tbody tr th {\n",
              "        vertical-align: top;\n",
              "    }\n",
              "\n",
              "    .dataframe thead th {\n",
              "        text-align: right;\n",
              "    }\n",
              "</style>\n",
              "<table border=\"1\" class=\"dataframe\">\n",
              "  <thead>\n",
              "    <tr style=\"text-align: right;\">\n",
              "      <th></th>\n",
              "      <th>bedrooms</th>\n",
              "      <th>bathrooms</th>\n",
              "      <th>sqft_living</th>\n",
              "      <th>sqft_lot</th>\n",
              "      <th>floors</th>\n",
              "      <th>waterfront</th>\n",
              "      <th>view</th>\n",
              "      <th>condition</th>\n",
              "      <th>grade</th>\n",
              "      <th>sqft_above</th>\n",
              "      <th>sqft_basement</th>\n",
              "      <th>yr_built</th>\n",
              "      <th>yr_renovated</th>\n",
              "      <th>zipcode</th>\n",
              "      <th>lat</th>\n",
              "      <th>long</th>\n",
              "      <th>sqft_living15</th>\n",
              "      <th>sqft_lot15</th>\n",
              "    </tr>\n",
              "  </thead>\n",
              "  <tbody>\n",
              "    <tr>\n",
              "      <th>13832</th>\n",
              "      <td>5</td>\n",
              "      <td>3.0</td>\n",
              "      <td>8.243019</td>\n",
              "      <td>10.652944</td>\n",
              "      <td>1.5</td>\n",
              "      <td>0</td>\n",
              "      <td>0</td>\n",
              "      <td>4</td>\n",
              "      <td>9</td>\n",
              "      <td>3800</td>\n",
              "      <td>0</td>\n",
              "      <td>1984</td>\n",
              "      <td>0</td>\n",
              "      <td>98042</td>\n",
              "      <td>47.3488</td>\n",
              "      <td>-122.095</td>\n",
              "      <td>7.855932</td>\n",
              "      <td>10.485033</td>\n",
              "    </tr>\n",
              "    <tr>\n",
              "      <th>4184</th>\n",
              "      <td>3</td>\n",
              "      <td>2.5</td>\n",
              "      <td>7.890208</td>\n",
              "      <td>8.517393</td>\n",
              "      <td>2.0</td>\n",
              "      <td>0</td>\n",
              "      <td>3</td>\n",
              "      <td>5</td>\n",
              "      <td>9</td>\n",
              "      <td>2000</td>\n",
              "      <td>670</td>\n",
              "      <td>1942</td>\n",
              "      <td>1995</td>\n",
              "      <td>98144</td>\n",
              "      <td>47.5855</td>\n",
              "      <td>-122.292</td>\n",
              "      <td>7.749753</td>\n",
              "      <td>8.517393</td>\n",
              "    </tr>\n",
              "  </tbody>\n",
              "</table>\n",
              "</div>"
            ],
            "text/plain": [
              "       bedrooms  bathrooms  sqft_living   sqft_lot  floors  waterfront  view  \\\n",
              "13832         5        3.0     8.243019  10.652944     1.5           0     0   \n",
              "4184          3        2.5     7.890208   8.517393     2.0           0     3   \n",
              "\n",
              "       condition  grade  sqft_above  sqft_basement  yr_built  yr_renovated  \\\n",
              "13832          4      9        3800              0      1984             0   \n",
              "4184           5      9        2000            670      1942          1995   \n",
              "\n",
              "       zipcode      lat     long  sqft_living15  sqft_lot15  \n",
              "13832    98042  47.3488 -122.095       7.855932   10.485033  \n",
              "4184     98144  47.5855 -122.292       7.749753    8.517393  "
            ]
          },
          "metadata": {
            "tags": []
          },
          "execution_count": 17
        }
      ]
    },
    {
      "cell_type": "code",
      "metadata": {
        "id": "eXaiVQQiNsK9",
        "outputId": "5adc0978-a37c-42a1-b986-b1056fc9c98f",
        "colab": {
          "base_uri": "https://localhost:8080/"
        }
      },
      "source": [
        "cols_cat = ['bedrooms', 'bathrooms', 'floors',\n",
        "       'waterfront', 'view', 'condition', 'grade']\n",
        "\n",
        "df_train[cols_cat].apply(pd.Series.nunique)"
      ],
      "execution_count": 18,
      "outputs": [
        {
          "output_type": "execute_result",
          "data": {
            "text/plain": [
              "bedrooms      13\n",
              "bathrooms     29\n",
              "floors         6\n",
              "waterfront     2\n",
              "view           5\n",
              "condition      5\n",
              "grade         12\n",
              "dtype: int64"
            ]
          },
          "metadata": {
            "tags": []
          },
          "execution_count": 18
        }
      ]
    },
    {
      "cell_type": "code",
      "metadata": {
        "id": "8nq3Ddp8OIIn",
        "outputId": "1b9ea65a-0c1e-4fea-c070-320921efde42",
        "colab": {
          "base_uri": "https://localhost:8080/"
        }
      },
      "source": [
        "categorical_feature = cols_cat\n",
        "dtrain = lgb.Dataset(df_Xtrain,ytrain,\n",
        "                     free_raw_data=False,\n",
        "                     categorical_feature=categorical_feature\n",
        "                     ) \n",
        "\n",
        "dvalid = lgb.Dataset(df_Xvalid,yvalid,\n",
        "                     free_raw_data=False,\n",
        "                     reference=dtrain\n",
        "                     )\n",
        "type(dtrain)"
      ],
      "execution_count": 19,
      "outputs": [
        {
          "output_type": "execute_result",
          "data": {
            "text/plain": [
              "lightgbm.basic.Dataset"
            ]
          },
          "metadata": {
            "tags": []
          },
          "execution_count": 19
        }
      ]
    },
    {
      "cell_type": "markdown",
      "metadata": {
        "id": "4ZgVaQWtg7Nl"
      },
      "source": [
        "# Modelling: lightgbm (lgb api)\n",
        "- [lightgbm metrics](https://testlightgbm.readthedocs.io/en/latest/Parameters.html#metric-parameters)"
      ]
    },
    {
      "cell_type": "markdown",
      "metadata": {
        "id": "vroR6Y_m5OF5"
      },
      "source": [
        "## Baseline model"
      ]
    },
    {
      "cell_type": "code",
      "metadata": {
        "id": "JXC5q1NNHvel",
        "outputId": "01594aa4-b628-4176-ec4e-23ee84d180e3",
        "colab": {
          "base_uri": "https://localhost:8080/"
        }
      },
      "source": [
        "# params\n",
        "params = {\n",
        "    'objective'        : 'regression', # regression binary etc\n",
        "    'metric'           : ['mae','mse','rmse','mape'],\n",
        "    'num_leaves'       : 200,\n",
        "    'max_depth'        : 15,\n",
        "    'learning_rate'    : 0.01,\n",
        "    'feature_fraction' : 0.6,\n",
        "    'verbosity'        : -1\n",
        "}\n",
        "\n",
        "\n",
        "num_boost_round = 500_000\n",
        "evals_result    = {}  # similar to keras history, stores fitting history\n",
        "\n",
        "\n",
        "model_lgb = lgb.train(params,dtrain,num_boost_round,\n",
        "    valid_sets=[dtrain, dvalid],\n",
        "    valid_names=[\"train\", \"valid\"],\n",
        "    evals_result=evals_result,\n",
        "    early_stopping_rounds=50, # choose num_boost_round much larger than this\n",
        "    verbose_eval=500          # print every nth interval\n",
        ")\n",
        "\n",
        "# model evaluation\n",
        "ypreds = model_lgb.predict(df_Xtest)\n",
        "print_regr_eval(ytest,ypreds,ncols=len(features),log_back=True)"
      ],
      "execution_count": 20,
      "outputs": [
        {
          "output_type": "stream",
          "text": [
            "Training until validation scores don't improve for 50 rounds.\n"
          ],
          "name": "stdout"
        },
        {
          "output_type": "stream",
          "text": [
            "/usr/local/lib/python3.6/dist-packages/lightgbm/basic.py:1205: UserWarning: Using categorical_feature in Dataset.\n",
            "  warnings.warn('Using categorical_feature in Dataset.')\n",
            "/usr/local/lib/python3.6/dist-packages/lightgbm/basic.py:1209: UserWarning: categorical_feature in Dataset is overridden.\n",
            "New categorical_feature is ['bathrooms', 'bedrooms', 'condition', 'floors', 'grade', 'view', 'waterfront']\n",
            "  'New categorical_feature is {}'.format(sorted(list(categorical_feature))))\n",
            "/usr/local/lib/python3.6/dist-packages/lightgbm/basic.py:762: UserWarning: categorical_feature in param dict is overridden.\n",
            "  warnings.warn('categorical_feature in param dict is overridden.')\n"
          ],
          "name": "stderr"
        },
        {
          "output_type": "stream",
          "text": [
            "[500]\ttrain's rmse: 0.114881\ttrain's l2: 0.0131975\ttrain's mape: 0.00634853\ttrain's l1: 0.0822892\tvalid's rmse: 0.167371\tvalid's l2: 0.0280131\tvalid's mape: 0.00909549\tvalid's l1: 0.11854\n",
            "[1000]\ttrain's rmse: 0.0893544\ttrain's l2: 0.00798422\ttrain's mape: 0.00492827\ttrain's l1: 0.06377\tvalid's rmse: 0.164218\tvalid's l2: 0.0269677\tvalid's mape: 0.00888111\tvalid's l1: 0.115677\n",
            "Early stopping, best iteration is:\n",
            "[1045]\ttrain's rmse: 0.0877693\ttrain's l2: 0.00770345\ttrain's mape: 0.0048365\ttrain's l1: 0.0625752\tvalid's rmse: 0.164126\tvalid's l2: 0.0269375\tvalid's mape: 0.00887485\tvalid's l1: 0.115592\n",
            "ytest : [285000. 239950. 460000.]\n",
            "ypreds: [325229.13862974 225351.23785385 557709.56466719]\n",
            "           \n",
            "Explained Variance: 0.896250\n",
            "         R-Squared: 0.895164\n",
            "\n",
            "             RMSE : 118,864.00\n",
            "Adjusted R-squared: 0.894750\n",
            "\n",
            "\n"
          ],
          "name": "stdout"
        }
      ]
    },
    {
      "cell_type": "markdown",
      "metadata": {
        "id": "6MZhjdCuVCrV"
      },
      "source": [
        "## Model convergence"
      ]
    },
    {
      "cell_type": "code",
      "metadata": {
        "id": "0zV4I1iRTbvi",
        "outputId": "1116aa9d-8543-4d87-baf8-aeb69d1ecab0",
        "colab": {
          "base_uri": "https://localhost:8080/",
          "height": 173
        }
      },
      "source": [
        "pd.DataFrame(evals_result).head()"
      ],
      "execution_count": 21,
      "outputs": [
        {
          "output_type": "execute_result",
          "data": {
            "text/html": [
              "<div>\n",
              "<style scoped>\n",
              "    .dataframe tbody tr th:only-of-type {\n",
              "        vertical-align: middle;\n",
              "    }\n",
              "\n",
              "    .dataframe tbody tr th {\n",
              "        vertical-align: top;\n",
              "    }\n",
              "\n",
              "    .dataframe thead th {\n",
              "        text-align: right;\n",
              "    }\n",
              "</style>\n",
              "<table border=\"1\" class=\"dataframe\">\n",
              "  <thead>\n",
              "    <tr style=\"text-align: right;\">\n",
              "      <th></th>\n",
              "      <th>train</th>\n",
              "      <th>valid</th>\n",
              "    </tr>\n",
              "  </thead>\n",
              "  <tbody>\n",
              "    <tr>\n",
              "      <th>rmse</th>\n",
              "      <td>[0.5218880782319588, 0.5178056183579268, 0.513...</td>\n",
              "      <td>[0.5221413773134713, 0.5181144082389141, 0.514...</td>\n",
              "    </tr>\n",
              "    <tr>\n",
              "      <th>l2</th>\n",
              "      <td>[0.2723671662006472, 0.268122658403035, 0.2638...</td>\n",
              "      <td>[0.2726316179028088, 0.26844254002476015, 0.26...</td>\n",
              "    </tr>\n",
              "    <tr>\n",
              "      <th>mape</th>\n",
              "      <td>[0.031362807156483055, 0.03111190307980371, 0....</td>\n",
              "      <td>[0.031090890818884064, 0.03084514475931795, 0....</td>\n",
              "    </tr>\n",
              "    <tr>\n",
              "      <th>l1</th>\n",
              "      <td>[0.4097169239562145, 0.4064353901654512, 0.403...</td>\n",
              "      <td>[0.40761931188906214, 0.40439529429253385, 0.4...</td>\n",
              "    </tr>\n",
              "  </tbody>\n",
              "</table>\n",
              "</div>"
            ],
            "text/plain": [
              "                                                  train  \\\n",
              "rmse  [0.5218880782319588, 0.5178056183579268, 0.513...   \n",
              "l2    [0.2723671662006472, 0.268122658403035, 0.2638...   \n",
              "mape  [0.031362807156483055, 0.03111190307980371, 0....   \n",
              "l1    [0.4097169239562145, 0.4064353901654512, 0.403...   \n",
              "\n",
              "                                                  valid  \n",
              "rmse  [0.5221413773134713, 0.5181144082389141, 0.514...  \n",
              "l2    [0.2726316179028088, 0.26844254002476015, 0.26...  \n",
              "mape  [0.031090890818884064, 0.03084514475931795, 0....  \n",
              "l1    [0.40761931188906214, 0.40439529429253385, 0.4...  "
            ]
          },
          "metadata": {
            "tags": []
          },
          "execution_count": 21
        }
      ]
    },
    {
      "cell_type": "code",
      "metadata": {
        "id": "xy56qm-oUdFm",
        "outputId": "bada7846-a709-4caa-a5e3-3aa6df24e74c",
        "colab": {
          "base_uri": "https://localhost:8080/",
          "height": 301
        }
      },
      "source": [
        "ax = lgb.plot_metric(evals_result, metric='rmse')\n",
        "plt.show()"
      ],
      "execution_count": 22,
      "outputs": [
        {
          "output_type": "display_data",
          "data": {
            "image/png": "[encoded data removed]",
            "text/plain": [
              "<Figure size 432x288 with 1 Axes>"
            ]
          },
          "metadata": {
            "tags": [],
            "needs_background": "light"
          }
        }
      ]
    },
    {
      "cell_type": "code",
      "metadata": {
        "id": "fCi5Eu8gUhwq",
        "outputId": "607ef5ad-dc96-4054-fb97-5dcdb0ec1d21",
        "colab": {
          "base_uri": "https://localhost:8080/",
          "height": 301
        }
      },
      "source": [
        "ax = lgb.plot_metric(evals_result, metric='l1') # mae is l1 and mse is l2\n",
        "plt.show()"
      ],
      "execution_count": 23,
      "outputs": [
        {
          "output_type": "display_data",
          "data": {
            "image/png": "[encoded data removed]",
            "text/plain": [
              "<Figure size 432x288 with 1 Axes>"
            ]
          },
          "metadata": {
            "tags": [],
            "needs_background": "light"
          }
        }
      ]
    },
    {
      "cell_type": "markdown",
      "metadata": {
        "id": "SUP8bCe8VF3Q"
      },
      "source": [
        "## Feature Importance"
      ]
    },
    {
      "cell_type": "code",
      "metadata": {
        "id": "8FplMsISUl2P",
        "outputId": "5a618368-53a4-4d5a-c63a-19a0bf003e0c",
        "colab": {
          "base_uri": "https://localhost:8080/",
          "height": 301
        }
      },
      "source": [
        "ax = lgb.plot_importance(model_lgb, max_num_features=10)\n",
        "plt.show()"
      ],
      "execution_count": 24,
      "outputs": [
        {
          "output_type": "display_data",
          "data": {
            "image/png": "[encoded data removed]",
            "text/plain": [
              "<Figure size 432x288 with 1 Axes>"
            ]
          },
          "metadata": {
            "tags": [],
            "needs_background": "light"
          }
        }
      ]
    },
    {
      "cell_type": "markdown",
      "metadata": {
        "id": "AwEROXa_UpJz"
      },
      "source": [
        "## Cross validation"
      ]
    },
    {
      "cell_type": "code",
      "metadata": {
        "id": "P-1h7GVfciwH"
      },
      "source": [
        "# help(lgb.cv)"
      ],
      "execution_count": 25,
      "outputs": []
    },
    {
      "cell_type": "code",
      "metadata": {
        "id": "TED253hOVMAF",
        "outputId": "715e22c8-4fff-49e5-a98d-9c233fb8ee5f",
        "colab": {
          "base_uri": "https://localhost:8080/"
        }
      },
      "source": [
        "# params\n",
        "params_small = {'num_leaves':300,\n",
        "          'objective':'regression', # use binary for classification\n",
        "          'max_depth':7,\n",
        "          'learning_rate':.05,\n",
        "          'max_bin':200,\n",
        "          'min_data_in_leaf': 10,\n",
        "          'random_state': SEED,\n",
        "          'metric': ['rmse', 'mae','mape','auc']\n",
        "          }\n",
        "\n",
        "\n",
        "num_boost_round = 10_000\n",
        "n_folds = 5\n",
        "cv_results = lgb.cv(params_small, \n",
        "                    dtrain,\n",
        "                    num_boost_round=num_boost_round,\n",
        "                    nfold = n_folds,\n",
        "                    stratified=False, # needed for regression\n",
        "                    shuffle=True,\n",
        "                    early_stopping_rounds = 100, \n",
        "                    metrics = 'rmse', \n",
        "                    seed = SEED)"
      ],
      "execution_count": 26,
      "outputs": [
        {
          "output_type": "stream",
          "text": [
            "/usr/local/lib/python3.6/dist-packages/lightgbm/basic.py:1205: UserWarning: Using categorical_feature in Dataset.\n",
            "  warnings.warn('Using categorical_feature in Dataset.')\n"
          ],
          "name": "stderr"
        }
      ]
    },
    {
      "cell_type": "code",
      "metadata": {
        "id": "YtJ2Eii7VjT8",
        "outputId": "1dce4107-585d-41ea-f1f0-019c3b10ad70",
        "colab": {
          "base_uri": "https://localhost:8080/"
        }
      },
      "source": [
        "type(cv_results)"
      ],
      "execution_count": 27,
      "outputs": [
        {
          "output_type": "execute_result",
          "data": {
            "text/plain": [
              "dict"
            ]
          },
          "metadata": {
            "tags": []
          },
          "execution_count": 27
        }
      ]
    },
    {
      "cell_type": "code",
      "metadata": {
        "id": "ObdVhQIQd1WN",
        "outputId": "ad885f8b-afd8-43a7-a168-ee60f9522929",
        "colab": {
          "base_uri": "https://localhost:8080/"
        }
      },
      "source": [
        "cv_results.keys()"
      ],
      "execution_count": 28,
      "outputs": [
        {
          "output_type": "execute_result",
          "data": {
            "text/plain": [
              "dict_keys(['rmse-mean', 'rmse-stdv'])"
            ]
          },
          "metadata": {
            "tags": []
          },
          "execution_count": 28
        }
      ]
    },
    {
      "cell_type": "code",
      "metadata": {
        "id": "LgpcfbXofKkK",
        "outputId": "a3c2bcdb-2996-4ef5-eb1f-b615c426ea18",
        "colab": {
          "base_uri": "https://localhost:8080/",
          "height": 285
        }
      },
      "source": [
        "plt.plot(cv_results['rmse-mean'])"
      ],
      "execution_count": 29,
      "outputs": [
        {
          "output_type": "execute_result",
          "data": {
            "text/plain": [
              "[<matplotlib.lines.Line2D at 0x7fcfcc5169b0>]"
            ]
          },
          "metadata": {
            "tags": []
          },
          "execution_count": 29
        },
        {
          "output_type": "display_data",
          "data": {
            "image/png": "[encoded data removed]",
            "text/plain": [
              "<Figure size 432x288 with 1 Axes>"
            ]
          },
          "metadata": {
            "tags": [],
            "needs_background": "light"
          }
        }
      ]
    },
    {
      "cell_type": "markdown",
      "metadata": {
        "id": "nbI5DprefqMQ"
      },
      "source": [
        "# Time Taken"
      ]
    },
    {
      "cell_type": "code",
      "metadata": {
        "id": "OuLsE_UrmKFP",
        "outputId": "86d69fe2-dee0-409b-b273-cce39de60622",
        "colab": {
          "base_uri": "https://localhost:8080/"
        }
      },
      "source": [
        "time_taken = time.time() - time_start_notebook\n",
        "h,m = divmod(time_taken,60*60)\n",
        "print('Time taken to run whole notebook: {:.0f} hr '\\\n",
        "      '{:.0f} min {:.0f} secs'.format(h, *divmod(m,60)))"
      ],
      "execution_count": 30,
      "outputs": [
        {
          "output_type": "stream",
          "text": [
            "Time taken to run whole notebook: 0 hr 0 min 35 secs\n"
          ],
          "name": "stdout"
        }
      ]
    }
  ]
}