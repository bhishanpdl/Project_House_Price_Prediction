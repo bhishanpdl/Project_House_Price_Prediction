{
 "cells": [
  {
   "cell_type": "markdown",
   "metadata": {
    "toc": true
   },
   "source": [
    "<h1>Table of Contents<span class=\"tocSkip\"></span></h1>\n",
    "<div class=\"toc\"><ul class=\"toc-item\"><li><span><a href=\"#Introduction\" data-toc-modified-id=\"Introduction-1\"><span class=\"toc-item-num\">1&nbsp;&nbsp;</span>Introduction</a></span></li><li><span><a href=\"#Load-the-libraries\" data-toc-modified-id=\"Load-the-libraries-2\"><span class=\"toc-item-num\">2&nbsp;&nbsp;</span>Load the libraries</a></span></li><li><span><a href=\"#Load-the-libraries\" data-toc-modified-id=\"Load-the-libraries-3\"><span class=\"toc-item-num\">3&nbsp;&nbsp;</span>Load the libraries</a></span></li><li><span><a href=\"#Useful-Functions\" data-toc-modified-id=\"Useful-Functions-4\"><span class=\"toc-item-num\">4&nbsp;&nbsp;</span>Useful Functions</a></span></li><li><span><a href=\"#Parameters\" data-toc-modified-id=\"Parameters-5\"><span class=\"toc-item-num\">5&nbsp;&nbsp;</span>Parameters</a></span></li><li><span><a href=\"#Load-the-Data\" data-toc-modified-id=\"Load-the-Data-6\"><span class=\"toc-item-num\">6&nbsp;&nbsp;</span>Load the Data</a></span></li><li><span><a href=\"#Modelling-Xgboost\" data-toc-modified-id=\"Modelling-Xgboost-7\"><span class=\"toc-item-num\">7&nbsp;&nbsp;</span>Modelling Xgboost</a></span></li><li><span><a href=\"#Using-What-if-tool\" data-toc-modified-id=\"Using-What-if-tool-8\"><span class=\"toc-item-num\">8&nbsp;&nbsp;</span>Using What if tool</a></span></li></ul></div>"
   ]
  },
  {
   "cell_type": "markdown",
   "metadata": {},
   "source": [
    "<div class=\"alert alert-block alert-success\">\n",
    "<b>Kernel Author:</b>  <br>\n",
    "<a href=\"https://bhishanpdl.github.io/\" , target=\"_blank\">Bhishan Poudel,  Data Scientist, Ph.D Astrophysics</a> .\n",
    "</div>"
   ]
  },
  {
   "cell_type": "markdown",
   "metadata": {},
   "source": [
    "# Introduction\n",
    "What If Tool (WIT) is developed by Google for model explanation.\n",
    "Here, we use the tool for xgboost model interpretation."
   ]
  },
  {
   "cell_type": "markdown",
   "metadata": {},
   "source": [
    "# Load the libraries"
   ]
  },
  {
   "cell_type": "code",
   "execution_count": 1,
   "metadata": {
    "ExecuteTime": {
     "end_time": "2020-11-22T03:26:45.255992Z",
     "start_time": "2020-11-22T03:26:45.253440Z"
    }
   },
   "outputs": [],
   "source": [
    "import time\n",
    "time_start_notebook = time.time()"
   ]
  },
  {
   "cell_type": "code",
   "execution_count": 2,
   "metadata": {
    "ExecuteTime": {
     "end_time": "2020-11-22T03:26:45.263828Z",
     "start_time": "2020-11-22T03:26:45.258042Z"
    }
   },
   "outputs": [],
   "source": [
    "%%capture\n",
    "import os\n",
    "import sys\n",
    "ENV_COLAB = 'google.colab' in sys.modules\n",
    "\n",
    "if ENV_COLAB:\n",
    "    ## install modules\n",
    "    !pip install watermark\n",
    "    !pip install --upgrade witwidget\n",
    "\n",
    "    # if we update existing module, we need to restart colab\n",
    "    !pip install -U scikit-learn\n",
    "\n",
    "    ## print\n",
    "    print('Environment: Google Colaboratory.')\n",
    "TREE_METHOD = 'gpu_hist' if ENV_COLAB else 'auto'"
   ]
  },
  {
   "cell_type": "markdown",
   "metadata": {},
   "source": [
    "# Load the libraries"
   ]
  },
  {
   "cell_type": "code",
   "execution_count": 11,
   "metadata": {
    "ExecuteTime": {
     "end_time": "2020-11-22T03:27:19.605557Z",
     "start_time": "2020-11-22T03:27:19.528551Z"
    }
   },
   "outputs": [
    {
     "name": "stdout",
     "output_type": "stream",
     "text": [
      "The watermark extension is already loaded. To reload it, use:\n",
      "  %reload_ext watermark\n",
      "Bhishan Poudel 2020-11-21 \n",
      "\n",
      "CPython 3.7.9\n",
      "IPython 7.18.1\n",
      "\n",
      "compiler   : Clang 10.0.0 \n",
      "system     : Darwin\n",
      "release    : 19.6.0\n",
      "machine    : x86_64\n",
      "processor  : i386\n",
      "CPU cores  : 4\n",
      "interpreter: 64bit\n",
      "\n",
      "xgboost   1.2.0\n",
      "sklearn   0.23.2\n",
      "json      2.0.9\n",
      "watermark 2.0.2\n",
      "pandas    1.1.2\n",
      "numpy     1.18.5\n",
      "\n"
     ]
    }
   ],
   "source": [
    "import numpy as np\n",
    "import pandas as pd\n",
    "import xgboost\n",
    "import sklearn\n",
    "from sklearn import metrics as skmetrics\n",
    "\n",
    "# model eval\n",
    "import witwidget\n",
    "from witwidget.notebook.visualization import WitConfigBuilder\n",
    "from witwidget.notebook.visualization import WitWidget\n",
    "\n",
    "# random state\n",
    "SEED = 0\n",
    "RNG = np.random.RandomState(SEED)\n",
    "\n",
    "# versions\n",
    "import watermark\n",
    "%load_ext watermark\n",
    "%watermark -a \"Bhishan Poudel\" -d -v -m\n",
    "print()\n",
    "%watermark -iv"
   ]
  },
  {
   "cell_type": "markdown",
   "metadata": {},
   "source": [
    "# Useful Functions"
   ]
  },
  {
   "cell_type": "code",
   "execution_count": 4,
   "metadata": {
    "ExecuteTime": {
     "end_time": "2020-11-22T03:26:46.408447Z",
     "start_time": "2020-11-22T03:26:46.402873Z"
    }
   },
   "outputs": [],
   "source": [
    "def adjustedR2(rsquared,nrows,ncols):\n",
    "    return rsquared- (ncols-1)/(nrows-ncols) * (1-rsquared)\n",
    "\n",
    "def print_regr_eval(ytest,ypreds,ncols):\n",
    "    rmse = np.sqrt(skmetrics.mean_squared_error(ytest,ypreds))\n",
    "    r2 = skmetrics.r2_score(ytest,ypreds)\n",
    "    ar2 = adjustedR2(r2,len(ytest),ncols)\n",
    "    evs = skmetrics.explained_variance_score(ytest, ypreds)\n",
    "\n",
    "    print(f\"\"\"\n",
    "             RMSE : {rmse:,.2f}\n",
    "Explained Variance: {evs:.6f}\n",
    "         R-Squared: {r2:,.6f}\n",
    "Adjusted R-squared: {ar2:,.6f}\n",
    "\n",
    "\"\"\")"
   ]
  },
  {
   "cell_type": "markdown",
   "metadata": {},
   "source": [
    "# Parameters"
   ]
  },
  {
   "cell_type": "code",
   "execution_count": 5,
   "metadata": {
    "ExecuteTime": {
     "end_time": "2020-11-22T03:26:46.423319Z",
     "start_time": "2020-11-22T03:26:46.411043Z"
    }
   },
   "outputs": [
    {
     "name": "stdout",
     "output_type": "stream",
     "text": [
      "../data/processed/Xtest.csv.zip\n"
     ]
    }
   ],
   "source": [
    "if ENV_COLAB:\n",
    "    path_git = 'https://raw.githubusercontent.com/bhishanpdl/Datasets/master/'\n",
    "    project = 'Projects/King_County_Seattle_House_Price_Kaggle/'\n",
    "    data_path_parent = path_git + project\n",
    "else:\n",
    "    data_path_parent = '../data/'\n",
    "\n",
    "\n",
    "data_path_Xtest = data_path_parent + 'processed/Xtest.csv.zip'\n",
    "data_path_ytest = data_path_parent + 'processed/ytest.csv'\n",
    "target = 'price'\n",
    "train_size = 0.8\n",
    "\n",
    "print(data_path_Xtest)"
   ]
  },
  {
   "cell_type": "markdown",
   "metadata": {
    "ExecuteTime": {
     "end_time": "2020-09-18T12:54:40.056558Z",
     "start_time": "2020-09-18T12:54:39.963176Z"
    }
   },
   "source": [
    "# Load the Data"
   ]
  },
  {
   "cell_type": "code",
   "execution_count": 6,
   "metadata": {
    "ExecuteTime": {
     "end_time": "2020-11-22T03:26:46.587169Z",
     "start_time": "2020-11-22T03:26:46.465264Z"
    }
   },
   "outputs": [
    {
     "name": "stdout",
     "output_type": "stream",
     "text": [
      "\n",
      "df_Xtest  = (4323, 67)\n",
      "ytest     = (4323,)\n",
      "\n",
      "\n"
     ]
    },
    {
     "data": {
      "text/html": [
       "<div>\n",
       "<style scoped>\n",
       "    .dataframe tbody tr th:only-of-type {\n",
       "        vertical-align: middle;\n",
       "    }\n",
       "\n",
       "    .dataframe tbody tr th {\n",
       "        vertical-align: top;\n",
       "    }\n",
       "\n",
       "    .dataframe thead th {\n",
       "        text-align: right;\n",
       "    }\n",
       "</style>\n",
       "<table border=\"1\" class=\"dataframe\">\n",
       "  <thead>\n",
       "    <tr style=\"text-align: right;\">\n",
       "      <th></th>\n",
       "      <th>age</th>\n",
       "      <th>age_after_renovation</th>\n",
       "      <th>age_after_renovation_cat</th>\n",
       "      <th>age_after_renovation_sq</th>\n",
       "      <th>age_cat</th>\n",
       "      <th>age_sq</th>\n",
       "      <th>basement_bool</th>\n",
       "      <th>bathrooms</th>\n",
       "      <th>bathrooms_sq</th>\n",
       "      <th>bedrooms</th>\n",
       "      <th>...</th>\n",
       "      <th>view_sq</th>\n",
       "      <th>waterfront</th>\n",
       "      <th>waterfront_0</th>\n",
       "      <th>waterfront_1</th>\n",
       "      <th>waterfront_sq</th>\n",
       "      <th>yr_built</th>\n",
       "      <th>yr_renovated</th>\n",
       "      <th>yr_renovated2</th>\n",
       "      <th>yr_sales</th>\n",
       "      <th>zipcode</th>\n",
       "    </tr>\n",
       "  </thead>\n",
       "  <tbody>\n",
       "    <tr>\n",
       "      <th>0</th>\n",
       "      <td>-1.372335</td>\n",
       "      <td>-1.316486</td>\n",
       "      <td>-1.265291</td>\n",
       "      <td>-0.845091</td>\n",
       "      <td>-1.320662</td>\n",
       "      <td>-0.885667</td>\n",
       "      <td>-0.801818</td>\n",
       "      <td>0.506258</td>\n",
       "      <td>0.326221</td>\n",
       "      <td>-0.39033</td>\n",
       "      <td>...</td>\n",
       "      <td>-0.261712</td>\n",
       "      <td>-0.089698</td>\n",
       "      <td>0.089698</td>\n",
       "      <td>-0.089698</td>\n",
       "      <td>-0.089698</td>\n",
       "      <td>1.361464</td>\n",
       "      <td>-0.207992</td>\n",
       "      <td>1.305630</td>\n",
       "      <td>-0.693043</td>\n",
       "      <td>-1.422563</td>\n",
       "    </tr>\n",
       "    <tr>\n",
       "      <th>1</th>\n",
       "      <td>-0.084817</td>\n",
       "      <td>-0.005269</td>\n",
       "      <td>-0.062185</td>\n",
       "      <td>-0.285363</td>\n",
       "      <td>-0.139825</td>\n",
       "      <td>-0.348085</td>\n",
       "      <td>-0.801818</td>\n",
       "      <td>0.506258</td>\n",
       "      <td>0.326221</td>\n",
       "      <td>-0.39033</td>\n",
       "      <td>...</td>\n",
       "      <td>-0.261712</td>\n",
       "      <td>-0.089698</td>\n",
       "      <td>0.089698</td>\n",
       "      <td>-0.089698</td>\n",
       "      <td>-0.089698</td>\n",
       "      <td>0.107715</td>\n",
       "      <td>-0.207992</td>\n",
       "      <td>0.028586</td>\n",
       "      <td>1.442912</td>\n",
       "      <td>-1.441324</td>\n",
       "    </tr>\n",
       "  </tbody>\n",
       "</table>\n",
       "<p>2 rows × 67 columns</p>\n",
       "</div>"
      ],
      "text/plain": [
       "        age  age_after_renovation  age_after_renovation_cat  \\\n",
       "0 -1.372335             -1.316486                 -1.265291   \n",
       "1 -0.084817             -0.005269                 -0.062185   \n",
       "\n",
       "   age_after_renovation_sq   age_cat    age_sq  basement_bool  bathrooms  \\\n",
       "0                -0.845091 -1.320662 -0.885667      -0.801818   0.506258   \n",
       "1                -0.285363 -0.139825 -0.348085      -0.801818   0.506258   \n",
       "\n",
       "   bathrooms_sq  bedrooms  ...   view_sq  waterfront  waterfront_0  \\\n",
       "0      0.326221  -0.39033  ... -0.261712   -0.089698      0.089698   \n",
       "1      0.326221  -0.39033  ... -0.261712   -0.089698      0.089698   \n",
       "\n",
       "   waterfront_1  waterfront_sq  yr_built  yr_renovated  yr_renovated2  \\\n",
       "0     -0.089698      -0.089698  1.361464     -0.207992       1.305630   \n",
       "1     -0.089698      -0.089698  0.107715     -0.207992       0.028586   \n",
       "\n",
       "   yr_sales   zipcode  \n",
       "0 -0.693043 -1.422563  \n",
       "1  1.442912 -1.441324  \n",
       "\n",
       "[2 rows x 67 columns]"
      ]
     },
     "metadata": {},
     "output_type": "display_data"
    },
    {
     "data": {
      "text/html": [
       "<div>\n",
       "<style scoped>\n",
       "    .dataframe tbody tr th:only-of-type {\n",
       "        vertical-align: middle;\n",
       "    }\n",
       "\n",
       "    .dataframe tbody tr th {\n",
       "        vertical-align: top;\n",
       "    }\n",
       "\n",
       "    .dataframe thead th {\n",
       "        text-align: right;\n",
       "    }\n",
       "</style>\n",
       "<table border=\"1\" class=\"dataframe\">\n",
       "  <thead>\n",
       "    <tr style=\"text-align: right;\">\n",
       "      <th></th>\n",
       "      <th>0</th>\n",
       "    </tr>\n",
       "  </thead>\n",
       "  <tbody>\n",
       "    <tr>\n",
       "      <th>0</th>\n",
       "      <td>285000.0</td>\n",
       "    </tr>\n",
       "    <tr>\n",
       "      <th>1</th>\n",
       "      <td>239950.0</td>\n",
       "    </tr>\n",
       "  </tbody>\n",
       "</table>\n",
       "</div>"
      ],
      "text/plain": [
       "          0\n",
       "0  285000.0\n",
       "1  239950.0"
      ]
     },
     "metadata": {},
     "output_type": "display_data"
    }
   ],
   "source": [
    "# Here, we only need test data\n",
    "df_Xtest  = pd.read_csv(data_path_Xtest,compression='zip')\n",
    "ser_ytest = pd.read_csv(data_path_ytest,header=None)\n",
    "ytest  = np.array(ser_ytest).flatten()\n",
    "features = list(df_Xtest.columns)\n",
    "\n",
    "s = f\"\"\"\n",
    "df_Xtest  = {df_Xtest.shape}\n",
    "ytest     = {ytest.shape}\n",
    "\n",
    "\"\"\"\n",
    "print(s)\n",
    "\n",
    "display(df_Xtest.head(2))\n",
    "display(ser_ytest.head(2))\n",
    "\n",
    "assert df_Xtest.shape[0] == ytest.shape[0]"
   ]
  },
  {
   "cell_type": "markdown",
   "metadata": {},
   "source": [
    "# Modelling Xgboost"
   ]
  },
  {
   "cell_type": "code",
   "execution_count": 7,
   "metadata": {
    "ExecuteTime": {
     "end_time": "2020-11-22T03:26:46.708773Z",
     "start_time": "2020-11-22T03:26:46.590458Z"
    }
   },
   "outputs": [
    {
     "name": "stdout",
     "output_type": "stream",
     "text": [
      "ytest: [285000. 239950. 460000.]\n",
      "ypreds:  [343218.4  204292.33 508420.8 ]\n",
      "\n",
      "             RMSE : 110,471.76\n",
      "Explained Variance: 0.910365\n",
      "         R-Squared: 0.909445\n",
      "Adjusted R-squared: 0.908041\n",
      "\n",
      "\n"
     ]
    }
   ],
   "source": [
    "path_model_xgb = '../models/model_xgb_logtarget.dump'\n",
    "model = xgboost.XGBRegressor()\n",
    "model.load_model(path_model_xgb)\n",
    "\n",
    "ypreds_log1p = model.predict(df_Xtest)\n",
    "ypreds = np.expm1(ypreds_log1p)\n",
    "\n",
    "print('ytest:', ytest[:3])\n",
    "print('ypreds: ', ypreds[:3])\n",
    "print_regr_eval(ytest,ypreds,df_Xtest.shape[1])"
   ]
  },
  {
   "cell_type": "markdown",
   "metadata": {},
   "source": [
    "# Using What if tool"
   ]
  },
  {
   "cell_type": "code",
   "execution_count": 8,
   "metadata": {
    "ExecuteTime": {
     "end_time": "2020-11-22T03:26:48.892903Z",
     "start_time": "2020-11-22T03:26:46.712314Z"
    }
   },
   "outputs": [],
   "source": [
    "import witwidget\n",
    "from witwidget.notebook.visualization import WitConfigBuilder\n",
    "from witwidget.notebook.visualization import WitWidget"
   ]
  },
  {
   "cell_type": "code",
   "execution_count": 9,
   "metadata": {
    "ExecuteTime": {
     "end_time": "2020-11-22T03:26:48.917170Z",
     "start_time": "2020-11-22T03:26:48.894570Z"
    }
   },
   "outputs": [],
   "source": [
    "def custom_predict_fn(z):\n",
    "    # note: we need to use np.expm1 if we had done log1p transform if target\n",
    "    testing_data = pd.DataFrame(df_Xtest, columns=df_Xtest.columns.tolist())\n",
    "    return np.expm1(model.predict(testing_data))"
   ]
  },
  {
   "cell_type": "code",
   "execution_count": 13,
   "metadata": {
    "ExecuteTime": {
     "end_time": "2020-11-22T03:29:25.020742Z",
     "start_time": "2020-11-22T03:29:24.755159Z"
    }
   },
   "outputs": [
    {
     "data": {
      "text/html": [
       "<style>.container { width:100% !important; }</style>"
      ],
      "text/plain": [
       "<IPython.core.display.HTML object>"
      ]
     },
     "metadata": {},
     "output_type": "display_data"
    },
    {
     "data": {
      "application/vnd.jupyter.widget-view+json": {
       "model_id": "4316bd3bed6e4ba8b496b48c9ada134b",
       "version_major": 2,
       "version_minor": 0
      },
      "text/plain": [
       "WitWidget(config={'model_type': 'regression', 'label_vocab': [], 'feature_names': ['age', 'age_after_renovatio…"
      ]
     },
     "metadata": {},
     "output_type": "display_data"
    }
   ],
   "source": [
    "N = 100\n",
    "HEIGHT = 1000\n",
    "\n",
    "arr_examples = np.c_[df_Xtest.to_numpy(), ytest][:N]\n",
    "lst_examples = arr_examples.tolist()\n",
    "\n",
    "config_builder = WitConfigBuilder(lst_examples, features + [target])\n",
    "\n",
    "config_builder.set_target_feature(target)\n",
    "config_builder.set_custom_predict_fn(custom_predict_fn)\n",
    "config_builder.set_model_type('regression')\n",
    "\n",
    "WitWidget(config_builder, height=HEIGHT)"
   ]
  },
  {
   "cell_type": "code",
   "execution_count": 1,
   "metadata": {
    "ExecuteTime": {
     "end_time": "2020-11-22T03:40:39.594718Z",
     "start_time": "2020-11-22T03:40:39.444158Z"
    }
   },
   "outputs": [
    {
     "name": "stdout",
     "output_type": "stream",
     "text": [
      "images/what_if_tool_snap.png\r\n"
     ]
    }
   ],
   "source": [
    "!ls images/wh*"
   ]
  },
  {
   "cell_type": "markdown",
   "metadata": {},
   "source": [
    "![what_if_tool.png](images/what_if_tool_snap.png)"
   ]
  },
  {
   "cell_type": "code",
   "execution_count": null,
   "metadata": {},
   "outputs": [],
   "source": []
  }
 ],
 "metadata": {
  "kernelspec": {
   "display_name": "Python37(ray)",
   "language": "python",
   "name": "ray"
  },
  "language_info": {
   "codemirror_mode": {
    "name": "ipython",
    "version": 3
   },
   "file_extension": ".py",
   "mimetype": "text/x-python",
   "name": "python",
   "nbconvert_exporter": "python",
   "pygments_lexer": "ipython3",
   "version": "3.7.9"
  },
  "toc": {
   "base_numbering": 1,
   "nav_menu": {},
   "number_sections": true,
   "sideBar": true,
   "skip_h1_title": false,
   "title_cell": "Table of Contents",
   "title_sidebar": "Contents",
   "toc_cell": true,
   "toc_position": {},
   "toc_section_display": true,
   "toc_window_display": true
  },
  "varInspector": {
   "cols": {
    "lenName": 16,
    "lenType": 16,
    "lenVar": 40
   },
   "kernels_config": {
    "python": {
     "delete_cmd_postfix": "",
     "delete_cmd_prefix": "del ",
     "library": "var_list.py",
     "varRefreshCmd": "print(var_dic_list())"
    },
    "r": {
     "delete_cmd_postfix": ") ",
     "delete_cmd_prefix": "rm(",
     "library": "var_list.r",
     "varRefreshCmd": "cat(var_dic_list()) "
    }
   },
   "types_to_exclude": [
    "module",
    "function",
    "builtin_function_or_method",
    "instance",
    "_Feature"
   ],
   "window_display": false
  }
 },
 "nbformat": 4,
 "nbformat_minor": 4
}
