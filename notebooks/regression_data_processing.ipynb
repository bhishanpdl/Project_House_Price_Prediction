{
 "cells": [
  {
   "cell_type": "markdown",
   "metadata": {
    "toc": "true"
   },
   "source": [
    "<h1>Table of Contents<span class=\"tocSkip\"></span></h1>\n",
    "<div class=\"toc\"><ul class=\"toc-item\"><li><span><a href=\"#Table-of-Contents\" data-toc-modified-id=\"Table-of-Contents-1\"><span class=\"toc-item-num\">1&nbsp;&nbsp;</span>Table of Contents</a></span></li><li><span><a href=\"#Data-Description\" data-toc-modified-id=\"Data-Description-2\"><span class=\"toc-item-num\">2&nbsp;&nbsp;</span>Data Description</a></span></li><li><span><a href=\"#Imports\" data-toc-modified-id=\"Imports-3\"><span class=\"toc-item-num\">3&nbsp;&nbsp;</span>Imports</a></span></li><li><span><a href=\"#Load-the-data\" data-toc-modified-id=\"Load-the-data-4\"><span class=\"toc-item-num\">4&nbsp;&nbsp;</span>Load the data</a></span></li><li><span><a href=\"#Data-Processing-and-Feature-Engineering\" data-toc-modified-id=\"Data-Processing-and-Feature-Engineering-5\"><span class=\"toc-item-num\">5&nbsp;&nbsp;</span>Data Processing and Feature Engineering</a></span><ul class=\"toc-item\"><li><span><a href=\"#Date-time-features\" data-toc-modified-id=\"Date-time-features-5.1\"><span class=\"toc-item-num\">5.1&nbsp;&nbsp;</span>Date time features</a></span></li><li><span><a href=\"#Categorical-Features\" data-toc-modified-id=\"Categorical-Features-5.2\"><span class=\"toc-item-num\">5.2&nbsp;&nbsp;</span>Categorical Features</a></span></li><li><span><a href=\"#Boolean-data-types\" data-toc-modified-id=\"Boolean-data-types-5.3\"><span class=\"toc-item-num\">5.3&nbsp;&nbsp;</span>Boolean data types</a></span></li><li><span><a href=\"#Numerical-features-binning\" data-toc-modified-id=\"Numerical-features-binning-5.4\"><span class=\"toc-item-num\">5.4&nbsp;&nbsp;</span>Numerical features binning</a></span></li><li><span><a href=\"#Create-dummy-variables-from-object-and-categories\" data-toc-modified-id=\"Create-dummy-variables-from-object-and-categories-5.5\"><span class=\"toc-item-num\">5.5&nbsp;&nbsp;</span>Create dummy variables from object and categories</a></span></li></ul></li><li><span><a href=\"#Log-transformation-of-large-numerical-values\" data-toc-modified-id=\"Log-transformation-of-large-numerical-values-6\"><span class=\"toc-item-num\">6&nbsp;&nbsp;</span>Log transformation of large numerical values</a></span></li><li><span><a href=\"#Drop-unwanted-columns\" data-toc-modified-id=\"Drop-unwanted-columns-7\"><span class=\"toc-item-num\">7&nbsp;&nbsp;</span>Drop unwanted columns</a></span></li><li><span><a href=\"#Save-clean-data\" data-toc-modified-id=\"Save-clean-data-8\"><span class=\"toc-item-num\">8&nbsp;&nbsp;</span>Save clean data</a></span></li><li><span><a href=\"#For-Modelling\" data-toc-modified-id=\"For-Modelling-9\"><span class=\"toc-item-num\">9&nbsp;&nbsp;</span>For Modelling</a></span></li></ul></div>"
   ]
  },
  {
   "cell_type": "markdown",
   "metadata": {},
   "source": [
    "# Data Description\n",
    "\n",
    "This dataset contains house sale prices for King County, which includes Seattle.\n",
    "It includes homes sold between May 2014 and May 2015.\n",
    "\n",
    "![](../data/raw/data_description.png)"
   ]
  },
  {
   "cell_type": "markdown",
   "metadata": {},
   "source": [
    "# Imports"
   ]
  },
  {
   "cell_type": "code",
   "execution_count": 1,
   "metadata": {
    "ExecuteTime": {
     "end_time": "2019-09-28T17:15:18.955544Z",
     "start_time": "2019-09-28T17:15:18.932903Z"
    }
   },
   "outputs": [],
   "source": [
    "# my custom module\n",
    "import bhishan\n",
    "import src\n",
    "%load_ext autoreload\n",
    "%autoreload 2"
   ]
  },
  {
   "cell_type": "code",
   "execution_count": 2,
   "metadata": {
    "ExecuteTime": {
     "end_time": "2019-09-28T17:15:19.801030Z",
     "start_time": "2019-09-28T17:15:18.957699Z"
    }
   },
   "outputs": [
    {
     "name": "stdout",
     "output_type": "stream",
     "text": [
      "[('numpy', '1.16.4'), ('pandas', '0.25.0'), ('seaborn', '0.9.0'), ('matplotlib', '3.1.1')]\n"
     ]
    }
   ],
   "source": [
    "import numpy as np\n",
    "import pandas as pd\n",
    "import seaborn as sns\n",
    "sns.set(color_codes=True)\n",
    "\n",
    "import matplotlib\n",
    "import matplotlib.pyplot as plt\n",
    "%matplotlib inline\n",
    "\n",
    "import os\n",
    "import time\n",
    "\n",
    "# Jupyter notebook settings for pandas\n",
    "pd.set_option('display.max_columns', 100)\n",
    "pd.set_option('display.float_format', '{:,.2g}'.format) # numbers sep by comma\n",
    "pd.set_option('display.max_rows', 100) # None for all the rows\n",
    "pd.set_option('display.max_colwidth', 100)\n",
    "\n",
    "import IPython\n",
    "from IPython.display import display\n",
    "\n",
    "print([(x.__name__,x.__version__) for x in [np, pd,sns,matplotlib]])"
   ]
  },
  {
   "cell_type": "markdown",
   "metadata": {},
   "source": [
    "# Load the data"
   ]
  },
  {
   "cell_type": "code",
   "execution_count": 3,
   "metadata": {
    "ExecuteTime": {
     "end_time": "2019-09-28T17:15:19.882237Z",
     "start_time": "2019-09-28T17:15:19.802691Z"
    }
   },
   "outputs": [
    {
     "name": "stdout",
     "output_type": "stream",
     "text": [
      "(21613, 21)\n"
     ]
    },
    {
     "data": {
      "text/html": [
       "<div>\n",
       "<style scoped>\n",
       "    .dataframe tbody tr th:only-of-type {\n",
       "        vertical-align: middle;\n",
       "    }\n",
       "\n",
       "    .dataframe tbody tr th {\n",
       "        vertical-align: top;\n",
       "    }\n",
       "\n",
       "    .dataframe thead th {\n",
       "        text-align: right;\n",
       "    }\n",
       "</style>\n",
       "<table border=\"1\" class=\"dataframe\">\n",
       "  <thead>\n",
       "    <tr style=\"text-align: right;\">\n",
       "      <th></th>\n",
       "      <th>0</th>\n",
       "      <th>1</th>\n",
       "      <th>2</th>\n",
       "      <th>3</th>\n",
       "      <th>4</th>\n",
       "    </tr>\n",
       "  </thead>\n",
       "  <tbody>\n",
       "    <tr>\n",
       "      <th>id</th>\n",
       "      <td>7129300520</td>\n",
       "      <td>6414100192</td>\n",
       "      <td>5631500400</td>\n",
       "      <td>2487200875</td>\n",
       "      <td>1954400510</td>\n",
       "    </tr>\n",
       "    <tr>\n",
       "      <th>date</th>\n",
       "      <td>20141013T000000</td>\n",
       "      <td>20141209T000000</td>\n",
       "      <td>20150225T000000</td>\n",
       "      <td>20141209T000000</td>\n",
       "      <td>20150218T000000</td>\n",
       "    </tr>\n",
       "    <tr>\n",
       "      <th>price</th>\n",
       "      <td>2.2e+05</td>\n",
       "      <td>5.4e+05</td>\n",
       "      <td>1.8e+05</td>\n",
       "      <td>6e+05</td>\n",
       "      <td>5.1e+05</td>\n",
       "    </tr>\n",
       "    <tr>\n",
       "      <th>bedrooms</th>\n",
       "      <td>3</td>\n",
       "      <td>3</td>\n",
       "      <td>2</td>\n",
       "      <td>4</td>\n",
       "      <td>3</td>\n",
       "    </tr>\n",
       "    <tr>\n",
       "      <th>bathrooms</th>\n",
       "      <td>1</td>\n",
       "      <td>2.2</td>\n",
       "      <td>1</td>\n",
       "      <td>3</td>\n",
       "      <td>2</td>\n",
       "    </tr>\n",
       "    <tr>\n",
       "      <th>sqft_living</th>\n",
       "      <td>1180</td>\n",
       "      <td>2570</td>\n",
       "      <td>770</td>\n",
       "      <td>1960</td>\n",
       "      <td>1680</td>\n",
       "    </tr>\n",
       "    <tr>\n",
       "      <th>sqft_lot</th>\n",
       "      <td>5650</td>\n",
       "      <td>7242</td>\n",
       "      <td>10000</td>\n",
       "      <td>5000</td>\n",
       "      <td>8080</td>\n",
       "    </tr>\n",
       "    <tr>\n",
       "      <th>floors</th>\n",
       "      <td>1</td>\n",
       "      <td>2</td>\n",
       "      <td>1</td>\n",
       "      <td>1</td>\n",
       "      <td>1</td>\n",
       "    </tr>\n",
       "    <tr>\n",
       "      <th>waterfront</th>\n",
       "      <td>0</td>\n",
       "      <td>0</td>\n",
       "      <td>0</td>\n",
       "      <td>0</td>\n",
       "      <td>0</td>\n",
       "    </tr>\n",
       "    <tr>\n",
       "      <th>view</th>\n",
       "      <td>0</td>\n",
       "      <td>0</td>\n",
       "      <td>0</td>\n",
       "      <td>0</td>\n",
       "      <td>0</td>\n",
       "    </tr>\n",
       "    <tr>\n",
       "      <th>condition</th>\n",
       "      <td>3</td>\n",
       "      <td>3</td>\n",
       "      <td>3</td>\n",
       "      <td>5</td>\n",
       "      <td>3</td>\n",
       "    </tr>\n",
       "    <tr>\n",
       "      <th>grade</th>\n",
       "      <td>7</td>\n",
       "      <td>7</td>\n",
       "      <td>6</td>\n",
       "      <td>7</td>\n",
       "      <td>8</td>\n",
       "    </tr>\n",
       "    <tr>\n",
       "      <th>sqft_above</th>\n",
       "      <td>1180</td>\n",
       "      <td>2170</td>\n",
       "      <td>770</td>\n",
       "      <td>1050</td>\n",
       "      <td>1680</td>\n",
       "    </tr>\n",
       "    <tr>\n",
       "      <th>sqft_basement</th>\n",
       "      <td>0</td>\n",
       "      <td>400</td>\n",
       "      <td>0</td>\n",
       "      <td>910</td>\n",
       "      <td>0</td>\n",
       "    </tr>\n",
       "    <tr>\n",
       "      <th>yr_built</th>\n",
       "      <td>1955</td>\n",
       "      <td>1951</td>\n",
       "      <td>1933</td>\n",
       "      <td>1965</td>\n",
       "      <td>1987</td>\n",
       "    </tr>\n",
       "    <tr>\n",
       "      <th>yr_renovated</th>\n",
       "      <td>0</td>\n",
       "      <td>1991</td>\n",
       "      <td>0</td>\n",
       "      <td>0</td>\n",
       "      <td>0</td>\n",
       "    </tr>\n",
       "    <tr>\n",
       "      <th>zipcode</th>\n",
       "      <td>98178</td>\n",
       "      <td>98125</td>\n",
       "      <td>98028</td>\n",
       "      <td>98136</td>\n",
       "      <td>98074</td>\n",
       "    </tr>\n",
       "    <tr>\n",
       "      <th>lat</th>\n",
       "      <td>48</td>\n",
       "      <td>48</td>\n",
       "      <td>48</td>\n",
       "      <td>48</td>\n",
       "      <td>48</td>\n",
       "    </tr>\n",
       "    <tr>\n",
       "      <th>long</th>\n",
       "      <td>-1.2e+02</td>\n",
       "      <td>-1.2e+02</td>\n",
       "      <td>-1.2e+02</td>\n",
       "      <td>-1.2e+02</td>\n",
       "      <td>-1.2e+02</td>\n",
       "    </tr>\n",
       "    <tr>\n",
       "      <th>sqft_living15</th>\n",
       "      <td>1340</td>\n",
       "      <td>1690</td>\n",
       "      <td>2720</td>\n",
       "      <td>1360</td>\n",
       "      <td>1800</td>\n",
       "    </tr>\n",
       "    <tr>\n",
       "      <th>sqft_lot15</th>\n",
       "      <td>5650</td>\n",
       "      <td>7639</td>\n",
       "      <td>8062</td>\n",
       "      <td>5000</td>\n",
       "      <td>7503</td>\n",
       "    </tr>\n",
       "  </tbody>\n",
       "</table>\n",
       "</div>"
      ],
      "text/plain": [
       "                             0                1                2  \\\n",
       "id                  7129300520       6414100192       5631500400   \n",
       "date           20141013T000000  20141209T000000  20150225T000000   \n",
       "price                  2.2e+05          5.4e+05          1.8e+05   \n",
       "bedrooms                     3                3                2   \n",
       "bathrooms                    1              2.2                1   \n",
       "sqft_living               1180             2570              770   \n",
       "sqft_lot                  5650             7242            10000   \n",
       "floors                       1                2                1   \n",
       "waterfront                   0                0                0   \n",
       "view                         0                0                0   \n",
       "condition                    3                3                3   \n",
       "grade                        7                7                6   \n",
       "sqft_above                1180             2170              770   \n",
       "sqft_basement                0              400                0   \n",
       "yr_built                  1955             1951             1933   \n",
       "yr_renovated                 0             1991                0   \n",
       "zipcode                  98178            98125            98028   \n",
       "lat                         48               48               48   \n",
       "long                  -1.2e+02         -1.2e+02         -1.2e+02   \n",
       "sqft_living15             1340             1690             2720   \n",
       "sqft_lot15                5650             7639             8062   \n",
       "\n",
       "                             3                4  \n",
       "id                  2487200875       1954400510  \n",
       "date           20141209T000000  20150218T000000  \n",
       "price                    6e+05          5.1e+05  \n",
       "bedrooms                     4                3  \n",
       "bathrooms                    3                2  \n",
       "sqft_living               1960             1680  \n",
       "sqft_lot                  5000             8080  \n",
       "floors                       1                1  \n",
       "waterfront                   0                0  \n",
       "view                         0                0  \n",
       "condition                    5                3  \n",
       "grade                        7                8  \n",
       "sqft_above                1050             1680  \n",
       "sqft_basement              910                0  \n",
       "yr_built                  1965             1987  \n",
       "yr_renovated                 0                0  \n",
       "zipcode                  98136            98074  \n",
       "lat                         48               48  \n",
       "long                  -1.2e+02         -1.2e+02  \n",
       "sqft_living15             1360             1800  \n",
       "sqft_lot15                5000             7503  "
      ]
     },
     "execution_count": 3,
     "metadata": {},
     "output_type": "execute_result"
    }
   ],
   "source": [
    "df = pd.read_csv('../data/raw/kc_house_data.csv')\n",
    "print(df.shape)\n",
    "df.head().T"
   ]
  },
  {
   "cell_type": "markdown",
   "metadata": {},
   "source": [
    "# Data Processing and Feature Engineering"
   ]
  },
  {
   "cell_type": "code",
   "execution_count": 4,
   "metadata": {
    "ExecuteTime": {
     "end_time": "2019-09-28T17:15:19.913663Z",
     "start_time": "2019-09-28T17:15:19.884807Z"
    }
   },
   "outputs": [],
   "source": [
    "from bhishan.util_ds import get_column_descriptions"
   ]
  },
  {
   "cell_type": "code",
   "execution_count": 5,
   "metadata": {
    "ExecuteTime": {
     "end_time": "2019-09-28T17:15:20.245115Z",
     "start_time": "2019-09-28T17:15:19.915328Z"
    }
   },
   "outputs": [
    {
     "data": {
      "text/html": [
       "<style  type=\"text/css\" >\n",
       "    #T_8c959490_e213_11e9_b0b0_acde48001122row20_col0 {\n",
       "            background:  coral;\n",
       "        }    #T_8c959490_e213_11e9_b0b0_acde48001122row20_col1 {\n",
       "            background:  coral;\n",
       "        }    #T_8c959490_e213_11e9_b0b0_acde48001122row20_col2 {\n",
       "            background:  coral;\n",
       "        }    #T_8c959490_e213_11e9_b0b0_acde48001122row20_col3 {\n",
       "            background:  coral;\n",
       "        }    #T_8c959490_e213_11e9_b0b0_acde48001122row20_col4 {\n",
       "            background:  coral;\n",
       "        }</style><table id=\"T_8c959490_e213_11e9_b0b0_acde48001122\" ><caption>Dataframe Description</caption><thead>    <tr>        <th class=\"blank level0\" ></th>        <th class=\"col_heading level0 col0\" >column</th>        <th class=\"col_heading level0 col1\" >dtype</th>        <th class=\"col_heading level0 col2\" >nans</th>        <th class=\"col_heading level0 col3\" >nunique</th>        <th class=\"col_heading level0 col4\" >nzeros</th>    </tr></thead><tbody>\n",
       "                <tr>\n",
       "                        <th id=\"T_8c959490_e213_11e9_b0b0_acde48001122level0_row0\" class=\"row_heading level0 row0\" >0</th>\n",
       "                        <td id=\"T_8c959490_e213_11e9_b0b0_acde48001122row0_col0\" class=\"data row0 col0\" >id</td>\n",
       "                        <td id=\"T_8c959490_e213_11e9_b0b0_acde48001122row0_col1\" class=\"data row0 col1\" >int64</td>\n",
       "                        <td id=\"T_8c959490_e213_11e9_b0b0_acde48001122row0_col2\" class=\"data row0 col2\" >0</td>\n",
       "                        <td id=\"T_8c959490_e213_11e9_b0b0_acde48001122row0_col3\" class=\"data row0 col3\" >21436</td>\n",
       "                        <td id=\"T_8c959490_e213_11e9_b0b0_acde48001122row0_col4\" class=\"data row0 col4\" >0</td>\n",
       "            </tr>\n",
       "            <tr>\n",
       "                        <th id=\"T_8c959490_e213_11e9_b0b0_acde48001122level0_row1\" class=\"row_heading level0 row1\" >1</th>\n",
       "                        <td id=\"T_8c959490_e213_11e9_b0b0_acde48001122row1_col0\" class=\"data row1 col0\" >bedrooms</td>\n",
       "                        <td id=\"T_8c959490_e213_11e9_b0b0_acde48001122row1_col1\" class=\"data row1 col1\" >int64</td>\n",
       "                        <td id=\"T_8c959490_e213_11e9_b0b0_acde48001122row1_col2\" class=\"data row1 col2\" >0</td>\n",
       "                        <td id=\"T_8c959490_e213_11e9_b0b0_acde48001122row1_col3\" class=\"data row1 col3\" >13</td>\n",
       "                        <td id=\"T_8c959490_e213_11e9_b0b0_acde48001122row1_col4\" class=\"data row1 col4\" >13</td>\n",
       "            </tr>\n",
       "            <tr>\n",
       "                        <th id=\"T_8c959490_e213_11e9_b0b0_acde48001122level0_row2\" class=\"row_heading level0 row2\" >2</th>\n",
       "                        <td id=\"T_8c959490_e213_11e9_b0b0_acde48001122row2_col0\" class=\"data row2 col0\" >sqft_living</td>\n",
       "                        <td id=\"T_8c959490_e213_11e9_b0b0_acde48001122row2_col1\" class=\"data row2 col1\" >int64</td>\n",
       "                        <td id=\"T_8c959490_e213_11e9_b0b0_acde48001122row2_col2\" class=\"data row2 col2\" >0</td>\n",
       "                        <td id=\"T_8c959490_e213_11e9_b0b0_acde48001122row2_col3\" class=\"data row2 col3\" >1038</td>\n",
       "                        <td id=\"T_8c959490_e213_11e9_b0b0_acde48001122row2_col4\" class=\"data row2 col4\" >0</td>\n",
       "            </tr>\n",
       "            <tr>\n",
       "                        <th id=\"T_8c959490_e213_11e9_b0b0_acde48001122level0_row3\" class=\"row_heading level0 row3\" >3</th>\n",
       "                        <td id=\"T_8c959490_e213_11e9_b0b0_acde48001122row3_col0\" class=\"data row3 col0\" >sqft_lot</td>\n",
       "                        <td id=\"T_8c959490_e213_11e9_b0b0_acde48001122row3_col1\" class=\"data row3 col1\" >int64</td>\n",
       "                        <td id=\"T_8c959490_e213_11e9_b0b0_acde48001122row3_col2\" class=\"data row3 col2\" >0</td>\n",
       "                        <td id=\"T_8c959490_e213_11e9_b0b0_acde48001122row3_col3\" class=\"data row3 col3\" >9782</td>\n",
       "                        <td id=\"T_8c959490_e213_11e9_b0b0_acde48001122row3_col4\" class=\"data row3 col4\" >0</td>\n",
       "            </tr>\n",
       "            <tr>\n",
       "                        <th id=\"T_8c959490_e213_11e9_b0b0_acde48001122level0_row4\" class=\"row_heading level0 row4\" >4</th>\n",
       "                        <td id=\"T_8c959490_e213_11e9_b0b0_acde48001122row4_col0\" class=\"data row4 col0\" >waterfront</td>\n",
       "                        <td id=\"T_8c959490_e213_11e9_b0b0_acde48001122row4_col1\" class=\"data row4 col1\" >int64</td>\n",
       "                        <td id=\"T_8c959490_e213_11e9_b0b0_acde48001122row4_col2\" class=\"data row4 col2\" >0</td>\n",
       "                        <td id=\"T_8c959490_e213_11e9_b0b0_acde48001122row4_col3\" class=\"data row4 col3\" >2</td>\n",
       "                        <td id=\"T_8c959490_e213_11e9_b0b0_acde48001122row4_col4\" class=\"data row4 col4\" >21450</td>\n",
       "            </tr>\n",
       "            <tr>\n",
       "                        <th id=\"T_8c959490_e213_11e9_b0b0_acde48001122level0_row5\" class=\"row_heading level0 row5\" >5</th>\n",
       "                        <td id=\"T_8c959490_e213_11e9_b0b0_acde48001122row5_col0\" class=\"data row5 col0\" >view</td>\n",
       "                        <td id=\"T_8c959490_e213_11e9_b0b0_acde48001122row5_col1\" class=\"data row5 col1\" >int64</td>\n",
       "                        <td id=\"T_8c959490_e213_11e9_b0b0_acde48001122row5_col2\" class=\"data row5 col2\" >0</td>\n",
       "                        <td id=\"T_8c959490_e213_11e9_b0b0_acde48001122row5_col3\" class=\"data row5 col3\" >5</td>\n",
       "                        <td id=\"T_8c959490_e213_11e9_b0b0_acde48001122row5_col4\" class=\"data row5 col4\" >19489</td>\n",
       "            </tr>\n",
       "            <tr>\n",
       "                        <th id=\"T_8c959490_e213_11e9_b0b0_acde48001122level0_row6\" class=\"row_heading level0 row6\" >6</th>\n",
       "                        <td id=\"T_8c959490_e213_11e9_b0b0_acde48001122row6_col0\" class=\"data row6 col0\" >condition</td>\n",
       "                        <td id=\"T_8c959490_e213_11e9_b0b0_acde48001122row6_col1\" class=\"data row6 col1\" >int64</td>\n",
       "                        <td id=\"T_8c959490_e213_11e9_b0b0_acde48001122row6_col2\" class=\"data row6 col2\" >0</td>\n",
       "                        <td id=\"T_8c959490_e213_11e9_b0b0_acde48001122row6_col3\" class=\"data row6 col3\" >5</td>\n",
       "                        <td id=\"T_8c959490_e213_11e9_b0b0_acde48001122row6_col4\" class=\"data row6 col4\" >0</td>\n",
       "            </tr>\n",
       "            <tr>\n",
       "                        <th id=\"T_8c959490_e213_11e9_b0b0_acde48001122level0_row7\" class=\"row_heading level0 row7\" >7</th>\n",
       "                        <td id=\"T_8c959490_e213_11e9_b0b0_acde48001122row7_col0\" class=\"data row7 col0\" >grade</td>\n",
       "                        <td id=\"T_8c959490_e213_11e9_b0b0_acde48001122row7_col1\" class=\"data row7 col1\" >int64</td>\n",
       "                        <td id=\"T_8c959490_e213_11e9_b0b0_acde48001122row7_col2\" class=\"data row7 col2\" >0</td>\n",
       "                        <td id=\"T_8c959490_e213_11e9_b0b0_acde48001122row7_col3\" class=\"data row7 col3\" >12</td>\n",
       "                        <td id=\"T_8c959490_e213_11e9_b0b0_acde48001122row7_col4\" class=\"data row7 col4\" >0</td>\n",
       "            </tr>\n",
       "            <tr>\n",
       "                        <th id=\"T_8c959490_e213_11e9_b0b0_acde48001122level0_row8\" class=\"row_heading level0 row8\" >8</th>\n",
       "                        <td id=\"T_8c959490_e213_11e9_b0b0_acde48001122row8_col0\" class=\"data row8 col0\" >sqft_above</td>\n",
       "                        <td id=\"T_8c959490_e213_11e9_b0b0_acde48001122row8_col1\" class=\"data row8 col1\" >int64</td>\n",
       "                        <td id=\"T_8c959490_e213_11e9_b0b0_acde48001122row8_col2\" class=\"data row8 col2\" >0</td>\n",
       "                        <td id=\"T_8c959490_e213_11e9_b0b0_acde48001122row8_col3\" class=\"data row8 col3\" >946</td>\n",
       "                        <td id=\"T_8c959490_e213_11e9_b0b0_acde48001122row8_col4\" class=\"data row8 col4\" >0</td>\n",
       "            </tr>\n",
       "            <tr>\n",
       "                        <th id=\"T_8c959490_e213_11e9_b0b0_acde48001122level0_row9\" class=\"row_heading level0 row9\" >9</th>\n",
       "                        <td id=\"T_8c959490_e213_11e9_b0b0_acde48001122row9_col0\" class=\"data row9 col0\" >sqft_basement</td>\n",
       "                        <td id=\"T_8c959490_e213_11e9_b0b0_acde48001122row9_col1\" class=\"data row9 col1\" >int64</td>\n",
       "                        <td id=\"T_8c959490_e213_11e9_b0b0_acde48001122row9_col2\" class=\"data row9 col2\" >0</td>\n",
       "                        <td id=\"T_8c959490_e213_11e9_b0b0_acde48001122row9_col3\" class=\"data row9 col3\" >306</td>\n",
       "                        <td id=\"T_8c959490_e213_11e9_b0b0_acde48001122row9_col4\" class=\"data row9 col4\" >13126</td>\n",
       "            </tr>\n",
       "            <tr>\n",
       "                        <th id=\"T_8c959490_e213_11e9_b0b0_acde48001122level0_row10\" class=\"row_heading level0 row10\" >10</th>\n",
       "                        <td id=\"T_8c959490_e213_11e9_b0b0_acde48001122row10_col0\" class=\"data row10 col0\" >yr_built</td>\n",
       "                        <td id=\"T_8c959490_e213_11e9_b0b0_acde48001122row10_col1\" class=\"data row10 col1\" >int64</td>\n",
       "                        <td id=\"T_8c959490_e213_11e9_b0b0_acde48001122row10_col2\" class=\"data row10 col2\" >0</td>\n",
       "                        <td id=\"T_8c959490_e213_11e9_b0b0_acde48001122row10_col3\" class=\"data row10 col3\" >116</td>\n",
       "                        <td id=\"T_8c959490_e213_11e9_b0b0_acde48001122row10_col4\" class=\"data row10 col4\" >0</td>\n",
       "            </tr>\n",
       "            <tr>\n",
       "                        <th id=\"T_8c959490_e213_11e9_b0b0_acde48001122level0_row11\" class=\"row_heading level0 row11\" >11</th>\n",
       "                        <td id=\"T_8c959490_e213_11e9_b0b0_acde48001122row11_col0\" class=\"data row11 col0\" >yr_renovated</td>\n",
       "                        <td id=\"T_8c959490_e213_11e9_b0b0_acde48001122row11_col1\" class=\"data row11 col1\" >int64</td>\n",
       "                        <td id=\"T_8c959490_e213_11e9_b0b0_acde48001122row11_col2\" class=\"data row11 col2\" >0</td>\n",
       "                        <td id=\"T_8c959490_e213_11e9_b0b0_acde48001122row11_col3\" class=\"data row11 col3\" >70</td>\n",
       "                        <td id=\"T_8c959490_e213_11e9_b0b0_acde48001122row11_col4\" class=\"data row11 col4\" >20699</td>\n",
       "            </tr>\n",
       "            <tr>\n",
       "                        <th id=\"T_8c959490_e213_11e9_b0b0_acde48001122level0_row12\" class=\"row_heading level0 row12\" >12</th>\n",
       "                        <td id=\"T_8c959490_e213_11e9_b0b0_acde48001122row12_col0\" class=\"data row12 col0\" >zipcode</td>\n",
       "                        <td id=\"T_8c959490_e213_11e9_b0b0_acde48001122row12_col1\" class=\"data row12 col1\" >int64</td>\n",
       "                        <td id=\"T_8c959490_e213_11e9_b0b0_acde48001122row12_col2\" class=\"data row12 col2\" >0</td>\n",
       "                        <td id=\"T_8c959490_e213_11e9_b0b0_acde48001122row12_col3\" class=\"data row12 col3\" >70</td>\n",
       "                        <td id=\"T_8c959490_e213_11e9_b0b0_acde48001122row12_col4\" class=\"data row12 col4\" >0</td>\n",
       "            </tr>\n",
       "            <tr>\n",
       "                        <th id=\"T_8c959490_e213_11e9_b0b0_acde48001122level0_row13\" class=\"row_heading level0 row13\" >13</th>\n",
       "                        <td id=\"T_8c959490_e213_11e9_b0b0_acde48001122row13_col0\" class=\"data row13 col0\" >sqft_living15</td>\n",
       "                        <td id=\"T_8c959490_e213_11e9_b0b0_acde48001122row13_col1\" class=\"data row13 col1\" >int64</td>\n",
       "                        <td id=\"T_8c959490_e213_11e9_b0b0_acde48001122row13_col2\" class=\"data row13 col2\" >0</td>\n",
       "                        <td id=\"T_8c959490_e213_11e9_b0b0_acde48001122row13_col3\" class=\"data row13 col3\" >777</td>\n",
       "                        <td id=\"T_8c959490_e213_11e9_b0b0_acde48001122row13_col4\" class=\"data row13 col4\" >0</td>\n",
       "            </tr>\n",
       "            <tr>\n",
       "                        <th id=\"T_8c959490_e213_11e9_b0b0_acde48001122level0_row14\" class=\"row_heading level0 row14\" >14</th>\n",
       "                        <td id=\"T_8c959490_e213_11e9_b0b0_acde48001122row14_col0\" class=\"data row14 col0\" >sqft_lot15</td>\n",
       "                        <td id=\"T_8c959490_e213_11e9_b0b0_acde48001122row14_col1\" class=\"data row14 col1\" >int64</td>\n",
       "                        <td id=\"T_8c959490_e213_11e9_b0b0_acde48001122row14_col2\" class=\"data row14 col2\" >0</td>\n",
       "                        <td id=\"T_8c959490_e213_11e9_b0b0_acde48001122row14_col3\" class=\"data row14 col3\" >8689</td>\n",
       "                        <td id=\"T_8c959490_e213_11e9_b0b0_acde48001122row14_col4\" class=\"data row14 col4\" >0</td>\n",
       "            </tr>\n",
       "            <tr>\n",
       "                        <th id=\"T_8c959490_e213_11e9_b0b0_acde48001122level0_row15\" class=\"row_heading level0 row15\" >15</th>\n",
       "                        <td id=\"T_8c959490_e213_11e9_b0b0_acde48001122row15_col0\" class=\"data row15 col0\" >price</td>\n",
       "                        <td id=\"T_8c959490_e213_11e9_b0b0_acde48001122row15_col1\" class=\"data row15 col1\" >float64</td>\n",
       "                        <td id=\"T_8c959490_e213_11e9_b0b0_acde48001122row15_col2\" class=\"data row15 col2\" >0</td>\n",
       "                        <td id=\"T_8c959490_e213_11e9_b0b0_acde48001122row15_col3\" class=\"data row15 col3\" >4028</td>\n",
       "                        <td id=\"T_8c959490_e213_11e9_b0b0_acde48001122row15_col4\" class=\"data row15 col4\" >0</td>\n",
       "            </tr>\n",
       "            <tr>\n",
       "                        <th id=\"T_8c959490_e213_11e9_b0b0_acde48001122level0_row16\" class=\"row_heading level0 row16\" >16</th>\n",
       "                        <td id=\"T_8c959490_e213_11e9_b0b0_acde48001122row16_col0\" class=\"data row16 col0\" >bathrooms</td>\n",
       "                        <td id=\"T_8c959490_e213_11e9_b0b0_acde48001122row16_col1\" class=\"data row16 col1\" >float64</td>\n",
       "                        <td id=\"T_8c959490_e213_11e9_b0b0_acde48001122row16_col2\" class=\"data row16 col2\" >0</td>\n",
       "                        <td id=\"T_8c959490_e213_11e9_b0b0_acde48001122row16_col3\" class=\"data row16 col3\" >30</td>\n",
       "                        <td id=\"T_8c959490_e213_11e9_b0b0_acde48001122row16_col4\" class=\"data row16 col4\" >10</td>\n",
       "            </tr>\n",
       "            <tr>\n",
       "                        <th id=\"T_8c959490_e213_11e9_b0b0_acde48001122level0_row17\" class=\"row_heading level0 row17\" >17</th>\n",
       "                        <td id=\"T_8c959490_e213_11e9_b0b0_acde48001122row17_col0\" class=\"data row17 col0\" >floors</td>\n",
       "                        <td id=\"T_8c959490_e213_11e9_b0b0_acde48001122row17_col1\" class=\"data row17 col1\" >float64</td>\n",
       "                        <td id=\"T_8c959490_e213_11e9_b0b0_acde48001122row17_col2\" class=\"data row17 col2\" >0</td>\n",
       "                        <td id=\"T_8c959490_e213_11e9_b0b0_acde48001122row17_col3\" class=\"data row17 col3\" >6</td>\n",
       "                        <td id=\"T_8c959490_e213_11e9_b0b0_acde48001122row17_col4\" class=\"data row17 col4\" >0</td>\n",
       "            </tr>\n",
       "            <tr>\n",
       "                        <th id=\"T_8c959490_e213_11e9_b0b0_acde48001122level0_row18\" class=\"row_heading level0 row18\" >18</th>\n",
       "                        <td id=\"T_8c959490_e213_11e9_b0b0_acde48001122row18_col0\" class=\"data row18 col0\" >lat</td>\n",
       "                        <td id=\"T_8c959490_e213_11e9_b0b0_acde48001122row18_col1\" class=\"data row18 col1\" >float64</td>\n",
       "                        <td id=\"T_8c959490_e213_11e9_b0b0_acde48001122row18_col2\" class=\"data row18 col2\" >0</td>\n",
       "                        <td id=\"T_8c959490_e213_11e9_b0b0_acde48001122row18_col3\" class=\"data row18 col3\" >5034</td>\n",
       "                        <td id=\"T_8c959490_e213_11e9_b0b0_acde48001122row18_col4\" class=\"data row18 col4\" >0</td>\n",
       "            </tr>\n",
       "            <tr>\n",
       "                        <th id=\"T_8c959490_e213_11e9_b0b0_acde48001122level0_row19\" class=\"row_heading level0 row19\" >19</th>\n",
       "                        <td id=\"T_8c959490_e213_11e9_b0b0_acde48001122row19_col0\" class=\"data row19 col0\" >long</td>\n",
       "                        <td id=\"T_8c959490_e213_11e9_b0b0_acde48001122row19_col1\" class=\"data row19 col1\" >float64</td>\n",
       "                        <td id=\"T_8c959490_e213_11e9_b0b0_acde48001122row19_col2\" class=\"data row19 col2\" >0</td>\n",
       "                        <td id=\"T_8c959490_e213_11e9_b0b0_acde48001122row19_col3\" class=\"data row19 col3\" >752</td>\n",
       "                        <td id=\"T_8c959490_e213_11e9_b0b0_acde48001122row19_col4\" class=\"data row19 col4\" >0</td>\n",
       "            </tr>\n",
       "            <tr>\n",
       "                        <th id=\"T_8c959490_e213_11e9_b0b0_acde48001122level0_row20\" class=\"row_heading level0 row20\" >20</th>\n",
       "                        <td id=\"T_8c959490_e213_11e9_b0b0_acde48001122row20_col0\" class=\"data row20 col0\" >date</td>\n",
       "                        <td id=\"T_8c959490_e213_11e9_b0b0_acde48001122row20_col1\" class=\"data row20 col1\" >object</td>\n",
       "                        <td id=\"T_8c959490_e213_11e9_b0b0_acde48001122row20_col2\" class=\"data row20 col2\" >0</td>\n",
       "                        <td id=\"T_8c959490_e213_11e9_b0b0_acde48001122row20_col3\" class=\"data row20 col3\" >372</td>\n",
       "                        <td id=\"T_8c959490_e213_11e9_b0b0_acde48001122row20_col4\" class=\"data row20 col4\" >0</td>\n",
       "            </tr>\n",
       "    </tbody></table>"
      ],
      "text/plain": [
       "<pandas.io.formats.style.Styler at 0x10ab909e8>"
      ]
     },
     "execution_count": 5,
     "metadata": {},
     "output_type": "execute_result"
    }
   ],
   "source": [
    "get_column_descriptions(df)"
   ]
  },
  {
   "cell_type": "markdown",
   "metadata": {},
   "source": [
    "## Date time features"
   ]
  },
  {
   "cell_type": "code",
   "execution_count": 6,
   "metadata": {
    "ExecuteTime": {
     "end_time": "2019-09-28T17:15:20.281113Z",
     "start_time": "2019-09-28T17:15:20.246830Z"
    }
   },
   "outputs": [
    {
     "data": {
      "text/plain": [
       "0   2014-10-13\n",
       "1   2014-12-09\n",
       "Name: date, dtype: datetime64[ns]"
      ]
     },
     "execution_count": 6,
     "metadata": {},
     "output_type": "execute_result"
    }
   ],
   "source": [
    "df['date'] = pd.to_datetime(df['date'])\n",
    "df['date'].head(2)"
   ]
  },
  {
   "cell_type": "code",
   "execution_count": 7,
   "metadata": {
    "ExecuteTime": {
     "end_time": "2019-09-28T17:15:20.329753Z",
     "start_time": "2019-09-28T17:15:20.283256Z"
    }
   },
   "outputs": [
    {
     "data": {
      "text/html": [
       "<div>\n",
       "<style scoped>\n",
       "    .dataframe tbody tr th:only-of-type {\n",
       "        vertical-align: middle;\n",
       "    }\n",
       "\n",
       "    .dataframe tbody tr th {\n",
       "        vertical-align: top;\n",
       "    }\n",
       "\n",
       "    .dataframe thead th {\n",
       "        text-align: right;\n",
       "    }\n",
       "</style>\n",
       "<table border=\"1\" class=\"dataframe\">\n",
       "  <thead>\n",
       "    <tr style=\"text-align: right;\">\n",
       "      <th></th>\n",
       "      <th>id</th>\n",
       "      <th>date</th>\n",
       "      <th>price</th>\n",
       "      <th>bedrooms</th>\n",
       "      <th>bathrooms</th>\n",
       "      <th>sqft_living</th>\n",
       "      <th>sqft_lot</th>\n",
       "      <th>floors</th>\n",
       "      <th>waterfront</th>\n",
       "      <th>view</th>\n",
       "      <th>condition</th>\n",
       "      <th>grade</th>\n",
       "      <th>sqft_above</th>\n",
       "      <th>sqft_basement</th>\n",
       "      <th>yr_built</th>\n",
       "      <th>yr_renovated</th>\n",
       "      <th>zipcode</th>\n",
       "      <th>lat</th>\n",
       "      <th>long</th>\n",
       "      <th>sqft_living15</th>\n",
       "      <th>sqft_lot15</th>\n",
       "      <th>yr_sales</th>\n",
       "    </tr>\n",
       "  </thead>\n",
       "  <tbody>\n",
       "    <tr>\n",
       "      <th>0</th>\n",
       "      <td>7129300520</td>\n",
       "      <td>2014-10-13</td>\n",
       "      <td>2.2e+05</td>\n",
       "      <td>3</td>\n",
       "      <td>1</td>\n",
       "      <td>1180</td>\n",
       "      <td>5650</td>\n",
       "      <td>1</td>\n",
       "      <td>0</td>\n",
       "      <td>0</td>\n",
       "      <td>3</td>\n",
       "      <td>7</td>\n",
       "      <td>1180</td>\n",
       "      <td>0</td>\n",
       "      <td>1955</td>\n",
       "      <td>0</td>\n",
       "      <td>98178</td>\n",
       "      <td>48</td>\n",
       "      <td>-1.2e+02</td>\n",
       "      <td>1340</td>\n",
       "      <td>5650</td>\n",
       "      <td>2014</td>\n",
       "    </tr>\n",
       "    <tr>\n",
       "      <th>1</th>\n",
       "      <td>6414100192</td>\n",
       "      <td>2014-12-09</td>\n",
       "      <td>5.4e+05</td>\n",
       "      <td>3</td>\n",
       "      <td>2.2</td>\n",
       "      <td>2570</td>\n",
       "      <td>7242</td>\n",
       "      <td>2</td>\n",
       "      <td>0</td>\n",
       "      <td>0</td>\n",
       "      <td>3</td>\n",
       "      <td>7</td>\n",
       "      <td>2170</td>\n",
       "      <td>400</td>\n",
       "      <td>1951</td>\n",
       "      <td>1991</td>\n",
       "      <td>98125</td>\n",
       "      <td>48</td>\n",
       "      <td>-1.2e+02</td>\n",
       "      <td>1690</td>\n",
       "      <td>7639</td>\n",
       "      <td>2014</td>\n",
       "    </tr>\n",
       "  </tbody>\n",
       "</table>\n",
       "</div>"
      ],
      "text/plain": [
       "           id       date   price  bedrooms  bathrooms  sqft_living  sqft_lot  \\\n",
       "0  7129300520 2014-10-13 2.2e+05         3          1         1180      5650   \n",
       "1  6414100192 2014-12-09 5.4e+05         3        2.2         2570      7242   \n",
       "\n",
       "   floors  waterfront  view  condition  grade  sqft_above  sqft_basement  \\\n",
       "0       1           0     0          3      7        1180              0   \n",
       "1       2           0     0          3      7        2170            400   \n",
       "\n",
       "   yr_built  yr_renovated  zipcode  lat     long  sqft_living15  sqft_lot15  \\\n",
       "0      1955             0    98178   48 -1.2e+02           1340        5650   \n",
       "1      1951          1991    98125   48 -1.2e+02           1690        7639   \n",
       "\n",
       "   yr_sales  \n",
       "0      2014  \n",
       "1      2014  "
      ]
     },
     "execution_count": 7,
     "metadata": {},
     "output_type": "execute_result"
    }
   ],
   "source": [
    "df['yr_sales'] = df['date'].dt.year\n",
    "df.head(2)"
   ]
  },
  {
   "cell_type": "code",
   "execution_count": 8,
   "metadata": {
    "ExecuteTime": {
     "end_time": "2019-09-28T17:15:20.377023Z",
     "start_time": "2019-09-28T17:15:20.331268Z"
    }
   },
   "outputs": [
    {
     "data": {
      "text/html": [
       "<div>\n",
       "<style scoped>\n",
       "    .dataframe tbody tr th:only-of-type {\n",
       "        vertical-align: middle;\n",
       "    }\n",
       "\n",
       "    .dataframe tbody tr th {\n",
       "        vertical-align: top;\n",
       "    }\n",
       "\n",
       "    .dataframe thead th {\n",
       "        text-align: right;\n",
       "    }\n",
       "</style>\n",
       "<table border=\"1\" class=\"dataframe\">\n",
       "  <thead>\n",
       "    <tr style=\"text-align: right;\">\n",
       "      <th></th>\n",
       "      <th>yr_sales</th>\n",
       "      <th>yr_built</th>\n",
       "      <th>age</th>\n",
       "    </tr>\n",
       "  </thead>\n",
       "  <tbody>\n",
       "    <tr>\n",
       "      <th>0</th>\n",
       "      <td>2014</td>\n",
       "      <td>1955</td>\n",
       "      <td>59</td>\n",
       "    </tr>\n",
       "    <tr>\n",
       "      <th>1</th>\n",
       "      <td>2014</td>\n",
       "      <td>1951</td>\n",
       "      <td>63</td>\n",
       "    </tr>\n",
       "  </tbody>\n",
       "</table>\n",
       "</div>"
      ],
      "text/plain": [
       "   yr_sales  yr_built  age\n",
       "0      2014      1955   59\n",
       "1      2014      1951   63"
      ]
     },
     "execution_count": 8,
     "metadata": {},
     "output_type": "execute_result"
    }
   ],
   "source": [
    "df['age'] = df['yr_sales'] - df['yr_built']\n",
    "df[['yr_sales','yr_built','age']].head(2)"
   ]
  },
  {
   "cell_type": "code",
   "execution_count": 9,
   "metadata": {
    "ExecuteTime": {
     "end_time": "2019-09-28T17:15:20.422173Z",
     "start_time": "2019-09-28T17:15:20.378639Z"
    }
   },
   "outputs": [
    {
     "data": {
      "text/html": [
       "<div>\n",
       "<style scoped>\n",
       "    .dataframe tbody tr th:only-of-type {\n",
       "        vertical-align: middle;\n",
       "    }\n",
       "\n",
       "    .dataframe tbody tr th {\n",
       "        vertical-align: top;\n",
       "    }\n",
       "\n",
       "    .dataframe thead th {\n",
       "        text-align: right;\n",
       "    }\n",
       "</style>\n",
       "<table border=\"1\" class=\"dataframe\">\n",
       "  <thead>\n",
       "    <tr style=\"text-align: right;\">\n",
       "      <th></th>\n",
       "      <th>yr_built</th>\n",
       "      <th>yr_renovated</th>\n",
       "      <th>yr_sales</th>\n",
       "      <th>yr_renovated2</th>\n",
       "    </tr>\n",
       "  </thead>\n",
       "  <tbody>\n",
       "    <tr>\n",
       "      <th>0</th>\n",
       "      <td>1955</td>\n",
       "      <td>0</td>\n",
       "      <td>2014</td>\n",
       "      <td>1955</td>\n",
       "    </tr>\n",
       "    <tr>\n",
       "      <th>1</th>\n",
       "      <td>1951</td>\n",
       "      <td>1991</td>\n",
       "      <td>2014</td>\n",
       "      <td>1991</td>\n",
       "    </tr>\n",
       "  </tbody>\n",
       "</table>\n",
       "</div>"
      ],
      "text/plain": [
       "   yr_built  yr_renovated  yr_sales  yr_renovated2\n",
       "0      1955             0      2014           1955\n",
       "1      1951          1991      2014           1991"
      ]
     },
     "execution_count": 9,
     "metadata": {},
     "output_type": "execute_result"
    }
   ],
   "source": [
    "df['yr_renovated2'] = np.where(df['yr_renovated'].eq(0), df['yr_built'], df['yr_renovated'])\n",
    "df.filter(regex='yr',axis=1).head(2)"
   ]
  },
  {
   "cell_type": "code",
   "execution_count": 10,
   "metadata": {
    "ExecuteTime": {
     "end_time": "2019-09-28T17:15:20.457180Z",
     "start_time": "2019-09-28T17:15:20.424502Z"
    }
   },
   "outputs": [
    {
     "data": {
      "text/html": [
       "<div>\n",
       "<style scoped>\n",
       "    .dataframe tbody tr th:only-of-type {\n",
       "        vertical-align: middle;\n",
       "    }\n",
       "\n",
       "    .dataframe tbody tr th {\n",
       "        vertical-align: top;\n",
       "    }\n",
       "\n",
       "    .dataframe thead th {\n",
       "        text-align: right;\n",
       "    }\n",
       "</style>\n",
       "<table border=\"1\" class=\"dataframe\">\n",
       "  <thead>\n",
       "    <tr style=\"text-align: right;\">\n",
       "      <th></th>\n",
       "      <th>yr_built</th>\n",
       "      <th>yr_renovated</th>\n",
       "      <th>yr_sales</th>\n",
       "      <th>yr_renovated2</th>\n",
       "    </tr>\n",
       "  </thead>\n",
       "  <tbody>\n",
       "    <tr>\n",
       "      <th>1</th>\n",
       "      <td>1951</td>\n",
       "      <td>1991</td>\n",
       "      <td>2014</td>\n",
       "      <td>1991</td>\n",
       "    </tr>\n",
       "    <tr>\n",
       "      <th>35</th>\n",
       "      <td>1930</td>\n",
       "      <td>2002</td>\n",
       "      <td>2014</td>\n",
       "      <td>2002</td>\n",
       "    </tr>\n",
       "  </tbody>\n",
       "</table>\n",
       "</div>"
      ],
      "text/plain": [
       "    yr_built  yr_renovated  yr_sales  yr_renovated2\n",
       "1       1951          1991      2014           1991\n",
       "35      1930          2002      2014           2002"
      ]
     },
     "execution_count": 10,
     "metadata": {},
     "output_type": "execute_result"
    }
   ],
   "source": [
    "df.filter(regex='yr_*',axis=1).loc[lambda x: x['yr_renovated'] !=0].head(2)"
   ]
  },
  {
   "cell_type": "code",
   "execution_count": 11,
   "metadata": {
    "ExecuteTime": {
     "end_time": "2019-09-28T17:15:20.500530Z",
     "start_time": "2019-09-28T17:15:20.458897Z"
    }
   },
   "outputs": [
    {
     "data": {
      "text/html": [
       "<div>\n",
       "<style scoped>\n",
       "    .dataframe tbody tr th:only-of-type {\n",
       "        vertical-align: middle;\n",
       "    }\n",
       "\n",
       "    .dataframe tbody tr th {\n",
       "        vertical-align: top;\n",
       "    }\n",
       "\n",
       "    .dataframe thead th {\n",
       "        text-align: right;\n",
       "    }\n",
       "</style>\n",
       "<table border=\"1\" class=\"dataframe\">\n",
       "  <thead>\n",
       "    <tr style=\"text-align: right;\">\n",
       "      <th></th>\n",
       "      <th>yr_built</th>\n",
       "      <th>yr_renovated</th>\n",
       "      <th>yr_sales</th>\n",
       "      <th>age</th>\n",
       "      <th>yr_renovated2</th>\n",
       "      <th>age_after_renovation</th>\n",
       "    </tr>\n",
       "  </thead>\n",
       "  <tbody>\n",
       "    <tr>\n",
       "      <th>0</th>\n",
       "      <td>1955</td>\n",
       "      <td>0</td>\n",
       "      <td>2014</td>\n",
       "      <td>59</td>\n",
       "      <td>1955</td>\n",
       "      <td>59</td>\n",
       "    </tr>\n",
       "    <tr>\n",
       "      <th>1</th>\n",
       "      <td>1951</td>\n",
       "      <td>1991</td>\n",
       "      <td>2014</td>\n",
       "      <td>63</td>\n",
       "      <td>1991</td>\n",
       "      <td>23</td>\n",
       "    </tr>\n",
       "  </tbody>\n",
       "</table>\n",
       "</div>"
      ],
      "text/plain": [
       "   yr_built  yr_renovated  yr_sales  age  yr_renovated2  age_after_renovation\n",
       "0      1955             0      2014   59           1955                    59\n",
       "1      1951          1991      2014   63           1991                    23"
      ]
     },
     "execution_count": 11,
     "metadata": {},
     "output_type": "execute_result"
    }
   ],
   "source": [
    "df['age_after_renovation'] = df['yr_sales'] - df['yr_renovated2']\n",
    "df.filter(regex='yr|age',axis=1).head(2)"
   ]
  },
  {
   "cell_type": "code",
   "execution_count": 12,
   "metadata": {
    "ExecuteTime": {
     "end_time": "2019-09-28T17:15:20.536113Z",
     "start_time": "2019-09-28T17:15:20.502312Z"
    }
   },
   "outputs": [
    {
     "data": {
      "text/html": [
       "<div>\n",
       "<style scoped>\n",
       "    .dataframe tbody tr th:only-of-type {\n",
       "        vertical-align: middle;\n",
       "    }\n",
       "\n",
       "    .dataframe tbody tr th {\n",
       "        vertical-align: top;\n",
       "    }\n",
       "\n",
       "    .dataframe thead th {\n",
       "        text-align: right;\n",
       "    }\n",
       "</style>\n",
       "<table border=\"1\" class=\"dataframe\">\n",
       "  <thead>\n",
       "    <tr style=\"text-align: right;\">\n",
       "      <th></th>\n",
       "      <th>yr_built</th>\n",
       "      <th>yr_renovated</th>\n",
       "      <th>yr_sales</th>\n",
       "      <th>age</th>\n",
       "      <th>yr_renovated2</th>\n",
       "      <th>age_after_renovation</th>\n",
       "    </tr>\n",
       "  </thead>\n",
       "  <tbody>\n",
       "    <tr>\n",
       "      <th>1</th>\n",
       "      <td>1951</td>\n",
       "      <td>1991</td>\n",
       "      <td>2014</td>\n",
       "      <td>63</td>\n",
       "      <td>1991</td>\n",
       "      <td>23</td>\n",
       "    </tr>\n",
       "    <tr>\n",
       "      <th>35</th>\n",
       "      <td>1930</td>\n",
       "      <td>2002</td>\n",
       "      <td>2014</td>\n",
       "      <td>84</td>\n",
       "      <td>2002</td>\n",
       "      <td>12</td>\n",
       "    </tr>\n",
       "  </tbody>\n",
       "</table>\n",
       "</div>"
      ],
      "text/plain": [
       "    yr_built  yr_renovated  yr_sales  age  yr_renovated2  age_after_renovation\n",
       "1       1951          1991      2014   63           1991                    23\n",
       "35      1930          2002      2014   84           2002                    12"
      ]
     },
     "execution_count": 12,
     "metadata": {},
     "output_type": "execute_result"
    }
   ],
   "source": [
    "df.filter(regex='yr|age',axis=1).loc[lambda x: x['yr_renovated'] !=0].head(2)"
   ]
  },
  {
   "cell_type": "markdown",
   "metadata": {},
   "source": [
    "## Categorical Features\n",
    "Ref: https://pandas.pydata.org/pandas-docs/stable/user_guide/categorical.html"
   ]
  },
  {
   "cell_type": "code",
   "execution_count": 13,
   "metadata": {
    "ExecuteTime": {
     "end_time": "2019-09-28T17:15:20.589168Z",
     "start_time": "2019-09-28T17:15:20.538033Z"
    }
   },
   "outputs": [
    {
     "data": {
      "text/html": [
       "<div>\n",
       "<style scoped>\n",
       "    .dataframe tbody tr th:only-of-type {\n",
       "        vertical-align: middle;\n",
       "    }\n",
       "\n",
       "    .dataframe tbody tr th {\n",
       "        vertical-align: top;\n",
       "    }\n",
       "\n",
       "    .dataframe thead th {\n",
       "        text-align: right;\n",
       "    }\n",
       "</style>\n",
       "<table border=\"1\" class=\"dataframe\">\n",
       "  <thead>\n",
       "    <tr style=\"text-align: right;\">\n",
       "      <th></th>\n",
       "      <th>id</th>\n",
       "      <th>date</th>\n",
       "      <th>price</th>\n",
       "      <th>bedrooms</th>\n",
       "      <th>bathrooms</th>\n",
       "      <th>sqft_living</th>\n",
       "      <th>sqft_lot</th>\n",
       "      <th>floors</th>\n",
       "      <th>waterfront</th>\n",
       "      <th>view</th>\n",
       "      <th>condition</th>\n",
       "      <th>grade</th>\n",
       "      <th>sqft_above</th>\n",
       "      <th>sqft_basement</th>\n",
       "      <th>yr_built</th>\n",
       "      <th>yr_renovated</th>\n",
       "      <th>zipcode</th>\n",
       "      <th>lat</th>\n",
       "      <th>long</th>\n",
       "      <th>sqft_living15</th>\n",
       "      <th>sqft_lot15</th>\n",
       "      <th>yr_sales</th>\n",
       "      <th>age</th>\n",
       "      <th>yr_renovated2</th>\n",
       "      <th>age_after_renovation</th>\n",
       "    </tr>\n",
       "  </thead>\n",
       "  <tbody>\n",
       "    <tr>\n",
       "      <th>0</th>\n",
       "      <td>7129300520</td>\n",
       "      <td>2014-10-13 00:00:00</td>\n",
       "      <td>2.2e+05</td>\n",
       "      <td>3</td>\n",
       "      <td>1</td>\n",
       "      <td>1180</td>\n",
       "      <td>5650</td>\n",
       "      <td>1</td>\n",
       "      <td>0</td>\n",
       "      <td>0</td>\n",
       "      <td>3</td>\n",
       "      <td>7</td>\n",
       "      <td>1180</td>\n",
       "      <td>0</td>\n",
       "      <td>1955</td>\n",
       "      <td>0</td>\n",
       "      <td>98178</td>\n",
       "      <td>48</td>\n",
       "      <td>-1.2e+02</td>\n",
       "      <td>1340</td>\n",
       "      <td>5650</td>\n",
       "      <td>2014</td>\n",
       "      <td>59</td>\n",
       "      <td>1955</td>\n",
       "      <td>59</td>\n",
       "    </tr>\n",
       "    <tr>\n",
       "      <th>1</th>\n",
       "      <td>int64</td>\n",
       "      <td>datetime64[ns]</td>\n",
       "      <td>float64</td>\n",
       "      <td>int64</td>\n",
       "      <td>float64</td>\n",
       "      <td>int64</td>\n",
       "      <td>int64</td>\n",
       "      <td>float64</td>\n",
       "      <td>int64</td>\n",
       "      <td>int64</td>\n",
       "      <td>int64</td>\n",
       "      <td>int64</td>\n",
       "      <td>int64</td>\n",
       "      <td>int64</td>\n",
       "      <td>int64</td>\n",
       "      <td>int64</td>\n",
       "      <td>int64</td>\n",
       "      <td>float64</td>\n",
       "      <td>float64</td>\n",
       "      <td>int64</td>\n",
       "      <td>int64</td>\n",
       "      <td>int64</td>\n",
       "      <td>int64</td>\n",
       "      <td>int64</td>\n",
       "      <td>int64</td>\n",
       "    </tr>\n",
       "  </tbody>\n",
       "</table>\n",
       "</div>"
      ],
      "text/plain": [
       "           id                 date    price bedrooms bathrooms sqft_living  \\\n",
       "0  7129300520  2014-10-13 00:00:00  2.2e+05        3         1        1180   \n",
       "1       int64       datetime64[ns]  float64    int64   float64       int64   \n",
       "\n",
       "  sqft_lot   floors waterfront   view condition  grade sqft_above  \\\n",
       "0     5650        1          0      0         3      7       1180   \n",
       "1    int64  float64      int64  int64     int64  int64      int64   \n",
       "\n",
       "  sqft_basement yr_built yr_renovated zipcode      lat     long sqft_living15  \\\n",
       "0             0     1955            0   98178       48 -1.2e+02          1340   \n",
       "1         int64    int64        int64   int64  float64  float64         int64   \n",
       "\n",
       "  sqft_lot15 yr_sales    age yr_renovated2 age_after_renovation  \n",
       "0       5650     2014     59          1955                   59  \n",
       "1      int64    int64  int64         int64                int64  "
      ]
     },
     "execution_count": 13,
     "metadata": {},
     "output_type": "execute_result"
    }
   ],
   "source": [
    "df.head(1).append(df.dtypes,ignore_index=True)"
   ]
  },
  {
   "cell_type": "code",
   "execution_count": 14,
   "metadata": {
    "ExecuteTime": {
     "end_time": "2019-09-28T17:15:20.684012Z",
     "start_time": "2019-09-28T17:15:20.591464Z"
    }
   },
   "outputs": [],
   "source": [
    "cols_str = ['waterfront', 'view', 'condition', 'grade','zipcode']\n",
    "for c in cols_str:\n",
    "    df[c] = df[c].astype(str)"
   ]
  },
  {
   "cell_type": "code",
   "execution_count": 15,
   "metadata": {
    "ExecuteTime": {
     "end_time": "2019-09-28T17:15:20.726702Z",
     "start_time": "2019-09-28T17:15:20.687022Z"
    }
   },
   "outputs": [
    {
     "data": {
      "text/plain": [
       "Index(['waterfront', 'view', 'condition', 'grade', 'zipcode'], dtype='object')"
      ]
     },
     "execution_count": 15,
     "metadata": {},
     "output_type": "execute_result"
    }
   ],
   "source": [
    "cols_obj = df.select_dtypes(['object','category']).columns\n",
    "cols_obj"
   ]
  },
  {
   "cell_type": "code",
   "execution_count": 16,
   "metadata": {
    "ExecuteTime": {
     "end_time": "2019-09-28T17:15:20.772862Z",
     "start_time": "2019-09-28T17:15:20.728854Z"
    }
   },
   "outputs": [
    {
     "data": {
      "text/plain": [
       "waterfront     2\n",
       "view           5\n",
       "condition      5\n",
       "grade         12\n",
       "zipcode       70\n",
       "dtype: int64"
      ]
     },
     "execution_count": 16,
     "metadata": {},
     "output_type": "execute_result"
    }
   ],
   "source": [
    "df.select_dtypes(['object','category']).apply(pd.Series.nunique)"
   ]
  },
  {
   "cell_type": "code",
   "execution_count": 17,
   "metadata": {
    "ExecuteTime": {
     "end_time": "2019-09-28T17:15:20.819413Z",
     "start_time": "2019-09-28T17:15:20.775019Z"
    }
   },
   "outputs": [
    {
     "name": "stdout",
     "output_type": "stream",
     "text": [
      "\n",
      "=========================================\n",
      "waterfront\n",
      "0    21450\n",
      "1      163\n",
      "Name: waterfront, dtype: int64\n",
      "\n",
      "=========================================\n",
      "view\n",
      "0    19489\n",
      "2      963\n",
      "3      510\n",
      "1      332\n",
      "4      319\n",
      "Name: view, dtype: int64\n",
      "\n",
      "=========================================\n",
      "condition\n",
      "3    14031\n",
      "4     5679\n",
      "5     1701\n",
      "2      172\n",
      "1       30\n",
      "Name: condition, dtype: int64\n",
      "\n",
      "=========================================\n",
      "grade\n",
      "7     8981\n",
      "8     6068\n",
      "9     2615\n",
      "6     2038\n",
      "10    1134\n",
      "11     399\n",
      "5      242\n",
      "12      90\n",
      "4       29\n",
      "13      13\n",
      "3        3\n",
      "1        1\n",
      "Name: grade, dtype: int64\n"
     ]
    }
   ],
   "source": [
    "cols_obj_small = ['waterfront', 'view', 'condition', 'grade']\n",
    "\n",
    "for c in cols_obj_small:\n",
    "    print('\\n=========================================')\n",
    "    print(c) \n",
    "    print(df[c].value_counts())"
   ]
  },
  {
   "cell_type": "code",
   "execution_count": 18,
   "metadata": {
    "ExecuteTime": {
     "end_time": "2019-09-28T17:15:20.867513Z",
     "start_time": "2019-09-28T17:15:20.821520Z"
    }
   },
   "outputs": [
    {
     "data": {
      "text/html": [
       "<div>\n",
       "<style scoped>\n",
       "    .dataframe tbody tr th:only-of-type {\n",
       "        vertical-align: middle;\n",
       "    }\n",
       "\n",
       "    .dataframe tbody tr th {\n",
       "        vertical-align: top;\n",
       "    }\n",
       "\n",
       "    .dataframe thead th {\n",
       "        text-align: right;\n",
       "    }\n",
       "</style>\n",
       "<table border=\"1\" class=\"dataframe\">\n",
       "  <thead>\n",
       "    <tr style=\"text-align: right;\">\n",
       "      <th></th>\n",
       "      <th>0</th>\n",
       "    </tr>\n",
       "  </thead>\n",
       "  <tbody>\n",
       "    <tr>\n",
       "      <th>waterfront</th>\n",
       "      <td>['0', '1']</td>\n",
       "    </tr>\n",
       "    <tr>\n",
       "      <th>view</th>\n",
       "      <td>['0', '3', '4', '2', '1']</td>\n",
       "    </tr>\n",
       "    <tr>\n",
       "      <th>condition</th>\n",
       "      <td>['3', '5', '4', '1', '2']</td>\n",
       "    </tr>\n",
       "    <tr>\n",
       "      <th>grade</th>\n",
       "      <td>['7', '6', '8', '11', '9', '5', '10', '12', '4', '3', '13', '1']</td>\n",
       "    </tr>\n",
       "    <tr>\n",
       "      <th>zipcode</th>\n",
       "      <td>['98178', '98125', '98028', '98136', '98074', '98053', '98003', '98198', '98146', '98038', '98007', '98115', '98107', '98126', '98019', '98103', '98002', '98133', '98040', '98092', '98030', '98119', '98112', '98052', '98027', '98117', '98058', '98001', '98056', '98166', '98023', '98070', '98148', '98105', '98042', '98008', '98059', '98122', '98144', '98004', '98005', '98034', '98075', '98116', '98010', '98118', '98199', '98032', '98045', '98102', '98077', '98108', '98168', '98177', '98065', ...</td>\n",
       "    </tr>\n",
       "  </tbody>\n",
       "</table>\n",
       "</div>"
      ],
      "text/plain": [
       "                                                                                                                                                                                                                                                                                                                                                                                                                                                                                                                              0\n",
       "waterfront                                                                                                                                                                                                                                                                                                                                                                                                                                                                                                           ['0', '1']\n",
       "view                                                                                                                                                                                                                                                                                                                                                                                                                                                                                                  ['0', '3', '4', '2', '1']\n",
       "condition                                                                                                                                                                                                                                                                                                                                                                                                                                                                                             ['3', '5', '4', '1', '2']\n",
       "grade                                                                                                                                                                                                                                                                                                                                                                                                                                                          ['7', '6', '8', '11', '9', '5', '10', '12', '4', '3', '13', '1']\n",
       "zipcode     ['98178', '98125', '98028', '98136', '98074', '98053', '98003', '98198', '98146', '98038', '98007', '98115', '98107', '98126', '98019', '98103', '98002', '98133', '98040', '98092', '98030', '98119', '98112', '98052', '98027', '98117', '98058', '98001', '98056', '98166', '98023', '98070', '98148', '98105', '98042', '98008', '98059', '98122', '98144', '98004', '98005', '98034', '98075', '98116', '98010', '98118', '98199', '98032', '98045', '98102', '98077', '98108', '98168', '98177', '98065', ..."
      ]
     },
     "metadata": {},
     "output_type": "display_data"
    }
   ],
   "source": [
    "with pd.option_context('display.max_colwidth', 500):\n",
    "    display(df.select_dtypes(['object','category']).apply(\n",
    "        lambda x: str(pd.Series.unique(x).tolist()) ).to_frame())"
   ]
  },
  {
   "cell_type": "code",
   "execution_count": 19,
   "metadata": {
    "ExecuteTime": {
     "end_time": "2019-09-28T17:15:20.906616Z",
     "start_time": "2019-09-28T17:15:20.869739Z"
    }
   },
   "outputs": [
    {
     "data": {
      "text/plain": [
       "98103    602\n",
       "98038    590\n",
       "98115    583\n",
       "98052    574\n",
       "98117    553\n",
       "Name: zipcode, dtype: int64"
      ]
     },
     "execution_count": 19,
     "metadata": {},
     "output_type": "execute_result"
    }
   ],
   "source": [
    "df['zipcode'].value_counts().head()"
   ]
  },
  {
   "cell_type": "code",
   "execution_count": 20,
   "metadata": {
    "ExecuteTime": {
     "end_time": "2019-09-28T17:15:21.239030Z",
     "start_time": "2019-09-28T17:15:20.908372Z"
    }
   },
   "outputs": [
    {
     "data": {
      "text/plain": [
       "<matplotlib.axes._subplots.AxesSubplot at 0x11dbf44e0>"
      ]
     },
     "execution_count": 20,
     "metadata": {},
     "output_type": "execute_result"
    },
    {
     "data": {
      "image/png": "[encoded data removed]",
      "text/plain": [
       "<Figure size 432x288 with 1 Axes>"
      ]
     },
     "metadata": {
      "needs_background": "light"
     },
     "output_type": "display_data"
    }
   ],
   "source": [
    "df['zipcode'].value_counts().hist()"
   ]
  },
  {
   "cell_type": "code",
   "execution_count": 21,
   "metadata": {
    "ExecuteTime": {
     "end_time": "2019-09-28T17:15:21.266686Z",
     "start_time": "2019-09-28T17:15:21.240965Z"
    }
   },
   "outputs": [],
   "source": [
    "# zipcode is related to house price, we may not want to drop it.\n",
    "# there are 70 unique zipcode values, it will create too many dummies.\n",
    "# one choice is taking top 5 or top 10 zipcodes \n",
    "# we can choose top 10 zipcodes with largest house price.\n",
    "# (or may be largest number of houses in that zipcode.)"
   ]
  },
  {
   "cell_type": "code",
   "execution_count": 22,
   "metadata": {
    "ExecuteTime": {
     "end_time": "2019-09-28T17:15:21.306214Z",
     "start_time": "2019-09-28T17:15:21.275729Z"
    }
   },
   "outputs": [],
   "source": [
    "# df[['zipcode','price']].sort_values('price').tail(20)"
   ]
  },
  {
   "cell_type": "code",
   "execution_count": 23,
   "metadata": {
    "ExecuteTime": {
     "end_time": "2019-09-28T17:15:21.354982Z",
     "start_time": "2019-09-28T17:15:21.308053Z"
    }
   },
   "outputs": [
    {
     "data": {
      "text/html": [
       "<div>\n",
       "<style scoped>\n",
       "    .dataframe tbody tr th:only-of-type {\n",
       "        vertical-align: middle;\n",
       "    }\n",
       "\n",
       "    .dataframe tbody tr th {\n",
       "        vertical-align: top;\n",
       "    }\n",
       "\n",
       "    .dataframe thead th {\n",
       "        text-align: right;\n",
       "    }\n",
       "</style>\n",
       "<table border=\"1\" class=\"dataframe\">\n",
       "  <thead>\n",
       "    <tr style=\"text-align: right;\">\n",
       "      <th></th>\n",
       "      <th>zipcode</th>\n",
       "      <th>price</th>\n",
       "    </tr>\n",
       "  </thead>\n",
       "  <tbody>\n",
       "    <tr>\n",
       "      <th>2864</th>\n",
       "      <td>98144</td>\n",
       "      <td>3.6e+06</td>\n",
       "    </tr>\n",
       "    <tr>\n",
       "      <th>6508</th>\n",
       "      <td>98105</td>\n",
       "      <td>3.6e+06</td>\n",
       "    </tr>\n",
       "    <tr>\n",
       "      <th>19017</th>\n",
       "      <td>98177</td>\n",
       "      <td>3.8e+06</td>\n",
       "    </tr>\n",
       "    <tr>\n",
       "      <th>12370</th>\n",
       "      <td>98006</td>\n",
       "      <td>4.2e+06</td>\n",
       "    </tr>\n",
       "    <tr>\n",
       "      <th>2626</th>\n",
       "      <td>98155</td>\n",
       "      <td>4.5e+06</td>\n",
       "    </tr>\n",
       "    <tr>\n",
       "      <th>1164</th>\n",
       "      <td>98033</td>\n",
       "      <td>5.1e+06</td>\n",
       "    </tr>\n",
       "    <tr>\n",
       "      <th>1315</th>\n",
       "      <td>98040</td>\n",
       "      <td>5.3e+06</td>\n",
       "    </tr>\n",
       "    <tr>\n",
       "      <th>9254</th>\n",
       "      <td>98039</td>\n",
       "      <td>6.9e+06</td>\n",
       "    </tr>\n",
       "    <tr>\n",
       "      <th>3914</th>\n",
       "      <td>98004</td>\n",
       "      <td>7.1e+06</td>\n",
       "    </tr>\n",
       "    <tr>\n",
       "      <th>7252</th>\n",
       "      <td>98102</td>\n",
       "      <td>7.7e+06</td>\n",
       "    </tr>\n",
       "  </tbody>\n",
       "</table>\n",
       "</div>"
      ],
      "text/plain": [
       "      zipcode   price\n",
       "2864    98144 3.6e+06\n",
       "6508    98105 3.6e+06\n",
       "19017   98177 3.8e+06\n",
       "12370   98006 4.2e+06\n",
       "2626    98155 4.5e+06\n",
       "1164    98033 5.1e+06\n",
       "1315    98040 5.3e+06\n",
       "9254    98039 6.9e+06\n",
       "3914    98004 7.1e+06\n",
       "7252    98102 7.7e+06"
      ]
     },
     "execution_count": 23,
     "metadata": {},
     "output_type": "execute_result"
    }
   ],
   "source": [
    "df[['zipcode','price']].sort_values(['price','zipcode']).drop_duplicates('zipcode',keep='last').tail(10)"
   ]
  },
  {
   "cell_type": "code",
   "execution_count": 24,
   "metadata": {
    "ExecuteTime": {
     "end_time": "2019-09-28T17:15:21.393088Z",
     "start_time": "2019-09-28T17:15:21.357168Z"
    }
   },
   "outputs": [],
   "source": [
    "most_expensive9_zipcodes = (df[['zipcode','price']]\n",
    "                           .sort_values(['price','zipcode'])\n",
    "                           .drop_duplicates('zipcode',keep='last')\n",
    "                           .tail(9)\n",
    "                           .zipcode\n",
    "                           .values\n",
    "                          )"
   ]
  },
  {
   "cell_type": "code",
   "execution_count": 25,
   "metadata": {
    "ExecuteTime": {
     "end_time": "2019-09-28T17:15:21.428946Z",
     "start_time": "2019-09-28T17:15:21.397384Z"
    }
   },
   "outputs": [
    {
     "data": {
      "text/plain": [
       "array(['98105', '98177', '98006', '98155', '98033', '98040', '98039',\n",
       "       '98004', '98102'], dtype=object)"
      ]
     },
     "execution_count": 25,
     "metadata": {},
     "output_type": "execute_result"
    }
   ],
   "source": [
    "most_expensive9_zipcodes"
   ]
  },
  {
   "cell_type": "code",
   "execution_count": 26,
   "metadata": {
    "ExecuteTime": {
     "end_time": "2019-09-28T17:15:21.461060Z",
     "start_time": "2019-09-28T17:15:21.431070Z"
    }
   },
   "outputs": [],
   "source": [
    "# keep same zipcode for top 9 expensive and make all others as others"
   ]
  },
  {
   "cell_type": "code",
   "execution_count": 27,
   "metadata": {
    "ExecuteTime": {
     "end_time": "2019-09-28T17:15:21.502359Z",
     "start_time": "2019-09-28T17:15:21.463041Z"
    }
   },
   "outputs": [],
   "source": [
    "df['zipcode_top10'] = df['zipcode']\n",
    "df.loc[~df['zipcode_top10'].isin(most_expensive9_zipcodes), 'zipcode_top10'] = 'others'"
   ]
  },
  {
   "cell_type": "code",
   "execution_count": 28,
   "metadata": {
    "ExecuteTime": {
     "end_time": "2019-09-28T17:15:21.541809Z",
     "start_time": "2019-09-28T17:15:21.508513Z"
    }
   },
   "outputs": [],
   "source": [
    "# we can also create new feature number of houses in that zipcode\n",
    "df['zipcode_houses'] = df.groupby(['zipcode'])['price'].transform('count')"
   ]
  },
  {
   "cell_type": "code",
   "execution_count": 29,
   "metadata": {
    "ExecuteTime": {
     "end_time": "2019-09-28T17:15:21.588043Z",
     "start_time": "2019-09-28T17:15:21.543981Z"
    }
   },
   "outputs": [
    {
     "data": {
      "text/html": [
       "<div>\n",
       "<style scoped>\n",
       "    .dataframe tbody tr th:only-of-type {\n",
       "        vertical-align: middle;\n",
       "    }\n",
       "\n",
       "    .dataframe tbody tr th {\n",
       "        vertical-align: top;\n",
       "    }\n",
       "\n",
       "    .dataframe thead th {\n",
       "        text-align: right;\n",
       "    }\n",
       "</style>\n",
       "<table border=\"1\" class=\"dataframe\">\n",
       "  <thead>\n",
       "    <tr style=\"text-align: right;\">\n",
       "      <th></th>\n",
       "      <th>price</th>\n",
       "      <th>zipcode</th>\n",
       "      <th>zipcode_top10</th>\n",
       "      <th>zipcode_houses</th>\n",
       "    </tr>\n",
       "  </thead>\n",
       "  <tbody>\n",
       "    <tr>\n",
       "      <th>0</th>\n",
       "      <td>2.2e+05</td>\n",
       "      <td>98178</td>\n",
       "      <td>others</td>\n",
       "      <td>262</td>\n",
       "    </tr>\n",
       "    <tr>\n",
       "      <th>21</th>\n",
       "      <td>2e+06</td>\n",
       "      <td>98040</td>\n",
       "      <td>98040</td>\n",
       "      <td>282</td>\n",
       "    </tr>\n",
       "    <tr>\n",
       "      <th>54</th>\n",
       "      <td>9.2e+05</td>\n",
       "      <td>98105</td>\n",
       "      <td>98105</td>\n",
       "      <td>229</td>\n",
       "    </tr>\n",
       "    <tr>\n",
       "      <th>66</th>\n",
       "      <td>9.8e+05</td>\n",
       "      <td>98004</td>\n",
       "      <td>98004</td>\n",
       "      <td>317</td>\n",
       "    </tr>\n",
       "    <tr>\n",
       "      <th>100</th>\n",
       "      <td>8.5e+05</td>\n",
       "      <td>98102</td>\n",
       "      <td>98102</td>\n",
       "      <td>105</td>\n",
       "    </tr>\n",
       "  </tbody>\n",
       "</table>\n",
       "</div>"
      ],
      "text/plain": [
       "      price zipcode zipcode_top10  zipcode_houses\n",
       "0   2.2e+05   98178        others             262\n",
       "21    2e+06   98040         98040             282\n",
       "54  9.2e+05   98105         98105             229\n",
       "66  9.8e+05   98004         98004             317\n",
       "100 8.5e+05   98102         98102             105"
      ]
     },
     "execution_count": 29,
     "metadata": {},
     "output_type": "execute_result"
    }
   ],
   "source": [
    "df.filter(regex='zip|price',axis=1).drop_duplicates('zipcode_top10').head()"
   ]
  },
  {
   "cell_type": "markdown",
   "metadata": {},
   "source": [
    "## Boolean data types"
   ]
  },
  {
   "cell_type": "code",
   "execution_count": 30,
   "metadata": {
    "ExecuteTime": {
     "end_time": "2019-09-28T17:15:21.640692Z",
     "start_time": "2019-09-28T17:15:21.590526Z"
    }
   },
   "outputs": [
    {
     "data": {
      "text/html": [
       "<div>\n",
       "<style scoped>\n",
       "    .dataframe tbody tr th:only-of-type {\n",
       "        vertical-align: middle;\n",
       "    }\n",
       "\n",
       "    .dataframe tbody tr th {\n",
       "        vertical-align: top;\n",
       "    }\n",
       "\n",
       "    .dataframe thead th {\n",
       "        text-align: right;\n",
       "    }\n",
       "</style>\n",
       "<table border=\"1\" class=\"dataframe\">\n",
       "  <thead>\n",
       "    <tr style=\"text-align: right;\">\n",
       "      <th></th>\n",
       "      <th>id</th>\n",
       "      <th>date</th>\n",
       "      <th>price</th>\n",
       "      <th>bedrooms</th>\n",
       "      <th>bathrooms</th>\n",
       "      <th>sqft_living</th>\n",
       "      <th>sqft_lot</th>\n",
       "      <th>floors</th>\n",
       "      <th>waterfront</th>\n",
       "      <th>view</th>\n",
       "      <th>condition</th>\n",
       "      <th>grade</th>\n",
       "      <th>sqft_above</th>\n",
       "      <th>sqft_basement</th>\n",
       "      <th>yr_built</th>\n",
       "      <th>yr_renovated</th>\n",
       "      <th>zipcode</th>\n",
       "      <th>lat</th>\n",
       "      <th>long</th>\n",
       "      <th>sqft_living15</th>\n",
       "      <th>sqft_lot15</th>\n",
       "      <th>yr_sales</th>\n",
       "      <th>age</th>\n",
       "      <th>yr_renovated2</th>\n",
       "      <th>age_after_renovation</th>\n",
       "      <th>zipcode_top10</th>\n",
       "      <th>zipcode_houses</th>\n",
       "    </tr>\n",
       "  </thead>\n",
       "  <tbody>\n",
       "    <tr>\n",
       "      <th>0</th>\n",
       "      <td>7129300520</td>\n",
       "      <td>2014-10-13 00:00:00</td>\n",
       "      <td>2.2e+05</td>\n",
       "      <td>3</td>\n",
       "      <td>1</td>\n",
       "      <td>1180</td>\n",
       "      <td>5650</td>\n",
       "      <td>1</td>\n",
       "      <td>0</td>\n",
       "      <td>0</td>\n",
       "      <td>3</td>\n",
       "      <td>7</td>\n",
       "      <td>1180</td>\n",
       "      <td>0</td>\n",
       "      <td>1955</td>\n",
       "      <td>0</td>\n",
       "      <td>98178</td>\n",
       "      <td>48</td>\n",
       "      <td>-1.2e+02</td>\n",
       "      <td>1340</td>\n",
       "      <td>5650</td>\n",
       "      <td>2014</td>\n",
       "      <td>59</td>\n",
       "      <td>1955</td>\n",
       "      <td>59</td>\n",
       "      <td>others</td>\n",
       "      <td>262</td>\n",
       "    </tr>\n",
       "    <tr>\n",
       "      <th>1</th>\n",
       "      <td>int64</td>\n",
       "      <td>datetime64[ns]</td>\n",
       "      <td>float64</td>\n",
       "      <td>int64</td>\n",
       "      <td>float64</td>\n",
       "      <td>int64</td>\n",
       "      <td>int64</td>\n",
       "      <td>float64</td>\n",
       "      <td>object</td>\n",
       "      <td>object</td>\n",
       "      <td>object</td>\n",
       "      <td>object</td>\n",
       "      <td>int64</td>\n",
       "      <td>int64</td>\n",
       "      <td>int64</td>\n",
       "      <td>int64</td>\n",
       "      <td>object</td>\n",
       "      <td>float64</td>\n",
       "      <td>float64</td>\n",
       "      <td>int64</td>\n",
       "      <td>int64</td>\n",
       "      <td>int64</td>\n",
       "      <td>int64</td>\n",
       "      <td>int64</td>\n",
       "      <td>int64</td>\n",
       "      <td>object</td>\n",
       "      <td>int64</td>\n",
       "    </tr>\n",
       "  </tbody>\n",
       "</table>\n",
       "</div>"
      ],
      "text/plain": [
       "           id                 date    price bedrooms bathrooms sqft_living  \\\n",
       "0  7129300520  2014-10-13 00:00:00  2.2e+05        3         1        1180   \n",
       "1       int64       datetime64[ns]  float64    int64   float64       int64   \n",
       "\n",
       "  sqft_lot   floors waterfront    view condition   grade sqft_above  \\\n",
       "0     5650        1          0       0         3       7       1180   \n",
       "1    int64  float64     object  object    object  object      int64   \n",
       "\n",
       "  sqft_basement yr_built yr_renovated zipcode      lat     long sqft_living15  \\\n",
       "0             0     1955            0   98178       48 -1.2e+02          1340   \n",
       "1         int64    int64        int64  object  float64  float64         int64   \n",
       "\n",
       "  sqft_lot15 yr_sales    age yr_renovated2 age_after_renovation zipcode_top10  \\\n",
       "0       5650     2014     59          1955                   59        others   \n",
       "1      int64    int64  int64         int64                int64        object   \n",
       "\n",
       "  zipcode_houses  \n",
       "0            262  \n",
       "1          int64  "
      ]
     },
     "execution_count": 30,
     "metadata": {},
     "output_type": "execute_result"
    }
   ],
   "source": [
    "df.head(1).append(df.dtypes,ignore_index=True)"
   ]
  },
  {
   "cell_type": "code",
   "execution_count": 31,
   "metadata": {
    "ExecuteTime": {
     "end_time": "2019-09-28T17:15:21.675819Z",
     "start_time": "2019-09-28T17:15:21.644073Z"
    }
   },
   "outputs": [
    {
     "data": {
      "text/plain": [
       "0      13126\n",
       "600      221\n",
       "700      218\n",
       "500      214\n",
       "800      206\n",
       "Name: sqft_basement, dtype: int64"
      ]
     },
     "execution_count": 31,
     "metadata": {},
     "output_type": "execute_result"
    }
   ],
   "source": [
    "df['sqft_basement'].value_counts().nlargest(5)"
   ]
  },
  {
   "cell_type": "code",
   "execution_count": 32,
   "metadata": {
    "ExecuteTime": {
     "end_time": "2019-09-28T17:15:21.727843Z",
     "start_time": "2019-09-28T17:15:21.678497Z"
    }
   },
   "outputs": [
    {
     "data": {
      "text/html": [
       "<div>\n",
       "<style scoped>\n",
       "    .dataframe tbody tr th:only-of-type {\n",
       "        vertical-align: middle;\n",
       "    }\n",
       "\n",
       "    .dataframe tbody tr th {\n",
       "        vertical-align: top;\n",
       "    }\n",
       "\n",
       "    .dataframe thead th {\n",
       "        text-align: right;\n",
       "    }\n",
       "</style>\n",
       "<table border=\"1\" class=\"dataframe\">\n",
       "  <thead>\n",
       "    <tr style=\"text-align: right;\">\n",
       "      <th></th>\n",
       "      <th>sqft_basement</th>\n",
       "      <th>yr_renovated</th>\n",
       "      <th>yr_renovated2</th>\n",
       "      <th>age_after_renovation</th>\n",
       "      <th>basement_bool</th>\n",
       "      <th>renovation_bool</th>\n",
       "    </tr>\n",
       "  </thead>\n",
       "  <tbody>\n",
       "    <tr>\n",
       "      <th>0</th>\n",
       "      <td>0</td>\n",
       "      <td>0</td>\n",
       "      <td>1955</td>\n",
       "      <td>59</td>\n",
       "      <td>0</td>\n",
       "      <td>0</td>\n",
       "    </tr>\n",
       "    <tr>\n",
       "      <th>1</th>\n",
       "      <td>400</td>\n",
       "      <td>1991</td>\n",
       "      <td>1991</td>\n",
       "      <td>23</td>\n",
       "      <td>1</td>\n",
       "      <td>1</td>\n",
       "    </tr>\n",
       "    <tr>\n",
       "      <th>2</th>\n",
       "      <td>0</td>\n",
       "      <td>0</td>\n",
       "      <td>1933</td>\n",
       "      <td>82</td>\n",
       "      <td>0</td>\n",
       "      <td>0</td>\n",
       "    </tr>\n",
       "    <tr>\n",
       "      <th>3</th>\n",
       "      <td>910</td>\n",
       "      <td>0</td>\n",
       "      <td>1965</td>\n",
       "      <td>49</td>\n",
       "      <td>1</td>\n",
       "      <td>0</td>\n",
       "    </tr>\n",
       "    <tr>\n",
       "      <th>4</th>\n",
       "      <td>0</td>\n",
       "      <td>0</td>\n",
       "      <td>1987</td>\n",
       "      <td>28</td>\n",
       "      <td>0</td>\n",
       "      <td>0</td>\n",
       "    </tr>\n",
       "  </tbody>\n",
       "</table>\n",
       "</div>"
      ],
      "text/plain": [
       "   sqft_basement  yr_renovated  yr_renovated2  age_after_renovation  \\\n",
       "0              0             0           1955                    59   \n",
       "1            400          1991           1991                    23   \n",
       "2              0             0           1933                    82   \n",
       "3            910             0           1965                    49   \n",
       "4              0             0           1987                    28   \n",
       "\n",
       "   basement_bool  renovation_bool  \n",
       "0              0                0  \n",
       "1              1                1  \n",
       "2              0                0  \n",
       "3              1                0  \n",
       "4              0                0  "
      ]
     },
     "execution_count": 32,
     "metadata": {},
     "output_type": "execute_result"
    }
   ],
   "source": [
    "# there are so many zeros, we can create boolean column\n",
    "# Note that there should not be nans here.\n",
    "df['basement_bool'] = df['sqft_basement'].apply(lambda x: 1 if x>0 else 0)\n",
    "df['renovation_bool'] = df['yr_renovated'].apply(lambda x: 1 if x>0 else 0)\n",
    "\n",
    "df.filter(regex='base|reno',axis=1).head()"
   ]
  },
  {
   "cell_type": "markdown",
   "metadata": {},
   "source": [
    "## Numerical features binning"
   ]
  },
  {
   "cell_type": "code",
   "execution_count": 33,
   "metadata": {
    "ExecuteTime": {
     "end_time": "2019-09-28T17:15:21.770988Z",
     "start_time": "2019-09-28T17:15:21.729553Z"
    }
   },
   "outputs": [
    {
     "data": {
      "text/html": [
       "<div>\n",
       "<style scoped>\n",
       "    .dataframe tbody tr th:only-of-type {\n",
       "        vertical-align: middle;\n",
       "    }\n",
       "\n",
       "    .dataframe tbody tr th {\n",
       "        vertical-align: top;\n",
       "    }\n",
       "\n",
       "    .dataframe thead th {\n",
       "        text-align: right;\n",
       "    }\n",
       "</style>\n",
       "<table border=\"1\" class=\"dataframe\">\n",
       "  <thead>\n",
       "    <tr style=\"text-align: right;\">\n",
       "      <th></th>\n",
       "      <th>0</th>\n",
       "      <th>1</th>\n",
       "      <th>2</th>\n",
       "      <th>3</th>\n",
       "      <th>4</th>\n",
       "    </tr>\n",
       "  </thead>\n",
       "  <tbody>\n",
       "    <tr>\n",
       "      <th>id</th>\n",
       "      <td>7.1e+09</td>\n",
       "      <td>6.4e+09</td>\n",
       "      <td>5.6e+09</td>\n",
       "      <td>2.5e+09</td>\n",
       "      <td>2e+09</td>\n",
       "    </tr>\n",
       "    <tr>\n",
       "      <th>price</th>\n",
       "      <td>2.2e+05</td>\n",
       "      <td>5.4e+05</td>\n",
       "      <td>1.8e+05</td>\n",
       "      <td>6e+05</td>\n",
       "      <td>5.1e+05</td>\n",
       "    </tr>\n",
       "    <tr>\n",
       "      <th>bedrooms</th>\n",
       "      <td>3</td>\n",
       "      <td>3</td>\n",
       "      <td>2</td>\n",
       "      <td>4</td>\n",
       "      <td>3</td>\n",
       "    </tr>\n",
       "    <tr>\n",
       "      <th>bathrooms</th>\n",
       "      <td>1</td>\n",
       "      <td>2.2</td>\n",
       "      <td>1</td>\n",
       "      <td>3</td>\n",
       "      <td>2</td>\n",
       "    </tr>\n",
       "    <tr>\n",
       "      <th>sqft_living</th>\n",
       "      <td>1.2e+03</td>\n",
       "      <td>2.6e+03</td>\n",
       "      <td>7.7e+02</td>\n",
       "      <td>2e+03</td>\n",
       "      <td>1.7e+03</td>\n",
       "    </tr>\n",
       "    <tr>\n",
       "      <th>sqft_lot</th>\n",
       "      <td>5.6e+03</td>\n",
       "      <td>7.2e+03</td>\n",
       "      <td>1e+04</td>\n",
       "      <td>5e+03</td>\n",
       "      <td>8.1e+03</td>\n",
       "    </tr>\n",
       "    <tr>\n",
       "      <th>floors</th>\n",
       "      <td>1</td>\n",
       "      <td>2</td>\n",
       "      <td>1</td>\n",
       "      <td>1</td>\n",
       "      <td>1</td>\n",
       "    </tr>\n",
       "    <tr>\n",
       "      <th>sqft_above</th>\n",
       "      <td>1.2e+03</td>\n",
       "      <td>2.2e+03</td>\n",
       "      <td>7.7e+02</td>\n",
       "      <td>1.0e+03</td>\n",
       "      <td>1.7e+03</td>\n",
       "    </tr>\n",
       "    <tr>\n",
       "      <th>sqft_basement</th>\n",
       "      <td>0</td>\n",
       "      <td>4e+02</td>\n",
       "      <td>0</td>\n",
       "      <td>9.1e+02</td>\n",
       "      <td>0</td>\n",
       "    </tr>\n",
       "    <tr>\n",
       "      <th>yr_built</th>\n",
       "      <td>2e+03</td>\n",
       "      <td>2e+03</td>\n",
       "      <td>1.9e+03</td>\n",
       "      <td>2e+03</td>\n",
       "      <td>2e+03</td>\n",
       "    </tr>\n",
       "    <tr>\n",
       "      <th>yr_renovated</th>\n",
       "      <td>0</td>\n",
       "      <td>2e+03</td>\n",
       "      <td>0</td>\n",
       "      <td>0</td>\n",
       "      <td>0</td>\n",
       "    </tr>\n",
       "    <tr>\n",
       "      <th>lat</th>\n",
       "      <td>48</td>\n",
       "      <td>48</td>\n",
       "      <td>48</td>\n",
       "      <td>48</td>\n",
       "      <td>48</td>\n",
       "    </tr>\n",
       "    <tr>\n",
       "      <th>long</th>\n",
       "      <td>-1.2e+02</td>\n",
       "      <td>-1.2e+02</td>\n",
       "      <td>-1.2e+02</td>\n",
       "      <td>-1.2e+02</td>\n",
       "      <td>-1.2e+02</td>\n",
       "    </tr>\n",
       "    <tr>\n",
       "      <th>sqft_living15</th>\n",
       "      <td>1.3e+03</td>\n",
       "      <td>1.7e+03</td>\n",
       "      <td>2.7e+03</td>\n",
       "      <td>1.4e+03</td>\n",
       "      <td>1.8e+03</td>\n",
       "    </tr>\n",
       "    <tr>\n",
       "      <th>sqft_lot15</th>\n",
       "      <td>5.6e+03</td>\n",
       "      <td>7.6e+03</td>\n",
       "      <td>8.1e+03</td>\n",
       "      <td>5e+03</td>\n",
       "      <td>7.5e+03</td>\n",
       "    </tr>\n",
       "    <tr>\n",
       "      <th>yr_sales</th>\n",
       "      <td>2e+03</td>\n",
       "      <td>2e+03</td>\n",
       "      <td>2e+03</td>\n",
       "      <td>2e+03</td>\n",
       "      <td>2e+03</td>\n",
       "    </tr>\n",
       "    <tr>\n",
       "      <th>age</th>\n",
       "      <td>59</td>\n",
       "      <td>63</td>\n",
       "      <td>82</td>\n",
       "      <td>49</td>\n",
       "      <td>28</td>\n",
       "    </tr>\n",
       "    <tr>\n",
       "      <th>yr_renovated2</th>\n",
       "      <td>2e+03</td>\n",
       "      <td>2e+03</td>\n",
       "      <td>1.9e+03</td>\n",
       "      <td>2e+03</td>\n",
       "      <td>2e+03</td>\n",
       "    </tr>\n",
       "    <tr>\n",
       "      <th>age_after_renovation</th>\n",
       "      <td>59</td>\n",
       "      <td>23</td>\n",
       "      <td>82</td>\n",
       "      <td>49</td>\n",
       "      <td>28</td>\n",
       "    </tr>\n",
       "    <tr>\n",
       "      <th>zipcode_houses</th>\n",
       "      <td>2.6e+02</td>\n",
       "      <td>4.1e+02</td>\n",
       "      <td>2.8e+02</td>\n",
       "      <td>2.6e+02</td>\n",
       "      <td>4.4e+02</td>\n",
       "    </tr>\n",
       "    <tr>\n",
       "      <th>basement_bool</th>\n",
       "      <td>0</td>\n",
       "      <td>1</td>\n",
       "      <td>0</td>\n",
       "      <td>1</td>\n",
       "      <td>0</td>\n",
       "    </tr>\n",
       "    <tr>\n",
       "      <th>renovation_bool</th>\n",
       "      <td>0</td>\n",
       "      <td>1</td>\n",
       "      <td>0</td>\n",
       "      <td>0</td>\n",
       "      <td>0</td>\n",
       "    </tr>\n",
       "  </tbody>\n",
       "</table>\n",
       "</div>"
      ],
      "text/plain": [
       "                            0        1        2        3        4\n",
       "id                    7.1e+09  6.4e+09  5.6e+09  2.5e+09    2e+09\n",
       "price                 2.2e+05  5.4e+05  1.8e+05    6e+05  5.1e+05\n",
       "bedrooms                    3        3        2        4        3\n",
       "bathrooms                   1      2.2        1        3        2\n",
       "sqft_living           1.2e+03  2.6e+03  7.7e+02    2e+03  1.7e+03\n",
       "sqft_lot              5.6e+03  7.2e+03    1e+04    5e+03  8.1e+03\n",
       "floors                      1        2        1        1        1\n",
       "sqft_above            1.2e+03  2.2e+03  7.7e+02  1.0e+03  1.7e+03\n",
       "sqft_basement               0    4e+02        0  9.1e+02        0\n",
       "yr_built                2e+03    2e+03  1.9e+03    2e+03    2e+03\n",
       "yr_renovated                0    2e+03        0        0        0\n",
       "lat                        48       48       48       48       48\n",
       "long                 -1.2e+02 -1.2e+02 -1.2e+02 -1.2e+02 -1.2e+02\n",
       "sqft_living15         1.3e+03  1.7e+03  2.7e+03  1.4e+03  1.8e+03\n",
       "sqft_lot15            5.6e+03  7.6e+03  8.1e+03    5e+03  7.5e+03\n",
       "yr_sales                2e+03    2e+03    2e+03    2e+03    2e+03\n",
       "age                        59       63       82       49       28\n",
       "yr_renovated2           2e+03    2e+03  1.9e+03    2e+03    2e+03\n",
       "age_after_renovation       59       23       82       49       28\n",
       "zipcode_houses        2.6e+02  4.1e+02  2.8e+02  2.6e+02  4.4e+02\n",
       "basement_bool               0        1        0        1        0\n",
       "renovation_bool             0        1        0        0        0"
      ]
     },
     "execution_count": 33,
     "metadata": {},
     "output_type": "execute_result"
    }
   ],
   "source": [
    "df.select_dtypes('number').head().T"
   ]
  },
  {
   "cell_type": "code",
   "execution_count": 34,
   "metadata": {
    "ExecuteTime": {
     "end_time": "2019-09-28T17:15:21.826833Z",
     "start_time": "2019-09-28T17:15:21.773558Z"
    }
   },
   "outputs": [
    {
     "data": {
      "text/html": [
       "<div>\n",
       "<style scoped>\n",
       "    .dataframe tbody tr th:only-of-type {\n",
       "        vertical-align: middle;\n",
       "    }\n",
       "\n",
       "    .dataframe tbody tr th {\n",
       "        vertical-align: top;\n",
       "    }\n",
       "\n",
       "    .dataframe thead th {\n",
       "        text-align: right;\n",
       "    }\n",
       "</style>\n",
       "<table border=\"1\" class=\"dataframe\">\n",
       "  <thead>\n",
       "    <tr style=\"text-align: right;\">\n",
       "      <th></th>\n",
       "      <th>id</th>\n",
       "      <th>date</th>\n",
       "      <th>price</th>\n",
       "      <th>bedrooms</th>\n",
       "      <th>bathrooms</th>\n",
       "      <th>sqft_living</th>\n",
       "      <th>sqft_lot</th>\n",
       "      <th>floors</th>\n",
       "      <th>waterfront</th>\n",
       "      <th>view</th>\n",
       "      <th>condition</th>\n",
       "      <th>grade</th>\n",
       "      <th>sqft_above</th>\n",
       "      <th>sqft_basement</th>\n",
       "      <th>yr_built</th>\n",
       "      <th>yr_renovated</th>\n",
       "      <th>zipcode</th>\n",
       "      <th>lat</th>\n",
       "      <th>long</th>\n",
       "      <th>sqft_living15</th>\n",
       "      <th>sqft_lot15</th>\n",
       "      <th>yr_sales</th>\n",
       "      <th>age</th>\n",
       "      <th>yr_renovated2</th>\n",
       "      <th>age_after_renovation</th>\n",
       "      <th>zipcode_top10</th>\n",
       "      <th>zipcode_houses</th>\n",
       "      <th>basement_bool</th>\n",
       "      <th>renovation_bool</th>\n",
       "    </tr>\n",
       "  </thead>\n",
       "  <tbody>\n",
       "    <tr>\n",
       "      <th>0</th>\n",
       "      <td>7129300520</td>\n",
       "      <td>2014-10-13 00:00:00</td>\n",
       "      <td>2.2e+05</td>\n",
       "      <td>3</td>\n",
       "      <td>1</td>\n",
       "      <td>1180</td>\n",
       "      <td>5650</td>\n",
       "      <td>1</td>\n",
       "      <td>0</td>\n",
       "      <td>0</td>\n",
       "      <td>3</td>\n",
       "      <td>7</td>\n",
       "      <td>1180</td>\n",
       "      <td>0</td>\n",
       "      <td>1955</td>\n",
       "      <td>0</td>\n",
       "      <td>98178</td>\n",
       "      <td>48</td>\n",
       "      <td>-1.2e+02</td>\n",
       "      <td>1340</td>\n",
       "      <td>5650</td>\n",
       "      <td>2014</td>\n",
       "      <td>59</td>\n",
       "      <td>1955</td>\n",
       "      <td>59</td>\n",
       "      <td>others</td>\n",
       "      <td>262</td>\n",
       "      <td>0</td>\n",
       "      <td>0</td>\n",
       "    </tr>\n",
       "    <tr>\n",
       "      <th>1</th>\n",
       "      <td>int64</td>\n",
       "      <td>datetime64[ns]</td>\n",
       "      <td>float64</td>\n",
       "      <td>int64</td>\n",
       "      <td>float64</td>\n",
       "      <td>int64</td>\n",
       "      <td>int64</td>\n",
       "      <td>float64</td>\n",
       "      <td>object</td>\n",
       "      <td>object</td>\n",
       "      <td>object</td>\n",
       "      <td>object</td>\n",
       "      <td>int64</td>\n",
       "      <td>int64</td>\n",
       "      <td>int64</td>\n",
       "      <td>int64</td>\n",
       "      <td>object</td>\n",
       "      <td>float64</td>\n",
       "      <td>float64</td>\n",
       "      <td>int64</td>\n",
       "      <td>int64</td>\n",
       "      <td>int64</td>\n",
       "      <td>int64</td>\n",
       "      <td>int64</td>\n",
       "      <td>int64</td>\n",
       "      <td>object</td>\n",
       "      <td>int64</td>\n",
       "      <td>int64</td>\n",
       "      <td>int64</td>\n",
       "    </tr>\n",
       "  </tbody>\n",
       "</table>\n",
       "</div>"
      ],
      "text/plain": [
       "           id                 date    price bedrooms bathrooms sqft_living  \\\n",
       "0  7129300520  2014-10-13 00:00:00  2.2e+05        3         1        1180   \n",
       "1       int64       datetime64[ns]  float64    int64   float64       int64   \n",
       "\n",
       "  sqft_lot   floors waterfront    view condition   grade sqft_above  \\\n",
       "0     5650        1          0       0         3       7       1180   \n",
       "1    int64  float64     object  object    object  object      int64   \n",
       "\n",
       "  sqft_basement yr_built yr_renovated zipcode      lat     long sqft_living15  \\\n",
       "0             0     1955            0   98178       48 -1.2e+02          1340   \n",
       "1         int64    int64        int64  object  float64  float64         int64   \n",
       "\n",
       "  sqft_lot15 yr_sales    age yr_renovated2 age_after_renovation zipcode_top10  \\\n",
       "0       5650     2014     59          1955                   59        others   \n",
       "1      int64    int64  int64         int64                int64        object   \n",
       "\n",
       "  zipcode_houses basement_bool renovation_bool  \n",
       "0            262             0               0  \n",
       "1          int64         int64           int64  "
      ]
     },
     "execution_count": 34,
     "metadata": {},
     "output_type": "execute_result"
    }
   ],
   "source": [
    "df.head(1).append(df.dtypes,ignore_index=True)"
   ]
  },
  {
   "cell_type": "code",
   "execution_count": 35,
   "metadata": {
    "ExecuteTime": {
     "end_time": "2019-09-28T17:15:21.854245Z",
     "start_time": "2019-09-28T17:15:21.828535Z"
    }
   },
   "outputs": [],
   "source": [
    "cols_bin = ['age','age_after_renovation']"
   ]
  },
  {
   "cell_type": "code",
   "execution_count": 36,
   "metadata": {
    "ExecuteTime": {
     "end_time": "2019-09-28T17:15:22.117274Z",
     "start_time": "2019-09-28T17:15:21.859524Z"
    }
   },
   "outputs": [
    {
     "data": {
      "text/plain": [
       "<matplotlib.axes._subplots.AxesSubplot at 0x11e20ac50>"
      ]
     },
     "execution_count": 36,
     "metadata": {},
     "output_type": "execute_result"
    },
    {
     "data": {
      "image/png": "[encoded data removed]",
      "text/plain": [
       "<Figure size 432x288 with 1 Axes>"
      ]
     },
     "metadata": {
      "needs_background": "light"
     },
     "output_type": "display_data"
    }
   ],
   "source": [
    "df['age'].hist()"
   ]
  },
  {
   "cell_type": "code",
   "execution_count": 37,
   "metadata": {
    "ExecuteTime": {
     "end_time": "2019-09-28T17:15:22.151063Z",
     "start_time": "2019-09-28T17:15:22.120112Z"
    }
   },
   "outputs": [
    {
     "data": {
      "text/plain": [
       "count   2.2e+04\n",
       "mean         43\n",
       "std          29\n",
       "min          -1\n",
       "25%          18\n",
       "50%          40\n",
       "75%          63\n",
       "max     1.2e+02\n",
       "Name: age, dtype: float64"
      ]
     },
     "execution_count": 37,
     "metadata": {},
     "output_type": "execute_result"
    }
   ],
   "source": [
    "df['age'].describe()"
   ]
  },
  {
   "cell_type": "code",
   "execution_count": 38,
   "metadata": {
    "ExecuteTime": {
     "end_time": "2019-09-28T17:15:22.200268Z",
     "start_time": "2019-09-28T17:15:22.152875Z"
    }
   },
   "outputs": [],
   "source": [
    "df['age_cat'] = pd.cut(df['age'], 10, labels=range(10)).astype(str)\n",
    "df['age_after_renovation_cat'] = pd.cut(df['age_after_renovation'], 10, labels=range(10))"
   ]
  },
  {
   "cell_type": "markdown",
   "metadata": {},
   "source": [
    "## Create dummy variables from object and categories"
   ]
  },
  {
   "cell_type": "code",
   "execution_count": 39,
   "metadata": {
    "ExecuteTime": {
     "end_time": "2019-09-28T17:15:22.243842Z",
     "start_time": "2019-09-28T17:15:22.202038Z"
    }
   },
   "outputs": [
    {
     "data": {
      "text/plain": [
       "Index(['waterfront', 'view', 'condition', 'grade', 'zipcode', 'zipcode_top10',\n",
       "       'age_cat', 'age_after_renovation_cat'],\n",
       "      dtype='object')"
      ]
     },
     "execution_count": 39,
     "metadata": {},
     "output_type": "execute_result"
    }
   ],
   "source": [
    "cols_obj_cat = df.select_dtypes(include=[np.object, 'category']).columns\n",
    "cols_obj_cat"
   ]
  },
  {
   "cell_type": "code",
   "execution_count": 40,
   "metadata": {
    "ExecuteTime": {
     "end_time": "2019-09-28T17:15:22.288962Z",
     "start_time": "2019-09-28T17:15:22.245798Z"
    }
   },
   "outputs": [
    {
     "data": {
      "text/html": [
       "<div>\n",
       "<style scoped>\n",
       "    .dataframe tbody tr th:only-of-type {\n",
       "        vertical-align: middle;\n",
       "    }\n",
       "\n",
       "    .dataframe tbody tr th {\n",
       "        vertical-align: top;\n",
       "    }\n",
       "\n",
       "    .dataframe thead th {\n",
       "        text-align: right;\n",
       "    }\n",
       "</style>\n",
       "<table border=\"1\" class=\"dataframe\">\n",
       "  <thead>\n",
       "    <tr style=\"text-align: right;\">\n",
       "      <th></th>\n",
       "      <th>waterfront</th>\n",
       "      <th>view</th>\n",
       "      <th>condition</th>\n",
       "      <th>grade</th>\n",
       "      <th>zipcode</th>\n",
       "      <th>zipcode_top10</th>\n",
       "      <th>age_cat</th>\n",
       "      <th>age_after_renovation_cat</th>\n",
       "    </tr>\n",
       "  </thead>\n",
       "  <tbody>\n",
       "    <tr>\n",
       "      <th>0</th>\n",
       "      <td>0</td>\n",
       "      <td>0</td>\n",
       "      <td>3</td>\n",
       "      <td>7</td>\n",
       "      <td>98178</td>\n",
       "      <td>others</td>\n",
       "      <td>5</td>\n",
       "      <td>5</td>\n",
       "    </tr>\n",
       "    <tr>\n",
       "      <th>1</th>\n",
       "      <td>0</td>\n",
       "      <td>0</td>\n",
       "      <td>3</td>\n",
       "      <td>7</td>\n",
       "      <td>98125</td>\n",
       "      <td>others</td>\n",
       "      <td>5</td>\n",
       "      <td>2</td>\n",
       "    </tr>\n",
       "    <tr>\n",
       "      <th>2</th>\n",
       "      <td>0</td>\n",
       "      <td>0</td>\n",
       "      <td>3</td>\n",
       "      <td>6</td>\n",
       "      <td>98028</td>\n",
       "      <td>others</td>\n",
       "      <td>7</td>\n",
       "      <td>7</td>\n",
       "    </tr>\n",
       "    <tr>\n",
       "      <th>3</th>\n",
       "      <td>0</td>\n",
       "      <td>0</td>\n",
       "      <td>5</td>\n",
       "      <td>7</td>\n",
       "      <td>98136</td>\n",
       "      <td>others</td>\n",
       "      <td>4</td>\n",
       "      <td>4</td>\n",
       "    </tr>\n",
       "    <tr>\n",
       "      <th>4</th>\n",
       "      <td>0</td>\n",
       "      <td>0</td>\n",
       "      <td>3</td>\n",
       "      <td>8</td>\n",
       "      <td>98074</td>\n",
       "      <td>others</td>\n",
       "      <td>2</td>\n",
       "      <td>2</td>\n",
       "    </tr>\n",
       "  </tbody>\n",
       "</table>\n",
       "</div>"
      ],
      "text/plain": [
       "  waterfront view condition grade zipcode zipcode_top10 age_cat  \\\n",
       "0          0    0         3     7   98178        others       5   \n",
       "1          0    0         3     7   98125        others       5   \n",
       "2          0    0         3     6   98028        others       7   \n",
       "3          0    0         5     7   98136        others       4   \n",
       "4          0    0         3     8   98074        others       2   \n",
       "\n",
       "  age_after_renovation_cat  \n",
       "0                        5  \n",
       "1                        2  \n",
       "2                        7  \n",
       "3                        4  \n",
       "4                        2  "
      ]
     },
     "execution_count": 40,
     "metadata": {},
     "output_type": "execute_result"
    }
   ],
   "source": [
    "df.select_dtypes(include=['object','category']).head()"
   ]
  },
  {
   "cell_type": "code",
   "execution_count": 41,
   "metadata": {
    "ExecuteTime": {
     "end_time": "2019-09-28T17:15:22.319498Z",
     "start_time": "2019-09-28T17:15:22.292433Z"
    }
   },
   "outputs": [],
   "source": [
    "cols_dummy = ['waterfront', 'view', 'condition', 'grade',  'zipcode_top10',\n",
    "       'age_cat', 'age_after_renovation_cat']"
   ]
  },
  {
   "cell_type": "code",
   "execution_count": 42,
   "metadata": {
    "ExecuteTime": {
     "end_time": "2019-09-28T17:15:22.394824Z",
     "start_time": "2019-09-28T17:15:22.321346Z"
    }
   },
   "outputs": [
    {
     "data": {
      "text/html": [
       "<div>\n",
       "<style scoped>\n",
       "    .dataframe tbody tr th:only-of-type {\n",
       "        vertical-align: middle;\n",
       "    }\n",
       "\n",
       "    .dataframe tbody tr th {\n",
       "        vertical-align: top;\n",
       "    }\n",
       "\n",
       "    .dataframe thead th {\n",
       "        text-align: right;\n",
       "    }\n",
       "</style>\n",
       "<table border=\"1\" class=\"dataframe\">\n",
       "  <thead>\n",
       "    <tr style=\"text-align: right;\">\n",
       "      <th></th>\n",
       "      <th>waterfront_0</th>\n",
       "      <th>waterfront_1</th>\n",
       "      <th>view_0</th>\n",
       "      <th>view_1</th>\n",
       "      <th>view_2</th>\n",
       "      <th>view_3</th>\n",
       "      <th>view_4</th>\n",
       "      <th>condition_1</th>\n",
       "      <th>condition_2</th>\n",
       "      <th>condition_3</th>\n",
       "      <th>condition_4</th>\n",
       "      <th>condition_5</th>\n",
       "      <th>grade_1</th>\n",
       "      <th>grade_10</th>\n",
       "      <th>grade_11</th>\n",
       "      <th>grade_12</th>\n",
       "      <th>grade_13</th>\n",
       "      <th>grade_3</th>\n",
       "      <th>grade_4</th>\n",
       "      <th>grade_5</th>\n",
       "      <th>grade_6</th>\n",
       "      <th>grade_7</th>\n",
       "      <th>grade_8</th>\n",
       "      <th>grade_9</th>\n",
       "      <th>zipcode_top10_98004</th>\n",
       "      <th>zipcode_top10_98006</th>\n",
       "      <th>zipcode_top10_98033</th>\n",
       "      <th>zipcode_top10_98039</th>\n",
       "      <th>zipcode_top10_98040</th>\n",
       "      <th>zipcode_top10_98102</th>\n",
       "      <th>zipcode_top10_98105</th>\n",
       "      <th>zipcode_top10_98155</th>\n",
       "      <th>zipcode_top10_98177</th>\n",
       "      <th>zipcode_top10_others</th>\n",
       "      <th>age_cat_0</th>\n",
       "      <th>age_cat_1</th>\n",
       "      <th>age_cat_2</th>\n",
       "      <th>age_cat_3</th>\n",
       "      <th>age_cat_4</th>\n",
       "      <th>age_cat_5</th>\n",
       "      <th>age_cat_6</th>\n",
       "      <th>age_cat_7</th>\n",
       "      <th>age_cat_8</th>\n",
       "      <th>age_cat_9</th>\n",
       "      <th>age_after_renovation_cat_0</th>\n",
       "      <th>age_after_renovation_cat_1</th>\n",
       "      <th>age_after_renovation_cat_2</th>\n",
       "      <th>age_after_renovation_cat_3</th>\n",
       "      <th>age_after_renovation_cat_4</th>\n",
       "      <th>age_after_renovation_cat_5</th>\n",
       "      <th>age_after_renovation_cat_6</th>\n",
       "      <th>age_after_renovation_cat_7</th>\n",
       "      <th>age_after_renovation_cat_8</th>\n",
       "      <th>age_after_renovation_cat_9</th>\n",
       "    </tr>\n",
       "  </thead>\n",
       "  <tbody>\n",
       "    <tr>\n",
       "      <th>0</th>\n",
       "      <td>1</td>\n",
       "      <td>0</td>\n",
       "      <td>1</td>\n",
       "      <td>0</td>\n",
       "      <td>0</td>\n",
       "      <td>0</td>\n",
       "      <td>0</td>\n",
       "      <td>0</td>\n",
       "      <td>0</td>\n",
       "      <td>1</td>\n",
       "      <td>0</td>\n",
       "      <td>0</td>\n",
       "      <td>0</td>\n",
       "      <td>0</td>\n",
       "      <td>0</td>\n",
       "      <td>0</td>\n",
       "      <td>0</td>\n",
       "      <td>0</td>\n",
       "      <td>0</td>\n",
       "      <td>0</td>\n",
       "      <td>0</td>\n",
       "      <td>1</td>\n",
       "      <td>0</td>\n",
       "      <td>0</td>\n",
       "      <td>0</td>\n",
       "      <td>0</td>\n",
       "      <td>0</td>\n",
       "      <td>0</td>\n",
       "      <td>0</td>\n",
       "      <td>0</td>\n",
       "      <td>0</td>\n",
       "      <td>0</td>\n",
       "      <td>0</td>\n",
       "      <td>1</td>\n",
       "      <td>0</td>\n",
       "      <td>0</td>\n",
       "      <td>0</td>\n",
       "      <td>0</td>\n",
       "      <td>0</td>\n",
       "      <td>1</td>\n",
       "      <td>0</td>\n",
       "      <td>0</td>\n",
       "      <td>0</td>\n",
       "      <td>0</td>\n",
       "      <td>0</td>\n",
       "      <td>0</td>\n",
       "      <td>0</td>\n",
       "      <td>0</td>\n",
       "      <td>0</td>\n",
       "      <td>1</td>\n",
       "      <td>0</td>\n",
       "      <td>0</td>\n",
       "      <td>0</td>\n",
       "      <td>0</td>\n",
       "    </tr>\n",
       "    <tr>\n",
       "      <th>1</th>\n",
       "      <td>1</td>\n",
       "      <td>0</td>\n",
       "      <td>1</td>\n",
       "      <td>0</td>\n",
       "      <td>0</td>\n",
       "      <td>0</td>\n",
       "      <td>0</td>\n",
       "      <td>0</td>\n",
       "      <td>0</td>\n",
       "      <td>1</td>\n",
       "      <td>0</td>\n",
       "      <td>0</td>\n",
       "      <td>0</td>\n",
       "      <td>0</td>\n",
       "      <td>0</td>\n",
       "      <td>0</td>\n",
       "      <td>0</td>\n",
       "      <td>0</td>\n",
       "      <td>0</td>\n",
       "      <td>0</td>\n",
       "      <td>0</td>\n",
       "      <td>1</td>\n",
       "      <td>0</td>\n",
       "      <td>0</td>\n",
       "      <td>0</td>\n",
       "      <td>0</td>\n",
       "      <td>0</td>\n",
       "      <td>0</td>\n",
       "      <td>0</td>\n",
       "      <td>0</td>\n",
       "      <td>0</td>\n",
       "      <td>0</td>\n",
       "      <td>0</td>\n",
       "      <td>1</td>\n",
       "      <td>0</td>\n",
       "      <td>0</td>\n",
       "      <td>0</td>\n",
       "      <td>0</td>\n",
       "      <td>0</td>\n",
       "      <td>1</td>\n",
       "      <td>0</td>\n",
       "      <td>0</td>\n",
       "      <td>0</td>\n",
       "      <td>0</td>\n",
       "      <td>0</td>\n",
       "      <td>0</td>\n",
       "      <td>1</td>\n",
       "      <td>0</td>\n",
       "      <td>0</td>\n",
       "      <td>0</td>\n",
       "      <td>0</td>\n",
       "      <td>0</td>\n",
       "      <td>0</td>\n",
       "      <td>0</td>\n",
       "    </tr>\n",
       "  </tbody>\n",
       "</table>\n",
       "</div>"
      ],
      "text/plain": [
       "   waterfront_0  waterfront_1  view_0  view_1  view_2  view_3  view_4  \\\n",
       "0             1             0       1       0       0       0       0   \n",
       "1             1             0       1       0       0       0       0   \n",
       "\n",
       "   condition_1  condition_2  condition_3  condition_4  condition_5  grade_1  \\\n",
       "0            0            0            1            0            0        0   \n",
       "1            0            0            1            0            0        0   \n",
       "\n",
       "   grade_10  grade_11  grade_12  grade_13  grade_3  grade_4  grade_5  grade_6  \\\n",
       "0         0         0         0         0        0        0        0        0   \n",
       "1         0         0         0         0        0        0        0        0   \n",
       "\n",
       "   grade_7  grade_8  grade_9  zipcode_top10_98004  zipcode_top10_98006  \\\n",
       "0        1        0        0                    0                    0   \n",
       "1        1        0        0                    0                    0   \n",
       "\n",
       "   zipcode_top10_98033  zipcode_top10_98039  zipcode_top10_98040  \\\n",
       "0                    0                    0                    0   \n",
       "1                    0                    0                    0   \n",
       "\n",
       "   zipcode_top10_98102  zipcode_top10_98105  zipcode_top10_98155  \\\n",
       "0                    0                    0                    0   \n",
       "1                    0                    0                    0   \n",
       "\n",
       "   zipcode_top10_98177  zipcode_top10_others  age_cat_0  age_cat_1  age_cat_2  \\\n",
       "0                    0                     1          0          0          0   \n",
       "1                    0                     1          0          0          0   \n",
       "\n",
       "   age_cat_3  age_cat_4  age_cat_5  age_cat_6  age_cat_7  age_cat_8  \\\n",
       "0          0          0          1          0          0          0   \n",
       "1          0          0          1          0          0          0   \n",
       "\n",
       "   age_cat_9  age_after_renovation_cat_0  age_after_renovation_cat_1  \\\n",
       "0          0                           0                           0   \n",
       "1          0                           0                           0   \n",
       "\n",
       "   age_after_renovation_cat_2  age_after_renovation_cat_3  \\\n",
       "0                           0                           0   \n",
       "1                           1                           0   \n",
       "\n",
       "   age_after_renovation_cat_4  age_after_renovation_cat_5  \\\n",
       "0                           0                           1   \n",
       "1                           0                           0   \n",
       "\n",
       "   age_after_renovation_cat_6  age_after_renovation_cat_7  \\\n",
       "0                           0                           0   \n",
       "1                           0                           0   \n",
       "\n",
       "   age_after_renovation_cat_8  age_after_renovation_cat_9  \n",
       "0                           0                           0  \n",
       "1                           0                           0  "
      ]
     },
     "execution_count": 42,
     "metadata": {},
     "output_type": "execute_result"
    }
   ],
   "source": [
    "df_dummy = pd.get_dummies(df[cols_dummy],drop_first=False)\n",
    "\n",
    "df_dummy.head(2)"
   ]
  },
  {
   "cell_type": "code",
   "execution_count": 43,
   "metadata": {
    "ExecuteTime": {
     "end_time": "2019-09-28T17:15:22.435421Z",
     "start_time": "2019-09-28T17:15:22.396830Z"
    }
   },
   "outputs": [
    {
     "name": "stdout",
     "output_type": "stream",
     "text": [
      "(21613, 31)\n"
     ]
    },
    {
     "data": {
      "text/html": [
       "<div>\n",
       "<style scoped>\n",
       "    .dataframe tbody tr th:only-of-type {\n",
       "        vertical-align: middle;\n",
       "    }\n",
       "\n",
       "    .dataframe tbody tr th {\n",
       "        vertical-align: top;\n",
       "    }\n",
       "\n",
       "    .dataframe thead th {\n",
       "        text-align: right;\n",
       "    }\n",
       "</style>\n",
       "<table border=\"1\" class=\"dataframe\">\n",
       "  <thead>\n",
       "    <tr style=\"text-align: right;\">\n",
       "      <th></th>\n",
       "      <th>id</th>\n",
       "      <th>date</th>\n",
       "      <th>price</th>\n",
       "      <th>bedrooms</th>\n",
       "      <th>bathrooms</th>\n",
       "      <th>sqft_living</th>\n",
       "      <th>sqft_lot</th>\n",
       "      <th>floors</th>\n",
       "      <th>waterfront</th>\n",
       "      <th>view</th>\n",
       "      <th>condition</th>\n",
       "      <th>grade</th>\n",
       "      <th>sqft_above</th>\n",
       "      <th>sqft_basement</th>\n",
       "      <th>yr_built</th>\n",
       "      <th>yr_renovated</th>\n",
       "      <th>zipcode</th>\n",
       "      <th>lat</th>\n",
       "      <th>long</th>\n",
       "      <th>sqft_living15</th>\n",
       "      <th>sqft_lot15</th>\n",
       "      <th>yr_sales</th>\n",
       "      <th>age</th>\n",
       "      <th>yr_renovated2</th>\n",
       "      <th>age_after_renovation</th>\n",
       "      <th>zipcode_top10</th>\n",
       "      <th>zipcode_houses</th>\n",
       "      <th>basement_bool</th>\n",
       "      <th>renovation_bool</th>\n",
       "      <th>age_cat</th>\n",
       "      <th>age_after_renovation_cat</th>\n",
       "    </tr>\n",
       "  </thead>\n",
       "  <tbody>\n",
       "    <tr>\n",
       "      <th>0</th>\n",
       "      <td>7129300520</td>\n",
       "      <td>2014-10-13</td>\n",
       "      <td>2.2e+05</td>\n",
       "      <td>3</td>\n",
       "      <td>1</td>\n",
       "      <td>1180</td>\n",
       "      <td>5650</td>\n",
       "      <td>1</td>\n",
       "      <td>0</td>\n",
       "      <td>0</td>\n",
       "      <td>3</td>\n",
       "      <td>7</td>\n",
       "      <td>1180</td>\n",
       "      <td>0</td>\n",
       "      <td>1955</td>\n",
       "      <td>0</td>\n",
       "      <td>98178</td>\n",
       "      <td>48</td>\n",
       "      <td>-1.2e+02</td>\n",
       "      <td>1340</td>\n",
       "      <td>5650</td>\n",
       "      <td>2014</td>\n",
       "      <td>59</td>\n",
       "      <td>1955</td>\n",
       "      <td>59</td>\n",
       "      <td>others</td>\n",
       "      <td>262</td>\n",
       "      <td>0</td>\n",
       "      <td>0</td>\n",
       "      <td>5</td>\n",
       "      <td>5</td>\n",
       "    </tr>\n",
       "    <tr>\n",
       "      <th>1</th>\n",
       "      <td>6414100192</td>\n",
       "      <td>2014-12-09</td>\n",
       "      <td>5.4e+05</td>\n",
       "      <td>3</td>\n",
       "      <td>2.2</td>\n",
       "      <td>2570</td>\n",
       "      <td>7242</td>\n",
       "      <td>2</td>\n",
       "      <td>0</td>\n",
       "      <td>0</td>\n",
       "      <td>3</td>\n",
       "      <td>7</td>\n",
       "      <td>2170</td>\n",
       "      <td>400</td>\n",
       "      <td>1951</td>\n",
       "      <td>1991</td>\n",
       "      <td>98125</td>\n",
       "      <td>48</td>\n",
       "      <td>-1.2e+02</td>\n",
       "      <td>1690</td>\n",
       "      <td>7639</td>\n",
       "      <td>2014</td>\n",
       "      <td>63</td>\n",
       "      <td>1991</td>\n",
       "      <td>23</td>\n",
       "      <td>others</td>\n",
       "      <td>410</td>\n",
       "      <td>1</td>\n",
       "      <td>1</td>\n",
       "      <td>5</td>\n",
       "      <td>2</td>\n",
       "    </tr>\n",
       "  </tbody>\n",
       "</table>\n",
       "</div>"
      ],
      "text/plain": [
       "           id       date   price  bedrooms  bathrooms  sqft_living  sqft_lot  \\\n",
       "0  7129300520 2014-10-13 2.2e+05         3          1         1180      5650   \n",
       "1  6414100192 2014-12-09 5.4e+05         3        2.2         2570      7242   \n",
       "\n",
       "   floors waterfront view condition grade  sqft_above  sqft_basement  \\\n",
       "0       1          0    0         3     7        1180              0   \n",
       "1       2          0    0         3     7        2170            400   \n",
       "\n",
       "   yr_built  yr_renovated zipcode  lat     long  sqft_living15  sqft_lot15  \\\n",
       "0      1955             0   98178   48 -1.2e+02           1340        5650   \n",
       "1      1951          1991   98125   48 -1.2e+02           1690        7639   \n",
       "\n",
       "   yr_sales  age  yr_renovated2  age_after_renovation zipcode_top10  \\\n",
       "0      2014   59           1955                    59        others   \n",
       "1      2014   63           1991                    23        others   \n",
       "\n",
       "   zipcode_houses  basement_bool  renovation_bool age_cat  \\\n",
       "0             262              0                0       5   \n",
       "1             410              1                1       5   \n",
       "\n",
       "  age_after_renovation_cat  \n",
       "0                        5  \n",
       "1                        2  "
      ]
     },
     "execution_count": 43,
     "metadata": {},
     "output_type": "execute_result"
    }
   ],
   "source": [
    "print(df.shape)\n",
    "df.head(2)"
   ]
  },
  {
   "cell_type": "code",
   "execution_count": 44,
   "metadata": {
    "ExecuteTime": {
     "end_time": "2019-09-28T17:15:22.497267Z",
     "start_time": "2019-09-28T17:15:22.441856Z"
    }
   },
   "outputs": [
    {
     "name": "stdout",
     "output_type": "stream",
     "text": [
      "(21613, 31)\n"
     ]
    },
    {
     "data": {
      "text/html": [
       "<div>\n",
       "<style scoped>\n",
       "    .dataframe tbody tr th:only-of-type {\n",
       "        vertical-align: middle;\n",
       "    }\n",
       "\n",
       "    .dataframe tbody tr th {\n",
       "        vertical-align: top;\n",
       "    }\n",
       "\n",
       "    .dataframe thead th {\n",
       "        text-align: right;\n",
       "    }\n",
       "</style>\n",
       "<table border=\"1\" class=\"dataframe\">\n",
       "  <thead>\n",
       "    <tr style=\"text-align: right;\">\n",
       "      <th></th>\n",
       "      <th>id</th>\n",
       "      <th>date</th>\n",
       "      <th>price</th>\n",
       "      <th>bedrooms</th>\n",
       "      <th>bathrooms</th>\n",
       "      <th>sqft_living</th>\n",
       "      <th>sqft_lot</th>\n",
       "      <th>floors</th>\n",
       "      <th>waterfront</th>\n",
       "      <th>view</th>\n",
       "      <th>condition</th>\n",
       "      <th>grade</th>\n",
       "      <th>sqft_above</th>\n",
       "      <th>sqft_basement</th>\n",
       "      <th>yr_built</th>\n",
       "      <th>yr_renovated</th>\n",
       "      <th>zipcode</th>\n",
       "      <th>lat</th>\n",
       "      <th>long</th>\n",
       "      <th>sqft_living15</th>\n",
       "      <th>sqft_lot15</th>\n",
       "      <th>yr_sales</th>\n",
       "      <th>age</th>\n",
       "      <th>yr_renovated2</th>\n",
       "      <th>age_after_renovation</th>\n",
       "      <th>zipcode_top10</th>\n",
       "      <th>zipcode_houses</th>\n",
       "      <th>basement_bool</th>\n",
       "      <th>renovation_bool</th>\n",
       "      <th>age_cat</th>\n",
       "      <th>age_after_renovation_cat</th>\n",
       "    </tr>\n",
       "  </thead>\n",
       "  <tbody>\n",
       "    <tr>\n",
       "      <th>0</th>\n",
       "      <td>7129300520</td>\n",
       "      <td>2014-10-13</td>\n",
       "      <td>2.2e+05</td>\n",
       "      <td>3</td>\n",
       "      <td>1</td>\n",
       "      <td>1180</td>\n",
       "      <td>5650</td>\n",
       "      <td>1</td>\n",
       "      <td>0</td>\n",
       "      <td>0</td>\n",
       "      <td>3</td>\n",
       "      <td>7</td>\n",
       "      <td>1180</td>\n",
       "      <td>0</td>\n",
       "      <td>1955</td>\n",
       "      <td>0</td>\n",
       "      <td>98178</td>\n",
       "      <td>48</td>\n",
       "      <td>-1.2e+02</td>\n",
       "      <td>1340</td>\n",
       "      <td>5650</td>\n",
       "      <td>2014</td>\n",
       "      <td>59</td>\n",
       "      <td>1955</td>\n",
       "      <td>59</td>\n",
       "      <td>others</td>\n",
       "      <td>262</td>\n",
       "      <td>0</td>\n",
       "      <td>0</td>\n",
       "      <td>5</td>\n",
       "      <td>5</td>\n",
       "    </tr>\n",
       "    <tr>\n",
       "      <th>1</th>\n",
       "      <td>6414100192</td>\n",
       "      <td>2014-12-09</td>\n",
       "      <td>5.4e+05</td>\n",
       "      <td>3</td>\n",
       "      <td>2.2</td>\n",
       "      <td>2570</td>\n",
       "      <td>7242</td>\n",
       "      <td>2</td>\n",
       "      <td>0</td>\n",
       "      <td>0</td>\n",
       "      <td>3</td>\n",
       "      <td>7</td>\n",
       "      <td>2170</td>\n",
       "      <td>400</td>\n",
       "      <td>1951</td>\n",
       "      <td>1991</td>\n",
       "      <td>98125</td>\n",
       "      <td>48</td>\n",
       "      <td>-1.2e+02</td>\n",
       "      <td>1690</td>\n",
       "      <td>7639</td>\n",
       "      <td>2014</td>\n",
       "      <td>63</td>\n",
       "      <td>1991</td>\n",
       "      <td>23</td>\n",
       "      <td>others</td>\n",
       "      <td>410</td>\n",
       "      <td>1</td>\n",
       "      <td>1</td>\n",
       "      <td>5</td>\n",
       "      <td>2</td>\n",
       "    </tr>\n",
       "  </tbody>\n",
       "</table>\n",
       "</div>"
      ],
      "text/plain": [
       "           id       date   price  bedrooms  bathrooms  sqft_living  sqft_lot  \\\n",
       "0  7129300520 2014-10-13 2.2e+05         3          1         1180      5650   \n",
       "1  6414100192 2014-12-09 5.4e+05         3        2.2         2570      7242   \n",
       "\n",
       "   floors waterfront view condition grade  sqft_above  sqft_basement  \\\n",
       "0       1          0    0         3     7        1180              0   \n",
       "1       2          0    0         3     7        2170            400   \n",
       "\n",
       "   yr_built  yr_renovated zipcode  lat     long  sqft_living15  sqft_lot15  \\\n",
       "0      1955             0   98178   48 -1.2e+02           1340        5650   \n",
       "1      1951          1991   98125   48 -1.2e+02           1690        7639   \n",
       "\n",
       "   yr_sales  age  yr_renovated2  age_after_renovation zipcode_top10  \\\n",
       "0      2014   59           1955                    59        others   \n",
       "1      2014   63           1991                    23        others   \n",
       "\n",
       "   zipcode_houses  basement_bool  renovation_bool age_cat  \\\n",
       "0             262              0                0       5   \n",
       "1             410              1                1       5   \n",
       "\n",
       "  age_after_renovation_cat  \n",
       "0                        5  \n",
       "1                        2  "
      ]
     },
     "execution_count": 44,
     "metadata": {},
     "output_type": "execute_result"
    }
   ],
   "source": [
    "df_encoded = pd.concat([df,df_dummy], axis=1)\n",
    "print(df.shape)\n",
    "df.head(2)"
   ]
  },
  {
   "cell_type": "markdown",
   "metadata": {},
   "source": [
    "# Log transformation of large numerical values\n",
    "\n",
    "> bedrooms, bathrooms, floors, waterfront, view, condition, grade are categorical columns\n",
    "  but we can also use them as numerical columns to see how to model performs.\n",
    " \n",
    "> lat and long are geo coordinates, they are also categorical and sometimes treated\n",
    "  as numerical data.\n",
    "  \n",
    "> basement = living - above is redundant variable, may be used or not. This is just a \n",
    "  choice of feature engineering.\n",
    "  \n",
    "> year columns can be converted to age columns and ages can be binned, however, they \n",
    "  also can be treated as number and used in the model.\n",
    "  \n",
    "> features with large values can be log1p transformed."
   ]
  },
  {
   "cell_type": "code",
   "execution_count": 45,
   "metadata": {
    "ExecuteTime": {
     "end_time": "2019-09-28T17:15:22.556956Z",
     "start_time": "2019-09-28T17:15:22.498961Z"
    }
   },
   "outputs": [
    {
     "data": {
      "text/html": [
       "<div>\n",
       "<style scoped>\n",
       "    .dataframe tbody tr th:only-of-type {\n",
       "        vertical-align: middle;\n",
       "    }\n",
       "\n",
       "    .dataframe tbody tr th {\n",
       "        vertical-align: top;\n",
       "    }\n",
       "\n",
       "    .dataframe thead th {\n",
       "        text-align: right;\n",
       "    }\n",
       "</style>\n",
       "<table border=\"1\" class=\"dataframe\">\n",
       "  <thead>\n",
       "    <tr style=\"text-align: right;\">\n",
       "      <th></th>\n",
       "      <th>id</th>\n",
       "      <th>date</th>\n",
       "      <th>price</th>\n",
       "      <th>bedrooms</th>\n",
       "      <th>bathrooms</th>\n",
       "      <th>sqft_living</th>\n",
       "      <th>sqft_lot</th>\n",
       "      <th>floors</th>\n",
       "      <th>waterfront</th>\n",
       "      <th>view</th>\n",
       "      <th>condition</th>\n",
       "      <th>grade</th>\n",
       "      <th>sqft_above</th>\n",
       "      <th>sqft_basement</th>\n",
       "      <th>yr_built</th>\n",
       "      <th>yr_renovated</th>\n",
       "      <th>zipcode</th>\n",
       "      <th>lat</th>\n",
       "      <th>long</th>\n",
       "      <th>sqft_living15</th>\n",
       "      <th>sqft_lot15</th>\n",
       "      <th>yr_sales</th>\n",
       "      <th>age</th>\n",
       "      <th>yr_renovated2</th>\n",
       "      <th>age_after_renovation</th>\n",
       "      <th>zipcode_top10</th>\n",
       "      <th>zipcode_houses</th>\n",
       "      <th>basement_bool</th>\n",
       "      <th>renovation_bool</th>\n",
       "      <th>age_cat</th>\n",
       "      <th>age_after_renovation_cat</th>\n",
       "    </tr>\n",
       "  </thead>\n",
       "  <tbody>\n",
       "    <tr>\n",
       "      <th>0</th>\n",
       "      <td>7129300520</td>\n",
       "      <td>2014-10-13</td>\n",
       "      <td>2.2e+05</td>\n",
       "      <td>3</td>\n",
       "      <td>1</td>\n",
       "      <td>1180</td>\n",
       "      <td>5650</td>\n",
       "      <td>1</td>\n",
       "      <td>0</td>\n",
       "      <td>0</td>\n",
       "      <td>3</td>\n",
       "      <td>7</td>\n",
       "      <td>1180</td>\n",
       "      <td>0</td>\n",
       "      <td>1955</td>\n",
       "      <td>0</td>\n",
       "      <td>98178</td>\n",
       "      <td>48</td>\n",
       "      <td>-1.2e+02</td>\n",
       "      <td>1340</td>\n",
       "      <td>5650</td>\n",
       "      <td>2014</td>\n",
       "      <td>59</td>\n",
       "      <td>1955</td>\n",
       "      <td>59</td>\n",
       "      <td>others</td>\n",
       "      <td>262</td>\n",
       "      <td>0</td>\n",
       "      <td>0</td>\n",
       "      <td>5</td>\n",
       "      <td>5</td>\n",
       "    </tr>\n",
       "    <tr>\n",
       "      <th>1</th>\n",
       "      <td>6414100192</td>\n",
       "      <td>2014-12-09</td>\n",
       "      <td>5.4e+05</td>\n",
       "      <td>3</td>\n",
       "      <td>2.2</td>\n",
       "      <td>2570</td>\n",
       "      <td>7242</td>\n",
       "      <td>2</td>\n",
       "      <td>0</td>\n",
       "      <td>0</td>\n",
       "      <td>3</td>\n",
       "      <td>7</td>\n",
       "      <td>2170</td>\n",
       "      <td>400</td>\n",
       "      <td>1951</td>\n",
       "      <td>1991</td>\n",
       "      <td>98125</td>\n",
       "      <td>48</td>\n",
       "      <td>-1.2e+02</td>\n",
       "      <td>1690</td>\n",
       "      <td>7639</td>\n",
       "      <td>2014</td>\n",
       "      <td>63</td>\n",
       "      <td>1991</td>\n",
       "      <td>23</td>\n",
       "      <td>others</td>\n",
       "      <td>410</td>\n",
       "      <td>1</td>\n",
       "      <td>1</td>\n",
       "      <td>5</td>\n",
       "      <td>2</td>\n",
       "    </tr>\n",
       "    <tr>\n",
       "      <th>2</th>\n",
       "      <td>5631500400</td>\n",
       "      <td>2015-02-25</td>\n",
       "      <td>1.8e+05</td>\n",
       "      <td>2</td>\n",
       "      <td>1</td>\n",
       "      <td>770</td>\n",
       "      <td>10000</td>\n",
       "      <td>1</td>\n",
       "      <td>0</td>\n",
       "      <td>0</td>\n",
       "      <td>3</td>\n",
       "      <td>6</td>\n",
       "      <td>770</td>\n",
       "      <td>0</td>\n",
       "      <td>1933</td>\n",
       "      <td>0</td>\n",
       "      <td>98028</td>\n",
       "      <td>48</td>\n",
       "      <td>-1.2e+02</td>\n",
       "      <td>2720</td>\n",
       "      <td>8062</td>\n",
       "      <td>2015</td>\n",
       "      <td>82</td>\n",
       "      <td>1933</td>\n",
       "      <td>82</td>\n",
       "      <td>others</td>\n",
       "      <td>283</td>\n",
       "      <td>0</td>\n",
       "      <td>0</td>\n",
       "      <td>7</td>\n",
       "      <td>7</td>\n",
       "    </tr>\n",
       "    <tr>\n",
       "      <th>3</th>\n",
       "      <td>2487200875</td>\n",
       "      <td>2014-12-09</td>\n",
       "      <td>6e+05</td>\n",
       "      <td>4</td>\n",
       "      <td>3</td>\n",
       "      <td>1960</td>\n",
       "      <td>5000</td>\n",
       "      <td>1</td>\n",
       "      <td>0</td>\n",
       "      <td>0</td>\n",
       "      <td>5</td>\n",
       "      <td>7</td>\n",
       "      <td>1050</td>\n",
       "      <td>910</td>\n",
       "      <td>1965</td>\n",
       "      <td>0</td>\n",
       "      <td>98136</td>\n",
       "      <td>48</td>\n",
       "      <td>-1.2e+02</td>\n",
       "      <td>1360</td>\n",
       "      <td>5000</td>\n",
       "      <td>2014</td>\n",
       "      <td>49</td>\n",
       "      <td>1965</td>\n",
       "      <td>49</td>\n",
       "      <td>others</td>\n",
       "      <td>263</td>\n",
       "      <td>1</td>\n",
       "      <td>0</td>\n",
       "      <td>4</td>\n",
       "      <td>4</td>\n",
       "    </tr>\n",
       "    <tr>\n",
       "      <th>4</th>\n",
       "      <td>1954400510</td>\n",
       "      <td>2015-02-18</td>\n",
       "      <td>5.1e+05</td>\n",
       "      <td>3</td>\n",
       "      <td>2</td>\n",
       "      <td>1680</td>\n",
       "      <td>8080</td>\n",
       "      <td>1</td>\n",
       "      <td>0</td>\n",
       "      <td>0</td>\n",
       "      <td>3</td>\n",
       "      <td>8</td>\n",
       "      <td>1680</td>\n",
       "      <td>0</td>\n",
       "      <td>1987</td>\n",
       "      <td>0</td>\n",
       "      <td>98074</td>\n",
       "      <td>48</td>\n",
       "      <td>-1.2e+02</td>\n",
       "      <td>1800</td>\n",
       "      <td>7503</td>\n",
       "      <td>2015</td>\n",
       "      <td>28</td>\n",
       "      <td>1987</td>\n",
       "      <td>28</td>\n",
       "      <td>others</td>\n",
       "      <td>441</td>\n",
       "      <td>0</td>\n",
       "      <td>0</td>\n",
       "      <td>2</td>\n",
       "      <td>2</td>\n",
       "    </tr>\n",
       "  </tbody>\n",
       "</table>\n",
       "</div>"
      ],
      "text/plain": [
       "           id       date   price  bedrooms  bathrooms  sqft_living  sqft_lot  \\\n",
       "0  7129300520 2014-10-13 2.2e+05         3          1         1180      5650   \n",
       "1  6414100192 2014-12-09 5.4e+05         3        2.2         2570      7242   \n",
       "2  5631500400 2015-02-25 1.8e+05         2          1          770     10000   \n",
       "3  2487200875 2014-12-09   6e+05         4          3         1960      5000   \n",
       "4  1954400510 2015-02-18 5.1e+05         3          2         1680      8080   \n",
       "\n",
       "   floors waterfront view condition grade  sqft_above  sqft_basement  \\\n",
       "0       1          0    0         3     7        1180              0   \n",
       "1       2          0    0         3     7        2170            400   \n",
       "2       1          0    0         3     6         770              0   \n",
       "3       1          0    0         5     7        1050            910   \n",
       "4       1          0    0         3     8        1680              0   \n",
       "\n",
       "   yr_built  yr_renovated zipcode  lat     long  sqft_living15  sqft_lot15  \\\n",
       "0      1955             0   98178   48 -1.2e+02           1340        5650   \n",
       "1      1951          1991   98125   48 -1.2e+02           1690        7639   \n",
       "2      1933             0   98028   48 -1.2e+02           2720        8062   \n",
       "3      1965             0   98136   48 -1.2e+02           1360        5000   \n",
       "4      1987             0   98074   48 -1.2e+02           1800        7503   \n",
       "\n",
       "   yr_sales  age  yr_renovated2  age_after_renovation zipcode_top10  \\\n",
       "0      2014   59           1955                    59        others   \n",
       "1      2014   63           1991                    23        others   \n",
       "2      2015   82           1933                    82        others   \n",
       "3      2014   49           1965                    49        others   \n",
       "4      2015   28           1987                    28        others   \n",
       "\n",
       "   zipcode_houses  basement_bool  renovation_bool age_cat  \\\n",
       "0             262              0                0       5   \n",
       "1             410              1                1       5   \n",
       "2             283              0                0       7   \n",
       "3             263              1                0       4   \n",
       "4             441              0                0       2   \n",
       "\n",
       "  age_after_renovation_cat  \n",
       "0                        5  \n",
       "1                        2  \n",
       "2                        7  \n",
       "3                        4  \n",
       "4                        2  "
      ]
     },
     "execution_count": 45,
     "metadata": {},
     "output_type": "execute_result"
    }
   ],
   "source": [
    "df.head()"
   ]
  },
  {
   "cell_type": "code",
   "execution_count": 46,
   "metadata": {
    "ExecuteTime": {
     "end_time": "2019-09-28T17:15:22.611671Z",
     "start_time": "2019-09-28T17:15:22.558610Z"
    }
   },
   "outputs": [
    {
     "data": {
      "text/html": [
       "<div>\n",
       "<style scoped>\n",
       "    .dataframe tbody tr th:only-of-type {\n",
       "        vertical-align: middle;\n",
       "    }\n",
       "\n",
       "    .dataframe tbody tr th {\n",
       "        vertical-align: top;\n",
       "    }\n",
       "\n",
       "    .dataframe thead th {\n",
       "        text-align: right;\n",
       "    }\n",
       "</style>\n",
       "<table border=\"1\" class=\"dataframe\">\n",
       "  <thead>\n",
       "    <tr style=\"text-align: right;\">\n",
       "      <th></th>\n",
       "      <th>price</th>\n",
       "      <th>sqft_living</th>\n",
       "      <th>sqft_lot</th>\n",
       "      <th>sqft_above</th>\n",
       "      <th>sqft_basement</th>\n",
       "      <th>sqft_living15</th>\n",
       "      <th>sqft_lot15</th>\n",
       "      <th>log1p_price</th>\n",
       "      <th>log1p_sqft_living</th>\n",
       "      <th>log1p_sqft_lot</th>\n",
       "      <th>log1p_sqft_above</th>\n",
       "      <th>log1p_sqft_basement</th>\n",
       "      <th>log1p_sqft_living15</th>\n",
       "      <th>log1p_sqft_lot15</th>\n",
       "    </tr>\n",
       "  </thead>\n",
       "  <tbody>\n",
       "    <tr>\n",
       "      <th>0</th>\n",
       "      <td>2.2e+05</td>\n",
       "      <td>1180</td>\n",
       "      <td>5650</td>\n",
       "      <td>1180</td>\n",
       "      <td>0</td>\n",
       "      <td>1340</td>\n",
       "      <td>5650</td>\n",
       "      <td>12</td>\n",
       "      <td>7.1</td>\n",
       "      <td>8.6</td>\n",
       "      <td>7.1</td>\n",
       "      <td>0</td>\n",
       "      <td>7.2</td>\n",
       "      <td>8.6</td>\n",
       "    </tr>\n",
       "    <tr>\n",
       "      <th>1</th>\n",
       "      <td>5.4e+05</td>\n",
       "      <td>2570</td>\n",
       "      <td>7242</td>\n",
       "      <td>2170</td>\n",
       "      <td>400</td>\n",
       "      <td>1690</td>\n",
       "      <td>7639</td>\n",
       "      <td>13</td>\n",
       "      <td>7.9</td>\n",
       "      <td>8.9</td>\n",
       "      <td>7.7</td>\n",
       "      <td>6</td>\n",
       "      <td>7.4</td>\n",
       "      <td>8.9</td>\n",
       "    </tr>\n",
       "    <tr>\n",
       "      <th>2</th>\n",
       "      <td>1.8e+05</td>\n",
       "      <td>770</td>\n",
       "      <td>10000</td>\n",
       "      <td>770</td>\n",
       "      <td>0</td>\n",
       "      <td>2720</td>\n",
       "      <td>8062</td>\n",
       "      <td>12</td>\n",
       "      <td>6.6</td>\n",
       "      <td>9.2</td>\n",
       "      <td>6.6</td>\n",
       "      <td>0</td>\n",
       "      <td>7.9</td>\n",
       "      <td>9</td>\n",
       "    </tr>\n",
       "    <tr>\n",
       "      <th>3</th>\n",
       "      <td>6e+05</td>\n",
       "      <td>1960</td>\n",
       "      <td>5000</td>\n",
       "      <td>1050</td>\n",
       "      <td>910</td>\n",
       "      <td>1360</td>\n",
       "      <td>5000</td>\n",
       "      <td>13</td>\n",
       "      <td>7.6</td>\n",
       "      <td>8.5</td>\n",
       "      <td>7</td>\n",
       "      <td>6.8</td>\n",
       "      <td>7.2</td>\n",
       "      <td>8.5</td>\n",
       "    </tr>\n",
       "    <tr>\n",
       "      <th>4</th>\n",
       "      <td>5.1e+05</td>\n",
       "      <td>1680</td>\n",
       "      <td>8080</td>\n",
       "      <td>1680</td>\n",
       "      <td>0</td>\n",
       "      <td>1800</td>\n",
       "      <td>7503</td>\n",
       "      <td>13</td>\n",
       "      <td>7.4</td>\n",
       "      <td>9</td>\n",
       "      <td>7.4</td>\n",
       "      <td>0</td>\n",
       "      <td>7.5</td>\n",
       "      <td>8.9</td>\n",
       "    </tr>\n",
       "  </tbody>\n",
       "</table>\n",
       "</div>"
      ],
      "text/plain": [
       "    price  sqft_living  sqft_lot  sqft_above  sqft_basement  sqft_living15  \\\n",
       "0 2.2e+05         1180      5650        1180              0           1340   \n",
       "1 5.4e+05         2570      7242        2170            400           1690   \n",
       "2 1.8e+05          770     10000         770              0           2720   \n",
       "3   6e+05         1960      5000        1050            910           1360   \n",
       "4 5.1e+05         1680      8080        1680              0           1800   \n",
       "\n",
       "   sqft_lot15  log1p_price  log1p_sqft_living  log1p_sqft_lot  \\\n",
       "0        5650           12                7.1             8.6   \n",
       "1        7639           13                7.9             8.9   \n",
       "2        8062           12                6.6             9.2   \n",
       "3        5000           13                7.6             8.5   \n",
       "4        7503           13                7.4               9   \n",
       "\n",
       "   log1p_sqft_above  log1p_sqft_basement  log1p_sqft_living15  \\\n",
       "0               7.1                    0                  7.2   \n",
       "1               7.7                    6                  7.4   \n",
       "2               6.6                    0                  7.9   \n",
       "3                 7                  6.8                  7.2   \n",
       "4               7.4                    0                  7.5   \n",
       "\n",
       "   log1p_sqft_lot15  \n",
       "0               8.6  \n",
       "1               8.9  \n",
       "2                 9  \n",
       "3               8.5  \n",
       "4               8.9  "
      ]
     },
     "execution_count": 46,
     "metadata": {},
     "output_type": "execute_result"
    }
   ],
   "source": [
    "cols_log = ['price', 'sqft_living', 'sqft_lot', 'sqft_above',\n",
    "            'sqft_basement', 'sqft_living15', 'sqft_lot15']\n",
    "\n",
    "for col in cols_log:\n",
    "    df['log1p_' + col] = np.log1p(df[col])\n",
    "    df_encoded['log1p_' + col] = np.log1p(df[col])\n",
    "\n",
    "df.filter(regex='|'.join(cols_log)).head()"
   ]
  },
  {
   "cell_type": "markdown",
   "metadata": {},
   "source": [
    "# Drop unwanted columns"
   ]
  },
  {
   "cell_type": "code",
   "execution_count": 47,
   "metadata": {
    "ExecuteTime": {
     "end_time": "2019-09-28T17:15:22.645008Z",
     "start_time": "2019-09-28T17:15:22.613237Z"
    }
   },
   "outputs": [
    {
     "data": {
      "text/plain": [
       "Index(['id', 'date', 'price', 'bedrooms', 'bathrooms', 'sqft_living',\n",
       "       'sqft_lot', 'floors', 'waterfront', 'view', 'condition', 'grade',\n",
       "       'sqft_above', 'sqft_basement', 'yr_built', 'yr_renovated', 'zipcode',\n",
       "       'lat', 'long', 'sqft_living15', 'sqft_lot15', 'yr_sales', 'age',\n",
       "       'yr_renovated2', 'age_after_renovation', 'zipcode_top10',\n",
       "       'zipcode_houses', 'basement_bool', 'renovation_bool', 'age_cat',\n",
       "       'age_after_renovation_cat', 'log1p_price', 'log1p_sqft_living',\n",
       "       'log1p_sqft_lot', 'log1p_sqft_above', 'log1p_sqft_basement',\n",
       "       'log1p_sqft_living15', 'log1p_sqft_lot15'],\n",
       "      dtype='object')"
      ]
     },
     "execution_count": 47,
     "metadata": {},
     "output_type": "execute_result"
    }
   ],
   "source": [
    "df.columns"
   ]
  },
  {
   "cell_type": "code",
   "execution_count": 48,
   "metadata": {
    "ExecuteTime": {
     "end_time": "2019-09-28T17:15:22.676328Z",
     "start_time": "2019-09-28T17:15:22.646609Z"
    }
   },
   "outputs": [],
   "source": [
    "df.drop('id',inplace=True,axis=1)"
   ]
  },
  {
   "cell_type": "markdown",
   "metadata": {},
   "source": [
    "# Save clean data"
   ]
  },
  {
   "cell_type": "code",
   "execution_count": 49,
   "metadata": {
    "ExecuteTime": {
     "end_time": "2019-09-28T17:15:22.728300Z",
     "start_time": "2019-09-28T17:15:22.681665Z"
    }
   },
   "outputs": [
    {
     "data": {
      "text/plain": [
       "0"
      ]
     },
     "execution_count": 49,
     "metadata": {},
     "output_type": "execute_result"
    }
   ],
   "source": [
    "df.isnull().sum().sum()"
   ]
  },
  {
   "cell_type": "code",
   "execution_count": 50,
   "metadata": {
    "ExecuteTime": {
     "end_time": "2019-09-28T17:15:22.766080Z",
     "start_time": "2019-09-28T17:15:22.730065Z"
    }
   },
   "outputs": [
    {
     "data": {
      "text/plain": [
       "(21613, 37)"
      ]
     },
     "execution_count": 50,
     "metadata": {},
     "output_type": "execute_result"
    }
   ],
   "source": [
    "df.shape"
   ]
  },
  {
   "cell_type": "code",
   "execution_count": 51,
   "metadata": {
    "ExecuteTime": {
     "end_time": "2019-09-28T17:15:22.809216Z",
     "start_time": "2019-09-28T17:15:22.768024Z"
    }
   },
   "outputs": [
    {
     "data": {
      "text/plain": [
       "(21613, 54)"
      ]
     },
     "execution_count": 51,
     "metadata": {},
     "output_type": "execute_result"
    }
   ],
   "source": [
    "df_dummy.shape"
   ]
  },
  {
   "cell_type": "code",
   "execution_count": 52,
   "metadata": {
    "ExecuteTime": {
     "end_time": "2019-09-28T17:15:24.085000Z",
     "start_time": "2019-09-28T17:15:22.813353Z"
    }
   },
   "outputs": [],
   "source": [
    "df.to_csv('../data/processed/data_cleaned.csv',index=False,header=True)"
   ]
  },
  {
   "cell_type": "code",
   "execution_count": 53,
   "metadata": {
    "ExecuteTime": {
     "end_time": "2019-09-28T17:15:25.892454Z",
     "start_time": "2019-09-28T17:15:24.086813Z"
    }
   },
   "outputs": [],
   "source": [
    "df_encoded.to_csv('../data/processed/data_cleaned_encoded.csv',index=False,header=True)"
   ]
  },
  {
   "cell_type": "markdown",
   "metadata": {},
   "source": [
    "# For Modelling\n",
    "\n",
    "- We can scale the data.\n",
    "- We can remove outliers (or data with very few classes)"
   ]
  },
  {
   "cell_type": "code",
   "execution_count": 55,
   "metadata": {
    "ExecuteTime": {
     "end_time": "2019-09-28T19:11:04.822892Z",
     "start_time": "2019-09-28T19:11:04.785568Z"
    }
   },
   "outputs": [
    {
     "data": {
      "text/plain": [
       "Index(['id', 'date', 'price', 'bedrooms', 'bathrooms', 'sqft_living',\n",
       "       'sqft_lot', 'floors', 'waterfront', 'view', 'condition', 'grade',\n",
       "       'sqft_above', 'sqft_basement', 'yr_built', 'yr_renovated', 'zipcode',\n",
       "       'lat', 'long', 'sqft_living15', 'sqft_lot15', 'yr_sales', 'age',\n",
       "       'yr_renovated2', 'age_after_renovation', 'zipcode_top10',\n",
       "       'zipcode_houses', 'basement_bool', 'renovation_bool', 'age_cat',\n",
       "       'age_after_renovation_cat', 'waterfront_0', 'waterfront_1', 'view_0',\n",
       "       'view_1', 'view_2', 'view_3', 'view_4', 'condition_1', 'condition_2',\n",
       "       'condition_3', 'condition_4', 'condition_5', 'grade_1', 'grade_10',\n",
       "       'grade_11', 'grade_12', 'grade_13', 'grade_3', 'grade_4', 'grade_5',\n",
       "       'grade_6', 'grade_7', 'grade_8', 'grade_9', 'zipcode_top10_98004',\n",
       "       'zipcode_top10_98006', 'zipcode_top10_98033', 'zipcode_top10_98039',\n",
       "       'zipcode_top10_98040', 'zipcode_top10_98102', 'zipcode_top10_98105',\n",
       "       'zipcode_top10_98155', 'zipcode_top10_98177', 'zipcode_top10_others',\n",
       "       'age_cat_0', 'age_cat_1', 'age_cat_2', 'age_cat_3', 'age_cat_4',\n",
       "       'age_cat_5', 'age_cat_6', 'age_cat_7', 'age_cat_8', 'age_cat_9',\n",
       "       'age_after_renovation_cat_0', 'age_after_renovation_cat_1',\n",
       "       'age_after_renovation_cat_2', 'age_after_renovation_cat_3',\n",
       "       'age_after_renovation_cat_4', 'age_after_renovation_cat_5',\n",
       "       'age_after_renovation_cat_6', 'age_after_renovation_cat_7',\n",
       "       'age_after_renovation_cat_8', 'age_after_renovation_cat_9',\n",
       "       'log1p_price', 'log1p_sqft_living', 'log1p_sqft_lot',\n",
       "       'log1p_sqft_above', 'log1p_sqft_basement', 'log1p_sqft_living15',\n",
       "       'log1p_sqft_lot15'],\n",
       "      dtype='object')"
      ]
     },
     "execution_count": 55,
     "metadata": {},
     "output_type": "execute_result"
    }
   ],
   "source": [
    "df_encoded.columns"
   ]
  },
  {
   "cell_type": "code",
   "execution_count": null,
   "metadata": {},
   "outputs": [],
   "source": []
  }
 ],
 "metadata": {
  "kernelspec": {
   "display_name": "Python (dataSc)",
   "language": "python",
   "name": "datasc"
  },
  "language_info": {
   "codemirror_mode": {
    "name": "ipython",
    "version": 3
   },
   "file_extension": ".py",
   "mimetype": "text/x-python",
   "name": "python",
   "nbconvert_exporter": "python",
   "pygments_lexer": "ipython3",
   "version": "3.7.3"
  },
  "toc": {
   "base_numbering": 1,
   "nav_menu": {},
   "number_sections": true,
   "sideBar": true,
   "skip_h1_title": false,
   "title_cell": "Table of Contents",
   "title_sidebar": "Contents",
   "toc_cell": true,
   "toc_position": {},
   "toc_section_display": true,
   "toc_window_display": true
  }
 },
 "nbformat": 4,
 "nbformat_minor": 2
}
