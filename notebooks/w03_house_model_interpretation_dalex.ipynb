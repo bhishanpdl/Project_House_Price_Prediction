{
 "cells": [
  {
   "cell_type": "markdown",
   "metadata": {
    "toc": true
   },
   "source": [
    "<h1>Table of Contents<span class=\"tocSkip\"></span></h1>\n",
    "<div class=\"toc\"><ul class=\"toc-item\"><li><span><a href=\"#Introduction\" data-toc-modified-id=\"Introduction-1\"><span class=\"toc-item-num\">1&nbsp;&nbsp;</span>Introduction</a></span></li><li><span><a href=\"#Load-the-libraries\" data-toc-modified-id=\"Load-the-libraries-2\"><span class=\"toc-item-num\">2&nbsp;&nbsp;</span>Load the libraries</a></span></li><li><span><a href=\"#Load-the-libraries\" data-toc-modified-id=\"Load-the-libraries-3\"><span class=\"toc-item-num\">3&nbsp;&nbsp;</span>Load the libraries</a></span></li><li><span><a href=\"#Useful-Functions\" data-toc-modified-id=\"Useful-Functions-4\"><span class=\"toc-item-num\">4&nbsp;&nbsp;</span>Useful Functions</a></span></li><li><span><a href=\"#Parameters\" data-toc-modified-id=\"Parameters-5\"><span class=\"toc-item-num\">5&nbsp;&nbsp;</span>Parameters</a></span></li><li><span><a href=\"#Load-the-Data\" data-toc-modified-id=\"Load-the-Data-6\"><span class=\"toc-item-num\">6&nbsp;&nbsp;</span>Load the Data</a></span></li><li><span><a href=\"#Modelling-Xgboost\" data-toc-modified-id=\"Modelling-Xgboost-7\"><span class=\"toc-item-num\">7&nbsp;&nbsp;</span>Modelling Xgboost</a></span></li><li><span><a href=\"#Model-Evaluation-using-dalex\" data-toc-modified-id=\"Model-Evaluation-using-dalex-8\"><span class=\"toc-item-num\">8&nbsp;&nbsp;</span>Model Evaluation using dalex</a></span><ul class=\"toc-item\"><li><span><a href=\"#Create-model-explainer\" data-toc-modified-id=\"Create-model-explainer-8.1\"><span class=\"toc-item-num\">8.1&nbsp;&nbsp;</span>Create model explainer</a></span></li><li><span><a href=\"#DATASET-LEVEL\" data-toc-modified-id=\"DATASET-LEVEL-8.2\"><span class=\"toc-item-num\">8.2&nbsp;&nbsp;</span><a href=\"https://pbiecek.github.io/ema/dataset-level.html\" target=\"_blank\">DATASET LEVEL</a></a></span><ul class=\"toc-item\"><li><span><a href=\"#Model-Performance\" data-toc-modified-id=\"Model-Performance-8.2.1\"><span class=\"toc-item-num\">8.2.1&nbsp;&nbsp;</span><a href=\"https://pbiecek.github.io/ema/modelPerformance.html\" target=\"_blank\">Model Performance</a></a></span></li><li><span><a href=\"#Variable-Importance-using:-model_parts\" data-toc-modified-id=\"Variable-Importance-using:-model_parts-8.2.2\"><span class=\"toc-item-num\">8.2.2&nbsp;&nbsp;</span><a href=\"https://pbiecek.github.io/ema/featureImportance.html\" target=\"_blank\">Variable Importance using: model_parts</a></a></span></li><li><span><a href=\"#model_profile:-accumulated\" data-toc-modified-id=\"model_profile:-accumulated-8.2.3\"><span class=\"toc-item-num\">8.2.3&nbsp;&nbsp;</span>model_profile: accumulated</a></span></li><li><span><a href=\"#Model-Profile:-Partial-(pdp)\" data-toc-modified-id=\"Model-Profile:-Partial-(pdp)-8.2.4\"><span class=\"toc-item-num\">8.2.4&nbsp;&nbsp;</span>Model Profile: Partial (pdp)</a></span></li><li><span><a href=\"#Model-Profile:-partial-with-categorical\" data-toc-modified-id=\"Model-Profile:-partial-with-categorical-8.2.5\"><span class=\"toc-item-num\">8.2.5&nbsp;&nbsp;</span>Model Profile: partial with categorical</a></span></li></ul></li><li><span><a href=\"#INSTANCE-LEVEL\" data-toc-modified-id=\"INSTANCE-LEVEL-8.3\"><span class=\"toc-item-num\">8.3&nbsp;&nbsp;</span><a href=\"https://pbiecek.github.io/ema/InstanceLevelExploration.html\" target=\"_blank\">INSTANCE LEVEL</a></a></span><ul class=\"toc-item\"><li><span><a href=\"#Predict\" data-toc-modified-id=\"Predict-8.3.1\"><span class=\"toc-item-num\">8.3.1&nbsp;&nbsp;</span>Predict</a></span></li><li><span><a href=\"#Variable-Attribution-(predict_parts)\" data-toc-modified-id=\"Variable-Attribution-(predict_parts)-8.3.2\"><span class=\"toc-item-num\">8.3.2&nbsp;&nbsp;</span>Variable Attribution (predict_parts)</a></span></li><li><span><a href=\"#-predict_profile:-Ceteris-Paribus-Profiles\" data-toc-modified-id=\"-predict_profile:-Ceteris-Paribus-Profiles-8.3.3\"><span class=\"toc-item-num\">8.3.3&nbsp;&nbsp;</span><a href=\"https://pbiecek.github.io/ema/ceterisParibus.html\" target=\"_blank\"> predict_profile: Ceteris Paribus Profiles</a></a></span></li></ul></li></ul></li><li><span><a href=\"#Cleanup\" data-toc-modified-id=\"Cleanup-9\"><span class=\"toc-item-num\">9&nbsp;&nbsp;</span>Cleanup</a></span></li><li><span><a href=\"#Time-Taken\" data-toc-modified-id=\"Time-Taken-10\"><span class=\"toc-item-num\">10&nbsp;&nbsp;</span>Time Taken</a></span></li></ul></div>"
   ]
  },
  {
   "cell_type": "markdown",
   "metadata": {},
   "source": [
    "<div class=\"alert alert-block alert-success\">\n",
    "<b>Kernel Author:</b>  <br>\n",
    "<a href=\"https://bhishanpdl.github.io/\" , target=\"_blank\">Bhishan Poudel,  Data Scientist, Ph.D Astrophysics</a> .\n",
    "</div>"
   ]
  },
  {
   "cell_type": "markdown",
   "metadata": {},
   "source": [
    "# Introduction\n",
    "Here, in this notebook I will use the model interpretation module [dalex](https://github.com/ModelOriented/DALEX) for the regression problem of house price prediction."
   ]
  },
  {
   "cell_type": "markdown",
   "metadata": {},
   "source": [
    "# Load the libraries"
   ]
  },
  {
   "cell_type": "code",
   "execution_count": 2,
   "metadata": {
    "ExecuteTime": {
     "end_time": "2020-11-25T19:06:56.462192Z",
     "start_time": "2020-11-25T19:06:56.457287Z"
    }
   },
   "outputs": [],
   "source": [
    "import time\n",
    "time_start_notebook = time.time()"
   ]
  },
  {
   "cell_type": "code",
   "execution_count": 3,
   "metadata": {
    "ExecuteTime": {
     "end_time": "2020-11-25T19:06:56.477162Z",
     "start_time": "2020-11-25T19:06:56.468569Z"
    }
   },
   "outputs": [],
   "source": [
    "%%capture\n",
    "import os\n",
    "import sys\n",
    "ENV_COLAB = 'google.colab' in sys.modules\n",
    "\n",
    "if ENV_COLAB:\n",
    "    ## install modules\n",
    "    !pip install watermark\n",
    "    !pip install --upgrade dalex\n",
    "\n",
    "    # if we update existing module, we need to restart colab\n",
    "    !pip install -U scikit-learn\n",
    "\n",
    "    ## print\n",
    "    print('Environment: Google Colaboratory.')\n",
    "TREE_METHOD = 'gpu_hist' if ENV_COLAB else 'auto'"
   ]
  },
  {
   "cell_type": "markdown",
   "metadata": {},
   "source": [
    "# Load the libraries"
   ]
  },
  {
   "cell_type": "code",
   "execution_count": 4,
   "metadata": {
    "ExecuteTime": {
     "end_time": "2020-11-25T19:06:59.521969Z",
     "start_time": "2020-11-25T19:06:56.483991Z"
    }
   },
   "outputs": [
    {
     "name": "stdout",
     "output_type": "stream",
     "text": [
      "Bhishan Poudel 2020-11-25 \n",
      "\n",
      "CPython 3.7.9\n",
      "IPython 7.18.1\n",
      "\n",
      "compiler   : Clang 10.0.0 \n",
      "system     : Darwin\n",
      "release    : 19.6.0\n",
      "machine    : x86_64\n",
      "processor  : i386\n",
      "CPU cores  : 4\n",
      "interpreter: 64bit\n",
      "\n",
      "dalex     0.4.0\n",
      "pandas    1.1.2\n",
      "numpy     1.18.5\n",
      "joblib    0.16.0\n",
      "json      2.0.9\n",
      "sklearn   0.23.2\n",
      "xgboost   1.2.0\n",
      "watermark 2.0.2\n",
      "\n"
     ]
    }
   ],
   "source": [
    "import numpy as np\n",
    "import pandas as pd\n",
    "import xgboost\n",
    "import sklearn\n",
    "from sklearn import metrics as skmetrics\n",
    "import os\n",
    "import joblib\n",
    "\n",
    "# model eval\n",
    "import dalex\n",
    "import dalex as dx\n",
    "\n",
    "# random state\n",
    "SEED = 0\n",
    "RNG = np.random.RandomState(SEED)\n",
    "\n",
    "# versions\n",
    "import watermark\n",
    "%load_ext watermark\n",
    "%watermark -a \"Bhishan Poudel\" -d -v -m\n",
    "print()\n",
    "%watermark -iv"
   ]
  },
  {
   "cell_type": "markdown",
   "metadata": {},
   "source": [
    "# Useful Functions"
   ]
  },
  {
   "cell_type": "code",
   "execution_count": 5,
   "metadata": {
    "ExecuteTime": {
     "end_time": "2020-11-25T19:06:59.532230Z",
     "start_time": "2020-11-25T19:06:59.526598Z"
    }
   },
   "outputs": [],
   "source": [
    "def adjustedR2(rsquared,nrows,ncols):\n",
    "    return rsquared- (ncols-1)/(nrows-ncols) * (1-rsquared)\n",
    "\n",
    "def print_regr_eval(ytest,ypreds,ncols):\n",
    "    rmse = np.sqrt(skmetrics.mean_squared_error(ytest,ypreds))\n",
    "    r2 = skmetrics.r2_score(ytest,ypreds)\n",
    "    ar2 = adjustedR2(r2,len(ytest),ncols)\n",
    "    evs = skmetrics.explained_variance_score(ytest, ypreds)\n",
    "\n",
    "    print(f\"\"\"\n",
    "             RMSE : {rmse:,.2f}\n",
    "Explained Variance: {evs:.6f}\n",
    "         R-Squared: {r2:,.6f}\n",
    "Adjusted R-squared: {ar2:,.6f}\n",
    "\n",
    "\"\"\")\n",
    "    \n",
    "def show_methods(obj, ncols=4):\n",
    "    lst = [i for i in dir(obj) if i[0]!='_' ]\n",
    "    df = pd.DataFrame(np.array_split(lst,ncols)).T.fillna('')\n",
    "    return df"
   ]
  },
  {
   "cell_type": "markdown",
   "metadata": {},
   "source": [
    "# Parameters"
   ]
  },
  {
   "cell_type": "code",
   "execution_count": 6,
   "metadata": {
    "ExecuteTime": {
     "end_time": "2020-11-25T19:06:59.541237Z",
     "start_time": "2020-11-25T19:06:59.534518Z"
    }
   },
   "outputs": [
    {
     "name": "stdout",
     "output_type": "stream",
     "text": [
      "../data/processed/Xtest.csv.zip\n"
     ]
    }
   ],
   "source": [
    "if ENV_COLAB:\n",
    "    path_git = 'https://raw.githubusercontent.com/bhishanpdl/Datasets/master/'\n",
    "    project = 'Projects/King_County_Seattle_House_Price_Kaggle/'\n",
    "    data_path_parent = path_git + project\n",
    "else:\n",
    "    data_path_parent = '../data/'\n",
    "\n",
    "data_path_Xtest = data_path_parent + 'processed/Xtest.csv.zip'\n",
    "data_path_ytest = data_path_parent + 'processed/ytest.csv'\n",
    "target = 'price'\n",
    "train_size = 0.8\n",
    "\n",
    "print(data_path_Xtest)"
   ]
  },
  {
   "cell_type": "markdown",
   "metadata": {
    "ExecuteTime": {
     "end_time": "2020-09-18T12:54:40.056558Z",
     "start_time": "2020-09-18T12:54:39.963176Z"
    }
   },
   "source": [
    "# Load the Data"
   ]
  },
  {
   "cell_type": "code",
   "execution_count": 7,
   "metadata": {
    "ExecuteTime": {
     "end_time": "2020-11-25T19:06:59.766793Z",
     "start_time": "2020-11-25T19:06:59.544989Z"
    }
   },
   "outputs": [
    {
     "name": "stdout",
     "output_type": "stream",
     "text": [
      "\n",
      "df_Xtest  = (4323, 67)\n",
      "ytest     = (4323,)\n",
      "\n",
      "\n"
     ]
    },
    {
     "data": {
      "text/html": [
       "<div>\n",
       "<style scoped>\n",
       "    .dataframe tbody tr th:only-of-type {\n",
       "        vertical-align: middle;\n",
       "    }\n",
       "\n",
       "    .dataframe tbody tr th {\n",
       "        vertical-align: top;\n",
       "    }\n",
       "\n",
       "    .dataframe thead th {\n",
       "        text-align: right;\n",
       "    }\n",
       "</style>\n",
       "<table border=\"1\" class=\"dataframe\">\n",
       "  <thead>\n",
       "    <tr style=\"text-align: right;\">\n",
       "      <th></th>\n",
       "      <th>age</th>\n",
       "      <th>age_after_renovation</th>\n",
       "      <th>age_after_renovation_cat</th>\n",
       "      <th>age_after_renovation_sq</th>\n",
       "      <th>age_cat</th>\n",
       "      <th>age_sq</th>\n",
       "      <th>basement_bool</th>\n",
       "      <th>bathrooms</th>\n",
       "      <th>bathrooms_sq</th>\n",
       "      <th>bedrooms</th>\n",
       "      <th>...</th>\n",
       "      <th>view_sq</th>\n",
       "      <th>waterfront</th>\n",
       "      <th>waterfront_0</th>\n",
       "      <th>waterfront_1</th>\n",
       "      <th>waterfront_sq</th>\n",
       "      <th>yr_built</th>\n",
       "      <th>yr_renovated</th>\n",
       "      <th>yr_renovated2</th>\n",
       "      <th>yr_sales</th>\n",
       "      <th>zipcode</th>\n",
       "    </tr>\n",
       "  </thead>\n",
       "  <tbody>\n",
       "    <tr>\n",
       "      <th>0</th>\n",
       "      <td>-1.372335</td>\n",
       "      <td>-1.316486</td>\n",
       "      <td>-1.265291</td>\n",
       "      <td>-0.845091</td>\n",
       "      <td>-1.320662</td>\n",
       "      <td>-0.885667</td>\n",
       "      <td>-0.801818</td>\n",
       "      <td>0.506258</td>\n",
       "      <td>0.326221</td>\n",
       "      <td>-0.39033</td>\n",
       "      <td>...</td>\n",
       "      <td>-0.261712</td>\n",
       "      <td>-0.089698</td>\n",
       "      <td>0.089698</td>\n",
       "      <td>-0.089698</td>\n",
       "      <td>-0.089698</td>\n",
       "      <td>1.361464</td>\n",
       "      <td>-0.207992</td>\n",
       "      <td>1.305630</td>\n",
       "      <td>-0.693043</td>\n",
       "      <td>-1.422563</td>\n",
       "    </tr>\n",
       "    <tr>\n",
       "      <th>1</th>\n",
       "      <td>-0.084817</td>\n",
       "      <td>-0.005269</td>\n",
       "      <td>-0.062185</td>\n",
       "      <td>-0.285363</td>\n",
       "      <td>-0.139825</td>\n",
       "      <td>-0.348085</td>\n",
       "      <td>-0.801818</td>\n",
       "      <td>0.506258</td>\n",
       "      <td>0.326221</td>\n",
       "      <td>-0.39033</td>\n",
       "      <td>...</td>\n",
       "      <td>-0.261712</td>\n",
       "      <td>-0.089698</td>\n",
       "      <td>0.089698</td>\n",
       "      <td>-0.089698</td>\n",
       "      <td>-0.089698</td>\n",
       "      <td>0.107715</td>\n",
       "      <td>-0.207992</td>\n",
       "      <td>0.028586</td>\n",
       "      <td>1.442912</td>\n",
       "      <td>-1.441324</td>\n",
       "    </tr>\n",
       "  </tbody>\n",
       "</table>\n",
       "<p>2 rows × 67 columns</p>\n",
       "</div>"
      ],
      "text/plain": [
       "        age  age_after_renovation  age_after_renovation_cat  \\\n",
       "0 -1.372335             -1.316486                 -1.265291   \n",
       "1 -0.084817             -0.005269                 -0.062185   \n",
       "\n",
       "   age_after_renovation_sq   age_cat    age_sq  basement_bool  bathrooms  \\\n",
       "0                -0.845091 -1.320662 -0.885667      -0.801818   0.506258   \n",
       "1                -0.285363 -0.139825 -0.348085      -0.801818   0.506258   \n",
       "\n",
       "   bathrooms_sq  bedrooms  ...   view_sq  waterfront  waterfront_0  \\\n",
       "0      0.326221  -0.39033  ... -0.261712   -0.089698      0.089698   \n",
       "1      0.326221  -0.39033  ... -0.261712   -0.089698      0.089698   \n",
       "\n",
       "   waterfront_1  waterfront_sq  yr_built  yr_renovated  yr_renovated2  \\\n",
       "0     -0.089698      -0.089698  1.361464     -0.207992       1.305630   \n",
       "1     -0.089698      -0.089698  0.107715     -0.207992       0.028586   \n",
       "\n",
       "   yr_sales   zipcode  \n",
       "0 -0.693043 -1.422563  \n",
       "1  1.442912 -1.441324  \n",
       "\n",
       "[2 rows x 67 columns]"
      ]
     },
     "metadata": {},
     "output_type": "display_data"
    },
    {
     "data": {
      "text/html": [
       "<div>\n",
       "<style scoped>\n",
       "    .dataframe tbody tr th:only-of-type {\n",
       "        vertical-align: middle;\n",
       "    }\n",
       "\n",
       "    .dataframe tbody tr th {\n",
       "        vertical-align: top;\n",
       "    }\n",
       "\n",
       "    .dataframe thead th {\n",
       "        text-align: right;\n",
       "    }\n",
       "</style>\n",
       "<table border=\"1\" class=\"dataframe\">\n",
       "  <thead>\n",
       "    <tr style=\"text-align: right;\">\n",
       "      <th></th>\n",
       "      <th>0</th>\n",
       "    </tr>\n",
       "  </thead>\n",
       "  <tbody>\n",
       "    <tr>\n",
       "      <th>0</th>\n",
       "      <td>285000.0</td>\n",
       "    </tr>\n",
       "    <tr>\n",
       "      <th>1</th>\n",
       "      <td>239950.0</td>\n",
       "    </tr>\n",
       "  </tbody>\n",
       "</table>\n",
       "</div>"
      ],
      "text/plain": [
       "          0\n",
       "0  285000.0\n",
       "1  239950.0"
      ]
     },
     "metadata": {},
     "output_type": "display_data"
    }
   ],
   "source": [
    "# Here, we only need test data\n",
    "df_Xtest  = pd.read_csv(data_path_Xtest,compression='zip')\n",
    "ser_ytest = pd.read_csv(data_path_ytest,header=None)\n",
    "ytest  = np.array(ser_ytest).flatten()\n",
    "features = list(df_Xtest.columns)\n",
    "\n",
    "s = f\"\"\"\n",
    "df_Xtest  = {df_Xtest.shape}\n",
    "ytest     = {ytest.shape}\n",
    "\n",
    "\"\"\"\n",
    "print(s)\n",
    "\n",
    "display(df_Xtest.head(2))\n",
    "display(ser_ytest.head(2))\n",
    "\n",
    "assert df_Xtest.shape[0] == ytest.shape[0]"
   ]
  },
  {
   "cell_type": "markdown",
   "metadata": {},
   "source": [
    "# Modelling Xgboost"
   ]
  },
  {
   "cell_type": "code",
   "execution_count": 8,
   "metadata": {
    "ExecuteTime": {
     "end_time": "2020-11-25T19:06:59.901277Z",
     "start_time": "2020-11-25T19:06:59.771859Z"
    }
   },
   "outputs": [
    {
     "name": "stdout",
     "output_type": "stream",
     "text": [
      "ytest: [285000. 239950. 460000.]\n",
      "ypreds:  [343218.4  204292.33 508420.8 ]\n",
      "\n",
      "             RMSE : 110,471.76\n",
      "Explained Variance: 0.910365\n",
      "         R-Squared: 0.909445\n",
      "Adjusted R-squared: 0.908041\n",
      "\n",
      "\n"
     ]
    }
   ],
   "source": [
    "path_model_xgb = '../models/model_xgb_logtarget.dump'\n",
    "model = xgboost.XGBRegressor()\n",
    "model.load_model(path_model_xgb)\n",
    "\n",
    "ypreds_log1p = model.predict(df_Xtest)\n",
    "ypreds = np.expm1(ypreds_log1p)\n",
    "\n",
    "print('ytest:', ytest[:3])\n",
    "print('ypreds: ', ypreds[:3])\n",
    "print_regr_eval(ytest,ypreds,df_Xtest.shape[1])"
   ]
  },
  {
   "cell_type": "markdown",
   "metadata": {},
   "source": [
    "# Model Evaluation using dalex\n",
    "\n",
    "![](images/dalex_chart.png)"
   ]
  },
  {
   "cell_type": "code",
   "execution_count": 9,
   "metadata": {
    "ExecuteTime": {
     "end_time": "2020-11-25T19:06:59.927693Z",
     "start_time": "2020-11-25T19:06:59.918950Z"
    }
   },
   "outputs": [],
   "source": [
    "import dalex"
   ]
  },
  {
   "cell_type": "code",
   "execution_count": 10,
   "metadata": {
    "ExecuteTime": {
     "end_time": "2020-11-25T19:06:59.943836Z",
     "start_time": "2020-11-25T19:06:59.931878Z"
    }
   },
   "outputs": [
    {
     "data": {
      "text/html": [
       "<div>\n",
       "<style scoped>\n",
       "    .dataframe tbody tr th:only-of-type {\n",
       "        vertical-align: middle;\n",
       "    }\n",
       "\n",
       "    .dataframe tbody tr th {\n",
       "        vertical-align: top;\n",
       "    }\n",
       "\n",
       "    .dataframe thead th {\n",
       "        text-align: right;\n",
       "    }\n",
       "</style>\n",
       "<table border=\"1\" class=\"dataframe\">\n",
       "  <thead>\n",
       "    <tr style=\"text-align: right;\">\n",
       "      <th></th>\n",
       "      <th>0</th>\n",
       "      <th>1</th>\n",
       "      <th>2</th>\n",
       "      <th>3</th>\n",
       "    </tr>\n",
       "  </thead>\n",
       "  <tbody>\n",
       "    <tr>\n",
       "      <th>0</th>\n",
       "      <td>Arena</td>\n",
       "      <td>dataset_level</td>\n",
       "      <td>fairness</td>\n",
       "      <td>wrappers</td>\n",
       "    </tr>\n",
       "    <tr>\n",
       "      <th>1</th>\n",
       "      <td>Explainer</td>\n",
       "      <td>datasets</td>\n",
       "      <td>instance_level</td>\n",
       "      <td></td>\n",
       "    </tr>\n",
       "  </tbody>\n",
       "</table>\n",
       "</div>"
      ],
      "text/plain": [
       "           0              1               2         3\n",
       "0      Arena  dataset_level        fairness  wrappers\n",
       "1  Explainer       datasets  instance_level          "
      ]
     },
     "execution_count": 10,
     "metadata": {},
     "output_type": "execute_result"
    }
   ],
   "source": [
    "show_methods(dalex)"
   ]
  },
  {
   "cell_type": "markdown",
   "metadata": {},
   "source": [
    "## Create model explainer"
   ]
  },
  {
   "cell_type": "code",
   "execution_count": 11,
   "metadata": {
    "ExecuteTime": {
     "end_time": "2020-11-25T19:06:59.952315Z",
     "start_time": "2020-11-25T19:06:59.948691Z"
    }
   },
   "outputs": [],
   "source": [
    "def predict_function(model, data):\n",
    "    return np.expm1(model.predict(data))"
   ]
  },
  {
   "cell_type": "code",
   "execution_count": 12,
   "metadata": {
    "ExecuteTime": {
     "end_time": "2020-11-25T19:07:00.144299Z",
     "start_time": "2020-11-25T19:06:59.954446Z"
    }
   },
   "outputs": [
    {
     "name": "stdout",
     "output_type": "stream",
     "text": [
      "Preparation of a new explainer is initiated\n",
      "\n",
      "  -> data              : 4323 rows 67 cols\n",
      "  -> target variable   : 4323 values\n",
      "  -> model_class       : xgboost.sklearn.XGBRegressor (default)\n",
      "  -> label             : xgboost\n",
      "  -> predict function  : <function predict_function at 0x7f8de6e95320> will be used\n",
      "  -> predict function  : accepts only pandas.DataFrame, numpy.ndarray causes problems\n",
      "  -> predicted values  : min = 1.28e+05, mean = 5.31e+05, max = 5.49e+06\n",
      "  -> model type        : regression will be used (default)\n",
      "  -> residual function : difference between y and yhat (default)\n",
      "  -> residuals         : min = -1.01e+06, mean = 1.11e+04, max = 2.31e+06\n",
      "  -> model_info        : package xgboost\n",
      "\n",
      "A new explainer has been created!\n"
     ]
    }
   ],
   "source": [
    "exp = dx.Explainer(model, df_Xtest, ytest,\n",
    "                  predict_function=predict_function,\n",
    "                  label='xgboost')"
   ]
  },
  {
   "cell_type": "code",
   "execution_count": 13,
   "metadata": {
    "ExecuteTime": {
     "end_time": "2020-11-25T19:07:00.171022Z",
     "start_time": "2020-11-25T19:07:00.150926Z"
    }
   },
   "outputs": [
    {
     "data": {
      "text/html": [
       "<div>\n",
       "<style scoped>\n",
       "    .dataframe tbody tr th:only-of-type {\n",
       "        vertical-align: middle;\n",
       "    }\n",
       "\n",
       "    .dataframe tbody tr th {\n",
       "        vertical-align: top;\n",
       "    }\n",
       "\n",
       "    .dataframe thead th {\n",
       "        text-align: right;\n",
       "    }\n",
       "</style>\n",
       "<table border=\"1\" class=\"dataframe\">\n",
       "  <thead>\n",
       "    <tr style=\"text-align: right;\">\n",
       "      <th></th>\n",
       "      <th>0</th>\n",
       "      <th>1</th>\n",
       "      <th>2</th>\n",
       "      <th>3</th>\n",
       "    </tr>\n",
       "  </thead>\n",
       "  <tbody>\n",
       "    <tr>\n",
       "      <th>0</th>\n",
       "      <td>data</td>\n",
       "      <td>model_class</td>\n",
       "      <td>model_surrogate</td>\n",
       "      <td>residual</td>\n",
       "    </tr>\n",
       "    <tr>\n",
       "      <th>1</th>\n",
       "      <td>dump</td>\n",
       "      <td>model_diagnostics</td>\n",
       "      <td>model_type</td>\n",
       "      <td>residual_function</td>\n",
       "    </tr>\n",
       "    <tr>\n",
       "      <th>2</th>\n",
       "      <td>dumps</td>\n",
       "      <td>model_fairness</td>\n",
       "      <td>predict</td>\n",
       "      <td>residuals</td>\n",
       "    </tr>\n",
       "    <tr>\n",
       "      <th>3</th>\n",
       "      <td>label</td>\n",
       "      <td>model_info</td>\n",
       "      <td>predict_function</td>\n",
       "      <td>weights</td>\n",
       "    </tr>\n",
       "    <tr>\n",
       "      <th>4</th>\n",
       "      <td>load</td>\n",
       "      <td>model_parts</td>\n",
       "      <td>predict_parts</td>\n",
       "      <td>y</td>\n",
       "    </tr>\n",
       "    <tr>\n",
       "      <th>5</th>\n",
       "      <td>loads</td>\n",
       "      <td>model_performance</td>\n",
       "      <td>predict_profile</td>\n",
       "      <td>y_hat</td>\n",
       "    </tr>\n",
       "    <tr>\n",
       "      <th>6</th>\n",
       "      <td>model</td>\n",
       "      <td>model_profile</td>\n",
       "      <td>predict_surrogate</td>\n",
       "      <td></td>\n",
       "    </tr>\n",
       "  </tbody>\n",
       "</table>\n",
       "</div>"
      ],
      "text/plain": [
       "       0                  1                  2                  3\n",
       "0   data        model_class    model_surrogate           residual\n",
       "1   dump  model_diagnostics         model_type  residual_function\n",
       "2  dumps     model_fairness            predict          residuals\n",
       "3  label         model_info   predict_function            weights\n",
       "4   load        model_parts      predict_parts                  y\n",
       "5  loads  model_performance    predict_profile              y_hat\n",
       "6  model      model_profile  predict_surrogate                   "
      ]
     },
     "execution_count": 13,
     "metadata": {},
     "output_type": "execute_result"
    }
   ],
   "source": [
    "show_methods(exp)"
   ]
  },
  {
   "cell_type": "markdown",
   "metadata": {},
   "source": [
    "## [DATASET LEVEL](https://pbiecek.github.io/ema/dataset-level.html)"
   ]
  },
  {
   "cell_type": "markdown",
   "metadata": {},
   "source": [
    "### [Model Performance](https://pbiecek.github.io/ema/modelPerformance.html)"
   ]
  },
  {
   "cell_type": "code",
   "execution_count": 14,
   "metadata": {
    "ExecuteTime": {
     "end_time": "2020-11-25T19:07:00.199334Z",
     "start_time": "2020-11-25T19:07:00.183806Z"
    }
   },
   "outputs": [
    {
     "data": {
      "text/html": [
       "<div>\n",
       "<style scoped>\n",
       "    .dataframe tbody tr th:only-of-type {\n",
       "        vertical-align: middle;\n",
       "    }\n",
       "\n",
       "    .dataframe tbody tr th {\n",
       "        vertical-align: top;\n",
       "    }\n",
       "\n",
       "    .dataframe thead th {\n",
       "        text-align: right;\n",
       "    }\n",
       "</style>\n",
       "<table border=\"1\" class=\"dataframe\">\n",
       "  <thead>\n",
       "    <tr style=\"text-align: right;\">\n",
       "      <th></th>\n",
       "      <th>mse</th>\n",
       "      <th>rmse</th>\n",
       "      <th>r2</th>\n",
       "      <th>mae</th>\n",
       "      <th>mad</th>\n",
       "    </tr>\n",
       "  </thead>\n",
       "  <tbody>\n",
       "    <tr>\n",
       "      <th>xgboost</th>\n",
       "      <td>1.220401e+10</td>\n",
       "      <td>110471.757834</td>\n",
       "      <td>0.909445</td>\n",
       "      <td>62077.413965</td>\n",
       "      <td>36802.65625</td>\n",
       "    </tr>\n",
       "  </tbody>\n",
       "</table>\n",
       "</div>"
      ],
      "text/plain": [
       "                  mse           rmse        r2           mae          mad\n",
       "xgboost  1.220401e+10  110471.757834  0.909445  62077.413965  36802.65625"
      ]
     },
     "execution_count": 14,
     "metadata": {},
     "output_type": "execute_result"
    }
   ],
   "source": [
    "# %%time\n",
    "\n",
    "# mperf = exp.model_performance('regression')\n",
    "# display(mpperf.result)\n",
    "# mperf.plot() # if we have 2 models, we can use mperf.plot(mperf2)"
   ]
  },
  {
   "cell_type": "markdown",
   "metadata": {
    "ExecuteTime": {
     "end_time": "2020-11-25T19:07:00.678780Z",
     "start_time": "2020-11-25T19:07:00.226937Z"
    }
   },
   "source": [
    "![](images/dalex_mperf.png)"
   ]
  },
  {
   "cell_type": "markdown",
   "metadata": {},
   "source": [
    "###  [Variable Importance using: model_parts](https://pbiecek.github.io/ema/featureImportance.html)\n",
    "\n",
    "Customize the computation with parameters:\n",
    "\n",
    "- **loss_function** function to use for drop-out loss evaluation\n",
    "\n",
    "- **B** number of bootstrap rounds (e.g. `15` for slower computation but more stable results)\n",
    "\n",
    "- **N** number of observations to use (e.g. `500` for faster computation but less stable results)\n",
    "\n",
    "- **variable_groups** Dict of lists of variables. Each list is treated as one group. This is for testing joint variable importance"
   ]
  },
  {
   "cell_type": "code",
   "execution_count": 56,
   "metadata": {
    "ExecuteTime": {
     "end_time": "2020-11-25T19:33:40.658167Z",
     "start_time": "2020-11-25T19:33:40.655482Z"
    }
   },
   "outputs": [],
   "source": [
    "# df_Xtest.columns.to_numpy()"
   ]
  },
  {
   "cell_type": "code",
   "execution_count": 19,
   "metadata": {
    "ExecuteTime": {
     "end_time": "2020-11-25T19:07:00.701390Z",
     "start_time": "2020-11-25T19:07:00.695183Z"
    }
   },
   "outputs": [],
   "source": [
    "variable_groups = {\n",
    "    'age': ['age', 'age_after_renovation',\n",
    "            'age_after_renovation_cat',\n",
    "            'age_after_renovation_sq', 'age_cat', 'age_sq'],\n",
    "\n",
    "    'bathrooms': ['bathrooms', 'bathrooms_sq'],\n",
    "\n",
    "    'bedrooms': ['bedrooms', 'bedrooms_sq'],\n",
    "\n",
    "    'condition': ['condition', 'condition_1',\n",
    "                  'condition_2', 'condition_3',\n",
    "                  'condition_4', 'condition_5'],\n",
    "\n",
    "    'floor': ['floors', 'floors_sq'],\n",
    "\n",
    "    'grade': ['grade','grade_10', 'grade_11',\n",
    "              'grade_12', 'grade_13', 'grade_4',\n",
    "              'grade_5', 'grade_6', 'grade_7',\n",
    "              'grade_8', 'grade_9'],\n",
    "\n",
    "    'lat_long': ['lat','long'],\n",
    "\n",
    "    'sqft' : ['sqft_above', 'sqft_basement', 'sqft_living',\n",
    "        'sqft_living15', 'sqft_lot', 'sqft_lot15',\n",
    "        'log1p_sqft_above', 'log1p_sqft_above_sq',\n",
    "        'log1p_sqft_basement','log1p_sqft_basement_sq',\n",
    "        'log1p_sqft_living','log1p_sqft_living15',\n",
    "        'log1p_sqft_living15_sq','log1p_sqft_living_sq',\n",
    "        'log1p_sqft_lot', 'log1p_sqft_lot15',\n",
    "        'log1p_sqft_lot15_sq', 'log1p_sqft_lot_sq'],\n",
    "    \n",
    "    'bool': ['renovation_bool'],\n",
    "\n",
    "    'view': ['view', 'view_0','view_1', 'view_2', 'view_3',\n",
    "             'view_4', 'view_sq'],\n",
    "\n",
    "    'waterfront': ['waterfront','waterfront_0',\n",
    "                   'waterfront_1', 'waterfront_sq'],\n",
    "\n",
    "    'year': ['yr_built','yr_renovated',\n",
    "             'yr_renovated2', 'yr_sales'],\n",
    "\n",
    "    'zipcode': ['zipcode']\n",
    "\n",
    "}"
   ]
  },
  {
   "cell_type": "markdown",
   "metadata": {
    "ExecuteTime": {
     "end_time": "2020-11-22T22:52:34.405763Z",
     "start_time": "2020-11-22T22:52:34.399154Z"
    }
   },
   "source": [
    "```python\n",
    "model_parts(\n",
    "    loss_function=None,\n",
    "    type=('variable_importance', 'ratio', 'difference', 'shap_wrapper'),\n",
    "    N=1000,\n",
    "    B=10, # num perm rounds, default = 10\n",
    "    variables=None, # select only those variables\n",
    "    variable_groups=None,\n",
    "    keep_raw_permutations=True,\n",
    "    processes=1,\n",
    "    random_state=None,\n",
    "    **kwargs)\n",
    "```\n",
    "\n",
    "Customize the plot with parameters:\n",
    "\n",
    "\n",
    "```python\n",
    "plot(objects=None,\n",
    "     max_vars=10,\n",
    "     digits=3,\n",
    "     rounding_function=<function around at 0x7fe0ced94560>,\n",
    "     bar_width=16,\n",
    "     split=('model', 'variable'),\n",
    "     title='Variable Importance',\n",
    "     vertical_spacing=None,\n",
    "     show=True)\n",
    "```\n",
    "\n",
    "- **vertical_spacing** value between 0.0 and 1.0 (e.g. 0.15 for more space between the plots)\n",
    "\n",
    "- **rounding_function** rounds the contributions (e.g. `np.round`, `np.rint`, `np.ceil`)\n",
    "\n",
    "- **digits** (e.g. 2 for `np.round`, `None` for `np.rint`)"
   ]
  },
  {
   "cell_type": "code",
   "execution_count": 20,
   "metadata": {
    "ExecuteTime": {
     "end_time": "2020-11-25T19:07:06.078003Z",
     "start_time": "2020-11-25T19:07:00.706311Z"
    }
   },
   "outputs": [],
   "source": [
    "# mparts = exp.model_parts(variable_groups=variable_groups,B=15)\n",
    "# mparts.plot(max_vars=10,rounding_function=np.rint,\n",
    "#         digits=None,vertical_spacing=0.15)"
   ]
  },
  {
   "cell_type": "markdown",
   "metadata": {
    "ExecuteTime": {
     "end_time": "2020-11-25T19:07:06.267958Z",
     "start_time": "2020-11-25T19:07:06.080450Z"
    }
   },
   "source": [
    "![](images/dalex_mparts.png)"
   ]
  },
  {
   "cell_type": "markdown",
   "metadata": {},
   "source": [
    "### model_profile: accumulated\n",
    "\n",
    "```python\n",
    "model_profile(type=('partial', 'accumulated', 'conditional'),\n",
    "              N=300, # num of obs to use **most imp param **\n",
    "              variables=None,\n",
    "              variable_type='numerical',\n",
    "              groups=None,\n",
    "              span=0.25,\n",
    "              grid_points=101,\n",
    "              variable_splits=None,\n",
    "              variable_splits_type='uniform',\n",
    "              center=True,\n",
    "              processes=1,\n",
    "              random_state=None,\n",
    "              verbose=True)\n",
    "```\n",
    "\n",
    "Choose a proper algorithm. The explanations can be calulated as [Partial Dependence Profile](https://pbiecek.github.io/ema/partialDependenceProfiles.html) or [Accumulated Local Dependence Profile](https://pbiecek.github.io/ema/accumulatedLocalProfiles.html).\n",
    "\n",
    "The key parameter is **N** number of observations to use (e.g. `800` for slower computation but more stable results).\n"
   ]
  },
  {
   "cell_type": "code",
   "execution_count": 22,
   "metadata": {
    "ExecuteTime": {
     "end_time": "2020-11-25T19:07:06.274212Z",
     "start_time": "2020-11-25T19:07:06.271071Z"
    }
   },
   "outputs": [],
   "source": [
    "# help(exp.model_profile)"
   ]
  },
  {
   "cell_type": "code",
   "execution_count": 23,
   "metadata": {
    "ExecuteTime": {
     "end_time": "2020-11-25T19:09:52.263721Z",
     "start_time": "2020-11-25T19:07:06.278008Z"
    }
   },
   "outputs": [
    {
     "name": "stderr",
     "output_type": "stream",
     "text": [
      "Calculating ceteris paribus: 100%|██████████| 67/67 [01:12<00:00,  1.08s/it]\n",
      "/Users/poudel/opt/miniconda3/envs/ray/lib/python3.7/site-packages/tqdm/std.py:670: FutureWarning:\n",
      "\n",
      "The Panel class is removed from pandas. Accessing it from the top-level namespace will also be removed in the next version\n",
      "\n",
      "Calculating accumulated dependency: 100%|██████████| 67/67 [00:15<00:00,  4.36it/s]\n"
     ]
    },
    {
     "name": "stdout",
     "output_type": "stream",
     "text": [
      "CPU times: user 4min 31s, sys: 31 s, total: 5min 2s\n",
      "Wall time: 2min 45s\n"
     ]
    }
   ],
   "source": [
    "# %%time\n",
    "\n",
    "# path_mprof_accm = '../models/dalex_mprof_accm.joblib'\n",
    "\n",
    "# if not os.path.exists(path_mprof_accm):\n",
    "#     mprof_accm = exp.model_profile(type='accumulated',N=800)\n",
    "#     mprof_accm.result['_label_'] = 'accumulated'\n",
    "#     joblib.dump(mprof_accm, path_mprof_accm)"
   ]
  },
  {
   "cell_type": "code",
   "execution_count": 57,
   "metadata": {
    "ExecuteTime": {
     "end_time": "2020-11-25T19:36:09.005349Z",
     "start_time": "2020-11-25T19:36:09.003235Z"
    }
   },
   "outputs": [],
   "source": [
    "# variables = ['age',\n",
    "#              'bathrooms', 'bedrooms',\n",
    "# #     'condition',  'floors', 'grade',\n",
    "#     'lat','long',\n",
    "# #     'sqft_above', 'sqft_basement', 'sqft_living',\n",
    "# #     'view',  'waterfront', 'zipcode'\n",
    "#             ]\n",
    "\n",
    "# mprof_accm = joblib.load(path_mprof_accm)\n",
    "# mprof_accm.plot(variables=variables) # use first parameter another model, if you have it."
   ]
  },
  {
   "cell_type": "markdown",
   "metadata": {},
   "source": [
    "![](images/dalex_mprof_accm.png)"
   ]
  },
  {
   "cell_type": "markdown",
   "metadata": {},
   "source": [
    "### Model Profile: Partial (pdp)"
   ]
  },
  {
   "cell_type": "code",
   "execution_count": 25,
   "metadata": {
    "ExecuteTime": {
     "end_time": "2020-11-25T19:12:17.655996Z",
     "start_time": "2020-11-25T19:09:58.965547Z"
    }
   },
   "outputs": [
    {
     "name": "stderr",
     "output_type": "stream",
     "text": [
      "Calculating ceteris paribus: 100%|██████████| 67/67 [01:12<00:00,  1.08s/it]\n"
     ]
    },
    {
     "name": "stdout",
     "output_type": "stream",
     "text": [
      "CPU times: user 4min 28s, sys: 22.1 s, total: 4min 50s\n",
      "Wall time: 2min 18s\n"
     ]
    }
   ],
   "source": [
    "# %%time\n",
    "# path_mprof_pdp = '../models/dalex_mprof_pdp.joblib'\n",
    "\n",
    "# if not os.path.exists(path_mprof_pdp):\n",
    "#     mprof_pdp = exp.model_profile(type='partial',N=800)\n",
    "#     mprof_pdp.result['_label_'] = 'pdp'\n",
    "#     joblib.dump(mprof_pdp, path_mprof_pdp)"
   ]
  },
  {
   "cell_type": "code",
   "execution_count": 58,
   "metadata": {
    "ExecuteTime": {
     "end_time": "2020-11-25T19:37:03.173395Z",
     "start_time": "2020-11-25T19:37:03.171422Z"
    }
   },
   "outputs": [],
   "source": [
    "# mprof_pdp = joblib.load(path_mprof_pdp)\n",
    "# mprof_pdp.plot(mprof_accm, variables=variables)"
   ]
  },
  {
   "cell_type": "markdown",
   "metadata": {
    "ExecuteTime": {
     "end_time": "2020-11-25T19:37:14.183188Z",
     "start_time": "2020-11-25T19:37:14.046020Z"
    }
   },
   "source": [
    "![](images/dalex_mprof_pdp.png)"
   ]
  },
  {
   "cell_type": "markdown",
   "metadata": {},
   "source": [
    "### Model Profile: partial with categorical"
   ]
  },
  {
   "cell_type": "code",
   "execution_count": 27,
   "metadata": {
    "ExecuteTime": {
     "end_time": "2020-11-25T19:12:24.593291Z",
     "start_time": "2020-11-25T19:12:24.559353Z"
    }
   },
   "outputs": [
    {
     "data": {
      "text/html": [
       "<div>\n",
       "<style scoped>\n",
       "    .dataframe tbody tr th:only-of-type {\n",
       "        vertical-align: middle;\n",
       "    }\n",
       "\n",
       "    .dataframe tbody tr th {\n",
       "        vertical-align: top;\n",
       "    }\n",
       "\n",
       "    .dataframe thead th {\n",
       "        text-align: right;\n",
       "    }\n",
       "</style>\n",
       "<table border=\"1\" class=\"dataframe\">\n",
       "  <thead>\n",
       "    <tr style=\"text-align: right;\">\n",
       "      <th></th>\n",
       "      <th>age</th>\n",
       "      <th>age_after_renovation</th>\n",
       "      <th>age_after_renovation_cat</th>\n",
       "      <th>age_after_renovation_sq</th>\n",
       "      <th>age_cat</th>\n",
       "      <th>age_sq</th>\n",
       "      <th>basement_bool</th>\n",
       "      <th>bathrooms</th>\n",
       "      <th>bathrooms_sq</th>\n",
       "      <th>bedrooms</th>\n",
       "      <th>...</th>\n",
       "      <th>view_sq</th>\n",
       "      <th>waterfront</th>\n",
       "      <th>waterfront_0</th>\n",
       "      <th>waterfront_1</th>\n",
       "      <th>waterfront_sq</th>\n",
       "      <th>yr_built</th>\n",
       "      <th>yr_renovated</th>\n",
       "      <th>yr_renovated2</th>\n",
       "      <th>yr_sales</th>\n",
       "      <th>zipcode</th>\n",
       "    </tr>\n",
       "  </thead>\n",
       "  <tbody>\n",
       "    <tr>\n",
       "      <th>0</th>\n",
       "      <td>-1.372335</td>\n",
       "      <td>-1.316486</td>\n",
       "      <td>-1.265291</td>\n",
       "      <td>-0.845091</td>\n",
       "      <td>-1.320662</td>\n",
       "      <td>-0.885667</td>\n",
       "      <td>-0.801818</td>\n",
       "      <td>0.506258</td>\n",
       "      <td>0.326221</td>\n",
       "      <td>-0.39033</td>\n",
       "      <td>...</td>\n",
       "      <td>-0.261712</td>\n",
       "      <td>-0.089698</td>\n",
       "      <td>0.089698</td>\n",
       "      <td>-0.089698</td>\n",
       "      <td>-0.089698</td>\n",
       "      <td>1.361464</td>\n",
       "      <td>-0.207992</td>\n",
       "      <td>1.305630</td>\n",
       "      <td>-0.693043</td>\n",
       "      <td>-1.422563</td>\n",
       "    </tr>\n",
       "    <tr>\n",
       "      <th>1</th>\n",
       "      <td>-0.084817</td>\n",
       "      <td>-0.005269</td>\n",
       "      <td>-0.062185</td>\n",
       "      <td>-0.285363</td>\n",
       "      <td>-0.139825</td>\n",
       "      <td>-0.348085</td>\n",
       "      <td>-0.801818</td>\n",
       "      <td>0.506258</td>\n",
       "      <td>0.326221</td>\n",
       "      <td>-0.39033</td>\n",
       "      <td>...</td>\n",
       "      <td>-0.261712</td>\n",
       "      <td>-0.089698</td>\n",
       "      <td>0.089698</td>\n",
       "      <td>-0.089698</td>\n",
       "      <td>-0.089698</td>\n",
       "      <td>0.107715</td>\n",
       "      <td>-0.207992</td>\n",
       "      <td>0.028586</td>\n",
       "      <td>1.442912</td>\n",
       "      <td>-1.441324</td>\n",
       "    </tr>\n",
       "  </tbody>\n",
       "</table>\n",
       "<p>2 rows × 67 columns</p>\n",
       "</div>"
      ],
      "text/plain": [
       "        age  age_after_renovation  age_after_renovation_cat  \\\n",
       "0 -1.372335             -1.316486                 -1.265291   \n",
       "1 -0.084817             -0.005269                 -0.062185   \n",
       "\n",
       "   age_after_renovation_sq   age_cat    age_sq  basement_bool  bathrooms  \\\n",
       "0                -0.845091 -1.320662 -0.885667      -0.801818   0.506258   \n",
       "1                -0.285363 -0.139825 -0.348085      -0.801818   0.506258   \n",
       "\n",
       "   bathrooms_sq  bedrooms  ...   view_sq  waterfront  waterfront_0  \\\n",
       "0      0.326221  -0.39033  ... -0.261712   -0.089698      0.089698   \n",
       "1      0.326221  -0.39033  ... -0.261712   -0.089698      0.089698   \n",
       "\n",
       "   waterfront_1  waterfront_sq  yr_built  yr_renovated  yr_renovated2  \\\n",
       "0     -0.089698      -0.089698  1.361464     -0.207992       1.305630   \n",
       "1     -0.089698      -0.089698  0.107715     -0.207992       0.028586   \n",
       "\n",
       "   yr_sales   zipcode  \n",
       "0 -0.693043 -1.422563  \n",
       "1  1.442912 -1.441324  \n",
       "\n",
       "[2 rows x 67 columns]"
      ]
     },
     "execution_count": 27,
     "metadata": {},
     "output_type": "execute_result"
    }
   ],
   "source": [
    "df_Xtest.head(2)"
   ]
  },
  {
   "cell_type": "code",
   "execution_count": 28,
   "metadata": {
    "ExecuteTime": {
     "end_time": "2020-11-25T19:12:24.604443Z",
     "start_time": "2020-11-25T19:12:24.597330Z"
    }
   },
   "outputs": [
    {
     "data": {
      "text/plain": [
       "grade         10\n",
       "waterfront     2\n",
       "dtype: int64"
      ]
     },
     "execution_count": 28,
     "metadata": {},
     "output_type": "execute_result"
    }
   ],
   "source": [
    "variables = [\"grade\",\"waterfront\"]\n",
    "df_Xtest[variables].apply(pd.Series.nunique)"
   ]
  },
  {
   "cell_type": "code",
   "execution_count": 29,
   "metadata": {
    "ExecuteTime": {
     "end_time": "2020-11-25T19:12:30.121784Z",
     "start_time": "2020-11-25T19:12:24.607451Z"
    }
   },
   "outputs": [
    {
     "name": "stderr",
     "output_type": "stream",
     "text": [
      "Calculating ceteris paribus: 100%|██████████| 2/2 [00:01<00:00,  1.45it/s]\n",
      "/Users/poudel/opt/miniconda3/envs/ray/lib/python3.7/site-packages/tqdm/std.py:670: FutureWarning:\n",
      "\n",
      "The Panel class is removed from pandas. Accessing it from the top-level namespace will also be removed in the next version\n",
      "\n",
      "Calculating accumulated dependency: 100%|██████████| 2/2 [00:00<00:00,  8.71it/s]\n",
      "Calculating ceteris paribus: 100%|██████████| 2/2 [00:00<00:00,  2.16it/s]\n"
     ]
    },
    {
     "name": "stdout",
     "output_type": "stream",
     "text": [
      "CPU times: user 8.21 s, sys: 563 ms, total: 8.77 s\n",
      "Wall time: 5.51 s\n"
     ]
    }
   ],
   "source": [
    "# %%time\n",
    "\n",
    "# path_mprof_accm_cat = '../models/dalex_mprof_accm_cat.joblib'\n",
    "# path_mprof_pdp_cat = '../models/dalex_mprof_pdp_cat.joblib'\n",
    "\n",
    "# if not os.path.exists(path_mprof_accm_cat):\n",
    "#     mprof_accm_cat = exp.model_profile(type = 'accumulated',\n",
    "#                                        variable_type='categorical',\n",
    "#                                        variables=variables)\n",
    "#     mprof_accm_cat.result.loc[:, '_label_'] = 'accumulated_cat'\n",
    "#     joblib.dump(mprof_accm_cat, path_mprof_accm_cat)\n",
    "\n",
    "# if not os.path.exists(path_mprof_pdp_cat):\n",
    "#     mprof_pdp_cat = exp.model_profile(type = 'partial',\n",
    "#                                       variable_type='categorical',\n",
    "#                                       variables=variables)\n",
    "#     mprof_pdp_cat.result.loc[:, '_label_'] = 'pdp_cat'\n",
    "#     joblib.dump(mprof_pdp_cat, path_mprof_pdp_cat)"
   ]
  },
  {
   "cell_type": "code",
   "execution_count": 30,
   "metadata": {
    "ExecuteTime": {
     "end_time": "2020-11-25T19:12:30.287517Z",
     "start_time": "2020-11-25T19:12:30.126143Z"
    }
   },
   "outputs": [],
   "source": [
    "# mprof_accm_cat = joblib.load(path_mprof_accm_cat)\n",
    "# mprof_pdp_cat = joblib.load(path_mprof_pdp_cat)"
   ]
  },
  {
   "cell_type": "code",
   "execution_count": 60,
   "metadata": {
    "ExecuteTime": {
     "end_time": "2020-11-25T19:38:02.023217Z",
     "start_time": "2020-11-25T19:38:02.020944Z"
    }
   },
   "outputs": [],
   "source": [
    "# mprof_accm_cat.plot(mprof_pdp_cat)"
   ]
  },
  {
   "cell_type": "markdown",
   "metadata": {},
   "source": [
    "![](images/dalex_mporf_acc_cat.png)"
   ]
  },
  {
   "cell_type": "markdown",
   "metadata": {},
   "source": [
    "## [INSTANCE LEVEL](https://pbiecek.github.io/ema/InstanceLevelExploration.html)"
   ]
  },
  {
   "cell_type": "markdown",
   "metadata": {},
   "source": [
    "### Predict"
   ]
  },
  {
   "cell_type": "code",
   "execution_count": 32,
   "metadata": {
    "ExecuteTime": {
     "end_time": "2020-11-25T19:12:30.510751Z",
     "start_time": "2020-11-25T19:12:30.502202Z"
    }
   },
   "outputs": [
    {
     "name": "stdout",
     "output_type": "stream",
     "text": [
      "<class 'pandas.core.frame.DataFrame'>\n"
     ]
    }
   ],
   "source": [
    "# john = df_Xtest.iloc[[0]] # we need df not series, so use [[index]]\n",
    "# john.index.name = 'John'\n",
    "# mary = df_Xtest.iloc[[1]]\n",
    "# mary.index.name = 'Mary'\n",
    "# print(type(john))"
   ]
  },
  {
   "cell_type": "code",
   "execution_count": 33,
   "metadata": {
    "ExecuteTime": {
     "end_time": "2020-11-25T19:12:30.542336Z",
     "start_time": "2020-11-25T19:12:30.516167Z"
    }
   },
   "outputs": [
    {
     "data": {
      "text/plain": [
       "array([343218.4], dtype=float32)"
      ]
     },
     "execution_count": 33,
     "metadata": {},
     "output_type": "execute_result"
    }
   ],
   "source": [
    "# exp.predict(john)"
   ]
  },
  {
   "cell_type": "markdown",
   "metadata": {},
   "source": [
    "### Variable Attribution (predict_parts)"
   ]
  },
  {
   "cell_type": "markdown",
   "metadata": {},
   "source": [
    "```python\n",
    "predict_parts(new_observation,\n",
    "    type=('break_down_interactions', 'break_down', 'shap', 'shap_wrapper'),\n",
    "    order=None,\n",
    "    interaction_preference=1,\n",
    "    path='average',\n",
    "    B=25,\n",
    "    keep_distributions=False,\n",
    "    processes=1,\n",
    "    random_state=None,\n",
    "    **kwargs)\n",
    "```\n",
    "\n",
    "Here we can choose our varible attribution types. The explanations can be calulated as [Break Down](https://pbiecek.github.io/ema/breakDown.html), [iBreakDown](https://pbiecek.github.io/ema/iBreakDown.html) or [Shapley Values](https://pbiecek.github.io/ema/shapley.html).\n",
    "\n",
    "For `type='shap'` the key parameter is **B** number of bootstrap rounds (e.g. `10` for faster computation but less stable results).\n",
    "\n",
    "Let's find out what attributes to the house price."
   ]
  },
  {
   "cell_type": "code",
   "execution_count": 34,
   "metadata": {
    "ExecuteTime": {
     "end_time": "2020-11-25T19:12:30.557285Z",
     "start_time": "2020-11-25T19:12:30.548460Z"
    }
   },
   "outputs": [],
   "source": [
    "# help(exp.predict_parts)"
   ]
  },
  {
   "cell_type": "code",
   "execution_count": 35,
   "metadata": {
    "ExecuteTime": {
     "end_time": "2020-11-25T19:12:30.603727Z",
     "start_time": "2020-11-25T19:12:30.564666Z"
    }
   },
   "outputs": [
    {
     "data": {
      "text/html": [
       "<div>\n",
       "<style scoped>\n",
       "    .dataframe tbody tr th:only-of-type {\n",
       "        vertical-align: middle;\n",
       "    }\n",
       "\n",
       "    .dataframe tbody tr th {\n",
       "        vertical-align: top;\n",
       "    }\n",
       "\n",
       "    .dataframe thead th {\n",
       "        text-align: right;\n",
       "    }\n",
       "</style>\n",
       "<table border=\"1\" class=\"dataframe\">\n",
       "  <thead>\n",
       "    <tr style=\"text-align: right;\">\n",
       "      <th></th>\n",
       "      <th>age</th>\n",
       "      <th>age_after_renovation</th>\n",
       "      <th>age_after_renovation_cat</th>\n",
       "      <th>age_after_renovation_sq</th>\n",
       "      <th>age_cat</th>\n",
       "      <th>age_sq</th>\n",
       "      <th>basement_bool</th>\n",
       "      <th>bathrooms</th>\n",
       "      <th>bathrooms_sq</th>\n",
       "      <th>bedrooms</th>\n",
       "      <th>...</th>\n",
       "      <th>view_sq</th>\n",
       "      <th>waterfront</th>\n",
       "      <th>waterfront_0</th>\n",
       "      <th>waterfront_1</th>\n",
       "      <th>waterfront_sq</th>\n",
       "      <th>yr_built</th>\n",
       "      <th>yr_renovated</th>\n",
       "      <th>yr_renovated2</th>\n",
       "      <th>yr_sales</th>\n",
       "      <th>zipcode</th>\n",
       "    </tr>\n",
       "  </thead>\n",
       "  <tbody>\n",
       "    <tr>\n",
       "      <th>0</th>\n",
       "      <td>-1.372335</td>\n",
       "      <td>-1.316486</td>\n",
       "      <td>-1.265291</td>\n",
       "      <td>-0.845091</td>\n",
       "      <td>-1.320662</td>\n",
       "      <td>-0.885667</td>\n",
       "      <td>-0.801818</td>\n",
       "      <td>0.506258</td>\n",
       "      <td>0.326221</td>\n",
       "      <td>-0.39033</td>\n",
       "      <td>...</td>\n",
       "      <td>-0.261712</td>\n",
       "      <td>-0.089698</td>\n",
       "      <td>0.089698</td>\n",
       "      <td>-0.089698</td>\n",
       "      <td>-0.089698</td>\n",
       "      <td>1.361464</td>\n",
       "      <td>-0.207992</td>\n",
       "      <td>1.305630</td>\n",
       "      <td>-0.693043</td>\n",
       "      <td>-1.422563</td>\n",
       "    </tr>\n",
       "    <tr>\n",
       "      <th>1</th>\n",
       "      <td>-0.084817</td>\n",
       "      <td>-0.005269</td>\n",
       "      <td>-0.062185</td>\n",
       "      <td>-0.285363</td>\n",
       "      <td>-0.139825</td>\n",
       "      <td>-0.348085</td>\n",
       "      <td>-0.801818</td>\n",
       "      <td>0.506258</td>\n",
       "      <td>0.326221</td>\n",
       "      <td>-0.39033</td>\n",
       "      <td>...</td>\n",
       "      <td>-0.261712</td>\n",
       "      <td>-0.089698</td>\n",
       "      <td>0.089698</td>\n",
       "      <td>-0.089698</td>\n",
       "      <td>-0.089698</td>\n",
       "      <td>0.107715</td>\n",
       "      <td>-0.207992</td>\n",
       "      <td>0.028586</td>\n",
       "      <td>1.442912</td>\n",
       "      <td>-1.441324</td>\n",
       "    </tr>\n",
       "  </tbody>\n",
       "</table>\n",
       "<p>2 rows × 67 columns</p>\n",
       "</div>"
      ],
      "text/plain": [
       "        age  age_after_renovation  age_after_renovation_cat  \\\n",
       "0 -1.372335             -1.316486                 -1.265291   \n",
       "1 -0.084817             -0.005269                 -0.062185   \n",
       "\n",
       "   age_after_renovation_sq   age_cat    age_sq  basement_bool  bathrooms  \\\n",
       "0                -0.845091 -1.320662 -0.885667      -0.801818   0.506258   \n",
       "1                -0.285363 -0.139825 -0.348085      -0.801818   0.506258   \n",
       "\n",
       "   bathrooms_sq  bedrooms  ...   view_sq  waterfront  waterfront_0  \\\n",
       "0      0.326221  -0.39033  ... -0.261712   -0.089698      0.089698   \n",
       "1      0.326221  -0.39033  ... -0.261712   -0.089698      0.089698   \n",
       "\n",
       "   waterfront_1  waterfront_sq  yr_built  yr_renovated  yr_renovated2  \\\n",
       "0     -0.089698      -0.089698  1.361464     -0.207992       1.305630   \n",
       "1     -0.089698      -0.089698  0.107715     -0.207992       0.028586   \n",
       "\n",
       "   yr_sales   zipcode  \n",
       "0 -0.693043 -1.422563  \n",
       "1  1.442912 -1.441324  \n",
       "\n",
       "[2 rows x 67 columns]"
      ]
     },
     "execution_count": 35,
     "metadata": {},
     "output_type": "execute_result"
    }
   ],
   "source": [
    "df_Xtest.head(2)"
   ]
  },
  {
   "cell_type": "code",
   "execution_count": 36,
   "metadata": {
    "ExecuteTime": {
     "end_time": "2020-11-25T19:19:58.462548Z",
     "start_time": "2020-11-25T19:12:30.607045Z"
    }
   },
   "outputs": [
    {
     "name": "stdout",
     "output_type": "stream",
     "text": [
      "CPU times: user 23min 5s, sys: 6.88 s, total: 23min 12s\n",
      "Wall time: 7min 27s\n"
     ]
    }
   ],
   "source": [
    "# %%time\n",
    "# john_bd  = exp.predict_parts(john, type='break_down')\n",
    "# john_bdi = exp.predict_parts(john, type='break_down_interactions')\n",
    "# john_sh  = exp.predict_parts(john, type='shap', B = 10)\n",
    "\n",
    "# mary_bd  = exp.predict_parts(mary, type='break_down')\n",
    "# mary_bdi = exp.predict_parts(mary, type='break_down_interactions')\n",
    "# mary_sh  = exp.predict_parts(mary, type='shap', B = 10)"
   ]
  },
  {
   "cell_type": "code",
   "execution_count": 37,
   "metadata": {
    "ExecuteTime": {
     "end_time": "2020-11-25T19:19:58.484604Z",
     "start_time": "2020-11-25T19:19:58.465689Z"
    }
   },
   "outputs": [
    {
     "data": {
      "text/html": [
       "<div>\n",
       "<style scoped>\n",
       "    .dataframe tbody tr th:only-of-type {\n",
       "        vertical-align: middle;\n",
       "    }\n",
       "\n",
       "    .dataframe tbody tr th {\n",
       "        vertical-align: top;\n",
       "    }\n",
       "\n",
       "    .dataframe thead th {\n",
       "        text-align: right;\n",
       "    }\n",
       "</style>\n",
       "<table border=\"1\" class=\"dataframe\">\n",
       "  <thead>\n",
       "    <tr style=\"text-align: right;\">\n",
       "      <th></th>\n",
       "      <th>variable_name</th>\n",
       "      <th>variable_value</th>\n",
       "      <th>variable</th>\n",
       "      <th>cumulative</th>\n",
       "      <th>contribution</th>\n",
       "      <th>sign</th>\n",
       "      <th>position</th>\n",
       "      <th>label</th>\n",
       "    </tr>\n",
       "  </thead>\n",
       "  <tbody>\n",
       "    <tr>\n",
       "      <th>0</th>\n",
       "      <td>intercept</td>\n",
       "      <td>1</td>\n",
       "      <td>intercept</td>\n",
       "      <td>531207.3750</td>\n",
       "      <td>531207.3750</td>\n",
       "      <td>1.0</td>\n",
       "      <td>68</td>\n",
       "      <td>John_bd</td>\n",
       "    </tr>\n",
       "    <tr>\n",
       "      <th>1</th>\n",
       "      <td>zipcode</td>\n",
       "      <td>-1.423</td>\n",
       "      <td>zipcode = -1.423</td>\n",
       "      <td>616282.0625</td>\n",
       "      <td>85074.6875</td>\n",
       "      <td>1.0</td>\n",
       "      <td>67</td>\n",
       "      <td>John_bd</td>\n",
       "    </tr>\n",
       "    <tr>\n",
       "      <th>2</th>\n",
       "      <td>long</td>\n",
       "      <td>0.02592</td>\n",
       "      <td>long = 0.02592</td>\n",
       "      <td>665207.8750</td>\n",
       "      <td>48925.8125</td>\n",
       "      <td>1.0</td>\n",
       "      <td>66</td>\n",
       "      <td>John_bd</td>\n",
       "    </tr>\n",
       "    <tr>\n",
       "      <th>3</th>\n",
       "      <td>yr_renovated2</td>\n",
       "      <td>1.306</td>\n",
       "      <td>yr_renovated2 = 1.306</td>\n",
       "      <td>697822.0000</td>\n",
       "      <td>32614.1250</td>\n",
       "      <td>1.0</td>\n",
       "      <td>65</td>\n",
       "      <td>John_bd</td>\n",
       "    </tr>\n",
       "    <tr>\n",
       "      <th>4</th>\n",
       "      <td>log1p_sqft_living</td>\n",
       "      <td>0.5907</td>\n",
       "      <td>log1p_sqft_living = 0.5907</td>\n",
       "      <td>731214.5625</td>\n",
       "      <td>33392.5625</td>\n",
       "      <td>1.0</td>\n",
       "      <td>64</td>\n",
       "      <td>John_bd</td>\n",
       "    </tr>\n",
       "  </tbody>\n",
       "</table>\n",
       "</div>"
      ],
      "text/plain": [
       "       variable_name variable_value                    variable   cumulative  \\\n",
       "0          intercept              1                   intercept  531207.3750   \n",
       "1            zipcode         -1.423            zipcode = -1.423  616282.0625   \n",
       "2               long        0.02592              long = 0.02592  665207.8750   \n",
       "3      yr_renovated2          1.306       yr_renovated2 = 1.306  697822.0000   \n",
       "4  log1p_sqft_living         0.5907  log1p_sqft_living = 0.5907  731214.5625   \n",
       "\n",
       "   contribution  sign  position    label  \n",
       "0   531207.3750   1.0        68  John_bd  \n",
       "1    85074.6875   1.0        67  John_bd  \n",
       "2    48925.8125   1.0        66  John_bd  \n",
       "3    32614.1250   1.0        65  John_bd  \n",
       "4    33392.5625   1.0        64  John_bd  "
      ]
     },
     "execution_count": 37,
     "metadata": {},
     "output_type": "execute_result"
    }
   ],
   "source": [
    "# john_bd.result.label = \"John_bd\"\n",
    "# john_bdi.result.label = \"John_bdi\"\n",
    "# john_sh.result.label = \"John_sh\"\n",
    "\n",
    "# mary_bd.result.label = \"John_bd\"\n",
    "# mary_bdi.result.label = \"John_bdi\"\n",
    "# mary_sh.result.label = \"John_sh\"\n",
    "\n",
    "# john_bd.result.head()"
   ]
  },
  {
   "cell_type": "code",
   "execution_count": 61,
   "metadata": {
    "ExecuteTime": {
     "end_time": "2020-11-25T19:39:37.484421Z",
     "start_time": "2020-11-25T19:39:37.482146Z"
    }
   },
   "outputs": [],
   "source": [
    "# john_bd.plot(john_bdi)"
   ]
  },
  {
   "cell_type": "markdown",
   "metadata": {},
   "source": [
    "![](images/dalex_john_bd_john_bdi.png)"
   ]
  },
  {
   "cell_type": "code",
   "execution_count": 62,
   "metadata": {
    "ExecuteTime": {
     "end_time": "2020-11-25T19:41:21.257098Z",
     "start_time": "2020-11-25T19:41:21.231051Z"
    }
   },
   "outputs": [],
   "source": [
    "# john_sh.plot(max_vars=5)"
   ]
  },
  {
   "cell_type": "markdown",
   "metadata": {},
   "source": [
    "![](images/dalex_john_sh.png)"
   ]
  },
  {
   "cell_type": "code",
   "execution_count": 63,
   "metadata": {
    "ExecuteTime": {
     "end_time": "2020-11-25T19:41:37.944181Z",
     "start_time": "2020-11-25T19:41:37.942208Z"
    }
   },
   "outputs": [],
   "source": [
    "# mary_sh.plot(max_vars=5)"
   ]
  },
  {
   "cell_type": "markdown",
   "metadata": {},
   "source": [
    "![](images/dalex_mary_sh.png)"
   ]
  },
  {
   "cell_type": "code",
   "execution_count": 46,
   "metadata": {
    "ExecuteTime": {
     "end_time": "2020-11-25T19:30:42.633199Z",
     "start_time": "2020-11-25T19:23:15.984718Z"
    }
   },
   "outputs": [
    {
     "name": "stdout",
     "output_type": "stream",
     "text": [
      "CPU times: user 25min 9s, sys: 5.82 s, total: 25min 15s\n",
      "Wall time: 7min 26s\n"
     ]
    }
   ],
   "source": [
    "# %%time\n",
    "\n",
    "# # the variable attribution takes long time, persist the file\n",
    "# path_va = '../models/dalex_variable_attributes.joblib'\n",
    "\n",
    "# if not os.path.exists(path_va):\n",
    "#     # variable attribution\n",
    "#     va = {'ibd':[], 'sh':[]} # instance breakdown and shapely\n",
    "\n",
    "#     for idx in df_Xtest.index[0:3]:\n",
    "#         rowname = df_Xtest.loc[idx,]\n",
    "#         # if we have index name, then this is useful\n",
    "\n",
    "#         ibd = exp.predict_parts(rowname, type='break_down_interactions')\n",
    "#         ibd.result.label = str(rowname)\n",
    "\n",
    "#         sh = exp.predict_parts(rowname, type='shap', B=1)\n",
    "#         sh.result.label = str(rowname)\n",
    "\n",
    "#         va['ibd'].append(ibd)\n",
    "#         va['sh'].append(sh)\n",
    "\n",
    "#     # persist the file\n",
    "#     joblib.dump(va, path_va)"
   ]
  },
  {
   "cell_type": "code",
   "execution_count": 47,
   "metadata": {
    "ExecuteTime": {
     "end_time": "2020-11-25T19:30:42.657012Z",
     "start_time": "2020-11-25T19:30:42.636796Z"
    }
   },
   "outputs": [],
   "source": [
    "# va = joblib.load(path_va)"
   ]
  },
  {
   "cell_type": "code",
   "execution_count": 64,
   "metadata": {
    "ExecuteTime": {
     "end_time": "2020-11-25T19:43:20.717281Z",
     "start_time": "2020-11-25T19:43:20.714774Z"
    }
   },
   "outputs": [],
   "source": [
    "# va['ibd'][0].plot(va['ibd'][1:3],\n",
    "#                   rounding_function=np.rint,\n",
    "#                   digits=None, max_vars=10)"
   ]
  },
  {
   "cell_type": "markdown",
   "metadata": {},
   "source": [
    "![](images/dalex_va_ibd.png)"
   ]
  },
  {
   "cell_type": "code",
   "execution_count": 65,
   "metadata": {
    "ExecuteTime": {
     "end_time": "2020-11-25T19:43:57.064039Z",
     "start_time": "2020-11-25T19:43:57.061586Z"
    }
   },
   "outputs": [],
   "source": [
    "# va['sh'][0].plot(va['sh'][1:3], \n",
    "#                  rounding_function=np.rint, \n",
    "#                  digits=None, max_vars=10)"
   ]
  },
  {
   "cell_type": "markdown",
   "metadata": {},
   "source": [
    "![](images/dalex_va_sh.png)"
   ]
  },
  {
   "cell_type": "markdown",
   "metadata": {},
   "source": [
    "### [ predict_profile: Ceteris Paribus Profiles](https://pbiecek.github.io/ema/ceterisParibus.html)\n",
    "\n",
    "Looking at the Break Down plots, age and movement_ractions variables are standing out. Let's focus on them more."
   ]
  },
  {
   "cell_type": "code",
   "execution_count": 50,
   "metadata": {
    "ExecuteTime": {
     "end_time": "2020-11-25T19:30:44.635715Z",
     "start_time": "2020-11-25T19:30:42.974434Z"
    }
   },
   "outputs": [
    {
     "name": "stderr",
     "output_type": "stream",
     "text": [
      "Calculating ceteris paribus: 100%|██████████| 67/67 [00:00<00:00, 83.48it/s]\n",
      "Calculating ceteris paribus: 100%|██████████| 67/67 [00:00<00:00, 120.09it/s]\n"
     ]
    },
    {
     "name": "stdout",
     "output_type": "stream",
     "text": [
      "CPU times: user 3.82 s, sys: 95.1 ms, total: 3.92 s\n",
      "Wall time: 1.64 s\n"
     ]
    },
    {
     "data": {
      "text/html": [
       "<div>\n",
       "<style scoped>\n",
       "    .dataframe tbody tr th:only-of-type {\n",
       "        vertical-align: middle;\n",
       "    }\n",
       "\n",
       "    .dataframe tbody tr th {\n",
       "        vertical-align: top;\n",
       "    }\n",
       "\n",
       "    .dataframe thead th {\n",
       "        text-align: right;\n",
       "    }\n",
       "</style>\n",
       "<table border=\"1\" class=\"dataframe\">\n",
       "  <thead>\n",
       "    <tr style=\"text-align: right;\">\n",
       "      <th></th>\n",
       "      <th>age</th>\n",
       "      <th>age_after_renovation</th>\n",
       "      <th>age_after_renovation_cat</th>\n",
       "      <th>age_after_renovation_sq</th>\n",
       "      <th>age_cat</th>\n",
       "      <th>age_sq</th>\n",
       "      <th>basement_bool</th>\n",
       "      <th>bathrooms</th>\n",
       "      <th>bathrooms_sq</th>\n",
       "      <th>bedrooms</th>\n",
       "      <th>...</th>\n",
       "      <th>yr_built</th>\n",
       "      <th>yr_renovated</th>\n",
       "      <th>yr_renovated2</th>\n",
       "      <th>yr_sales</th>\n",
       "      <th>zipcode</th>\n",
       "      <th>_original_</th>\n",
       "      <th>_yhat_</th>\n",
       "      <th>_vname_</th>\n",
       "      <th>_ids_</th>\n",
       "      <th>_label_</th>\n",
       "    </tr>\n",
       "    <tr>\n",
       "      <th>John</th>\n",
       "      <th></th>\n",
       "      <th></th>\n",
       "      <th></th>\n",
       "      <th></th>\n",
       "      <th></th>\n",
       "      <th></th>\n",
       "      <th></th>\n",
       "      <th></th>\n",
       "      <th></th>\n",
       "      <th></th>\n",
       "      <th></th>\n",
       "      <th></th>\n",
       "      <th></th>\n",
       "      <th></th>\n",
       "      <th></th>\n",
       "      <th></th>\n",
       "      <th></th>\n",
       "      <th></th>\n",
       "      <th></th>\n",
       "      <th></th>\n",
       "      <th></th>\n",
       "    </tr>\n",
       "  </thead>\n",
       "  <tbody>\n",
       "    <tr>\n",
       "      <th>0</th>\n",
       "      <td>-1.507863</td>\n",
       "      <td>-1.316486</td>\n",
       "      <td>-1.265291</td>\n",
       "      <td>-0.845091</td>\n",
       "      <td>-1.320662</td>\n",
       "      <td>-0.885667</td>\n",
       "      <td>-0.801818</td>\n",
       "      <td>0.506258</td>\n",
       "      <td>0.326221</td>\n",
       "      <td>-0.39033</td>\n",
       "      <td>...</td>\n",
       "      <td>1.361464</td>\n",
       "      <td>-0.207992</td>\n",
       "      <td>1.30563</td>\n",
       "      <td>-0.693043</td>\n",
       "      <td>-1.422563</td>\n",
       "      <td>-1.372335</td>\n",
       "      <td>343218.40625</td>\n",
       "      <td>age</td>\n",
       "      <td>0</td>\n",
       "      <td>xgboost</td>\n",
       "    </tr>\n",
       "    <tr>\n",
       "      <th>0</th>\n",
       "      <td>-1.468560</td>\n",
       "      <td>-1.316486</td>\n",
       "      <td>-1.265291</td>\n",
       "      <td>-0.845091</td>\n",
       "      <td>-1.320662</td>\n",
       "      <td>-0.885667</td>\n",
       "      <td>-0.801818</td>\n",
       "      <td>0.506258</td>\n",
       "      <td>0.326221</td>\n",
       "      <td>-0.39033</td>\n",
       "      <td>...</td>\n",
       "      <td>1.361464</td>\n",
       "      <td>-0.207992</td>\n",
       "      <td>1.30563</td>\n",
       "      <td>-0.693043</td>\n",
       "      <td>-1.422563</td>\n",
       "      <td>-1.372335</td>\n",
       "      <td>343218.40625</td>\n",
       "      <td>age</td>\n",
       "      <td>0</td>\n",
       "      <td>xgboost</td>\n",
       "    </tr>\n",
       "    <tr>\n",
       "      <th>0</th>\n",
       "      <td>-1.429257</td>\n",
       "      <td>-1.316486</td>\n",
       "      <td>-1.265291</td>\n",
       "      <td>-0.845091</td>\n",
       "      <td>-1.320662</td>\n",
       "      <td>-0.885667</td>\n",
       "      <td>-0.801818</td>\n",
       "      <td>0.506258</td>\n",
       "      <td>0.326221</td>\n",
       "      <td>-0.39033</td>\n",
       "      <td>...</td>\n",
       "      <td>1.361464</td>\n",
       "      <td>-0.207992</td>\n",
       "      <td>1.30563</td>\n",
       "      <td>-0.693043</td>\n",
       "      <td>-1.422563</td>\n",
       "      <td>-1.372335</td>\n",
       "      <td>343218.40625</td>\n",
       "      <td>age</td>\n",
       "      <td>0</td>\n",
       "      <td>xgboost</td>\n",
       "    </tr>\n",
       "    <tr>\n",
       "      <th>0</th>\n",
       "      <td>-1.389954</td>\n",
       "      <td>-1.316486</td>\n",
       "      <td>-1.265291</td>\n",
       "      <td>-0.845091</td>\n",
       "      <td>-1.320662</td>\n",
       "      <td>-0.885667</td>\n",
       "      <td>-0.801818</td>\n",
       "      <td>0.506258</td>\n",
       "      <td>0.326221</td>\n",
       "      <td>-0.39033</td>\n",
       "      <td>...</td>\n",
       "      <td>1.361464</td>\n",
       "      <td>-0.207992</td>\n",
       "      <td>1.30563</td>\n",
       "      <td>-0.693043</td>\n",
       "      <td>-1.422563</td>\n",
       "      <td>-1.372335</td>\n",
       "      <td>343218.40625</td>\n",
       "      <td>age</td>\n",
       "      <td>0</td>\n",
       "      <td>xgboost</td>\n",
       "    </tr>\n",
       "    <tr>\n",
       "      <th>0</th>\n",
       "      <td>-1.372335</td>\n",
       "      <td>-1.316486</td>\n",
       "      <td>-1.265291</td>\n",
       "      <td>-0.845091</td>\n",
       "      <td>-1.320662</td>\n",
       "      <td>-0.885667</td>\n",
       "      <td>-0.801818</td>\n",
       "      <td>0.506258</td>\n",
       "      <td>0.326221</td>\n",
       "      <td>-0.39033</td>\n",
       "      <td>...</td>\n",
       "      <td>1.361464</td>\n",
       "      <td>-0.207992</td>\n",
       "      <td>1.30563</td>\n",
       "      <td>-0.693043</td>\n",
       "      <td>-1.422563</td>\n",
       "      <td>-1.372335</td>\n",
       "      <td>343218.40625</td>\n",
       "      <td>age</td>\n",
       "      <td>0</td>\n",
       "      <td>xgboost</td>\n",
       "    </tr>\n",
       "  </tbody>\n",
       "</table>\n",
       "<p>5 rows × 72 columns</p>\n",
       "</div>"
      ],
      "text/plain": [
       "           age  age_after_renovation  age_after_renovation_cat  \\\n",
       "John                                                             \n",
       "0    -1.507863             -1.316486                 -1.265291   \n",
       "0    -1.468560             -1.316486                 -1.265291   \n",
       "0    -1.429257             -1.316486                 -1.265291   \n",
       "0    -1.389954             -1.316486                 -1.265291   \n",
       "0    -1.372335             -1.316486                 -1.265291   \n",
       "\n",
       "      age_after_renovation_sq   age_cat    age_sq  basement_bool  bathrooms  \\\n",
       "John                                                                          \n",
       "0                   -0.845091 -1.320662 -0.885667      -0.801818   0.506258   \n",
       "0                   -0.845091 -1.320662 -0.885667      -0.801818   0.506258   \n",
       "0                   -0.845091 -1.320662 -0.885667      -0.801818   0.506258   \n",
       "0                   -0.845091 -1.320662 -0.885667      -0.801818   0.506258   \n",
       "0                   -0.845091 -1.320662 -0.885667      -0.801818   0.506258   \n",
       "\n",
       "      bathrooms_sq  bedrooms  ...  yr_built  yr_renovated  yr_renovated2  \\\n",
       "John                          ...                                          \n",
       "0         0.326221  -0.39033  ...  1.361464     -0.207992        1.30563   \n",
       "0         0.326221  -0.39033  ...  1.361464     -0.207992        1.30563   \n",
       "0         0.326221  -0.39033  ...  1.361464     -0.207992        1.30563   \n",
       "0         0.326221  -0.39033  ...  1.361464     -0.207992        1.30563   \n",
       "0         0.326221  -0.39033  ...  1.361464     -0.207992        1.30563   \n",
       "\n",
       "      yr_sales   zipcode  _original_        _yhat_  _vname_  _ids_  _label_  \n",
       "John                                                                         \n",
       "0    -0.693043 -1.422563   -1.372335  343218.40625      age      0  xgboost  \n",
       "0    -0.693043 -1.422563   -1.372335  343218.40625      age      0  xgboost  \n",
       "0    -0.693043 -1.422563   -1.372335  343218.40625      age      0  xgboost  \n",
       "0    -0.693043 -1.422563   -1.372335  343218.40625      age      0  xgboost  \n",
       "0    -0.693043 -1.422563   -1.372335  343218.40625      age      0  xgboost  \n",
       "\n",
       "[5 rows x 72 columns]"
      ]
     },
     "execution_count": 50,
     "metadata": {},
     "output_type": "execute_result"
    }
   ],
   "source": [
    "# %%time\n",
    "\n",
    "# john_cp = exp.predict_profile(john)\n",
    "# mary_cp = exp.predict_profile(mary)\n",
    "\n",
    "# john_cp.result.head()"
   ]
  },
  {
   "cell_type": "code",
   "execution_count": 66,
   "metadata": {
    "ExecuteTime": {
     "end_time": "2020-11-25T19:45:09.192278Z",
     "start_time": "2020-11-25T19:45:09.189748Z"
    }
   },
   "outputs": [],
   "source": [
    "# john_cp.plot(mary_cp, variable_type='categorical')\n",
    "\n",
    "# john_cp.plot(mary_cp, variables=['age','grade'])"
   ]
  },
  {
   "cell_type": "markdown",
   "metadata": {},
   "source": [
    "![](images/dalex_john_cp.png)"
   ]
  },
  {
   "cell_type": "code",
   "execution_count": 52,
   "metadata": {
    "ExecuteTime": {
     "end_time": "2020-11-25T19:30:45.645571Z",
     "start_time": "2020-11-25T19:30:45.601141Z"
    }
   },
   "outputs": [
    {
     "name": "stderr",
     "output_type": "stream",
     "text": [
      "Calculating ceteris paribus: 100%|██████████| 2/2 [00:00<00:00, 87.40it/s]"
     ]
    },
    {
     "name": "stdout",
     "output_type": "stream",
     "text": [
      "CPU times: user 59.3 ms, sys: 5.1 ms, total: 64.4 ms\n",
      "Wall time: 40.8 ms\n"
     ]
    },
    {
     "name": "stderr",
     "output_type": "stream",
     "text": [
      "\n"
     ]
    }
   ],
   "source": [
    "# %%time\n",
    "# variables = ['lat','grade']\n",
    "# cp = exp.predict_profile(df_Xtest.iloc[2:3,],variables=variables)"
   ]
  },
  {
   "cell_type": "code",
   "execution_count": 67,
   "metadata": {
    "ExecuteTime": {
     "end_time": "2020-11-25T19:45:58.492711Z",
     "start_time": "2020-11-25T19:45:58.489846Z"
    }
   },
   "outputs": [],
   "source": [
    "# cp.plot(size=3, title=\"Explanation for 3rd row\")]"
   ]
  },
  {
   "cell_type": "markdown",
   "metadata": {},
   "source": [
    "![](images/dalex_cp.png)"
   ]
  },
  {
   "cell_type": "markdown",
   "metadata": {},
   "source": [
    "# Cleanup"
   ]
  },
  {
   "cell_type": "code",
   "execution_count": 54,
   "metadata": {
    "ExecuteTime": {
     "end_time": "2020-11-25T19:30:48.201525Z",
     "start_time": "2020-11-25T19:30:45.859258Z"
    }
   },
   "outputs": [],
   "source": [
    "%%bash\n",
    "rm -rf ../models/dalex*"
   ]
  },
  {
   "cell_type": "markdown",
   "metadata": {},
   "source": [
    "# Time Taken"
   ]
  },
  {
   "cell_type": "code",
   "execution_count": 55,
   "metadata": {
    "ExecuteTime": {
     "end_time": "2020-11-25T19:30:48.227964Z",
     "start_time": "2020-11-25T19:30:48.204384Z"
    }
   },
   "outputs": [
    {
     "name": "stdout",
     "output_type": "stream",
     "text": [
      "Time taken to run whole notebook: 0 hr 23 min 52 secs\n"
     ]
    }
   ],
   "source": [
    "time_taken = time.time() - time_start_notebook\n",
    "h,m = divmod(time_taken,60*60)\n",
    "print('Time taken to run whole notebook: {:.0f} hr '\\\n",
    "      '{:.0f} min {:.0f} secs'.format(h, *divmod(m,60)))"
   ]
  }
 ],
 "metadata": {
  "kernelspec": {
   "display_name": "Python37(ray)",
   "language": "python",
   "name": "ray"
  },
  "language_info": {
   "codemirror_mode": {
    "name": "ipython",
    "version": 3
   },
   "file_extension": ".py",
   "mimetype": "text/x-python",
   "name": "python",
   "nbconvert_exporter": "python",
   "pygments_lexer": "ipython3",
   "version": "3.7.9"
  },
  "toc": {
   "base_numbering": 1,
   "nav_menu": {},
   "number_sections": true,
   "sideBar": true,
   "skip_h1_title": false,
   "title_cell": "Table of Contents",
   "title_sidebar": "Contents",
   "toc_cell": true,
   "toc_position": {},
   "toc_section_display": true,
   "toc_window_display": true
  },
  "varInspector": {
   "cols": {
    "lenName": 16,
    "lenType": 16,
    "lenVar": 40
   },
   "kernels_config": {
    "python": {
     "delete_cmd_postfix": "",
     "delete_cmd_prefix": "del ",
     "library": "var_list.py",
     "varRefreshCmd": "print(var_dic_list())"
    },
    "r": {
     "delete_cmd_postfix": ") ",
     "delete_cmd_prefix": "rm(",
     "library": "var_list.r",
     "varRefreshCmd": "cat(var_dic_list()) "
    }
   },
   "types_to_exclude": [
    "module",
    "function",
    "builtin_function_or_method",
    "instance",
    "_Feature"
   ],
   "window_display": false
  }
 },
 "nbformat": 4,
 "nbformat_minor": 4
}
