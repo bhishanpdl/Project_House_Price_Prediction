{
  "nbformat": 4,
  "nbformat_minor": 0,
  "metadata": {
    "colab": {
      "name": "e02_boosting_xgb.ipynb",
      "provenance": [],
      "collapsed_sections": []
    },
    "kernelspec": {
      "display_name": "Python (dataSc)",
      "language": "python",
      "name": "datasc"
    },
    "language_info": {
      "codemirror_mode": {
        "name": "ipython",
        "version": 3
      },
      "file_extension": ".py",
      "mimetype": "text/x-python",
      "name": "python",
      "nbconvert_exporter": "python",
      "pygments_lexer": "ipython3",
      "version": "3.7.3"
    },
    "toc": {
      "base_numbering": 1,
      "nav_menu": {},
      "number_sections": true,
      "sideBar": true,
      "skip_h1_title": false,
      "title_cell": "Table of Contents",
      "title_sidebar": "Contents",
      "toc_cell": true,
      "toc_position": {},
      "toc_section_display": true,
      "toc_window_display": true
    }
  },
  "cells": [
    {
      "cell_type": "markdown",
      "metadata": {
        "id": "p0xjof2N44pA",
        "toc": "true"
      },
      "source": [
        "<h1>Table of Contents<span class=\"tocSkip\"></span></h1>\n",
        "<div class=\"toc\"><ul class=\"toc-item\"><li><span><a href=\"#Data-Description\" data-toc-modified-id=\"Data-Description-1\"><span class=\"toc-item-num\">1&nbsp;&nbsp;</span>Data Description</a></span></li><li><span><a href=\"#Imports\" data-toc-modified-id=\"Imports-2\"><span class=\"toc-item-num\">2&nbsp;&nbsp;</span>Imports</a></span></li><li><span><a href=\"#Important-Scripts\" data-toc-modified-id=\"Important-Scripts-3\"><span class=\"toc-item-num\">3&nbsp;&nbsp;</span>Important Scripts</a></span></li><li><span><a href=\"#Load-the-data\" data-toc-modified-id=\"Load-the-data-4\"><span class=\"toc-item-num\">4&nbsp;&nbsp;</span>Load the data</a></span></li><li><span><a href=\"#Log-transform-large-values\" data-toc-modified-id=\"Log-transform-large-values-5\"><span class=\"toc-item-num\">5&nbsp;&nbsp;</span>Log transform large values</a></span></li><li><span><a href=\"#Train-Test-split-after-log-transform\" data-toc-modified-id=\"Train-Test-split-after-log-transform-6\"><span class=\"toc-item-num\">6&nbsp;&nbsp;</span>Train-Test split after log transform</a></span></li><li><span><a href=\"#Scaling-the-Data\" data-toc-modified-id=\"Scaling-the-Data-7\"><span class=\"toc-item-num\">7&nbsp;&nbsp;</span>Scaling the Data</a></span></li><li><span><a href=\"#GBR-Modelling\" data-toc-modified-id=\"GBR-Modelling-8\"><span class=\"toc-item-num\">8&nbsp;&nbsp;</span>GBR Modelling</a></span></li><li><span><a href=\"#GBR-modelling-using-pipeline\" data-toc-modified-id=\"GBR-modelling-using-pipeline-9\"><span class=\"toc-item-num\">9&nbsp;&nbsp;</span>GBR modelling using pipeline</a></span></li><li><span><a href=\"#Cross-Validation-Results\" data-toc-modified-id=\"Cross-Validation-Results-10\"><span class=\"toc-item-num\">10&nbsp;&nbsp;</span>Cross Validation Results</a></span></li><li><span><a href=\"#HPO-(Hyper-Parameters-Optimization)\" data-toc-modified-id=\"HPO-(Hyper-Parameters-Optimization)-11\"><span class=\"toc-item-num\">11&nbsp;&nbsp;</span>HPO (Hyper Parameters Optimization)</a></span><ul class=\"toc-item\"><li><span><a href=\"#Grid-Search-for-Gradient-Boosting-Regressor\" data-toc-modified-id=\"Grid-Search-for-Gradient-Boosting-Regressor-11.1\"><span class=\"toc-item-num\">11.1&nbsp;&nbsp;</span>Grid Search for Gradient Boosting Regressor</a></span></li><li><span><a href=\"#Best-Model\" data-toc-modified-id=\"Best-Model-11.2\"><span class=\"toc-item-num\">11.2&nbsp;&nbsp;</span>Best Model</a></span></li></ul></li></ul></div>"
      ]
    },
    {
      "cell_type": "markdown",
      "metadata": {
        "id": "jEa34qh9mghd"
      },
      "source": [
        "<div class=\"alert alert-block alert-success\">\n",
        "<b>Kernel Author:</b>  <br>\n",
        "<a href=\"https://bhishanpdl.github.io/\" , target=\"_blank\">Bhishan Poudel,  Data Scientist, Ph.D Astrophysics</a> .\n",
        "</div>"
      ]
    },
    {
      "cell_type": "markdown",
      "metadata": {
        "id": "VwrXuQrH44pE"
      },
      "source": [
        "# Data Description\n",
        "\n",
        "This dataset contains house sale prices for King County,\n",
        "which includes Seattle.\n",
        "It includes homes sold between May 2014 and May 2015.\n",
        "\n",
        "- Dependent features: 1 (price)\n",
        "- Features : 19 home features\n",
        "- Id:  1 house ID\n",
        "\n",
        "Task: Try to estimate the price based on given features.\n",
        "\n",
        "![](https://github.com/bhishanpdl/Project_House_Price_Prediction/blob/master/data/raw/data_description.png?raw=1)"
      ]
    },
    {
      "cell_type": "markdown",
      "metadata": {
        "id": "mcUE4kVk44pE"
      },
      "source": [
        "# Imports"
      ]
    },
    {
      "cell_type": "code",
      "metadata": {
        "id": "Dyi-YvA7CAXL"
      },
      "source": [
        "import time\n",
        "time_start_notebook = time.time()"
      ],
      "execution_count": null,
      "outputs": []
    },
    {
      "cell_type": "code",
      "metadata": {
        "ExecuteTime": {
          "end_time": "2019-11-20T01:11:15.553817Z",
          "start_time": "2019-11-20T01:11:15.549974Z"
        },
        "id": "tpMc6QvO44pF"
      },
      "source": [
        "%%capture\n",
        "import os\n",
        "import sys\n",
        "ENV_COLAB = 'google.colab' in sys.modules\n",
        "\n",
        "if ENV_COLAB:\n",
        "    ## install modules\n",
        "    !pip install watermark\n",
        "    !pip install catboost\n",
        "    !pip install shap eli5\n",
        "\n",
        "    # if we update existing module, we need to restart colab\n",
        "    !pip install -U scikit-learn\n",
        "\n",
        "    ## print\n",
        "    print('Environment: Google Colaboratory.')\n",
        "TREE_METHOD = 'gpu_hist' if ENV_COLAB else 'auto'"
      ],
      "execution_count": null,
      "outputs": []
    },
    {
      "cell_type": "code",
      "metadata": {
        "ExecuteTime": {
          "end_time": "2019-11-20T01:11:16.331694Z",
          "start_time": "2019-11-20T01:11:15.561180Z"
        },
        "id": "ZFubck-r44pH",
        "outputId": "83b1b806-1c21-4556-cadc-dc1012953640",
        "colab": {
          "base_uri": "https://localhost:8080/"
        }
      },
      "source": [
        "import numpy as np\n",
        "import pandas as pd\n",
        "\n",
        "# visualization\n",
        "import seaborn as sns\n",
        "sns.set(color_codes=True)\n",
        "import matplotlib\n",
        "import matplotlib.pyplot as plt\n",
        "%matplotlib inline\n",
        "\n",
        "# mixed\n",
        "import os\n",
        "import time\n",
        "from pprint import pprint\n",
        "\n",
        "# random state\n",
        "SEED=100\n",
        "np.random.seed(SEED)\n",
        "\n",
        "# settings\n",
        "pd.set_option('display.max_columns', 200)\n",
        "\n",
        "# sklearn\n",
        "import sklearn\n",
        "from sklearn import preprocessing\n",
        "from sklearn import model_selection\n",
        "from sklearn import ensemble\n",
        "from sklearn import metrics\n",
        "from sklearn.pipeline import Pipeline\n",
        "from sklearn.inspection import permutation_importance\n",
        "\n",
        "# boosting\n",
        "from sklearn.experimental import enable_hist_gradient_boosting  # noqa\n",
        "from sklearn.ensemble import HistGradientBoostingRegressor\n",
        "import xgboost\n",
        "import lightgbm\n",
        "import catboost\n",
        "\n",
        "# versions\n",
        "import watermark\n",
        "%load_ext watermark\n",
        "%watermark -a \"Bhishan Poudel\" -d -v -m\n",
        "print()\n",
        "%watermark -iv"
      ],
      "execution_count": null,
      "outputs": [
        {
          "output_type": "stream",
          "text": [
            "Bhishan Poudel 2020-11-05 \n",
            "\n",
            "CPython 3.6.9\n",
            "IPython 5.5.0\n",
            "\n",
            "compiler   : GCC 8.4.0\n",
            "system     : Linux\n",
            "release    : 4.19.112+\n",
            "machine    : x86_64\n",
            "processor  : x86_64\n",
            "CPU cores  : 2\n",
            "interpreter: 64bit\n",
            "\n",
            "matplotlib 3.2.2\n",
            "xgboost    0.90\n",
            "numpy      1.18.5\n",
            "lightgbm   2.2.3\n",
            "pandas     1.1.4\n",
            "sklearn    0.23.2\n",
            "watermark  2.0.2\n",
            "catboost   0.24.2\n",
            "seaborn    0.11.0\n",
            "\n"
          ],
          "name": "stdout"
        }
      ]
    },
    {
      "cell_type": "markdown",
      "metadata": {
        "id": "_vArIrIYIRlc"
      },
      "source": [
        "# Important Scripts"
      ]
    },
    {
      "cell_type": "code",
      "metadata": {
        "ExecuteTime": {
          "end_time": "2019-11-20T01:11:16.907111Z",
          "start_time": "2019-11-20T01:11:16.896053Z"
        },
        "id": "71Gnb9Z9IT3g"
      },
      "source": [
        "def show_methods(obj, ncols=7,start=None, inside=None):\n",
        "    \"\"\" Show all the attributes of a given method.\n",
        "    Example:\n",
        "    ========\n",
        "    show_method_attributes(list)\n",
        "     \"\"\"\n",
        "\n",
        "    print(f'Object Type: {type(obj)}\\n')\n",
        "    lst = [elem for elem in dir(obj) if elem[0]!='_' ]\n",
        "    lst = [elem for elem in lst \n",
        "           if elem not in 'os np pd sys time psycopg2'.split() ]\n",
        "\n",
        "    if isinstance(start,str):\n",
        "        lst = [elem for elem in lst if elem.startswith(start)]\n",
        "        \n",
        "    if isinstance(start,tuple) or isinstance(start,list):\n",
        "        lst = [elem for elem in lst for start_elem in start\n",
        "               if elem.startswith(start_elem)]\n",
        "        \n",
        "    if isinstance(inside,str):\n",
        "        lst = [elem for elem in lst if inside in elem]\n",
        "        \n",
        "    if isinstance(inside,tuple) or isinstance(inside,list):\n",
        "        lst = [elem for elem in lst for inside_elem in inside\n",
        "               if inside_elem in elem]\n",
        "\n",
        "    return pd.DataFrame(np.array_split(lst,ncols)).T.fillna('')"
      ],
      "execution_count": null,
      "outputs": []
    },
    {
      "cell_type": "code",
      "metadata": {
        "ExecuteTime": {
          "end_time": "2019-11-20T01:11:16.913612Z",
          "start_time": "2019-11-20T01:11:16.910072Z"
        },
        "id": "H1JrjcmiK66M"
      },
      "source": [
        "def adjustedR2(rsquared,nrows,ncols):\n",
        "    return rsquared- (ncols-1)/(nrows-ncols) * (1-rsquared)"
      ],
      "execution_count": null,
      "outputs": []
    },
    {
      "cell_type": "code",
      "metadata": {
        "id": "X8LqH9Jd85-f"
      },
      "source": [
        "def print_regr_eval(ytest,ypreds,ncols):\n",
        "    rmse = np.sqrt(metrics.mean_squared_error(ytest,ypreds))\n",
        "    r2 = metrics.r2_score(ytest,ypreds)\n",
        "    ar2 = adjustedR2(r2,len(ytest),ncols)\n",
        "    evs = metrics.explained_variance_score(ytest, ypreds)\n",
        "\n",
        "    print(f\"\"\"\n",
        "             RMSE : {rmse:,.2f}\n",
        "Explained Variance: {evs:.6f}\n",
        "         R-Squared: {r2:,.6f}\n",
        "Adjusted R-squared: {ar2:,.6f}\n",
        "\n",
        "\"\"\")"
      ],
      "execution_count": null,
      "outputs": []
    },
    {
      "cell_type": "code",
      "metadata": {
        "id": "WVEDHvj_BeJk"
      },
      "source": [
        "  \n",
        "def plot_xgb_cv_res(df_cv_results):\n",
        "    fig,ax = plt.subplots()\n",
        "    plt.plot(df_cv_results['train-rmse-mean'],color='b',label='train-rmse')\n",
        "    plt.plot(df_cv_results['test-rmse-mean'],color='r',label='train-rmse')\n",
        "    plt.title('Cross validation score mean plot',fontsize=14)\n",
        "    plt.legend()\n",
        "    plt.show()"
      ],
      "execution_count": null,
      "outputs": []
    },
    {
      "cell_type": "markdown",
      "metadata": {
        "id": "fF4cFyfou8Z1"
      },
      "source": [
        "# Parameters"
      ]
    },
    {
      "cell_type": "code",
      "metadata": {
        "id": "LWGXVGJLu95c",
        "outputId": "9a1e4bf9-00db-48b9-a8db-eede7e48a6ce",
        "colab": {
          "base_uri": "https://localhost:8080/"
        }
      },
      "source": [
        "if ENV_COLAB:\n",
        "    path_raw = 'https://raw.githubusercontent.com/bhishanpdl/Datasets/master/'\n",
        "    proj = 'Projects/King_County_Seattle_House_Price_Kaggle/'\n",
        "    data_path_parent = path_raw + proj\n",
        "    data_path_train = data_path_parent + 'raw/train.csv'\n",
        "    data_path_test = data_path_parent + 'raw/test.csv'\n",
        "\n",
        "else:\n",
        "    data_path_parent = '../data/'\n",
        "    data_path_train = data_path_parent + 'raw/train.csv'\n",
        "    data_path_test = data_path_parent + 'raw/test.csv'\n",
        "\n",
        "target = 'price'\n",
        "train_size = 0.8\n",
        "\n",
        "print(data_path_train)"
      ],
      "execution_count": null,
      "outputs": [
        {
          "output_type": "stream",
          "text": [
            "https://raw.githubusercontent.com/bhishanpdl/Datasets/master/Projects/King_County_Seattle_House_Price_Kaggle/raw/train.csv\n"
          ],
          "name": "stdout"
        }
      ]
    },
    {
      "cell_type": "markdown",
      "metadata": {
        "id": "AopwXJ3B44pv"
      },
      "source": [
        "# Load the data"
      ]
    },
    {
      "cell_type": "code",
      "metadata": {
        "ExecuteTime": {
          "end_time": "2019-11-20T01:11:22.829290Z",
          "start_time": "2019-11-20T01:11:16.916884Z"
        },
        "id": "efpgvfDk44px",
        "outputId": "48bb958f-7be2-4dda-d864-67a41c134cff",
        "colab": {
          "base_uri": "https://localhost:8080/",
          "height": 295
        }
      },
      "source": [
        "df_train_raw = pd.read_csv(data_path_train)\n",
        "df_test_raw = pd.read_csv(data_path_test)\n",
        "print(df_train_raw.shape)\n",
        "print(df_train_raw.columns)\n",
        "\n",
        "display(df_train_raw.head(2).append(df_train_raw.tail(2)))"
      ],
      "execution_count": null,
      "outputs": [
        {
          "output_type": "stream",
          "text": [
            "(17290, 21)\n",
            "Index(['id', 'date', 'price', 'bedrooms', 'bathrooms', 'sqft_living',\n",
            "       'sqft_lot', 'floors', 'waterfront', 'view', 'condition', 'grade',\n",
            "       'sqft_above', 'sqft_basement', 'yr_built', 'yr_renovated', 'zipcode',\n",
            "       'lat', 'long', 'sqft_living15', 'sqft_lot15'],\n",
            "      dtype='object')\n"
          ],
          "name": "stdout"
        },
        {
          "output_type": "display_data",
          "data": {
            "text/html": [
              "<div>\n",
              "<style scoped>\n",
              "    .dataframe tbody tr th:only-of-type {\n",
              "        vertical-align: middle;\n",
              "    }\n",
              "\n",
              "    .dataframe tbody tr th {\n",
              "        vertical-align: top;\n",
              "    }\n",
              "\n",
              "    .dataframe thead th {\n",
              "        text-align: right;\n",
              "    }\n",
              "</style>\n",
              "<table border=\"1\" class=\"dataframe\">\n",
              "  <thead>\n",
              "    <tr style=\"text-align: right;\">\n",
              "      <th></th>\n",
              "      <th>id</th>\n",
              "      <th>date</th>\n",
              "      <th>price</th>\n",
              "      <th>bedrooms</th>\n",
              "      <th>bathrooms</th>\n",
              "      <th>sqft_living</th>\n",
              "      <th>sqft_lot</th>\n",
              "      <th>floors</th>\n",
              "      <th>waterfront</th>\n",
              "      <th>view</th>\n",
              "      <th>condition</th>\n",
              "      <th>grade</th>\n",
              "      <th>sqft_above</th>\n",
              "      <th>sqft_basement</th>\n",
              "      <th>yr_built</th>\n",
              "      <th>yr_renovated</th>\n",
              "      <th>zipcode</th>\n",
              "      <th>lat</th>\n",
              "      <th>long</th>\n",
              "      <th>sqft_living15</th>\n",
              "      <th>sqft_lot15</th>\n",
              "    </tr>\n",
              "  </thead>\n",
              "  <tbody>\n",
              "    <tr>\n",
              "      <th>0</th>\n",
              "      <td>2561340020</td>\n",
              "      <td>20140804T000000</td>\n",
              "      <td>325000.0</td>\n",
              "      <td>3</td>\n",
              "      <td>1.75</td>\n",
              "      <td>1780</td>\n",
              "      <td>11096</td>\n",
              "      <td>1.0</td>\n",
              "      <td>0</td>\n",
              "      <td>0</td>\n",
              "      <td>3</td>\n",
              "      <td>7</td>\n",
              "      <td>1210</td>\n",
              "      <td>570</td>\n",
              "      <td>1979</td>\n",
              "      <td>0</td>\n",
              "      <td>98074</td>\n",
              "      <td>47.6170</td>\n",
              "      <td>-122.051</td>\n",
              "      <td>1780</td>\n",
              "      <td>10640</td>\n",
              "    </tr>\n",
              "    <tr>\n",
              "      <th>1</th>\n",
              "      <td>8598200070</td>\n",
              "      <td>20141208T000000</td>\n",
              "      <td>278000.0</td>\n",
              "      <td>2</td>\n",
              "      <td>2.50</td>\n",
              "      <td>1420</td>\n",
              "      <td>2229</td>\n",
              "      <td>2.0</td>\n",
              "      <td>0</td>\n",
              "      <td>0</td>\n",
              "      <td>3</td>\n",
              "      <td>7</td>\n",
              "      <td>1420</td>\n",
              "      <td>0</td>\n",
              "      <td>2004</td>\n",
              "      <td>0</td>\n",
              "      <td>98059</td>\n",
              "      <td>47.4871</td>\n",
              "      <td>-122.165</td>\n",
              "      <td>1500</td>\n",
              "      <td>2230</td>\n",
              "    </tr>\n",
              "    <tr>\n",
              "      <th>17288</th>\n",
              "      <td>7174800760</td>\n",
              "      <td>20140725T000000</td>\n",
              "      <td>667000.0</td>\n",
              "      <td>5</td>\n",
              "      <td>2.00</td>\n",
              "      <td>1900</td>\n",
              "      <td>5470</td>\n",
              "      <td>1.0</td>\n",
              "      <td>0</td>\n",
              "      <td>0</td>\n",
              "      <td>3</td>\n",
              "      <td>7</td>\n",
              "      <td>1180</td>\n",
              "      <td>720</td>\n",
              "      <td>1930</td>\n",
              "      <td>1965</td>\n",
              "      <td>98105</td>\n",
              "      <td>47.6666</td>\n",
              "      <td>-122.303</td>\n",
              "      <td>1300</td>\n",
              "      <td>3250</td>\n",
              "    </tr>\n",
              "    <tr>\n",
              "      <th>17289</th>\n",
              "      <td>9521100280</td>\n",
              "      <td>20140612T000000</td>\n",
              "      <td>480000.0</td>\n",
              "      <td>3</td>\n",
              "      <td>2.50</td>\n",
              "      <td>1250</td>\n",
              "      <td>1103</td>\n",
              "      <td>3.0</td>\n",
              "      <td>0</td>\n",
              "      <td>2</td>\n",
              "      <td>3</td>\n",
              "      <td>8</td>\n",
              "      <td>1250</td>\n",
              "      <td>0</td>\n",
              "      <td>2005</td>\n",
              "      <td>0</td>\n",
              "      <td>98103</td>\n",
              "      <td>47.6619</td>\n",
              "      <td>-122.352</td>\n",
              "      <td>1250</td>\n",
              "      <td>1188</td>\n",
              "    </tr>\n",
              "  </tbody>\n",
              "</table>\n",
              "</div>"
            ],
            "text/plain": [
              "               id             date     price  bedrooms  bathrooms  \\\n",
              "0      2561340020  20140804T000000  325000.0         3       1.75   \n",
              "1      8598200070  20141208T000000  278000.0         2       2.50   \n",
              "17288  7174800760  20140725T000000  667000.0         5       2.00   \n",
              "17289  9521100280  20140612T000000  480000.0         3       2.50   \n",
              "\n",
              "       sqft_living  sqft_lot  floors  waterfront  view  condition  grade  \\\n",
              "0             1780     11096     1.0           0     0          3      7   \n",
              "1             1420      2229     2.0           0     0          3      7   \n",
              "17288         1900      5470     1.0           0     0          3      7   \n",
              "17289         1250      1103     3.0           0     2          3      8   \n",
              "\n",
              "       sqft_above  sqft_basement  yr_built  yr_renovated  zipcode      lat  \\\n",
              "0            1210            570      1979             0    98074  47.6170   \n",
              "1            1420              0      2004             0    98059  47.4871   \n",
              "17288        1180            720      1930          1965    98105  47.6666   \n",
              "17289        1250              0      2005             0    98103  47.6619   \n",
              "\n",
              "          long  sqft_living15  sqft_lot15  \n",
              "0     -122.051           1780       10640  \n",
              "1     -122.165           1500        2230  \n",
              "17288 -122.303           1300        3250  \n",
              "17289 -122.352           1250        1188  "
            ]
          },
          "metadata": {
            "tags": []
          }
        }
      ]
    },
    {
      "cell_type": "markdown",
      "metadata": {
        "id": "WG3-tL94xCzn"
      },
      "source": [
        "# Data Processing"
      ]
    },
    {
      "cell_type": "code",
      "metadata": {
        "id": "0XjWP7y1xEwm"
      },
      "source": [
        "def clean_data(df):\n",
        "    df = df.copy()\n",
        "\n",
        "    # Date time features\n",
        "    df['date'] = pd.to_datetime(df['date'])\n",
        "    df['yr_sales'] = df['date'].dt.year\n",
        "    df['age'] = df['yr_sales'] - df['yr_built']\n",
        "    df['yr_renovated2'] = np.where(df['yr_renovated'].eq(0), df['yr_built'], df['yr_renovated'])\n",
        "    df['age_after_renovation'] = df['yr_sales'] - df['yr_renovated2']\n",
        "\n",
        "    # Categorical Features\n",
        "    cols_str = ['waterfront', 'view', 'condition', 'grade','zipcode']\n",
        "    for c in cols_str:\n",
        "        df[c] = df[c].astype(str)\n",
        "\n",
        "    cols_obj = df.select_dtypes(['object','category']).columns\n",
        "    cols_obj_small = ['waterfront', 'view', 'condition', 'grade']\n",
        "\n",
        "    # Boolean data types\n",
        "    df['basement_bool'] = df['sqft_basement'].apply(lambda x: 1 if x>0 else 0)\n",
        "    df['renovation_bool'] = df['yr_renovated'].apply(lambda x: 1 if x>0 else 0)\n",
        "\n",
        "    # Numerical features binning\n",
        "    cols_bin = ['age','age_after_renovation']\n",
        "    df['age_cat'] = pd.cut(df['age'], 10, labels=range(10)).astype(str)\n",
        "    df['age_after_renovation_cat'] = pd.cut(df['age_after_renovation'], 10, labels=range(10))\n",
        "\n",
        "    # Create dummy variables from object and categories\n",
        "    cols_obj_cat = df.select_dtypes(include=[np.object, 'category']).columns\n",
        "    cols_dummy = ['waterfront', 'view', 'condition', 'grade',\n",
        "                'age_cat', 'age_after_renovation_cat']\n",
        "\n",
        "    df_dummy = pd.get_dummies(df[cols_dummy],drop_first=False)\n",
        "    df = pd.concat([df,df_dummy], axis=1)\n",
        "\n",
        "    # after creating dummy, make the columns number\n",
        "    for c in cols_obj_cat:\n",
        "        df[c] = df[c].astype(np.int8)\n",
        "\n",
        "    # Log transformation of large numerical values\n",
        "    cols_log = ['sqft_living', 'sqft_lot', 'sqft_above',\n",
        "                'sqft_basement', 'sqft_living15', 'sqft_lot15']\n",
        "\n",
        "    for col in cols_log:\n",
        "        df['log1p_' + col] = np.log1p(df[col])\n",
        "\n",
        "    # squared columns\n",
        "    cols_sq = [\n",
        "        # cats\n",
        "        'bedrooms','bathrooms','floors','waterfront','view',\n",
        "\n",
        "        # nums\n",
        "        'age','age_after_renovation',\n",
        "\n",
        "        # log nums\n",
        "        'log1p_sqft_living','log1p_sqft_lot',\n",
        "        'log1p_sqft_above','log1p_sqft_basement',\n",
        "        'log1p_sqft_living15','log1p_sqft_lot15'\n",
        "        ]\n",
        "    for col in cols_sq:\n",
        "        df[col + '_sq'] = df[col]**2\n",
        "\n",
        "    # Drop unwanted columns\n",
        "    cols_drop = ['id','date']\n",
        "    df = df.drop(cols_drop,axis=1)\n",
        "\n",
        "    return df"
      ],
      "execution_count": null,
      "outputs": []
    },
    {
      "cell_type": "code",
      "metadata": {
        "id": "RIaDxvcf0gLO",
        "outputId": "f766065d-44a0-4a27-da79-843ad52d32be",
        "colab": {
          "base_uri": "https://localhost:8080/"
        }
      },
      "source": [
        "df_train = clean_data(df_train_raw)\n",
        "df_test = clean_data(df_test_raw)\n",
        "\n",
        "print(df_train.shape)\n",
        "print(df_train.columns)"
      ],
      "execution_count": null,
      "outputs": [
        {
          "output_type": "stream",
          "text": [
            "(17290, 90)\n",
            "Index(['price', 'bedrooms', 'bathrooms', 'sqft_living', 'sqft_lot', 'floors',\n",
            "       'waterfront', 'view', 'condition', 'grade', 'sqft_above',\n",
            "       'sqft_basement', 'yr_built', 'yr_renovated', 'zipcode', 'lat', 'long',\n",
            "       'sqft_living15', 'sqft_lot15', 'yr_sales', 'age', 'yr_renovated2',\n",
            "       'age_after_renovation', 'basement_bool', 'renovation_bool', 'age_cat',\n",
            "       'age_after_renovation_cat', 'waterfront_0', 'waterfront_1', 'view_0',\n",
            "       'view_1', 'view_2', 'view_3', 'view_4', 'condition_1', 'condition_2',\n",
            "       'condition_3', 'condition_4', 'condition_5', 'grade_1', 'grade_10',\n",
            "       'grade_11', 'grade_12', 'grade_13', 'grade_3', 'grade_4', 'grade_5',\n",
            "       'grade_6', 'grade_7', 'grade_8', 'grade_9', 'age_cat_0', 'age_cat_1',\n",
            "       'age_cat_2', 'age_cat_3', 'age_cat_4', 'age_cat_5', 'age_cat_6',\n",
            "       'age_cat_7', 'age_cat_8', 'age_cat_9', 'age_after_renovation_cat_0',\n",
            "       'age_after_renovation_cat_1', 'age_after_renovation_cat_2',\n",
            "       'age_after_renovation_cat_3', 'age_after_renovation_cat_4',\n",
            "       'age_after_renovation_cat_5', 'age_after_renovation_cat_6',\n",
            "       'age_after_renovation_cat_7', 'age_after_renovation_cat_8',\n",
            "       'age_after_renovation_cat_9', 'log1p_sqft_living', 'log1p_sqft_lot',\n",
            "       'log1p_sqft_above', 'log1p_sqft_basement', 'log1p_sqft_living15',\n",
            "       'log1p_sqft_lot15', 'bedrooms_sq', 'bathrooms_sq', 'floors_sq',\n",
            "       'waterfront_sq', 'view_sq', 'age_sq', 'age_after_renovation_sq',\n",
            "       'log1p_sqft_living_sq', 'log1p_sqft_lot_sq', 'log1p_sqft_above_sq',\n",
            "       'log1p_sqft_basement_sq', 'log1p_sqft_living15_sq',\n",
            "       'log1p_sqft_lot15_sq'],\n",
            "      dtype='object')\n"
          ],
          "name": "stdout"
        }
      ]
    },
    {
      "cell_type": "code",
      "metadata": {
        "id": "XnOlt4TMrdmP"
      },
      "source": [
        "# df_train.dtypes.to_numpy()"
      ],
      "execution_count": null,
      "outputs": []
    },
    {
      "cell_type": "code",
      "metadata": {
        "id": "baL0m2g-0gSf",
        "outputId": "587cd32c-d35d-42c4-b022-6fba2474f36b",
        "colab": {
          "base_uri": "https://localhost:8080/"
        }
      },
      "source": [
        "# make sure no data leakage\n",
        "df_train.filter(regex='price').columns"
      ],
      "execution_count": null,
      "outputs": [
        {
          "output_type": "execute_result",
          "data": {
            "text/plain": [
              "Index(['price'], dtype='object')"
            ]
          },
          "metadata": {
            "tags": []
          },
          "execution_count": 13
        }
      ]
    },
    {
      "cell_type": "code",
      "metadata": {
        "id": "gq8sU2fq0gRD",
        "outputId": "bac82f64-7ef6-4387-e7f1-66c24a3e7992",
        "colab": {
          "base_uri": "https://localhost:8080/"
        }
      },
      "source": [
        "# make sure no nans\n",
        "df_train.isna().sum().sum(), df_test.isna().sum().sum()"
      ],
      "execution_count": null,
      "outputs": [
        {
          "output_type": "execute_result",
          "data": {
            "text/plain": [
              "(0, 0)"
            ]
          },
          "metadata": {
            "tags": []
          },
          "execution_count": 14
        }
      ]
    },
    {
      "cell_type": "markdown",
      "metadata": {
        "id": "kB2xBUW85Kff"
      },
      "source": [
        "# Train target split"
      ]
    },
    {
      "cell_type": "code",
      "metadata": {
        "id": "gnM_P8oH__Mn"
      },
      "source": [
        "# choose features to train, we can change it later\n",
        "features = list(sorted(df_train.columns.drop(target)))\n",
        "# print(np.array(features))"
      ],
      "execution_count": null,
      "outputs": []
    },
    {
      "cell_type": "code",
      "metadata": {
        "id": "R5Kt7yoVCMVr"
      },
      "source": [
        "features = [i for i in features if i in df_test.columns if i in df_train.columns]\n",
        "# print(np.array(sorted(features)))"
      ],
      "execution_count": null,
      "outputs": []
    },
    {
      "cell_type": "code",
      "metadata": {
        "id": "oqejbZ9S5Mwo"
      },
      "source": [
        "df_Xtrain  = df_train[features]\n",
        "ser_ytrain = df_train[target]\n",
        "\n",
        "df_Xtest  = df_test[features]\n",
        "ser_ytest = df_test[target]\n",
        "\n",
        "ytrain = np.array(ser_ytrain).flatten()\n",
        "ytest  = np.array(ser_ytest).flatten()"
      ],
      "execution_count": null,
      "outputs": []
    },
    {
      "cell_type": "markdown",
      "metadata": {
        "id": "-IeDuE9gvpw6"
      },
      "source": [
        "## Scaling"
      ]
    },
    {
      "cell_type": "code",
      "metadata": {
        "id": "fIMFU8-HvrbU",
        "outputId": "65b3f628-ac0c-47ee-bc15-4013c346d5ba",
        "colab": {
          "base_uri": "https://localhost:8080/",
          "height": 131
        }
      },
      "source": [
        "scaling = 'standard'\n",
        "if scaling == 'standard':\n",
        "    scaler = preprocessing.StandardScaler()\n",
        "    scaler.fit(df_Xtrain)\n",
        "    df_Xtrain = pd.DataFrame(scaler.transform(df_Xtrain),columns=features)\n",
        "    df_Xtest =  pd.DataFrame(scaler.transform(df_Xtest),columns=features)\n",
        "elif scaling == 'minmax':\n",
        "    scaler = preprocessing.MinMaxScaler()\n",
        "    scaler.fit(df_Xtrain)\n",
        "    df_Xtrain = pd.DataFrame(scaler.transform(df_Xtrain),columns=features)\n",
        "    df_Xtest = pd.DataFrame(scaler.transform(df_Xtest),columns=features)\n",
        "\n",
        "\n",
        "df_Xtrain.head(2)"
      ],
      "execution_count": null,
      "outputs": [
        {
          "output_type": "execute_result",
          "data": {
            "text/html": [
              "<div>\n",
              "<style scoped>\n",
              "    .dataframe tbody tr th:only-of-type {\n",
              "        vertical-align: middle;\n",
              "    }\n",
              "\n",
              "    .dataframe tbody tr th {\n",
              "        vertical-align: top;\n",
              "    }\n",
              "\n",
              "    .dataframe thead th {\n",
              "        text-align: right;\n",
              "    }\n",
              "</style>\n",
              "<table border=\"1\" class=\"dataframe\">\n",
              "  <thead>\n",
              "    <tr style=\"text-align: right;\">\n",
              "      <th></th>\n",
              "      <th>age</th>\n",
              "      <th>age_after_renovation</th>\n",
              "      <th>age_after_renovation_cat</th>\n",
              "      <th>age_after_renovation_cat_0</th>\n",
              "      <th>age_after_renovation_cat_1</th>\n",
              "      <th>age_after_renovation_cat_2</th>\n",
              "      <th>age_after_renovation_cat_3</th>\n",
              "      <th>age_after_renovation_cat_4</th>\n",
              "      <th>age_after_renovation_cat_5</th>\n",
              "      <th>age_after_renovation_cat_6</th>\n",
              "      <th>age_after_renovation_cat_7</th>\n",
              "      <th>age_after_renovation_cat_8</th>\n",
              "      <th>age_after_renovation_cat_9</th>\n",
              "      <th>age_after_renovation_sq</th>\n",
              "      <th>age_cat</th>\n",
              "      <th>age_cat_0</th>\n",
              "      <th>age_cat_1</th>\n",
              "      <th>age_cat_2</th>\n",
              "      <th>age_cat_3</th>\n",
              "      <th>age_cat_4</th>\n",
              "      <th>age_cat_5</th>\n",
              "      <th>age_cat_6</th>\n",
              "      <th>age_cat_7</th>\n",
              "      <th>age_cat_8</th>\n",
              "      <th>age_cat_9</th>\n",
              "      <th>age_sq</th>\n",
              "      <th>basement_bool</th>\n",
              "      <th>bathrooms</th>\n",
              "      <th>bathrooms_sq</th>\n",
              "      <th>bedrooms</th>\n",
              "      <th>bedrooms_sq</th>\n",
              "      <th>condition</th>\n",
              "      <th>condition_1</th>\n",
              "      <th>condition_2</th>\n",
              "      <th>condition_3</th>\n",
              "      <th>condition_4</th>\n",
              "      <th>condition_5</th>\n",
              "      <th>floors</th>\n",
              "      <th>floors_sq</th>\n",
              "      <th>grade</th>\n",
              "      <th>grade_10</th>\n",
              "      <th>grade_11</th>\n",
              "      <th>grade_12</th>\n",
              "      <th>grade_13</th>\n",
              "      <th>grade_4</th>\n",
              "      <th>grade_5</th>\n",
              "      <th>grade_6</th>\n",
              "      <th>grade_7</th>\n",
              "      <th>grade_8</th>\n",
              "      <th>grade_9</th>\n",
              "      <th>lat</th>\n",
              "      <th>log1p_sqft_above</th>\n",
              "      <th>log1p_sqft_above_sq</th>\n",
              "      <th>log1p_sqft_basement</th>\n",
              "      <th>log1p_sqft_basement_sq</th>\n",
              "      <th>log1p_sqft_living</th>\n",
              "      <th>log1p_sqft_living15</th>\n",
              "      <th>log1p_sqft_living15_sq</th>\n",
              "      <th>log1p_sqft_living_sq</th>\n",
              "      <th>log1p_sqft_lot</th>\n",
              "      <th>log1p_sqft_lot15</th>\n",
              "      <th>log1p_sqft_lot15_sq</th>\n",
              "      <th>log1p_sqft_lot_sq</th>\n",
              "      <th>long</th>\n",
              "      <th>renovation_bool</th>\n",
              "      <th>sqft_above</th>\n",
              "      <th>sqft_basement</th>\n",
              "      <th>sqft_living</th>\n",
              "      <th>sqft_living15</th>\n",
              "      <th>sqft_lot</th>\n",
              "      <th>sqft_lot15</th>\n",
              "      <th>view</th>\n",
              "      <th>view_0</th>\n",
              "      <th>view_1</th>\n",
              "      <th>view_2</th>\n",
              "      <th>view_3</th>\n",
              "      <th>view_4</th>\n",
              "      <th>view_sq</th>\n",
              "      <th>waterfront</th>\n",
              "      <th>waterfront_0</th>\n",
              "      <th>waterfront_1</th>\n",
              "      <th>waterfront_sq</th>\n",
              "      <th>yr_built</th>\n",
              "      <th>yr_renovated</th>\n",
              "      <th>yr_renovated2</th>\n",
              "      <th>yr_sales</th>\n",
              "      <th>zipcode</th>\n",
              "    </tr>\n",
              "  </thead>\n",
              "  <tbody>\n",
              "    <tr>\n",
              "      <th>0</th>\n",
              "      <td>-0.288109</td>\n",
              "      <td>-0.212303</td>\n",
              "      <td>-0.062185</td>\n",
              "      <td>-0.459574</td>\n",
              "      <td>-0.415931</td>\n",
              "      <td>-0.380633</td>\n",
              "      <td>2.608131</td>\n",
              "      <td>-0.406415</td>\n",
              "      <td>-0.350429</td>\n",
              "      <td>-0.236658</td>\n",
              "      <td>-0.224556</td>\n",
              "      <td>-0.202644</td>\n",
              "      <td>-0.181261</td>\n",
              "      <td>-0.438016</td>\n",
              "      <td>-0.139825</td>\n",
              "      <td>-0.435083</td>\n",
              "      <td>-0.396508</td>\n",
              "      <td>-0.367269</td>\n",
              "      <td>2.611511</td>\n",
              "      <td>-0.412577</td>\n",
              "      <td>-0.364526</td>\n",
              "      <td>-0.249992</td>\n",
              "      <td>-0.237882</td>\n",
              "      <td>-0.219826</td>\n",
              "      <td>-0.196057</td>\n",
              "      <td>-0.494698</td>\n",
              "      <td>1.247166</td>\n",
              "      <td>-0.468811</td>\n",
              "      <td>-0.537610</td>\n",
              "      <td>-0.39033</td>\n",
              "      <td>-0.302220</td>\n",
              "      <td>-0.630613</td>\n",
              "      <td>-0.035694</td>\n",
              "      <td>-0.08937</td>\n",
              "      <td>0.735526</td>\n",
              "      <td>-0.595921</td>\n",
              "      <td>-0.294513</td>\n",
              "      <td>-0.916249</td>\n",
              "      <td>-0.837904</td>\n",
              "      <td>-0.554878</td>\n",
              "      <td>-0.238288</td>\n",
              "      <td>-0.135782</td>\n",
              "      <td>-0.066005</td>\n",
              "      <td>-0.026354</td>\n",
              "      <td>-0.036497</td>\n",
              "      <td>-0.108453</td>\n",
              "      <td>-0.324043</td>\n",
              "      <td>1.186907</td>\n",
              "      <td>-0.624934</td>\n",
              "      <td>-0.367371</td>\n",
              "      <td>0.410048</td>\n",
              "      <td>-0.688967</td>\n",
              "      <td>-0.698830</td>\n",
              "      <td>1.208375</td>\n",
              "      <td>1.137983</td>\n",
              "      <td>-0.149505</td>\n",
              "      <td>-0.169074</td>\n",
              "      <td>-0.189252</td>\n",
              "      <td>-0.177052</td>\n",
              "      <td>0.361630</td>\n",
              "      <td>0.383984</td>\n",
              "      <td>0.328910</td>\n",
              "      <td>0.301512</td>\n",
              "      <td>1.151178</td>\n",
              "      <td>-0.207998</td>\n",
              "      <td>-0.698239</td>\n",
              "      <td>0.636923</td>\n",
              "      <td>-0.322100</td>\n",
              "      <td>-0.302502</td>\n",
              "      <td>-0.095727</td>\n",
              "      <td>-0.078695</td>\n",
              "      <td>-0.305512</td>\n",
              "      <td>0.329787</td>\n",
              "      <td>-0.123077</td>\n",
              "      <td>-0.217065</td>\n",
              "      <td>-0.1533</td>\n",
              "      <td>-0.124282</td>\n",
              "      <td>-0.261712</td>\n",
              "      <td>-0.089698</td>\n",
              "      <td>0.089698</td>\n",
              "      <td>-0.089698</td>\n",
              "      <td>-0.089698</td>\n",
              "      <td>0.277141</td>\n",
              "      <td>-0.207992</td>\n",
              "      <td>0.201159</td>\n",
              "      <td>-0.693043</td>\n",
              "      <td>0.190991</td>\n",
              "    </tr>\n",
              "    <tr>\n",
              "      <th>1</th>\n",
              "      <td>-1.135161</td>\n",
              "      <td>-1.074946</td>\n",
              "      <td>-1.265291</td>\n",
              "      <td>2.175927</td>\n",
              "      <td>-0.415931</td>\n",
              "      <td>-0.380633</td>\n",
              "      <td>-0.383416</td>\n",
              "      <td>-0.406415</td>\n",
              "      <td>-0.350429</td>\n",
              "      <td>-0.236658</td>\n",
              "      <td>-0.224556</td>\n",
              "      <td>-0.202644</td>\n",
              "      <td>-0.181261</td>\n",
              "      <td>-0.814627</td>\n",
              "      <td>-1.320662</td>\n",
              "      <td>2.298413</td>\n",
              "      <td>-0.396508</td>\n",
              "      <td>-0.367269</td>\n",
              "      <td>-0.382920</td>\n",
              "      <td>-0.412577</td>\n",
              "      <td>-0.364526</td>\n",
              "      <td>-0.249992</td>\n",
              "      <td>-0.237882</td>\n",
              "      <td>-0.219826</td>\n",
              "      <td>-0.196057</td>\n",
              "      <td>-0.856409</td>\n",
              "      <td>-0.801818</td>\n",
              "      <td>0.506258</td>\n",
              "      <td>0.326221</td>\n",
              "      <td>-1.46038</td>\n",
              "      <td>-0.775165</td>\n",
              "      <td>-0.630613</td>\n",
              "      <td>-0.035694</td>\n",
              "      <td>-0.08937</td>\n",
              "      <td>0.735526</td>\n",
              "      <td>-0.595921</td>\n",
              "      <td>-0.294513</td>\n",
              "      <td>0.933474</td>\n",
              "      <td>0.806845</td>\n",
              "      <td>-0.554878</td>\n",
              "      <td>-0.238288</td>\n",
              "      <td>-0.135782</td>\n",
              "      <td>-0.066005</td>\n",
              "      <td>-0.026354</td>\n",
              "      <td>-0.036497</td>\n",
              "      <td>-0.108453</td>\n",
              "      <td>-0.324043</td>\n",
              "      <td>1.186907</td>\n",
              "      <td>-0.624934</td>\n",
              "      <td>-0.367371</td>\n",
              "      <td>-0.527440</td>\n",
              "      <td>-0.314663</td>\n",
              "      <td>-0.338123</td>\n",
              "      <td>-0.795545</td>\n",
              "      <td>-0.779839</td>\n",
              "      <td>-0.681826</td>\n",
              "      <td>-0.692075</td>\n",
              "      <td>-0.700087</td>\n",
              "      <td>-0.697163</td>\n",
              "      <td>-1.411647</td>\n",
              "      <td>-1.527957</td>\n",
              "      <td>-1.398248</td>\n",
              "      <td>-1.291600</td>\n",
              "      <td>0.344386</td>\n",
              "      <td>-0.207998</td>\n",
              "      <td>-0.442941</td>\n",
              "      <td>-0.658262</td>\n",
              "      <td>-0.716449</td>\n",
              "      <td>-0.712318</td>\n",
              "      <td>-0.302804</td>\n",
              "      <td>-0.378759</td>\n",
              "      <td>-0.305512</td>\n",
              "      <td>0.329787</td>\n",
              "      <td>-0.123077</td>\n",
              "      <td>-0.217065</td>\n",
              "      <td>-0.1533</td>\n",
              "      <td>-0.124282</td>\n",
              "      <td>-0.261712</td>\n",
              "      <td>-0.089698</td>\n",
              "      <td>0.089698</td>\n",
              "      <td>-0.089698</td>\n",
              "      <td>-0.089698</td>\n",
              "      <td>1.124268</td>\n",
              "      <td>-0.207992</td>\n",
              "      <td>1.064027</td>\n",
              "      <td>-0.693043</td>\n",
              "      <td>-0.077129</td>\n",
              "    </tr>\n",
              "  </tbody>\n",
              "</table>\n",
              "</div>"
            ],
            "text/plain": [
              "        age  age_after_renovation  age_after_renovation_cat  \\\n",
              "0 -0.288109             -0.212303                 -0.062185   \n",
              "1 -1.135161             -1.074946                 -1.265291   \n",
              "\n",
              "   age_after_renovation_cat_0  age_after_renovation_cat_1  \\\n",
              "0                   -0.459574                   -0.415931   \n",
              "1                    2.175927                   -0.415931   \n",
              "\n",
              "   age_after_renovation_cat_2  age_after_renovation_cat_3  \\\n",
              "0                   -0.380633                    2.608131   \n",
              "1                   -0.380633                   -0.383416   \n",
              "\n",
              "   age_after_renovation_cat_4  age_after_renovation_cat_5  \\\n",
              "0                   -0.406415                   -0.350429   \n",
              "1                   -0.406415                   -0.350429   \n",
              "\n",
              "   age_after_renovation_cat_6  age_after_renovation_cat_7  \\\n",
              "0                   -0.236658                   -0.224556   \n",
              "1                   -0.236658                   -0.224556   \n",
              "\n",
              "   age_after_renovation_cat_8  age_after_renovation_cat_9  \\\n",
              "0                   -0.202644                   -0.181261   \n",
              "1                   -0.202644                   -0.181261   \n",
              "\n",
              "   age_after_renovation_sq   age_cat  age_cat_0  age_cat_1  age_cat_2  \\\n",
              "0                -0.438016 -0.139825  -0.435083  -0.396508  -0.367269   \n",
              "1                -0.814627 -1.320662   2.298413  -0.396508  -0.367269   \n",
              "\n",
              "   age_cat_3  age_cat_4  age_cat_5  age_cat_6  age_cat_7  age_cat_8  \\\n",
              "0   2.611511  -0.412577  -0.364526  -0.249992  -0.237882  -0.219826   \n",
              "1  -0.382920  -0.412577  -0.364526  -0.249992  -0.237882  -0.219826   \n",
              "\n",
              "   age_cat_9    age_sq  basement_bool  bathrooms  bathrooms_sq  bedrooms  \\\n",
              "0  -0.196057 -0.494698       1.247166  -0.468811     -0.537610  -0.39033   \n",
              "1  -0.196057 -0.856409      -0.801818   0.506258      0.326221  -1.46038   \n",
              "\n",
              "   bedrooms_sq  condition  condition_1  condition_2  condition_3  condition_4  \\\n",
              "0    -0.302220  -0.630613    -0.035694     -0.08937     0.735526    -0.595921   \n",
              "1    -0.775165  -0.630613    -0.035694     -0.08937     0.735526    -0.595921   \n",
              "\n",
              "   condition_5    floors  floors_sq     grade  grade_10  grade_11  grade_12  \\\n",
              "0    -0.294513 -0.916249  -0.837904 -0.554878 -0.238288 -0.135782 -0.066005   \n",
              "1    -0.294513  0.933474   0.806845 -0.554878 -0.238288 -0.135782 -0.066005   \n",
              "\n",
              "   grade_13   grade_4   grade_5   grade_6   grade_7   grade_8   grade_9  \\\n",
              "0 -0.026354 -0.036497 -0.108453 -0.324043  1.186907 -0.624934 -0.367371   \n",
              "1 -0.026354 -0.036497 -0.108453 -0.324043  1.186907 -0.624934 -0.367371   \n",
              "\n",
              "        lat  log1p_sqft_above  log1p_sqft_above_sq  log1p_sqft_basement  \\\n",
              "0  0.410048         -0.688967            -0.698830             1.208375   \n",
              "1 -0.527440         -0.314663            -0.338123            -0.795545   \n",
              "\n",
              "   log1p_sqft_basement_sq  log1p_sqft_living  log1p_sqft_living15  \\\n",
              "0                1.137983          -0.149505            -0.169074   \n",
              "1               -0.779839          -0.681826            -0.692075   \n",
              "\n",
              "   log1p_sqft_living15_sq  log1p_sqft_living_sq  log1p_sqft_lot  \\\n",
              "0               -0.189252             -0.177052        0.361630   \n",
              "1               -0.700087             -0.697163       -1.411647   \n",
              "\n",
              "   log1p_sqft_lot15  log1p_sqft_lot15_sq  log1p_sqft_lot_sq      long  \\\n",
              "0          0.383984             0.328910           0.301512  1.151178   \n",
              "1         -1.527957            -1.398248          -1.291600  0.344386   \n",
              "\n",
              "   renovation_bool  sqft_above  sqft_basement  sqft_living  sqft_living15  \\\n",
              "0        -0.207998   -0.698239       0.636923    -0.322100      -0.302502   \n",
              "1        -0.207998   -0.442941      -0.658262    -0.716449      -0.712318   \n",
              "\n",
              "   sqft_lot  sqft_lot15      view    view_0    view_1    view_2  view_3  \\\n",
              "0 -0.095727   -0.078695 -0.305512  0.329787 -0.123077 -0.217065 -0.1533   \n",
              "1 -0.302804   -0.378759 -0.305512  0.329787 -0.123077 -0.217065 -0.1533   \n",
              "\n",
              "     view_4   view_sq  waterfront  waterfront_0  waterfront_1  waterfront_sq  \\\n",
              "0 -0.124282 -0.261712   -0.089698      0.089698     -0.089698      -0.089698   \n",
              "1 -0.124282 -0.261712   -0.089698      0.089698     -0.089698      -0.089698   \n",
              "\n",
              "   yr_built  yr_renovated  yr_renovated2  yr_sales   zipcode  \n",
              "0  0.277141     -0.207992       0.201159 -0.693043  0.190991  \n",
              "1  1.124268     -0.207992       1.064027 -0.693043 -0.077129  "
            ]
          },
          "metadata": {
            "tags": []
          },
          "execution_count": 18
        }
      ]
    },
    {
      "cell_type": "markdown",
      "metadata": {
        "id": "4ZgVaQWtg7Nl"
      },
      "source": [
        "\n",
        "# Modelling: xgboost\n",
        "https://xgboost.readthedocs.io/en/latest/parameter.html#general-parameters\n",
        "```python\n",
        "Parameters:\n",
        "-------------\n",
        "max_depth=3\n",
        "learning_rate=0.1\n",
        "n_estimators=100 # number of trees you want to build.\n",
        "verbosity=1 **NOTE: it print in ipython terminal not in browser\n",
        "silent=None **deprecated use verbosity\n",
        "objective='binary:logistic' **for binary classification\n",
        "booster='gbtree' **use default tree not linear even for regression (may also use dart instead of gbtree, but needs to tune)\n",
        "n_jobs=1 **make this -1\n",
        "nthread=None **deprecated use n_jobs\n",
        "gamma=0 # A higher value leads to fewer splits.\n",
        "min_child_weight=1\n",
        "max_delta_step=0\n",
        "subsample=1 # percentage of samples used per tree. Low value can lead to underfitting.\n",
        "colsample_bytree=1 # percentage of features used per tree. High value can lead to overfitting.\n",
        "colsample_bylevel=1\n",
        "colsample_bynode=1\n",
        "reg_alpha=0 # A large value leads to more regularization.\n",
        "reg_lambda=1 # L2 regularization on leaf weights and is smoother than L1 regularization.\n",
        "scale_pos_weight=1\n",
        "base_score=0.5\n",
        "random_state=0 **use your own random state\n",
        "seed=None      **deprecated use random_state\n",
        "missing=None\n",
        "```\n",
        "\n",
        "[Early stopping](https://xgboost.readthedocs.io/en/latest/python/python_intro.html):  \n",
        "\n",
        "If you have a validation set, you can use early stopping to find the optimal number of boosting rounds. Early stopping requires at least one set in evals. If there’s more than one, it will use the last.\n",
        "\n",
        "`train(..., evals=evals, early_stopping_rounds=10)`\n",
        "\n",
        "\n",
        "The model will train until the validation score stops improving. Validation error needs to decrease at least every early_stopping_rounds to continue training.\n",
        "\n",
        "If early stopping occurs, the model will have three additional fields: `bst.best_score`, `bst.best_iteration` and `bst.best_ntree_limit`. Note that xgboost.train() will return a model from the last iteration, not the best one.\n",
        "\n",
        "This works with both metrics to minimize (RMSE, log loss, etc.) and to maximize (MAP, NDCG, AUC). Note that if you specify more than one evaluation metric the last one in param['eval_metric'] is used for early stopping.\n",
        "\n",
        "If early stopping is enabled during training, you can get predictions from the best iteration with bst.best_ntree_limit:\n",
        "\n",
        "`ypred = bst.predict(dtest, ntree_limit=bst.best_ntree_limit)`\n",
        "\n",
        "\n",
        "\n",
        "[Faster implementations](https://github.com/dmlc/xgboost/issues/1950)\n",
        "\n",
        "Flexible tree growing policies\n",
        "The existing tree grower in xgboost grows a tree in a depth-wise fashion, executing splits in first level before splits in second and so forth. The new grower lets you control the way new nodes are added to the tree:\n",
        "\n",
        "grow_policy=depthwise (default): split at nodes closest to the root, i.e. grow depth-wise.\n",
        "grow_policy=lossguide: split at nodes with highest loss change. This behavior mimics that of LightGBM.\n",
        "It has been reported that the lossguide policy often results in faster convergence in loss, though there is also risk of over-fitting(see the preliminary results).\n"
      ]
    },
    {
      "cell_type": "code",
      "metadata": {
        "id": "NuzYPzmgVRvu",
        "outputId": "64fb636a-fe4f-44f0-da69-e945c98b0849",
        "colab": {
          "base_uri": "https://localhost:8080/"
        }
      },
      "source": [
        "model = xgboost.XGBRegressor(n_jobs=-1, random_state=SEED,\n",
        "                        objective='reg:squarederror')\n",
        "\n",
        "model.fit(df_Xtrain, ytrain)\n",
        "\n",
        "ypreds = model.predict(df_Xtest)\n",
        "print_regr_eval(ytest,ypreds,df_Xtest.shape[1])"
      ],
      "execution_count": null,
      "outputs": [
        {
          "output_type": "stream",
          "text": [
            "\n",
            "             RMSE : 132,796.81\n",
            "Explained Variance: 0.869266\n",
            "         R-Squared: 0.869147\n",
            "Adjusted R-squared: 0.866490\n",
            "\n",
            "\n"
          ],
          "name": "stdout"
        }
      ]
    },
    {
      "cell_type": "markdown",
      "metadata": {
        "id": "rf6cisyp81VT"
      },
      "source": [
        "## cross validation"
      ]
    },
    {
      "cell_type": "code",
      "metadata": {
        "id": "uLLJFKEs9rRg",
        "outputId": "8af77403-0ffc-4864-a6a8-0748dd1aed25",
        "colab": {
          "base_uri": "https://localhost:8080/"
        }
      },
      "source": [
        "%%time\n",
        "scoring = \"neg_mean_squared_error\"\n",
        "kf = model_selection.KFold(5,shuffle=True,random_state=SEED)\n",
        "cvs = model_selection.cross_val_score(model, df_Xtrain, ytrain,cv=kf,\n",
        "                      scoring = scoring)\n",
        "score = cvs.mean()\n",
        "score_std = cvs.std()\n",
        "print(f\"{scoring}: {score:,.2f}\\n std : {score_std:,.2f}\")"
      ],
      "execution_count": null,
      "outputs": [
        {
          "output_type": "stream",
          "text": [
            "neg_mean_squared_error: -19,107,513,744.43\n",
            " std : 2,731,463,865.97\n",
            "CPU times: user 24.2 s, sys: 40.6 ms, total: 24.3 s\n",
            "Wall time: 12.3 s\n"
          ],
          "name": "stdout"
        }
      ]
    },
    {
      "cell_type": "code",
      "metadata": {
        "id": "SB3SNCEh9z_X",
        "outputId": "14aafc20-3211-44c6-b2c3-71a02796d40f",
        "colab": {
          "base_uri": "https://localhost:8080/",
          "height": 279
        }
      },
      "source": [
        "plt.plot(cvs*-1)\n",
        "plt.xticks(range(len(cvs)))\n",
        "plt.show()"
      ],
      "execution_count": null,
      "outputs": [
        {
          "output_type": "display_data",
          "data": {
            "image/png": "[encoded data removed]",
            "text/plain": [
              "<Figure size 432x288 with 1 Axes>"
            ]
          },
          "metadata": {
            "tags": [],
            "needs_background": "light"
          }
        }
      ]
    },
    {
      "cell_type": "markdown",
      "metadata": {
        "id": "jSfXeNLyGKHy"
      },
      "source": [
        "## cross validation using xgboost.cv with dtrain\n",
        "- Using xgb.cv needs xgboost dataset matrix not numpy or pandas.\n",
        "- xgb DMatrix uses much less memory than pandas dataframe."
      ]
    },
    {
      "cell_type": "code",
      "metadata": {
        "id": "ahfsPakN_t4P",
        "outputId": "ffc84a6e-e0eb-4079-c449-850b2f188b67",
        "colab": {
          "base_uri": "https://localhost:8080/",
          "height": 425
        }
      },
      "source": [
        "%%time\n",
        "\n",
        "dtrain = xgboost.DMatrix(df_Xtrain,ytrain,\n",
        "                     feature_names=features)\n",
        "params = {\"objective\":\"reg:squarederror\",\n",
        "          'colsample_bytree': 0.3,\n",
        "          'learning_rate': 0.1,\n",
        "          'max_depth': 5,\n",
        "          'alpha': 10}\n",
        "\n",
        "num_boost_round=500\n",
        "kf=model_selection.KFold(n_splits=5,shuffle=True,random_state=SEED)\n",
        "\n",
        "# we need xgb data matrix to use xgboost api of xgboost.cv\n",
        "df_cv_results = xgboost.cv(params,dtrain, num_boost_round,\n",
        "                    nfold=5,\n",
        "                    early_stopping_rounds=50,\n",
        "                    metrics=\"rmse\",\n",
        "                    folds=kf,\n",
        "                    verbose_eval=50, # show progress at Nth iteration\n",
        "                    seed=SEED)\n",
        "\n",
        "display(df_cv_results.head())"
      ],
      "execution_count": null,
      "outputs": [
        {
          "output_type": "stream",
          "text": [
            "[0]\ttrain-rmse:595968+3797.34\ttest-rmse:596519+15742\n",
            "[50]\ttrain-rmse:107862+1595.01\ttest-rmse:139157+10296.2\n",
            "[100]\ttrain-rmse:88707.2+565.805\ttest-rmse:127920+10604.5\n",
            "[150]\ttrain-rmse:79450.5+682.136\ttest-rmse:124030+9982.81\n",
            "[200]\ttrain-rmse:73126.2+642.893\ttest-rmse:122217+10017.2\n",
            "[250]\ttrain-rmse:68622.9+563.235\ttest-rmse:121246+10091.8\n",
            "[300]\ttrain-rmse:64985.5+451.971\ttest-rmse:120584+10226.2\n",
            "[350]\ttrain-rmse:61793.1+359.358\ttest-rmse:119870+10086.1\n",
            "[400]\ttrain-rmse:59022.1+319.119\ttest-rmse:119607+10013.8\n",
            "[450]\ttrain-rmse:56496.7+368.737\ttest-rmse:119214+9926.2\n",
            "[499]\ttrain-rmse:54307.6+336.22\ttest-rmse:118906+9895.94\n"
          ],
          "name": "stdout"
        },
        {
          "output_type": "display_data",
          "data": {
            "text/html": [
              "<div>\n",
              "<style scoped>\n",
              "    .dataframe tbody tr th:only-of-type {\n",
              "        vertical-align: middle;\n",
              "    }\n",
              "\n",
              "    .dataframe tbody tr th {\n",
              "        vertical-align: top;\n",
              "    }\n",
              "\n",
              "    .dataframe thead th {\n",
              "        text-align: right;\n",
              "    }\n",
              "</style>\n",
              "<table border=\"1\" class=\"dataframe\">\n",
              "  <thead>\n",
              "    <tr style=\"text-align: right;\">\n",
              "      <th></th>\n",
              "      <th>train-rmse-mean</th>\n",
              "      <th>train-rmse-std</th>\n",
              "      <th>test-rmse-mean</th>\n",
              "      <th>test-rmse-std</th>\n",
              "    </tr>\n",
              "  </thead>\n",
              "  <tbody>\n",
              "    <tr>\n",
              "      <th>0</th>\n",
              "      <td>595967.71250</td>\n",
              "      <td>3797.337843</td>\n",
              "      <td>596519.36250</td>\n",
              "      <td>15741.976944</td>\n",
              "    </tr>\n",
              "    <tr>\n",
              "      <th>1</th>\n",
              "      <td>545303.13750</td>\n",
              "      <td>3119.912589</td>\n",
              "      <td>546501.26250</td>\n",
              "      <td>16215.489025</td>\n",
              "    </tr>\n",
              "    <tr>\n",
              "      <th>2</th>\n",
              "      <td>500045.91250</td>\n",
              "      <td>2822.529867</td>\n",
              "      <td>501948.96875</td>\n",
              "      <td>16169.032656</td>\n",
              "    </tr>\n",
              "    <tr>\n",
              "      <th>3</th>\n",
              "      <td>458778.48750</td>\n",
              "      <td>3044.784519</td>\n",
              "      <td>461701.25000</td>\n",
              "      <td>15915.449404</td>\n",
              "    </tr>\n",
              "    <tr>\n",
              "      <th>4</th>\n",
              "      <td>421874.45625</td>\n",
              "      <td>3202.837791</td>\n",
              "      <td>425820.86875</td>\n",
              "      <td>15424.145148</td>\n",
              "    </tr>\n",
              "  </tbody>\n",
              "</table>\n",
              "</div>"
            ],
            "text/plain": [
              "   train-rmse-mean  train-rmse-std  test-rmse-mean  test-rmse-std\n",
              "0     595967.71250     3797.337843    596519.36250   15741.976944\n",
              "1     545303.13750     3119.912589    546501.26250   16215.489025\n",
              "2     500045.91250     2822.529867    501948.96875   16169.032656\n",
              "3     458778.48750     3044.784519    461701.25000   15915.449404\n",
              "4     421874.45625     3202.837791    425820.86875   15424.145148"
            ]
          },
          "metadata": {
            "tags": []
          }
        },
        {
          "output_type": "stream",
          "text": [
            "CPU times: user 1min 40s, sys: 267 ms, total: 1min 40s\n",
            "Wall time: 50.9 s\n"
          ],
          "name": "stdout"
        }
      ]
    },
    {
      "cell_type": "code",
      "metadata": {
        "id": "iUeVBEVbBl6J",
        "outputId": "2fe34d50-87ce-48b0-ae1b-98e806bb5c19",
        "colab": {
          "base_uri": "https://localhost:8080/",
          "height": 285
        }
      },
      "source": [
        "plot_xgb_cv_res(df_cv_results)"
      ],
      "execution_count": null,
      "outputs": [
        {
          "output_type": "display_data",
          "data": {
            "image/png": "[encoded data removed]",
            "text/plain": [
              "<Figure size 432x288 with 1 Axes>"
            ]
          },
          "metadata": {
            "tags": [],
            "needs_background": "light"
          }
        }
      ]
    },
    {
      "cell_type": "markdown",
      "metadata": {
        "id": "CHF9seebCxyC"
      },
      "source": [
        "# Best Model"
      ]
    },
    {
      "cell_type": "code",
      "metadata": {
        "id": "sfaXyJkiGcIS",
        "outputId": "44316678-887f-47b2-dbd1-3669c12097a5",
        "colab": {
          "base_uri": "https://localhost:8080/"
        }
      },
      "source": [
        "%%time\n",
        "params_xgb = dict(n_jobs=-1, random_state=SEED,\n",
        "                        objective='reg:squarederror',\n",
        "                        n_estimators=1200,\n",
        "                        max_depth=3,\n",
        "                        reg_alpha=1,\n",
        "                        reg_lambda=5,\n",
        "                        subsample=1,\n",
        "                        gamma=0,\n",
        "                        min_child_weight=1,\n",
        "                        colsample_bytree=1,\n",
        "                        learning_rate=0.1\n",
        "                        )\n",
        "\n",
        "model = xgboost.XGBRegressor(**params_xgb)\n",
        "model.fit(df_Xtrain,ytrain)\n",
        "\n",
        "ypreds = model.predict(df_Xtest)\n",
        "print_regr_eval(ytest,ypreds,df_Xtest.shape[1])"
      ],
      "execution_count": null,
      "outputs": [
        {
          "output_type": "stream",
          "text": [
            "\n",
            "             RMSE : 114,778.62\n",
            "Explained Variance: 0.902313\n",
            "         R-Squared: 0.902247\n",
            "Adjusted R-squared: 0.900262\n",
            "\n",
            "\n",
            "CPU times: user 1min 9s, sys: 72.1 ms, total: 1min 9s\n",
            "Wall time: 35.2 s\n"
          ],
          "name": "stdout"
        }
      ]
    },
    {
      "cell_type": "markdown",
      "metadata": {
        "id": "Q0Xm1DqqBndj"
      },
      "source": [
        "## Log transform the target"
      ]
    },
    {
      "cell_type": "code",
      "metadata": {
        "id": "FyyU0ro_BqSV",
        "outputId": "6ed1d402-c098-4cc0-8ca5-99ab9983a881",
        "colab": {
          "base_uri": "https://localhost:8080/",
          "height": 477
        }
      },
      "source": [
        "%%time\n",
        "ytrain_log1p = np.log1p(ytrain)\n",
        "\n",
        "model = xgboost.XGBRegressor(n_jobs=-1, random_state=SEED, **params_xgb)\n",
        "model.fit(df_Xtrain, ytrain_log1p)\n",
        "\n",
        "ypreds_log1p = model.predict(df_Xtest)\n",
        "ypreds = np.expm1(ypreds_log1p)\n",
        "\n",
        "print('ytest:', ytest[:3])\n",
        "print('ypreds: ', ypreds[:3])\n",
        "print_regr_eval(ytest,ypreds,df_Xtest.shape[1])"
      ],
      "execution_count": null,
      "outputs": [
        {
          "output_type": "error",
          "ename": "TypeError",
          "evalue": "ignored",
          "traceback": [
            "\u001b[0;31m---------------------------------------------------------------------------\u001b[0m",
            "\u001b[0;31mTypeError\u001b[0m                                 Traceback (most recent call last)",
            "\u001b[0;32m<ipython-input-42-685ca6b81296>\u001b[0m in \u001b[0;36m<module>\u001b[0;34m()\u001b[0m\n\u001b[0;32m----> 1\u001b[0;31m \u001b[0mget_ipython\u001b[0m\u001b[0;34m(\u001b[0m\u001b[0;34m)\u001b[0m\u001b[0;34m.\u001b[0m\u001b[0mrun_cell_magic\u001b[0m\u001b[0;34m(\u001b[0m\u001b[0;34m'time'\u001b[0m\u001b[0;34m,\u001b[0m \u001b[0;34m''\u001b[0m\u001b[0;34m,\u001b[0m \u001b[0;34m\"ytrain_log1p = np.log1p(ytrain)\\n\\nmodel = xgboost.XGBRegressor(n_jobs=-1, random_state=SEED, **params_xgb)\\nmodel.fit(df_Xtrain, ytrain_log1p)\\n\\nypreds_log1p = model.predict(df_Xtest)\\nypreds = np.expm1(ypreds_log1p)\\n\\nprint('ytest:', ytest[:3])\\nprint('ypreds: ', ypreds[:3])\\nprint_regr_eval(ytest,ypreds,df_Xtest.shape[1])\"\u001b[0m\u001b[0;34m)\u001b[0m\u001b[0;34m\u001b[0m\u001b[0;34m\u001b[0m\u001b[0m\n\u001b[0m",
            "\u001b[0;32m/usr/local/lib/python3.6/dist-packages/IPython/core/interactiveshell.py\u001b[0m in \u001b[0;36mrun_cell_magic\u001b[0;34m(self, magic_name, line, cell)\u001b[0m\n\u001b[1;32m   2115\u001b[0m             \u001b[0mmagic_arg_s\u001b[0m \u001b[0;34m=\u001b[0m \u001b[0mself\u001b[0m\u001b[0;34m.\u001b[0m\u001b[0mvar_expand\u001b[0m\u001b[0;34m(\u001b[0m\u001b[0mline\u001b[0m\u001b[0;34m,\u001b[0m \u001b[0mstack_depth\u001b[0m\u001b[0;34m)\u001b[0m\u001b[0;34m\u001b[0m\u001b[0;34m\u001b[0m\u001b[0m\n\u001b[1;32m   2116\u001b[0m             \u001b[0;32mwith\u001b[0m \u001b[0mself\u001b[0m\u001b[0;34m.\u001b[0m\u001b[0mbuiltin_trap\u001b[0m\u001b[0;34m:\u001b[0m\u001b[0;34m\u001b[0m\u001b[0;34m\u001b[0m\u001b[0m\n\u001b[0;32m-> 2117\u001b[0;31m                 \u001b[0mresult\u001b[0m \u001b[0;34m=\u001b[0m \u001b[0mfn\u001b[0m\u001b[0;34m(\u001b[0m\u001b[0mmagic_arg_s\u001b[0m\u001b[0;34m,\u001b[0m \u001b[0mcell\u001b[0m\u001b[0;34m)\u001b[0m\u001b[0;34m\u001b[0m\u001b[0;34m\u001b[0m\u001b[0m\n\u001b[0m\u001b[1;32m   2118\u001b[0m             \u001b[0;32mreturn\u001b[0m \u001b[0mresult\u001b[0m\u001b[0;34m\u001b[0m\u001b[0;34m\u001b[0m\u001b[0m\n\u001b[1;32m   2119\u001b[0m \u001b[0;34m\u001b[0m\u001b[0m\n",
            "\u001b[0;32m<decorator-gen-60>\u001b[0m in \u001b[0;36mtime\u001b[0;34m(self, line, cell, local_ns)\u001b[0m\n",
            "\u001b[0;32m/usr/local/lib/python3.6/dist-packages/IPython/core/magic.py\u001b[0m in \u001b[0;36m<lambda>\u001b[0;34m(f, *a, **k)\u001b[0m\n\u001b[1;32m    186\u001b[0m     \u001b[0;31m# but it's overkill for just that one bit of state.\u001b[0m\u001b[0;34m\u001b[0m\u001b[0;34m\u001b[0m\u001b[0;34m\u001b[0m\u001b[0m\n\u001b[1;32m    187\u001b[0m     \u001b[0;32mdef\u001b[0m \u001b[0mmagic_deco\u001b[0m\u001b[0;34m(\u001b[0m\u001b[0marg\u001b[0m\u001b[0;34m)\u001b[0m\u001b[0;34m:\u001b[0m\u001b[0;34m\u001b[0m\u001b[0;34m\u001b[0m\u001b[0m\n\u001b[0;32m--> 188\u001b[0;31m         \u001b[0mcall\u001b[0m \u001b[0;34m=\u001b[0m \u001b[0;32mlambda\u001b[0m \u001b[0mf\u001b[0m\u001b[0;34m,\u001b[0m \u001b[0;34m*\u001b[0m\u001b[0ma\u001b[0m\u001b[0;34m,\u001b[0m \u001b[0;34m**\u001b[0m\u001b[0mk\u001b[0m\u001b[0;34m:\u001b[0m \u001b[0mf\u001b[0m\u001b[0;34m(\u001b[0m\u001b[0;34m*\u001b[0m\u001b[0ma\u001b[0m\u001b[0;34m,\u001b[0m \u001b[0;34m**\u001b[0m\u001b[0mk\u001b[0m\u001b[0;34m)\u001b[0m\u001b[0;34m\u001b[0m\u001b[0;34m\u001b[0m\u001b[0m\n\u001b[0m\u001b[1;32m    189\u001b[0m \u001b[0;34m\u001b[0m\u001b[0m\n\u001b[1;32m    190\u001b[0m         \u001b[0;32mif\u001b[0m \u001b[0mcallable\u001b[0m\u001b[0;34m(\u001b[0m\u001b[0marg\u001b[0m\u001b[0;34m)\u001b[0m\u001b[0;34m:\u001b[0m\u001b[0;34m\u001b[0m\u001b[0;34m\u001b[0m\u001b[0m\n",
            "\u001b[0;32m/usr/local/lib/python3.6/dist-packages/IPython/core/magics/execution.py\u001b[0m in \u001b[0;36mtime\u001b[0;34m(self, line, cell, local_ns)\u001b[0m\n\u001b[1;32m   1191\u001b[0m         \u001b[0;32melse\u001b[0m\u001b[0;34m:\u001b[0m\u001b[0;34m\u001b[0m\u001b[0;34m\u001b[0m\u001b[0m\n\u001b[1;32m   1192\u001b[0m             \u001b[0mst\u001b[0m \u001b[0;34m=\u001b[0m \u001b[0mclock2\u001b[0m\u001b[0;34m(\u001b[0m\u001b[0;34m)\u001b[0m\u001b[0;34m\u001b[0m\u001b[0;34m\u001b[0m\u001b[0m\n\u001b[0;32m-> 1193\u001b[0;31m             \u001b[0mexec\u001b[0m\u001b[0;34m(\u001b[0m\u001b[0mcode\u001b[0m\u001b[0;34m,\u001b[0m \u001b[0mglob\u001b[0m\u001b[0;34m,\u001b[0m \u001b[0mlocal_ns\u001b[0m\u001b[0;34m)\u001b[0m\u001b[0;34m\u001b[0m\u001b[0;34m\u001b[0m\u001b[0m\n\u001b[0m\u001b[1;32m   1194\u001b[0m             \u001b[0mend\u001b[0m \u001b[0;34m=\u001b[0m \u001b[0mclock2\u001b[0m\u001b[0;34m(\u001b[0m\u001b[0;34m)\u001b[0m\u001b[0;34m\u001b[0m\u001b[0;34m\u001b[0m\u001b[0m\n\u001b[1;32m   1195\u001b[0m             \u001b[0mout\u001b[0m \u001b[0;34m=\u001b[0m \u001b[0;32mNone\u001b[0m\u001b[0;34m\u001b[0m\u001b[0;34m\u001b[0m\u001b[0m\n",
            "\u001b[0;32m<timed exec>\u001b[0m in \u001b[0;36m<module>\u001b[0;34m()\u001b[0m\n",
            "\u001b[0;31mTypeError\u001b[0m: type object got multiple values for keyword argument 'n_jobs'"
          ]
        }
      ]
    },
    {
      "cell_type": "markdown",
      "metadata": {
        "id": "JPoLvzJ6BvZQ"
      },
      "source": [
        "## Feature importance"
      ]
    },
    {
      "cell_type": "code",
      "metadata": {
        "id": "AW9tdkvSGcMC"
      },
      "source": [
        "# feature importance\n",
        "df_imp = pd.DataFrame({'Feature': features,\n",
        "                       'Importance_gain': model.feature_importances_\n",
        "                       }) \n",
        "\n",
        "df_imp.nlargest(10,'Importance_gain').style.background_gradient()"
      ],
      "execution_count": null,
      "outputs": []
    },
    {
      "cell_type": "code",
      "metadata": {
        "id": "AGw6dG9VG_8B"
      },
      "source": [
        "(df_imp\n",
        " .set_index('Feature')\n",
        " .nlargest(10,'Importance_gain')\n",
        " .plot\n",
        " .barh(figsize=(12,8))\n",
        " .invert_yaxis()\n",
        ")"
      ],
      "execution_count": null,
      "outputs": []
    },
    {
      "cell_type": "code",
      "metadata": {
        "id": "J8TlmaefSKKg"
      },
      "source": [
        "show_methods(model,5)"
      ],
      "execution_count": null,
      "outputs": []
    },
    {
      "cell_type": "code",
      "metadata": {
        "id": "Cckt2_eVSKQ7"
      },
      "source": [
        "bst = model.get_booster()\n",
        "bst"
      ],
      "execution_count": null,
      "outputs": []
    },
    {
      "cell_type": "code",
      "metadata": {
        "id": "BQcFb06NSO4u"
      },
      "source": [
        "fig,ax = plt.subplots(figsize=(12,8))\n",
        "xgboost.plot_tree(bst,ax=ax,num_trees=4)"
      ],
      "execution_count": null,
      "outputs": []
    },
    {
      "cell_type": "code",
      "metadata": {
        "id": "kCG5jdPsSnZP"
      },
      "source": [
        "# help(xgboost.plot_importance)"
      ],
      "execution_count": null,
      "outputs": []
    },
    {
      "cell_type": "code",
      "metadata": {
        "id": "eIImPn6jSndZ"
      },
      "source": [
        "fig,ax = plt.subplots(figsize=(12,8))\n",
        "xgboost.plot_importance(bst,ax=ax,importance_type='weight',max_num_features=20)\n",
        "plt.show()"
      ],
      "execution_count": null,
      "outputs": []
    },
    {
      "cell_type": "markdown",
      "metadata": {
        "id": "Ek102eziJA0N"
      },
      "source": [
        "## Feature selection using permutation feature importance\n",
        "- [sklearn: inspection.permutation_importance](https://scikit-learn.org/stable/modules/generated/sklearn.inspection.permutation_importance.html#sklearn.inspection.permutation_importance)\n",
        "- [sklearn: permutation plot](https://scikit-learn.org/stable/auto_examples/inspection/plot_permutation_importance.html#sphx-glr-auto-examples-inspection-plot-permutation-importance-py)"
      ]
    },
    {
      "cell_type": "code",
      "metadata": {
        "id": "4HE_aLGeJDjU"
      },
      "source": [
        "from sklearn.inspection import permutation_importance\n",
        "# permutation_importance?"
      ],
      "execution_count": null,
      "outputs": []
    },
    {
      "cell_type": "code",
      "metadata": {
        "id": "ouNR6ZadJ_DE"
      },
      "source": [
        "Xtr,Xvd,ytr,yvd = model_selection.train_test_split(df_Xtrain,ytrain,\n",
        "                                        train_size=0.8,random_state=SEED)"
      ],
      "execution_count": null,
      "outputs": []
    },
    {
      "cell_type": "code",
      "metadata": {
        "id": "TFBaNXotHE1X",
        "outputId": "4a5c3474-74ba-4bba-ceb1-13a2fe02ac3d",
        "colab": {
          "base_uri": "https://localhost:8080/"
        }
      },
      "source": [
        "%%time\n",
        "model = xgboost.XGBRegressor(**params_xgb)\n",
        "model.fit(Xtr,ytr)\n",
        "\n",
        "perm_imp = permutation_importance(model, Xvd, yvd,\n",
        "                           n_repeats=20,\n",
        "                           n_jobs=-1,\n",
        "                           random_state=SEED)\n",
        "        "
      ],
      "execution_count": null,
      "outputs": [
        {
          "output_type": "stream",
          "text": [
            "CPU times: user 56.9 s, sys: 170 ms, total: 57.1 s\n",
            "Wall time: 3min 19s\n"
          ],
          "name": "stdout"
        }
      ]
    },
    {
      "cell_type": "code",
      "metadata": {
        "id": "695ffil9J4q_",
        "outputId": "c4590435-af59-4714-d630-c29d175f42fb",
        "colab": {
          "base_uri": "https://localhost:8080/",
          "height": 359
        }
      },
      "source": [
        "df_perm_imp = pd.DataFrame({\n",
        "    'importances_mean': abs(perm_imp.importances_mean),\n",
        "    'importance_std': perm_imp.importances_std\n",
        "},index=features)\n",
        "\n",
        "df_perm_imp = df_perm_imp.sort_values('importances_mean',ascending=False)\n",
        "\n",
        "df_perm_imp.head(10)"
      ],
      "execution_count": null,
      "outputs": [
        {
          "output_type": "execute_result",
          "data": {
            "text/html": [
              "<div>\n",
              "<style scoped>\n",
              "    .dataframe tbody tr th:only-of-type {\n",
              "        vertical-align: middle;\n",
              "    }\n",
              "\n",
              "    .dataframe tbody tr th {\n",
              "        vertical-align: top;\n",
              "    }\n",
              "\n",
              "    .dataframe thead th {\n",
              "        text-align: right;\n",
              "    }\n",
              "</style>\n",
              "<table border=\"1\" class=\"dataframe\">\n",
              "  <thead>\n",
              "    <tr style=\"text-align: right;\">\n",
              "      <th></th>\n",
              "      <th>importances_mean</th>\n",
              "      <th>importance_std</th>\n",
              "    </tr>\n",
              "  </thead>\n",
              "  <tbody>\n",
              "    <tr>\n",
              "      <th>lat</th>\n",
              "      <td>0.297136</td>\n",
              "      <td>0.011919</td>\n",
              "    </tr>\n",
              "    <tr>\n",
              "      <th>grade</th>\n",
              "      <td>0.170656</td>\n",
              "      <td>0.006471</td>\n",
              "    </tr>\n",
              "    <tr>\n",
              "      <th>log1p_sqft_living</th>\n",
              "      <td>0.156866</td>\n",
              "      <td>0.003552</td>\n",
              "    </tr>\n",
              "    <tr>\n",
              "      <th>long</th>\n",
              "      <td>0.117675</td>\n",
              "      <td>0.011006</td>\n",
              "    </tr>\n",
              "    <tr>\n",
              "      <th>log1p_sqft_living15</th>\n",
              "      <td>0.035709</td>\n",
              "      <td>0.001395</td>\n",
              "    </tr>\n",
              "    <tr>\n",
              "      <th>log1p_sqft_lot</th>\n",
              "      <td>0.029160</td>\n",
              "      <td>0.001397</td>\n",
              "    </tr>\n",
              "    <tr>\n",
              "      <th>log1p_sqft_above</th>\n",
              "      <td>0.023686</td>\n",
              "      <td>0.001465</td>\n",
              "    </tr>\n",
              "    <tr>\n",
              "      <th>waterfront</th>\n",
              "      <td>0.021518</td>\n",
              "      <td>0.001149</td>\n",
              "    </tr>\n",
              "    <tr>\n",
              "      <th>zipcode</th>\n",
              "      <td>0.021361</td>\n",
              "      <td>0.001864</td>\n",
              "    </tr>\n",
              "    <tr>\n",
              "      <th>view</th>\n",
              "      <td>0.016140</td>\n",
              "      <td>0.001022</td>\n",
              "    </tr>\n",
              "  </tbody>\n",
              "</table>\n",
              "</div>"
            ],
            "text/plain": [
              "                     importances_mean  importance_std\n",
              "lat                          0.297136        0.011919\n",
              "grade                        0.170656        0.006471\n",
              "log1p_sqft_living            0.156866        0.003552\n",
              "long                         0.117675        0.011006\n",
              "log1p_sqft_living15          0.035709        0.001395\n",
              "log1p_sqft_lot               0.029160        0.001397\n",
              "log1p_sqft_above             0.023686        0.001465\n",
              "waterfront                   0.021518        0.001149\n",
              "zipcode                      0.021361        0.001864\n",
              "view                         0.016140        0.001022"
            ]
          },
          "metadata": {
            "tags": []
          },
          "execution_count": 37
        }
      ]
    },
    {
      "cell_type": "code",
      "metadata": {
        "id": "xK-AobWzNk6m",
        "outputId": "762c531e-be73-43fd-a3db-53abb6d11e8b",
        "colab": {
          "base_uri": "https://localhost:8080/",
          "height": 204
        }
      },
      "source": [
        "df_perm_imp.tail()"
      ],
      "execution_count": null,
      "outputs": [
        {
          "output_type": "execute_result",
          "data": {
            "text/html": [
              "<div>\n",
              "<style scoped>\n",
              "    .dataframe tbody tr th:only-of-type {\n",
              "        vertical-align: middle;\n",
              "    }\n",
              "\n",
              "    .dataframe tbody tr th {\n",
              "        vertical-align: top;\n",
              "    }\n",
              "\n",
              "    .dataframe thead th {\n",
              "        text-align: right;\n",
              "    }\n",
              "</style>\n",
              "<table border=\"1\" class=\"dataframe\">\n",
              "  <thead>\n",
              "    <tr style=\"text-align: right;\">\n",
              "      <th></th>\n",
              "      <th>importances_mean</th>\n",
              "      <th>importance_std</th>\n",
              "    </tr>\n",
              "  </thead>\n",
              "  <tbody>\n",
              "    <tr>\n",
              "      <th>log1p_sqft_basement_sq</th>\n",
              "      <td>0.0</td>\n",
              "      <td>0.0</td>\n",
              "    </tr>\n",
              "    <tr>\n",
              "      <th>log1p_sqft_living15_sq</th>\n",
              "      <td>0.0</td>\n",
              "      <td>0.0</td>\n",
              "    </tr>\n",
              "    <tr>\n",
              "      <th>log1p_sqft_living_sq</th>\n",
              "      <td>0.0</td>\n",
              "      <td>0.0</td>\n",
              "    </tr>\n",
              "    <tr>\n",
              "      <th>log1p_sqft_lot15_sq</th>\n",
              "      <td>0.0</td>\n",
              "      <td>0.0</td>\n",
              "    </tr>\n",
              "    <tr>\n",
              "      <th>grade_13</th>\n",
              "      <td>0.0</td>\n",
              "      <td>0.0</td>\n",
              "    </tr>\n",
              "  </tbody>\n",
              "</table>\n",
              "</div>"
            ],
            "text/plain": [
              "                        importances_mean  importance_std\n",
              "log1p_sqft_basement_sq               0.0             0.0\n",
              "log1p_sqft_living15_sq               0.0             0.0\n",
              "log1p_sqft_living_sq                 0.0             0.0\n",
              "log1p_sqft_lot15_sq                  0.0             0.0\n",
              "grade_13                             0.0             0.0"
            ]
          },
          "metadata": {
            "tags": []
          },
          "execution_count": 38
        }
      ]
    },
    {
      "cell_type": "code",
      "metadata": {
        "id": "t-MKsdMiLoog",
        "outputId": "ac17f6c9-50fd-4396-c0ec-de1607011a5d",
        "colab": {
          "base_uri": "https://localhost:8080/"
        }
      },
      "source": [
        "features_sel = df_perm_imp.query(\"importances_mean > 0.00\").index.to_numpy()\n",
        "print(features_sel)\n",
        "features_sel = list(features_sel)"
      ],
      "execution_count": null,
      "outputs": [
        {
          "output_type": "stream",
          "text": [
            "['lat' 'grade' 'log1p_sqft_living' 'long' 'log1p_sqft_living15'\n",
            " 'log1p_sqft_lot' 'log1p_sqft_above' 'waterfront' 'zipcode' 'view'\n",
            " 'bathrooms' 'log1p_sqft_basement' 'condition' 'age' 'yr_sales'\n",
            " 'age_after_renovation' 'yr_built' 'log1p_sqft_lot15' 'bedrooms' 'floors'\n",
            " 'yr_renovated2' 'grade_10' 'yr_renovated' 'age_after_renovation_cat_4'\n",
            " 'grade_7' 'condition_4' 'grade_9' 'view_3' 'grade_12' 'grade_11'\n",
            " 'age_cat_5' 'renovation_bool' 'age_after_renovation_cat_1' 'age_cat_2'\n",
            " 'age_after_renovation_cat_8' 'basement_bool' 'condition_3'\n",
            " 'age_after_renovation_cat_2' 'age_after_renovation_cat_7' 'age_cat_4'\n",
            " 'grade_8' 'age_cat_1' 'age_cat_3' 'grade_6' 'age_after_renovation_cat_3'\n",
            " 'age_after_renovation_cat_5' 'view_2' 'age_cat_6' 'view_1' 'condition_2'\n",
            " 'grade_4' 'age_cat_8' 'age_cat_7']\n"
          ],
          "name": "stdout"
        }
      ]
    },
    {
      "cell_type": "code",
      "metadata": {
        "id": "cSKTL6DYM0Ho",
        "outputId": "f43c5ffe-7acf-41a7-f9ce-af458e1d9544",
        "colab": {
          "base_uri": "https://localhost:8080/"
        }
      },
      "source": [
        "%%time\n",
        "model = xgboost.XGBRegressor(**params_xgb)\n",
        "model.fit(df_Xtrain[features_sel],ytrain)\n",
        "ypreds = model.predict(df_Xtest[features_sel])\n",
        "\n",
        "print_regr_eval(ytest,ypreds,len(features_sel))"
      ],
      "execution_count": null,
      "outputs": [
        {
          "output_type": "stream",
          "text": [
            "\n",
            "             RMSE : 117,957.46\n",
            "Explained Variance: 0.896851\n",
            "         R-Squared: 0.896757\n",
            "Adjusted R-squared: 0.895500\n",
            "\n",
            "\n",
            "CPU times: user 45.1 s, sys: 92 ms, total: 45.2 s\n",
            "Wall time: 22.9 s\n"
          ],
          "name": "stdout"
        }
      ]
    },
    {
      "cell_type": "markdown",
      "metadata": {
        "id": "4LpDbzQ3Nysr"
      },
      "source": [
        "<div class=\"alert alert-block alert-danger\">\n",
        "\n",
        "<font color='red'>WARNING:</font>\n",
        "</br>\n",
        "Feature Selection using feature importance > 0 gave me worse results\n",
        "for this dataset.\n",
        "\n",
        "</div>"
      ]
    },
    {
      "cell_type": "markdown",
      "metadata": {
        "id": "QT-Kd6SYT_RC"
      },
      "source": [
        "# Time Taken"
      ]
    },
    {
      "cell_type": "code",
      "metadata": {
        "id": "O7Aq4ZrNB5RB",
        "outputId": "59472810-dc52-4946-e4f9-60d16646f326",
        "colab": {
          "base_uri": "https://localhost:8080/"
        }
      },
      "source": [
        "time_taken = time.time() - time_start_notebook\n",
        "h,m = divmod(time_taken,60*60)\n",
        "print('Time taken to run whole notebook: {:.0f} hr '\\\n",
        "      '{:.0f} min {:.0f} secs'.format(h, *divmod(m,60)))"
      ],
      "execution_count": null,
      "outputs": [
        {
          "output_type": "stream",
          "text": [
            "Time taken to run whole notebook: 0 hr 17 min 3 secs\n"
          ],
          "name": "stdout"
        }
      ]
    }
  ]
}