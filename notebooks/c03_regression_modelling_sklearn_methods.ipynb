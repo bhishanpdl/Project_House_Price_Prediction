{
  "nbformat": 4,
  "nbformat_minor": 0,
  "metadata": {
    "kernelspec": {
      "display_name": "Python (dataSc)",
      "language": "python",
      "name": "datasc"
    },
    "language_info": {
      "codemirror_mode": {
        "name": "ipython",
        "version": 3
      },
      "file_extension": ".py",
      "mimetype": "text/x-python",
      "name": "python",
      "nbconvert_exporter": "python",
      "pygments_lexer": "ipython3",
      "version": "3.7.3"
    },
    "toc": {
      "base_numbering": 1,
      "nav_menu": {},
      "number_sections": true,
      "sideBar": true,
      "skip_h1_title": false,
      "title_cell": "Table of Contents",
      "title_sidebar": "Contents",
      "toc_cell": true,
      "toc_position": {},
      "toc_section_display": true,
      "toc_window_display": true
    },
    "colab": {
      "name": "c03_regression_modelling_sklearn_methods.ipynb",
      "provenance": [],
      "collapsed_sections": [
        "_vArIrIYIRlc",
        "AopwXJ3B44pv",
        "rz_Ixx6944p7",
        "qLTMmNdOhVKE",
        "OBScjVVD44p_",
        "q1zipoGI9ynJ",
        "-4fWGs-P91Kf",
        "dIcC9nF-N0Fq",
        "xTdaqW1Fv4oc"
      ],
      "include_colab_link": true
    }
  },
  "cells": [
    {
      "cell_type": "markdown",
      "metadata": {
        "id": "view-in-github",
        "colab_type": "text"
      },
      "source": [
        "<a href=\"https://colab.research.google.com/github/bhishanpdl/Project_House_Price_Prediction/blob/master/notebooks/c03_regression_modelling_sklearn_methods.ipynb\" target=\"_parent\"><img src=\"https://colab.research.google.com/assets/colab-badge.svg\" alt=\"Open In Colab\"/></a>"
      ]
    },
    {
      "cell_type": "markdown",
      "metadata": {
        "toc": "true",
        "id": "p0xjof2N44pA",
        "colab_type": "text"
      },
      "source": [
        "<h1>Table of Contents<span class=\"tocSkip\"></span></h1>\n",
        "<div class=\"toc\"><ul class=\"toc-item\"><li><span><a href=\"#Data-Description\" data-toc-modified-id=\"Data-Description-1\"><span class=\"toc-item-num\">1&nbsp;&nbsp;</span>Data Description</a></span></li><li><span><a href=\"#Imports\" data-toc-modified-id=\"Imports-2\"><span class=\"toc-item-num\">2&nbsp;&nbsp;</span>Imports</a></span></li><li><span><a href=\"#Load-the-data\" data-toc-modified-id=\"Load-the-data-3\"><span class=\"toc-item-num\">3&nbsp;&nbsp;</span>Load the data</a></span></li><li><span><a href=\"#Feature-Selection\" data-toc-modified-id=\"Feature-Selection-4\"><span class=\"toc-item-num\">4&nbsp;&nbsp;</span>Feature Selection</a></span></li><li><span><a href=\"#Train-test-split\" data-toc-modified-id=\"Train-test-split-5\"><span class=\"toc-item-num\">5&nbsp;&nbsp;</span>Train test split</a></span></li><li><span><a href=\"#Scaling-and-making-pipeline\" data-toc-modified-id=\"Scaling-and-making-pipeline-6\"><span class=\"toc-item-num\">6&nbsp;&nbsp;</span>Scaling and making pipeline</a></span></li><li><span><a href=\"#Log-transform-large-values\" data-toc-modified-id=\"Log-transform-large-values-7\"><span class=\"toc-item-num\">7&nbsp;&nbsp;</span>Log transform large values</a></span></li></ul></div>"
      ]
    },
    {
      "cell_type": "markdown",
      "metadata": {
        "id": "VwrXuQrH44pE",
        "colab_type": "text"
      },
      "source": [
        "# Data Description\n",
        "\n",
        "This dataset contains house sale prices for King County,\n",
        "which includes Seattle.\n",
        "It includes homes sold between May 2014 and May 2015.\n",
        "\n",
        "- Dependent features: 1 (price)\n",
        "- Features : 19 home features\n",
        "- Id:  1 house ID\n",
        "\n",
        "Task: Try to estimate the price based on given features.\n",
        "\n",
        "![](https://github.com/bhishanpdl/Project_House_Price_Prediction/blob/master/data/raw/data_description.png?raw=1)"
      ]
    },
    {
      "cell_type": "markdown",
      "metadata": {
        "id": "mcUE4kVk44pE",
        "colab_type": "text"
      },
      "source": [
        "# Imports"
      ]
    },
    {
      "cell_type": "code",
      "metadata": {
        "ExecuteTime": {
          "end_time": "2019-09-29T01:40:48.988095Z",
          "start_time": "2019-09-29T01:40:48.963378Z"
        },
        "id": "tpMc6QvO44pF",
        "colab_type": "code",
        "colab": {}
      },
      "source": [
        "import sys\n",
        "IN_BHISHAN = 'bhishan' in sys.modules\n",
        "\n",
        "if IN_BHISHAN:\n",
        "    import src\n",
        "    import bhishan\n",
        "    %load_ext autoreload\n",
        "    %autoreload 2"
      ],
      "execution_count": 0,
      "outputs": []
    },
    {
      "cell_type": "code",
      "metadata": {
        "id": "FQX0h7dcOrHN",
        "colab_type": "code",
        "outputId": "7a31abed-e3e3-461f-c777-bc26a556dd09",
        "colab": {
          "base_uri": "https://localhost:8080/",
          "height": 445
        }
      },
      "source": [
        "import sys\n",
        "IN_COLAB = 'google.colab' in sys.modules\n",
        "\n",
        "if IN_COLAB:\n",
        "    !pip install hpsklearn\n",
        "\n",
        "    # set OMP_NUM_THREADS=1 for hpsklearn package\n",
        "    !export OMP_NUM_THREADS=1"
      ],
      "execution_count": 2,
      "outputs": [
        {
          "output_type": "stream",
          "text": [
            "Collecting hpsklearn\n",
            "  Downloading https://files.pythonhosted.org/packages/ce/cb/61b99f73621e2692abd0e730f7888a9983d01f626868336fa1db1d57bc1e/hpsklearn-0.1.0.tar.gz\n",
            "Requirement already satisfied: hyperopt in /usr/local/lib/python3.6/dist-packages (from hpsklearn) (0.1.2)\n",
            "Collecting nose\n",
            "\u001b[?25l  Downloading https://files.pythonhosted.org/packages/15/d8/dd071918c040f50fa1cf80da16423af51ff8ce4a0f2399b7bf8de45ac3d9/nose-1.3.7-py3-none-any.whl (154kB)\n",
            "\u001b[K     |████████████████████████████████| 163kB 7.7MB/s \n",
            "\u001b[?25hRequirement already satisfied: numpy in /usr/local/lib/python3.6/dist-packages (from hpsklearn) (1.17.4)\n",
            "Requirement already satisfied: scikit-learn in /usr/local/lib/python3.6/dist-packages (from hpsklearn) (0.21.3)\n",
            "Requirement already satisfied: scipy in /usr/local/lib/python3.6/dist-packages (from hpsklearn) (1.3.2)\n",
            "Requirement already satisfied: future in /usr/local/lib/python3.6/dist-packages (from hyperopt->hpsklearn) (0.16.0)\n",
            "Requirement already satisfied: six in /usr/local/lib/python3.6/dist-packages (from hyperopt->hpsklearn) (1.12.0)\n",
            "Requirement already satisfied: pymongo in /usr/local/lib/python3.6/dist-packages (from hyperopt->hpsklearn) (3.9.0)\n",
            "Requirement already satisfied: networkx in /usr/local/lib/python3.6/dist-packages (from hyperopt->hpsklearn) (2.4)\n",
            "Requirement already satisfied: tqdm in /usr/local/lib/python3.6/dist-packages (from hyperopt->hpsklearn) (4.28.1)\n",
            "Requirement already satisfied: joblib>=0.11 in /usr/local/lib/python3.6/dist-packages (from scikit-learn->hpsklearn) (0.14.0)\n",
            "Requirement already satisfied: decorator>=4.3.0 in /usr/local/lib/python3.6/dist-packages (from networkx->hyperopt->hpsklearn) (4.4.1)\n",
            "Building wheels for collected packages: hpsklearn\n",
            "  Building wheel for hpsklearn (setup.py) ... \u001b[?25l\u001b[?25hdone\n",
            "  Created wheel for hpsklearn: filename=hpsklearn-0.1.0-cp36-none-any.whl size=23913 sha256=76527173918f624b67263eefd48832783a6d8f12c1682b770b55efaed5a1ea14\n",
            "  Stored in directory: /root/.cache/pip/wheels/41/ee/c4/3c267cbf78f0905434ee36b915d97a20610ad3af7ff3c75852\n",
            "Successfully built hpsklearn\n",
            "Installing collected packages: nose, hpsklearn\n",
            "Successfully installed hpsklearn-0.1.0 nose-1.3.7\n"
          ],
          "name": "stdout"
        }
      ]
    },
    {
      "cell_type": "code",
      "metadata": {
        "ExecuteTime": {
          "end_time": "2019-09-29T01:40:49.704372Z",
          "start_time": "2019-09-29T01:40:48.989975Z"
        },
        "id": "ZFubck-r44pH",
        "colab_type": "code",
        "outputId": "2fda009e-9dbb-482c-f2bc-43e190f9905f",
        "colab": {
          "base_uri": "https://localhost:8080/",
          "height": 34
        }
      },
      "source": [
        "import numpy as np\n",
        "import pandas as pd\n",
        "import seaborn as sns\n",
        "sns.set(color_codes=True)\n",
        "\n",
        "import matplotlib\n",
        "import matplotlib.pyplot as plt\n",
        "%matplotlib inline\n",
        "\n",
        "import os\n",
        "import time\n",
        "\n",
        "# random state\n",
        "random_state=100\n",
        "np.random.seed(random_state) # we need this in each cell\n",
        "np.random.set_state=random_state\n",
        "\n",
        "# Jupyter notebook settings for pandas\n",
        "pd.set_option('display.max_columns', 200)\n",
        "# pd.set_option('display.float_format', '{:,.4f}'.format) # numbers sep by comma\n",
        "pd.set_option('display.max_rows', 100) # None for all the rows\n",
        "pd.set_option('display.max_colwidth', 200)\n",
        "\n",
        "print([(x.__name__,x.__version__) for x in [np, pd,sns,matplotlib]])"
      ],
      "execution_count": 3,
      "outputs": [
        {
          "output_type": "stream",
          "text": [
            "[('numpy', '1.17.4'), ('pandas', '0.25.3'), ('seaborn', '0.9.0'), ('matplotlib', '3.1.1')]\n"
          ],
          "name": "stdout"
        }
      ]
    },
    {
      "cell_type": "code",
      "metadata": {
        "ExecuteTime": {
          "end_time": "2019-09-29T01:40:49.742428Z",
          "start_time": "2019-09-29T01:40:49.711467Z"
        },
        "id": "oIXUJ81Z44pK",
        "colab_type": "code",
        "outputId": "69fda6ad-8540-41f8-eb67-722d0cfb256a",
        "colab": {
          "base_uri": "https://localhost:8080/",
          "height": 16
        }
      },
      "source": [
        "%%javascript\n",
        "IPython.OutputArea.auto_scroll_threshold = 9999;"
      ],
      "execution_count": 4,
      "outputs": [
        {
          "output_type": "display_data",
          "data": {
            "application/javascript": [
              "IPython.OutputArea.auto_scroll_threshold = 9999;"
            ],
            "text/plain": [
              "<IPython.core.display.Javascript object>"
            ]
          },
          "metadata": {
            "tags": []
          }
        }
      ]
    },
    {
      "cell_type": "code",
      "metadata": {
        "ExecuteTime": {
          "end_time": "2019-09-29T01:40:49.802526Z",
          "start_time": "2019-09-29T01:40:49.746676Z"
        },
        "id": "Aq_hgFag44pM",
        "colab_type": "code",
        "outputId": "ef371c46-dc4e-49b8-c263-b08e85827e76",
        "colab": {
          "base_uri": "https://localhost:8080/",
          "height": 34
        }
      },
      "source": [
        "import scipy\n",
        "import sklearn\n",
        "\n",
        "print([(x.__name__,x.__version__) for x in [scipy, sklearn]])"
      ],
      "execution_count": 5,
      "outputs": [
        {
          "output_type": "stream",
          "text": [
            "[('scipy', '1.3.2'), ('sklearn', '0.21.3')]\n"
          ],
          "name": "stdout"
        }
      ]
    },
    {
      "cell_type": "code",
      "metadata": {
        "ExecuteTime": {
          "end_time": "2019-09-29T01:40:50.214377Z",
          "start_time": "2019-09-29T01:40:49.810407Z"
        },
        "id": "qBmcsybv44pO",
        "colab_type": "code",
        "colab": {}
      },
      "source": [
        "# scale and split\n",
        "from sklearn.preprocessing import StandardScaler\n",
        "from sklearn.model_selection import train_test_split"
      ],
      "execution_count": 0,
      "outputs": []
    },
    {
      "cell_type": "code",
      "metadata": {
        "ExecuteTime": {
          "end_time": "2019-09-29T01:40:50.318991Z",
          "start_time": "2019-09-29T01:40:50.217331Z"
        },
        "id": "fOByhbGb44pQ",
        "colab_type": "code",
        "colab": {}
      },
      "source": [
        "# regressors\n",
        "from sklearn import linear_model\n",
        "from sklearn.linear_model import LinearRegression\n",
        "from sklearn.linear_model import Lasso\n",
        "from sklearn.linear_model import ElasticNet\n",
        "from sklearn.tree import DecisionTreeRegressor\n",
        "from sklearn.neighbors import KNeighborsRegressor\n",
        "from sklearn.ensemble import GradientBoostingRegressor"
      ],
      "execution_count": 0,
      "outputs": []
    },
    {
      "cell_type": "code",
      "metadata": {
        "ExecuteTime": {
          "end_time": "2019-09-29T01:40:50.346729Z",
          "start_time": "2019-09-29T01:40:50.320848Z"
        },
        "id": "vG6sfKE_44pS",
        "colab_type": "code",
        "colab": {}
      },
      "source": [
        "# regressor preprocessing\n",
        "from sklearn.preprocessing import PolynomialFeatures"
      ],
      "execution_count": 0,
      "outputs": []
    },
    {
      "cell_type": "code",
      "metadata": {
        "ExecuteTime": {
          "end_time": "2019-09-29T01:40:50.398903Z",
          "start_time": "2019-09-29T01:40:50.350321Z"
        },
        "id": "TC6HKGq_44pV",
        "colab_type": "code",
        "colab": {}
      },
      "source": [
        "# pipeline\n",
        "from sklearn.pipeline import Pipeline"
      ],
      "execution_count": 0,
      "outputs": []
    },
    {
      "cell_type": "code",
      "metadata": {
        "ExecuteTime": {
          "end_time": "2019-09-29T01:40:50.451827Z",
          "start_time": "2019-09-29T01:40:50.404928Z"
        },
        "id": "GtHea_AG44pX",
        "colab_type": "code",
        "colab": {}
      },
      "source": [
        "# metrics\n",
        "from sklearn import metrics\n",
        "from sklearn.metrics import mean_squared_error"
      ],
      "execution_count": 0,
      "outputs": []
    },
    {
      "cell_type": "code",
      "metadata": {
        "ExecuteTime": {
          "end_time": "2019-09-29T01:40:50.519268Z",
          "start_time": "2019-09-29T01:40:50.457686Z"
        },
        "id": "R99zpuD_44pY",
        "colab_type": "code",
        "colab": {}
      },
      "source": [
        "# cross validation\n",
        "from sklearn.model_selection import KFold\n",
        "from sklearn.model_selection import cross_val_score"
      ],
      "execution_count": 0,
      "outputs": []
    },
    {
      "cell_type": "code",
      "metadata": {
        "ExecuteTime": {
          "end_time": "2019-09-29T01:40:50.564971Z",
          "start_time": "2019-09-29T01:40:50.520956Z"
        },
        "id": "dZRyd5ak44pa",
        "colab_type": "code",
        "colab": {}
      },
      "source": [
        "df_eval = pd.DataFrame({'Model': [],\n",
        "                           'Details':[],\n",
        "                           'Root Mean Squared Error (RMSE)':[],\n",
        "                           'R-squared (training)':[],\n",
        "                           'Adjusted R-squared (training)':[],\n",
        "                           'R-squared (test)':[],\n",
        "                           'Adjusted R-squared (test)':[],\n",
        "                           '5-Fold Cross Validation':[]})"
      ],
      "execution_count": 0,
      "outputs": []
    },
    {
      "cell_type": "markdown",
      "metadata": {
        "id": "_vArIrIYIRlc",
        "colab_type": "text"
      },
      "source": [
        "# Important Scripts"
      ]
    },
    {
      "cell_type": "code",
      "metadata": {
        "id": "71Gnb9Z9IT3g",
        "colab_type": "code",
        "colab": {}
      },
      "source": [
        "def show_method_attributes(obj, ncols=7,start=None, inside=None):\n",
        "    \"\"\" Show all the attributes of a given method.\n",
        "    Example:\n",
        "    ========\n",
        "    show_method_attributes(list)\n",
        "     \"\"\"\n",
        "\n",
        "    print(f'Object Type: {type(obj)}\\n')\n",
        "    lst = [elem for elem in dir(obj) if elem[0]!='_' ]\n",
        "    lst = [elem for elem in lst \n",
        "           if elem not in 'os np pd sys time psycopg2'.split() ]\n",
        "\n",
        "    if isinstance(start,str):\n",
        "        lst = [elem for elem in lst if elem.startswith(start)]\n",
        "        \n",
        "    if isinstance(start,tuple) or isinstance(start,list):\n",
        "        lst = [elem for elem in lst for start_elem in start\n",
        "               if elem.startswith(start_elem)]\n",
        "        \n",
        "    if isinstance(inside,str):\n",
        "        lst = [elem for elem in lst if inside in elem]\n",
        "        \n",
        "    if isinstance(inside,tuple) or isinstance(inside,list):\n",
        "        lst = [elem for elem in lst for inside_elem in inside\n",
        "               if inside_elem in elem]\n",
        "\n",
        "    return pd.DataFrame(np.array_split(lst,ncols)).T.fillna('')"
      ],
      "execution_count": 0,
      "outputs": []
    },
    {
      "cell_type": "code",
      "metadata": {
        "id": "H1JrjcmiK66M",
        "colab_type": "code",
        "colab": {}
      },
      "source": [
        "def adjustedR2(rsquared,nrows,kcols):\n",
        "    return rsquared- (kcols-1)/(nrows-kcols) * (1-rsquared)"
      ],
      "execution_count": 0,
      "outputs": []
    },
    {
      "cell_type": "markdown",
      "metadata": {
        "id": "AopwXJ3B44pv",
        "colab_type": "text"
      },
      "source": [
        "# Load the data"
      ]
    },
    {
      "cell_type": "code",
      "metadata": {
        "ExecuteTime": {
          "end_time": "2019-09-29T01:40:50.943262Z",
          "start_time": "2019-09-29T01:40:50.687293Z"
        },
        "id": "efpgvfDk44px",
        "colab_type": "code",
        "outputId": "50d91e6e-5416-400e-e612-403e5252121f",
        "colab": {
          "base_uri": "https://localhost:8080/",
          "height": 318
        }
      },
      "source": [
        "# df_clean = pd.read_csv('../data/processed/data_cleaned_encoded.csv')\n",
        "df_clean = pd.read_csv('https://github.com/bhishanpdl/Project_House_Price_Prediction/blob/master/data/processed/data_cleaned_encoded.csv?raw=true')\n",
        "print(df_clean.shape)\n",
        "df_clean.head()"
      ],
      "execution_count": 15,
      "outputs": [
        {
          "output_type": "stream",
          "text": [
            "(21613, 92)\n"
          ],
          "name": "stdout"
        },
        {
          "output_type": "execute_result",
          "data": {
            "text/html": [
              "<div>\n",
              "<style scoped>\n",
              "    .dataframe tbody tr th:only-of-type {\n",
              "        vertical-align: middle;\n",
              "    }\n",
              "\n",
              "    .dataframe tbody tr th {\n",
              "        vertical-align: top;\n",
              "    }\n",
              "\n",
              "    .dataframe thead th {\n",
              "        text-align: right;\n",
              "    }\n",
              "</style>\n",
              "<table border=\"1\" class=\"dataframe\">\n",
              "  <thead>\n",
              "    <tr style=\"text-align: right;\">\n",
              "      <th></th>\n",
              "      <th>id</th>\n",
              "      <th>date</th>\n",
              "      <th>price</th>\n",
              "      <th>bedrooms</th>\n",
              "      <th>bathrooms</th>\n",
              "      <th>sqft_living</th>\n",
              "      <th>sqft_lot</th>\n",
              "      <th>floors</th>\n",
              "      <th>waterfront</th>\n",
              "      <th>view</th>\n",
              "      <th>condition</th>\n",
              "      <th>grade</th>\n",
              "      <th>sqft_above</th>\n",
              "      <th>sqft_basement</th>\n",
              "      <th>yr_built</th>\n",
              "      <th>yr_renovated</th>\n",
              "      <th>zipcode</th>\n",
              "      <th>lat</th>\n",
              "      <th>long</th>\n",
              "      <th>sqft_living15</th>\n",
              "      <th>sqft_lot15</th>\n",
              "      <th>yr_sales</th>\n",
              "      <th>age</th>\n",
              "      <th>yr_renovated2</th>\n",
              "      <th>age_after_renovation</th>\n",
              "      <th>zipcode_top10</th>\n",
              "      <th>zipcode_houses</th>\n",
              "      <th>basement_bool</th>\n",
              "      <th>renovation_bool</th>\n",
              "      <th>age_cat</th>\n",
              "      <th>age_after_renovation_cat</th>\n",
              "      <th>waterfront_0</th>\n",
              "      <th>waterfront_1</th>\n",
              "      <th>view_0</th>\n",
              "      <th>view_1</th>\n",
              "      <th>view_2</th>\n",
              "      <th>view_3</th>\n",
              "      <th>view_4</th>\n",
              "      <th>condition_1</th>\n",
              "      <th>condition_2</th>\n",
              "      <th>condition_3</th>\n",
              "      <th>condition_4</th>\n",
              "      <th>condition_5</th>\n",
              "      <th>grade_1</th>\n",
              "      <th>grade_10</th>\n",
              "      <th>grade_11</th>\n",
              "      <th>grade_12</th>\n",
              "      <th>grade_13</th>\n",
              "      <th>grade_3</th>\n",
              "      <th>grade_4</th>\n",
              "      <th>grade_5</th>\n",
              "      <th>grade_6</th>\n",
              "      <th>grade_7</th>\n",
              "      <th>grade_8</th>\n",
              "      <th>grade_9</th>\n",
              "      <th>zipcode_top10_98004</th>\n",
              "      <th>zipcode_top10_98006</th>\n",
              "      <th>zipcode_top10_98033</th>\n",
              "      <th>zipcode_top10_98039</th>\n",
              "      <th>zipcode_top10_98040</th>\n",
              "      <th>zipcode_top10_98102</th>\n",
              "      <th>zipcode_top10_98105</th>\n",
              "      <th>zipcode_top10_98155</th>\n",
              "      <th>zipcode_top10_98177</th>\n",
              "      <th>zipcode_top10_others</th>\n",
              "      <th>age_cat_0</th>\n",
              "      <th>age_cat_1</th>\n",
              "      <th>age_cat_2</th>\n",
              "      <th>age_cat_3</th>\n",
              "      <th>age_cat_4</th>\n",
              "      <th>age_cat_5</th>\n",
              "      <th>age_cat_6</th>\n",
              "      <th>age_cat_7</th>\n",
              "      <th>age_cat_8</th>\n",
              "      <th>age_cat_9</th>\n",
              "      <th>age_after_renovation_cat_0</th>\n",
              "      <th>age_after_renovation_cat_1</th>\n",
              "      <th>age_after_renovation_cat_2</th>\n",
              "      <th>age_after_renovation_cat_3</th>\n",
              "      <th>age_after_renovation_cat_4</th>\n",
              "      <th>age_after_renovation_cat_5</th>\n",
              "      <th>age_after_renovation_cat_6</th>\n",
              "      <th>age_after_renovation_cat_7</th>\n",
              "      <th>age_after_renovation_cat_8</th>\n",
              "      <th>age_after_renovation_cat_9</th>\n",
              "      <th>log1p_price</th>\n",
              "      <th>log1p_sqft_living</th>\n",
              "      <th>log1p_sqft_lot</th>\n",
              "      <th>log1p_sqft_above</th>\n",
              "      <th>log1p_sqft_basement</th>\n",
              "      <th>log1p_sqft_living15</th>\n",
              "      <th>log1p_sqft_lot15</th>\n",
              "    </tr>\n",
              "  </thead>\n",
              "  <tbody>\n",
              "    <tr>\n",
              "      <th>0</th>\n",
              "      <td>7129300520</td>\n",
              "      <td>2014-10-13</td>\n",
              "      <td>221900.0</td>\n",
              "      <td>3</td>\n",
              "      <td>1.00</td>\n",
              "      <td>1180</td>\n",
              "      <td>5650</td>\n",
              "      <td>1.0</td>\n",
              "      <td>0</td>\n",
              "      <td>0</td>\n",
              "      <td>3</td>\n",
              "      <td>7</td>\n",
              "      <td>1180</td>\n",
              "      <td>0</td>\n",
              "      <td>1955</td>\n",
              "      <td>0</td>\n",
              "      <td>98178</td>\n",
              "      <td>47.5112</td>\n",
              "      <td>-122.257</td>\n",
              "      <td>1340</td>\n",
              "      <td>5650</td>\n",
              "      <td>2014</td>\n",
              "      <td>59</td>\n",
              "      <td>1955</td>\n",
              "      <td>59</td>\n",
              "      <td>others</td>\n",
              "      <td>262</td>\n",
              "      <td>0</td>\n",
              "      <td>0</td>\n",
              "      <td>5</td>\n",
              "      <td>5</td>\n",
              "      <td>1</td>\n",
              "      <td>0</td>\n",
              "      <td>1</td>\n",
              "      <td>0</td>\n",
              "      <td>0</td>\n",
              "      <td>0</td>\n",
              "      <td>0</td>\n",
              "      <td>0</td>\n",
              "      <td>0</td>\n",
              "      <td>1</td>\n",
              "      <td>0</td>\n",
              "      <td>0</td>\n",
              "      <td>0</td>\n",
              "      <td>0</td>\n",
              "      <td>0</td>\n",
              "      <td>0</td>\n",
              "      <td>0</td>\n",
              "      <td>0</td>\n",
              "      <td>0</td>\n",
              "      <td>0</td>\n",
              "      <td>0</td>\n",
              "      <td>1</td>\n",
              "      <td>0</td>\n",
              "      <td>0</td>\n",
              "      <td>0</td>\n",
              "      <td>0</td>\n",
              "      <td>0</td>\n",
              "      <td>0</td>\n",
              "      <td>0</td>\n",
              "      <td>0</td>\n",
              "      <td>0</td>\n",
              "      <td>0</td>\n",
              "      <td>0</td>\n",
              "      <td>1</td>\n",
              "      <td>0</td>\n",
              "      <td>0</td>\n",
              "      <td>0</td>\n",
              "      <td>0</td>\n",
              "      <td>0</td>\n",
              "      <td>1</td>\n",
              "      <td>0</td>\n",
              "      <td>0</td>\n",
              "      <td>0</td>\n",
              "      <td>0</td>\n",
              "      <td>0</td>\n",
              "      <td>0</td>\n",
              "      <td>0</td>\n",
              "      <td>0</td>\n",
              "      <td>0</td>\n",
              "      <td>1</td>\n",
              "      <td>0</td>\n",
              "      <td>0</td>\n",
              "      <td>0</td>\n",
              "      <td>0</td>\n",
              "      <td>12.309987</td>\n",
              "      <td>7.074117</td>\n",
              "      <td>8.639588</td>\n",
              "      <td>7.074117</td>\n",
              "      <td>0.000000</td>\n",
              "      <td>7.201171</td>\n",
              "      <td>8.639588</td>\n",
              "    </tr>\n",
              "    <tr>\n",
              "      <th>1</th>\n",
              "      <td>6414100192</td>\n",
              "      <td>2014-12-09</td>\n",
              "      <td>538000.0</td>\n",
              "      <td>3</td>\n",
              "      <td>2.25</td>\n",
              "      <td>2570</td>\n",
              "      <td>7242</td>\n",
              "      <td>2.0</td>\n",
              "      <td>0</td>\n",
              "      <td>0</td>\n",
              "      <td>3</td>\n",
              "      <td>7</td>\n",
              "      <td>2170</td>\n",
              "      <td>400</td>\n",
              "      <td>1951</td>\n",
              "      <td>1991</td>\n",
              "      <td>98125</td>\n",
              "      <td>47.7210</td>\n",
              "      <td>-122.319</td>\n",
              "      <td>1690</td>\n",
              "      <td>7639</td>\n",
              "      <td>2014</td>\n",
              "      <td>63</td>\n",
              "      <td>1991</td>\n",
              "      <td>23</td>\n",
              "      <td>others</td>\n",
              "      <td>410</td>\n",
              "      <td>1</td>\n",
              "      <td>1</td>\n",
              "      <td>5</td>\n",
              "      <td>2</td>\n",
              "      <td>1</td>\n",
              "      <td>0</td>\n",
              "      <td>1</td>\n",
              "      <td>0</td>\n",
              "      <td>0</td>\n",
              "      <td>0</td>\n",
              "      <td>0</td>\n",
              "      <td>0</td>\n",
              "      <td>0</td>\n",
              "      <td>1</td>\n",
              "      <td>0</td>\n",
              "      <td>0</td>\n",
              "      <td>0</td>\n",
              "      <td>0</td>\n",
              "      <td>0</td>\n",
              "      <td>0</td>\n",
              "      <td>0</td>\n",
              "      <td>0</td>\n",
              "      <td>0</td>\n",
              "      <td>0</td>\n",
              "      <td>0</td>\n",
              "      <td>1</td>\n",
              "      <td>0</td>\n",
              "      <td>0</td>\n",
              "      <td>0</td>\n",
              "      <td>0</td>\n",
              "      <td>0</td>\n",
              "      <td>0</td>\n",
              "      <td>0</td>\n",
              "      <td>0</td>\n",
              "      <td>0</td>\n",
              "      <td>0</td>\n",
              "      <td>0</td>\n",
              "      <td>1</td>\n",
              "      <td>0</td>\n",
              "      <td>0</td>\n",
              "      <td>0</td>\n",
              "      <td>0</td>\n",
              "      <td>0</td>\n",
              "      <td>1</td>\n",
              "      <td>0</td>\n",
              "      <td>0</td>\n",
              "      <td>0</td>\n",
              "      <td>0</td>\n",
              "      <td>0</td>\n",
              "      <td>0</td>\n",
              "      <td>1</td>\n",
              "      <td>0</td>\n",
              "      <td>0</td>\n",
              "      <td>0</td>\n",
              "      <td>0</td>\n",
              "      <td>0</td>\n",
              "      <td>0</td>\n",
              "      <td>0</td>\n",
              "      <td>13.195616</td>\n",
              "      <td>7.852050</td>\n",
              "      <td>8.887791</td>\n",
              "      <td>7.682943</td>\n",
              "      <td>5.993961</td>\n",
              "      <td>7.433075</td>\n",
              "      <td>8.941153</td>\n",
              "    </tr>\n",
              "    <tr>\n",
              "      <th>2</th>\n",
              "      <td>5631500400</td>\n",
              "      <td>2015-02-25</td>\n",
              "      <td>180000.0</td>\n",
              "      <td>2</td>\n",
              "      <td>1.00</td>\n",
              "      <td>770</td>\n",
              "      <td>10000</td>\n",
              "      <td>1.0</td>\n",
              "      <td>0</td>\n",
              "      <td>0</td>\n",
              "      <td>3</td>\n",
              "      <td>6</td>\n",
              "      <td>770</td>\n",
              "      <td>0</td>\n",
              "      <td>1933</td>\n",
              "      <td>0</td>\n",
              "      <td>98028</td>\n",
              "      <td>47.7379</td>\n",
              "      <td>-122.233</td>\n",
              "      <td>2720</td>\n",
              "      <td>8062</td>\n",
              "      <td>2015</td>\n",
              "      <td>82</td>\n",
              "      <td>1933</td>\n",
              "      <td>82</td>\n",
              "      <td>others</td>\n",
              "      <td>283</td>\n",
              "      <td>0</td>\n",
              "      <td>0</td>\n",
              "      <td>7</td>\n",
              "      <td>7</td>\n",
              "      <td>1</td>\n",
              "      <td>0</td>\n",
              "      <td>1</td>\n",
              "      <td>0</td>\n",
              "      <td>0</td>\n",
              "      <td>0</td>\n",
              "      <td>0</td>\n",
              "      <td>0</td>\n",
              "      <td>0</td>\n",
              "      <td>1</td>\n",
              "      <td>0</td>\n",
              "      <td>0</td>\n",
              "      <td>0</td>\n",
              "      <td>0</td>\n",
              "      <td>0</td>\n",
              "      <td>0</td>\n",
              "      <td>0</td>\n",
              "      <td>0</td>\n",
              "      <td>0</td>\n",
              "      <td>0</td>\n",
              "      <td>1</td>\n",
              "      <td>0</td>\n",
              "      <td>0</td>\n",
              "      <td>0</td>\n",
              "      <td>0</td>\n",
              "      <td>0</td>\n",
              "      <td>0</td>\n",
              "      <td>0</td>\n",
              "      <td>0</td>\n",
              "      <td>0</td>\n",
              "      <td>0</td>\n",
              "      <td>0</td>\n",
              "      <td>0</td>\n",
              "      <td>1</td>\n",
              "      <td>0</td>\n",
              "      <td>0</td>\n",
              "      <td>0</td>\n",
              "      <td>0</td>\n",
              "      <td>0</td>\n",
              "      <td>0</td>\n",
              "      <td>0</td>\n",
              "      <td>1</td>\n",
              "      <td>0</td>\n",
              "      <td>0</td>\n",
              "      <td>0</td>\n",
              "      <td>0</td>\n",
              "      <td>0</td>\n",
              "      <td>0</td>\n",
              "      <td>0</td>\n",
              "      <td>0</td>\n",
              "      <td>0</td>\n",
              "      <td>1</td>\n",
              "      <td>0</td>\n",
              "      <td>0</td>\n",
              "      <td>12.100718</td>\n",
              "      <td>6.647688</td>\n",
              "      <td>9.210440</td>\n",
              "      <td>6.647688</td>\n",
              "      <td>0.000000</td>\n",
              "      <td>7.908755</td>\n",
              "      <td>8.995041</td>\n",
              "    </tr>\n",
              "    <tr>\n",
              "      <th>3</th>\n",
              "      <td>2487200875</td>\n",
              "      <td>2014-12-09</td>\n",
              "      <td>604000.0</td>\n",
              "      <td>4</td>\n",
              "      <td>3.00</td>\n",
              "      <td>1960</td>\n",
              "      <td>5000</td>\n",
              "      <td>1.0</td>\n",
              "      <td>0</td>\n",
              "      <td>0</td>\n",
              "      <td>5</td>\n",
              "      <td>7</td>\n",
              "      <td>1050</td>\n",
              "      <td>910</td>\n",
              "      <td>1965</td>\n",
              "      <td>0</td>\n",
              "      <td>98136</td>\n",
              "      <td>47.5208</td>\n",
              "      <td>-122.393</td>\n",
              "      <td>1360</td>\n",
              "      <td>5000</td>\n",
              "      <td>2014</td>\n",
              "      <td>49</td>\n",
              "      <td>1965</td>\n",
              "      <td>49</td>\n",
              "      <td>others</td>\n",
              "      <td>263</td>\n",
              "      <td>1</td>\n",
              "      <td>0</td>\n",
              "      <td>4</td>\n",
              "      <td>4</td>\n",
              "      <td>1</td>\n",
              "      <td>0</td>\n",
              "      <td>1</td>\n",
              "      <td>0</td>\n",
              "      <td>0</td>\n",
              "      <td>0</td>\n",
              "      <td>0</td>\n",
              "      <td>0</td>\n",
              "      <td>0</td>\n",
              "      <td>0</td>\n",
              "      <td>0</td>\n",
              "      <td>1</td>\n",
              "      <td>0</td>\n",
              "      <td>0</td>\n",
              "      <td>0</td>\n",
              "      <td>0</td>\n",
              "      <td>0</td>\n",
              "      <td>0</td>\n",
              "      <td>0</td>\n",
              "      <td>0</td>\n",
              "      <td>0</td>\n",
              "      <td>1</td>\n",
              "      <td>0</td>\n",
              "      <td>0</td>\n",
              "      <td>0</td>\n",
              "      <td>0</td>\n",
              "      <td>0</td>\n",
              "      <td>0</td>\n",
              "      <td>0</td>\n",
              "      <td>0</td>\n",
              "      <td>0</td>\n",
              "      <td>0</td>\n",
              "      <td>0</td>\n",
              "      <td>1</td>\n",
              "      <td>0</td>\n",
              "      <td>0</td>\n",
              "      <td>0</td>\n",
              "      <td>0</td>\n",
              "      <td>1</td>\n",
              "      <td>0</td>\n",
              "      <td>0</td>\n",
              "      <td>0</td>\n",
              "      <td>0</td>\n",
              "      <td>0</td>\n",
              "      <td>0</td>\n",
              "      <td>0</td>\n",
              "      <td>0</td>\n",
              "      <td>0</td>\n",
              "      <td>1</td>\n",
              "      <td>0</td>\n",
              "      <td>0</td>\n",
              "      <td>0</td>\n",
              "      <td>0</td>\n",
              "      <td>0</td>\n",
              "      <td>13.311331</td>\n",
              "      <td>7.581210</td>\n",
              "      <td>8.517393</td>\n",
              "      <td>6.957497</td>\n",
              "      <td>6.814543</td>\n",
              "      <td>7.215975</td>\n",
              "      <td>8.517393</td>\n",
              "    </tr>\n",
              "    <tr>\n",
              "      <th>4</th>\n",
              "      <td>1954400510</td>\n",
              "      <td>2015-02-18</td>\n",
              "      <td>510000.0</td>\n",
              "      <td>3</td>\n",
              "      <td>2.00</td>\n",
              "      <td>1680</td>\n",
              "      <td>8080</td>\n",
              "      <td>1.0</td>\n",
              "      <td>0</td>\n",
              "      <td>0</td>\n",
              "      <td>3</td>\n",
              "      <td>8</td>\n",
              "      <td>1680</td>\n",
              "      <td>0</td>\n",
              "      <td>1987</td>\n",
              "      <td>0</td>\n",
              "      <td>98074</td>\n",
              "      <td>47.6168</td>\n",
              "      <td>-122.045</td>\n",
              "      <td>1800</td>\n",
              "      <td>7503</td>\n",
              "      <td>2015</td>\n",
              "      <td>28</td>\n",
              "      <td>1987</td>\n",
              "      <td>28</td>\n",
              "      <td>others</td>\n",
              "      <td>441</td>\n",
              "      <td>0</td>\n",
              "      <td>0</td>\n",
              "      <td>2</td>\n",
              "      <td>2</td>\n",
              "      <td>1</td>\n",
              "      <td>0</td>\n",
              "      <td>1</td>\n",
              "      <td>0</td>\n",
              "      <td>0</td>\n",
              "      <td>0</td>\n",
              "      <td>0</td>\n",
              "      <td>0</td>\n",
              "      <td>0</td>\n",
              "      <td>1</td>\n",
              "      <td>0</td>\n",
              "      <td>0</td>\n",
              "      <td>0</td>\n",
              "      <td>0</td>\n",
              "      <td>0</td>\n",
              "      <td>0</td>\n",
              "      <td>0</td>\n",
              "      <td>0</td>\n",
              "      <td>0</td>\n",
              "      <td>0</td>\n",
              "      <td>0</td>\n",
              "      <td>0</td>\n",
              "      <td>1</td>\n",
              "      <td>0</td>\n",
              "      <td>0</td>\n",
              "      <td>0</td>\n",
              "      <td>0</td>\n",
              "      <td>0</td>\n",
              "      <td>0</td>\n",
              "      <td>0</td>\n",
              "      <td>0</td>\n",
              "      <td>0</td>\n",
              "      <td>0</td>\n",
              "      <td>1</td>\n",
              "      <td>0</td>\n",
              "      <td>0</td>\n",
              "      <td>1</td>\n",
              "      <td>0</td>\n",
              "      <td>0</td>\n",
              "      <td>0</td>\n",
              "      <td>0</td>\n",
              "      <td>0</td>\n",
              "      <td>0</td>\n",
              "      <td>0</td>\n",
              "      <td>0</td>\n",
              "      <td>0</td>\n",
              "      <td>1</td>\n",
              "      <td>0</td>\n",
              "      <td>0</td>\n",
              "      <td>0</td>\n",
              "      <td>0</td>\n",
              "      <td>0</td>\n",
              "      <td>0</td>\n",
              "      <td>0</td>\n",
              "      <td>13.142168</td>\n",
              "      <td>7.427144</td>\n",
              "      <td>8.997271</td>\n",
              "      <td>7.427144</td>\n",
              "      <td>0.000000</td>\n",
              "      <td>7.496097</td>\n",
              "      <td>8.923191</td>\n",
              "    </tr>\n",
              "  </tbody>\n",
              "</table>\n",
              "</div>"
            ],
            "text/plain": [
              "           id        date     price  bedrooms  bathrooms  sqft_living  \\\n",
              "0  7129300520  2014-10-13  221900.0         3       1.00         1180   \n",
              "1  6414100192  2014-12-09  538000.0         3       2.25         2570   \n",
              "2  5631500400  2015-02-25  180000.0         2       1.00          770   \n",
              "3  2487200875  2014-12-09  604000.0         4       3.00         1960   \n",
              "4  1954400510  2015-02-18  510000.0         3       2.00         1680   \n",
              "\n",
              "   sqft_lot  floors  waterfront  view  condition  grade  sqft_above  \\\n",
              "0      5650     1.0           0     0          3      7        1180   \n",
              "1      7242     2.0           0     0          3      7        2170   \n",
              "2     10000     1.0           0     0          3      6         770   \n",
              "3      5000     1.0           0     0          5      7        1050   \n",
              "4      8080     1.0           0     0          3      8        1680   \n",
              "\n",
              "   sqft_basement  yr_built  yr_renovated  zipcode      lat     long  \\\n",
              "0              0      1955             0    98178  47.5112 -122.257   \n",
              "1            400      1951          1991    98125  47.7210 -122.319   \n",
              "2              0      1933             0    98028  47.7379 -122.233   \n",
              "3            910      1965             0    98136  47.5208 -122.393   \n",
              "4              0      1987             0    98074  47.6168 -122.045   \n",
              "\n",
              "   sqft_living15  sqft_lot15  yr_sales  age  yr_renovated2  \\\n",
              "0           1340        5650      2014   59           1955   \n",
              "1           1690        7639      2014   63           1991   \n",
              "2           2720        8062      2015   82           1933   \n",
              "3           1360        5000      2014   49           1965   \n",
              "4           1800        7503      2015   28           1987   \n",
              "\n",
              "   age_after_renovation zipcode_top10  zipcode_houses  basement_bool  \\\n",
              "0                    59        others             262              0   \n",
              "1                    23        others             410              1   \n",
              "2                    82        others             283              0   \n",
              "3                    49        others             263              1   \n",
              "4                    28        others             441              0   \n",
              "\n",
              "   renovation_bool  age_cat  age_after_renovation_cat  waterfront_0  \\\n",
              "0                0        5                         5             1   \n",
              "1                1        5                         2             1   \n",
              "2                0        7                         7             1   \n",
              "3                0        4                         4             1   \n",
              "4                0        2                         2             1   \n",
              "\n",
              "   waterfront_1  view_0  view_1  view_2  view_3  view_4  condition_1  \\\n",
              "0             0       1       0       0       0       0            0   \n",
              "1             0       1       0       0       0       0            0   \n",
              "2             0       1       0       0       0       0            0   \n",
              "3             0       1       0       0       0       0            0   \n",
              "4             0       1       0       0       0       0            0   \n",
              "\n",
              "   condition_2  condition_3  condition_4  condition_5  grade_1  grade_10  \\\n",
              "0            0            1            0            0        0         0   \n",
              "1            0            1            0            0        0         0   \n",
              "2            0            1            0            0        0         0   \n",
              "3            0            0            0            1        0         0   \n",
              "4            0            1            0            0        0         0   \n",
              "\n",
              "   grade_11  grade_12  grade_13  grade_3  grade_4  grade_5  grade_6  grade_7  \\\n",
              "0         0         0         0        0        0        0        0        1   \n",
              "1         0         0         0        0        0        0        0        1   \n",
              "2         0         0         0        0        0        0        1        0   \n",
              "3         0         0         0        0        0        0        0        1   \n",
              "4         0         0         0        0        0        0        0        0   \n",
              "\n",
              "   grade_8  grade_9  zipcode_top10_98004  zipcode_top10_98006  \\\n",
              "0        0        0                    0                    0   \n",
              "1        0        0                    0                    0   \n",
              "2        0        0                    0                    0   \n",
              "3        0        0                    0                    0   \n",
              "4        1        0                    0                    0   \n",
              "\n",
              "   zipcode_top10_98033  zipcode_top10_98039  zipcode_top10_98040  \\\n",
              "0                    0                    0                    0   \n",
              "1                    0                    0                    0   \n",
              "2                    0                    0                    0   \n",
              "3                    0                    0                    0   \n",
              "4                    0                    0                    0   \n",
              "\n",
              "   zipcode_top10_98102  zipcode_top10_98105  zipcode_top10_98155  \\\n",
              "0                    0                    0                    0   \n",
              "1                    0                    0                    0   \n",
              "2                    0                    0                    0   \n",
              "3                    0                    0                    0   \n",
              "4                    0                    0                    0   \n",
              "\n",
              "   zipcode_top10_98177  zipcode_top10_others  age_cat_0  age_cat_1  age_cat_2  \\\n",
              "0                    0                     1          0          0          0   \n",
              "1                    0                     1          0          0          0   \n",
              "2                    0                     1          0          0          0   \n",
              "3                    0                     1          0          0          0   \n",
              "4                    0                     1          0          0          1   \n",
              "\n",
              "   age_cat_3  age_cat_4  age_cat_5  age_cat_6  age_cat_7  age_cat_8  \\\n",
              "0          0          0          1          0          0          0   \n",
              "1          0          0          1          0          0          0   \n",
              "2          0          0          0          0          1          0   \n",
              "3          0          1          0          0          0          0   \n",
              "4          0          0          0          0          0          0   \n",
              "\n",
              "   age_cat_9  age_after_renovation_cat_0  age_after_renovation_cat_1  \\\n",
              "0          0                           0                           0   \n",
              "1          0                           0                           0   \n",
              "2          0                           0                           0   \n",
              "3          0                           0                           0   \n",
              "4          0                           0                           0   \n",
              "\n",
              "   age_after_renovation_cat_2  age_after_renovation_cat_3  \\\n",
              "0                           0                           0   \n",
              "1                           1                           0   \n",
              "2                           0                           0   \n",
              "3                           0                           0   \n",
              "4                           1                           0   \n",
              "\n",
              "   age_after_renovation_cat_4  age_after_renovation_cat_5  \\\n",
              "0                           0                           1   \n",
              "1                           0                           0   \n",
              "2                           0                           0   \n",
              "3                           1                           0   \n",
              "4                           0                           0   \n",
              "\n",
              "   age_after_renovation_cat_6  age_after_renovation_cat_7  \\\n",
              "0                           0                           0   \n",
              "1                           0                           0   \n",
              "2                           0                           1   \n",
              "3                           0                           0   \n",
              "4                           0                           0   \n",
              "\n",
              "   age_after_renovation_cat_8  age_after_renovation_cat_9  log1p_price  \\\n",
              "0                           0                           0    12.309987   \n",
              "1                           0                           0    13.195616   \n",
              "2                           0                           0    12.100718   \n",
              "3                           0                           0    13.311331   \n",
              "4                           0                           0    13.142168   \n",
              "\n",
              "   log1p_sqft_living  log1p_sqft_lot  log1p_sqft_above  log1p_sqft_basement  \\\n",
              "0           7.074117        8.639588          7.074117             0.000000   \n",
              "1           7.852050        8.887791          7.682943             5.993961   \n",
              "2           6.647688        9.210440          6.647688             0.000000   \n",
              "3           7.581210        8.517393          6.957497             6.814543   \n",
              "4           7.427144        8.997271          7.427144             0.000000   \n",
              "\n",
              "   log1p_sqft_living15  log1p_sqft_lot15  \n",
              "0             7.201171          8.639588  \n",
              "1             7.433075          8.941153  \n",
              "2             7.908755          8.995041  \n",
              "3             7.215975          8.517393  \n",
              "4             7.496097          8.923191  "
            ]
          },
          "metadata": {
            "tags": []
          },
          "execution_count": 15
        }
      ]
    },
    {
      "cell_type": "code",
      "metadata": {
        "ExecuteTime": {
          "end_time": "2019-09-29T01:40:50.682688Z",
          "start_time": "2019-09-29T01:40:50.568299Z"
        },
        "id": "8m7Fw_XU44pw",
        "colab_type": "code",
        "outputId": "1ca3a0f9-7076-49f4-90d3-9a1a203843df",
        "colab": {
          "base_uri": "https://localhost:8080/",
          "height": 105
        }
      },
      "source": [
        "# I will just take column names from this and will use cleaned data further.\n",
        "# df_raw = pd.read_csv('../data/raw/kc_house_data.csv')\n",
        "df_raw = pd.read_csv('https://github.com/bhishanpdl/Project_House_Price_Prediction/blob/master/data/raw/kc_house_data.csv?raw=true',nrows=1)\n",
        "df_raw.columns"
      ],
      "execution_count": 16,
      "outputs": [
        {
          "output_type": "execute_result",
          "data": {
            "text/plain": [
              "Index(['id', 'date', 'price', 'bedrooms', 'bathrooms', 'sqft_living',\n",
              "       'sqft_lot', 'floors', 'waterfront', 'view', 'condition', 'grade',\n",
              "       'sqft_above', 'sqft_basement', 'yr_built', 'yr_renovated', 'zipcode',\n",
              "       'lat', 'long', 'sqft_living15', 'sqft_lot15'],\n",
              "      dtype='object')"
            ]
          },
          "metadata": {
            "tags": []
          },
          "execution_count": 16
        }
      ]
    },
    {
      "cell_type": "code",
      "metadata": {
        "ExecuteTime": {
          "end_time": "2019-09-29T01:40:51.162761Z",
          "start_time": "2019-09-29T01:40:51.062308Z"
        },
        "id": "C8_gawQE44p5",
        "colab_type": "code",
        "colab": {}
      },
      "source": [
        "features_raw_all = ['bedrooms', 'bathrooms', 'sqft_living',\n",
        "       'sqft_lot', 'floors', 'waterfront', 'view', 'condition', 'grade',\n",
        "       'sqft_above', 'sqft_basement', 'yr_built', 'yr_renovated', 'zipcode',\n",
        "       'lat', 'long', 'sqft_living15', 'sqft_lot15']\n",
        "\n",
        "df = df_clean[features_raw_all + ['price']]"
      ],
      "execution_count": 0,
      "outputs": []
    },
    {
      "cell_type": "markdown",
      "metadata": {
        "id": "rz_Ixx6944p7",
        "colab_type": "text"
      },
      "source": [
        "# Log transform large values"
      ]
    },
    {
      "cell_type": "code",
      "metadata": {
        "id": "l_hbgsndhI0J",
        "colab_type": "code",
        "outputId": "23bed020-65f2-4a72-e6ae-fab138154077",
        "colab": {
          "base_uri": "https://localhost:8080/",
          "height": 123
        }
      },
      "source": [
        "log_cols = ['price','sqft_living','sqft_living15','sqft_lot','sqft_lot15']\n",
        "\n",
        "for col in log_cols:\n",
        "    df[col] = np.log1p(df[col].to_numpy())"
      ],
      "execution_count": 18,
      "outputs": [
        {
          "output_type": "stream",
          "text": [
            "/usr/local/lib/python3.6/dist-packages/ipykernel_launcher.py:4: SettingWithCopyWarning: \n",
            "A value is trying to be set on a copy of a slice from a DataFrame.\n",
            "Try using .loc[row_indexer,col_indexer] = value instead\n",
            "\n",
            "See the caveats in the documentation: http://pandas.pydata.org/pandas-docs/stable/user_guide/indexing.html#returning-a-view-versus-a-copy\n",
            "  after removing the cwd from sys.path.\n"
          ],
          "name": "stderr"
        }
      ]
    },
    {
      "cell_type": "markdown",
      "metadata": {
        "id": "qLTMmNdOhVKE",
        "colab_type": "text"
      },
      "source": [
        "# Train-Test split after log transform"
      ]
    },
    {
      "cell_type": "code",
      "metadata": {
        "ExecuteTime": {
          "end_time": "2019-09-29T01:40:51.241144Z",
          "start_time": "2019-09-29T01:40:51.168309Z"
        },
        "id": "6wk_ZV6U44p8",
        "colab_type": "code",
        "outputId": "1825a253-4362-44e7-fc76-0fd177f08f3d",
        "colab": {
          "base_uri": "https://localhost:8080/",
          "height": 34
        }
      },
      "source": [
        "X = df[features_raw_all].to_numpy()\n",
        "\n",
        "y = df['price'].to_numpy()\n",
        "\n",
        "Xtrain, Xtest, ytrain, ytest = train_test_split (X,y,\n",
        "                                                     test_size=0.20,\n",
        "                                                     random_state=random_state)\n",
        "\n",
        "Xtrain.shape, ytrain.shape, Xtest.shape, ytest.shape"
      ],
      "execution_count": 19,
      "outputs": [
        {
          "output_type": "execute_result",
          "data": {
            "text/plain": [
              "((17290, 18), (17290,), (4323, 18), (4323,))"
            ]
          },
          "metadata": {
            "tags": []
          },
          "execution_count": 19
        }
      ]
    },
    {
      "cell_type": "markdown",
      "metadata": {
        "id": "OBScjVVD44p_",
        "colab_type": "text"
      },
      "source": [
        "# Making pipeline for various sklearn Regressors (with automatic scaling)"
      ]
    },
    {
      "cell_type": "code",
      "metadata": {
        "ExecuteTime": {
          "end_time": "2019-09-29T01:40:51.302052Z",
          "start_time": "2019-09-29T01:40:51.249934Z"
        },
        "id": "J8nbaUjC44qA",
        "colab_type": "code",
        "colab": {}
      },
      "source": [
        "pipelines = []\n",
        "\n",
        "pipelines.append(('ScaledLR', Pipeline([('Scaler', StandardScaler()),\n",
        "                                        ('LR',LinearRegression())])) )\n",
        "\n",
        "\n",
        "pipelines.append(('ScaledLASSO', Pipeline([('Scaler', StandardScaler()),\n",
        "                                           ('LASSO', Lasso())])))\n",
        "\n",
        "pipelines.append(('ScaledEN', Pipeline([('Scaler', StandardScaler()),\n",
        "                                        ('EN', ElasticNet())])))\n",
        "\n",
        "pipelines.append(('ScaledKNN', Pipeline([('Scaler', StandardScaler()),\n",
        "                                         ('KNN', KNeighborsRegressor())])))\n",
        "\n",
        "# decision tree may not need scaling\n",
        "pipelines.append(('ScaledDT', Pipeline([('Scaler', StandardScaler())\n",
        "                                          ,('DT', DecisionTreeRegressor())])))\n",
        "\n",
        "# boosting may not need scaling\n",
        "pipelines.append(('ScaledGBR', Pipeline([('Scaler', StandardScaler()),\n",
        "                                         ('GBR', GradientBoostingRegressor())])))"
      ],
      "execution_count": 0,
      "outputs": []
    },
    {
      "cell_type": "code",
      "metadata": {
        "ExecuteTime": {
          "end_time": "2019-09-29T01:40:59.690794Z",
          "start_time": "2019-09-29T01:40:51.304925Z"
        },
        "id": "IbNSa3Wh44qH",
        "colab_type": "code",
        "colab": {}
      },
      "source": [
        "df_cv = pd.DataFrame({'Model': [],\n",
        "                      '10-Fold Cross Validation Mean':[],\n",
        "                      '10-Fold Cross Validation Std':[]\n",
        "                     })\n"
      ],
      "execution_count": 0,
      "outputs": []
    },
    {
      "cell_type": "code",
      "metadata": {
        "id": "mpv8ZqYnindu",
        "colab_type": "code",
        "colab": {}
      },
      "source": [
        "# pipeline will scale the data and then fit the data\n",
        "for name, model in pipelines:\n",
        "    kfold = KFold(n_splits=10, random_state=random_state)\n",
        "    cv_results = cross_val_score(model,\n",
        "                                 Xtrain,\n",
        "                                 ytrain,\n",
        "                                 cv=kfold,\n",
        "                                 scoring='neg_mean_squared_error'\n",
        "                                 )\n",
        "\n",
        "    df_cv.loc[len(df_cv)] = [name, cv_results.mean(), cv_results.std() ]"
      ],
      "execution_count": 0,
      "outputs": []
    },
    {
      "cell_type": "code",
      "metadata": {
        "ExecuteTime": {
          "end_time": "2019-09-29T01:40:59.732270Z",
          "start_time": "2019-09-29T01:40:59.692557Z"
        },
        "id": "lNQTR6Mm44qP",
        "colab_type": "code",
        "outputId": "aaf73d5b-60d8-4b56-fe90-932be9e4f9c3",
        "colab": {
          "base_uri": "https://localhost:8080/",
          "height": 227
        }
      },
      "source": [
        "df_cv.sort_values('10-Fold Cross Validation Mean',ascending=False) # smallest rmse is best, largest negMSE is best.\n",
        "\n",
        "# observation:\n",
        "# we have values of power 10, its bad, we need more iteration or need to log transform features."
      ],
      "execution_count": 23,
      "outputs": [
        {
          "output_type": "execute_result",
          "data": {
            "text/html": [
              "<div>\n",
              "<style scoped>\n",
              "    .dataframe tbody tr th:only-of-type {\n",
              "        vertical-align: middle;\n",
              "    }\n",
              "\n",
              "    .dataframe tbody tr th {\n",
              "        vertical-align: top;\n",
              "    }\n",
              "\n",
              "    .dataframe thead th {\n",
              "        text-align: right;\n",
              "    }\n",
              "</style>\n",
              "<table border=\"1\" class=\"dataframe\">\n",
              "  <thead>\n",
              "    <tr style=\"text-align: right;\">\n",
              "      <th></th>\n",
              "      <th>Model</th>\n",
              "      <th>10-Fold Cross Validation Mean</th>\n",
              "      <th>10-Fold Cross Validation Std</th>\n",
              "    </tr>\n",
              "  </thead>\n",
              "  <tbody>\n",
              "    <tr>\n",
              "      <th>5</th>\n",
              "      <td>ScaledGBR</td>\n",
              "      <td>-0.034164</td>\n",
              "      <td>0.001455</td>\n",
              "    </tr>\n",
              "    <tr>\n",
              "      <th>3</th>\n",
              "      <td>ScaledKNN</td>\n",
              "      <td>-0.046319</td>\n",
              "      <td>0.002454</td>\n",
              "    </tr>\n",
              "    <tr>\n",
              "      <th>0</th>\n",
              "      <td>ScaledLR</td>\n",
              "      <td>-0.062666</td>\n",
              "      <td>0.002355</td>\n",
              "    </tr>\n",
              "    <tr>\n",
              "      <th>4</th>\n",
              "      <td>ScaledDT</td>\n",
              "      <td>-0.064170</td>\n",
              "      <td>0.002628</td>\n",
              "    </tr>\n",
              "    <tr>\n",
              "      <th>1</th>\n",
              "      <td>ScaledLASSO</td>\n",
              "      <td>-0.276666</td>\n",
              "      <td>0.010241</td>\n",
              "    </tr>\n",
              "    <tr>\n",
              "      <th>2</th>\n",
              "      <td>ScaledEN</td>\n",
              "      <td>-0.276666</td>\n",
              "      <td>0.010241</td>\n",
              "    </tr>\n",
              "  </tbody>\n",
              "</table>\n",
              "</div>"
            ],
            "text/plain": [
              "         Model  10-Fold Cross Validation Mean  10-Fold Cross Validation Std\n",
              "5    ScaledGBR                      -0.034164                      0.001455\n",
              "3    ScaledKNN                      -0.046319                      0.002454\n",
              "0     ScaledLR                      -0.062666                      0.002355\n",
              "4     ScaledDT                      -0.064170                      0.002628\n",
              "1  ScaledLASSO                      -0.276666                      0.010241\n",
              "2     ScaledEN                      -0.276666                      0.010241"
            ]
          },
          "metadata": {
            "tags": []
          },
          "execution_count": 23
        }
      ]
    },
    {
      "cell_type": "markdown",
      "metadata": {
        "id": "q1zipoGI9ynJ",
        "colab_type": "text"
      },
      "source": [
        "# Hyperparameter Tuning"
      ]
    },
    {
      "cell_type": "markdown",
      "metadata": {
        "id": "-4fWGs-P91Kf",
        "colab_type": "text"
      },
      "source": [
        "## Grid Search for Gradient Boosting Regressor\n",
        "\n",
        "Reference: https://scikit-learn.org/stable/modules/generated/sklearn.ensemble.GradientBoostingRegressor.html \n",
        "\n",
        "\n",
        "Grid search is extremely slow. It need to fit the model for all the values in the\n",
        "search space."
      ]
    },
    {
      "cell_type": "code",
      "metadata": {
        "ExecuteTime": {
          "end_time": "2019-09-29T01:41:54.974837Z",
          "start_time": "2019-09-29T01:41:07.149876Z"
        },
        "id": "yxAgHfGq44qh",
        "colab_type": "code",
        "outputId": "58cd4402-0a0e-47a3-83a4-bfcde165080b",
        "colab": {
          "base_uri": "https://localhost:8080/",
          "height": 70
        }
      },
      "source": [
        "%%time\n",
        "\n",
        "from sklearn.model_selection import GridSearchCV\n",
        "from sklearn.ensemble import GradientBoostingRegressor\n",
        "\n",
        "# we use gradient boosting regressor, since it gave us the best model.\n",
        "\n",
        "\n",
        "\n",
        "param_grid = dict(n_estimators=np.array([50,100,200,300,400,500,600,700,800]))\n",
        "\n",
        "model = GradientBoostingRegressor(random_state=random_state)\n",
        "kfold = KFold(n_splits=10, random_state=random_state)\n",
        "\n",
        "grid = GridSearchCV(estimator=model,\n",
        "                    param_grid=param_grid,\n",
        "                    scoring='neg_mean_squared_error',\n",
        "                    cv=kfold)\n",
        "\n",
        "grid_result = grid.fit(Xtrain, ytrain)\n",
        "\n",
        "means = grid_result.cv_results_['mean_test_score']\n",
        "stds = grid_result.cv_results_['std_test_score']\n",
        "params = grid_result.cv_results_['params']\n",
        "df_grid_gbr = pd.DataFrame({'n_estimators': params,\n",
        "                           'neg_mean_squared_error': means,\n",
        "                           'std': stds})\n",
        "\n",
        "print(\"Best: %f using %s\" % (grid_result.best_score_, grid_result.best_params_))\n",
        "pd.set_option('display.float_format', '{:,.10f}'.format)\n",
        "df_grid_gbr.sort_values('neg_mean_squared_error', ascending=False)"
      ],
      "execution_count": 24,
      "outputs": [
        {
          "output_type": "stream",
          "text": [
            "Best: -0.027883 using {'n_estimators': 800}\n",
            "CPU times: user 7min 45s, sys: 51.3 ms, total: 7min 46s\n",
            "Wall time: 7min 46s\n"
          ],
          "name": "stdout"
        }
      ]
    },
    {
      "cell_type": "code",
      "metadata": {
        "ExecuteTime": {
          "end_time": "2019-09-29T01:41:55.047014Z",
          "start_time": "2019-09-29T01:41:55.014102Z"
        },
        "id": "BdHuzabs44qk",
        "colab_type": "code",
        "outputId": "e516397d-77ea-41d7-c30b-eb2d9f1d9c08",
        "colab": {
          "base_uri": "https://localhost:8080/",
          "height": 70
        }
      },
      "source": [
        "%%time\n",
        "\n",
        "# best n_estimators found was the largest value.\n",
        "# We need to look more than the maximum value.\n",
        "\n",
        "\n",
        "param_grid = dict(n_estimators=np.array([850,900,950,1000]))\n",
        "\n",
        "model = GradientBoostingRegressor(random_state=random_state)\n",
        "kfold = KFold(n_splits=10, random_state=random_state)\n",
        "\n",
        "grid = GridSearchCV(estimator=model,\n",
        "                    param_grid=param_grid,\n",
        "                    scoring='neg_mean_squared_error',\n",
        "                    cv=kfold)\n",
        "\n",
        "grid_result = grid.fit(Xtrain, ytrain)\n",
        "\n",
        "means = grid_result.cv_results_['mean_test_score']\n",
        "stds = grid_result.cv_results_['std_test_score']\n",
        "params = grid_result.cv_results_['params']\n",
        "df_grid_gbr = pd.DataFrame({'n_estimators': params,\n",
        "                           'neg_mean_squared_error': means,\n",
        "                           'std': stds})\n",
        "\n",
        "print(\"Best: %f using %s\" % (grid_result.best_score_, grid_result.best_params_))\n",
        "pd.set_option('display.float_format', '{:,.10f}'.format)\n",
        "df_grid_gbr.sort_values('neg_mean_squared_error', ascending=False)"
      ],
      "execution_count": 25,
      "outputs": [
        {
          "output_type": "stream",
          "text": [
            "Best: -0.027759 using {'n_estimators': 1000}\n",
            "CPU times: user 7min 52s, sys: 38.9 ms, total: 7min 52s\n",
            "Wall time: 7min 52s\n"
          ],
          "name": "stdout"
        }
      ]
    },
    {
      "cell_type": "code",
      "metadata": {
        "id": "-aqdA5Ls_3VL",
        "colab_type": "code",
        "outputId": "c36873c6-72d2-4405-e87e-11a6a0f0c2a2",
        "colab": {
          "base_uri": "https://localhost:8080/",
          "height": 34
        }
      },
      "source": [
        "n_estimators_best = grid_result.best_params_['n_estimators']\n",
        "n_estimators_best"
      ],
      "execution_count": 26,
      "outputs": [
        {
          "output_type": "execute_result",
          "data": {
            "text/plain": [
              "1000"
            ]
          },
          "metadata": {
            "tags": []
          },
          "execution_count": 26
        }
      ]
    },
    {
      "cell_type": "code",
      "metadata": {
        "id": "zVyLzr8aAkJs",
        "colab_type": "code",
        "outputId": "85551c0e-b9cf-49f2-902c-e53eaee85878",
        "colab": {
          "base_uri": "https://localhost:8080/",
          "height": 70
        }
      },
      "source": [
        "%%time\n",
        "\n",
        "# best n_estimators found was the largest value.\n",
        "# We need to look more than the maximum value.\n",
        "\n",
        "\n",
        "param_grid = dict(n_estimators=np.array([1050,1100,1200,1300]))\n",
        "\n",
        "model = GradientBoostingRegressor(random_state=random_state)\n",
        "kfold = KFold(n_splits=10, random_state=random_state)\n",
        "\n",
        "grid = GridSearchCV(estimator=model,\n",
        "                    param_grid=param_grid,\n",
        "                    scoring='neg_mean_squared_error',\n",
        "                    cv=kfold)\n",
        "\n",
        "grid_result = grid.fit(Xtrain, ytrain)\n",
        "\n",
        "means = grid_result.cv_results_['mean_test_score']\n",
        "stds = grid_result.cv_results_['std_test_score']\n",
        "params = grid_result.cv_results_['params']\n",
        "df_grid_gbr = pd.DataFrame({'n_estimators': params,\n",
        "                           'neg_mean_squared_error': means,\n",
        "                           'std': stds})\n",
        "\n",
        "print(\"Best: %f using %s\" % (grid_result.best_score_, grid_result.best_params_))\n",
        "pd.set_option('display.float_format', '{:,.10f}'.format)\n",
        "df_grid_gbr.sort_values('neg_mean_squared_error', ascending=False)"
      ],
      "execution_count": 27,
      "outputs": [
        {
          "output_type": "stream",
          "text": [
            "Best: -0.027719 using {'n_estimators': 1200}\n",
            "CPU times: user 10min 5s, sys: 64.9 ms, total: 10min 5s\n",
            "Wall time: 10min 6s\n"
          ],
          "name": "stdout"
        }
      ]
    },
    {
      "cell_type": "code",
      "metadata": {
        "id": "DDbNo-TgBvHW",
        "colab_type": "code",
        "outputId": "07b838f0-0d9b-4b95-af08-9432c1dd3bfb",
        "colab": {
          "base_uri": "https://localhost:8080/",
          "height": 34
        }
      },
      "source": [
        "n_estimators_best = grid_result.best_params_['n_estimators']\n",
        "n_estimators_best"
      ],
      "execution_count": 28,
      "outputs": [
        {
          "output_type": "execute_result",
          "data": {
            "text/plain": [
              "1200"
            ]
          },
          "metadata": {
            "tags": []
          },
          "execution_count": 28
        }
      ]
    },
    {
      "cell_type": "code",
      "metadata": {
        "ExecuteTime": {
          "end_time": "2019-09-29T01:41:57.045819Z",
          "start_time": "2019-09-29T01:41:55.049740Z"
        },
        "id": "QjO6_xc044qm",
        "colab_type": "code",
        "outputId": "d5335868-3cb5-4e84-afc2-f9654ad69fcd",
        "colab": {
          "base_uri": "https://localhost:8080/",
          "height": 70
        }
      },
      "source": [
        "%%time\n",
        "# I can do further grid search, but I will stop here.\n",
        "# Also, I only looked at one parameter, we need to look at more parameters.\n",
        "from sklearn.metrics import mean_squared_error\n",
        "\n",
        "\n",
        "model = GradientBoostingRegressor(random_state=random_state,\n",
        "                                  n_estimators=n_estimators_best)\n",
        "model.fit(Xtrain, ytrain)\n",
        "ypreds = model.predict(Xtest)\n",
        "print ('Test MSE on scaled data = ', mean_squared_error(ytest, ypreds))"
      ],
      "execution_count": 29,
      "outputs": [
        {
          "output_type": "stream",
          "text": [
            "Test MSE on scaled data =  0.025643993963277448\n",
            "CPU times: user 17.4 s, sys: 1.99 ms, total: 17.4 s\n",
            "Wall time: 17.4 s\n"
          ],
          "name": "stdout"
        }
      ]
    },
    {
      "cell_type": "code",
      "metadata": {
        "id": "_uM-npaKIMPx",
        "colab_type": "code",
        "outputId": "2e4536fe-f7e6-4ac5-a7ea-0f772e5a420c",
        "colab": {
          "base_uri": "https://localhost:8080/",
          "height": 263
        }
      },
      "source": [
        "show_method_attributes(model)   "
      ],
      "execution_count": 30,
      "outputs": [
        {
          "output_type": "stream",
          "text": [
            "Object Type: <class 'sklearn.ensemble.gradient_boosting.GradientBoostingRegressor'>\n",
            "\n"
          ],
          "name": "stdout"
        },
        {
          "output_type": "execute_result",
          "data": {
            "text/html": [
              "<div>\n",
              "<style scoped>\n",
              "    .dataframe tbody tr th:only-of-type {\n",
              "        vertical-align: middle;\n",
              "    }\n",
              "\n",
              "    .dataframe tbody tr th {\n",
              "        vertical-align: top;\n",
              "    }\n",
              "\n",
              "    .dataframe thead th {\n",
              "        text-align: right;\n",
              "    }\n",
              "</style>\n",
              "<table border=\"1\" class=\"dataframe\">\n",
              "  <thead>\n",
              "    <tr style=\"text-align: right;\">\n",
              "      <th></th>\n",
              "      <th>0</th>\n",
              "      <th>1</th>\n",
              "      <th>2</th>\n",
              "      <th>3</th>\n",
              "      <th>4</th>\n",
              "      <th>5</th>\n",
              "      <th>6</th>\n",
              "    </tr>\n",
              "  </thead>\n",
              "  <tbody>\n",
              "    <tr>\n",
              "      <th>0</th>\n",
              "      <td>alpha</td>\n",
              "      <td>get_params</td>\n",
              "      <td>max_depth</td>\n",
              "      <td>min_samples_leaf</td>\n",
              "      <td>n_estimators_</td>\n",
              "      <td>random_state</td>\n",
              "      <td>tol</td>\n",
              "    </tr>\n",
              "    <tr>\n",
              "      <th>1</th>\n",
              "      <td>apply</td>\n",
              "      <td>init</td>\n",
              "      <td>max_features</td>\n",
              "      <td>min_samples_split</td>\n",
              "      <td>n_features_</td>\n",
              "      <td>score</td>\n",
              "      <td>train_score_</td>\n",
              "    </tr>\n",
              "    <tr>\n",
              "      <th>2</th>\n",
              "      <td>criterion</td>\n",
              "      <td>init_</td>\n",
              "      <td>max_features_</td>\n",
              "      <td>min_weight_fraction_leaf</td>\n",
              "      <td>n_iter_no_change</td>\n",
              "      <td>set_params</td>\n",
              "      <td>validation_fraction</td>\n",
              "    </tr>\n",
              "    <tr>\n",
              "      <th>3</th>\n",
              "      <td>estimators_</td>\n",
              "      <td>learning_rate</td>\n",
              "      <td>max_leaf_nodes</td>\n",
              "      <td>n_classes_</td>\n",
              "      <td>predict</td>\n",
              "      <td>staged_predict</td>\n",
              "      <td>verbose</td>\n",
              "    </tr>\n",
              "    <tr>\n",
              "      <th>4</th>\n",
              "      <td>feature_importances_</td>\n",
              "      <td>loss</td>\n",
              "      <td>min_impurity_decrease</td>\n",
              "      <td>n_estimators</td>\n",
              "      <td>presort</td>\n",
              "      <td>subsample</td>\n",
              "      <td>warm_start</td>\n",
              "    </tr>\n",
              "    <tr>\n",
              "      <th>5</th>\n",
              "      <td>fit</td>\n",
              "      <td>loss_</td>\n",
              "      <td>min_impurity_split</td>\n",
              "      <td></td>\n",
              "      <td></td>\n",
              "      <td></td>\n",
              "      <td></td>\n",
              "    </tr>\n",
              "  </tbody>\n",
              "</table>\n",
              "</div>"
            ],
            "text/plain": [
              "                      0              1                      2  \\\n",
              "0                 alpha     get_params              max_depth   \n",
              "1                 apply           init           max_features   \n",
              "2             criterion          init_          max_features_   \n",
              "3           estimators_  learning_rate         max_leaf_nodes   \n",
              "4  feature_importances_           loss  min_impurity_decrease   \n",
              "5                   fit          loss_     min_impurity_split   \n",
              "\n",
              "                          3                 4               5  \\\n",
              "0          min_samples_leaf     n_estimators_    random_state   \n",
              "1         min_samples_split       n_features_           score   \n",
              "2  min_weight_fraction_leaf  n_iter_no_change      set_params   \n",
              "3                n_classes_           predict  staged_predict   \n",
              "4              n_estimators           presort       subsample   \n",
              "5                                                               \n",
              "\n",
              "                     6  \n",
              "0                  tol  \n",
              "1         train_score_  \n",
              "2  validation_fraction  \n",
              "3              verbose  \n",
              "4           warm_start  \n",
              "5                       "
            ]
          },
          "metadata": {
            "tags": []
          },
          "execution_count": 30
        }
      ]
    },
    {
      "cell_type": "code",
      "metadata": {
        "ExecuteTime": {
          "end_time": "2019-09-29T01:41:57.096183Z",
          "start_time": "2019-09-29T01:41:57.047647Z"
        },
        "id": "Tnfi74Ps44qo",
        "colab_type": "code",
        "outputId": "caaea8c9-0a76-4c50-fd8c-426e2074e069",
        "colab": {
          "base_uri": "https://localhost:8080/",
          "height": 34
        }
      },
      "source": [
        "r_squared = model.score(Xtest, ytest)\n",
        "print('r_squared = ', r_squared)"
      ],
      "execution_count": 31,
      "outputs": [
        {
          "output_type": "stream",
          "text": [
            "r_squared =  0.9085287411926323\n"
          ],
          "name": "stdout"
        }
      ]
    },
    {
      "cell_type": "code",
      "metadata": {
        "id": "MucHWHQIJdWR",
        "colab_type": "code",
        "outputId": "5c8c1334-0670-448b-ed05-92621bb5d984",
        "colab": {
          "base_uri": "https://localhost:8080/",
          "height": 52
        }
      },
      "source": [
        "def adjustedR2(rsquared,nrows,kcols):\n",
        "    return rsquared- (kcols-1)/(nrows-kcols) * (1-rsquared)\n",
        "\n",
        "\n",
        "r2 = sklearn.metrics.r2_score(ytest, ypreds)\n",
        "ar2 = adjustedR2(r2, Xtest.shape[0], Xtest.shape[1])\n",
        "\n",
        "print('r_squared   = ', r2)\n",
        "print('adjustedr2 = ', ar2)"
      ],
      "execution_count": 32,
      "outputs": [
        {
          "output_type": "stream",
          "text": [
            "r_squared   =  0.9085287411926322\n",
            "adjustedr2 =  0.9081675306468191\n"
          ],
          "name": "stdout"
        }
      ]
    },
    {
      "cell_type": "code",
      "metadata": {
        "id": "m9e2fDVfKp6b",
        "colab_type": "code",
        "outputId": "9148a35c-b296-4d0e-92df-1cfb341e9146",
        "colab": {
          "base_uri": "https://localhost:8080/",
          "height": 197
        }
      },
      "source": [
        "df_preds = pd.DataFrame({'y_test': ytest,\n",
        "                        'y_pred' : ypreds,\n",
        "                        })\n",
        "\n",
        "df_preds.head()"
      ],
      "execution_count": 33,
      "outputs": [
        {
          "output_type": "execute_result",
          "data": {
            "text/html": [
              "<div>\n",
              "<style scoped>\n",
              "    .dataframe tbody tr th:only-of-type {\n",
              "        vertical-align: middle;\n",
              "    }\n",
              "\n",
              "    .dataframe tbody tr th {\n",
              "        vertical-align: top;\n",
              "    }\n",
              "\n",
              "    .dataframe thead th {\n",
              "        text-align: right;\n",
              "    }\n",
              "</style>\n",
              "<table border=\"1\" class=\"dataframe\">\n",
              "  <thead>\n",
              "    <tr style=\"text-align: right;\">\n",
              "      <th></th>\n",
              "      <th>y_test</th>\n",
              "      <th>y_pred</th>\n",
              "    </tr>\n",
              "  </thead>\n",
              "  <tbody>\n",
              "    <tr>\n",
              "      <th>0</th>\n",
              "      <td>12.5602479680</td>\n",
              "      <td>12.7795806346</td>\n",
              "    </tr>\n",
              "    <tr>\n",
              "      <th>1</th>\n",
              "      <td>12.3881900148</td>\n",
              "      <td>12.2345561363</td>\n",
              "    </tr>\n",
              "    <tr>\n",
              "      <th>2</th>\n",
              "      <td>13.0389839424</td>\n",
              "      <td>13.1265819435</td>\n",
              "    </tr>\n",
              "    <tr>\n",
              "      <th>3</th>\n",
              "      <td>12.8929527288</td>\n",
              "      <td>13.1087008760</td>\n",
              "    </tr>\n",
              "    <tr>\n",
              "      <th>4</th>\n",
              "      <td>13.2085429085</td>\n",
              "      <td>13.2583263798</td>\n",
              "    </tr>\n",
              "  </tbody>\n",
              "</table>\n",
              "</div>"
            ],
            "text/plain": [
              "         y_test        y_pred\n",
              "0 12.5602479680 12.7795806346\n",
              "1 12.3881900148 12.2345561363\n",
              "2 13.0389839424 13.1265819435\n",
              "3 12.8929527288 13.1087008760\n",
              "4 13.2085429085 13.2583263798"
            ]
          },
          "metadata": {
            "tags": []
          },
          "execution_count": 33
        }
      ]
    },
    {
      "cell_type": "code",
      "metadata": {
        "ExecuteTime": {
          "end_time": "2019-09-29T01:41:57.145792Z",
          "start_time": "2019-09-29T01:41:57.099416Z"
        },
        "id": "Wn3koLiS44qs",
        "colab_type": "code",
        "outputId": "62c8c3d1-6b32-46ef-e06c-2b674d0f20b2",
        "colab": {
          "base_uri": "https://localhost:8080/",
          "height": 355
        }
      },
      "source": [
        "df_imp = pd.DataFrame({'Feature': features_raw_all,\n",
        "                       'Importance': model.feature_importances_\n",
        "                       }) \n",
        "\n",
        "df_imp.sort_values('Importance').style.background_gradient(subset=['Importance'])"
      ],
      "execution_count": 34,
      "outputs": [
        {
          "output_type": "execute_result",
          "data": {
            "text/html": [
              "<style  type=\"text/css\" >\n",
              "    #T_a7277b8a_0a85_11ea_9bfb_0242ac1c0002row0_col1 {\n",
              "            background-color:  #fff7fb;\n",
              "            color:  #000000;\n",
              "        }    #T_a7277b8a_0a85_11ea_9bfb_0242ac1c0002row1_col1 {\n",
              "            background-color:  #fff7fb;\n",
              "            color:  #000000;\n",
              "        }    #T_a7277b8a_0a85_11ea_9bfb_0242ac1c0002row2_col1 {\n",
              "            background-color:  #fff7fb;\n",
              "            color:  #000000;\n",
              "        }    #T_a7277b8a_0a85_11ea_9bfb_0242ac1c0002row3_col1 {\n",
              "            background-color:  #fef6fb;\n",
              "            color:  #000000;\n",
              "        }    #T_a7277b8a_0a85_11ea_9bfb_0242ac1c0002row4_col1 {\n",
              "            background-color:  #fef6fa;\n",
              "            color:  #000000;\n",
              "        }    #T_a7277b8a_0a85_11ea_9bfb_0242ac1c0002row5_col1 {\n",
              "            background-color:  #fcf4fa;\n",
              "            color:  #000000;\n",
              "        }    #T_a7277b8a_0a85_11ea_9bfb_0242ac1c0002row6_col1 {\n",
              "            background-color:  #fcf4fa;\n",
              "            color:  #000000;\n",
              "        }    #T_a7277b8a_0a85_11ea_9bfb_0242ac1c0002row7_col1 {\n",
              "            background-color:  #fbf4f9;\n",
              "            color:  #000000;\n",
              "        }    #T_a7277b8a_0a85_11ea_9bfb_0242ac1c0002row8_col1 {\n",
              "            background-color:  #fbf4f9;\n",
              "            color:  #000000;\n",
              "        }    #T_a7277b8a_0a85_11ea_9bfb_0242ac1c0002row9_col1 {\n",
              "            background-color:  #faf3f9;\n",
              "            color:  #000000;\n",
              "        }    #T_a7277b8a_0a85_11ea_9bfb_0242ac1c0002row10_col1 {\n",
              "            background-color:  #f8f1f8;\n",
              "            color:  #000000;\n",
              "        }    #T_a7277b8a_0a85_11ea_9bfb_0242ac1c0002row11_col1 {\n",
              "            background-color:  #f6eff7;\n",
              "            color:  #000000;\n",
              "        }    #T_a7277b8a_0a85_11ea_9bfb_0242ac1c0002row12_col1 {\n",
              "            background-color:  #f4eef6;\n",
              "            color:  #000000;\n",
              "        }    #T_a7277b8a_0a85_11ea_9bfb_0242ac1c0002row13_col1 {\n",
              "            background-color:  #f2ecf5;\n",
              "            color:  #000000;\n",
              "        }    #T_a7277b8a_0a85_11ea_9bfb_0242ac1c0002row14_col1 {\n",
              "            background-color:  #f0eaf4;\n",
              "            color:  #000000;\n",
              "        }    #T_a7277b8a_0a85_11ea_9bfb_0242ac1c0002row15_col1 {\n",
              "            background-color:  #045c90;\n",
              "            color:  #f1f1f1;\n",
              "        }    #T_a7277b8a_0a85_11ea_9bfb_0242ac1c0002row16_col1 {\n",
              "            background-color:  #045788;\n",
              "            color:  #f1f1f1;\n",
              "        }    #T_a7277b8a_0a85_11ea_9bfb_0242ac1c0002row17_col1 {\n",
              "            background-color:  #023858;\n",
              "            color:  #f1f1f1;\n",
              "        }</style><table id=\"T_a7277b8a_0a85_11ea_9bfb_0242ac1c0002\" ><thead>    <tr>        <th class=\"blank level0\" ></th>        <th class=\"col_heading level0 col0\" >Feature</th>        <th class=\"col_heading level0 col1\" >Importance</th>    </tr></thead><tbody>\n",
              "                <tr>\n",
              "                        <th id=\"T_a7277b8a_0a85_11ea_9bfb_0242ac1c0002level0_row0\" class=\"row_heading level0 row0\" >4</th>\n",
              "                        <td id=\"T_a7277b8a_0a85_11ea_9bfb_0242ac1c0002row0_col0\" class=\"data row0 col0\" >floors</td>\n",
              "                        <td id=\"T_a7277b8a_0a85_11ea_9bfb_0242ac1c0002row0_col1\" class=\"data row0 col1\" >0.000536463</td>\n",
              "            </tr>\n",
              "            <tr>\n",
              "                        <th id=\"T_a7277b8a_0a85_11ea_9bfb_0242ac1c0002level0_row1\" class=\"row_heading level0 row1\" >0</th>\n",
              "                        <td id=\"T_a7277b8a_0a85_11ea_9bfb_0242ac1c0002row1_col0\" class=\"data row1 col0\" >bedrooms</td>\n",
              "                        <td id=\"T_a7277b8a_0a85_11ea_9bfb_0242ac1c0002row1_col1\" class=\"data row1 col1\" >0.000963564</td>\n",
              "            </tr>\n",
              "            <tr>\n",
              "                        <th id=\"T_a7277b8a_0a85_11ea_9bfb_0242ac1c0002level0_row2\" class=\"row_heading level0 row2\" >12</th>\n",
              "                        <td id=\"T_a7277b8a_0a85_11ea_9bfb_0242ac1c0002row2_col0\" class=\"data row2 col0\" >yr_renovated</td>\n",
              "                        <td id=\"T_a7277b8a_0a85_11ea_9bfb_0242ac1c0002row2_col1\" class=\"data row2 col1\" >0.00168729</td>\n",
              "            </tr>\n",
              "            <tr>\n",
              "                        <th id=\"T_a7277b8a_0a85_11ea_9bfb_0242ac1c0002level0_row3\" class=\"row_heading level0 row3\" >10</th>\n",
              "                        <td id=\"T_a7277b8a_0a85_11ea_9bfb_0242ac1c0002row3_col0\" class=\"data row3 col0\" >sqft_basement</td>\n",
              "                        <td id=\"T_a7277b8a_0a85_11ea_9bfb_0242ac1c0002row3_col1\" class=\"data row3 col1\" >0.00181538</td>\n",
              "            </tr>\n",
              "            <tr>\n",
              "                        <th id=\"T_a7277b8a_0a85_11ea_9bfb_0242ac1c0002level0_row4\" class=\"row_heading level0 row4\" >1</th>\n",
              "                        <td id=\"T_a7277b8a_0a85_11ea_9bfb_0242ac1c0002row4_col0\" class=\"data row4 col0\" >bathrooms</td>\n",
              "                        <td id=\"T_a7277b8a_0a85_11ea_9bfb_0242ac1c0002row4_col1\" class=\"data row4 col1\" >0.00354188</td>\n",
              "            </tr>\n",
              "            <tr>\n",
              "                        <th id=\"T_a7277b8a_0a85_11ea_9bfb_0242ac1c0002level0_row5\" class=\"row_heading level0 row5\" >7</th>\n",
              "                        <td id=\"T_a7277b8a_0a85_11ea_9bfb_0242ac1c0002row5_col0\" class=\"data row5 col0\" >condition</td>\n",
              "                        <td id=\"T_a7277b8a_0a85_11ea_9bfb_0242ac1c0002row5_col1\" class=\"data row5 col1\" >0.00678444</td>\n",
              "            </tr>\n",
              "            <tr>\n",
              "                        <th id=\"T_a7277b8a_0a85_11ea_9bfb_0242ac1c0002level0_row6\" class=\"row_heading level0 row6\" >17</th>\n",
              "                        <td id=\"T_a7277b8a_0a85_11ea_9bfb_0242ac1c0002row6_col0\" class=\"data row6 col0\" >sqft_lot15</td>\n",
              "                        <td id=\"T_a7277b8a_0a85_11ea_9bfb_0242ac1c0002row6_col1\" class=\"data row6 col1\" >0.00744306</td>\n",
              "            </tr>\n",
              "            <tr>\n",
              "                        <th id=\"T_a7277b8a_0a85_11ea_9bfb_0242ac1c0002level0_row7\" class=\"row_heading level0 row7\" >5</th>\n",
              "                        <td id=\"T_a7277b8a_0a85_11ea_9bfb_0242ac1c0002row7_col0\" class=\"data row7 col0\" >waterfront</td>\n",
              "                        <td id=\"T_a7277b8a_0a85_11ea_9bfb_0242ac1c0002row7_col1\" class=\"data row7 col1\" >0.00803743</td>\n",
              "            </tr>\n",
              "            <tr>\n",
              "                        <th id=\"T_a7277b8a_0a85_11ea_9bfb_0242ac1c0002level0_row8\" class=\"row_heading level0 row8\" >9</th>\n",
              "                        <td id=\"T_a7277b8a_0a85_11ea_9bfb_0242ac1c0002row8_col0\" class=\"data row8 col0\" >sqft_above</td>\n",
              "                        <td id=\"T_a7277b8a_0a85_11ea_9bfb_0242ac1c0002row8_col1\" class=\"data row8 col1\" >0.00841589</td>\n",
              "            </tr>\n",
              "            <tr>\n",
              "                        <th id=\"T_a7277b8a_0a85_11ea_9bfb_0242ac1c0002level0_row9\" class=\"row_heading level0 row9\" >3</th>\n",
              "                        <td id=\"T_a7277b8a_0a85_11ea_9bfb_0242ac1c0002row9_col0\" class=\"data row9 col0\" >sqft_lot</td>\n",
              "                        <td id=\"T_a7277b8a_0a85_11ea_9bfb_0242ac1c0002row9_col1\" class=\"data row9 col1\" >0.0109287</td>\n",
              "            </tr>\n",
              "            <tr>\n",
              "                        <th id=\"T_a7277b8a_0a85_11ea_9bfb_0242ac1c0002level0_row10\" class=\"row_heading level0 row10\" >13</th>\n",
              "                        <td id=\"T_a7277b8a_0a85_11ea_9bfb_0242ac1c0002row10_col0\" class=\"data row10 col0\" >zipcode</td>\n",
              "                        <td id=\"T_a7277b8a_0a85_11ea_9bfb_0242ac1c0002row10_col1\" class=\"data row10 col1\" >0.0145774</td>\n",
              "            </tr>\n",
              "            <tr>\n",
              "                        <th id=\"T_a7277b8a_0a85_11ea_9bfb_0242ac1c0002level0_row11\" class=\"row_heading level0 row11\" >6</th>\n",
              "                        <td id=\"T_a7277b8a_0a85_11ea_9bfb_0242ac1c0002row11_col0\" class=\"data row11 col0\" >view</td>\n",
              "                        <td id=\"T_a7277b8a_0a85_11ea_9bfb_0242ac1c0002row11_col1\" class=\"data row11 col1\" >0.0192044</td>\n",
              "            </tr>\n",
              "            <tr>\n",
              "                        <th id=\"T_a7277b8a_0a85_11ea_9bfb_0242ac1c0002level0_row12\" class=\"row_heading level0 row12\" >11</th>\n",
              "                        <td id=\"T_a7277b8a_0a85_11ea_9bfb_0242ac1c0002row12_col0\" class=\"data row12 col0\" >yr_built</td>\n",
              "                        <td id=\"T_a7277b8a_0a85_11ea_9bfb_0242ac1c0002row12_col1\" class=\"data row12 col1\" >0.022047</td>\n",
              "            </tr>\n",
              "            <tr>\n",
              "                        <th id=\"T_a7277b8a_0a85_11ea_9bfb_0242ac1c0002level0_row13\" class=\"row_heading level0 row13\" >16</th>\n",
              "                        <td id=\"T_a7277b8a_0a85_11ea_9bfb_0242ac1c0002row13_col0\" class=\"data row13 col0\" >sqft_living15</td>\n",
              "                        <td id=\"T_a7277b8a_0a85_11ea_9bfb_0242ac1c0002row13_col1\" class=\"data row13 col1\" >0.0278152</td>\n",
              "            </tr>\n",
              "            <tr>\n",
              "                        <th id=\"T_a7277b8a_0a85_11ea_9bfb_0242ac1c0002level0_row14\" class=\"row_heading level0 row14\" >15</th>\n",
              "                        <td id=\"T_a7277b8a_0a85_11ea_9bfb_0242ac1c0002row14_col0\" class=\"data row14 col0\" >long</td>\n",
              "                        <td id=\"T_a7277b8a_0a85_11ea_9bfb_0242ac1c0002row14_col1\" class=\"data row14 col1\" >0.0304903</td>\n",
              "            </tr>\n",
              "            <tr>\n",
              "                        <th id=\"T_a7277b8a_0a85_11ea_9bfb_0242ac1c0002level0_row15\" class=\"row_heading level0 row15\" >2</th>\n",
              "                        <td id=\"T_a7277b8a_0a85_11ea_9bfb_0242ac1c0002row15_col0\" class=\"data row15 col0\" >sqft_living</td>\n",
              "                        <td id=\"T_a7277b8a_0a85_11ea_9bfb_0242ac1c0002row15_col1\" class=\"data row15 col1\" >0.26218</td>\n",
              "            </tr>\n",
              "            <tr>\n",
              "                        <th id=\"T_a7277b8a_0a85_11ea_9bfb_0242ac1c0002level0_row16\" class=\"row_heading level0 row16\" >8</th>\n",
              "                        <td id=\"T_a7277b8a_0a85_11ea_9bfb_0242ac1c0002row16_col0\" class=\"data row16 col0\" >grade</td>\n",
              "                        <td id=\"T_a7277b8a_0a85_11ea_9bfb_0242ac1c0002row16_col1\" class=\"data row16 col1\" >0.269238</td>\n",
              "            </tr>\n",
              "            <tr>\n",
              "                        <th id=\"T_a7277b8a_0a85_11ea_9bfb_0242ac1c0002level0_row17\" class=\"row_heading level0 row17\" >14</th>\n",
              "                        <td id=\"T_a7277b8a_0a85_11ea_9bfb_0242ac1c0002row17_col0\" class=\"data row17 col0\" >lat</td>\n",
              "                        <td id=\"T_a7277b8a_0a85_11ea_9bfb_0242ac1c0002row17_col1\" class=\"data row17 col1\" >0.304293</td>\n",
              "            </tr>\n",
              "    </tbody></table>"
            ],
            "text/plain": [
              "<pandas.io.formats.style.Styler at 0x7f83a6e72b38>"
            ]
          },
          "metadata": {
            "tags": []
          },
          "execution_count": 34
        }
      ]
    },
    {
      "cell_type": "code",
      "metadata": {
        "id": "SxIJjalh44q2",
        "colab_type": "code",
        "outputId": "dc35a34d-5c90-43f4-88a3-90afed9fb97a",
        "colab": {
          "base_uri": "https://localhost:8080/",
          "height": 502
        }
      },
      "source": [
        "df_imp.sort_values('Importance').set_index('Feature').sort_values('Importance').plot.barh(figsize=(12,8))"
      ],
      "execution_count": 35,
      "outputs": [
        {
          "output_type": "execute_result",
          "data": {
            "text/plain": [
              "<matplotlib.axes._subplots.AxesSubplot at 0x7f83a6904ba8>"
            ]
          },
          "metadata": {
            "tags": []
          },
          "execution_count": 35
        },
        {
          "output_type": "display_data",
          "data": {
            "image/png": "[encoded data removed]",
            "text/plain": [
              "<Figure size 864x576 with 1 Axes>"
            ]
          },
          "metadata": {
            "tags": []
          }
        }
      ]
    },
    {
      "cell_type": "markdown",
      "metadata": {
        "id": "dIcC9nF-N0Fq",
        "colab_type": "text"
      },
      "source": [
        "# Hyper Parameter using hyperopt-sklearn for Gradient Boosting Regressor\n",
        "References: \n",
        "- http://hyperopt.github.io/hyperopt-sklearn/\n",
        "- https://github.com/hyperopt/hyperopt-sklearn"
      ]
    },
    {
      "cell_type": "markdown",
      "metadata": {
        "id": "xTdaqW1Fv4oc",
        "colab_type": "text"
      },
      "source": [
        "# Scale data for hyperparameter tuning\n",
        "For sklearn we used pipeline with scaling, now for tuning hyperparameter using \n",
        "hyperopt, we need to scale them."
      ]
    },
    {
      "cell_type": "code",
      "metadata": {
        "id": "QLsc4f6owHr8",
        "colab_type": "code",
        "colab": {}
      },
      "source": [
        "scaler = StandardScaler()\n",
        "scaler.fit(Xtrain)\n",
        "\n",
        "Xtrain_scaled = scaler.transform(Xtrain)\n",
        "Xtest_scaled = scaler.transform(Xtest)"
      ],
      "execution_count": 0,
      "outputs": []
    },
    {
      "cell_type": "code",
      "metadata": {
        "id": "hwawzrpROVuM",
        "colab_type": "code",
        "colab": {}
      },
      "source": [
        "# from hpsklearn import HyperoptEstimator, any_regressor\n",
        "# from hyperopt import tpe\n",
        "# estim = HyperoptEstimator(regressor=any_regressor('regressor'),  \n",
        "#                             algo=tpe.suggest, trial_timeout=300)\n",
        "\n",
        "# estim.fit(Xtrain_scaled, ytrain )\n",
        "\n",
        "# print(estim.score(Xtest_scaled, ytest ) )\n",
        "# print(estim.best_model() )\n",
        "\n",
        "# Official example fails:\n",
        "#\n",
        "# ---> 95     return sklearn.linear_model.SGDRegressor(*args, **kwargs)\n",
        "# TypeError: __init__() got an unexpected keyword argument 'n_iter'"
      ],
      "execution_count": 0,
      "outputs": []
    },
    {
      "cell_type": "code",
      "metadata": {
        "id": "d_QNbsUrPPeJ",
        "colab_type": "code",
        "colab": {}
      },
      "source": [
        "# %%time\n",
        "# from hpsklearn import gradient_boosting_regression\n",
        "# from hpsklearn import HyperoptEstimator, any_regressor\n",
        "# from hyperopt import tpe\n",
        "\n",
        "# estim = HyperoptEstimator(regressor=gradient_boosting_regression('gbr'),  \n",
        "#                             algo=tpe.suggest, trial_timeout=300)\n",
        "\n",
        "# estim.fit(Xtrain_scaled, ytrain )\n",
        "\n",
        "# print(estim.score(Xtest_scaled, ytest ) )\n",
        "# print(estim.best_model() )\n",
        "\n",
        "# scaled data gives fitting error\n",
        "# ValueError: attempt to get argmin of an empty sequence"
      ],
      "execution_count": 0,
      "outputs": []
    },
    {
      "cell_type": "code",
      "metadata": {
        "id": "Jvdfdt1jylLs",
        "colab_type": "code",
        "outputId": "8a2b1b5a-db43-4fdb-bc3c-8fe5484af49a",
        "colab": {
          "base_uri": "https://localhost:8080/",
          "height": 445
        }
      },
      "source": [
        "from hpsklearn import gradient_boosting_regression\n",
        "from hpsklearn import HyperoptEstimator, any_regressor\n",
        "from hyperopt import tpe\n",
        "\n",
        "estim = HyperoptEstimator(regressor=gradient_boosting_regression('gbr'),  \n",
        "                            algo=tpe.suggest, trial_timeout=300)\n",
        "\n",
        "estim.fit(Xtrain, ytrain )\n",
        "\n",
        "print(estim.score(Xtest, ytest ) )\n",
        "print(estim.best_model() )"
      ],
      "execution_count": 39,
      "outputs": [
        {
          "output_type": "stream",
          "text": [
            "WARN: OMP_NUM_THREADS=None =>\n",
            "... If you are using openblas if you are using openblas set OMP_NUM_THREADS=1 or risk subprocess calls hanging indefinitely\n",
            "100%|██████████| 1/1 [00:03<00:00,  3.24s/it, best loss: 0.4098841088459799]\n",
            "100%|██████████| 1/1 [01:34<00:00, 94.59s/it, best loss: 0.4098841088459799]\n",
            "100%|██████████| 1/1 [00:05<00:00,  5.94s/it, best loss: 0.4098841088459799]\n",
            "100%|██████████| 1/1 [05:00<00:00, 300.13s/it, best loss: 0.4098841088459799]\n",
            "100%|██████████| 1/1 [00:02<00:00,  2.47s/it, best loss: 0.3616076393294052]\n",
            "100%|██████████| 1/1 [00:40<00:00, 40.23s/it, best loss: 0.2574011641441949]\n",
            "100%|██████████| 1/1 [00:00<00:00,  1.16it/s, best loss: 0.2574011641441949]\n",
            "100%|██████████| 1/1 [00:00<00:00,  5.19it/s, best loss: 0.2574011641441949]\n",
            "100%|██████████| 1/1 [01:21<00:00, 81.89s/it, best loss: 0.10502638439188017]\n",
            "100%|██████████| 1/1 [00:00<00:00,  1.49it/s, best loss: 0.10502638439188017]\n",
            "0.8297883148727474\n",
            "{'learner': GradientBoostingRegressor(alpha=0.5, criterion='friedman_mse', init=None,\n",
            "                          learning_rate=0.030436296469075703, loss='quantile',\n",
            "                          max_depth=None, max_features=0.8340107985008011,\n",
            "                          max_leaf_nodes=None, min_impurity_decrease=0.0,\n",
            "                          min_impurity_split=None, min_samples_leaf=3,\n",
            "                          min_samples_split=2, min_weight_fraction_leaf=0.0,\n",
            "                          n_estimators=245, n_iter_no_change=None,\n",
            "                          presort='auto', random_state=3,\n",
            "                          subsample=0.5131351702909814, tol=0.0001,\n",
            "                          validation_fraction=0.1, verbose=0, warm_start=False), 'preprocs': (MinMaxScaler(copy=True, feature_range=(-1.0, 1.0)),), 'ex_preprocs': ()}\n"
          ],
          "name": "stdout"
        }
      ]
    },
    {
      "cell_type": "code",
      "metadata": {
        "id": "6HhBQs4eRm5T",
        "colab_type": "code",
        "outputId": "4b162a81-f2d8-41ac-92d8-50da34c75e76",
        "colab": {
          "base_uri": "https://localhost:8080/",
          "height": 203
        }
      },
      "source": [
        "show_method_attributes(estim)"
      ],
      "execution_count": 40,
      "outputs": [
        {
          "output_type": "stream",
          "text": [
            "Object Type: <class 'hpsklearn.estimator.hyperopt_estimator'>\n",
            "\n"
          ],
          "name": "stdout"
        },
        {
          "output_type": "execute_result",
          "data": {
            "text/html": [
              "<div>\n",
              "<style scoped>\n",
              "    .dataframe tbody tr th:only-of-type {\n",
              "        vertical-align: middle;\n",
              "    }\n",
              "\n",
              "    .dataframe tbody tr th {\n",
              "        vertical-align: top;\n",
              "    }\n",
              "\n",
              "    .dataframe thead th {\n",
              "        text-align: right;\n",
              "    }\n",
              "</style>\n",
              "<table border=\"1\" class=\"dataframe\">\n",
              "  <thead>\n",
              "    <tr style=\"text-align: right;\">\n",
              "      <th></th>\n",
              "      <th>0</th>\n",
              "      <th>1</th>\n",
              "      <th>2</th>\n",
              "      <th>3</th>\n",
              "      <th>4</th>\n",
              "      <th>5</th>\n",
              "      <th>6</th>\n",
              "    </tr>\n",
              "  </thead>\n",
              "  <tbody>\n",
              "    <tr>\n",
              "      <th>0</th>\n",
              "      <td>algo</td>\n",
              "      <td>fit_increment</td>\n",
              "      <td>info</td>\n",
              "      <td>n_ex_pps</td>\n",
              "      <td>rstate</td>\n",
              "      <td>set_params</td>\n",
              "      <td>trials</td>\n",
              "    </tr>\n",
              "    <tr>\n",
              "      <th>1</th>\n",
              "      <td>best_model</td>\n",
              "      <td>fit_increment_dump_filename</td>\n",
              "      <td>loss_fn</td>\n",
              "      <td>predict</td>\n",
              "      <td>score</td>\n",
              "      <td>space</td>\n",
              "      <td>use_partial_fit</td>\n",
              "    </tr>\n",
              "    <tr>\n",
              "      <th>2</th>\n",
              "      <td>classification</td>\n",
              "      <td>fit_iter</td>\n",
              "      <td>max_evals</td>\n",
              "      <td>retrain_best_model_on_full_data</td>\n",
              "      <td>seed</td>\n",
              "      <td>trial_timeout</td>\n",
              "      <td>verbose</td>\n",
              "    </tr>\n",
              "    <tr>\n",
              "      <th>3</th>\n",
              "      <td>fit</td>\n",
              "      <td>get_params</td>\n",
              "      <td></td>\n",
              "      <td></td>\n",
              "      <td></td>\n",
              "      <td></td>\n",
              "      <td></td>\n",
              "    </tr>\n",
              "  </tbody>\n",
              "</table>\n",
              "</div>"
            ],
            "text/plain": [
              "                0                            1          2  \\\n",
              "0            algo                fit_increment       info   \n",
              "1      best_model  fit_increment_dump_filename    loss_fn   \n",
              "2  classification                     fit_iter  max_evals   \n",
              "3             fit                   get_params              \n",
              "\n",
              "                                 3       4              5                6  \n",
              "0                         n_ex_pps  rstate     set_params           trials  \n",
              "1                          predict   score          space  use_partial_fit  \n",
              "2  retrain_best_model_on_full_data    seed  trial_timeout          verbose  \n",
              "3                                                                           "
            ]
          },
          "metadata": {
            "tags": []
          },
          "execution_count": 40
        }
      ]
    },
    {
      "cell_type": "code",
      "metadata": {
        "id": "VOa7lHBfZ8oc",
        "colab_type": "code",
        "outputId": "0ba3aebc-b28d-4c3f-ea60-7d923f603bea",
        "colab": {
          "base_uri": "https://localhost:8080/",
          "height": 194
        }
      },
      "source": [
        "best_model = estim.best_model()['learner']\n",
        "best_model"
      ],
      "execution_count": 41,
      "outputs": [
        {
          "output_type": "execute_result",
          "data": {
            "text/plain": [
              "GradientBoostingRegressor(alpha=0.5, criterion='friedman_mse', init=None,\n",
              "                          learning_rate=0.030436296469075703, loss='quantile',\n",
              "                          max_depth=None, max_features=0.8340107985008011,\n",
              "                          max_leaf_nodes=None, min_impurity_decrease=0.0,\n",
              "                          min_impurity_split=None, min_samples_leaf=3,\n",
              "                          min_samples_split=2, min_weight_fraction_leaf=0.0,\n",
              "                          n_estimators=245, n_iter_no_change=None,\n",
              "                          presort='auto', random_state=3,\n",
              "                          subsample=0.5131351702909814, tol=0.0001,\n",
              "                          validation_fraction=0.1, verbose=0, warm_start=False)"
            ]
          },
          "metadata": {
            "tags": []
          },
          "execution_count": 41
        }
      ]
    },
    {
      "cell_type": "code",
      "metadata": {
        "id": "IAp8TYPtaJP3",
        "colab_type": "code",
        "outputId": "0dd6cc97-7c9e-4e6a-8cc5-3967c10f6d7c",
        "colab": {
          "base_uri": "https://localhost:8080/",
          "height": 105
        }
      },
      "source": [
        "%%time\n",
        "best_model.fit(Xtrain, ytrain)\n",
        "\n",
        "ypreds = best_model.predict(Xtest)\n",
        "\n",
        "r2 = sklearn.metrics.r2_score(ytest, ypreds)\n",
        "ar2 = adjustedR2(r2, Xtest.shape[0], Xtest.shape[1])\n",
        "\n",
        "print ('Test MSE = ', mean_squared_error(ytest, ypreds))\n",
        "print('r_squared   = ', r2)\n",
        "print('adjustedr2 = ', ar2)"
      ],
      "execution_count": 42,
      "outputs": [
        {
          "output_type": "stream",
          "text": [
            "Test MSE =  0.02724777601038427\n",
            "r_squared   =  0.9028081048942618\n",
            "adjustedr2 =  0.9024243041470382\n",
            "CPU times: user 1min 56s, sys: 40 ms, total: 1min 56s\n",
            "Wall time: 1min 56s\n"
          ],
          "name": "stdout"
        }
      ]
    },
    {
      "cell_type": "code",
      "metadata": {
        "id": "Jdcv-09jaUrz",
        "colab_type": "code",
        "colab": {}
      },
      "source": [
        "# when I scale the data for hyperopt for lgb, it fails\n",
        "# when I do not scale the data, it gives very low performance   adj-r2 = 0.8889\n",
        "# but, I already have best adj-r2 = 0.90"
      ],
      "execution_count": 0,
      "outputs": []
    },
    {
      "cell_type": "code",
      "metadata": {
        "id": "c-LiXDE1zBSW",
        "colab_type": "code",
        "colab": {}
      },
      "source": [
        ""
      ],
      "execution_count": 0,
      "outputs": []
    }
  ]
}