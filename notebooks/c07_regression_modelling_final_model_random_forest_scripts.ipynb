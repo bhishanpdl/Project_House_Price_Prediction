{
 "cells": [
  {
   "cell_type": "markdown",
   "metadata": {
    "hideCode": false,
    "hidePrompt": false,
    "toc": "true"
   },
   "source": [
    "<h1>Table of Contents<span class=\"tocSkip\"></span></h1>\n",
    "<div class=\"toc\"><ul class=\"toc-item\"><li><span><a href=\"#Modelling-with-Polynomial-Features-and-Select-Kbest\" data-toc-modified-id=\"Modelling-with-Polynomial-Features-and-Select-Kbest-1\"><span class=\"toc-item-num\">1&nbsp;&nbsp;</span>Modelling with Polynomial Features and Select Kbest</a></span></li><li><span><a href=\"#Imports\" data-toc-modified-id=\"Imports-2\"><span class=\"toc-item-num\">2&nbsp;&nbsp;</span>Imports</a></span></li><li><span><a href=\"#Useful-Scripts\" data-toc-modified-id=\"Useful-Scripts-3\"><span class=\"toc-item-num\">3&nbsp;&nbsp;</span>Useful Scripts</a></span></li><li><span><a href=\"#Load-the-data\" data-toc-modified-id=\"Load-the-data-4\"><span class=\"toc-item-num\">4&nbsp;&nbsp;</span>Load the data</a></span></li><li><span><a href=\"#Select-features-from-cleaned-data\" data-toc-modified-id=\"Select-features-from-cleaned-data-5\"><span class=\"toc-item-num\">5&nbsp;&nbsp;</span>Select features from cleaned data</a></span></li><li><span><a href=\"#Add-polynomial-interaction-features\" data-toc-modified-id=\"Add-polynomial-interaction-features-6\"><span class=\"toc-item-num\">6&nbsp;&nbsp;</span>Add polynomial interaction features</a></span></li><li><span><a href=\"#Train-Test-split\" data-toc-modified-id=\"Train-Test-split-7\"><span class=\"toc-item-num\">7&nbsp;&nbsp;</span>Train Test split</a></span></li><li><span><a href=\"#Select-k-best-features\" data-toc-modified-id=\"Select-k-best-features-8\"><span class=\"toc-item-num\">8&nbsp;&nbsp;</span>Select k best features</a></span></li><li><span><a href=\"#Regression-Modelling\" data-toc-modified-id=\"Regression-Modelling-9\"><span class=\"toc-item-num\">9&nbsp;&nbsp;</span>Regression Modelling</a></span></li><li><span><a href=\"#Single-Script\" data-toc-modified-id=\"Single-Script-10\"><span class=\"toc-item-num\">10&nbsp;&nbsp;</span>Single Script</a></span></li></ul></div>"
   ]
  },
  {
   "cell_type": "markdown",
   "metadata": {
    "hideCode": false,
    "hidePrompt": false
   },
   "source": [
    "# Modelling with Polynomial Features and Select Kbest"
   ]
  },
  {
   "cell_type": "markdown",
   "metadata": {},
   "source": [
    "# Imports"
   ]
  },
  {
   "cell_type": "code",
   "execution_count": 42,
   "metadata": {
    "ExecuteTime": {
     "end_time": "2019-10-22T22:11:42.730114Z",
     "start_time": "2019-10-22T22:11:42.725634Z"
    },
    "hideCode": false,
    "hidePrompt": false
   },
   "outputs": [],
   "source": [
    "import numpy as np\n",
    "import pandas as pd\n",
    "\n",
    "import os\n",
    "import time\n",
    "import collections\n",
    "import itertools\n",
    "\n",
    "import sklearn\n",
    "from sklearn.preprocessing import StandardScaler\n",
    "from sklearn.model_selection import train_test_split\n",
    "from sklearn.metrics import mean_squared_error\n",
    "from sklearn.model_selection import cross_val_score\n",
    "\n",
    "from sklearn.linear_model import LinearRegression\n",
    "from sklearn.ensemble import RandomForestRegressor\n",
    "\n",
    "# random state\n",
    "random_state=100\n",
    "np.random.seed=random_state\n",
    "np.random.set_state=random_state"
   ]
  },
  {
   "cell_type": "markdown",
   "metadata": {},
   "source": [
    "# Useful Scripts"
   ]
  },
  {
   "cell_type": "code",
   "execution_count": 27,
   "metadata": {
    "ExecuteTime": {
     "end_time": "2019-10-22T21:32:46.388454Z",
     "start_time": "2019-10-22T21:32:46.384947Z"
    },
    "hideCode": false,
    "hidePrompt": false
   },
   "outputs": [],
   "source": [
    "def adjustedR2(rsquared,nrows,kcols):\n",
    "    return rsquared- (kcols-1)/(nrows-kcols) * (1-rsquared)"
   ]
  },
  {
   "cell_type": "markdown",
   "metadata": {},
   "source": [
    "# Load the data"
   ]
  },
  {
   "cell_type": "code",
   "execution_count": 3,
   "metadata": {
    "ExecuteTime": {
     "end_time": "2019-10-22T21:04:12.794033Z",
     "start_time": "2019-10-22T21:04:06.908027Z"
    },
    "hideCode": false,
    "hidePrompt": false
   },
   "outputs": [
    {
     "name": "stdout",
     "output_type": "stream",
     "text": [
      "(21613, 92)\n"
     ]
    },
    {
     "data": {
      "text/html": [
       "<div>\n",
       "<style scoped>\n",
       "    .dataframe tbody tr th:only-of-type {\n",
       "        vertical-align: middle;\n",
       "    }\n",
       "\n",
       "    .dataframe tbody tr th {\n",
       "        vertical-align: top;\n",
       "    }\n",
       "\n",
       "    .dataframe thead th {\n",
       "        text-align: right;\n",
       "    }\n",
       "</style>\n",
       "<table border=\"1\" class=\"dataframe\">\n",
       "  <thead>\n",
       "    <tr style=\"text-align: right;\">\n",
       "      <th></th>\n",
       "      <th>id</th>\n",
       "      <th>date</th>\n",
       "      <th>price</th>\n",
       "      <th>bedrooms</th>\n",
       "      <th>bathrooms</th>\n",
       "      <th>sqft_living</th>\n",
       "      <th>sqft_lot</th>\n",
       "      <th>floors</th>\n",
       "      <th>waterfront</th>\n",
       "      <th>view</th>\n",
       "      <th>...</th>\n",
       "      <th>age_after_renovation_cat_7</th>\n",
       "      <th>age_after_renovation_cat_8</th>\n",
       "      <th>age_after_renovation_cat_9</th>\n",
       "      <th>log1p_price</th>\n",
       "      <th>log1p_sqft_living</th>\n",
       "      <th>log1p_sqft_lot</th>\n",
       "      <th>log1p_sqft_above</th>\n",
       "      <th>log1p_sqft_basement</th>\n",
       "      <th>log1p_sqft_living15</th>\n",
       "      <th>log1p_sqft_lot15</th>\n",
       "    </tr>\n",
       "  </thead>\n",
       "  <tbody>\n",
       "    <tr>\n",
       "      <th>0</th>\n",
       "      <td>7129300520</td>\n",
       "      <td>2014-10-13</td>\n",
       "      <td>221900.0</td>\n",
       "      <td>3</td>\n",
       "      <td>1.00</td>\n",
       "      <td>1180</td>\n",
       "      <td>5650</td>\n",
       "      <td>1.0</td>\n",
       "      <td>0</td>\n",
       "      <td>0</td>\n",
       "      <td>...</td>\n",
       "      <td>0</td>\n",
       "      <td>0</td>\n",
       "      <td>0</td>\n",
       "      <td>12.309987</td>\n",
       "      <td>7.074117</td>\n",
       "      <td>8.639588</td>\n",
       "      <td>7.074117</td>\n",
       "      <td>0.000000</td>\n",
       "      <td>7.201171</td>\n",
       "      <td>8.639588</td>\n",
       "    </tr>\n",
       "    <tr>\n",
       "      <th>1</th>\n",
       "      <td>6414100192</td>\n",
       "      <td>2014-12-09</td>\n",
       "      <td>538000.0</td>\n",
       "      <td>3</td>\n",
       "      <td>2.25</td>\n",
       "      <td>2570</td>\n",
       "      <td>7242</td>\n",
       "      <td>2.0</td>\n",
       "      <td>0</td>\n",
       "      <td>0</td>\n",
       "      <td>...</td>\n",
       "      <td>0</td>\n",
       "      <td>0</td>\n",
       "      <td>0</td>\n",
       "      <td>13.195616</td>\n",
       "      <td>7.852050</td>\n",
       "      <td>8.887791</td>\n",
       "      <td>7.682943</td>\n",
       "      <td>5.993961</td>\n",
       "      <td>7.433075</td>\n",
       "      <td>8.941153</td>\n",
       "    </tr>\n",
       "  </tbody>\n",
       "</table>\n",
       "<p>2 rows × 92 columns</p>\n",
       "</div>"
      ],
      "text/plain": [
       "           id        date     price  bedrooms  bathrooms  sqft_living  \\\n",
       "0  7129300520  2014-10-13  221900.0         3       1.00         1180   \n",
       "1  6414100192  2014-12-09  538000.0         3       2.25         2570   \n",
       "\n",
       "   sqft_lot  floors  waterfront  view  ...  age_after_renovation_cat_7  \\\n",
       "0      5650     1.0           0     0  ...                           0   \n",
       "1      7242     2.0           0     0  ...                           0   \n",
       "\n",
       "   age_after_renovation_cat_8  age_after_renovation_cat_9  log1p_price  \\\n",
       "0                           0                           0    12.309987   \n",
       "1                           0                           0    13.195616   \n",
       "\n",
       "   log1p_sqft_living  log1p_sqft_lot  log1p_sqft_above  log1p_sqft_basement  \\\n",
       "0           7.074117        8.639588          7.074117             0.000000   \n",
       "1           7.852050        8.887791          7.682943             5.993961   \n",
       "\n",
       "   log1p_sqft_living15  log1p_sqft_lot15  \n",
       "0             7.201171          8.639588  \n",
       "1             7.433075          8.941153  \n",
       "\n",
       "[2 rows x 92 columns]"
      ]
     },
     "execution_count": 3,
     "metadata": {},
     "output_type": "execute_result"
    }
   ],
   "source": [
    "df = pd.read_csv('../data/processed/data_cleaned_encoded.csv')\n",
    "\n",
    "print(df.shape)\n",
    "df.head(2)"
   ]
  },
  {
   "cell_type": "markdown",
   "metadata": {},
   "source": [
    "# Select features from cleaned data"
   ]
  },
  {
   "cell_type": "code",
   "execution_count": 23,
   "metadata": {
    "ExecuteTime": {
     "end_time": "2019-10-22T21:27:05.672573Z",
     "start_time": "2019-10-22T21:27:05.668047Z"
    }
   },
   "outputs": [
    {
     "name": "stdout",
     "output_type": "stream",
     "text": [
      "['id' 'date' 'price' 'bedrooms' 'bathrooms' 'sqft_living' 'sqft_lot'\n",
      " 'floors' 'waterfront' 'view' 'condition' 'grade' 'sqft_above'\n",
      " 'sqft_basement' 'yr_built' 'yr_renovated' 'zipcode' 'lat' 'long'\n",
      " 'sqft_living15' 'sqft_lot15' 'yr_sales' 'age' 'yr_renovated2'\n",
      " 'age_after_renovation' 'zipcode_top10' 'zipcode_houses' 'basement_bool'\n",
      " 'renovation_bool' 'age_cat' 'age_after_renovation_cat' 'waterfront_0'\n",
      " 'waterfront_1' 'view_0' 'view_1' 'view_2' 'view_3' 'view_4' 'condition_1'\n",
      " 'condition_2' 'condition_3' 'condition_4' 'condition_5' 'grade_1'\n",
      " 'grade_10' 'grade_11' 'grade_12' 'grade_13' 'grade_3' 'grade_4' 'grade_5'\n",
      " 'grade_6' 'grade_7' 'grade_8' 'grade_9' 'zipcode_top10_98004'\n",
      " 'zipcode_top10_98006' 'zipcode_top10_98033' 'zipcode_top10_98039'\n",
      " 'zipcode_top10_98040' 'zipcode_top10_98102' 'zipcode_top10_98105'\n",
      " 'zipcode_top10_98155' 'zipcode_top10_98177' 'zipcode_top10_others'\n",
      " 'age_cat_0' 'age_cat_1' 'age_cat_2' 'age_cat_3' 'age_cat_4' 'age_cat_5'\n",
      " 'age_cat_6' 'age_cat_7' 'age_cat_8' 'age_cat_9'\n",
      " 'age_after_renovation_cat_0' 'age_after_renovation_cat_1'\n",
      " 'age_after_renovation_cat_2' 'age_after_renovation_cat_3'\n",
      " 'age_after_renovation_cat_4' 'age_after_renovation_cat_5'\n",
      " 'age_after_renovation_cat_6' 'age_after_renovation_cat_7'\n",
      " 'age_after_renovation_cat_8' 'age_after_renovation_cat_9' 'log1p_price'\n",
      " 'log1p_sqft_living' 'log1p_sqft_lot' 'log1p_sqft_above'\n",
      " 'log1p_sqft_basement' 'log1p_sqft_living15' 'log1p_sqft_lot15']\n"
     ]
    }
   ],
   "source": [
    "print(df.columns.to_numpy())"
   ]
  },
  {
   "cell_type": "code",
   "execution_count": 28,
   "metadata": {
    "ExecuteTime": {
     "end_time": "2019-10-22T21:33:40.994877Z",
     "start_time": "2019-10-22T21:33:40.985020Z"
    },
    "hideCode": false,
    "hidePrompt": false
   },
   "outputs": [
    {
     "name": "stdout",
     "output_type": "stream",
     "text": [
      "['bedrooms', 'bathrooms', 'sqft_living', 'sqft_lot', 'sqft_above', 'sqft_basement', 'yr_built', 'yr_renovated', 'lat', 'long', 'sqft_living15', 'sqft_lot15', 'yr_sales', 'basement_bool', 'renovation_bool', 'zipcode_houses', 'waterfront_0', 'waterfront_1', 'view_0', 'view_1', 'view_2', 'view_3', 'view_4', 'condition_1', 'condition_2', 'condition_3', 'condition_4', 'condition_5', 'grade_1', 'grade_10', 'grade_11', 'grade_12', 'grade_13', 'grade_3', 'grade_4', 'grade_5', 'grade_6', 'grade_7', 'grade_8', 'grade_9', 'zipcode_top10_98004', 'zipcode_top10_98006', 'zipcode_top10_98033', 'zipcode_top10_98039', 'zipcode_top10_98040', 'zipcode_top10_98102', 'zipcode_top10_98105', 'zipcode_top10_98155', 'zipcode_top10_98177', 'age_cat_0', 'age_cat_1', 'age_cat_2', 'age_cat_3', 'age_cat_4', 'age_cat_5', 'age_cat_6', 'age_cat_7', 'age_cat_8', 'age_cat_9', 'age_after_renovation_cat_0', 'age_after_renovation_cat_1', 'age_after_renovation_cat_2', 'age_after_renovation_cat_3', 'age_after_renovation_cat_4', 'age_after_renovation_cat_5', 'age_after_renovation_cat_6', 'age_after_renovation_cat_7', 'age_after_renovation_cat_8', 'age_after_renovation_cat_9']\n"
     ]
    }
   ],
   "source": [
    "features = ['bedrooms', 'bathrooms', 'sqft_living', 'sqft_lot', 'sqft_above', 'sqft_basement', 'yr_built', 'yr_renovated', 'lat', 'long', 'sqft_living15', 'sqft_lot15', 'yr_sales', 'basement_bool', 'renovation_bool', 'zipcode_houses', 'waterfront_0', 'waterfront_1', 'view_0', 'view_1', 'view_2', 'view_3', 'view_4', 'condition_1', 'condition_2', 'condition_3', 'condition_4', 'condition_5', 'grade_1', 'grade_10', 'grade_11', 'grade_12', 'grade_13', 'grade_3', 'grade_4', 'grade_5', 'grade_6', 'grade_7', 'grade_8', 'grade_9', 'zipcode_top10_98004', 'zipcode_top10_98006', 'zipcode_top10_98033', 'zipcode_top10_98039', 'zipcode_top10_98040', 'zipcode_top10_98102', 'zipcode_top10_98105', 'zipcode_top10_98155', 'zipcode_top10_98177', 'age_cat_0', 'age_cat_1', 'age_cat_2', 'age_cat_3', 'age_cat_4', 'age_cat_5', 'age_cat_6', 'age_cat_7', 'age_cat_8', 'age_cat_9', 'age_after_renovation_cat_0', 'age_after_renovation_cat_1', 'age_after_renovation_cat_2', 'age_after_renovation_cat_3', 'age_after_renovation_cat_4', 'age_after_renovation_cat_5', 'age_after_renovation_cat_6', 'age_after_renovation_cat_7', 'age_after_renovation_cat_8', 'age_after_renovation_cat_9']\n",
    "\n",
    "print(features)"
   ]
  },
  {
   "cell_type": "code",
   "execution_count": 29,
   "metadata": {
    "ExecuteTime": {
     "end_time": "2019-10-22T21:34:50.254067Z",
     "start_time": "2019-10-22T21:34:50.223530Z"
    },
    "hideCode": false,
    "hidePrompt": false
   },
   "outputs": [
    {
     "data": {
      "text/html": [
       "<div>\n",
       "<style scoped>\n",
       "    .dataframe tbody tr th:only-of-type {\n",
       "        vertical-align: middle;\n",
       "    }\n",
       "\n",
       "    .dataframe tbody tr th {\n",
       "        vertical-align: top;\n",
       "    }\n",
       "\n",
       "    .dataframe thead th {\n",
       "        text-align: right;\n",
       "    }\n",
       "</style>\n",
       "<table border=\"1\" class=\"dataframe\">\n",
       "  <thead>\n",
       "    <tr style=\"text-align: right;\">\n",
       "      <th></th>\n",
       "      <th>bedrooms</th>\n",
       "      <th>bathrooms</th>\n",
       "      <th>sqft_living</th>\n",
       "      <th>sqft_lot</th>\n",
       "      <th>sqft_above</th>\n",
       "      <th>sqft_basement</th>\n",
       "      <th>yr_built</th>\n",
       "      <th>yr_renovated</th>\n",
       "      <th>lat</th>\n",
       "      <th>long</th>\n",
       "      <th>...</th>\n",
       "      <th>age_after_renovation_cat_1</th>\n",
       "      <th>age_after_renovation_cat_2</th>\n",
       "      <th>age_after_renovation_cat_3</th>\n",
       "      <th>age_after_renovation_cat_4</th>\n",
       "      <th>age_after_renovation_cat_5</th>\n",
       "      <th>age_after_renovation_cat_6</th>\n",
       "      <th>age_after_renovation_cat_7</th>\n",
       "      <th>age_after_renovation_cat_8</th>\n",
       "      <th>age_after_renovation_cat_9</th>\n",
       "      <th>price</th>\n",
       "    </tr>\n",
       "  </thead>\n",
       "  <tbody>\n",
       "    <tr>\n",
       "      <th>0</th>\n",
       "      <td>3</td>\n",
       "      <td>1.00</td>\n",
       "      <td>1180</td>\n",
       "      <td>5650</td>\n",
       "      <td>1180</td>\n",
       "      <td>0</td>\n",
       "      <td>1955</td>\n",
       "      <td>0</td>\n",
       "      <td>47.5112</td>\n",
       "      <td>-122.257</td>\n",
       "      <td>...</td>\n",
       "      <td>0</td>\n",
       "      <td>0</td>\n",
       "      <td>0</td>\n",
       "      <td>0</td>\n",
       "      <td>1</td>\n",
       "      <td>0</td>\n",
       "      <td>0</td>\n",
       "      <td>0</td>\n",
       "      <td>0</td>\n",
       "      <td>221900.0</td>\n",
       "    </tr>\n",
       "    <tr>\n",
       "      <th>1</th>\n",
       "      <td>3</td>\n",
       "      <td>2.25</td>\n",
       "      <td>2570</td>\n",
       "      <td>7242</td>\n",
       "      <td>2170</td>\n",
       "      <td>400</td>\n",
       "      <td>1951</td>\n",
       "      <td>1991</td>\n",
       "      <td>47.7210</td>\n",
       "      <td>-122.319</td>\n",
       "      <td>...</td>\n",
       "      <td>0</td>\n",
       "      <td>1</td>\n",
       "      <td>0</td>\n",
       "      <td>0</td>\n",
       "      <td>0</td>\n",
       "      <td>0</td>\n",
       "      <td>0</td>\n",
       "      <td>0</td>\n",
       "      <td>0</td>\n",
       "      <td>538000.0</td>\n",
       "    </tr>\n",
       "  </tbody>\n",
       "</table>\n",
       "<p>2 rows × 70 columns</p>\n",
       "</div>"
      ],
      "text/plain": [
       "   bedrooms  bathrooms  sqft_living  sqft_lot  sqft_above  sqft_basement  \\\n",
       "0         3       1.00         1180      5650        1180              0   \n",
       "1         3       2.25         2570      7242        2170            400   \n",
       "\n",
       "   yr_built  yr_renovated      lat     long  ...  age_after_renovation_cat_1  \\\n",
       "0      1955             0  47.5112 -122.257  ...                           0   \n",
       "1      1951          1991  47.7210 -122.319  ...                           0   \n",
       "\n",
       "   age_after_renovation_cat_2  age_after_renovation_cat_3  \\\n",
       "0                           0                           0   \n",
       "1                           1                           0   \n",
       "\n",
       "   age_after_renovation_cat_4  age_after_renovation_cat_5  \\\n",
       "0                           0                           1   \n",
       "1                           0                           0   \n",
       "\n",
       "   age_after_renovation_cat_6  age_after_renovation_cat_7  \\\n",
       "0                           0                           0   \n",
       "1                           0                           0   \n",
       "\n",
       "   age_after_renovation_cat_8  age_after_renovation_cat_9     price  \n",
       "0                           0                           0  221900.0  \n",
       "1                           0                           0  538000.0  \n",
       "\n",
       "[2 rows x 70 columns]"
      ]
     },
     "execution_count": 29,
     "metadata": {},
     "output_type": "execute_result"
    }
   ],
   "source": [
    "target = ['price']\n",
    "df_selected = df[features + target]\n",
    "df_selected.head(2)"
   ]
  },
  {
   "cell_type": "markdown",
   "metadata": {},
   "source": [
    "# Add polynomial interaction features"
   ]
  },
  {
   "cell_type": "code",
   "execution_count": 30,
   "metadata": {
    "ExecuteTime": {
     "end_time": "2019-10-22T21:35:31.476374Z",
     "start_time": "2019-10-22T21:35:31.463672Z"
    },
    "hideCode": false,
    "hidePrompt": false
   },
   "outputs": [],
   "source": [
    "def add_interactions(df):\n",
    "    from itertools import combinations\n",
    "    from sklearn.preprocessing import PolynomialFeatures\n",
    "\n",
    "    # Get feature names\n",
    "    combos = list(combinations(list(df.columns), 2))\n",
    "    colnames = list(df.columns) + ['_'.join(x) for x in combos]\n",
    "    \n",
    "    # Find interactions\n",
    "    poly = PolynomialFeatures(interaction_only=True, include_bias=False)\n",
    "    df = poly.fit_transform(df)\n",
    "    df = pd.DataFrame(df)\n",
    "    df.columns = colnames\n",
    "    \n",
    "    # Remove interaction terms with all 0 values            \n",
    "    noint_indicies = [i for i, x in enumerate(list((df == 0).all())) if x]\n",
    "    df = df.drop(df.columns[noint_indicies], axis=1)\n",
    "    \n",
    "    return df"
   ]
  },
  {
   "cell_type": "code",
   "execution_count": 31,
   "metadata": {
    "ExecuteTime": {
     "end_time": "2019-10-22T21:35:39.832661Z",
     "start_time": "2019-10-22T21:35:36.804422Z"
    },
    "hideCode": false,
    "hidePrompt": false
   },
   "outputs": [
    {
     "name": "stdout",
     "output_type": "stream",
     "text": [
      "(21613, 2047)\n"
     ]
    },
    {
     "data": {
      "text/html": [
       "<div>\n",
       "<style scoped>\n",
       "    .dataframe tbody tr th:only-of-type {\n",
       "        vertical-align: middle;\n",
       "    }\n",
       "\n",
       "    .dataframe tbody tr th {\n",
       "        vertical-align: top;\n",
       "    }\n",
       "\n",
       "    .dataframe thead th {\n",
       "        text-align: right;\n",
       "    }\n",
       "</style>\n",
       "<table border=\"1\" class=\"dataframe\">\n",
       "  <thead>\n",
       "    <tr style=\"text-align: right;\">\n",
       "      <th></th>\n",
       "      <th>bedrooms</th>\n",
       "      <th>bathrooms</th>\n",
       "      <th>sqft_living</th>\n",
       "      <th>sqft_lot</th>\n",
       "      <th>sqft_above</th>\n",
       "      <th>sqft_basement</th>\n",
       "      <th>yr_built</th>\n",
       "      <th>yr_renovated</th>\n",
       "      <th>lat</th>\n",
       "      <th>long</th>\n",
       "      <th>...</th>\n",
       "      <th>age_after_renovation_cat_0_price</th>\n",
       "      <th>age_after_renovation_cat_1_price</th>\n",
       "      <th>age_after_renovation_cat_2_price</th>\n",
       "      <th>age_after_renovation_cat_3_price</th>\n",
       "      <th>age_after_renovation_cat_4_price</th>\n",
       "      <th>age_after_renovation_cat_5_price</th>\n",
       "      <th>age_after_renovation_cat_6_price</th>\n",
       "      <th>age_after_renovation_cat_7_price</th>\n",
       "      <th>age_after_renovation_cat_8_price</th>\n",
       "      <th>age_after_renovation_cat_9_price</th>\n",
       "    </tr>\n",
       "  </thead>\n",
       "  <tbody>\n",
       "    <tr>\n",
       "      <th>0</th>\n",
       "      <td>3.0</td>\n",
       "      <td>1.00</td>\n",
       "      <td>1180.0</td>\n",
       "      <td>5650.0</td>\n",
       "      <td>1180.0</td>\n",
       "      <td>0.0</td>\n",
       "      <td>1955.0</td>\n",
       "      <td>0.0</td>\n",
       "      <td>47.5112</td>\n",
       "      <td>-122.257</td>\n",
       "      <td>...</td>\n",
       "      <td>0.0</td>\n",
       "      <td>0.0</td>\n",
       "      <td>0.0</td>\n",
       "      <td>0.0</td>\n",
       "      <td>0.0</td>\n",
       "      <td>221900.0</td>\n",
       "      <td>0.0</td>\n",
       "      <td>0.0</td>\n",
       "      <td>0.0</td>\n",
       "      <td>0.0</td>\n",
       "    </tr>\n",
       "    <tr>\n",
       "      <th>1</th>\n",
       "      <td>3.0</td>\n",
       "      <td>2.25</td>\n",
       "      <td>2570.0</td>\n",
       "      <td>7242.0</td>\n",
       "      <td>2170.0</td>\n",
       "      <td>400.0</td>\n",
       "      <td>1951.0</td>\n",
       "      <td>1991.0</td>\n",
       "      <td>47.7210</td>\n",
       "      <td>-122.319</td>\n",
       "      <td>...</td>\n",
       "      <td>0.0</td>\n",
       "      <td>0.0</td>\n",
       "      <td>538000.0</td>\n",
       "      <td>0.0</td>\n",
       "      <td>0.0</td>\n",
       "      <td>0.0</td>\n",
       "      <td>0.0</td>\n",
       "      <td>0.0</td>\n",
       "      <td>0.0</td>\n",
       "      <td>0.0</td>\n",
       "    </tr>\n",
       "    <tr>\n",
       "      <th>2</th>\n",
       "      <td>2.0</td>\n",
       "      <td>1.00</td>\n",
       "      <td>770.0</td>\n",
       "      <td>10000.0</td>\n",
       "      <td>770.0</td>\n",
       "      <td>0.0</td>\n",
       "      <td>1933.0</td>\n",
       "      <td>0.0</td>\n",
       "      <td>47.7379</td>\n",
       "      <td>-122.233</td>\n",
       "      <td>...</td>\n",
       "      <td>0.0</td>\n",
       "      <td>0.0</td>\n",
       "      <td>0.0</td>\n",
       "      <td>0.0</td>\n",
       "      <td>0.0</td>\n",
       "      <td>0.0</td>\n",
       "      <td>0.0</td>\n",
       "      <td>180000.0</td>\n",
       "      <td>0.0</td>\n",
       "      <td>0.0</td>\n",
       "    </tr>\n",
       "    <tr>\n",
       "      <th>3</th>\n",
       "      <td>4.0</td>\n",
       "      <td>3.00</td>\n",
       "      <td>1960.0</td>\n",
       "      <td>5000.0</td>\n",
       "      <td>1050.0</td>\n",
       "      <td>910.0</td>\n",
       "      <td>1965.0</td>\n",
       "      <td>0.0</td>\n",
       "      <td>47.5208</td>\n",
       "      <td>-122.393</td>\n",
       "      <td>...</td>\n",
       "      <td>0.0</td>\n",
       "      <td>0.0</td>\n",
       "      <td>0.0</td>\n",
       "      <td>0.0</td>\n",
       "      <td>604000.0</td>\n",
       "      <td>0.0</td>\n",
       "      <td>0.0</td>\n",
       "      <td>0.0</td>\n",
       "      <td>0.0</td>\n",
       "      <td>0.0</td>\n",
       "    </tr>\n",
       "    <tr>\n",
       "      <th>4</th>\n",
       "      <td>3.0</td>\n",
       "      <td>2.00</td>\n",
       "      <td>1680.0</td>\n",
       "      <td>8080.0</td>\n",
       "      <td>1680.0</td>\n",
       "      <td>0.0</td>\n",
       "      <td>1987.0</td>\n",
       "      <td>0.0</td>\n",
       "      <td>47.6168</td>\n",
       "      <td>-122.045</td>\n",
       "      <td>...</td>\n",
       "      <td>0.0</td>\n",
       "      <td>0.0</td>\n",
       "      <td>510000.0</td>\n",
       "      <td>0.0</td>\n",
       "      <td>0.0</td>\n",
       "      <td>0.0</td>\n",
       "      <td>0.0</td>\n",
       "      <td>0.0</td>\n",
       "      <td>0.0</td>\n",
       "      <td>0.0</td>\n",
       "    </tr>\n",
       "  </tbody>\n",
       "</table>\n",
       "<p>5 rows × 2047 columns</p>\n",
       "</div>"
      ],
      "text/plain": [
       "   bedrooms  bathrooms  sqft_living  sqft_lot  sqft_above  sqft_basement  \\\n",
       "0       3.0       1.00       1180.0    5650.0      1180.0            0.0   \n",
       "1       3.0       2.25       2570.0    7242.0      2170.0          400.0   \n",
       "2       2.0       1.00        770.0   10000.0       770.0            0.0   \n",
       "3       4.0       3.00       1960.0    5000.0      1050.0          910.0   \n",
       "4       3.0       2.00       1680.0    8080.0      1680.0            0.0   \n",
       "\n",
       "   yr_built  yr_renovated      lat     long  ...  \\\n",
       "0    1955.0           0.0  47.5112 -122.257  ...   \n",
       "1    1951.0        1991.0  47.7210 -122.319  ...   \n",
       "2    1933.0           0.0  47.7379 -122.233  ...   \n",
       "3    1965.0           0.0  47.5208 -122.393  ...   \n",
       "4    1987.0           0.0  47.6168 -122.045  ...   \n",
       "\n",
       "   age_after_renovation_cat_0_price  age_after_renovation_cat_1_price  \\\n",
       "0                               0.0                               0.0   \n",
       "1                               0.0                               0.0   \n",
       "2                               0.0                               0.0   \n",
       "3                               0.0                               0.0   \n",
       "4                               0.0                               0.0   \n",
       "\n",
       "   age_after_renovation_cat_2_price  age_after_renovation_cat_3_price  \\\n",
       "0                               0.0                               0.0   \n",
       "1                          538000.0                               0.0   \n",
       "2                               0.0                               0.0   \n",
       "3                               0.0                               0.0   \n",
       "4                          510000.0                               0.0   \n",
       "\n",
       "   age_after_renovation_cat_4_price  age_after_renovation_cat_5_price  \\\n",
       "0                               0.0                          221900.0   \n",
       "1                               0.0                               0.0   \n",
       "2                               0.0                               0.0   \n",
       "3                          604000.0                               0.0   \n",
       "4                               0.0                               0.0   \n",
       "\n",
       "   age_after_renovation_cat_6_price  age_after_renovation_cat_7_price  \\\n",
       "0                               0.0                               0.0   \n",
       "1                               0.0                               0.0   \n",
       "2                               0.0                          180000.0   \n",
       "3                               0.0                               0.0   \n",
       "4                               0.0                               0.0   \n",
       "\n",
       "   age_after_renovation_cat_8_price  age_after_renovation_cat_9_price  \n",
       "0                               0.0                               0.0  \n",
       "1                               0.0                               0.0  \n",
       "2                               0.0                               0.0  \n",
       "3                               0.0                               0.0  \n",
       "4                               0.0                               0.0  \n",
       "\n",
       "[5 rows x 2047 columns]"
      ]
     },
     "execution_count": 31,
     "metadata": {},
     "output_type": "execute_result"
    }
   ],
   "source": [
    "df_large = add_interactions(df_selected)\n",
    "print(df_large.shape)\n",
    "df_large.head()"
   ]
  },
  {
   "cell_type": "markdown",
   "metadata": {},
   "source": [
    "# Train Test split"
   ]
  },
  {
   "cell_type": "code",
   "execution_count": 7,
   "metadata": {
    "ExecuteTime": {
     "end_time": "2019-10-22T21:04:15.451885Z",
     "start_time": "2019-10-22T21:04:15.263050Z"
    },
    "hideCode": false,
    "hidePrompt": false
   },
   "outputs": [
    {
     "name": "stdout",
     "output_type": "stream",
     "text": [
      "(17290, 2047)\n"
     ]
    },
    {
     "data": {
      "text/html": [
       "<div>\n",
       "<style scoped>\n",
       "    .dataframe tbody tr th:only-of-type {\n",
       "        vertical-align: middle;\n",
       "    }\n",
       "\n",
       "    .dataframe tbody tr th {\n",
       "        vertical-align: top;\n",
       "    }\n",
       "\n",
       "    .dataframe thead th {\n",
       "        text-align: right;\n",
       "    }\n",
       "</style>\n",
       "<table border=\"1\" class=\"dataframe\">\n",
       "  <thead>\n",
       "    <tr style=\"text-align: right;\">\n",
       "      <th></th>\n",
       "      <th>bedrooms</th>\n",
       "      <th>bathrooms</th>\n",
       "      <th>sqft_living</th>\n",
       "      <th>sqft_lot</th>\n",
       "      <th>sqft_above</th>\n",
       "      <th>sqft_basement</th>\n",
       "      <th>yr_built</th>\n",
       "      <th>yr_renovated</th>\n",
       "      <th>lat</th>\n",
       "      <th>long</th>\n",
       "      <th>...</th>\n",
       "      <th>age_after_renovation_cat_0_price</th>\n",
       "      <th>age_after_renovation_cat_1_price</th>\n",
       "      <th>age_after_renovation_cat_2_price</th>\n",
       "      <th>age_after_renovation_cat_3_price</th>\n",
       "      <th>age_after_renovation_cat_4_price</th>\n",
       "      <th>age_after_renovation_cat_5_price</th>\n",
       "      <th>age_after_renovation_cat_6_price</th>\n",
       "      <th>age_after_renovation_cat_7_price</th>\n",
       "      <th>age_after_renovation_cat_8_price</th>\n",
       "      <th>age_after_renovation_cat_9_price</th>\n",
       "    </tr>\n",
       "  </thead>\n",
       "  <tbody>\n",
       "    <tr>\n",
       "      <th>16000</th>\n",
       "      <td>3.0</td>\n",
       "      <td>1.75</td>\n",
       "      <td>1780.0</td>\n",
       "      <td>11096.0</td>\n",
       "      <td>1210.0</td>\n",
       "      <td>570.0</td>\n",
       "      <td>1979.0</td>\n",
       "      <td>0.0</td>\n",
       "      <td>47.6170</td>\n",
       "      <td>-122.051</td>\n",
       "      <td>...</td>\n",
       "      <td>0.0</td>\n",
       "      <td>0.0</td>\n",
       "      <td>0.0</td>\n",
       "      <td>325000.0</td>\n",
       "      <td>0.0</td>\n",
       "      <td>0.0</td>\n",
       "      <td>0.0</td>\n",
       "      <td>0.0</td>\n",
       "      <td>0.0</td>\n",
       "      <td>0.0</td>\n",
       "    </tr>\n",
       "    <tr>\n",
       "      <th>11286</th>\n",
       "      <td>2.0</td>\n",
       "      <td>2.50</td>\n",
       "      <td>1420.0</td>\n",
       "      <td>2229.0</td>\n",
       "      <td>1420.0</td>\n",
       "      <td>0.0</td>\n",
       "      <td>2004.0</td>\n",
       "      <td>0.0</td>\n",
       "      <td>47.4871</td>\n",
       "      <td>-122.165</td>\n",
       "      <td>...</td>\n",
       "      <td>278000.0</td>\n",
       "      <td>0.0</td>\n",
       "      <td>0.0</td>\n",
       "      <td>0.0</td>\n",
       "      <td>0.0</td>\n",
       "      <td>0.0</td>\n",
       "      <td>0.0</td>\n",
       "      <td>0.0</td>\n",
       "      <td>0.0</td>\n",
       "      <td>0.0</td>\n",
       "    </tr>\n",
       "  </tbody>\n",
       "</table>\n",
       "<p>2 rows × 2047 columns</p>\n",
       "</div>"
      ],
      "text/plain": [
       "       bedrooms  bathrooms  sqft_living  sqft_lot  sqft_above  sqft_basement  \\\n",
       "16000       3.0       1.75       1780.0   11096.0      1210.0          570.0   \n",
       "11286       2.0       2.50       1420.0    2229.0      1420.0            0.0   \n",
       "\n",
       "       yr_built  yr_renovated      lat     long  ...  \\\n",
       "16000    1979.0           0.0  47.6170 -122.051  ...   \n",
       "11286    2004.0           0.0  47.4871 -122.165  ...   \n",
       "\n",
       "       age_after_renovation_cat_0_price  age_after_renovation_cat_1_price  \\\n",
       "16000                               0.0                               0.0   \n",
       "11286                          278000.0                               0.0   \n",
       "\n",
       "       age_after_renovation_cat_2_price  age_after_renovation_cat_3_price  \\\n",
       "16000                               0.0                          325000.0   \n",
       "11286                               0.0                               0.0   \n",
       "\n",
       "       age_after_renovation_cat_4_price  age_after_renovation_cat_5_price  \\\n",
       "16000                               0.0                               0.0   \n",
       "11286                               0.0                               0.0   \n",
       "\n",
       "       age_after_renovation_cat_6_price  age_after_renovation_cat_7_price  \\\n",
       "16000                               0.0                               0.0   \n",
       "11286                               0.0                               0.0   \n",
       "\n",
       "       age_after_renovation_cat_8_price  age_after_renovation_cat_9_price  \n",
       "16000                               0.0                               0.0  \n",
       "11286                               0.0                               0.0  \n",
       "\n",
       "[2 rows x 2047 columns]"
      ]
     },
     "execution_count": 7,
     "metadata": {},
     "output_type": "execute_result"
    }
   ],
   "source": [
    "# train test split\n",
    "df_train_large, df_test_large = train_test_split(df_large, test_size=0.2,\n",
    "                                                 random_state=random_state)\n",
    "print(df_train_large.shape)\n",
    "df_train_large.head(2)"
   ]
  },
  {
   "cell_type": "code",
   "execution_count": 8,
   "metadata": {
    "ExecuteTime": {
     "end_time": "2019-10-22T21:04:15.629308Z",
     "start_time": "2019-10-22T21:04:15.454577Z"
    },
    "hideCode": false,
    "hidePrompt": false
   },
   "outputs": [
    {
     "data": {
      "text/html": [
       "<div>\n",
       "<style scoped>\n",
       "    .dataframe tbody tr th:only-of-type {\n",
       "        vertical-align: middle;\n",
       "    }\n",
       "\n",
       "    .dataframe tbody tr th {\n",
       "        vertical-align: top;\n",
       "    }\n",
       "\n",
       "    .dataframe thead th {\n",
       "        text-align: right;\n",
       "    }\n",
       "</style>\n",
       "<table border=\"1\" class=\"dataframe\">\n",
       "  <thead>\n",
       "    <tr style=\"text-align: right;\">\n",
       "      <th></th>\n",
       "      <th>price</th>\n",
       "    </tr>\n",
       "  </thead>\n",
       "  <tbody>\n",
       "    <tr>\n",
       "      <th>16000</th>\n",
       "      <td>325000.0</td>\n",
       "    </tr>\n",
       "    <tr>\n",
       "      <th>11286</th>\n",
       "      <td>278000.0</td>\n",
       "    </tr>\n",
       "    <tr>\n",
       "      <th>3201</th>\n",
       "      <td>710000.0</td>\n",
       "    </tr>\n",
       "    <tr>\n",
       "      <th>11049</th>\n",
       "      <td>389900.0</td>\n",
       "    </tr>\n",
       "    <tr>\n",
       "      <th>9716</th>\n",
       "      <td>489000.0</td>\n",
       "    </tr>\n",
       "  </tbody>\n",
       "</table>\n",
       "</div>"
      ],
      "text/plain": [
       "          price\n",
       "16000  325000.0\n",
       "11286  278000.0\n",
       "3201   710000.0\n",
       "11049  389900.0\n",
       "9716   489000.0"
      ]
     },
     "execution_count": 8,
     "metadata": {},
     "output_type": "execute_result"
    }
   ],
   "source": [
    "df_Xtrain_large = df_train_large.drop(target,axis=1)\n",
    "df_ytrain_large = df_train_large[target]\n",
    "\n",
    "df_Xtest_large = df_test_large.drop(target,axis=1)\n",
    "df_ytest_large = df_test_large[target]\n",
    "\n",
    "df_ytrain_large.head()"
   ]
  },
  {
   "cell_type": "code",
   "execution_count": 32,
   "metadata": {
    "ExecuteTime": {
     "end_time": "2019-10-22T21:37:00.799369Z",
     "start_time": "2019-10-22T21:37:00.784195Z"
    },
    "hideCode": false,
    "hidePrompt": false
   },
   "outputs": [
    {
     "data": {
      "text/plain": [
       "((17290, 2046), (17290,))"
      ]
     },
     "execution_count": 32,
     "metadata": {},
     "output_type": "execute_result"
    }
   ],
   "source": [
    "# numpy arrays\n",
    "Xtrain_large = df_Xtrain_large.to_numpy()\n",
    "ytrain_large = df_ytrain_large.to_numpy().ravel()\n",
    "\n",
    "Xtrain_large.shape, ytrain_large.shape"
   ]
  },
  {
   "cell_type": "markdown",
   "metadata": {},
   "source": [
    "# Select k best features"
   ]
  },
  {
   "cell_type": "code",
   "execution_count": 41,
   "metadata": {
    "ExecuteTime": {
     "end_time": "2019-10-22T22:10:29.385926Z",
     "start_time": "2019-10-22T22:10:28.610480Z"
    },
    "hideCode": false,
    "hidePrompt": false
   },
   "outputs": [
    {
     "name": "stderr",
     "output_type": "stream",
     "text": [
      "/Users/poudel/miniconda3/envs/dataSc/lib/python3.7/site-packages/sklearn/feature_selection/univariate_selection.py:114: UserWarning: Features [  28  229  295  360  485  542  551  602  662  721  779  836  940  949\n",
      "  993 1045 1087 1092 1104 1107 1111 1138 1181 1274 1326 1328 1353 1362\n",
      " 1369 1377 1386 1389 1391 1414 1530 1531 1532 1596 1599 1600 1607 1614\n",
      " 1619 1620 1621 1622 1626 1628 1630 1631 1634 1636 1638 1641 1653 1662\n",
      " 1663 1812 1862 1868 1892 1897 1898 1999] are constant.\n",
      "  UserWarning)\n",
      "/Users/poudel/miniconda3/envs/dataSc/lib/python3.7/site-packages/sklearn/feature_selection/univariate_selection.py:115: RuntimeWarning: divide by zero encountered in true_divide\n",
      "  f = msb / msw\n",
      "/Users/poudel/miniconda3/envs/dataSc/lib/python3.7/site-packages/sklearn/feature_selection/univariate_selection.py:115: RuntimeWarning: invalid value encountered in true_divide\n",
      "  f = msb / msw\n"
     ]
    },
    {
     "data": {
      "text/plain": [
       "((17290, 300), (4323, 300))"
      ]
     },
     "execution_count": 41,
     "metadata": {},
     "output_type": "execute_result"
    }
   ],
   "source": [
    "import sklearn.feature_selection\n",
    "\n",
    "k = 300\n",
    "\n",
    "model_kbest = sklearn.feature_selection.SelectKBest(k=k)\n",
    "model_kbest = model_kbest.fit(Xtrain_large, ytrain_large)\n",
    "\n",
    "idx_kbest = model_kbest.get_support(indices=True)\n",
    "\n",
    "cols_kbest = [df_train_large.columns[i] for i in idx_kbest]\n",
    "\n",
    "Xtrain_kbest = df_Xtrain_large[cols_kbest].to_numpy()\n",
    "ytrain_kbest = df_ytrain_large.to_numpy().ravel()\n",
    "\n",
    "Xtest_kbest = df_Xtest_large[cols_kbest].to_numpy()\n",
    "ytest_kbest = df_ytest_large.to_numpy().ravel()\n",
    "\n",
    "Xtrain_kbest.shape, Xtest_kbest.shape"
   ]
  },
  {
   "cell_type": "markdown",
   "metadata": {},
   "source": [
    "# Regression Modelling"
   ]
  },
  {
   "cell_type": "code",
   "execution_count": 43,
   "metadata": {
    "ExecuteTime": {
     "end_time": "2019-10-22T22:12:43.699057Z",
     "start_time": "2019-10-22T22:12:43.462609Z"
    },
    "hideCode": false,
    "hidePrompt": false
   },
   "outputs": [
    {
     "name": "stdout",
     "output_type": "stream",
     "text": [
      "R-squared Value =  0.9999625814755158\n",
      "Adjusted R-squared Value =  0.9999598004318119\n"
     ]
    }
   ],
   "source": [
    "# model = RandomForestRegressor()\n",
    "model = LinearRegression()\n",
    "\n",
    "# fitting\n",
    "model.fit(Xtrain_kbest,ytrain_kbest)\n",
    "\n",
    "# prediction\n",
    "ypreds = model.predict(Xtest_kbest)\n",
    "\n",
    "from sklearn.metrics import r2_score\n",
    "\n",
    "r2 = r2_score(ytest_kbest,ypreds)\n",
    "\n",
    "ar2 = adjustedR2(r2,Xtest_kbest.shape[0],Xtest_kbest.shape[1])\n",
    "\n",
    "print('R-squared Value = ', r2)\n",
    "print('Adjusted R-squared Value = ', ar2)"
   ]
  },
  {
   "cell_type": "markdown",
   "metadata": {},
   "source": [
    "# Single Script"
   ]
  },
  {
   "cell_type": "code",
   "execution_count": 45,
   "metadata": {
    "ExecuteTime": {
     "end_time": "2019-10-22T22:13:45.708721Z",
     "start_time": "2019-10-22T22:13:45.702321Z"
    }
   },
   "outputs": [
    {
     "data": {
      "text/plain": [
       "((17290, 2046), (17290,))"
      ]
     },
     "execution_count": 45,
     "metadata": {},
     "output_type": "execute_result"
    }
   ],
   "source": [
    "Xtrain_large.shape, ytrain_large.shape"
   ]
  },
  {
   "cell_type": "code",
   "execution_count": 40,
   "metadata": {
    "ExecuteTime": {
     "end_time": "2019-10-22T22:05:40.629304Z",
     "start_time": "2019-10-22T22:05:39.647265Z"
    }
   },
   "outputs": [
    {
     "name": "stderr",
     "output_type": "stream",
     "text": [
      "/Users/poudel/miniconda3/envs/dataSc/lib/python3.7/site-packages/sklearn/feature_selection/univariate_selection.py:114: UserWarning: Features [  28  229  295  360  485  542  551  602  662  721  779  836  940  949\n",
      "  993 1045 1087 1092 1104 1107 1111 1138 1181 1274 1326 1328 1353 1362\n",
      " 1369 1377 1386 1389 1391 1414 1530 1531 1532 1596 1599 1600 1607 1614\n",
      " 1619 1620 1621 1622 1626 1628 1630 1631 1634 1636 1638 1641 1653 1662\n",
      " 1663 1812 1862 1868 1892 1897 1898 1999] are constant.\n",
      "  UserWarning)\n",
      "/Users/poudel/miniconda3/envs/dataSc/lib/python3.7/site-packages/sklearn/feature_selection/univariate_selection.py:115: RuntimeWarning: divide by zero encountered in true_divide\n",
      "  f = msb / msw\n",
      "/Users/poudel/miniconda3/envs/dataSc/lib/python3.7/site-packages/sklearn/feature_selection/univariate_selection.py:115: RuntimeWarning: invalid value encountered in true_divide\n",
      "  f = msb / msw\n"
     ]
    },
    {
     "name": "stdout",
     "output_type": "stream",
     "text": [
      "R-squared Value =  0.9999625814755158\n",
      "Adjusted R-squared Value =  0.9999598004318119\n"
     ]
    }
   ],
   "source": [
    "import sklearn.feature_selection\n",
    "\n",
    "# fit the select KBest on training data to get best features\n",
    "k = 300\n",
    "model_kbest = sklearn.feature_selection.SelectKBest(k=k)\n",
    "model_kbest = model_kbest.fit(Xtrain_large, ytrain_large)\n",
    "\n",
    "idx_kbest = model_kbest.get_support(indices=True)\n",
    "cols_kbest = [df_train_large.columns[i] for i in idx_kbest]\n",
    "\n",
    "\n",
    "# get numpy arrays using best features\n",
    "Xtrain_kbest = df_Xtrain_large[cols_kbest].to_numpy()\n",
    "ytrain_kbest = df_ytrain_large.to_numpy().ravel()\n",
    "\n",
    "Xtest_kbest = df_Xtest_large[cols_kbest].to_numpy()\n",
    "ytest_kbest = df_ytest_large.to_numpy().ravel()\n",
    "\n",
    "\n",
    "# from sklearn.ensemble import RandomForestRegressor\n",
    "# model = RandomForestRegressor()\n",
    "\n",
    "from sklearn.linear_model import LinearRegression\n",
    "model = LinearRegression()\n",
    "\n",
    "# fitting\n",
    "model.fit(Xtrain_kbest,ytrain_kbest)\n",
    "\n",
    "# prediction\n",
    "ypreds = model.predict(Xtest_kbest)\n",
    "\n",
    "from sklearn.metrics import r2_score\n",
    "\n",
    "r2 = r2_score(ytest_kbest,ypreds)\n",
    "\n",
    "ar2 = adjustedR2(r2,Xtest_kbest.shape[0],Xtest_kbest.shape[1])\n",
    "\n",
    "print('R-squared Value = ', r2)\n",
    "print('Adjusted R-squared Value = ', ar2)"
   ]
  },
  {
   "cell_type": "code",
   "execution_count": null,
   "metadata": {},
   "outputs": [],
   "source": []
  }
 ],
 "metadata": {
  "hide_code_all_hidden": false,
  "kernelspec": {
   "display_name": "Python (dataSc)",
   "language": "python",
   "name": "datasc"
  },
  "language_info": {
   "codemirror_mode": {
    "name": "ipython",
    "version": 3
   },
   "file_extension": ".py",
   "mimetype": "text/x-python",
   "name": "python",
   "nbconvert_exporter": "python",
   "pygments_lexer": "ipython3",
   "version": "3.7.3"
  },
  "toc": {
   "base_numbering": 1,
   "nav_menu": {},
   "number_sections": true,
   "sideBar": true,
   "skip_h1_title": false,
   "title_cell": "Table of Contents",
   "title_sidebar": "Contents",
   "toc_cell": true,
   "toc_position": {},
   "toc_section_display": true,
   "toc_window_display": true
  }
 },
 "nbformat": 4,
 "nbformat_minor": 2
}
