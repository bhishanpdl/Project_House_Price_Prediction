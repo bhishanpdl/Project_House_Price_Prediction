{
 "cells": [
  {
   "cell_type": "markdown",
   "metadata": {
    "toc": "true"
   },
   "source": [
    "<h1>Table of Contents<span class=\"tocSkip\"></span></h1>\n",
    "<div class=\"toc\"><ul class=\"toc-item\"><li><span><a href=\"#Table-of-Contents\" data-toc-modified-id=\"Table-of-Contents-1\"><span class=\"toc-item-num\">1&nbsp;&nbsp;</span>Table of Contents</a></span></li><li><span><a href=\"#Data-Description\" data-toc-modified-id=\"Data-Description-2\"><span class=\"toc-item-num\">2&nbsp;&nbsp;</span>Data Description</a></span></li><li><span><a href=\"#Imports\" data-toc-modified-id=\"Imports-3\"><span class=\"toc-item-num\">3&nbsp;&nbsp;</span>Imports</a></span></li><li><span><a href=\"#Load-the-data\" data-toc-modified-id=\"Load-the-data-4\"><span class=\"toc-item-num\">4&nbsp;&nbsp;</span>Load the data</a></span></li><li><span><a href=\"#EDA\" data-toc-modified-id=\"EDA-5\"><span class=\"toc-item-num\">5&nbsp;&nbsp;</span>EDA</a></span></li><li><span><a href=\"#Feature-Engineering\" data-toc-modified-id=\"Feature-Engineering-6\"><span class=\"toc-item-num\">6&nbsp;&nbsp;</span>Feature Engineering</a></span><ul class=\"toc-item\"><li><span><a href=\"#date-time-features\" data-toc-modified-id=\"date-time-features-6.1\"><span class=\"toc-item-num\">6.1&nbsp;&nbsp;</span>date time features</a></span></li><li><span><a href=\"#categorical-features\" data-toc-modified-id=\"categorical-features-6.2\"><span class=\"toc-item-num\">6.2&nbsp;&nbsp;</span>categorical features</a></span></li><li><span><a href=\"#Boolean-features\" data-toc-modified-id=\"Boolean-features-6.3\"><span class=\"toc-item-num\">6.3&nbsp;&nbsp;</span>Boolean features</a></span></li><li><span><a href=\"#Bucketizing-Numerical-Features\" data-toc-modified-id=\"Bucketizing-Numerical-Features-6.4\"><span class=\"toc-item-num\">6.4&nbsp;&nbsp;</span>Bucketizing Numerical Features</a></span></li><li><span><a href=\"#dummy-variables-for-binned-and-categorical-features\" data-toc-modified-id=\"dummy-variables-for-binned-and-categorical-features-6.5\"><span class=\"toc-item-num\">6.5&nbsp;&nbsp;</span>dummy variables for binned and categorical features</a></span></li><li><span><a href=\"#Log-transform-large-numerical-features\" data-toc-modified-id=\"Log-transform-large-numerical-features-6.6\"><span class=\"toc-item-num\">6.6&nbsp;&nbsp;</span>Log transform large numerical features</a></span></li><li><span><a href=\"#combine-all-features-to-one-column\" data-toc-modified-id=\"combine-all-features-to-one-column-6.7\"><span class=\"toc-item-num\">6.7&nbsp;&nbsp;</span>combine all features to one column</a></span></li></ul></li><li><span><a href=\"#Feature-Scaling\" data-toc-modified-id=\"Feature-Scaling-7\"><span class=\"toc-item-num\">7&nbsp;&nbsp;</span>Feature Scaling</a></span></li><li><span><a href=\"#train-test-splitting\" data-toc-modified-id=\"train-test-splitting-8\"><span class=\"toc-item-num\">8&nbsp;&nbsp;</span>train test splitting</a></span></li><li><span><a href=\"#Modelling\" data-toc-modified-id=\"Modelling-9\"><span class=\"toc-item-num\">9&nbsp;&nbsp;</span>Modelling</a></span><ul class=\"toc-item\"><li><span><a href=\"#Linear-Regression\" data-toc-modified-id=\"Linear-Regression-9.1\"><span class=\"toc-item-num\">9.1&nbsp;&nbsp;</span>Linear Regression</a></span><ul class=\"toc-item\"><li><span><a href=\"#model-evaluation\" data-toc-modified-id=\"model-evaluation-9.1.1\"><span class=\"toc-item-num\">9.1.1&nbsp;&nbsp;</span>model evaluation</a></span></li><li><span><a href=\"#predictions\" data-toc-modified-id=\"predictions-9.1.2\"><span class=\"toc-item-num\">9.1.2&nbsp;&nbsp;</span>predictions</a></span></li><li><span><a href=\"#metrics\" data-toc-modified-id=\"metrics-9.1.3\"><span class=\"toc-item-num\">9.1.3&nbsp;&nbsp;</span>metrics</a></span></li><li><span><a href=\"#evaluation-using-ml.evaluation\" data-toc-modified-id=\"evaluation-using-ml.evaluation-9.1.4\"><span class=\"toc-item-num\">9.1.4&nbsp;&nbsp;</span>evaluation using ml.evaluation</a></span></li></ul></li><li><span><a href=\"#Elastic-Net-Regression\" data-toc-modified-id=\"Elastic-Net-Regression-9.2\"><span class=\"toc-item-num\">9.2&nbsp;&nbsp;</span>Elastic Net Regression</a></span></li><li><span><a href=\"#Decision-Tree-Regressor\" data-toc-modified-id=\"Decision-Tree-Regressor-9.3\"><span class=\"toc-item-num\">9.3&nbsp;&nbsp;</span>Decision Tree Regressor</a></span></li><li><span><a href=\"#Random-Forest-Regressor\" data-toc-modified-id=\"Random-Forest-Regressor-9.4\"><span class=\"toc-item-num\">9.4&nbsp;&nbsp;</span>Random Forest Regressor</a></span></li><li><span><a href=\"#Parameter-tuning\" data-toc-modified-id=\"Parameter-tuning-9.5\"><span class=\"toc-item-num\">9.5&nbsp;&nbsp;</span>Parameter tuning</a></span></li></ul></li><li><span><a href=\"#Feature-Importances\" data-toc-modified-id=\"Feature-Importances-10\"><span class=\"toc-item-num\">10&nbsp;&nbsp;</span>Feature Importances</a></span></li></ul></div>"
   ]
  },
  {
   "cell_type": "markdown",
   "metadata": {},
   "source": [
    "# Data Description\n",
    "\n",
    "This dataset contains house sale prices for King County,\n",
    "which includes Seattle.\n",
    "It includes homes sold between May 2014 and May 2015.\n",
    "\n",
    "- Dependent features: 1 (price)\n",
    "- Features : 19 home features\n",
    "- Id:  1 house ID\n",
    "\n",
    "Task: Try to estimate the price based on given features.\n",
    "![](../data/raw/data_description.png)"
   ]
  },
  {
   "cell_type": "markdown",
   "metadata": {},
   "source": [
    "# Imports"
   ]
  },
  {
   "cell_type": "code",
   "execution_count": 1,
   "metadata": {
    "ExecuteTime": {
     "end_time": "2019-09-30T00:24:47.651476Z",
     "start_time": "2019-09-30T00:24:46.790985Z"
    }
   },
   "outputs": [
    {
     "name": "stdout",
     "output_type": "stream",
     "text": [
      "[('numpy', '1.15.4'), ('pandas', '0.24.2'), ('seaborn', '0.9.0'), ('matplotlib', '2.2.4')]\n"
     ]
    }
   ],
   "source": [
    "import numpy as np\n",
    "import pandas as pd\n",
    "import seaborn as sns\n",
    "sns.set(color_codes=True)\n",
    "\n",
    "import matplotlib\n",
    "from matplotlib import rcParams\n",
    "import matplotlib.pyplot as plt\n",
    "%matplotlib inline\n",
    "%config InlineBackend.figure_format = 'retina'\n",
    "sns.set(context='notebook', style='whitegrid', rc={'figure.figsize': (12,8)})\n",
    "rcParams['figure.figsize'] = 12,8\n",
    "\n",
    "import os\n",
    "import time\n",
    "\n",
    "# random state\n",
    "random_state=100\n",
    "np.random.seed=random_state\n",
    "np.random.set_state=random_state\n",
    "\n",
    "# Jupyter notebook settings for pandas\n",
    "#pd.set_option('display.float_format', '{:,.2g}'.format) # numbers sep by comma\n",
    "pd.set_option('display.max_columns', 100)\n",
    "pd.set_option('display.max_rows', 100) # None for all the rows\n",
    "pd.set_option('display.max_colwidth', 200)\n",
    "\n",
    "\n",
    "import IPython\n",
    "from IPython.display import display, HTML, Image, Markdown\n",
    "\n",
    "print([(x.__name__,x.__version__) for x in [np, pd,sns,matplotlib]])"
   ]
  },
  {
   "cell_type": "code",
   "execution_count": 2,
   "metadata": {
    "ExecuteTime": {
     "end_time": "2019-09-30T00:24:47.659838Z",
     "start_time": "2019-09-30T00:24:47.653014Z"
    }
   },
   "outputs": [
    {
     "data": {
      "application/javascript": [
       "IPython.OutputArea.auto_scroll_threshold = 9999;\n"
      ],
      "text/plain": [
       "<IPython.core.display.Javascript object>"
      ]
     },
     "metadata": {},
     "output_type": "display_data"
    }
   ],
   "source": [
    "%%javascript\n",
    "IPython.OutputArea.auto_scroll_threshold = 9999;"
   ]
  },
  {
   "cell_type": "code",
   "execution_count": 3,
   "metadata": {
    "ExecuteTime": {
     "end_time": "2019-09-30T00:24:50.950380Z",
     "start_time": "2019-09-30T00:24:47.662157Z"
    }
   },
   "outputs": [
    {
     "name": "stdout",
     "output_type": "stream",
     "text": [
      "[('numpy', '1.15.4'), ('pandas', '0.24.2'), ('pyspark', '2.4.3')]\n"
     ]
    }
   ],
   "source": [
    "import numpy as np\n",
    "import pandas as pd\n",
    "import pyspark\n",
    "from pyspark import SparkConf, SparkContext, SQLContext\n",
    "from pyspark.sql import SparkSession\n",
    "from pyspark.sql.functions import col\n",
    "from pyspark.sql.functions import udf # @udf(\"integer\") def myfunc(x,y): return x - y\n",
    "from pyspark.sql import functions as F # stddev format_number date_format, dayofyear, when\n",
    "from pyspark.sql.types import StructField, StringType, IntegerType, FloatType, StructType, DateType\n",
    "\n",
    "print([(x.__name__,x.__version__) for x in [np, pd, pyspark]])\n",
    "\n",
    "spark = pyspark.sql.SparkSession.builder.appName('bhishan').getOrCreate()\n",
    "sc = spark.sparkContext\n",
    "sqlContext = SQLContext(sc) # spark_df = sqlContext.createDataFrame(pandas_df)\n",
    "sc.setLogLevel(\"INFO\")"
   ]
  },
  {
   "cell_type": "code",
   "execution_count": 4,
   "metadata": {
    "ExecuteTime": {
     "end_time": "2019-09-30T00:24:51.014268Z",
     "start_time": "2019-09-30T00:24:50.952480Z"
    }
   },
   "outputs": [],
   "source": [
    "from pyspark.ml.feature import StringIndexer, VectorIndexer\n",
    "from pyspark.ml.feature import OneHotEncoder,OneHotEncoderEstimator\n",
    "from pyspark.ml.feature import VectorAssembler\n",
    "from pyspark.ml.feature import StandardScaler\n",
    "from pyspark.ml import Pipeline\n",
    "\n",
    "from pyspark.ml.regression import LinearRegression\n",
    "from pyspark.ml.regression import DecisionTreeRegressor\n",
    "from pyspark.ml.regression import RandomForestRegressor\n",
    "from pyspark.ml.regression import GBTRegressor\n",
    "\n",
    "from pyspark.ml.tuning import ParamGridBuilder, CrossValidator, CrossValidatorModel\n",
    "\n",
    "from pyspark.ml.evaluation import RegressionEvaluator\n",
    "from pyspark.mllib.evaluation import RegressionMetrics"
   ]
  },
  {
   "cell_type": "code",
   "execution_count": 5,
   "metadata": {
    "ExecuteTime": {
     "end_time": "2019-09-30T00:24:51.023491Z",
     "start_time": "2019-09-30T00:24:51.016293Z"
    }
   },
   "outputs": [
    {
     "data": {
      "text/html": [
       "\n",
       "        <div>\n",
       "            <p><b>SparkContext</b></p>\n",
       "\n",
       "            <p><a href=\"http://pisces.phy.ohio.edu:4040\">Spark UI</a></p>\n",
       "\n",
       "            <dl>\n",
       "              <dt>Version</dt>\n",
       "                <dd><code>v2.4.3</code></dd>\n",
       "              <dt>Master</dt>\n",
       "                <dd><code>local[*]</code></dd>\n",
       "              <dt>AppName</dt>\n",
       "                <dd><code>bhishan</code></dd>\n",
       "            </dl>\n",
       "        </div>\n",
       "        "
      ],
      "text/plain": [
       "<SparkContext master=local[*] appName=bhishan>"
      ]
     },
     "execution_count": 5,
     "metadata": {},
     "output_type": "execute_result"
    }
   ],
   "source": [
    "sc"
   ]
  },
  {
   "cell_type": "markdown",
   "metadata": {},
   "source": [
    "# Load the data"
   ]
  },
  {
   "cell_type": "code",
   "execution_count": 6,
   "metadata": {
    "ExecuteTime": {
     "end_time": "2019-09-30T00:24:51.151134Z",
     "start_time": "2019-09-30T00:24:51.025563Z"
    }
   },
   "outputs": [
    {
     "name": "stdout",
     "output_type": "stream",
     "text": [
      "id,date,price,bedrooms,bathrooms,sqft_living,sqft_lot,floors,waterfront,view,condition,grade,sqft_above,sqft_basement,yr_built,yr_renovated,zipcode,lat,long,sqft_living15,sqft_lot15\r\n",
      "\"7129300520\",\"20141013T000000\",221900,3,1,1180,5650,\"1\",0,0,3,7,1180,0,1955,0,\"98178\",47.5112,-122.257,1340,5650\r\n",
      "\"6414100192\",\"20141209T000000\",538000,3,2.25,2570,7242,\"2\",0,0,3,7,2170,400,1951,1991,\"98125\",47.721,-122.319,1690,7639\r\n",
      "\"5631500400\",\"20150225T000000\",180000,2,1,770,10000,\"1\",0,0,3,6,770,0,1933,0,\"98028\",47.7379,-122.233,2720,8062\r\n",
      "\"2487200875\",\"20141209T000000\",604000,4,3,1960,5000,\"1\",0,0,5,7,1050,910,1965,0,\"98136\",47.5208,-122.393,1360,5000\r\n",
      "\"1954400510\",\"20150218T000000\",510000,3,2,1680,8080,\"1\",0,0,3,8,1680,0,1987,0,\"98074\",47.6168,-122.045,1800,7503\r\n",
      "\"7237550310\",\"20140512T000000\",1.225e+006,4,4.5,5420,101930,\"1\",0,0,3,11,3890,1530,2001,0,\"98053\",47.6561,-122.005,4760,101930\r\n",
      "\"1321400060\",\"20140627T000000\",257500,3,2.25,1715,6819,\"2\",0,0,3,7,1715,0,1995,0,\"98003\",47.3097,-122.327,2238,6819\r\n",
      "\"2008000270\",\"20150115T000000\",291850,3,1.5,1060,9711,\"1\",0,0,3,7,1060,0,1963,0,\"98198\",47.4095,-122.315,1650,9711\r\n",
      "\"2414600126\",\"20150415T000000\",229500,3,1,1780,7470,\"1\",0,0,3,7,1050,730,1960,0,\"98146\",47.5123,-122.337,1780,8113\r\n"
     ]
    }
   ],
   "source": [
    "!head  ../data/raw/kc_house_data.csv"
   ]
  },
  {
   "cell_type": "code",
   "execution_count": 7,
   "metadata": {
    "ExecuteTime": {
     "end_time": "2019-09-30T00:24:56.242972Z",
     "start_time": "2019-09-30T00:24:51.153729Z"
    }
   },
   "outputs": [
    {
     "name": "stdout",
     "output_type": "stream",
     "text": [
      "nrows =  21613 ncols =  21\n"
     ]
    },
    {
     "data": {
      "text/html": [
       "<div>\n",
       "<style scoped>\n",
       "    .dataframe tbody tr th:only-of-type {\n",
       "        vertical-align: middle;\n",
       "    }\n",
       "\n",
       "    .dataframe tbody tr th {\n",
       "        vertical-align: top;\n",
       "    }\n",
       "\n",
       "    .dataframe thead th {\n",
       "        text-align: right;\n",
       "    }\n",
       "</style>\n",
       "<table border=\"1\" class=\"dataframe\">\n",
       "  <thead>\n",
       "    <tr style=\"text-align: right;\">\n",
       "      <th></th>\n",
       "      <th>id</th>\n",
       "      <th>date</th>\n",
       "      <th>price</th>\n",
       "      <th>bedrooms</th>\n",
       "      <th>bathrooms</th>\n",
       "      <th>sqft_living</th>\n",
       "      <th>sqft_lot</th>\n",
       "      <th>floors</th>\n",
       "      <th>waterfront</th>\n",
       "      <th>view</th>\n",
       "      <th>condition</th>\n",
       "      <th>grade</th>\n",
       "      <th>sqft_above</th>\n",
       "      <th>sqft_basement</th>\n",
       "      <th>yr_built</th>\n",
       "      <th>yr_renovated</th>\n",
       "      <th>zipcode</th>\n",
       "      <th>lat</th>\n",
       "      <th>long</th>\n",
       "      <th>sqft_living15</th>\n",
       "      <th>sqft_lot15</th>\n",
       "    </tr>\n",
       "  </thead>\n",
       "  <tbody>\n",
       "    <tr>\n",
       "      <th>0</th>\n",
       "      <td>7129300520</td>\n",
       "      <td>20141013T000000</td>\n",
       "      <td>221900</td>\n",
       "      <td>3</td>\n",
       "      <td>1.00</td>\n",
       "      <td>1180</td>\n",
       "      <td>5650</td>\n",
       "      <td>1.0</td>\n",
       "      <td>0</td>\n",
       "      <td>0</td>\n",
       "      <td>3</td>\n",
       "      <td>7</td>\n",
       "      <td>1180</td>\n",
       "      <td>0</td>\n",
       "      <td>1955</td>\n",
       "      <td>0</td>\n",
       "      <td>98178</td>\n",
       "      <td>47.5112</td>\n",
       "      <td>-122.257</td>\n",
       "      <td>1340</td>\n",
       "      <td>5650</td>\n",
       "    </tr>\n",
       "    <tr>\n",
       "      <th>1</th>\n",
       "      <td>6414100192</td>\n",
       "      <td>20141209T000000</td>\n",
       "      <td>538000</td>\n",
       "      <td>3</td>\n",
       "      <td>2.25</td>\n",
       "      <td>2570</td>\n",
       "      <td>7242</td>\n",
       "      <td>2.0</td>\n",
       "      <td>0</td>\n",
       "      <td>0</td>\n",
       "      <td>3</td>\n",
       "      <td>7</td>\n",
       "      <td>2170</td>\n",
       "      <td>400</td>\n",
       "      <td>1951</td>\n",
       "      <td>1991</td>\n",
       "      <td>98125</td>\n",
       "      <td>47.7210</td>\n",
       "      <td>-122.319</td>\n",
       "      <td>1690</td>\n",
       "      <td>7639</td>\n",
       "    </tr>\n",
       "    <tr>\n",
       "      <th>2</th>\n",
       "      <td>5631500400</td>\n",
       "      <td>20150225T000000</td>\n",
       "      <td>180000</td>\n",
       "      <td>2</td>\n",
       "      <td>1.00</td>\n",
       "      <td>770</td>\n",
       "      <td>10000</td>\n",
       "      <td>1.0</td>\n",
       "      <td>0</td>\n",
       "      <td>0</td>\n",
       "      <td>3</td>\n",
       "      <td>6</td>\n",
       "      <td>770</td>\n",
       "      <td>0</td>\n",
       "      <td>1933</td>\n",
       "      <td>0</td>\n",
       "      <td>98028</td>\n",
       "      <td>47.7379</td>\n",
       "      <td>-122.233</td>\n",
       "      <td>2720</td>\n",
       "      <td>8062</td>\n",
       "    </tr>\n",
       "    <tr>\n",
       "      <th>3</th>\n",
       "      <td>2487200875</td>\n",
       "      <td>20141209T000000</td>\n",
       "      <td>604000</td>\n",
       "      <td>4</td>\n",
       "      <td>3.00</td>\n",
       "      <td>1960</td>\n",
       "      <td>5000</td>\n",
       "      <td>1.0</td>\n",
       "      <td>0</td>\n",
       "      <td>0</td>\n",
       "      <td>5</td>\n",
       "      <td>7</td>\n",
       "      <td>1050</td>\n",
       "      <td>910</td>\n",
       "      <td>1965</td>\n",
       "      <td>0</td>\n",
       "      <td>98136</td>\n",
       "      <td>47.5208</td>\n",
       "      <td>-122.393</td>\n",
       "      <td>1360</td>\n",
       "      <td>5000</td>\n",
       "    </tr>\n",
       "    <tr>\n",
       "      <th>4</th>\n",
       "      <td>1954400510</td>\n",
       "      <td>20150218T000000</td>\n",
       "      <td>510000</td>\n",
       "      <td>3</td>\n",
       "      <td>2.00</td>\n",
       "      <td>1680</td>\n",
       "      <td>8080</td>\n",
       "      <td>1.0</td>\n",
       "      <td>0</td>\n",
       "      <td>0</td>\n",
       "      <td>3</td>\n",
       "      <td>8</td>\n",
       "      <td>1680</td>\n",
       "      <td>0</td>\n",
       "      <td>1987</td>\n",
       "      <td>0</td>\n",
       "      <td>98074</td>\n",
       "      <td>47.6168</td>\n",
       "      <td>-122.045</td>\n",
       "      <td>1800</td>\n",
       "      <td>7503</td>\n",
       "    </tr>\n",
       "  </tbody>\n",
       "</table>\n",
       "</div>"
      ],
      "text/plain": [
       "           id             date   price  bedrooms  bathrooms  sqft_living  \\\n",
       "0  7129300520  20141013T000000  221900         3       1.00         1180   \n",
       "1  6414100192  20141209T000000  538000         3       2.25         2570   \n",
       "2  5631500400  20150225T000000  180000         2       1.00          770   \n",
       "3  2487200875  20141209T000000  604000         4       3.00         1960   \n",
       "4  1954400510  20150218T000000  510000         3       2.00         1680   \n",
       "\n",
       "   sqft_lot  floors  waterfront  view  condition  grade  sqft_above  \\\n",
       "0      5650     1.0           0     0          3      7        1180   \n",
       "1      7242     2.0           0     0          3      7        2170   \n",
       "2     10000     1.0           0     0          3      6         770   \n",
       "3      5000     1.0           0     0          5      7        1050   \n",
       "4      8080     1.0           0     0          3      8        1680   \n",
       "\n",
       "   sqft_basement  yr_built  yr_renovated  zipcode      lat     long  \\\n",
       "0              0      1955             0    98178  47.5112 -122.257   \n",
       "1            400      1951          1991    98125  47.7210 -122.319   \n",
       "2              0      1933             0    98028  47.7379 -122.233   \n",
       "3            910      1965             0    98136  47.5208 -122.393   \n",
       "4              0      1987             0    98074  47.6168 -122.045   \n",
       "\n",
       "   sqft_living15  sqft_lot15  \n",
       "0           1340        5650  \n",
       "1           1690        7639  \n",
       "2           2720        8062  \n",
       "3           1360        5000  \n",
       "4           1800        7503  "
      ]
     },
     "execution_count": 7,
     "metadata": {},
     "output_type": "execute_result"
    }
   ],
   "source": [
    "df = spark.read.csv('../data/raw/kc_house_data.csv', header=True, inferSchema=True).cache()\n",
    "print('nrows = ', df.count(), 'ncols = ', len(df.columns))\n",
    "df.limit(5).toPandas()"
   ]
  },
  {
   "cell_type": "code",
   "execution_count": 8,
   "metadata": {
    "ExecuteTime": {
     "end_time": "2019-09-30T00:24:56.253347Z",
     "start_time": "2019-09-30T00:24:56.245560Z"
    }
   },
   "outputs": [
    {
     "name": "stdout",
     "output_type": "stream",
     "text": [
      "root\n",
      " |-- id: long (nullable = true)\n",
      " |-- date: string (nullable = true)\n",
      " |-- price: decimal(7,0) (nullable = true)\n",
      " |-- bedrooms: integer (nullable = true)\n",
      " |-- bathrooms: double (nullable = true)\n",
      " |-- sqft_living: integer (nullable = true)\n",
      " |-- sqft_lot: integer (nullable = true)\n",
      " |-- floors: double (nullable = true)\n",
      " |-- waterfront: integer (nullable = true)\n",
      " |-- view: integer (nullable = true)\n",
      " |-- condition: integer (nullable = true)\n",
      " |-- grade: integer (nullable = true)\n",
      " |-- sqft_above: integer (nullable = true)\n",
      " |-- sqft_basement: integer (nullable = true)\n",
      " |-- yr_built: integer (nullable = true)\n",
      " |-- yr_renovated: integer (nullable = true)\n",
      " |-- zipcode: integer (nullable = true)\n",
      " |-- lat: double (nullable = true)\n",
      " |-- long: double (nullable = true)\n",
      " |-- sqft_living15: integer (nullable = true)\n",
      " |-- sqft_lot15: integer (nullable = true)\n",
      "\n"
     ]
    }
   ],
   "source": [
    "df.printSchema()"
   ]
  },
  {
   "cell_type": "code",
   "execution_count": 9,
   "metadata": {
    "ExecuteTime": {
     "end_time": "2019-09-30T00:24:56.259778Z",
     "start_time": "2019-09-30T00:24:56.255721Z"
    }
   },
   "outputs": [
    {
     "name": "stdout",
     "output_type": "stream",
     "text": [
      "['id', 'date', 'price', 'bedrooms', 'bathrooms', 'sqft_living', 'sqft_lot', 'floors', 'waterfront', 'view', 'condition', 'grade', 'sqft_above', 'sqft_basement', 'yr_built', 'yr_renovated', 'zipcode', 'lat', 'long', 'sqft_living15', 'sqft_lot15']\n"
     ]
    }
   ],
   "source": [
    "print(df.columns)"
   ]
  },
  {
   "cell_type": "markdown",
   "metadata": {},
   "source": [
    "# EDA"
   ]
  },
  {
   "cell_type": "code",
   "execution_count": 10,
   "metadata": {
    "ExecuteTime": {
     "end_time": "2019-09-30T00:24:56.476158Z",
     "start_time": "2019-09-30T00:24:56.262034Z"
    }
   },
   "outputs": [
    {
     "name": "stdout",
     "output_type": "stream",
     "text": [
      "+------+-----------+\n",
      "| price|sqft_living|\n",
      "+------+-----------+\n",
      "|221900|       1180|\n",
      "|538000|       2570|\n",
      "|180000|        770|\n",
      "|604000|       1960|\n",
      "|510000|       1680|\n",
      "+------+-----------+\n",
      "only showing top 5 rows\n",
      "\n"
     ]
    }
   ],
   "source": [
    "df.select(['price','sqft_living']).show(5)"
   ]
  },
  {
   "cell_type": "code",
   "execution_count": 11,
   "metadata": {
    "ExecuteTime": {
     "end_time": "2019-09-30T00:24:56.748699Z",
     "start_time": "2019-09-30T00:24:56.478234Z"
    }
   },
   "outputs": [
    {
     "name": "stdout",
     "output_type": "stream",
     "text": [
      "+-----------+----------+\n",
      "| avg(price)|max(price)|\n",
      "+-----------+----------+\n",
      "|540088.1418|   7700000|\n",
      "+-----------+----------+\n",
      "\n"
     ]
    }
   ],
   "source": [
    "df.select(F.mean('price'), F.max('price')).show()"
   ]
  },
  {
   "cell_type": "code",
   "execution_count": 12,
   "metadata": {
    "ExecuteTime": {
     "end_time": "2019-09-30T00:24:56.937428Z",
     "start_time": "2019-09-30T00:24:56.750708Z"
    }
   },
   "outputs": [
    {
     "name": "stdout",
     "output_type": "stream",
     "text": [
      "+----------------+----------------+\n",
      "|max(sqft_living)|min(sqft_living)|\n",
      "+----------------+----------------+\n",
      "|           13540|             290|\n",
      "+----------------+----------------+\n",
      "\n"
     ]
    }
   ],
   "source": [
    "df.select([x(df['sqft_living']) \n",
    "           for x in [F.max, F.min ]]).show()"
   ]
  },
  {
   "cell_type": "code",
   "execution_count": 13,
   "metadata": {
    "ExecuteTime": {
     "end_time": "2019-09-30T00:24:58.131423Z",
     "start_time": "2019-09-30T00:24:56.939537Z"
    }
   },
   "outputs": [
    {
     "name": "stdout",
     "output_type": "stream",
     "text": [
      "+-----+\n",
      "|grade|\n",
      "+-----+\n",
      "|   12|\n",
      "|    1|\n",
      "|   13|\n",
      "|    6|\n",
      "|    3|\n",
      "|    5|\n",
      "|    9|\n",
      "|    4|\n",
      "|    8|\n",
      "|    7|\n",
      "|   10|\n",
      "|   11|\n",
      "+-----+\n",
      "\n"
     ]
    }
   ],
   "source": [
    "df.select('grade').distinct().show()"
   ]
  },
  {
   "cell_type": "code",
   "execution_count": 14,
   "metadata": {
    "ExecuteTime": {
     "end_time": "2019-09-30T00:24:59.020457Z",
     "start_time": "2019-09-30T00:24:58.133539Z"
    }
   },
   "outputs": [
    {
     "name": "stdout",
     "output_type": "stream",
     "text": [
      "+--------+----------+\n",
      "|bedrooms|max(price)|\n",
      "+--------+----------+\n",
      "|       1|   1247000|\n",
      "|       6|   7700000|\n",
      "|       3|   3800000|\n",
      "|       5|   7062500|\n",
      "|       9|   1400000|\n",
      "|       4|   4489000|\n",
      "|       8|   3300000|\n",
      "|       7|   3200000|\n",
      "|      10|   1148000|\n",
      "|      11|    520000|\n",
      "|      33|    640000|\n",
      "|       2|   3278000|\n",
      "|       0|   1295650|\n",
      "+--------+----------+\n",
      "\n"
     ]
    }
   ],
   "source": [
    "df.groupBy('bedrooms').agg(F.max('price')).show()"
   ]
  },
  {
   "cell_type": "code",
   "execution_count": 15,
   "metadata": {
    "ExecuteTime": {
     "end_time": "2019-09-30T00:24:59.315354Z",
     "start_time": "2019-09-30T00:24:59.022131Z"
    }
   },
   "outputs": [
    {
     "name": "stdout",
     "output_type": "stream",
     "text": [
      "+------------+\n",
      "|count(grade)|\n",
      "+------------+\n",
      "|       21613|\n",
      "+------------+\n",
      "\n"
     ]
    }
   ],
   "source": [
    "df.filter(df['price']>10000).agg({'grade': 'count'}).show()"
   ]
  },
  {
   "cell_type": "code",
   "execution_count": 16,
   "metadata": {
    "ExecuteTime": {
     "end_time": "2019-09-30T00:24:59.452555Z",
     "start_time": "2019-09-30T00:24:59.317924Z"
    }
   },
   "outputs": [
    {
     "name": "stdout",
     "output_type": "stream",
     "text": [
      "+---------------+\n",
      "|           date|\n",
      "+---------------+\n",
      "|20141013T000000|\n",
      "|20141209T000000|\n",
      "+---------------+\n",
      "only showing top 2 rows\n",
      "\n"
     ]
    }
   ],
   "source": [
    "df.select('date').filter(df['date'].like('2014%')).show(2)"
   ]
  },
  {
   "cell_type": "code",
   "execution_count": 17,
   "metadata": {
    "ExecuteTime": {
     "end_time": "2019-09-30T00:24:59.617744Z",
     "start_time": "2019-09-30T00:24:59.454484Z"
    }
   },
   "outputs": [
    {
     "name": "stdout",
     "output_type": "stream",
     "text": [
      "+----------+--------+\n",
      "|        id|bedrooms|\n",
      "+----------+--------+\n",
      "|5631500400|       2|\n",
      "|9212900260|       2|\n",
      "+----------+--------+\n",
      "only showing top 2 rows\n",
      "\n"
     ]
    }
   ],
   "source": [
    "df.select('id', 'bedrooms').filter(df['bedrooms'].isin(1,2)).show(2)"
   ]
  },
  {
   "cell_type": "code",
   "execution_count": 18,
   "metadata": {
    "ExecuteTime": {
     "end_time": "2019-09-30T00:24:59.719118Z",
     "start_time": "2019-09-30T00:24:59.619928Z"
    }
   },
   "outputs": [],
   "source": [
    "view_grp =  df.groupBy(\"view\").count().sort(\"view\", ascending=False)"
   ]
  },
  {
   "cell_type": "code",
   "execution_count": 19,
   "metadata": {
    "ExecuteTime": {
     "end_time": "2019-09-30T00:25:01.720931Z",
     "start_time": "2019-09-30T00:24:59.723996Z"
    }
   },
   "outputs": [
    {
     "data": {
      "text/plain": [
       "<matplotlib.axes._subplots.AxesSubplot at 0x11dd89080>"
      ]
     },
     "execution_count": 19,
     "metadata": {},
     "output_type": "execute_result"
    },
    {
     "data": {
      "image/png": "[encoded data removed]",
      "text/plain": [
       "<Figure size 432x288 with 1 Axes>"
      ]
     },
     "metadata": {
      "image/png": {
       "height": 250,
       "width": 392
      },
      "needs_background": "light"
     },
     "output_type": "display_data"
    }
   ],
   "source": [
    "view_grp.toPandas().plot.bar()"
   ]
  },
  {
   "cell_type": "code",
   "execution_count": 20,
   "metadata": {
    "ExecuteTime": {
     "end_time": "2019-09-30T00:25:03.439031Z",
     "start_time": "2019-09-30T00:25:01.725150Z"
    }
   },
   "outputs": [
    {
     "data": {
      "text/html": [
       "<div>\n",
       "<style scoped>\n",
       "    .dataframe tbody tr th:only-of-type {\n",
       "        vertical-align: middle;\n",
       "    }\n",
       "\n",
       "    .dataframe tbody tr th {\n",
       "        vertical-align: top;\n",
       "    }\n",
       "\n",
       "    .dataframe thead th {\n",
       "        text-align: right;\n",
       "    }\n",
       "</style>\n",
       "<table border=\"1\" class=\"dataframe\">\n",
       "  <thead>\n",
       "    <tr style=\"text-align: right;\">\n",
       "      <th></th>\n",
       "      <th>id</th>\n",
       "      <th>price</th>\n",
       "      <th>bedrooms</th>\n",
       "      <th>bathrooms</th>\n",
       "      <th>sqft_living</th>\n",
       "      <th>sqft_lot</th>\n",
       "      <th>floors</th>\n",
       "      <th>waterfront</th>\n",
       "      <th>view</th>\n",
       "      <th>condition</th>\n",
       "      <th>grade</th>\n",
       "      <th>sqft_above</th>\n",
       "      <th>sqft_basement</th>\n",
       "      <th>yr_built</th>\n",
       "      <th>yr_renovated</th>\n",
       "      <th>zipcode</th>\n",
       "      <th>lat</th>\n",
       "      <th>long</th>\n",
       "      <th>sqft_living15</th>\n",
       "      <th>sqft_lot15</th>\n",
       "    </tr>\n",
       "    <tr>\n",
       "      <th>summary</th>\n",
       "      <th></th>\n",
       "      <th></th>\n",
       "      <th></th>\n",
       "      <th></th>\n",
       "      <th></th>\n",
       "      <th></th>\n",
       "      <th></th>\n",
       "      <th></th>\n",
       "      <th></th>\n",
       "      <th></th>\n",
       "      <th></th>\n",
       "      <th></th>\n",
       "      <th></th>\n",
       "      <th></th>\n",
       "      <th></th>\n",
       "      <th></th>\n",
       "      <th></th>\n",
       "      <th></th>\n",
       "      <th></th>\n",
       "      <th></th>\n",
       "    </tr>\n",
       "  </thead>\n",
       "  <tbody>\n",
       "    <tr>\n",
       "      <th>count</th>\n",
       "      <td>2.161300e+04</td>\n",
       "      <td>21613.000</td>\n",
       "      <td>21613.000</td>\n",
       "      <td>21613.000</td>\n",
       "      <td>21613.000</td>\n",
       "      <td>21613.000</td>\n",
       "      <td>21613.000</td>\n",
       "      <td>21613.000</td>\n",
       "      <td>21613.000</td>\n",
       "      <td>21613.000</td>\n",
       "      <td>21613.000</td>\n",
       "      <td>21613.000</td>\n",
       "      <td>21613.000</td>\n",
       "      <td>21613.000</td>\n",
       "      <td>21613.000</td>\n",
       "      <td>21613.000</td>\n",
       "      <td>21613.000</td>\n",
       "      <td>21613.000</td>\n",
       "      <td>21613.000</td>\n",
       "      <td>21613.000</td>\n",
       "    </tr>\n",
       "    <tr>\n",
       "      <th>mean</th>\n",
       "      <td>4.580302e+09</td>\n",
       "      <td>540088.142</td>\n",
       "      <td>3.371</td>\n",
       "      <td>2.115</td>\n",
       "      <td>2079.900</td>\n",
       "      <td>15106.968</td>\n",
       "      <td>1.494</td>\n",
       "      <td>0.008</td>\n",
       "      <td>0.234</td>\n",
       "      <td>3.409</td>\n",
       "      <td>7.657</td>\n",
       "      <td>1788.391</td>\n",
       "      <td>291.509</td>\n",
       "      <td>1971.005</td>\n",
       "      <td>84.402</td>\n",
       "      <td>98077.940</td>\n",
       "      <td>47.560</td>\n",
       "      <td>-122.214</td>\n",
       "      <td>1986.552</td>\n",
       "      <td>12768.456</td>\n",
       "    </tr>\n",
       "    <tr>\n",
       "      <th>stddev</th>\n",
       "      <td>2.876566e+09</td>\n",
       "      <td>367127.196</td>\n",
       "      <td>0.930</td>\n",
       "      <td>0.770</td>\n",
       "      <td>918.441</td>\n",
       "      <td>41420.512</td>\n",
       "      <td>0.540</td>\n",
       "      <td>0.087</td>\n",
       "      <td>0.766</td>\n",
       "      <td>0.651</td>\n",
       "      <td>1.175</td>\n",
       "      <td>828.091</td>\n",
       "      <td>442.575</td>\n",
       "      <td>29.373</td>\n",
       "      <td>401.679</td>\n",
       "      <td>53.505</td>\n",
       "      <td>0.139</td>\n",
       "      <td>0.141</td>\n",
       "      <td>685.391</td>\n",
       "      <td>27304.180</td>\n",
       "    </tr>\n",
       "    <tr>\n",
       "      <th>min</th>\n",
       "      <td>1.000102e+06</td>\n",
       "      <td>75000.000</td>\n",
       "      <td>0.000</td>\n",
       "      <td>0.000</td>\n",
       "      <td>290.000</td>\n",
       "      <td>520.000</td>\n",
       "      <td>1.000</td>\n",
       "      <td>0.000</td>\n",
       "      <td>0.000</td>\n",
       "      <td>1.000</td>\n",
       "      <td>1.000</td>\n",
       "      <td>290.000</td>\n",
       "      <td>0.000</td>\n",
       "      <td>1900.000</td>\n",
       "      <td>0.000</td>\n",
       "      <td>98001.000</td>\n",
       "      <td>47.156</td>\n",
       "      <td>-122.519</td>\n",
       "      <td>399.000</td>\n",
       "      <td>651.000</td>\n",
       "    </tr>\n",
       "    <tr>\n",
       "      <th>max</th>\n",
       "      <td>9.900000e+09</td>\n",
       "      <td>7700000.000</td>\n",
       "      <td>33.000</td>\n",
       "      <td>8.000</td>\n",
       "      <td>13540.000</td>\n",
       "      <td>1651359.000</td>\n",
       "      <td>3.500</td>\n",
       "      <td>1.000</td>\n",
       "      <td>4.000</td>\n",
       "      <td>5.000</td>\n",
       "      <td>13.000</td>\n",
       "      <td>9410.000</td>\n",
       "      <td>4820.000</td>\n",
       "      <td>2015.000</td>\n",
       "      <td>2015.000</td>\n",
       "      <td>98199.000</td>\n",
       "      <td>47.778</td>\n",
       "      <td>-121.315</td>\n",
       "      <td>6210.000</td>\n",
       "      <td>871200.000</td>\n",
       "    </tr>\n",
       "  </tbody>\n",
       "</table>\n",
       "</div>"
      ],
      "text/plain": [
       "                   id        price   bedrooms  bathrooms  sqft_living  \\\n",
       "summary                                                                 \n",
       "count    2.161300e+04    21613.000  21613.000  21613.000    21613.000   \n",
       "mean     4.580302e+09   540088.142      3.371      2.115     2079.900   \n",
       "stddev   2.876566e+09   367127.196      0.930      0.770      918.441   \n",
       "min      1.000102e+06    75000.000      0.000      0.000      290.000   \n",
       "max      9.900000e+09  7700000.000     33.000      8.000    13540.000   \n",
       "\n",
       "            sqft_lot     floors  waterfront       view  condition      grade  \\\n",
       "summary                                                                        \n",
       "count      21613.000  21613.000   21613.000  21613.000  21613.000  21613.000   \n",
       "mean       15106.968      1.494       0.008      0.234      3.409      7.657   \n",
       "stddev     41420.512      0.540       0.087      0.766      0.651      1.175   \n",
       "min          520.000      1.000       0.000      0.000      1.000      1.000   \n",
       "max      1651359.000      3.500       1.000      4.000      5.000     13.000   \n",
       "\n",
       "         sqft_above  sqft_basement   yr_built  yr_renovated    zipcode  \\\n",
       "summary                                                                  \n",
       "count     21613.000      21613.000  21613.000     21613.000  21613.000   \n",
       "mean       1788.391        291.509   1971.005        84.402  98077.940   \n",
       "stddev      828.091        442.575     29.373       401.679     53.505   \n",
       "min         290.000          0.000   1900.000         0.000  98001.000   \n",
       "max        9410.000       4820.000   2015.000      2015.000  98199.000   \n",
       "\n",
       "               lat       long  sqft_living15  sqft_lot15  \n",
       "summary                                                   \n",
       "count    21613.000  21613.000      21613.000   21613.000  \n",
       "mean        47.560   -122.214       1986.552   12768.456  \n",
       "stddev       0.139      0.141        685.391   27304.180  \n",
       "min         47.156   -122.519        399.000     651.000  \n",
       "max         47.778   -121.315       6210.000  871200.000  "
      ]
     },
     "execution_count": 20,
     "metadata": {},
     "output_type": "execute_result"
    }
   ],
   "source": [
    "df.drop('date').describe().toPandas().set_index('summary').astype(float).round(3)"
   ]
  },
  {
   "cell_type": "markdown",
   "metadata": {
    "ExecuteTime": {
     "end_time": "2019-09-29T20:26:51.539788Z",
     "start_time": "2019-09-29T20:26:51.387123Z"
    }
   },
   "source": [
    "# Feature Engineering"
   ]
  },
  {
   "cell_type": "markdown",
   "metadata": {},
   "source": [
    "## date time features"
   ]
  },
  {
   "cell_type": "code",
   "execution_count": 21,
   "metadata": {
    "ExecuteTime": {
     "end_time": "2019-09-30T00:25:03.665360Z",
     "start_time": "2019-09-30T00:25:03.444319Z"
    }
   },
   "outputs": [
    {
     "name": "stdout",
     "output_type": "stream",
     "text": [
      "+---------------+--------+\n",
      "|           date|yr_sales|\n",
      "+---------------+--------+\n",
      "|20141013T000000|    2014|\n",
      "|20141209T000000|    2014|\n",
      "+---------------+--------+\n",
      "only showing top 2 rows\n",
      "\n"
     ]
    }
   ],
   "source": [
    "df = df.withColumn('yr_sales', df['date'].substr(1, 4).cast(IntegerType()))\n",
    "df.select('date','yr_sales').show(2)"
   ]
  },
  {
   "cell_type": "code",
   "execution_count": 22,
   "metadata": {
    "ExecuteTime": {
     "end_time": "2019-09-30T00:25:03.831156Z",
     "start_time": "2019-09-30T00:25:03.667610Z"
    }
   },
   "outputs": [
    {
     "name": "stdout",
     "output_type": "stream",
     "text": [
      "+--------+--------+---+\n",
      "|yr_sales|yr_built|age|\n",
      "+--------+--------+---+\n",
      "|    2014|    1955| 59|\n",
      "|    2014|    1951| 63|\n",
      "|    2015|    1933| 82|\n",
      "|    2014|    1965| 49|\n",
      "|    2015|    1987| 28|\n",
      "+--------+--------+---+\n",
      "only showing top 5 rows\n",
      "\n"
     ]
    }
   ],
   "source": [
    "df = df.withColumn('age', df['yr_sales'] - df['yr_built'])\n",
    "df.select('yr_sales','yr_built','age').show(5)"
   ]
  },
  {
   "cell_type": "code",
   "execution_count": 23,
   "metadata": {
    "ExecuteTime": {
     "end_time": "2019-09-30T00:25:04.116712Z",
     "start_time": "2019-09-30T00:25:03.834116Z"
    }
   },
   "outputs": [
    {
     "name": "stdout",
     "output_type": "stream",
     "text": [
      "+-------+------------------+\n",
      "|summary|               age|\n",
      "+-------+------------------+\n",
      "|  count|             21613|\n",
      "|   mean| 43.31781797991949|\n",
      "| stddev|29.375492803877584|\n",
      "|    min|                -1|\n",
      "|    max|               115|\n",
      "+-------+------------------+\n",
      "\n"
     ]
    }
   ],
   "source": [
    "df.select('age').describe().show()"
   ]
  },
  {
   "cell_type": "code",
   "execution_count": 24,
   "metadata": {
    "ExecuteTime": {
     "end_time": "2019-09-30T00:25:04.257922Z",
     "start_time": "2019-09-30T00:25:04.119687Z"
    }
   },
   "outputs": [
    {
     "data": {
      "text/html": [
       "<div>\n",
       "<style scoped>\n",
       "    .dataframe tbody tr th:only-of-type {\n",
       "        vertical-align: middle;\n",
       "    }\n",
       "\n",
       "    .dataframe tbody tr th {\n",
       "        vertical-align: top;\n",
       "    }\n",
       "\n",
       "    .dataframe thead th {\n",
       "        text-align: right;\n",
       "    }\n",
       "</style>\n",
       "<table border=\"1\" class=\"dataframe\">\n",
       "  <thead>\n",
       "    <tr style=\"text-align: right;\">\n",
       "      <th></th>\n",
       "      <th>id</th>\n",
       "      <th>date</th>\n",
       "      <th>price</th>\n",
       "      <th>bedrooms</th>\n",
       "      <th>bathrooms</th>\n",
       "      <th>sqft_living</th>\n",
       "      <th>sqft_lot</th>\n",
       "      <th>floors</th>\n",
       "      <th>waterfront</th>\n",
       "      <th>view</th>\n",
       "      <th>condition</th>\n",
       "      <th>grade</th>\n",
       "      <th>sqft_above</th>\n",
       "      <th>sqft_basement</th>\n",
       "      <th>yr_built</th>\n",
       "      <th>yr_renovated</th>\n",
       "      <th>zipcode</th>\n",
       "      <th>lat</th>\n",
       "      <th>long</th>\n",
       "      <th>sqft_living15</th>\n",
       "      <th>sqft_lot15</th>\n",
       "      <th>yr_sales</th>\n",
       "      <th>age</th>\n",
       "    </tr>\n",
       "  </thead>\n",
       "  <tbody>\n",
       "    <tr>\n",
       "      <th>0</th>\n",
       "      <td>7129300520</td>\n",
       "      <td>20141013T000000</td>\n",
       "      <td>221900</td>\n",
       "      <td>3</td>\n",
       "      <td>1.00</td>\n",
       "      <td>1180</td>\n",
       "      <td>5650</td>\n",
       "      <td>1.0</td>\n",
       "      <td>0</td>\n",
       "      <td>0</td>\n",
       "      <td>3</td>\n",
       "      <td>7</td>\n",
       "      <td>1180</td>\n",
       "      <td>0</td>\n",
       "      <td>1955</td>\n",
       "      <td>0</td>\n",
       "      <td>98178</td>\n",
       "      <td>47.5112</td>\n",
       "      <td>-122.257</td>\n",
       "      <td>1340</td>\n",
       "      <td>5650</td>\n",
       "      <td>2014</td>\n",
       "      <td>59</td>\n",
       "    </tr>\n",
       "    <tr>\n",
       "      <th>1</th>\n",
       "      <td>6414100192</td>\n",
       "      <td>20141209T000000</td>\n",
       "      <td>538000</td>\n",
       "      <td>3</td>\n",
       "      <td>2.25</td>\n",
       "      <td>2570</td>\n",
       "      <td>7242</td>\n",
       "      <td>2.0</td>\n",
       "      <td>0</td>\n",
       "      <td>0</td>\n",
       "      <td>3</td>\n",
       "      <td>7</td>\n",
       "      <td>2170</td>\n",
       "      <td>400</td>\n",
       "      <td>1951</td>\n",
       "      <td>1991</td>\n",
       "      <td>98125</td>\n",
       "      <td>47.7210</td>\n",
       "      <td>-122.319</td>\n",
       "      <td>1690</td>\n",
       "      <td>7639</td>\n",
       "      <td>2014</td>\n",
       "      <td>63</td>\n",
       "    </tr>\n",
       "    <tr>\n",
       "      <th>2</th>\n",
       "      <td>5631500400</td>\n",
       "      <td>20150225T000000</td>\n",
       "      <td>180000</td>\n",
       "      <td>2</td>\n",
       "      <td>1.00</td>\n",
       "      <td>770</td>\n",
       "      <td>10000</td>\n",
       "      <td>1.0</td>\n",
       "      <td>0</td>\n",
       "      <td>0</td>\n",
       "      <td>3</td>\n",
       "      <td>6</td>\n",
       "      <td>770</td>\n",
       "      <td>0</td>\n",
       "      <td>1933</td>\n",
       "      <td>0</td>\n",
       "      <td>98028</td>\n",
       "      <td>47.7379</td>\n",
       "      <td>-122.233</td>\n",
       "      <td>2720</td>\n",
       "      <td>8062</td>\n",
       "      <td>2015</td>\n",
       "      <td>82</td>\n",
       "    </tr>\n",
       "    <tr>\n",
       "      <th>3</th>\n",
       "      <td>2487200875</td>\n",
       "      <td>20141209T000000</td>\n",
       "      <td>604000</td>\n",
       "      <td>4</td>\n",
       "      <td>3.00</td>\n",
       "      <td>1960</td>\n",
       "      <td>5000</td>\n",
       "      <td>1.0</td>\n",
       "      <td>0</td>\n",
       "      <td>0</td>\n",
       "      <td>5</td>\n",
       "      <td>7</td>\n",
       "      <td>1050</td>\n",
       "      <td>910</td>\n",
       "      <td>1965</td>\n",
       "      <td>0</td>\n",
       "      <td>98136</td>\n",
       "      <td>47.5208</td>\n",
       "      <td>-122.393</td>\n",
       "      <td>1360</td>\n",
       "      <td>5000</td>\n",
       "      <td>2014</td>\n",
       "      <td>49</td>\n",
       "    </tr>\n",
       "    <tr>\n",
       "      <th>4</th>\n",
       "      <td>1954400510</td>\n",
       "      <td>20150218T000000</td>\n",
       "      <td>510000</td>\n",
       "      <td>3</td>\n",
       "      <td>2.00</td>\n",
       "      <td>1680</td>\n",
       "      <td>8080</td>\n",
       "      <td>1.0</td>\n",
       "      <td>0</td>\n",
       "      <td>0</td>\n",
       "      <td>3</td>\n",
       "      <td>8</td>\n",
       "      <td>1680</td>\n",
       "      <td>0</td>\n",
       "      <td>1987</td>\n",
       "      <td>0</td>\n",
       "      <td>98074</td>\n",
       "      <td>47.6168</td>\n",
       "      <td>-122.045</td>\n",
       "      <td>1800</td>\n",
       "      <td>7503</td>\n",
       "      <td>2015</td>\n",
       "      <td>28</td>\n",
       "    </tr>\n",
       "  </tbody>\n",
       "</table>\n",
       "</div>"
      ],
      "text/plain": [
       "           id             date   price  bedrooms  bathrooms  sqft_living  \\\n",
       "0  7129300520  20141013T000000  221900         3       1.00         1180   \n",
       "1  6414100192  20141209T000000  538000         3       2.25         2570   \n",
       "2  5631500400  20150225T000000  180000         2       1.00          770   \n",
       "3  2487200875  20141209T000000  604000         4       3.00         1960   \n",
       "4  1954400510  20150218T000000  510000         3       2.00         1680   \n",
       "\n",
       "   sqft_lot  floors  waterfront  view  condition  grade  sqft_above  \\\n",
       "0      5650     1.0           0     0          3      7        1180   \n",
       "1      7242     2.0           0     0          3      7        2170   \n",
       "2     10000     1.0           0     0          3      6         770   \n",
       "3      5000     1.0           0     0          5      7        1050   \n",
       "4      8080     1.0           0     0          3      8        1680   \n",
       "\n",
       "   sqft_basement  yr_built  yr_renovated  zipcode      lat     long  \\\n",
       "0              0      1955             0    98178  47.5112 -122.257   \n",
       "1            400      1951          1991    98125  47.7210 -122.319   \n",
       "2              0      1933             0    98028  47.7379 -122.233   \n",
       "3            910      1965             0    98136  47.5208 -122.393   \n",
       "4              0      1987             0    98074  47.6168 -122.045   \n",
       "\n",
       "   sqft_living15  sqft_lot15  yr_sales  age  \n",
       "0           1340        5650      2014   59  \n",
       "1           1690        7639      2014   63  \n",
       "2           2720        8062      2015   82  \n",
       "3           1360        5000      2014   49  \n",
       "4           1800        7503      2015   28  "
      ]
     },
     "execution_count": 24,
     "metadata": {},
     "output_type": "execute_result"
    }
   ],
   "source": [
    "df.limit(5).toPandas()"
   ]
  },
  {
   "cell_type": "code",
   "execution_count": 25,
   "metadata": {
    "ExecuteTime": {
     "end_time": "2019-09-30T00:25:04.444032Z",
     "start_time": "2019-09-30T00:25:04.259799Z"
    }
   },
   "outputs": [
    {
     "name": "stdout",
     "output_type": "stream",
     "text": [
      "+----------+--------+--------+---+\n",
      "|        id|yr_sales|yr_built|age|\n",
      "+----------+--------+--------+---+\n",
      "|1832100030|    2014|    2015| -1|\n",
      "|3076500830|    2014|    2015| -1|\n",
      "|9520900210|    2014|    2015| -1|\n",
      "|1250200495|    2014|    2015| -1|\n",
      "|2770601530|    2014|    2015| -1|\n",
      "+----------+--------+--------+---+\n",
      "only showing top 5 rows\n",
      "\n"
     ]
    }
   ],
   "source": [
    "# I can see some negative numbers.\n",
    "df.select('id', 'yr_sales', 'yr_built', 'age').filter(df['age'] == -1).show(5)"
   ]
  },
  {
   "cell_type": "code",
   "execution_count": 26,
   "metadata": {
    "ExecuteTime": {
     "end_time": "2019-09-30T00:25:04.450700Z",
     "start_time": "2019-09-30T00:25:04.446050Z"
    }
   },
   "outputs": [],
   "source": [
    "# some houses are sold before they are constructed.\n",
    "# df.filter(df['age'] == -1).toPandas()\n"
   ]
  },
  {
   "cell_type": "code",
   "execution_count": 27,
   "metadata": {
    "ExecuteTime": {
     "end_time": "2019-09-30T00:25:04.619429Z",
     "start_time": "2019-09-30T00:25:04.453192Z"
    }
   },
   "outputs": [
    {
     "data": {
      "text/plain": [
       "12"
      ]
     },
     "execution_count": 27,
     "metadata": {},
     "output_type": "execute_result"
    }
   ],
   "source": [
    "df.filter(df['age'] == -1).count()"
   ]
  },
  {
   "cell_type": "markdown",
   "metadata": {
    "ExecuteTime": {
     "end_time": "2019-09-29T20:34:28.294657Z",
     "start_time": "2019-09-29T20:34:28.288130Z"
    }
   },
   "source": [
    "## categorical features"
   ]
  },
  {
   "cell_type": "code",
   "execution_count": 28,
   "metadata": {
    "ExecuteTime": {
     "end_time": "2019-09-30T00:25:04.627889Z",
     "start_time": "2019-09-30T00:25:04.622039Z"
    }
   },
   "outputs": [
    {
     "name": "stdout",
     "output_type": "stream",
     "text": [
      "['id', 'date', 'price', 'bedrooms', 'bathrooms', 'sqft_living', 'sqft_lot', 'floors', 'waterfront', 'view', 'condition', 'grade', 'sqft_above', 'sqft_basement', 'yr_built', 'yr_renovated', 'zipcode', 'lat', 'long', 'sqft_living15', 'sqft_lot15', 'yr_sales', 'age']\n"
     ]
    }
   ],
   "source": [
    "print(df.columns)"
   ]
  },
  {
   "cell_type": "code",
   "execution_count": 29,
   "metadata": {
    "ExecuteTime": {
     "end_time": "2019-09-30T00:25:05.387218Z",
     "start_time": "2019-09-30T00:25:04.629968Z"
    }
   },
   "outputs": [
    {
     "name": "stdout",
     "output_type": "stream",
     "text": [
      "root\n",
      " |-- id: long (nullable = true)\n",
      " |-- date: string (nullable = true)\n",
      " |-- price: decimal(7,0) (nullable = true)\n",
      " |-- bedrooms: integer (nullable = true)\n",
      " |-- bathrooms: double (nullable = true)\n",
      " |-- sqft_living: integer (nullable = true)\n",
      " |-- sqft_lot: integer (nullable = true)\n",
      " |-- floors: double (nullable = true)\n",
      " |-- waterfront: integer (nullable = true)\n",
      " |-- view: integer (nullable = true)\n",
      " |-- condition: integer (nullable = true)\n",
      " |-- grade: integer (nullable = true)\n",
      " |-- sqft_above: integer (nullable = true)\n",
      " |-- sqft_basement: integer (nullable = true)\n",
      " |-- yr_built: integer (nullable = true)\n",
      " |-- yr_renovated: integer (nullable = true)\n",
      " |-- zipcode: integer (nullable = true)\n",
      " |-- lat: double (nullable = true)\n",
      " |-- long: double (nullable = true)\n",
      " |-- sqft_living15: integer (nullable = true)\n",
      " |-- sqft_lot15: integer (nullable = true)\n",
      " |-- yr_sales: integer (nullable = true)\n",
      " |-- age: integer (nullable = true)\n",
      " |-- bedrooms_index: double (nullable = false)\n",
      " |-- bedrooms_index_encoded: vector (nullable = true)\n",
      " |-- features_encoded_vec: vector (nullable = true)\n",
      "\n"
     ]
    }
   ],
   "source": [
    "cols_cat = ['bedrooms'] \n",
    "\n",
    "indexers = [StringIndexer(inputCol=column, outputCol=column+\"_index\")\n",
    "            for column in cols_cat]\n",
    "\n",
    "encoder = OneHotEncoderEstimator(\n",
    "    inputCols=[indexer.getOutputCol() for indexer in indexers],\n",
    "    outputCols=[\"{0}_encoded\".format(indexer.getOutputCol()) for indexer in indexers]\n",
    ")\n",
    "\n",
    "assembler = VectorAssembler(\n",
    "    inputCols=encoder.getOutputCols(),\n",
    "    outputCol=\"features_encoded_vec\"\n",
    ")\n",
    "\n",
    "pipeline = Pipeline(stages=indexers + [encoder, assembler])\n",
    "df = pipeline.fit(df).transform(df)\n",
    "\n",
    "df.printSchema()"
   ]
  },
  {
   "cell_type": "markdown",
   "metadata": {},
   "source": [
    "## Boolean features"
   ]
  },
  {
   "cell_type": "code",
   "execution_count": 30,
   "metadata": {
    "ExecuteTime": {
     "end_time": "2019-09-30T00:25:05.551063Z",
     "start_time": "2019-09-30T00:25:05.389979Z"
    }
   },
   "outputs": [
    {
     "name": "stdout",
     "output_type": "stream",
     "text": [
      "+-------------+-------------+\n",
      "|sqft_basement|basement_bool|\n",
      "+-------------+-------------+\n",
      "|            0|            0|\n",
      "|          400|            1|\n",
      "+-------------+-------------+\n",
      "only showing top 2 rows\n",
      "\n"
     ]
    }
   ],
   "source": [
    "df = df.withColumn('basement_bool', (col('sqft_basement') > 0).cast(IntegerType()) )\n",
    "df.select('sqft_basement','basement_bool').show(2)"
   ]
  },
  {
   "cell_type": "markdown",
   "metadata": {},
   "source": [
    "## Bucketizing Numerical Features"
   ]
  },
  {
   "cell_type": "code",
   "execution_count": 31,
   "metadata": {
    "ExecuteTime": {
     "end_time": "2019-09-30T00:25:06.185555Z",
     "start_time": "2019-09-30T00:25:05.558038Z"
    }
   },
   "outputs": [
    {
     "data": {
      "text/plain": [
       "<matplotlib.axes._subplots.AxesSubplot at 0x11e3e99b0>"
      ]
     },
     "execution_count": 31,
     "metadata": {},
     "output_type": "execute_result"
    },
    {
     "data": {
      "image/png": "[encoded data removed]",
      "text/plain": [
       "<Figure size 432x288 with 1 Axes>"
      ]
     },
     "metadata": {
      "image/png": {
       "height": 254,
       "width": 405
      },
      "needs_background": "light"
     },
     "output_type": "display_data"
    }
   ],
   "source": [
    "# sampling is discouraged in pyspark, we can check some top rows\n",
    "# but this dataset is small and even pandas can handle this one.\n",
    "\n",
    "df.select('age').toPandas().plot.hist()"
   ]
  },
  {
   "cell_type": "code",
   "execution_count": 32,
   "metadata": {
    "ExecuteTime": {
     "end_time": "2019-09-30T00:25:06.338355Z",
     "start_time": "2019-09-30T00:25:06.187493Z"
    }
   },
   "outputs": [
    {
     "name": "stdout",
     "output_type": "stream",
     "text": [
      "+-------+------------------+\n",
      "|summary|               age|\n",
      "+-------+------------------+\n",
      "|  count|             21613|\n",
      "|   mean| 43.31781797991949|\n",
      "| stddev|29.375492803877584|\n",
      "|    min|                -1|\n",
      "|    max|               115|\n",
      "+-------+------------------+\n",
      "\n"
     ]
    }
   ],
   "source": [
    "df.select('age').describe().show()"
   ]
  },
  {
   "cell_type": "code",
   "execution_count": 33,
   "metadata": {
    "ExecuteTime": {
     "end_time": "2019-09-30T00:25:06.599137Z",
     "start_time": "2019-09-30T00:25:06.341377Z"
    }
   },
   "outputs": [
    {
     "data": {
      "text/plain": [
       "(-1, 115)"
      ]
     },
     "execution_count": 33,
     "metadata": {},
     "output_type": "execute_result"
    }
   ],
   "source": [
    "# there is no easy way to get max or min in pyspark\n",
    "age_min = df.agg({\"age\": \"min\"}).collect()[0][0]\n",
    "age_max = df.agg({\"age\": \"max\"}).collect()[0][0] \n",
    "\n",
    "age_min, age_max"
   ]
  },
  {
   "cell_type": "code",
   "execution_count": 34,
   "metadata": {
    "ExecuteTime": {
     "end_time": "2019-09-30T00:25:06.606294Z",
     "start_time": "2019-09-30T00:25:06.600962Z"
    }
   },
   "outputs": [
    {
     "data": {
      "text/plain": [
       "array([ -1.,  12.,  25.,  38.,  51.,  64.,  77.,  90., 103., 116.])"
      ]
     },
     "execution_count": 34,
     "metadata": {},
     "output_type": "execute_result"
    }
   ],
   "source": [
    "splits = np.linspace(age_min, age_max+1, 10)\n",
    "splits"
   ]
  },
  {
   "cell_type": "code",
   "execution_count": 35,
   "metadata": {
    "ExecuteTime": {
     "end_time": "2019-09-30T00:25:06.842412Z",
     "start_time": "2019-09-30T00:25:06.608338Z"
    }
   },
   "outputs": [
    {
     "name": "stdout",
     "output_type": "stream",
     "text": [
      "+---+-------+\n",
      "|age|age_cat|\n",
      "+---+-------+\n",
      "| 59|    4.0|\n",
      "| 63|    4.0|\n",
      "| 82|    6.0|\n",
      "| 49|    3.0|\n",
      "| 28|    2.0|\n",
      "+---+-------+\n",
      "only showing top 5 rows\n",
      "\n"
     ]
    }
   ],
   "source": [
    "from pyspark.ml.feature import Bucketizer\n",
    "\n",
    "bucketizer = Bucketizer(splits=splits,inputCol=\"age\", outputCol=\"age_cat\")\n",
    "\n",
    "df = bucketizer.setHandleInvalid(\"keep\").transform(df)\n",
    "\n",
    "df.select('age','age_cat').show(5)"
   ]
  },
  {
   "cell_type": "markdown",
   "metadata": {
    "ExecuteTime": {
     "end_time": "2019-09-29T21:44:02.051592Z",
     "start_time": "2019-09-29T21:44:02.039016Z"
    }
   },
   "source": [
    "## dummy variables for binned and categorical features"
   ]
  },
  {
   "cell_type": "code",
   "execution_count": 36,
   "metadata": {
    "ExecuteTime": {
     "end_time": "2019-09-30T00:25:07.225804Z",
     "start_time": "2019-09-30T00:25:06.844217Z"
    }
   },
   "outputs": [
    {
     "name": "stdout",
     "output_type": "stream",
     "text": [
      "root\n",
      " |-- id: long (nullable = true)\n",
      " |-- date: string (nullable = true)\n",
      " |-- price: decimal(7,0) (nullable = true)\n",
      " |-- bedrooms: integer (nullable = true)\n",
      " |-- bathrooms: double (nullable = true)\n",
      " |-- sqft_living: integer (nullable = true)\n",
      " |-- sqft_lot: integer (nullable = true)\n",
      " |-- floors: double (nullable = true)\n",
      " |-- waterfront: integer (nullable = true)\n",
      " |-- view: integer (nullable = true)\n",
      " |-- condition: integer (nullable = true)\n",
      " |-- grade: integer (nullable = true)\n",
      " |-- sqft_above: integer (nullable = true)\n",
      " |-- sqft_basement: integer (nullable = true)\n",
      " |-- yr_built: integer (nullable = true)\n",
      " |-- yr_renovated: integer (nullable = true)\n",
      " |-- zipcode: integer (nullable = true)\n",
      " |-- lat: double (nullable = true)\n",
      " |-- long: double (nullable = true)\n",
      " |-- sqft_living15: integer (nullable = true)\n",
      " |-- sqft_lot15: integer (nullable = true)\n",
      " |-- yr_sales: integer (nullable = true)\n",
      " |-- age: integer (nullable = true)\n",
      " |-- bedrooms_index: double (nullable = false)\n",
      " |-- bedrooms_index_encoded: vector (nullable = true)\n",
      " |-- features_encoded_vec: vector (nullable = true)\n",
      " |-- basement_bool: integer (nullable = true)\n",
      " |-- age_cat: double (nullable = true)\n",
      " |-- age_cat_index: double (nullable = false)\n",
      " |-- age_cat_index_encoded: vector (nullable = true)\n",
      " |-- age_cat_vec: vector (nullable = true)\n",
      "\n"
     ]
    }
   ],
   "source": [
    "cols_cat = ['age_cat'] \n",
    "\n",
    "indexers = [StringIndexer(inputCol=column, outputCol=column+\"_index\")\n",
    "            for column in cols_cat]\n",
    "\n",
    "encoder = OneHotEncoderEstimator(\n",
    "    inputCols=[indexer.getOutputCol() for indexer in indexers],\n",
    "    outputCols=[\"{0}_encoded\".format(indexer.getOutputCol()) for indexer in indexers]\n",
    ")\n",
    "\n",
    "assembler = VectorAssembler(\n",
    "    inputCols=encoder.getOutputCols(),\n",
    "    outputCol=\"age_cat_vec\"\n",
    ")\n",
    "\n",
    "pipeline = Pipeline(stages=indexers + [encoder, assembler])\n",
    "df = pipeline.fit(df).transform(df)\n",
    "\n",
    "df.printSchema()"
   ]
  },
  {
   "cell_type": "code",
   "execution_count": 37,
   "metadata": {
    "ExecuteTime": {
     "end_time": "2019-09-30T00:25:07.410600Z",
     "start_time": "2019-09-30T00:25:07.227929Z"
    }
   },
   "outputs": [
    {
     "name": "stdout",
     "output_type": "stream",
     "text": [
      "+---+-------+-------------+---------------------+\n",
      "|age|age_cat|age_cat_index|age_cat_index_encoded|\n",
      "+---+-------+-------------+---------------------+\n",
      "| 59|    4.0|          2.0|        (8,[2],[1.0])|\n",
      "| 63|    4.0|          2.0|        (8,[2],[1.0])|\n",
      "| 82|    6.0|          7.0|        (8,[7],[1.0])|\n",
      "| 49|    3.0|          4.0|        (8,[4],[1.0])|\n",
      "| 28|    2.0|          1.0|        (8,[1],[1.0])|\n",
      "+---+-------+-------------+---------------------+\n",
      "only showing top 5 rows\n",
      "\n"
     ]
    }
   ],
   "source": [
    "df.select('age','age_cat','age_cat_index','age_cat_index_encoded').show(5)"
   ]
  },
  {
   "cell_type": "markdown",
   "metadata": {},
   "source": [
    "## Log transform large numerical features"
   ]
  },
  {
   "cell_type": "code",
   "execution_count": 38,
   "metadata": {
    "ExecuteTime": {
     "end_time": "2019-09-30T00:25:07.560596Z",
     "start_time": "2019-09-30T00:25:07.412433Z"
    }
   },
   "outputs": [
    {
     "name": "stdout",
     "output_type": "stream",
     "text": [
      "+-----------+-----------------+\n",
      "|sqft_living|log1p_sqft_living|\n",
      "+-----------+-----------------+\n",
      "|       1180|7.074116816197362|\n",
      "|       2570|7.852050207265889|\n",
      "+-----------+-----------------+\n",
      "only showing top 2 rows\n",
      "\n"
     ]
    }
   ],
   "source": [
    "df.select('sqft_living').withColumn('log1p_sqft_living', F.log1p(\"sqft_living\")).show(2)"
   ]
  },
  {
   "cell_type": "code",
   "execution_count": 39,
   "metadata": {
    "ExecuteTime": {
     "end_time": "2019-09-30T00:25:07.571466Z",
     "start_time": "2019-09-30T00:25:07.565728Z"
    }
   },
   "outputs": [
    {
     "data": {
      "text/plain": [
       "7.074116816197362"
      ]
     },
     "execution_count": 39,
     "metadata": {},
     "output_type": "execute_result"
    }
   ],
   "source": [
    "np.log1p(1180)"
   ]
  },
  {
   "cell_type": "code",
   "execution_count": 40,
   "metadata": {
    "ExecuteTime": {
     "end_time": "2019-09-30T00:25:07.640721Z",
     "start_time": "2019-09-30T00:25:07.573163Z"
    }
   },
   "outputs": [],
   "source": [
    "cols_log = ['price', 'sqft_living', 'sqft_lot', 'sqft_above',\n",
    "            'sqft_basement', 'sqft_living15', 'sqft_lot15']\n",
    "\n",
    "for c in cols_log:\n",
    "    df = df.withColumn('log1p_' + c , F.log1p(c))"
   ]
  },
  {
   "cell_type": "code",
   "execution_count": 41,
   "metadata": {
    "ExecuteTime": {
     "end_time": "2019-09-30T00:25:07.656953Z",
     "start_time": "2019-09-30T00:25:07.643038Z"
    }
   },
   "outputs": [
    {
     "name": "stdout",
     "output_type": "stream",
     "text": [
      "['id', 'date', 'price', 'bedrooms', 'bathrooms', 'sqft_living', 'sqft_lot', 'floors', 'waterfront', 'view', 'condition', 'grade', 'sqft_above', 'sqft_basement', 'yr_built', 'yr_renovated', 'zipcode', 'lat', 'long', 'sqft_living15', 'sqft_lot15', 'yr_sales', 'age', 'bedrooms_index', 'bedrooms_index_encoded', 'features_encoded_vec', 'basement_bool', 'age_cat', 'age_cat_index', 'age_cat_index_encoded', 'age_cat_vec', 'log1p_price', 'log1p_sqft_living', 'log1p_sqft_lot', 'log1p_sqft_above', 'log1p_sqft_basement', 'log1p_sqft_living15', 'log1p_sqft_lot15']\n"
     ]
    }
   ],
   "source": [
    "print(df.columns)"
   ]
  },
  {
   "cell_type": "code",
   "execution_count": 42,
   "metadata": {
    "ExecuteTime": {
     "end_time": "2019-09-30T00:25:07.810257Z",
     "start_time": "2019-09-30T00:25:07.658793Z"
    }
   },
   "outputs": [
    {
     "name": "stdout",
     "output_type": "stream",
     "text": [
      "+-------------------+-------------------+-----------------+\n",
      "|log1p_sqft_basement|log1p_sqft_living15| log1p_sqft_lot15|\n",
      "+-------------------+-------------------+-----------------+\n",
      "|                0.0|  7.201170883281678|8.639587799629844|\n",
      "|  5.993961427306569|   7.43307534889858|8.941152882160566|\n",
      "+-------------------+-------------------+-----------------+\n",
      "only showing top 2 rows\n",
      "\n"
     ]
    }
   ],
   "source": [
    "df.select(['log1p_sqft_basement', 'log1p_sqft_living15', 'log1p_sqft_lot15']).show(2)"
   ]
  },
  {
   "cell_type": "code",
   "execution_count": 43,
   "metadata": {
    "ExecuteTime": {
     "end_time": "2019-09-30T00:25:07.817849Z",
     "start_time": "2019-09-30T00:25:07.812102Z"
    }
   },
   "outputs": [
    {
     "data": {
      "text/plain": [
       "['log1p_price',\n",
       " 'log1p_sqft_living',\n",
       " 'log1p_sqft_lot',\n",
       " 'log1p_sqft_above',\n",
       " 'log1p_sqft_basement',\n",
       " 'log1p_sqft_living15',\n",
       " 'log1p_sqft_lot15']"
      ]
     },
     "execution_count": 43,
     "metadata": {},
     "output_type": "execute_result"
    }
   ],
   "source": [
    "cols_after_log = ['log1p_' + i for i in cols_log]\n",
    "cols_after_log"
   ]
  },
  {
   "cell_type": "markdown",
   "metadata": {},
   "source": [
    "## combine all features to one column"
   ]
  },
  {
   "cell_type": "code",
   "execution_count": 44,
   "metadata": {
    "ExecuteTime": {
     "end_time": "2019-09-30T00:25:07.823630Z",
     "start_time": "2019-09-30T00:25:07.819986Z"
    }
   },
   "outputs": [
    {
     "name": "stdout",
     "output_type": "stream",
     "text": [
      "['id', 'date', 'price', 'bedrooms', 'bathrooms', 'sqft_living', 'sqft_lot', 'floors', 'waterfront', 'view', 'condition', 'grade', 'sqft_above', 'sqft_basement', 'yr_built', 'yr_renovated', 'zipcode', 'lat', 'long', 'sqft_living15', 'sqft_lot15', 'yr_sales', 'age', 'bedrooms_index', 'bedrooms_index_encoded', 'features_encoded_vec', 'basement_bool', 'age_cat', 'age_cat_index', 'age_cat_index_encoded', 'age_cat_vec', 'log1p_price', 'log1p_sqft_living', 'log1p_sqft_lot', 'log1p_sqft_above', 'log1p_sqft_basement', 'log1p_sqft_living15', 'log1p_sqft_lot15']\n"
     ]
    }
   ],
   "source": [
    "print(df.columns)"
   ]
  },
  {
   "cell_type": "code",
   "execution_count": 45,
   "metadata": {
    "ExecuteTime": {
     "end_time": "2019-09-30T00:25:07.828973Z",
     "start_time": "2019-09-30T00:25:07.825961Z"
    }
   },
   "outputs": [],
   "source": [
    "selected_features = [ 'bedrooms', 'bathrooms', 'sqft_living', 'sqft_lot', 'floors', 'waterfront', 'view', 'condition', 'grade', 'sqft_above', 'sqft_basement', 'yr_built', 'yr_renovated', 'zipcode', 'lat', 'long', 'sqft_living15', 'sqft_lot15']"
   ]
  },
  {
   "cell_type": "code",
   "execution_count": 46,
   "metadata": {
    "ExecuteTime": {
     "end_time": "2019-09-30T00:25:07.899408Z",
     "start_time": "2019-09-30T00:25:07.830696Z"
    }
   },
   "outputs": [
    {
     "name": "stdout",
     "output_type": "stream",
     "text": [
      "root\n",
      " |-- id: long (nullable = true)\n",
      " |-- date: string (nullable = true)\n",
      " |-- price: decimal(7,0) (nullable = true)\n",
      " |-- bedrooms: integer (nullable = true)\n",
      " |-- bathrooms: double (nullable = true)\n",
      " |-- sqft_living: integer (nullable = true)\n",
      " |-- sqft_lot: integer (nullable = true)\n",
      " |-- floors: double (nullable = true)\n",
      " |-- waterfront: integer (nullable = true)\n",
      " |-- view: integer (nullable = true)\n",
      " |-- condition: integer (nullable = true)\n",
      " |-- grade: integer (nullable = true)\n",
      " |-- sqft_above: integer (nullable = true)\n",
      " |-- sqft_basement: integer (nullable = true)\n",
      " |-- yr_built: integer (nullable = true)\n",
      " |-- yr_renovated: integer (nullable = true)\n",
      " |-- zipcode: integer (nullable = true)\n",
      " |-- lat: double (nullable = true)\n",
      " |-- long: double (nullable = true)\n",
      " |-- sqft_living15: integer (nullable = true)\n",
      " |-- sqft_lot15: integer (nullable = true)\n",
      " |-- yr_sales: integer (nullable = true)\n",
      " |-- age: integer (nullable = true)\n",
      " |-- bedrooms_index: double (nullable = false)\n",
      " |-- bedrooms_index_encoded: vector (nullable = true)\n",
      " |-- features_encoded_vec: vector (nullable = true)\n",
      " |-- basement_bool: integer (nullable = true)\n",
      " |-- age_cat: double (nullable = true)\n",
      " |-- age_cat_index: double (nullable = false)\n",
      " |-- age_cat_index_encoded: vector (nullable = true)\n",
      " |-- age_cat_vec: vector (nullable = true)\n",
      " |-- log1p_price: double (nullable = true)\n",
      " |-- log1p_sqft_living: double (nullable = true)\n",
      " |-- log1p_sqft_lot: double (nullable = true)\n",
      " |-- log1p_sqft_above: double (nullable = true)\n",
      " |-- log1p_sqft_basement: double (nullable = true)\n",
      " |-- log1p_sqft_living15: double (nullable = true)\n",
      " |-- log1p_sqft_lot15: double (nullable = true)\n",
      " |-- features: vector (nullable = true)\n",
      "\n"
     ]
    }
   ],
   "source": [
    "assembler = VectorAssembler(\n",
    "    inputCols= selected_features,\n",
    "    outputCol='features'\n",
    ")\n",
    "\n",
    "df = assembler.transform(df)\n",
    "\n",
    "df.printSchema()"
   ]
  },
  {
   "cell_type": "markdown",
   "metadata": {},
   "source": [
    "# Feature Scaling"
   ]
  },
  {
   "cell_type": "code",
   "execution_count": 47,
   "metadata": {
    "ExecuteTime": {
     "end_time": "2019-09-30T00:25:08.598983Z",
     "start_time": "2019-09-30T00:25:07.902173Z"
    }
   },
   "outputs": [
    {
     "data": {
      "text/html": [
       "<div>\n",
       "<style scoped>\n",
       "    .dataframe tbody tr th:only-of-type {\n",
       "        vertical-align: middle;\n",
       "    }\n",
       "\n",
       "    .dataframe tbody tr th {\n",
       "        vertical-align: top;\n",
       "    }\n",
       "\n",
       "    .dataframe thead th {\n",
       "        text-align: right;\n",
       "    }\n",
       "</style>\n",
       "<table border=\"1\" class=\"dataframe\">\n",
       "  <thead>\n",
       "    <tr style=\"text-align: right;\">\n",
       "      <th></th>\n",
       "      <th>features</th>\n",
       "      <th>features_scaled</th>\n",
       "    </tr>\n",
       "  </thead>\n",
       "  <tbody>\n",
       "    <tr>\n",
       "      <th>0</th>\n",
       "      <td>[3.0, 1.0, 1180.0, 5650.0, 1.0, 0.0, 0.0, 3.0, 7.0, 1180.0, 0.0, 1955.0, 0.0, 98178.0, 47.5112, -122.257, 1340.0, 5650.0]</td>\n",
       "      <td>[3.2255919977909313, 1.2984261719459003, 1.2847859930826446, 0.13640584805273173, 1.8518899351372502, 0.0, 0.0, 4.610114570954257, 5.955121741589817, 1.424964203022636, 0.0, 66.556792234737, 0.0, ...</td>\n",
       "    </tr>\n",
       "    <tr>\n",
       "      <th>1</th>\n",
       "      <td>[3.0, 2.25, 2570.0, 7242.0, 2.0, 0.0, 0.0, 3.0, 7.0, 2170.0, 400.0, 1951.0, 1991.0, 98125.0, 47.721, -122.319, 1690.0, 7639.0]</td>\n",
       "      <td>[3.2255919977909313, 2.9214588868782756, 2.798220340866438, 0.17484091178723596, 3.7037798702745004, 0.0, 0.0, 4.610114570954257, 5.955121741589817, 2.620485017422983, 0.9038015283918897, 66.42061...</td>\n",
       "    </tr>\n",
       "  </tbody>\n",
       "</table>\n",
       "</div>"
      ],
      "text/plain": [
       "                                                                                                                         features  \\\n",
       "0       [3.0, 1.0, 1180.0, 5650.0, 1.0, 0.0, 0.0, 3.0, 7.0, 1180.0, 0.0, 1955.0, 0.0, 98178.0, 47.5112, -122.257, 1340.0, 5650.0]   \n",
       "1  [3.0, 2.25, 2570.0, 7242.0, 2.0, 0.0, 0.0, 3.0, 7.0, 2170.0, 400.0, 1951.0, 1991.0, 98125.0, 47.721, -122.319, 1690.0, 7639.0]   \n",
       "\n",
       "                                                                                                                                                                                           features_scaled  \n",
       "0  [3.2255919977909313, 1.2984261719459003, 1.2847859930826446, 0.13640584805273173, 1.8518899351372502, 0.0, 0.0, 4.610114570954257, 5.955121741589817, 1.424964203022636, 0.0, 66.556792234737, 0.0, ...  \n",
       "1  [3.2255919977909313, 2.9214588868782756, 2.798220340866438, 0.17484091178723596, 3.7037798702745004, 0.0, 0.0, 4.610114570954257, 5.955121741589817, 2.620485017422983, 0.9038015283918897, 66.42061...  "
      ]
     },
     "execution_count": 47,
     "metadata": {},
     "output_type": "execute_result"
    }
   ],
   "source": [
    "from pyspark.ml.feature import StandardScaler\n",
    "\n",
    "scaler = StandardScaler(inputCol='features', outputCol='features_scaled')\n",
    "df = scaler.fit(df).transform(df)\n",
    "\n",
    "df.select([\"features\",\"features_scaled\"]).limit(2).toPandas()"
   ]
  },
  {
   "cell_type": "markdown",
   "metadata": {},
   "source": [
    "# train test splitting"
   ]
  },
  {
   "cell_type": "code",
   "execution_count": 48,
   "metadata": {
    "ExecuteTime": {
     "end_time": "2019-09-30T00:25:10.208140Z",
     "start_time": "2019-09-30T00:25:08.602541Z"
    }
   },
   "outputs": [
    {
     "data": {
      "text/plain": [
       "(17323, 4290)"
      ]
     },
     "execution_count": 48,
     "metadata": {},
     "output_type": "execute_result"
    }
   ],
   "source": [
    "train, test = df.randomSplit([0.8,0.2], seed=random_state)\n",
    "train.count(), test.count()"
   ]
  },
  {
   "cell_type": "markdown",
   "metadata": {},
   "source": [
    "# Modelling"
   ]
  },
  {
   "cell_type": "markdown",
   "metadata": {},
   "source": [
    "## Linear Regression"
   ]
  },
  {
   "cell_type": "code",
   "execution_count": 49,
   "metadata": {
    "ExecuteTime": {
     "end_time": "2019-09-30T00:25:11.405156Z",
     "start_time": "2019-09-30T00:25:10.210454Z"
    }
   },
   "outputs": [],
   "source": [
    "from pyspark.ml.regression import LinearRegression\n",
    "\n",
    "lr = LinearRegression(featuresCol='features_scaled',\n",
    "                      labelCol='price',\n",
    "                     predictionCol='prediction',\n",
    "                     maxIter=10).fit(df)"
   ]
  },
  {
   "cell_type": "markdown",
   "metadata": {},
   "source": [
    "### model evaluation"
   ]
  },
  {
   "cell_type": "code",
   "execution_count": 50,
   "metadata": {
    "ExecuteTime": {
     "end_time": "2019-09-30T00:25:11.482161Z",
     "start_time": "2019-09-30T00:25:11.407179Z"
    }
   },
   "outputs": [],
   "source": [
    "def show_method_attributes(method, ncols=2):\n",
    "    \"\"\" Show all the attributes of a given method.\n",
    "    Example:\n",
    "    ========\n",
    "    show_method_attributes(list)\n",
    "     \"\"\"\n",
    "    x = [I for I in dir(method) if I[0].islower()]\n",
    "    x = [I for I in x if I not in 'os np pd sys time psycopg2'.split()]\n",
    "\n",
    "    return pd.DataFrame(np.array_split(x,ncols)).T.fillna('')"
   ]
  },
  {
   "cell_type": "code",
   "execution_count": 51,
   "metadata": {
    "ExecuteTime": {
     "end_time": "2019-09-30T00:25:11.501608Z",
     "start_time": "2019-09-30T00:25:11.485661Z"
    }
   },
   "outputs": [
    {
     "data": {
      "text/html": [
       "<div>\n",
       "<style scoped>\n",
       "    .dataframe tbody tr th:only-of-type {\n",
       "        vertical-align: middle;\n",
       "    }\n",
       "\n",
       "    .dataframe tbody tr th {\n",
       "        vertical-align: top;\n",
       "    }\n",
       "\n",
       "    .dataframe thead th {\n",
       "        text-align: right;\n",
       "    }\n",
       "</style>\n",
       "<table border=\"1\" class=\"dataframe\">\n",
       "  <thead>\n",
       "    <tr style=\"text-align: right;\">\n",
       "      <th></th>\n",
       "      <th>0</th>\n",
       "      <th>1</th>\n",
       "      <th>2</th>\n",
       "      <th>3</th>\n",
       "      <th>4</th>\n",
       "      <th>5</th>\n",
       "      <th>6</th>\n",
       "    </tr>\n",
       "  </thead>\n",
       "  <tbody>\n",
       "    <tr>\n",
       "      <th>0</th>\n",
       "      <td>aggregationDepth</td>\n",
       "      <td>explainParam</td>\n",
       "      <td>getParam</td>\n",
       "      <td>isSet</td>\n",
       "      <td>params</td>\n",
       "      <td>scale</td>\n",
       "      <td>tol</td>\n",
       "    </tr>\n",
       "    <tr>\n",
       "      <th>1</th>\n",
       "      <td>coefficients</td>\n",
       "      <td>explainParams</td>\n",
       "      <td>hasDefault</td>\n",
       "      <td>labelCol</td>\n",
       "      <td>predictionCol</td>\n",
       "      <td>set</td>\n",
       "      <td>transform</td>\n",
       "    </tr>\n",
       "    <tr>\n",
       "      <th>2</th>\n",
       "      <td>copy</td>\n",
       "      <td>extractParamMap</td>\n",
       "      <td>hasParam</td>\n",
       "      <td>load</td>\n",
       "      <td>read</td>\n",
       "      <td>solver</td>\n",
       "      <td>uid</td>\n",
       "    </tr>\n",
       "    <tr>\n",
       "      <th>3</th>\n",
       "      <td>elasticNetParam</td>\n",
       "      <td>featuresCol</td>\n",
       "      <td>hasSummary</td>\n",
       "      <td>loss</td>\n",
       "      <td>regParam</td>\n",
       "      <td>standardization</td>\n",
       "      <td>weightCol</td>\n",
       "    </tr>\n",
       "    <tr>\n",
       "      <th>4</th>\n",
       "      <td>epsilon</td>\n",
       "      <td>fitIntercept</td>\n",
       "      <td>intercept</td>\n",
       "      <td>maxIter</td>\n",
       "      <td>save</td>\n",
       "      <td>summary</td>\n",
       "      <td>write</td>\n",
       "    </tr>\n",
       "    <tr>\n",
       "      <th>5</th>\n",
       "      <td>evaluate</td>\n",
       "      <td>getOrDefault</td>\n",
       "      <td>isDefined</td>\n",
       "      <td>numFeatures</td>\n",
       "      <td></td>\n",
       "      <td></td>\n",
       "      <td></td>\n",
       "    </tr>\n",
       "  </tbody>\n",
       "</table>\n",
       "</div>"
      ],
      "text/plain": [
       "                  0                1           2            3              4  \\\n",
       "0  aggregationDepth     explainParam    getParam        isSet         params   \n",
       "1      coefficients    explainParams  hasDefault     labelCol  predictionCol   \n",
       "2              copy  extractParamMap    hasParam         load           read   \n",
       "3   elasticNetParam      featuresCol  hasSummary         loss       regParam   \n",
       "4           epsilon     fitIntercept   intercept      maxIter           save   \n",
       "5          evaluate     getOrDefault   isDefined  numFeatures                  \n",
       "\n",
       "                 5          6  \n",
       "0            scale        tol  \n",
       "1              set  transform  \n",
       "2           solver        uid  \n",
       "3  standardization  weightCol  \n",
       "4          summary      write  \n",
       "5                              "
      ]
     },
     "execution_count": 51,
     "metadata": {},
     "output_type": "execute_result"
    }
   ],
   "source": [
    "show_method_attributes(lr,7)"
   ]
  },
  {
   "cell_type": "code",
   "execution_count": 52,
   "metadata": {
    "ExecuteTime": {
     "end_time": "2019-09-30T00:25:11.526176Z",
     "start_time": "2019-09-30T00:25:11.503848Z"
    }
   },
   "outputs": [
    {
     "data": {
      "text/plain": [
       "DenseVector([-33265.0953, 31687.8075, 6008989.6808, 5326.5894, 3612.2834, 50436.1052, 40515.9324, 17170.2772, 112715.2636, -5267793.1233, -2829159.902, -76964.894, 7958.3034, -31162.3941, 83519.0309, -30240.0468, 14860.2427, -10447.7218])"
      ]
     },
     "execution_count": 52,
     "metadata": {},
     "output_type": "execute_result"
    }
   ],
   "source": [
    "lr.coefficients"
   ]
  },
  {
   "cell_type": "code",
   "execution_count": 53,
   "metadata": {
    "ExecuteTime": {
     "end_time": "2019-09-30T00:25:11.533054Z",
     "start_time": "2019-09-30T00:25:11.528058Z"
    }
   },
   "outputs": [
    {
     "data": {
      "text/plain": [
       "6690330.8435488995"
      ]
     },
     "execution_count": 53,
     "metadata": {},
     "output_type": "execute_result"
    }
   ],
   "source": [
    "lr.intercept"
   ]
  },
  {
   "cell_type": "code",
   "execution_count": 54,
   "metadata": {
    "ExecuteTime": {
     "end_time": "2019-09-30T00:25:11.555440Z",
     "start_time": "2019-09-30T00:25:11.535573Z"
    }
   },
   "outputs": [
    {
     "data": {
      "text/html": [
       "<div>\n",
       "<style scoped>\n",
       "    .dataframe tbody tr th:only-of-type {\n",
       "        vertical-align: middle;\n",
       "    }\n",
       "\n",
       "    .dataframe tbody tr th {\n",
       "        vertical-align: top;\n",
       "    }\n",
       "\n",
       "    .dataframe thead th {\n",
       "        text-align: right;\n",
       "    }\n",
       "</style>\n",
       "<table border=\"1\" class=\"dataframe\">\n",
       "  <thead>\n",
       "    <tr style=\"text-align: right;\">\n",
       "      <th></th>\n",
       "      <th>Feature</th>\n",
       "      <th>Co-efficients</th>\n",
       "    </tr>\n",
       "  </thead>\n",
       "  <tbody>\n",
       "    <tr>\n",
       "      <th>0</th>\n",
       "      <td>Intercept</td>\n",
       "      <td>6.690331e+06</td>\n",
       "    </tr>\n",
       "    <tr>\n",
       "      <th>1</th>\n",
       "      <td>bedrooms</td>\n",
       "      <td>-3.326510e+04</td>\n",
       "    </tr>\n",
       "    <tr>\n",
       "      <th>2</th>\n",
       "      <td>bathrooms</td>\n",
       "      <td>3.168781e+04</td>\n",
       "    </tr>\n",
       "    <tr>\n",
       "      <th>3</th>\n",
       "      <td>sqft_living</td>\n",
       "      <td>6.008990e+06</td>\n",
       "    </tr>\n",
       "    <tr>\n",
       "      <th>4</th>\n",
       "      <td>sqft_lot</td>\n",
       "      <td>5.326589e+03</td>\n",
       "    </tr>\n",
       "    <tr>\n",
       "      <th>5</th>\n",
       "      <td>floors</td>\n",
       "      <td>3.612283e+03</td>\n",
       "    </tr>\n",
       "    <tr>\n",
       "      <th>6</th>\n",
       "      <td>waterfront</td>\n",
       "      <td>5.043611e+04</td>\n",
       "    </tr>\n",
       "    <tr>\n",
       "      <th>7</th>\n",
       "      <td>view</td>\n",
       "      <td>4.051593e+04</td>\n",
       "    </tr>\n",
       "    <tr>\n",
       "      <th>8</th>\n",
       "      <td>condition</td>\n",
       "      <td>1.717028e+04</td>\n",
       "    </tr>\n",
       "    <tr>\n",
       "      <th>9</th>\n",
       "      <td>grade</td>\n",
       "      <td>1.127153e+05</td>\n",
       "    </tr>\n",
       "    <tr>\n",
       "      <th>10</th>\n",
       "      <td>sqft_above</td>\n",
       "      <td>-5.267793e+06</td>\n",
       "    </tr>\n",
       "    <tr>\n",
       "      <th>11</th>\n",
       "      <td>sqft_basement</td>\n",
       "      <td>-2.829160e+06</td>\n",
       "    </tr>\n",
       "    <tr>\n",
       "      <th>12</th>\n",
       "      <td>yr_built</td>\n",
       "      <td>-7.696489e+04</td>\n",
       "    </tr>\n",
       "    <tr>\n",
       "      <th>13</th>\n",
       "      <td>yr_renovated</td>\n",
       "      <td>7.958303e+03</td>\n",
       "    </tr>\n",
       "    <tr>\n",
       "      <th>14</th>\n",
       "      <td>zipcode</td>\n",
       "      <td>-3.116239e+04</td>\n",
       "    </tr>\n",
       "    <tr>\n",
       "      <th>15</th>\n",
       "      <td>lat</td>\n",
       "      <td>8.351903e+04</td>\n",
       "    </tr>\n",
       "    <tr>\n",
       "      <th>16</th>\n",
       "      <td>long</td>\n",
       "      <td>-3.024005e+04</td>\n",
       "    </tr>\n",
       "    <tr>\n",
       "      <th>17</th>\n",
       "      <td>sqft_living15</td>\n",
       "      <td>1.486024e+04</td>\n",
       "    </tr>\n",
       "    <tr>\n",
       "      <th>18</th>\n",
       "      <td>sqft_lot15</td>\n",
       "      <td>-1.044772e+04</td>\n",
       "    </tr>\n",
       "  </tbody>\n",
       "</table>\n",
       "</div>"
      ],
      "text/plain": [
       "          Feature  Co-efficients\n",
       "0       Intercept   6.690331e+06\n",
       "1        bedrooms  -3.326510e+04\n",
       "2       bathrooms   3.168781e+04\n",
       "3     sqft_living   6.008990e+06\n",
       "4        sqft_lot   5.326589e+03\n",
       "5          floors   3.612283e+03\n",
       "6      waterfront   5.043611e+04\n",
       "7            view   4.051593e+04\n",
       "8       condition   1.717028e+04\n",
       "9           grade   1.127153e+05\n",
       "10     sqft_above  -5.267793e+06\n",
       "11  sqft_basement  -2.829160e+06\n",
       "12       yr_built  -7.696489e+04\n",
       "13   yr_renovated   7.958303e+03\n",
       "14        zipcode  -3.116239e+04\n",
       "15            lat   8.351903e+04\n",
       "16           long  -3.024005e+04\n",
       "17  sqft_living15   1.486024e+04\n",
       "18     sqft_lot15  -1.044772e+04"
      ]
     },
     "execution_count": 54,
     "metadata": {},
     "output_type": "execute_result"
    }
   ],
   "source": [
    "df_coeff = pd.DataFrame({\"Feature\": [\"Intercept\"] + selected_features,\n",
    "  \"Co-efficients\": np.insert(lr.coefficients.toArray(), 0, lr.intercept)})\n",
    "\n",
    "\n",
    "df_coeff"
   ]
  },
  {
   "cell_type": "markdown",
   "metadata": {},
   "source": [
    "### predictions"
   ]
  },
  {
   "cell_type": "code",
   "execution_count": 55,
   "metadata": {
    "ExecuteTime": {
     "end_time": "2019-09-30T00:25:12.359581Z",
     "start_time": "2019-09-30T00:25:11.557971Z"
    }
   },
   "outputs": [
    {
     "name": "stdout",
     "output_type": "stream",
     "text": [
      "+------+------------------+\n",
      "| price|        prediction|\n",
      "+------+------------------+\n",
      "|235000|225548.18837336078|\n",
      "|178000|293933.70595353097|\n",
      "|487000| 639513.5238347957|\n",
      "|281000|114608.27346567344|\n",
      "|465000| 453320.0125229405|\n",
      "+------+------------------+\n",
      "only showing top 5 rows\n",
      "\n"
     ]
    }
   ],
   "source": [
    "preds = lr.transform(test)\n",
    "preds.select('price', 'prediction').show(5)"
   ]
  },
  {
   "cell_type": "code",
   "execution_count": 56,
   "metadata": {
    "ExecuteTime": {
     "end_time": "2019-09-30T00:25:12.988450Z",
     "start_time": "2019-09-30T00:25:12.361799Z"
    }
   },
   "outputs": [
    {
     "name": "stdout",
     "output_type": "stream",
     "text": [
      "+------------------+------+\n",
      "|        prediction| price|\n",
      "+------------------+------+\n",
      "|225548.18837336078|235000|\n",
      "|293933.70595353097|178000|\n",
      "| 639513.5238347957|487000|\n",
      "|114608.27346567344|281000|\n",
      "| 453320.0125229405|465000|\n",
      "+------------------+------+\n",
      "only showing top 5 rows\n",
      "\n"
     ]
    }
   ],
   "source": [
    "preds_and_labels = preds.select(['prediction','price'])\n",
    "preds_and_labels.show(5)"
   ]
  },
  {
   "cell_type": "markdown",
   "metadata": {},
   "source": [
    "### metrics"
   ]
  },
  {
   "cell_type": "code",
   "execution_count": 57,
   "metadata": {
    "ExecuteTime": {
     "end_time": "2019-09-30T00:25:13.015203Z",
     "start_time": "2019-09-30T00:25:12.990979Z"
    }
   },
   "outputs": [
    {
     "data": {
      "text/html": [
       "<div>\n",
       "<style scoped>\n",
       "    .dataframe tbody tr th:only-of-type {\n",
       "        vertical-align: middle;\n",
       "    }\n",
       "\n",
       "    .dataframe tbody tr th {\n",
       "        vertical-align: top;\n",
       "    }\n",
       "\n",
       "    .dataframe thead th {\n",
       "        text-align: right;\n",
       "    }\n",
       "</style>\n",
       "<table border=\"1\" class=\"dataframe\">\n",
       "  <thead>\n",
       "    <tr style=\"text-align: right;\">\n",
       "      <th></th>\n",
       "      <th>0</th>\n",
       "      <th>1</th>\n",
       "      <th>2</th>\n",
       "      <th>3</th>\n",
       "      <th>4</th>\n",
       "    </tr>\n",
       "  </thead>\n",
       "  <tbody>\n",
       "    <tr>\n",
       "      <th>0</th>\n",
       "      <td>coefficientStandardErrors</td>\n",
       "      <td>featuresCol</td>\n",
       "      <td>numInstances</td>\n",
       "      <td>predictions</td>\n",
       "      <td>rootMeanSquaredError</td>\n",
       "    </tr>\n",
       "    <tr>\n",
       "      <th>1</th>\n",
       "      <td>degreesOfFreedom</td>\n",
       "      <td>labelCol</td>\n",
       "      <td>objectiveHistory</td>\n",
       "      <td>r2</td>\n",
       "      <td>tValues</td>\n",
       "    </tr>\n",
       "    <tr>\n",
       "      <th>2</th>\n",
       "      <td>devianceResiduals</td>\n",
       "      <td>meanAbsoluteError</td>\n",
       "      <td>pValues</td>\n",
       "      <td>r2adj</td>\n",
       "      <td>totalIterations</td>\n",
       "    </tr>\n",
       "    <tr>\n",
       "      <th>3</th>\n",
       "      <td>explainedVariance</td>\n",
       "      <td>meanSquaredError</td>\n",
       "      <td>predictionCol</td>\n",
       "      <td>residuals</td>\n",
       "      <td></td>\n",
       "    </tr>\n",
       "  </tbody>\n",
       "</table>\n",
       "</div>"
      ],
      "text/plain": [
       "                           0                  1                 2  \\\n",
       "0  coefficientStandardErrors        featuresCol      numInstances   \n",
       "1           degreesOfFreedom           labelCol  objectiveHistory   \n",
       "2          devianceResiduals  meanAbsoluteError           pValues   \n",
       "3          explainedVariance   meanSquaredError     predictionCol   \n",
       "\n",
       "             3                     4  \n",
       "0  predictions  rootMeanSquaredError  \n",
       "1           r2               tValues  \n",
       "2        r2adj       totalIterations  \n",
       "3    residuals                        "
      ]
     },
     "execution_count": 57,
     "metadata": {},
     "output_type": "execute_result"
    }
   ],
   "source": [
    "show_method_attributes(lr.summary,5)"
   ]
  },
  {
   "cell_type": "code",
   "execution_count": 58,
   "metadata": {
    "ExecuteTime": {
     "end_time": "2019-09-30T00:25:13.056031Z",
     "start_time": "2019-09-30T00:25:13.019301Z"
    }
   },
   "outputs": [
    {
     "name": "stdout",
     "output_type": "stream",
     "text": [
      "['coefficientStandardErrors', 'degreesOfFreedom', 'devianceResiduals', 'explainedVariance', 'featuresCol', 'labelCol', 'meanAbsoluteError', 'meanSquaredError', 'numInstances', 'objectiveHistory', 'pValues', 'predictionCol', 'predictions', 'r2', 'r2adj', 'residuals', 'rootMeanSquaredError', 'tValues', 'totalIterations']\n"
     ]
    }
   ],
   "source": [
    "print([i for i in dir(lr.summary) if i[0].islower()])"
   ]
  },
  {
   "cell_type": "code",
   "execution_count": 59,
   "metadata": {
    "ExecuteTime": {
     "end_time": "2019-09-30T00:25:13.079729Z",
     "start_time": "2019-09-30T00:25:13.059034Z"
    }
   },
   "outputs": [
    {
     "data": {
      "text/html": [
       "<div>\n",
       "<style scoped>\n",
       "    .dataframe tbody tr th:only-of-type {\n",
       "        vertical-align: middle;\n",
       "    }\n",
       "\n",
       "    .dataframe tbody tr th {\n",
       "        vertical-align: top;\n",
       "    }\n",
       "\n",
       "    .dataframe thead th {\n",
       "        text-align: right;\n",
       "    }\n",
       "</style>\n",
       "<table border=\"1\" class=\"dataframe\">\n",
       "  <thead>\n",
       "    <tr style=\"text-align: right;\">\n",
       "      <th></th>\n",
       "      <th>metric</th>\n",
       "      <th>values</th>\n",
       "    </tr>\n",
       "  </thead>\n",
       "  <tbody>\n",
       "    <tr>\n",
       "      <th>0</th>\n",
       "      <td>explainedVariance</td>\n",
       "      <td>9.430923e+10</td>\n",
       "    </tr>\n",
       "    <tr>\n",
       "      <th>1</th>\n",
       "      <td>meanAbsoluteError</td>\n",
       "      <td>1.259226e+05</td>\n",
       "    </tr>\n",
       "    <tr>\n",
       "      <th>2</th>\n",
       "      <td>r2</td>\n",
       "      <td>6.997472e-01</td>\n",
       "    </tr>\n",
       "    <tr>\n",
       "      <th>3</th>\n",
       "      <td>r2adj</td>\n",
       "      <td>6.994969e-01</td>\n",
       "    </tr>\n",
       "    <tr>\n",
       "      <th>4</th>\n",
       "      <td>rootMeanSquaredError</td>\n",
       "      <td>2.011639e+05</td>\n",
       "    </tr>\n",
       "  </tbody>\n",
       "</table>\n",
       "</div>"
      ],
      "text/plain": [
       "                 metric        values\n",
       "0     explainedVariance  9.430923e+10\n",
       "1     meanAbsoluteError  1.259226e+05\n",
       "2                    r2  6.997472e-01\n",
       "3                 r2adj  6.994969e-01\n",
       "4  rootMeanSquaredError  2.011639e+05"
      ]
     },
     "execution_count": 59,
     "metadata": {},
     "output_type": "execute_result"
    }
   ],
   "source": [
    "metrics = [ 'explainedVariance', 'meanAbsoluteError',\n",
    "           'r2', 'r2adj',  'rootMeanSquaredError']\n",
    "\n",
    "metrics_values = [getattr(lr.summary,m) for m in metrics]\n",
    "\n",
    "df_metrics = pd.DataFrame({'metric': metrics,\n",
    "                          'values': metrics_values})\n",
    "\n",
    "df_metrics"
   ]
  },
  {
   "cell_type": "markdown",
   "metadata": {},
   "source": [
    "### evaluation using ml.evaluation"
   ]
  },
  {
   "cell_type": "code",
   "execution_count": 60,
   "metadata": {
    "ExecuteTime": {
     "end_time": "2019-09-30T00:25:14.638381Z",
     "start_time": "2019-09-30T00:25:13.081762Z"
    }
   },
   "outputs": [
    {
     "data": {
      "text/html": [
       "<div>\n",
       "<style scoped>\n",
       "    .dataframe tbody tr th:only-of-type {\n",
       "        vertical-align: middle;\n",
       "    }\n",
       "\n",
       "    .dataframe tbody tr th {\n",
       "        vertical-align: top;\n",
       "    }\n",
       "\n",
       "    .dataframe thead th {\n",
       "        text-align: right;\n",
       "    }\n",
       "</style>\n",
       "<table border=\"1\" class=\"dataframe\">\n",
       "  <thead>\n",
       "    <tr style=\"text-align: right;\">\n",
       "      <th></th>\n",
       "      <th>metric</th>\n",
       "      <th>value</th>\n",
       "    </tr>\n",
       "  </thead>\n",
       "  <tbody>\n",
       "    <tr>\n",
       "      <th>0</th>\n",
       "      <td>rmse</td>\n",
       "      <td>193679.667761</td>\n",
       "    </tr>\n",
       "    <tr>\n",
       "      <th>1</th>\n",
       "      <td>mae</td>\n",
       "      <td>124786.249732</td>\n",
       "    </tr>\n",
       "    <tr>\n",
       "      <th>2</th>\n",
       "      <td>r2</td>\n",
       "      <td>0.717238</td>\n",
       "    </tr>\n",
       "  </tbody>\n",
       "</table>\n",
       "</div>"
      ],
      "text/plain": [
       "  metric          value\n",
       "0   rmse  193679.667761\n",
       "1    mae  124786.249732\n",
       "2     r2       0.717238"
      ]
     },
     "execution_count": 60,
     "metadata": {},
     "output_type": "execute_result"
    }
   ],
   "source": [
    "from pyspark.ml.evaluation import RegressionEvaluator\n",
    "\n",
    "\n",
    "metrics = ['rmse','mae','r2']\n",
    "metrics_values = [ RegressionEvaluator(predictionCol=\"prediction\",\n",
    "                                labelCol='price',\n",
    "                                metricName=m).evaluate(preds_and_labels)\n",
    "                 for m in metrics ]\n",
    "\n",
    "df_metrics = pd.DataFrame({'metric': metrics,\n",
    "                          'value': metrics_values})\n",
    "\n",
    "df_metrics"
   ]
  },
  {
   "cell_type": "markdown",
   "metadata": {},
   "source": [
    "## Elastic Net Regression"
   ]
  },
  {
   "cell_type": "code",
   "execution_count": 61,
   "metadata": {
    "ExecuteTime": {
     "end_time": "2019-09-30T00:26:01.224625Z",
     "start_time": "2019-09-30T00:25:56.720144Z"
    }
   },
   "outputs": [
    {
     "data": {
      "text/html": [
       "<div>\n",
       "<style scoped>\n",
       "    .dataframe tbody tr th:only-of-type {\n",
       "        vertical-align: middle;\n",
       "    }\n",
       "\n",
       "    .dataframe tbody tr th {\n",
       "        vertical-align: top;\n",
       "    }\n",
       "\n",
       "    .dataframe thead th {\n",
       "        text-align: right;\n",
       "    }\n",
       "</style>\n",
       "<table border=\"1\" class=\"dataframe\">\n",
       "  <thead>\n",
       "    <tr style=\"text-align: right;\">\n",
       "      <th></th>\n",
       "      <th>metric</th>\n",
       "      <th>value</th>\n",
       "    </tr>\n",
       "  </thead>\n",
       "  <tbody>\n",
       "    <tr>\n",
       "      <th>0</th>\n",
       "      <td>rmse</td>\n",
       "      <td>193975.893391</td>\n",
       "    </tr>\n",
       "    <tr>\n",
       "      <th>1</th>\n",
       "      <td>mae</td>\n",
       "      <td>125668.434025</td>\n",
       "    </tr>\n",
       "    <tr>\n",
       "      <th>2</th>\n",
       "      <td>r2</td>\n",
       "      <td>0.716372</td>\n",
       "    </tr>\n",
       "  </tbody>\n",
       "</table>\n",
       "</div>"
      ],
      "text/plain": [
       "  metric          value\n",
       "0   rmse  193975.893391\n",
       "1    mae  125668.434025\n",
       "2     r2       0.716372"
      ]
     },
     "execution_count": 61,
     "metadata": {},
     "output_type": "execute_result"
    }
   ],
   "source": [
    "pred_col = 'prediction_elasticnet'\n",
    "\n",
    "model = (LinearRegression(featuresCol='features_scaled',\n",
    "                       labelCol=\"price\",\n",
    "                       predictionCol=pred_col,\n",
    "                       maxIter=10,\n",
    "                       regParam=0.3,\n",
    "                       elasticNetParam=0.8,\n",
    "                       standardization=False)\n",
    "     )\n",
    "\n",
    "model = model.fit(train)\n",
    "preds = model.transform(test)\n",
    "preds_and_labels = preds.select([pred_col,'price'])\n",
    "\n",
    "metrics = ['rmse','mae','r2']\n",
    "\n",
    "metrics_values = [ RegressionEvaluator(predictionCol=pred_col,\n",
    "                                labelCol='price',\n",
    "                                metricName=m).evaluate(preds_and_labels)\n",
    "                 for m in metrics ]\n",
    "\n",
    "df_metrics = pd.DataFrame({'metric': metrics,\n",
    "                          'value': metrics_values})\n",
    "\n",
    "df_metrics"
   ]
  },
  {
   "cell_type": "markdown",
   "metadata": {},
   "source": [
    "## Decision Tree Regressor"
   ]
  },
  {
   "cell_type": "code",
   "execution_count": 62,
   "metadata": {
    "ExecuteTime": {
     "end_time": "2019-09-30T00:26:05.040442Z",
     "start_time": "2019-09-30T00:26:01.226331Z"
    }
   },
   "outputs": [
    {
     "data": {
      "text/html": [
       "<div>\n",
       "<style scoped>\n",
       "    .dataframe tbody tr th:only-of-type {\n",
       "        vertical-align: middle;\n",
       "    }\n",
       "\n",
       "    .dataframe tbody tr th {\n",
       "        vertical-align: top;\n",
       "    }\n",
       "\n",
       "    .dataframe thead th {\n",
       "        text-align: right;\n",
       "    }\n",
       "</style>\n",
       "<table border=\"1\" class=\"dataframe\">\n",
       "  <thead>\n",
       "    <tr style=\"text-align: right;\">\n",
       "      <th></th>\n",
       "      <th>metric</th>\n",
       "      <th>value</th>\n",
       "    </tr>\n",
       "  </thead>\n",
       "  <tbody>\n",
       "    <tr>\n",
       "      <th>0</th>\n",
       "      <td>rmse</td>\n",
       "      <td>184587.818978</td>\n",
       "    </tr>\n",
       "    <tr>\n",
       "      <th>1</th>\n",
       "      <td>mae</td>\n",
       "      <td>113562.302351</td>\n",
       "    </tr>\n",
       "    <tr>\n",
       "      <th>2</th>\n",
       "      <td>r2</td>\n",
       "      <td>0.743162</td>\n",
       "    </tr>\n",
       "  </tbody>\n",
       "</table>\n",
       "</div>"
      ],
      "text/plain": [
       "  metric          value\n",
       "0   rmse  184587.818978\n",
       "1    mae  113562.302351\n",
       "2     r2       0.743162"
      ]
     },
     "execution_count": 62,
     "metadata": {},
     "output_type": "execute_result"
    }
   ],
   "source": [
    "from pyspark.ml.regression import DecisionTreeRegressor\n",
    "\n",
    "pred_col = 'prediction_dtree'\n",
    "model = DecisionTreeRegressor(featuresCol='features_scaled',\n",
    "                       labelCol=\"price\",\n",
    "                       predictionCol=pred_col,\n",
    "                       seed=random_state\n",
    "                       )\n",
    "\n",
    "model = model.fit(train)\n",
    "preds = model.transform(test)\n",
    "preds_and_labels = preds.select([pred_col,'price'])\n",
    "\n",
    "metrics = ['rmse','mae','r2']\n",
    "\n",
    "metrics_values = [ RegressionEvaluator(predictionCol=pred_col,\n",
    "                                labelCol='price',\n",
    "                                metricName=m).evaluate(preds_and_labels)\n",
    "                 for m in metrics ]\n",
    "\n",
    "df_metrics = pd.DataFrame({'metric': metrics,\n",
    "                          'value': metrics_values})\n",
    "\n",
    "df_metrics"
   ]
  },
  {
   "cell_type": "markdown",
   "metadata": {},
   "source": [
    "## Random Forest Regressor"
   ]
  },
  {
   "cell_type": "code",
   "execution_count": 63,
   "metadata": {
    "ExecuteTime": {
     "end_time": "2019-09-30T00:26:09.188293Z",
     "start_time": "2019-09-30T00:26:05.042300Z"
    }
   },
   "outputs": [
    {
     "data": {
      "text/html": [
       "<div>\n",
       "<style scoped>\n",
       "    .dataframe tbody tr th:only-of-type {\n",
       "        vertical-align: middle;\n",
       "    }\n",
       "\n",
       "    .dataframe tbody tr th {\n",
       "        vertical-align: top;\n",
       "    }\n",
       "\n",
       "    .dataframe thead th {\n",
       "        text-align: right;\n",
       "    }\n",
       "</style>\n",
       "<table border=\"1\" class=\"dataframe\">\n",
       "  <thead>\n",
       "    <tr style=\"text-align: right;\">\n",
       "      <th></th>\n",
       "      <th>metric</th>\n",
       "      <th>value</th>\n",
       "    </tr>\n",
       "  </thead>\n",
       "  <tbody>\n",
       "    <tr>\n",
       "      <th>0</th>\n",
       "      <td>rmse</td>\n",
       "      <td>171490.447891</td>\n",
       "    </tr>\n",
       "    <tr>\n",
       "      <th>1</th>\n",
       "      <td>mae</td>\n",
       "      <td>105460.153789</td>\n",
       "    </tr>\n",
       "    <tr>\n",
       "      <th>2</th>\n",
       "      <td>r2</td>\n",
       "      <td>0.778316</td>\n",
       "    </tr>\n",
       "  </tbody>\n",
       "</table>\n",
       "</div>"
      ],
      "text/plain": [
       "  metric          value\n",
       "0   rmse  171490.447891\n",
       "1    mae  105460.153789\n",
       "2     r2       0.778316"
      ]
     },
     "execution_count": 63,
     "metadata": {},
     "output_type": "execute_result"
    }
   ],
   "source": [
    "from pyspark.ml.regression import RandomForestRegressor\n",
    "\n",
    "pred_col = 'prediction_rf'\n",
    "model = RandomForestRegressor(featuresCol='features_scaled',\n",
    "                       labelCol=\"price\",\n",
    "                       predictionCol=pred_col,\n",
    "                       seed=random_state\n",
    "                       )\n",
    "\n",
    "model = model.fit(train)\n",
    "preds_rf = model.transform(test)\n",
    "preds_and_labels = preds_rf.select([pred_col,'price'])\n",
    "\n",
    "metrics = ['rmse','mae','r2']\n",
    "\n",
    "metrics_values = [ RegressionEvaluator(predictionCol=pred_col,\n",
    "                                labelCol='price',\n",
    "                                metricName=m).evaluate(preds_and_labels)\n",
    "                 for m in metrics ]\n",
    "\n",
    "df_metrics = pd.DataFrame({'metric': metrics,\n",
    "                          'value': metrics_values})\n",
    "\n",
    "df_metrics"
   ]
  },
  {
   "cell_type": "markdown",
   "metadata": {},
   "source": [
    "## Parameter tuning"
   ]
  },
  {
   "cell_type": "code",
   "execution_count": 64,
   "metadata": {
    "ExecuteTime": {
     "end_time": "2019-09-30T00:26:09.202827Z",
     "start_time": "2019-09-30T00:26:09.190269Z"
    }
   },
   "outputs": [
    {
     "name": "stdout",
     "output_type": "stream",
     "text": [
      "['id', 'date', 'price', 'bedrooms', 'bathrooms', 'sqft_living', 'sqft_lot', 'floors', 'waterfront', 'view', 'condition', 'grade', 'sqft_above', 'sqft_basement', 'yr_built', 'yr_renovated', 'zipcode', 'lat', 'long', 'sqft_living15', 'sqft_lot15', 'yr_sales', 'age', 'bedrooms_index', 'bedrooms_index_encoded', 'features_encoded_vec', 'basement_bool', 'age_cat', 'age_cat_index', 'age_cat_index_encoded', 'age_cat_vec', 'log1p_price', 'log1p_sqft_living', 'log1p_sqft_lot', 'log1p_sqft_above', 'log1p_sqft_basement', 'log1p_sqft_living15', 'log1p_sqft_lot15', 'features', 'features_scaled']\n"
     ]
    }
   ],
   "source": [
    "print(train.columns)"
   ]
  },
  {
   "cell_type": "code",
   "execution_count": 75,
   "metadata": {
    "ExecuteTime": {
     "end_time": "2019-09-30T00:31:33.851980Z",
     "start_time": "2019-09-30T00:26:09.204737Z"
    }
   },
   "outputs": [
    {
     "name": "stdout",
     "output_type": "stream",
     "text": [
      "Time taken: 3 min 18 secs\n"
     ]
    }
   ],
   "source": [
    "from pyspark.ml import Pipeline\n",
    "from pyspark.ml.tuning import ParamGridBuilder\n",
    "from pyspark.ml.tuning import CrossValidator\n",
    "import time\n",
    "\n",
    "t0 = time.time()\n",
    "\n",
    "model_rf = RandomForestRegressor(labelCol = \"price\", numTrees = 50, seed=random_state)\n",
    "\n",
    "grid_depths = [10,20]\n",
    "paramGrid = ParamGridBuilder()\\\n",
    "   .addGrid(model_rf.maxDepth, grid_depths)\\\n",
    "   .addGrid(model_rf.minInstancesPerNode, grid_depths)\\\n",
    "   .build()\n",
    "\n",
    "pipeline = Pipeline(stages = [model_rf])\n",
    "\n",
    "evaluator = RegressionEvaluator(labelCol = \"price\",\n",
    "                                predictionCol = \"prediction\",\n",
    "                                metricName = \"r2\") \n",
    "\n",
    "crossval = CrossValidator(estimator = pipeline,\n",
    "                          estimatorParamMaps = paramGrid,\n",
    "                          evaluator = evaluator,\n",
    "                          seed = random_state,\n",
    "                          parallelism=50, # number of threads to use\n",
    "                          numFolds = 5)\n",
    "\n",
    "\n",
    "model_cv = crossval.fit(train)\n",
    "\n",
    "t1 = time.time() - t0\n",
    "print('Time taken: {:.0f} min {:.0f} secs'.format(*divmod(t1,60)))\n",
    "# Time taken: 5 min 40 secs with parallelism 1  (5 folds, numtree = 50)\n",
    "# 3min 22 sec with 10 threads\n",
    "# 3min 18 sec with 50 threads"
   ]
  },
  {
   "cell_type": "code",
   "execution_count": 70,
   "metadata": {
    "ExecuteTime": {
     "end_time": "2019-09-30T00:31:35.947318Z",
     "start_time": "2019-09-30T00:31:35.926944Z"
    }
   },
   "outputs": [
    {
     "data": {
      "text/html": [
       "<div>\n",
       "<style scoped>\n",
       "    .dataframe tbody tr th:only-of-type {\n",
       "        vertical-align: middle;\n",
       "    }\n",
       "\n",
       "    .dataframe tbody tr th {\n",
       "        vertical-align: top;\n",
       "    }\n",
       "\n",
       "    .dataframe thead th {\n",
       "        text-align: right;\n",
       "    }\n",
       "</style>\n",
       "<table border=\"1\" class=\"dataframe\">\n",
       "  <thead>\n",
       "    <tr style=\"text-align: right;\">\n",
       "      <th></th>\n",
       "      <th>0</th>\n",
       "      <th>1</th>\n",
       "      <th>2</th>\n",
       "      <th>3</th>\n",
       "      <th>4</th>\n",
       "      <th>5</th>\n",
       "      <th>6</th>\n",
       "    </tr>\n",
       "  </thead>\n",
       "  <tbody>\n",
       "    <tr>\n",
       "      <th>0</th>\n",
       "      <td>avgMetrics</td>\n",
       "      <td>evaluator</td>\n",
       "      <td>getEstimatorParamMaps</td>\n",
       "      <td>hasDefault</td>\n",
       "      <td>params</td>\n",
       "      <td>setEstimator</td>\n",
       "      <td>subModels</td>\n",
       "    </tr>\n",
       "    <tr>\n",
       "      <th>1</th>\n",
       "      <td>bestModel</td>\n",
       "      <td>explainParam</td>\n",
       "      <td>getEvaluator</td>\n",
       "      <td>hasParam</td>\n",
       "      <td>read</td>\n",
       "      <td>setEstimatorParamMaps</td>\n",
       "      <td>transform</td>\n",
       "    </tr>\n",
       "    <tr>\n",
       "      <th>2</th>\n",
       "      <td>copy</td>\n",
       "      <td>explainParams</td>\n",
       "      <td>getOrDefault</td>\n",
       "      <td>isDefined</td>\n",
       "      <td>save</td>\n",
       "      <td>setEvaluator</td>\n",
       "      <td>uid</td>\n",
       "    </tr>\n",
       "    <tr>\n",
       "      <th>3</th>\n",
       "      <td>estimator</td>\n",
       "      <td>extractParamMap</td>\n",
       "      <td>getParam</td>\n",
       "      <td>isSet</td>\n",
       "      <td>seed</td>\n",
       "      <td>setSeed</td>\n",
       "      <td>write</td>\n",
       "    </tr>\n",
       "    <tr>\n",
       "      <th>4</th>\n",
       "      <td>estimatorParamMaps</td>\n",
       "      <td>getEstimator</td>\n",
       "      <td>getSeed</td>\n",
       "      <td>load</td>\n",
       "      <td>set</td>\n",
       "      <td></td>\n",
       "      <td></td>\n",
       "    </tr>\n",
       "  </tbody>\n",
       "</table>\n",
       "</div>"
      ],
      "text/plain": [
       "                    0                1                      2           3  \\\n",
       "0          avgMetrics        evaluator  getEstimatorParamMaps  hasDefault   \n",
       "1           bestModel     explainParam           getEvaluator    hasParam   \n",
       "2                copy    explainParams           getOrDefault   isDefined   \n",
       "3           estimator  extractParamMap               getParam       isSet   \n",
       "4  estimatorParamMaps     getEstimator                getSeed        load   \n",
       "\n",
       "        4                      5          6  \n",
       "0  params           setEstimator  subModels  \n",
       "1    read  setEstimatorParamMaps  transform  \n",
       "2    save           setEvaluator        uid  \n",
       "3    seed                setSeed      write  \n",
       "4     set                                    "
      ]
     },
     "execution_count": 70,
     "metadata": {},
     "output_type": "execute_result"
    }
   ],
   "source": [
    "show_method_attributes(model_cv,7)"
   ]
  },
  {
   "cell_type": "code",
   "execution_count": 68,
   "metadata": {
    "ExecuteTime": {
     "end_time": "2019-09-30T00:31:35.885387Z",
     "start_time": "2019-09-30T00:31:35.066443Z"
    }
   },
   "outputs": [],
   "source": [
    "prediction = model_cv.transform(test)"
   ]
  },
  {
   "cell_type": "code",
   "execution_count": 69,
   "metadata": {
    "ExecuteTime": {
     "end_time": "2019-09-30T00:31:35.924110Z",
     "start_time": "2019-09-30T00:31:35.887577Z"
    }
   },
   "outputs": [
    {
     "name": "stdout",
     "output_type": "stream",
     "text": [
      "['id', 'date', 'price', 'bedrooms', 'bathrooms', 'sqft_living', 'sqft_lot', 'floors', 'waterfront', 'view', 'condition', 'grade', 'sqft_above', 'sqft_basement', 'yr_built', 'yr_renovated', 'zipcode', 'lat', 'long', 'sqft_living15', 'sqft_lot15', 'yr_sales', 'age', 'bedrooms_index', 'bedrooms_index_encoded', 'features_encoded_vec', 'basement_bool', 'age_cat', 'age_cat_index', 'age_cat_index_encoded', 'age_cat_vec', 'log1p_price', 'log1p_sqft_living', 'log1p_sqft_lot', 'log1p_sqft_above', 'log1p_sqft_basement', 'log1p_sqft_living15', 'log1p_sqft_lot15', 'features', 'features_scaled', 'prediction']\n"
     ]
    }
   ],
   "source": [
    "print(prediction.columns)"
   ]
  },
  {
   "cell_type": "code",
   "execution_count": 66,
   "metadata": {
    "ExecuteTime": {
     "end_time": "2019-09-30T00:31:35.034474Z",
     "start_time": "2019-09-30T00:31:33.854250Z"
    }
   },
   "outputs": [
    {
     "data": {
      "text/plain": [
       "0.8735215164466693"
      ]
     },
     "execution_count": 66,
     "metadata": {},
     "output_type": "execute_result"
    }
   ],
   "source": [
    "evaluator.evaluate(model_cv.transform(test)) # gives r2 for test data"
   ]
  },
  {
   "cell_type": "code",
   "execution_count": 67,
   "metadata": {
    "ExecuteTime": {
     "end_time": "2019-09-30T00:31:35.046897Z",
     "start_time": "2019-09-30T00:31:35.037719Z"
    }
   },
   "outputs": [
    {
     "data": {
      "text/plain": [
       "[RandomForestRegressionModel (uid=RandomForestRegressor_dab36ab4cd8c) with 50 trees]"
      ]
     },
     "execution_count": 67,
     "metadata": {},
     "output_type": "execute_result"
    }
   ],
   "source": [
    "model_cv.bestModel.stages"
   ]
  },
  {
   "cell_type": "code",
   "execution_count": 71,
   "metadata": {
    "ExecuteTime": {
     "end_time": "2019-09-30T00:31:35.954538Z",
     "start_time": "2019-09-30T00:31:35.949387Z"
    }
   },
   "outputs": [
    {
     "data": {
      "text/plain": [
       "[Param(parent='CrossValidatorModel_1419a6341a46', name='estimator', doc='estimator to be cross-validated'),\n",
       " Param(parent='CrossValidatorModel_1419a6341a46', name='estimatorParamMaps', doc='estimator param maps'),\n",
       " Param(parent='CrossValidatorModel_1419a6341a46', name='evaluator', doc='evaluator used to select hyper-parameters that maximize the validator metric'),\n",
       " Param(parent='CrossValidatorModel_1419a6341a46', name='seed', doc='random seed.')]"
      ]
     },
     "execution_count": 71,
     "metadata": {},
     "output_type": "execute_result"
    }
   ],
   "source": [
    "model_cv.params"
   ]
  },
  {
   "cell_type": "code",
   "execution_count": 72,
   "metadata": {
    "ExecuteTime": {
     "end_time": "2019-09-30T00:31:38.011688Z",
     "start_time": "2019-09-30T00:31:35.956943Z"
    }
   },
   "outputs": [
    {
     "data": {
      "text/html": [
       "<div>\n",
       "<style scoped>\n",
       "    .dataframe tbody tr th:only-of-type {\n",
       "        vertical-align: middle;\n",
       "    }\n",
       "\n",
       "    .dataframe tbody tr th {\n",
       "        vertical-align: top;\n",
       "    }\n",
       "\n",
       "    .dataframe thead th {\n",
       "        text-align: right;\n",
       "    }\n",
       "</style>\n",
       "<table border=\"1\" class=\"dataframe\">\n",
       "  <thead>\n",
       "    <tr style=\"text-align: right;\">\n",
       "      <th></th>\n",
       "      <th>metric</th>\n",
       "      <th>value</th>\n",
       "    </tr>\n",
       "  </thead>\n",
       "  <tbody>\n",
       "    <tr>\n",
       "      <th>0</th>\n",
       "      <td>rmse</td>\n",
       "      <td>129533.341432</td>\n",
       "    </tr>\n",
       "    <tr>\n",
       "      <th>1</th>\n",
       "      <td>mae</td>\n",
       "      <td>73218.398650</td>\n",
       "    </tr>\n",
       "    <tr>\n",
       "      <th>2</th>\n",
       "      <td>r2</td>\n",
       "      <td>0.873522</td>\n",
       "    </tr>\n",
       "  </tbody>\n",
       "</table>\n",
       "</div>"
      ],
      "text/plain": [
       "  metric          value\n",
       "0   rmse  129533.341432\n",
       "1    mae   73218.398650\n",
       "2     r2       0.873522"
      ]
     },
     "execution_count": 72,
     "metadata": {},
     "output_type": "execute_result"
    }
   ],
   "source": [
    "pred_col = 'prediction'\n",
    "preds_and_labels = prediction.select([pred_col,'price'])\n",
    "\n",
    "metrics = ['rmse','mae','r2']\n",
    "\n",
    "metrics_values = [ RegressionEvaluator(predictionCol=pred_col,\n",
    "                                labelCol='price',\n",
    "                                metricName=m).evaluate(preds_and_labels)\n",
    "                 for m in metrics ]\n",
    "\n",
    "df_metrics = pd.DataFrame({'metric': metrics,\n",
    "                          'value': metrics_values})\n",
    "\n",
    "df_metrics"
   ]
  },
  {
   "cell_type": "markdown",
   "metadata": {},
   "source": [
    "# Feature Importances"
   ]
  },
  {
   "cell_type": "code",
   "execution_count": 92,
   "metadata": {},
   "outputs": [
    {
     "data": {
      "text/plain": [
       "SparseVector(18, {0: 0.0038, 1: 0.0559, 2: 0.2632, 3: 0.0098, 4: 0.0025, 5: 0.0252, 6: 0.0269, 7: 0.0036, 8: 0.2335, 9: 0.0397, 10: 0.0133, 11: 0.0343, 12: 0.0022, 13: 0.0189, 14: 0.1467, 15: 0.0558, 16: 0.0534, 17: 0.0114})"
      ]
     },
     "execution_count": 92,
     "metadata": {},
     "output_type": "execute_result"
    }
   ],
   "source": [
    "model_cv.bestModel.stages[-1].featureImportances"
   ]
  },
  {
   "cell_type": "code",
   "execution_count": 76,
   "metadata": {},
   "outputs": [
    {
     "data": {
      "text/plain": [
       "{'numeric': [{'idx': 0, 'name': 'bedrooms'},\n",
       "  {'idx': 1, 'name': 'bathrooms'},\n",
       "  {'idx': 2, 'name': 'sqft_living'},\n",
       "  {'idx': 3, 'name': 'sqft_lot'},\n",
       "  {'idx': 4, 'name': 'floors'},\n",
       "  {'idx': 5, 'name': 'waterfront'},\n",
       "  {'idx': 6, 'name': 'view'},\n",
       "  {'idx': 7, 'name': 'condition'},\n",
       "  {'idx': 8, 'name': 'grade'},\n",
       "  {'idx': 9, 'name': 'sqft_above'},\n",
       "  {'idx': 10, 'name': 'sqft_basement'},\n",
       "  {'idx': 11, 'name': 'yr_built'},\n",
       "  {'idx': 12, 'name': 'yr_renovated'},\n",
       "  {'idx': 13, 'name': 'zipcode'},\n",
       "  {'idx': 14, 'name': 'lat'},\n",
       "  {'idx': 15, 'name': 'long'},\n",
       "  {'idx': 16, 'name': 'sqft_living15'},\n",
       "  {'idx': 17, 'name': 'sqft_lot15'}]}"
      ]
     },
     "execution_count": 76,
     "metadata": {},
     "output_type": "execute_result"
    }
   ],
   "source": [
    "prediction.schema[\"features\"].metadata[\"ml_attr\"][\"attrs\"]"
   ]
  },
  {
   "cell_type": "code",
   "execution_count": 90,
   "metadata": {},
   "outputs": [],
   "source": [
    "# https://stackoverflow.com/questions/42935914/how-to-map-features-from-the-output-of-a-vectorassembler-back-to-the-column-name\n",
    "def get_feature_importance_df(model_cv, dataset, featuresCol):\n",
    "    feat_imp = model_cv.bestModel.stages[-1].featureImportances\n",
    "    list_extract = []\n",
    "    for i in dataset.schema[featuresCol].metadata[\"ml_attr\"][\"attrs\"]:\n",
    "        list_extract += dataset.schema[featuresCol].metadata[\"ml_attr\"][\"attrs\"][i]\n",
    "        \n",
    "    pandas_df_feat_imp = pd.DataFrame(list_extract)\n",
    "    pandas_df_feat_imp['importance'] = pandas_df_feat_imp['idx'].apply(lambda x: feat_imp[x])\n",
    "    pandas_df_feat_imp = pandas_df_feat_imp.sort_values('importance', ascending = False)\n",
    "    \n",
    "    return pandas_df_feat_imp"
   ]
  },
  {
   "cell_type": "code",
   "execution_count": 91,
   "metadata": {},
   "outputs": [
    {
     "data": {
      "text/html": [
       "<style  type=\"text/css\" >\n",
       "    #T_01ec1a9a_e3ac_11e9_9b6c_ac87a336347arow0_col2 {\n",
       "            background-color:  #023858;\n",
       "            color:  #f1f1f1;\n",
       "        }    #T_01ec1a9a_e3ac_11e9_9b6c_ac87a336347arow1_col2 {\n",
       "            background-color:  #045788;\n",
       "            color:  #f1f1f1;\n",
       "        }    #T_01ec1a9a_e3ac_11e9_9b6c_ac87a336347arow2_col2 {\n",
       "            background-color:  #5a9ec9;\n",
       "            color:  #000000;\n",
       "        }    #T_01ec1a9a_e3ac_11e9_9b6c_ac87a336347arow3_col2 {\n",
       "            background-color:  #dad9ea;\n",
       "            color:  #000000;\n",
       "        }    #T_01ec1a9a_e3ac_11e9_9b6c_ac87a336347arow4_col2 {\n",
       "            background-color:  #dad9ea;\n",
       "            color:  #000000;\n",
       "        }    #T_01ec1a9a_e3ac_11e9_9b6c_ac87a336347arow5_col2 {\n",
       "            background-color:  #dcdaeb;\n",
       "            color:  #000000;\n",
       "        }    #T_01ec1a9a_e3ac_11e9_9b6c_ac87a336347arow6_col2 {\n",
       "            background-color:  #e8e4f0;\n",
       "            color:  #000000;\n",
       "        }    #T_01ec1a9a_e3ac_11e9_9b6c_ac87a336347arow7_col2 {\n",
       "            background-color:  #ede7f2;\n",
       "            color:  #000000;\n",
       "        }    #T_01ec1a9a_e3ac_11e9_9b6c_ac87a336347arow8_col2 {\n",
       "            background-color:  #f1ebf4;\n",
       "            color:  #000000;\n",
       "        }    #T_01ec1a9a_e3ac_11e9_9b6c_ac87a336347arow9_col2 {\n",
       "            background-color:  #f2ecf5;\n",
       "            color:  #000000;\n",
       "        }    #T_01ec1a9a_e3ac_11e9_9b6c_ac87a336347arow10_col2 {\n",
       "            background-color:  #f5eff6;\n",
       "            color:  #000000;\n",
       "        }    #T_01ec1a9a_e3ac_11e9_9b6c_ac87a336347arow11_col2 {\n",
       "            background-color:  #f9f2f8;\n",
       "            color:  #000000;\n",
       "        }    #T_01ec1a9a_e3ac_11e9_9b6c_ac87a336347arow12_col2 {\n",
       "            background-color:  #faf3f9;\n",
       "            color:  #000000;\n",
       "        }    #T_01ec1a9a_e3ac_11e9_9b6c_ac87a336347arow13_col2 {\n",
       "            background-color:  #fbf3f9;\n",
       "            color:  #000000;\n",
       "        }    #T_01ec1a9a_e3ac_11e9_9b6c_ac87a336347arow14_col2 {\n",
       "            background-color:  #fef6fb;\n",
       "            color:  #000000;\n",
       "        }    #T_01ec1a9a_e3ac_11e9_9b6c_ac87a336347arow15_col2 {\n",
       "            background-color:  #fef6fb;\n",
       "            color:  #000000;\n",
       "        }    #T_01ec1a9a_e3ac_11e9_9b6c_ac87a336347arow16_col2 {\n",
       "            background-color:  #fff7fb;\n",
       "            color:  #000000;\n",
       "        }    #T_01ec1a9a_e3ac_11e9_9b6c_ac87a336347arow17_col2 {\n",
       "            background-color:  #fff7fb;\n",
       "            color:  #000000;\n",
       "        }</style><table id=\"T_01ec1a9a_e3ac_11e9_9b6c_ac87a336347a\" ><thead>    <tr>        <th class=\"blank level0\" ></th>        <th class=\"col_heading level0 col0\" >idx</th>        <th class=\"col_heading level0 col1\" >name</th>        <th class=\"col_heading level0 col2\" >importance</th>    </tr></thead><tbody>\n",
       "                <tr>\n",
       "                        <th id=\"T_01ec1a9a_e3ac_11e9_9b6c_ac87a336347alevel0_row0\" class=\"row_heading level0 row0\" >2</th>\n",
       "                        <td id=\"T_01ec1a9a_e3ac_11e9_9b6c_ac87a336347arow0_col0\" class=\"data row0 col0\" >2</td>\n",
       "                        <td id=\"T_01ec1a9a_e3ac_11e9_9b6c_ac87a336347arow0_col1\" class=\"data row0 col1\" >sqft_living</td>\n",
       "                        <td id=\"T_01ec1a9a_e3ac_11e9_9b6c_ac87a336347arow0_col2\" class=\"data row0 col2\" >0.26316</td>\n",
       "            </tr>\n",
       "            <tr>\n",
       "                        <th id=\"T_01ec1a9a_e3ac_11e9_9b6c_ac87a336347alevel0_row1\" class=\"row_heading level0 row1\" >8</th>\n",
       "                        <td id=\"T_01ec1a9a_e3ac_11e9_9b6c_ac87a336347arow1_col0\" class=\"data row1 col0\" >8</td>\n",
       "                        <td id=\"T_01ec1a9a_e3ac_11e9_9b6c_ac87a336347arow1_col1\" class=\"data row1 col1\" >grade</td>\n",
       "                        <td id=\"T_01ec1a9a_e3ac_11e9_9b6c_ac87a336347arow1_col2\" class=\"data row1 col2\" >0.233472</td>\n",
       "            </tr>\n",
       "            <tr>\n",
       "                        <th id=\"T_01ec1a9a_e3ac_11e9_9b6c_ac87a336347alevel0_row2\" class=\"row_heading level0 row2\" >14</th>\n",
       "                        <td id=\"T_01ec1a9a_e3ac_11e9_9b6c_ac87a336347arow2_col0\" class=\"data row2 col0\" >14</td>\n",
       "                        <td id=\"T_01ec1a9a_e3ac_11e9_9b6c_ac87a336347arow2_col1\" class=\"data row2 col1\" >lat</td>\n",
       "                        <td id=\"T_01ec1a9a_e3ac_11e9_9b6c_ac87a336347arow2_col2\" class=\"data row2 col2\" >0.146669</td>\n",
       "            </tr>\n",
       "            <tr>\n",
       "                        <th id=\"T_01ec1a9a_e3ac_11e9_9b6c_ac87a336347alevel0_row3\" class=\"row_heading level0 row3\" >1</th>\n",
       "                        <td id=\"T_01ec1a9a_e3ac_11e9_9b6c_ac87a336347arow3_col0\" class=\"data row3 col0\" >1</td>\n",
       "                        <td id=\"T_01ec1a9a_e3ac_11e9_9b6c_ac87a336347arow3_col1\" class=\"data row3 col1\" >bathrooms</td>\n",
       "                        <td id=\"T_01ec1a9a_e3ac_11e9_9b6c_ac87a336347arow3_col2\" class=\"data row3 col2\" >0.0559069</td>\n",
       "            </tr>\n",
       "            <tr>\n",
       "                        <th id=\"T_01ec1a9a_e3ac_11e9_9b6c_ac87a336347alevel0_row4\" class=\"row_heading level0 row4\" >15</th>\n",
       "                        <td id=\"T_01ec1a9a_e3ac_11e9_9b6c_ac87a336347arow4_col0\" class=\"data row4 col0\" >15</td>\n",
       "                        <td id=\"T_01ec1a9a_e3ac_11e9_9b6c_ac87a336347arow4_col1\" class=\"data row4 col1\" >long</td>\n",
       "                        <td id=\"T_01ec1a9a_e3ac_11e9_9b6c_ac87a336347arow4_col2\" class=\"data row4 col2\" >0.0558219</td>\n",
       "            </tr>\n",
       "            <tr>\n",
       "                        <th id=\"T_01ec1a9a_e3ac_11e9_9b6c_ac87a336347alevel0_row5\" class=\"row_heading level0 row5\" >16</th>\n",
       "                        <td id=\"T_01ec1a9a_e3ac_11e9_9b6c_ac87a336347arow5_col0\" class=\"data row5 col0\" >16</td>\n",
       "                        <td id=\"T_01ec1a9a_e3ac_11e9_9b6c_ac87a336347arow5_col1\" class=\"data row5 col1\" >sqft_living15</td>\n",
       "                        <td id=\"T_01ec1a9a_e3ac_11e9_9b6c_ac87a336347arow5_col2\" class=\"data row5 col2\" >0.0533512</td>\n",
       "            </tr>\n",
       "            <tr>\n",
       "                        <th id=\"T_01ec1a9a_e3ac_11e9_9b6c_ac87a336347alevel0_row6\" class=\"row_heading level0 row6\" >9</th>\n",
       "                        <td id=\"T_01ec1a9a_e3ac_11e9_9b6c_ac87a336347arow6_col0\" class=\"data row6 col0\" >9</td>\n",
       "                        <td id=\"T_01ec1a9a_e3ac_11e9_9b6c_ac87a336347arow6_col1\" class=\"data row6 col1\" >sqft_above</td>\n",
       "                        <td id=\"T_01ec1a9a_e3ac_11e9_9b6c_ac87a336347arow6_col2\" class=\"data row6 col2\" >0.0396954</td>\n",
       "            </tr>\n",
       "            <tr>\n",
       "                        <th id=\"T_01ec1a9a_e3ac_11e9_9b6c_ac87a336347alevel0_row7\" class=\"row_heading level0 row7\" >11</th>\n",
       "                        <td id=\"T_01ec1a9a_e3ac_11e9_9b6c_ac87a336347arow7_col0\" class=\"data row7 col0\" >11</td>\n",
       "                        <td id=\"T_01ec1a9a_e3ac_11e9_9b6c_ac87a336347arow7_col1\" class=\"data row7 col1\" >yr_built</td>\n",
       "                        <td id=\"T_01ec1a9a_e3ac_11e9_9b6c_ac87a336347arow7_col2\" class=\"data row7 col2\" >0.0342701</td>\n",
       "            </tr>\n",
       "            <tr>\n",
       "                        <th id=\"T_01ec1a9a_e3ac_11e9_9b6c_ac87a336347alevel0_row8\" class=\"row_heading level0 row8\" >6</th>\n",
       "                        <td id=\"T_01ec1a9a_e3ac_11e9_9b6c_ac87a336347arow8_col0\" class=\"data row8 col0\" >6</td>\n",
       "                        <td id=\"T_01ec1a9a_e3ac_11e9_9b6c_ac87a336347arow8_col1\" class=\"data row8 col1\" >view</td>\n",
       "                        <td id=\"T_01ec1a9a_e3ac_11e9_9b6c_ac87a336347arow8_col2\" class=\"data row8 col2\" >0.0269099</td>\n",
       "            </tr>\n",
       "            <tr>\n",
       "                        <th id=\"T_01ec1a9a_e3ac_11e9_9b6c_ac87a336347alevel0_row9\" class=\"row_heading level0 row9\" >5</th>\n",
       "                        <td id=\"T_01ec1a9a_e3ac_11e9_9b6c_ac87a336347arow9_col0\" class=\"data row9 col0\" >5</td>\n",
       "                        <td id=\"T_01ec1a9a_e3ac_11e9_9b6c_ac87a336347arow9_col1\" class=\"data row9 col1\" >waterfront</td>\n",
       "                        <td id=\"T_01ec1a9a_e3ac_11e9_9b6c_ac87a336347arow9_col2\" class=\"data row9 col2\" >0.0251735</td>\n",
       "            </tr>\n",
       "            <tr>\n",
       "                        <th id=\"T_01ec1a9a_e3ac_11e9_9b6c_ac87a336347alevel0_row10\" class=\"row_heading level0 row10\" >13</th>\n",
       "                        <td id=\"T_01ec1a9a_e3ac_11e9_9b6c_ac87a336347arow10_col0\" class=\"data row10 col0\" >13</td>\n",
       "                        <td id=\"T_01ec1a9a_e3ac_11e9_9b6c_ac87a336347arow10_col1\" class=\"data row10 col1\" >zipcode</td>\n",
       "                        <td id=\"T_01ec1a9a_e3ac_11e9_9b6c_ac87a336347arow10_col2\" class=\"data row10 col2\" >0.0189028</td>\n",
       "            </tr>\n",
       "            <tr>\n",
       "                        <th id=\"T_01ec1a9a_e3ac_11e9_9b6c_ac87a336347alevel0_row11\" class=\"row_heading level0 row11\" >10</th>\n",
       "                        <td id=\"T_01ec1a9a_e3ac_11e9_9b6c_ac87a336347arow11_col0\" class=\"data row11 col0\" >10</td>\n",
       "                        <td id=\"T_01ec1a9a_e3ac_11e9_9b6c_ac87a336347arow11_col1\" class=\"data row11 col1\" >sqft_basement</td>\n",
       "                        <td id=\"T_01ec1a9a_e3ac_11e9_9b6c_ac87a336347arow11_col2\" class=\"data row11 col2\" >0.0133193</td>\n",
       "            </tr>\n",
       "            <tr>\n",
       "                        <th id=\"T_01ec1a9a_e3ac_11e9_9b6c_ac87a336347alevel0_row12\" class=\"row_heading level0 row12\" >17</th>\n",
       "                        <td id=\"T_01ec1a9a_e3ac_11e9_9b6c_ac87a336347arow12_col0\" class=\"data row12 col0\" >17</td>\n",
       "                        <td id=\"T_01ec1a9a_e3ac_11e9_9b6c_ac87a336347arow12_col1\" class=\"data row12 col1\" >sqft_lot15</td>\n",
       "                        <td id=\"T_01ec1a9a_e3ac_11e9_9b6c_ac87a336347arow12_col2\" class=\"data row12 col2\" >0.0113832</td>\n",
       "            </tr>\n",
       "            <tr>\n",
       "                        <th id=\"T_01ec1a9a_e3ac_11e9_9b6c_ac87a336347alevel0_row13\" class=\"row_heading level0 row13\" >3</th>\n",
       "                        <td id=\"T_01ec1a9a_e3ac_11e9_9b6c_ac87a336347arow13_col0\" class=\"data row13 col0\" >3</td>\n",
       "                        <td id=\"T_01ec1a9a_e3ac_11e9_9b6c_ac87a336347arow13_col1\" class=\"data row13 col1\" >sqft_lot</td>\n",
       "                        <td id=\"T_01ec1a9a_e3ac_11e9_9b6c_ac87a336347arow13_col2\" class=\"data row13 col2\" >0.00980678</td>\n",
       "            </tr>\n",
       "            <tr>\n",
       "                        <th id=\"T_01ec1a9a_e3ac_11e9_9b6c_ac87a336347alevel0_row14\" class=\"row_heading level0 row14\" >0</th>\n",
       "                        <td id=\"T_01ec1a9a_e3ac_11e9_9b6c_ac87a336347arow14_col0\" class=\"data row14 col0\" >0</td>\n",
       "                        <td id=\"T_01ec1a9a_e3ac_11e9_9b6c_ac87a336347arow14_col1\" class=\"data row14 col1\" >bedrooms</td>\n",
       "                        <td id=\"T_01ec1a9a_e3ac_11e9_9b6c_ac87a336347arow14_col2\" class=\"data row14 col2\" >0.00377609</td>\n",
       "            </tr>\n",
       "            <tr>\n",
       "                        <th id=\"T_01ec1a9a_e3ac_11e9_9b6c_ac87a336347alevel0_row15\" class=\"row_heading level0 row15\" >7</th>\n",
       "                        <td id=\"T_01ec1a9a_e3ac_11e9_9b6c_ac87a336347arow15_col0\" class=\"data row15 col0\" >7</td>\n",
       "                        <td id=\"T_01ec1a9a_e3ac_11e9_9b6c_ac87a336347arow15_col1\" class=\"data row15 col1\" >condition</td>\n",
       "                        <td id=\"T_01ec1a9a_e3ac_11e9_9b6c_ac87a336347arow15_col2\" class=\"data row15 col2\" >0.00362954</td>\n",
       "            </tr>\n",
       "            <tr>\n",
       "                        <th id=\"T_01ec1a9a_e3ac_11e9_9b6c_ac87a336347alevel0_row16\" class=\"row_heading level0 row16\" >4</th>\n",
       "                        <td id=\"T_01ec1a9a_e3ac_11e9_9b6c_ac87a336347arow16_col0\" class=\"data row16 col0\" >4</td>\n",
       "                        <td id=\"T_01ec1a9a_e3ac_11e9_9b6c_ac87a336347arow16_col1\" class=\"data row16 col1\" >floors</td>\n",
       "                        <td id=\"T_01ec1a9a_e3ac_11e9_9b6c_ac87a336347arow16_col2\" class=\"data row16 col2\" >0.00251064</td>\n",
       "            </tr>\n",
       "            <tr>\n",
       "                        <th id=\"T_01ec1a9a_e3ac_11e9_9b6c_ac87a336347alevel0_row17\" class=\"row_heading level0 row17\" >12</th>\n",
       "                        <td id=\"T_01ec1a9a_e3ac_11e9_9b6c_ac87a336347arow17_col0\" class=\"data row17 col0\" >12</td>\n",
       "                        <td id=\"T_01ec1a9a_e3ac_11e9_9b6c_ac87a336347arow17_col1\" class=\"data row17 col1\" >yr_renovated</td>\n",
       "                        <td id=\"T_01ec1a9a_e3ac_11e9_9b6c_ac87a336347arow17_col2\" class=\"data row17 col2\" >0.00224113</td>\n",
       "            </tr>\n",
       "    </tbody></table>"
      ],
      "text/plain": [
       "<pandas.io.formats.style.Styler at 0x128c8f400>"
      ]
     },
     "execution_count": 91,
     "metadata": {},
     "output_type": "execute_result"
    }
   ],
   "source": [
    "pandas_df_feat_imp = get_feature_importance_df(model_cv, prediction, \"features\")\n",
    "pandas_df_feat_imp.style.background_gradient(subset=['importance'])"
   ]
  },
  {
   "cell_type": "code",
   "execution_count": null,
   "metadata": {},
   "outputs": [],
   "source": []
  }
 ],
 "metadata": {
  "kernelspec": {
   "display_name": "Python 3",
   "language": "python",
   "name": "python3"
  },
  "language_info": {
   "codemirror_mode": {
    "name": "ipython",
    "version": 3
   },
   "file_extension": ".py",
   "mimetype": "text/x-python",
   "name": "python",
   "nbconvert_exporter": "python",
   "pygments_lexer": "ipython3",
   "version": "3.5.4"
  },
  "toc": {
   "base_numbering": 1,
   "nav_menu": {},
   "number_sections": true,
   "sideBar": true,
   "skip_h1_title": false,
   "title_cell": "Table of Contents",
   "title_sidebar": "Contents",
   "toc_cell": true,
   "toc_position": {},
   "toc_section_display": true,
   "toc_window_display": true
  }
 },
 "nbformat": 4,
 "nbformat_minor": 2
}
