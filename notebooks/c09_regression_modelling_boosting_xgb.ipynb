{
  "nbformat": 4,
  "nbformat_minor": 0,
  "metadata": {
    "colab": {
      "name": "c09_regression_modelling_sklearn_xgb.ipynb",
      "provenance": [],
      "collapsed_sections": []
    },
    "kernelspec": {
      "display_name": "Python (dataSc)",
      "language": "python",
      "name": "datasc"
    },
    "language_info": {
      "codemirror_mode": {
        "name": "ipython",
        "version": 3
      },
      "file_extension": ".py",
      "mimetype": "text/x-python",
      "name": "python",
      "nbconvert_exporter": "python",
      "pygments_lexer": "ipython3",
      "version": "3.7.3"
    },
    "toc": {
      "base_numbering": 1,
      "nav_menu": {},
      "number_sections": true,
      "sideBar": true,
      "skip_h1_title": false,
      "title_cell": "Table of Contents",
      "title_sidebar": "Contents",
      "toc_cell": true,
      "toc_position": {},
      "toc_section_display": true,
      "toc_window_display": true
    }
  },
  "cells": [
    {
      "cell_type": "markdown",
      "metadata": {
        "colab_type": "text",
        "id": "p0xjof2N44pA",
        "toc": "true"
      },
      "source": [
        "<h1>Table of Contents<span class=\"tocSkip\"></span></h1>\n",
        "<div class=\"toc\"><ul class=\"toc-item\"><li><span><a href=\"#Data-Description\" data-toc-modified-id=\"Data-Description-1\"><span class=\"toc-item-num\">1&nbsp;&nbsp;</span>Data Description</a></span></li><li><span><a href=\"#Imports\" data-toc-modified-id=\"Imports-2\"><span class=\"toc-item-num\">2&nbsp;&nbsp;</span>Imports</a></span></li><li><span><a href=\"#Important-Scripts\" data-toc-modified-id=\"Important-Scripts-3\"><span class=\"toc-item-num\">3&nbsp;&nbsp;</span>Important Scripts</a></span></li><li><span><a href=\"#Load-the-data\" data-toc-modified-id=\"Load-the-data-4\"><span class=\"toc-item-num\">4&nbsp;&nbsp;</span>Load the data</a></span></li><li><span><a href=\"#Log-transform-large-values\" data-toc-modified-id=\"Log-transform-large-values-5\"><span class=\"toc-item-num\">5&nbsp;&nbsp;</span>Log transform large values</a></span></li><li><span><a href=\"#Train-Test-split-after-log-transform\" data-toc-modified-id=\"Train-Test-split-after-log-transform-6\"><span class=\"toc-item-num\">6&nbsp;&nbsp;</span>Train-Test split after log transform</a></span></li><li><span><a href=\"#Scaling-the-Data\" data-toc-modified-id=\"Scaling-the-Data-7\"><span class=\"toc-item-num\">7&nbsp;&nbsp;</span>Scaling the Data</a></span></li><li><span><a href=\"#GBR-Modelling\" data-toc-modified-id=\"GBR-Modelling-8\"><span class=\"toc-item-num\">8&nbsp;&nbsp;</span>GBR Modelling</a></span></li><li><span><a href=\"#GBR-modelling-using-pipeline\" data-toc-modified-id=\"GBR-modelling-using-pipeline-9\"><span class=\"toc-item-num\">9&nbsp;&nbsp;</span>GBR modelling using pipeline</a></span></li><li><span><a href=\"#Cross-Validation-Results\" data-toc-modified-id=\"Cross-Validation-Results-10\"><span class=\"toc-item-num\">10&nbsp;&nbsp;</span>Cross Validation Results</a></span></li><li><span><a href=\"#HPO-(Hyper-Parameters-Optimization)\" data-toc-modified-id=\"HPO-(Hyper-Parameters-Optimization)-11\"><span class=\"toc-item-num\">11&nbsp;&nbsp;</span>HPO (Hyper Parameters Optimization)</a></span><ul class=\"toc-item\"><li><span><a href=\"#Grid-Search-for-Gradient-Boosting-Regressor\" data-toc-modified-id=\"Grid-Search-for-Gradient-Boosting-Regressor-11.1\"><span class=\"toc-item-num\">11.1&nbsp;&nbsp;</span>Grid Search for Gradient Boosting Regressor</a></span></li></ul></li><li><span><a href=\"#Hyper-Parameter-using-hyperopt-sklearn-for-Gradient-Boosting-Regressor\" data-toc-modified-id=\"Hyper-Parameter-using-hyperopt-sklearn-for-Gradient-Boosting-Regressor-12\"><span class=\"toc-item-num\">12&nbsp;&nbsp;</span>Hyper Parameter using hyperopt-sklearn for Gradient Boosting Regressor</a></span></li><li><span><a href=\"#Scale-data-for-hyperparameter-tuning\" data-toc-modified-id=\"Scale-data-for-hyperparameter-tuning-13\"><span class=\"toc-item-num\">13&nbsp;&nbsp;</span>Scale data for hyperparameter tuning</a></span><ul class=\"toc-item\"><li><span><a href=\"#HPO-without-scaling-the-data\" data-toc-modified-id=\"HPO-without-scaling-the-data-13.1\"><span class=\"toc-item-num\">13.1&nbsp;&nbsp;</span>HPO without scaling the data</a></span></li></ul></li></ul></div>"
      ]
    },
    {
      "cell_type": "markdown",
      "metadata": {
        "colab_type": "text",
        "id": "VwrXuQrH44pE"
      },
      "source": [
        "# Data Description\n",
        "\n",
        "This dataset contains house sale prices for King County,\n",
        "which includes Seattle.\n",
        "It includes homes sold between May 2014 and May 2015.\n",
        "\n",
        "- Dependent features: 1 (price)\n",
        "- Features : 19 home features\n",
        "- Id:  1 house ID\n",
        "\n",
        "Task: Try to estimate the price based on given features.\n",
        "\n",
        "![](https://github.com/bhishanpdl/Project_House_Price_Prediction/blob/master/data/raw/data_description.png?raw=1)\n",
        "\n",
        "## Model Introduction\n",
        "The term `Boosting` refers to a family of algorithms which converts weak learner to strong learners.\n",
        "\n",
        "There are many boosting algorithms which impart additional boost to model’s accuracy. In this tutorial, we’ll learn about the two most commonly used algorithms i.e. Gradient Boosting (GBM) and XGboost.\n",
        "\n",
        "Generally XGboost is considered more advanced than gbm. \n",
        "- xgboost supports regularization, however gbm does not.\n",
        "- xgboost is blazingley faster than gbm.\n",
        "- xgboost has built-in routine to handle missing values.\n",
        "- xgboost has tree pruning mechanisms,however gbm and random forest are greedy algorithms and do not have tree pruning.\n",
        "- In xgboost we can run cross-validation at each iteration of the boosting. But in gbm, we have to run grid search."
      ]
    },
    {
      "cell_type": "markdown",
      "metadata": {
        "colab_type": "text",
        "id": "mcUE4kVk44pE"
      },
      "source": [
        "# Imports"
      ]
    },
    {
      "cell_type": "code",
      "metadata": {
        "ExecuteTime": {
          "end_time": "2019-11-20T01:11:15.553817Z",
          "start_time": "2019-11-20T01:11:15.549974Z"
        },
        "colab_type": "code",
        "id": "tpMc6QvO44pF",
        "colab": {}
      },
      "source": [
        "import sys\n",
        "ENV_BHISHAN = 'bhishan' in sys.modules\n",
        "\n",
        "if ENV_BHISHAN:\n",
        "    print('Environment: Personal environment')\n",
        "    import src\n",
        "    import bhishan\n",
        "    %load_ext autoreload\n",
        "    %autoreload 2"
      ],
      "execution_count": 0,
      "outputs": []
    },
    {
      "cell_type": "code",
      "metadata": {
        "ExecuteTime": {
          "end_time": "2019-11-20T01:11:15.559295Z",
          "start_time": "2019-11-20T01:11:15.556158Z"
        },
        "colab_type": "code",
        "id": "FQX0h7dcOrHN",
        "outputId": "f07e528e-0ca5-4969-ef36-13a791eca501",
        "colab": {
          "base_uri": "https://localhost:8080/",
          "height": 34
        }
      },
      "source": [
        "import sys\n",
        "ENV_COLAB = 'google.colab' in sys.modules\n",
        "\n",
        "if ENV_COLAB:\n",
        "    #!pip install hpsklearn\n",
        "\n",
        "    # set OMP_NUM_THREADS=1 for hpsklearn package\n",
        "    #!export OMP_NUM_THREADS=1\n",
        "    print('Environment: Google Colab')"
      ],
      "execution_count": 5,
      "outputs": [
        {
          "output_type": "stream",
          "text": [
            "Environment: Google Colab\n"
          ],
          "name": "stdout"
        }
      ]
    },
    {
      "cell_type": "code",
      "metadata": {
        "ExecuteTime": {
          "end_time": "2019-11-20T01:11:16.331694Z",
          "start_time": "2019-11-20T01:11:15.561180Z"
        },
        "colab_type": "code",
        "id": "ZFubck-r44pH",
        "outputId": "cd32caf0-733b-4daa-9d0d-f1d662354d91",
        "colab": {
          "base_uri": "https://localhost:8080/",
          "height": 34
        }
      },
      "source": [
        "import numpy as np\n",
        "import pandas as pd\n",
        "import seaborn as sns\n",
        "sns.set(color_codes=True)\n",
        "\n",
        "import matplotlib\n",
        "import matplotlib.pyplot as plt\n",
        "%matplotlib inline\n",
        "\n",
        "import os\n",
        "import time\n",
        "\n",
        "# random state\n",
        "RANDOM_STATE=100\n",
        "np.random.seed(RANDOM_STATE) # we need this in each cell\n",
        "\n",
        "\n",
        "# Jupyter notebook settings for pandas\n",
        "pd.set_option('display.max_columns', 200)\n",
        "# pd.set_option('display.float_format', '{:,.4f}'.format) # numbers sep by comma\n",
        "pd.set_option('display.max_rows', 100) # None for all the rows\n",
        "pd.set_option('display.max_colwidth', 200)\n",
        "\n",
        "print([(x.__name__,x.__version__) for x in [np, pd,sns,matplotlib]])"
      ],
      "execution_count": 6,
      "outputs": [
        {
          "output_type": "stream",
          "text": [
            "[('numpy', '1.17.4'), ('pandas', '0.25.3'), ('seaborn', '0.9.0'), ('matplotlib', '3.1.1')]\n"
          ],
          "name": "stdout"
        }
      ]
    },
    {
      "cell_type": "code",
      "metadata": {
        "ExecuteTime": {
          "end_time": "2019-11-20T01:11:16.347214Z",
          "start_time": "2019-11-20T01:11:16.338933Z"
        },
        "colab_type": "code",
        "id": "oIXUJ81Z44pK",
        "outputId": "78911078-bb61-4bcd-a18d-89fdcda110c1",
        "colab": {
          "base_uri": "https://localhost:8080/",
          "height": 16
        }
      },
      "source": [
        "%%javascript\n",
        "IPython.OutputArea.auto_scroll_threshold = 9999;"
      ],
      "execution_count": 7,
      "outputs": [
        {
          "output_type": "display_data",
          "data": {
            "application/javascript": [
              "IPython.OutputArea.auto_scroll_threshold = 9999;"
            ],
            "text/plain": [
              "<IPython.core.display.Javascript object>"
            ]
          },
          "metadata": {
            "tags": []
          }
        }
      ]
    },
    {
      "cell_type": "code",
      "metadata": {
        "ExecuteTime": {
          "end_time": "2019-11-20T01:11:16.384736Z",
          "start_time": "2019-11-20T01:11:16.358013Z"
        },
        "colab_type": "code",
        "id": "Aq_hgFag44pM",
        "outputId": "7238938b-197a-465a-e42c-da6bc36a4171",
        "colab": {
          "base_uri": "https://localhost:8080/",
          "height": 34
        }
      },
      "source": [
        "import scipy\n",
        "import sklearn\n",
        "\n",
        "print([(x.__name__,x.__version__) for x in [scipy, sklearn]])"
      ],
      "execution_count": 8,
      "outputs": [
        {
          "output_type": "stream",
          "text": [
            "[('scipy', '1.3.2'), ('sklearn', '0.21.3')]\n"
          ],
          "name": "stdout"
        }
      ]
    },
    {
      "cell_type": "code",
      "metadata": {
        "ExecuteTime": {
          "end_time": "2019-11-20T01:11:16.793651Z",
          "start_time": "2019-11-20T01:11:16.394609Z"
        },
        "colab_type": "code",
        "id": "qBmcsybv44pO",
        "colab": {}
      },
      "source": [
        "# scale and split\n",
        "from sklearn.preprocessing import StandardScaler\n",
        "from sklearn.model_selection import train_test_split"
      ],
      "execution_count": 0,
      "outputs": []
    },
    {
      "cell_type": "code",
      "metadata": {
        "ExecuteTime": {
          "end_time": "2019-11-20T01:11:16.800796Z",
          "start_time": "2019-11-20T01:11:16.795816Z"
        },
        "colab_type": "code",
        "id": "TC6HKGq_44pV",
        "colab": {}
      },
      "source": [
        "# pipeline\n",
        "from sklearn.pipeline import Pipeline"
      ],
      "execution_count": 0,
      "outputs": []
    },
    {
      "cell_type": "code",
      "metadata": {
        "ExecuteTime": {
          "end_time": "2019-11-20T01:11:16.856953Z",
          "start_time": "2019-11-20T01:11:16.803460Z"
        },
        "id": "I4b6sMhUg7NK",
        "colab_type": "code",
        "colab": {}
      },
      "source": [
        "# classifier\n",
        "import xgboost as xgb"
      ],
      "execution_count": 0,
      "outputs": []
    },
    {
      "cell_type": "code",
      "metadata": {
        "id": "IkEVzCPTHqZ5",
        "colab_type": "code",
        "colab": {}
      },
      "source": [
        "# six and pickle\n",
        "import six\n",
        "import pickle\n",
        "import joblib"
      ],
      "execution_count": 0,
      "outputs": []
    },
    {
      "cell_type": "code",
      "metadata": {
        "ExecuteTime": {
          "end_time": "2019-11-20T01:11:16.863337Z",
          "start_time": "2019-11-20T01:11:16.859082Z"
        },
        "colab_type": "code",
        "id": "GtHea_AG44pX",
        "colab": {}
      },
      "source": [
        "# metrics\n",
        "from sklearn import metrics\n",
        "from sklearn.metrics import mean_squared_error\n",
        "from sklearn.metrics import explained_variance_score"
      ],
      "execution_count": 0,
      "outputs": []
    },
    {
      "cell_type": "code",
      "metadata": {
        "ExecuteTime": {
          "end_time": "2019-11-20T01:11:16.870647Z",
          "start_time": "2019-11-20T01:11:16.866443Z"
        },
        "colab_type": "code",
        "id": "R99zpuD_44pY",
        "colab": {}
      },
      "source": [
        "# cross validation\n",
        "from sklearn.model_selection import KFold\n",
        "from sklearn.model_selection import cross_val_score, cross_val_predict"
      ],
      "execution_count": 0,
      "outputs": []
    },
    {
      "cell_type": "code",
      "metadata": {
        "ExecuteTime": {
          "end_time": "2019-11-20T01:11:16.890258Z",
          "start_time": "2019-11-20T01:11:16.879471Z"
        },
        "colab_type": "code",
        "id": "dZRyd5ak44pa",
        "colab": {}
      },
      "source": [
        "df_eval = pd.DataFrame({'Model': [],\n",
        "                           'Details':[],\n",
        "                           'Root Mean Squared Error (RMSE)':[],\n",
        "                           'R-squared (training)':[],\n",
        "                           'Adjusted R-squared (training)':[],\n",
        "                           'R-squared (test)':[],\n",
        "                           'Adjusted R-squared (test)':[],\n",
        "                           '5-Fold Cross Validation':[]})"
      ],
      "execution_count": 0,
      "outputs": []
    },
    {
      "cell_type": "markdown",
      "metadata": {
        "colab_type": "text",
        "id": "_vArIrIYIRlc"
      },
      "source": [
        "# Important Scripts"
      ]
    },
    {
      "cell_type": "code",
      "metadata": {
        "ExecuteTime": {
          "end_time": "2019-11-20T01:11:16.907111Z",
          "start_time": "2019-11-20T01:11:16.896053Z"
        },
        "colab_type": "code",
        "id": "71Gnb9Z9IT3g",
        "colab": {}
      },
      "source": [
        "def show_method_attributes(obj, ncols=7,start=None, inside=None):\n",
        "    \"\"\" Show all the attributes of a given method.\n",
        "    Example:\n",
        "    ========\n",
        "    show_method_attributes(list)\n",
        "     \"\"\"\n",
        "\n",
        "    print(f'Object Type: {type(obj)}\\n')\n",
        "    lst = [elem for elem in dir(obj) if elem[0]!='_' ]\n",
        "    lst = [elem for elem in lst \n",
        "           if elem not in 'os np pd sys time psycopg2'.split() ]\n",
        "\n",
        "    if isinstance(start,str):\n",
        "        lst = [elem for elem in lst if elem.startswith(start)]\n",
        "        \n",
        "    if isinstance(start,tuple) or isinstance(start,list):\n",
        "        lst = [elem for elem in lst for start_elem in start\n",
        "               if elem.startswith(start_elem)]\n",
        "        \n",
        "    if isinstance(inside,str):\n",
        "        lst = [elem for elem in lst if inside in elem]\n",
        "        \n",
        "    if isinstance(inside,tuple) or isinstance(inside,list):\n",
        "        lst = [elem for elem in lst for inside_elem in inside\n",
        "               if inside_elem in elem]\n",
        "\n",
        "    return pd.DataFrame(np.array_split(lst,ncols)).T.fillna('')"
      ],
      "execution_count": 0,
      "outputs": []
    },
    {
      "cell_type": "code",
      "metadata": {
        "ExecuteTime": {
          "end_time": "2019-11-20T01:11:16.913612Z",
          "start_time": "2019-11-20T01:11:16.910072Z"
        },
        "colab_type": "code",
        "id": "H1JrjcmiK66M",
        "colab": {}
      },
      "source": [
        "def adjustedR2(rsquared,nrows,kcols):\n",
        "    return rsquared- (kcols-1)/(nrows-kcols) * (1-rsquared)"
      ],
      "execution_count": 0,
      "outputs": []
    },
    {
      "cell_type": "markdown",
      "metadata": {
        "colab_type": "text",
        "id": "AopwXJ3B44pv"
      },
      "source": [
        "# Load the data"
      ]
    },
    {
      "cell_type": "code",
      "metadata": {
        "ExecuteTime": {
          "end_time": "2019-11-20T01:11:22.829290Z",
          "start_time": "2019-11-20T01:11:16.916884Z"
        },
        "colab_type": "code",
        "id": "efpgvfDk44px",
        "outputId": "ba7a713f-9d34-417f-837f-db434c953f28",
        "colab": {
          "base_uri": "https://localhost:8080/",
          "height": 318
        }
      },
      "source": [
        "# df_clean = pd.read_csv('../data/processed/data_cleaned_encoded.csv')\n",
        "df_clean = pd.read_csv('https://github.com/bhishanpdl/Project_House_Price_Prediction/blob/master/src/data/processed/data_cleaned_encoded.csv?raw=true')\n",
        "print(df_clean.shape)\n",
        "df_clean.head()"
      ],
      "execution_count": 23,
      "outputs": [
        {
          "output_type": "stream",
          "text": [
            "(21613, 92)\n"
          ],
          "name": "stdout"
        },
        {
          "output_type": "execute_result",
          "data": {
            "text/html": [
              "<div>\n",
              "<style scoped>\n",
              "    .dataframe tbody tr th:only-of-type {\n",
              "        vertical-align: middle;\n",
              "    }\n",
              "\n",
              "    .dataframe tbody tr th {\n",
              "        vertical-align: top;\n",
              "    }\n",
              "\n",
              "    .dataframe thead th {\n",
              "        text-align: right;\n",
              "    }\n",
              "</style>\n",
              "<table border=\"1\" class=\"dataframe\">\n",
              "  <thead>\n",
              "    <tr style=\"text-align: right;\">\n",
              "      <th></th>\n",
              "      <th>id</th>\n",
              "      <th>date</th>\n",
              "      <th>price</th>\n",
              "      <th>bedrooms</th>\n",
              "      <th>bathrooms</th>\n",
              "      <th>sqft_living</th>\n",
              "      <th>sqft_lot</th>\n",
              "      <th>floors</th>\n",
              "      <th>waterfront</th>\n",
              "      <th>view</th>\n",
              "      <th>condition</th>\n",
              "      <th>grade</th>\n",
              "      <th>sqft_above</th>\n",
              "      <th>sqft_basement</th>\n",
              "      <th>yr_built</th>\n",
              "      <th>yr_renovated</th>\n",
              "      <th>zipcode</th>\n",
              "      <th>lat</th>\n",
              "      <th>long</th>\n",
              "      <th>sqft_living15</th>\n",
              "      <th>sqft_lot15</th>\n",
              "      <th>yr_sales</th>\n",
              "      <th>age</th>\n",
              "      <th>yr_renovated2</th>\n",
              "      <th>age_after_renovation</th>\n",
              "      <th>zipcode_top10</th>\n",
              "      <th>zipcode_houses</th>\n",
              "      <th>basement_bool</th>\n",
              "      <th>renovation_bool</th>\n",
              "      <th>age_cat</th>\n",
              "      <th>age_after_renovation_cat</th>\n",
              "      <th>waterfront_0</th>\n",
              "      <th>waterfront_1</th>\n",
              "      <th>view_0</th>\n",
              "      <th>view_1</th>\n",
              "      <th>view_2</th>\n",
              "      <th>view_3</th>\n",
              "      <th>view_4</th>\n",
              "      <th>condition_1</th>\n",
              "      <th>condition_2</th>\n",
              "      <th>condition_3</th>\n",
              "      <th>condition_4</th>\n",
              "      <th>condition_5</th>\n",
              "      <th>grade_1</th>\n",
              "      <th>grade_10</th>\n",
              "      <th>grade_11</th>\n",
              "      <th>grade_12</th>\n",
              "      <th>grade_13</th>\n",
              "      <th>grade_3</th>\n",
              "      <th>grade_4</th>\n",
              "      <th>grade_5</th>\n",
              "      <th>grade_6</th>\n",
              "      <th>grade_7</th>\n",
              "      <th>grade_8</th>\n",
              "      <th>grade_9</th>\n",
              "      <th>zipcode_top10_98004</th>\n",
              "      <th>zipcode_top10_98006</th>\n",
              "      <th>zipcode_top10_98033</th>\n",
              "      <th>zipcode_top10_98039</th>\n",
              "      <th>zipcode_top10_98040</th>\n",
              "      <th>zipcode_top10_98102</th>\n",
              "      <th>zipcode_top10_98105</th>\n",
              "      <th>zipcode_top10_98155</th>\n",
              "      <th>zipcode_top10_98177</th>\n",
              "      <th>zipcode_top10_others</th>\n",
              "      <th>age_cat_0</th>\n",
              "      <th>age_cat_1</th>\n",
              "      <th>age_cat_2</th>\n",
              "      <th>age_cat_3</th>\n",
              "      <th>age_cat_4</th>\n",
              "      <th>age_cat_5</th>\n",
              "      <th>age_cat_6</th>\n",
              "      <th>age_cat_7</th>\n",
              "      <th>age_cat_8</th>\n",
              "      <th>age_cat_9</th>\n",
              "      <th>age_after_renovation_cat_0</th>\n",
              "      <th>age_after_renovation_cat_1</th>\n",
              "      <th>age_after_renovation_cat_2</th>\n",
              "      <th>age_after_renovation_cat_3</th>\n",
              "      <th>age_after_renovation_cat_4</th>\n",
              "      <th>age_after_renovation_cat_5</th>\n",
              "      <th>age_after_renovation_cat_6</th>\n",
              "      <th>age_after_renovation_cat_7</th>\n",
              "      <th>age_after_renovation_cat_8</th>\n",
              "      <th>age_after_renovation_cat_9</th>\n",
              "      <th>log1p_price</th>\n",
              "      <th>log1p_sqft_living</th>\n",
              "      <th>log1p_sqft_lot</th>\n",
              "      <th>log1p_sqft_above</th>\n",
              "      <th>log1p_sqft_basement</th>\n",
              "      <th>log1p_sqft_living15</th>\n",
              "      <th>log1p_sqft_lot15</th>\n",
              "    </tr>\n",
              "  </thead>\n",
              "  <tbody>\n",
              "    <tr>\n",
              "      <th>0</th>\n",
              "      <td>7129300520</td>\n",
              "      <td>2014-10-13</td>\n",
              "      <td>221900.0</td>\n",
              "      <td>3</td>\n",
              "      <td>1.00</td>\n",
              "      <td>1180</td>\n",
              "      <td>5650</td>\n",
              "      <td>1.0</td>\n",
              "      <td>0</td>\n",
              "      <td>0</td>\n",
              "      <td>3</td>\n",
              "      <td>7</td>\n",
              "      <td>1180</td>\n",
              "      <td>0</td>\n",
              "      <td>1955</td>\n",
              "      <td>0</td>\n",
              "      <td>98178</td>\n",
              "      <td>47.5112</td>\n",
              "      <td>-122.257</td>\n",
              "      <td>1340</td>\n",
              "      <td>5650</td>\n",
              "      <td>2014</td>\n",
              "      <td>59</td>\n",
              "      <td>1955</td>\n",
              "      <td>59</td>\n",
              "      <td>others</td>\n",
              "      <td>262</td>\n",
              "      <td>0</td>\n",
              "      <td>0</td>\n",
              "      <td>5</td>\n",
              "      <td>5</td>\n",
              "      <td>1</td>\n",
              "      <td>0</td>\n",
              "      <td>1</td>\n",
              "      <td>0</td>\n",
              "      <td>0</td>\n",
              "      <td>0</td>\n",
              "      <td>0</td>\n",
              "      <td>0</td>\n",
              "      <td>0</td>\n",
              "      <td>1</td>\n",
              "      <td>0</td>\n",
              "      <td>0</td>\n",
              "      <td>0</td>\n",
              "      <td>0</td>\n",
              "      <td>0</td>\n",
              "      <td>0</td>\n",
              "      <td>0</td>\n",
              "      <td>0</td>\n",
              "      <td>0</td>\n",
              "      <td>0</td>\n",
              "      <td>0</td>\n",
              "      <td>1</td>\n",
              "      <td>0</td>\n",
              "      <td>0</td>\n",
              "      <td>0</td>\n",
              "      <td>0</td>\n",
              "      <td>0</td>\n",
              "      <td>0</td>\n",
              "      <td>0</td>\n",
              "      <td>0</td>\n",
              "      <td>0</td>\n",
              "      <td>0</td>\n",
              "      <td>0</td>\n",
              "      <td>1</td>\n",
              "      <td>0</td>\n",
              "      <td>0</td>\n",
              "      <td>0</td>\n",
              "      <td>0</td>\n",
              "      <td>0</td>\n",
              "      <td>1</td>\n",
              "      <td>0</td>\n",
              "      <td>0</td>\n",
              "      <td>0</td>\n",
              "      <td>0</td>\n",
              "      <td>0</td>\n",
              "      <td>0</td>\n",
              "      <td>0</td>\n",
              "      <td>0</td>\n",
              "      <td>0</td>\n",
              "      <td>1</td>\n",
              "      <td>0</td>\n",
              "      <td>0</td>\n",
              "      <td>0</td>\n",
              "      <td>0</td>\n",
              "      <td>12.309987</td>\n",
              "      <td>7.074117</td>\n",
              "      <td>8.639588</td>\n",
              "      <td>7.074117</td>\n",
              "      <td>0.000000</td>\n",
              "      <td>7.201171</td>\n",
              "      <td>8.639588</td>\n",
              "    </tr>\n",
              "    <tr>\n",
              "      <th>1</th>\n",
              "      <td>6414100192</td>\n",
              "      <td>2014-12-09</td>\n",
              "      <td>538000.0</td>\n",
              "      <td>3</td>\n",
              "      <td>2.25</td>\n",
              "      <td>2570</td>\n",
              "      <td>7242</td>\n",
              "      <td>2.0</td>\n",
              "      <td>0</td>\n",
              "      <td>0</td>\n",
              "      <td>3</td>\n",
              "      <td>7</td>\n",
              "      <td>2170</td>\n",
              "      <td>400</td>\n",
              "      <td>1951</td>\n",
              "      <td>1991</td>\n",
              "      <td>98125</td>\n",
              "      <td>47.7210</td>\n",
              "      <td>-122.319</td>\n",
              "      <td>1690</td>\n",
              "      <td>7639</td>\n",
              "      <td>2014</td>\n",
              "      <td>63</td>\n",
              "      <td>1991</td>\n",
              "      <td>23</td>\n",
              "      <td>others</td>\n",
              "      <td>410</td>\n",
              "      <td>1</td>\n",
              "      <td>1</td>\n",
              "      <td>5</td>\n",
              "      <td>2</td>\n",
              "      <td>1</td>\n",
              "      <td>0</td>\n",
              "      <td>1</td>\n",
              "      <td>0</td>\n",
              "      <td>0</td>\n",
              "      <td>0</td>\n",
              "      <td>0</td>\n",
              "      <td>0</td>\n",
              "      <td>0</td>\n",
              "      <td>1</td>\n",
              "      <td>0</td>\n",
              "      <td>0</td>\n",
              "      <td>0</td>\n",
              "      <td>0</td>\n",
              "      <td>0</td>\n",
              "      <td>0</td>\n",
              "      <td>0</td>\n",
              "      <td>0</td>\n",
              "      <td>0</td>\n",
              "      <td>0</td>\n",
              "      <td>0</td>\n",
              "      <td>1</td>\n",
              "      <td>0</td>\n",
              "      <td>0</td>\n",
              "      <td>0</td>\n",
              "      <td>0</td>\n",
              "      <td>0</td>\n",
              "      <td>0</td>\n",
              "      <td>0</td>\n",
              "      <td>0</td>\n",
              "      <td>0</td>\n",
              "      <td>0</td>\n",
              "      <td>0</td>\n",
              "      <td>1</td>\n",
              "      <td>0</td>\n",
              "      <td>0</td>\n",
              "      <td>0</td>\n",
              "      <td>0</td>\n",
              "      <td>0</td>\n",
              "      <td>1</td>\n",
              "      <td>0</td>\n",
              "      <td>0</td>\n",
              "      <td>0</td>\n",
              "      <td>0</td>\n",
              "      <td>0</td>\n",
              "      <td>0</td>\n",
              "      <td>1</td>\n",
              "      <td>0</td>\n",
              "      <td>0</td>\n",
              "      <td>0</td>\n",
              "      <td>0</td>\n",
              "      <td>0</td>\n",
              "      <td>0</td>\n",
              "      <td>0</td>\n",
              "      <td>13.195616</td>\n",
              "      <td>7.852050</td>\n",
              "      <td>8.887791</td>\n",
              "      <td>7.682943</td>\n",
              "      <td>5.993961</td>\n",
              "      <td>7.433075</td>\n",
              "      <td>8.941153</td>\n",
              "    </tr>\n",
              "    <tr>\n",
              "      <th>2</th>\n",
              "      <td>5631500400</td>\n",
              "      <td>2015-02-25</td>\n",
              "      <td>180000.0</td>\n",
              "      <td>2</td>\n",
              "      <td>1.00</td>\n",
              "      <td>770</td>\n",
              "      <td>10000</td>\n",
              "      <td>1.0</td>\n",
              "      <td>0</td>\n",
              "      <td>0</td>\n",
              "      <td>3</td>\n",
              "      <td>6</td>\n",
              "      <td>770</td>\n",
              "      <td>0</td>\n",
              "      <td>1933</td>\n",
              "      <td>0</td>\n",
              "      <td>98028</td>\n",
              "      <td>47.7379</td>\n",
              "      <td>-122.233</td>\n",
              "      <td>2720</td>\n",
              "      <td>8062</td>\n",
              "      <td>2015</td>\n",
              "      <td>82</td>\n",
              "      <td>1933</td>\n",
              "      <td>82</td>\n",
              "      <td>others</td>\n",
              "      <td>283</td>\n",
              "      <td>0</td>\n",
              "      <td>0</td>\n",
              "      <td>7</td>\n",
              "      <td>7</td>\n",
              "      <td>1</td>\n",
              "      <td>0</td>\n",
              "      <td>1</td>\n",
              "      <td>0</td>\n",
              "      <td>0</td>\n",
              "      <td>0</td>\n",
              "      <td>0</td>\n",
              "      <td>0</td>\n",
              "      <td>0</td>\n",
              "      <td>1</td>\n",
              "      <td>0</td>\n",
              "      <td>0</td>\n",
              "      <td>0</td>\n",
              "      <td>0</td>\n",
              "      <td>0</td>\n",
              "      <td>0</td>\n",
              "      <td>0</td>\n",
              "      <td>0</td>\n",
              "      <td>0</td>\n",
              "      <td>0</td>\n",
              "      <td>1</td>\n",
              "      <td>0</td>\n",
              "      <td>0</td>\n",
              "      <td>0</td>\n",
              "      <td>0</td>\n",
              "      <td>0</td>\n",
              "      <td>0</td>\n",
              "      <td>0</td>\n",
              "      <td>0</td>\n",
              "      <td>0</td>\n",
              "      <td>0</td>\n",
              "      <td>0</td>\n",
              "      <td>0</td>\n",
              "      <td>1</td>\n",
              "      <td>0</td>\n",
              "      <td>0</td>\n",
              "      <td>0</td>\n",
              "      <td>0</td>\n",
              "      <td>0</td>\n",
              "      <td>0</td>\n",
              "      <td>0</td>\n",
              "      <td>1</td>\n",
              "      <td>0</td>\n",
              "      <td>0</td>\n",
              "      <td>0</td>\n",
              "      <td>0</td>\n",
              "      <td>0</td>\n",
              "      <td>0</td>\n",
              "      <td>0</td>\n",
              "      <td>0</td>\n",
              "      <td>0</td>\n",
              "      <td>1</td>\n",
              "      <td>0</td>\n",
              "      <td>0</td>\n",
              "      <td>12.100718</td>\n",
              "      <td>6.647688</td>\n",
              "      <td>9.210440</td>\n",
              "      <td>6.647688</td>\n",
              "      <td>0.000000</td>\n",
              "      <td>7.908755</td>\n",
              "      <td>8.995041</td>\n",
              "    </tr>\n",
              "    <tr>\n",
              "      <th>3</th>\n",
              "      <td>2487200875</td>\n",
              "      <td>2014-12-09</td>\n",
              "      <td>604000.0</td>\n",
              "      <td>4</td>\n",
              "      <td>3.00</td>\n",
              "      <td>1960</td>\n",
              "      <td>5000</td>\n",
              "      <td>1.0</td>\n",
              "      <td>0</td>\n",
              "      <td>0</td>\n",
              "      <td>5</td>\n",
              "      <td>7</td>\n",
              "      <td>1050</td>\n",
              "      <td>910</td>\n",
              "      <td>1965</td>\n",
              "      <td>0</td>\n",
              "      <td>98136</td>\n",
              "      <td>47.5208</td>\n",
              "      <td>-122.393</td>\n",
              "      <td>1360</td>\n",
              "      <td>5000</td>\n",
              "      <td>2014</td>\n",
              "      <td>49</td>\n",
              "      <td>1965</td>\n",
              "      <td>49</td>\n",
              "      <td>others</td>\n",
              "      <td>263</td>\n",
              "      <td>1</td>\n",
              "      <td>0</td>\n",
              "      <td>4</td>\n",
              "      <td>4</td>\n",
              "      <td>1</td>\n",
              "      <td>0</td>\n",
              "      <td>1</td>\n",
              "      <td>0</td>\n",
              "      <td>0</td>\n",
              "      <td>0</td>\n",
              "      <td>0</td>\n",
              "      <td>0</td>\n",
              "      <td>0</td>\n",
              "      <td>0</td>\n",
              "      <td>0</td>\n",
              "      <td>1</td>\n",
              "      <td>0</td>\n",
              "      <td>0</td>\n",
              "      <td>0</td>\n",
              "      <td>0</td>\n",
              "      <td>0</td>\n",
              "      <td>0</td>\n",
              "      <td>0</td>\n",
              "      <td>0</td>\n",
              "      <td>0</td>\n",
              "      <td>1</td>\n",
              "      <td>0</td>\n",
              "      <td>0</td>\n",
              "      <td>0</td>\n",
              "      <td>0</td>\n",
              "      <td>0</td>\n",
              "      <td>0</td>\n",
              "      <td>0</td>\n",
              "      <td>0</td>\n",
              "      <td>0</td>\n",
              "      <td>0</td>\n",
              "      <td>0</td>\n",
              "      <td>1</td>\n",
              "      <td>0</td>\n",
              "      <td>0</td>\n",
              "      <td>0</td>\n",
              "      <td>0</td>\n",
              "      <td>1</td>\n",
              "      <td>0</td>\n",
              "      <td>0</td>\n",
              "      <td>0</td>\n",
              "      <td>0</td>\n",
              "      <td>0</td>\n",
              "      <td>0</td>\n",
              "      <td>0</td>\n",
              "      <td>0</td>\n",
              "      <td>0</td>\n",
              "      <td>1</td>\n",
              "      <td>0</td>\n",
              "      <td>0</td>\n",
              "      <td>0</td>\n",
              "      <td>0</td>\n",
              "      <td>0</td>\n",
              "      <td>13.311331</td>\n",
              "      <td>7.581210</td>\n",
              "      <td>8.517393</td>\n",
              "      <td>6.957497</td>\n",
              "      <td>6.814543</td>\n",
              "      <td>7.215975</td>\n",
              "      <td>8.517393</td>\n",
              "    </tr>\n",
              "    <tr>\n",
              "      <th>4</th>\n",
              "      <td>1954400510</td>\n",
              "      <td>2015-02-18</td>\n",
              "      <td>510000.0</td>\n",
              "      <td>3</td>\n",
              "      <td>2.00</td>\n",
              "      <td>1680</td>\n",
              "      <td>8080</td>\n",
              "      <td>1.0</td>\n",
              "      <td>0</td>\n",
              "      <td>0</td>\n",
              "      <td>3</td>\n",
              "      <td>8</td>\n",
              "      <td>1680</td>\n",
              "      <td>0</td>\n",
              "      <td>1987</td>\n",
              "      <td>0</td>\n",
              "      <td>98074</td>\n",
              "      <td>47.6168</td>\n",
              "      <td>-122.045</td>\n",
              "      <td>1800</td>\n",
              "      <td>7503</td>\n",
              "      <td>2015</td>\n",
              "      <td>28</td>\n",
              "      <td>1987</td>\n",
              "      <td>28</td>\n",
              "      <td>others</td>\n",
              "      <td>441</td>\n",
              "      <td>0</td>\n",
              "      <td>0</td>\n",
              "      <td>2</td>\n",
              "      <td>2</td>\n",
              "      <td>1</td>\n",
              "      <td>0</td>\n",
              "      <td>1</td>\n",
              "      <td>0</td>\n",
              "      <td>0</td>\n",
              "      <td>0</td>\n",
              "      <td>0</td>\n",
              "      <td>0</td>\n",
              "      <td>0</td>\n",
              "      <td>1</td>\n",
              "      <td>0</td>\n",
              "      <td>0</td>\n",
              "      <td>0</td>\n",
              "      <td>0</td>\n",
              "      <td>0</td>\n",
              "      <td>0</td>\n",
              "      <td>0</td>\n",
              "      <td>0</td>\n",
              "      <td>0</td>\n",
              "      <td>0</td>\n",
              "      <td>0</td>\n",
              "      <td>0</td>\n",
              "      <td>1</td>\n",
              "      <td>0</td>\n",
              "      <td>0</td>\n",
              "      <td>0</td>\n",
              "      <td>0</td>\n",
              "      <td>0</td>\n",
              "      <td>0</td>\n",
              "      <td>0</td>\n",
              "      <td>0</td>\n",
              "      <td>0</td>\n",
              "      <td>0</td>\n",
              "      <td>1</td>\n",
              "      <td>0</td>\n",
              "      <td>0</td>\n",
              "      <td>1</td>\n",
              "      <td>0</td>\n",
              "      <td>0</td>\n",
              "      <td>0</td>\n",
              "      <td>0</td>\n",
              "      <td>0</td>\n",
              "      <td>0</td>\n",
              "      <td>0</td>\n",
              "      <td>0</td>\n",
              "      <td>0</td>\n",
              "      <td>1</td>\n",
              "      <td>0</td>\n",
              "      <td>0</td>\n",
              "      <td>0</td>\n",
              "      <td>0</td>\n",
              "      <td>0</td>\n",
              "      <td>0</td>\n",
              "      <td>0</td>\n",
              "      <td>13.142168</td>\n",
              "      <td>7.427144</td>\n",
              "      <td>8.997271</td>\n",
              "      <td>7.427144</td>\n",
              "      <td>0.000000</td>\n",
              "      <td>7.496097</td>\n",
              "      <td>8.923191</td>\n",
              "    </tr>\n",
              "  </tbody>\n",
              "</table>\n",
              "</div>"
            ],
            "text/plain": [
              "           id        date     price  bedrooms  bathrooms  sqft_living  \\\n",
              "0  7129300520  2014-10-13  221900.0         3       1.00         1180   \n",
              "1  6414100192  2014-12-09  538000.0         3       2.25         2570   \n",
              "2  5631500400  2015-02-25  180000.0         2       1.00          770   \n",
              "3  2487200875  2014-12-09  604000.0         4       3.00         1960   \n",
              "4  1954400510  2015-02-18  510000.0         3       2.00         1680   \n",
              "\n",
              "   sqft_lot  floors  waterfront  view  condition  grade  sqft_above  \\\n",
              "0      5650     1.0           0     0          3      7        1180   \n",
              "1      7242     2.0           0     0          3      7        2170   \n",
              "2     10000     1.0           0     0          3      6         770   \n",
              "3      5000     1.0           0     0          5      7        1050   \n",
              "4      8080     1.0           0     0          3      8        1680   \n",
              "\n",
              "   sqft_basement  yr_built  yr_renovated  zipcode      lat     long  \\\n",
              "0              0      1955             0    98178  47.5112 -122.257   \n",
              "1            400      1951          1991    98125  47.7210 -122.319   \n",
              "2              0      1933             0    98028  47.7379 -122.233   \n",
              "3            910      1965             0    98136  47.5208 -122.393   \n",
              "4              0      1987             0    98074  47.6168 -122.045   \n",
              "\n",
              "   sqft_living15  sqft_lot15  yr_sales  age  yr_renovated2  \\\n",
              "0           1340        5650      2014   59           1955   \n",
              "1           1690        7639      2014   63           1991   \n",
              "2           2720        8062      2015   82           1933   \n",
              "3           1360        5000      2014   49           1965   \n",
              "4           1800        7503      2015   28           1987   \n",
              "\n",
              "   age_after_renovation zipcode_top10  zipcode_houses  basement_bool  \\\n",
              "0                    59        others             262              0   \n",
              "1                    23        others             410              1   \n",
              "2                    82        others             283              0   \n",
              "3                    49        others             263              1   \n",
              "4                    28        others             441              0   \n",
              "\n",
              "   renovation_bool  age_cat  age_after_renovation_cat  waterfront_0  \\\n",
              "0                0        5                         5             1   \n",
              "1                1        5                         2             1   \n",
              "2                0        7                         7             1   \n",
              "3                0        4                         4             1   \n",
              "4                0        2                         2             1   \n",
              "\n",
              "   waterfront_1  view_0  view_1  view_2  view_3  view_4  condition_1  \\\n",
              "0             0       1       0       0       0       0            0   \n",
              "1             0       1       0       0       0       0            0   \n",
              "2             0       1       0       0       0       0            0   \n",
              "3             0       1       0       0       0       0            0   \n",
              "4             0       1       0       0       0       0            0   \n",
              "\n",
              "   condition_2  condition_3  condition_4  condition_5  grade_1  grade_10  \\\n",
              "0            0            1            0            0        0         0   \n",
              "1            0            1            0            0        0         0   \n",
              "2            0            1            0            0        0         0   \n",
              "3            0            0            0            1        0         0   \n",
              "4            0            1            0            0        0         0   \n",
              "\n",
              "   grade_11  grade_12  grade_13  grade_3  grade_4  grade_5  grade_6  grade_7  \\\n",
              "0         0         0         0        0        0        0        0        1   \n",
              "1         0         0         0        0        0        0        0        1   \n",
              "2         0         0         0        0        0        0        1        0   \n",
              "3         0         0         0        0        0        0        0        1   \n",
              "4         0         0         0        0        0        0        0        0   \n",
              "\n",
              "   grade_8  grade_9  zipcode_top10_98004  zipcode_top10_98006  \\\n",
              "0        0        0                    0                    0   \n",
              "1        0        0                    0                    0   \n",
              "2        0        0                    0                    0   \n",
              "3        0        0                    0                    0   \n",
              "4        1        0                    0                    0   \n",
              "\n",
              "   zipcode_top10_98033  zipcode_top10_98039  zipcode_top10_98040  \\\n",
              "0                    0                    0                    0   \n",
              "1                    0                    0                    0   \n",
              "2                    0                    0                    0   \n",
              "3                    0                    0                    0   \n",
              "4                    0                    0                    0   \n",
              "\n",
              "   zipcode_top10_98102  zipcode_top10_98105  zipcode_top10_98155  \\\n",
              "0                    0                    0                    0   \n",
              "1                    0                    0                    0   \n",
              "2                    0                    0                    0   \n",
              "3                    0                    0                    0   \n",
              "4                    0                    0                    0   \n",
              "\n",
              "   zipcode_top10_98177  zipcode_top10_others  age_cat_0  age_cat_1  age_cat_2  \\\n",
              "0                    0                     1          0          0          0   \n",
              "1                    0                     1          0          0          0   \n",
              "2                    0                     1          0          0          0   \n",
              "3                    0                     1          0          0          0   \n",
              "4                    0                     1          0          0          1   \n",
              "\n",
              "   age_cat_3  age_cat_4  age_cat_5  age_cat_6  age_cat_7  age_cat_8  \\\n",
              "0          0          0          1          0          0          0   \n",
              "1          0          0          1          0          0          0   \n",
              "2          0          0          0          0          1          0   \n",
              "3          0          1          0          0          0          0   \n",
              "4          0          0          0          0          0          0   \n",
              "\n",
              "   age_cat_9  age_after_renovation_cat_0  age_after_renovation_cat_1  \\\n",
              "0          0                           0                           0   \n",
              "1          0                           0                           0   \n",
              "2          0                           0                           0   \n",
              "3          0                           0                           0   \n",
              "4          0                           0                           0   \n",
              "\n",
              "   age_after_renovation_cat_2  age_after_renovation_cat_3  \\\n",
              "0                           0                           0   \n",
              "1                           1                           0   \n",
              "2                           0                           0   \n",
              "3                           0                           0   \n",
              "4                           1                           0   \n",
              "\n",
              "   age_after_renovation_cat_4  age_after_renovation_cat_5  \\\n",
              "0                           0                           1   \n",
              "1                           0                           0   \n",
              "2                           0                           0   \n",
              "3                           1                           0   \n",
              "4                           0                           0   \n",
              "\n",
              "   age_after_renovation_cat_6  age_after_renovation_cat_7  \\\n",
              "0                           0                           0   \n",
              "1                           0                           0   \n",
              "2                           0                           1   \n",
              "3                           0                           0   \n",
              "4                           0                           0   \n",
              "\n",
              "   age_after_renovation_cat_8  age_after_renovation_cat_9  log1p_price  \\\n",
              "0                           0                           0    12.309987   \n",
              "1                           0                           0    13.195616   \n",
              "2                           0                           0    12.100718   \n",
              "3                           0                           0    13.311331   \n",
              "4                           0                           0    13.142168   \n",
              "\n",
              "   log1p_sqft_living  log1p_sqft_lot  log1p_sqft_above  log1p_sqft_basement  \\\n",
              "0           7.074117        8.639588          7.074117             0.000000   \n",
              "1           7.852050        8.887791          7.682943             5.993961   \n",
              "2           6.647688        9.210440          6.647688             0.000000   \n",
              "3           7.581210        8.517393          6.957497             6.814543   \n",
              "4           7.427144        8.997271          7.427144             0.000000   \n",
              "\n",
              "   log1p_sqft_living15  log1p_sqft_lot15  \n",
              "0             7.201171          8.639588  \n",
              "1             7.433075          8.941153  \n",
              "2             7.908755          8.995041  \n",
              "3             7.215975          8.517393  \n",
              "4             7.496097          8.923191  "
            ]
          },
          "metadata": {
            "tags": []
          },
          "execution_count": 23
        }
      ]
    },
    {
      "cell_type": "code",
      "metadata": {
        "ExecuteTime": {
          "end_time": "2019-11-20T01:11:24.582427Z",
          "start_time": "2019-11-20T01:11:22.832361Z"
        },
        "colab_type": "code",
        "id": "8m7Fw_XU44pw",
        "outputId": "4445c10f-15a9-478c-9f55-7c9db3b3434e",
        "colab": {
          "base_uri": "https://localhost:8080/",
          "height": 105
        }
      },
      "source": [
        "# I will just take column names from this and will use cleaned data further.\n",
        "# df_raw = pd.read_csv('../data/raw/kc_house_data.csv')\n",
        "df_raw = pd.read_csv('https://github.com/bhishanpdl/Project_House_Price_Prediction/blob/master/src/data/raw/kc_house_data.csv?raw=true',nrows=1)\n",
        "df_raw.columns"
      ],
      "execution_count": 24,
      "outputs": [
        {
          "output_type": "execute_result",
          "data": {
            "text/plain": [
              "Index(['id', 'date', 'price', 'bedrooms', 'bathrooms', 'sqft_living',\n",
              "       'sqft_lot', 'floors', 'waterfront', 'view', 'condition', 'grade',\n",
              "       'sqft_above', 'sqft_basement', 'yr_built', 'yr_renovated', 'zipcode',\n",
              "       'lat', 'long', 'sqft_living15', 'sqft_lot15'],\n",
              "      dtype='object')"
            ]
          },
          "metadata": {
            "tags": []
          },
          "execution_count": 24
        }
      ]
    },
    {
      "cell_type": "code",
      "metadata": {
        "ExecuteTime": {
          "end_time": "2019-11-20T01:11:24.591503Z",
          "start_time": "2019-11-20T01:11:24.584581Z"
        },
        "colab_type": "code",
        "id": "C8_gawQE44p5",
        "colab": {}
      },
      "source": [
        "features_raw_all = ['bedrooms', 'bathrooms', 'sqft_living',\n",
        "       'sqft_lot', 'floors', 'waterfront', 'view', 'condition', 'grade',\n",
        "       'sqft_above', 'sqft_basement', 'yr_built', 'yr_renovated', 'zipcode',\n",
        "       'lat', 'long', 'sqft_living15', 'sqft_lot15']\n",
        "\n",
        "df = df_clean[features_raw_all + ['price']]\n",
        "\n",
        "\n",
        "dict_features = dict(enumerate(features_raw_all))\n",
        "print(dict_features)"
      ],
      "execution_count": 0,
      "outputs": []
    },
    {
      "cell_type": "markdown",
      "metadata": {
        "colab_type": "text",
        "id": "rz_Ixx6944p7"
      },
      "source": [
        "# Log transform large values"
      ]
    },
    {
      "cell_type": "code",
      "metadata": {
        "ExecuteTime": {
          "end_time": "2019-11-20T01:11:24.649735Z",
          "start_time": "2019-11-20T01:11:24.594811Z"
        },
        "colab_type": "code",
        "id": "l_hbgsndhI0J",
        "outputId": "e8188b5b-d8c9-4abb-af2e-c9ba35d92778",
        "colab": {
          "base_uri": "https://localhost:8080/",
          "height": 123
        }
      },
      "source": [
        "log_cols = ['price','sqft_living','sqft_living15','sqft_lot','sqft_lot15']\n",
        "\n",
        "for col in log_cols:\n",
        "    df[col] = np.log1p(df[col].to_numpy())"
      ],
      "execution_count": 26,
      "outputs": [
        {
          "output_type": "stream",
          "text": [
            "/usr/local/lib/python3.6/dist-packages/ipykernel_launcher.py:4: SettingWithCopyWarning: \n",
            "A value is trying to be set on a copy of a slice from a DataFrame.\n",
            "Try using .loc[row_indexer,col_indexer] = value instead\n",
            "\n",
            "See the caveats in the documentation: http://pandas.pydata.org/pandas-docs/stable/user_guide/indexing.html#returning-a-view-versus-a-copy\n",
            "  after removing the cwd from sys.path.\n"
          ],
          "name": "stderr"
        }
      ]
    },
    {
      "cell_type": "markdown",
      "metadata": {
        "colab_type": "text",
        "id": "qLTMmNdOhVKE"
      },
      "source": [
        "# Train-Test split after log transform"
      ]
    },
    {
      "cell_type": "code",
      "metadata": {
        "ExecuteTime": {
          "end_time": "2019-11-20T01:11:24.708584Z",
          "start_time": "2019-11-20T01:11:24.667849Z"
        },
        "colab_type": "code",
        "id": "6wk_ZV6U44p8",
        "outputId": "9ea3ec27-e218-4f2e-afbf-9a7ce1d3f066",
        "colab": {
          "base_uri": "https://localhost:8080/",
          "height": 123
        }
      },
      "source": [
        "X = df[features_raw_all].to_numpy()\n",
        "\n",
        "y = df['price'].to_numpy()\n",
        "\n",
        "Xtrain, Xtest, ytrain, ytest = train_test_split (X,y,test_size=0.20,\n",
        "                                                 random_state=RANDOM_STATE)\n",
        "\n",
        "Xtrain.shape, ytrain.shape, Xtest.shape, ytest.shape, Xtrain[0][:2], Xtest[0][:2]"
      ],
      "execution_count": 27,
      "outputs": [
        {
          "output_type": "execute_result",
          "data": {
            "text/plain": [
              "((17290, 18),\n",
              " (17290,),\n",
              " (4323, 18),\n",
              " (4323,),\n",
              " array([3.  , 1.75]),\n",
              " array([3. , 2.5]))"
            ]
          },
          "metadata": {
            "tags": []
          },
          "execution_count": 27
        }
      ]
    },
    {
      "cell_type": "markdown",
      "metadata": {
        "id": "qeRorpmJg7Ni",
        "colab_type": "text"
      },
      "source": [
        "# Scaling the Data"
      ]
    },
    {
      "cell_type": "code",
      "metadata": {
        "ExecuteTime": {
          "end_time": "2019-11-20T01:11:24.731018Z",
          "start_time": "2019-11-20T01:11:24.711429Z"
        },
        "id": "2Gr0xGrng7Ni",
        "colab_type": "code",
        "outputId": "a6ce653a-f8aa-4442-8cc6-07f863d24d0e",
        "colab": {
          "base_uri": "https://localhost:8080/",
          "height": 34
        }
      },
      "source": [
        "scaler = StandardScaler()\n",
        "scaler.fit(Xtrain)\n",
        "\n",
        "Xtrain_scaled = scaler.transform(Xtrain)\n",
        "Xtest_scaled = scaler.transform(Xtest)\n",
        "\n",
        "Xtrain_scaled[0][:2], Xtest_scaled[0][:2]"
      ],
      "execution_count": 28,
      "outputs": [
        {
          "output_type": "execute_result",
          "data": {
            "text/plain": [
              "(array([-0.39032991, -0.46881139]), array([-0.39032991,  0.50625765]))"
            ]
          },
          "metadata": {
            "tags": []
          },
          "execution_count": 28
        }
      ]
    },
    {
      "cell_type": "markdown",
      "metadata": {
        "id": "4ZgVaQWtg7Nl",
        "colab_type": "text"
      },
      "source": [
        "# Modelling xgboost\n",
        "https://xgboost.readthedocs.io/en/latest/parameter.html#general-parameters\n",
        "```\n",
        "Parameters:\n",
        "-------------\n",
        "max_depth=3\n",
        "learning_rate=0.1\n",
        "n_estimators=100 # number of trees you want to build.\n",
        "verbosity=1 **NOTE: it print in ipython terminal not in browser\n",
        "silent=None **deprecated use verbosity\n",
        "objective='binary:logistic' **for binary classification\n",
        "booster='gbtree' **use default tree not linear even for regression (may also use dart instead of gbtree, but needs to tune)\n",
        "n_jobs=1 **make this -1\n",
        "nthread=None **deprecated use n_jobs\n",
        "gamma=0 # A higher value leads to fewer splits.\n",
        "min_child_weight=1\n",
        "max_delta_step=0\n",
        "subsample=1 # percentage of samples used per tree. Low value can lead to underfitting.\n",
        "colsample_bytree=1 # percentage of features used per tree. High value can lead to overfitting.\n",
        "colsample_bylevel=1\n",
        "colsample_bynode=1\n",
        "reg_alpha=0 # A large value leads to more regularization.\n",
        "reg_lambda=1 # L2 regularization on leaf weights and is smoother than L1 regularization.\n",
        "scale_pos_weight=1\n",
        "base_score=0.5\n",
        "random_state=0 **use your own random state\n",
        "seed=None      **deprecated use random_state\n",
        "missing=None\n",
        "```"
      ]
    },
    {
      "cell_type": "code",
      "metadata": {
        "id": "Axh8-EbVM7ul",
        "colab_type": "code",
        "colab": {
          "base_uri": "https://localhost:8080/",
          "height": 203
        },
        "outputId": "10309188-ddfc-46e1-a1b7-10ae61832a2e"
      },
      "source": [
        "import xgboost as xgb\n",
        "\n",
        "show_method_attributes(xgb)"
      ],
      "execution_count": 56,
      "outputs": [
        {
          "output_type": "stream",
          "text": [
            "Object Type: <class 'module'>\n",
            "\n"
          ],
          "name": "stdout"
        },
        {
          "output_type": "execute_result",
          "data": {
            "text/html": [
              "<div>\n",
              "<style scoped>\n",
              "    .dataframe tbody tr th:only-of-type {\n",
              "        vertical-align: middle;\n",
              "    }\n",
              "\n",
              "    .dataframe tbody tr th {\n",
              "        vertical-align: top;\n",
              "    }\n",
              "\n",
              "    .dataframe thead th {\n",
              "        text-align: right;\n",
              "    }\n",
              "</style>\n",
              "<table border=\"1\" class=\"dataframe\">\n",
              "  <thead>\n",
              "    <tr style=\"text-align: right;\">\n",
              "      <th></th>\n",
              "      <th>0</th>\n",
              "      <th>1</th>\n",
              "      <th>2</th>\n",
              "      <th>3</th>\n",
              "      <th>4</th>\n",
              "      <th>5</th>\n",
              "      <th>6</th>\n",
              "    </tr>\n",
              "  </thead>\n",
              "  <tbody>\n",
              "    <tr>\n",
              "      <th>0</th>\n",
              "      <td>Booster</td>\n",
              "      <td>XGBModel</td>\n",
              "      <td>XGBRegressor</td>\n",
              "      <td>core</td>\n",
              "      <td>libpath</td>\n",
              "      <td>plotting</td>\n",
              "      <td>to_graphviz</td>\n",
              "    </tr>\n",
              "    <tr>\n",
              "      <th>1</th>\n",
              "      <td>DMatrix</td>\n",
              "      <td>XGBRFClassifier</td>\n",
              "      <td>absolute_import</td>\n",
              "      <td>cv</td>\n",
              "      <td>plot_importance</td>\n",
              "      <td>rabit</td>\n",
              "      <td>train</td>\n",
              "    </tr>\n",
              "    <tr>\n",
              "      <th>2</th>\n",
              "      <td>VERSION_FILE</td>\n",
              "      <td>XGBRFRegressor</td>\n",
              "      <td>callback</td>\n",
              "      <td>f</td>\n",
              "      <td>plot_tree</td>\n",
              "      <td>sklearn</td>\n",
              "      <td>training</td>\n",
              "    </tr>\n",
              "    <tr>\n",
              "      <th>3</th>\n",
              "      <td>XGBClassifier</td>\n",
              "      <td>XGBRanker</td>\n",
              "      <td>compat</td>\n",
              "      <td></td>\n",
              "      <td></td>\n",
              "      <td></td>\n",
              "      <td></td>\n",
              "    </tr>\n",
              "  </tbody>\n",
              "</table>\n",
              "</div>"
            ],
            "text/plain": [
              "               0                1                2     3                4  \\\n",
              "0        Booster         XGBModel     XGBRegressor  core          libpath   \n",
              "1        DMatrix  XGBRFClassifier  absolute_import    cv  plot_importance   \n",
              "2   VERSION_FILE   XGBRFRegressor         callback     f        plot_tree   \n",
              "3  XGBClassifier        XGBRanker           compat                          \n",
              "\n",
              "          5            6  \n",
              "0  plotting  to_graphviz  \n",
              "1     rabit        train  \n",
              "2   sklearn     training  \n",
              "3                         "
            ]
          },
          "metadata": {
            "tags": []
          },
          "execution_count": 56
        }
      ]
    },
    {
      "cell_type": "code",
      "metadata": {
        "id": "Tu9-g06rNIRl",
        "colab_type": "code",
        "colab": {
          "base_uri": "https://localhost:8080/",
          "height": 143
        },
        "outputId": "a6a1ce1e-ba34-47d1-c4c1-abd321ba2817"
      },
      "source": [
        "show_method_attributes(xgb.plotting)"
      ],
      "execution_count": 57,
      "outputs": [
        {
          "output_type": "stream",
          "text": [
            "Object Type: <class 'module'>\n",
            "\n"
          ],
          "name": "stdout"
        },
        {
          "output_type": "execute_result",
          "data": {
            "text/html": [
              "<div>\n",
              "<style scoped>\n",
              "    .dataframe tbody tr th:only-of-type {\n",
              "        vertical-align: middle;\n",
              "    }\n",
              "\n",
              "    .dataframe tbody tr th {\n",
              "        vertical-align: top;\n",
              "    }\n",
              "\n",
              "    .dataframe thead th {\n",
              "        text-align: right;\n",
              "    }\n",
              "</style>\n",
              "<table border=\"1\" class=\"dataframe\">\n",
              "  <thead>\n",
              "    <tr style=\"text-align: right;\">\n",
              "      <th></th>\n",
              "      <th>0</th>\n",
              "      <th>1</th>\n",
              "      <th>2</th>\n",
              "      <th>3</th>\n",
              "      <th>4</th>\n",
              "      <th>5</th>\n",
              "      <th>6</th>\n",
              "    </tr>\n",
              "  </thead>\n",
              "  <tbody>\n",
              "    <tr>\n",
              "      <th>0</th>\n",
              "      <td>Booster</td>\n",
              "      <td>XGBModel</td>\n",
              "      <td>absolute_import</td>\n",
              "      <td>plot_importance</td>\n",
              "      <td>plot_tree</td>\n",
              "      <td>re</td>\n",
              "      <td>to_graphviz</td>\n",
              "    </tr>\n",
              "    <tr>\n",
              "      <th>1</th>\n",
              "      <td>BytesIO</td>\n",
              "      <td></td>\n",
              "      <td></td>\n",
              "      <td></td>\n",
              "      <td></td>\n",
              "      <td></td>\n",
              "      <td></td>\n",
              "    </tr>\n",
              "  </tbody>\n",
              "</table>\n",
              "</div>"
            ],
            "text/plain": [
              "         0         1                2                3          4   5  \\\n",
              "0  Booster  XGBModel  absolute_import  plot_importance  plot_tree  re   \n",
              "1  BytesIO                                                              \n",
              "\n",
              "             6  \n",
              "0  to_graphviz  \n",
              "1               "
            ]
          },
          "metadata": {
            "tags": []
          },
          "execution_count": 57
        }
      ]
    },
    {
      "cell_type": "code",
      "metadata": {
        "ExecuteTime": {
          "end_time": "2019-11-20T01:11:25.921626Z",
          "start_time": "2019-11-20T01:11:24.736324Z"
        },
        "id": "BiK88lVug7Nm",
        "colab_type": "code",
        "outputId": "04b3dd18-c2ce-4e47-d8f5-0629137b3fee",
        "colab": {
          "base_uri": "https://localhost:8080/",
          "height": 301
        }
      },
      "source": [
        "from xgboost import XGBRegressor\n",
        "from sklearn.model_selection import KFold\n",
        "from sklearn.model_selection import cross_val_score, cross_val_predict\n",
        "\n",
        "\n",
        "# model fit\n",
        "model_xgb = XGBRegressor()\n",
        "model_xgb\n",
        "clf_xgb = XGBRegressor(n_jobs=-1, random_state=RANDOM_STATE,\n",
        "                        objective='reg:squarederror')\n",
        "model_xgb.fit(Xtrain_scaled, ytrain)\n",
        "\n",
        "# cross validation score\n",
        "kf = KFold(n_splits=5,shuffle=True,random_state=RANDOM_STATE)\n",
        "scores = cross_val_score(model_xgb, Xtrain_scaled, ytrain, cv=kf, scoring = \"neg_mean_squared_error\")\n",
        "# sklearn.metrics.SCORERS.keys()\n",
        "train_neg_mse = scores.mean()\n",
        "print('Train Negative MSE CV: ', train_neg_mse)\n",
        "\n",
        "# save the model\n",
        "# joblib.dump(model_xgb, 'model_xgb.pkl')\n",
        "# model_xgb = joblib.load('model_xgb.pkl')\n",
        "\n",
        "# predictions\n",
        "ypreds_cv = cross_val_predict(model_xgb, Xtest_scaled, ytest, cv=kf)\n",
        "ypreds = ypreds_cv\n",
        "\n",
        "# rmse\n",
        "rmse = np.sqrt(sklearn.metrics.mean_squared_error(ytest,ypreds))\n",
        "print(f'Test RMSE: {rmse}')\n",
        "\n",
        "# explained variance score\n",
        "evs = explained_variance_score(ypreds, ytest)\n",
        "print('Explained Variance Score: ', evs)\n",
        "\n",
        "# r-squared values\n",
        "r2 = sklearn.metrics.r2_score(ytest, ypreds)\n",
        "ar2 = adjustedR2(r2, Xtest_scaled.shape[0], Xtest_scaled.shape[1])\n",
        "print('r_squared: ', r2)\n",
        "print('adjustedr2: ', ar2)"
      ],
      "execution_count": 112,
      "outputs": [
        {
          "output_type": "stream",
          "text": [
            "[00:35:05] WARNING: /workspace/src/objective/regression_obj.cu:152: reg:linear is now deprecated in favor of reg:squarederror.\n",
            "[00:35:06] WARNING: /workspace/src/objective/regression_obj.cu:152: reg:linear is now deprecated in favor of reg:squarederror.\n",
            "[00:35:07] WARNING: /workspace/src/objective/regression_obj.cu:152: reg:linear is now deprecated in favor of reg:squarederror.\n",
            "[00:35:08] WARNING: /workspace/src/objective/regression_obj.cu:152: reg:linear is now deprecated in favor of reg:squarederror.\n",
            "[00:35:09] WARNING: /workspace/src/objective/regression_obj.cu:152: reg:linear is now deprecated in favor of reg:squarederror.\n",
            "[00:35:10] WARNING: /workspace/src/objective/regression_obj.cu:152: reg:linear is now deprecated in favor of reg:squarederror.\n",
            "Train Negative MSE CV:  -0.03453994981484143\n",
            "[00:35:11] WARNING: /workspace/src/objective/regression_obj.cu:152: reg:linear is now deprecated in favor of reg:squarederror.\n",
            "[00:35:11] WARNING: /workspace/src/objective/regression_obj.cu:152: reg:linear is now deprecated in favor of reg:squarederror.\n",
            "[00:35:11] WARNING: /workspace/src/objective/regression_obj.cu:152: reg:linear is now deprecated in favor of reg:squarederror.\n",
            "[00:35:12] WARNING: /workspace/src/objective/regression_obj.cu:152: reg:linear is now deprecated in favor of reg:squarederror.\n",
            "[00:35:12] WARNING: /workspace/src/objective/regression_obj.cu:152: reg:linear is now deprecated in favor of reg:squarederror.\n",
            "Test RMSE: 0.18932672189517838\n",
            "r_squared:  0.8721434974021706\n",
            "adjustedr2:  0.8716386052897053\n",
            "Explained Variance Score:  0.845183821575169\n"
          ],
          "name": "stdout"
        }
      ]
    },
    {
      "cell_type": "code",
      "metadata": {
        "id": "tSRtpLKFMD2r",
        "colab_type": "code",
        "colab": {
          "base_uri": "https://localhost:8080/",
          "height": 263
        },
        "outputId": "b0294aa7-c2b5-441a-f63b-656666793625"
      },
      "source": [
        "show_method_attributes(model_xgb)"
      ],
      "execution_count": 51,
      "outputs": [
        {
          "output_type": "stream",
          "text": [
            "Object Type: <class 'xgboost.sklearn.XGBRegressor'>\n",
            "\n"
          ],
          "name": "stdout"
        },
        {
          "output_type": "execute_result",
          "data": {
            "text/html": [
              "<div>\n",
              "<style scoped>\n",
              "    .dataframe tbody tr th:only-of-type {\n",
              "        vertical-align: middle;\n",
              "    }\n",
              "\n",
              "    .dataframe tbody tr th {\n",
              "        vertical-align: top;\n",
              "    }\n",
              "\n",
              "    .dataframe thead th {\n",
              "        text-align: right;\n",
              "    }\n",
              "</style>\n",
              "<table border=\"1\" class=\"dataframe\">\n",
              "  <thead>\n",
              "    <tr style=\"text-align: right;\">\n",
              "      <th></th>\n",
              "      <th>0</th>\n",
              "      <th>1</th>\n",
              "      <th>2</th>\n",
              "      <th>3</th>\n",
              "      <th>4</th>\n",
              "      <th>5</th>\n",
              "      <th>6</th>\n",
              "    </tr>\n",
              "  </thead>\n",
              "  <tbody>\n",
              "    <tr>\n",
              "      <th>0</th>\n",
              "      <td>apply</td>\n",
              "      <td>colsample_bytree</td>\n",
              "      <td>get_num_boosting_rounds</td>\n",
              "      <td>learning_rate</td>\n",
              "      <td>n_estimators</td>\n",
              "      <td>reg_alpha</td>\n",
              "      <td>seed</td>\n",
              "    </tr>\n",
              "    <tr>\n",
              "      <th>1</th>\n",
              "      <td>base_score</td>\n",
              "      <td>evals_result</td>\n",
              "      <td>get_params</td>\n",
              "      <td>load_model</td>\n",
              "      <td>n_jobs</td>\n",
              "      <td>reg_lambda</td>\n",
              "      <td>set_params</td>\n",
              "    </tr>\n",
              "    <tr>\n",
              "      <th>2</th>\n",
              "      <td>booster</td>\n",
              "      <td>feature_importances_</td>\n",
              "      <td>get_xgb_params</td>\n",
              "      <td>max_delta_step</td>\n",
              "      <td>nthread</td>\n",
              "      <td>save_model</td>\n",
              "      <td>silent</td>\n",
              "    </tr>\n",
              "    <tr>\n",
              "      <th>3</th>\n",
              "      <td>coef_</td>\n",
              "      <td>fit</td>\n",
              "      <td>importance_type</td>\n",
              "      <td>max_depth</td>\n",
              "      <td>objective</td>\n",
              "      <td>scale_pos_weight</td>\n",
              "      <td>subsample</td>\n",
              "    </tr>\n",
              "    <tr>\n",
              "      <th>4</th>\n",
              "      <td>colsample_bylevel</td>\n",
              "      <td>gamma</td>\n",
              "      <td>intercept_</td>\n",
              "      <td>min_child_weight</td>\n",
              "      <td>predict</td>\n",
              "      <td>score</td>\n",
              "      <td>verbosity</td>\n",
              "    </tr>\n",
              "    <tr>\n",
              "      <th>5</th>\n",
              "      <td>colsample_bynode</td>\n",
              "      <td>get_booster</td>\n",
              "      <td>kwargs</td>\n",
              "      <td>missing</td>\n",
              "      <td>random_state</td>\n",
              "      <td></td>\n",
              "      <td></td>\n",
              "    </tr>\n",
              "  </tbody>\n",
              "</table>\n",
              "</div>"
            ],
            "text/plain": [
              "                   0                     1                        2  \\\n",
              "0              apply      colsample_bytree  get_num_boosting_rounds   \n",
              "1         base_score          evals_result               get_params   \n",
              "2            booster  feature_importances_           get_xgb_params   \n",
              "3              coef_                   fit          importance_type   \n",
              "4  colsample_bylevel                 gamma               intercept_   \n",
              "5   colsample_bynode           get_booster                   kwargs   \n",
              "\n",
              "                  3             4                 5           6  \n",
              "0     learning_rate  n_estimators         reg_alpha        seed  \n",
              "1        load_model        n_jobs        reg_lambda  set_params  \n",
              "2    max_delta_step       nthread        save_model      silent  \n",
              "3         max_depth     objective  scale_pos_weight   subsample  \n",
              "4  min_child_weight       predict             score   verbosity  \n",
              "5           missing  random_state                                "
            ]
          },
          "metadata": {
            "tags": []
          },
          "execution_count": 51
        }
      ]
    },
    {
      "cell_type": "code",
      "metadata": {
        "id": "spTWp71pMN8a",
        "colab_type": "code",
        "colab": {
          "base_uri": "https://localhost:8080/",
          "height": 587
        },
        "outputId": "be69d11f-bc36-446f-981b-ddcedac96058"
      },
      "source": [
        "# feature importance\n",
        "df_imp = pd.DataFrame({'Feature': features_raw_all,\n",
        "                       'Importance': model_xgb.feature_importances_\n",
        "                       }) \n",
        "\n",
        "df_imp.sort_values('Importance').style.background_gradient()"
      ],
      "execution_count": 92,
      "outputs": [
        {
          "output_type": "execute_result",
          "data": {
            "text/html": [
              "<div>\n",
              "<style scoped>\n",
              "    .dataframe tbody tr th:only-of-type {\n",
              "        vertical-align: middle;\n",
              "    }\n",
              "\n",
              "    .dataframe tbody tr th {\n",
              "        vertical-align: top;\n",
              "    }\n",
              "\n",
              "    .dataframe thead th {\n",
              "        text-align: right;\n",
              "    }\n",
              "</style>\n",
              "<table border=\"1\" class=\"dataframe\">\n",
              "  <thead>\n",
              "    <tr style=\"text-align: right;\">\n",
              "      <th></th>\n",
              "      <th>Feature</th>\n",
              "      <th>Importance</th>\n",
              "    </tr>\n",
              "  </thead>\n",
              "  <tbody>\n",
              "    <tr>\n",
              "      <th>0</th>\n",
              "      <td>bedrooms</td>\n",
              "      <td>0.001265</td>\n",
              "    </tr>\n",
              "    <tr>\n",
              "      <th>4</th>\n",
              "      <td>floors</td>\n",
              "      <td>0.003134</td>\n",
              "    </tr>\n",
              "    <tr>\n",
              "      <th>10</th>\n",
              "      <td>sqft_basement</td>\n",
              "      <td>0.003448</td>\n",
              "    </tr>\n",
              "    <tr>\n",
              "      <th>3</th>\n",
              "      <td>sqft_lot</td>\n",
              "      <td>0.006290</td>\n",
              "    </tr>\n",
              "    <tr>\n",
              "      <th>12</th>\n",
              "      <td>yr_renovated</td>\n",
              "      <td>0.008790</td>\n",
              "    </tr>\n",
              "    <tr>\n",
              "      <th>17</th>\n",
              "      <td>sqft_lot15</td>\n",
              "      <td>0.009784</td>\n",
              "    </tr>\n",
              "    <tr>\n",
              "      <th>13</th>\n",
              "      <td>zipcode</td>\n",
              "      <td>0.012946</td>\n",
              "    </tr>\n",
              "    <tr>\n",
              "      <th>1</th>\n",
              "      <td>bathrooms</td>\n",
              "      <td>0.013856</td>\n",
              "    </tr>\n",
              "    <tr>\n",
              "      <th>7</th>\n",
              "      <td>condition</td>\n",
              "      <td>0.013912</td>\n",
              "    </tr>\n",
              "    <tr>\n",
              "      <th>15</th>\n",
              "      <td>long</td>\n",
              "      <td>0.013937</td>\n",
              "    </tr>\n",
              "    <tr>\n",
              "      <th>9</th>\n",
              "      <td>sqft_above</td>\n",
              "      <td>0.014353</td>\n",
              "    </tr>\n",
              "    <tr>\n",
              "      <th>5</th>\n",
              "      <td>waterfront</td>\n",
              "      <td>0.019204</td>\n",
              "    </tr>\n",
              "    <tr>\n",
              "      <th>11</th>\n",
              "      <td>yr_built</td>\n",
              "      <td>0.025553</td>\n",
              "    </tr>\n",
              "    <tr>\n",
              "      <th>16</th>\n",
              "      <td>sqft_living15</td>\n",
              "      <td>0.034080</td>\n",
              "    </tr>\n",
              "    <tr>\n",
              "      <th>6</th>\n",
              "      <td>view</td>\n",
              "      <td>0.089821</td>\n",
              "    </tr>\n",
              "    <tr>\n",
              "      <th>14</th>\n",
              "      <td>lat</td>\n",
              "      <td>0.102113</td>\n",
              "    </tr>\n",
              "    <tr>\n",
              "      <th>2</th>\n",
              "      <td>sqft_living</td>\n",
              "      <td>0.203978</td>\n",
              "    </tr>\n",
              "    <tr>\n",
              "      <th>8</th>\n",
              "      <td>grade</td>\n",
              "      <td>0.423537</td>\n",
              "    </tr>\n",
              "  </tbody>\n",
              "</table>\n",
              "</div>"
            ],
            "text/plain": [
              "          Feature  Importance\n",
              "0        bedrooms    0.001265\n",
              "4          floors    0.003134\n",
              "10  sqft_basement    0.003448\n",
              "3        sqft_lot    0.006290\n",
              "12   yr_renovated    0.008790\n",
              "17     sqft_lot15    0.009784\n",
              "13        zipcode    0.012946\n",
              "1       bathrooms    0.013856\n",
              "7       condition    0.013912\n",
              "15           long    0.013937\n",
              "9      sqft_above    0.014353\n",
              "5      waterfront    0.019204\n",
              "11       yr_built    0.025553\n",
              "16  sqft_living15    0.034080\n",
              "6            view    0.089821\n",
              "14            lat    0.102113\n",
              "2     sqft_living    0.203978\n",
              "8           grade    0.423537"
            ]
          },
          "metadata": {
            "tags": []
          },
          "execution_count": 92
        }
      ]
    },
    {
      "cell_type": "code",
      "metadata": {
        "id": "VQ4RWwu_TT6u",
        "colab_type": "code",
        "colab": {
          "base_uri": "https://localhost:8080/",
          "height": 502
        },
        "outputId": "04f9bb75-03a5-4ed0-91f0-477d5f1498ea"
      },
      "source": [
        "df_imp.sort_values('Importance').set_index('Feature').sort_values('Importance').plot.barh(figsize=(12,8))"
      ],
      "execution_count": 93,
      "outputs": [
        {
          "output_type": "execute_result",
          "data": {
            "text/plain": [
              "<matplotlib.axes._subplots.AxesSubplot at 0x7f3c48f2a390>"
            ]
          },
          "metadata": {
            "tags": []
          },
          "execution_count": 93
        },
        {
          "output_type": "display_data",
          "data": {
            "image/png": "[encoded data removed]",
            "text/plain": [
              "<Figure size 864x576 with 1 Axes>"
            ]
          },
          "metadata": {
            "tags": []
          }
        }
      ]
    },
    {
      "cell_type": "code",
      "metadata": {
        "id": "2QaIAB_QNN-u",
        "colab_type": "code",
        "colab": {
          "base_uri": "https://localhost:8080/",
          "height": 338
        },
        "outputId": "48e7b78e-157c-4a39-b6eb-95e81e903d99"
      },
      "source": [
        "axsub = xgb.plot_importance(model_xgb)\n",
        "print(features_raw_all)\n",
        "print(dict_features)"
      ],
      "execution_count": 86,
      "outputs": [
        {
          "output_type": "stream",
          "text": [
            "{0: 'bedrooms', 1: 'bathrooms', 2: 'sqft_living', 3: 'sqft_lot', 4: 'floors', 5: 'waterfront', 6: 'view', 7: 'condition', 8: 'grade', 9: 'sqft_above', 10: 'sqft_basement', 11: 'yr_built', 12: 'yr_renovated', 13: 'zipcode', 14: 'lat', 15: 'long', 16: 'sqft_living15', 17: 'sqft_lot15'}\n"
          ],
          "name": "stdout"
        },
        {
          "output_type": "display_data",
          "data": {
            "image/png": "[encoded data removed]",
            "text/plain": [
              "<Figure size 432x288 with 1 Axes>"
            ]
          },
          "metadata": {
            "tags": []
          }
        }
      ]
    },
    {
      "cell_type": "code",
      "metadata": {
        "id": "V6rANQ5lOMpY",
        "colab_type": "code",
        "colab": {
          "base_uri": "https://localhost:8080/",
          "height": 338
        },
        "outputId": "7d778cef-2f23-4378-cd9d-357de2eb7e8c"
      },
      "source": [
        "axsub = xgb.plot_importance(model_xgb)\n",
        "\n",
        "Text_yticklabels = list(axsub.get_yticklabels())\n",
        "dict_features = dict(enumerate(features_raw_all))\n",
        "lst_yticklabels = [ Text_yticklabels[i].get_text().lstrip('f') for i in range(len(Text_yticklabels))]\n",
        "lst_yticklabels = [ dict_features[int(i)] for i in lst_yticklabels]\n",
        "\n",
        "axsub.set_yticklabels(lst_yticklabels)\n",
        "print(dict_features)\n",
        "plt.show()"
      ],
      "execution_count": 88,
      "outputs": [
        {
          "output_type": "stream",
          "text": [
            "{0: 'bedrooms', 1: 'bathrooms', 2: 'sqft_living', 3: 'sqft_lot', 4: 'floors', 5: 'waterfront', 6: 'view', 7: 'condition', 8: 'grade', 9: 'sqft_above', 10: 'sqft_basement', 11: 'yr_built', 12: 'yr_renovated', 13: 'zipcode', 14: 'lat', 15: 'long', 16: 'sqft_living15', 17: 'sqft_lot15'}\n"
          ],
          "name": "stdout"
        },
        {
          "output_type": "display_data",
          "data": {
            "image/png": "[encoded data removed]",
            "text/plain": [
              "<Figure size 432x288 with 1 Axes>"
            ]
          },
          "metadata": {
            "tags": []
          }
        }
      ]
    },
    {
      "cell_type": "code",
      "metadata": {
        "id": "6SGdKP_VOV6K",
        "colab_type": "code",
        "colab": {
          "base_uri": "https://localhost:8080/",
          "height": 263
        },
        "outputId": "91b24fa6-eaf7-499a-e77f-dd88d5509e0e"
      },
      "source": [
        "show_method_attributes(model_xgb)"
      ],
      "execution_count": 89,
      "outputs": [
        {
          "output_type": "stream",
          "text": [
            "Object Type: <class 'xgboost.sklearn.XGBRegressor'>\n",
            "\n"
          ],
          "name": "stdout"
        },
        {
          "output_type": "execute_result",
          "data": {
            "text/html": [
              "<div>\n",
              "<style scoped>\n",
              "    .dataframe tbody tr th:only-of-type {\n",
              "        vertical-align: middle;\n",
              "    }\n",
              "\n",
              "    .dataframe tbody tr th {\n",
              "        vertical-align: top;\n",
              "    }\n",
              "\n",
              "    .dataframe thead th {\n",
              "        text-align: right;\n",
              "    }\n",
              "</style>\n",
              "<table border=\"1\" class=\"dataframe\">\n",
              "  <thead>\n",
              "    <tr style=\"text-align: right;\">\n",
              "      <th></th>\n",
              "      <th>0</th>\n",
              "      <th>1</th>\n",
              "      <th>2</th>\n",
              "      <th>3</th>\n",
              "      <th>4</th>\n",
              "      <th>5</th>\n",
              "      <th>6</th>\n",
              "    </tr>\n",
              "  </thead>\n",
              "  <tbody>\n",
              "    <tr>\n",
              "      <th>0</th>\n",
              "      <td>apply</td>\n",
              "      <td>colsample_bytree</td>\n",
              "      <td>get_num_boosting_rounds</td>\n",
              "      <td>learning_rate</td>\n",
              "      <td>n_estimators</td>\n",
              "      <td>reg_alpha</td>\n",
              "      <td>seed</td>\n",
              "    </tr>\n",
              "    <tr>\n",
              "      <th>1</th>\n",
              "      <td>base_score</td>\n",
              "      <td>evals_result</td>\n",
              "      <td>get_params</td>\n",
              "      <td>load_model</td>\n",
              "      <td>n_jobs</td>\n",
              "      <td>reg_lambda</td>\n",
              "      <td>set_params</td>\n",
              "    </tr>\n",
              "    <tr>\n",
              "      <th>2</th>\n",
              "      <td>booster</td>\n",
              "      <td>feature_importances_</td>\n",
              "      <td>get_xgb_params</td>\n",
              "      <td>max_delta_step</td>\n",
              "      <td>nthread</td>\n",
              "      <td>save_model</td>\n",
              "      <td>silent</td>\n",
              "    </tr>\n",
              "    <tr>\n",
              "      <th>3</th>\n",
              "      <td>coef_</td>\n",
              "      <td>fit</td>\n",
              "      <td>importance_type</td>\n",
              "      <td>max_depth</td>\n",
              "      <td>objective</td>\n",
              "      <td>scale_pos_weight</td>\n",
              "      <td>subsample</td>\n",
              "    </tr>\n",
              "    <tr>\n",
              "      <th>4</th>\n",
              "      <td>colsample_bylevel</td>\n",
              "      <td>gamma</td>\n",
              "      <td>intercept_</td>\n",
              "      <td>min_child_weight</td>\n",
              "      <td>predict</td>\n",
              "      <td>score</td>\n",
              "      <td>verbosity</td>\n",
              "    </tr>\n",
              "    <tr>\n",
              "      <th>5</th>\n",
              "      <td>colsample_bynode</td>\n",
              "      <td>get_booster</td>\n",
              "      <td>kwargs</td>\n",
              "      <td>missing</td>\n",
              "      <td>random_state</td>\n",
              "      <td></td>\n",
              "      <td></td>\n",
              "    </tr>\n",
              "  </tbody>\n",
              "</table>\n",
              "</div>"
            ],
            "text/plain": [
              "                   0                     1                        2  \\\n",
              "0              apply      colsample_bytree  get_num_boosting_rounds   \n",
              "1         base_score          evals_result               get_params   \n",
              "2            booster  feature_importances_           get_xgb_params   \n",
              "3              coef_                   fit          importance_type   \n",
              "4  colsample_bylevel                 gamma               intercept_   \n",
              "5   colsample_bynode           get_booster                   kwargs   \n",
              "\n",
              "                  3             4                 5           6  \n",
              "0     learning_rate  n_estimators         reg_alpha        seed  \n",
              "1        load_model        n_jobs        reg_lambda  set_params  \n",
              "2    max_delta_step       nthread        save_model      silent  \n",
              "3         max_depth     objective  scale_pos_weight   subsample  \n",
              "4  min_child_weight       predict             score   verbosity  \n",
              "5           missing  random_state                                "
            ]
          },
          "metadata": {
            "tags": []
          },
          "execution_count": 89
        }
      ]
    },
    {
      "cell_type": "code",
      "metadata": {
        "id": "vUMbl2k_STyE",
        "colab_type": "code",
        "colab": {
          "base_uri": "https://localhost:8080/",
          "height": 87
        },
        "outputId": "5c483ee9-8a64-4cf5-bdf5-fa63d1db1489"
      },
      "source": [
        "model_xgb.feature_importances_"
      ],
      "execution_count": 90,
      "outputs": [
        {
          "output_type": "execute_result",
          "data": {
            "text/plain": [
              "array([0.00126452, 0.01385575, 0.20397831, 0.0062897 , 0.00313387,\n",
              "       0.01920414, 0.08982094, 0.01391194, 0.42353657, 0.014353  ,\n",
              "       0.00344811, 0.02555324, 0.00878975, 0.01294596, 0.1021134 ,\n",
              "       0.01393693, 0.03407998, 0.00978385], dtype=float32)"
            ]
          },
          "metadata": {
            "tags": []
          },
          "execution_count": 90
        }
      ]
    },
    {
      "cell_type": "markdown",
      "metadata": {
        "id": "V1EPdUYQST3K",
        "colab_type": "text"
      },
      "source": [
        "# Xgboost using DMatrix"
      ]
    },
    {
      "cell_type": "code",
      "metadata": {
        "id": "vWWG7dh8ST7r",
        "colab_type": "code",
        "colab": {
          "base_uri": "https://localhost:8080/",
          "height": 197
        },
        "outputId": "0f0ca6fd-921d-4c7a-f00f-ad89049d070e"
      },
      "source": [
        "dtrain = xgb.DMatrix(Xtrain_scaled,ytrain,feature_names=features_raw_all)\n"
      ],
      "execution_count": 113,
      "outputs": [
        {
          "output_type": "execute_result",
          "data": {
            "text/html": [
              "<div>\n",
              "<style scoped>\n",
              "    .dataframe tbody tr th:only-of-type {\n",
              "        vertical-align: middle;\n",
              "    }\n",
              "\n",
              "    .dataframe tbody tr th {\n",
              "        vertical-align: top;\n",
              "    }\n",
              "\n",
              "    .dataframe thead th {\n",
              "        text-align: right;\n",
              "    }\n",
              "</style>\n",
              "<table border=\"1\" class=\"dataframe\">\n",
              "  <thead>\n",
              "    <tr style=\"text-align: right;\">\n",
              "      <th></th>\n",
              "      <th>train-rmse-mean</th>\n",
              "      <th>train-rmse-std</th>\n",
              "      <th>test-rmse-mean</th>\n",
              "      <th>test-rmse-std</th>\n",
              "    </tr>\n",
              "  </thead>\n",
              "  <tbody>\n",
              "    <tr>\n",
              "      <th>0</th>\n",
              "      <td>11.303995</td>\n",
              "      <td>0.001941</td>\n",
              "      <td>11.303974</td>\n",
              "      <td>0.008381</td>\n",
              "    </tr>\n",
              "    <tr>\n",
              "      <th>1</th>\n",
              "      <td>10.175575</td>\n",
              "      <td>0.001721</td>\n",
              "      <td>10.175561</td>\n",
              "      <td>0.008435</td>\n",
              "    </tr>\n",
              "    <tr>\n",
              "      <th>2</th>\n",
              "      <td>9.160021</td>\n",
              "      <td>0.001472</td>\n",
              "      <td>9.160079</td>\n",
              "      <td>0.008393</td>\n",
              "    </tr>\n",
              "    <tr>\n",
              "      <th>3</th>\n",
              "      <td>8.246159</td>\n",
              "      <td>0.001456</td>\n",
              "      <td>8.246203</td>\n",
              "      <td>0.008203</td>\n",
              "    </tr>\n",
              "    <tr>\n",
              "      <th>4</th>\n",
              "      <td>7.423819</td>\n",
              "      <td>0.001380</td>\n",
              "      <td>7.423824</td>\n",
              "      <td>0.007907</td>\n",
              "    </tr>\n",
              "  </tbody>\n",
              "</table>\n",
              "</div>"
            ],
            "text/plain": [
              "   train-rmse-mean  train-rmse-std  test-rmse-mean  test-rmse-std\n",
              "0        11.303995        0.001941       11.303974       0.008381\n",
              "1        10.175575        0.001721       10.175561       0.008435\n",
              "2         9.160021        0.001472        9.160079       0.008393\n",
              "3         8.246159        0.001456        8.246203       0.008203\n",
              "4         7.423819        0.001380        7.423824       0.007907"
            ]
          },
          "metadata": {
            "tags": []
          },
          "execution_count": 113
        }
      ]
    },
    {
      "cell_type": "code",
      "metadata": {
        "id": "U36QEL48Zcqt",
        "colab_type": "code",
        "colab": {}
      },
      "source": [
        "\n",
        "params = {\"objective\":\"reg:squarederror\",'colsample_bytree': 0.3,'learning_rate': 0.1,\n",
        "                'max_depth': 5, 'alpha': 10}\n"
      ],
      "execution_count": 0,
      "outputs": []
    },
    {
      "cell_type": "markdown",
      "metadata": {
        "id": "A6lwCwUJZfiG",
        "colab_type": "text"
      },
      "source": [
        "## Cross Validation"
      ]
    },
    {
      "cell_type": "code",
      "metadata": {
        "id": "pNQh9DygZdbU",
        "colab_type": "code",
        "colab": {}
      },
      "source": [
        "\n",
        "cv_results = xgb.cv(dtrain=dtrain, params=params, nfold=5,\n",
        "    num_boost_round=500,early_stopping_rounds=50,metrics=\"rmse\",\n",
        "     as_pandas=True, seed=RANDOM_STATE)\n",
        "\n",
        "cv_results.head()"
      ],
      "execution_count": 0,
      "outputs": []
    },
    {
      "cell_type": "markdown",
      "metadata": {
        "id": "-fNtIxvqZiu4",
        "colab_type": "text"
      },
      "source": [
        "## Modelling xgboost using dtrain"
      ]
    },
    {
      "cell_type": "code",
      "metadata": {
        "id": "3We0ufxjST-l",
        "colab_type": "code",
        "colab": {
          "base_uri": "https://localhost:8080/",
          "height": 87
        },
        "outputId": "59fb071b-372c-4cf6-b769-1c52caa48405"
      },
      "source": [
        "dtrain = xgb.DMatrix(Xtrain_scaled,ytrain,feature_names=features_raw_all)\n",
        "params = {\"objective\":\"reg:squarederror\",\n",
        "          'colsample_bytree': 0.3,\n",
        "          'learning_rate': 0.1,\n",
        "          'max_depth': 5,\n",
        "          'alpha': 10}\n",
        "\n",
        "# train the model\n",
        "model_xgb = xgb.train(dtrain=dtrain,params=params,num_boost_round=1000)\n",
        "\n",
        "# test the model\n",
        "dtest = xgb.DMatrix(Xtest_scaled, ytest, feature_names=features_raw_all)\n",
        "ypreds = model_xgb.predict(dtest)\n",
        "\n",
        "# rmse\n",
        "rmse = np.sqrt(sklearn.metrics.mean_squared_error(ytest,ypreds))\n",
        "print(f'Test RMSE: {rmse}')\n",
        "\n",
        "# explained variance score\n",
        "evs = explained_variance_score(ypreds, ytest)\n",
        "print('Explained Variance Score: ', evs)\n",
        "\n",
        "# r-squared values\n",
        "r2 = sklearn.metrics.r2_score(ytest, ypreds)\n",
        "ar2 = adjustedR2(r2, Xtest_scaled.shape[0], Xtest_scaled.shape[1])\n",
        "print('r_squared: ', r2)\n",
        "print('adjustedr2: ', ar2)"
      ],
      "execution_count": 118,
      "outputs": [
        {
          "output_type": "stream",
          "text": [
            "Test RMSE: 0.161218645932789\n",
            "r_squared:  0.9072893708580465\n",
            "adjustedr2:  0.9069232661668936\n",
            "Explained Variance Score:  0.8942810631636265\n"
          ],
          "name": "stdout"
        }
      ]
    },
    {
      "cell_type": "code",
      "metadata": {
        "id": "yrTCF1ktVQ5t",
        "colab_type": "code",
        "colab": {
          "base_uri": "https://localhost:8080/",
          "height": 372
        },
        "outputId": "dd36457f-5bd6-42da-fc1e-2e8a3e1ddd39"
      },
      "source": [
        "xgb.plot_importance(model_xgb)"
      ],
      "execution_count": 119,
      "outputs": [
        {
          "output_type": "execute_result",
          "data": {
            "text/plain": [
              "<matplotlib.axes._subplots.AxesSubplot at 0x7f3c48b0b0b8>"
            ]
          },
          "metadata": {
            "tags": []
          },
          "execution_count": 119
        },
        {
          "output_type": "display_data",
          "data": {
            "image/png": "[encoded data removed]",
            "text/plain": [
              "<Figure size 360x360 with 1 Axes>"
            ]
          },
          "metadata": {
            "tags": []
          }
        }
      ]
    },
    {
      "cell_type": "code",
      "metadata": {
        "id": "W1lseMMhZX62",
        "colab_type": "code",
        "colab": {
          "base_uri": "https://localhost:8080/",
          "height": 401
        },
        "outputId": "ab87ec70-5580-435e-fac5-d0fc0ddaa1df"
      },
      "source": [
        "fig,ax = plt.subplots(figsize=(12,8))\n",
        "xgb.plot_tree(model_xgb,ax=ax)"
      ],
      "execution_count": 120,
      "outputs": [
        {
          "output_type": "execute_result",
          "data": {
            "text/plain": [
              "<matplotlib.axes._subplots.AxesSubplot at 0x7f3c48a51128>"
            ]
          },
          "metadata": {
            "tags": []
          },
          "execution_count": 120
        },
        {
          "output_type": "display_data",
          "data": {
            "image/png": "[encoded data removed]",
            "text/plain": [
              "<Figure size 864x576 with 1 Axes>"
            ]
          },
          "metadata": {
            "tags": []
          }
        }
      ]
    },
    {
      "cell_type": "markdown",
      "metadata": {
        "id": "qKQecHzFW8fa",
        "colab_type": "text"
      },
      "source": [
        "# HPO (Hyper Parameter Optimization)\n",
        "\n",
        "Parameters:\n",
        "- learning_rate: step size shrinkage used to prevent overfitting. Range is [0,1]\n",
        "- max_depth: determines how deeply each tree is allowed to grow during any boosting round.\n",
        "- subsample: percentage of samples used per tree. Low value can lead to underfitting.\n",
        "- colsample_bytree: percentage of features used per tree. High value can lead to overfitting.\n",
        "- n_estimators: number of trees you want to build.\n",
        "\n",
        "Regularization parameters:\n",
        "\n",
        "- gamma: controls whether a given node will split based on the expected reduction in loss after the split. A higher value leads to fewer splits. Supported only for tree-based learners.\n",
        "- alpha: L1 regularization on leaf weights. A large value leads to more regularization.\n",
        "- lambda: L2 regularization on leaf weights and is smoother than L1 regularization."
      ]
    },
    {
      "cell_type": "code",
      "metadata": {
        "id": "XJzY-xQba-F0",
        "colab_type": "code",
        "colab": {}
      },
      "source": [
        "# import xgboost as xgb\n",
        "# from sklearn.model_selection import GridSearchCV\n",
        "\n",
        "# params_grid = {\n",
        "#    'colsample_bytree':[0.4,0.6,0.8],\n",
        "#    'gamma':[0,0.03,0.1,0.3],\n",
        "#    'min_child_weight':[1.5,6,10],\n",
        "#    'learning_rate':[0.1,0.07],\n",
        "#    'max_depth':[3,5],\n",
        "#    'n_estimators':[10000],\n",
        "#    'reg_alpha':[1e-5, 1e-2,  0.75],\n",
        "#    'reg_lambda':[1e-5, 1e-2, 0.45],\n",
        "#    'subsample':[0.6,0.95]  \n",
        "# }\n",
        "\n",
        "                    \n",
        "# model_xgb = xgb.XGBRegressor(learning_rate =0.1,\n",
        "#                                  n_estimators=1000,\n",
        "#                                  max_depth=5,\n",
        "#                                  min_child_weight=1,\n",
        "#                                  gamma=0,\n",
        "#                                  subsample=0.8,\n",
        "#                                  colsample_bytree=0.8,\n",
        "#                                  n_jobs=-1,\n",
        "#                                  scale_pos_weight=1,\n",
        "#                                  seed=RANDOM_STATE)\n",
        "\n",
        "# gsearch1 = GridSearchCV(estimator=model_xgb,\n",
        "#                         param_grid=params_grid, \n",
        "#                         n_jobs=-1,\n",
        "#                         iid=False, \n",
        "#                         verbose=10,\n",
        "#                         scoring='neg_mean_squared_error')\n",
        "\n",
        "# gsearch1.fit(Xtrain_scaled,ytrain)\n",
        "# print (gsearch1.grid_scores_)\n",
        "# print('best params')\n",
        "# print (gsearch1.best_params_)\n",
        "# print('best score')\n",
        "# print (gsearch1.best_score_)"
      ],
      "execution_count": 0,
      "outputs": []
    },
    {
      "cell_type": "code",
      "metadata": {
        "id": "ig_BNbLrbsLv",
        "colab_type": "code",
        "colab": {}
      },
      "source": [
        ""
      ],
      "execution_count": 0,
      "outputs": []
    }
  ]
}