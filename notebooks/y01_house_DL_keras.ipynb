{
 "cells": [
  {
   "cell_type": "markdown",
   "metadata": {
    "toc": true
   },
   "source": [
    "<h1>Table of Contents<span class=\"tocSkip\"></span></h1>\n",
    "<div class=\"toc\"><ul class=\"toc-item\"><li><span><a href=\"#Data-Description\" data-toc-modified-id=\"Data-Description-1\"><span class=\"toc-item-num\">1&nbsp;&nbsp;</span>Data Description</a></span><ul class=\"toc-item\"><li><span><a href=\"#Model-Introduction\" data-toc-modified-id=\"Model-Introduction-1.1\"><span class=\"toc-item-num\">1.1&nbsp;&nbsp;</span>Model Introduction</a></span></li></ul></li><li><span><a href=\"#Imports\" data-toc-modified-id=\"Imports-2\"><span class=\"toc-item-num\">2&nbsp;&nbsp;</span>Imports</a></span></li><li><span><a href=\"#Important-Scripts\" data-toc-modified-id=\"Important-Scripts-3\"><span class=\"toc-item-num\">3&nbsp;&nbsp;</span>Important Scripts</a></span></li><li><span><a href=\"#Parameters\" data-toc-modified-id=\"Parameters-4\"><span class=\"toc-item-num\">4&nbsp;&nbsp;</span>Parameters</a></span></li><li><span><a href=\"#Load-the-data\" data-toc-modified-id=\"Load-the-data-5\"><span class=\"toc-item-num\">5&nbsp;&nbsp;</span>Load the data</a></span></li><li><span><a href=\"#Data-Processing\" data-toc-modified-id=\"Data-Processing-6\"><span class=\"toc-item-num\">6&nbsp;&nbsp;</span>Data Processing</a></span></li><li><span><a href=\"#Train-Test-Split\" data-toc-modified-id=\"Train-Test-Split-7\"><span class=\"toc-item-num\">7&nbsp;&nbsp;</span>Train Test Split</a></span></li><li><span><a href=\"#Scaling\" data-toc-modified-id=\"Scaling-8\"><span class=\"toc-item-num\">8&nbsp;&nbsp;</span>Scaling</a></span></li><li><span><a href=\"#Fitting\" data-toc-modified-id=\"Fitting-9\"><span class=\"toc-item-num\">9&nbsp;&nbsp;</span>Fitting</a></span></li></ul></div>"
   ]
  },
  {
   "cell_type": "markdown",
   "metadata": {
    "id": "_3MTbUq2xRFN"
   },
   "source": [
    "<div class=\"alert alert-block alert-success\">\n",
    "<b>Kernel Author:</b>  <br>\n",
    "<a href=\"https://bhishanpdl.github.io/\" , target=\"_blank\">Bhishan Poudel,  Data Scientist, Ph.D Astrophysics</a> .\n",
    "</div>"
   ]
  },
  {
   "cell_type": "markdown",
   "metadata": {
    "id": "VwrXuQrH44pE"
   },
   "source": [
    "# Data Description\n",
    "\n",
    "This dataset contains house sale prices for King County,\n",
    "which includes Seattle.\n",
    "It includes homes sold between May 2014 and May 2015.\n",
    "\n",
    "- Dependent features: 1 (price)\n",
    "- Features : 19 home features\n",
    "- Id:  1 house ID\n",
    "\n",
    "Task: Estimate the price based on given features.\n",
    "\n",
    "![](images/data_description.png)\n"
   ]
  },
  {
   "cell_type": "markdown",
   "metadata": {
    "id": "eGPA27a8xrgK"
   },
   "source": [
    "## Model Introduction\n",
    "Here we will use deep learning method using keras and tensorflow for the regression problem of house price prediction."
   ]
  },
  {
   "cell_type": "markdown",
   "metadata": {
    "id": "mcUE4kVk44pE"
   },
   "source": [
    "# Imports"
   ]
  },
  {
   "cell_type": "code",
   "execution_count": 1,
   "metadata": {
    "id": "y0AEK6d7xRFS"
   },
   "outputs": [],
   "source": [
    "import time\n",
    "time_start_notebook = time.time()"
   ]
  },
  {
   "cell_type": "code",
   "execution_count": 2,
   "metadata": {
    "ExecuteTime": {
     "end_time": "2019-11-20T01:11:15.559295Z",
     "start_time": "2019-11-20T01:11:15.556158Z"
    },
    "id": "FQX0h7dcOrHN"
   },
   "outputs": [],
   "source": [
    "%%capture\n",
    "import os\n",
    "import sys\n",
    "ENV_COLAB = 'google.colab' in sys.modules\n",
    "\n",
    "if ENV_COLAB:\n",
    "    ## install modules\n",
    "    !pip install scikit-plot\n",
    "    !pip install lrcurve\n",
    "    !pip install watermark\n",
    "    !pip install -U scikit-learn\n",
    "\n",
    "    ## print\n",
    "    print('Environment: Google Colaboratory.')"
   ]
  },
  {
   "cell_type": "code",
   "execution_count": 3,
   "metadata": {
    "ExecuteTime": {
     "end_time": "2019-11-20T01:11:16.331694Z",
     "start_time": "2019-11-20T01:11:15.561180Z"
    },
    "colab": {
     "base_uri": "https://localhost:8080/"
    },
    "id": "ZFubck-r44pH",
    "outputId": "87ded74b-165a-41a7-c131-aa1747ed7d8f"
   },
   "outputs": [
    {
     "name": "stdout",
     "output_type": "stream",
     "text": [
      "Bhishan Poudel 2020-11-08 \n",
      "\n",
      "CPython 3.6.9\n",
      "IPython 5.5.0\n",
      "\n",
      "compiler   : GCC 8.4.0\n",
      "system     : Linux\n",
      "release    : 4.19.112+\n",
      "machine    : x86_64\n",
      "processor  : x86_64\n",
      "CPU cores  : 2\n",
      "interpreter: 64bit\n",
      "\n",
      "pandas     1.1.4\n",
      "matplotlib 3.2.2\n",
      "watermark  2.0.2\n",
      "sklearn    0.23.2\n",
      "seaborn    0.11.0\n",
      "keras      2.4.3\n",
      "scikitplot 0.3.7\n",
      "tensorflow 2.3.0\n",
      "numpy      1.18.5\n",
      "\n"
     ]
    }
   ],
   "source": [
    "import numpy as np\n",
    "import pandas as pd\n",
    "\n",
    "# visualization\n",
    "import seaborn as sns\n",
    "sns.set(color_codes=True)\n",
    "import matplotlib\n",
    "import matplotlib.pyplot as plt\n",
    "%matplotlib inline\n",
    "\n",
    "# random state\n",
    "SEED = 0\n",
    "RNG = np.random.RandomState(SEED)\n",
    "\n",
    "# sklearn\n",
    "import sklearn\n",
    "from sklearn import model_selection\n",
    "from sklearn import preprocessing\n",
    "\n",
    "# deep learning\n",
    "import tensorflow\n",
    "import tensorflow as tf\n",
    "import keras\n",
    "import keras.backend as K\n",
    "from keras.models import Sequential\n",
    "from keras.layers import Activation\n",
    "from keras.layers import Dense, Dropout\n",
    "from keras.optimizers import Adam\n",
    "from keras.wrappers.scikit_learn import KerasRegressor\n",
    "\n",
    "# model evaluation\n",
    "import scikitplot\n",
    "from scikitplot import metrics as skmetrics\n",
    "import lrcurve\n",
    "from lrcurve import KerasLearningCurve\n",
    "\n",
    "# versions\n",
    "import watermark\n",
    "%load_ext watermark\n",
    "%watermark -a \"Bhishan Poudel\" -d -v -m\n",
    "print()\n",
    "%watermark -iv"
   ]
  },
  {
   "cell_type": "markdown",
   "metadata": {
    "id": "_vArIrIYIRlc"
   },
   "source": [
    "# Important Scripts"
   ]
  },
  {
   "cell_type": "code",
   "execution_count": 4,
   "metadata": {
    "id": "7dmtrcmgzgN1"
   },
   "outputs": [],
   "source": [
    "def set_random_seed(seed):\n",
    "    import os\n",
    "    import random\n",
    "    import numpy as np\n",
    "    import tensorflow as tf\n",
    "    \n",
    "    os.environ['PYTHONHASHSEED']=str(seed)\n",
    "    tf.random.set_seed(seed)\n",
    "    np.random.seed(seed)\n",
    "    random.seed(seed)"
   ]
  },
  {
   "cell_type": "code",
   "execution_count": 5,
   "metadata": {
    "ExecuteTime": {
     "end_time": "2019-11-20T01:11:16.907111Z",
     "start_time": "2019-11-20T01:11:16.896053Z"
    },
    "id": "71Gnb9Z9IT3g"
   },
   "outputs": [],
   "source": [
    "def show_methods(obj, ncols=7,start=None, inside=None):\n",
    "    \"\"\" Show all the attributes of a given method.\n",
    "    Example:\n",
    "    ========\n",
    "    show_method_attributes(list)\n",
    "     \"\"\"\n",
    "\n",
    "    print(f'Object Type: {type(obj)}\\n')\n",
    "    lst = [elem for elem in dir(obj) if elem[0]!='_' ]\n",
    "    lst = [elem for elem in lst \n",
    "           if elem not in 'os np pd sys time psycopg2'.split() ]\n",
    "\n",
    "    if isinstance(start,str):\n",
    "        lst = [elem for elem in lst if elem.startswith(start)]\n",
    "        \n",
    "    if isinstance(start,tuple) or isinstance(start,list):\n",
    "        lst = [elem for elem in lst for start_elem in start\n",
    "               if elem.startswith(start_elem)]\n",
    "        \n",
    "    if isinstance(inside,str):\n",
    "        lst = [elem for elem in lst if inside in elem]\n",
    "        \n",
    "    if isinstance(inside,tuple) or isinstance(inside,list):\n",
    "        lst = [elem for elem in lst for inside_elem in inside\n",
    "               if inside_elem in elem]\n",
    "\n",
    "    return pd.DataFrame(np.array_split(lst,ncols)).T.fillna('')"
   ]
  },
  {
   "cell_type": "code",
   "execution_count": 6,
   "metadata": {
    "ExecuteTime": {
     "end_time": "2019-11-20T01:11:16.913612Z",
     "start_time": "2019-11-20T01:11:16.910072Z"
    },
    "id": "H1JrjcmiK66M"
   },
   "outputs": [],
   "source": [
    "def adjustedR2(rsquared,nrows,kcols):\n",
    "    \"\"\"\n",
    "    Adjusted r-squared depends on number of rows and columns of Test data.\n",
    "\n",
    "    It reduces the value of original r-squared value.\n",
    "    \"\"\"\n",
    "    return rsquared- (kcols-1)/(nrows-kcols) * (1-rsquared)"
   ]
  },
  {
   "cell_type": "code",
   "execution_count": 7,
   "metadata": {
    "id": "homsPPm4LaFC"
   },
   "outputs": [],
   "source": [
    "def get_model(params,metrics,n_feats):\n",
    "\n",
    "    # num of layers\n",
    "    n_layers = len([i for i in list(params.keys()) if i.endswith('_units')])\n",
    "\n",
    "    # layers\n",
    "    model = keras.Sequential(name='Sequential')\n",
    "\n",
    "    # layer 1\n",
    "    model.add(keras.layers.Dense(\n",
    "        params['L1_units'],\n",
    "        activation=params['L1_act'],\n",
    "        kernel_initializer=params['L1_kernel_init'],\n",
    "        input_shape=(n_feats,),\n",
    "        name='Layer_1'\n",
    "        ))\n",
    "    model.add(keras.layers.Dropout(params['L1_dropout'],\n",
    "                                seed=SEED,\n",
    "                                name='Dropout_1'))\n",
    "\n",
    "    # middle layers\n",
    "    for i in range(2,n_layers+1): # 2,3, etc\n",
    "        model.add(keras.layers.Dense(\n",
    "            params[f'L{i}_units'],\n",
    "            activation=params[f'L{i}_act'],\n",
    "            kernel_initializer=params[f'L{i}_kernel_init'],\n",
    "            kernel_regularizer=params[f'L{i}_kernel_reg'],\n",
    "            bias_regularizer=params[f'L{i}_bias_reg'],\n",
    "            name=f'Layer_{i}'),)\n",
    "        model.add(keras.layers.Dropout(\n",
    "            params[f'L{i}_dropout'],\n",
    "            seed=SEED,\n",
    "            name=f\"Dropout_{i}\"))\n",
    "\n",
    "    # last layer is dense 1 with activation sigmoid\n",
    "    model.add(keras.layers.Dense(\n",
    "        1,\n",
    "        activation=None, # activation = None or linear does nothing\n",
    "        name=f'Layer_{n_layers+1}'\n",
    "        ))\n",
    "\n",
    "    #=================================================== compile\n",
    "    model.compile(\n",
    "        optimizer=params['optimizer'],\n",
    "        loss='mse',\n",
    "        metrics=metrics\n",
    "        )\n",
    "\n",
    "    return model"
   ]
  },
  {
   "cell_type": "code",
   "execution_count": 8,
   "metadata": {
    "id": "tE2cQyVLMDBZ"
   },
   "outputs": [],
   "source": [
    "def print_reg_metrics(yt,yp,ncols):\n",
    "    rmse = np.sqrt(sklearn.metrics.mean_squared_error(yt,yp))\n",
    "    r2 = sklearn.metrics.r2_score(yt, yp)\n",
    "    ar2 = adjustedR2(r2, len(yt), ncols)\n",
    "\n",
    "    out = f\"\"\"\n",
    "    RMSE     : {rmse:,.2f}\n",
    "    R-squared: {r2:,.6f}\n",
    "    Adj R2   : {ar2:,.6f}\n",
    "    \"\"\"\n",
    "    print(out)"
   ]
  },
  {
   "cell_type": "code",
   "execution_count": 33,
   "metadata": {
    "id": "yRIuiFiFaQHg"
   },
   "outputs": [],
   "source": [
    "def plot_keras_history(h, metric,figsize=(12,8),ofile=None):\n",
    "    # history\n",
    "    if not isinstance(h,dict):\n",
    "        h = h.history\n",
    "\n",
    "    # prepare plot\n",
    "    fig, axes = plt.subplots(nrows=4, ncols=4, sharex=True,figsize=figsize)\n",
    "\n",
    "    # metric\n",
    "    plt.subplot(211)\n",
    "    plt.plot(h[metric])\n",
    "    plt.plot(h['val_'+metric])\n",
    "    plt.title('Training vs Validation '+ metric.upper())\n",
    "    plt.ylabel(metric)\n",
    "    plt.xlabel('Epoch')\n",
    "    plt.legend(['Train', 'Validation'], loc='upper left')\n",
    "\n",
    "    # loss\n",
    "    plt.subplot(212)\n",
    "    plt.plot(h['loss'])\n",
    "    plt.plot(h['val_loss'])\n",
    "    plt.title('Training vs Validation Loss')\n",
    "    plt.ylabel('Loss')\n",
    "    plt.xlabel('Epoch')\n",
    "    plt.legend(['Train', 'Validation'], loc='upper left')\n",
    "\n",
    "    # save\n",
    "    plt.tight_layout()\n",
    "    plt.savefig(ofile,dpi=300)\n",
    "\n",
    "    # show plot\n",
    "    plt.draw()\n",
    "    plt.show()\n"
   ]
  },
  {
   "cell_type": "markdown",
   "metadata": {
    "id": "nowYhaRC42wV"
   },
   "source": [
    "# Parameters"
   ]
  },
  {
   "cell_type": "code",
   "execution_count": 9,
   "metadata": {
    "colab": {
     "base_uri": "https://localhost:8080/"
    },
    "id": "nQ01XqWz4401",
    "outputId": "1132ce66-ef5c-4492-8f4a-277a4c8a5ff6"
   },
   "outputs": [
    {
     "name": "stdout",
     "output_type": "stream",
     "text": [
      "https://raw.githubusercontent.com/bhishanpdl/Datasets/master/Projects/King_County_Seattle_House_Price_Kaggle/raw/train.csv\n"
     ]
    }
   ],
   "source": [
    "if ENV_COLAB:\n",
    "    path_raw = 'https://raw.githubusercontent.com/bhishanpdl/Datasets/master/'\n",
    "    proj = 'Projects/King_County_Seattle_House_Price_Kaggle/'\n",
    "    data_path_parent = path_raw + proj\n",
    "    data_path_train = data_path_parent + 'raw/train.csv'\n",
    "    data_path_test = data_path_parent + 'raw/test.csv'\n",
    "\n",
    "else:\n",
    "    data_path_parent = '../data/'\n",
    "    data_path_train = data_path_parent + 'raw/train.csv'\n",
    "    data_path_test = data_path_parent + 'raw/test.csv'\n",
    "\n",
    "target = 'price'\n",
    "train_size = 0.8\n",
    "\n",
    "print(data_path_train)"
   ]
  },
  {
   "cell_type": "markdown",
   "metadata": {
    "id": "AopwXJ3B44pv"
   },
   "source": [
    "# Load the data"
   ]
  },
  {
   "cell_type": "code",
   "execution_count": 10,
   "metadata": {
    "ExecuteTime": {
     "end_time": "2019-11-20T01:11:24.582427Z",
     "start_time": "2019-11-20T01:11:22.832361Z"
    },
    "colab": {
     "base_uri": "https://localhost:8080/",
     "height": 295
    },
    "id": "8m7Fw_XU44pw",
    "outputId": "2f344cb0-47f7-4345-f898-6e068ae62cbe"
   },
   "outputs": [
    {
     "name": "stdout",
     "output_type": "stream",
     "text": [
      "(17290, 21)\n",
      "Index(['id', 'date', 'price', 'bedrooms', 'bathrooms', 'sqft_living',\n",
      "       'sqft_lot', 'floors', 'waterfront', 'view', 'condition', 'grade',\n",
      "       'sqft_above', 'sqft_basement', 'yr_built', 'yr_renovated', 'zipcode',\n",
      "       'lat', 'long', 'sqft_living15', 'sqft_lot15'],\n",
      "      dtype='object')\n"
     ]
    },
    {
     "data": {
      "text/html": [
       "<div>\n",
       "<style scoped>\n",
       "    .dataframe tbody tr th:only-of-type {\n",
       "        vertical-align: middle;\n",
       "    }\n",
       "\n",
       "    .dataframe tbody tr th {\n",
       "        vertical-align: top;\n",
       "    }\n",
       "\n",
       "    .dataframe thead th {\n",
       "        text-align: right;\n",
       "    }\n",
       "</style>\n",
       "<table border=\"1\" class=\"dataframe\">\n",
       "  <thead>\n",
       "    <tr style=\"text-align: right;\">\n",
       "      <th></th>\n",
       "      <th>id</th>\n",
       "      <th>date</th>\n",
       "      <th>price</th>\n",
       "      <th>bedrooms</th>\n",
       "      <th>bathrooms</th>\n",
       "      <th>sqft_living</th>\n",
       "      <th>sqft_lot</th>\n",
       "      <th>floors</th>\n",
       "      <th>waterfront</th>\n",
       "      <th>view</th>\n",
       "      <th>condition</th>\n",
       "      <th>grade</th>\n",
       "      <th>sqft_above</th>\n",
       "      <th>sqft_basement</th>\n",
       "      <th>yr_built</th>\n",
       "      <th>yr_renovated</th>\n",
       "      <th>zipcode</th>\n",
       "      <th>lat</th>\n",
       "      <th>long</th>\n",
       "      <th>sqft_living15</th>\n",
       "      <th>sqft_lot15</th>\n",
       "    </tr>\n",
       "  </thead>\n",
       "  <tbody>\n",
       "    <tr>\n",
       "      <th>0</th>\n",
       "      <td>2561340020</td>\n",
       "      <td>20140804T000000</td>\n",
       "      <td>325000.0</td>\n",
       "      <td>3</td>\n",
       "      <td>1.75</td>\n",
       "      <td>1780</td>\n",
       "      <td>11096</td>\n",
       "      <td>1.0</td>\n",
       "      <td>0</td>\n",
       "      <td>0</td>\n",
       "      <td>3</td>\n",
       "      <td>7</td>\n",
       "      <td>1210</td>\n",
       "      <td>570</td>\n",
       "      <td>1979</td>\n",
       "      <td>0</td>\n",
       "      <td>98074</td>\n",
       "      <td>47.6170</td>\n",
       "      <td>-122.051</td>\n",
       "      <td>1780</td>\n",
       "      <td>10640</td>\n",
       "    </tr>\n",
       "    <tr>\n",
       "      <th>1</th>\n",
       "      <td>8598200070</td>\n",
       "      <td>20141208T000000</td>\n",
       "      <td>278000.0</td>\n",
       "      <td>2</td>\n",
       "      <td>2.50</td>\n",
       "      <td>1420</td>\n",
       "      <td>2229</td>\n",
       "      <td>2.0</td>\n",
       "      <td>0</td>\n",
       "      <td>0</td>\n",
       "      <td>3</td>\n",
       "      <td>7</td>\n",
       "      <td>1420</td>\n",
       "      <td>0</td>\n",
       "      <td>2004</td>\n",
       "      <td>0</td>\n",
       "      <td>98059</td>\n",
       "      <td>47.4871</td>\n",
       "      <td>-122.165</td>\n",
       "      <td>1500</td>\n",
       "      <td>2230</td>\n",
       "    </tr>\n",
       "    <tr>\n",
       "      <th>17288</th>\n",
       "      <td>7174800760</td>\n",
       "      <td>20140725T000000</td>\n",
       "      <td>667000.0</td>\n",
       "      <td>5</td>\n",
       "      <td>2.00</td>\n",
       "      <td>1900</td>\n",
       "      <td>5470</td>\n",
       "      <td>1.0</td>\n",
       "      <td>0</td>\n",
       "      <td>0</td>\n",
       "      <td>3</td>\n",
       "      <td>7</td>\n",
       "      <td>1180</td>\n",
       "      <td>720</td>\n",
       "      <td>1930</td>\n",
       "      <td>1965</td>\n",
       "      <td>98105</td>\n",
       "      <td>47.6666</td>\n",
       "      <td>-122.303</td>\n",
       "      <td>1300</td>\n",
       "      <td>3250</td>\n",
       "    </tr>\n",
       "    <tr>\n",
       "      <th>17289</th>\n",
       "      <td>9521100280</td>\n",
       "      <td>20140612T000000</td>\n",
       "      <td>480000.0</td>\n",
       "      <td>3</td>\n",
       "      <td>2.50</td>\n",
       "      <td>1250</td>\n",
       "      <td>1103</td>\n",
       "      <td>3.0</td>\n",
       "      <td>0</td>\n",
       "      <td>2</td>\n",
       "      <td>3</td>\n",
       "      <td>8</td>\n",
       "      <td>1250</td>\n",
       "      <td>0</td>\n",
       "      <td>2005</td>\n",
       "      <td>0</td>\n",
       "      <td>98103</td>\n",
       "      <td>47.6619</td>\n",
       "      <td>-122.352</td>\n",
       "      <td>1250</td>\n",
       "      <td>1188</td>\n",
       "    </tr>\n",
       "  </tbody>\n",
       "</table>\n",
       "</div>"
      ],
      "text/plain": [
       "               id             date  ...  sqft_living15  sqft_lot15\n",
       "0      2561340020  20140804T000000  ...           1780       10640\n",
       "1      8598200070  20141208T000000  ...           1500        2230\n",
       "17288  7174800760  20140725T000000  ...           1300        3250\n",
       "17289  9521100280  20140612T000000  ...           1250        1188\n",
       "\n",
       "[4 rows x 21 columns]"
      ]
     },
     "metadata": {
      "tags": []
     },
     "output_type": "display_data"
    }
   ],
   "source": [
    "df_train_raw = pd.read_csv(data_path_train)\n",
    "df_test_raw = pd.read_csv(data_path_test)\n",
    "print(df_train_raw.shape)\n",
    "print(df_train_raw.columns)\n",
    "\n",
    "display(df_train_raw.head(2).append(df_train_raw.tail(2)))"
   ]
  },
  {
   "cell_type": "markdown",
   "metadata": {
    "id": "eLx1X3GE25bn"
   },
   "source": [
    "# Data Processing"
   ]
  },
  {
   "cell_type": "code",
   "execution_count": 11,
   "metadata": {
    "id": "ff03vmzK355w"
   },
   "outputs": [],
   "source": [
    "def clean_data(df):\n",
    "    df = df.copy()\n",
    "\n",
    "    # Date time features\n",
    "    df['date'] = pd.to_datetime(df['date'])\n",
    "    df['yr_sales'] = df['date'].dt.year\n",
    "    df['age'] = df['yr_sales'] - df['yr_built']\n",
    "    df['yr_renovated2'] = np.where(df['yr_renovated'].eq(0), df['yr_built'],\n",
    "                                   df['yr_renovated'])\n",
    "    df['age_after_renovation'] = df['yr_sales'] - df['yr_renovated2']\n",
    "\n",
    "    # Boolean data types\n",
    "    df['basement_bool'] = df['sqft_basement'].apply(lambda x: 1 if x>0 else 0)\n",
    "    df['renovation_bool'] = df['yr_renovated'].apply(lambda x: 1 if x>0 else 0)\n",
    "\n",
    "    # Log transformation of large numerical values\n",
    "    cols_log = ['sqft_living', 'sqft_lot', 'sqft_above',\n",
    "                'sqft_basement', 'sqft_living15', 'sqft_lot15']\n",
    "\n",
    "    for col in cols_log:\n",
    "        df['log1p_' + col] = np.log1p(df[col])\n",
    "\n",
    "    # Drop unwanted columns\n",
    "    cols_drop = ['id','date']\n",
    "    df = df.drop(cols_drop,axis=1)\n",
    "\n",
    "    return df"
   ]
  },
  {
   "cell_type": "code",
   "execution_count": 12,
   "metadata": {
    "id": "UqaKb4cUtlU6"
   },
   "outputs": [],
   "source": [
    "df_train = clean_data(df_train_raw)\n",
    "df_test = clean_data(df_test_raw)"
   ]
  },
  {
   "cell_type": "markdown",
   "metadata": {
    "id": "2tDRlv0JtlXt"
   },
   "source": [
    "# Train Test Split"
   ]
  },
  {
   "cell_type": "code",
   "execution_count": 13,
   "metadata": {
    "id": "OL_aZSiZtlbr"
   },
   "outputs": [],
   "source": [
    "# choose features to train, we can change it later\n",
    "features = list(sorted(df_train.columns.drop(target)))\n",
    "# print(np.array(features))"
   ]
  },
  {
   "cell_type": "code",
   "execution_count": 14,
   "metadata": {
    "id": "eEc4kxKwt0Np"
   },
   "outputs": [],
   "source": [
    "features = [i for i in features if i in df_test.columns if i in df_train.columns]\n",
    "# print(np.array(sorted(features)))"
   ]
  },
  {
   "cell_type": "code",
   "execution_count": 15,
   "metadata": {
    "id": "q6mSTB3Nt0Q3"
   },
   "outputs": [],
   "source": [
    "df_Xtrain  = df_train[features]\n",
    "ser_ytrain = df_train[target]\n",
    "\n",
    "df_Xtest  = df_test[features]\n",
    "ser_ytest = df_test[target]\n",
    "\n",
    "ytrain = np.array(ser_ytrain).flatten()\n",
    "ytest  = np.array(ser_ytest).flatten()"
   ]
  },
  {
   "cell_type": "markdown",
   "metadata": {
    "id": "7bFVwFbqt0Uk"
   },
   "source": [
    "# Scaling"
   ]
  },
  {
   "cell_type": "code",
   "execution_count": 16,
   "metadata": {
    "colab": {
     "base_uri": "https://localhost:8080/",
     "height": 131
    },
    "id": "OIogM73Bt7NU",
    "outputId": "cad2f6e3-0c44-4fec-8743-313ea9baf928"
   },
   "outputs": [
    {
     "data": {
      "text/html": [
       "<div>\n",
       "<style scoped>\n",
       "    .dataframe tbody tr th:only-of-type {\n",
       "        vertical-align: middle;\n",
       "    }\n",
       "\n",
       "    .dataframe tbody tr th {\n",
       "        vertical-align: top;\n",
       "    }\n",
       "\n",
       "    .dataframe thead th {\n",
       "        text-align: right;\n",
       "    }\n",
       "</style>\n",
       "<table border=\"1\" class=\"dataframe\">\n",
       "  <thead>\n",
       "    <tr style=\"text-align: right;\">\n",
       "      <th></th>\n",
       "      <th>age</th>\n",
       "      <th>age_after_renovation</th>\n",
       "      <th>basement_bool</th>\n",
       "      <th>bathrooms</th>\n",
       "      <th>bedrooms</th>\n",
       "      <th>condition</th>\n",
       "      <th>floors</th>\n",
       "      <th>grade</th>\n",
       "      <th>lat</th>\n",
       "      <th>log1p_sqft_above</th>\n",
       "      <th>log1p_sqft_basement</th>\n",
       "      <th>log1p_sqft_living</th>\n",
       "      <th>log1p_sqft_living15</th>\n",
       "      <th>log1p_sqft_lot</th>\n",
       "      <th>log1p_sqft_lot15</th>\n",
       "      <th>long</th>\n",
       "      <th>renovation_bool</th>\n",
       "      <th>sqft_above</th>\n",
       "      <th>sqft_basement</th>\n",
       "      <th>sqft_living</th>\n",
       "      <th>sqft_living15</th>\n",
       "      <th>sqft_lot</th>\n",
       "      <th>sqft_lot15</th>\n",
       "      <th>view</th>\n",
       "      <th>waterfront</th>\n",
       "      <th>yr_built</th>\n",
       "      <th>yr_renovated</th>\n",
       "      <th>yr_renovated2</th>\n",
       "      <th>yr_sales</th>\n",
       "      <th>zipcode</th>\n",
       "    </tr>\n",
       "  </thead>\n",
       "  <tbody>\n",
       "    <tr>\n",
       "      <th>0</th>\n",
       "      <td>35</td>\n",
       "      <td>35</td>\n",
       "      <td>1</td>\n",
       "      <td>1.75</td>\n",
       "      <td>3</td>\n",
       "      <td>3</td>\n",
       "      <td>1.0</td>\n",
       "      <td>7</td>\n",
       "      <td>47.6170</td>\n",
       "      <td>7.099202</td>\n",
       "      <td>6.347389</td>\n",
       "      <td>7.484930</td>\n",
       "      <td>7.484930</td>\n",
       "      <td>9.314430</td>\n",
       "      <td>9.272470</td>\n",
       "      <td>-122.051</td>\n",
       "      <td>0</td>\n",
       "      <td>1210</td>\n",
       "      <td>570</td>\n",
       "      <td>1780</td>\n",
       "      <td>1780</td>\n",
       "      <td>11096</td>\n",
       "      <td>10640</td>\n",
       "      <td>0</td>\n",
       "      <td>0</td>\n",
       "      <td>1979</td>\n",
       "      <td>0</td>\n",
       "      <td>1979</td>\n",
       "      <td>2014</td>\n",
       "      <td>98074</td>\n",
       "    </tr>\n",
       "    <tr>\n",
       "      <th>1</th>\n",
       "      <td>10</td>\n",
       "      <td>10</td>\n",
       "      <td>0</td>\n",
       "      <td>2.50</td>\n",
       "      <td>2</td>\n",
       "      <td>3</td>\n",
       "      <td>2.0</td>\n",
       "      <td>7</td>\n",
       "      <td>47.4871</td>\n",
       "      <td>7.259116</td>\n",
       "      <td>0.000000</td>\n",
       "      <td>7.259116</td>\n",
       "      <td>7.313887</td>\n",
       "      <td>7.709757</td>\n",
       "      <td>7.710205</td>\n",
       "      <td>-122.165</td>\n",
       "      <td>0</td>\n",
       "      <td>1420</td>\n",
       "      <td>0</td>\n",
       "      <td>1420</td>\n",
       "      <td>1500</td>\n",
       "      <td>2229</td>\n",
       "      <td>2230</td>\n",
       "      <td>0</td>\n",
       "      <td>0</td>\n",
       "      <td>2004</td>\n",
       "      <td>0</td>\n",
       "      <td>2004</td>\n",
       "      <td>2014</td>\n",
       "      <td>98059</td>\n",
       "    </tr>\n",
       "  </tbody>\n",
       "</table>\n",
       "</div>"
      ],
      "text/plain": [
       "   age  age_after_renovation  basement_bool  ...  yr_renovated2  yr_sales  zipcode\n",
       "0   35                    35              1  ...           1979      2014    98074\n",
       "1   10                    10              0  ...           2004      2014    98059\n",
       "\n",
       "[2 rows x 30 columns]"
      ]
     },
     "execution_count": 16,
     "metadata": {
      "tags": []
     },
     "output_type": "execute_result"
    }
   ],
   "source": [
    "scaling = 'standard'\n",
    "if scaling == 'standard':\n",
    "    scaler = preprocessing.StandardScaler()\n",
    "    scaler.fit(df_Xtrain)\n",
    "    Xtrain = scaler.transform(df_Xtrain)\n",
    "    Xtest =  scaler.transform(df_Xtest)\n",
    "elif scaling == 'minmax':\n",
    "    scaler = preprocessing.MinMaxScaler()\n",
    "    scaler.fit(df_Xtrain)\n",
    "    Xtrain = scaler.transform(df_Xtrain)\n",
    "    Xtest = scaler.transform(df_Xtest)\n",
    "\n",
    "df_Xtrain.head(2)"
   ]
  },
  {
   "cell_type": "markdown",
   "metadata": {
    "id": "AyU1J3F6twyN"
   },
   "source": [
    "# Fitting"
   ]
  },
  {
   "cell_type": "code",
   "execution_count": 17,
   "metadata": {
    "colab": {
     "base_uri": "https://localhost:8080/"
    },
    "id": "LdODypa1P8S5",
    "outputId": "4d406e5e-1ea8-4d24-93f8-f982f771f814"
   },
   "outputs": [
    {
     "name": "stdout",
     "output_type": "stream",
     "text": [
      "Model: \"Sequential\"\n",
      "_________________________________________________________________\n",
      "Layer (type)                 Output Shape              Param #   \n",
      "=================================================================\n",
      "Layer_1 (Dense)              (None, 80)                2480      \n",
      "_________________________________________________________________\n",
      "Dropout_1 (Dropout)          (None, 80)                0         \n",
      "_________________________________________________________________\n",
      "Layer_2 (Dense)              (None, 120)               9720      \n",
      "_________________________________________________________________\n",
      "Dropout_2 (Dropout)          (None, 120)               0         \n",
      "_________________________________________________________________\n",
      "Layer_3 (Dense)              (None, 20)                2420      \n",
      "_________________________________________________________________\n",
      "Dropout_3 (Dropout)          (None, 20)                0         \n",
      "_________________________________________________________________\n",
      "Layer_4 (Dense)              (None, 10)                210       \n",
      "_________________________________________________________________\n",
      "Dropout_4 (Dropout)          (None, 10)                0         \n",
      "_________________________________________________________________\n",
      "Layer_5 (Dense)              (None, 1)                 11        \n",
      "=================================================================\n",
      "Total params: 14,841\n",
      "Trainable params: 14,841\n",
      "Non-trainable params: 0\n",
      "_________________________________________________________________\n",
      "None\n",
      "\n",
      "    RMSE     : 132,876.95\n",
      "    R-squared: 0.868989\n",
      "    Adj R2   : 0.868104\n",
      "    \n"
     ]
    }
   ],
   "source": [
    "n_feats = len(features)\n",
    "#===============================================================================\n",
    "PARAMS_MODEL = {\n",
    "    # first layer\n",
    "    'L1_units'      : 80,\n",
    "    'L1_act'        : 'tanh',\n",
    "    'L1_kernel_init': 'normal',\n",
    "    'L1_kernel_reg' : None,\n",
    "    'L1_bias_reg'   : None,\n",
    "    'L1_dropout'    : 0.2,\n",
    "\n",
    "    # layer 2\n",
    "    'L2_units'      : 120,\n",
    "    'L2_act'        : 'relu',\n",
    "    'L2_kernel_init': 'normal',\n",
    "    'L2_kernel_reg' : keras.regularizers.l1(0.01),\n",
    "    'L2_bias_reg'   : keras.regularizers.l1(0.01),\n",
    "    'L2_dropout'    : 0.1,\n",
    "\n",
    "    # layer 3\n",
    "    'L3_units'      : 20,\n",
    "    'L3_act'        : 'relu',\n",
    "    'L3_kernel_init': 'normal',\n",
    "    'L3_kernel_reg' : keras.regularizers.l1_l2(0.01),\n",
    "    'L3_bias_reg'   : keras.regularizers.l1_l2(0.01),\n",
    "    'L3_dropout'    : 0.1,\n",
    "\n",
    "    # layer 4\n",
    "    'L4_units'      : 10,\n",
    "    'L4_act'        : 'relu',\n",
    "    'L4_kernel_init': 'normal',\n",
    "    'L4_kernel_reg' : None,\n",
    "    'L4_bias_reg'   : None,\n",
    "    'L4_dropout'    : 0.0,\n",
    "\n",
    "    # NOTE: last layer is defined in model definition.\n",
    "\n",
    "    # optimizer\n",
    "    'optimizer': keras.optimizers.Nadam(learning_rate=0.001,\n",
    "                                       beta_1=0.9,\n",
    "                                       beta_2=0.999,\n",
    "                                       epsilon=1e-07,\n",
    "                                       name=\"Nadam\"),\n",
    "}\n",
    "\n",
    "#===============================================================================\n",
    "METRICS = ['mae' ] # for regression val_mae gave better than val_mse\n",
    "\n",
    "#===============================================================================\n",
    "PARAMS_FIT = {'epochs': 500,\n",
    "          'batch_size': 128,\n",
    "          'patience': 20,\n",
    "          'shuffle': True,\n",
    "          'validation_split': 0.2\n",
    "          }\n",
    "\n",
    "#===============================================================================\n",
    "# callbacks\n",
    "cb_early = tf.keras.callbacks.EarlyStopping(\n",
    "    monitor='val_mae', # val_auc for classification \n",
    "    patience=PARAMS_FIT['patience'],\n",
    "    verbose=0\n",
    ")\n",
    "\n",
    "# cb_checkpt = keras.callbacks.ModelCheckpoint(\"model_at_epoch_{epoch}.h5\")\n",
    "cb_lr = lrcurve.KerasLearningCurve()\n",
    "callbacks = [cb_lr]\n",
    "#===============================================================================\n",
    "\n",
    "model = get_model(PARAMS_MODEL,METRICS,n_feats)\n",
    "print(model.summary())\n",
    "history = model.fit(\n",
    "    Xtrain,\n",
    "    ytrain,\n",
    "    batch_size=PARAMS_FIT['batch_size'],\n",
    "    epochs=PARAMS_FIT['epochs'],\n",
    "    verbose=0,\n",
    "    callbacks=[cb_early],\n",
    "    validation_split = PARAMS_FIT['validation_split'],\n",
    ")\n",
    "\n",
    "ypreds = model.predict(Xtest).flatten()\n",
    "print_reg_metrics(ytest,ypreds,Xtest.shape[1])"
   ]
  },
  {
   "cell_type": "code",
   "execution_count": 31,
   "metadata": {
    "colab": {
     "base_uri": "https://localhost:8080/",
     "height": 568
    },
    "id": "HmK76_x0Y8M9",
    "outputId": "38f78994-fd2d-4a8a-e2be-fdb5e7064a91"
   },
   "outputs": [
    {
     "data": {
      "image/png": "[encoded data removed]",
      "text/plain": [
       "<Figure size 864x576 with 2 Axes>"
      ]
     },
     "metadata": {
      "needs_background": "light",
      "tags": []
     },
     "output_type": "display_data"
    }
   ],
   "source": [
    "plot_keras_history(history,'mae')"
   ]
  },
  {
   "cell_type": "code",
   "execution_count": null,
   "metadata": {
    "id": "dxVNNtzWZWjz"
   },
   "outputs": [],
   "source": []
  }
 ],
 "metadata": {
  "colab": {
   "collapsed_sections": [],
   "name": "p01_keras_house_price.ipynb",
   "provenance": []
  },
  "kernelspec": {
   "display_name": "Python (dataSc)",
   "language": "python",
   "name": "datasc"
  },
  "language_info": {
   "codemirror_mode": {
    "name": "ipython",
    "version": 3
   },
   "file_extension": ".py",
   "mimetype": "text/x-python",
   "name": "python",
   "nbconvert_exporter": "python",
   "pygments_lexer": "ipython3",
   "version": "3.7.7"
  },
  "toc": {
   "base_numbering": 1,
   "nav_menu": {},
   "number_sections": true,
   "sideBar": true,
   "skip_h1_title": false,
   "title_cell": "Table of Contents",
   "title_sidebar": "Contents",
   "toc_cell": true,
   "toc_position": {},
   "toc_section_display": true,
   "toc_window_display": true
  }
 },
 "nbformat": 4,
 "nbformat_minor": 1
}
