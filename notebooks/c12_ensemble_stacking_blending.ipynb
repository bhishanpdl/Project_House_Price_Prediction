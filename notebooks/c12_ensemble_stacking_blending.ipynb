{
 "cells": [
  {
   "cell_type": "markdown",
   "metadata": {
    "colab_type": "text",
    "id": "GiL_bkC6QrYc"
   },
   "source": [
    "<h1>Table of Contents<span class=\"tocSkip\"></span></h1>\n",
    "<div class=\"toc\"><ul class=\"toc-item\"><li><span><a href=\"#Data-Description\" data-toc-modified-id=\"Data-Description-1\"><span class=\"toc-item-num\">1&nbsp;&nbsp;</span>Data Description</a></span></li><li><span><a href=\"#Business-Problem\" data-toc-modified-id=\"Business-Problem-2\"><span class=\"toc-item-num\">2&nbsp;&nbsp;</span>Business Problem</a></span></li><li><span><a href=\"#Introduction-to-Pycaret\" data-toc-modified-id=\"Introduction-to-Pycaret-3\"><span class=\"toc-item-num\">3&nbsp;&nbsp;</span>Introduction to Pycaret</a></span></li><li><span><a href=\"#Imports\" data-toc-modified-id=\"Imports-4\"><span class=\"toc-item-num\">4&nbsp;&nbsp;</span>Imports</a></span></li><li><span><a href=\"#Useful-Functions\" data-toc-modified-id=\"Useful-Functions-5\"><span class=\"toc-item-num\">5&nbsp;&nbsp;</span>Useful Functions</a></span></li><li><span><a href=\"#Load-the-data\" data-toc-modified-id=\"Load-the-data-6\"><span class=\"toc-item-num\">6&nbsp;&nbsp;</span>Load the data</a></span></li><li><span><a href=\"#Train-test-split-with-stratify\" data-toc-modified-id=\"Train-test-split-with-stratify-7\"><span class=\"toc-item-num\">7&nbsp;&nbsp;</span>Train test split with stratify</a></span></li><li><span><a href=\"#Pycaret-Setup\" data-toc-modified-id=\"Pycaret-Setup-8\"><span class=\"toc-item-num\">8&nbsp;&nbsp;</span>Pycaret Setup</a></span></li><li><span><a href=\"#Comparing-All-Models\" data-toc-modified-id=\"Comparing-All-Models-9\"><span class=\"toc-item-num\">9&nbsp;&nbsp;</span>Comparing All Models</a></span></li><li><span><a href=\"#Create-Models\" data-toc-modified-id=\"Create-Models-10\"><span class=\"toc-item-num\">10&nbsp;&nbsp;</span>Create Models</a></span></li><li><span><a href=\"#Hyperparameter-Tuning\" data-toc-modified-id=\"Hyperparameter-Tuning-11\"><span class=\"toc-item-num\">11&nbsp;&nbsp;</span>Hyperparameter Tuning</a></span></li><li><span><a href=\"#Further-tuning\" data-toc-modified-id=\"Further-tuning-12\"><span class=\"toc-item-num\">12&nbsp;&nbsp;</span>Further tuning</a></span></li><li><span><a href=\"#Model-Evaluation\" data-toc-modified-id=\"Model-Evaluation-13\"><span class=\"toc-item-num\">13&nbsp;&nbsp;</span>Model Evaluation</a></span></li><li><span><a href=\"#Ensemble--Modelling\" data-toc-modified-id=\"Ensemble--Modelling-14\"><span class=\"toc-item-num\">14&nbsp;&nbsp;</span>Ensemble  Modelling</a></span><ul class=\"toc-item\"><li><span><a href=\"#Bagging\" data-toc-modified-id=\"Bagging-14.1\"><span class=\"toc-item-num\">14.1&nbsp;&nbsp;</span>Bagging</a></span></li><li><span><a href=\"#Boosting\" data-toc-modified-id=\"Boosting-14.2\"><span class=\"toc-item-num\">14.2&nbsp;&nbsp;</span>Boosting</a></span></li><li><span><a href=\"#Blending\" data-toc-modified-id=\"Blending-14.3\"><span class=\"toc-item-num\">14.3&nbsp;&nbsp;</span>Blending</a></span></li><li><span><a href=\"#Stacking\" data-toc-modified-id=\"Stacking-14.4\"><span class=\"toc-item-num\">14.4&nbsp;&nbsp;</span>Stacking</a></span></li></ul></li><li><span><a href=\"#Model-Calibration\" data-toc-modified-id=\"Model-Calibration-15\"><span class=\"toc-item-num\">15&nbsp;&nbsp;</span>Model Calibration</a></span></li><li><span><a href=\"#Model-Interpretation\" data-toc-modified-id=\"Model-Interpretation-16\"><span class=\"toc-item-num\">16&nbsp;&nbsp;</span>Model Interpretation</a></span></li><li><span><a href=\"#Model-Predictions\" data-toc-modified-id=\"Model-Predictions-17\"><span class=\"toc-item-num\">17&nbsp;&nbsp;</span>Model Predictions</a></span></li><li><span><a href=\"#Model-Persistence\" data-toc-modified-id=\"Model-Persistence-18\"><span class=\"toc-item-num\">18&nbsp;&nbsp;</span>Model Persistence</a></span></li><li><span><a href=\"#Time-taken\" data-toc-modified-id=\"Time-taken-19\"><span class=\"toc-item-num\">19&nbsp;&nbsp;</span>Time taken</a></span></li></ul></div>"
   ]
  },
  {
   "cell_type": "markdown",
   "metadata": {
    "colab_type": "text",
    "id": "aF0vfOSoRKbV"
   },
   "source": [
    "<div class=\"alert alert-block alert-success\">\n",
    "<b>Kernel Author:</b>  <br>\n",
    "<a href=\"https://bhishanpdl.github.io/\" , target=\"_blank\">Bhishan Poudel,  Data Scientist, Ph.D Astrophysics</a> .\n",
    "</div>"
   ]
  },
  {
   "cell_type": "markdown",
   "metadata": {
    "colab_type": "text",
    "id": "ZrcXZt_lRUTH"
   },
   "source": [
    "# Data Description\n",
    "\n",
    "This dataset contains house sale prices for King County, which includes Seattle. It includes homes sold between May 2014 and May 2015.\n",
    "\n",
    "```\n",
    "Dependent features: 1 (price)\n",
    "Features : 19 home features\n",
    "Id: 1 house ID\n",
    "Task: Estimate the price based on given features.\n",
    "```"
   ]
  },
  {
   "cell_type": "markdown",
   "metadata": {
    "colab_type": "text",
    "id": "Z46Gwfc3Rcwk"
   },
   "source": [
    "# Business Problem\n",
    "\n",
    "<div class=\"alert alert-block alert-success\">\n",
    "<b>Business Problem:</b>  <br>\n",
    "Task &nbsp;&nbsp; : Predict the house price based on King County Seattle House price data. <br>\n",
    "Metric : RMSE <br>\n",
    "General Model: SVR, Ridge, Random Forest <br>\n",
    "Boosting: Gradient Boosting, xgb, lgb\n",
    "Tools: Stakcing multiple regressors to train and blending them to predit<br>\n",
    "Question: What is the price of new house?\n",
    "</div>"
   ]
  },
  {
   "cell_type": "markdown",
   "metadata": {
    "colab_type": "text",
    "id": "8vuUeq0iRjZn"
   },
   "source": [
    "# Imports"
   ]
  },
  {
   "cell_type": "code",
   "execution_count": null,
   "metadata": {
    "colab": {},
    "colab_type": "code",
    "id": "Zv0HTLcCRdfB"
   },
   "outputs": [],
   "source": [
    "import time\n",
    "\n",
    "time_start_notebook = time.time()"
   ]
  },
  {
   "cell_type": "code",
   "execution_count": null,
   "metadata": {
    "colab": {
     "base_uri": "https://localhost:8080/",
     "height": 143
    },
    "colab_type": "code",
    "id": "6fLyC776RmGc",
    "outputId": "c401b950-f3a3-4b69-b353-60542a3cc3bd"
   },
   "outputs": [
    {
     "name": "stderr",
     "output_type": "stream",
     "text": [
      "/usr/local/lib/python3.6/dist-packages/statsmodels/tools/_testing.py:19: FutureWarning: pandas.util.testing is deprecated. Use the functions in the public API at pandas.testing instead.\n",
      "  import pandas.util.testing as tm\n"
     ]
    },
    {
     "data": {
      "text/plain": [
       "[('numpy', '1.18.5'),\n",
       " ('pandas', '1.0.5'),\n",
       " ('seaborn', '0.10.1'),\n",
       " ('sklearn', '0.22.2.post1')]"
      ]
     },
     "execution_count": 2,
     "metadata": {
      "tags": []
     },
     "output_type": "execute_result"
    }
   ],
   "source": [
    "import numpy as np\n",
    "import pandas as pd\n",
    "import seaborn as sns\n",
    "import os\n",
    "from pathlib import Path\n",
    "\n",
    "from tqdm import tqdm_notebook as tqdm\n",
    "import matplotlib.pyplot as plt\n",
    "import sklearn\n",
    "from sklearn import metrics\n",
    "\n",
    "%matplotlib inline\n",
    "%config InlineBackend.figure_format = 'retina'\n",
    "plt.style.use('ggplot') \n",
    "\n",
    "# random state\n",
    "SEED=100\n",
    "\n",
    "home = os.path.expanduser('~')\n",
    "\n",
    "[(x.__name__,x.__version__) for x in [np,pd,sns,sklearn]]"
   ]
  },
  {
   "cell_type": "code",
   "execution_count": null,
   "metadata": {
    "colab": {},
    "colab_type": "code",
    "id": "scVctCs7HnQo"
   },
   "outputs": [],
   "source": [
    "# Models\n",
    "from sklearn.linear_model import Ridge, RidgeCV\n",
    "from sklearn.linear_model import ElasticNet, ElasticNetCV\n",
    "from sklearn.svm import SVR\n",
    "from sklearn.kernel_ridge import KernelRidge\n",
    "from sklearn.experimental import enable_hist_gradient_boosting  # noqa\n",
    "from sklearn.ensemble import HistGradientBoostingClassifier\n",
    "from sklearn.ensemble import (RandomForestRegressor,\n",
    "                              GradientBoostingRegressor,\n",
    "                              AdaBoostRegressor,\n",
    "                              BaggingRegressor)"
   ]
  },
  {
   "cell_type": "code",
   "execution_count": null,
   "metadata": {
    "colab": {},
    "colab_type": "code",
    "id": "GTDXdR3XIQFw"
   },
   "outputs": [],
   "source": [
    "# Stacking\n",
    "from mlxtend.regressor import StackingCVRegressor"
   ]
  },
  {
   "cell_type": "code",
   "execution_count": null,
   "metadata": {
    "colab": {},
    "colab_type": "code",
    "id": "r26IHy-pILI5"
   },
   "outputs": [],
   "source": [
    "# Boosting\n",
    "import lightgbm as lgb\n",
    "from lightgbm import LGBMRegressor\n",
    "from xgboost import XGBRegressor"
   ]
  },
  {
   "cell_type": "code",
   "execution_count": null,
   "metadata": {
    "colab": {},
    "colab_type": "code",
    "id": "hBi8r-m4H6l1"
   },
   "outputs": [],
   "source": [
    "# Stats\n",
    "from scipy.stats import skew, norm\n",
    "from scipy.special import boxcox1p\n",
    "from scipy.stats import boxcox_normmax"
   ]
  },
  {
   "cell_type": "code",
   "execution_count": null,
   "metadata": {
    "colab": {},
    "colab_type": "code",
    "id": "ARp2CBmuIAd_"
   },
   "outputs": [],
   "source": [
    "# Model Training\n",
    "from sklearn.model_selection import GridSearchCV\n",
    "from sklearn.model_selection import KFold, cross_val_score\n",
    "from sklearn.metrics import mean_squared_error\n",
    "from sklearn.preprocessing import OneHotEncoder\n",
    "from sklearn.preprocessing import LabelEncoder\n",
    "from sklearn.pipeline import make_pipeline\n",
    "from sklearn.preprocessing import scale\n",
    "from sklearn.preprocessing import StandardScaler\n",
    "from sklearn.preprocessing import RobustScaler\n",
    "from sklearn.decomposition import PCA"
   ]
  },
  {
   "cell_type": "code",
   "execution_count": null,
   "metadata": {
    "colab": {
     "base_uri": "https://localhost:8080/",
     "height": 52
    },
    "colab_type": "code",
    "id": "c4omENGYRoW5",
    "outputId": "585e5cc6-49ab-406a-d369-f18d58814f81"
   },
   "outputs": [
    {
     "name": "stdout",
     "output_type": "stream",
     "text": [
      "Environment: Google Colab\n",
      "gpu_hist\n"
     ]
    }
   ],
   "source": [
    "import sys\n",
    "ENV_COLAB = 'google.colab' in sys.modules\n",
    "\n",
    "if ENV_COLAB:\n",
    "    print('Environment: Google Colab')\n",
    "\n",
    "\n",
    "TREE_METHOD = 'gpu_hist' if 'google.colab' in sys.modules else 'auto'\n",
    "print(TREE_METHOD)"
   ]
  },
  {
   "cell_type": "code",
   "execution_count": null,
   "metadata": {
    "colab": {
     "base_uri": "https://localhost:8080/",
     "height": 372
    },
    "colab_type": "code",
    "id": "tK5thQ89qfcL",
    "outputId": "1eb894eb-57f1-483e-bcb8-b76f3bdf7a9a"
   },
   "outputs": [
    {
     "name": "stdout",
     "output_type": "stream",
     "text": [
      "Sun Sep 20 13:18:17 2020       \n",
      "+-----------------------------------------------------------------------------+\n",
      "| NVIDIA-SMI 450.66       Driver Version: 418.67       CUDA Version: 10.1     |\n",
      "|-------------------------------+----------------------+----------------------+\n",
      "| GPU  Name        Persistence-M| Bus-Id        Disp.A | Volatile Uncorr. ECC |\n",
      "| Fan  Temp  Perf  Pwr:Usage/Cap|         Memory-Usage | GPU-Util  Compute M. |\n",
      "|                               |                      |               MIG M. |\n",
      "|===============================+======================+======================|\n",
      "|   0  Tesla K80           Off  | 00000000:00:04.0 Off |                    0 |\n",
      "| N/A   64C    P8    32W / 149W |      0MiB / 11441MiB |      0%      Default |\n",
      "|                               |                      |                 ERR! |\n",
      "+-------------------------------+----------------------+----------------------+\n",
      "                                                                               \n",
      "+-----------------------------------------------------------------------------+\n",
      "| Processes:                                                                  |\n",
      "|  GPU   GI   CI        PID   Type   Process name                  GPU Memory |\n",
      "|        ID   ID                                                   Usage      |\n",
      "|=============================================================================|\n",
      "|  No running processes found                                                 |\n",
      "+-----------------------------------------------------------------------------+\n"
     ]
    }
   ],
   "source": [
    "!nvidia-smi"
   ]
  },
  {
   "cell_type": "markdown",
   "metadata": {
    "colab_type": "text",
    "id": "b2I2KshNSGUi"
   },
   "source": [
    "# Load the data"
   ]
  },
  {
   "cell_type": "code",
   "execution_count": null,
   "metadata": {
    "colab": {
     "base_uri": "https://localhost:8080/",
     "height": 331
    },
    "colab_type": "code",
    "id": "KjmdL7RRSD1r",
    "outputId": "3278ef4d-9b3b-48f3-aeb5-d482ab677ca9"
   },
   "outputs": [
    {
     "name": "stdout",
     "output_type": "stream",
     "text": [
      "(21613, 92)\n"
     ]
    },
    {
     "data": {
      "text/html": [
       "<div>\n",
       "<style scoped>\n",
       "    .dataframe tbody tr th:only-of-type {\n",
       "        vertical-align: middle;\n",
       "    }\n",
       "\n",
       "    .dataframe tbody tr th {\n",
       "        vertical-align: top;\n",
       "    }\n",
       "\n",
       "    .dataframe thead th {\n",
       "        text-align: right;\n",
       "    }\n",
       "</style>\n",
       "<table border=\"1\" class=\"dataframe\">\n",
       "  <thead>\n",
       "    <tr style=\"text-align: right;\">\n",
       "      <th></th>\n",
       "      <th>id</th>\n",
       "      <th>date</th>\n",
       "      <th>price</th>\n",
       "      <th>bedrooms</th>\n",
       "      <th>bathrooms</th>\n",
       "      <th>sqft_living</th>\n",
       "      <th>sqft_lot</th>\n",
       "      <th>floors</th>\n",
       "      <th>waterfront</th>\n",
       "      <th>view</th>\n",
       "      <th>condition</th>\n",
       "      <th>grade</th>\n",
       "      <th>sqft_above</th>\n",
       "      <th>sqft_basement</th>\n",
       "      <th>yr_built</th>\n",
       "      <th>yr_renovated</th>\n",
       "      <th>zipcode</th>\n",
       "      <th>lat</th>\n",
       "      <th>long</th>\n",
       "      <th>sqft_living15</th>\n",
       "      <th>sqft_lot15</th>\n",
       "      <th>yr_sales</th>\n",
       "      <th>age</th>\n",
       "      <th>yr_renovated2</th>\n",
       "      <th>age_after_renovation</th>\n",
       "      <th>zipcode_top10</th>\n",
       "      <th>zipcode_houses</th>\n",
       "      <th>basement_bool</th>\n",
       "      <th>renovation_bool</th>\n",
       "      <th>age_cat</th>\n",
       "      <th>age_after_renovation_cat</th>\n",
       "      <th>waterfront_0</th>\n",
       "      <th>waterfront_1</th>\n",
       "      <th>view_0</th>\n",
       "      <th>view_1</th>\n",
       "      <th>view_2</th>\n",
       "      <th>view_3</th>\n",
       "      <th>view_4</th>\n",
       "      <th>condition_1</th>\n",
       "      <th>condition_2</th>\n",
       "      <th>...</th>\n",
       "      <th>grade_7</th>\n",
       "      <th>grade_8</th>\n",
       "      <th>grade_9</th>\n",
       "      <th>zipcode_top10_98004</th>\n",
       "      <th>zipcode_top10_98006</th>\n",
       "      <th>zipcode_top10_98033</th>\n",
       "      <th>zipcode_top10_98039</th>\n",
       "      <th>zipcode_top10_98040</th>\n",
       "      <th>zipcode_top10_98102</th>\n",
       "      <th>zipcode_top10_98105</th>\n",
       "      <th>zipcode_top10_98155</th>\n",
       "      <th>zipcode_top10_98177</th>\n",
       "      <th>zipcode_top10_others</th>\n",
       "      <th>age_cat_0</th>\n",
       "      <th>age_cat_1</th>\n",
       "      <th>age_cat_2</th>\n",
       "      <th>age_cat_3</th>\n",
       "      <th>age_cat_4</th>\n",
       "      <th>age_cat_5</th>\n",
       "      <th>age_cat_6</th>\n",
       "      <th>age_cat_7</th>\n",
       "      <th>age_cat_8</th>\n",
       "      <th>age_cat_9</th>\n",
       "      <th>age_after_renovation_cat_0</th>\n",
       "      <th>age_after_renovation_cat_1</th>\n",
       "      <th>age_after_renovation_cat_2</th>\n",
       "      <th>age_after_renovation_cat_3</th>\n",
       "      <th>age_after_renovation_cat_4</th>\n",
       "      <th>age_after_renovation_cat_5</th>\n",
       "      <th>age_after_renovation_cat_6</th>\n",
       "      <th>age_after_renovation_cat_7</th>\n",
       "      <th>age_after_renovation_cat_8</th>\n",
       "      <th>age_after_renovation_cat_9</th>\n",
       "      <th>log1p_price</th>\n",
       "      <th>log1p_sqft_living</th>\n",
       "      <th>log1p_sqft_lot</th>\n",
       "      <th>log1p_sqft_above</th>\n",
       "      <th>log1p_sqft_basement</th>\n",
       "      <th>log1p_sqft_living15</th>\n",
       "      <th>log1p_sqft_lot15</th>\n",
       "    </tr>\n",
       "  </thead>\n",
       "  <tbody>\n",
       "    <tr>\n",
       "      <th>0</th>\n",
       "      <td>7129300520</td>\n",
       "      <td>2014-10-13</td>\n",
       "      <td>221900</td>\n",
       "      <td>3</td>\n",
       "      <td>1</td>\n",
       "      <td>1180</td>\n",
       "      <td>5650</td>\n",
       "      <td>1</td>\n",
       "      <td>0</td>\n",
       "      <td>0</td>\n",
       "      <td>3</td>\n",
       "      <td>7</td>\n",
       "      <td>1180</td>\n",
       "      <td>0</td>\n",
       "      <td>1955</td>\n",
       "      <td>0</td>\n",
       "      <td>98178</td>\n",
       "      <td>47.5112</td>\n",
       "      <td>-122.257</td>\n",
       "      <td>1340</td>\n",
       "      <td>5650</td>\n",
       "      <td>2014</td>\n",
       "      <td>59</td>\n",
       "      <td>1955</td>\n",
       "      <td>59</td>\n",
       "      <td>others</td>\n",
       "      <td>262</td>\n",
       "      <td>0</td>\n",
       "      <td>0</td>\n",
       "      <td>5</td>\n",
       "      <td>5</td>\n",
       "      <td>1</td>\n",
       "      <td>0</td>\n",
       "      <td>1</td>\n",
       "      <td>0</td>\n",
       "      <td>0</td>\n",
       "      <td>0</td>\n",
       "      <td>0</td>\n",
       "      <td>0</td>\n",
       "      <td>0</td>\n",
       "      <td>...</td>\n",
       "      <td>1</td>\n",
       "      <td>0</td>\n",
       "      <td>0</td>\n",
       "      <td>0</td>\n",
       "      <td>0</td>\n",
       "      <td>0</td>\n",
       "      <td>0</td>\n",
       "      <td>0</td>\n",
       "      <td>0</td>\n",
       "      <td>0</td>\n",
       "      <td>0</td>\n",
       "      <td>0</td>\n",
       "      <td>1</td>\n",
       "      <td>0</td>\n",
       "      <td>0</td>\n",
       "      <td>0</td>\n",
       "      <td>0</td>\n",
       "      <td>0</td>\n",
       "      <td>1</td>\n",
       "      <td>0</td>\n",
       "      <td>0</td>\n",
       "      <td>0</td>\n",
       "      <td>0</td>\n",
       "      <td>0</td>\n",
       "      <td>0</td>\n",
       "      <td>0</td>\n",
       "      <td>0</td>\n",
       "      <td>0</td>\n",
       "      <td>1</td>\n",
       "      <td>0</td>\n",
       "      <td>0</td>\n",
       "      <td>0</td>\n",
       "      <td>0</td>\n",
       "      <td>12.31</td>\n",
       "      <td>7.07412</td>\n",
       "      <td>8.63959</td>\n",
       "      <td>7.07412</td>\n",
       "      <td>0</td>\n",
       "      <td>7.20117</td>\n",
       "      <td>8.63959</td>\n",
       "    </tr>\n",
       "    <tr>\n",
       "      <th>1</th>\n",
       "      <td>6414100192</td>\n",
       "      <td>2014-12-09</td>\n",
       "      <td>538000</td>\n",
       "      <td>3</td>\n",
       "      <td>2.25</td>\n",
       "      <td>2570</td>\n",
       "      <td>7242</td>\n",
       "      <td>2</td>\n",
       "      <td>0</td>\n",
       "      <td>0</td>\n",
       "      <td>3</td>\n",
       "      <td>7</td>\n",
       "      <td>2170</td>\n",
       "      <td>400</td>\n",
       "      <td>1951</td>\n",
       "      <td>1991</td>\n",
       "      <td>98125</td>\n",
       "      <td>47.721</td>\n",
       "      <td>-122.319</td>\n",
       "      <td>1690</td>\n",
       "      <td>7639</td>\n",
       "      <td>2014</td>\n",
       "      <td>63</td>\n",
       "      <td>1991</td>\n",
       "      <td>23</td>\n",
       "      <td>others</td>\n",
       "      <td>410</td>\n",
       "      <td>1</td>\n",
       "      <td>1</td>\n",
       "      <td>5</td>\n",
       "      <td>2</td>\n",
       "      <td>1</td>\n",
       "      <td>0</td>\n",
       "      <td>1</td>\n",
       "      <td>0</td>\n",
       "      <td>0</td>\n",
       "      <td>0</td>\n",
       "      <td>0</td>\n",
       "      <td>0</td>\n",
       "      <td>0</td>\n",
       "      <td>...</td>\n",
       "      <td>1</td>\n",
       "      <td>0</td>\n",
       "      <td>0</td>\n",
       "      <td>0</td>\n",
       "      <td>0</td>\n",
       "      <td>0</td>\n",
       "      <td>0</td>\n",
       "      <td>0</td>\n",
       "      <td>0</td>\n",
       "      <td>0</td>\n",
       "      <td>0</td>\n",
       "      <td>0</td>\n",
       "      <td>1</td>\n",
       "      <td>0</td>\n",
       "      <td>0</td>\n",
       "      <td>0</td>\n",
       "      <td>0</td>\n",
       "      <td>0</td>\n",
       "      <td>1</td>\n",
       "      <td>0</td>\n",
       "      <td>0</td>\n",
       "      <td>0</td>\n",
       "      <td>0</td>\n",
       "      <td>0</td>\n",
       "      <td>0</td>\n",
       "      <td>1</td>\n",
       "      <td>0</td>\n",
       "      <td>0</td>\n",
       "      <td>0</td>\n",
       "      <td>0</td>\n",
       "      <td>0</td>\n",
       "      <td>0</td>\n",
       "      <td>0</td>\n",
       "      <td>13.1956</td>\n",
       "      <td>7.85205</td>\n",
       "      <td>8.88779</td>\n",
       "      <td>7.68294</td>\n",
       "      <td>5.99396</td>\n",
       "      <td>7.43308</td>\n",
       "      <td>8.94115</td>\n",
       "    </tr>\n",
       "    <tr>\n",
       "      <th>2</th>\n",
       "      <td>291310100</td>\n",
       "      <td>2015-01-16</td>\n",
       "      <td>400000</td>\n",
       "      <td>3</td>\n",
       "      <td>2.5</td>\n",
       "      <td>1600</td>\n",
       "      <td>2388</td>\n",
       "      <td>2</td>\n",
       "      <td>0</td>\n",
       "      <td>0</td>\n",
       "      <td>3</td>\n",
       "      <td>8</td>\n",
       "      <td>1600</td>\n",
       "      <td>0</td>\n",
       "      <td>2004</td>\n",
       "      <td>0</td>\n",
       "      <td>98027</td>\n",
       "      <td>47.5345</td>\n",
       "      <td>-122.069</td>\n",
       "      <td>1410</td>\n",
       "      <td>1287</td>\n",
       "      <td>2015</td>\n",
       "      <td>11</td>\n",
       "      <td>2004</td>\n",
       "      <td>11</td>\n",
       "      <td>others</td>\n",
       "      <td>412</td>\n",
       "      <td>0</td>\n",
       "      <td>0</td>\n",
       "      <td>1</td>\n",
       "      <td>1</td>\n",
       "      <td>1</td>\n",
       "      <td>0</td>\n",
       "      <td>1</td>\n",
       "      <td>0</td>\n",
       "      <td>0</td>\n",
       "      <td>0</td>\n",
       "      <td>0</td>\n",
       "      <td>0</td>\n",
       "      <td>0</td>\n",
       "      <td>...</td>\n",
       "      <td>0</td>\n",
       "      <td>1</td>\n",
       "      <td>0</td>\n",
       "      <td>0</td>\n",
       "      <td>0</td>\n",
       "      <td>0</td>\n",
       "      <td>0</td>\n",
       "      <td>0</td>\n",
       "      <td>0</td>\n",
       "      <td>0</td>\n",
       "      <td>0</td>\n",
       "      <td>0</td>\n",
       "      <td>1</td>\n",
       "      <td>0</td>\n",
       "      <td>1</td>\n",
       "      <td>0</td>\n",
       "      <td>0</td>\n",
       "      <td>0</td>\n",
       "      <td>0</td>\n",
       "      <td>0</td>\n",
       "      <td>0</td>\n",
       "      <td>0</td>\n",
       "      <td>0</td>\n",
       "      <td>0</td>\n",
       "      <td>1</td>\n",
       "      <td>0</td>\n",
       "      <td>0</td>\n",
       "      <td>0</td>\n",
       "      <td>0</td>\n",
       "      <td>0</td>\n",
       "      <td>0</td>\n",
       "      <td>0</td>\n",
       "      <td>0</td>\n",
       "      <td>12.8992</td>\n",
       "      <td>7.37838</td>\n",
       "      <td>7.77863</td>\n",
       "      <td>7.37838</td>\n",
       "      <td>0</td>\n",
       "      <td>7.25205</td>\n",
       "      <td>7.16085</td>\n",
       "    </tr>\n",
       "    <tr>\n",
       "      <th>3</th>\n",
       "      <td>1523300157</td>\n",
       "      <td>2014-10-15</td>\n",
       "      <td>325000</td>\n",
       "      <td>2</td>\n",
       "      <td>0.75</td>\n",
       "      <td>1020</td>\n",
       "      <td>1076</td>\n",
       "      <td>2</td>\n",
       "      <td>0</td>\n",
       "      <td>0</td>\n",
       "      <td>3</td>\n",
       "      <td>7</td>\n",
       "      <td>1020</td>\n",
       "      <td>0</td>\n",
       "      <td>2008</td>\n",
       "      <td>0</td>\n",
       "      <td>98144</td>\n",
       "      <td>47.5941</td>\n",
       "      <td>-122.299</td>\n",
       "      <td>1020</td>\n",
       "      <td>1357</td>\n",
       "      <td>2014</td>\n",
       "      <td>6</td>\n",
       "      <td>2008</td>\n",
       "      <td>6</td>\n",
       "      <td>others</td>\n",
       "      <td>343</td>\n",
       "      <td>0</td>\n",
       "      <td>0</td>\n",
       "      <td>0</td>\n",
       "      <td>0</td>\n",
       "      <td>1</td>\n",
       "      <td>0</td>\n",
       "      <td>1</td>\n",
       "      <td>0</td>\n",
       "      <td>0</td>\n",
       "      <td>0</td>\n",
       "      <td>0</td>\n",
       "      <td>0</td>\n",
       "      <td>0</td>\n",
       "      <td>...</td>\n",
       "      <td>1</td>\n",
       "      <td>0</td>\n",
       "      <td>0</td>\n",
       "      <td>0</td>\n",
       "      <td>0</td>\n",
       "      <td>0</td>\n",
       "      <td>0</td>\n",
       "      <td>0</td>\n",
       "      <td>0</td>\n",
       "      <td>0</td>\n",
       "      <td>0</td>\n",
       "      <td>0</td>\n",
       "      <td>1</td>\n",
       "      <td>1</td>\n",
       "      <td>0</td>\n",
       "      <td>0</td>\n",
       "      <td>0</td>\n",
       "      <td>0</td>\n",
       "      <td>0</td>\n",
       "      <td>0</td>\n",
       "      <td>0</td>\n",
       "      <td>0</td>\n",
       "      <td>0</td>\n",
       "      <td>1</td>\n",
       "      <td>0</td>\n",
       "      <td>0</td>\n",
       "      <td>0</td>\n",
       "      <td>0</td>\n",
       "      <td>0</td>\n",
       "      <td>0</td>\n",
       "      <td>0</td>\n",
       "      <td>0</td>\n",
       "      <td>0</td>\n",
       "      <td>12.6916</td>\n",
       "      <td>6.92854</td>\n",
       "      <td>6.98193</td>\n",
       "      <td>6.92854</td>\n",
       "      <td>0</td>\n",
       "      <td>6.92854</td>\n",
       "      <td>7.21377</td>\n",
       "    </tr>\n",
       "    <tr>\n",
       "      <th>4</th>\n",
       "      <td>int64</td>\n",
       "      <td>object</td>\n",
       "      <td>float64</td>\n",
       "      <td>int64</td>\n",
       "      <td>float64</td>\n",
       "      <td>int64</td>\n",
       "      <td>int64</td>\n",
       "      <td>float64</td>\n",
       "      <td>int64</td>\n",
       "      <td>int64</td>\n",
       "      <td>int64</td>\n",
       "      <td>int64</td>\n",
       "      <td>int64</td>\n",
       "      <td>int64</td>\n",
       "      <td>int64</td>\n",
       "      <td>int64</td>\n",
       "      <td>int64</td>\n",
       "      <td>float64</td>\n",
       "      <td>float64</td>\n",
       "      <td>int64</td>\n",
       "      <td>int64</td>\n",
       "      <td>int64</td>\n",
       "      <td>int64</td>\n",
       "      <td>int64</td>\n",
       "      <td>int64</td>\n",
       "      <td>object</td>\n",
       "      <td>int64</td>\n",
       "      <td>int64</td>\n",
       "      <td>int64</td>\n",
       "      <td>int64</td>\n",
       "      <td>int64</td>\n",
       "      <td>int64</td>\n",
       "      <td>int64</td>\n",
       "      <td>int64</td>\n",
       "      <td>int64</td>\n",
       "      <td>int64</td>\n",
       "      <td>int64</td>\n",
       "      <td>int64</td>\n",
       "      <td>int64</td>\n",
       "      <td>int64</td>\n",
       "      <td>...</td>\n",
       "      <td>int64</td>\n",
       "      <td>int64</td>\n",
       "      <td>int64</td>\n",
       "      <td>int64</td>\n",
       "      <td>int64</td>\n",
       "      <td>int64</td>\n",
       "      <td>int64</td>\n",
       "      <td>int64</td>\n",
       "      <td>int64</td>\n",
       "      <td>int64</td>\n",
       "      <td>int64</td>\n",
       "      <td>int64</td>\n",
       "      <td>int64</td>\n",
       "      <td>int64</td>\n",
       "      <td>int64</td>\n",
       "      <td>int64</td>\n",
       "      <td>int64</td>\n",
       "      <td>int64</td>\n",
       "      <td>int64</td>\n",
       "      <td>int64</td>\n",
       "      <td>int64</td>\n",
       "      <td>int64</td>\n",
       "      <td>int64</td>\n",
       "      <td>int64</td>\n",
       "      <td>int64</td>\n",
       "      <td>int64</td>\n",
       "      <td>int64</td>\n",
       "      <td>int64</td>\n",
       "      <td>int64</td>\n",
       "      <td>int64</td>\n",
       "      <td>int64</td>\n",
       "      <td>int64</td>\n",
       "      <td>int64</td>\n",
       "      <td>float64</td>\n",
       "      <td>float64</td>\n",
       "      <td>float64</td>\n",
       "      <td>float64</td>\n",
       "      <td>float64</td>\n",
       "      <td>float64</td>\n",
       "      <td>float64</td>\n",
       "    </tr>\n",
       "  </tbody>\n",
       "</table>\n",
       "<p>5 rows × 92 columns</p>\n",
       "</div>"
      ],
      "text/plain": [
       "           id        date  ... log1p_sqft_living15 log1p_sqft_lot15\n",
       "0  7129300520  2014-10-13  ...             7.20117          8.63959\n",
       "1  6414100192  2014-12-09  ...             7.43308          8.94115\n",
       "2   291310100  2015-01-16  ...             7.25205          7.16085\n",
       "3  1523300157  2014-10-15  ...             6.92854          7.21377\n",
       "4       int64      object  ...             float64          float64\n",
       "\n",
       "[5 rows x 92 columns]"
      ]
     },
     "execution_count": 10,
     "metadata": {
      "tags": []
     },
     "output_type": "execute_result"
    }
   ],
   "source": [
    "p = 'https://github.com/bhishanpdl/Datasets/blob/master/'\n",
    "p += 'Projects/King_County_Seattle_House_Price_Kaggle/processed/'\n",
    "ifile = p + 'data_cleaned_encoded.csv?raw=true'\n",
    "\n",
    "df = pd.read_csv(ifile)\n",
    "print(df.shape)\n",
    "\n",
    "df.head(2).append(df.tail(2)).append(df.dtypes,ignore_index=True)"
   ]
  },
  {
   "cell_type": "code",
   "execution_count": null,
   "metadata": {
    "colab": {},
    "colab_type": "code",
    "id": "Bu57R_NhSJEX"
   },
   "outputs": [],
   "source": [
    "#ifile = Path.home() / 'github/Datasets/Projects/King_County_Seattle_House_Price_Kaggle/processed/data_cleaned_encoded.csv'\n",
    "#df = pd.read_csv(ifile)\n",
    "#print(df.shape)\n",
    "#df.head()"
   ]
  },
  {
   "cell_type": "markdown",
   "metadata": {
    "colab_type": "text",
    "id": "1NRtTZS8M3sJ"
   },
   "source": [
    "# Data Processing"
   ]
  },
  {
   "cell_type": "code",
   "execution_count": null,
   "metadata": {
    "colab": {},
    "colab_type": "code",
    "id": "xFth0ppUM56I"
   },
   "outputs": [],
   "source": [
    "cols_sq = ['bedrooms','bathrooms','floors','waterfront','view',\n",
    "    'age','age_after_renovation','log1p_sqft_living','log1p_sqft_lot',\n",
    "    'log1p_sqft_above','log1p_sqft_basement','log1p_sqft_living15','log1p_sqft_lot15']"
   ]
  },
  {
   "cell_type": "code",
   "execution_count": null,
   "metadata": {
    "colab": {},
    "colab_type": "code",
    "id": "IHgfLn5_M5_Z"
   },
   "outputs": [],
   "source": [
    "for col in cols_sq:\n",
    "    df[col + '_sq'] = df[col]**2"
   ]
  },
  {
   "cell_type": "code",
   "execution_count": null,
   "metadata": {
    "colab": {
     "base_uri": "https://localhost:8080/",
     "height": 156
    },
    "colab_type": "code",
    "id": "gpJoqIbHP9Va",
    "outputId": "96c77e8f-bcf7-4876-8fa3-8859f49c7e8e"
   },
   "outputs": [
    {
     "data": {
      "text/html": [
       "<div>\n",
       "<style scoped>\n",
       "    .dataframe tbody tr th:only-of-type {\n",
       "        vertical-align: middle;\n",
       "    }\n",
       "\n",
       "    .dataframe tbody tr th {\n",
       "        vertical-align: top;\n",
       "    }\n",
       "\n",
       "    .dataframe thead th {\n",
       "        text-align: right;\n",
       "    }\n",
       "</style>\n",
       "<table border=\"1\" class=\"dataframe\">\n",
       "  <thead>\n",
       "    <tr style=\"text-align: right;\">\n",
       "      <th></th>\n",
       "      <th>bedrooms</th>\n",
       "      <th>bathrooms</th>\n",
       "      <th>sqft_living</th>\n",
       "      <th>sqft_lot</th>\n",
       "      <th>floors</th>\n",
       "      <th>waterfront</th>\n",
       "      <th>view</th>\n",
       "      <th>condition</th>\n",
       "      <th>grade</th>\n",
       "      <th>sqft_above</th>\n",
       "      <th>sqft_basement</th>\n",
       "      <th>yr_built</th>\n",
       "      <th>yr_renovated</th>\n",
       "      <th>zipcode</th>\n",
       "      <th>lat</th>\n",
       "      <th>long</th>\n",
       "      <th>sqft_living15</th>\n",
       "      <th>sqft_lot15</th>\n",
       "      <th>yr_sales</th>\n",
       "      <th>age</th>\n",
       "      <th>yr_renovated2</th>\n",
       "      <th>age_after_renovation</th>\n",
       "      <th>zipcode_houses</th>\n",
       "      <th>basement_bool</th>\n",
       "      <th>renovation_bool</th>\n",
       "      <th>age_cat</th>\n",
       "      <th>age_after_renovation_cat</th>\n",
       "      <th>waterfront_0</th>\n",
       "      <th>waterfront_1</th>\n",
       "      <th>view_0</th>\n",
       "      <th>view_1</th>\n",
       "      <th>view_2</th>\n",
       "      <th>view_3</th>\n",
       "      <th>view_4</th>\n",
       "      <th>condition_1</th>\n",
       "      <th>condition_2</th>\n",
       "      <th>condition_3</th>\n",
       "      <th>condition_4</th>\n",
       "      <th>condition_5</th>\n",
       "      <th>grade_1</th>\n",
       "      <th>...</th>\n",
       "      <th>age_cat_0</th>\n",
       "      <th>age_cat_1</th>\n",
       "      <th>age_cat_2</th>\n",
       "      <th>age_cat_3</th>\n",
       "      <th>age_cat_4</th>\n",
       "      <th>age_cat_5</th>\n",
       "      <th>age_cat_6</th>\n",
       "      <th>age_cat_7</th>\n",
       "      <th>age_cat_8</th>\n",
       "      <th>age_cat_9</th>\n",
       "      <th>age_after_renovation_cat_0</th>\n",
       "      <th>age_after_renovation_cat_1</th>\n",
       "      <th>age_after_renovation_cat_2</th>\n",
       "      <th>age_after_renovation_cat_3</th>\n",
       "      <th>age_after_renovation_cat_4</th>\n",
       "      <th>age_after_renovation_cat_5</th>\n",
       "      <th>age_after_renovation_cat_6</th>\n",
       "      <th>age_after_renovation_cat_7</th>\n",
       "      <th>age_after_renovation_cat_8</th>\n",
       "      <th>age_after_renovation_cat_9</th>\n",
       "      <th>log1p_price</th>\n",
       "      <th>log1p_sqft_living</th>\n",
       "      <th>log1p_sqft_lot</th>\n",
       "      <th>log1p_sqft_above</th>\n",
       "      <th>log1p_sqft_basement</th>\n",
       "      <th>log1p_sqft_living15</th>\n",
       "      <th>log1p_sqft_lot15</th>\n",
       "      <th>bedrooms_sq</th>\n",
       "      <th>bathrooms_sq</th>\n",
       "      <th>floors_sq</th>\n",
       "      <th>waterfront_sq</th>\n",
       "      <th>view_sq</th>\n",
       "      <th>age_sq</th>\n",
       "      <th>age_after_renovation_sq</th>\n",
       "      <th>log1p_sqft_living_sq</th>\n",
       "      <th>log1p_sqft_lot_sq</th>\n",
       "      <th>log1p_sqft_above_sq</th>\n",
       "      <th>log1p_sqft_basement_sq</th>\n",
       "      <th>log1p_sqft_living15_sq</th>\n",
       "      <th>log1p_sqft_lot15_sq</th>\n",
       "    </tr>\n",
       "  </thead>\n",
       "  <tbody>\n",
       "    <tr>\n",
       "      <th>0</th>\n",
       "      <td>3</td>\n",
       "      <td>1.00</td>\n",
       "      <td>1180</td>\n",
       "      <td>5650</td>\n",
       "      <td>1.0</td>\n",
       "      <td>0</td>\n",
       "      <td>0</td>\n",
       "      <td>3</td>\n",
       "      <td>7</td>\n",
       "      <td>1180</td>\n",
       "      <td>0</td>\n",
       "      <td>1955</td>\n",
       "      <td>0</td>\n",
       "      <td>98178</td>\n",
       "      <td>47.5112</td>\n",
       "      <td>-122.257</td>\n",
       "      <td>1340</td>\n",
       "      <td>5650</td>\n",
       "      <td>2014</td>\n",
       "      <td>59</td>\n",
       "      <td>1955</td>\n",
       "      <td>59</td>\n",
       "      <td>262</td>\n",
       "      <td>0</td>\n",
       "      <td>0</td>\n",
       "      <td>5</td>\n",
       "      <td>5</td>\n",
       "      <td>1</td>\n",
       "      <td>0</td>\n",
       "      <td>1</td>\n",
       "      <td>0</td>\n",
       "      <td>0</td>\n",
       "      <td>0</td>\n",
       "      <td>0</td>\n",
       "      <td>0</td>\n",
       "      <td>0</td>\n",
       "      <td>1</td>\n",
       "      <td>0</td>\n",
       "      <td>0</td>\n",
       "      <td>0</td>\n",
       "      <td>...</td>\n",
       "      <td>0</td>\n",
       "      <td>0</td>\n",
       "      <td>0</td>\n",
       "      <td>0</td>\n",
       "      <td>0</td>\n",
       "      <td>1</td>\n",
       "      <td>0</td>\n",
       "      <td>0</td>\n",
       "      <td>0</td>\n",
       "      <td>0</td>\n",
       "      <td>0</td>\n",
       "      <td>0</td>\n",
       "      <td>0</td>\n",
       "      <td>0</td>\n",
       "      <td>0</td>\n",
       "      <td>1</td>\n",
       "      <td>0</td>\n",
       "      <td>0</td>\n",
       "      <td>0</td>\n",
       "      <td>0</td>\n",
       "      <td>12.309987</td>\n",
       "      <td>7.074117</td>\n",
       "      <td>8.639588</td>\n",
       "      <td>7.074117</td>\n",
       "      <td>0.000000</td>\n",
       "      <td>7.201171</td>\n",
       "      <td>8.639588</td>\n",
       "      <td>9</td>\n",
       "      <td>1.0000</td>\n",
       "      <td>1.0</td>\n",
       "      <td>0</td>\n",
       "      <td>0</td>\n",
       "      <td>3481</td>\n",
       "      <td>3481</td>\n",
       "      <td>50.043129</td>\n",
       "      <td>74.642477</td>\n",
       "      <td>50.043129</td>\n",
       "      <td>0.000000</td>\n",
       "      <td>51.856862</td>\n",
       "      <td>74.642477</td>\n",
       "    </tr>\n",
       "    <tr>\n",
       "      <th>1</th>\n",
       "      <td>3</td>\n",
       "      <td>2.25</td>\n",
       "      <td>2570</td>\n",
       "      <td>7242</td>\n",
       "      <td>2.0</td>\n",
       "      <td>0</td>\n",
       "      <td>0</td>\n",
       "      <td>3</td>\n",
       "      <td>7</td>\n",
       "      <td>2170</td>\n",
       "      <td>400</td>\n",
       "      <td>1951</td>\n",
       "      <td>1991</td>\n",
       "      <td>98125</td>\n",
       "      <td>47.7210</td>\n",
       "      <td>-122.319</td>\n",
       "      <td>1690</td>\n",
       "      <td>7639</td>\n",
       "      <td>2014</td>\n",
       "      <td>63</td>\n",
       "      <td>1991</td>\n",
       "      <td>23</td>\n",
       "      <td>410</td>\n",
       "      <td>1</td>\n",
       "      <td>1</td>\n",
       "      <td>5</td>\n",
       "      <td>2</td>\n",
       "      <td>1</td>\n",
       "      <td>0</td>\n",
       "      <td>1</td>\n",
       "      <td>0</td>\n",
       "      <td>0</td>\n",
       "      <td>0</td>\n",
       "      <td>0</td>\n",
       "      <td>0</td>\n",
       "      <td>0</td>\n",
       "      <td>1</td>\n",
       "      <td>0</td>\n",
       "      <td>0</td>\n",
       "      <td>0</td>\n",
       "      <td>...</td>\n",
       "      <td>0</td>\n",
       "      <td>0</td>\n",
       "      <td>0</td>\n",
       "      <td>0</td>\n",
       "      <td>0</td>\n",
       "      <td>1</td>\n",
       "      <td>0</td>\n",
       "      <td>0</td>\n",
       "      <td>0</td>\n",
       "      <td>0</td>\n",
       "      <td>0</td>\n",
       "      <td>0</td>\n",
       "      <td>1</td>\n",
       "      <td>0</td>\n",
       "      <td>0</td>\n",
       "      <td>0</td>\n",
       "      <td>0</td>\n",
       "      <td>0</td>\n",
       "      <td>0</td>\n",
       "      <td>0</td>\n",
       "      <td>13.195616</td>\n",
       "      <td>7.852050</td>\n",
       "      <td>8.887791</td>\n",
       "      <td>7.682943</td>\n",
       "      <td>5.993961</td>\n",
       "      <td>7.433075</td>\n",
       "      <td>8.941153</td>\n",
       "      <td>9</td>\n",
       "      <td>5.0625</td>\n",
       "      <td>4.0</td>\n",
       "      <td>0</td>\n",
       "      <td>0</td>\n",
       "      <td>3969</td>\n",
       "      <td>529</td>\n",
       "      <td>61.654692</td>\n",
       "      <td>78.992825</td>\n",
       "      <td>59.027616</td>\n",
       "      <td>35.927574</td>\n",
       "      <td>55.250609</td>\n",
       "      <td>79.944215</td>\n",
       "    </tr>\n",
       "  </tbody>\n",
       "</table>\n",
       "<p>2 rows × 101 columns</p>\n",
       "</div>"
      ],
      "text/plain": [
       "   bedrooms  bathrooms  ...  log1p_sqft_living15_sq  log1p_sqft_lot15_sq\n",
       "0         3       1.00  ...               51.856862            74.642477\n",
       "1         3       2.25  ...               55.250609            79.944215\n",
       "\n",
       "[2 rows x 101 columns]"
      ]
     },
     "execution_count": 17,
     "metadata": {
      "tags": []
     },
     "output_type": "execute_result"
    }
   ],
   "source": [
    "exclude = ['id', 'date', 'price','zipcode_top10']\n",
    "features = [i for i in df.columns\n",
    "            if i not in exclude]\n",
    "target = 'price'\n",
    "\n",
    "df[features].head(2)"
   ]
  },
  {
   "cell_type": "code",
   "execution_count": null,
   "metadata": {
    "colab": {
     "base_uri": "https://localhost:8080/",
     "height": 34
    },
    "colab_type": "code",
    "id": "lG38rIHXR0mV",
    "outputId": "ada2750a-3052-4c32-ce26-c213b270bc0a"
   },
   "outputs": [
    {
     "data": {
      "text/plain": [
       "(21613, 0)"
      ]
     },
     "execution_count": 18,
     "metadata": {
      "tags": []
     },
     "output_type": "execute_result"
    }
   ],
   "source": [
    "# make sure all features are numeric\n",
    "df[features].select_dtypes('object').shape"
   ]
  },
  {
   "cell_type": "code",
   "execution_count": null,
   "metadata": {
    "colab": {
     "base_uri": "https://localhost:8080/",
     "height": 34
    },
    "colab_type": "code",
    "id": "3cbmkz6XWEbb",
    "outputId": "9fd8e907-6103-495a-8269-1108e51a1c1d"
   },
   "outputs": [
    {
     "data": {
      "text/plain": [
       "0"
      ]
     },
     "execution_count": 19,
     "metadata": {
      "tags": []
     },
     "output_type": "execute_result"
    }
   ],
   "source": [
    "# make sure there are no Nans\n",
    "df[features].isna().sum().sum()"
   ]
  },
  {
   "cell_type": "markdown",
   "metadata": {
    "colab_type": "text",
    "id": "g9XYITLUSWpA"
   },
   "source": [
    "# Train test split"
   ]
  },
  {
   "cell_type": "code",
   "execution_count": null,
   "metadata": {
    "colab": {
     "base_uri": "https://localhost:8080/",
     "height": 264
    },
    "colab_type": "code",
    "id": "odBF6q99STp2",
    "outputId": "7b5335ec-1a85-498a-ad0b-535d80837140"
   },
   "outputs": [
    {
     "name": "stdout",
     "output_type": "stream",
     "text": [
      "(17290, 101) (17290,)\n"
     ]
    },
    {
     "data": {
      "text/html": [
       "<div>\n",
       "<style scoped>\n",
       "    .dataframe tbody tr th:only-of-type {\n",
       "        vertical-align: middle;\n",
       "    }\n",
       "\n",
       "    .dataframe tbody tr th {\n",
       "        vertical-align: top;\n",
       "    }\n",
       "\n",
       "    .dataframe thead th {\n",
       "        text-align: right;\n",
       "    }\n",
       "</style>\n",
       "<table border=\"1\" class=\"dataframe\">\n",
       "  <thead>\n",
       "    <tr style=\"text-align: right;\">\n",
       "      <th></th>\n",
       "      <th>bedrooms</th>\n",
       "      <th>bathrooms</th>\n",
       "      <th>sqft_living</th>\n",
       "      <th>sqft_lot</th>\n",
       "      <th>floors</th>\n",
       "      <th>waterfront</th>\n",
       "      <th>view</th>\n",
       "      <th>condition</th>\n",
       "      <th>grade</th>\n",
       "      <th>sqft_above</th>\n",
       "      <th>sqft_basement</th>\n",
       "      <th>yr_built</th>\n",
       "      <th>yr_renovated</th>\n",
       "      <th>zipcode</th>\n",
       "      <th>lat</th>\n",
       "      <th>long</th>\n",
       "      <th>sqft_living15</th>\n",
       "      <th>sqft_lot15</th>\n",
       "      <th>yr_sales</th>\n",
       "      <th>age</th>\n",
       "      <th>yr_renovated2</th>\n",
       "      <th>age_after_renovation</th>\n",
       "      <th>zipcode_houses</th>\n",
       "      <th>basement_bool</th>\n",
       "      <th>renovation_bool</th>\n",
       "      <th>age_cat</th>\n",
       "      <th>age_after_renovation_cat</th>\n",
       "      <th>waterfront_0</th>\n",
       "      <th>waterfront_1</th>\n",
       "      <th>view_0</th>\n",
       "      <th>view_1</th>\n",
       "      <th>view_2</th>\n",
       "      <th>view_3</th>\n",
       "      <th>view_4</th>\n",
       "      <th>condition_1</th>\n",
       "      <th>condition_2</th>\n",
       "      <th>condition_3</th>\n",
       "      <th>condition_4</th>\n",
       "      <th>condition_5</th>\n",
       "      <th>grade_1</th>\n",
       "      <th>...</th>\n",
       "      <th>age_cat_0</th>\n",
       "      <th>age_cat_1</th>\n",
       "      <th>age_cat_2</th>\n",
       "      <th>age_cat_3</th>\n",
       "      <th>age_cat_4</th>\n",
       "      <th>age_cat_5</th>\n",
       "      <th>age_cat_6</th>\n",
       "      <th>age_cat_7</th>\n",
       "      <th>age_cat_8</th>\n",
       "      <th>age_cat_9</th>\n",
       "      <th>age_after_renovation_cat_0</th>\n",
       "      <th>age_after_renovation_cat_1</th>\n",
       "      <th>age_after_renovation_cat_2</th>\n",
       "      <th>age_after_renovation_cat_3</th>\n",
       "      <th>age_after_renovation_cat_4</th>\n",
       "      <th>age_after_renovation_cat_5</th>\n",
       "      <th>age_after_renovation_cat_6</th>\n",
       "      <th>age_after_renovation_cat_7</th>\n",
       "      <th>age_after_renovation_cat_8</th>\n",
       "      <th>age_after_renovation_cat_9</th>\n",
       "      <th>log1p_price</th>\n",
       "      <th>log1p_sqft_living</th>\n",
       "      <th>log1p_sqft_lot</th>\n",
       "      <th>log1p_sqft_above</th>\n",
       "      <th>log1p_sqft_basement</th>\n",
       "      <th>log1p_sqft_living15</th>\n",
       "      <th>log1p_sqft_lot15</th>\n",
       "      <th>bedrooms_sq</th>\n",
       "      <th>bathrooms_sq</th>\n",
       "      <th>floors_sq</th>\n",
       "      <th>waterfront_sq</th>\n",
       "      <th>view_sq</th>\n",
       "      <th>age_sq</th>\n",
       "      <th>age_after_renovation_sq</th>\n",
       "      <th>log1p_sqft_living_sq</th>\n",
       "      <th>log1p_sqft_lot_sq</th>\n",
       "      <th>log1p_sqft_above_sq</th>\n",
       "      <th>log1p_sqft_basement_sq</th>\n",
       "      <th>log1p_sqft_living15_sq</th>\n",
       "      <th>log1p_sqft_lot15_sq</th>\n",
       "    </tr>\n",
       "  </thead>\n",
       "  <tbody>\n",
       "    <tr>\n",
       "      <th>16000</th>\n",
       "      <td>3</td>\n",
       "      <td>1.75</td>\n",
       "      <td>1780</td>\n",
       "      <td>11096</td>\n",
       "      <td>1.0</td>\n",
       "      <td>0</td>\n",
       "      <td>0</td>\n",
       "      <td>3</td>\n",
       "      <td>7</td>\n",
       "      <td>1210</td>\n",
       "      <td>570</td>\n",
       "      <td>1979</td>\n",
       "      <td>0</td>\n",
       "      <td>98074</td>\n",
       "      <td>47.6170</td>\n",
       "      <td>-122.051</td>\n",
       "      <td>1780</td>\n",
       "      <td>10640</td>\n",
       "      <td>2014</td>\n",
       "      <td>35</td>\n",
       "      <td>1979</td>\n",
       "      <td>35</td>\n",
       "      <td>441</td>\n",
       "      <td>1</td>\n",
       "      <td>0</td>\n",
       "      <td>3</td>\n",
       "      <td>3</td>\n",
       "      <td>1</td>\n",
       "      <td>0</td>\n",
       "      <td>1</td>\n",
       "      <td>0</td>\n",
       "      <td>0</td>\n",
       "      <td>0</td>\n",
       "      <td>0</td>\n",
       "      <td>0</td>\n",
       "      <td>0</td>\n",
       "      <td>1</td>\n",
       "      <td>0</td>\n",
       "      <td>0</td>\n",
       "      <td>0</td>\n",
       "      <td>...</td>\n",
       "      <td>0</td>\n",
       "      <td>0</td>\n",
       "      <td>0</td>\n",
       "      <td>1</td>\n",
       "      <td>0</td>\n",
       "      <td>0</td>\n",
       "      <td>0</td>\n",
       "      <td>0</td>\n",
       "      <td>0</td>\n",
       "      <td>0</td>\n",
       "      <td>0</td>\n",
       "      <td>0</td>\n",
       "      <td>0</td>\n",
       "      <td>1</td>\n",
       "      <td>0</td>\n",
       "      <td>0</td>\n",
       "      <td>0</td>\n",
       "      <td>0</td>\n",
       "      <td>0</td>\n",
       "      <td>0</td>\n",
       "      <td>12.691584</td>\n",
       "      <td>7.484930</td>\n",
       "      <td>9.314430</td>\n",
       "      <td>7.099202</td>\n",
       "      <td>6.347389</td>\n",
       "      <td>7.484930</td>\n",
       "      <td>9.272470</td>\n",
       "      <td>9</td>\n",
       "      <td>3.0625</td>\n",
       "      <td>1.00</td>\n",
       "      <td>0</td>\n",
       "      <td>0</td>\n",
       "      <td>1225</td>\n",
       "      <td>1225</td>\n",
       "      <td>56.024181</td>\n",
       "      <td>86.758608</td>\n",
       "      <td>50.398665</td>\n",
       "      <td>40.289350</td>\n",
       "      <td>56.024181</td>\n",
       "      <td>85.978695</td>\n",
       "    </tr>\n",
       "    <tr>\n",
       "      <th>11286</th>\n",
       "      <td>2</td>\n",
       "      <td>2.50</td>\n",
       "      <td>1420</td>\n",
       "      <td>2229</td>\n",
       "      <td>2.0</td>\n",
       "      <td>0</td>\n",
       "      <td>0</td>\n",
       "      <td>3</td>\n",
       "      <td>7</td>\n",
       "      <td>1420</td>\n",
       "      <td>0</td>\n",
       "      <td>2004</td>\n",
       "      <td>0</td>\n",
       "      <td>98059</td>\n",
       "      <td>47.4871</td>\n",
       "      <td>-122.165</td>\n",
       "      <td>1500</td>\n",
       "      <td>2230</td>\n",
       "      <td>2014</td>\n",
       "      <td>10</td>\n",
       "      <td>2004</td>\n",
       "      <td>10</td>\n",
       "      <td>468</td>\n",
       "      <td>0</td>\n",
       "      <td>0</td>\n",
       "      <td>0</td>\n",
       "      <td>0</td>\n",
       "      <td>1</td>\n",
       "      <td>0</td>\n",
       "      <td>1</td>\n",
       "      <td>0</td>\n",
       "      <td>0</td>\n",
       "      <td>0</td>\n",
       "      <td>0</td>\n",
       "      <td>0</td>\n",
       "      <td>0</td>\n",
       "      <td>1</td>\n",
       "      <td>0</td>\n",
       "      <td>0</td>\n",
       "      <td>0</td>\n",
       "      <td>...</td>\n",
       "      <td>1</td>\n",
       "      <td>0</td>\n",
       "      <td>0</td>\n",
       "      <td>0</td>\n",
       "      <td>0</td>\n",
       "      <td>0</td>\n",
       "      <td>0</td>\n",
       "      <td>0</td>\n",
       "      <td>0</td>\n",
       "      <td>0</td>\n",
       "      <td>1</td>\n",
       "      <td>0</td>\n",
       "      <td>0</td>\n",
       "      <td>0</td>\n",
       "      <td>0</td>\n",
       "      <td>0</td>\n",
       "      <td>0</td>\n",
       "      <td>0</td>\n",
       "      <td>0</td>\n",
       "      <td>0</td>\n",
       "      <td>12.535380</td>\n",
       "      <td>7.259116</td>\n",
       "      <td>7.709757</td>\n",
       "      <td>7.259116</td>\n",
       "      <td>0.000000</td>\n",
       "      <td>7.313887</td>\n",
       "      <td>7.710205</td>\n",
       "      <td>4</td>\n",
       "      <td>6.2500</td>\n",
       "      <td>4.00</td>\n",
       "      <td>0</td>\n",
       "      <td>0</td>\n",
       "      <td>100</td>\n",
       "      <td>100</td>\n",
       "      <td>52.694767</td>\n",
       "      <td>59.440351</td>\n",
       "      <td>52.694767</td>\n",
       "      <td>0.000000</td>\n",
       "      <td>53.492941</td>\n",
       "      <td>59.447264</td>\n",
       "    </tr>\n",
       "    <tr>\n",
       "      <th>3201</th>\n",
       "      <td>2</td>\n",
       "      <td>1.00</td>\n",
       "      <td>1790</td>\n",
       "      <td>4000</td>\n",
       "      <td>1.0</td>\n",
       "      <td>0</td>\n",
       "      <td>0</td>\n",
       "      <td>4</td>\n",
       "      <td>7</td>\n",
       "      <td>1040</td>\n",
       "      <td>750</td>\n",
       "      <td>1923</td>\n",
       "      <td>0</td>\n",
       "      <td>98112</td>\n",
       "      <td>47.6405</td>\n",
       "      <td>-122.301</td>\n",
       "      <td>1310</td>\n",
       "      <td>4000</td>\n",
       "      <td>2014</td>\n",
       "      <td>91</td>\n",
       "      <td>1923</td>\n",
       "      <td>91</td>\n",
       "      <td>269</td>\n",
       "      <td>1</td>\n",
       "      <td>0</td>\n",
       "      <td>7</td>\n",
       "      <td>7</td>\n",
       "      <td>1</td>\n",
       "      <td>0</td>\n",
       "      <td>1</td>\n",
       "      <td>0</td>\n",
       "      <td>0</td>\n",
       "      <td>0</td>\n",
       "      <td>0</td>\n",
       "      <td>0</td>\n",
       "      <td>0</td>\n",
       "      <td>0</td>\n",
       "      <td>1</td>\n",
       "      <td>0</td>\n",
       "      <td>0</td>\n",
       "      <td>...</td>\n",
       "      <td>0</td>\n",
       "      <td>0</td>\n",
       "      <td>0</td>\n",
       "      <td>0</td>\n",
       "      <td>0</td>\n",
       "      <td>0</td>\n",
       "      <td>0</td>\n",
       "      <td>1</td>\n",
       "      <td>0</td>\n",
       "      <td>0</td>\n",
       "      <td>0</td>\n",
       "      <td>0</td>\n",
       "      <td>0</td>\n",
       "      <td>0</td>\n",
       "      <td>0</td>\n",
       "      <td>0</td>\n",
       "      <td>0</td>\n",
       "      <td>1</td>\n",
       "      <td>0</td>\n",
       "      <td>0</td>\n",
       "      <td>13.473022</td>\n",
       "      <td>7.490529</td>\n",
       "      <td>8.294300</td>\n",
       "      <td>6.947937</td>\n",
       "      <td>6.621406</td>\n",
       "      <td>7.178545</td>\n",
       "      <td>8.294300</td>\n",
       "      <td>4</td>\n",
       "      <td>1.0000</td>\n",
       "      <td>1.00</td>\n",
       "      <td>0</td>\n",
       "      <td>0</td>\n",
       "      <td>8281</td>\n",
       "      <td>8281</td>\n",
       "      <td>56.108031</td>\n",
       "      <td>68.795406</td>\n",
       "      <td>48.273830</td>\n",
       "      <td>43.843013</td>\n",
       "      <td>51.531515</td>\n",
       "      <td>68.795406</td>\n",
       "    </tr>\n",
       "    <tr>\n",
       "      <th>11049</th>\n",
       "      <td>4</td>\n",
       "      <td>1.00</td>\n",
       "      <td>1710</td>\n",
       "      <td>117176</td>\n",
       "      <td>1.5</td>\n",
       "      <td>0</td>\n",
       "      <td>0</td>\n",
       "      <td>4</td>\n",
       "      <td>6</td>\n",
       "      <td>1710</td>\n",
       "      <td>0</td>\n",
       "      <td>1942</td>\n",
       "      <td>0</td>\n",
       "      <td>98055</td>\n",
       "      <td>47.4497</td>\n",
       "      <td>-122.212</td>\n",
       "      <td>1940</td>\n",
       "      <td>12223</td>\n",
       "      <td>2014</td>\n",
       "      <td>72</td>\n",
       "      <td>1942</td>\n",
       "      <td>72</td>\n",
       "      <td>268</td>\n",
       "      <td>0</td>\n",
       "      <td>0</td>\n",
       "      <td>6</td>\n",
       "      <td>6</td>\n",
       "      <td>1</td>\n",
       "      <td>0</td>\n",
       "      <td>1</td>\n",
       "      <td>0</td>\n",
       "      <td>0</td>\n",
       "      <td>0</td>\n",
       "      <td>0</td>\n",
       "      <td>0</td>\n",
       "      <td>0</td>\n",
       "      <td>0</td>\n",
       "      <td>1</td>\n",
       "      <td>0</td>\n",
       "      <td>0</td>\n",
       "      <td>...</td>\n",
       "      <td>0</td>\n",
       "      <td>0</td>\n",
       "      <td>0</td>\n",
       "      <td>0</td>\n",
       "      <td>0</td>\n",
       "      <td>0</td>\n",
       "      <td>1</td>\n",
       "      <td>0</td>\n",
       "      <td>0</td>\n",
       "      <td>0</td>\n",
       "      <td>0</td>\n",
       "      <td>0</td>\n",
       "      <td>0</td>\n",
       "      <td>0</td>\n",
       "      <td>0</td>\n",
       "      <td>0</td>\n",
       "      <td>1</td>\n",
       "      <td>0</td>\n",
       "      <td>0</td>\n",
       "      <td>0</td>\n",
       "      <td>12.873648</td>\n",
       "      <td>7.444833</td>\n",
       "      <td>11.671441</td>\n",
       "      <td>7.444833</td>\n",
       "      <td>0.000000</td>\n",
       "      <td>7.570959</td>\n",
       "      <td>9.411157</td>\n",
       "      <td>16</td>\n",
       "      <td>1.0000</td>\n",
       "      <td>2.25</td>\n",
       "      <td>0</td>\n",
       "      <td>0</td>\n",
       "      <td>5184</td>\n",
       "      <td>5184</td>\n",
       "      <td>55.425542</td>\n",
       "      <td>136.222532</td>\n",
       "      <td>55.425542</td>\n",
       "      <td>0.000000</td>\n",
       "      <td>57.319414</td>\n",
       "      <td>88.569867</td>\n",
       "    </tr>\n",
       "    <tr>\n",
       "      <th>9716</th>\n",
       "      <td>4</td>\n",
       "      <td>1.00</td>\n",
       "      <td>1150</td>\n",
       "      <td>5217</td>\n",
       "      <td>1.5</td>\n",
       "      <td>0</td>\n",
       "      <td>0</td>\n",
       "      <td>3</td>\n",
       "      <td>7</td>\n",
       "      <td>1150</td>\n",
       "      <td>0</td>\n",
       "      <td>1951</td>\n",
       "      <td>0</td>\n",
       "      <td>98115</td>\n",
       "      <td>47.6806</td>\n",
       "      <td>-122.287</td>\n",
       "      <td>1220</td>\n",
       "      <td>5217</td>\n",
       "      <td>2015</td>\n",
       "      <td>64</td>\n",
       "      <td>1951</td>\n",
       "      <td>64</td>\n",
       "      <td>583</td>\n",
       "      <td>0</td>\n",
       "      <td>0</td>\n",
       "      <td>5</td>\n",
       "      <td>5</td>\n",
       "      <td>1</td>\n",
       "      <td>0</td>\n",
       "      <td>1</td>\n",
       "      <td>0</td>\n",
       "      <td>0</td>\n",
       "      <td>0</td>\n",
       "      <td>0</td>\n",
       "      <td>0</td>\n",
       "      <td>0</td>\n",
       "      <td>1</td>\n",
       "      <td>0</td>\n",
       "      <td>0</td>\n",
       "      <td>0</td>\n",
       "      <td>...</td>\n",
       "      <td>0</td>\n",
       "      <td>0</td>\n",
       "      <td>0</td>\n",
       "      <td>0</td>\n",
       "      <td>0</td>\n",
       "      <td>1</td>\n",
       "      <td>0</td>\n",
       "      <td>0</td>\n",
       "      <td>0</td>\n",
       "      <td>0</td>\n",
       "      <td>0</td>\n",
       "      <td>0</td>\n",
       "      <td>0</td>\n",
       "      <td>0</td>\n",
       "      <td>0</td>\n",
       "      <td>1</td>\n",
       "      <td>0</td>\n",
       "      <td>0</td>\n",
       "      <td>0</td>\n",
       "      <td>0</td>\n",
       "      <td>13.100120</td>\n",
       "      <td>7.048386</td>\n",
       "      <td>8.559869</td>\n",
       "      <td>7.048386</td>\n",
       "      <td>0.000000</td>\n",
       "      <td>7.107425</td>\n",
       "      <td>8.559869</td>\n",
       "      <td>16</td>\n",
       "      <td>1.0000</td>\n",
       "      <td>2.25</td>\n",
       "      <td>0</td>\n",
       "      <td>0</td>\n",
       "      <td>4096</td>\n",
       "      <td>4096</td>\n",
       "      <td>49.679751</td>\n",
       "      <td>73.271365</td>\n",
       "      <td>49.679751</td>\n",
       "      <td>0.000000</td>\n",
       "      <td>50.515497</td>\n",
       "      <td>73.271365</td>\n",
       "    </tr>\n",
       "  </tbody>\n",
       "</table>\n",
       "<p>5 rows × 101 columns</p>\n",
       "</div>"
      ],
      "text/plain": [
       "       bedrooms  bathrooms  ...  log1p_sqft_living15_sq  log1p_sqft_lot15_sq\n",
       "16000         3       1.75  ...               56.024181            85.978695\n",
       "11286         2       2.50  ...               53.492941            59.447264\n",
       "3201          2       1.00  ...               51.531515            68.795406\n",
       "11049         4       1.00  ...               57.319414            88.569867\n",
       "9716          4       1.00  ...               50.515497            73.271365\n",
       "\n",
       "[5 rows x 101 columns]"
      ]
     },
     "execution_count": 20,
     "metadata": {
      "tags": []
     },
     "output_type": "execute_result"
    }
   ],
   "source": [
    "from sklearn.model_selection import train_test_split\n",
    "\n",
    "df_Xtrain, df_Xtest, ser_ytrain, ser_ytest = train_test_split(\n",
    "    df[features], df[target],\n",
    "    test_size=0.2, random_state=SEED, \n",
    "    )\n",
    "\n",
    "ytrain = np.array(ser_ytrain).ravel()\n",
    "ytest = np.array(ser_ytest).ravel()\n",
    "print(df_Xtrain.shape,ser_ytrain.shape)\n",
    "df_Xtrain.head()"
   ]
  },
  {
   "cell_type": "markdown",
   "metadata": {
    "colab_type": "text",
    "id": "vkC5n6muJSeS"
   },
   "source": [
    "# Modelling"
   ]
  },
  {
   "cell_type": "markdown",
   "metadata": {
    "colab_type": "text",
    "id": "C7zZFCfgXSeE"
   },
   "source": [
    "## Setup Models\n",
    "- [hist gbr](https://scikit-learn.org/stable/modules/generated/sklearn.ensemble.HistGradientBoostingRegressor.html)"
   ]
  },
  {
   "cell_type": "code",
   "execution_count": null,
   "metadata": {
    "colab": {},
    "colab_type": "code",
    "id": "eZXgaMpFYOg-"
   },
   "outputs": [],
   "source": [
    "from sklearn.model_selection import KFold, cross_val_score,cross_validate\n",
    "from sklearn.pipeline import make_pipeline\n",
    "from sklearn.preprocessing import RobustScaler"
   ]
  },
  {
   "cell_type": "code",
   "execution_count": null,
   "metadata": {
    "colab": {},
    "colab_type": "code",
    "id": "lt_903p3XJhQ"
   },
   "outputs": [],
   "source": [
    "# Setup cross validation folds\n",
    "kf = KFold(n_splits=5, random_state=SEED, shuffle=True)"
   ]
  },
  {
   "cell_type": "code",
   "execution_count": null,
   "metadata": {
    "colab": {},
    "colab_type": "code",
    "id": "36x5YEUiWyp8"
   },
   "outputs": [],
   "source": [
    "from sklearn.linear_model import Ridge, RidgeCV\n",
    "from sklearn.svm import SVR\n",
    "from sklearn.ensemble import RandomForestRegressor\n",
    "\n",
    "# Ridge CV Regressor\n",
    "ridge_alphas = [1e-15, 1e-10, 1e-8, 9e-4, 7e-4, 5e-4, 3e-4, 1e-4, 1e-3, 5e-2,\n",
    "                1e-2, 0.1, 0.3, 1, 3, 5, 10, 15, 18, 20, 30, 50, 75, 100]\n",
    "ridgecv = make_pipeline(RobustScaler(), RidgeCV(alphas=ridge_alphas, cv=kf))\n",
    "\n",
    "\n",
    "# Ridge Regressor\n",
    "ridge = make_pipeline(RobustScaler(), Ridge())\n",
    "\n",
    "# Support Vector Regressor\n",
    "svr = make_pipeline(RobustScaler(), SVR(C= 20, epsilon= 0.008, gamma=0.0003))\n",
    "\n",
    "# Random Forest Regressor\n",
    "rf = RandomForestRegressor(n_estimators=1200,\n",
    "                max_depth=15,\n",
    "                min_samples_split=5,\n",
    "                min_samples_leaf=5,\n",
    "                max_features=None,\n",
    "                oob_score=True,\n",
    "                n_jobs=-1,\n",
    "                random_state=SEED)"
   ]
  },
  {
   "cell_type": "code",
   "execution_count": null,
   "metadata": {
    "colab": {},
    "colab_type": "code",
    "id": "z64WS7KJNV1x"
   },
   "outputs": [],
   "source": [
    "def calculate_adjusted_r2(y_true,y_preds, nrows,kcols):\n",
    "    \"\"\"\n",
    "    Adjusted r-squared depends on number of rows and columns of Test data.\n",
    "\n",
    "    It reduces the value of original r-squared value.\n",
    "    \"\"\"\n",
    "    r2 = metrics.r2_score(y_true,y_preds)\n",
    "    ar2 = r2 - (kcols-1)/(nrows-kcols) * (1-r2)\n",
    "    return ar2\n",
    "\n",
    "nrows = df_Xtrain.shape[0]\n",
    "kcols = df_Xtrain.shape[1]\n",
    "scorer_ar2 = metrics.make_scorer(calculate_adjusted_r2,nrows=nrows,kcols=kcols)\n",
    "\n",
    "# WARNING: We get\n",
    "# AttributeError: 'Ridge' object has no attribute 'predict_proba'\n",
    "# if we do not use named keywords like nrows=nrows"
   ]
  },
  {
   "cell_type": "code",
   "execution_count": null,
   "metadata": {
    "colab": {},
    "colab_type": "code",
    "id": "sa6mEKY3W2ZB"
   },
   "outputs": [],
   "source": [
    "from sklearn.ensemble import GradientBoostingRegressor\n",
    "from sklearn.experimental import enable_hist_gradient_boosting  # noqa\n",
    "from sklearn.ensemble import HistGradientBoostingClassifier\n",
    "from xgboost import XGBRegressor\n",
    "from lightgbm import LGBMRegressor\n",
    "\n",
    "# Gradient boosting regressior is deprecated use hist gradient booster\n",
    "# # Gradient Boosting Regressor\n",
    "# gbr = GradientBoostingRegressor(alpha=0.5, criterion='friedman_mse', init=None,\n",
    "#                           learning_rate=0.030436296469075703, loss='quantile',\n",
    "#                           max_depth=None, max_features=0.8340107985008011,\n",
    "#                           max_leaf_nodes=None, min_impurity_decrease=0.0,\n",
    "#                           min_impurity_split=None, min_samples_leaf=3,\n",
    "#                           min_samples_split=2, min_weight_fraction_leaf=0.0,\n",
    "#                           n_estimators=245, n_iter_no_change=None,\n",
    "#                           random_state=3,\n",
    "#                           subsample=0.5131351702909814, tol=0.0001,\n",
    "#                           validation_fraction=0.1, verbose=0, warm_start=False)\n",
    "\n",
    "hgbr = HistGradientBoostingClassifier(max_iter=500,random_state=SEED,\n",
    "                                     scoring=scorer_ar2\n",
    "                                     )\n",
    "\n",
    "# XGBoost Regressor\n",
    "model_xgb = XGBRegressor(n_jobs=-1, random_state=SEED,\n",
    "                        objective='reg:squarederror',\n",
    "                        n_estimators=1200,\n",
    "                        max_depth=3,\n",
    "                        reg_alpha=1,\n",
    "                        reg_lambda=5,\n",
    "                        subsample=1,\n",
    "                        gamma=0,\n",
    "                        min_child_weight=1,\n",
    "                        colsample_bytree=1,\n",
    "                        learning_rate=0.1,\n",
    "                        tree_method=TREE_METHOD\n",
    "                        )\n",
    "\n",
    "# Light Gradient Boosting Regressor\n",
    "model_lgb = LGBMRegressor(boosting_type='gbdt', class_weight=None, colsample_bytree=1.0,\n",
    "              importance_type='split', learning_rate=0.1, max_depth=-1,\n",
    "              min_child_samples=20, min_child_weight=0.001, min_split_gain=0.0,\n",
    "              n_estimators=100, n_jobs=-1, num_leaves=31, objective=None,\n",
    "              random_state=100, reg_alpha=0.0, reg_lambda=0.0, silent=True,\n",
    "              subsample=1.0, subsample_for_bin=200000, subsample_freq=0)"
   ]
  },
  {
   "cell_type": "code",
   "execution_count": null,
   "metadata": {
    "colab": {},
    "colab_type": "code",
    "id": "wImdN4I1Xopk"
   },
   "outputs": [],
   "source": [
    "# Stack up all the models\n",
    "from mlxtend.regressor import StackingCVRegressor\n",
    "stack = StackingCVRegressor(regressors=(model_xgb, model_lgb, svr, ridge, gbr, rf),\n",
    "                                meta_regressor=model_xgb,\n",
    "                                use_features_in_secondary=True)"
   ]
  },
  {
   "cell_type": "markdown",
   "metadata": {
    "colab_type": "text",
    "id": "o4bck8PmY0h9"
   },
   "source": [
    "## Cross validation scores"
   ]
  },
  {
   "cell_type": "code",
   "execution_count": null,
   "metadata": {
    "colab": {},
    "colab_type": "code",
    "id": "mxzPuTXVceVd"
   },
   "outputs": [],
   "source": [
    "import warnings\n",
    "from scipy.linalg import LinAlgWarning\n",
    "warnings.filterwarnings(action='ignore', category=LinAlgWarning, module='sklearn')\n",
    "\n",
    "warning_we_get = \"\"\"\n",
    "/usr/local/lib/python3.6/dist-packages/sklearn/linear_model/_ridge.py:148: LinAlgWarning: Ill-conditioned matrix (rcond=3.275e-20): result may not be accurate.\n",
    "  overwrite_a=True).T\n",
    "\n",
    "\"\"\"\n",
    "cross_val_score(ridgecv, df_Xtrain,ytrain,cv=kf,scoring='r2')"
   ]
  },
  {
   "cell_type": "code",
   "execution_count": null,
   "metadata": {
    "colab": {},
    "colab_type": "code",
    "id": "8ej5srO2cedM"
   },
   "outputs": [],
   "source": [
    "cross_val_score(ridgecv, df_Xtrain,ytrain,cv=kf,scoring=scorer_ar2)"
   ]
  },
  {
   "cell_type": "code",
   "execution_count": null,
   "metadata": {
    "colab": {},
    "colab_type": "code",
    "id": "cBrMwwxxc_pL"
   },
   "outputs": [],
   "source": [
    "cross_validate(ridgecv, df_Xtrain,ytrain,cv=kf,scoring={'ar2': scorer_ar2})"
   ]
  },
  {
   "cell_type": "code",
   "execution_count": null,
   "metadata": {
    "colab": {},
    "colab_type": "code",
    "id": "uSKTlNOQZkZy"
   },
   "outputs": [],
   "source": [
    "def get_cv_score(model_name, model,\n",
    "                X=df_Xtrain,y=ser_ytrain,\n",
    "                cv=kf,df_scores=None,show=True):\n",
    "    time_start = time.time()\n",
    "    # output df\n",
    "    if not isinstance(df_scores,pd.DataFrame):\n",
    "        df_scores = pd.DataFrame({'Model': [],\n",
    "                                  'RMSE': [],\n",
    "                                  'RMSE_std': [],\n",
    "                                  'R2': [],\n",
    "                                  'R2_std': [],\n",
    "                                  'AR2':[],\n",
    "                                  'AR2_std': [],\n",
    "                                  'Time_Taken': [],\n",
    "                                  })\n",
    "        \n",
    "    # get score from cross-validation\n",
    "    # cross_val_score support only one metric (unlike cross_validate)\n",
    "    scoring = {\n",
    "    'neg_rmse': 'neg_root_mean_squared_error',\n",
    "    'r2': 'r2',\n",
    "    'ar2': scorer_ar2}\n",
    "\n",
    "    score = cross_validate(model, X,y,cv=cv,scoring=scoring)\n",
    "\n",
    "    # we need to make rmse neg\n",
    "    rmse = -score['test_neg_rmse'].mean()\n",
    "    rmse_std = score['test_neg_rmse'].std()\n",
    "\n",
    "    # r2 and ar2 are already +ve\n",
    "    r2 = score['test_r2'].mean()\n",
    "    r2_std = score['test_r2'].std()\n",
    "    ar2 = score['test_ar2'].mean()\n",
    "    ar2_std = score['test_ar2'].std()\n",
    "\n",
    "    # time taken\n",
    "    time_taken = time.time() - time_start\n",
    "    h,m = divmod(time_taken,60*60)\n",
    "    m,s = divmod(m,60)\n",
    "    time_taken = f\"{h:.0f} h {m:.0f} min {s:.2f} sec\" if h > 0 else f\"{m:.0f} min {s:.2f} sec\"\n",
    "    time_taken = f\"{m:.0f} min {s:.2f} sec\" if m > 0 else f\"{s:.2f} sec\"\n",
    "\n",
    "    df_scores.loc[len(df_scores)] = [model_name,rmse, rmse_std, r2,\n",
    "                                     r2_std, ar2, ar2_std,time_taken]\n",
    "    df_scores = df_scores.sort_values('AR2',ascending=False)\n",
    "    df_scores = df_scores.drop_duplicates()\n",
    "    df_scores = df_scores.reset_index(drop=True)\n",
    "\n",
    "    # display output\n",
    "    if show:\n",
    "        display(df_scores.style\n",
    "                .format({\n",
    "                    'RMSE': \"{:,.0f}\",\n",
    "                    'RMSE_std': \"{:,.0f}\",\n",
    "                    'R2': \"{:,.4f}\",\n",
    "                    'R2_std': \"{:,.4f}\",\n",
    "                    'AR2': \"{:,.4f}\",\n",
    "                    'AR2_std': \"{:,.4f}\",\n",
    "                    })\n",
    "                .background_gradient(subset=['AR2'])\n",
    "                )\n",
    "\n",
    "    return df_scores"
   ]
  },
  {
   "cell_type": "code",
   "execution_count": null,
   "metadata": {
    "colab": {},
    "colab_type": "code",
    "id": "rgjlOoDpa5Vt"
   },
   "outputs": [],
   "source": [
    "%%capture\n",
    "df_scores = get_cv_score('ridgecv', ridgecv,df_scores=None)"
   ]
  },
  {
   "cell_type": "code",
   "execution_count": null,
   "metadata": {
    "colab": {
     "base_uri": "https://localhost:8080/",
     "height": 142
    },
    "colab_type": "code",
    "id": "9F40LAFQZKEo",
    "outputId": "85510129-029d-4c35-d5a5-7372c6dff6ac"
   },
   "outputs": [
    {
     "data": {
      "text/html": [
       "<style  type=\"text/css\" >\n",
       "    #T_ef520392_fb54_11ea_954e_0242ac1c0002row0_col5 {\n",
       "            background-color:  #023858;\n",
       "            color:  #f1f1f1;\n",
       "        }    #T_ef520392_fb54_11ea_954e_0242ac1c0002row1_col5 {\n",
       "            background-color:  #02395a;\n",
       "            color:  #f1f1f1;\n",
       "        }    #T_ef520392_fb54_11ea_954e_0242ac1c0002row2_col5 {\n",
       "            background-color:  #023b5d;\n",
       "            color:  #f1f1f1;\n",
       "        }    #T_ef520392_fb54_11ea_954e_0242ac1c0002row3_col5 {\n",
       "            background-color:  #034973;\n",
       "            color:  #f1f1f1;\n",
       "        }    #T_ef520392_fb54_11ea_954e_0242ac1c0002row4_col5 {\n",
       "            background-color:  #d4d4e8;\n",
       "            color:  #000000;\n",
       "        }    #T_ef520392_fb54_11ea_954e_0242ac1c0002row5_col5 {\n",
       "            background-color:  #fff7fb;\n",
       "            color:  #000000;\n",
       "        }</style><table id=\"T_ef520392_fb54_11ea_954e_0242ac1c0002\" ><thead>    <tr>        <th class=\"blank level0\" ></th>        <th class=\"col_heading level0 col0\" >Model</th>        <th class=\"col_heading level0 col1\" >RMSE</th>        <th class=\"col_heading level0 col2\" >RMSE_std</th>        <th class=\"col_heading level0 col3\" >R2</th>        <th class=\"col_heading level0 col4\" >R2_std</th>        <th class=\"col_heading level0 col5\" >AR2</th>        <th class=\"col_heading level0 col6\" >AR2_std</th>        <th class=\"col_heading level0 col7\" >Time_Taken</th>    </tr></thead><tbody>\n",
       "                <tr>\n",
       "                        <th id=\"T_ef520392_fb54_11ea_954e_0242ac1c0002level0_row0\" class=\"row_heading level0 row0\" >0</th>\n",
       "                        <td id=\"T_ef520392_fb54_11ea_954e_0242ac1c0002row0_col0\" class=\"data row0 col0\" >rf</td>\n",
       "                        <td id=\"T_ef520392_fb54_11ea_954e_0242ac1c0002row0_col1\" class=\"data row0 col1\" >20,498</td>\n",
       "                        <td id=\"T_ef520392_fb54_11ea_954e_0242ac1c0002row0_col2\" class=\"data row0 col2\" >21,701</td>\n",
       "                        <td id=\"T_ef520392_fb54_11ea_954e_0242ac1c0002row0_col3\" class=\"data row0 col3\" >0.9941</td>\n",
       "                        <td id=\"T_ef520392_fb54_11ea_954e_0242ac1c0002row0_col4\" class=\"data row0 col4\" >0.0100</td>\n",
       "                        <td id=\"T_ef520392_fb54_11ea_954e_0242ac1c0002row0_col5\" class=\"data row0 col5\" >0.9940</td>\n",
       "                        <td id=\"T_ef520392_fb54_11ea_954e_0242ac1c0002row0_col6\" class=\"data row0 col6\" >0.0101</td>\n",
       "                        <td id=\"T_ef520392_fb54_11ea_954e_0242ac1c0002row0_col7\" class=\"data row0 col7\" >17 min 56.44 sec</td>\n",
       "            </tr>\n",
       "            <tr>\n",
       "                        <th id=\"T_ef520392_fb54_11ea_954e_0242ac1c0002level0_row1\" class=\"row_heading level0 row1\" >1</th>\n",
       "                        <td id=\"T_ef520392_fb54_11ea_954e_0242ac1c0002row1_col0\" class=\"data row1 col0\" >lightgbm</td>\n",
       "                        <td id=\"T_ef520392_fb54_11ea_954e_0242ac1c0002row1_col1\" class=\"data row1 col1\" >38,185</td>\n",
       "                        <td id=\"T_ef520392_fb54_11ea_954e_0242ac1c0002row1_col2\" class=\"data row1 col2\" >18,945</td>\n",
       "                        <td id=\"T_ef520392_fb54_11ea_954e_0242ac1c0002row1_col3\" class=\"data row1 col3\" >0.9875</td>\n",
       "                        <td id=\"T_ef520392_fb54_11ea_954e_0242ac1c0002row1_col4\" class=\"data row1 col4\" >0.0112</td>\n",
       "                        <td id=\"T_ef520392_fb54_11ea_954e_0242ac1c0002row1_col5\" class=\"data row1 col5\" >0.9874</td>\n",
       "                        <td id=\"T_ef520392_fb54_11ea_954e_0242ac1c0002row1_col6\" class=\"data row1 col6\" >0.0113</td>\n",
       "                        <td id=\"T_ef520392_fb54_11ea_954e_0242ac1c0002row1_col7\" class=\"data row1 col7\" >4.53 sec</td>\n",
       "            </tr>\n",
       "            <tr>\n",
       "                        <th id=\"T_ef520392_fb54_11ea_954e_0242ac1c0002level0_row2\" class=\"row_heading level0 row2\" >2</th>\n",
       "                        <td id=\"T_ef520392_fb54_11ea_954e_0242ac1c0002row2_col0\" class=\"data row2 col0\" >xgboost</td>\n",
       "                        <td id=\"T_ef520392_fb54_11ea_954e_0242ac1c0002row2_col1\" class=\"data row2 col1\" >54,470</td>\n",
       "                        <td id=\"T_ef520392_fb54_11ea_954e_0242ac1c0002row2_col2\" class=\"data row2 col2\" >27,576</td>\n",
       "                        <td id=\"T_ef520392_fb54_11ea_954e_0242ac1c0002row2_col3\" class=\"data row2 col3\" >0.9746</td>\n",
       "                        <td id=\"T_ef520392_fb54_11ea_954e_0242ac1c0002row2_col4\" class=\"data row2 col4\" >0.0211</td>\n",
       "                        <td id=\"T_ef520392_fb54_11ea_954e_0242ac1c0002row2_col5\" class=\"data row2 col5\" >0.9745</td>\n",
       "                        <td id=\"T_ef520392_fb54_11ea_954e_0242ac1c0002row2_col6\" class=\"data row2 col6\" >0.0212</td>\n",
       "                        <td id=\"T_ef520392_fb54_11ea_954e_0242ac1c0002row2_col7\" class=\"data row2 col7\" >2 min 16.64 sec</td>\n",
       "            </tr>\n",
       "            <tr>\n",
       "                        <th id=\"T_ef520392_fb54_11ea_954e_0242ac1c0002level0_row3\" class=\"row_heading level0 row3\" >3</th>\n",
       "                        <td id=\"T_ef520392_fb54_11ea_954e_0242ac1c0002row3_col0\" class=\"data row3 col0\" >ridgecv</td>\n",
       "                        <td id=\"T_ef520392_fb54_11ea_954e_0242ac1c0002row3_col1\" class=\"data row3 col1\" >113,787</td>\n",
       "                        <td id=\"T_ef520392_fb54_11ea_954e_0242ac1c0002row3_col2\" class=\"data row3 col2\" >9,183</td>\n",
       "                        <td id=\"T_ef520392_fb54_11ea_954e_0242ac1c0002row3_col3\" class=\"data row3 col3\" >0.9036</td>\n",
       "                        <td id=\"T_ef520392_fb54_11ea_954e_0242ac1c0002row3_col4\" class=\"data row3 col4\" >0.0071</td>\n",
       "                        <td id=\"T_ef520392_fb54_11ea_954e_0242ac1c0002row3_col5\" class=\"data row3 col5\" >0.9031</td>\n",
       "                        <td id=\"T_ef520392_fb54_11ea_954e_0242ac1c0002row3_col6\" class=\"data row3 col6\" >0.0072</td>\n",
       "                        <td id=\"T_ef520392_fb54_11ea_954e_0242ac1c0002row3_col7\" class=\"data row3 col7\" >18.66 sec</td>\n",
       "            </tr>\n",
       "            <tr>\n",
       "                        <th id=\"T_ef520392_fb54_11ea_954e_0242ac1c0002level0_row4\" class=\"row_heading level0 row4\" >4</th>\n",
       "                        <td id=\"T_ef520392_fb54_11ea_954e_0242ac1c0002row4_col0\" class=\"data row4 col0\" >svr</td>\n",
       "                        <td id=\"T_ef520392_fb54_11ea_954e_0242ac1c0002row4_col1\" class=\"data row4 col1\" >376,296</td>\n",
       "                        <td id=\"T_ef520392_fb54_11ea_954e_0242ac1c0002row4_col2\" class=\"data row4 col2\" >21,587</td>\n",
       "                        <td id=\"T_ef520392_fb54_11ea_954e_0242ac1c0002row4_col3\" class=\"data row4 col3\" >-0.0544</td>\n",
       "                        <td id=\"T_ef520392_fb54_11ea_954e_0242ac1c0002row4_col4\" class=\"data row4 col4\" >0.0058</td>\n",
       "                        <td id=\"T_ef520392_fb54_11ea_954e_0242ac1c0002row4_col5\" class=\"data row4 col5\" >-0.0606</td>\n",
       "                        <td id=\"T_ef520392_fb54_11ea_954e_0242ac1c0002row4_col6\" class=\"data row4 col6\" >0.0058</td>\n",
       "                        <td id=\"T_ef520392_fb54_11ea_954e_0242ac1c0002row4_col7\" class=\"data row4 col7\" >3 min 4.46 sec</td>\n",
       "            </tr>\n",
       "            <tr>\n",
       "                        <th id=\"T_ef520392_fb54_11ea_954e_0242ac1c0002level0_row5\" class=\"row_heading level0 row5\" >5</th>\n",
       "                        <td id=\"T_ef520392_fb54_11ea_954e_0242ac1c0002row5_col0\" class=\"data row5 col0\" >gbr</td>\n",
       "                        <td id=\"T_ef520392_fb54_11ea_954e_0242ac1c0002row5_col1\" class=\"data row5 col1\" >429,560</td>\n",
       "                        <td id=\"T_ef520392_fb54_11ea_954e_0242ac1c0002row5_col2\" class=\"data row5 col2\" >35,677</td>\n",
       "                        <td id=\"T_ef520392_fb54_11ea_954e_0242ac1c0002row5_col3\" class=\"data row5 col3\" >-0.3715</td>\n",
       "                        <td id=\"T_ef520392_fb54_11ea_954e_0242ac1c0002row5_col4\" class=\"data row5 col4\" >0.0813</td>\n",
       "                        <td id=\"T_ef520392_fb54_11ea_954e_0242ac1c0002row5_col5\" class=\"data row5 col5\" >-0.3795</td>\n",
       "                        <td id=\"T_ef520392_fb54_11ea_954e_0242ac1c0002row5_col6\" class=\"data row5 col6\" >0.0818</td>\n",
       "                        <td id=\"T_ef520392_fb54_11ea_954e_0242ac1c0002row5_col7\" class=\"data row5 col7\" >38 min 23.84 sec</td>\n",
       "            </tr>\n",
       "    </tbody></table>"
      ],
      "text/plain": [
       "<pandas.io.formats.style.Styler at 0x7f366b2a80f0>"
      ]
     },
     "metadata": {
      "tags": []
     },
     "output_type": "display_data"
    }
   ],
   "source": [
    "df_scores = get_cv_score('svr', svr,df_scores=df_scores,show=False)\n",
    "df_scores = get_cv_score('rf', rf,df_scores=df_scores,show=False)\n",
    "df_scores = get_cv_score('hist_gbr', hgbr,df_scores=df_scores,show=False)\n",
    "df_scores = get_cv_score('xgboost', model_xgb,df_scores=df_scores,show=False)\n",
    "df_scores = get_cv_score('lightgbm', model_lgb,df_scores=df_scores,show=False)"
   ]
  },
  {
   "cell_type": "code",
   "execution_count": null,
   "metadata": {
    "colab": {
     "base_uri": "https://localhost:8080/",
     "height": 298
    },
    "colab_type": "code",
    "id": "pLJq7BUskz92",
    "outputId": "50d15ec1-6fdf-457d-8109-45f95d9726e4"
   },
   "outputs": [
    {
     "data": {
      "text/plain": [
       "<matplotlib.axes._subplots.AxesSubplot at 0x7f3666dbeba8>"
      ]
     },
     "execution_count": 38,
     "metadata": {
      "tags": []
     },
     "output_type": "execute_result"
    },
    {
     "data": {
      "image/png": "[encoded data removed]",
      "text/plain": [
       "<Figure size 432x288 with 1 Axes>"
      ]
     },
     "metadata": {
      "image/png": {
       "height": 264,
       "width": 380
      },
      "tags": []
     },
     "output_type": "display_data"
    }
   ],
   "source": [
    "df_scores.set_index('Model')['AR2'].plot.line('ro')"
   ]
  },
  {
   "cell_type": "markdown",
   "metadata": {
    "colab_type": "text",
    "id": "8RuLXvkNbxtO"
   },
   "source": [
    "# Fit the models"
   ]
  },
  {
   "cell_type": "code",
   "execution_count": null,
   "metadata": {
    "colab": {},
    "colab_type": "code",
    "id": "lVt2Hr9TkWWh"
   },
   "outputs": [],
   "source": [
    "%%capture\n",
    "ridge.fit(df_Xtrain,ser_ytrain);"
   ]
  },
  {
   "cell_type": "code",
   "execution_count": null,
   "metadata": {
    "colab": {
     "base_uri": "https://localhost:8080/",
     "height": 212
    },
    "colab_type": "code",
    "id": "iuzY3YOykqzS",
    "outputId": "d8164712-c927-47d4-b962-5733913be2ed"
   },
   "outputs": [
    {
     "name": "stdout",
     "output_type": "stream",
     "text": [
      "CPU times: user 50.2 s, sys: 94.5 ms, total: 50.3 s\n",
      "Wall time: 50.2 s\n"
     ]
    },
    {
     "data": {
      "text/plain": [
       "Pipeline(memory=None,\n",
       "         steps=[('robustscaler',\n",
       "                 RobustScaler(copy=True, quantile_range=(25.0, 75.0),\n",
       "                              with_centering=True, with_scaling=True)),\n",
       "                ('svr',\n",
       "                 SVR(C=20, cache_size=200, coef0=0.0, degree=3, epsilon=0.008,\n",
       "                     gamma=0.0003, kernel='rbf', max_iter=-1, shrinking=True,\n",
       "                     tol=0.001, verbose=False))],\n",
       "         verbose=False)"
      ]
     },
     "execution_count": 40,
     "metadata": {
      "tags": []
     },
     "output_type": "execute_result"
    }
   ],
   "source": [
    "%%time\n",
    "svr.fit(df_Xtrain,ser_ytrain);"
   ]
  },
  {
   "cell_type": "code",
   "execution_count": null,
   "metadata": {
    "colab": {
     "base_uri": "https://localhost:8080/",
     "height": 176
    },
    "colab_type": "code",
    "id": "OdFg_0N_5gkM",
    "outputId": "de3ac78a-4162-4ed2-99e1-96c0597fffd3"
   },
   "outputs": [
    {
     "name": "stdout",
     "output_type": "stream",
     "text": [
      "CPU times: user 8min 42s, sys: 979 ms, total: 8min 43s\n",
      "Wall time: 4min 29s\n"
     ]
    },
    {
     "data": {
      "text/plain": [
       "RandomForestRegressor(bootstrap=True, ccp_alpha=0.0, criterion='mse',\n",
       "                      max_depth=15, max_features=None, max_leaf_nodes=None,\n",
       "                      max_samples=None, min_impurity_decrease=0.0,\n",
       "                      min_impurity_split=None, min_samples_leaf=5,\n",
       "                      min_samples_split=5, min_weight_fraction_leaf=0.0,\n",
       "                      n_estimators=1200, n_jobs=-1, oob_score=True,\n",
       "                      random_state=100, verbose=0, warm_start=False)"
      ]
     },
     "execution_count": 41,
     "metadata": {
      "tags": []
     },
     "output_type": "execute_result"
    }
   ],
   "source": [
    "%%time\n",
    "rf.fit(df_Xtrain,ser_ytrain);"
   ]
  },
  {
   "cell_type": "code",
   "execution_count": null,
   "metadata": {
    "colab": {
     "base_uri": "https://localhost:8080/",
     "height": 194
    },
    "colab_type": "code",
    "id": "6D8vMkHK5gqs",
    "outputId": "54293ade-4390-4a51-ce6f-3bfdc75b2b75"
   },
   "outputs": [
    {
     "name": "stdout",
     "output_type": "stream",
     "text": [
      "CPU times: user 49min 44s, sys: 24.9 s, total: 50min 9s\n",
      "Wall time: 25min 40s\n"
     ]
    },
    {
     "data": {
      "text/plain": [
       "HistGradientBoostingClassifier(l2_regularization=0.0, learning_rate=0.1,\n",
       "                               loss='auto', max_bins=255, max_depth=None,\n",
       "                               max_iter=500, max_leaf_nodes=31,\n",
       "                               min_samples_leaf=20, n_iter_no_change=None,\n",
       "                               random_state=100,\n",
       "                               scoring=make_scorer(calculate_adjusted_r2, nrows=17290, kcols=101),\n",
       "                               tol=1e-07, validation_fraction=0.1, verbose=0,\n",
       "                               warm_start=False)"
      ]
     },
     "execution_count": 42,
     "metadata": {
      "tags": []
     },
     "output_type": "execute_result"
    }
   ],
   "source": [
    "%%time\n",
    "hist_gbr.fit(df_Xtrain,ser_ytrain);"
   ]
  },
  {
   "cell_type": "code",
   "execution_count": null,
   "metadata": {
    "colab": {
     "base_uri": "https://localhost:8080/",
     "height": 194
    },
    "colab_type": "code",
    "id": "-sCFJ63NJUnQ",
    "outputId": "dde45204-de5c-4dfa-ecf6-f4c58f2c4346"
   },
   "outputs": [
    {
     "name": "stdout",
     "output_type": "stream",
     "text": [
      "CPU times: user 18.8 s, sys: 12.6 s, total: 31.3 s\n",
      "Wall time: 31.2 s\n"
     ]
    },
    {
     "data": {
      "text/plain": [
       "XGBRegressor(base_score=0.5, booster='gbtree', colsample_bylevel=1,\n",
       "             colsample_bynode=1, colsample_bytree=1, gamma=0,\n",
       "             importance_type='gain', learning_rate=0.1, max_delta_step=0,\n",
       "             max_depth=3, min_child_weight=1, missing=None, n_estimators=1200,\n",
       "             n_jobs=-1, nthread=None, objective='reg:squarederror',\n",
       "             random_state=100, reg_alpha=1, reg_lambda=5, scale_pos_weight=1,\n",
       "             seed=None, silent=None, subsample=1, tree_method='gpu_hist',\n",
       "             verbosity=1)"
      ]
     },
     "execution_count": 43,
     "metadata": {
      "tags": []
     },
     "output_type": "execute_result"
    }
   ],
   "source": [
    "%%time\n",
    "model_xgb.fit(df_Xtrain,ser_ytrain);"
   ]
  },
  {
   "cell_type": "code",
   "execution_count": null,
   "metadata": {
    "colab": {
     "base_uri": "https://localhost:8080/",
     "height": 158
    },
    "colab_type": "code",
    "id": "QsOxzIWNJXJC",
    "outputId": "30847d48-4690-4cc1-af96-a9cfc47c7d18"
   },
   "outputs": [
    {
     "name": "stdout",
     "output_type": "stream",
     "text": [
      "CPU times: user 1.81 s, sys: 25 ms, total: 1.84 s\n",
      "Wall time: 991 ms\n"
     ]
    },
    {
     "data": {
      "text/plain": [
       "LGBMRegressor(boosting_type='gbdt', class_weight=None, colsample_bytree=1.0,\n",
       "              importance_type='split', learning_rate=0.1, max_depth=-1,\n",
       "              min_child_samples=20, min_child_weight=0.001, min_split_gain=0.0,\n",
       "              n_estimators=100, n_jobs=-1, num_leaves=31, objective=None,\n",
       "              random_state=100, reg_alpha=0.0, reg_lambda=0.0, silent=True,\n",
       "              subsample=1.0, subsample_for_bin=200000, subsample_freq=0)"
      ]
     },
     "execution_count": 44,
     "metadata": {
      "tags": []
     },
     "output_type": "execute_result"
    }
   ],
   "source": [
    "%%time\n",
    "model_lgb.fit(df_Xtrain,ser_ytrain);"
   ]
  },
  {
   "cell_type": "code",
   "execution_count": null,
   "metadata": {
    "colab": {},
    "colab_type": "code",
    "id": "_Ed_2GiNJZ03"
   },
   "outputs": [],
   "source": [
    "%%capture\n",
    "t_s = time.time()\n",
    "stack.fit(np.array(df_Xtrain),np.array(ser_ytrain))\n",
    "t_t = time.time() - t_s\n",
    "m,s = divmod(t_t,60)\n",
    "print(f'Time Taken : {m} min {s} sec')"
   ]
  },
  {
   "cell_type": "code",
   "execution_count": null,
   "metadata": {
    "colab": {
     "base_uri": "https://localhost:8080/",
     "height": 52
    },
    "colab_type": "code",
    "id": "Eoa8NfT6Jcj2",
    "outputId": "d2ecdb4d-9f17-490f-b752-0121300b4595"
   },
   "outputs": [
    {
     "name": "stdout",
     "output_type": "stream",
     "text": [
      "CPU times: user 6min 57s, sys: 6.31 s, total: 7min 4s\n",
      "Wall time: 3min 57s\n"
     ]
    }
   ],
   "source": [
    "%%time\n",
    "y_preds_stack = stack.predict(np.array(df_Xtrain))"
   ]
  },
  {
   "cell_type": "code",
   "execution_count": null,
   "metadata": {
    "colab": {},
    "colab_type": "code",
    "id": "XMPLaT-PJfik"
   },
   "outputs": [],
   "source": [
    "def rmse(y, y_pred):\n",
    "    return np.sqrt(mean_squared_error(y, y_pred))"
   ]
  },
  {
   "cell_type": "code",
   "execution_count": null,
   "metadata": {
    "colab": {
     "base_uri": "https://localhost:8080/",
     "height": 34
    },
    "colab_type": "code",
    "id": "_Jt2H2f7Jifi",
    "outputId": "20108e23-25c2-4ca2-91e4-bc7afb288ba1"
   },
   "outputs": [
    {
     "data": {
      "text/plain": [
       "10922.958452311159"
      ]
     },
     "execution_count": 48,
     "metadata": {
      "tags": []
     },
     "output_type": "execute_result"
    }
   ],
   "source": [
    "y_train = np.array(ser_ytrain)\n",
    "nrows = df_Xtrain.shape[0]\n",
    "kcols = df_Xtrain.shape[1]"
   ]
  },
  {
   "cell_type": "code",
   "execution_count": null,
   "metadata": {
    "colab": {},
    "colab_type": "code",
    "id": "ewu90K8b6ChQ"
   },
   "outputs": [],
   "source": [
    "rmse_stack = rmse(y_train, y_preds_stack)\n",
    "r2_stack = metrics.r2_score(y_train, y_preds_stack)\n",
    "ar2_stack = calculate_adjusted_r2(y_train,y_preds_stack,nrows=nrows,kcols=kcols)"
   ]
  },
  {
   "cell_type": "code",
   "execution_count": null,
   "metadata": {
    "colab": {
     "base_uri": "https://localhost:8080/",
     "height": 257
    },
    "colab_type": "code",
    "id": "JuLgDqrxXffX",
    "outputId": "f1bce3f7-2b5b-4267-c3f4-6f455e69e075"
   },
   "outputs": [
    {
     "data": {
      "text/html": [
       "<div>\n",
       "<style scoped>\n",
       "    .dataframe tbody tr th:only-of-type {\n",
       "        vertical-align: middle;\n",
       "    }\n",
       "\n",
       "    .dataframe tbody tr th {\n",
       "        vertical-align: top;\n",
       "    }\n",
       "\n",
       "    .dataframe thead th {\n",
       "        text-align: right;\n",
       "    }\n",
       "</style>\n",
       "<table border=\"1\" class=\"dataframe\">\n",
       "  <thead>\n",
       "    <tr style=\"text-align: right;\">\n",
       "      <th></th>\n",
       "      <th>Model</th>\n",
       "      <th>RMSE</th>\n",
       "      <th>RMSE_std</th>\n",
       "      <th>R2</th>\n",
       "      <th>R2_std</th>\n",
       "      <th>AR2</th>\n",
       "      <th>AR2_std</th>\n",
       "      <th>Time_Taken</th>\n",
       "    </tr>\n",
       "  </thead>\n",
       "  <tbody>\n",
       "    <tr>\n",
       "      <th>0</th>\n",
       "      <td>rf</td>\n",
       "      <td>20498.398459</td>\n",
       "      <td>21701.317863</td>\n",
       "      <td>0.994065</td>\n",
       "      <td>0.010050</td>\n",
       "      <td>0.994031</td>\n",
       "      <td>0.010108</td>\n",
       "      <td>17 min 56.44 sec</td>\n",
       "    </tr>\n",
       "    <tr>\n",
       "      <th>1</th>\n",
       "      <td>lightgbm</td>\n",
       "      <td>38184.637408</td>\n",
       "      <td>18944.952525</td>\n",
       "      <td>0.987501</td>\n",
       "      <td>0.011244</td>\n",
       "      <td>0.987428</td>\n",
       "      <td>0.011309</td>\n",
       "      <td>4.53 sec</td>\n",
       "    </tr>\n",
       "    <tr>\n",
       "      <th>2</th>\n",
       "      <td>xgboost</td>\n",
       "      <td>54469.779570</td>\n",
       "      <td>27575.860015</td>\n",
       "      <td>0.974609</td>\n",
       "      <td>0.021074</td>\n",
       "      <td>0.974461</td>\n",
       "      <td>0.021197</td>\n",
       "      <td>2 min 16.64 sec</td>\n",
       "    </tr>\n",
       "    <tr>\n",
       "      <th>3</th>\n",
       "      <td>ridgecv</td>\n",
       "      <td>113786.703957</td>\n",
       "      <td>9183.497711</td>\n",
       "      <td>0.903633</td>\n",
       "      <td>0.007111</td>\n",
       "      <td>0.903072</td>\n",
       "      <td>0.007152</td>\n",
       "      <td>18.66 sec</td>\n",
       "    </tr>\n",
       "    <tr>\n",
       "      <th>4</th>\n",
       "      <td>svr</td>\n",
       "      <td>376295.885473</td>\n",
       "      <td>21587.107753</td>\n",
       "      <td>-0.054431</td>\n",
       "      <td>0.005762</td>\n",
       "      <td>-0.060565</td>\n",
       "      <td>0.005795</td>\n",
       "      <td>3 min 4.46 sec</td>\n",
       "    </tr>\n",
       "    <tr>\n",
       "      <th>5</th>\n",
       "      <td>gbr</td>\n",
       "      <td>429559.759594</td>\n",
       "      <td>35676.554119</td>\n",
       "      <td>-0.371514</td>\n",
       "      <td>0.081311</td>\n",
       "      <td>-0.379493</td>\n",
       "      <td>0.081784</td>\n",
       "      <td>38 min 23.84 sec</td>\n",
       "    </tr>\n",
       "    <tr>\n",
       "      <th>6</th>\n",
       "      <td>stack</td>\n",
       "      <td>10922.958452</td>\n",
       "      <td>0.000000</td>\n",
       "      <td>0.999115</td>\n",
       "      <td>0.000000</td>\n",
       "      <td>0.999110</td>\n",
       "      <td>0.000000</td>\n",
       "      <td>0</td>\n",
       "    </tr>\n",
       "  </tbody>\n",
       "</table>\n",
       "</div>"
      ],
      "text/plain": [
       "      Model           RMSE      RMSE_std  ...       AR2   AR2_std        Time_Taken\n",
       "0        rf   20498.398459  21701.317863  ...  0.994031  0.010108  17 min 56.44 sec\n",
       "1  lightgbm   38184.637408  18944.952525  ...  0.987428  0.011309          4.53 sec\n",
       "2   xgboost   54469.779570  27575.860015  ...  0.974461  0.021197   2 min 16.64 sec\n",
       "3   ridgecv  113786.703957   9183.497711  ...  0.903072  0.007152         18.66 sec\n",
       "4       svr  376295.885473  21587.107753  ... -0.060565  0.005795    3 min 4.46 sec\n",
       "5       gbr  429559.759594  35676.554119  ... -0.379493  0.081784  38 min 23.84 sec\n",
       "6     stack   10922.958452      0.000000  ...  0.999110  0.000000                 0\n",
       "\n",
       "[7 rows x 8 columns]"
      ]
     },
     "execution_count": 53,
     "metadata": {
      "tags": []
     },
     "output_type": "execute_result"
    }
   ],
   "source": [
    "df_scores.loc[len(df_scores)] = ['stack',rmse_stack,0,r2_stack,0,ar2_stack,0,0]\n",
    "df_scores = df_scores.drop_duplicates()\n",
    "\n",
    "df_scores"
   ]
  },
  {
   "cell_type": "markdown",
   "metadata": {
    "colab_type": "text",
    "id": "pNu7y-Z45iTd"
   },
   "source": [
    "## Blend models and get predictions"
   ]
  },
  {
   "cell_type": "code",
   "execution_count": null,
   "metadata": {
    "colab": {
     "base_uri": "https://localhost:8080/",
     "height": 257
    },
    "colab_type": "code",
    "id": "s50lgwhUSmYG",
    "outputId": "19bdca9d-2723-4d4f-88f9-3fb4b2f899c0"
   },
   "outputs": [
    {
     "data": {
      "text/html": [
       "<div>\n",
       "<style scoped>\n",
       "    .dataframe tbody tr th:only-of-type {\n",
       "        vertical-align: middle;\n",
       "    }\n",
       "\n",
       "    .dataframe tbody tr th {\n",
       "        vertical-align: top;\n",
       "    }\n",
       "\n",
       "    .dataframe thead th {\n",
       "        text-align: right;\n",
       "    }\n",
       "</style>\n",
       "<table border=\"1\" class=\"dataframe\">\n",
       "  <thead>\n",
       "    <tr style=\"text-align: right;\">\n",
       "      <th></th>\n",
       "      <th>Model</th>\n",
       "      <th>RMSE</th>\n",
       "      <th>RMSE_std</th>\n",
       "      <th>R2</th>\n",
       "      <th>R2_std</th>\n",
       "      <th>AR2</th>\n",
       "      <th>AR2_std</th>\n",
       "      <th>Time_Taken</th>\n",
       "    </tr>\n",
       "  </thead>\n",
       "  <tbody>\n",
       "    <tr>\n",
       "      <th>6</th>\n",
       "      <td>stack</td>\n",
       "      <td>10922.958452</td>\n",
       "      <td>0.000000</td>\n",
       "      <td>0.999115</td>\n",
       "      <td>0.000000</td>\n",
       "      <td>0.999110</td>\n",
       "      <td>0.000000</td>\n",
       "      <td>0</td>\n",
       "    </tr>\n",
       "    <tr>\n",
       "      <th>0</th>\n",
       "      <td>rf</td>\n",
       "      <td>20498.398459</td>\n",
       "      <td>21701.317863</td>\n",
       "      <td>0.994065</td>\n",
       "      <td>0.010050</td>\n",
       "      <td>0.994031</td>\n",
       "      <td>0.010108</td>\n",
       "      <td>17 min 56.44 sec</td>\n",
       "    </tr>\n",
       "    <tr>\n",
       "      <th>1</th>\n",
       "      <td>lightgbm</td>\n",
       "      <td>38184.637408</td>\n",
       "      <td>18944.952525</td>\n",
       "      <td>0.987501</td>\n",
       "      <td>0.011244</td>\n",
       "      <td>0.987428</td>\n",
       "      <td>0.011309</td>\n",
       "      <td>4.53 sec</td>\n",
       "    </tr>\n",
       "    <tr>\n",
       "      <th>2</th>\n",
       "      <td>xgboost</td>\n",
       "      <td>54469.779570</td>\n",
       "      <td>27575.860015</td>\n",
       "      <td>0.974609</td>\n",
       "      <td>0.021074</td>\n",
       "      <td>0.974461</td>\n",
       "      <td>0.021197</td>\n",
       "      <td>2 min 16.64 sec</td>\n",
       "    </tr>\n",
       "    <tr>\n",
       "      <th>3</th>\n",
       "      <td>ridgecv</td>\n",
       "      <td>113786.703957</td>\n",
       "      <td>9183.497711</td>\n",
       "      <td>0.903633</td>\n",
       "      <td>0.007111</td>\n",
       "      <td>0.903072</td>\n",
       "      <td>0.007152</td>\n",
       "      <td>18.66 sec</td>\n",
       "    </tr>\n",
       "    <tr>\n",
       "      <th>4</th>\n",
       "      <td>svr</td>\n",
       "      <td>376295.885473</td>\n",
       "      <td>21587.107753</td>\n",
       "      <td>-0.054431</td>\n",
       "      <td>0.005762</td>\n",
       "      <td>-0.060565</td>\n",
       "      <td>0.005795</td>\n",
       "      <td>3 min 4.46 sec</td>\n",
       "    </tr>\n",
       "    <tr>\n",
       "      <th>5</th>\n",
       "      <td>gbr</td>\n",
       "      <td>429559.759594</td>\n",
       "      <td>35676.554119</td>\n",
       "      <td>-0.371514</td>\n",
       "      <td>0.081311</td>\n",
       "      <td>-0.379493</td>\n",
       "      <td>0.081784</td>\n",
       "      <td>38 min 23.84 sec</td>\n",
       "    </tr>\n",
       "  </tbody>\n",
       "</table>\n",
       "</div>"
      ],
      "text/plain": [
       "      Model           RMSE      RMSE_std  ...       AR2   AR2_std        Time_Taken\n",
       "6     stack   10922.958452      0.000000  ...  0.999110  0.000000                 0\n",
       "0        rf   20498.398459  21701.317863  ...  0.994031  0.010108  17 min 56.44 sec\n",
       "1  lightgbm   38184.637408  18944.952525  ...  0.987428  0.011309          4.53 sec\n",
       "2   xgboost   54469.779570  27575.860015  ...  0.974461  0.021197   2 min 16.64 sec\n",
       "3   ridgecv  113786.703957   9183.497711  ...  0.903072  0.007152         18.66 sec\n",
       "4       svr  376295.885473  21587.107753  ... -0.060565  0.005795    3 min 4.46 sec\n",
       "5       gbr  429559.759594  35676.554119  ... -0.379493  0.081784  38 min 23.84 sec\n",
       "\n",
       "[7 rows x 8 columns]"
      ]
     },
     "execution_count": 54,
     "metadata": {
      "tags": []
     },
     "output_type": "execute_result"
    }
   ],
   "source": [
    "df_scores.sort_values('AR2',ascending=False)"
   ]
  },
  {
   "cell_type": "code",
   "execution_count": null,
   "metadata": {
    "colab": {
     "base_uri": "https://localhost:8080/",
     "height": 257
    },
    "colab_type": "code",
    "id": "ib7dYdcbUevG",
    "outputId": "87cf806c-d7ac-4447-ca36-54075bfa983a"
   },
   "outputs": [
    {
     "data": {
      "text/html": [
       "<div>\n",
       "<style scoped>\n",
       "    .dataframe tbody tr th:only-of-type {\n",
       "        vertical-align: middle;\n",
       "    }\n",
       "\n",
       "    .dataframe tbody tr th {\n",
       "        vertical-align: top;\n",
       "    }\n",
       "\n",
       "    .dataframe thead th {\n",
       "        text-align: right;\n",
       "    }\n",
       "</style>\n",
       "<table border=\"1\" class=\"dataframe\">\n",
       "  <thead>\n",
       "    <tr style=\"text-align: right;\">\n",
       "      <th></th>\n",
       "      <th>Model</th>\n",
       "      <th>RMSE</th>\n",
       "      <th>RMSE_std</th>\n",
       "      <th>R2</th>\n",
       "      <th>R2_std</th>\n",
       "      <th>AR2</th>\n",
       "      <th>AR2_std</th>\n",
       "      <th>Time_Taken</th>\n",
       "    </tr>\n",
       "  </thead>\n",
       "  <tbody>\n",
       "    <tr>\n",
       "      <th>6</th>\n",
       "      <td>stack</td>\n",
       "      <td>10922.958452</td>\n",
       "      <td>0.000000</td>\n",
       "      <td>0.999115</td>\n",
       "      <td>0.000000</td>\n",
       "      <td>0.999110</td>\n",
       "      <td>0.000000</td>\n",
       "      <td>0</td>\n",
       "    </tr>\n",
       "    <tr>\n",
       "      <th>0</th>\n",
       "      <td>rf</td>\n",
       "      <td>20498.398459</td>\n",
       "      <td>21701.317863</td>\n",
       "      <td>0.994065</td>\n",
       "      <td>0.010050</td>\n",
       "      <td>0.994031</td>\n",
       "      <td>0.010108</td>\n",
       "      <td>17 min 56.44 sec</td>\n",
       "    </tr>\n",
       "    <tr>\n",
       "      <th>1</th>\n",
       "      <td>lightgbm</td>\n",
       "      <td>38184.637408</td>\n",
       "      <td>18944.952525</td>\n",
       "      <td>0.987501</td>\n",
       "      <td>0.011244</td>\n",
       "      <td>0.987428</td>\n",
       "      <td>0.011309</td>\n",
       "      <td>4.53 sec</td>\n",
       "    </tr>\n",
       "    <tr>\n",
       "      <th>2</th>\n",
       "      <td>xgboost</td>\n",
       "      <td>54469.779570</td>\n",
       "      <td>27575.860015</td>\n",
       "      <td>0.974609</td>\n",
       "      <td>0.021074</td>\n",
       "      <td>0.974461</td>\n",
       "      <td>0.021197</td>\n",
       "      <td>2 min 16.64 sec</td>\n",
       "    </tr>\n",
       "    <tr>\n",
       "      <th>3</th>\n",
       "      <td>ridgecv</td>\n",
       "      <td>113786.703957</td>\n",
       "      <td>9183.497711</td>\n",
       "      <td>0.903633</td>\n",
       "      <td>0.007111</td>\n",
       "      <td>0.903072</td>\n",
       "      <td>0.007152</td>\n",
       "      <td>18.66 sec</td>\n",
       "    </tr>\n",
       "    <tr>\n",
       "      <th>4</th>\n",
       "      <td>svr</td>\n",
       "      <td>376295.885473</td>\n",
       "      <td>21587.107753</td>\n",
       "      <td>-0.054431</td>\n",
       "      <td>0.005762</td>\n",
       "      <td>-0.060565</td>\n",
       "      <td>0.005795</td>\n",
       "      <td>3 min 4.46 sec</td>\n",
       "    </tr>\n",
       "    <tr>\n",
       "      <th>5</th>\n",
       "      <td>hist_gbr</td>\n",
       "      <td>429559.759594</td>\n",
       "      <td>35676.554119</td>\n",
       "      <td>-0.371514</td>\n",
       "      <td>0.081311</td>\n",
       "      <td>-0.379493</td>\n",
       "      <td>0.081784</td>\n",
       "      <td>38 min 23.84 sec</td>\n",
       "    </tr>\n",
       "  </tbody>\n",
       "</table>\n",
       "</div>"
      ],
      "text/plain": [
       "      Model           RMSE      RMSE_std  ...       AR2   AR2_std        Time_Taken\n",
       "6     stack   10922.958452      0.000000  ...  0.999110  0.000000                 0\n",
       "0        rf   20498.398459  21701.317863  ...  0.994031  0.010108  17 min 56.44 sec\n",
       "1  lightgbm   38184.637408  18944.952525  ...  0.987428  0.011309          4.53 sec\n",
       "2   xgboost   54469.779570  27575.860015  ...  0.974461  0.021197   2 min 16.64 sec\n",
       "3   ridgecv  113786.703957   9183.497711  ...  0.903072  0.007152         18.66 sec\n",
       "4       svr  376295.885473  21587.107753  ... -0.060565  0.005795    3 min 4.46 sec\n",
       "5  hist_gbr  429559.759594  35676.554119  ... -0.379493  0.081784  38 min 23.84 sec\n",
       "\n",
       "[7 rows x 8 columns]"
      ]
     },
     "execution_count": 57,
     "metadata": {
      "tags": []
     },
     "output_type": "execute_result"
    }
   ],
   "source": [
    "x = df_scores.query(\"\"\"\n",
    "Model in ['rf', 'xgboost', 'lightgbm', 'hist_gbr', 'ridgecv', 'svr','stack']\n",
    "\"\"\")\n",
    "\n",
    "x = x.sort_values('RMSE')\n",
    "x"
   ]
  },
  {
   "cell_type": "code",
   "execution_count": null,
   "metadata": {
    "colab": {
     "base_uri": "https://localhost:8080/",
     "height": 257
    },
    "colab_type": "code",
    "id": "A5eSumAYURKo",
    "outputId": "83b5ec6f-be40-4f34-9678-6433d3500072"
   },
   "outputs": [
    {
     "data": {
      "text/html": [
       "<div>\n",
       "<style scoped>\n",
       "    .dataframe tbody tr th:only-of-type {\n",
       "        vertical-align: middle;\n",
       "    }\n",
       "\n",
       "    .dataframe tbody tr th {\n",
       "        vertical-align: top;\n",
       "    }\n",
       "\n",
       "    .dataframe thead th {\n",
       "        text-align: right;\n",
       "    }\n",
       "</style>\n",
       "<table border=\"1\" class=\"dataframe\">\n",
       "  <thead>\n",
       "    <tr style=\"text-align: right;\">\n",
       "      <th></th>\n",
       "      <th>Model</th>\n",
       "      <th>RMSE</th>\n",
       "      <th>RMSE_std</th>\n",
       "      <th>R2</th>\n",
       "      <th>R2_std</th>\n",
       "      <th>AR2</th>\n",
       "      <th>AR2_std</th>\n",
       "      <th>Time_Taken</th>\n",
       "      <th>normalized</th>\n",
       "    </tr>\n",
       "  </thead>\n",
       "  <tbody>\n",
       "    <tr>\n",
       "      <th>6</th>\n",
       "      <td>stack</td>\n",
       "      <td>10922.958452</td>\n",
       "      <td>0.000000</td>\n",
       "      <td>0.999115</td>\n",
       "      <td>0.000000</td>\n",
       "      <td>0.999110</td>\n",
       "      <td>0.000000</td>\n",
       "      <td>0</td>\n",
       "      <td>0.41</td>\n",
       "    </tr>\n",
       "    <tr>\n",
       "      <th>0</th>\n",
       "      <td>rf</td>\n",
       "      <td>20498.398459</td>\n",
       "      <td>21701.317863</td>\n",
       "      <td>0.994065</td>\n",
       "      <td>0.010050</td>\n",
       "      <td>0.994031</td>\n",
       "      <td>0.010108</td>\n",
       "      <td>17 min 56.44 sec</td>\n",
       "      <td>0.36</td>\n",
       "    </tr>\n",
       "    <tr>\n",
       "      <th>1</th>\n",
       "      <td>lightgbm</td>\n",
       "      <td>38184.637408</td>\n",
       "      <td>18944.952525</td>\n",
       "      <td>0.987501</td>\n",
       "      <td>0.011244</td>\n",
       "      <td>0.987428</td>\n",
       "      <td>0.011309</td>\n",
       "      <td>4.53 sec</td>\n",
       "      <td>0.11</td>\n",
       "    </tr>\n",
       "    <tr>\n",
       "      <th>2</th>\n",
       "      <td>xgboost</td>\n",
       "      <td>54469.779570</td>\n",
       "      <td>27575.860015</td>\n",
       "      <td>0.974609</td>\n",
       "      <td>0.021074</td>\n",
       "      <td>0.974461</td>\n",
       "      <td>0.021197</td>\n",
       "      <td>2 min 16.64 sec</td>\n",
       "      <td>0.05</td>\n",
       "    </tr>\n",
       "    <tr>\n",
       "      <th>3</th>\n",
       "      <td>ridgecv</td>\n",
       "      <td>113786.703957</td>\n",
       "      <td>9183.497711</td>\n",
       "      <td>0.903633</td>\n",
       "      <td>0.007111</td>\n",
       "      <td>0.903072</td>\n",
       "      <td>0.007152</td>\n",
       "      <td>18.66 sec</td>\n",
       "      <td>0.04</td>\n",
       "    </tr>\n",
       "    <tr>\n",
       "      <th>4</th>\n",
       "      <td>svr</td>\n",
       "      <td>376295.885473</td>\n",
       "      <td>21587.107753</td>\n",
       "      <td>-0.054431</td>\n",
       "      <td>0.005762</td>\n",
       "      <td>-0.060565</td>\n",
       "      <td>0.005795</td>\n",
       "      <td>3 min 4.46 sec</td>\n",
       "      <td>0.02</td>\n",
       "    </tr>\n",
       "    <tr>\n",
       "      <th>5</th>\n",
       "      <td>hist_gbr</td>\n",
       "      <td>429559.759594</td>\n",
       "      <td>35676.554119</td>\n",
       "      <td>-0.371514</td>\n",
       "      <td>0.081311</td>\n",
       "      <td>-0.379493</td>\n",
       "      <td>0.081784</td>\n",
       "      <td>38 min 23.84 sec</td>\n",
       "      <td>0.01</td>\n",
       "    </tr>\n",
       "  </tbody>\n",
       "</table>\n",
       "</div>"
      ],
      "text/plain": [
       "      Model           RMSE  ...        Time_Taken  normalized\n",
       "6     stack   10922.958452  ...                 0        0.41\n",
       "0        rf   20498.398459  ...  17 min 56.44 sec        0.36\n",
       "1  lightgbm   38184.637408  ...          4.53 sec        0.11\n",
       "2   xgboost   54469.779570  ...   2 min 16.64 sec        0.05\n",
       "3   ridgecv  113786.703957  ...         18.66 sec        0.04\n",
       "4       svr  376295.885473  ...    3 min 4.46 sec        0.02\n",
       "5  hist_gbr  429559.759594  ...  38 min 23.84 sec        0.01\n",
       "\n",
       "[7 rows x 9 columns]"
      ]
     },
     "execution_count": 58,
     "metadata": {
      "tags": []
     },
     "output_type": "execute_result"
    }
   ],
   "source": [
    "x['normalized'] = x['RMSE'].div(x['RMSE'].sum()).to_numpy()[::-1].round(2)\n",
    "x"
   ]
  },
  {
   "cell_type": "code",
   "execution_count": null,
   "metadata": {
    "colab": {
     "base_uri": "https://localhost:8080/",
     "height": 34
    },
    "colab_type": "code",
    "id": "Xxyyq_stWP3N",
    "outputId": "51468410-5e13-4cb3-ecd8-f645a933f142"
   },
   "outputs": [
    {
     "data": {
      "text/plain": [
       "1.0"
      ]
     },
     "execution_count": 60,
     "metadata": {
      "tags": []
     },
     "output_type": "execute_result"
    }
   ],
   "source": [
    "x['normalized'].sum()"
   ]
  },
  {
   "cell_type": "code",
   "execution_count": null,
   "metadata": {
    "colab": {},
    "colab_type": "code",
    "id": "-aCl-fR1OYsV"
   },
   "outputs": [],
   "source": [
    "def blended_predictions(X):\n",
    "    return ( stack.predict(np.array(X)) * 0.57 + \n",
    "            rf.predict(X) * 0.17 +\n",
    "            model_xgb.predict(X) * 0.1 +\n",
    "            model_lgb.predict(X) * 0.08 + \n",
    "            hist_gbr.predict(X) * 0.04 +\n",
    "            ridgecv.predict(X) * 0.03 +\n",
    "            svr.predict(X) * 0.01\n",
    "            )"
   ]
  },
  {
   "cell_type": "code",
   "execution_count": null,
   "metadata": {
    "colab": {
     "base_uri": "https://localhost:8080/",
     "height": 52
    },
    "colab_type": "code",
    "id": "hbMMzrL_5pj0",
    "outputId": "0c4faf9f-e290-4bcd-8aff-a0da4ba88ed2"
   },
   "outputs": [
    {
     "name": "stdout",
     "output_type": "stream",
     "text": [
      "CPU times: user 13min 46s, sys: 10.9 s, total: 13min 57s\n",
      "Wall time: 7min 49s\n"
     ]
    }
   ],
   "source": [
    "%%time\n",
    "y_preds_blend = blended_predictions(df_Xtrain)"
   ]
  },
  {
   "cell_type": "code",
   "execution_count": null,
   "metadata": {
    "colab": {},
    "colab_type": "code",
    "id": "8Lx_vl_1O9Hp"
   },
   "outputs": [],
   "source": [
    "rmse_blend = rmse(y_train, y_preds_blend)\n",
    "r2_blend = metrics.r2_score(y_train, y_preds_blend)\n",
    "ar2_blend = calculate_adjusted_r2(y_train,y_preds_blend,nrows=nrows,kcols=kcols)"
   ]
  },
  {
   "cell_type": "code",
   "execution_count": null,
   "metadata": {
    "colab": {
     "base_uri": "https://localhost:8080/",
     "height": 257
    },
    "colab_type": "code",
    "id": "HeIWU-11C6iP",
    "outputId": "1b79e2c6-9466-4010-d91b-5cd5cfff4e34"
   },
   "outputs": [
    {
     "data": {
      "text/html": [
       "<div>\n",
       "<style scoped>\n",
       "    .dataframe tbody tr th:only-of-type {\n",
       "        vertical-align: middle;\n",
       "    }\n",
       "\n",
       "    .dataframe tbody tr th {\n",
       "        vertical-align: top;\n",
       "    }\n",
       "\n",
       "    .dataframe thead th {\n",
       "        text-align: right;\n",
       "    }\n",
       "</style>\n",
       "<table border=\"1\" class=\"dataframe\">\n",
       "  <thead>\n",
       "    <tr style=\"text-align: right;\">\n",
       "      <th></th>\n",
       "      <th>Model</th>\n",
       "      <th>RMSE</th>\n",
       "      <th>RMSE_std</th>\n",
       "      <th>R2</th>\n",
       "      <th>R2_std</th>\n",
       "      <th>AR2</th>\n",
       "      <th>AR2_std</th>\n",
       "      <th>Time_Taken</th>\n",
       "    </tr>\n",
       "  </thead>\n",
       "  <tbody>\n",
       "    <tr>\n",
       "      <th>0</th>\n",
       "      <td>rf</td>\n",
       "      <td>20498.398459</td>\n",
       "      <td>21701.317863</td>\n",
       "      <td>0.994065</td>\n",
       "      <td>0.010050</td>\n",
       "      <td>0.994031</td>\n",
       "      <td>0.010108</td>\n",
       "      <td>17 min 56.44 sec</td>\n",
       "    </tr>\n",
       "    <tr>\n",
       "      <th>1</th>\n",
       "      <td>lightgbm</td>\n",
       "      <td>38184.637408</td>\n",
       "      <td>18944.952525</td>\n",
       "      <td>0.987501</td>\n",
       "      <td>0.011244</td>\n",
       "      <td>0.987428</td>\n",
       "      <td>0.011309</td>\n",
       "      <td>4.53 sec</td>\n",
       "    </tr>\n",
       "    <tr>\n",
       "      <th>2</th>\n",
       "      <td>xgboost</td>\n",
       "      <td>54469.779570</td>\n",
       "      <td>27575.860015</td>\n",
       "      <td>0.974609</td>\n",
       "      <td>0.021074</td>\n",
       "      <td>0.974461</td>\n",
       "      <td>0.021197</td>\n",
       "      <td>2 min 16.64 sec</td>\n",
       "    </tr>\n",
       "    <tr>\n",
       "      <th>3</th>\n",
       "      <td>ridgecv</td>\n",
       "      <td>113786.703957</td>\n",
       "      <td>9183.497711</td>\n",
       "      <td>0.903633</td>\n",
       "      <td>0.007111</td>\n",
       "      <td>0.903072</td>\n",
       "      <td>0.007152</td>\n",
       "      <td>18.66 sec</td>\n",
       "    </tr>\n",
       "    <tr>\n",
       "      <th>4</th>\n",
       "      <td>svr</td>\n",
       "      <td>376295.885473</td>\n",
       "      <td>21587.107753</td>\n",
       "      <td>-0.054431</td>\n",
       "      <td>0.005762</td>\n",
       "      <td>-0.060565</td>\n",
       "      <td>0.005795</td>\n",
       "      <td>3 min 4.46 sec</td>\n",
       "    </tr>\n",
       "    <tr>\n",
       "      <th>5</th>\n",
       "      <td>hist_gbr</td>\n",
       "      <td>429559.759594</td>\n",
       "      <td>35676.554119</td>\n",
       "      <td>-0.371514</td>\n",
       "      <td>0.081311</td>\n",
       "      <td>-0.379493</td>\n",
       "      <td>0.081784</td>\n",
       "      <td>38 min 23.84 sec</td>\n",
       "    </tr>\n",
       "    <tr>\n",
       "      <th>6</th>\n",
       "      <td>stack</td>\n",
       "      <td>10922.958452</td>\n",
       "      <td>0.000000</td>\n",
       "      <td>0.999115</td>\n",
       "      <td>0.000000</td>\n",
       "      <td>0.999110</td>\n",
       "      <td>0.000000</td>\n",
       "      <td>0</td>\n",
       "    </tr>\n",
       "  </tbody>\n",
       "</table>\n",
       "</div>"
      ],
      "text/plain": [
       "      Model           RMSE      RMSE_std  ...       AR2   AR2_std        Time_Taken\n",
       "0        rf   20498.398459  21701.317863  ...  0.994031  0.010108  17 min 56.44 sec\n",
       "1  lightgbm   38184.637408  18944.952525  ...  0.987428  0.011309          4.53 sec\n",
       "2   xgboost   54469.779570  27575.860015  ...  0.974461  0.021197   2 min 16.64 sec\n",
       "3   ridgecv  113786.703957   9183.497711  ...  0.903072  0.007152         18.66 sec\n",
       "4       svr  376295.885473  21587.107753  ... -0.060565  0.005795    3 min 4.46 sec\n",
       "5  hist_gbr  429559.759594  35676.554119  ... -0.379493  0.081784  38 min 23.84 sec\n",
       "6     stack   10922.958452      0.000000  ...  0.999110  0.000000                 0\n",
       "\n",
       "[7 rows x 8 columns]"
      ]
     },
     "execution_count": 85,
     "metadata": {
      "tags": []
     },
     "output_type": "execute_result"
    }
   ],
   "source": [
    "df_scores"
   ]
  },
  {
   "cell_type": "code",
   "execution_count": null,
   "metadata": {
    "colab": {
     "base_uri": "https://localhost:8080/",
     "height": 177
    },
    "colab_type": "code",
    "id": "zO8ldFe_RISy",
    "outputId": "80fbabd4-9ecf-451e-892a-db9a2a96a9b2"
   },
   "outputs": [
    {
     "data": {
      "text/html": [
       "<style  type=\"text/css\" >\n",
       "</style><table id=\"T_cda3235a_fb79_11ea_954e_0242ac1c0002\" ><thead>    <tr>        <th class=\"blank level0\" ></th>        <th class=\"col_heading level0 col0\" >Model</th>        <th class=\"col_heading level0 col1\" >RMSE</th>        <th class=\"col_heading level0 col2\" >RMSE_std</th>        <th class=\"col_heading level0 col3\" >R2</th>        <th class=\"col_heading level0 col4\" >R2_std</th>        <th class=\"col_heading level0 col5\" >AR2</th>        <th class=\"col_heading level0 col6\" >AR2_std</th>        <th class=\"col_heading level0 col7\" >Time_Taken</th>    </tr></thead><tbody>\n",
       "                <tr>\n",
       "                        <th id=\"T_cda3235a_fb79_11ea_954e_0242ac1c0002level0_row0\" class=\"row_heading level0 row0\" >6</th>\n",
       "                        <td id=\"T_cda3235a_fb79_11ea_954e_0242ac1c0002row0_col0\" class=\"data row0 col0\" >stack</td>\n",
       "                        <td id=\"T_cda3235a_fb79_11ea_954e_0242ac1c0002row0_col1\" class=\"data row0 col1\" >10,923</td>\n",
       "                        <td id=\"T_cda3235a_fb79_11ea_954e_0242ac1c0002row0_col2\" class=\"data row0 col2\" >0.000000</td>\n",
       "                        <td id=\"T_cda3235a_fb79_11ea_954e_0242ac1c0002row0_col3\" class=\"data row0 col3\" >0.999115</td>\n",
       "                        <td id=\"T_cda3235a_fb79_11ea_954e_0242ac1c0002row0_col4\" class=\"data row0 col4\" >0.000000</td>\n",
       "                        <td id=\"T_cda3235a_fb79_11ea_954e_0242ac1c0002row0_col5\" class=\"data row0 col5\" >0.999110</td>\n",
       "                        <td id=\"T_cda3235a_fb79_11ea_954e_0242ac1c0002row0_col6\" class=\"data row0 col6\" >0.000000</td>\n",
       "                        <td id=\"T_cda3235a_fb79_11ea_954e_0242ac1c0002row0_col7\" class=\"data row0 col7\" >0</td>\n",
       "            </tr>\n",
       "            <tr>\n",
       "                        <th id=\"T_cda3235a_fb79_11ea_954e_0242ac1c0002level0_row1\" class=\"row_heading level0 row1\" >0</th>\n",
       "                        <td id=\"T_cda3235a_fb79_11ea_954e_0242ac1c0002row1_col0\" class=\"data row1 col0\" >rf</td>\n",
       "                        <td id=\"T_cda3235a_fb79_11ea_954e_0242ac1c0002row1_col1\" class=\"data row1 col1\" >20,498</td>\n",
       "                        <td id=\"T_cda3235a_fb79_11ea_954e_0242ac1c0002row1_col2\" class=\"data row1 col2\" >21701.317863</td>\n",
       "                        <td id=\"T_cda3235a_fb79_11ea_954e_0242ac1c0002row1_col3\" class=\"data row1 col3\" >0.994065</td>\n",
       "                        <td id=\"T_cda3235a_fb79_11ea_954e_0242ac1c0002row1_col4\" class=\"data row1 col4\" >0.010050</td>\n",
       "                        <td id=\"T_cda3235a_fb79_11ea_954e_0242ac1c0002row1_col5\" class=\"data row1 col5\" >0.994031</td>\n",
       "                        <td id=\"T_cda3235a_fb79_11ea_954e_0242ac1c0002row1_col6\" class=\"data row1 col6\" >0.010108</td>\n",
       "                        <td id=\"T_cda3235a_fb79_11ea_954e_0242ac1c0002row1_col7\" class=\"data row1 col7\" >17 min 56.44 sec</td>\n",
       "            </tr>\n",
       "            <tr>\n",
       "                        <th id=\"T_cda3235a_fb79_11ea_954e_0242ac1c0002level0_row2\" class=\"row_heading level0 row2\" >7</th>\n",
       "                        <td id=\"T_cda3235a_fb79_11ea_954e_0242ac1c0002row2_col0\" class=\"data row2 col0\" >blend</td>\n",
       "                        <td id=\"T_cda3235a_fb79_11ea_954e_0242ac1c0002row2_col1\" class=\"data row2 col1\" >26,477</td>\n",
       "                        <td id=\"T_cda3235a_fb79_11ea_954e_0242ac1c0002row2_col2\" class=\"data row2 col2\" >0.000000</td>\n",
       "                        <td id=\"T_cda3235a_fb79_11ea_954e_0242ac1c0002row2_col3\" class=\"data row2 col3\" >0.994799</td>\n",
       "                        <td id=\"T_cda3235a_fb79_11ea_954e_0242ac1c0002row2_col4\" class=\"data row2 col4\" >0.000000</td>\n",
       "                        <td id=\"T_cda3235a_fb79_11ea_954e_0242ac1c0002row2_col5\" class=\"data row2 col5\" >0.994768</td>\n",
       "                        <td id=\"T_cda3235a_fb79_11ea_954e_0242ac1c0002row2_col6\" class=\"data row2 col6\" >0.000000</td>\n",
       "                        <td id=\"T_cda3235a_fb79_11ea_954e_0242ac1c0002row2_col7\" class=\"data row2 col7\" >7min</td>\n",
       "            </tr>\n",
       "            <tr>\n",
       "                        <th id=\"T_cda3235a_fb79_11ea_954e_0242ac1c0002level0_row3\" class=\"row_heading level0 row3\" >1</th>\n",
       "                        <td id=\"T_cda3235a_fb79_11ea_954e_0242ac1c0002row3_col0\" class=\"data row3 col0\" >lightgbm</td>\n",
       "                        <td id=\"T_cda3235a_fb79_11ea_954e_0242ac1c0002row3_col1\" class=\"data row3 col1\" >38,185</td>\n",
       "                        <td id=\"T_cda3235a_fb79_11ea_954e_0242ac1c0002row3_col2\" class=\"data row3 col2\" >18944.952525</td>\n",
       "                        <td id=\"T_cda3235a_fb79_11ea_954e_0242ac1c0002row3_col3\" class=\"data row3 col3\" >0.987501</td>\n",
       "                        <td id=\"T_cda3235a_fb79_11ea_954e_0242ac1c0002row3_col4\" class=\"data row3 col4\" >0.011244</td>\n",
       "                        <td id=\"T_cda3235a_fb79_11ea_954e_0242ac1c0002row3_col5\" class=\"data row3 col5\" >0.987428</td>\n",
       "                        <td id=\"T_cda3235a_fb79_11ea_954e_0242ac1c0002row3_col6\" class=\"data row3 col6\" >0.011309</td>\n",
       "                        <td id=\"T_cda3235a_fb79_11ea_954e_0242ac1c0002row3_col7\" class=\"data row3 col7\" >4.53 sec</td>\n",
       "            </tr>\n",
       "            <tr>\n",
       "                        <th id=\"T_cda3235a_fb79_11ea_954e_0242ac1c0002level0_row4\" class=\"row_heading level0 row4\" >2</th>\n",
       "                        <td id=\"T_cda3235a_fb79_11ea_954e_0242ac1c0002row4_col0\" class=\"data row4 col0\" >xgboost</td>\n",
       "                        <td id=\"T_cda3235a_fb79_11ea_954e_0242ac1c0002row4_col1\" class=\"data row4 col1\" >54,470</td>\n",
       "                        <td id=\"T_cda3235a_fb79_11ea_954e_0242ac1c0002row4_col2\" class=\"data row4 col2\" >27575.860015</td>\n",
       "                        <td id=\"T_cda3235a_fb79_11ea_954e_0242ac1c0002row4_col3\" class=\"data row4 col3\" >0.974609</td>\n",
       "                        <td id=\"T_cda3235a_fb79_11ea_954e_0242ac1c0002row4_col4\" class=\"data row4 col4\" >0.021074</td>\n",
       "                        <td id=\"T_cda3235a_fb79_11ea_954e_0242ac1c0002row4_col5\" class=\"data row4 col5\" >0.974461</td>\n",
       "                        <td id=\"T_cda3235a_fb79_11ea_954e_0242ac1c0002row4_col6\" class=\"data row4 col6\" >0.021197</td>\n",
       "                        <td id=\"T_cda3235a_fb79_11ea_954e_0242ac1c0002row4_col7\" class=\"data row4 col7\" >2 min 16.64 sec</td>\n",
       "            </tr>\n",
       "            <tr>\n",
       "                        <th id=\"T_cda3235a_fb79_11ea_954e_0242ac1c0002level0_row5\" class=\"row_heading level0 row5\" >3</th>\n",
       "                        <td id=\"T_cda3235a_fb79_11ea_954e_0242ac1c0002row5_col0\" class=\"data row5 col0\" >ridgecv</td>\n",
       "                        <td id=\"T_cda3235a_fb79_11ea_954e_0242ac1c0002row5_col1\" class=\"data row5 col1\" >113,787</td>\n",
       "                        <td id=\"T_cda3235a_fb79_11ea_954e_0242ac1c0002row5_col2\" class=\"data row5 col2\" >9183.497711</td>\n",
       "                        <td id=\"T_cda3235a_fb79_11ea_954e_0242ac1c0002row5_col3\" class=\"data row5 col3\" >0.903633</td>\n",
       "                        <td id=\"T_cda3235a_fb79_11ea_954e_0242ac1c0002row5_col4\" class=\"data row5 col4\" >0.007111</td>\n",
       "                        <td id=\"T_cda3235a_fb79_11ea_954e_0242ac1c0002row5_col5\" class=\"data row5 col5\" >0.903072</td>\n",
       "                        <td id=\"T_cda3235a_fb79_11ea_954e_0242ac1c0002row5_col6\" class=\"data row5 col6\" >0.007152</td>\n",
       "                        <td id=\"T_cda3235a_fb79_11ea_954e_0242ac1c0002row5_col7\" class=\"data row5 col7\" >18.66 sec</td>\n",
       "            </tr>\n",
       "            <tr>\n",
       "                        <th id=\"T_cda3235a_fb79_11ea_954e_0242ac1c0002level0_row6\" class=\"row_heading level0 row6\" >4</th>\n",
       "                        <td id=\"T_cda3235a_fb79_11ea_954e_0242ac1c0002row6_col0\" class=\"data row6 col0\" >svr</td>\n",
       "                        <td id=\"T_cda3235a_fb79_11ea_954e_0242ac1c0002row6_col1\" class=\"data row6 col1\" >376,296</td>\n",
       "                        <td id=\"T_cda3235a_fb79_11ea_954e_0242ac1c0002row6_col2\" class=\"data row6 col2\" >21587.107753</td>\n",
       "                        <td id=\"T_cda3235a_fb79_11ea_954e_0242ac1c0002row6_col3\" class=\"data row6 col3\" >-0.054431</td>\n",
       "                        <td id=\"T_cda3235a_fb79_11ea_954e_0242ac1c0002row6_col4\" class=\"data row6 col4\" >0.005762</td>\n",
       "                        <td id=\"T_cda3235a_fb79_11ea_954e_0242ac1c0002row6_col5\" class=\"data row6 col5\" >-0.060565</td>\n",
       "                        <td id=\"T_cda3235a_fb79_11ea_954e_0242ac1c0002row6_col6\" class=\"data row6 col6\" >0.005795</td>\n",
       "                        <td id=\"T_cda3235a_fb79_11ea_954e_0242ac1c0002row6_col7\" class=\"data row6 col7\" >3 min 4.46 sec</td>\n",
       "            </tr>\n",
       "            <tr>\n",
       "                        <th id=\"T_cda3235a_fb79_11ea_954e_0242ac1c0002level0_row7\" class=\"row_heading level0 row7\" >5</th>\n",
       "                        <td id=\"T_cda3235a_fb79_11ea_954e_0242ac1c0002row7_col0\" class=\"data row7 col0\" >hist_gbr</td>\n",
       "                        <td id=\"T_cda3235a_fb79_11ea_954e_0242ac1c0002row7_col1\" class=\"data row7 col1\" >429,560</td>\n",
       "                        <td id=\"T_cda3235a_fb79_11ea_954e_0242ac1c0002row7_col2\" class=\"data row7 col2\" >35676.554119</td>\n",
       "                        <td id=\"T_cda3235a_fb79_11ea_954e_0242ac1c0002row7_col3\" class=\"data row7 col3\" >-0.371514</td>\n",
       "                        <td id=\"T_cda3235a_fb79_11ea_954e_0242ac1c0002row7_col4\" class=\"data row7 col4\" >0.081311</td>\n",
       "                        <td id=\"T_cda3235a_fb79_11ea_954e_0242ac1c0002row7_col5\" class=\"data row7 col5\" >-0.379493</td>\n",
       "                        <td id=\"T_cda3235a_fb79_11ea_954e_0242ac1c0002row7_col6\" class=\"data row7 col6\" >0.081784</td>\n",
       "                        <td id=\"T_cda3235a_fb79_11ea_954e_0242ac1c0002row7_col7\" class=\"data row7 col7\" >38 min 23.84 sec</td>\n",
       "            </tr>\n",
       "    </tbody></table>"
      ],
      "text/plain": [
       "<pandas.io.formats.style.Styler at 0x7f3619420f28>"
      ]
     },
     "execution_count": 86,
     "metadata": {
      "tags": []
     },
     "output_type": "execute_result"
    }
   ],
   "source": [
    "df_scores.loc[len(df_scores)] = ['blend',rmse_blend,0,r2_blend,0,ar2_blend,0,'7min']\n",
    "df_scores = df_scores.drop_duplicates().sort_values('RMSE')"
   ]
  },
  {
   "cell_type": "code",
   "execution_count": null,
   "metadata": {
    "colab": {
     "base_uri": "https://localhost:8080/",
     "height": 177
    },
    "colab_type": "code",
    "id": "lKLavslaDW2s",
    "outputId": "f4766a3b-8bef-4cc1-8a2c-2e5e207f687b"
   },
   "outputs": [
    {
     "data": {
      "text/html": [
       "<style  type=\"text/css\" >\n",
       "    #T_f4e64820_fb79_11ea_954e_0242ac1c0002row0_col5 {\n",
       "            background-color:  #023858;\n",
       "            color:  #f1f1f1;\n",
       "        }    #T_f4e64820_fb79_11ea_954e_0242ac1c0002row1_col5 {\n",
       "            background-color:  #023858;\n",
       "            color:  #f1f1f1;\n",
       "        }    #T_f4e64820_fb79_11ea_954e_0242ac1c0002row2_col5 {\n",
       "            background-color:  #023858;\n",
       "            color:  #f1f1f1;\n",
       "        }    #T_f4e64820_fb79_11ea_954e_0242ac1c0002row3_col5 {\n",
       "            background-color:  #023a5b;\n",
       "            color:  #f1f1f1;\n",
       "        }    #T_f4e64820_fb79_11ea_954e_0242ac1c0002row4_col5 {\n",
       "            background-color:  #023c5f;\n",
       "            color:  #f1f1f1;\n",
       "        }    #T_f4e64820_fb79_11ea_954e_0242ac1c0002row5_col5 {\n",
       "            background-color:  #034a74;\n",
       "            color:  #f1f1f1;\n",
       "        }    #T_f4e64820_fb79_11ea_954e_0242ac1c0002row6_col5 {\n",
       "            background-color:  #d4d4e8;\n",
       "            color:  #000000;\n",
       "        }    #T_f4e64820_fb79_11ea_954e_0242ac1c0002row7_col5 {\n",
       "            background-color:  #fff7fb;\n",
       "            color:  #000000;\n",
       "        }</style><table id=\"T_f4e64820_fb79_11ea_954e_0242ac1c0002\" ><thead>    <tr>        <th class=\"blank level0\" ></th>        <th class=\"col_heading level0 col0\" >Model</th>        <th class=\"col_heading level0 col1\" >RMSE</th>        <th class=\"col_heading level0 col2\" >RMSE_std</th>        <th class=\"col_heading level0 col3\" >R2</th>        <th class=\"col_heading level0 col4\" >R2_std</th>        <th class=\"col_heading level0 col5\" >AR2</th>        <th class=\"col_heading level0 col6\" >AR2_std</th>        <th class=\"col_heading level0 col7\" >Time_Taken</th>    </tr></thead><tbody>\n",
       "                <tr>\n",
       "                        <th id=\"T_f4e64820_fb79_11ea_954e_0242ac1c0002level0_row0\" class=\"row_heading level0 row0\" >6</th>\n",
       "                        <td id=\"T_f4e64820_fb79_11ea_954e_0242ac1c0002row0_col0\" class=\"data row0 col0\" >stack</td>\n",
       "                        <td id=\"T_f4e64820_fb79_11ea_954e_0242ac1c0002row0_col1\" class=\"data row0 col1\" >10,923</td>\n",
       "                        <td id=\"T_f4e64820_fb79_11ea_954e_0242ac1c0002row0_col2\" class=\"data row0 col2\" >0</td>\n",
       "                        <td id=\"T_f4e64820_fb79_11ea_954e_0242ac1c0002row0_col3\" class=\"data row0 col3\" >0.9991</td>\n",
       "                        <td id=\"T_f4e64820_fb79_11ea_954e_0242ac1c0002row0_col4\" class=\"data row0 col4\" >0.0000</td>\n",
       "                        <td id=\"T_f4e64820_fb79_11ea_954e_0242ac1c0002row0_col5\" class=\"data row0 col5\" >0.9991</td>\n",
       "                        <td id=\"T_f4e64820_fb79_11ea_954e_0242ac1c0002row0_col6\" class=\"data row0 col6\" >0.0000</td>\n",
       "                        <td id=\"T_f4e64820_fb79_11ea_954e_0242ac1c0002row0_col7\" class=\"data row0 col7\" >0</td>\n",
       "            </tr>\n",
       "            <tr>\n",
       "                        <th id=\"T_f4e64820_fb79_11ea_954e_0242ac1c0002level0_row1\" class=\"row_heading level0 row1\" >0</th>\n",
       "                        <td id=\"T_f4e64820_fb79_11ea_954e_0242ac1c0002row1_col0\" class=\"data row1 col0\" >rf</td>\n",
       "                        <td id=\"T_f4e64820_fb79_11ea_954e_0242ac1c0002row1_col1\" class=\"data row1 col1\" >20,498</td>\n",
       "                        <td id=\"T_f4e64820_fb79_11ea_954e_0242ac1c0002row1_col2\" class=\"data row1 col2\" >21,701</td>\n",
       "                        <td id=\"T_f4e64820_fb79_11ea_954e_0242ac1c0002row1_col3\" class=\"data row1 col3\" >0.9941</td>\n",
       "                        <td id=\"T_f4e64820_fb79_11ea_954e_0242ac1c0002row1_col4\" class=\"data row1 col4\" >0.0100</td>\n",
       "                        <td id=\"T_f4e64820_fb79_11ea_954e_0242ac1c0002row1_col5\" class=\"data row1 col5\" >0.9940</td>\n",
       "                        <td id=\"T_f4e64820_fb79_11ea_954e_0242ac1c0002row1_col6\" class=\"data row1 col6\" >0.0101</td>\n",
       "                        <td id=\"T_f4e64820_fb79_11ea_954e_0242ac1c0002row1_col7\" class=\"data row1 col7\" >17 min 56.44 sec</td>\n",
       "            </tr>\n",
       "            <tr>\n",
       "                        <th id=\"T_f4e64820_fb79_11ea_954e_0242ac1c0002level0_row2\" class=\"row_heading level0 row2\" >7</th>\n",
       "                        <td id=\"T_f4e64820_fb79_11ea_954e_0242ac1c0002row2_col0\" class=\"data row2 col0\" >blend</td>\n",
       "                        <td id=\"T_f4e64820_fb79_11ea_954e_0242ac1c0002row2_col1\" class=\"data row2 col1\" >26,477</td>\n",
       "                        <td id=\"T_f4e64820_fb79_11ea_954e_0242ac1c0002row2_col2\" class=\"data row2 col2\" >0</td>\n",
       "                        <td id=\"T_f4e64820_fb79_11ea_954e_0242ac1c0002row2_col3\" class=\"data row2 col3\" >0.9948</td>\n",
       "                        <td id=\"T_f4e64820_fb79_11ea_954e_0242ac1c0002row2_col4\" class=\"data row2 col4\" >0.0000</td>\n",
       "                        <td id=\"T_f4e64820_fb79_11ea_954e_0242ac1c0002row2_col5\" class=\"data row2 col5\" >0.9948</td>\n",
       "                        <td id=\"T_f4e64820_fb79_11ea_954e_0242ac1c0002row2_col6\" class=\"data row2 col6\" >0.0000</td>\n",
       "                        <td id=\"T_f4e64820_fb79_11ea_954e_0242ac1c0002row2_col7\" class=\"data row2 col7\" >7min</td>\n",
       "            </tr>\n",
       "            <tr>\n",
       "                        <th id=\"T_f4e64820_fb79_11ea_954e_0242ac1c0002level0_row3\" class=\"row_heading level0 row3\" >1</th>\n",
       "                        <td id=\"T_f4e64820_fb79_11ea_954e_0242ac1c0002row3_col0\" class=\"data row3 col0\" >lightgbm</td>\n",
       "                        <td id=\"T_f4e64820_fb79_11ea_954e_0242ac1c0002row3_col1\" class=\"data row3 col1\" >38,185</td>\n",
       "                        <td id=\"T_f4e64820_fb79_11ea_954e_0242ac1c0002row3_col2\" class=\"data row3 col2\" >18,945</td>\n",
       "                        <td id=\"T_f4e64820_fb79_11ea_954e_0242ac1c0002row3_col3\" class=\"data row3 col3\" >0.9875</td>\n",
       "                        <td id=\"T_f4e64820_fb79_11ea_954e_0242ac1c0002row3_col4\" class=\"data row3 col4\" >0.0112</td>\n",
       "                        <td id=\"T_f4e64820_fb79_11ea_954e_0242ac1c0002row3_col5\" class=\"data row3 col5\" >0.9874</td>\n",
       "                        <td id=\"T_f4e64820_fb79_11ea_954e_0242ac1c0002row3_col6\" class=\"data row3 col6\" >0.0113</td>\n",
       "                        <td id=\"T_f4e64820_fb79_11ea_954e_0242ac1c0002row3_col7\" class=\"data row3 col7\" >4.53 sec</td>\n",
       "            </tr>\n",
       "            <tr>\n",
       "                        <th id=\"T_f4e64820_fb79_11ea_954e_0242ac1c0002level0_row4\" class=\"row_heading level0 row4\" >2</th>\n",
       "                        <td id=\"T_f4e64820_fb79_11ea_954e_0242ac1c0002row4_col0\" class=\"data row4 col0\" >xgboost</td>\n",
       "                        <td id=\"T_f4e64820_fb79_11ea_954e_0242ac1c0002row4_col1\" class=\"data row4 col1\" >54,470</td>\n",
       "                        <td id=\"T_f4e64820_fb79_11ea_954e_0242ac1c0002row4_col2\" class=\"data row4 col2\" >27,576</td>\n",
       "                        <td id=\"T_f4e64820_fb79_11ea_954e_0242ac1c0002row4_col3\" class=\"data row4 col3\" >0.9746</td>\n",
       "                        <td id=\"T_f4e64820_fb79_11ea_954e_0242ac1c0002row4_col4\" class=\"data row4 col4\" >0.0211</td>\n",
       "                        <td id=\"T_f4e64820_fb79_11ea_954e_0242ac1c0002row4_col5\" class=\"data row4 col5\" >0.9745</td>\n",
       "                        <td id=\"T_f4e64820_fb79_11ea_954e_0242ac1c0002row4_col6\" class=\"data row4 col6\" >0.0212</td>\n",
       "                        <td id=\"T_f4e64820_fb79_11ea_954e_0242ac1c0002row4_col7\" class=\"data row4 col7\" >2 min 16.64 sec</td>\n",
       "            </tr>\n",
       "            <tr>\n",
       "                        <th id=\"T_f4e64820_fb79_11ea_954e_0242ac1c0002level0_row5\" class=\"row_heading level0 row5\" >3</th>\n",
       "                        <td id=\"T_f4e64820_fb79_11ea_954e_0242ac1c0002row5_col0\" class=\"data row5 col0\" >ridgecv</td>\n",
       "                        <td id=\"T_f4e64820_fb79_11ea_954e_0242ac1c0002row5_col1\" class=\"data row5 col1\" >113,787</td>\n",
       "                        <td id=\"T_f4e64820_fb79_11ea_954e_0242ac1c0002row5_col2\" class=\"data row5 col2\" >9,183</td>\n",
       "                        <td id=\"T_f4e64820_fb79_11ea_954e_0242ac1c0002row5_col3\" class=\"data row5 col3\" >0.9036</td>\n",
       "                        <td id=\"T_f4e64820_fb79_11ea_954e_0242ac1c0002row5_col4\" class=\"data row5 col4\" >0.0071</td>\n",
       "                        <td id=\"T_f4e64820_fb79_11ea_954e_0242ac1c0002row5_col5\" class=\"data row5 col5\" >0.9031</td>\n",
       "                        <td id=\"T_f4e64820_fb79_11ea_954e_0242ac1c0002row5_col6\" class=\"data row5 col6\" >0.0072</td>\n",
       "                        <td id=\"T_f4e64820_fb79_11ea_954e_0242ac1c0002row5_col7\" class=\"data row5 col7\" >18.66 sec</td>\n",
       "            </tr>\n",
       "            <tr>\n",
       "                        <th id=\"T_f4e64820_fb79_11ea_954e_0242ac1c0002level0_row6\" class=\"row_heading level0 row6\" >4</th>\n",
       "                        <td id=\"T_f4e64820_fb79_11ea_954e_0242ac1c0002row6_col0\" class=\"data row6 col0\" >svr</td>\n",
       "                        <td id=\"T_f4e64820_fb79_11ea_954e_0242ac1c0002row6_col1\" class=\"data row6 col1\" >376,296</td>\n",
       "                        <td id=\"T_f4e64820_fb79_11ea_954e_0242ac1c0002row6_col2\" class=\"data row6 col2\" >21,587</td>\n",
       "                        <td id=\"T_f4e64820_fb79_11ea_954e_0242ac1c0002row6_col3\" class=\"data row6 col3\" >-0.0544</td>\n",
       "                        <td id=\"T_f4e64820_fb79_11ea_954e_0242ac1c0002row6_col4\" class=\"data row6 col4\" >0.0058</td>\n",
       "                        <td id=\"T_f4e64820_fb79_11ea_954e_0242ac1c0002row6_col5\" class=\"data row6 col5\" >-0.0606</td>\n",
       "                        <td id=\"T_f4e64820_fb79_11ea_954e_0242ac1c0002row6_col6\" class=\"data row6 col6\" >0.0058</td>\n",
       "                        <td id=\"T_f4e64820_fb79_11ea_954e_0242ac1c0002row6_col7\" class=\"data row6 col7\" >3 min 4.46 sec</td>\n",
       "            </tr>\n",
       "            <tr>\n",
       "                        <th id=\"T_f4e64820_fb79_11ea_954e_0242ac1c0002level0_row7\" class=\"row_heading level0 row7\" >5</th>\n",
       "                        <td id=\"T_f4e64820_fb79_11ea_954e_0242ac1c0002row7_col0\" class=\"data row7 col0\" >hist_gbr</td>\n",
       "                        <td id=\"T_f4e64820_fb79_11ea_954e_0242ac1c0002row7_col1\" class=\"data row7 col1\" >429,560</td>\n",
       "                        <td id=\"T_f4e64820_fb79_11ea_954e_0242ac1c0002row7_col2\" class=\"data row7 col2\" >35,677</td>\n",
       "                        <td id=\"T_f4e64820_fb79_11ea_954e_0242ac1c0002row7_col3\" class=\"data row7 col3\" >-0.3715</td>\n",
       "                        <td id=\"T_f4e64820_fb79_11ea_954e_0242ac1c0002row7_col4\" class=\"data row7 col4\" >0.0813</td>\n",
       "                        <td id=\"T_f4e64820_fb79_11ea_954e_0242ac1c0002row7_col5\" class=\"data row7 col5\" >-0.3795</td>\n",
       "                        <td id=\"T_f4e64820_fb79_11ea_954e_0242ac1c0002row7_col6\" class=\"data row7 col6\" >0.0818</td>\n",
       "                        <td id=\"T_f4e64820_fb79_11ea_954e_0242ac1c0002row7_col7\" class=\"data row7 col7\" >38 min 23.84 sec</td>\n",
       "            </tr>\n",
       "    </tbody></table>"
      ],
      "text/plain": [
       "<pandas.io.formats.style.Styler at 0x7f35fb245f98>"
      ]
     },
     "metadata": {
      "tags": []
     },
     "output_type": "display_data"
    }
   ],
   "source": [
    "display(df_scores.style\n",
    "        .format({\n",
    "            'RMSE': \"{:,.0f}\",\n",
    "            'RMSE_std': \"{:,.0f}\",\n",
    "            'R2': \"{:,.4f}\",\n",
    "            'R2_std': \"{:,.4f}\",\n",
    "            'AR2': \"{:,.4f}\",\n",
    "            'AR2_std': \"{:,.4f}\",\n",
    "            })\n",
    "        .background_gradient(subset=['AR2'])\n",
    "        .set_caption('Model evaluation for Train set')\n",
    "        )"
   ]
  },
  {
   "cell_type": "code",
   "execution_count": null,
   "metadata": {
    "colab": {
     "base_uri": "https://localhost:8080/",
     "height": 333
    },
    "colab_type": "code",
    "id": "t4y3kumARcC1",
    "outputId": "92f5a9af-0e4a-4e82-e1a1-a8beb64b62b3"
   },
   "outputs": [
    {
     "data": {
      "text/plain": [
       "<matplotlib.axes._subplots.AxesSubplot at 0x7f35fb245da0>"
      ]
     },
     "execution_count": 88,
     "metadata": {
      "tags": []
     },
     "output_type": "execute_result"
    },
    {
     "data": {
      "image/png": "[encoded data removed]",
      "text/plain": [
       "<Figure size 432x288 with 1 Axes>"
      ]
     },
     "metadata": {
      "image/png": {
       "height": 299,
       "width": 394
      },
      "tags": []
     },
     "output_type": "display_data"
    }
   ],
   "source": [
    "df_scores.set_index('Model')['RMSE'].plot.line('ro',rot=90)"
   ]
  },
  {
   "cell_type": "markdown",
   "metadata": {
    "colab_type": "text",
    "id": "l96s4e0og1P0"
   },
   "source": [
    "# Model Predictions on Test Data"
   ]
  },
  {
   "cell_type": "code",
   "execution_count": null,
   "metadata": {
    "colab": {},
    "colab_type": "code",
    "id": "mujF-qK37vkc"
   },
   "outputs": [],
   "source": [
    "def adjustedR2(rsquared,nrows,kcols):\n",
    "    return rsquared- (kcols-1)/(nrows-kcols) * (1-rsquared)"
   ]
  },
  {
   "cell_type": "code",
   "execution_count": null,
   "metadata": {
    "colab": {},
    "colab_type": "code",
    "id": "ByERFT4toxdn"
   },
   "outputs": [],
   "source": [
    "model_names = ['ridgecv','svr','rf','hist_gbr','xgboost','lightgbm','stack']"
   ]
  },
  {
   "cell_type": "code",
   "execution_count": null,
   "metadata": {
    "colab": {
     "base_uri": "https://localhost:8080/",
     "height": 52
    },
    "colab_type": "code",
    "id": "IdS0oSjonqNH",
    "outputId": "ff7a6c27-d8a5-4f73-f1ee-2bfbff62c7bf"
   },
   "outputs": [
    {
     "name": "stdout",
     "output_type": "stream",
     "text": [
      "CPU times: user 5min 5s, sys: 9.42 s, total: 5min 15s\n",
      "Wall time: 2min 51s\n"
     ]
    }
   ],
   "source": [
    "%%time\n",
    "\n",
    "ypreds_ridgecv = ridgecv.predict(df_Xtest)\n",
    "ypreds_svr = svr.predict(df_Xtest)\n",
    "ypreds_rf = rf.predict(df_Xtest)\n",
    "ypreds_hgbr = hist_gbr.predict(df_Xtest)\n",
    "ypreds_xgb = model_xgb.predict(df_Xtest)\n",
    "ypreds_lgb = model_lgb.predict(df_Xtest)\n",
    "\n",
    "# this needs array\n",
    "ypreds_stack = stack.predict(np.array(df_Xtest))"
   ]
  },
  {
   "cell_type": "code",
   "execution_count": null,
   "metadata": {
    "colab": {},
    "colab_type": "code",
    "id": "zY6cKoHMpGo7"
   },
   "outputs": [],
   "source": [
    "ypreds = [ypreds_ridgecv, ypreds_svr,ypreds_rf,ypreds_hgbr,\n",
    "          ypreds_xgb, ypreds_lgb,ypreds_stack]\n",
    "\n",
    "rmses = [rmse(np.array(ser_ytest), yp) for yp in ypreds]\n",
    "r2s = [sklearn.metrics.r2_score(np.array(ser_ytest), yp) for yp in ypreds]\n",
    "\n",
    "\n",
    "ar2s = [adjustedR2(r2, nrows=df_Xtest.shape[0], kcols=df_Xtest.shape[1]) for r2 in r2s]"
   ]
  },
  {
   "cell_type": "code",
   "execution_count": null,
   "metadata": {
    "colab": {
     "base_uri": "https://localhost:8080/",
     "height": 257
    },
    "colab_type": "code",
    "id": "XFcHZYnipXfZ",
    "outputId": "69b1866c-8b04-4254-b410-08c0c6385d6f"
   },
   "outputs": [
    {
     "data": {
      "text/html": [
       "<div>\n",
       "<style scoped>\n",
       "    .dataframe tbody tr th:only-of-type {\n",
       "        vertical-align: middle;\n",
       "    }\n",
       "\n",
       "    .dataframe tbody tr th {\n",
       "        vertical-align: top;\n",
       "    }\n",
       "\n",
       "    .dataframe thead th {\n",
       "        text-align: right;\n",
       "    }\n",
       "</style>\n",
       "<table border=\"1\" class=\"dataframe\">\n",
       "  <thead>\n",
       "    <tr style=\"text-align: right;\">\n",
       "      <th></th>\n",
       "      <th>Model</th>\n",
       "      <th>RMSE</th>\n",
       "      <th>R-squared</th>\n",
       "      <th>Adjusted-Rsquared</th>\n",
       "    </tr>\n",
       "  </thead>\n",
       "  <tbody>\n",
       "    <tr>\n",
       "      <th>2</th>\n",
       "      <td>rf</td>\n",
       "      <td>26075.804270</td>\n",
       "      <td>0.994955</td>\n",
       "      <td>0.994835</td>\n",
       "    </tr>\n",
       "    <tr>\n",
       "      <th>6</th>\n",
       "      <td>stack</td>\n",
       "      <td>49751.483209</td>\n",
       "      <td>0.981634</td>\n",
       "      <td>0.981199</td>\n",
       "    </tr>\n",
       "    <tr>\n",
       "      <th>5</th>\n",
       "      <td>lightgbm</td>\n",
       "      <td>51940.519390</td>\n",
       "      <td>0.979982</td>\n",
       "      <td>0.979508</td>\n",
       "    </tr>\n",
       "    <tr>\n",
       "      <th>4</th>\n",
       "      <td>xgboost</td>\n",
       "      <td>52596.952957</td>\n",
       "      <td>0.979473</td>\n",
       "      <td>0.978987</td>\n",
       "    </tr>\n",
       "    <tr>\n",
       "      <th>0</th>\n",
       "      <td>ridgecv</td>\n",
       "      <td>111052.816460</td>\n",
       "      <td>0.908490</td>\n",
       "      <td>0.906322</td>\n",
       "    </tr>\n",
       "    <tr>\n",
       "      <th>1</th>\n",
       "      <td>svr</td>\n",
       "      <td>377212.837380</td>\n",
       "      <td>-0.055802</td>\n",
       "      <td>-0.080809</td>\n",
       "    </tr>\n",
       "    <tr>\n",
       "      <th>3</th>\n",
       "      <td>hist_gbr</td>\n",
       "      <td>475583.269539</td>\n",
       "      <td>-0.678274</td>\n",
       "      <td>-0.718024</td>\n",
       "    </tr>\n",
       "  </tbody>\n",
       "</table>\n",
       "</div>"
      ],
      "text/plain": [
       "      Model           RMSE  R-squared  Adjusted-Rsquared\n",
       "2        rf   26075.804270   0.994955           0.994835\n",
       "6     stack   49751.483209   0.981634           0.981199\n",
       "5  lightgbm   51940.519390   0.979982           0.979508\n",
       "4   xgboost   52596.952957   0.979473           0.978987\n",
       "0   ridgecv  111052.816460   0.908490           0.906322\n",
       "1       svr  377212.837380  -0.055802          -0.080809\n",
       "3  hist_gbr  475583.269539  -0.678274          -0.718024"
      ]
     },
     "execution_count": 97,
     "metadata": {
      "tags": []
     },
     "output_type": "execute_result"
    }
   ],
   "source": [
    "df_eval = pd.DataFrame({'Model': model_names,\n",
    "                        'RMSE': rmses,\n",
    "                        'R-squared': r2s,\n",
    "                        'Adjusted-Rsquared': ar2s})\n",
    "\n",
    "df_eval = df_eval.sort_values('RMSE',ascending=True)"
   ]
  },
  {
   "cell_type": "code",
   "execution_count": null,
   "metadata": {
    "colab": {
     "base_uri": "https://localhost:8080/",
     "height": 176
    },
    "colab_type": "code",
    "id": "-39aU7U4FERs",
    "outputId": "96b71cf1-7b29-4841-aecd-f70ad2efc7a3"
   },
   "outputs": [
    {
     "data": {
      "text/html": [
       "<style  type=\"text/css\" >\n",
       "    #T_265e3d4e_fb7b_11ea_954e_0242ac1c0002row0_col3 {\n",
       "            background-color:  #023858;\n",
       "            color:  #f1f1f1;\n",
       "        }    #T_265e3d4e_fb7b_11ea_954e_0242ac1c0002row1_col3 {\n",
       "            background-color:  #023a5b;\n",
       "            color:  #f1f1f1;\n",
       "        }    #T_265e3d4e_fb7b_11ea_954e_0242ac1c0002row2_col3 {\n",
       "            background-color:  #023a5b;\n",
       "            color:  #f1f1f1;\n",
       "        }    #T_265e3d4e_fb7b_11ea_954e_0242ac1c0002row3_col3 {\n",
       "            background-color:  #023a5b;\n",
       "            color:  #f1f1f1;\n",
       "        }    #T_265e3d4e_fb7b_11ea_954e_0242ac1c0002row4_col3 {\n",
       "            background-color:  #03466e;\n",
       "            color:  #f1f1f1;\n",
       "        }    #T_265e3d4e_fb7b_11ea_954e_0242ac1c0002row5_col3 {\n",
       "            background-color:  #a7bddb;\n",
       "            color:  #000000;\n",
       "        }    #T_265e3d4e_fb7b_11ea_954e_0242ac1c0002row6_col3 {\n",
       "            background-color:  #fff7fb;\n",
       "            color:  #000000;\n",
       "        }</style><table id=\"T_265e3d4e_fb7b_11ea_954e_0242ac1c0002\" ><caption>Model evaluation for Test set</caption><thead>    <tr>        <th class=\"blank level0\" ></th>        <th class=\"col_heading level0 col0\" >Model</th>        <th class=\"col_heading level0 col1\" >RMSE</th>        <th class=\"col_heading level0 col2\" >R-squared</th>        <th class=\"col_heading level0 col3\" >Adjusted-Rsquared</th>    </tr></thead><tbody>\n",
       "                <tr>\n",
       "                        <th id=\"T_265e3d4e_fb7b_11ea_954e_0242ac1c0002level0_row0\" class=\"row_heading level0 row0\" >2</th>\n",
       "                        <td id=\"T_265e3d4e_fb7b_11ea_954e_0242ac1c0002row0_col0\" class=\"data row0 col0\" >rf</td>\n",
       "                        <td id=\"T_265e3d4e_fb7b_11ea_954e_0242ac1c0002row0_col1\" class=\"data row0 col1\" >26,076</td>\n",
       "                        <td id=\"T_265e3d4e_fb7b_11ea_954e_0242ac1c0002row0_col2\" class=\"data row0 col2\" >0.994955</td>\n",
       "                        <td id=\"T_265e3d4e_fb7b_11ea_954e_0242ac1c0002row0_col3\" class=\"data row0 col3\" >0.994835</td>\n",
       "            </tr>\n",
       "            <tr>\n",
       "                        <th id=\"T_265e3d4e_fb7b_11ea_954e_0242ac1c0002level0_row1\" class=\"row_heading level0 row1\" >6</th>\n",
       "                        <td id=\"T_265e3d4e_fb7b_11ea_954e_0242ac1c0002row1_col0\" class=\"data row1 col0\" >stack</td>\n",
       "                        <td id=\"T_265e3d4e_fb7b_11ea_954e_0242ac1c0002row1_col1\" class=\"data row1 col1\" >49,751</td>\n",
       "                        <td id=\"T_265e3d4e_fb7b_11ea_954e_0242ac1c0002row1_col2\" class=\"data row1 col2\" >0.981634</td>\n",
       "                        <td id=\"T_265e3d4e_fb7b_11ea_954e_0242ac1c0002row1_col3\" class=\"data row1 col3\" >0.981199</td>\n",
       "            </tr>\n",
       "            <tr>\n",
       "                        <th id=\"T_265e3d4e_fb7b_11ea_954e_0242ac1c0002level0_row2\" class=\"row_heading level0 row2\" >5</th>\n",
       "                        <td id=\"T_265e3d4e_fb7b_11ea_954e_0242ac1c0002row2_col0\" class=\"data row2 col0\" >lightgbm</td>\n",
       "                        <td id=\"T_265e3d4e_fb7b_11ea_954e_0242ac1c0002row2_col1\" class=\"data row2 col1\" >51,941</td>\n",
       "                        <td id=\"T_265e3d4e_fb7b_11ea_954e_0242ac1c0002row2_col2\" class=\"data row2 col2\" >0.979982</td>\n",
       "                        <td id=\"T_265e3d4e_fb7b_11ea_954e_0242ac1c0002row2_col3\" class=\"data row2 col3\" >0.979508</td>\n",
       "            </tr>\n",
       "            <tr>\n",
       "                        <th id=\"T_265e3d4e_fb7b_11ea_954e_0242ac1c0002level0_row3\" class=\"row_heading level0 row3\" >4</th>\n",
       "                        <td id=\"T_265e3d4e_fb7b_11ea_954e_0242ac1c0002row3_col0\" class=\"data row3 col0\" >xgboost</td>\n",
       "                        <td id=\"T_265e3d4e_fb7b_11ea_954e_0242ac1c0002row3_col1\" class=\"data row3 col1\" >52,597</td>\n",
       "                        <td id=\"T_265e3d4e_fb7b_11ea_954e_0242ac1c0002row3_col2\" class=\"data row3 col2\" >0.979473</td>\n",
       "                        <td id=\"T_265e3d4e_fb7b_11ea_954e_0242ac1c0002row3_col3\" class=\"data row3 col3\" >0.978987</td>\n",
       "            </tr>\n",
       "            <tr>\n",
       "                        <th id=\"T_265e3d4e_fb7b_11ea_954e_0242ac1c0002level0_row4\" class=\"row_heading level0 row4\" >0</th>\n",
       "                        <td id=\"T_265e3d4e_fb7b_11ea_954e_0242ac1c0002row4_col0\" class=\"data row4 col0\" >ridgecv</td>\n",
       "                        <td id=\"T_265e3d4e_fb7b_11ea_954e_0242ac1c0002row4_col1\" class=\"data row4 col1\" >111,053</td>\n",
       "                        <td id=\"T_265e3d4e_fb7b_11ea_954e_0242ac1c0002row4_col2\" class=\"data row4 col2\" >0.908490</td>\n",
       "                        <td id=\"T_265e3d4e_fb7b_11ea_954e_0242ac1c0002row4_col3\" class=\"data row4 col3\" >0.906322</td>\n",
       "            </tr>\n",
       "            <tr>\n",
       "                        <th id=\"T_265e3d4e_fb7b_11ea_954e_0242ac1c0002level0_row5\" class=\"row_heading level0 row5\" >1</th>\n",
       "                        <td id=\"T_265e3d4e_fb7b_11ea_954e_0242ac1c0002row5_col0\" class=\"data row5 col0\" >svr</td>\n",
       "                        <td id=\"T_265e3d4e_fb7b_11ea_954e_0242ac1c0002row5_col1\" class=\"data row5 col1\" >377,213</td>\n",
       "                        <td id=\"T_265e3d4e_fb7b_11ea_954e_0242ac1c0002row5_col2\" class=\"data row5 col2\" >-0.055802</td>\n",
       "                        <td id=\"T_265e3d4e_fb7b_11ea_954e_0242ac1c0002row5_col3\" class=\"data row5 col3\" >-0.080809</td>\n",
       "            </tr>\n",
       "            <tr>\n",
       "                        <th id=\"T_265e3d4e_fb7b_11ea_954e_0242ac1c0002level0_row6\" class=\"row_heading level0 row6\" >3</th>\n",
       "                        <td id=\"T_265e3d4e_fb7b_11ea_954e_0242ac1c0002row6_col0\" class=\"data row6 col0\" >hist_gbr</td>\n",
       "                        <td id=\"T_265e3d4e_fb7b_11ea_954e_0242ac1c0002row6_col1\" class=\"data row6 col1\" >475,583</td>\n",
       "                        <td id=\"T_265e3d4e_fb7b_11ea_954e_0242ac1c0002row6_col2\" class=\"data row6 col2\" >-0.678274</td>\n",
       "                        <td id=\"T_265e3d4e_fb7b_11ea_954e_0242ac1c0002row6_col3\" class=\"data row6 col3\" >-0.718024</td>\n",
       "            </tr>\n",
       "    </tbody></table>"
      ],
      "text/plain": [
       "<pandas.io.formats.style.Styler at 0x7f363f388358>"
      ]
     },
     "metadata": {
      "tags": []
     },
     "output_type": "display_data"
    }
   ],
   "source": [
    "display(df_eval.style\n",
    "        .format({\n",
    "            'RMSE': \"{:,.0f}\",\n",
    "            'RMSE_std': \"{:,.0f}\",\n",
    "            'R2': \"{:,.4f}\",\n",
    "            'R2_std': \"{:,.4f}\",\n",
    "            'AR2': \"{:,.4f}\",\n",
    "            'AR2_std': \"{:,.4f}\",\n",
    "            })\n",
    "        .background_gradient(subset=['Adjusted-Rsquared'])\n",
    "        .set_caption('Model evaluation for Test set')\n",
    "        )"
   ]
  },
  {
   "cell_type": "markdown",
   "metadata": {
    "colab_type": "text",
    "id": "CmD13pCup-US"
   },
   "source": [
    "# Time Taken"
   ]
  },
  {
   "cell_type": "code",
   "execution_count": null,
   "metadata": {
    "colab": {
     "base_uri": "https://localhost:8080/",
     "height": 34
    },
    "colab_type": "code",
    "id": "o4xMxNCQp_m-",
    "outputId": "d0ef61b5-b664-49d0-c834-af7a9250d689"
   },
   "outputs": [
    {
     "name": "stdout",
     "output_type": "stream",
     "text": [
      "Time taken to run whole notebook: 6 hr 36 min 53 secs\n"
     ]
    }
   ],
   "source": [
    "time_taken = time.time() - time_start_notebook\n",
    "h,m = divmod(time_taken,60*60)\n",
    "print('Time taken to run whole notebook: {:.0f} hr '\\\n",
    "      '{:.0f} min {:.0f} secs'.format(h, *divmod(m,60)))"
   ]
  }
 ],
 "metadata": {
  "accelerator": "GPU",
  "colab": {
   "collapsed_sections": [],
   "name": "c12_regression_modelling_stacking_blending.ipynb",
   "provenance": []
  },
  "kernelspec": {
   "display_name": "Python 3",
   "language": "python",
   "name": "python3"
  },
  "language_info": {
   "codemirror_mode": {
    "name": "ipython",
    "version": 3
   },
   "file_extension": ".py",
   "mimetype": "text/x-python",
   "name": "python",
   "nbconvert_exporter": "python",
   "pygments_lexer": "ipython3",
   "version": "3.7.7"
  }
 },
 "nbformat": 4,
 "nbformat_minor": 4
}
