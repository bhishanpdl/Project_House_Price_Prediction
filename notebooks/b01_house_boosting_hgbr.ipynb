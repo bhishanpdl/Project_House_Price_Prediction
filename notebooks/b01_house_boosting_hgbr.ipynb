{
  "nbformat": 4,
  "nbformat_minor": 0,
  "metadata": {
    "colab": {
      "name": "e01_boosting_hgbr.ipynb",
      "provenance": [],
      "collapsed_sections": []
    },
    "kernelspec": {
      "display_name": "Python (dataSc)",
      "language": "python",
      "name": "datasc"
    },
    "language_info": {
      "codemirror_mode": {
        "name": "ipython",
        "version": 3
      },
      "file_extension": ".py",
      "mimetype": "text/x-python",
      "name": "python",
      "nbconvert_exporter": "python",
      "pygments_lexer": "ipython3",
      "version": "3.7.3"
    },
    "toc": {
      "base_numbering": 1,
      "nav_menu": {},
      "number_sections": true,
      "sideBar": true,
      "skip_h1_title": false,
      "title_cell": "Table of Contents",
      "title_sidebar": "Contents",
      "toc_cell": true,
      "toc_position": {},
      "toc_section_display": true,
      "toc_window_display": true
    }
  },
  "cells": [
    {
      "cell_type": "markdown",
      "metadata": {
        "id": "p0xjof2N44pA",
        "toc": "true"
      },
      "source": [
        "<h1>Table of Contents<span class=\"tocSkip\"></span></h1>\n",
        "<div class=\"toc\"><ul class=\"toc-item\"><li><span><a href=\"#Data-Description\" data-toc-modified-id=\"Data-Description-1\"><span class=\"toc-item-num\">1&nbsp;&nbsp;</span>Data Description</a></span></li><li><span><a href=\"#Imports\" data-toc-modified-id=\"Imports-2\"><span class=\"toc-item-num\">2&nbsp;&nbsp;</span>Imports</a></span></li><li><span><a href=\"#Important-Scripts\" data-toc-modified-id=\"Important-Scripts-3\"><span class=\"toc-item-num\">3&nbsp;&nbsp;</span>Important Scripts</a></span></li><li><span><a href=\"#Load-the-data\" data-toc-modified-id=\"Load-the-data-4\"><span class=\"toc-item-num\">4&nbsp;&nbsp;</span>Load the data</a></span></li><li><span><a href=\"#Log-transform-large-values\" data-toc-modified-id=\"Log-transform-large-values-5\"><span class=\"toc-item-num\">5&nbsp;&nbsp;</span>Log transform large values</a></span></li><li><span><a href=\"#Train-Test-split-after-log-transform\" data-toc-modified-id=\"Train-Test-split-after-log-transform-6\"><span class=\"toc-item-num\">6&nbsp;&nbsp;</span>Train-Test split after log transform</a></span></li><li><span><a href=\"#Scaling-the-Data\" data-toc-modified-id=\"Scaling-the-Data-7\"><span class=\"toc-item-num\">7&nbsp;&nbsp;</span>Scaling the Data</a></span></li><li><span><a href=\"#GBR-Modelling\" data-toc-modified-id=\"GBR-Modelling-8\"><span class=\"toc-item-num\">8&nbsp;&nbsp;</span>GBR Modelling</a></span></li><li><span><a href=\"#GBR-modelling-using-pipeline\" data-toc-modified-id=\"GBR-modelling-using-pipeline-9\"><span class=\"toc-item-num\">9&nbsp;&nbsp;</span>GBR modelling using pipeline</a></span></li><li><span><a href=\"#Cross-Validation-Results\" data-toc-modified-id=\"Cross-Validation-Results-10\"><span class=\"toc-item-num\">10&nbsp;&nbsp;</span>Cross Validation Results</a></span></li><li><span><a href=\"#HPO-(Hyper-Parameters-Optimization)\" data-toc-modified-id=\"HPO-(Hyper-Parameters-Optimization)-11\"><span class=\"toc-item-num\">11&nbsp;&nbsp;</span>HPO (Hyper Parameters Optimization)</a></span><ul class=\"toc-item\"><li><span><a href=\"#Grid-Search-for-Gradient-Boosting-Regressor\" data-toc-modified-id=\"Grid-Search-for-Gradient-Boosting-Regressor-11.1\"><span class=\"toc-item-num\">11.1&nbsp;&nbsp;</span>Grid Search for Gradient Boosting Regressor</a></span></li><li><span><a href=\"#Best-Model\" data-toc-modified-id=\"Best-Model-11.2\"><span class=\"toc-item-num\">11.2&nbsp;&nbsp;</span>Best Model</a></span></li></ul></li></ul></div>"
      ]
    },
    {
      "cell_type": "markdown",
      "metadata": {
        "id": "jEa34qh9mghd"
      },
      "source": [
        "<div class=\"alert alert-block alert-success\">\n",
        "<b>Kernel Author:</b>  <br>\n",
        "<a href=\"https://bhishanpdl.github.io/\" , target=\"_blank\">Bhishan Poudel,  Data Scientist, Ph.D Astrophysics</a> .\n",
        "</div>"
      ]
    },
    {
      "cell_type": "markdown",
      "metadata": {
        "id": "VwrXuQrH44pE"
      },
      "source": [
        "# Data Description\n",
        "\n",
        "This dataset contains house sale prices for King County,\n",
        "which includes Seattle.\n",
        "It includes homes sold between May 2014 and May 2015.\n",
        "\n",
        "- Dependent features: 1 (price)\n",
        "- Features : 19 home features\n",
        "- Id:  1 house ID\n",
        "\n",
        "Task: Try to estimate the price based on given features.\n",
        "\n",
        "![](https://github.com/bhishanpdl/Project_House_Price_Prediction/blob/master/data/raw/data_description.png?raw=1)"
      ]
    },
    {
      "cell_type": "markdown",
      "metadata": {
        "id": "mcUE4kVk44pE"
      },
      "source": [
        "# Imports"
      ]
    },
    {
      "cell_type": "code",
      "metadata": {
        "ExecuteTime": {
          "end_time": "2019-11-20T01:11:15.553817Z",
          "start_time": "2019-11-20T01:11:15.549974Z"
        },
        "id": "tpMc6QvO44pF"
      },
      "source": [
        "%%capture\n",
        "import os\n",
        "import sys\n",
        "ENV_COLAB = 'google.colab' in sys.modules\n",
        "\n",
        "if ENV_COLAB:\n",
        "    ## install modules\n",
        "    !pip install watermark\n",
        "\n",
        "    # if we update existing module, we need to restart colab\n",
        "    !pip install -U scikit-learn\n",
        "\n",
        "    ## print\n",
        "    print('Environment: Google Colaboratory.')\n",
        "TREE_METHOD = 'gpu_hist' if ENV_COLAB else 'auto'"
      ],
      "execution_count": 1,
      "outputs": []
    },
    {
      "cell_type": "code",
      "metadata": {
        "ExecuteTime": {
          "end_time": "2019-11-20T01:11:16.331694Z",
          "start_time": "2019-11-20T01:11:15.561180Z"
        },
        "id": "ZFubck-r44pH",
        "outputId": "a6ce3945-c0e9-457a-8edc-18219e661f32",
        "colab": {
          "base_uri": "https://localhost:8080/"
        }
      },
      "source": [
        "import numpy as np\n",
        "import pandas as pd\n",
        "\n",
        "# visualization\n",
        "import seaborn as sns\n",
        "sns.set(color_codes=True)\n",
        "import matplotlib\n",
        "import matplotlib.pyplot as plt\n",
        "%matplotlib inline\n",
        "\n",
        "# mixed\n",
        "import os\n",
        "import time\n",
        "from pprint import pprint\n",
        "\n",
        "# random state\n",
        "SEED=100\n",
        "np.random.seed(SEED)\n",
        "\n",
        "# settings\n",
        "pd.set_option('display.max_columns', 200)\n",
        "\n",
        "# sklearn\n",
        "import sklearn\n",
        "from sklearn import preprocessing\n",
        "from sklearn import model_selection\n",
        "from sklearn import ensemble\n",
        "from sklearn import metrics\n",
        "from sklearn.pipeline import Pipeline\n",
        "from sklearn.experimental import enable_hist_gradient_boosting  # noqa\n",
        "from sklearn.ensemble import HistGradientBoostingRegressor\n",
        "\n",
        "# versions\n",
        "import watermark\n",
        "%load_ext watermark\n",
        "%watermark -a \"Bhishan Poudel\" -d -v -m\n",
        "print()\n",
        "%watermark -iv"
      ],
      "execution_count": 2,
      "outputs": [
        {
          "output_type": "stream",
          "text": [
            "Bhishan Poudel 2020-11-04 \n",
            "\n",
            "CPython 3.6.9\n",
            "IPython 5.5.0\n",
            "\n",
            "compiler   : GCC 8.4.0\n",
            "system     : Linux\n",
            "release    : 4.19.112+\n",
            "machine    : x86_64\n",
            "processor  : x86_64\n",
            "CPU cores  : 2\n",
            "interpreter: 64bit\n",
            "\n",
            "seaborn    0.11.0\n",
            "watermark  2.0.2\n",
            "pandas     1.1.4\n",
            "matplotlib 3.2.2\n",
            "sklearn    0.23.2\n",
            "numpy      1.18.5\n",
            "\n"
          ],
          "name": "stdout"
        }
      ]
    },
    {
      "cell_type": "markdown",
      "metadata": {
        "id": "_vArIrIYIRlc"
      },
      "source": [
        "# Important Scripts"
      ]
    },
    {
      "cell_type": "code",
      "metadata": {
        "ExecuteTime": {
          "end_time": "2019-11-20T01:11:16.907111Z",
          "start_time": "2019-11-20T01:11:16.896053Z"
        },
        "id": "71Gnb9Z9IT3g"
      },
      "source": [
        "def show_methods(obj, ncols=7,start=None, inside=None):\n",
        "    \"\"\" Show all the attributes of a given method.\n",
        "    Example:\n",
        "    ========\n",
        "    show_method_attributes(list)\n",
        "     \"\"\"\n",
        "\n",
        "    print(f'Object Type: {type(obj)}\\n')\n",
        "    lst = [elem for elem in dir(obj) if elem[0]!='_' ]\n",
        "    lst = [elem for elem in lst \n",
        "           if elem not in 'os np pd sys time psycopg2'.split() ]\n",
        "\n",
        "    if isinstance(start,str):\n",
        "        lst = [elem for elem in lst if elem.startswith(start)]\n",
        "        \n",
        "    if isinstance(start,tuple) or isinstance(start,list):\n",
        "        lst = [elem for elem in lst for start_elem in start\n",
        "               if elem.startswith(start_elem)]\n",
        "        \n",
        "    if isinstance(inside,str):\n",
        "        lst = [elem for elem in lst if inside in elem]\n",
        "        \n",
        "    if isinstance(inside,tuple) or isinstance(inside,list):\n",
        "        lst = [elem for elem in lst for inside_elem in inside\n",
        "               if inside_elem in elem]\n",
        "\n",
        "    return pd.DataFrame(np.array_split(lst,ncols)).T.fillna('')"
      ],
      "execution_count": 3,
      "outputs": []
    },
    {
      "cell_type": "code",
      "metadata": {
        "ExecuteTime": {
          "end_time": "2019-11-20T01:11:16.913612Z",
          "start_time": "2019-11-20T01:11:16.910072Z"
        },
        "id": "H1JrjcmiK66M"
      },
      "source": [
        "def adjustedR2(rsquared,nrows,ncols):\n",
        "    return rsquared- (ncols-1)/(nrows-ncols) * (1-rsquared)"
      ],
      "execution_count": 4,
      "outputs": []
    },
    {
      "cell_type": "markdown",
      "metadata": {
        "id": "fF4cFyfou8Z1"
      },
      "source": [
        "# Parameters"
      ]
    },
    {
      "cell_type": "code",
      "metadata": {
        "id": "LWGXVGJLu95c",
        "outputId": "03ef40cf-32e0-495c-a76c-902fe3a393f9",
        "colab": {
          "base_uri": "https://localhost:8080/"
        }
      },
      "source": [
        "if ENV_COLAB:\n",
        "    path_raw = 'https://raw.githubusercontent.com/bhishanpdl/Datasets/master/'\n",
        "    proj = 'Projects/King_County_Seattle_House_Price_Kaggle/'\n",
        "    data_path_parent = path_raw + proj\n",
        "    data_path_train = data_path_parent + 'raw/train.csv'\n",
        "    data_path_test = data_path_parent + 'raw/test.csv'\n",
        "\n",
        "else:\n",
        "    data_path_parent = '../data/'\n",
        "    data_path_train = data_path_parent + 'raw/train.csv'\n",
        "    data_path_test = data_path_parent + 'raw/test.csv'\n",
        "\n",
        "target = 'price'\n",
        "train_size = 0.8\n",
        "\n",
        "print(data_path_train)"
      ],
      "execution_count": 5,
      "outputs": [
        {
          "output_type": "stream",
          "text": [
            "https://raw.githubusercontent.com/bhishanpdl/Datasets/master/Projects/King_County_Seattle_House_Price_Kaggle/raw/train.csv\n"
          ],
          "name": "stdout"
        }
      ]
    },
    {
      "cell_type": "markdown",
      "metadata": {
        "id": "AopwXJ3B44pv"
      },
      "source": [
        "# Load the data"
      ]
    },
    {
      "cell_type": "code",
      "metadata": {
        "ExecuteTime": {
          "end_time": "2019-11-20T01:11:22.829290Z",
          "start_time": "2019-11-20T01:11:16.916884Z"
        },
        "id": "efpgvfDk44px",
        "outputId": "5536ebf4-25c0-4957-9712-951d306326a1",
        "colab": {
          "base_uri": "https://localhost:8080/",
          "height": 295
        }
      },
      "source": [
        "df_train_raw = pd.read_csv(data_path_train)\n",
        "df_test_raw = pd.read_csv(data_path_test)\n",
        "print(df_train_raw.shape)\n",
        "print(df_train_raw.columns)\n",
        "\n",
        "display(df_train_raw.head(2).append(df_train_raw.tail(2)))"
      ],
      "execution_count": 6,
      "outputs": [
        {
          "output_type": "stream",
          "text": [
            "(17290, 21)\n",
            "Index(['id', 'date', 'price', 'bedrooms', 'bathrooms', 'sqft_living',\n",
            "       'sqft_lot', 'floors', 'waterfront', 'view', 'condition', 'grade',\n",
            "       'sqft_above', 'sqft_basement', 'yr_built', 'yr_renovated', 'zipcode',\n",
            "       'lat', 'long', 'sqft_living15', 'sqft_lot15'],\n",
            "      dtype='object')\n"
          ],
          "name": "stdout"
        },
        {
          "output_type": "display_data",
          "data": {
            "text/html": [
              "<div>\n",
              "<style scoped>\n",
              "    .dataframe tbody tr th:only-of-type {\n",
              "        vertical-align: middle;\n",
              "    }\n",
              "\n",
              "    .dataframe tbody tr th {\n",
              "        vertical-align: top;\n",
              "    }\n",
              "\n",
              "    .dataframe thead th {\n",
              "        text-align: right;\n",
              "    }\n",
              "</style>\n",
              "<table border=\"1\" class=\"dataframe\">\n",
              "  <thead>\n",
              "    <tr style=\"text-align: right;\">\n",
              "      <th></th>\n",
              "      <th>id</th>\n",
              "      <th>date</th>\n",
              "      <th>price</th>\n",
              "      <th>bedrooms</th>\n",
              "      <th>bathrooms</th>\n",
              "      <th>sqft_living</th>\n",
              "      <th>sqft_lot</th>\n",
              "      <th>floors</th>\n",
              "      <th>waterfront</th>\n",
              "      <th>view</th>\n",
              "      <th>condition</th>\n",
              "      <th>grade</th>\n",
              "      <th>sqft_above</th>\n",
              "      <th>sqft_basement</th>\n",
              "      <th>yr_built</th>\n",
              "      <th>yr_renovated</th>\n",
              "      <th>zipcode</th>\n",
              "      <th>lat</th>\n",
              "      <th>long</th>\n",
              "      <th>sqft_living15</th>\n",
              "      <th>sqft_lot15</th>\n",
              "    </tr>\n",
              "  </thead>\n",
              "  <tbody>\n",
              "    <tr>\n",
              "      <th>0</th>\n",
              "      <td>2561340020</td>\n",
              "      <td>20140804T000000</td>\n",
              "      <td>325000.0</td>\n",
              "      <td>3</td>\n",
              "      <td>1.75</td>\n",
              "      <td>1780</td>\n",
              "      <td>11096</td>\n",
              "      <td>1.0</td>\n",
              "      <td>0</td>\n",
              "      <td>0</td>\n",
              "      <td>3</td>\n",
              "      <td>7</td>\n",
              "      <td>1210</td>\n",
              "      <td>570</td>\n",
              "      <td>1979</td>\n",
              "      <td>0</td>\n",
              "      <td>98074</td>\n",
              "      <td>47.6170</td>\n",
              "      <td>-122.051</td>\n",
              "      <td>1780</td>\n",
              "      <td>10640</td>\n",
              "    </tr>\n",
              "    <tr>\n",
              "      <th>1</th>\n",
              "      <td>8598200070</td>\n",
              "      <td>20141208T000000</td>\n",
              "      <td>278000.0</td>\n",
              "      <td>2</td>\n",
              "      <td>2.50</td>\n",
              "      <td>1420</td>\n",
              "      <td>2229</td>\n",
              "      <td>2.0</td>\n",
              "      <td>0</td>\n",
              "      <td>0</td>\n",
              "      <td>3</td>\n",
              "      <td>7</td>\n",
              "      <td>1420</td>\n",
              "      <td>0</td>\n",
              "      <td>2004</td>\n",
              "      <td>0</td>\n",
              "      <td>98059</td>\n",
              "      <td>47.4871</td>\n",
              "      <td>-122.165</td>\n",
              "      <td>1500</td>\n",
              "      <td>2230</td>\n",
              "    </tr>\n",
              "    <tr>\n",
              "      <th>17288</th>\n",
              "      <td>7174800760</td>\n",
              "      <td>20140725T000000</td>\n",
              "      <td>667000.0</td>\n",
              "      <td>5</td>\n",
              "      <td>2.00</td>\n",
              "      <td>1900</td>\n",
              "      <td>5470</td>\n",
              "      <td>1.0</td>\n",
              "      <td>0</td>\n",
              "      <td>0</td>\n",
              "      <td>3</td>\n",
              "      <td>7</td>\n",
              "      <td>1180</td>\n",
              "      <td>720</td>\n",
              "      <td>1930</td>\n",
              "      <td>1965</td>\n",
              "      <td>98105</td>\n",
              "      <td>47.6666</td>\n",
              "      <td>-122.303</td>\n",
              "      <td>1300</td>\n",
              "      <td>3250</td>\n",
              "    </tr>\n",
              "    <tr>\n",
              "      <th>17289</th>\n",
              "      <td>9521100280</td>\n",
              "      <td>20140612T000000</td>\n",
              "      <td>480000.0</td>\n",
              "      <td>3</td>\n",
              "      <td>2.50</td>\n",
              "      <td>1250</td>\n",
              "      <td>1103</td>\n",
              "      <td>3.0</td>\n",
              "      <td>0</td>\n",
              "      <td>2</td>\n",
              "      <td>3</td>\n",
              "      <td>8</td>\n",
              "      <td>1250</td>\n",
              "      <td>0</td>\n",
              "      <td>2005</td>\n",
              "      <td>0</td>\n",
              "      <td>98103</td>\n",
              "      <td>47.6619</td>\n",
              "      <td>-122.352</td>\n",
              "      <td>1250</td>\n",
              "      <td>1188</td>\n",
              "    </tr>\n",
              "  </tbody>\n",
              "</table>\n",
              "</div>"
            ],
            "text/plain": [
              "               id             date     price  bedrooms  bathrooms  \\\n",
              "0      2561340020  20140804T000000  325000.0         3       1.75   \n",
              "1      8598200070  20141208T000000  278000.0         2       2.50   \n",
              "17288  7174800760  20140725T000000  667000.0         5       2.00   \n",
              "17289  9521100280  20140612T000000  480000.0         3       2.50   \n",
              "\n",
              "       sqft_living  sqft_lot  floors  waterfront  view  condition  grade  \\\n",
              "0             1780     11096     1.0           0     0          3      7   \n",
              "1             1420      2229     2.0           0     0          3      7   \n",
              "17288         1900      5470     1.0           0     0          3      7   \n",
              "17289         1250      1103     3.0           0     2          3      8   \n",
              "\n",
              "       sqft_above  sqft_basement  yr_built  yr_renovated  zipcode      lat  \\\n",
              "0            1210            570      1979             0    98074  47.6170   \n",
              "1            1420              0      2004             0    98059  47.4871   \n",
              "17288        1180            720      1930          1965    98105  47.6666   \n",
              "17289        1250              0      2005             0    98103  47.6619   \n",
              "\n",
              "          long  sqft_living15  sqft_lot15  \n",
              "0     -122.051           1780       10640  \n",
              "1     -122.165           1500        2230  \n",
              "17288 -122.303           1300        3250  \n",
              "17289 -122.352           1250        1188  "
            ]
          },
          "metadata": {
            "tags": []
          }
        }
      ]
    },
    {
      "cell_type": "markdown",
      "metadata": {
        "id": "WG3-tL94xCzn"
      },
      "source": [
        "# Data Processing"
      ]
    },
    {
      "cell_type": "code",
      "metadata": {
        "id": "0XjWP7y1xEwm"
      },
      "source": [
        "def clean_data(df):\n",
        "    df = df.copy()\n",
        "\n",
        "    # Date time features\n",
        "    df['date'] = pd.to_datetime(df['date'])\n",
        "    df['yr_sales'] = df['date'].dt.year\n",
        "    df['age'] = df['yr_sales'] - df['yr_built']\n",
        "    df['yr_renovated2'] = np.where(df['yr_renovated'].eq(0), df['yr_built'], df['yr_renovated'])\n",
        "    df['age_after_renovation'] = df['yr_sales'] - df['yr_renovated2']\n",
        "\n",
        "    # Categorical Features\n",
        "    cols_str = ['waterfront', 'view', 'condition', 'grade','zipcode']\n",
        "    for c in cols_str:\n",
        "        df[c] = df[c].astype(str)\n",
        "\n",
        "    cols_obj = df.select_dtypes(['object','category']).columns\n",
        "    cols_obj_small = ['waterfront', 'view', 'condition', 'grade']\n",
        "\n",
        "    # Boolean data types\n",
        "    df['basement_bool'] = df['sqft_basement'].apply(lambda x: 1 if x>0 else 0)\n",
        "    df['renovation_bool'] = df['yr_renovated'].apply(lambda x: 1 if x>0 else 0)\n",
        "\n",
        "    # Numerical features binning\n",
        "    cols_bin = ['age','age_after_renovation']\n",
        "    df['age_cat'] = pd.cut(df['age'], 10, labels=range(10)).astype(str)\n",
        "    df['age_after_renovation_cat'] = pd.cut(df['age_after_renovation'], 10, labels=range(10))\n",
        "\n",
        "    # Create dummy variables from object and categories\n",
        "    cols_obj_cat = df.select_dtypes(include=[np.object, 'category']).columns\n",
        "    cols_dummy = ['waterfront', 'view', 'condition', 'grade',\n",
        "                'age_cat', 'age_after_renovation_cat']\n",
        "\n",
        "    df_dummy = pd.get_dummies(df[cols_dummy],drop_first=False)\n",
        "    df = pd.concat([df,df_dummy], axis=1)\n",
        "\n",
        "    # after creating dummy, make the columns number\n",
        "    for c in cols_obj_cat:\n",
        "        df[c] = df[c].astype(np.int8)\n",
        "\n",
        "    # Log transformation of large numerical values\n",
        "    cols_log = ['sqft_living', 'sqft_lot', 'sqft_above',\n",
        "                'sqft_basement', 'sqft_living15', 'sqft_lot15']\n",
        "\n",
        "    for col in cols_log:\n",
        "        df['log1p_' + col] = np.log1p(df[col])\n",
        "\n",
        "    # squared columns\n",
        "    cols_sq = [\n",
        "        # cats\n",
        "        'bedrooms','bathrooms','floors','waterfront','view',\n",
        "\n",
        "        # nums\n",
        "        'age','age_after_renovation',\n",
        "\n",
        "        # log nums\n",
        "        'log1p_sqft_living','log1p_sqft_lot',\n",
        "        'log1p_sqft_above','log1p_sqft_basement',\n",
        "        'log1p_sqft_living15','log1p_sqft_lot15'\n",
        "        ]\n",
        "    for col in cols_sq:\n",
        "        df[col + '_sq'] = df[col]**2\n",
        "\n",
        "    # Drop unwanted columns\n",
        "    cols_drop = ['id','date']\n",
        "    df = df.drop(cols_drop,axis=1)\n",
        "\n",
        "    return df"
      ],
      "execution_count": 7,
      "outputs": []
    },
    {
      "cell_type": "code",
      "metadata": {
        "id": "RIaDxvcf0gLO",
        "outputId": "d40fbb05-63e6-4ada-b912-670a917001d6",
        "colab": {
          "base_uri": "https://localhost:8080/"
        }
      },
      "source": [
        "df_train = clean_data(df_train_raw)\n",
        "df_test = clean_data(df_test_raw)\n",
        "\n",
        "print(df_train.shape)\n",
        "print(df_train.columns)"
      ],
      "execution_count": 8,
      "outputs": [
        {
          "output_type": "stream",
          "text": [
            "(17290, 90)\n",
            "Index(['price', 'bedrooms', 'bathrooms', 'sqft_living', 'sqft_lot', 'floors',\n",
            "       'waterfront', 'view', 'condition', 'grade', 'sqft_above',\n",
            "       'sqft_basement', 'yr_built', 'yr_renovated', 'zipcode', 'lat', 'long',\n",
            "       'sqft_living15', 'sqft_lot15', 'yr_sales', 'age', 'yr_renovated2',\n",
            "       'age_after_renovation', 'basement_bool', 'renovation_bool', 'age_cat',\n",
            "       'age_after_renovation_cat', 'waterfront_0', 'waterfront_1', 'view_0',\n",
            "       'view_1', 'view_2', 'view_3', 'view_4', 'condition_1', 'condition_2',\n",
            "       'condition_3', 'condition_4', 'condition_5', 'grade_1', 'grade_10',\n",
            "       'grade_11', 'grade_12', 'grade_13', 'grade_3', 'grade_4', 'grade_5',\n",
            "       'grade_6', 'grade_7', 'grade_8', 'grade_9', 'age_cat_0', 'age_cat_1',\n",
            "       'age_cat_2', 'age_cat_3', 'age_cat_4', 'age_cat_5', 'age_cat_6',\n",
            "       'age_cat_7', 'age_cat_8', 'age_cat_9', 'age_after_renovation_cat_0',\n",
            "       'age_after_renovation_cat_1', 'age_after_renovation_cat_2',\n",
            "       'age_after_renovation_cat_3', 'age_after_renovation_cat_4',\n",
            "       'age_after_renovation_cat_5', 'age_after_renovation_cat_6',\n",
            "       'age_after_renovation_cat_7', 'age_after_renovation_cat_8',\n",
            "       'age_after_renovation_cat_9', 'log1p_sqft_living', 'log1p_sqft_lot',\n",
            "       'log1p_sqft_above', 'log1p_sqft_basement', 'log1p_sqft_living15',\n",
            "       'log1p_sqft_lot15', 'bedrooms_sq', 'bathrooms_sq', 'floors_sq',\n",
            "       'waterfront_sq', 'view_sq', 'age_sq', 'age_after_renovation_sq',\n",
            "       'log1p_sqft_living_sq', 'log1p_sqft_lot_sq', 'log1p_sqft_above_sq',\n",
            "       'log1p_sqft_basement_sq', 'log1p_sqft_living15_sq',\n",
            "       'log1p_sqft_lot15_sq'],\n",
            "      dtype='object')\n"
          ],
          "name": "stdout"
        }
      ]
    },
    {
      "cell_type": "code",
      "metadata": {
        "id": "baL0m2g-0gSf",
        "outputId": "cdfd082a-422c-46b2-b933-0559d3f7de9c",
        "colab": {
          "base_uri": "https://localhost:8080/"
        }
      },
      "source": [
        "# make sure no data leakage\n",
        "df_train.filter(regex='price').columns"
      ],
      "execution_count": 9,
      "outputs": [
        {
          "output_type": "execute_result",
          "data": {
            "text/plain": [
              "Index(['price'], dtype='object')"
            ]
          },
          "metadata": {
            "tags": []
          },
          "execution_count": 9
        }
      ]
    },
    {
      "cell_type": "code",
      "metadata": {
        "id": "gq8sU2fq0gRD",
        "outputId": "ec333e5d-8a6b-476f-d1d8-78fb9fdfff52",
        "colab": {
          "base_uri": "https://localhost:8080/"
        }
      },
      "source": [
        "# make sure no nans\n",
        "df_train.isna().sum().sum(), df_test.isna().sum().sum()"
      ],
      "execution_count": 10,
      "outputs": [
        {
          "output_type": "execute_result",
          "data": {
            "text/plain": [
              "(0, 0)"
            ]
          },
          "metadata": {
            "tags": []
          },
          "execution_count": 10
        }
      ]
    },
    {
      "cell_type": "markdown",
      "metadata": {
        "id": "kB2xBUW85Kff"
      },
      "source": [
        "# Train target split"
      ]
    },
    {
      "cell_type": "code",
      "metadata": {
        "id": "gnM_P8oH__Mn"
      },
      "source": [
        "# choose features to train, we can change it later\n",
        "features = list(sorted(df_train.columns.drop(target)))\n",
        "# print(np.array(features))"
      ],
      "execution_count": 11,
      "outputs": []
    },
    {
      "cell_type": "code",
      "metadata": {
        "id": "JoPTLktOBlas"
      },
      "source": [
        "# note\n",
        "note = \"\"\"\n",
        "here the test data do not have some features from train data.\n",
        "\n",
        "df_test[features].head(2)\n",
        "KeyError: \"['grade_3', 'grade_1'] not in index\"\n",
        "\"\"\""
      ],
      "execution_count": 12,
      "outputs": []
    },
    {
      "cell_type": "code",
      "metadata": {
        "id": "R5Kt7yoVCMVr"
      },
      "source": [
        "features = [i for i in features if i in df_test.columns if i in df_train.columns]\n",
        "# print(np.array(sorted(features)))"
      ],
      "execution_count": 13,
      "outputs": []
    },
    {
      "cell_type": "code",
      "metadata": {
        "id": "oqejbZ9S5Mwo"
      },
      "source": [
        "df_Xtrain  = df_train[features]\n",
        "ser_ytrain = df_train[target]\n",
        "\n",
        "df_Xtest  = df_test[features]\n",
        "ser_ytest = df_test[target]\n",
        "\n",
        "ytrain = np.array(ser_ytrain).flatten()\n",
        "ytest  = np.array(ser_ytest).flatten()"
      ],
      "execution_count": 14,
      "outputs": []
    },
    {
      "cell_type": "markdown",
      "metadata": {
        "id": "4ZgVaQWtg7Nl"
      },
      "source": [
        "# Modelling: Histogram Gradient Boosting\n",
        "- https://scikit-learn.org/stable/modules/generated/sklearn.ensemble.HistGradientBoostingRegressor.html\n",
        "\n",
        "\n",
        "```\n",
        "parameters\n",
        "------------\n",
        "early_stopping: 'auto' or bool (default=’auto’)\n",
        "If ‘auto’, early stopping is enabled if the sample size is larger than 10000. If True, early stopping is enabled, otherwise early stopping is disabled.\n",
        "\n",
        "scoring: str or callable or None, optional (default=’loss’)\n",
        "Scoring parameter to use for early stopping. It can be a single string (see The scoring parameter: defining model evaluation rules) or a callable (see Defining your scoring strategy from metric functions). If None, the estimator’s default scorer is used. If scoring='loss', early stopping is checked w.r.t the loss value. Only used if early stopping is performed.\n",
        "```"
      ]
    },
    {
      "cell_type": "markdown",
      "metadata": {
        "id": "OBScjVVD44p_"
      },
      "source": [
        "## using pipeline"
      ]
    },
    {
      "cell_type": "code",
      "metadata": {
        "id": "7HJea9dMDjAY",
        "outputId": "10a36afe-d6d0-43c3-9735-44d4eb2be32e",
        "colab": {
          "base_uri": "https://localhost:8080/"
        }
      },
      "source": [
        "ensemble.HistGradientBoostingRegressor()"
      ],
      "execution_count": 15,
      "outputs": [
        {
          "output_type": "execute_result",
          "data": {
            "text/plain": [
              "HistGradientBoostingRegressor()"
            ]
          },
          "metadata": {
            "tags": []
          },
          "execution_count": 15
        }
      ]
    },
    {
      "cell_type": "code",
      "metadata": {
        "ExecuteTime": {
          "end_time": "2019-11-20T01:11:27.562630Z",
          "start_time": "2019-11-20T01:11:26.412550Z"
        },
        "id": "J8nbaUjC44qA",
        "outputId": "ba824ae9-e196-4601-9e3b-f4185bf60aff",
        "colab": {
          "base_uri": "https://localhost:8080/"
        }
      },
      "source": [
        "%%time\n",
        "pipe = Pipeline([ \n",
        "    # scaling             \n",
        "    # ('Scaler', preprocessing.StandardScaler()),\n",
        "    # scaling did not help r2 value, so I commented it.\n",
        "\n",
        "    # model\n",
        "    ('hgbr', ensemble.HistGradientBoostingRegressor(random_state=SEED))\n",
        "    ])\n",
        "\n",
        "pipe.fit(df_Xtrain,ytrain)\n",
        "\n",
        "# model evaluation\n",
        "ypreds = pipe.predict(df_Xtest)\n",
        "\n",
        "rmse = np.sqrt(sklearn.metrics.mean_squared_error(ytest,ypreds))\n",
        "r2 = sklearn.metrics.r2_score(ytest, ypreds)\n",
        "ar2 = adjustedR2(r2, df_Xtest.shape[0], df_Xtest.shape[1])\n",
        "\n",
        "print(f'Test RMSE  : {rmse:,.2f}')\n",
        "print(f'r_squared  : {r2:.6f} ')\n",
        "print(f'adjustedr2 : {ar2:.6f}')"
      ],
      "execution_count": 27,
      "outputs": [
        {
          "output_type": "stream",
          "text": [
            "Test RMSE  : 128,414.87\n",
            "r_squared  : 0.877640 \n",
            "adjustedr2 : 0.875156\n",
            "CPU times: user 3.73 s, sys: 294 ms, total: 4.03 s\n",
            "Wall time: 2.13 s\n"
          ],
          "name": "stdout"
        }
      ]
    },
    {
      "cell_type": "code",
      "metadata": {
        "id": "hESGsROkGkZ0",
        "outputId": "a77429e0-6a75-4614-f7b1-fd456ffd914e",
        "colab": {
          "base_uri": "https://localhost:8080/",
          "height": 238
        }
      },
      "source": [
        "show_methods(pipe['hgbr'])"
      ],
      "execution_count": 28,
      "outputs": [
        {
          "output_type": "stream",
          "text": [
            "Object Type: <class 'sklearn.ensemble._hist_gradient_boosting.gradient_boosting.HistGradientBoostingRegressor'>\n",
            "\n"
          ],
          "name": "stdout"
        },
        {
          "output_type": "execute_result",
          "data": {
            "text/html": [
              "<div>\n",
              "<style scoped>\n",
              "    .dataframe tbody tr th:only-of-type {\n",
              "        vertical-align: middle;\n",
              "    }\n",
              "\n",
              "    .dataframe tbody tr th {\n",
              "        vertical-align: top;\n",
              "    }\n",
              "\n",
              "    .dataframe thead th {\n",
              "        text-align: right;\n",
              "    }\n",
              "</style>\n",
              "<table border=\"1\" class=\"dataframe\">\n",
              "  <thead>\n",
              "    <tr style=\"text-align: right;\">\n",
              "      <th></th>\n",
              "      <th>0</th>\n",
              "      <th>1</th>\n",
              "      <th>2</th>\n",
              "      <th>3</th>\n",
              "      <th>4</th>\n",
              "      <th>5</th>\n",
              "      <th>6</th>\n",
              "    </tr>\n",
              "  </thead>\n",
              "  <tbody>\n",
              "    <tr>\n",
              "      <th>0</th>\n",
              "      <td>bin_mapper_</td>\n",
              "      <td>l2_regularization</td>\n",
              "      <td>max_depth</td>\n",
              "      <td>n_features_</td>\n",
              "      <td>predict</td>\n",
              "      <td>scoring</td>\n",
              "      <td>validation_fraction</td>\n",
              "    </tr>\n",
              "    <tr>\n",
              "      <th>1</th>\n",
              "      <td>do_early_stopping_</td>\n",
              "      <td>learning_rate</td>\n",
              "      <td>max_iter</td>\n",
              "      <td>n_features_in_</td>\n",
              "      <td>random_state</td>\n",
              "      <td>set_params</td>\n",
              "      <td>validation_score_</td>\n",
              "    </tr>\n",
              "    <tr>\n",
              "      <th>2</th>\n",
              "      <td>early_stopping</td>\n",
              "      <td>loss</td>\n",
              "      <td>max_leaf_nodes</td>\n",
              "      <td>n_iter_</td>\n",
              "      <td>score</td>\n",
              "      <td>tol</td>\n",
              "      <td>verbose</td>\n",
              "    </tr>\n",
              "    <tr>\n",
              "      <th>3</th>\n",
              "      <td>fit</td>\n",
              "      <td>loss_</td>\n",
              "      <td>min_samples_leaf</td>\n",
              "      <td>n_iter_no_change</td>\n",
              "      <td>scorer_</td>\n",
              "      <td>train_score_</td>\n",
              "      <td>warm_start</td>\n",
              "    </tr>\n",
              "    <tr>\n",
              "      <th>4</th>\n",
              "      <td>get_params</td>\n",
              "      <td>max_bins</td>\n",
              "      <td>monotonic_cst</td>\n",
              "      <td>n_trees_per_iteration_</td>\n",
              "      <td></td>\n",
              "      <td></td>\n",
              "      <td></td>\n",
              "    </tr>\n",
              "  </tbody>\n",
              "</table>\n",
              "</div>"
            ],
            "text/plain": [
              "                    0                  1                 2  \\\n",
              "0         bin_mapper_  l2_regularization         max_depth   \n",
              "1  do_early_stopping_      learning_rate          max_iter   \n",
              "2      early_stopping               loss    max_leaf_nodes   \n",
              "3                 fit              loss_  min_samples_leaf   \n",
              "4          get_params           max_bins     monotonic_cst   \n",
              "\n",
              "                        3             4             5                    6  \n",
              "0             n_features_       predict       scoring  validation_fraction  \n",
              "1          n_features_in_  random_state    set_params    validation_score_  \n",
              "2                 n_iter_         score           tol              verbose  \n",
              "3        n_iter_no_change       scorer_  train_score_           warm_start  \n",
              "4  n_trees_per_iteration_                                                   "
            ]
          },
          "metadata": {
            "tags": []
          },
          "execution_count": 28
        }
      ]
    },
    {
      "cell_type": "markdown",
      "metadata": {
        "id": "UUfRbygQGkeF"
      },
      "source": [
        "## use early stopping\n",
        "- Date: Nov 4, 2020\n",
        "- We need to have sklearn 0.23. The default version in colab is 0.22 and it does not have early_stopping parameter although it has scoring and tol parameters.\n",
        "- Also, if we update sklearn in colab, we need to restart colab."
      ]
    },
    {
      "cell_type": "code",
      "metadata": {
        "id": "QDhZXEayGkXE"
      },
      "source": [
        "reg = ensemble.HistGradientBoostingRegressor(\n",
        "    l2_regularization=0.0,\n",
        "    learning_rate=0.01, # default 0.1\n",
        "    loss='least_squares', \n",
        "    max_bins=255,\n",
        "    max_depth=None, \n",
        "    max_iter=5000, # default 100\n",
        "    max_leaf_nodes=31,\n",
        "    min_samples_leaf=20, \n",
        "    n_iter_no_change=10,\n",
        "    random_state=SEED,\n",
        "    early_stopping=True,\n",
        "    scoring=None, \n",
        "    tol=1e-07,\n",
        "    validation_fraction=0.1, \n",
        "    verbose=0,\n",
        "    warm_start=False)\n",
        "\n",
        "fitted_reg = reg.fit(df_Xtrain,ytrain)"
      ],
      "execution_count": 51,
      "outputs": []
    },
    {
      "cell_type": "code",
      "metadata": {
        "id": "RZxbWQvHTY6l",
        "outputId": "7f58ccba-878b-4108-fafe-017feb66d120",
        "colab": {
          "base_uri": "https://localhost:8080/"
        }
      },
      "source": [
        "ypreds_tr = fitted_reg.predict(df_Xtrain)\n",
        "\n",
        "rmse = np.sqrt(sklearn.metrics.mean_squared_error(ytrain,ypreds_tr))\n",
        "r2 = sklearn.metrics.r2_score(ytrain, ypreds_tr)\n",
        "ar2 = adjustedR2(r2, df_Xtrain.shape[0], df_Xtrain.shape[1])\n",
        "\n",
        "print(f'Train RMSE : {rmse:,.2f}')\n",
        "print(f'r_squared  : {r2:.6f} ')\n",
        "print(f'adjustedr2 : {ar2:.6f}')"
      ],
      "execution_count": 53,
      "outputs": [
        {
          "output_type": "stream",
          "text": [
            "Train RMSE : 96,568.93\n",
            "r_squared  : 0.930807 \n",
            "adjustedr2 : 0.930461\n"
          ],
          "name": "stdout"
        }
      ]
    },
    {
      "cell_type": "code",
      "metadata": {
        "id": "zvfU-4bGYL6B",
        "outputId": "36e3f0d0-e9e2-490e-a83a-7863d2f6ee1d",
        "colab": {
          "base_uri": "https://localhost:8080/"
        }
      },
      "source": [
        "ypreds = fitted_reg.predict(df_Xtest)\n",
        "\n",
        "rmse = np.sqrt(sklearn.metrics.mean_squared_error(ytest,ypreds))\n",
        "r2 = sklearn.metrics.r2_score(ytest, ypreds)\n",
        "ar2 = adjustedR2(r2, df_Xtest.shape[0], df_Xtest.shape[1])\n",
        "\n",
        "print(f'Test RMSE  : {rmse:,.2f}')\n",
        "print(f'r_squared  : {r2:.6f} ')\n",
        "print(f'adjustedr2 : {ar2:.6f}')"
      ],
      "execution_count": 54,
      "outputs": [
        {
          "output_type": "stream",
          "text": [
            "Test RMSE  : 126,760.36\n",
            "r_squared  : 0.880772 \n",
            "adjustedr2 : 0.878352\n"
          ],
          "name": "stdout"
        }
      ]
    },
    {
      "cell_type": "markdown",
      "metadata": {
        "id": "fNZTcVPwg7Nr"
      },
      "source": [
        "# Cross Validation Results"
      ]
    },
    {
      "cell_type": "code",
      "metadata": {
        "ExecuteTime": {
          "end_time": "2019-11-20T01:11:27.575388Z",
          "start_time": "2019-11-20T01:11:27.565275Z"
        },
        "id": "IbNSa3Wh44qH"
      },
      "source": [
        "df_cv = pd.DataFrame({'Model': [],\n",
        "                      '10-Fold Cross Validation Mean':[],\n",
        "                      '10-Fold Cross Validation Std':[]\n",
        "                     })"
      ],
      "execution_count": 21,
      "outputs": []
    },
    {
      "cell_type": "code",
      "metadata": {
        "ExecuteTime": {
          "end_time": "2019-11-20T01:11:37.520595Z",
          "start_time": "2019-11-20T01:11:27.585558Z"
        },
        "id": "mpv8ZqYnindu",
        "outputId": "4eef022c-f4d2-46bc-8fab-933b8a02c850",
        "colab": {
          "base_uri": "https://localhost:8080/",
          "height": 114
        }
      },
      "source": [
        "%%time\n",
        "\n",
        "# kfold = model_selection.KFold(n_splits=5,shuffle=False)\n",
        "cv_results = model_selection.cross_val_score(reg,df_Xtrain,ytrain,\n",
        "                             cv=3,\n",
        "                             scoring='neg_mean_squared_error'\n",
        "                             ) * -1\n",
        "\n",
        "df_cv.loc[0] = ['HGBR', cv_results.mean(), cv_results.std() ]\n",
        "\n",
        "display(df_cv)\n",
        "\n",
        "# smallest rmse is best, largest negMSE is best."
      ],
      "execution_count": 57,
      "outputs": [
        {
          "output_type": "display_data",
          "data": {
            "text/html": [
              "<div>\n",
              "<style scoped>\n",
              "    .dataframe tbody tr th:only-of-type {\n",
              "        vertical-align: middle;\n",
              "    }\n",
              "\n",
              "    .dataframe tbody tr th {\n",
              "        vertical-align: top;\n",
              "    }\n",
              "\n",
              "    .dataframe thead th {\n",
              "        text-align: right;\n",
              "    }\n",
              "</style>\n",
              "<table border=\"1\" class=\"dataframe\">\n",
              "  <thead>\n",
              "    <tr style=\"text-align: right;\">\n",
              "      <th></th>\n",
              "      <th>Model</th>\n",
              "      <th>10-Fold Cross Validation Mean</th>\n",
              "      <th>10-Fold Cross Validation Std</th>\n",
              "    </tr>\n",
              "  </thead>\n",
              "  <tbody>\n",
              "    <tr>\n",
              "      <th>0</th>\n",
              "      <td>HGBR</td>\n",
              "      <td>1.653866e+10</td>\n",
              "      <td>7.250196e+08</td>\n",
              "    </tr>\n",
              "  </tbody>\n",
              "</table>\n",
              "</div>"
            ],
            "text/plain": [
              "  Model  10-Fold Cross Validation Mean  10-Fold Cross Validation Std\n",
              "0  HGBR                   1.653866e+10                  7.250196e+08"
            ]
          },
          "metadata": {
            "tags": []
          }
        },
        {
          "output_type": "stream",
          "text": [
            "CPU times: user 13min 49s, sys: 9.38 s, total: 13min 58s\n",
            "Wall time: 7min 3s\n"
          ],
          "name": "stdout"
        }
      ]
    },
    {
      "cell_type": "code",
      "metadata": {
        "id": "NuzYPzmgVRvu"
      },
      "source": [
        " "
      ],
      "execution_count": null,
      "outputs": []
    }
  ]
}