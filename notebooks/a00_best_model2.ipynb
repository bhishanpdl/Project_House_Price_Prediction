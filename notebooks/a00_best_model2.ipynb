{
 "cells": [
  {
   "cell_type": "markdown",
   "metadata": {
    "colab_type": "text",
    "id": "aF0vfOSoRKbV"
   },
   "source": [
    "<div class=\"alert alert-block alert-success\">\n",
    "<b>Kernel Author:</b>  <br>\n",
    "<a href=\"https://bhishanpdl.github.io/\" , target=\"_blank\">Bhishan Poudel,  Data Scientist, Ph.D Astrophysics</a> .\n",
    "</div>"
   ]
  },
  {
   "cell_type": "code",
   "execution_count": 1,
   "metadata": {
    "colab": {},
    "colab_type": "code",
    "id": "Zv0HTLcCRdfB"
   },
   "outputs": [
    {
     "name": "stdout",
     "output_type": "stream",
     "text": [
      "CPU times: user 6min 22s, sys: 1.87 s, total: 6min 24s\n",
      "Wall time: 2min 28s\n"
     ]
    },
    {
     "data": {
      "text/plain": [
       "(26075.804269840683, 0.9949547221700823, 0.9948352224583362)"
      ]
     },
     "execution_count": 1,
     "metadata": {},
     "output_type": "execute_result"
    }
   ],
   "source": [
    "%%time\n",
    "\n",
    "# imports\n",
    "import time\n",
    "import numpy as np\n",
    "import pandas as pd\n",
    "import os\n",
    "\n",
    "# sklearn\n",
    "import sklearn\n",
    "from sklearn.ensemble import RandomForestRegressor\n",
    "from sklearn.model_selection import train_test_split\n",
    "from sklearn import metrics\n",
    "\n",
    "def adjustedR2(rsquared,nrows,kcols):\n",
    "    return rsquared- (kcols-1)/(nrows-kcols) * (1-rsquared)\n",
    "\n",
    "\n",
    "# random state\n",
    "SEED=100\n",
    "\n",
    "target = 'price'\n",
    "\n",
    "# load the data\n",
    "ifile = '../data/processed/data_cleaned_encoded.csv'\n",
    "df = pd.read_csv(ifile)\n",
    "\n",
    "\n",
    "cols_sq = ['bedrooms','bathrooms','floors','waterfront','view',\n",
    "    'age','age_after_renovation','log1p_sqft_living','log1p_sqft_lot',\n",
    "    'log1p_sqft_above','log1p_sqft_basement','log1p_sqft_living15','log1p_sqft_lot15']\n",
    "\n",
    "for col in cols_sq:\n",
    "    df[col + '_sq'] = df[col]**2\n",
    "    \n",
    "cols_drop = ['id', 'date', 'price','zipcode_top10']\n",
    "features = [i for i in df.columns\n",
    "            if i not in cols_drop]\n",
    "\n",
    "\n",
    "df_Xtrain, df_Xtest, ser_ytrain, ser_ytest = train_test_split(\n",
    "    df[features], df[target],\n",
    "    test_size=0.2, random_state=SEED, \n",
    "    )\n",
    "\n",
    "ytrain = np.array(ser_ytrain).ravel()\n",
    "ytest = np.array(ser_ytest).ravel()\n",
    "\n",
    "\n",
    "rf = RandomForestRegressor(n_estimators=1200,\n",
    "                max_depth=15,\n",
    "                min_samples_split=5,\n",
    "                min_samples_leaf=5,\n",
    "                max_features=None,\n",
    "                oob_score=True,\n",
    "                n_jobs=-1,\n",
    "                random_state=SEED)\n",
    "\n",
    "rf.fit(df_Xtrain,ser_ytrain)\n",
    "\n",
    "ypreds = rf.predict(df_Xtest)\n",
    "\n",
    "# rmse\n",
    "rmse = np.sqrt(sklearn.metrics.mean_squared_error(ytest,ypreds))\n",
    "\n",
    "\n",
    "# r-squared values\n",
    "r2 = sklearn.metrics.r2_score(ytest, ypreds)\n",
    "ar2 = adjustedR2(r2, df_Xtest.shape[0], df_Xtest.shape[1])\n",
    "\n",
    "rmse, r2, ar2"
   ]
  }
 ],
 "metadata": {
  "accelerator": "GPU",
  "colab": {
   "collapsed_sections": [],
   "name": "c12_regression_modelling_stacking_blending.ipynb",
   "provenance": []
  },
  "kernelspec": {
   "display_name": "Python 3",
   "language": "python",
   "name": "python3"
  },
  "language_info": {
   "codemirror_mode": {
    "name": "ipython",
    "version": 3
   },
   "file_extension": ".py",
   "mimetype": "text/x-python",
   "name": "python",
   "nbconvert_exporter": "python",
   "pygments_lexer": "ipython3",
   "version": "3.7.7"
  }
 },
 "nbformat": 4,
 "nbformat_minor": 4
}
