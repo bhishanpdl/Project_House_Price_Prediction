{
 "cells": [
  {
   "cell_type": "markdown",
   "metadata": {
    "colab_type": "text",
    "id": "mcUE4kVk44pE"
   },
   "source": [
    "# Imports"
   ]
  },
  {
   "cell_type": "code",
   "execution_count": 7,
   "metadata": {},
   "outputs": [
    {
     "name": "stdout",
     "output_type": "stream",
     "text": [
      "r2= 0.903698385055106\n"
     ]
    }
   ],
   "source": [
    "import time\n",
    "time_start_notebook = time.time()\n",
    "\n",
    "import numpy as np\n",
    "import pandas as pd\n",
    "\n",
    "\n",
    "# random state\n",
    "SEED=100\n",
    "np.random.seed(SEED) # we need this in each cell\n",
    "\n",
    "# mixed\n",
    "import os\n",
    "import time\n",
    "import scipy\n",
    "import six\n",
    "import pickle\n",
    "import joblib\n",
    "\n",
    "# sklearn\n",
    "import sklearn\n",
    "from sklearn.preprocessing import StandardScaler\n",
    "from sklearn.model_selection import train_test_split\n",
    "from sklearn.pipeline import Pipeline\n",
    "from sklearn import metrics\n",
    "\n",
    "# special\n",
    "import xgboost as xgb\n",
    "\n",
    "target = 'price'\n",
    "\n",
    "\n",
    "#============================== load the data\n",
    "df = pd.read_csv('../data/raw/kc_house_data.csv')\n",
    "\n",
    "#============================== data processing\n",
    "df = df.drop(['id','date'],axis=1)\n",
    "log_cols = ['price','sqft_living','sqft_living15',\n",
    "            'sqft_lot','sqft_lot15']\n",
    "\n",
    "for col in log_cols:\n",
    "    df[col] = np.log1p(df[col].to_numpy())\n",
    "    \n",
    "#============================== train-test split\n",
    "df_Xtrain, df_Xtest, ser_ytrain, ser_ytest = train_test_split (\n",
    "    df.drop(target,axis=1),df[target],\n",
    "    test_size=0.20,random_state=SEED)\n",
    "\n",
    "ytest = np.array(ser_ytest).flatten()\n",
    "\n",
    "#============================= scaling\n",
    "scaler = StandardScaler()\n",
    "scaler.fit(df_Xtrain)\n",
    "Xtrain = scaler.transform(df_Xtrain)\n",
    "Xtest  = scaler.transform(df_Xtest)\n",
    "\n",
    "# modelling\n",
    "model = xgb.XGBRegressor(n_jobs=-1, random_state=SEED,\n",
    "                        objective='reg:squarederror',\n",
    "                        n_estimators=1200,\n",
    "                        max_depth=3,\n",
    "                        reg_alpha=1,\n",
    "                        reg_lambda=5,\n",
    "                        subsample=1,\n",
    "                        gamma=0,\n",
    "                        min_child_weight=1,\n",
    "                        colsample_bytree=1,\n",
    "                        learning_rate=0.1\n",
    "                        )\n",
    "\n",
    "model.fit(Xtrain, ser_ytrain)\n",
    "ypreds = model_xgb.predict(Xtest)\n",
    "\n",
    "# NOTE: we need to do inverse log transform of target\n",
    "ytest = np.expm1(ytest)\n",
    "ypreds = np.expm1(ypreds)\n",
    "\n",
    "rmse = np.sqrt(metrics.mean_squared_error(ytest,ypreds))\n",
    "r2 = sklearn.metrics.r2_score(ytest, ypreds)\n",
    "print('rmse=',rmse)\n",
    "print('r2=',r2)"
   ]
  },
  {
   "cell_type": "markdown",
   "metadata": {},
   "source": [
    "# Time Taken"
   ]
  },
  {
   "cell_type": "code",
   "execution_count": null,
   "metadata": {},
   "outputs": [],
   "source": [
    "time_taken = time.time() - time_start_notebook\n",
    "h,m = divmod(time_taken,60*60)\n",
    "print('Time taken to run whole notebook: {:.0f} hr '\\\n",
    "      '{:.0f} min {:.0f} secs'.format(h, *divmod(m,60)))"
   ]
  }
 ],
 "metadata": {
  "colab": {
   "collapsed_sections": [],
   "name": "c09_regression_modelling_boosting_xgb.ipynb",
   "provenance": []
  },
  "kernelspec": {
   "display_name": "Python (dataSc)",
   "language": "python",
   "name": "datasc"
  },
  "language_info": {
   "codemirror_mode": {
    "name": "ipython",
    "version": 3
   },
   "file_extension": ".py",
   "mimetype": "text/x-python",
   "name": "python",
   "nbconvert_exporter": "python",
   "pygments_lexer": "ipython3",
   "version": "3.7.7"
  },
  "toc": {
   "base_numbering": 1,
   "nav_menu": {},
   "number_sections": true,
   "sideBar": true,
   "skip_h1_title": false,
   "title_cell": "Table of Contents",
   "title_sidebar": "Contents",
   "toc_cell": true,
   "toc_position": {},
   "toc_section_display": true,
   "toc_window_display": true
  }
 },
 "nbformat": 4,
 "nbformat_minor": 4
}
