{
 "cells": [
  {
   "cell_type": "markdown",
   "metadata": {
    "toc": "true"
   },
   "source": [
    "<h1>Table of Contents<span class=\"tocSkip\"></span></h1>\n",
    "<div class=\"toc\"><ul class=\"toc-item\"><li><span><a href=\"#Data-Description\" data-toc-modified-id=\"Data-Description-1\"><span class=\"toc-item-num\">1&nbsp;&nbsp;</span>Data Description</a></span></li><li><span><a href=\"#Imports\" data-toc-modified-id=\"Imports-2\"><span class=\"toc-item-num\">2&nbsp;&nbsp;</span>Imports</a></span></li><li><span><a href=\"#Load-the-data\" data-toc-modified-id=\"Load-the-data-3\"><span class=\"toc-item-num\">3&nbsp;&nbsp;</span>Load the data</a></span></li></ul></div>"
   ]
  },
  {
   "cell_type": "markdown",
   "metadata": {},
   "source": [
    "# Data Description\n",
    "\n",
    "This dataset contains house sale prices for King County, which includes Seattle.\n",
    "It includes homes sold between May 2014 and May 2015.\n",
    "\n",
    "![](../data/raw/data_description.png)"
   ]
  },
  {
   "cell_type": "markdown",
   "metadata": {},
   "source": [
    "# Imports"
   ]
  },
  {
   "cell_type": "code",
   "execution_count": 5,
   "metadata": {
    "ExecuteTime": {
     "end_time": "2019-10-01T00:53:35.499372Z",
     "start_time": "2019-10-01T00:53:35.492933Z"
    }
   },
   "outputs": [
    {
     "name": "stdout",
     "output_type": "stream",
     "text": [
      "[('numpy', '1.16.4'), ('pandas', '0.25.0'), ('seaborn', '0.9.0'), ('matplotlib', '3.1.1')]\n"
     ]
    }
   ],
   "source": [
    "import numpy as np\n",
    "import pandas as pd\n",
    "import seaborn as sns\n",
    "sns.set(color_codes=True)\n",
    "\n",
    "import matplotlib\n",
    "import matplotlib.pyplot as plt\n",
    "%matplotlib inline\n",
    "\n",
    "import os\n",
    "import time\n",
    "\n",
    "# random state\n",
    "random_state=100\n",
    "np.random.seed(random_state) # we need this in each cell\n",
    "np.random.set_state=random_state\n",
    "\n",
    "# Jupyter notebook settings for pandas\n",
    "pd.set_option('display.max_columns', 50)\n",
    "pd.set_option('display.max_rows', 20) # None for all the rows\n",
    "pd.set_option('display.max_colwidth', 50)\n",
    "\n",
    "print([(x.__name__,x.__version__) for x in [np, pd,sns,matplotlib]])"
   ]
  },
  {
   "cell_type": "code",
   "execution_count": 3,
   "metadata": {
    "ExecuteTime": {
     "end_time": "2019-10-01T00:53:19.955249Z",
     "start_time": "2019-10-01T00:53:19.952313Z"
    }
   },
   "outputs": [],
   "source": [
    "import bokeh\n",
    "import pixiedust\n",
    "from pixiedust import display"
   ]
  },
  {
   "cell_type": "code",
   "execution_count": 4,
   "metadata": {
    "ExecuteTime": {
     "end_time": "2019-09-29T01:15:54.191735Z",
     "start_time": "2019-09-29T01:15:54.154910Z"
    }
   },
   "outputs": [
    {
     "data": {
      "application/javascript": [
       "IPython.OutputArea.auto_scroll_threshold = 9999;"
      ],
      "text/plain": [
       "<IPython.core.display.Javascript object>"
      ]
     },
     "metadata": {},
     "output_type": "display_data"
    }
   ],
   "source": [
    "%%javascript\n",
    "IPython.OutputArea.auto_scroll_threshold = 9999;"
   ]
  },
  {
   "cell_type": "markdown",
   "metadata": {},
   "source": [
    "# Load the data"
   ]
  },
  {
   "cell_type": "code",
   "execution_count": 7,
   "metadata": {
    "ExecuteTime": {
     "end_time": "2019-10-01T00:56:53.909981Z",
     "start_time": "2019-10-01T00:56:53.832434Z"
    }
   },
   "outputs": [
    {
     "name": "stdout",
     "output_type": "stream",
     "text": [
      "(21613, 21)\n"
     ]
    },
    {
     "data": {
      "text/html": [
       "<div>\n",
       "<style scoped>\n",
       "    .dataframe tbody tr th:only-of-type {\n",
       "        vertical-align: middle;\n",
       "    }\n",
       "\n",
       "    .dataframe tbody tr th {\n",
       "        vertical-align: top;\n",
       "    }\n",
       "\n",
       "    .dataframe thead th {\n",
       "        text-align: right;\n",
       "    }\n",
       "</style>\n",
       "<table border=\"1\" class=\"dataframe\">\n",
       "  <thead>\n",
       "    <tr style=\"text-align: right;\">\n",
       "      <th></th>\n",
       "      <th>0</th>\n",
       "      <th>1</th>\n",
       "      <th>2</th>\n",
       "      <th>3</th>\n",
       "      <th>4</th>\n",
       "    </tr>\n",
       "  </thead>\n",
       "  <tbody>\n",
       "    <tr>\n",
       "      <th>id</th>\n",
       "      <td>7129300520</td>\n",
       "      <td>6414100192</td>\n",
       "      <td>5631500400</td>\n",
       "      <td>2487200875</td>\n",
       "      <td>1954400510</td>\n",
       "    </tr>\n",
       "    <tr>\n",
       "      <th>date</th>\n",
       "      <td>20141013T000000</td>\n",
       "      <td>20141209T000000</td>\n",
       "      <td>20150225T000000</td>\n",
       "      <td>20141209T000000</td>\n",
       "      <td>20150218T000000</td>\n",
       "    </tr>\n",
       "    <tr>\n",
       "      <th>price</th>\n",
       "      <td>2.2e+05</td>\n",
       "      <td>5.4e+05</td>\n",
       "      <td>1.8e+05</td>\n",
       "      <td>6e+05</td>\n",
       "      <td>5.1e+05</td>\n",
       "    </tr>\n",
       "    <tr>\n",
       "      <th>bedrooms</th>\n",
       "      <td>3</td>\n",
       "      <td>3</td>\n",
       "      <td>2</td>\n",
       "      <td>4</td>\n",
       "      <td>3</td>\n",
       "    </tr>\n",
       "    <tr>\n",
       "      <th>bathrooms</th>\n",
       "      <td>1</td>\n",
       "      <td>2.2</td>\n",
       "      <td>1</td>\n",
       "      <td>3</td>\n",
       "      <td>2</td>\n",
       "    </tr>\n",
       "    <tr>\n",
       "      <th>sqft_living</th>\n",
       "      <td>1180</td>\n",
       "      <td>2570</td>\n",
       "      <td>770</td>\n",
       "      <td>1960</td>\n",
       "      <td>1680</td>\n",
       "    </tr>\n",
       "    <tr>\n",
       "      <th>sqft_lot</th>\n",
       "      <td>5650</td>\n",
       "      <td>7242</td>\n",
       "      <td>10000</td>\n",
       "      <td>5000</td>\n",
       "      <td>8080</td>\n",
       "    </tr>\n",
       "    <tr>\n",
       "      <th>floors</th>\n",
       "      <td>1</td>\n",
       "      <td>2</td>\n",
       "      <td>1</td>\n",
       "      <td>1</td>\n",
       "      <td>1</td>\n",
       "    </tr>\n",
       "    <tr>\n",
       "      <th>waterfront</th>\n",
       "      <td>0</td>\n",
       "      <td>0</td>\n",
       "      <td>0</td>\n",
       "      <td>0</td>\n",
       "      <td>0</td>\n",
       "    </tr>\n",
       "    <tr>\n",
       "      <th>view</th>\n",
       "      <td>0</td>\n",
       "      <td>0</td>\n",
       "      <td>0</td>\n",
       "      <td>0</td>\n",
       "      <td>0</td>\n",
       "    </tr>\n",
       "    <tr>\n",
       "      <th>...</th>\n",
       "      <td>...</td>\n",
       "      <td>...</td>\n",
       "      <td>...</td>\n",
       "      <td>...</td>\n",
       "      <td>...</td>\n",
       "    </tr>\n",
       "    <tr>\n",
       "      <th>grade</th>\n",
       "      <td>7</td>\n",
       "      <td>7</td>\n",
       "      <td>6</td>\n",
       "      <td>7</td>\n",
       "      <td>8</td>\n",
       "    </tr>\n",
       "    <tr>\n",
       "      <th>sqft_above</th>\n",
       "      <td>1180</td>\n",
       "      <td>2170</td>\n",
       "      <td>770</td>\n",
       "      <td>1050</td>\n",
       "      <td>1680</td>\n",
       "    </tr>\n",
       "    <tr>\n",
       "      <th>sqft_basement</th>\n",
       "      <td>0</td>\n",
       "      <td>400</td>\n",
       "      <td>0</td>\n",
       "      <td>910</td>\n",
       "      <td>0</td>\n",
       "    </tr>\n",
       "    <tr>\n",
       "      <th>yr_built</th>\n",
       "      <td>1955</td>\n",
       "      <td>1951</td>\n",
       "      <td>1933</td>\n",
       "      <td>1965</td>\n",
       "      <td>1987</td>\n",
       "    </tr>\n",
       "    <tr>\n",
       "      <th>yr_renovated</th>\n",
       "      <td>0</td>\n",
       "      <td>1991</td>\n",
       "      <td>0</td>\n",
       "      <td>0</td>\n",
       "      <td>0</td>\n",
       "    </tr>\n",
       "    <tr>\n",
       "      <th>zipcode</th>\n",
       "      <td>98178</td>\n",
       "      <td>98125</td>\n",
       "      <td>98028</td>\n",
       "      <td>98136</td>\n",
       "      <td>98074</td>\n",
       "    </tr>\n",
       "    <tr>\n",
       "      <th>lat</th>\n",
       "      <td>48</td>\n",
       "      <td>48</td>\n",
       "      <td>48</td>\n",
       "      <td>48</td>\n",
       "      <td>48</td>\n",
       "    </tr>\n",
       "    <tr>\n",
       "      <th>long</th>\n",
       "      <td>-1.2e+02</td>\n",
       "      <td>-1.2e+02</td>\n",
       "      <td>-1.2e+02</td>\n",
       "      <td>-1.2e+02</td>\n",
       "      <td>-1.2e+02</td>\n",
       "    </tr>\n",
       "    <tr>\n",
       "      <th>sqft_living15</th>\n",
       "      <td>1340</td>\n",
       "      <td>1690</td>\n",
       "      <td>2720</td>\n",
       "      <td>1360</td>\n",
       "      <td>1800</td>\n",
       "    </tr>\n",
       "    <tr>\n",
       "      <th>sqft_lot15</th>\n",
       "      <td>5650</td>\n",
       "      <td>7639</td>\n",
       "      <td>8062</td>\n",
       "      <td>5000</td>\n",
       "      <td>7503</td>\n",
       "    </tr>\n",
       "  </tbody>\n",
       "</table>\n",
       "<p>21 rows × 5 columns</p>\n",
       "</div>"
      ],
      "text/plain": [
       "                             0                1                2  \\\n",
       "id                  7129300520       6414100192       5631500400   \n",
       "date           20141013T000000  20141209T000000  20150225T000000   \n",
       "price                  2.2e+05          5.4e+05          1.8e+05   \n",
       "bedrooms                     3                3                2   \n",
       "bathrooms                    1              2.2                1   \n",
       "...                        ...              ...              ...   \n",
       "zipcode                  98178            98125            98028   \n",
       "lat                         48               48               48   \n",
       "long                  -1.2e+02         -1.2e+02         -1.2e+02   \n",
       "sqft_living15             1340             1690             2720   \n",
       "sqft_lot15                5650             7639             8062   \n",
       "\n",
       "                             3                4  \n",
       "id                  2487200875       1954400510  \n",
       "date           20141209T000000  20150218T000000  \n",
       "price                    6e+05          5.1e+05  \n",
       "bedrooms                     4                3  \n",
       "bathrooms                    3                2  \n",
       "...                        ...              ...  \n",
       "zipcode                  98136            98074  \n",
       "lat                         48               48  \n",
       "long                  -1.2e+02         -1.2e+02  \n",
       "sqft_living15             1360             1800  \n",
       "sqft_lot15                5000             7503  \n",
       "\n",
       "[21 rows x 5 columns]"
      ]
     },
     "execution_count": 7,
     "metadata": {},
     "output_type": "execute_result"
    }
   ],
   "source": [
    "df = pd.read_csv('../data/raw/kc_house_data.csv')\n",
    "print(df.shape)\n",
    "df.head().T"
   ]
  },
  {
   "cell_type": "code",
   "execution_count": 9,
   "metadata": {
    "ExecuteTime": {
     "end_time": "2019-10-01T01:06:42.320118Z",
     "start_time": "2019-10-01T01:06:42.164738Z"
    },
    "pixiedust": {
     "displayParams": {
      "chartsize": "100",
      "charttype": "grouped",
      "clusterby": "grade",
      "filter": "{\"field\": \"yr_built\", \"constraint\": \"greater_than\", \"value\": \"2014\", \"case_matter\": \"False\", \"regex\": \"False\"}",
      "handlerId": "lineChart",
      "keyFields": "floors",
      "mpld3": "false",
      "no_margin": "true",
      "rendererId": "seaborn",
      "valueFields": "price"
     }
    }
   },
   "outputs": [
    {
     "data": {
      "text/html": [
       "<style type=\"text/css\">.pd_warning{display:none;}</style><div class=\"pd_warning\"><em>Hey, there's something awesome here! To see it, open this notebook outside GitHub, in a viewer like Jupyter</em></div>\n",
       "        <div class=\"pd_save is-viewer-good\" style=\"padding-right:10px;text-align: center;line-height:initial !important;font-size: xx-large;font-weight: 500;color: coral;\">\n",
       "            \n",
       "        </div>\n",
       "    <div id=\"chartFigure6e0a6580\" class=\"pd_save is-viewer-good\" style=\"overflow-x:auto\">\n",
       "            \n",
       "                    \n",
       "                            <center><img style=\"max-width:initial !important\" src=\"data:image/png;base64,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\" class=\"pd_save\"></center>\n",
       "                        \n",
       "                    \n",
       "                \n",
       "        </div>"
      ],
      "text/plain": [
       "<IPython.core.display.HTML object>"
      ]
     },
     "metadata": {},
     "output_type": "display_data"
    }
   ],
   "source": [
    "display(df)"
   ]
  },
  {
   "cell_type": "code",
   "execution_count": null,
   "metadata": {},
   "outputs": [],
   "source": []
  }
 ],
 "metadata": {
  "kernelspec": {
   "display_name": "Python (dataSc)",
   "language": "python",
   "name": "datasc"
  },
  "language_info": {
   "codemirror_mode": {
    "name": "ipython",
    "version": 3
   },
   "file_extension": ".py",
   "mimetype": "text/x-python",
   "name": "python",
   "nbconvert_exporter": "python",
   "pygments_lexer": "ipython3",
   "version": "3.7.3"
  },
  "toc": {
   "base_numbering": 1,
   "nav_menu": {},
   "number_sections": true,
   "sideBar": true,
   "skip_h1_title": false,
   "title_cell": "Table of Contents",
   "title_sidebar": "Contents",
   "toc_cell": true,
   "toc_position": {},
   "toc_section_display": true,
   "toc_window_display": true
  }
 },
 "nbformat": 4,
 "nbformat_minor": 2
}
