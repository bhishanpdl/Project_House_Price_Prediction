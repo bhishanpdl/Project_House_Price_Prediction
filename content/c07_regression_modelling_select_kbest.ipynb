{
 "cells": [
  {
   "cell_type": "markdown",
   "metadata": {
    "hideCode": false,
    "hidePrompt": false,
    "toc": "true"
   },
   "source": [
    "<h1>Table of Contents<span class=\"tocSkip\"></span></h1>\n",
    "<div class=\"toc\"><ul class=\"toc-item\"><li><span><a href=\"#Modelling-with-Polynomial-Features-and-Select-Kbest\" data-toc-modified-id=\"Modelling-with-Polynomial-Features-and-Select-Kbest-1\"><span class=\"toc-item-num\">1&nbsp;&nbsp;</span>Modelling with Polynomial Features and Select Kbest</a></span></li><li><span><a href=\"#Imports\" data-toc-modified-id=\"Imports-2\"><span class=\"toc-item-num\">2&nbsp;&nbsp;</span>Imports</a></span></li><li><span><a href=\"#Useful-Scripts\" data-toc-modified-id=\"Useful-Scripts-3\"><span class=\"toc-item-num\">3&nbsp;&nbsp;</span>Useful Scripts</a></span></li><li><span><a href=\"#Single-Script\" data-toc-modified-id=\"Single-Script-4\"><span class=\"toc-item-num\">4&nbsp;&nbsp;</span>Single Script</a></span></li><li><span><a href=\"#Searching-Best-k\" data-toc-modified-id=\"Searching-Best-k-5\"><span class=\"toc-item-num\">5&nbsp;&nbsp;</span>Searching Best k</a></span></li><li><span><a href=\"#Grid-Search-for-Random-Forest\" data-toc-modified-id=\"Grid-Search-for-Random-Forest-6\"><span class=\"toc-item-num\">6&nbsp;&nbsp;</span>Grid Search for Random Forest</a></span></li><li><span><a href=\"#Use-the-best-parameters-from-grid-search\" data-toc-modified-id=\"Use-the-best-parameters-from-grid-search-7\"><span class=\"toc-item-num\">7&nbsp;&nbsp;</span>Use the best parameters from grid search</a></span></li></ul></div>"
   ]
  },
  {
   "cell_type": "markdown",
   "metadata": {
    "hideCode": false,
    "hidePrompt": false
   },
   "source": [
    "# Modelling with Polynomial Features and Select Kbest"
   ]
  },
  {
   "cell_type": "markdown",
   "metadata": {},
   "source": [
    "# Imports"
   ]
  },
  {
   "cell_type": "code",
   "execution_count": 1,
   "metadata": {
    "ExecuteTime": {
     "end_time": "2019-10-22T23:04:27.436360Z",
     "start_time": "2019-10-22T23:04:26.563760Z"
    },
    "hideCode": false,
    "hidePrompt": false
   },
   "outputs": [],
   "source": [
    "import numpy as np\n",
    "import pandas as pd\n",
    "\n",
    "import os\n",
    "import time\n",
    "import collections\n",
    "import itertools\n",
    "\n",
    "import sklearn\n",
    "from sklearn.preprocessing import StandardScaler\n",
    "from sklearn.model_selection import train_test_split\n",
    "from sklearn.metrics import mean_squared_error\n",
    "from sklearn.model_selection import cross_val_score\n",
    "from sklearn.feature_selection import SelectKBest\n",
    "\n",
    "from sklearn.linear_model import LinearRegression\n",
    "from sklearn.ensemble import RandomForestRegressor\n",
    "\n",
    "from sklearn.metrics import r2_score\n",
    "\n",
    "# random state\n",
    "random_state=100\n",
    "np.random.seed(random_state) # we need this in each cell\n",
    "np.random.set_state=random_state"
   ]
  },
  {
   "cell_type": "markdown",
   "metadata": {},
   "source": [
    "# Useful Scripts"
   ]
  },
  {
   "cell_type": "code",
   "execution_count": 2,
   "metadata": {
    "ExecuteTime": {
     "end_time": "2019-10-22T23:04:27.442571Z",
     "start_time": "2019-10-22T23:04:27.438422Z"
    },
    "hideCode": false,
    "hidePrompt": false
   },
   "outputs": [],
   "source": [
    "def adjustedR2(rsquared,nrows,kcols):\n",
    "    return rsquared- (kcols-1)/(nrows-kcols) * (1-rsquared)"
   ]
  },
  {
   "cell_type": "code",
   "execution_count": 3,
   "metadata": {
    "ExecuteTime": {
     "end_time": "2019-10-22T23:04:27.452657Z",
     "start_time": "2019-10-22T23:04:27.444865Z"
    }
   },
   "outputs": [],
   "source": [
    "def add_interactions(df):\n",
    "    from itertools import combinations\n",
    "    from sklearn.preprocessing import PolynomialFeatures\n",
    "\n",
    "    # Get feature names\n",
    "    combos = list(combinations(list(df.columns), 2))\n",
    "    colnames = list(df.columns) + ['_'.join(x) for x in combos]\n",
    "    \n",
    "    # Find interactions\n",
    "    poly = PolynomialFeatures(interaction_only=True, include_bias=False)\n",
    "    df = poly.fit_transform(df)\n",
    "    df = pd.DataFrame(df)\n",
    "    df.columns = colnames\n",
    "    \n",
    "    # Remove interaction terms with all 0 values            \n",
    "    noint_indicies = [i for i, x in enumerate(list((df == 0).all())) if x]\n",
    "    df = df.drop(df.columns[noint_indicies], axis=1)\n",
    "    \n",
    "    return df"
   ]
  },
  {
   "cell_type": "markdown",
   "metadata": {},
   "source": [
    "# Single Script"
   ]
  },
  {
   "cell_type": "code",
   "execution_count": 11,
   "metadata": {
    "ExecuteTime": {
     "end_time": "2019-10-22T23:20:31.081308Z",
     "start_time": "2019-10-22T23:20:27.541826Z"
    }
   },
   "outputs": [],
   "source": [
    "# data\n",
    "df = pd.read_csv('../data/processed/data_cleaned_encoded.csv')\n",
    "\n",
    "features = ['bedrooms', 'bathrooms', 'sqft_living', 'sqft_lot', 'sqft_above', 'sqft_basement', 'yr_built', 'yr_renovated', 'lat', 'long', 'sqft_living15', 'sqft_lot15', 'yr_sales', 'basement_bool', 'renovation_bool', 'zipcode_houses', 'waterfront_0', 'waterfront_1', 'view_0', 'view_1', 'view_2', 'view_3', 'view_4', 'condition_1', 'condition_2', 'condition_3', 'condition_4', 'condition_5', 'grade_1', 'grade_10', 'grade_11', 'grade_12', 'grade_13', 'grade_3', 'grade_4', 'grade_5', 'grade_6', 'grade_7', 'grade_8', 'grade_9', 'zipcode_top10_98004', 'zipcode_top10_98006', 'zipcode_top10_98033', 'zipcode_top10_98039', 'zipcode_top10_98040', 'zipcode_top10_98102', 'zipcode_top10_98105', 'zipcode_top10_98155', 'zipcode_top10_98177', 'age_cat_0', 'age_cat_1', 'age_cat_2', 'age_cat_3', 'age_cat_4', 'age_cat_5', 'age_cat_6', 'age_cat_7', 'age_cat_8', 'age_cat_9', 'age_after_renovation_cat_0', 'age_after_renovation_cat_1', 'age_after_renovation_cat_2', 'age_after_renovation_cat_3', 'age_after_renovation_cat_4', 'age_after_renovation_cat_5', 'age_after_renovation_cat_6', 'age_after_renovation_cat_7', 'age_after_renovation_cat_8', 'age_after_renovation_cat_9']\n",
    "\n",
    "target = ['price']\n",
    "\n",
    "# add interaction features to X (excluding target)\n",
    "df_Xlarge = add_interactions(df[features])\n",
    "df_large = pd.concat([df_Xlarge, df[target]], axis=1)\n",
    "\n",
    "# train test split of very large dataframe\n",
    "df_train_large, df_test_large = train_test_split(df_large, test_size=0.2,\n",
    "                                                 random_state=random_state)\n",
    "\n",
    "# fit the select KBest on training data to get best features\n",
    "def regression_modelling_with_kbest(k):\n",
    "    model_kbest = SelectKBest(k=k)\n",
    "    model_kbest = model_kbest.fit(df_train_large.drop(target,1).to_numpy(),\n",
    "                                  df_train_large[target].to_numpy().ravel())\n",
    "\n",
    "    idx_kbest = model_kbest.get_support(indices=True)\n",
    "    cols_kbest = [df_train_large.columns[i] for i in idx_kbest]\n",
    "\n",
    "\n",
    "    # get numpy arrays using best features\n",
    "    Xtrain_kbest = df_train_large[cols_kbest].to_numpy()\n",
    "    ytrain_kbest = df_train_large[target].to_numpy().ravel()\n",
    "\n",
    "    Xtest_kbest = df_test_large[cols_kbest].to_numpy()\n",
    "    ytest_kbest = df_test_large[target].to_numpy().ravel()\n",
    "\n",
    "\n",
    "    # model\n",
    "    model = RandomForestRegressor(n_estimators=100,verbose=0,\n",
    "                                 random_state=random_state,n_jobs=-1)\n",
    "    # model = LinearRegression()\n",
    "\n",
    "    # fitting\n",
    "    model.fit(Xtrain_kbest,ytrain_kbest)\n",
    "\n",
    "    # prediction\n",
    "    ypreds = model.predict(Xtest_kbest)\n",
    "\n",
    "    # model evaluation\n",
    "    r2 = r2_score(ytest_kbest,ypreds)\n",
    "    ar2 = adjustedR2(r2,Xtest_kbest.shape[0],Xtest_kbest.shape[1])\n",
    "    print('k = ', k)\n",
    "    #print('R-squared Value for Test = ', round(r2,3))\n",
    "    print('Adjusted R-squared Value for Test = ', round(ar2,3))"
   ]
  },
  {
   "cell_type": "markdown",
   "metadata": {},
   "source": [
    "# Searching Best k"
   ]
  },
  {
   "cell_type": "code",
   "execution_count": 10,
   "metadata": {
    "ExecuteTime": {
     "end_time": "2019-10-22T23:19:44.034831Z",
     "start_time": "2019-10-22T23:18:53.387423Z"
    }
   },
   "outputs": [
    {
     "name": "stdout",
     "output_type": "stream",
     "text": [
      "k =  443\n",
      "Adjusted R-squared Value for Test =  0.861\n",
      "k =  444\n",
      "Adjusted R-squared Value for Test =  0.857\n"
     ]
    }
   ],
   "source": [
    "import warnings\n",
    "warnings.filterwarnings(\"ignore\")\n",
    "\n",
    "for k in [441]:\n",
    "    regression_modelling_with_kbest(k)"
   ]
  },
  {
   "cell_type": "markdown",
   "metadata": {},
   "source": [
    "```\n",
    "k =  400\n",
    "Adjusted R-squared Value for Test =  0.828\n",
    "\n",
    "k =  420\n",
    "Adjusted R-squared Value for Test =  0.853\n",
    "\n",
    "k =  430\n",
    "Adjusted R-squared Value for Test =  0.859\n",
    "\n",
    "k =  438\n",
    "Adjusted R-squared Value for Test =  0.86\n",
    "\n",
    "k =  439\n",
    "Adjusted R-squared Value for Test =  0.858\n",
    "\n",
    "k =  440\n",
    "Adjusted R-squared Value for Test =  0.86\n",
    "\n",
    "k =  441\n",
    "Adjusted R-squared Value for Test =  0.862\n",
    "\n",
    "k =  442\n",
    "Adjusted R-squared Value for Test =  0.859\n",
    "\n",
    "k =  443\n",
    "Adjusted R-squared Value for Test =  0.861\n",
    "\n",
    "k =  444\n",
    "Adjusted R-squared Value for Test =  0.857\n",
    "\n",
    "k =  445\n",
    "Adjusted R-squared Value for Test =  0.855\n",
    "\n",
    "k =  460\n",
    "Adjusted R-squared Value for Test =  0.858\n",
    "\n",
    "k =  480\n",
    "Adjusted R-squared Value for Test =  0.855\n",
    "\n",
    "k =  500\n",
    "Adjusted R-squared Value for Test =  0.857\n",
    "\n",
    "k =  600\n",
    "Adjusted R-squared Value for Test =  0.853\n",
    "\n",
    "k =  620\n",
    "Adjusted R-squared Value for Test =  0.854\n",
    "\n",
    "k =  640\n",
    "Adjusted R-squared Value for Test =  0.849\n",
    "\n",
    "k =  660\n",
    "Adjusted R-squared Value for Test =  0.851\n",
    "\n",
    "k =  680\n",
    "Adjusted R-squared Value for Test =  0.847\n",
    "\n",
    "k =  700\n",
    "Adjusted R-squared Value for Test =  0.85\n",
    "```"
   ]
  },
  {
   "cell_type": "code",
   "execution_count": 19,
   "metadata": {
    "ExecuteTime": {
     "end_time": "2019-10-22T23:33:58.718681Z",
     "start_time": "2019-10-22T23:33:33.360384Z"
    }
   },
   "outputs": [
    {
     "name": "stdout",
     "output_type": "stream",
     "text": [
      "k =  441\n",
      "Adjusted R-squared Value for Test =  0.862\n"
     ]
    }
   ],
   "source": [
    "k = 441\n",
    "model_kbest = SelectKBest(k=k)\n",
    "model_kbest = model_kbest.fit(df_train_large.drop(target,1).to_numpy(),\n",
    "                              df_train_large[target].to_numpy().ravel())\n",
    "\n",
    "idx_kbest = model_kbest.get_support(indices=True)\n",
    "cols_kbest = [df_train_large.columns[i] for i in idx_kbest]\n",
    "\n",
    "\n",
    "# get numpy arrays using best features\n",
    "Xtrain_kbest = df_train_large[cols_kbest].to_numpy()\n",
    "ytrain_kbest = df_train_large[target].to_numpy().ravel()\n",
    "\n",
    "Xtest_kbest = df_test_large[cols_kbest].to_numpy()\n",
    "ytest_kbest = df_test_large[target].to_numpy().ravel()\n",
    "    \n",
    "# model\n",
    "model = RandomForestRegressor(n_estimators=100,verbose=0,\n",
    "                             random_state=random_state,n_jobs=-1)\n",
    "\n",
    "# fitting\n",
    "model.fit(Xtrain_kbest,ytrain_kbest)\n",
    "\n",
    "# prediction\n",
    "ypreds = model.predict(Xtest_kbest)\n",
    "\n",
    "# model evaluation\n",
    "r2 = r2_score(ytest_kbest,ypreds)\n",
    "ar2 = adjustedR2(r2,Xtest_kbest.shape[0],Xtest_kbest.shape[1])\n",
    "print('k = ', k)\n",
    "#print('R-squared Value for Test = ', round(r2,3))\n",
    "print('Adjusted R-squared Value for Test = ', round(ar2,3))"
   ]
  },
  {
   "cell_type": "markdown",
   "metadata": {},
   "source": [
    "# Grid Search for Random Forest"
   ]
  },
  {
   "cell_type": "code",
   "execution_count": 26,
   "metadata": {
    "ExecuteTime": {
     "end_time": "2019-10-22T23:53:15.837043Z",
     "start_time": "2019-10-22T23:52:35.615724Z"
    }
   },
   "outputs": [
    {
     "name": "stdout",
     "output_type": "stream",
     "text": [
      "Fitting 5 folds for each of 10 candidates, totalling 50 fits\n"
     ]
    },
    {
     "name": "stderr",
     "output_type": "stream",
     "text": [
      "[Parallel(n_jobs=-1)]: Using backend LokyBackend with 4 concurrent workers.\n",
      "[Parallel(n_jobs=-1)]: Done  42 tasks      | elapsed:   32.2s\n",
      "[Parallel(n_jobs=-1)]: Done  50 out of  50 | elapsed:   36.6s finished\n"
     ]
    },
    {
     "name": "stdout",
     "output_type": "stream",
     "text": [
      "Time taken: 0 min 40 secs\n"
     ]
    }
   ],
   "source": [
    "from sklearn.model_selection import RandomizedSearchCV\n",
    "\n",
    "t0 = time.time()\n",
    "\n",
    "model = RandomForestRegressor(random_state=random_state)\n",
    "\n",
    "\n",
    "param_dist = {'n_estimators': [40,60,80,100,120,140],\n",
    " 'max_features': [2,10,20], \n",
    " 'max_depth': [10, 50, None],\n",
    " 'bootstrap': [True, False]}\n",
    "\n",
    "grid_search_forest = RandomizedSearchCV(model, param_distributions=param_dist,\n",
    "                                        cv=5,\n",
    "                                        iid=False,\n",
    "                                        n_jobs=-1,\n",
    "                                        scoring='r2',\n",
    "                                        verbose=1)\n",
    "\n",
    "grid_search_forest.fit(Xtrain_kbest, ytrain_kbest)\n",
    "\n",
    "t1 = time.time() - t0\n",
    "print('Time taken: {:.0f} min {:.0f} secs'.format(*divmod(t1,60)))"
   ]
  },
  {
   "cell_type": "code",
   "execution_count": 27,
   "metadata": {
    "ExecuteTime": {
     "end_time": "2019-10-22T23:54:11.235117Z",
     "start_time": "2019-10-22T23:54:11.231350Z"
    }
   },
   "outputs": [],
   "source": [
    "# from sklearn.model_selection import GridSearchCV\n",
    "\n",
    "# t0 = time.time()\n",
    "\n",
    "# model = RandomForestRegressor(random_state=random_state)\n",
    "\n",
    "\n",
    "# param_grid = [\n",
    "# {'n_estimators': [40,60,80,100,120,140],\n",
    "#  'max_features': [2,10,20], \n",
    "#  'max_depth': [10, 50, None],\n",
    "#  'bootstrap': [True, False]}\n",
    "# ]\n",
    "\n",
    "# grid_search_forest = GridSearchCV(model,\n",
    "#                                   param_grid,\n",
    "#                                   cv=5,\n",
    "#                                   n_jobs=-1,\n",
    "#                                   scoring='r2',\n",
    "#                                   verbose=1)\n",
    "\n",
    "# grid_search_forest.fit(Xtrain_kbest, ytrain_kbest)\n",
    "\n",
    "# t1 = time.time() - t0\n",
    "# print('Time taken: {:.0f} min {:.0f} secs'.format(*divmod(t1,60)))"
   ]
  },
  {
   "cell_type": "markdown",
   "metadata": {},
   "source": [
    "# Use the best parameters from grid search"
   ]
  },
  {
   "cell_type": "code",
   "execution_count": 28,
   "metadata": {
    "ExecuteTime": {
     "end_time": "2019-10-22T23:54:23.697401Z",
     "start_time": "2019-10-22T23:54:23.687679Z"
    }
   },
   "outputs": [
    {
     "data": {
      "text/plain": [
       "RandomForestRegressor(bootstrap=False, criterion='mse', max_depth=50,\n",
       "                      max_features=20, max_leaf_nodes=None,\n",
       "                      min_impurity_decrease=0.0, min_impurity_split=None,\n",
       "                      min_samples_leaf=1, min_samples_split=2,\n",
       "                      min_weight_fraction_leaf=0.0, n_estimators=40,\n",
       "                      n_jobs=None, oob_score=False, random_state=100, verbose=0,\n",
       "                      warm_start=False)"
      ]
     },
     "execution_count": 28,
     "metadata": {},
     "output_type": "execute_result"
    }
   ],
   "source": [
    "grid_search_forest.best_estimator_"
   ]
  },
  {
   "cell_type": "code",
   "execution_count": 29,
   "metadata": {
    "ExecuteTime": {
     "end_time": "2019-10-22T23:54:31.277875Z",
     "start_time": "2019-10-22T23:54:31.270618Z"
    }
   },
   "outputs": [
    {
     "data": {
      "text/plain": [
       "{'n_estimators': 40, 'max_features': 20, 'max_depth': 50, 'bootstrap': False}"
      ]
     },
     "execution_count": 29,
     "metadata": {},
     "output_type": "execute_result"
    }
   ],
   "source": [
    "grid_search_forest.best_params_"
   ]
  },
  {
   "cell_type": "code",
   "execution_count": 30,
   "metadata": {
    "ExecuteTime": {
     "end_time": "2019-10-22T23:55:48.624113Z",
     "start_time": "2019-10-22T23:55:45.391771Z"
    }
   },
   "outputs": [
    {
     "name": "stdout",
     "output_type": "stream",
     "text": [
      "k =  441\n",
      "Adjusted R-squared Value for Test =  0.814\n"
     ]
    }
   ],
   "source": [
    "k = 441\n",
    "model_kbest = SelectKBest(k=k)\n",
    "model_kbest = model_kbest.fit(df_train_large.drop(target,1).to_numpy(),\n",
    "                              df_train_large[target].to_numpy().ravel())\n",
    "\n",
    "idx_kbest = model_kbest.get_support(indices=True)\n",
    "cols_kbest = [df_train_large.columns[i] for i in idx_kbest]\n",
    "\n",
    "\n",
    "# get numpy arrays using best features\n",
    "Xtrain_kbest = df_train_large[cols_kbest].to_numpy()\n",
    "ytrain_kbest = df_train_large[target].to_numpy().ravel()\n",
    "\n",
    "Xtest_kbest = df_test_large[cols_kbest].to_numpy()\n",
    "ytest_kbest = df_test_large[target].to_numpy().ravel()\n",
    "    \n",
    "# model\n",
    "model = RandomForestRegressor(n_estimators=40,verbose=0,\n",
    "                             random_state=random_state,n_jobs=-1,\n",
    "                             max_features=20,\n",
    "                             max_depth=50,\n",
    "                             bootstrap=False)\n",
    "\n",
    "# fitting\n",
    "model.fit(Xtrain_kbest,ytrain_kbest)\n",
    "\n",
    "# prediction\n",
    "ypreds = model.predict(Xtest_kbest)\n",
    "\n",
    "# model evaluation\n",
    "r2 = r2_score(ytest_kbest,ypreds)\n",
    "ar2 = adjustedR2(r2,Xtest_kbest.shape[0],Xtest_kbest.shape[1])\n",
    "print('k = ', k)\n",
    "#print('R-squared Value for Test = ', round(r2,3))\n",
    "print('Adjusted R-squared Value for Test = ', round(ar2,3))"
   ]
  },
  {
   "cell_type": "code",
   "execution_count": 32,
   "metadata": {
    "ExecuteTime": {
     "end_time": "2019-10-22T23:58:54.473220Z",
     "start_time": "2019-10-22T23:58:40.178036Z"
    }
   },
   "outputs": [
    {
     "name": "stdout",
     "output_type": "stream",
     "text": [
      "k =  441\n",
      "Adjusted R-squared Value for Test =  0.843\n"
     ]
    }
   ],
   "source": [
    "k = 441\n",
    "model_kbest = SelectKBest(k=k)\n",
    "model_kbest = model_kbest.fit(df_train_large.drop(target,1).to_numpy(),\n",
    "                              df_train_large[target].to_numpy().ravel())\n",
    "\n",
    "idx_kbest = model_kbest.get_support(indices=True)\n",
    "cols_kbest = [df_train_large.columns[i] for i in idx_kbest]\n",
    "\n",
    "\n",
    "# get numpy arrays using best features\n",
    "Xtrain_kbest = df_train_large[cols_kbest].to_numpy()\n",
    "ytrain_kbest = df_train_large[target].to_numpy().ravel()\n",
    "\n",
    "Xtest_kbest = df_test_large[cols_kbest].to_numpy()\n",
    "ytest_kbest = df_test_large[target].to_numpy().ravel()\n",
    "    \n",
    "# model\n",
    "model = RandomForestRegressor(n_estimators= 100,random_state=random_state,\n",
    "                              max_features=69,\n",
    "                              max_depth=50, bootstrap=True)\n",
    "\n",
    "# fitting\n",
    "model.fit(Xtrain_kbest,ytrain_kbest)\n",
    "\n",
    "# prediction\n",
    "ypreds = model.predict(Xtest_kbest)\n",
    "\n",
    "# model evaluation\n",
    "r2 = r2_score(ytest_kbest,ypreds)\n",
    "ar2 = adjustedR2(r2,Xtest_kbest.shape[0],Xtest_kbest.shape[1])\n",
    "print('k = ', k)\n",
    "#print('R-squared Value for Test = ', round(r2,3))\n",
    "print('Adjusted R-squared Value for Test = ', round(ar2,3))"
   ]
  },
  {
   "cell_type": "code",
   "execution_count": null,
   "metadata": {},
   "outputs": [],
   "source": []
  }
 ],
 "metadata": {
  "hide_code_all_hidden": false,
  "kernelspec": {
   "display_name": "Python (dataSc)",
   "language": "python",
   "name": "datasc"
  },
  "language_info": {
   "codemirror_mode": {
    "name": "ipython",
    "version": 3
   },
   "file_extension": ".py",
   "mimetype": "text/x-python",
   "name": "python",
   "nbconvert_exporter": "python",
   "pygments_lexer": "ipython3",
   "version": "3.7.3"
  },
  "toc": {
   "base_numbering": 1,
   "nav_menu": {},
   "number_sections": true,
   "sideBar": true,
   "skip_h1_title": false,
   "title_cell": "Table of Contents",
   "title_sidebar": "Contents",
   "toc_cell": true,
   "toc_position": {},
   "toc_section_display": true,
   "toc_window_display": true
  }
 },
 "nbformat": 4,
 "nbformat_minor": 2
}
