{
 "cells": [
  {
   "cell_type": "markdown",
   "metadata": {
    "toc": true
   },
   "source": [
    "<h1>Table of Contents<span class=\"tocSkip\"></span></h1>\n",
    "<div class=\"toc\"><ul class=\"toc-item\"><li><span><a href=\"#Imports\" data-toc-modified-id=\"Imports-1\"><span class=\"toc-item-num\">1&nbsp;&nbsp;</span>Imports</a></span></li><li><span><a href=\"#Useful-Scripts\" data-toc-modified-id=\"Useful-Scripts-2\"><span class=\"toc-item-num\">2&nbsp;&nbsp;</span>Useful Scripts</a></span></li><li><span><a href=\"#Load-the-data\" data-toc-modified-id=\"Load-the-data-3\"><span class=\"toc-item-num\">3&nbsp;&nbsp;</span>Load the data</a></span></li><li><span><a href=\"#Random-Forest-Modelling\" data-toc-modified-id=\"Random-Forest-Modelling-4\"><span class=\"toc-item-num\">4&nbsp;&nbsp;</span>Random Forest Modelling</a></span></li><li><span><a href=\"#Grid-Search\" data-toc-modified-id=\"Grid-Search-5\"><span class=\"toc-item-num\">5&nbsp;&nbsp;</span>Grid Search</a></span></li><li><span><a href=\"#Use-the-best-parameters-from-grid-search\" data-toc-modified-id=\"Use-the-best-parameters-from-grid-search-6\"><span class=\"toc-item-num\">6&nbsp;&nbsp;</span>Use the best parameters from grid search</a></span></li><li><span><a href=\"#Randomized-search\" data-toc-modified-id=\"Randomized-search-7\"><span class=\"toc-item-num\">7&nbsp;&nbsp;</span>Randomized search</a></span></li><li><span><a href=\"#Feature-Importance\" data-toc-modified-id=\"Feature-Importance-8\"><span class=\"toc-item-num\">8&nbsp;&nbsp;</span>Feature Importance</a></span></li><li><span><a href=\"#Feature-Importance-using-eli5\" data-toc-modified-id=\"Feature-Importance-using-eli5-9\"><span class=\"toc-item-num\">9&nbsp;&nbsp;</span>Feature Importance using eli5</a></span></li></ul></div>"
   ]
  },
  {
   "cell_type": "markdown",
   "metadata": {},
   "source": [
    "# Imports"
   ]
  },
  {
   "cell_type": "code",
   "execution_count": 1,
   "metadata": {
    "ExecuteTime": {
     "end_time": "2019-11-18T02:55:32.922857Z",
     "start_time": "2019-11-18T02:55:30.719129Z"
    }
   },
   "outputs": [],
   "source": [
    "import numpy as np\n",
    "import pandas as pd\n",
    "\n",
    "import os\n",
    "import time\n",
    "import collections\n",
    "import itertools\n",
    "\n",
    "# random state\n",
    "random_state=100\n",
    "np.random.seed(random_state) # we need this in each cell\n",
    "np.random.set_state=random_state\n",
    "\n",
    "import sklearn\n",
    "from sklearn.preprocessing import StandardScaler\n",
    "from sklearn.model_selection import train_test_split\n",
    "from sklearn.ensemble import RandomForestRegressor\n",
    "from sklearn.metrics import mean_squared_error\n",
    "from sklearn.model_selection import cross_val_score\n",
    "\n",
    "import pickle"
   ]
  },
  {
   "cell_type": "markdown",
   "metadata": {},
   "source": [
    "# Useful Scripts"
   ]
  },
  {
   "cell_type": "code",
   "execution_count": 8,
   "metadata": {
    "ExecuteTime": {
     "end_time": "2019-11-18T02:58:13.390387Z",
     "start_time": "2019-11-18T02:58:13.355246Z"
    }
   },
   "outputs": [],
   "source": [
    "def show_method_attributes(obj, ncols=7,start=None, inside=None):\n",
    "    \"\"\" Show all the attributes of a given method.\n",
    "    Example:\n",
    "    ========\n",
    "    show_method_attributes(list)\n",
    "     \"\"\"\n",
    "    lst = [elem for elem in dir(obj) if elem[0]!='_' ]\n",
    "    lst = [elem for elem in lst \n",
    "           if elem not in 'os np pd sys time psycopg2'.split() ]\n",
    "\n",
    "    if isinstance(start,str):\n",
    "        lst = [elem for elem in lst if elem.startswith(start)]\n",
    "        \n",
    "    if isinstance(start,tuple) or isinstance(start,list):\n",
    "        lst = [elem for elem in lst for start_elem in start\n",
    "               if elem.startswith(start_elem)]\n",
    "        \n",
    "    if isinstance(inside,str):\n",
    "        lst = [elem for elem in lst if inside in elem]\n",
    "        \n",
    "    if isinstance(inside,tuple) or isinstance(inside,list):\n",
    "        lst = [elem for elem in lst for inside_elem in inside\n",
    "               if inside_elem in elem]\n",
    "\n",
    "    return pd.DataFrame(np.array_split(lst,ncols)).T.fillna('')\n",
    "\n",
    "def adjustedR2(rsquared,nrows,kcols):\n",
    "    return rsquared- (kcols-1)/(nrows-kcols) * (1-rsquared)\n",
    "\n",
    "\n",
    "def multiple_linear_regression(df,features,target,model,\n",
    "                               verbose=1,cv=5,test_size=0.3):\n",
    "    \"\"\" Multiple Linear Regression Modelling using given model.\n",
    "    \n",
    "    Depends:\n",
    "    Depends on function adjusted r-squared.\n",
    "    \n",
    "    \n",
    "    Returns:\n",
    "    rmse, r2_train, ar2_train, r2_test, ar2_test, cv\n",
    "    \"\"\"\n",
    "    \n",
    "    # train test split\n",
    "    train, test = train_test_split(df, test_size=0.2, random_state=100)\n",
    "\n",
    "    # train test values\n",
    "    X = df[features].values\n",
    "    y = df[target].values.ravel()\n",
    "\n",
    "    Xtrain = train[features].values\n",
    "    ytrain = train[target].values.ravel()\n",
    "\n",
    "    Xtest = test[features].values\n",
    "    ytest = test[target].values.ravel()\n",
    "    \n",
    "    # fitting\n",
    "    model.fit(Xtrain,ytrain)\n",
    "\n",
    "    # prediction\n",
    "    ypreds = model.predict(Xtest)\n",
    "\n",
    "    # metrics\n",
    "    rmse = np.sqrt(mean_squared_error(ytest,ypreds)).round(3)\n",
    "    r2_train = model.score(Xtrain, ytrain).round(3)\n",
    "    r2_test = model.score(Xtest, ytest).round(3)\n",
    "\n",
    "    cv = cross_val_score(model, X, y, cv=5,n_jobs=-1,\n",
    "                         verbose=verbose).mean().round(3)\n",
    "\n",
    "    ar2_train = adjustedR2(model.score(Xtrain,ytrain),\n",
    "                           Xtrain.shape[0],\n",
    "                           len(features)).round(3)\n",
    "    ar2_test  = adjustedR2(model.score(Xtest,ytest),\n",
    "                           Xtest.shape[0] ,\n",
    "                           len(features)).round(3)\n",
    "    \n",
    "    return (rmse, r2_train, ar2_train, r2_test, ar2_test, cv)\n",
    "\n",
    "\n",
    "df_eval = pd.DataFrame({'Model': [],\n",
    "                           'Details':[],\n",
    "                           'Root Mean Squared Error (RMSE)':[],\n",
    "                           'R-squared (training)':[],\n",
    "                           'Adjusted R-squared (training)':[],\n",
    "                           'R-squared (test)':[],\n",
    "                           'Adjusted R-squared (test)':[],\n",
    "                           '5-Fold Cross Validation':[]})"
   ]
  },
  {
   "cell_type": "markdown",
   "metadata": {},
   "source": [
    "# Load the data"
   ]
  },
  {
   "cell_type": "code",
   "execution_count": 3,
   "metadata": {
    "ExecuteTime": {
     "end_time": "2019-11-18T02:55:34.008696Z",
     "start_time": "2019-11-18T02:55:33.937595Z"
    }
   },
   "outputs": [
    {
     "data": {
      "text/html": [
       "<div>\n",
       "<style scoped>\n",
       "    .dataframe tbody tr th:only-of-type {\n",
       "        vertical-align: middle;\n",
       "    }\n",
       "\n",
       "    .dataframe tbody tr th {\n",
       "        vertical-align: top;\n",
       "    }\n",
       "\n",
       "    .dataframe thead th {\n",
       "        text-align: right;\n",
       "    }\n",
       "</style>\n",
       "<table border=\"1\" class=\"dataframe\">\n",
       "  <thead>\n",
       "    <tr style=\"text-align: right;\">\n",
       "      <th></th>\n",
       "      <th>price</th>\n",
       "      <th>bedrooms</th>\n",
       "      <th>bathrooms</th>\n",
       "      <th>sqft_living</th>\n",
       "      <th>sqft_lot</th>\n",
       "      <th>floors</th>\n",
       "      <th>waterfront</th>\n",
       "      <th>view</th>\n",
       "      <th>condition</th>\n",
       "      <th>grade</th>\n",
       "      <th>sqft_above</th>\n",
       "      <th>sqft_basement</th>\n",
       "      <th>yr_built</th>\n",
       "      <th>yr_renovated</th>\n",
       "      <th>zipcode</th>\n",
       "      <th>lat</th>\n",
       "      <th>long</th>\n",
       "      <th>sqft_living15</th>\n",
       "      <th>sqft_lot15</th>\n",
       "    </tr>\n",
       "  </thead>\n",
       "  <tbody>\n",
       "    <tr>\n",
       "      <th>0</th>\n",
       "      <td>221900.0</td>\n",
       "      <td>3</td>\n",
       "      <td>1.00</td>\n",
       "      <td>1180</td>\n",
       "      <td>5650</td>\n",
       "      <td>1.0</td>\n",
       "      <td>0</td>\n",
       "      <td>0</td>\n",
       "      <td>3</td>\n",
       "      <td>7</td>\n",
       "      <td>1180</td>\n",
       "      <td>0</td>\n",
       "      <td>1955</td>\n",
       "      <td>0</td>\n",
       "      <td>98178</td>\n",
       "      <td>47.5112</td>\n",
       "      <td>-122.257</td>\n",
       "      <td>1340</td>\n",
       "      <td>5650</td>\n",
       "    </tr>\n",
       "    <tr>\n",
       "      <th>1</th>\n",
       "      <td>538000.0</td>\n",
       "      <td>3</td>\n",
       "      <td>2.25</td>\n",
       "      <td>2570</td>\n",
       "      <td>7242</td>\n",
       "      <td>2.0</td>\n",
       "      <td>0</td>\n",
       "      <td>0</td>\n",
       "      <td>3</td>\n",
       "      <td>7</td>\n",
       "      <td>2170</td>\n",
       "      <td>400</td>\n",
       "      <td>1951</td>\n",
       "      <td>1991</td>\n",
       "      <td>98125</td>\n",
       "      <td>47.7210</td>\n",
       "      <td>-122.319</td>\n",
       "      <td>1690</td>\n",
       "      <td>7639</td>\n",
       "    </tr>\n",
       "    <tr>\n",
       "      <th>2</th>\n",
       "      <td>180000.0</td>\n",
       "      <td>2</td>\n",
       "      <td>1.00</td>\n",
       "      <td>770</td>\n",
       "      <td>10000</td>\n",
       "      <td>1.0</td>\n",
       "      <td>0</td>\n",
       "      <td>0</td>\n",
       "      <td>3</td>\n",
       "      <td>6</td>\n",
       "      <td>770</td>\n",
       "      <td>0</td>\n",
       "      <td>1933</td>\n",
       "      <td>0</td>\n",
       "      <td>98028</td>\n",
       "      <td>47.7379</td>\n",
       "      <td>-122.233</td>\n",
       "      <td>2720</td>\n",
       "      <td>8062</td>\n",
       "    </tr>\n",
       "    <tr>\n",
       "      <th>3</th>\n",
       "      <td>604000.0</td>\n",
       "      <td>4</td>\n",
       "      <td>3.00</td>\n",
       "      <td>1960</td>\n",
       "      <td>5000</td>\n",
       "      <td>1.0</td>\n",
       "      <td>0</td>\n",
       "      <td>0</td>\n",
       "      <td>5</td>\n",
       "      <td>7</td>\n",
       "      <td>1050</td>\n",
       "      <td>910</td>\n",
       "      <td>1965</td>\n",
       "      <td>0</td>\n",
       "      <td>98136</td>\n",
       "      <td>47.5208</td>\n",
       "      <td>-122.393</td>\n",
       "      <td>1360</td>\n",
       "      <td>5000</td>\n",
       "    </tr>\n",
       "    <tr>\n",
       "      <th>4</th>\n",
       "      <td>510000.0</td>\n",
       "      <td>3</td>\n",
       "      <td>2.00</td>\n",
       "      <td>1680</td>\n",
       "      <td>8080</td>\n",
       "      <td>1.0</td>\n",
       "      <td>0</td>\n",
       "      <td>0</td>\n",
       "      <td>3</td>\n",
       "      <td>8</td>\n",
       "      <td>1680</td>\n",
       "      <td>0</td>\n",
       "      <td>1987</td>\n",
       "      <td>0</td>\n",
       "      <td>98074</td>\n",
       "      <td>47.6168</td>\n",
       "      <td>-122.045</td>\n",
       "      <td>1800</td>\n",
       "      <td>7503</td>\n",
       "    </tr>\n",
       "  </tbody>\n",
       "</table>\n",
       "</div>"
      ],
      "text/plain": [
       "      price  bedrooms  bathrooms  sqft_living  sqft_lot  floors  waterfront  \\\n",
       "0  221900.0         3       1.00         1180      5650     1.0           0   \n",
       "1  538000.0         3       2.25         2570      7242     2.0           0   \n",
       "2  180000.0         2       1.00          770     10000     1.0           0   \n",
       "3  604000.0         4       3.00         1960      5000     1.0           0   \n",
       "4  510000.0         3       2.00         1680      8080     1.0           0   \n",
       "\n",
       "   view  condition  grade  sqft_above  sqft_basement  yr_built  yr_renovated  \\\n",
       "0     0          3      7        1180              0      1955             0   \n",
       "1     0          3      7        2170            400      1951          1991   \n",
       "2     0          3      6         770              0      1933             0   \n",
       "3     0          5      7        1050            910      1965             0   \n",
       "4     0          3      8        1680              0      1987             0   \n",
       "\n",
       "   zipcode      lat     long  sqft_living15  sqft_lot15  \n",
       "0    98178  47.5112 -122.257           1340        5650  \n",
       "1    98125  47.7210 -122.319           1690        7639  \n",
       "2    98028  47.7379 -122.233           2720        8062  \n",
       "3    98136  47.5208 -122.393           1360        5000  \n",
       "4    98074  47.6168 -122.045           1800        7503  "
      ]
     },
     "execution_count": 3,
     "metadata": {},
     "output_type": "execute_result"
    }
   ],
   "source": [
    "df = pd.read_csv('../data/raw/kc_house_data.csv')\n",
    "df.drop(['id','date'],axis=1,inplace=True)\n",
    "df.head()"
   ]
  },
  {
   "cell_type": "markdown",
   "metadata": {},
   "source": [
    "# Random Forest Modelling"
   ]
  },
  {
   "cell_type": "code",
   "execution_count": 4,
   "metadata": {
    "ExecuteTime": {
     "end_time": "2019-11-18T02:55:37.486955Z",
     "start_time": "2019-11-18T02:55:37.482206Z"
    }
   },
   "outputs": [],
   "source": [
    "target = ['price']\n",
    "features = df.drop(['price'],axis=1).columns"
   ]
  },
  {
   "cell_type": "code",
   "execution_count": 5,
   "metadata": {
    "ExecuteTime": {
     "end_time": "2019-11-18T02:55:59.862094Z",
     "start_time": "2019-11-18T02:55:38.681733Z"
    }
   },
   "outputs": [
    {
     "data": {
      "text/html": [
       "<div>\n",
       "<style scoped>\n",
       "    .dataframe tbody tr th:only-of-type {\n",
       "        vertical-align: middle;\n",
       "    }\n",
       "\n",
       "    .dataframe tbody tr th {\n",
       "        vertical-align: top;\n",
       "    }\n",
       "\n",
       "    .dataframe thead th {\n",
       "        text-align: right;\n",
       "    }\n",
       "</style>\n",
       "<table border=\"1\" class=\"dataframe\">\n",
       "  <thead>\n",
       "    <tr style=\"text-align: right;\">\n",
       "      <th></th>\n",
       "      <th>Model</th>\n",
       "      <th>Details</th>\n",
       "      <th>Root Mean Squared Error (RMSE)</th>\n",
       "      <th>R-squared (training)</th>\n",
       "      <th>Adjusted R-squared (training)</th>\n",
       "      <th>R-squared (test)</th>\n",
       "      <th>Adjusted R-squared (test)</th>\n",
       "      <th>5-Fold Cross Validation</th>\n",
       "    </tr>\n",
       "  </thead>\n",
       "  <tbody>\n",
       "    <tr>\n",
       "      <th>0</th>\n",
       "      <td>Random Forest Regressor</td>\n",
       "      <td></td>\n",
       "      <td>125316.711</td>\n",
       "      <td>0.981</td>\n",
       "      <td>0.981</td>\n",
       "      <td>0.883</td>\n",
       "      <td>0.883</td>\n",
       "      <td>0.872</td>\n",
       "    </tr>\n",
       "  </tbody>\n",
       "</table>\n",
       "</div>"
      ],
      "text/plain": [
       "                     Model Details  Root Mean Squared Error (RMSE)  \\\n",
       "0  Random Forest Regressor                              125316.711   \n",
       "\n",
       "   R-squared (training)  Adjusted R-squared (training)  R-squared (test)  \\\n",
       "0                 0.981                          0.981             0.883   \n",
       "\n",
       "   Adjusted R-squared (test)  5-Fold Cross Validation  \n",
       "0                      0.883                    0.872  "
      ]
     },
     "execution_count": 5,
     "metadata": {},
     "output_type": "execute_result"
    }
   ],
   "source": [
    "model = RandomForestRegressor(n_estimators= 50,random_state=100)\n",
    "\n",
    "rmse, r2_train, ar2_train, r2_test, ar2_test, cv = \\\n",
    "    multiple_linear_regression(df, features, target,model,\n",
    "                               verbose=0,test_size=0.2)\n",
    "\n",
    "\n",
    "df_eval.loc[len(df_eval)] = ['Random Forest Regressor',\n",
    "                             '', rmse,r2_train,ar2_train,\n",
    "                             r2_test,ar2_test,cv]\n",
    "\n",
    "\n",
    "df_eval"
   ]
  },
  {
   "cell_type": "markdown",
   "metadata": {},
   "source": [
    "# Grid Search\n",
    "\n",
    "Most important hyperparameters of Random Forest:\n",
    "\n",
    "- n_estimators = n of trees\n",
    "- max_features = max number of features considered for splitting a node\n",
    "- max_depth = max number of levels in each decision tree\n",
    "- min_samples_split = min number of data points placed in a node before the node is split\n",
    "- min_samples_leaf = min number of data points allowed in a leaf node\n",
    "- bootstrap = method for sampling data points (with or without replacement)"
   ]
  },
  {
   "cell_type": "code",
   "execution_count": 6,
   "metadata": {
    "ExecuteTime": {
     "end_time": "2019-11-18T02:55:59.887189Z",
     "start_time": "2019-11-18T02:55:59.865599Z"
    }
   },
   "outputs": [],
   "source": [
    "# train test split\n",
    "train, test = train_test_split(df, test_size=0.2, random_state=100)\n",
    "\n",
    "# train test values\n",
    "X = df[features].values\n",
    "y = df[target].values.ravel()\n",
    "\n",
    "Xtrain = train[features].values\n",
    "ytrain = train[target].values.ravel()\n",
    "\n",
    "Xtest = test[features].values\n",
    "ytest = test[target].values.ravel()"
   ]
  },
  {
   "cell_type": "code",
   "execution_count": 29,
   "metadata": {
    "ExecuteTime": {
     "end_time": "2019-11-18T04:37:19.121615Z",
     "start_time": "2019-11-18T03:29:15.828402Z"
    }
   },
   "outputs": [
    {
     "name": "stdout",
     "output_type": "stream",
     "text": [
      "Fitting 5 folds for each of 1296 candidates, totalling 6480 fits\n"
     ]
    },
    {
     "name": "stderr",
     "output_type": "stream",
     "text": [
      "[Parallel(n_jobs=-1)]: Using backend LokyBackend with 4 concurrent workers.\n",
      "[Parallel(n_jobs=-1)]: Done  33 tasks      | elapsed:    9.8s\n",
      "[Parallel(n_jobs=-1)]: Done 154 tasks      | elapsed:   43.7s\n",
      "[Parallel(n_jobs=-1)]: Done 357 tasks      | elapsed:  1.7min\n",
      "[Parallel(n_jobs=-1)]: Done 640 tasks      | elapsed:  6.8min\n",
      "[Parallel(n_jobs=-1)]: Done 1005 tasks      | elapsed: 13.1min\n",
      "[Parallel(n_jobs=-1)]: Done 1450 tasks      | elapsed: 17.0min\n",
      "[Parallel(n_jobs=-1)]: Done 1977 tasks      | elapsed: 31.3min\n",
      "[Parallel(n_jobs=-1)]: Done 2584 tasks      | elapsed: 41.1min\n",
      "[Parallel(n_jobs=-1)]: Done 3273 tasks      | elapsed: 59.3min\n"
     ]
    },
    {
     "ename": "KeyboardInterrupt",
     "evalue": "",
     "output_type": "error",
     "traceback": [
      "\u001b[0;31m---------------------------------------------------------------------------\u001b[0m",
      "\u001b[0;31mKeyboardInterrupt\u001b[0m                         Traceback (most recent call last)",
      "\u001b[0;32m<timed exec>\u001b[0m in \u001b[0;36m<module>\u001b[0;34m()\u001b[0m\n",
      "\u001b[0;32m~/miniconda3/envs/dataSc/lib/python3.7/site-packages/sklearn/model_selection/_search.py\u001b[0m in \u001b[0;36mfit\u001b[0;34m(self, X, y, groups, **fit_params)\u001b[0m\n\u001b[1;32m    685\u001b[0m                 \u001b[0;32mreturn\u001b[0m \u001b[0mresults\u001b[0m\u001b[0;34m\u001b[0m\u001b[0;34m\u001b[0m\u001b[0m\n\u001b[1;32m    686\u001b[0m \u001b[0;34m\u001b[0m\u001b[0m\n\u001b[0;32m--> 687\u001b[0;31m             \u001b[0mself\u001b[0m\u001b[0;34m.\u001b[0m\u001b[0m_run_search\u001b[0m\u001b[0;34m(\u001b[0m\u001b[0mevaluate_candidates\u001b[0m\u001b[0;34m)\u001b[0m\u001b[0;34m\u001b[0m\u001b[0;34m\u001b[0m\u001b[0m\n\u001b[0m\u001b[1;32m    688\u001b[0m \u001b[0;34m\u001b[0m\u001b[0m\n\u001b[1;32m    689\u001b[0m         \u001b[0;31m# For multi-metric evaluation, store the best_index_, best_params_ and\u001b[0m\u001b[0;34m\u001b[0m\u001b[0;34m\u001b[0m\u001b[0;34m\u001b[0m\u001b[0m\n",
      "\u001b[0;32m~/miniconda3/envs/dataSc/lib/python3.7/site-packages/sklearn/model_selection/_search.py\u001b[0m in \u001b[0;36m_run_search\u001b[0;34m(self, evaluate_candidates)\u001b[0m\n\u001b[1;32m   1146\u001b[0m     \u001b[0;32mdef\u001b[0m \u001b[0m_run_search\u001b[0m\u001b[0;34m(\u001b[0m\u001b[0mself\u001b[0m\u001b[0;34m,\u001b[0m \u001b[0mevaluate_candidates\u001b[0m\u001b[0;34m)\u001b[0m\u001b[0;34m:\u001b[0m\u001b[0;34m\u001b[0m\u001b[0;34m\u001b[0m\u001b[0m\n\u001b[1;32m   1147\u001b[0m         \u001b[0;34m\"\"\"Search all candidates in param_grid\"\"\"\u001b[0m\u001b[0;34m\u001b[0m\u001b[0;34m\u001b[0m\u001b[0m\n\u001b[0;32m-> 1148\u001b[0;31m         \u001b[0mevaluate_candidates\u001b[0m\u001b[0;34m(\u001b[0m\u001b[0mParameterGrid\u001b[0m\u001b[0;34m(\u001b[0m\u001b[0mself\u001b[0m\u001b[0;34m.\u001b[0m\u001b[0mparam_grid\u001b[0m\u001b[0;34m)\u001b[0m\u001b[0;34m)\u001b[0m\u001b[0;34m\u001b[0m\u001b[0;34m\u001b[0m\u001b[0m\n\u001b[0m\u001b[1;32m   1149\u001b[0m \u001b[0;34m\u001b[0m\u001b[0m\n\u001b[1;32m   1150\u001b[0m \u001b[0;34m\u001b[0m\u001b[0m\n",
      "\u001b[0;32m~/miniconda3/envs/dataSc/lib/python3.7/site-packages/sklearn/model_selection/_search.py\u001b[0m in \u001b[0;36mevaluate_candidates\u001b[0;34m(candidate_params)\u001b[0m\n\u001b[1;32m    664\u001b[0m                                \u001b[0;32mfor\u001b[0m \u001b[0mparameters\u001b[0m\u001b[0;34m,\u001b[0m \u001b[0;34m(\u001b[0m\u001b[0mtrain\u001b[0m\u001b[0;34m,\u001b[0m \u001b[0mtest\u001b[0m\u001b[0;34m)\u001b[0m\u001b[0;34m\u001b[0m\u001b[0;34m\u001b[0m\u001b[0m\n\u001b[1;32m    665\u001b[0m                                in product(candidate_params,\n\u001b[0;32m--> 666\u001b[0;31m                                           cv.split(X, y, groups)))\n\u001b[0m\u001b[1;32m    667\u001b[0m \u001b[0;34m\u001b[0m\u001b[0m\n\u001b[1;32m    668\u001b[0m                 \u001b[0;32mif\u001b[0m \u001b[0mlen\u001b[0m\u001b[0;34m(\u001b[0m\u001b[0mout\u001b[0m\u001b[0;34m)\u001b[0m \u001b[0;34m<\u001b[0m \u001b[0;36m1\u001b[0m\u001b[0;34m:\u001b[0m\u001b[0;34m\u001b[0m\u001b[0;34m\u001b[0m\u001b[0m\n",
      "\u001b[0;32m~/miniconda3/envs/dataSc/lib/python3.7/site-packages/joblib/parallel.py\u001b[0m in \u001b[0;36m__call__\u001b[0;34m(self, iterable)\u001b[0m\n\u001b[1;32m    932\u001b[0m \u001b[0;34m\u001b[0m\u001b[0m\n\u001b[1;32m    933\u001b[0m             \u001b[0;32mwith\u001b[0m \u001b[0mself\u001b[0m\u001b[0;34m.\u001b[0m\u001b[0m_backend\u001b[0m\u001b[0;34m.\u001b[0m\u001b[0mretrieval_context\u001b[0m\u001b[0;34m(\u001b[0m\u001b[0;34m)\u001b[0m\u001b[0;34m:\u001b[0m\u001b[0;34m\u001b[0m\u001b[0;34m\u001b[0m\u001b[0m\n\u001b[0;32m--> 934\u001b[0;31m                 \u001b[0mself\u001b[0m\u001b[0;34m.\u001b[0m\u001b[0mretrieve\u001b[0m\u001b[0;34m(\u001b[0m\u001b[0;34m)\u001b[0m\u001b[0;34m\u001b[0m\u001b[0;34m\u001b[0m\u001b[0m\n\u001b[0m\u001b[1;32m    935\u001b[0m             \u001b[0;31m# Make sure that we get a last message telling us we are done\u001b[0m\u001b[0;34m\u001b[0m\u001b[0;34m\u001b[0m\u001b[0;34m\u001b[0m\u001b[0m\n\u001b[1;32m    936\u001b[0m             \u001b[0melapsed_time\u001b[0m \u001b[0;34m=\u001b[0m \u001b[0mtime\u001b[0m\u001b[0;34m.\u001b[0m\u001b[0mtime\u001b[0m\u001b[0;34m(\u001b[0m\u001b[0;34m)\u001b[0m \u001b[0;34m-\u001b[0m \u001b[0mself\u001b[0m\u001b[0;34m.\u001b[0m\u001b[0m_start_time\u001b[0m\u001b[0;34m\u001b[0m\u001b[0;34m\u001b[0m\u001b[0m\n",
      "\u001b[0;32m~/miniconda3/envs/dataSc/lib/python3.7/site-packages/joblib/parallel.py\u001b[0m in \u001b[0;36mretrieve\u001b[0;34m(self)\u001b[0m\n\u001b[1;32m    831\u001b[0m             \u001b[0;32mtry\u001b[0m\u001b[0;34m:\u001b[0m\u001b[0;34m\u001b[0m\u001b[0;34m\u001b[0m\u001b[0m\n\u001b[1;32m    832\u001b[0m                 \u001b[0;32mif\u001b[0m \u001b[0mgetattr\u001b[0m\u001b[0;34m(\u001b[0m\u001b[0mself\u001b[0m\u001b[0;34m.\u001b[0m\u001b[0m_backend\u001b[0m\u001b[0;34m,\u001b[0m \u001b[0;34m'supports_timeout'\u001b[0m\u001b[0;34m,\u001b[0m \u001b[0;32mFalse\u001b[0m\u001b[0;34m)\u001b[0m\u001b[0;34m:\u001b[0m\u001b[0;34m\u001b[0m\u001b[0;34m\u001b[0m\u001b[0m\n\u001b[0;32m--> 833\u001b[0;31m                     \u001b[0mself\u001b[0m\u001b[0;34m.\u001b[0m\u001b[0m_output\u001b[0m\u001b[0;34m.\u001b[0m\u001b[0mextend\u001b[0m\u001b[0;34m(\u001b[0m\u001b[0mjob\u001b[0m\u001b[0;34m.\u001b[0m\u001b[0mget\u001b[0m\u001b[0;34m(\u001b[0m\u001b[0mtimeout\u001b[0m\u001b[0;34m=\u001b[0m\u001b[0mself\u001b[0m\u001b[0;34m.\u001b[0m\u001b[0mtimeout\u001b[0m\u001b[0;34m)\u001b[0m\u001b[0;34m)\u001b[0m\u001b[0;34m\u001b[0m\u001b[0;34m\u001b[0m\u001b[0m\n\u001b[0m\u001b[1;32m    834\u001b[0m                 \u001b[0;32melse\u001b[0m\u001b[0;34m:\u001b[0m\u001b[0;34m\u001b[0m\u001b[0;34m\u001b[0m\u001b[0m\n\u001b[1;32m    835\u001b[0m                     \u001b[0mself\u001b[0m\u001b[0;34m.\u001b[0m\u001b[0m_output\u001b[0m\u001b[0;34m.\u001b[0m\u001b[0mextend\u001b[0m\u001b[0;34m(\u001b[0m\u001b[0mjob\u001b[0m\u001b[0;34m.\u001b[0m\u001b[0mget\u001b[0m\u001b[0;34m(\u001b[0m\u001b[0;34m)\u001b[0m\u001b[0;34m)\u001b[0m\u001b[0;34m\u001b[0m\u001b[0;34m\u001b[0m\u001b[0m\n",
      "\u001b[0;32m~/miniconda3/envs/dataSc/lib/python3.7/site-packages/joblib/_parallel_backends.py\u001b[0m in \u001b[0;36mwrap_future_result\u001b[0;34m(future, timeout)\u001b[0m\n\u001b[1;32m    519\u001b[0m         AsyncResults.get from multiprocessing.\"\"\"\n\u001b[1;32m    520\u001b[0m         \u001b[0;32mtry\u001b[0m\u001b[0;34m:\u001b[0m\u001b[0;34m\u001b[0m\u001b[0;34m\u001b[0m\u001b[0m\n\u001b[0;32m--> 521\u001b[0;31m             \u001b[0;32mreturn\u001b[0m \u001b[0mfuture\u001b[0m\u001b[0;34m.\u001b[0m\u001b[0mresult\u001b[0m\u001b[0;34m(\u001b[0m\u001b[0mtimeout\u001b[0m\u001b[0;34m=\u001b[0m\u001b[0mtimeout\u001b[0m\u001b[0;34m)\u001b[0m\u001b[0;34m\u001b[0m\u001b[0;34m\u001b[0m\u001b[0m\n\u001b[0m\u001b[1;32m    522\u001b[0m         \u001b[0;32mexcept\u001b[0m \u001b[0mLokyTimeoutError\u001b[0m\u001b[0;34m:\u001b[0m\u001b[0;34m\u001b[0m\u001b[0;34m\u001b[0m\u001b[0m\n\u001b[1;32m    523\u001b[0m             \u001b[0;32mraise\u001b[0m \u001b[0mTimeoutError\u001b[0m\u001b[0;34m(\u001b[0m\u001b[0;34m)\u001b[0m\u001b[0;34m\u001b[0m\u001b[0;34m\u001b[0m\u001b[0m\n",
      "\u001b[0;32m~/miniconda3/envs/dataSc/lib/python3.7/concurrent/futures/_base.py\u001b[0m in \u001b[0;36mresult\u001b[0;34m(self, timeout)\u001b[0m\n\u001b[1;32m    425\u001b[0m                 \u001b[0;32mreturn\u001b[0m \u001b[0mself\u001b[0m\u001b[0;34m.\u001b[0m\u001b[0m__get_result\u001b[0m\u001b[0;34m(\u001b[0m\u001b[0;34m)\u001b[0m\u001b[0;34m\u001b[0m\u001b[0;34m\u001b[0m\u001b[0m\n\u001b[1;32m    426\u001b[0m \u001b[0;34m\u001b[0m\u001b[0m\n\u001b[0;32m--> 427\u001b[0;31m             \u001b[0mself\u001b[0m\u001b[0;34m.\u001b[0m\u001b[0m_condition\u001b[0m\u001b[0;34m.\u001b[0m\u001b[0mwait\u001b[0m\u001b[0;34m(\u001b[0m\u001b[0mtimeout\u001b[0m\u001b[0;34m)\u001b[0m\u001b[0;34m\u001b[0m\u001b[0;34m\u001b[0m\u001b[0m\n\u001b[0m\u001b[1;32m    428\u001b[0m \u001b[0;34m\u001b[0m\u001b[0m\n\u001b[1;32m    429\u001b[0m             \u001b[0;32mif\u001b[0m \u001b[0mself\u001b[0m\u001b[0;34m.\u001b[0m\u001b[0m_state\u001b[0m \u001b[0;32min\u001b[0m \u001b[0;34m[\u001b[0m\u001b[0mCANCELLED\u001b[0m\u001b[0;34m,\u001b[0m \u001b[0mCANCELLED_AND_NOTIFIED\u001b[0m\u001b[0;34m]\u001b[0m\u001b[0;34m:\u001b[0m\u001b[0;34m\u001b[0m\u001b[0;34m\u001b[0m\u001b[0m\n",
      "\u001b[0;32m~/miniconda3/envs/dataSc/lib/python3.7/threading.py\u001b[0m in \u001b[0;36mwait\u001b[0;34m(self, timeout)\u001b[0m\n\u001b[1;32m    294\u001b[0m         \u001b[0;32mtry\u001b[0m\u001b[0;34m:\u001b[0m    \u001b[0;31m# restore state no matter what (e.g., KeyboardInterrupt)\u001b[0m\u001b[0;34m\u001b[0m\u001b[0;34m\u001b[0m\u001b[0m\n\u001b[1;32m    295\u001b[0m             \u001b[0;32mif\u001b[0m \u001b[0mtimeout\u001b[0m \u001b[0;32mis\u001b[0m \u001b[0;32mNone\u001b[0m\u001b[0;34m:\u001b[0m\u001b[0;34m\u001b[0m\u001b[0;34m\u001b[0m\u001b[0m\n\u001b[0;32m--> 296\u001b[0;31m                 \u001b[0mwaiter\u001b[0m\u001b[0;34m.\u001b[0m\u001b[0macquire\u001b[0m\u001b[0;34m(\u001b[0m\u001b[0;34m)\u001b[0m\u001b[0;34m\u001b[0m\u001b[0;34m\u001b[0m\u001b[0m\n\u001b[0m\u001b[1;32m    297\u001b[0m                 \u001b[0mgotit\u001b[0m \u001b[0;34m=\u001b[0m \u001b[0;32mTrue\u001b[0m\u001b[0;34m\u001b[0m\u001b[0;34m\u001b[0m\u001b[0m\n\u001b[1;32m    298\u001b[0m             \u001b[0;32melse\u001b[0m\u001b[0;34m:\u001b[0m\u001b[0;34m\u001b[0m\u001b[0;34m\u001b[0m\u001b[0m\n",
      "\u001b[0;31mKeyboardInterrupt\u001b[0m: "
     ]
    }
   ],
   "source": [
    "%%time\n",
    "from sklearn.model_selection import GridSearchCV\n",
    "\n",
    "model = RandomForestRegressor(random_state=random_state,n_jobs=-1)\n",
    "\n",
    "\n",
    "param_grid = [\n",
    "{'n_estimators': np.arange(20,100,10),\n",
    " 'max_features': ['sqrt', 'auto', len(features)], \n",
    " 'max_depth': [10, 50, None],\n",
    " 'min_samples_split': [2,5,10],\n",
    " 'min_samples_leaf': [1,2,4],\n",
    " 'bootstrap': [True, False]}\n",
    "]\n",
    "\n",
    "grid_search_forest = GridSearchCV(model,\n",
    "                                  param_grid,\n",
    "                                  cv=5,\n",
    "                                  n_jobs=-1,\n",
    "                                  scoring='neg_mean_squared_error',\n",
    "                                  verbose=2)\n",
    "\n",
    "grid_search_forest.fit(Xtrain, ytrain)\n",
    "# this takes very long time, comment this after use\n",
    "# save the pickled result and load the pickle."
   ]
  },
  {
   "cell_type": "code",
   "execution_count": null,
   "metadata": {},
   "outputs": [],
   "source": [
    "import pickle\n",
    "\n",
    "with open('../models/grid_search_rf.pkl','wb') as fo:\n",
    "    pickle.dump(grid_search_forest, fo)"
   ]
  },
  {
   "cell_type": "markdown",
   "metadata": {},
   "source": [
    "# Use the best parameters from grid search"
   ]
  },
  {
   "cell_type": "code",
   "execution_count": 9,
   "metadata": {
    "ExecuteTime": {
     "end_time": "2019-11-18T02:58:27.295717Z",
     "start_time": "2019-11-18T02:58:27.280769Z"
    }
   },
   "outputs": [
    {
     "data": {
      "text/html": [
       "<div>\n",
       "<style scoped>\n",
       "    .dataframe tbody tr th:only-of-type {\n",
       "        vertical-align: middle;\n",
       "    }\n",
       "\n",
       "    .dataframe tbody tr th {\n",
       "        vertical-align: top;\n",
       "    }\n",
       "\n",
       "    .dataframe thead th {\n",
       "        text-align: right;\n",
       "    }\n",
       "</style>\n",
       "<table border=\"1\" class=\"dataframe\">\n",
       "  <thead>\n",
       "    <tr style=\"text-align: right;\">\n",
       "      <th></th>\n",
       "      <th>0</th>\n",
       "      <th>1</th>\n",
       "      <th>2</th>\n",
       "      <th>3</th>\n",
       "      <th>4</th>\n",
       "      <th>5</th>\n",
       "      <th>6</th>\n",
       "    </tr>\n",
       "  </thead>\n",
       "  <tbody>\n",
       "    <tr>\n",
       "      <th>0</th>\n",
       "      <td>best_estimator_</td>\n",
       "      <td>cv</td>\n",
       "      <td>fit</td>\n",
       "      <td>n_jobs</td>\n",
       "      <td>predict</td>\n",
       "      <td>refit_time_</td>\n",
       "      <td>scoring</td>\n",
       "    </tr>\n",
       "    <tr>\n",
       "      <th>1</th>\n",
       "      <td>best_index_</td>\n",
       "      <td>cv_results_</td>\n",
       "      <td>get_params</td>\n",
       "      <td>n_splits_</td>\n",
       "      <td>predict_log_proba</td>\n",
       "      <td>return_train_score</td>\n",
       "      <td>set_params</td>\n",
       "    </tr>\n",
       "    <tr>\n",
       "      <th>2</th>\n",
       "      <td>best_params_</td>\n",
       "      <td>decision_function</td>\n",
       "      <td>iid</td>\n",
       "      <td>param_grid</td>\n",
       "      <td>predict_proba</td>\n",
       "      <td>score</td>\n",
       "      <td>transform</td>\n",
       "    </tr>\n",
       "    <tr>\n",
       "      <th>3</th>\n",
       "      <td>best_score_</td>\n",
       "      <td>error_score</td>\n",
       "      <td>inverse_transform</td>\n",
       "      <td>pre_dispatch</td>\n",
       "      <td>refit</td>\n",
       "      <td>scorer_</td>\n",
       "      <td>verbose</td>\n",
       "    </tr>\n",
       "    <tr>\n",
       "      <th>4</th>\n",
       "      <td>classes_</td>\n",
       "      <td>estimator</td>\n",
       "      <td>multimetric_</td>\n",
       "      <td></td>\n",
       "      <td></td>\n",
       "      <td></td>\n",
       "      <td></td>\n",
       "    </tr>\n",
       "  </tbody>\n",
       "</table>\n",
       "</div>"
      ],
      "text/plain": [
       "                 0                  1                  2             3  \\\n",
       "0  best_estimator_                 cv                fit        n_jobs   \n",
       "1      best_index_        cv_results_         get_params     n_splits_   \n",
       "2     best_params_  decision_function                iid    param_grid   \n",
       "3      best_score_        error_score  inverse_transform  pre_dispatch   \n",
       "4         classes_          estimator       multimetric_                 \n",
       "\n",
       "                   4                   5           6  \n",
       "0            predict         refit_time_     scoring  \n",
       "1  predict_log_proba  return_train_score  set_params  \n",
       "2      predict_proba               score   transform  \n",
       "3              refit             scorer_     verbose  \n",
       "4                                                     "
      ]
     },
     "execution_count": 9,
     "metadata": {},
     "output_type": "execute_result"
    }
   ],
   "source": [
    "show_method_attributes(grid_search_forest)"
   ]
  },
  {
   "cell_type": "code",
   "execution_count": 15,
   "metadata": {
    "ExecuteTime": {
     "end_time": "2019-11-18T03:01:29.617704Z",
     "start_time": "2019-11-18T03:01:29.603871Z"
    }
   },
   "outputs": [
    {
     "data": {
      "text/plain": [
       "Index(['mean_fit_time', 'std_fit_time', 'mean_score_time', 'std_score_time',\n",
       "       'param_bootstrap', 'param_max_depth', 'param_max_features',\n",
       "       'param_n_estimators', 'params', 'split0_test_score',\n",
       "       'split1_test_score', 'split2_test_score', 'split3_test_score',\n",
       "       'split4_test_score', 'mean_test_score', 'std_test_score',\n",
       "       'rank_test_score'],\n",
       "      dtype='object')"
      ]
     },
     "execution_count": 15,
     "metadata": {},
     "output_type": "execute_result"
    }
   ],
   "source": [
    "df_gs_rf = pd.DataFrame(grid_search_forest.cv_results_)\n",
    "df_gs_rf.columns"
   ]
  },
  {
   "cell_type": "code",
   "execution_count": 18,
   "metadata": {
    "ExecuteTime": {
     "end_time": "2019-11-18T03:05:20.965746Z",
     "start_time": "2019-11-18T03:05:20.962636Z"
    }
   },
   "outputs": [],
   "source": [
    "# df_gs_rf param_max_features"
   ]
  },
  {
   "cell_type": "code",
   "execution_count": 23,
   "metadata": {
    "ExecuteTime": {
     "end_time": "2019-11-18T03:18:16.566513Z",
     "start_time": "2019-11-18T03:18:16.455030Z"
    }
   },
   "outputs": [
    {
     "data": {
      "text/html": [
       "<style  type=\"text/css\" >\n",
       "    #T_1001e89a_09b2_11ea_a1c1_acde48001122row0_col0 {\n",
       "            background-color:  #81badb;\n",
       "            color:  #000000;\n",
       "        }    #T_1001e89a_09b2_11ea_a1c1_acde48001122row0_col1 {\n",
       "            background-color:  #2676b8;\n",
       "            color:  #000000;\n",
       "        }    #T_1001e89a_09b2_11ea_a1c1_acde48001122row0_col2 {\n",
       "            background-color:  #b4d3e9;\n",
       "            color:  #000000;\n",
       "        }    #T_1001e89a_09b2_11ea_a1c1_acde48001122row0_col3 {\n",
       "            background-color:  #3d8dc4;\n",
       "            color:  #000000;\n",
       "        }    #T_1001e89a_09b2_11ea_a1c1_acde48001122row1_col0 {\n",
       "            background-color:  #7ab6d9;\n",
       "            color:  #000000;\n",
       "        }    #T_1001e89a_09b2_11ea_a1c1_acde48001122row1_col1 {\n",
       "            background-color:  #1764ab;\n",
       "            color:  #f1f1f1;\n",
       "        }    #T_1001e89a_09b2_11ea_a1c1_acde48001122row1_col2 {\n",
       "            background-color:  #99c7e0;\n",
       "            color:  #000000;\n",
       "        }    #T_1001e89a_09b2_11ea_a1c1_acde48001122row1_col3 {\n",
       "            background-color:  #2a7ab9;\n",
       "            color:  #000000;\n",
       "        }    #T_1001e89a_09b2_11ea_a1c1_acde48001122row2_col0 {\n",
       "            background-color:  #d6e5f4;\n",
       "            color:  #000000;\n",
       "        }    #T_1001e89a_09b2_11ea_a1c1_acde48001122row2_col1 {\n",
       "            background-color:  #f7fbff;\n",
       "            color:  #000000;\n",
       "        }    #T_1001e89a_09b2_11ea_a1c1_acde48001122row2_col2 {\n",
       "            background-color:  #125ea6;\n",
       "            color:  #f1f1f1;\n",
       "        }    #T_1001e89a_09b2_11ea_a1c1_acde48001122row2_col3 {\n",
       "            background-color:  #084488;\n",
       "            color:  #f1f1f1;\n",
       "        }    #T_1001e89a_09b2_11ea_a1c1_acde48001122row3_col0 {\n",
       "            background-color:  #d5e5f4;\n",
       "            color:  #000000;\n",
       "        }    #T_1001e89a_09b2_11ea_a1c1_acde48001122row3_col1 {\n",
       "            background-color:  #f3f8fe;\n",
       "            color:  #000000;\n",
       "        }    #T_1001e89a_09b2_11ea_a1c1_acde48001122row3_col2 {\n",
       "            background-color:  #0a549e;\n",
       "            color:  #f1f1f1;\n",
       "        }    #T_1001e89a_09b2_11ea_a1c1_acde48001122row3_col3 {\n",
       "            background-color:  #08306b;\n",
       "            color:  #f1f1f1;\n",
       "        }</style><table id=\"T_1001e89a_09b2_11ea_a1c1_acde48001122\" ><thead>    <tr>        <th class=\"blank\" ></th>        <th class=\"index_name level0\" >param_bootstrap</th>        <th class=\"col_heading level0 col0\" colspan=2>False</th>        <th class=\"col_heading level0 col2\" colspan=2>True</th>    </tr>    <tr>        <th class=\"blank\" ></th>        <th class=\"index_name level1\" >param_max_depth</th>        <th class=\"col_heading level1 col0\" >10</th>        <th class=\"col_heading level1 col1\" >50</th>        <th class=\"col_heading level1 col2\" >10</th>        <th class=\"col_heading level1 col3\" >50</th>    </tr>    <tr>        <th class=\"index_name level0\" >param_max_features</th>        <th class=\"index_name level1\" >param_n_estimators</th>        <th class=\"blank\" ></th>        <th class=\"blank\" ></th>        <th class=\"blank\" ></th>        <th class=\"blank\" ></th>    </tr></thead><tbody>\n",
       "                <tr>\n",
       "                        <th id=\"T_1001e89a_09b2_11ea_a1c1_acde48001122level0_row0\" class=\"row_heading level0 row0\" rowspan=2>2</th>\n",
       "                        <th id=\"T_1001e89a_09b2_11ea_a1c1_acde48001122level1_row0\" class=\"row_heading level1 row0\" >20</th>\n",
       "                        <td id=\"T_1001e89a_09b2_11ea_a1c1_acde48001122row0_col0\" class=\"data row0 col0\" >-2.40387e+10</td>\n",
       "                        <td id=\"T_1001e89a_09b2_11ea_a1c1_acde48001122row0_col1\" class=\"data row0 col1\" >-2.03703e+10</td>\n",
       "                        <td id=\"T_1001e89a_09b2_11ea_a1c1_acde48001122row0_col2\" class=\"data row0 col2\" >-2.58438e+10</td>\n",
       "                        <td id=\"T_1001e89a_09b2_11ea_a1c1_acde48001122row0_col3\" class=\"data row0 col3\" >-2.15188e+10</td>\n",
       "            </tr>\n",
       "            <tr>\n",
       "                                <th id=\"T_1001e89a_09b2_11ea_a1c1_acde48001122level1_row1\" class=\"row_heading level1 row1\" >40</th>\n",
       "                        <td id=\"T_1001e89a_09b2_11ea_a1c1_acde48001122row1_col0\" class=\"data row1 col0\" >-2.38269e+10</td>\n",
       "                        <td id=\"T_1001e89a_09b2_11ea_a1c1_acde48001122row1_col1\" class=\"data row1 col1\" >-1.94507e+10</td>\n",
       "                        <td id=\"T_1001e89a_09b2_11ea_a1c1_acde48001122row1_col2\" class=\"data row1 col2\" >-2.47794e+10</td>\n",
       "                        <td id=\"T_1001e89a_09b2_11ea_a1c1_acde48001122row1_col3\" class=\"data row1 col3\" >-2.05486e+10</td>\n",
       "            </tr>\n",
       "            <tr>\n",
       "                        <th id=\"T_1001e89a_09b2_11ea_a1c1_acde48001122level0_row2\" class=\"row_heading level0 row2\" rowspan=2>18</th>\n",
       "                        <th id=\"T_1001e89a_09b2_11ea_a1c1_acde48001122level1_row2\" class=\"row_heading level1 row2\" >20</th>\n",
       "                        <td id=\"T_1001e89a_09b2_11ea_a1c1_acde48001122row2_col0\" class=\"data row2 col0\" >-2.75995e+10</td>\n",
       "                        <td id=\"T_1001e89a_09b2_11ea_a1c1_acde48001122row2_col1\" class=\"data row2 col1\" >-2.98098e+10</td>\n",
       "                        <td id=\"T_1001e89a_09b2_11ea_a1c1_acde48001122row2_col2\" class=\"data row2 col2\" >-1.91907e+10</td>\n",
       "                        <td id=\"T_1001e89a_09b2_11ea_a1c1_acde48001122row2_col3\" class=\"data row2 col3\" >-1.78635e+10</td>\n",
       "            </tr>\n",
       "            <tr>\n",
       "                                <th id=\"T_1001e89a_09b2_11ea_a1c1_acde48001122level1_row3\" class=\"row_heading level1 row3\" >40</th>\n",
       "                        <td id=\"T_1001e89a_09b2_11ea_a1c1_acde48001122row3_col0\" class=\"data row3 col0\" >-2.75696e+10</td>\n",
       "                        <td id=\"T_1001e89a_09b2_11ea_a1c1_acde48001122row3_col1\" class=\"data row3 col1\" >-2.95399e+10</td>\n",
       "                        <td id=\"T_1001e89a_09b2_11ea_a1c1_acde48001122row3_col2\" class=\"data row3 col2\" >-1.8679e+10</td>\n",
       "                        <td id=\"T_1001e89a_09b2_11ea_a1c1_acde48001122row3_col3\" class=\"data row3 col3\" >-1.68717e+10</td>\n",
       "            </tr>\n",
       "    </tbody></table>"
      ],
      "text/plain": [
       "<pandas.io.formats.style.Styler at 0x11b907eb8>"
      ]
     },
     "execution_count": 23,
     "metadata": {},
     "output_type": "execute_result"
    }
   ],
   "source": [
    "df_gs_rf.pivot_table(\n",
    "    index=['param_max_features','param_n_estimators'],\n",
    "    columns=['param_bootstrap','param_max_depth'],\n",
    "    values='mean_test_score').round(2)\\\n",
    ".style.background_gradient('Blues',axis=None)"
   ]
  },
  {
   "cell_type": "code",
   "execution_count": 24,
   "metadata": {
    "ExecuteTime": {
     "end_time": "2019-11-18T03:22:30.695477Z",
     "start_time": "2019-11-18T03:22:30.688210Z"
    }
   },
   "outputs": [
    {
     "data": {
      "text/plain": [
       "{'bootstrap': True, 'max_depth': 50, 'max_features': 18, 'n_estimators': 40}"
      ]
     },
     "execution_count": 24,
     "metadata": {},
     "output_type": "execute_result"
    }
   ],
   "source": [
    "grid_search_forest.best_params_"
   ]
  },
  {
   "cell_type": "code",
   "execution_count": 25,
   "metadata": {
    "ExecuteTime": {
     "end_time": "2019-11-18T03:22:38.803455Z",
     "start_time": "2019-11-18T03:22:38.796284Z"
    }
   },
   "outputs": [
    {
     "data": {
      "text/plain": [
       "RandomForestRegressor(bootstrap=True, criterion='mse', max_depth=50,\n",
       "                      max_features=18, max_leaf_nodes=None,\n",
       "                      min_impurity_decrease=0.0, min_impurity_split=None,\n",
       "                      min_samples_leaf=1, min_samples_split=2,\n",
       "                      min_weight_fraction_leaf=0.0, n_estimators=40,\n",
       "                      n_jobs=None, oob_score=False, random_state=None,\n",
       "                      verbose=0, warm_start=False)"
      ]
     },
     "execution_count": 25,
     "metadata": {},
     "output_type": "execute_result"
    }
   ],
   "source": [
    "grid_search_forest.best_estimator_"
   ]
  },
  {
   "cell_type": "code",
   "execution_count": 26,
   "metadata": {
    "ExecuteTime": {
     "end_time": "2019-11-18T03:22:57.762660Z",
     "start_time": "2019-11-18T03:22:40.649483Z"
    }
   },
   "outputs": [
    {
     "data": {
      "text/html": [
       "<div>\n",
       "<style scoped>\n",
       "    .dataframe tbody tr th:only-of-type {\n",
       "        vertical-align: middle;\n",
       "    }\n",
       "\n",
       "    .dataframe tbody tr th {\n",
       "        vertical-align: top;\n",
       "    }\n",
       "\n",
       "    .dataframe thead th {\n",
       "        text-align: right;\n",
       "    }\n",
       "</style>\n",
       "<table border=\"1\" class=\"dataframe\">\n",
       "  <thead>\n",
       "    <tr style=\"text-align: right;\">\n",
       "      <th></th>\n",
       "      <th>Model</th>\n",
       "      <th>Details</th>\n",
       "      <th>Root Mean Squared Error (RMSE)</th>\n",
       "      <th>R-squared (training)</th>\n",
       "      <th>Adjusted R-squared (training)</th>\n",
       "      <th>R-squared (test)</th>\n",
       "      <th>Adjusted R-squared (test)</th>\n",
       "      <th>5-Fold Cross Validation</th>\n",
       "    </tr>\n",
       "  </thead>\n",
       "  <tbody>\n",
       "    <tr>\n",
       "      <th>0</th>\n",
       "      <td>Random Forest Regressor after grid search</td>\n",
       "      <td></td>\n",
       "      <td>125118.269</td>\n",
       "      <td>0.981</td>\n",
       "      <td>0.981</td>\n",
       "      <td>0.884</td>\n",
       "      <td>0.883</td>\n",
       "      <td>0.872</td>\n",
       "    </tr>\n",
       "  </tbody>\n",
       "</table>\n",
       "</div>"
      ],
      "text/plain": [
       "                                       Model Details  \\\n",
       "0  Random Forest Regressor after grid search           \n",
       "\n",
       "   Root Mean Squared Error (RMSE)  R-squared (training)  \\\n",
       "0                      125118.269                 0.981   \n",
       "\n",
       "   Adjusted R-squared (training)  R-squared (test)  Adjusted R-squared (test)  \\\n",
       "0                          0.981             0.884                      0.883   \n",
       "\n",
       "   5-Fold Cross Validation  \n",
       "0                    0.872  "
      ]
     },
     "execution_count": 26,
     "metadata": {},
     "output_type": "execute_result"
    }
   ],
   "source": [
    "model = RandomForestRegressor(n_estimators= 40,random_state=100, max_features=18,\n",
    "                             max_depth=50, bootstrap=True)\n",
    "\n",
    "rmse, r2_train, ar2_train, r2_test, ar2_test, cv = \\\n",
    "    multiple_linear_regression(df, features, target,model,\n",
    "                               verbose=0,test_size=0.2)\n",
    "\n",
    "\n",
    "df_eval.loc[len(df_eval)] = ['Random Forest Regressor after grid search',\n",
    "                             '', rmse,r2_train,ar2_train,\n",
    "                             r2_test,ar2_test,cv]\n",
    "\n",
    "\n",
    "df_eval.sort_values('Adjusted R-squared (test)')"
   ]
  },
  {
   "cell_type": "markdown",
   "metadata": {},
   "source": [
    "# Randomized search"
   ]
  },
  {
   "cell_type": "code",
   "execution_count": 11,
   "metadata": {
    "ExecuteTime": {
     "end_time": "2019-09-29T01:44:30.200322Z",
     "start_time": "2019-09-29T01:44:30.194151Z"
    }
   },
   "outputs": [
    {
     "name": "stdout",
     "output_type": "stream",
     "text": [
      "{'max_depth': [1, 23, 45],\n",
      " 'max_features': ['auto', 'sqrt'],\n",
      " 'min_samples_split': [5, 10],\n",
      " 'n_estimators': [20, 65, 110, 155, 200]}\n"
     ]
    }
   ],
   "source": [
    "from sklearn.model_selection import RandomizedSearchCV\n",
    "from pprint import pprint\n",
    "\n",
    "# Number of trees in  forest\n",
    "n_estimators = [int(x) for x in np.linspace(start = 20, stop = 200, num = 5)]\n",
    "\n",
    "# max features\n",
    "max_features = ['auto', 'sqrt']\n",
    "\n",
    "# max depth of leaves\n",
    "max_depth = [int(x) for x in np.linspace(1, 45, num = 3)]\n",
    "\n",
    "# min samples split\n",
    "min_samples_split = [5, 10]\n",
    "\n",
    "# random grid\n",
    "random_grid = {'n_estimators': n_estimators,\n",
    "               'max_features': max_features,\n",
    "               'max_depth': max_depth,\n",
    "               'min_samples_split': min_samples_split}\n",
    "\n",
    "pprint(random_grid)"
   ]
  },
  {
   "cell_type": "code",
   "execution_count": 12,
   "metadata": {
    "ExecuteTime": {
     "end_time": "2019-09-29T01:45:50.627998Z",
     "start_time": "2019-09-29T01:44:30.202038Z"
    }
   },
   "outputs": [
    {
     "name": "stdout",
     "output_type": "stream",
     "text": [
      "Fitting 5 folds for each of 10 candidates, totalling 50 fits\n"
     ]
    },
    {
     "name": "stderr",
     "output_type": "stream",
     "text": [
      "[Parallel(n_jobs=-1)]: Using backend LokyBackend with 4 concurrent workers.\n",
      "[Parallel(n_jobs=-1)]: Done  33 tasks      | elapsed:   31.7s\n",
      "[Parallel(n_jobs=-1)]: Done  50 out of  50 | elapsed:  1.1min finished\n"
     ]
    },
    {
     "data": {
      "text/plain": [
       "RandomizedSearchCV(cv=5, error_score='raise-deprecating',\n",
       "                   estimator=RandomForestRegressor(bootstrap=True,\n",
       "                                                   criterion='mse',\n",
       "                                                   max_depth=50,\n",
       "                                                   max_features=18,\n",
       "                                                   max_leaf_nodes=None,\n",
       "                                                   min_impurity_decrease=0.0,\n",
       "                                                   min_impurity_split=None,\n",
       "                                                   min_samples_leaf=1,\n",
       "                                                   min_samples_split=2,\n",
       "                                                   min_weight_fraction_leaf=0.0,\n",
       "                                                   n_estimators=40, n_jobs=None,\n",
       "                                                   oob_score=False,\n",
       "                                                   random_state=100, verbose=0,\n",
       "                                                   warm_start=False),\n",
       "                   iid='warn', n_iter=10, n_jobs=-1,\n",
       "                   param_distributions={'max_depth': [1, 23, 45],\n",
       "                                        'max_features': ['auto', 'sqrt'],\n",
       "                                        'min_samples_split': [5, 10],\n",
       "                                        'n_estimators': [20, 65, 110, 155,\n",
       "                                                         200]},\n",
       "                   pre_dispatch='2*n_jobs', random_state=100, refit=True,\n",
       "                   return_train_score=False, scoring='neg_mean_squared_error',\n",
       "                   verbose=2)"
      ]
     },
     "execution_count": 12,
     "metadata": {},
     "output_type": "execute_result"
    }
   ],
   "source": [
    "rf_random = RandomizedSearchCV(estimator = model,\n",
    "                               param_distributions = random_grid,\n",
    "                               n_iter = 10,\n",
    "                               cv = 5,\n",
    "                               verbose=2,\n",
    "                               random_state=100,\n",
    "                               n_jobs = -1,\n",
    "                               scoring='neg_mean_squared_error')\n",
    "# Fit the random search model\n",
    "rf_random.fit(Xtrain, ytrain)"
   ]
  },
  {
   "cell_type": "code",
   "execution_count": 13,
   "metadata": {
    "ExecuteTime": {
     "end_time": "2019-09-29T01:45:50.636485Z",
     "start_time": "2019-09-29T01:45:50.629882Z"
    }
   },
   "outputs": [
    {
     "data": {
      "text/plain": [
       "{'n_estimators': 155,\n",
       " 'min_samples_split': 10,\n",
       " 'max_features': 'auto',\n",
       " 'max_depth': 23}"
      ]
     },
     "execution_count": 13,
     "metadata": {},
     "output_type": "execute_result"
    }
   ],
   "source": [
    "rf_random.best_params_"
   ]
  },
  {
   "cell_type": "code",
   "execution_count": null,
   "metadata": {
    "ExecuteTime": {
     "start_time": "2019-09-29T01:42:31.374Z"
    }
   },
   "outputs": [],
   "source": [
    "model = RandomForestRegressor(n_estimators= 155,\n",
    "                              random_state=100,\n",
    "                              max_features='auto',\n",
    "                              max_depth=23,\n",
    "                              min_samples_split=10)\n",
    "\n",
    "rmse, r2_train, ar2_train, r2_test, ar2_test, cv = \\\n",
    "    multiple_linear_regression(df, features, target,model,\n",
    "                               verbose=0,test_size=0.2)\n",
    "\n",
    "\n",
    "df_eval.loc[len(df_eval)] = ['Random Forest Regressor after grid search',\n",
    "                             '', rmse,r2_train,ar2_train,\n",
    "                             r2_test,ar2_test,cv]\n",
    "\n",
    "\n",
    "df_eval.sort_values('Adjusted R-squared (test)')"
   ]
  },
  {
   "cell_type": "markdown",
   "metadata": {},
   "source": [
    "# Feature Importance"
   ]
  },
  {
   "cell_type": "code",
   "execution_count": null,
   "metadata": {
    "ExecuteTime": {
     "start_time": "2019-09-29T01:42:31.376Z"
    }
   },
   "outputs": [],
   "source": [
    "importances = rf_random.best_estimator_.feature_importances_\n",
    "importances"
   ]
  },
  {
   "cell_type": "code",
   "execution_count": null,
   "metadata": {
    "ExecuteTime": {
     "start_time": "2019-09-29T01:42:31.381Z"
    }
   },
   "outputs": [],
   "source": [
    "df_imp = pd.DataFrame({'feature': features,\n",
    "                      'importance': importances})\n",
    "\n",
    "df_imp.sort_values('importance', ascending=False)\\\n",
    "  .style.background_gradient(subset=['importance'])"
   ]
  },
  {
   "cell_type": "markdown",
   "metadata": {},
   "source": [
    "# Feature Importance using eli5"
   ]
  },
  {
   "cell_type": "code",
   "execution_count": null,
   "metadata": {
    "ExecuteTime": {
     "start_time": "2019-09-29T01:42:31.383Z"
    }
   },
   "outputs": [],
   "source": [
    "import eli5\n",
    "from eli5.sklearn import PermutationImportance\n",
    "from eli5 import show_prediction"
   ]
  },
  {
   "cell_type": "code",
   "execution_count": null,
   "metadata": {
    "ExecuteTime": {
     "start_time": "2019-09-29T01:42:31.386Z"
    }
   },
   "outputs": [],
   "source": [
    "perm = PermutationImportance(model, random_state=1).fit(Xtest, ytest)\n",
    "\n",
    "eli5.show_weights(perm, feature_names = features.values.tolist())"
   ]
  },
  {
   "cell_type": "code",
   "execution_count": null,
   "metadata": {
    "ExecuteTime": {
     "start_time": "2019-09-29T01:42:31.389Z"
    }
   },
   "outputs": [],
   "source": [
    "eli5.explain_weights_df(perm, feature_names=features.values.tolist())\\\n",
    "  .style.background_gradient(subset=['weight'])"
   ]
  },
  {
   "cell_type": "code",
   "execution_count": null,
   "metadata": {
    "ExecuteTime": {
     "start_time": "2019-09-29T01:42:31.392Z"
    }
   },
   "outputs": [],
   "source": [
    "test.head()"
   ]
  },
  {
   "cell_type": "code",
   "execution_count": null,
   "metadata": {
    "ExecuteTime": {
     "start_time": "2019-09-29T01:42:31.397Z"
    }
   },
   "outputs": [],
   "source": [
    "eli5.show_prediction(model, test.iloc[0,1:],show_feature_values=True)"
   ]
  },
  {
   "cell_type": "code",
   "execution_count": null,
   "metadata": {},
   "outputs": [],
   "source": []
  }
 ],
 "metadata": {
  "kernelspec": {
   "display_name": "Python (dataSc)",
   "language": "python",
   "name": "datasc"
  },
  "language_info": {
   "codemirror_mode": {
    "name": "ipython",
    "version": 3
   },
   "file_extension": ".py",
   "mimetype": "text/x-python",
   "name": "python",
   "nbconvert_exporter": "python",
   "pygments_lexer": "ipython3",
   "version": "3.7.3"
  },
  "toc": {
   "base_numbering": 1,
   "nav_menu": {},
   "number_sections": true,
   "sideBar": true,
   "skip_h1_title": false,
   "title_cell": "Table of Contents",
   "title_sidebar": "Contents",
   "toc_cell": true,
   "toc_position": {},
   "toc_section_display": true,
   "toc_window_display": true
  }
 },
 "nbformat": 4,
 "nbformat_minor": 2
}
