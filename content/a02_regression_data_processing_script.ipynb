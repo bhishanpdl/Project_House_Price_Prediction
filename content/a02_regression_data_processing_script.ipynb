{
 "cells": [
  {
   "cell_type": "markdown",
   "metadata": {
    "toc": "true"
   },
   "source": [
    "<h1>Table of Contents<span class=\"tocSkip\"></span></h1>\n",
    "<div class=\"toc\"><ul class=\"toc-item\"></ul></div>"
   ]
  },
  {
   "cell_type": "code",
   "execution_count": 4,
   "metadata": {
    "ExecuteTime": {
     "end_time": "2019-09-29T00:03:28.208354Z",
     "start_time": "2019-09-29T00:03:28.201460Z"
    }
   },
   "outputs": [
    {
     "name": "stdout",
     "output_type": "stream",
     "text": [
      "Writing ../src/data/data_cleaning.py\n"
     ]
    }
   ],
   "source": [
    "%%writefile ../src/data/data_cleaning.py\n",
    "#!/usr/bin/env python\n",
    "\n",
    "__doc__ = \"\"\"\n",
    "Author: Bhishan Poudel\n",
    "\n",
    "Task: Clean the data of King County House price and create new features\n",
    "\n",
    "- input: ../data/raw/kc_house_data.csv\n",
    "- output: ../data/processed/data_cleaned_encoded.csv\n",
    "\n",
    "- Created date features age and age_after_renovation.\n",
    "- Created dummies for all categorical features\n",
    "- Created log tranform features for features with large values\n",
    "- Created new features like zipcode_houses (number of houses in that zipcode)\n",
    "\"\"\"\n",
    "\n",
    "# Imports\n",
    "import numpy as np\n",
    "import pandas as pd\n",
    "\n",
    "# random state\n",
    "random_state=100\n",
    "np.random.seed(random_state) # we need this in each cell\n",
    "np.random.set_state=random_state\n",
    "\n",
    "\n",
    "# Load the data\n",
    "df = pd.read_csv('../data/raw/kc_house_data.csv')\n",
    "\n",
    "\n",
    "# Date time features\n",
    "df['date'] = pd.to_datetime(df['date'])\n",
    "df['yr_sales'] = df['date'].dt.year\n",
    "df['age'] = df['yr_sales'] - df['yr_built']\n",
    "df[['yr_sales','yr_built','age']].head(2)\n",
    "df['yr_renovated2'] = np.where(df['yr_renovated'].eq(0), df['yr_built'], df['yr_renovated'])\n",
    "df['age_after_renovation'] = df['yr_sales'] - df['yr_renovated2']\n",
    "\n",
    "\n",
    "# Categorical Features\n",
    "cols_str = ['waterfront', 'view', 'condition', 'grade','zipcode']\n",
    "for c in cols_str:\n",
    "    df[c] = df[c].astype(str)\n",
    "\n",
    "cols_obj = df.select_dtypes(['object','category']).columns\n",
    "cols_obj_small = ['waterfront', 'view', 'condition', 'grade']\n",
    "# zipcode is related to house price, we may not want to drop it.\n",
    "# there are 70 unique zipcode values, it will create too many dummies.\n",
    "# one choice is taking top 5 or top 10 zipcodes \n",
    "# we can choose top 10 zipcodes with largest house price.\n",
    "# (or may be largest number of houses in that zipcode.)\n",
    "most_expensive9_zipcodes = (df[['zipcode','price']]\n",
    "                           .sort_values(['price','zipcode'])\n",
    "                           .drop_duplicates('zipcode',keep='last')\n",
    "                           .tail(9)\n",
    "                           .zipcode\n",
    "                           .values\n",
    "                          )\n",
    "\n",
    "# keep same zipcode for top 9 expensive and make all others as others\n",
    "df['zipcode_top10'] = df['zipcode']\n",
    "df.loc[~df['zipcode_top10'].isin(most_expensive9_zipcodes), 'zipcode_top10'] = 'others'\n",
    "\n",
    "# we can also create new feature number of houses in that zipcode\n",
    "df['zipcode_houses'] = df.groupby(['zipcode'])['price'].transform('count')\n",
    "\n",
    "\n",
    "# Boolean data types\n",
    "df['basement_bool'] = df['sqft_basement'].apply(lambda x: 1 if x>0 else 0)\n",
    "df['renovation_bool'] = df['yr_renovated'].apply(lambda x: 1 if x>0 else 0)\n",
    "\n",
    "\n",
    "# Numerical features binning\n",
    "cols_bin = ['age','age_after_renovation']\n",
    "df['age_cat'] = pd.cut(df['age'], 10, labels=range(10)).astype(str)\n",
    "df['age_after_renovation_cat'] = pd.cut(df['age_after_renovation'], 10, labels=range(10))\n",
    "\n",
    "# Create dummy variables from object and categories\n",
    "cols_obj_cat = df.select_dtypes(include=[np.object, 'category']).columns\n",
    "cols_dummy = ['waterfront', 'view', 'condition', 'grade',\n",
    "              'zipcode_top10','age_cat', 'age_after_renovation_cat']\n",
    "\n",
    "df_dummy = pd.get_dummies(df[cols_dummy],drop_first=False)\n",
    "df_encoded = pd.concat([df,df_dummy], axis=1)\n",
    "\n",
    "\n",
    "# Log transformation of large numerical values\n",
    "cols_log = ['price', 'sqft_living', 'sqft_lot', 'sqft_above',\n",
    "            'sqft_basement', 'sqft_living15', 'sqft_lot15']\n",
    "\n",
    "for col in cols_log:\n",
    "    df_encoded['log1p_' + col] = np.log1p(df[col])\n",
    "\n",
    "\n",
    "# Drop unwanted columns\n",
    "df.drop('id',inplace=True,axis=1)\n",
    "\n",
    "# Save clean data\n",
    "df_encoded.to_csv('../data/processed/data_cleaned_encoded.csv',\n",
    "                  index=False,header=True)"
   ]
  },
  {
   "cell_type": "code",
   "execution_count": null,
   "metadata": {},
   "outputs": [],
   "source": []
  }
 ],
 "metadata": {
  "kernelspec": {
   "display_name": "Python (dataSc)",
   "language": "python",
   "name": "datasc"
  },
  "language_info": {
   "codemirror_mode": {
    "name": "ipython",
    "version": 3
   },
   "file_extension": ".py",
   "mimetype": "text/x-python",
   "name": "python",
   "nbconvert_exporter": "python",
   "pygments_lexer": "ipython3",
   "version": "3.7.3"
  },
  "toc": {
   "base_numbering": 1,
   "nav_menu": {},
   "number_sections": true,
   "sideBar": true,
   "skip_h1_title": false,
   "title_cell": "Table of Contents",
   "title_sidebar": "Contents",
   "toc_cell": true,
   "toc_position": {},
   "toc_section_display": true,
   "toc_window_display": true
  }
 },
 "nbformat": 4,
 "nbformat_minor": 2
}
